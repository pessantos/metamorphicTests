{
 "cells": [
  {
   "cell_type": "markdown",
   "metadata": {},
   "source": [
    "# 📦 Import Libraries"
   ]
  },
  {
   "cell_type": "code",
   "execution_count": null,
   "metadata": {},
   "outputs": [],
   "source": [
    "import os\n",
    "import time\n",
    "\n",
    "import numpy  as np\n",
    "import pandas as pd"
   ]
  },
  {
   "cell_type": "code",
   "execution_count": null,
   "metadata": {},
   "outputs": [],
   "source": [
    "import folium\n",
    "\n",
    "import matplotlib        as mpl\n",
    "import matplotlib.pyplot as plt\n",
    "import seaborn           as sns\n",
    "\n",
    "from matplotlib.colors import LinearSegmentedColormap"
   ]
  },
  {
   "cell_type": "code",
   "execution_count": null,
   "metadata": {},
   "outputs": [],
   "source": [
    "from datetime import datetime, date\n",
    "from datetime import timedelta\n",
    "\n",
    "\n",
    "from utils.data_acquisition import *\n",
    "from utils.data_preprocessing import *\n",
    "from utils.data_visualize import *\n",
    "from utils.teda import TEDADetect\n",
    "\n",
    "teda_detect = TEDADetect()"
   ]
  },
  {
   "cell_type": "code",
   "execution_count": null,
   "metadata": {},
   "outputs": [],
   "source": [
    "plot_size = (18, 10)\n",
    "\n",
    "graph_colors = {\n",
    "  \"black\": \"#1F1E1F\",\n",
    "  \"blue\": \"#03A9CE\",\n",
    "  \"white\": \"#F7F7F7\",\n",
    "}\n",
    "\n",
    "text_colors = {\n",
    "  \"title\": \"#262626\",\n",
    "  \"subtitle\": \"#646464\",\n",
    "}\n",
    "\n",
    "fig_path = \"./figures/\"\n",
    "\n",
    "if not os.path.exists(fig_path):\n",
    "    os.makedirs(fig_path)"
   ]
  },
  {
   "cell_type": "markdown",
   "metadata": {},
   "source": [
    "# 💾 Data Acquisition"
   ]
  },
  {
   "cell_type": "code",
   "execution_count": null,
   "metadata": {},
   "outputs": [],
   "source": [
    "DATA_PATH = \"./data/\"\n",
    "\n",
    "GASOLINE_DATA_PATH = DATA_PATH + \"[Gasolina] Trajeto Casa-Escola-UFRN/\"\n",
    "ETHANOL_DATA_PATH = DATA_PATH + \"[Etanol] Trajeto Casa-Escola-UFRN/\"\n",
    "\n",
    "GASOLINE_DATA_PATHS = get_list_paths(GASOLINE_DATA_PATH)\n",
    "ETHANOL_DATA_PATHS = get_list_paths(ETHANOL_DATA_PATH)"
   ]
  },
  {
   "cell_type": "markdown",
   "metadata": {},
   "source": [
    "In order to perform a proper comparison, it is necessary to select data from a week of activity for each type of fuel, ensuring that the data is somewhat similar. This means choosing records with the same day of the week and a similar number of rows, which is directly related to the duration of the trip."
   ]
  },
  {
   "cell_type": "code",
   "execution_count": null,
   "metadata": {},
   "outputs": [],
   "source": [
    "data_info_gasoline = get_data_info(GASOLINE_DATA_PATH)\n",
    "data_info_ethanol  = get_data_info(ETHANOL_DATA_PATH)"
   ]
  },
  {
   "cell_type": "code",
   "execution_count": null,
   "metadata": {},
   "outputs": [],
   "source": [
    "gasoline_paths = {}\n",
    "ethanol_paths  = {}"
   ]
  },
  {
   "cell_type": "markdown",
   "metadata": {},
   "source": [
    "And another criterion is the amount of data. To have a sufficient quantity for analysis, we have chosen a minimum of 2000 rows."
   ]
  },
  {
   "cell_type": "markdown",
   "metadata": {},
   "source": [
    "### Monday"
   ]
  },
  {
   "cell_type": "code",
   "execution_count": null,
   "metadata": {},
   "outputs": [],
   "source": [
    "monday_gasoline = data_info_gasoline.query(\"WEEK_DAY == 'SEG' & ROWS >= 2000\").sort_values(by=\"ROWS\", ascending=False)\n",
    "\n",
    "monday_gasoline"
   ]
  },
  {
   "cell_type": "code",
   "execution_count": null,
   "metadata": {},
   "outputs": [],
   "source": [
    "monday_ethanol = data_info_ethanol.query(\"WEEK_DAY == 'SEG' & ROWS >= 2000\").sort_values(by=\"ROWS\", ascending=False)\n",
    "\n",
    "monday_ethanol"
   ]
  },
  {
   "cell_type": "code",
   "execution_count": null,
   "metadata": {},
   "outputs": [],
   "source": [
    "select_by_similarity(monday_gasoline[\"ROWS\"].values, monday_ethanol[\"ROWS\"].values)"
   ]
  },
  {
   "cell_type": "markdown",
   "metadata": {},
   "source": [
    "By similarity, we choose indexes:\n",
    "- Gasoline: 34\n",
    "- Ethanol:  7\n",
    "\n",
    "The difference is 27 rows"
   ]
  },
  {
   "cell_type": "code",
   "execution_count": null,
   "metadata": {},
   "outputs": [],
   "source": [
    "gasoline_paths[\"MON\"] = monday_gasoline.loc[34, \"PATH\"]\n",
    "ethanol_paths[\"MON\"]  = monday_ethanol.loc[7, \"PATH\"]"
   ]
  },
  {
   "cell_type": "markdown",
   "metadata": {},
   "source": [
    "### Tuesday"
   ]
  },
  {
   "cell_type": "code",
   "execution_count": null,
   "metadata": {},
   "outputs": [],
   "source": [
    "tuesday_gasoline = data_info_gasoline.query(\"WEEK_DAY == 'TER' & ROWS >= 2000\").sort_values(by=\"ROWS\", ascending=False)\n",
    "\n",
    "tuesday_gasoline"
   ]
  },
  {
   "cell_type": "code",
   "execution_count": null,
   "metadata": {},
   "outputs": [],
   "source": [
    "tuesday_ethanol = data_info_ethanol.query(\"WEEK_DAY == 'TER' & ROWS >= 2000\").sort_values(by=\"ROWS\", ascending=False)\n",
    "\n",
    "tuesday_ethanol"
   ]
  },
  {
   "cell_type": "code",
   "execution_count": null,
   "metadata": {},
   "outputs": [],
   "source": [
    "select_by_similarity(tuesday_gasoline[\"ROWS\"].values, tuesday_ethanol[\"ROWS\"].values)"
   ]
  },
  {
   "cell_type": "markdown",
   "metadata": {},
   "source": [
    "By similarity, we choose indexes:\n",
    "- Gasoline: 13\n",
    "- Ethanol:  18\n",
    "\n",
    "The difference is 29 rows"
   ]
  },
  {
   "cell_type": "code",
   "execution_count": null,
   "metadata": {},
   "outputs": [],
   "source": [
    "gasoline_paths[\"TUE\"] = tuesday_gasoline.loc[13, \"PATH\"]\n",
    "ethanol_paths[\"TUE\"]  = tuesday_ethanol.loc[18, \"PATH\"]"
   ]
  },
  {
   "cell_type": "markdown",
   "metadata": {},
   "source": [
    "### Wednesday"
   ]
  },
  {
   "cell_type": "code",
   "execution_count": null,
   "metadata": {},
   "outputs": [],
   "source": [
    "wednesday_gasoline = data_info_gasoline.query(\"WEEK_DAY == 'QUA' & ROWS >= 2000\").sort_values(by=\"ROWS\", ascending=False)\n",
    "\n",
    "wednesday_gasoline"
   ]
  },
  {
   "cell_type": "code",
   "execution_count": null,
   "metadata": {},
   "outputs": [],
   "source": [
    "wednesday_ethanol = data_info_ethanol.query(\"WEEK_DAY == 'QUA' & ROWS >= 2000\").sort_values(by=\"ROWS\", ascending=False)\n",
    "\n",
    "wednesday_ethanol"
   ]
  },
  {
   "cell_type": "code",
   "execution_count": null,
   "metadata": {},
   "outputs": [],
   "source": [
    "select_by_similarity(wednesday_gasoline[\"ROWS\"].values, wednesday_ethanol[\"ROWS\"].values)"
   ]
  },
  {
   "cell_type": "markdown",
   "metadata": {},
   "source": [
    "By similarity, we choose indexes:\n",
    "- Gasoline: 10\n",
    "- Ethanol:  2\n",
    "\n",
    "The difference is 7 rows"
   ]
  },
  {
   "cell_type": "code",
   "execution_count": null,
   "metadata": {},
   "outputs": [],
   "source": [
    "gasoline_paths[\"WED\"] = wednesday_gasoline.loc[10, \"PATH\"]\n",
    "ethanol_paths[\"WED\"]  = wednesday_ethanol.loc[2, \"PATH\"]"
   ]
  },
  {
   "cell_type": "markdown",
   "metadata": {},
   "source": [
    "### Thursday"
   ]
  },
  {
   "cell_type": "code",
   "execution_count": null,
   "metadata": {},
   "outputs": [],
   "source": [
    "thursday_gasoline = data_info_gasoline.query(\"WEEK_DAY == 'QUI' & ROWS >= 2000\").sort_values(by=\"ROWS\", ascending=False)\n",
    "\n",
    "thursday_gasoline"
   ]
  },
  {
   "cell_type": "code",
   "execution_count": null,
   "metadata": {},
   "outputs": [],
   "source": [
    "thursday_ethanol = data_info_ethanol.query(\"WEEK_DAY == 'QUI' & ROWS >= 2000\").sort_values(by=\"ROWS\", ascending=False)\n",
    "\n",
    "thursday_ethanol"
   ]
  },
  {
   "cell_type": "code",
   "execution_count": null,
   "metadata": {},
   "outputs": [],
   "source": [
    "select_by_similarity(thursday_gasoline[\"ROWS\"].values, thursday_ethanol[\"ROWS\"].values)"
   ]
  },
  {
   "cell_type": "markdown",
   "metadata": {},
   "source": [
    "By similarity, we choose indexes:\n",
    "- Gasoline: 3\n",
    "- Ethanol:  3\n",
    "\n",
    "The difference is 29 rows"
   ]
  },
  {
   "cell_type": "code",
   "execution_count": null,
   "metadata": {},
   "outputs": [],
   "source": [
    "gasoline_paths[\"THU\"] = thursday_gasoline.loc[3, \"PATH\"]\n",
    "ethanol_paths[\"THU\"]  = thursday_ethanol.loc[3, \"PATH\"]"
   ]
  },
  {
   "cell_type": "markdown",
   "metadata": {},
   "source": [
    "### Friday"
   ]
  },
  {
   "cell_type": "code",
   "execution_count": null,
   "metadata": {},
   "outputs": [],
   "source": [
    "friday_gasoline = data_info_gasoline.query(\"WEEK_DAY == 'SEX' & ROWS >= 2000\").sort_values(by=\"ROWS\", ascending=False)\n",
    "\n",
    "friday_gasoline"
   ]
  },
  {
   "cell_type": "code",
   "execution_count": null,
   "metadata": {},
   "outputs": [],
   "source": [
    "friday_ethanol = data_info_ethanol.query(\"WEEK_DAY == 'SEX' & ROWS >= 2000\").sort_values(by=\"ROWS\", ascending=False)\n",
    "\n",
    "friday_ethanol"
   ]
  },
  {
   "cell_type": "code",
   "execution_count": null,
   "metadata": {},
   "outputs": [],
   "source": [
    "select_by_similarity(friday_gasoline[\"ROWS\"].values, friday_ethanol[\"ROWS\"].values)"
   ]
  },
  {
   "cell_type": "markdown",
   "metadata": {},
   "source": [
    "By similarity, we choose indexes:\n",
    "- Gasoline: 27\n",
    "- Ethanol:  6\n",
    "\n",
    "The difference is 3 rows"
   ]
  },
  {
   "cell_type": "code",
   "execution_count": null,
   "metadata": {},
   "outputs": [],
   "source": [
    "gasoline_paths[\"FRI\"] = friday_gasoline.loc[27, \"PATH\"]\n",
    "ethanol_paths[\"FRI\"]  = friday_ethanol.loc[6, \"PATH\"]"
   ]
  },
  {
   "cell_type": "markdown",
   "metadata": {},
   "source": [
    "### Selected Data"
   ]
  },
  {
   "cell_type": "markdown",
   "metadata": {},
   "source": [
    "| Fuel     | Week Day  | Date        |\n",
    "|:--------:|:---------:|:-----------:|\n",
    "| Gasoline | Monday    | 2022-Oct-31 |\n",
    "| Ethanol  | Monday    | 2023-Feb-27 |\n",
    "| Gasoline | Tuesday   | 2022-Nov-22 |\n",
    "| Ethanol  | Tuesday   | 2023-Mar-14 |\n",
    "| Gasoline | Wednesday | 2022-Nov-16 |\n",
    "| Ethanol  | Wednesday | 2023-Feb-15 |\n",
    "| Gasoline | Thursday  | 2022-Nov-03 |\n",
    "| Ethanol  | Thursday  | 2023-Feb-16 |\n",
    "| Gasoline | Friday    | 2022-Oct-31 |\n",
    "| Ethanol  | Friday    | 2023-Feb-24 |"
   ]
  },
  {
   "cell_type": "markdown",
   "metadata": {},
   "source": [
    "#### Gasoline"
   ]
  },
  {
   "cell_type": "code",
   "execution_count": null,
   "metadata": {},
   "outputs": [],
   "source": [
    "gasoline_paths"
   ]
  },
  {
   "cell_type": "code",
   "execution_count": null,
   "metadata": {},
   "outputs": [],
   "source": [
    "monday_gasoline    = pd.read_csv(gasoline_paths[\"MON\"])\n",
    "tuesday_gasoline   = pd.read_csv(gasoline_paths[\"TUE\"])\n",
    "wednesday_gasoline = pd.read_csv(gasoline_paths[\"WED\"])\n",
    "thursday_gasoline  = pd.read_csv(gasoline_paths[\"THU\"])\n",
    "friday_gasoline    = pd.read_csv(gasoline_paths[\"FRI\"])"
   ]
  },
  {
   "cell_type": "markdown",
   "metadata": {},
   "source": [
    "#### Ethanol"
   ]
  },
  {
   "cell_type": "code",
   "execution_count": null,
   "metadata": {},
   "outputs": [],
   "source": [
    "ethanol_paths"
   ]
  },
  {
   "cell_type": "code",
   "execution_count": null,
   "metadata": {},
   "outputs": [],
   "source": [
    "monday_ethanol    = pd.read_csv(ethanol_paths[\"MON\"])\n",
    "tuesday_ethanol   = pd.read_csv(ethanol_paths[\"TUE\"])\n",
    "wednesday_ethanol = pd.read_csv(ethanol_paths[\"WED\"])\n",
    "thursday_ethanol  = pd.read_csv(ethanol_paths[\"THU\"])\n",
    "friday_ethanol    = pd.read_csv(ethanol_paths[\"FRI\"])"
   ]
  },
  {
   "cell_type": "markdown",
   "metadata": {},
   "source": [
    "# 🧩 Data Modelling"
   ]
  },
  {
   "cell_type": "code",
   "execution_count": null,
   "metadata": {},
   "outputs": [],
   "source": [
    "SELECTED_COLUMNS = [\n",
    "  \"DeviceTime\",\n",
    "  \"Latitude\",\n",
    "  \"Longitude\",\n",
    "  \"Speed(OBD)(km/h)\",\n",
    "  \"AirFuelRatio(Commanded)(:1)\",\n",
    "  \"MassAirFlowRate(g/s)\"\n",
    "]"
   ]
  },
  {
   "cell_type": "markdown",
   "metadata": {},
   "source": [
    "## Gasoline"
   ]
  },
  {
   "cell_type": "markdown",
   "metadata": {},
   "source": [
    "To compare on the same amount of data, we reduce the data to 2000"
   ]
  },
  {
   "cell_type": "code",
   "execution_count": null,
   "metadata": {},
   "outputs": [],
   "source": [
    "monday_gasoline    = monday_gasoline.iloc[:2000, :]\n",
    "tuesday_gasoline   = tuesday_gasoline.iloc[:2000, :]\n",
    "wednesday_gasoline = wednesday_gasoline.iloc[:2000, :]\n",
    "thursday_gasoline  = thursday_gasoline.iloc[:2000, :]\n",
    "friday_gasoline    = friday_gasoline.iloc[:2000, :]"
   ]
  },
  {
   "cell_type": "code",
   "execution_count": null,
   "metadata": {},
   "outputs": [],
   "source": [
    "monday_gasoline = remove_space_in_columns(monday_gasoline)\n",
    "monday_gasoline = filter_columns(monday_gasoline, SELECTED_COLUMNS)\n",
    "monday_gasoline[\"CO2(g/s)\"] = compute_co2(\n",
    "    monday_gasoline[\"AirFuelRatio(Commanded)(:1)\"].values,\n",
    "    monday_gasoline[\"MassAirFlowRate(g/s)\"].values,\n",
    "    \"gasoline\"\n",
    ")\n",
    "\n",
    "tuesday_gasoline = remove_space_in_columns(tuesday_gasoline)\n",
    "tuesday_gasoline = filter_columns(tuesday_gasoline, SELECTED_COLUMNS)\n",
    "tuesday_gasoline[\"CO2(g/s)\"] = compute_co2(\n",
    "    tuesday_gasoline[\"AirFuelRatio(Commanded)(:1)\"].values,\n",
    "    tuesday_gasoline[\"MassAirFlowRate(g/s)\"].values,\n",
    "    \"gasoline\"\n",
    ")\n",
    "\n",
    "wednesday_gasoline = remove_space_in_columns(wednesday_gasoline)\n",
    "wednesday_gasoline = filter_columns(wednesday_gasoline, SELECTED_COLUMNS)\n",
    "wednesday_gasoline[\"CO2(g/s)\"] = compute_co2(\n",
    "    wednesday_gasoline[\"AirFuelRatio(Commanded)(:1)\"].values,\n",
    "    wednesday_gasoline[\"MassAirFlowRate(g/s)\"].values,\n",
    "    \"gasoline\"\n",
    ")\n",
    "\n",
    "thursday_gasoline = remove_space_in_columns(thursday_gasoline)\n",
    "thursday_gasoline = filter_columns(thursday_gasoline, SELECTED_COLUMNS)\n",
    "thursday_gasoline[\"CO2(g/s)\"] = compute_co2(\n",
    "    thursday_gasoline[\"AirFuelRatio(Commanded)(:1)\"].values,\n",
    "    thursday_gasoline[\"MassAirFlowRate(g/s)\"].values,\n",
    "    \"gasoline\"\n",
    ")\n",
    "\n",
    "friday_gasoline = remove_space_in_columns(friday_gasoline)\n",
    "friday_gasoline = filter_columns(friday_gasoline, SELECTED_COLUMNS)\n",
    "friday_gasoline[\"CO2(g/s)\"] = compute_co2(\n",
    "    friday_gasoline[\"AirFuelRatio(Commanded)(:1)\"].values,\n",
    "    friday_gasoline[\"MassAirFlowRate(g/s)\"].values,\n",
    "    \"gasoline\"\n",
    ")"
   ]
  },
  {
   "cell_type": "markdown",
   "metadata": {},
   "source": [
    "## Ethanol"
   ]
  },
  {
   "cell_type": "markdown",
   "metadata": {},
   "source": [
    "To compare on the same amount of data, we reduce the data to 2000"
   ]
  },
  {
   "cell_type": "code",
   "execution_count": null,
   "metadata": {},
   "outputs": [],
   "source": [
    "monday_ethanol    = monday_ethanol.iloc[:2000, :]\n",
    "tuesday_ethanol   = tuesday_ethanol.iloc[:2000, :]\n",
    "wednesday_ethanol = wednesday_ethanol.iloc[:2000, :]\n",
    "thursday_ethanol  = thursday_ethanol.iloc[:2000, :]\n",
    "friday_ethanol    = friday_ethanol.iloc[:2000, :]"
   ]
  },
  {
   "cell_type": "code",
   "execution_count": null,
   "metadata": {},
   "outputs": [],
   "source": [
    "monday_ethanol = remove_space_in_columns(monday_ethanol)\n",
    "monday_ethanol = filter_columns(monday_ethanol, SELECTED_COLUMNS)\n",
    "monday_ethanol[\"CO2(g/s)\"] = compute_co2(\n",
    "    monday_ethanol[\"AirFuelRatio(Commanded)(:1)\"].values,\n",
    "    monday_ethanol[\"MassAirFlowRate(g/s)\"].values,\n",
    "    \"ethanol\"\n",
    ")\n",
    "\n",
    "tuesday_ethanol = remove_space_in_columns(tuesday_ethanol)\n",
    "tuesday_ethanol = filter_columns(tuesday_ethanol, SELECTED_COLUMNS)\n",
    "tuesday_ethanol[\"CO2(g/s)\"] = compute_co2(\n",
    "    tuesday_ethanol[\"AirFuelRatio(Commanded)(:1)\"].values,\n",
    "    tuesday_ethanol[\"MassAirFlowRate(g/s)\"].values,\n",
    "    \"ethanol\"\n",
    ")\n",
    "\n",
    "wednesday_ethanol = remove_space_in_columns(wednesday_ethanol)\n",
    "wednesday_ethanol = filter_columns(wednesday_ethanol, SELECTED_COLUMNS)\n",
    "wednesday_ethanol[\"CO2(g/s)\"] = compute_co2(\n",
    "    wednesday_ethanol[\"AirFuelRatio(Commanded)(:1)\"].values,\n",
    "    wednesday_ethanol[\"MassAirFlowRate(g/s)\"].values,\n",
    "    \"ethanol\"\n",
    ")\n",
    "\n",
    "thursday_ethanol = remove_space_in_columns(thursday_ethanol)\n",
    "thursday_ethanol = filter_columns(thursday_ethanol, SELECTED_COLUMNS)\n",
    "thursday_ethanol[\"CO2(g/s)\"] = compute_co2(\n",
    "    thursday_ethanol[\"AirFuelRatio(Commanded)(:1)\"].values,\n",
    "    thursday_ethanol[\"MassAirFlowRate(g/s)\"].values,\n",
    "    \"ethanol\"\n",
    ")\n",
    "\n",
    "friday_ethanol = remove_space_in_columns(friday_ethanol)\n",
    "friday_ethanol = filter_columns(friday_ethanol, SELECTED_COLUMNS)\n",
    "friday_ethanol[\"CO2(g/s)\"] = compute_co2(\n",
    "    friday_ethanol[\"AirFuelRatio(Commanded)(:1)\"].values,\n",
    "    friday_ethanol[\"MassAirFlowRate(g/s)\"].values,\n",
    "    \"ethanol\"\n",
    ")"
   ]
  },
  {
   "cell_type": "markdown",
   "metadata": {},
   "source": [
    "# Data Analysis"
   ]
  },
  {
   "cell_type": "markdown",
   "metadata": {},
   "source": [
    "## TEDA Behavior"
   ]
  },
  {
   "cell_type": "code",
   "execution_count": null,
   "metadata": {},
   "outputs": [],
   "source": [
    "monday_gasoline_TEDA = monday_gasoline[[\"Speed(OBD)(km/h)\", \"CO2(g/s)\"]]\n",
    "monday_ethanol_TEDA  = monday_ethanol[[\"Speed(OBD)(km/h)\", \"CO2(g/s)\"]]\n",
    "\n",
    "teda_results = pd.DataFrame()\n",
    "\n",
    "for m in np.linspace(1, 4, 7):\n",
    "  teda_detect.run_offline(monday_gasoline_TEDA, \"CO2(g/s)\", m)\n",
    "  teda_detect.run_offline(monday_ethanol_TEDA,  \"CO2(g/s)\", m)\n",
    "\n",
    "  gasoline_outliers_detected = (monday_gasoline_TEDA[\"is_outlier\"] == 1).sum()\n",
    "  ethanol_outliers_detected  = (monday_ethanol_TEDA[\"is_outlier\"] == 1).sum()\n",
    "\n",
    "  monday_gasoline_TEDA.drop(columns=[\"is_outlier\"], inplace=True)\n",
    "  monday_ethanol_TEDA.drop(columns=[\"is_outlier\"], inplace=True)\n",
    "\n",
    "  teda_results.loc[\"Gasoline\", f\"{m}\"] = gasoline_outliers_detected\n",
    "  teda_results.loc[\"Ethanol\", f\"{m}\"]  = ethanol_outliers_detected"
   ]
  },
  {
   "cell_type": "code",
   "execution_count": null,
   "metadata": {},
   "outputs": [],
   "source": [
    "m_intervals = teda_results.columns.values\n",
    "gasoline_m  = teda_results.loc[\"Gasoline\", :].values\n",
    "ethanol_m   = teda_results.loc[\"Ethanol\", :].values\n",
    "\n",
    "bar_width = 0.3\n",
    "\n",
    "group_position = np.arange(len(m_intervals))\n",
    "\n",
    "fig, ax = plt.subplots(figsize=plot_size)\n",
    "\n",
    "plt.xticks(fontsize=18)\n",
    "plt.yticks(fontsize=18)\n",
    "\n",
    "ax.spines[\"right\"].set_visible(False)\n",
    "ax.spines[\"top\"].set_visible(False)\n",
    "\n",
    "ax.bar(group_position - bar_width/2, gasoline_m, bar_width, color=graph_colors[\"black\"], label=\"Gasoline\")\n",
    "ax.bar(group_position + bar_width/2, ethanol_m, bar_width, color=graph_colors[\"blue\"], label=\"Ethanol\")\n",
    "\n",
    "# plt.text(-0.25, 480, \"TEDA parameter m\", fontsize=26, color=text_colors[\"title\"], weight=\"bold\")\n",
    "# plt.text(-0.25, 460, \"Comparasion of the parameter m in the detection of outliers\", fontsize=26, color=text_colors[\"subtitle\"])\n",
    "\n",
    "ax.set_ylabel(\"Number of Outliers (CO₂)\", fontsize=20)\n",
    "ax.set_xlabel(\"m\", fontsize=20)\n",
    "ax.set_xticks(group_position)\n",
    "ax.set_xticklabels(m_intervals, fontsize=16)\n",
    "\n",
    "ax.legend(frameon=False, fontsize=18)\n",
    "\n",
    "plt.tight_layout()\n",
    "plt.savefig(f\"{fig_path}TEDA_parameter_m.png\", dpi=300, transparent=True)\n",
    "\n",
    "plt.show()"
   ]
  },
  {
   "cell_type": "markdown",
   "metadata": {},
   "source": [
    "## TEDA with m = 1.5"
   ]
  },
  {
   "cell_type": "code",
   "execution_count": null,
   "metadata": {},
   "outputs": [],
   "source": [
    "teda_detect.run_offline(monday_gasoline,    \"CO2(g/s)\")\n",
    "teda_detect.run_offline(tuesday_gasoline,   \"CO2(g/s)\")\n",
    "teda_detect.run_offline(wednesday_gasoline, \"CO2(g/s)\")\n",
    "teda_detect.run_offline(thursday_gasoline,  \"CO2(g/s)\")\n",
    "teda_detect.run_offline(friday_gasoline,    \"CO2(g/s)\")\n",
    "\n",
    "teda_detect.run_offline(monday_ethanol,    \"CO2(g/s)\")\n",
    "teda_detect.run_offline(tuesday_ethanol,   \"CO2(g/s)\")\n",
    "teda_detect.run_offline(wednesday_ethanol, \"CO2(g/s)\")\n",
    "teda_detect.run_offline(thursday_ethanol,  \"CO2(g/s)\")\n",
    "teda_detect.run_offline(friday_ethanol,    \"CO2(g/s)\")"
   ]
  },
  {
   "cell_type": "code",
   "execution_count": null,
   "metadata": {},
   "outputs": [],
   "source": [
    "co2_gasoline_outliers_by_week_day = np.array([\n",
    "  monday_gasoline.query(\"is_outlier == 1\")[\"is_outlier\"].sum(),\n",
    "  tuesday_gasoline.query(\"is_outlier == 1\")[\"is_outlier\"].sum(),\n",
    "  wednesday_gasoline.query(\"is_outlier == 1\")[\"is_outlier\"].sum(),\n",
    "  thursday_gasoline.query(\"is_outlier == 1\")[\"is_outlier\"].sum(),\n",
    "  friday_gasoline.query(\"is_outlier == 1\")[\"is_outlier\"].sum()\n",
    "])\n",
    "\n",
    "co2_ethanol_outliers_by_week_day = np.array([\n",
    "  monday_ethanol.query(\"is_outlier == 1\")[\"is_outlier\"].sum(),\n",
    "  tuesday_ethanol.query(\"is_outlier == 1\")[\"is_outlier\"].sum(),\n",
    "  wednesday_ethanol.query(\"is_outlier == 1\")[\"is_outlier\"].sum(),\n",
    "  thursday_ethanol.query(\"is_outlier == 1\")[\"is_outlier\"].sum(),\n",
    "  friday_ethanol.query(\"is_outlier == 1\")[\"is_outlier\"].sum()\n",
    "])\n",
    "\n",
    "hm = np.array([\n",
    "  co2_gasoline_outliers_by_week_day,\n",
    "  co2_ethanol_outliers_by_week_day\n",
    "])"
   ]
  },
  {
   "cell_type": "code",
   "execution_count": null,
   "metadata": {},
   "outputs": [],
   "source": [
    "fig, ax = plt.subplots(figsize=plot_size)\n",
    "\n",
    "ax.spines[\"left\"].set_visible(False)\n",
    "ax.spines[\"right\"].set_visible(False)\n",
    "ax.spines[\"top\"].set_visible(False)\n",
    "ax.spines[\"bottom\"].set_visible(False)\n",
    "\n",
    "cmap = LinearSegmentedColormap.from_list(\"custom_colormap\", [graph_colors[\"blue\"], graph_colors[\"black\"]])\n",
    "\n",
    "heatmap = plt.imshow(hm, cmap=cmap)\n",
    "\n",
    "ax.set_xticks(np.arange(hm.shape[1]))\n",
    "ax.set_yticks(np.arange(hm.shape[0]))\n",
    "ax.set_xticklabels([\"MON\", \"TUE\", \"WED\", \"THU\", \"FRI\"], fontsize=20)\n",
    "ax.set_yticklabels([\"Gasoline\", \"Ethanol\"], fontsize=20)\n",
    "\n",
    "ax.xaxis.set_ticks_position('top')\n",
    "\n",
    "ax.tick_params(left=False, top=False)\n",
    "\n",
    "for i in range(hm.shape[0]):\n",
    "  for j in range(hm.shape[1]):\n",
    "    ax.text(j, i, f\"{hm[i, j]}\", ha=\"center\", va=\"center\", color=graph_colors[\"white\"], fontsize=20, weight=\"bold\")\n",
    "\n",
    "# plt.text(-0.5, -0.95, \"CO₂(g) TEDA\", fontsize=24, color=text_colors[\"title\"], weight=\"bold\")\n",
    "# plt.text(-0.5, -0.80, \"Number of Outliers of CO₂ detected using TEDA\", fontsize=20, color=text_colors[\"subtitle\"])\n",
    "\n",
    "plt.tight_layout()\n",
    "plt.savefig(f\"{fig_path}teda_co2.png\", dpi=300, transparent=True)\n",
    "\n",
    "plt.show()"
   ]
  },
  {
   "cell_type": "markdown",
   "metadata": {},
   "source": [
    "## Emissions by Week Day"
   ]
  },
  {
   "cell_type": "code",
   "execution_count": null,
   "metadata": {},
   "outputs": [],
   "source": [
    "co2_gasoline_mean_by_week_day = [\n",
    "  monday_gasoline[\"CO2(g/s)\"].mean(),\n",
    "  tuesday_gasoline[\"CO2(g/s)\"].mean(),\n",
    "  wednesday_gasoline[\"CO2(g/s)\"].mean(),\n",
    "  thursday_gasoline[\"CO2(g/s)\"].mean(),\n",
    "  friday_gasoline[\"CO2(g/s)\"].mean()\n",
    "]\n",
    "\n",
    "co2_ethanol_mean_by_week_day = [\n",
    "  monday_ethanol[\"CO2(g/s)\"].mean(),\n",
    "  tuesday_ethanol[\"CO2(g/s)\"].mean(),\n",
    "  wednesday_ethanol[\"CO2(g/s)\"].mean(),\n",
    "  thursday_ethanol[\"CO2(g/s)\"].mean(),\n",
    "  friday_ethanol[\"CO2(g/s)\"].mean()\n",
    "]"
   ]
  },
  {
   "cell_type": "code",
   "execution_count": null,
   "metadata": {},
   "outputs": [],
   "source": [
    "week_days = [\"MON\", \"TUE\", \"WED\", \"THU\", \"FRI\"]\n",
    "\n",
    "bar_width = 0.35\n",
    "gasoline_pos = np.arange(len(week_days))\n",
    "ethanol_pos  = gasoline_pos + bar_width\n",
    "\n",
    "fig, ax = plt.subplots(figsize=plot_size)\n",
    "\n",
    "ax.spines[\"left\"].set_visible(False)\n",
    "ax.spines[\"right\"].set_visible(False)\n",
    "ax.spines[\"top\"].set_visible(False)\n",
    "plt.tick_params(left = False)\n",
    "\n",
    "group1_bar = ax.bar(gasoline_pos, co2_gasoline_mean_by_week_day, bar_width, label=\"Gasoline\", color=graph_colors[\"black\"])\n",
    "group2_bar = ax.bar(ethanol_pos,  co2_ethanol_mean_by_week_day,  bar_width, label=\"Ethanol\",  color=graph_colors[\"blue\"])\n",
    "\n",
    "ax.set_xticks(gasoline_pos + bar_width / 2)\n",
    "ax.set_yticklabels([])\n",
    "ax.set_xticklabels(week_days, fontsize=20)\n",
    "\n",
    "def autolabel(barras):\n",
    "    for barra in barras:\n",
    "        height = barra.get_height()\n",
    "\n",
    "        ax.annotate(\n",
    "            f\"{height:.2f}\", weight=\"bold\", color=graph_colors[\"white\"], fontsize=20,\n",
    "            xy=(barra.get_x() + barra.get_width() / 2, height - 0.13),\n",
    "            xytext=(0, 3), textcoords=\"offset points\", ha=\"center\", va=\"bottom\"\n",
    "        )\n",
    "\n",
    "autolabel(group1_bar)\n",
    "autolabel(group2_bar)\n",
    "\n",
    "# plt.text(-0.2, 1.8, \"CO₂(g) Emission\", fontsize=26, color=text_colors[\"title\"], weight=\"bold\")\n",
    "# plt.text(-0.2, 1.7, \"Comparative of Average CO₂ Emission per Second between Gasoline and Ethanol by Week Day\", fontsize=24, color=text_colors[\"subtitle\"])\n",
    "\n",
    "ax.legend(frameon=False, fontsize=18)\n",
    "plt.tight_layout()\n",
    "plt.savefig(f\"{fig_path}avg_emissions.png\", dpi=300, transparent=True)\n",
    "plt.show()"
   ]
  },
  {
   "cell_type": "markdown",
   "metadata": {},
   "source": [
    "## Emissions Cumulative Sum"
   ]
  },
  {
   "cell_type": "code",
   "execution_count": null,
   "metadata": {},
   "outputs": [],
   "source": [
    "co2_cumsum_gasoline_mean = np.mean([\n",
    "  monday_gasoline[\"CO2(g/s)\"].cumsum(),\n",
    "  tuesday_gasoline[\"CO2(g/s)\"].cumsum(),\n",
    "  wednesday_gasoline[\"CO2(g/s)\"].cumsum(),\n",
    "  thursday_gasoline[\"CO2(g/s)\"].cumsum(),\n",
    "  friday_gasoline[\"CO2(g/s)\"].cumsum()\n",
    "], axis=0)\n",
    "\n",
    "co2_cumsum_ethanol_mean = np.mean([\n",
    "  monday_ethanol[\"CO2(g/s)\"].cumsum(),\n",
    "  tuesday_ethanol[\"CO2(g/s)\"].cumsum(),\n",
    "  wednesday_ethanol[\"CO2(g/s)\"].cumsum(),\n",
    "  thursday_ethanol[\"CO2(g/s)\"].cumsum(),\n",
    "  friday_ethanol[\"CO2(g/s)\"].cumsum()\n",
    "], axis=0)"
   ]
  },
  {
   "cell_type": "code",
   "execution_count": null,
   "metadata": {},
   "outputs": [],
   "source": [
    "fig, ax = plt.subplots(figsize=plot_size)\n",
    "\n",
    "ax.spines[\"right\"].set_visible(False)\n",
    "ax.spines[\"top\"].set_visible(False)\n",
    "\n",
    "ax.set_ylabel(\"CO₂ (g)\", fontsize=20)\n",
    "ax.set_xlabel(\"Time (s)\", fontsize=20)\n",
    "\n",
    "plt.xticks(rotation=0, ha=\"center\", fontsize=18)\n",
    "plt.yticks(fontsize=18)\n",
    "\n",
    "ax.plot(co2_cumsum_gasoline_mean, color=graph_colors[\"black\"])\n",
    "ax.plot(co2_cumsum_ethanol_mean, color=graph_colors[\"blue\"])\n",
    "\n",
    "plt.text(2000, co2_cumsum_gasoline_mean[-1]+50, \"Gasoline\", weight=\"bold\", color=graph_colors[\"black\"], fontsize=18)\n",
    "plt.text(2000, co2_cumsum_ethanol_mean[-1]+50,  \"Ethanol\",   weight=\"bold\", color=graph_colors[\"blue\"],  fontsize=18)\n",
    "\n",
    "plt.text(2000, co2_cumsum_gasoline_mean[-1]-50, f\"{co2_cumsum_gasoline_mean[-1]:.2f}\", weight=\"bold\", color=graph_colors[\"black\"], fontsize=18)\n",
    "plt.text(2000, co2_cumsum_ethanol_mean[-1]-50,  f\"{co2_cumsum_ethanol_mean[-1]:.2f}\",  weight=\"bold\", color=graph_colors[\"blue\"],  fontsize=18)\n",
    "\n",
    "# plt.text(0, 3400, \"CO₂(g) Cumulative Sum\", fontsize=26, color=text_colors[\"title\"], weight=\"bold\")\n",
    "# plt.text(0, 3200, \"Comparative of Average Cumulative Sum of CO₂ Emission between Gasoline and Ethanol\", fontsize=24, color=text_colors[\"subtitle\"])\n",
    "\n",
    "plt.tight_layout()\n",
    "plt.savefig(f\"{fig_path}avg_cumsum.png\", dpi=300, transparent=True)\n",
    "\n",
    "plt.show()"
   ]
  },
  {
   "cell_type": "code",
   "execution_count": null,
   "metadata": {},
   "outputs": [],
   "source": [
    "monday_gasoline[\"week_day\"]    = \"MON\"\n",
    "tuesday_gasoline[\"week_day\"]   = \"TUE\"\n",
    "wednesday_gasoline[\"week_day\"] = \"WED\"\n",
    "thursday_gasoline[\"week_day\"]  = \"THU\"\n",
    "friday_gasoline[\"week_day\"]    = \"FRI\"\n",
    "\n",
    "monday_ethanol[\"week_day\"]    = \"MON\"\n",
    "tuesday_ethanol[\"week_day\"]   = \"TUE\"\n",
    "wednesday_ethanol[\"week_day\"] = \"WED\"\n",
    "thursday_ethanol[\"week_day\"]  = \"THU\"\n",
    "friday_ethanol[\"week_day\"]    = \"FRI\"\n",
    "\n",
    "gasoline_week = pd.concat([\n",
    "  monday_gasoline,\n",
    "  tuesday_gasoline,\n",
    "  wednesday_gasoline,\n",
    "  thursday_gasoline,\n",
    "  friday_gasoline\n",
    "], ignore_index=True)\n",
    "\n",
    "ethanol_week = pd.concat([\n",
    "  monday_ethanol,\n",
    "  tuesday_ethanol,\n",
    "  wednesday_ethanol,\n",
    "  thursday_ethanol,\n",
    "  friday_ethanol\n",
    "], ignore_index=True)\n",
    "\n",
    "week_dict = {\n",
    "  1: \"MON\",\n",
    "  2: \"TUE\",\n",
    "  3: \"WED\",\n",
    "  4: \"THU\",\n",
    "  5: \"FRI\"\n",
    "}\n",
    "\n",
    "palette = sns.color_palette([\"#1F1E1F\", \"#0C1D21\", \"#0F3A43\", \"#08677C\", \"#03A9CE\"])"
   ]
  },
  {
   "cell_type": "code",
   "execution_count": null,
   "metadata": {},
   "outputs": [],
   "source": [
    "g = sns.FacetGrid(gasoline_week, row=\"week_day\", hue=\"week_day\", aspect=15, height=0.75, palette=palette)\n",
    "\n",
    "g.map(sns.kdeplot, \"CO2(g/s)\", bw_adjust=1, clip_on=False, fill=True, alpha=1, linewidth=1.5)\n",
    "g.map(sns.kdeplot, \"CO2(g/s)\", bw_adjust=1, clip_on=False, color=\"w\", lw=2)\n",
    "g.map(plt.axhline, y=0, lw=2, clip_on=False)\n",
    "\n",
    "for i, ax in enumerate(g.axes.flat):\n",
    "    ax.text(-0.8, 0.02, week_dict[i+1], fontweight=\"bold\", fontsize=20, color=ax.lines[-1].get_color())\n",
    "    \n",
    "\n",
    "g.fig.subplots_adjust(hspace=-0.3)\n",
    "g.set_titles(\"\")\n",
    "g.set(yticks=[], ylabel=\"\")\n",
    "g.despine(bottom=True, left=True)\n",
    "\n",
    "plt.setp(ax.get_xticklabels(), fontsize=16, fontweight=\"bold\")\n",
    "plt.xlabel(\"CO₂(g)\", fontweight=\"bold\", fontsize=20)\n",
    "plt.xlim(0, 7)\n",
    "\n",
    "# ax.text(-0.5, 4.5, \"CO₂(g) KDE\", fontsize=26, color=text_colors[\"title\"], weight=\"bold\")\n",
    "# ax.text(-0.5, 4.0, \"Kernel Density Estimate for Gasoline CO₂ Emission by Week Day\", fontsize=24, color=text_colors[\"subtitle\"])\n",
    "\n",
    "plt.savefig(f\"{fig_path}co2_kde_gasoline.png\", dpi=300, transparent=True)\n",
    "\n",
    "plt.show()"
   ]
  },
  {
   "cell_type": "code",
   "execution_count": null,
   "metadata": {},
   "outputs": [],
   "source": [
    "g = sns.FacetGrid(ethanol_week, row=\"week_day\", hue=\"week_day\", aspect=15, height=0.75, palette=palette)\n",
    "\n",
    "g.map(sns.kdeplot, \"CO2(g/s)\", bw_adjust=1, clip_on=False, fill=True, alpha=1, linewidth=1.5)\n",
    "g.map(sns.kdeplot, \"CO2(g/s)\", bw_adjust=1, clip_on=False, color=\"w\", lw=2)\n",
    "g.map(plt.axhline, y=0, lw=2, clip_on=False)\n",
    "\n",
    "for i, ax in enumerate(g.axes.flat):\n",
    "    ax.text(-0.8, 0.02, week_dict[i+1], fontweight=\"bold\", fontsize=20, color=ax.lines[-1].get_color())\n",
    "    \n",
    "\n",
    "g.fig.subplots_adjust(hspace=-0.3)\n",
    "g.set_titles(\"\")\n",
    "g.set(yticks=[], ylabel=\"\")\n",
    "g.despine(bottom=True, left=True)\n",
    "\n",
    "plt.setp(ax.get_xticklabels(), fontsize=16, fontweight=\"bold\")\n",
    "plt.xlabel(\"CO₂(g)\", fontweight=\"bold\", fontsize=20)\n",
    "plt.xlim(0, 7)\n",
    "\n",
    "# ax.text(-0.5, 7.8, \"CO₂(g) KDE\", fontsize=26, color=text_colors[\"title\"], weight=\"bold\")\n",
    "# ax.text(-0.5, 7.0, \"Kernel Density Estimate for Ethanol CO₂ Emission by Week Day\", fontsize=24, color=text_colors[\"subtitle\"])\n",
    "\n",
    "plt.savefig(f\"{fig_path}co2_kde_ethanol.png\", dpi=300, transparent=True)\n",
    "\n",
    "plt.show()"
   ]
  },
  {
   "cell_type": "markdown",
   "metadata": {},
   "source": [
    "## Map Plot"
   ]
  },
  {
   "cell_type": "code",
   "execution_count": null,
   "metadata": {},
   "outputs": [],
   "source": [
    "co2_colors = {\n",
    "  '#fdff7d': 1.0,\n",
    "  '#fcff33': 2.0,\n",
    "  '#ffd333': 3.0,\n",
    "  '#fab00f': 4.0,\n",
    "  '#fa6d0f': 5.0,\n",
    "  '#ff523b': 6.0\n",
    "}"
   ]
  },
  {
   "cell_type": "code",
   "execution_count": null,
   "metadata": {},
   "outputs": [],
   "source": [
    "route_map_gasoline = routeplot(monday_gasoline, \"CO2(g/s)\", color_list=co2_colors)\n",
    "\n",
    "route_map_gasoline"
   ]
  },
  {
   "cell_type": "code",
   "execution_count": null,
   "metadata": {},
   "outputs": [],
   "source": [
    "route_map_ethanol = routeplot(monday_ethanol, \"CO2(g/s)\", color_list=co2_colors)\n",
    "\n",
    "route_map_ethanol"
   ]
  }
 ],
 "metadata": {
  "kernelspec": {
   "display_name": "biofuel_analysis",
   "language": "python",
   "name": "python3"
  },
  "language_info": {
   "codemirror_mode": {
    "name": "ipython",
    "version": 3
   },
   "file_extension": ".py",
   "mimetype": "text/x-python",
   "name": "python",
   "nbconvert_exporter": "python",
   "pygments_lexer": "ipython3",
   "version": "3.11.9"
  }
 },
 "nbformat": 4,
 "nbformat_minor": 2
}

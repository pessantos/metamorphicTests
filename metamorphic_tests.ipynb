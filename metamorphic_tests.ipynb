{
 "cells": [
  {
   "cell_type": "code",
   "execution_count": 1,
   "metadata": {},
   "outputs": [
    {
     "name": "stdout",
     "output_type": "stream",
     "text": [
      "\n",
      "🔁 RM1 - Velocidade constante (ETHANOL)\n",
      "Diferença Média: 0.3081 | Diferença Máxima: 1.7321 | Erro Quadrático Médio (RMSE): 0.4077 | Desvio Padrão (Std): 0.2670\n"
     ]
    },
    {
     "data": {
      "text/html": [
       "<style type=\"text/css\">\n",
       "</style>\n",
       "<table id=\"T_b551b\">\n",
       "  <caption>Comparação dos dados originais e modificados - RM1 - Velocidade constante (ETHANOL)</caption>\n",
       "  <thead>\n",
       "    <tr>\n",
       "      <th class=\"blank level0\" >&nbsp;</th>\n",
       "      <th id=\"T_b551b_level0_col0\" class=\"col_heading level0 col0\" >Latitude_Orig</th>\n",
       "      <th id=\"T_b551b_level0_col1\" class=\"col_heading level0 col1\" >Longitude_Orig</th>\n",
       "      <th id=\"T_b551b_level0_col2\" class=\"col_heading level0 col2\" >Speed(OBD)(km/h)_Orig</th>\n",
       "      <th id=\"T_b551b_level0_col3\" class=\"col_heading level0 col3\" >Acceleration_Orig</th>\n",
       "      <th id=\"T_b551b_level0_col4\" class=\"col_heading level0 col4\" > </th>\n",
       "      <th id=\"T_b551b_level0_col5\" class=\"col_heading level0 col5\" >Latitude_Mod</th>\n",
       "      <th id=\"T_b551b_level0_col6\" class=\"col_heading level0 col6\" >Longitude_Mod</th>\n",
       "      <th id=\"T_b551b_level0_col7\" class=\"col_heading level0 col7\" >Speed(OBD)(km/h)_Mod</th>\n",
       "      <th id=\"T_b551b_level0_col8\" class=\"col_heading level0 col8\" >Acceleration_Mod</th>\n",
       "      <th id=\"T_b551b_level0_col9\" class=\"col_heading level0 col9\" > </th>\n",
       "      <th id=\"T_b551b_level0_col10\" class=\"col_heading level0 col10\" >CO₂_Real</th>\n",
       "      <th id=\"T_b551b_level0_col11\" class=\"col_heading level0 col11\" >CO₂_Orig</th>\n",
       "      <th id=\"T_b551b_level0_col12\" class=\"col_heading level0 col12\" >CO₂_Mod</th>\n",
       "    </tr>\n",
       "  </thead>\n",
       "  <tbody>\n",
       "    <tr>\n",
       "      <th id=\"T_b551b_level0_row0\" class=\"row_heading level0 row0\" >0</th>\n",
       "      <td id=\"T_b551b_row0_col0\" class=\"data row0 col0\" >-5.820105</td>\n",
       "      <td id=\"T_b551b_row0_col1\" class=\"data row0 col1\" >-35.220818</td>\n",
       "      <td id=\"T_b551b_row0_col2\" class=\"data row0 col2\" >3</td>\n",
       "      <td id=\"T_b551b_row0_col3\" class=\"data row0 col3\" >0.000000</td>\n",
       "      <td id=\"T_b551b_row0_col4\" class=\"data row0 col4\" >→</td>\n",
       "      <td id=\"T_b551b_row0_col5\" class=\"data row0 col5\" >-5.820105</td>\n",
       "      <td id=\"T_b551b_row0_col6\" class=\"data row0 col6\" >-35.220818</td>\n",
       "      <td id=\"T_b551b_row0_col7\" class=\"data row0 col7\" >20.896737</td>\n",
       "      <td id=\"T_b551b_row0_col8\" class=\"data row0 col8\" >0.000000</td>\n",
       "      <td id=\"T_b551b_row0_col9\" class=\"data row0 col9\" > </td>\n",
       "      <td id=\"T_b551b_row0_col10\" class=\"data row0 col10\" >0.642839</td>\n",
       "      <td id=\"T_b551b_row0_col11\" class=\"data row0 col11\" >0.742631</td>\n",
       "      <td id=\"T_b551b_row0_col12\" class=\"data row0 col12\" >1.447286</td>\n",
       "    </tr>\n",
       "    <tr>\n",
       "      <th id=\"T_b551b_level0_row1\" class=\"row_heading level0 row1\" >1</th>\n",
       "      <td id=\"T_b551b_row1_col0\" class=\"data row1 col0\" >-5.820103</td>\n",
       "      <td id=\"T_b551b_row1_col1\" class=\"data row1 col1\" >-35.220828</td>\n",
       "      <td id=\"T_b551b_row1_col2\" class=\"data row1 col2\" >5</td>\n",
       "      <td id=\"T_b551b_row1_col3\" class=\"data row1 col3\" >0.555556</td>\n",
       "      <td id=\"T_b551b_row1_col4\" class=\"data row1 col4\" >→</td>\n",
       "      <td id=\"T_b551b_row1_col5\" class=\"data row1 col5\" >-5.820103</td>\n",
       "      <td id=\"T_b551b_row1_col6\" class=\"data row1 col6\" >-35.220828</td>\n",
       "      <td id=\"T_b551b_row1_col7\" class=\"data row1 col7\" >20.896737</td>\n",
       "      <td id=\"T_b551b_row1_col8\" class=\"data row1 col8\" >0.555556</td>\n",
       "      <td id=\"T_b551b_row1_col9\" class=\"data row1 col9\" > </td>\n",
       "      <td id=\"T_b551b_row1_col10\" class=\"data row1 col10\" >0.653249</td>\n",
       "      <td id=\"T_b551b_row1_col11\" class=\"data row1 col11\" >0.771505</td>\n",
       "      <td id=\"T_b551b_row1_col12\" class=\"data row1 col12\" >1.459546</td>\n",
       "    </tr>\n",
       "    <tr>\n",
       "      <th id=\"T_b551b_level0_row2\" class=\"row_heading level0 row2\" >2</th>\n",
       "      <td id=\"T_b551b_row2_col0\" class=\"data row2 col0\" >-5.820102</td>\n",
       "      <td id=\"T_b551b_row2_col1\" class=\"data row2 col1\" >-35.220838</td>\n",
       "      <td id=\"T_b551b_row2_col2\" class=\"data row2 col2\" >5</td>\n",
       "      <td id=\"T_b551b_row2_col3\" class=\"data row2 col3\" >0.000000</td>\n",
       "      <td id=\"T_b551b_row2_col4\" class=\"data row2 col4\" >→</td>\n",
       "      <td id=\"T_b551b_row2_col5\" class=\"data row2 col5\" >-5.820102</td>\n",
       "      <td id=\"T_b551b_row2_col6\" class=\"data row2 col6\" >-35.220838</td>\n",
       "      <td id=\"T_b551b_row2_col7\" class=\"data row2 col7\" >20.896737</td>\n",
       "      <td id=\"T_b551b_row2_col8\" class=\"data row2 col8\" >0.000000</td>\n",
       "      <td id=\"T_b551b_row2_col9\" class=\"data row2 col9\" > </td>\n",
       "      <td id=\"T_b551b_row2_col10\" class=\"data row2 col10\" >0.653249</td>\n",
       "      <td id=\"T_b551b_row2_col11\" class=\"data row2 col11\" >0.771505</td>\n",
       "      <td id=\"T_b551b_row2_col12\" class=\"data row2 col12\" >1.447286</td>\n",
       "    </tr>\n",
       "    <tr>\n",
       "      <th id=\"T_b551b_level0_row3\" class=\"row_heading level0 row3\" >3</th>\n",
       "      <td id=\"T_b551b_row3_col0\" class=\"data row3 col0\" >-5.820096</td>\n",
       "      <td id=\"T_b551b_row3_col1\" class=\"data row3 col1\" >-35.220843</td>\n",
       "      <td id=\"T_b551b_row3_col2\" class=\"data row3 col2\" >3</td>\n",
       "      <td id=\"T_b551b_row3_col3\" class=\"data row3 col3\" >-0.555556</td>\n",
       "      <td id=\"T_b551b_row3_col4\" class=\"data row3 col4\" >→</td>\n",
       "      <td id=\"T_b551b_row3_col5\" class=\"data row3 col5\" >-5.820096</td>\n",
       "      <td id=\"T_b551b_row3_col6\" class=\"data row3 col6\" >-35.220843</td>\n",
       "      <td id=\"T_b551b_row3_col7\" class=\"data row3 col7\" >20.896737</td>\n",
       "      <td id=\"T_b551b_row3_col8\" class=\"data row3 col8\" >-0.555556</td>\n",
       "      <td id=\"T_b551b_row3_col9\" class=\"data row3 col9\" > </td>\n",
       "      <td id=\"T_b551b_row3_col10\" class=\"data row3 col10\" >0.679275</td>\n",
       "      <td id=\"T_b551b_row3_col11\" class=\"data row3 col11\" >0.659013</td>\n",
       "      <td id=\"T_b551b_row3_col12\" class=\"data row3 col12\" >0.666306</td>\n",
       "    </tr>\n",
       "    <tr>\n",
       "      <th id=\"T_b551b_level0_row4\" class=\"row_heading level0 row4\" >4</th>\n",
       "      <td id=\"T_b551b_row4_col0\" class=\"data row4 col0\" >-5.820091</td>\n",
       "      <td id=\"T_b551b_row4_col1\" class=\"data row4 col1\" >-35.220850</td>\n",
       "      <td id=\"T_b551b_row4_col2\" class=\"data row4 col2\" >0</td>\n",
       "      <td id=\"T_b551b_row4_col3\" class=\"data row4 col3\" >-0.833333</td>\n",
       "      <td id=\"T_b551b_row4_col4\" class=\"data row4 col4\" >→</td>\n",
       "      <td id=\"T_b551b_row4_col5\" class=\"data row4 col5\" >-5.820091</td>\n",
       "      <td id=\"T_b551b_row4_col6\" class=\"data row4 col6\" >-35.220850</td>\n",
       "      <td id=\"T_b551b_row4_col7\" class=\"data row4 col7\" >20.896737</td>\n",
       "      <td id=\"T_b551b_row4_col8\" class=\"data row4 col8\" >-0.833333</td>\n",
       "      <td id=\"T_b551b_row4_col9\" class=\"data row4 col9\" > </td>\n",
       "      <td id=\"T_b551b_row4_col10\" class=\"data row4 col10\" >0.610306</td>\n",
       "      <td id=\"T_b551b_row4_col11\" class=\"data row4 col11\" >0.667689</td>\n",
       "      <td id=\"T_b551b_row4_col12\" class=\"data row4 col12\" >0.853810</td>\n",
       "    </tr>\n",
       "    <tr>\n",
       "      <th id=\"T_b551b_level0_row5\" class=\"row_heading level0 row5\" >5</th>\n",
       "      <td id=\"T_b551b_row5_col0\" class=\"data row5 col0\" >-5.820091</td>\n",
       "      <td id=\"T_b551b_row5_col1\" class=\"data row5 col1\" >-35.220850</td>\n",
       "      <td id=\"T_b551b_row5_col2\" class=\"data row5 col2\" >0</td>\n",
       "      <td id=\"T_b551b_row5_col3\" class=\"data row5 col3\" >0.000000</td>\n",
       "      <td id=\"T_b551b_row5_col4\" class=\"data row5 col4\" >→</td>\n",
       "      <td id=\"T_b551b_row5_col5\" class=\"data row5 col5\" >-5.820091</td>\n",
       "      <td id=\"T_b551b_row5_col6\" class=\"data row5 col6\" >-35.220850</td>\n",
       "      <td id=\"T_b551b_row5_col7\" class=\"data row5 col7\" >20.896737</td>\n",
       "      <td id=\"T_b551b_row5_col8\" class=\"data row5 col8\" >0.000000</td>\n",
       "      <td id=\"T_b551b_row5_col9\" class=\"data row5 col9\" > </td>\n",
       "      <td id=\"T_b551b_row5_col10\" class=\"data row5 col10\" >0.610306</td>\n",
       "      <td id=\"T_b551b_row5_col11\" class=\"data row5 col11\" >0.706858</td>\n",
       "      <td id=\"T_b551b_row5_col12\" class=\"data row5 col12\" >1.556241</td>\n",
       "    </tr>\n",
       "    <tr>\n",
       "      <th id=\"T_b551b_level0_row6\" class=\"row_heading level0 row6\" >6</th>\n",
       "      <td id=\"T_b551b_row6_col0\" class=\"data row6 col0\" >-5.820091</td>\n",
       "      <td id=\"T_b551b_row6_col1\" class=\"data row6 col1\" >-35.220850</td>\n",
       "      <td id=\"T_b551b_row6_col2\" class=\"data row6 col2\" >0</td>\n",
       "      <td id=\"T_b551b_row6_col3\" class=\"data row6 col3\" >0.000000</td>\n",
       "      <td id=\"T_b551b_row6_col4\" class=\"data row6 col4\" >→</td>\n",
       "      <td id=\"T_b551b_row6_col5\" class=\"data row6 col5\" >-5.820091</td>\n",
       "      <td id=\"T_b551b_row6_col6\" class=\"data row6 col6\" >-35.220850</td>\n",
       "      <td id=\"T_b551b_row6_col7\" class=\"data row6 col7\" >20.896737</td>\n",
       "      <td id=\"T_b551b_row6_col8\" class=\"data row6 col8\" >0.000000</td>\n",
       "      <td id=\"T_b551b_row6_col9\" class=\"data row6 col9\" > </td>\n",
       "      <td id=\"T_b551b_row6_col10\" class=\"data row6 col10\" >0.490587</td>\n",
       "      <td id=\"T_b551b_row6_col11\" class=\"data row6 col11\" >0.706858</td>\n",
       "      <td id=\"T_b551b_row6_col12\" class=\"data row6 col12\" >1.556241</td>\n",
       "    </tr>\n",
       "    <tr>\n",
       "      <th id=\"T_b551b_level0_row7\" class=\"row_heading level0 row7\" >7</th>\n",
       "      <td id=\"T_b551b_row7_col0\" class=\"data row7 col0\" >-5.820085</td>\n",
       "      <td id=\"T_b551b_row7_col1\" class=\"data row7 col1\" >-35.220856</td>\n",
       "      <td id=\"T_b551b_row7_col2\" class=\"data row7 col2\" >3</td>\n",
       "      <td id=\"T_b551b_row7_col3\" class=\"data row7 col3\" >0.833333</td>\n",
       "      <td id=\"T_b551b_row7_col4\" class=\"data row7 col4\" >→</td>\n",
       "      <td id=\"T_b551b_row7_col5\" class=\"data row7 col5\" >-5.820085</td>\n",
       "      <td id=\"T_b551b_row7_col6\" class=\"data row7 col6\" >-35.220856</td>\n",
       "      <td id=\"T_b551b_row7_col7\" class=\"data row7 col7\" >20.896737</td>\n",
       "      <td id=\"T_b551b_row7_col8\" class=\"data row7 col8\" >0.833333</td>\n",
       "      <td id=\"T_b551b_row7_col9\" class=\"data row7 col9\" > </td>\n",
       "      <td id=\"T_b551b_row7_col10\" class=\"data row7 col10\" >1.090483</td>\n",
       "      <td id=\"T_b551b_row7_col11\" class=\"data row7 col11\" >1.137803</td>\n",
       "      <td id=\"T_b551b_row7_col12\" class=\"data row7 col12\" >1.569425</td>\n",
       "    </tr>\n",
       "    <tr>\n",
       "      <th id=\"T_b551b_level0_row8\" class=\"row_heading level0 row8\" >8</th>\n",
       "      <td id=\"T_b551b_row8_col0\" class=\"data row8 col0\" >-5.820074</td>\n",
       "      <td id=\"T_b551b_row8_col1\" class=\"data row8 col1\" >-35.220859</td>\n",
       "      <td id=\"T_b551b_row8_col2\" class=\"data row8 col2\" >3</td>\n",
       "      <td id=\"T_b551b_row8_col3\" class=\"data row8 col3\" >0.000000</td>\n",
       "      <td id=\"T_b551b_row8_col4\" class=\"data row8 col4\" >→</td>\n",
       "      <td id=\"T_b551b_row8_col5\" class=\"data row8 col5\" >-5.820074</td>\n",
       "      <td id=\"T_b551b_row8_col6\" class=\"data row8 col6\" >-35.220859</td>\n",
       "      <td id=\"T_b551b_row8_col7\" class=\"data row8 col7\" >20.896737</td>\n",
       "      <td id=\"T_b551b_row8_col8\" class=\"data row8 col8\" >0.000000</td>\n",
       "      <td id=\"T_b551b_row8_col9\" class=\"data row8 col9\" > </td>\n",
       "      <td id=\"T_b551b_row8_col10\" class=\"data row8 col10\" >1.090483</td>\n",
       "      <td id=\"T_b551b_row8_col11\" class=\"data row8 col11\" >1.137803</td>\n",
       "      <td id=\"T_b551b_row8_col12\" class=\"data row8 col12\" >1.556241</td>\n",
       "    </tr>\n",
       "    <tr>\n",
       "      <th id=\"T_b551b_level0_row9\" class=\"row_heading level0 row9\" >9</th>\n",
       "      <td id=\"T_b551b_row9_col0\" class=\"data row9 col0\" >-5.820064</td>\n",
       "      <td id=\"T_b551b_row9_col1\" class=\"data row9 col1\" >-35.220858</td>\n",
       "      <td id=\"T_b551b_row9_col2\" class=\"data row9 col2\" >3</td>\n",
       "      <td id=\"T_b551b_row9_col3\" class=\"data row9 col3\" >0.000000</td>\n",
       "      <td id=\"T_b551b_row9_col4\" class=\"data row9 col4\" >→</td>\n",
       "      <td id=\"T_b551b_row9_col5\" class=\"data row9 col5\" >-5.820064</td>\n",
       "      <td id=\"T_b551b_row9_col6\" class=\"data row9 col6\" >-35.220858</td>\n",
       "      <td id=\"T_b551b_row9_col7\" class=\"data row9 col7\" >20.896737</td>\n",
       "      <td id=\"T_b551b_row9_col8\" class=\"data row9 col8\" >0.000000</td>\n",
       "      <td id=\"T_b551b_row9_col9\" class=\"data row9 col9\" > </td>\n",
       "      <td id=\"T_b551b_row9_col10\" class=\"data row9 col10\" >0.921315</td>\n",
       "      <td id=\"T_b551b_row9_col11\" class=\"data row9 col11\" >1.137803</td>\n",
       "      <td id=\"T_b551b_row9_col12\" class=\"data row9 col12\" >1.556241</td>\n",
       "    </tr>\n",
       "  </tbody>\n",
       "</table>\n"
      ],
      "text/plain": [
       "<pandas.io.formats.style.Styler at 0x20eec6f0710>"
      ]
     },
     "metadata": {},
     "output_type": "display_data"
    },
    {
     "data": {
      "application/vnd.plotly.v1+json": {
       "config": {
        "plotlyServerURL": "https://plot.ly"
       },
       "data": [
        {
         "line": {
          "color": "green",
          "dash": "dot"
         },
         "mode": "lines",
         "name": "Real",
         "type": "scatter",
         "y": {
          "bdata": "Xv2WDSKS5D+bk2QeaufkP5uTZB5q5+Q/NotmSJ685T/ehxTZoIfjP96HFNmgh+M/M5CwL8hl3z/dnA9wnnLxP92cD3CecvE/T3ASz2l77T+UX3iidnLyPz8yMAV+Z/Q/PzIwBX5n9D8ti7UITBb8PzhhcBqj5vk/KSOOULfS8D8pI45Qt9LwP7us/CApG+8/cjYv8OP84z+t9vIuJyjgP6328i4nKOA/geLz0z/39T+rgxXuOvLzP6uDFe468vM/mb1aTGW9AEB0UCWuXTcFQJNSfcM51QFAk1J9wznVAUDU4Eocwdz0P40G4N+x0N0/MaWrxsVQ3T+Gb8fSpWfjP4Zvx9KlZ+M/RJASr2yy4j+u4feXKT3iPxtsE+QD5v0/G2wT5APm/T9xVW+Vh+D+P/WBu/ZpMek/9YG79mkx6T8EcmzGOjzYP6VZboDtdf4/WOugB2mlAEBY66AHaaUAQFcs1yJHEfo/jF/HYiTM+D+vRCQpQjH6P69EJClCMfo/IlLOZdxR9j8U6vVt9WfxP9L1RbO+x/I/0vVFs77H8j9JPCZTdgbrPy3PofTAJtk/Lc+h9MAm2T83dmuxoNHXP5m9WkxlveA/wxqQeuun4T/DGpB666fhPy5sdWOoMgFAN3ZrsaDRB0CTtalUUskJQJO1qVRSyQlAUQXmhZA5CECzrwGybRkJQLOvAbJtGQlAadNRH3liAkDxyvHJCOv/P/HK8ckI6/8/ZYpqDIgCAkDcITJ38e4HQFhbyHe+Nvk/WFvId742+T+BiQxRzfvaP+KMDwAd1/Y/4owPAB3X9j9nuVth/yfxP4GJDFHN+9o/VyzXIkcR2j9XLNciRxHKPzhhcBqj5sk/mb1aTGW90D+rqr6oeQbiPxTJ619+uOE/cloUOF8j9z+cBUVJAVwCQO7F9qKMm/w/7sX2ooyb/D8XwP8/+pH1Py66pl3DO9s/YtOg3ya82D8GXXEvPVHKPwZdcS89Uco/3P87AbdmyT8zkLAvyGXPPxdp8ttk2OI/F2ny22TY4j/s9fsW3vTiP/4o4Wa23vY/g+DZ9mxa+z8=",
          "dtype": "f8"
         }
        },
        {
         "line": {
          "color": "blue",
          "dash": "dash"
         },
         "mode": "lines",
         "name": "Predição Original",
         "type": "scatter",
         "y": {
          "bdata": "A1nGMaLD5z/rGxZ+K7DoP+sbFn4rsOg/ZNKEuKEW5T8gJJx1tV3lP1qolBeUnuY/WqiUF5Se5j8vN5pfcTTyPy83ml9xNPI/LzeaX3E08j8LUj4DVmv0P2cHXp66ovQ/lajUrwhy8z8ERxYOSyj4P0gf5HQeCfI/if7LZHnq7z8XHaiiCV3vP6Btm6JJmew/vGW1En/65z9MP1pTWq7wP/J2f86FGvA/Rx/yOxHc8D9HH/I7EdzwP0cf8jsR3PA/Wi2PK9ct9T99iPbmwzv1P+s7h6uSvvI/jlifB2hB+z/KAreWPx7tP2CGcv2h3+w/DE1YhnUh4z+r91rqETzvPzST+4nO/eQ/tcGbWjP25j8r0X6ZskrsPzXVexnn+PI/jsX9rHxr8z+YODlE2Q7zPxrw1xsMw+0/6+G9lxVx7T+VLCu5vQ3pP5kI65KAuvA/xV7vM9nJ8j+3rXXsTRn+P7nipTU15fQ/Ahig1qK48j97HMyYL2j0P61VsDSbgfU/gKXeX7rt9D8lL/FG5m/yP1D9sJ1ASPI/ONgUq37H8z/SblJX33btP6Pvp4KhC+M/A1unplDL5j/tVn03pGviP09EUKldGOg/RjLkVnwe6D+bSQJT7m7oP/kNtZK+Z+k/BO79CuHa9z9uhs6rFD4AQDSsx4gppPs/JoJSHH6Y9j8b5eo1rb34P7wp1TtfOgFA605wkeGE9z+CQHPA6Nf7P96W8dRj7vo/77f/lcKE+T8/0HaFb3j5P0ixId0VM/o/2QaTrAQF9T89ims167HjP+Roiw7ssfA/N+aifBlj8D+LMRVBlGrvP6CylwUtpOE/UCAMIn9U4D86TWpu5ebtP5PEfPDbnN0/8ql5Nfn/4D83OrmjNxvhP9ETGcqqqOg/TEBpKYVw9j/5y4EaW9T4P6g7DuceO/U/scgFb/N/8D+73vRQdeXuP5DaSmyYQ+A/1hTHV/j+2j9wnnVfpazbPzJoid+r2eU/KlRdoNof2z8xuA2DPjffP3qotC6cE+Y/eqi0LpwT5j96qLQunBPmPwHia4Ko5fc/29W9hKHm9z8=",
          "dtype": "f8"
         }
        },
        {
         "line": {
          "color": "red"
         },
         "mode": "lines",
         "name": "Predição com RM",
         "type": "scatter",
         "y": {
          "bdata": "91TaexUo9z8jnbs1TVr3P/dU2nsVKPc///T1c2FS5T8kwWPlaFLrP0CxIWBd5vg/QLEhYF3m+D9JU5jpXBz5P0CxIWBd5vg/QLEhYF3m+D9JU5jpXBz5P07kbm6NyPY/BqMl0kXh8z+gpaUaLjj0P6ClpRouOPQ/YNsRJOj49D+jOpo1kEH1P6PnKkw0p/Q/XSLZKJcw5j+j5ypMNKf0P/LzTcrrfOQ/p71KY0TK8j+nvUpjRMryP6e9SmNEyvI/9LcyAATz8j/c+tGxIY30P8QdXbsXX/Q/V21WnSE39z+LEIJ38ujyP4UzU4FIwPI/LbynyU+85z8+MwuO18XvP1yEo6A9/eY/XISjoD395j9GtpyAFYXiP/uComJFR/A/SZIn+znm5D/8la5nG0TyPz9se5aSavA/+4KiYkVH8D+OWkgqoPniP/uComJFR/A/NRwhc0gQ8j9mUlZXPp/1P7nipTU15fQ/BFIsjWZX9T9v+QpY3231PyNEfxVYnPU/sW4yQ3pM8z9Nf2lAVHbzP7FuMkN6TPM/zi4fQpZM8T8MXCyRL8TnP8jhtRufyOI/DFwskS/E5z/ROWXQ/pniPwfQt34BNuM/B9C3fgE24z89YtHmlZ3pP5bnI++mw/c/JbqXILyo8z8l3GyxHlT8P5pDA0bNXPM/mkMDRs1c8z/DaBzSQDHyP7aYwxThvvg/japvfJsh8T/eiPwuYqz5P1tSjlQkN/g/UoBW2eU3+D/YQyGmK174P9hDIaYrXvg/hbMB/p688D/kuSmdw9noPz73tOB4zvA/CL4mYrOB8D+xgC4IDI/wP9xTnCSRTuc/S0TRIWdl3z/vAcvkF2zwP+fVp1O+MN4/f2+c7USi5D9/b5ztRKLkP7YuZ6rtteo/BJFkyejm7z+Ao6Wb7knwP/KIUEi+KvU/+QFW1E6I7z/2qlgYi9nwP78oV3lL3uI/s31ulWua2T/ERfmIcLDaP2iiAkpTC+Q/s31ulWua2T+/KFd5S97iP2iiAkpTC+Q/aKICSlML5D9oogJKUwvkPzkNwHaDQOQ/P99UiWoW5D8=",
          "dtype": "f8"
         }
        }
       ],
       "layout": {
        "template": {
         "data": {
          "bar": [
           {
            "error_x": {
             "color": "#2a3f5f"
            },
            "error_y": {
             "color": "#2a3f5f"
            },
            "marker": {
             "line": {
              "color": "#E5ECF6",
              "width": 0.5
             },
             "pattern": {
              "fillmode": "overlay",
              "size": 10,
              "solidity": 0.2
             }
            },
            "type": "bar"
           }
          ],
          "barpolar": [
           {
            "marker": {
             "line": {
              "color": "#E5ECF6",
              "width": 0.5
             },
             "pattern": {
              "fillmode": "overlay",
              "size": 10,
              "solidity": 0.2
             }
            },
            "type": "barpolar"
           }
          ],
          "carpet": [
           {
            "aaxis": {
             "endlinecolor": "#2a3f5f",
             "gridcolor": "white",
             "linecolor": "white",
             "minorgridcolor": "white",
             "startlinecolor": "#2a3f5f"
            },
            "baxis": {
             "endlinecolor": "#2a3f5f",
             "gridcolor": "white",
             "linecolor": "white",
             "minorgridcolor": "white",
             "startlinecolor": "#2a3f5f"
            },
            "type": "carpet"
           }
          ],
          "choropleth": [
           {
            "colorbar": {
             "outlinewidth": 0,
             "ticks": ""
            },
            "type": "choropleth"
           }
          ],
          "contour": [
           {
            "colorbar": {
             "outlinewidth": 0,
             "ticks": ""
            },
            "colorscale": [
             [
              0,
              "#0d0887"
             ],
             [
              0.1111111111111111,
              "#46039f"
             ],
             [
              0.2222222222222222,
              "#7201a8"
             ],
             [
              0.3333333333333333,
              "#9c179e"
             ],
             [
              0.4444444444444444,
              "#bd3786"
             ],
             [
              0.5555555555555556,
              "#d8576b"
             ],
             [
              0.6666666666666666,
              "#ed7953"
             ],
             [
              0.7777777777777778,
              "#fb9f3a"
             ],
             [
              0.8888888888888888,
              "#fdca26"
             ],
             [
              1,
              "#f0f921"
             ]
            ],
            "type": "contour"
           }
          ],
          "contourcarpet": [
           {
            "colorbar": {
             "outlinewidth": 0,
             "ticks": ""
            },
            "type": "contourcarpet"
           }
          ],
          "heatmap": [
           {
            "colorbar": {
             "outlinewidth": 0,
             "ticks": ""
            },
            "colorscale": [
             [
              0,
              "#0d0887"
             ],
             [
              0.1111111111111111,
              "#46039f"
             ],
             [
              0.2222222222222222,
              "#7201a8"
             ],
             [
              0.3333333333333333,
              "#9c179e"
             ],
             [
              0.4444444444444444,
              "#bd3786"
             ],
             [
              0.5555555555555556,
              "#d8576b"
             ],
             [
              0.6666666666666666,
              "#ed7953"
             ],
             [
              0.7777777777777778,
              "#fb9f3a"
             ],
             [
              0.8888888888888888,
              "#fdca26"
             ],
             [
              1,
              "#f0f921"
             ]
            ],
            "type": "heatmap"
           }
          ],
          "histogram": [
           {
            "marker": {
             "pattern": {
              "fillmode": "overlay",
              "size": 10,
              "solidity": 0.2
             }
            },
            "type": "histogram"
           }
          ],
          "histogram2d": [
           {
            "colorbar": {
             "outlinewidth": 0,
             "ticks": ""
            },
            "colorscale": [
             [
              0,
              "#0d0887"
             ],
             [
              0.1111111111111111,
              "#46039f"
             ],
             [
              0.2222222222222222,
              "#7201a8"
             ],
             [
              0.3333333333333333,
              "#9c179e"
             ],
             [
              0.4444444444444444,
              "#bd3786"
             ],
             [
              0.5555555555555556,
              "#d8576b"
             ],
             [
              0.6666666666666666,
              "#ed7953"
             ],
             [
              0.7777777777777778,
              "#fb9f3a"
             ],
             [
              0.8888888888888888,
              "#fdca26"
             ],
             [
              1,
              "#f0f921"
             ]
            ],
            "type": "histogram2d"
           }
          ],
          "histogram2dcontour": [
           {
            "colorbar": {
             "outlinewidth": 0,
             "ticks": ""
            },
            "colorscale": [
             [
              0,
              "#0d0887"
             ],
             [
              0.1111111111111111,
              "#46039f"
             ],
             [
              0.2222222222222222,
              "#7201a8"
             ],
             [
              0.3333333333333333,
              "#9c179e"
             ],
             [
              0.4444444444444444,
              "#bd3786"
             ],
             [
              0.5555555555555556,
              "#d8576b"
             ],
             [
              0.6666666666666666,
              "#ed7953"
             ],
             [
              0.7777777777777778,
              "#fb9f3a"
             ],
             [
              0.8888888888888888,
              "#fdca26"
             ],
             [
              1,
              "#f0f921"
             ]
            ],
            "type": "histogram2dcontour"
           }
          ],
          "mesh3d": [
           {
            "colorbar": {
             "outlinewidth": 0,
             "ticks": ""
            },
            "type": "mesh3d"
           }
          ],
          "parcoords": [
           {
            "line": {
             "colorbar": {
              "outlinewidth": 0,
              "ticks": ""
             }
            },
            "type": "parcoords"
           }
          ],
          "pie": [
           {
            "automargin": true,
            "type": "pie"
           }
          ],
          "scatter": [
           {
            "fillpattern": {
             "fillmode": "overlay",
             "size": 10,
             "solidity": 0.2
            },
            "type": "scatter"
           }
          ],
          "scatter3d": [
           {
            "line": {
             "colorbar": {
              "outlinewidth": 0,
              "ticks": ""
             }
            },
            "marker": {
             "colorbar": {
              "outlinewidth": 0,
              "ticks": ""
             }
            },
            "type": "scatter3d"
           }
          ],
          "scattercarpet": [
           {
            "marker": {
             "colorbar": {
              "outlinewidth": 0,
              "ticks": ""
             }
            },
            "type": "scattercarpet"
           }
          ],
          "scattergeo": [
           {
            "marker": {
             "colorbar": {
              "outlinewidth": 0,
              "ticks": ""
             }
            },
            "type": "scattergeo"
           }
          ],
          "scattergl": [
           {
            "marker": {
             "colorbar": {
              "outlinewidth": 0,
              "ticks": ""
             }
            },
            "type": "scattergl"
           }
          ],
          "scattermap": [
           {
            "marker": {
             "colorbar": {
              "outlinewidth": 0,
              "ticks": ""
             }
            },
            "type": "scattermap"
           }
          ],
          "scattermapbox": [
           {
            "marker": {
             "colorbar": {
              "outlinewidth": 0,
              "ticks": ""
             }
            },
            "type": "scattermapbox"
           }
          ],
          "scatterpolar": [
           {
            "marker": {
             "colorbar": {
              "outlinewidth": 0,
              "ticks": ""
             }
            },
            "type": "scatterpolar"
           }
          ],
          "scatterpolargl": [
           {
            "marker": {
             "colorbar": {
              "outlinewidth": 0,
              "ticks": ""
             }
            },
            "type": "scatterpolargl"
           }
          ],
          "scatterternary": [
           {
            "marker": {
             "colorbar": {
              "outlinewidth": 0,
              "ticks": ""
             }
            },
            "type": "scatterternary"
           }
          ],
          "surface": [
           {
            "colorbar": {
             "outlinewidth": 0,
             "ticks": ""
            },
            "colorscale": [
             [
              0,
              "#0d0887"
             ],
             [
              0.1111111111111111,
              "#46039f"
             ],
             [
              0.2222222222222222,
              "#7201a8"
             ],
             [
              0.3333333333333333,
              "#9c179e"
             ],
             [
              0.4444444444444444,
              "#bd3786"
             ],
             [
              0.5555555555555556,
              "#d8576b"
             ],
             [
              0.6666666666666666,
              "#ed7953"
             ],
             [
              0.7777777777777778,
              "#fb9f3a"
             ],
             [
              0.8888888888888888,
              "#fdca26"
             ],
             [
              1,
              "#f0f921"
             ]
            ],
            "type": "surface"
           }
          ],
          "table": [
           {
            "cells": {
             "fill": {
              "color": "#EBF0F8"
             },
             "line": {
              "color": "white"
             }
            },
            "header": {
             "fill": {
              "color": "#C8D4E3"
             },
             "line": {
              "color": "white"
             }
            },
            "type": "table"
           }
          ]
         },
         "layout": {
          "annotationdefaults": {
           "arrowcolor": "#2a3f5f",
           "arrowhead": 0,
           "arrowwidth": 1
          },
          "autotypenumbers": "strict",
          "coloraxis": {
           "colorbar": {
            "outlinewidth": 0,
            "ticks": ""
           }
          },
          "colorscale": {
           "diverging": [
            [
             0,
             "#8e0152"
            ],
            [
             0.1,
             "#c51b7d"
            ],
            [
             0.2,
             "#de77ae"
            ],
            [
             0.3,
             "#f1b6da"
            ],
            [
             0.4,
             "#fde0ef"
            ],
            [
             0.5,
             "#f7f7f7"
            ],
            [
             0.6,
             "#e6f5d0"
            ],
            [
             0.7,
             "#b8e186"
            ],
            [
             0.8,
             "#7fbc41"
            ],
            [
             0.9,
             "#4d9221"
            ],
            [
             1,
             "#276419"
            ]
           ],
           "sequential": [
            [
             0,
             "#0d0887"
            ],
            [
             0.1111111111111111,
             "#46039f"
            ],
            [
             0.2222222222222222,
             "#7201a8"
            ],
            [
             0.3333333333333333,
             "#9c179e"
            ],
            [
             0.4444444444444444,
             "#bd3786"
            ],
            [
             0.5555555555555556,
             "#d8576b"
            ],
            [
             0.6666666666666666,
             "#ed7953"
            ],
            [
             0.7777777777777778,
             "#fb9f3a"
            ],
            [
             0.8888888888888888,
             "#fdca26"
            ],
            [
             1,
             "#f0f921"
            ]
           ],
           "sequentialminus": [
            [
             0,
             "#0d0887"
            ],
            [
             0.1111111111111111,
             "#46039f"
            ],
            [
             0.2222222222222222,
             "#7201a8"
            ],
            [
             0.3333333333333333,
             "#9c179e"
            ],
            [
             0.4444444444444444,
             "#bd3786"
            ],
            [
             0.5555555555555556,
             "#d8576b"
            ],
            [
             0.6666666666666666,
             "#ed7953"
            ],
            [
             0.7777777777777778,
             "#fb9f3a"
            ],
            [
             0.8888888888888888,
             "#fdca26"
            ],
            [
             1,
             "#f0f921"
            ]
           ]
          },
          "colorway": [
           "#636efa",
           "#EF553B",
           "#00cc96",
           "#ab63fa",
           "#FFA15A",
           "#19d3f3",
           "#FF6692",
           "#B6E880",
           "#FF97FF",
           "#FECB52"
          ],
          "font": {
           "color": "#2a3f5f"
          },
          "geo": {
           "bgcolor": "white",
           "lakecolor": "white",
           "landcolor": "#E5ECF6",
           "showlakes": true,
           "showland": true,
           "subunitcolor": "white"
          },
          "hoverlabel": {
           "align": "left"
          },
          "hovermode": "closest",
          "mapbox": {
           "style": "light"
          },
          "paper_bgcolor": "white",
          "plot_bgcolor": "#E5ECF6",
          "polar": {
           "angularaxis": {
            "gridcolor": "white",
            "linecolor": "white",
            "ticks": ""
           },
           "bgcolor": "#E5ECF6",
           "radialaxis": {
            "gridcolor": "white",
            "linecolor": "white",
            "ticks": ""
           }
          },
          "scene": {
           "xaxis": {
            "backgroundcolor": "#E5ECF6",
            "gridcolor": "white",
            "gridwidth": 2,
            "linecolor": "white",
            "showbackground": true,
            "ticks": "",
            "zerolinecolor": "white"
           },
           "yaxis": {
            "backgroundcolor": "#E5ECF6",
            "gridcolor": "white",
            "gridwidth": 2,
            "linecolor": "white",
            "showbackground": true,
            "ticks": "",
            "zerolinecolor": "white"
           },
           "zaxis": {
            "backgroundcolor": "#E5ECF6",
            "gridcolor": "white",
            "gridwidth": 2,
            "linecolor": "white",
            "showbackground": true,
            "ticks": "",
            "zerolinecolor": "white"
           }
          },
          "shapedefaults": {
           "line": {
            "color": "#2a3f5f"
           }
          },
          "ternary": {
           "aaxis": {
            "gridcolor": "white",
            "linecolor": "white",
            "ticks": ""
           },
           "baxis": {
            "gridcolor": "white",
            "linecolor": "white",
            "ticks": ""
           },
           "bgcolor": "#E5ECF6",
           "caxis": {
            "gridcolor": "white",
            "linecolor": "white",
            "ticks": ""
           }
          },
          "title": {
           "x": 0.05
          },
          "xaxis": {
           "automargin": true,
           "gridcolor": "white",
           "linecolor": "white",
           "ticks": "",
           "title": {
            "standoff": 15
           },
           "zerolinecolor": "white",
           "zerolinewidth": 2
          },
          "yaxis": {
           "automargin": true,
           "gridcolor": "white",
           "linecolor": "white",
           "ticks": "",
           "title": {
            "standoff": 15
           },
           "zerolinecolor": "white",
           "zerolinewidth": 2
          }
         }
        },
        "title": {
         "text": "Comparação CO₂ - RM1 - Velocidade constante - ETHANOL"
        },
        "xaxis": {
         "title": {
          "text": "Amostras"
         }
        },
        "yaxis": {
         "title": {
          "text": "CO₂ (g/s)"
         }
        }
       }
      }
     },
     "metadata": {},
     "output_type": "display_data"
    },
    {
     "name": "stdout",
     "output_type": "stream",
     "text": [
      "\n",
      "🔁 RM1 - Velocidade constante (GASOLINE)\n",
      "Diferença Média: 0.3768 | Diferença Máxima: 1.3891 | Erro Quadrático Médio (RMSE): 0.5071 | Desvio Padrão (Std): 0.3394\n"
     ]
    },
    {
     "data": {
      "text/html": [
       "<style type=\"text/css\">\n",
       "</style>\n",
       "<table id=\"T_2f3e6\">\n",
       "  <caption>Comparação dos dados originais e modificados - RM1 - Velocidade constante (GASOLINE)</caption>\n",
       "  <thead>\n",
       "    <tr>\n",
       "      <th class=\"blank level0\" >&nbsp;</th>\n",
       "      <th id=\"T_2f3e6_level0_col0\" class=\"col_heading level0 col0\" >Latitude_Orig</th>\n",
       "      <th id=\"T_2f3e6_level0_col1\" class=\"col_heading level0 col1\" >Longitude_Orig</th>\n",
       "      <th id=\"T_2f3e6_level0_col2\" class=\"col_heading level0 col2\" >Speed(OBD)(km/h)_Orig</th>\n",
       "      <th id=\"T_2f3e6_level0_col3\" class=\"col_heading level0 col3\" >Acceleration_Orig</th>\n",
       "      <th id=\"T_2f3e6_level0_col4\" class=\"col_heading level0 col4\" > </th>\n",
       "      <th id=\"T_2f3e6_level0_col5\" class=\"col_heading level0 col5\" >Latitude_Mod</th>\n",
       "      <th id=\"T_2f3e6_level0_col6\" class=\"col_heading level0 col6\" >Longitude_Mod</th>\n",
       "      <th id=\"T_2f3e6_level0_col7\" class=\"col_heading level0 col7\" >Speed(OBD)(km/h)_Mod</th>\n",
       "      <th id=\"T_2f3e6_level0_col8\" class=\"col_heading level0 col8\" >Acceleration_Mod</th>\n",
       "      <th id=\"T_2f3e6_level0_col9\" class=\"col_heading level0 col9\" > </th>\n",
       "      <th id=\"T_2f3e6_level0_col10\" class=\"col_heading level0 col10\" >CO₂_Real</th>\n",
       "      <th id=\"T_2f3e6_level0_col11\" class=\"col_heading level0 col11\" >CO₂_Orig</th>\n",
       "      <th id=\"T_2f3e6_level0_col12\" class=\"col_heading level0 col12\" >CO₂_Mod</th>\n",
       "    </tr>\n",
       "  </thead>\n",
       "  <tbody>\n",
       "    <tr>\n",
       "      <th id=\"T_2f3e6_level0_row0\" class=\"row_heading level0 row0\" >0</th>\n",
       "      <td id=\"T_2f3e6_row0_col0\" class=\"data row0 col0\" >-5.820010</td>\n",
       "      <td id=\"T_2f3e6_row0_col1\" class=\"data row0 col1\" >-35.220825</td>\n",
       "      <td id=\"T_2f3e6_row0_col2\" class=\"data row0 col2\" >5</td>\n",
       "      <td id=\"T_2f3e6_row0_col3\" class=\"data row0 col3\" >0.000000</td>\n",
       "      <td id=\"T_2f3e6_row0_col4\" class=\"data row0 col4\" >→</td>\n",
       "      <td id=\"T_2f3e6_row0_col5\" class=\"data row0 col5\" >-5.820010</td>\n",
       "      <td id=\"T_2f3e6_row0_col6\" class=\"data row0 col6\" >-35.220825</td>\n",
       "      <td id=\"T_2f3e6_row0_col7\" class=\"data row0 col7\" >24.494192</td>\n",
       "      <td id=\"T_2f3e6_row0_col8\" class=\"data row0 col8\" >0.000000</td>\n",
       "      <td id=\"T_2f3e6_row0_col9\" class=\"data row0 col9\" > </td>\n",
       "      <td id=\"T_2f3e6_row0_col10\" class=\"data row0 col10\" >1.002671</td>\n",
       "      <td id=\"T_2f3e6_row0_col11\" class=\"data row0 col11\" >1.456781</td>\n",
       "      <td id=\"T_2f3e6_row0_col12\" class=\"data row0 col12\" >2.005537</td>\n",
       "    </tr>\n",
       "    <tr>\n",
       "      <th id=\"T_2f3e6_level0_row1\" class=\"row_heading level0 row1\" >1</th>\n",
       "      <td id=\"T_2f3e6_row1_col0\" class=\"data row1 col0\" >-5.820013</td>\n",
       "      <td id=\"T_2f3e6_row1_col1\" class=\"data row1 col1\" >-35.220822</td>\n",
       "      <td id=\"T_2f3e6_row1_col2\" class=\"data row1 col2\" >4</td>\n",
       "      <td id=\"T_2f3e6_row1_col3\" class=\"data row1 col3\" >-0.277778</td>\n",
       "      <td id=\"T_2f3e6_row1_col4\" class=\"data row1 col4\" >→</td>\n",
       "      <td id=\"T_2f3e6_row1_col5\" class=\"data row1 col5\" >-5.820013</td>\n",
       "      <td id=\"T_2f3e6_row1_col6\" class=\"data row1 col6\" >-35.220822</td>\n",
       "      <td id=\"T_2f3e6_row1_col7\" class=\"data row1 col7\" >24.494192</td>\n",
       "      <td id=\"T_2f3e6_row1_col8\" class=\"data row1 col8\" >-0.277778</td>\n",
       "      <td id=\"T_2f3e6_row1_col9\" class=\"data row1 col9\" > </td>\n",
       "      <td id=\"T_2f3e6_row1_col10\" class=\"data row1 col10\" >1.013360</td>\n",
       "      <td id=\"T_2f3e6_row1_col11\" class=\"data row1 col11\" >1.016708</td>\n",
       "      <td id=\"T_2f3e6_row1_col12\" class=\"data row1 col12\" >1.239649</td>\n",
       "    </tr>\n",
       "    <tr>\n",
       "      <th id=\"T_2f3e6_level0_row2\" class=\"row_heading level0 row2\" >2</th>\n",
       "      <td id=\"T_2f3e6_row2_col0\" class=\"data row2 col0\" >-5.820016</td>\n",
       "      <td id=\"T_2f3e6_row2_col1\" class=\"data row2 col1\" >-35.220819</td>\n",
       "      <td id=\"T_2f3e6_row2_col2\" class=\"data row2 col2\" >5</td>\n",
       "      <td id=\"T_2f3e6_row2_col3\" class=\"data row2 col3\" >0.277778</td>\n",
       "      <td id=\"T_2f3e6_row2_col4\" class=\"data row2 col4\" >→</td>\n",
       "      <td id=\"T_2f3e6_row2_col5\" class=\"data row2 col5\" >-5.820016</td>\n",
       "      <td id=\"T_2f3e6_row2_col6\" class=\"data row2 col6\" >-35.220819</td>\n",
       "      <td id=\"T_2f3e6_row2_col7\" class=\"data row2 col7\" >24.494192</td>\n",
       "      <td id=\"T_2f3e6_row2_col8\" class=\"data row2 col8\" >0.277778</td>\n",
       "      <td id=\"T_2f3e6_row2_col9\" class=\"data row2 col9\" > </td>\n",
       "      <td id=\"T_2f3e6_row2_col10\" class=\"data row2 col10\" >2.088720</td>\n",
       "      <td id=\"T_2f3e6_row2_col11\" class=\"data row2 col11\" >1.456781</td>\n",
       "      <td id=\"T_2f3e6_row2_col12\" class=\"data row2 col12\" >2.011935</td>\n",
       "    </tr>\n",
       "    <tr>\n",
       "      <th id=\"T_2f3e6_level0_row3\" class=\"row_heading level0 row3\" >3</th>\n",
       "      <td id=\"T_2f3e6_row3_col0\" class=\"data row3 col0\" >-5.820014</td>\n",
       "      <td id=\"T_2f3e6_row3_col1\" class=\"data row3 col1\" >-35.220825</td>\n",
       "      <td id=\"T_2f3e6_row3_col2\" class=\"data row3 col2\" >7</td>\n",
       "      <td id=\"T_2f3e6_row3_col3\" class=\"data row3 col3\" >0.555556</td>\n",
       "      <td id=\"T_2f3e6_row3_col4\" class=\"data row3 col4\" >→</td>\n",
       "      <td id=\"T_2f3e6_row3_col5\" class=\"data row3 col5\" >-5.820014</td>\n",
       "      <td id=\"T_2f3e6_row3_col6\" class=\"data row3 col6\" >-35.220825</td>\n",
       "      <td id=\"T_2f3e6_row3_col7\" class=\"data row3 col7\" >24.494192</td>\n",
       "      <td id=\"T_2f3e6_row3_col8\" class=\"data row3 col8\" >0.555556</td>\n",
       "      <td id=\"T_2f3e6_row3_col9\" class=\"data row3 col9\" > </td>\n",
       "      <td id=\"T_2f3e6_row3_col10\" class=\"data row3 col10\" >2.261889</td>\n",
       "      <td id=\"T_2f3e6_row3_col11\" class=\"data row3 col11\" >1.996380</td>\n",
       "      <td id=\"T_2f3e6_row3_col12\" class=\"data row3 col12\" >2.011935</td>\n",
       "    </tr>\n",
       "    <tr>\n",
       "      <th id=\"T_2f3e6_level0_row4\" class=\"row_heading level0 row4\" >4</th>\n",
       "      <td id=\"T_2f3e6_row4_col0\" class=\"data row4 col0\" >-5.819992</td>\n",
       "      <td id=\"T_2f3e6_row4_col1\" class=\"data row4 col1\" >-35.220829</td>\n",
       "      <td id=\"T_2f3e6_row4_col2\" class=\"data row4 col2\" >9</td>\n",
       "      <td id=\"T_2f3e6_row4_col3\" class=\"data row4 col3\" >0.555556</td>\n",
       "      <td id=\"T_2f3e6_row4_col4\" class=\"data row4 col4\" >→</td>\n",
       "      <td id=\"T_2f3e6_row4_col5\" class=\"data row4 col5\" >-5.819992</td>\n",
       "      <td id=\"T_2f3e6_row4_col6\" class=\"data row4 col6\" >-35.220829</td>\n",
       "      <td id=\"T_2f3e6_row4_col7\" class=\"data row4 col7\" >24.494192</td>\n",
       "      <td id=\"T_2f3e6_row4_col8\" class=\"data row4 col8\" >0.555556</td>\n",
       "      <td id=\"T_2f3e6_row4_col9\" class=\"data row4 col9\" > </td>\n",
       "      <td id=\"T_2f3e6_row4_col10\" class=\"data row4 col10\" >2.499195</td>\n",
       "      <td id=\"T_2f3e6_row4_col11\" class=\"data row4 col11\" >2.400486</td>\n",
       "      <td id=\"T_2f3e6_row4_col12\" class=\"data row4 col12\" >1.903163</td>\n",
       "    </tr>\n",
       "    <tr>\n",
       "      <th id=\"T_2f3e6_level0_row5\" class=\"row_heading level0 row5\" >5</th>\n",
       "      <td id=\"T_2f3e6_row5_col0\" class=\"data row5 col0\" >-5.819974</td>\n",
       "      <td id=\"T_2f3e6_row5_col1\" class=\"data row5 col1\" >-35.220824</td>\n",
       "      <td id=\"T_2f3e6_row5_col2\" class=\"data row5 col2\" >12</td>\n",
       "      <td id=\"T_2f3e6_row5_col3\" class=\"data row5 col3\" >0.833333</td>\n",
       "      <td id=\"T_2f3e6_row5_col4\" class=\"data row5 col4\" >→</td>\n",
       "      <td id=\"T_2f3e6_row5_col5\" class=\"data row5 col5\" >-5.819974</td>\n",
       "      <td id=\"T_2f3e6_row5_col6\" class=\"data row5 col6\" >-35.220824</td>\n",
       "      <td id=\"T_2f3e6_row5_col7\" class=\"data row5 col7\" >24.494192</td>\n",
       "      <td id=\"T_2f3e6_row5_col8\" class=\"data row5 col8\" >0.833333</td>\n",
       "      <td id=\"T_2f3e6_row5_col9\" class=\"data row5 col9\" > </td>\n",
       "      <td id=\"T_2f3e6_row5_col10\" class=\"data row5 col10\" >2.606089</td>\n",
       "      <td id=\"T_2f3e6_row5_col11\" class=\"data row5 col11\" >2.400486</td>\n",
       "      <td id=\"T_2f3e6_row5_col12\" class=\"data row5 col12\" >1.903163</td>\n",
       "    </tr>\n",
       "    <tr>\n",
       "      <th id=\"T_2f3e6_level0_row6\" class=\"row_heading level0 row6\" >6</th>\n",
       "      <td id=\"T_2f3e6_row6_col0\" class=\"data row6 col0\" >-5.819944</td>\n",
       "      <td id=\"T_2f3e6_row6_col1\" class=\"data row6 col1\" >-35.220823</td>\n",
       "      <td id=\"T_2f3e6_row6_col2\" class=\"data row6 col2\" >15</td>\n",
       "      <td id=\"T_2f3e6_row6_col3\" class=\"data row6 col3\" >0.833333</td>\n",
       "      <td id=\"T_2f3e6_row6_col4\" class=\"data row6 col4\" >→</td>\n",
       "      <td id=\"T_2f3e6_row6_col5\" class=\"data row6 col5\" >-5.819944</td>\n",
       "      <td id=\"T_2f3e6_row6_col6\" class=\"data row6 col6\" >-35.220823</td>\n",
       "      <td id=\"T_2f3e6_row6_col7\" class=\"data row6 col7\" >24.494192</td>\n",
       "      <td id=\"T_2f3e6_row6_col8\" class=\"data row6 col8\" >0.833333</td>\n",
       "      <td id=\"T_2f3e6_row6_col9\" class=\"data row6 col9\" > </td>\n",
       "      <td id=\"T_2f3e6_row6_col10\" class=\"data row6 col10\" >3.070012</td>\n",
       "      <td id=\"T_2f3e6_row6_col11\" class=\"data row6 col11\" >2.148721</td>\n",
       "      <td id=\"T_2f3e6_row6_col12\" class=\"data row6 col12\" >1.831330</td>\n",
       "    </tr>\n",
       "    <tr>\n",
       "      <th id=\"T_2f3e6_level0_row7\" class=\"row_heading level0 row7\" >7</th>\n",
       "      <td id=\"T_2f3e6_row7_col0\" class=\"data row7 col0\" >-5.819908</td>\n",
       "      <td id=\"T_2f3e6_row7_col1\" class=\"data row7 col1\" >-35.220810</td>\n",
       "      <td id=\"T_2f3e6_row7_col2\" class=\"data row7 col2\" >18</td>\n",
       "      <td id=\"T_2f3e6_row7_col3\" class=\"data row7 col3\" >0.833333</td>\n",
       "      <td id=\"T_2f3e6_row7_col4\" class=\"data row7 col4\" >→</td>\n",
       "      <td id=\"T_2f3e6_row7_col5\" class=\"data row7 col5\" >-5.819908</td>\n",
       "      <td id=\"T_2f3e6_row7_col6\" class=\"data row7 col6\" >-35.220810</td>\n",
       "      <td id=\"T_2f3e6_row7_col7\" class=\"data row7 col7\" >24.494192</td>\n",
       "      <td id=\"T_2f3e6_row7_col8\" class=\"data row7 col8\" >0.833333</td>\n",
       "      <td id=\"T_2f3e6_row7_col9\" class=\"data row7 col9\" > </td>\n",
       "      <td id=\"T_2f3e6_row7_col10\" class=\"data row7 col10\" >2.445747</td>\n",
       "      <td id=\"T_2f3e6_row7_col11\" class=\"data row7 col11\" >1.470940</td>\n",
       "      <td id=\"T_2f3e6_row7_col12\" class=\"data row7 col12\" >1.152140</td>\n",
       "    </tr>\n",
       "    <tr>\n",
       "      <th id=\"T_2f3e6_level0_row8\" class=\"row_heading level0 row8\" >8</th>\n",
       "      <td id=\"T_2f3e6_row8_col0\" class=\"data row8 col0\" >-5.819866</td>\n",
       "      <td id=\"T_2f3e6_row8_col1\" class=\"data row8 col1\" >-35.220794</td>\n",
       "      <td id=\"T_2f3e6_row8_col2\" class=\"data row8 col2\" >18</td>\n",
       "      <td id=\"T_2f3e6_row8_col3\" class=\"data row8 col3\" >0.000000</td>\n",
       "      <td id=\"T_2f3e6_row8_col4\" class=\"data row8 col4\" >→</td>\n",
       "      <td id=\"T_2f3e6_row8_col5\" class=\"data row8 col5\" >-5.819866</td>\n",
       "      <td id=\"T_2f3e6_row8_col6\" class=\"data row8 col6\" >-35.220794</td>\n",
       "      <td id=\"T_2f3e6_row8_col7\" class=\"data row8 col7\" >24.494192</td>\n",
       "      <td id=\"T_2f3e6_row8_col8\" class=\"data row8 col8\" >0.000000</td>\n",
       "      <td id=\"T_2f3e6_row8_col9\" class=\"data row8 col9\" > </td>\n",
       "      <td id=\"T_2f3e6_row8_col10\" class=\"data row8 col10\" >1.073221</td>\n",
       "      <td id=\"T_2f3e6_row8_col11\" class=\"data row8 col11\" >1.588029</td>\n",
       "      <td id=\"T_2f3e6_row8_col12\" class=\"data row8 col12\" >1.148476</td>\n",
       "    </tr>\n",
       "    <tr>\n",
       "      <th id=\"T_2f3e6_level0_row9\" class=\"row_heading level0 row9\" >9</th>\n",
       "      <td id=\"T_2f3e6_row9_col0\" class=\"data row9 col0\" >-5.819821</td>\n",
       "      <td id=\"T_2f3e6_row9_col1\" class=\"data row9 col1\" >-35.220775</td>\n",
       "      <td id=\"T_2f3e6_row9_col2\" class=\"data row9 col2\" >16</td>\n",
       "      <td id=\"T_2f3e6_row9_col3\" class=\"data row9 col3\" >-0.555556</td>\n",
       "      <td id=\"T_2f3e6_row9_col4\" class=\"data row9 col4\" >→</td>\n",
       "      <td id=\"T_2f3e6_row9_col5\" class=\"data row9 col5\" >-5.819821</td>\n",
       "      <td id=\"T_2f3e6_row9_col6\" class=\"data row9 col6\" >-35.220775</td>\n",
       "      <td id=\"T_2f3e6_row9_col7\" class=\"data row9 col7\" >24.494192</td>\n",
       "      <td id=\"T_2f3e6_row9_col8\" class=\"data row9 col8\" >-0.555556</td>\n",
       "      <td id=\"T_2f3e6_row9_col9\" class=\"data row9 col9\" > </td>\n",
       "      <td id=\"T_2f3e6_row9_col10\" class=\"data row9 col10\" >0.562265</td>\n",
       "      <td id=\"T_2f3e6_row9_col11\" class=\"data row9 col11\" >1.085921</td>\n",
       "      <td id=\"T_2f3e6_row9_col12\" class=\"data row9 col12\" >1.103385</td>\n",
       "    </tr>\n",
       "  </tbody>\n",
       "</table>\n"
      ],
      "text/plain": [
       "<pandas.io.formats.style.Styler at 0x20ef1e5d010>"
      ]
     },
     "metadata": {},
     "output_type": "display_data"
    },
    {
     "data": {
      "application/vnd.plotly.v1+json": {
       "config": {
        "plotlyServerURL": "https://plot.ly"
       },
       "data": [
        {
         "line": {
          "color": "green",
          "dash": "dot"
         },
         "mode": "lines",
         "name": "Real",
         "type": "scatter",
         "y": {
          "bdata": "fgFSsvAK8D+A9UFnuTbwP+sFLaeytQBAlHGRLVkYAkBCucXSWf4DQEt9dVtF2QRAqBJmS2KPCEA+120O5JADQCN/TinqK/E/+as09BP+4T+aTWFMs5viP5pNYUyzm+I/XDzytNji+j+dNUG2RPMCQCiGK0XJLgZAUV/NH7tGBUCt9L0P2PwIQMoh0PdM4gZALUmGV/HwAUC7e8iq65kFQJWKBjqL2QZAPtdtDuSQA0A+120O5JADQD/LXcOsvPM/G9QTrTAS5T+dNUG2RPPiPz7XbQ7kkOM/PtdtDuSQ4z+N38u90b/qPypPDv0M2/E/XDzytNjiCkCoDN6lRqUIQKgM3qVGpQhA8yxc66J8D0BuxFHGr5gMQIjedkcOpwVAJ4Cjn61EBkBRX80fu0YFQLWf+IuRFgVAtZ/4i5EWBUBZCgicdGDxP1JTvdSDcvU/1NlvNQHp9z+u1cBdilHkP67VwF2KUeQ/oGcrz6h17D9QRlgTiYXwP5J9oXiQ7PE/kn2heJDs8T/DRQDZ8l7mP79dIG9hB+Y/v10gb2EH5j+/XSBvYQfmP2LnLDGS/OY/sOIlH4U+6T/qekRTCmDuP6BnK8+odew/mWxe/gBHB0CpJVOyeGYNQIFGKTJrZA5AgUYpMmtkDkDqCPF5wKoQQNfm1Pb71QxA1+bU9vvVDEDDRQDZ8l7mP8A4mxf4ceE/+as09BP+4T9i5ywxkvzmP2LnLDGS/OY/QeTSz9596D9B5NLP3n3oPzJEUyiZH+c/MkRTKJkf5z95fPEDZJ/tP3l88QNkn+0/2trEq8QB7T8Lfp60vd7sP9by5EEzquw/LlxzvgfI5j8uXHO+B8jmP79dIG9hB+Y/idJm/NbS5T/DRQDZ8l7mP/jQuUt9k+Y/+NC5S32T5j8g7t0vJuzuPwt+nrS93uw/nH9LZRce7D9q3HFcHkHsP2rccVweQew/H7zzFsJp5T8fvPMWwmnlP/jQuUt9k+Y/LlxzvgfI5j8uXHO+B8jmPy5cc74HyOY/atxxXB5B7D9q3HFcHkHsPwt+nrS93uw/1vLkQTOq7D8=",
          "dtype": "f8"
         }
        },
        {
         "line": {
          "color": "blue",
          "dash": "dash"
         },
         "mode": "lines",
         "name": "Predição Original",
         "type": "scatter",
         "y": {
          "bdata": "nyhPnflO9z9gHHYQcETwP58oT535Tvc/NcYJ3ivx/z/H027bMTQDQMfTbtsxNANAW6JizpQwAUDSiMQk+Ij3P/2q4seQaPk/ZH6eRe5f8T9BGZ5ZmvD3PzitkrX97Pg/sjPog+dN+z+SSuHot2oCQJww0qNNLgNA8cQEdVL2B0A1HTGC8yUFQJ1s4cie0QVAPEfMwV4IAkA8R8zBXggCQF2Pwwd46AFAbpuVTxN2+j/IvXHXsBP6P0OwSlf+P/c/2pPnoDIS6T+hOYU4eCfuPxp0K9BUbOo/ThQjZ9o8AEBABo/x9pL3P3F+mAxJHfY/vjt97VxcAkC1xmrF5DgDQOa6Z/pAWAZAUonaDz/zBED9aMiraIEDQPruFYWieANA+u4VhaJ4A0CoKE294o/7Pxk9jtecgfw/S7H7xD8A/j92WkFYmFz2P7S5Onx/Bvo/RX1rWH4i8z/oY5hva434P1TJv1Fh2es/2F3p5aM27D+RtiC+vPzzP6NexDxw2fI/XyhyWTnN9D+DFQQ4srDxP7jtWJ1vMew/uO1YnW8x7D+47VidbzHsP7jtWJ1vMew/uO1YnW8x7D+47VidbzHsP7jtWJ1vMew/uO1YnW8x7D8nAD+TNLUCQNaKcWWMugZA0Uv5KVIhCEA+8WTkUCIIQPi+a1e0Yw5Ayp9UILRhDkDaMTNkxTIBQMaASEASVe8/28WzSFf/7z9COf9b/WfwPxW/p/5ScP0/VZWNuaJb6j9o0D7Y66zqP2jQPtjrrOo/aNA+2Ous6j9o0D7Y66zqP2jQPtjrrOo/aNA+2Ous6j9o0D7Y66zqP2jQPtjrrOo/aNA+2Ous6j9o0D7Y66zqP2jQPtjrrOo/aNA+2Ous6j9o0D7Y66zqP2jQPtjrrOo/aNA+2Ous6j9o0D7Y66zqP2jQPtjrrOo/aNA+2Ous6j9o0D7Y66zqP2jQPtjrrOo/aNA+2Ous6j9o0D7Y66zqP2jQPtjrrOo/aNA+2Ous6j9o0D7Y66zqP2jQPtjrrOo/aNA+2Ous6j9o0D7Y66zqP2jQPtjrrOo/aNA+2Ous6j8=",
          "dtype": "f8"
         }
        },
        {
         "line": {
          "color": "red"
         },
         "mode": "lines",
         "name": "Predição com RM",
         "type": "scatter",
         "y": {
          "bdata": "agWTyFYLAEAmriw6mtXzP/6PZYBxGABA/o9lgHEYAEDFGH2KWnP+P8UYfYpac/4/2NGaJyFN/T80wuWHKm/yP6Lko1ooYPI/E+wnmnan8T+XrTDI34v0P8z1+Y8nD/g/OaFhVSBB+D+mcFE1FtP/P6ZwUTUW0/8/sFjVrTzaAECsVMQZwN//P7BY1a082gBAPEfMwV4IAkA8R8zBXggCQDxHzMFeCAJASCs8vxt5+T9P3Tt+XmT5P+TsUTawW/Y/b11vHd2O6j/DGlDj38HuP5DmsjnrVug/+rDOE9Ll/T+rnqvG+9n1P1ige0NydvY/JpM48CKcA0AmkzjwIpwDQMFM/2oRJwVAC1iE7jMcBEBGZe2abtIDQDn+IaLURgNAOf4hotRGA0CqrwAqgHD7P6qvACqAcPs/qq8AKoBw+z94GZ3HIQHxP9XtduULxvc/eBmdxyEB8T/V7XblC8b3PxpiAiHifuk/5y/XmxDO6D8H8DEhbyHyP8OxIfGgsfI//S36doP/+j+IylCeKmX3P/0t+naD//o//S36doP/+j/9Lfp2g//6P/0t+naD//o//S36doP/+j/9Lfp2g//6P/0t+naD//o//S36doP/+j/PSZI8ez0HQM9Jkjx7PQdAsgF2fo3TC0BXyO23NBgHQFLTUPVG6gtAsgF2fo3TC0COFrmWWe0AQBeQVTgN7uo/F5BVOA3u6j9CWCvZujLhP1SUC80/0fw/Qlgr2boy4T9UlAvNP9H8P1SUC80/0fw/VJQLzT/R/D9UlAvNP9H8P1SUC80/0fw/VJQLzT/R/D9UlAvNP9H8P1SUC80/0fw/VJQLzT/R/D9UlAvNP9H8P1SUC80/0fw/VJQLzT/R/D9UlAvNP9H8P1SUC80/0fw/VJQLzT/R/D9UlAvNP9H8P1SUC80/0fw/VJQLzT/R/D9UlAvNP9H8P1SUC80/0fw/VJQLzT/R/D9UlAvNP9H8P1SUC80/0fw/VJQLzT/R/D9UlAvNP9H8P1SUC80/0fw/VJQLzT/R/D9UlAvNP9H8P1SUC80/0fw/VJQLzT/R/D8=",
          "dtype": "f8"
         }
        }
       ],
       "layout": {
        "template": {
         "data": {
          "bar": [
           {
            "error_x": {
             "color": "#2a3f5f"
            },
            "error_y": {
             "color": "#2a3f5f"
            },
            "marker": {
             "line": {
              "color": "#E5ECF6",
              "width": 0.5
             },
             "pattern": {
              "fillmode": "overlay",
              "size": 10,
              "solidity": 0.2
             }
            },
            "type": "bar"
           }
          ],
          "barpolar": [
           {
            "marker": {
             "line": {
              "color": "#E5ECF6",
              "width": 0.5
             },
             "pattern": {
              "fillmode": "overlay",
              "size": 10,
              "solidity": 0.2
             }
            },
            "type": "barpolar"
           }
          ],
          "carpet": [
           {
            "aaxis": {
             "endlinecolor": "#2a3f5f",
             "gridcolor": "white",
             "linecolor": "white",
             "minorgridcolor": "white",
             "startlinecolor": "#2a3f5f"
            },
            "baxis": {
             "endlinecolor": "#2a3f5f",
             "gridcolor": "white",
             "linecolor": "white",
             "minorgridcolor": "white",
             "startlinecolor": "#2a3f5f"
            },
            "type": "carpet"
           }
          ],
          "choropleth": [
           {
            "colorbar": {
             "outlinewidth": 0,
             "ticks": ""
            },
            "type": "choropleth"
           }
          ],
          "contour": [
           {
            "colorbar": {
             "outlinewidth": 0,
             "ticks": ""
            },
            "colorscale": [
             [
              0,
              "#0d0887"
             ],
             [
              0.1111111111111111,
              "#46039f"
             ],
             [
              0.2222222222222222,
              "#7201a8"
             ],
             [
              0.3333333333333333,
              "#9c179e"
             ],
             [
              0.4444444444444444,
              "#bd3786"
             ],
             [
              0.5555555555555556,
              "#d8576b"
             ],
             [
              0.6666666666666666,
              "#ed7953"
             ],
             [
              0.7777777777777778,
              "#fb9f3a"
             ],
             [
              0.8888888888888888,
              "#fdca26"
             ],
             [
              1,
              "#f0f921"
             ]
            ],
            "type": "contour"
           }
          ],
          "contourcarpet": [
           {
            "colorbar": {
             "outlinewidth": 0,
             "ticks": ""
            },
            "type": "contourcarpet"
           }
          ],
          "heatmap": [
           {
            "colorbar": {
             "outlinewidth": 0,
             "ticks": ""
            },
            "colorscale": [
             [
              0,
              "#0d0887"
             ],
             [
              0.1111111111111111,
              "#46039f"
             ],
             [
              0.2222222222222222,
              "#7201a8"
             ],
             [
              0.3333333333333333,
              "#9c179e"
             ],
             [
              0.4444444444444444,
              "#bd3786"
             ],
             [
              0.5555555555555556,
              "#d8576b"
             ],
             [
              0.6666666666666666,
              "#ed7953"
             ],
             [
              0.7777777777777778,
              "#fb9f3a"
             ],
             [
              0.8888888888888888,
              "#fdca26"
             ],
             [
              1,
              "#f0f921"
             ]
            ],
            "type": "heatmap"
           }
          ],
          "histogram": [
           {
            "marker": {
             "pattern": {
              "fillmode": "overlay",
              "size": 10,
              "solidity": 0.2
             }
            },
            "type": "histogram"
           }
          ],
          "histogram2d": [
           {
            "colorbar": {
             "outlinewidth": 0,
             "ticks": ""
            },
            "colorscale": [
             [
              0,
              "#0d0887"
             ],
             [
              0.1111111111111111,
              "#46039f"
             ],
             [
              0.2222222222222222,
              "#7201a8"
             ],
             [
              0.3333333333333333,
              "#9c179e"
             ],
             [
              0.4444444444444444,
              "#bd3786"
             ],
             [
              0.5555555555555556,
              "#d8576b"
             ],
             [
              0.6666666666666666,
              "#ed7953"
             ],
             [
              0.7777777777777778,
              "#fb9f3a"
             ],
             [
              0.8888888888888888,
              "#fdca26"
             ],
             [
              1,
              "#f0f921"
             ]
            ],
            "type": "histogram2d"
           }
          ],
          "histogram2dcontour": [
           {
            "colorbar": {
             "outlinewidth": 0,
             "ticks": ""
            },
            "colorscale": [
             [
              0,
              "#0d0887"
             ],
             [
              0.1111111111111111,
              "#46039f"
             ],
             [
              0.2222222222222222,
              "#7201a8"
             ],
             [
              0.3333333333333333,
              "#9c179e"
             ],
             [
              0.4444444444444444,
              "#bd3786"
             ],
             [
              0.5555555555555556,
              "#d8576b"
             ],
             [
              0.6666666666666666,
              "#ed7953"
             ],
             [
              0.7777777777777778,
              "#fb9f3a"
             ],
             [
              0.8888888888888888,
              "#fdca26"
             ],
             [
              1,
              "#f0f921"
             ]
            ],
            "type": "histogram2dcontour"
           }
          ],
          "mesh3d": [
           {
            "colorbar": {
             "outlinewidth": 0,
             "ticks": ""
            },
            "type": "mesh3d"
           }
          ],
          "parcoords": [
           {
            "line": {
             "colorbar": {
              "outlinewidth": 0,
              "ticks": ""
             }
            },
            "type": "parcoords"
           }
          ],
          "pie": [
           {
            "automargin": true,
            "type": "pie"
           }
          ],
          "scatter": [
           {
            "fillpattern": {
             "fillmode": "overlay",
             "size": 10,
             "solidity": 0.2
            },
            "type": "scatter"
           }
          ],
          "scatter3d": [
           {
            "line": {
             "colorbar": {
              "outlinewidth": 0,
              "ticks": ""
             }
            },
            "marker": {
             "colorbar": {
              "outlinewidth": 0,
              "ticks": ""
             }
            },
            "type": "scatter3d"
           }
          ],
          "scattercarpet": [
           {
            "marker": {
             "colorbar": {
              "outlinewidth": 0,
              "ticks": ""
             }
            },
            "type": "scattercarpet"
           }
          ],
          "scattergeo": [
           {
            "marker": {
             "colorbar": {
              "outlinewidth": 0,
              "ticks": ""
             }
            },
            "type": "scattergeo"
           }
          ],
          "scattergl": [
           {
            "marker": {
             "colorbar": {
              "outlinewidth": 0,
              "ticks": ""
             }
            },
            "type": "scattergl"
           }
          ],
          "scattermap": [
           {
            "marker": {
             "colorbar": {
              "outlinewidth": 0,
              "ticks": ""
             }
            },
            "type": "scattermap"
           }
          ],
          "scattermapbox": [
           {
            "marker": {
             "colorbar": {
              "outlinewidth": 0,
              "ticks": ""
             }
            },
            "type": "scattermapbox"
           }
          ],
          "scatterpolar": [
           {
            "marker": {
             "colorbar": {
              "outlinewidth": 0,
              "ticks": ""
             }
            },
            "type": "scatterpolar"
           }
          ],
          "scatterpolargl": [
           {
            "marker": {
             "colorbar": {
              "outlinewidth": 0,
              "ticks": ""
             }
            },
            "type": "scatterpolargl"
           }
          ],
          "scatterternary": [
           {
            "marker": {
             "colorbar": {
              "outlinewidth": 0,
              "ticks": ""
             }
            },
            "type": "scatterternary"
           }
          ],
          "surface": [
           {
            "colorbar": {
             "outlinewidth": 0,
             "ticks": ""
            },
            "colorscale": [
             [
              0,
              "#0d0887"
             ],
             [
              0.1111111111111111,
              "#46039f"
             ],
             [
              0.2222222222222222,
              "#7201a8"
             ],
             [
              0.3333333333333333,
              "#9c179e"
             ],
             [
              0.4444444444444444,
              "#bd3786"
             ],
             [
              0.5555555555555556,
              "#d8576b"
             ],
             [
              0.6666666666666666,
              "#ed7953"
             ],
             [
              0.7777777777777778,
              "#fb9f3a"
             ],
             [
              0.8888888888888888,
              "#fdca26"
             ],
             [
              1,
              "#f0f921"
             ]
            ],
            "type": "surface"
           }
          ],
          "table": [
           {
            "cells": {
             "fill": {
              "color": "#EBF0F8"
             },
             "line": {
              "color": "white"
             }
            },
            "header": {
             "fill": {
              "color": "#C8D4E3"
             },
             "line": {
              "color": "white"
             }
            },
            "type": "table"
           }
          ]
         },
         "layout": {
          "annotationdefaults": {
           "arrowcolor": "#2a3f5f",
           "arrowhead": 0,
           "arrowwidth": 1
          },
          "autotypenumbers": "strict",
          "coloraxis": {
           "colorbar": {
            "outlinewidth": 0,
            "ticks": ""
           }
          },
          "colorscale": {
           "diverging": [
            [
             0,
             "#8e0152"
            ],
            [
             0.1,
             "#c51b7d"
            ],
            [
             0.2,
             "#de77ae"
            ],
            [
             0.3,
             "#f1b6da"
            ],
            [
             0.4,
             "#fde0ef"
            ],
            [
             0.5,
             "#f7f7f7"
            ],
            [
             0.6,
             "#e6f5d0"
            ],
            [
             0.7,
             "#b8e186"
            ],
            [
             0.8,
             "#7fbc41"
            ],
            [
             0.9,
             "#4d9221"
            ],
            [
             1,
             "#276419"
            ]
           ],
           "sequential": [
            [
             0,
             "#0d0887"
            ],
            [
             0.1111111111111111,
             "#46039f"
            ],
            [
             0.2222222222222222,
             "#7201a8"
            ],
            [
             0.3333333333333333,
             "#9c179e"
            ],
            [
             0.4444444444444444,
             "#bd3786"
            ],
            [
             0.5555555555555556,
             "#d8576b"
            ],
            [
             0.6666666666666666,
             "#ed7953"
            ],
            [
             0.7777777777777778,
             "#fb9f3a"
            ],
            [
             0.8888888888888888,
             "#fdca26"
            ],
            [
             1,
             "#f0f921"
            ]
           ],
           "sequentialminus": [
            [
             0,
             "#0d0887"
            ],
            [
             0.1111111111111111,
             "#46039f"
            ],
            [
             0.2222222222222222,
             "#7201a8"
            ],
            [
             0.3333333333333333,
             "#9c179e"
            ],
            [
             0.4444444444444444,
             "#bd3786"
            ],
            [
             0.5555555555555556,
             "#d8576b"
            ],
            [
             0.6666666666666666,
             "#ed7953"
            ],
            [
             0.7777777777777778,
             "#fb9f3a"
            ],
            [
             0.8888888888888888,
             "#fdca26"
            ],
            [
             1,
             "#f0f921"
            ]
           ]
          },
          "colorway": [
           "#636efa",
           "#EF553B",
           "#00cc96",
           "#ab63fa",
           "#FFA15A",
           "#19d3f3",
           "#FF6692",
           "#B6E880",
           "#FF97FF",
           "#FECB52"
          ],
          "font": {
           "color": "#2a3f5f"
          },
          "geo": {
           "bgcolor": "white",
           "lakecolor": "white",
           "landcolor": "#E5ECF6",
           "showlakes": true,
           "showland": true,
           "subunitcolor": "white"
          },
          "hoverlabel": {
           "align": "left"
          },
          "hovermode": "closest",
          "mapbox": {
           "style": "light"
          },
          "paper_bgcolor": "white",
          "plot_bgcolor": "#E5ECF6",
          "polar": {
           "angularaxis": {
            "gridcolor": "white",
            "linecolor": "white",
            "ticks": ""
           },
           "bgcolor": "#E5ECF6",
           "radialaxis": {
            "gridcolor": "white",
            "linecolor": "white",
            "ticks": ""
           }
          },
          "scene": {
           "xaxis": {
            "backgroundcolor": "#E5ECF6",
            "gridcolor": "white",
            "gridwidth": 2,
            "linecolor": "white",
            "showbackground": true,
            "ticks": "",
            "zerolinecolor": "white"
           },
           "yaxis": {
            "backgroundcolor": "#E5ECF6",
            "gridcolor": "white",
            "gridwidth": 2,
            "linecolor": "white",
            "showbackground": true,
            "ticks": "",
            "zerolinecolor": "white"
           },
           "zaxis": {
            "backgroundcolor": "#E5ECF6",
            "gridcolor": "white",
            "gridwidth": 2,
            "linecolor": "white",
            "showbackground": true,
            "ticks": "",
            "zerolinecolor": "white"
           }
          },
          "shapedefaults": {
           "line": {
            "color": "#2a3f5f"
           }
          },
          "ternary": {
           "aaxis": {
            "gridcolor": "white",
            "linecolor": "white",
            "ticks": ""
           },
           "baxis": {
            "gridcolor": "white",
            "linecolor": "white",
            "ticks": ""
           },
           "bgcolor": "#E5ECF6",
           "caxis": {
            "gridcolor": "white",
            "linecolor": "white",
            "ticks": ""
           }
          },
          "title": {
           "x": 0.05
          },
          "xaxis": {
           "automargin": true,
           "gridcolor": "white",
           "linecolor": "white",
           "ticks": "",
           "title": {
            "standoff": 15
           },
           "zerolinecolor": "white",
           "zerolinewidth": 2
          },
          "yaxis": {
           "automargin": true,
           "gridcolor": "white",
           "linecolor": "white",
           "ticks": "",
           "title": {
            "standoff": 15
           },
           "zerolinecolor": "white",
           "zerolinewidth": 2
          }
         }
        },
        "title": {
         "text": "Comparação CO₂ - RM1 - Velocidade constante - GASOLINE"
        },
        "xaxis": {
         "title": {
          "text": "Amostras"
         }
        },
        "yaxis": {
         "title": {
          "text": "CO₂ (g/s)"
         }
        }
       }
      }
     },
     "metadata": {},
     "output_type": "display_data"
    },
    {
     "name": "stdout",
     "output_type": "stream",
     "text": [
      "\n",
      "🔁 RM2 - Latitude e Longitude constantes (ETHANOL)\n",
      "Diferença Média: 0.3162 | Diferença Máxima: 2.3747 | Erro Quadrático Médio (RMSE): 0.5145 | Desvio Padrão (Std): 0.4059\n"
     ]
    },
    {
     "data": {
      "text/html": [
       "<style type=\"text/css\">\n",
       "</style>\n",
       "<table id=\"T_863dc\">\n",
       "  <caption>Comparação dos dados originais e modificados - RM2 - Latitude e Longitude constantes (ETHANOL)</caption>\n",
       "  <thead>\n",
       "    <tr>\n",
       "      <th class=\"blank level0\" >&nbsp;</th>\n",
       "      <th id=\"T_863dc_level0_col0\" class=\"col_heading level0 col0\" >Latitude_Orig</th>\n",
       "      <th id=\"T_863dc_level0_col1\" class=\"col_heading level0 col1\" >Longitude_Orig</th>\n",
       "      <th id=\"T_863dc_level0_col2\" class=\"col_heading level0 col2\" >Speed(OBD)(km/h)_Orig</th>\n",
       "      <th id=\"T_863dc_level0_col3\" class=\"col_heading level0 col3\" >Acceleration_Orig</th>\n",
       "      <th id=\"T_863dc_level0_col4\" class=\"col_heading level0 col4\" > </th>\n",
       "      <th id=\"T_863dc_level0_col5\" class=\"col_heading level0 col5\" >Latitude_Mod</th>\n",
       "      <th id=\"T_863dc_level0_col6\" class=\"col_heading level0 col6\" >Longitude_Mod</th>\n",
       "      <th id=\"T_863dc_level0_col7\" class=\"col_heading level0 col7\" >Speed(OBD)(km/h)_Mod</th>\n",
       "      <th id=\"T_863dc_level0_col8\" class=\"col_heading level0 col8\" >Acceleration_Mod</th>\n",
       "      <th id=\"T_863dc_level0_col9\" class=\"col_heading level0 col9\" > </th>\n",
       "      <th id=\"T_863dc_level0_col10\" class=\"col_heading level0 col10\" >CO₂_Real</th>\n",
       "      <th id=\"T_863dc_level0_col11\" class=\"col_heading level0 col11\" >CO₂_Orig</th>\n",
       "      <th id=\"T_863dc_level0_col12\" class=\"col_heading level0 col12\" >CO₂_Mod</th>\n",
       "    </tr>\n",
       "  </thead>\n",
       "  <tbody>\n",
       "    <tr>\n",
       "      <th id=\"T_863dc_level0_row0\" class=\"row_heading level0 row0\" >0</th>\n",
       "      <td id=\"T_863dc_row0_col0\" class=\"data row0 col0\" >-5.820105</td>\n",
       "      <td id=\"T_863dc_row0_col1\" class=\"data row0 col1\" >-35.220818</td>\n",
       "      <td id=\"T_863dc_row0_col2\" class=\"data row0 col2\" >3</td>\n",
       "      <td id=\"T_863dc_row0_col3\" class=\"data row0 col3\" >0.000000</td>\n",
       "      <td id=\"T_863dc_row0_col4\" class=\"data row0 col4\" >→</td>\n",
       "      <td id=\"T_863dc_row0_col5\" class=\"data row0 col5\" >-5.809027</td>\n",
       "      <td id=\"T_863dc_row0_col6\" class=\"data row0 col6\" >-35.207955</td>\n",
       "      <td id=\"T_863dc_row0_col7\" class=\"data row0 col7\" >3</td>\n",
       "      <td id=\"T_863dc_row0_col8\" class=\"data row0 col8\" >0.000000</td>\n",
       "      <td id=\"T_863dc_row0_col9\" class=\"data row0 col9\" > </td>\n",
       "      <td id=\"T_863dc_row0_col10\" class=\"data row0 col10\" >0.642839</td>\n",
       "      <td id=\"T_863dc_row0_col11\" class=\"data row0 col11\" >0.742631</td>\n",
       "      <td id=\"T_863dc_row0_col12\" class=\"data row0 col12\" >0.781108</td>\n",
       "    </tr>\n",
       "    <tr>\n",
       "      <th id=\"T_863dc_level0_row1\" class=\"row_heading level0 row1\" >1</th>\n",
       "      <td id=\"T_863dc_row1_col0\" class=\"data row1 col0\" >-5.820103</td>\n",
       "      <td id=\"T_863dc_row1_col1\" class=\"data row1 col1\" >-35.220828</td>\n",
       "      <td id=\"T_863dc_row1_col2\" class=\"data row1 col2\" >5</td>\n",
       "      <td id=\"T_863dc_row1_col3\" class=\"data row1 col3\" >0.555556</td>\n",
       "      <td id=\"T_863dc_row1_col4\" class=\"data row1 col4\" >→</td>\n",
       "      <td id=\"T_863dc_row1_col5\" class=\"data row1 col5\" >-5.809027</td>\n",
       "      <td id=\"T_863dc_row1_col6\" class=\"data row1 col6\" >-35.207955</td>\n",
       "      <td id=\"T_863dc_row1_col7\" class=\"data row1 col7\" >5</td>\n",
       "      <td id=\"T_863dc_row1_col8\" class=\"data row1 col8\" >0.555556</td>\n",
       "      <td id=\"T_863dc_row1_col9\" class=\"data row1 col9\" > </td>\n",
       "      <td id=\"T_863dc_row1_col10\" class=\"data row1 col10\" >0.653249</td>\n",
       "      <td id=\"T_863dc_row1_col11\" class=\"data row1 col11\" >0.771505</td>\n",
       "      <td id=\"T_863dc_row1_col12\" class=\"data row1 col12\" >1.122664</td>\n",
       "    </tr>\n",
       "    <tr>\n",
       "      <th id=\"T_863dc_level0_row2\" class=\"row_heading level0 row2\" >2</th>\n",
       "      <td id=\"T_863dc_row2_col0\" class=\"data row2 col0\" >-5.820102</td>\n",
       "      <td id=\"T_863dc_row2_col1\" class=\"data row2 col1\" >-35.220838</td>\n",
       "      <td id=\"T_863dc_row2_col2\" class=\"data row2 col2\" >5</td>\n",
       "      <td id=\"T_863dc_row2_col3\" class=\"data row2 col3\" >0.000000</td>\n",
       "      <td id=\"T_863dc_row2_col4\" class=\"data row2 col4\" >→</td>\n",
       "      <td id=\"T_863dc_row2_col5\" class=\"data row2 col5\" >-5.809027</td>\n",
       "      <td id=\"T_863dc_row2_col6\" class=\"data row2 col6\" >-35.207955</td>\n",
       "      <td id=\"T_863dc_row2_col7\" class=\"data row2 col7\" >5</td>\n",
       "      <td id=\"T_863dc_row2_col8\" class=\"data row2 col8\" >0.000000</td>\n",
       "      <td id=\"T_863dc_row2_col9\" class=\"data row2 col9\" > </td>\n",
       "      <td id=\"T_863dc_row2_col10\" class=\"data row2 col10\" >0.653249</td>\n",
       "      <td id=\"T_863dc_row2_col11\" class=\"data row2 col11\" >0.771505</td>\n",
       "      <td id=\"T_863dc_row2_col12\" class=\"data row2 col12\" >1.122664</td>\n",
       "    </tr>\n",
       "    <tr>\n",
       "      <th id=\"T_863dc_level0_row3\" class=\"row_heading level0 row3\" >3</th>\n",
       "      <td id=\"T_863dc_row3_col0\" class=\"data row3 col0\" >-5.820096</td>\n",
       "      <td id=\"T_863dc_row3_col1\" class=\"data row3 col1\" >-35.220843</td>\n",
       "      <td id=\"T_863dc_row3_col2\" class=\"data row3 col2\" >3</td>\n",
       "      <td id=\"T_863dc_row3_col3\" class=\"data row3 col3\" >-0.555556</td>\n",
       "      <td id=\"T_863dc_row3_col4\" class=\"data row3 col4\" >→</td>\n",
       "      <td id=\"T_863dc_row3_col5\" class=\"data row3 col5\" >-5.809027</td>\n",
       "      <td id=\"T_863dc_row3_col6\" class=\"data row3 col6\" >-35.207955</td>\n",
       "      <td id=\"T_863dc_row3_col7\" class=\"data row3 col7\" >3</td>\n",
       "      <td id=\"T_863dc_row3_col8\" class=\"data row3 col8\" >-0.555556</td>\n",
       "      <td id=\"T_863dc_row3_col9\" class=\"data row3 col9\" > </td>\n",
       "      <td id=\"T_863dc_row3_col10\" class=\"data row3 col10\" >0.679275</td>\n",
       "      <td id=\"T_863dc_row3_col11\" class=\"data row3 col11\" >0.659013</td>\n",
       "      <td id=\"T_863dc_row3_col12\" class=\"data row3 col12\" >0.546691</td>\n",
       "    </tr>\n",
       "    <tr>\n",
       "      <th id=\"T_863dc_level0_row4\" class=\"row_heading level0 row4\" >4</th>\n",
       "      <td id=\"T_863dc_row4_col0\" class=\"data row4 col0\" >-5.820091</td>\n",
       "      <td id=\"T_863dc_row4_col1\" class=\"data row4 col1\" >-35.220850</td>\n",
       "      <td id=\"T_863dc_row4_col2\" class=\"data row4 col2\" >0</td>\n",
       "      <td id=\"T_863dc_row4_col3\" class=\"data row4 col3\" >-0.833333</td>\n",
       "      <td id=\"T_863dc_row4_col4\" class=\"data row4 col4\" >→</td>\n",
       "      <td id=\"T_863dc_row4_col5\" class=\"data row4 col5\" >-5.809027</td>\n",
       "      <td id=\"T_863dc_row4_col6\" class=\"data row4 col6\" >-35.207955</td>\n",
       "      <td id=\"T_863dc_row4_col7\" class=\"data row4 col7\" >0</td>\n",
       "      <td id=\"T_863dc_row4_col8\" class=\"data row4 col8\" >-0.833333</td>\n",
       "      <td id=\"T_863dc_row4_col9\" class=\"data row4 col9\" > </td>\n",
       "      <td id=\"T_863dc_row4_col10\" class=\"data row4 col10\" >0.610306</td>\n",
       "      <td id=\"T_863dc_row4_col11\" class=\"data row4 col11\" >0.667689</td>\n",
       "      <td id=\"T_863dc_row4_col12\" class=\"data row4 col12\" >0.462394</td>\n",
       "    </tr>\n",
       "    <tr>\n",
       "      <th id=\"T_863dc_level0_row5\" class=\"row_heading level0 row5\" >5</th>\n",
       "      <td id=\"T_863dc_row5_col0\" class=\"data row5 col0\" >-5.820091</td>\n",
       "      <td id=\"T_863dc_row5_col1\" class=\"data row5 col1\" >-35.220850</td>\n",
       "      <td id=\"T_863dc_row5_col2\" class=\"data row5 col2\" >0</td>\n",
       "      <td id=\"T_863dc_row5_col3\" class=\"data row5 col3\" >0.000000</td>\n",
       "      <td id=\"T_863dc_row5_col4\" class=\"data row5 col4\" >→</td>\n",
       "      <td id=\"T_863dc_row5_col5\" class=\"data row5 col5\" >-5.809027</td>\n",
       "      <td id=\"T_863dc_row5_col6\" class=\"data row5 col6\" >-35.207955</td>\n",
       "      <td id=\"T_863dc_row5_col7\" class=\"data row5 col7\" >0</td>\n",
       "      <td id=\"T_863dc_row5_col8\" class=\"data row5 col8\" >0.000000</td>\n",
       "      <td id=\"T_863dc_row5_col9\" class=\"data row5 col9\" > </td>\n",
       "      <td id=\"T_863dc_row5_col10\" class=\"data row5 col10\" >0.610306</td>\n",
       "      <td id=\"T_863dc_row5_col11\" class=\"data row5 col11\" >0.706858</td>\n",
       "      <td id=\"T_863dc_row5_col12\" class=\"data row5 col12\" >0.461814</td>\n",
       "    </tr>\n",
       "    <tr>\n",
       "      <th id=\"T_863dc_level0_row6\" class=\"row_heading level0 row6\" >6</th>\n",
       "      <td id=\"T_863dc_row6_col0\" class=\"data row6 col0\" >-5.820091</td>\n",
       "      <td id=\"T_863dc_row6_col1\" class=\"data row6 col1\" >-35.220850</td>\n",
       "      <td id=\"T_863dc_row6_col2\" class=\"data row6 col2\" >0</td>\n",
       "      <td id=\"T_863dc_row6_col3\" class=\"data row6 col3\" >0.000000</td>\n",
       "      <td id=\"T_863dc_row6_col4\" class=\"data row6 col4\" >→</td>\n",
       "      <td id=\"T_863dc_row6_col5\" class=\"data row6 col5\" >-5.809027</td>\n",
       "      <td id=\"T_863dc_row6_col6\" class=\"data row6 col6\" >-35.207955</td>\n",
       "      <td id=\"T_863dc_row6_col7\" class=\"data row6 col7\" >0</td>\n",
       "      <td id=\"T_863dc_row6_col8\" class=\"data row6 col8\" >0.000000</td>\n",
       "      <td id=\"T_863dc_row6_col9\" class=\"data row6 col9\" > </td>\n",
       "      <td id=\"T_863dc_row6_col10\" class=\"data row6 col10\" >0.490587</td>\n",
       "      <td id=\"T_863dc_row6_col11\" class=\"data row6 col11\" >0.706858</td>\n",
       "      <td id=\"T_863dc_row6_col12\" class=\"data row6 col12\" >0.461814</td>\n",
       "    </tr>\n",
       "    <tr>\n",
       "      <th id=\"T_863dc_level0_row7\" class=\"row_heading level0 row7\" >7</th>\n",
       "      <td id=\"T_863dc_row7_col0\" class=\"data row7 col0\" >-5.820085</td>\n",
       "      <td id=\"T_863dc_row7_col1\" class=\"data row7 col1\" >-35.220856</td>\n",
       "      <td id=\"T_863dc_row7_col2\" class=\"data row7 col2\" >3</td>\n",
       "      <td id=\"T_863dc_row7_col3\" class=\"data row7 col3\" >0.833333</td>\n",
       "      <td id=\"T_863dc_row7_col4\" class=\"data row7 col4\" >→</td>\n",
       "      <td id=\"T_863dc_row7_col5\" class=\"data row7 col5\" >-5.809027</td>\n",
       "      <td id=\"T_863dc_row7_col6\" class=\"data row7 col6\" >-35.207955</td>\n",
       "      <td id=\"T_863dc_row7_col7\" class=\"data row7 col7\" >3</td>\n",
       "      <td id=\"T_863dc_row7_col8\" class=\"data row7 col8\" >0.833333</td>\n",
       "      <td id=\"T_863dc_row7_col9\" class=\"data row7 col9\" > </td>\n",
       "      <td id=\"T_863dc_row7_col10\" class=\"data row7 col10\" >1.090483</td>\n",
       "      <td id=\"T_863dc_row7_col11\" class=\"data row7 col11\" >1.137803</td>\n",
       "      <td id=\"T_863dc_row7_col12\" class=\"data row7 col12\" >0.781108</td>\n",
       "    </tr>\n",
       "    <tr>\n",
       "      <th id=\"T_863dc_level0_row8\" class=\"row_heading level0 row8\" >8</th>\n",
       "      <td id=\"T_863dc_row8_col0\" class=\"data row8 col0\" >-5.820074</td>\n",
       "      <td id=\"T_863dc_row8_col1\" class=\"data row8 col1\" >-35.220859</td>\n",
       "      <td id=\"T_863dc_row8_col2\" class=\"data row8 col2\" >3</td>\n",
       "      <td id=\"T_863dc_row8_col3\" class=\"data row8 col3\" >0.000000</td>\n",
       "      <td id=\"T_863dc_row8_col4\" class=\"data row8 col4\" >→</td>\n",
       "      <td id=\"T_863dc_row8_col5\" class=\"data row8 col5\" >-5.809027</td>\n",
       "      <td id=\"T_863dc_row8_col6\" class=\"data row8 col6\" >-35.207955</td>\n",
       "      <td id=\"T_863dc_row8_col7\" class=\"data row8 col7\" >3</td>\n",
       "      <td id=\"T_863dc_row8_col8\" class=\"data row8 col8\" >0.000000</td>\n",
       "      <td id=\"T_863dc_row8_col9\" class=\"data row8 col9\" > </td>\n",
       "      <td id=\"T_863dc_row8_col10\" class=\"data row8 col10\" >1.090483</td>\n",
       "      <td id=\"T_863dc_row8_col11\" class=\"data row8 col11\" >1.137803</td>\n",
       "      <td id=\"T_863dc_row8_col12\" class=\"data row8 col12\" >0.781108</td>\n",
       "    </tr>\n",
       "    <tr>\n",
       "      <th id=\"T_863dc_level0_row9\" class=\"row_heading level0 row9\" >9</th>\n",
       "      <td id=\"T_863dc_row9_col0\" class=\"data row9 col0\" >-5.820064</td>\n",
       "      <td id=\"T_863dc_row9_col1\" class=\"data row9 col1\" >-35.220858</td>\n",
       "      <td id=\"T_863dc_row9_col2\" class=\"data row9 col2\" >3</td>\n",
       "      <td id=\"T_863dc_row9_col3\" class=\"data row9 col3\" >0.000000</td>\n",
       "      <td id=\"T_863dc_row9_col4\" class=\"data row9 col4\" >→</td>\n",
       "      <td id=\"T_863dc_row9_col5\" class=\"data row9 col5\" >-5.809027</td>\n",
       "      <td id=\"T_863dc_row9_col6\" class=\"data row9 col6\" >-35.207955</td>\n",
       "      <td id=\"T_863dc_row9_col7\" class=\"data row9 col7\" >3</td>\n",
       "      <td id=\"T_863dc_row9_col8\" class=\"data row9 col8\" >0.000000</td>\n",
       "      <td id=\"T_863dc_row9_col9\" class=\"data row9 col9\" > </td>\n",
       "      <td id=\"T_863dc_row9_col10\" class=\"data row9 col10\" >0.921315</td>\n",
       "      <td id=\"T_863dc_row9_col11\" class=\"data row9 col11\" >1.137803</td>\n",
       "      <td id=\"T_863dc_row9_col12\" class=\"data row9 col12\" >0.781108</td>\n",
       "    </tr>\n",
       "  </tbody>\n",
       "</table>\n"
      ],
      "text/plain": [
       "<pandas.io.formats.style.Styler at 0x20ef27baa90>"
      ]
     },
     "metadata": {},
     "output_type": "display_data"
    },
    {
     "data": {
      "application/vnd.plotly.v1+json": {
       "config": {
        "plotlyServerURL": "https://plot.ly"
       },
       "data": [
        {
         "line": {
          "color": "green",
          "dash": "dot"
         },
         "mode": "lines",
         "name": "Real",
         "type": "scatter",
         "y": {
          "bdata": "Xv2WDSKS5D+bk2QeaufkP5uTZB5q5+Q/NotmSJ685T/ehxTZoIfjP96HFNmgh+M/M5CwL8hl3z/dnA9wnnLxP92cD3CecvE/T3ASz2l77T+UX3iidnLyPz8yMAV+Z/Q/PzIwBX5n9D8ti7UITBb8PzhhcBqj5vk/KSOOULfS8D8pI45Qt9LwP7us/CApG+8/cjYv8OP84z+t9vIuJyjgP6328i4nKOA/geLz0z/39T+rgxXuOvLzP6uDFe468vM/mb1aTGW9AEB0UCWuXTcFQJNSfcM51QFAk1J9wznVAUDU4Eocwdz0P40G4N+x0N0/MaWrxsVQ3T+Gb8fSpWfjP4Zvx9KlZ+M/RJASr2yy4j+u4feXKT3iPxtsE+QD5v0/G2wT5APm/T9xVW+Vh+D+P/WBu/ZpMek/9YG79mkx6T8EcmzGOjzYP6VZboDtdf4/WOugB2mlAEBY66AHaaUAQFcs1yJHEfo/jF/HYiTM+D+vRCQpQjH6P69EJClCMfo/IlLOZdxR9j8U6vVt9WfxP9L1RbO+x/I/0vVFs77H8j9JPCZTdgbrPy3PofTAJtk/Lc+h9MAm2T83dmuxoNHXP5m9WkxlveA/wxqQeuun4T/DGpB666fhPy5sdWOoMgFAN3ZrsaDRB0CTtalUUskJQJO1qVRSyQlAUQXmhZA5CECzrwGybRkJQLOvAbJtGQlAadNRH3liAkDxyvHJCOv/P/HK8ckI6/8/ZYpqDIgCAkDcITJ38e4HQFhbyHe+Nvk/WFvId742+T+BiQxRzfvaP+KMDwAd1/Y/4owPAB3X9j9nuVth/yfxP4GJDFHN+9o/VyzXIkcR2j9XLNciRxHKPzhhcBqj5sk/mb1aTGW90D+rqr6oeQbiPxTJ619+uOE/cloUOF8j9z+cBUVJAVwCQO7F9qKMm/w/7sX2ooyb/D8XwP8/+pH1Py66pl3DO9s/YtOg3ya82D8GXXEvPVHKPwZdcS89Uco/3P87AbdmyT8zkLAvyGXPPxdp8ttk2OI/F2ny22TY4j/s9fsW3vTiP/4o4Wa23vY/g+DZ9mxa+z8=",
          "dtype": "f8"
         }
        },
        {
         "line": {
          "color": "blue",
          "dash": "dash"
         },
         "mode": "lines",
         "name": "Predição Original",
         "type": "scatter",
         "y": {
          "bdata": "A1nGMaLD5z/rGxZ+K7DoP+sbFn4rsOg/ZNKEuKEW5T8gJJx1tV3lP1qolBeUnuY/WqiUF5Se5j8vN5pfcTTyPy83ml9xNPI/LzeaX3E08j8LUj4DVmv0P2cHXp66ovQ/lajUrwhy8z8ERxYOSyj4P0gf5HQeCfI/if7LZHnq7z8XHaiiCV3vP6Btm6JJmew/vGW1En/65z9MP1pTWq7wP/J2f86FGvA/Rx/yOxHc8D9HH/I7EdzwP0cf8jsR3PA/Wi2PK9ct9T99iPbmwzv1P+s7h6uSvvI/jlifB2hB+z/KAreWPx7tP2CGcv2h3+w/DE1YhnUh4z+r91rqETzvPzST+4nO/eQ/tcGbWjP25j8r0X6ZskrsPzXVexnn+PI/jsX9rHxr8z+YODlE2Q7zPxrw1xsMw+0/6+G9lxVx7T+VLCu5vQ3pP5kI65KAuvA/xV7vM9nJ8j+3rXXsTRn+P7nipTU15fQ/Ahig1qK48j97HMyYL2j0P61VsDSbgfU/gKXeX7rt9D8lL/FG5m/yP1D9sJ1ASPI/ONgUq37H8z/SblJX33btP6Pvp4KhC+M/A1unplDL5j/tVn03pGviP09EUKldGOg/RjLkVnwe6D+bSQJT7m7oP/kNtZK+Z+k/BO79CuHa9z9uhs6rFD4AQDSsx4gppPs/JoJSHH6Y9j8b5eo1rb34P7wp1TtfOgFA605wkeGE9z+CQHPA6Nf7P96W8dRj7vo/77f/lcKE+T8/0HaFb3j5P0ixId0VM/o/2QaTrAQF9T89ims167HjP+Roiw7ssfA/N+aifBlj8D+LMRVBlGrvP6CylwUtpOE/UCAMIn9U4D86TWpu5ebtP5PEfPDbnN0/8ql5Nfn/4D83OrmjNxvhP9ETGcqqqOg/TEBpKYVw9j/5y4EaW9T4P6g7DuceO/U/scgFb/N/8D+73vRQdeXuP5DaSmyYQ+A/1hTHV/j+2j9wnnVfpazbPzJoid+r2eU/KlRdoNof2z8xuA2DPjffP3qotC6cE+Y/eqi0LpwT5j96qLQunBPmPwHia4Ko5fc/29W9hKHm9z8=",
          "dtype": "f8"
         }
        },
        {
         "line": {
          "color": "red"
         },
         "mode": "lines",
         "name": "Predição com RM",
         "type": "scatter",
         "y": {
          "bdata": "CdlCN9b+6D8Ww1b+bvbxPxbDVv5u9vE/qTpIC39+4T/9aUp+3pfdP9B5Qplajt0/0HlCmVqO3T8J2UI31v7oPwnZQjfW/ug/CdlCN9b+6D/kyqcvYwHpP+TKpy9jAek/RRIoyjwr5D9YzBQlu1jsP4Td8B9sOuk/R7sKqgSn7T9HuwqqBKftP0e7CqoEp+0/gOsr0Q+N5j93xrNNat/uP6X0nub93+M/cLOGfKaM6z9ws4Z8pozrP3CzhnymjOs/RrIa4tle6T9yvnG4XW7lP9sM4k92tuI/wRLJsNlz6T/hI39iTADsP9xNU9tcfes/nS2rrVK73j8eM4OoqufoPzQuvMljeuM/gNXPLa4n5T+JvEtWUuTiP4X5U05e2+4/8Vs3b6cF5T/aWwsX92PpPykCa2Hv/+8//v4oG48A7z+JvEtWUuTiP4X5U05e2+4/hN3wH2w66T9HuwqqBKftPwKQykxCUOQ/jffXDSGh4j8eM4OoqufoP+KTw49oy+4/DrBfH2k77j+IX+tXmxfsP9l8x9I+lOs/2XzH0j6U6z/ZfMfSPpTrP5MJBCT7K+E/3E1T21x96z+KUKIXzFfhP4m8S1ZS5OI/Hlr/7XvJ6j8Ww1b+bvbxP0Y3cbgiLew/CaHFeV4a7D9A92Q0P47uP8wc3QSWJ+c/jffXDSGh4j/BqiPDU8nnP9l8x9I+lOs/du8RuCca3z+rudmYQ7PlP972sNerbuY/gQPX/oL55D/I5p6FSRbjP/uct7t3KuI/ZqNGBdCt3z+Tf6umrPraP/LnAo3G2OE/8ucCjcbY4T/UVmpL6SjiP5N/q6as+to/MqjGP/F12z9WBI8qqXXoPzdrqZOZYOE/kwkEJPsr4T+dLautUrvePx4zg6iq5+g/HjODqKrn6D/ik8OPaMvuP6vAhnc3ZeQ/VgSPKql16D/HBqjXCcDfPx41MonA5t0/9M0KaNLt4T8bSpenyTfbP3+Nlh+KF+o/BGc9Z9XG3j83pzEFxiLmP0D3ZDQ/ju4/QPdkND+O7j9A92Q0P47uPxnxrVHcaO4/R7sKqgSn7T8=",
          "dtype": "f8"
         }
        }
       ],
       "layout": {
        "template": {
         "data": {
          "bar": [
           {
            "error_x": {
             "color": "#2a3f5f"
            },
            "error_y": {
             "color": "#2a3f5f"
            },
            "marker": {
             "line": {
              "color": "#E5ECF6",
              "width": 0.5
             },
             "pattern": {
              "fillmode": "overlay",
              "size": 10,
              "solidity": 0.2
             }
            },
            "type": "bar"
           }
          ],
          "barpolar": [
           {
            "marker": {
             "line": {
              "color": "#E5ECF6",
              "width": 0.5
             },
             "pattern": {
              "fillmode": "overlay",
              "size": 10,
              "solidity": 0.2
             }
            },
            "type": "barpolar"
           }
          ],
          "carpet": [
           {
            "aaxis": {
             "endlinecolor": "#2a3f5f",
             "gridcolor": "white",
             "linecolor": "white",
             "minorgridcolor": "white",
             "startlinecolor": "#2a3f5f"
            },
            "baxis": {
             "endlinecolor": "#2a3f5f",
             "gridcolor": "white",
             "linecolor": "white",
             "minorgridcolor": "white",
             "startlinecolor": "#2a3f5f"
            },
            "type": "carpet"
           }
          ],
          "choropleth": [
           {
            "colorbar": {
             "outlinewidth": 0,
             "ticks": ""
            },
            "type": "choropleth"
           }
          ],
          "contour": [
           {
            "colorbar": {
             "outlinewidth": 0,
             "ticks": ""
            },
            "colorscale": [
             [
              0,
              "#0d0887"
             ],
             [
              0.1111111111111111,
              "#46039f"
             ],
             [
              0.2222222222222222,
              "#7201a8"
             ],
             [
              0.3333333333333333,
              "#9c179e"
             ],
             [
              0.4444444444444444,
              "#bd3786"
             ],
             [
              0.5555555555555556,
              "#d8576b"
             ],
             [
              0.6666666666666666,
              "#ed7953"
             ],
             [
              0.7777777777777778,
              "#fb9f3a"
             ],
             [
              0.8888888888888888,
              "#fdca26"
             ],
             [
              1,
              "#f0f921"
             ]
            ],
            "type": "contour"
           }
          ],
          "contourcarpet": [
           {
            "colorbar": {
             "outlinewidth": 0,
             "ticks": ""
            },
            "type": "contourcarpet"
           }
          ],
          "heatmap": [
           {
            "colorbar": {
             "outlinewidth": 0,
             "ticks": ""
            },
            "colorscale": [
             [
              0,
              "#0d0887"
             ],
             [
              0.1111111111111111,
              "#46039f"
             ],
             [
              0.2222222222222222,
              "#7201a8"
             ],
             [
              0.3333333333333333,
              "#9c179e"
             ],
             [
              0.4444444444444444,
              "#bd3786"
             ],
             [
              0.5555555555555556,
              "#d8576b"
             ],
             [
              0.6666666666666666,
              "#ed7953"
             ],
             [
              0.7777777777777778,
              "#fb9f3a"
             ],
             [
              0.8888888888888888,
              "#fdca26"
             ],
             [
              1,
              "#f0f921"
             ]
            ],
            "type": "heatmap"
           }
          ],
          "histogram": [
           {
            "marker": {
             "pattern": {
              "fillmode": "overlay",
              "size": 10,
              "solidity": 0.2
             }
            },
            "type": "histogram"
           }
          ],
          "histogram2d": [
           {
            "colorbar": {
             "outlinewidth": 0,
             "ticks": ""
            },
            "colorscale": [
             [
              0,
              "#0d0887"
             ],
             [
              0.1111111111111111,
              "#46039f"
             ],
             [
              0.2222222222222222,
              "#7201a8"
             ],
             [
              0.3333333333333333,
              "#9c179e"
             ],
             [
              0.4444444444444444,
              "#bd3786"
             ],
             [
              0.5555555555555556,
              "#d8576b"
             ],
             [
              0.6666666666666666,
              "#ed7953"
             ],
             [
              0.7777777777777778,
              "#fb9f3a"
             ],
             [
              0.8888888888888888,
              "#fdca26"
             ],
             [
              1,
              "#f0f921"
             ]
            ],
            "type": "histogram2d"
           }
          ],
          "histogram2dcontour": [
           {
            "colorbar": {
             "outlinewidth": 0,
             "ticks": ""
            },
            "colorscale": [
             [
              0,
              "#0d0887"
             ],
             [
              0.1111111111111111,
              "#46039f"
             ],
             [
              0.2222222222222222,
              "#7201a8"
             ],
             [
              0.3333333333333333,
              "#9c179e"
             ],
             [
              0.4444444444444444,
              "#bd3786"
             ],
             [
              0.5555555555555556,
              "#d8576b"
             ],
             [
              0.6666666666666666,
              "#ed7953"
             ],
             [
              0.7777777777777778,
              "#fb9f3a"
             ],
             [
              0.8888888888888888,
              "#fdca26"
             ],
             [
              1,
              "#f0f921"
             ]
            ],
            "type": "histogram2dcontour"
           }
          ],
          "mesh3d": [
           {
            "colorbar": {
             "outlinewidth": 0,
             "ticks": ""
            },
            "type": "mesh3d"
           }
          ],
          "parcoords": [
           {
            "line": {
             "colorbar": {
              "outlinewidth": 0,
              "ticks": ""
             }
            },
            "type": "parcoords"
           }
          ],
          "pie": [
           {
            "automargin": true,
            "type": "pie"
           }
          ],
          "scatter": [
           {
            "fillpattern": {
             "fillmode": "overlay",
             "size": 10,
             "solidity": 0.2
            },
            "type": "scatter"
           }
          ],
          "scatter3d": [
           {
            "line": {
             "colorbar": {
              "outlinewidth": 0,
              "ticks": ""
             }
            },
            "marker": {
             "colorbar": {
              "outlinewidth": 0,
              "ticks": ""
             }
            },
            "type": "scatter3d"
           }
          ],
          "scattercarpet": [
           {
            "marker": {
             "colorbar": {
              "outlinewidth": 0,
              "ticks": ""
             }
            },
            "type": "scattercarpet"
           }
          ],
          "scattergeo": [
           {
            "marker": {
             "colorbar": {
              "outlinewidth": 0,
              "ticks": ""
             }
            },
            "type": "scattergeo"
           }
          ],
          "scattergl": [
           {
            "marker": {
             "colorbar": {
              "outlinewidth": 0,
              "ticks": ""
             }
            },
            "type": "scattergl"
           }
          ],
          "scattermap": [
           {
            "marker": {
             "colorbar": {
              "outlinewidth": 0,
              "ticks": ""
             }
            },
            "type": "scattermap"
           }
          ],
          "scattermapbox": [
           {
            "marker": {
             "colorbar": {
              "outlinewidth": 0,
              "ticks": ""
             }
            },
            "type": "scattermapbox"
           }
          ],
          "scatterpolar": [
           {
            "marker": {
             "colorbar": {
              "outlinewidth": 0,
              "ticks": ""
             }
            },
            "type": "scatterpolar"
           }
          ],
          "scatterpolargl": [
           {
            "marker": {
             "colorbar": {
              "outlinewidth": 0,
              "ticks": ""
             }
            },
            "type": "scatterpolargl"
           }
          ],
          "scatterternary": [
           {
            "marker": {
             "colorbar": {
              "outlinewidth": 0,
              "ticks": ""
             }
            },
            "type": "scatterternary"
           }
          ],
          "surface": [
           {
            "colorbar": {
             "outlinewidth": 0,
             "ticks": ""
            },
            "colorscale": [
             [
              0,
              "#0d0887"
             ],
             [
              0.1111111111111111,
              "#46039f"
             ],
             [
              0.2222222222222222,
              "#7201a8"
             ],
             [
              0.3333333333333333,
              "#9c179e"
             ],
             [
              0.4444444444444444,
              "#bd3786"
             ],
             [
              0.5555555555555556,
              "#d8576b"
             ],
             [
              0.6666666666666666,
              "#ed7953"
             ],
             [
              0.7777777777777778,
              "#fb9f3a"
             ],
             [
              0.8888888888888888,
              "#fdca26"
             ],
             [
              1,
              "#f0f921"
             ]
            ],
            "type": "surface"
           }
          ],
          "table": [
           {
            "cells": {
             "fill": {
              "color": "#EBF0F8"
             },
             "line": {
              "color": "white"
             }
            },
            "header": {
             "fill": {
              "color": "#C8D4E3"
             },
             "line": {
              "color": "white"
             }
            },
            "type": "table"
           }
          ]
         },
         "layout": {
          "annotationdefaults": {
           "arrowcolor": "#2a3f5f",
           "arrowhead": 0,
           "arrowwidth": 1
          },
          "autotypenumbers": "strict",
          "coloraxis": {
           "colorbar": {
            "outlinewidth": 0,
            "ticks": ""
           }
          },
          "colorscale": {
           "diverging": [
            [
             0,
             "#8e0152"
            ],
            [
             0.1,
             "#c51b7d"
            ],
            [
             0.2,
             "#de77ae"
            ],
            [
             0.3,
             "#f1b6da"
            ],
            [
             0.4,
             "#fde0ef"
            ],
            [
             0.5,
             "#f7f7f7"
            ],
            [
             0.6,
             "#e6f5d0"
            ],
            [
             0.7,
             "#b8e186"
            ],
            [
             0.8,
             "#7fbc41"
            ],
            [
             0.9,
             "#4d9221"
            ],
            [
             1,
             "#276419"
            ]
           ],
           "sequential": [
            [
             0,
             "#0d0887"
            ],
            [
             0.1111111111111111,
             "#46039f"
            ],
            [
             0.2222222222222222,
             "#7201a8"
            ],
            [
             0.3333333333333333,
             "#9c179e"
            ],
            [
             0.4444444444444444,
             "#bd3786"
            ],
            [
             0.5555555555555556,
             "#d8576b"
            ],
            [
             0.6666666666666666,
             "#ed7953"
            ],
            [
             0.7777777777777778,
             "#fb9f3a"
            ],
            [
             0.8888888888888888,
             "#fdca26"
            ],
            [
             1,
             "#f0f921"
            ]
           ],
           "sequentialminus": [
            [
             0,
             "#0d0887"
            ],
            [
             0.1111111111111111,
             "#46039f"
            ],
            [
             0.2222222222222222,
             "#7201a8"
            ],
            [
             0.3333333333333333,
             "#9c179e"
            ],
            [
             0.4444444444444444,
             "#bd3786"
            ],
            [
             0.5555555555555556,
             "#d8576b"
            ],
            [
             0.6666666666666666,
             "#ed7953"
            ],
            [
             0.7777777777777778,
             "#fb9f3a"
            ],
            [
             0.8888888888888888,
             "#fdca26"
            ],
            [
             1,
             "#f0f921"
            ]
           ]
          },
          "colorway": [
           "#636efa",
           "#EF553B",
           "#00cc96",
           "#ab63fa",
           "#FFA15A",
           "#19d3f3",
           "#FF6692",
           "#B6E880",
           "#FF97FF",
           "#FECB52"
          ],
          "font": {
           "color": "#2a3f5f"
          },
          "geo": {
           "bgcolor": "white",
           "lakecolor": "white",
           "landcolor": "#E5ECF6",
           "showlakes": true,
           "showland": true,
           "subunitcolor": "white"
          },
          "hoverlabel": {
           "align": "left"
          },
          "hovermode": "closest",
          "mapbox": {
           "style": "light"
          },
          "paper_bgcolor": "white",
          "plot_bgcolor": "#E5ECF6",
          "polar": {
           "angularaxis": {
            "gridcolor": "white",
            "linecolor": "white",
            "ticks": ""
           },
           "bgcolor": "#E5ECF6",
           "radialaxis": {
            "gridcolor": "white",
            "linecolor": "white",
            "ticks": ""
           }
          },
          "scene": {
           "xaxis": {
            "backgroundcolor": "#E5ECF6",
            "gridcolor": "white",
            "gridwidth": 2,
            "linecolor": "white",
            "showbackground": true,
            "ticks": "",
            "zerolinecolor": "white"
           },
           "yaxis": {
            "backgroundcolor": "#E5ECF6",
            "gridcolor": "white",
            "gridwidth": 2,
            "linecolor": "white",
            "showbackground": true,
            "ticks": "",
            "zerolinecolor": "white"
           },
           "zaxis": {
            "backgroundcolor": "#E5ECF6",
            "gridcolor": "white",
            "gridwidth": 2,
            "linecolor": "white",
            "showbackground": true,
            "ticks": "",
            "zerolinecolor": "white"
           }
          },
          "shapedefaults": {
           "line": {
            "color": "#2a3f5f"
           }
          },
          "ternary": {
           "aaxis": {
            "gridcolor": "white",
            "linecolor": "white",
            "ticks": ""
           },
           "baxis": {
            "gridcolor": "white",
            "linecolor": "white",
            "ticks": ""
           },
           "bgcolor": "#E5ECF6",
           "caxis": {
            "gridcolor": "white",
            "linecolor": "white",
            "ticks": ""
           }
          },
          "title": {
           "x": 0.05
          },
          "xaxis": {
           "automargin": true,
           "gridcolor": "white",
           "linecolor": "white",
           "ticks": "",
           "title": {
            "standoff": 15
           },
           "zerolinecolor": "white",
           "zerolinewidth": 2
          },
          "yaxis": {
           "automargin": true,
           "gridcolor": "white",
           "linecolor": "white",
           "ticks": "",
           "title": {
            "standoff": 15
           },
           "zerolinecolor": "white",
           "zerolinewidth": 2
          }
         }
        },
        "title": {
         "text": "Comparação CO₂ - RM2 - Latitude e Longitude constantes - ETHANOL"
        },
        "xaxis": {
         "title": {
          "text": "Amostras"
         }
        },
        "yaxis": {
         "title": {
          "text": "CO₂ (g/s)"
         }
        }
       }
      }
     },
     "metadata": {},
     "output_type": "display_data"
    },
    {
     "name": "stdout",
     "output_type": "stream",
     "text": [
      "\n",
      "🔁 RM2 - Latitude e Longitude constantes (GASOLINE)\n",
      "Diferença Média: 0.3598 | Diferença Máxima: 2.6722 | Erro Quadrático Médio (RMSE): 0.5582 | Desvio Padrão (Std): 0.4267\n"
     ]
    },
    {
     "data": {
      "text/html": [
       "<style type=\"text/css\">\n",
       "</style>\n",
       "<table id=\"T_1a9aa\">\n",
       "  <caption>Comparação dos dados originais e modificados - RM2 - Latitude e Longitude constantes (GASOLINE)</caption>\n",
       "  <thead>\n",
       "    <tr>\n",
       "      <th class=\"blank level0\" >&nbsp;</th>\n",
       "      <th id=\"T_1a9aa_level0_col0\" class=\"col_heading level0 col0\" >Latitude_Orig</th>\n",
       "      <th id=\"T_1a9aa_level0_col1\" class=\"col_heading level0 col1\" >Longitude_Orig</th>\n",
       "      <th id=\"T_1a9aa_level0_col2\" class=\"col_heading level0 col2\" >Speed(OBD)(km/h)_Orig</th>\n",
       "      <th id=\"T_1a9aa_level0_col3\" class=\"col_heading level0 col3\" >Acceleration_Orig</th>\n",
       "      <th id=\"T_1a9aa_level0_col4\" class=\"col_heading level0 col4\" > </th>\n",
       "      <th id=\"T_1a9aa_level0_col5\" class=\"col_heading level0 col5\" >Latitude_Mod</th>\n",
       "      <th id=\"T_1a9aa_level0_col6\" class=\"col_heading level0 col6\" >Longitude_Mod</th>\n",
       "      <th id=\"T_1a9aa_level0_col7\" class=\"col_heading level0 col7\" >Speed(OBD)(km/h)_Mod</th>\n",
       "      <th id=\"T_1a9aa_level0_col8\" class=\"col_heading level0 col8\" >Acceleration_Mod</th>\n",
       "      <th id=\"T_1a9aa_level0_col9\" class=\"col_heading level0 col9\" > </th>\n",
       "      <th id=\"T_1a9aa_level0_col10\" class=\"col_heading level0 col10\" >CO₂_Real</th>\n",
       "      <th id=\"T_1a9aa_level0_col11\" class=\"col_heading level0 col11\" >CO₂_Orig</th>\n",
       "      <th id=\"T_1a9aa_level0_col12\" class=\"col_heading level0 col12\" >CO₂_Mod</th>\n",
       "    </tr>\n",
       "  </thead>\n",
       "  <tbody>\n",
       "    <tr>\n",
       "      <th id=\"T_1a9aa_level0_row0\" class=\"row_heading level0 row0\" >0</th>\n",
       "      <td id=\"T_1a9aa_row0_col0\" class=\"data row0 col0\" >-5.820010</td>\n",
       "      <td id=\"T_1a9aa_row0_col1\" class=\"data row0 col1\" >-35.220825</td>\n",
       "      <td id=\"T_1a9aa_row0_col2\" class=\"data row0 col2\" >5</td>\n",
       "      <td id=\"T_1a9aa_row0_col3\" class=\"data row0 col3\" >0.000000</td>\n",
       "      <td id=\"T_1a9aa_row0_col4\" class=\"data row0 col4\" >→</td>\n",
       "      <td id=\"T_1a9aa_row0_col5\" class=\"data row0 col5\" >-5.812398</td>\n",
       "      <td id=\"T_1a9aa_row0_col6\" class=\"data row0 col6\" >-35.208822</td>\n",
       "      <td id=\"T_1a9aa_row0_col7\" class=\"data row0 col7\" >5</td>\n",
       "      <td id=\"T_1a9aa_row0_col8\" class=\"data row0 col8\" >0.000000</td>\n",
       "      <td id=\"T_1a9aa_row0_col9\" class=\"data row0 col9\" > </td>\n",
       "      <td id=\"T_1a9aa_row0_col10\" class=\"data row0 col10\" >1.002671</td>\n",
       "      <td id=\"T_1a9aa_row0_col11\" class=\"data row0 col11\" >1.456781</td>\n",
       "      <td id=\"T_1a9aa_row0_col12\" class=\"data row0 col12\" >1.240028</td>\n",
       "    </tr>\n",
       "    <tr>\n",
       "      <th id=\"T_1a9aa_level0_row1\" class=\"row_heading level0 row1\" >1</th>\n",
       "      <td id=\"T_1a9aa_row1_col0\" class=\"data row1 col0\" >-5.820013</td>\n",
       "      <td id=\"T_1a9aa_row1_col1\" class=\"data row1 col1\" >-35.220822</td>\n",
       "      <td id=\"T_1a9aa_row1_col2\" class=\"data row1 col2\" >4</td>\n",
       "      <td id=\"T_1a9aa_row1_col3\" class=\"data row1 col3\" >-0.277778</td>\n",
       "      <td id=\"T_1a9aa_row1_col4\" class=\"data row1 col4\" >→</td>\n",
       "      <td id=\"T_1a9aa_row1_col5\" class=\"data row1 col5\" >-5.812398</td>\n",
       "      <td id=\"T_1a9aa_row1_col6\" class=\"data row1 col6\" >-35.208822</td>\n",
       "      <td id=\"T_1a9aa_row1_col7\" class=\"data row1 col7\" >4</td>\n",
       "      <td id=\"T_1a9aa_row1_col8\" class=\"data row1 col8\" >-0.277778</td>\n",
       "      <td id=\"T_1a9aa_row1_col9\" class=\"data row1 col9\" > </td>\n",
       "      <td id=\"T_1a9aa_row1_col10\" class=\"data row1 col10\" >1.013360</td>\n",
       "      <td id=\"T_1a9aa_row1_col11\" class=\"data row1 col11\" >1.016708</td>\n",
       "      <td id=\"T_1a9aa_row1_col12\" class=\"data row1 col12\" >0.967113</td>\n",
       "    </tr>\n",
       "    <tr>\n",
       "      <th id=\"T_1a9aa_level0_row2\" class=\"row_heading level0 row2\" >2</th>\n",
       "      <td id=\"T_1a9aa_row2_col0\" class=\"data row2 col0\" >-5.820016</td>\n",
       "      <td id=\"T_1a9aa_row2_col1\" class=\"data row2 col1\" >-35.220819</td>\n",
       "      <td id=\"T_1a9aa_row2_col2\" class=\"data row2 col2\" >5</td>\n",
       "      <td id=\"T_1a9aa_row2_col3\" class=\"data row2 col3\" >0.277778</td>\n",
       "      <td id=\"T_1a9aa_row2_col4\" class=\"data row2 col4\" >→</td>\n",
       "      <td id=\"T_1a9aa_row2_col5\" class=\"data row2 col5\" >-5.812398</td>\n",
       "      <td id=\"T_1a9aa_row2_col6\" class=\"data row2 col6\" >-35.208822</td>\n",
       "      <td id=\"T_1a9aa_row2_col7\" class=\"data row2 col7\" >5</td>\n",
       "      <td id=\"T_1a9aa_row2_col8\" class=\"data row2 col8\" >0.277778</td>\n",
       "      <td id=\"T_1a9aa_row2_col9\" class=\"data row2 col9\" > </td>\n",
       "      <td id=\"T_1a9aa_row2_col10\" class=\"data row2 col10\" >2.088720</td>\n",
       "      <td id=\"T_1a9aa_row2_col11\" class=\"data row2 col11\" >1.456781</td>\n",
       "      <td id=\"T_1a9aa_row2_col12\" class=\"data row2 col12\" >1.240028</td>\n",
       "    </tr>\n",
       "    <tr>\n",
       "      <th id=\"T_1a9aa_level0_row3\" class=\"row_heading level0 row3\" >3</th>\n",
       "      <td id=\"T_1a9aa_row3_col0\" class=\"data row3 col0\" >-5.820014</td>\n",
       "      <td id=\"T_1a9aa_row3_col1\" class=\"data row3 col1\" >-35.220825</td>\n",
       "      <td id=\"T_1a9aa_row3_col2\" class=\"data row3 col2\" >7</td>\n",
       "      <td id=\"T_1a9aa_row3_col3\" class=\"data row3 col3\" >0.555556</td>\n",
       "      <td id=\"T_1a9aa_row3_col4\" class=\"data row3 col4\" >→</td>\n",
       "      <td id=\"T_1a9aa_row3_col5\" class=\"data row3 col5\" >-5.812398</td>\n",
       "      <td id=\"T_1a9aa_row3_col6\" class=\"data row3 col6\" >-35.208822</td>\n",
       "      <td id=\"T_1a9aa_row3_col7\" class=\"data row3 col7\" >7</td>\n",
       "      <td id=\"T_1a9aa_row3_col8\" class=\"data row3 col8\" >0.555556</td>\n",
       "      <td id=\"T_1a9aa_row3_col9\" class=\"data row3 col9\" > </td>\n",
       "      <td id=\"T_1a9aa_row3_col10\" class=\"data row3 col10\" >2.261889</td>\n",
       "      <td id=\"T_1a9aa_row3_col11\" class=\"data row3 col11\" >1.996380</td>\n",
       "      <td id=\"T_1a9aa_row3_col12\" class=\"data row3 col12\" >1.515614</td>\n",
       "    </tr>\n",
       "    <tr>\n",
       "      <th id=\"T_1a9aa_level0_row4\" class=\"row_heading level0 row4\" >4</th>\n",
       "      <td id=\"T_1a9aa_row4_col0\" class=\"data row4 col0\" >-5.819992</td>\n",
       "      <td id=\"T_1a9aa_row4_col1\" class=\"data row4 col1\" >-35.220829</td>\n",
       "      <td id=\"T_1a9aa_row4_col2\" class=\"data row4 col2\" >9</td>\n",
       "      <td id=\"T_1a9aa_row4_col3\" class=\"data row4 col3\" >0.555556</td>\n",
       "      <td id=\"T_1a9aa_row4_col4\" class=\"data row4 col4\" >→</td>\n",
       "      <td id=\"T_1a9aa_row4_col5\" class=\"data row4 col5\" >-5.812398</td>\n",
       "      <td id=\"T_1a9aa_row4_col6\" class=\"data row4 col6\" >-35.208822</td>\n",
       "      <td id=\"T_1a9aa_row4_col7\" class=\"data row4 col7\" >9</td>\n",
       "      <td id=\"T_1a9aa_row4_col8\" class=\"data row4 col8\" >0.555556</td>\n",
       "      <td id=\"T_1a9aa_row4_col9\" class=\"data row4 col9\" > </td>\n",
       "      <td id=\"T_1a9aa_row4_col10\" class=\"data row4 col10\" >2.499195</td>\n",
       "      <td id=\"T_1a9aa_row4_col11\" class=\"data row4 col11\" >2.400486</td>\n",
       "      <td id=\"T_1a9aa_row4_col12\" class=\"data row4 col12\" >1.704046</td>\n",
       "    </tr>\n",
       "    <tr>\n",
       "      <th id=\"T_1a9aa_level0_row5\" class=\"row_heading level0 row5\" >5</th>\n",
       "      <td id=\"T_1a9aa_row5_col0\" class=\"data row5 col0\" >-5.819974</td>\n",
       "      <td id=\"T_1a9aa_row5_col1\" class=\"data row5 col1\" >-35.220824</td>\n",
       "      <td id=\"T_1a9aa_row5_col2\" class=\"data row5 col2\" >12</td>\n",
       "      <td id=\"T_1a9aa_row5_col3\" class=\"data row5 col3\" >0.833333</td>\n",
       "      <td id=\"T_1a9aa_row5_col4\" class=\"data row5 col4\" >→</td>\n",
       "      <td id=\"T_1a9aa_row5_col5\" class=\"data row5 col5\" >-5.812398</td>\n",
       "      <td id=\"T_1a9aa_row5_col6\" class=\"data row5 col6\" >-35.208822</td>\n",
       "      <td id=\"T_1a9aa_row5_col7\" class=\"data row5 col7\" >12</td>\n",
       "      <td id=\"T_1a9aa_row5_col8\" class=\"data row5 col8\" >0.833333</td>\n",
       "      <td id=\"T_1a9aa_row5_col9\" class=\"data row5 col9\" > </td>\n",
       "      <td id=\"T_1a9aa_row5_col10\" class=\"data row5 col10\" >2.606089</td>\n",
       "      <td id=\"T_1a9aa_row5_col11\" class=\"data row5 col11\" >2.400486</td>\n",
       "      <td id=\"T_1a9aa_row5_col12\" class=\"data row5 col12\" >1.704046</td>\n",
       "    </tr>\n",
       "    <tr>\n",
       "      <th id=\"T_1a9aa_level0_row6\" class=\"row_heading level0 row6\" >6</th>\n",
       "      <td id=\"T_1a9aa_row6_col0\" class=\"data row6 col0\" >-5.819944</td>\n",
       "      <td id=\"T_1a9aa_row6_col1\" class=\"data row6 col1\" >-35.220823</td>\n",
       "      <td id=\"T_1a9aa_row6_col2\" class=\"data row6 col2\" >15</td>\n",
       "      <td id=\"T_1a9aa_row6_col3\" class=\"data row6 col3\" >0.833333</td>\n",
       "      <td id=\"T_1a9aa_row6_col4\" class=\"data row6 col4\" >→</td>\n",
       "      <td id=\"T_1a9aa_row6_col5\" class=\"data row6 col5\" >-5.812398</td>\n",
       "      <td id=\"T_1a9aa_row6_col6\" class=\"data row6 col6\" >-35.208822</td>\n",
       "      <td id=\"T_1a9aa_row6_col7\" class=\"data row6 col7\" >15</td>\n",
       "      <td id=\"T_1a9aa_row6_col8\" class=\"data row6 col8\" >0.833333</td>\n",
       "      <td id=\"T_1a9aa_row6_col9\" class=\"data row6 col9\" > </td>\n",
       "      <td id=\"T_1a9aa_row6_col10\" class=\"data row6 col10\" >3.070012</td>\n",
       "      <td id=\"T_1a9aa_row6_col11\" class=\"data row6 col11\" >2.148721</td>\n",
       "      <td id=\"T_1a9aa_row6_col12\" class=\"data row6 col12\" >1.800354</td>\n",
       "    </tr>\n",
       "    <tr>\n",
       "      <th id=\"T_1a9aa_level0_row7\" class=\"row_heading level0 row7\" >7</th>\n",
       "      <td id=\"T_1a9aa_row7_col0\" class=\"data row7 col0\" >-5.819908</td>\n",
       "      <td id=\"T_1a9aa_row7_col1\" class=\"data row7 col1\" >-35.220810</td>\n",
       "      <td id=\"T_1a9aa_row7_col2\" class=\"data row7 col2\" >18</td>\n",
       "      <td id=\"T_1a9aa_row7_col3\" class=\"data row7 col3\" >0.833333</td>\n",
       "      <td id=\"T_1a9aa_row7_col4\" class=\"data row7 col4\" >→</td>\n",
       "      <td id=\"T_1a9aa_row7_col5\" class=\"data row7 col5\" >-5.812398</td>\n",
       "      <td id=\"T_1a9aa_row7_col6\" class=\"data row7 col6\" >-35.208822</td>\n",
       "      <td id=\"T_1a9aa_row7_col7\" class=\"data row7 col7\" >18</td>\n",
       "      <td id=\"T_1a9aa_row7_col8\" class=\"data row7 col8\" >0.833333</td>\n",
       "      <td id=\"T_1a9aa_row7_col9\" class=\"data row7 col9\" > </td>\n",
       "      <td id=\"T_1a9aa_row7_col10\" class=\"data row7 col10\" >2.445747</td>\n",
       "      <td id=\"T_1a9aa_row7_col11\" class=\"data row7 col11\" >1.470940</td>\n",
       "      <td id=\"T_1a9aa_row7_col12\" class=\"data row7 col12\" >1.841241</td>\n",
       "    </tr>\n",
       "    <tr>\n",
       "      <th id=\"T_1a9aa_level0_row8\" class=\"row_heading level0 row8\" >8</th>\n",
       "      <td id=\"T_1a9aa_row8_col0\" class=\"data row8 col0\" >-5.819866</td>\n",
       "      <td id=\"T_1a9aa_row8_col1\" class=\"data row8 col1\" >-35.220794</td>\n",
       "      <td id=\"T_1a9aa_row8_col2\" class=\"data row8 col2\" >18</td>\n",
       "      <td id=\"T_1a9aa_row8_col3\" class=\"data row8 col3\" >0.000000</td>\n",
       "      <td id=\"T_1a9aa_row8_col4\" class=\"data row8 col4\" >→</td>\n",
       "      <td id=\"T_1a9aa_row8_col5\" class=\"data row8 col5\" >-5.812398</td>\n",
       "      <td id=\"T_1a9aa_row8_col6\" class=\"data row8 col6\" >-35.208822</td>\n",
       "      <td id=\"T_1a9aa_row8_col7\" class=\"data row8 col7\" >18</td>\n",
       "      <td id=\"T_1a9aa_row8_col8\" class=\"data row8 col8\" >0.000000</td>\n",
       "      <td id=\"T_1a9aa_row8_col9\" class=\"data row8 col9\" > </td>\n",
       "      <td id=\"T_1a9aa_row8_col10\" class=\"data row8 col10\" >1.073221</td>\n",
       "      <td id=\"T_1a9aa_row8_col11\" class=\"data row8 col11\" >1.588029</td>\n",
       "      <td id=\"T_1a9aa_row8_col12\" class=\"data row8 col12\" >1.826487</td>\n",
       "    </tr>\n",
       "    <tr>\n",
       "      <th id=\"T_1a9aa_level0_row9\" class=\"row_heading level0 row9\" >9</th>\n",
       "      <td id=\"T_1a9aa_row9_col0\" class=\"data row9 col0\" >-5.819821</td>\n",
       "      <td id=\"T_1a9aa_row9_col1\" class=\"data row9 col1\" >-35.220775</td>\n",
       "      <td id=\"T_1a9aa_row9_col2\" class=\"data row9 col2\" >16</td>\n",
       "      <td id=\"T_1a9aa_row9_col3\" class=\"data row9 col3\" >-0.555556</td>\n",
       "      <td id=\"T_1a9aa_row9_col4\" class=\"data row9 col4\" >→</td>\n",
       "      <td id=\"T_1a9aa_row9_col5\" class=\"data row9 col5\" >-5.812398</td>\n",
       "      <td id=\"T_1a9aa_row9_col6\" class=\"data row9 col6\" >-35.208822</td>\n",
       "      <td id=\"T_1a9aa_row9_col7\" class=\"data row9 col7\" >16</td>\n",
       "      <td id=\"T_1a9aa_row9_col8\" class=\"data row9 col8\" >-0.555556</td>\n",
       "      <td id=\"T_1a9aa_row9_col9\" class=\"data row9 col9\" > </td>\n",
       "      <td id=\"T_1a9aa_row9_col10\" class=\"data row9 col10\" >0.562265</td>\n",
       "      <td id=\"T_1a9aa_row9_col11\" class=\"data row9 col11\" >1.085921</td>\n",
       "      <td id=\"T_1a9aa_row9_col12\" class=\"data row9 col12\" >1.011901</td>\n",
       "    </tr>\n",
       "  </tbody>\n",
       "</table>\n"
      ],
      "text/plain": [
       "<pandas.io.formats.style.Styler at 0x20ef00d2e10>"
      ]
     },
     "metadata": {},
     "output_type": "display_data"
    },
    {
     "data": {
      "application/vnd.plotly.v1+json": {
       "config": {
        "plotlyServerURL": "https://plot.ly"
       },
       "data": [
        {
         "line": {
          "color": "green",
          "dash": "dot"
         },
         "mode": "lines",
         "name": "Real",
         "type": "scatter",
         "y": {
          "bdata": "fgFSsvAK8D+A9UFnuTbwP+sFLaeytQBAlHGRLVkYAkBCucXSWf4DQEt9dVtF2QRAqBJmS2KPCEA+120O5JADQCN/TinqK/E/+as09BP+4T+aTWFMs5viP5pNYUyzm+I/XDzytNji+j+dNUG2RPMCQCiGK0XJLgZAUV/NH7tGBUCt9L0P2PwIQMoh0PdM4gZALUmGV/HwAUC7e8iq65kFQJWKBjqL2QZAPtdtDuSQA0A+120O5JADQD/LXcOsvPM/G9QTrTAS5T+dNUG2RPPiPz7XbQ7kkOM/PtdtDuSQ4z+N38u90b/qPypPDv0M2/E/XDzytNjiCkCoDN6lRqUIQKgM3qVGpQhA8yxc66J8D0BuxFHGr5gMQIjedkcOpwVAJ4Cjn61EBkBRX80fu0YFQLWf+IuRFgVAtZ/4i5EWBUBZCgicdGDxP1JTvdSDcvU/1NlvNQHp9z+u1cBdilHkP67VwF2KUeQ/oGcrz6h17D9QRlgTiYXwP5J9oXiQ7PE/kn2heJDs8T/DRQDZ8l7mP79dIG9hB+Y/v10gb2EH5j+/XSBvYQfmP2LnLDGS/OY/sOIlH4U+6T/qekRTCmDuP6BnK8+odew/mWxe/gBHB0CpJVOyeGYNQIFGKTJrZA5AgUYpMmtkDkDqCPF5wKoQQNfm1Pb71QxA1+bU9vvVDEDDRQDZ8l7mP8A4mxf4ceE/+as09BP+4T9i5ywxkvzmP2LnLDGS/OY/QeTSz9596D9B5NLP3n3oPzJEUyiZH+c/MkRTKJkf5z95fPEDZJ/tP3l88QNkn+0/2trEq8QB7T8Lfp60vd7sP9by5EEzquw/LlxzvgfI5j8uXHO+B8jmP79dIG9hB+Y/idJm/NbS5T/DRQDZ8l7mP/jQuUt9k+Y/+NC5S32T5j8g7t0vJuzuPwt+nrS93uw/nH9LZRce7D9q3HFcHkHsP2rccVweQew/H7zzFsJp5T8fvPMWwmnlP/jQuUt9k+Y/LlxzvgfI5j8uXHO+B8jmPy5cc74HyOY/atxxXB5B7D9q3HFcHkHsPwt+nrS93uw/1vLkQTOq7D8=",
          "dtype": "f8"
         }
        },
        {
         "line": {
          "color": "blue",
          "dash": "dash"
         },
         "mode": "lines",
         "name": "Predição Original",
         "type": "scatter",
         "y": {
          "bdata": "nyhPnflO9z9gHHYQcETwP58oT535Tvc/NcYJ3ivx/z/H027bMTQDQMfTbtsxNANAW6JizpQwAUDSiMQk+Ij3P/2q4seQaPk/ZH6eRe5f8T9BGZ5ZmvD3PzitkrX97Pg/sjPog+dN+z+SSuHot2oCQJww0qNNLgNA8cQEdVL2B0A1HTGC8yUFQJ1s4cie0QVAPEfMwV4IAkA8R8zBXggCQF2Pwwd46AFAbpuVTxN2+j/IvXHXsBP6P0OwSlf+P/c/2pPnoDIS6T+hOYU4eCfuPxp0K9BUbOo/ThQjZ9o8AEBABo/x9pL3P3F+mAxJHfY/vjt97VxcAkC1xmrF5DgDQOa6Z/pAWAZAUonaDz/zBED9aMiraIEDQPruFYWieANA+u4VhaJ4A0CoKE294o/7Pxk9jtecgfw/S7H7xD8A/j92WkFYmFz2P7S5Onx/Bvo/RX1rWH4i8z/oY5hva434P1TJv1Fh2es/2F3p5aM27D+RtiC+vPzzP6NexDxw2fI/XyhyWTnN9D+DFQQ4srDxP7jtWJ1vMew/uO1YnW8x7D+47VidbzHsP7jtWJ1vMew/uO1YnW8x7D+47VidbzHsP7jtWJ1vMew/uO1YnW8x7D8nAD+TNLUCQNaKcWWMugZA0Uv5KVIhCEA+8WTkUCIIQPi+a1e0Yw5Ayp9UILRhDkDaMTNkxTIBQMaASEASVe8/28WzSFf/7z9COf9b/WfwPxW/p/5ScP0/VZWNuaJb6j9o0D7Y66zqP2jQPtjrrOo/aNA+2Ous6j9o0D7Y66zqP2jQPtjrrOo/aNA+2Ous6j9o0D7Y66zqP2jQPtjrrOo/aNA+2Ous6j9o0D7Y66zqP2jQPtjrrOo/aNA+2Ous6j9o0D7Y66zqP2jQPtjrrOo/aNA+2Ous6j9o0D7Y66zqP2jQPtjrrOo/aNA+2Ous6j9o0D7Y66zqP2jQPtjrrOo/aNA+2Ous6j9o0D7Y66zqP2jQPtjrrOo/aNA+2Ous6j9o0D7Y66zqP2jQPtjrrOo/aNA+2Ous6j9o0D7Y66zqP2jQPtjrrOo/aNA+2Ous6j8=",
          "dtype": "f8"
         }
        },
        {
         "line": {
          "color": "red"
         },
         "mode": "lines",
         "name": "Predição com RM",
         "type": "scatter",
         "y": {
          "bdata": "Y8/dXSfX8z+TZB6al/LuP2PP3V0n1/M/eBuAS/Q/+D/LpQCtxUP7P8ulAK3FQ/s/EKeWGEDO/D9Pf/zkuHX9PyrlbgdKOf0/jsIvVr8w8D/26qgNJUjvP57NLTnQeO8/csrcONUF8D/LpQCtxUP7P8ulAK3FQ/s/EKeWGEDO/D/uKDb8LEH7PwAlXJ4qRv8/t2tuhdw2AEC3a26F3DYAQBkzP2vGZv4/v3e5FhAOAEDO7kagvxv/P793uRYQDgBAck9kjckg7z+MAs8UmGn0P+I+e6e1oO8/eMiCvnBj/j+lVsdsPoLsP+OMuQFhN+4/y6UArcVD+z/LpQCtxUP7P8ulAK3FQ/s/xTaOpJFT+z/hr5gvLmz8P3w9GUDVxf8/fD0ZQNXF/z96nW2M6bf+PxkzP2vGZv4/v3e5FhAOAEA+p05nGeTzP06mYuJ9JP8/PMgJP4l48j8gw4rWCXT9P+YfpolN/O8/BzxwHGMg7T8igy4MiGrwP0hFq0SkOe0/OtRH4Exd8j/FMPTPROvnPy5LaETrheg/LktoROuF6D8uS2hE64XoPy5LaETrheg/LktoROuF6D8uS2hE64XoPy5LaETrheg/LktoROuF6D+17ldla3TuP7txwEzCS/g/y6UArcVD+z/FNo6kkVP7P3pONytIov4/eMiCvnBj/j+VK7mySUH/PxwZjfTOYu4/pNHDsE6p7T+RitFt5ILuP2PP3V0n1/M/G7H0vpF75z8uS2hE64XoPy5LaETrheg/LktoROuF6D8uS2hE64XoPy5LaETrheg/LktoROuF6D8uS2hE64XoPy5LaETrheg/LktoROuF6D8uS2hE64XoPy5LaETrheg/LktoROuF6D8uS2hE64XoPy5LaETrheg/LktoROuF6D8uS2hE64XoPy5LaETrheg/LktoROuF6D8uS2hE64XoPy5LaETrheg/LktoROuF6D8uS2hE64XoPy5LaETrheg/LktoROuF6D8uS2hE64XoPy5LaETrheg/LktoROuF6D8uS2hE64XoPy5LaETrheg/LktoROuF6D8=",
          "dtype": "f8"
         }
        }
       ],
       "layout": {
        "template": {
         "data": {
          "bar": [
           {
            "error_x": {
             "color": "#2a3f5f"
            },
            "error_y": {
             "color": "#2a3f5f"
            },
            "marker": {
             "line": {
              "color": "#E5ECF6",
              "width": 0.5
             },
             "pattern": {
              "fillmode": "overlay",
              "size": 10,
              "solidity": 0.2
             }
            },
            "type": "bar"
           }
          ],
          "barpolar": [
           {
            "marker": {
             "line": {
              "color": "#E5ECF6",
              "width": 0.5
             },
             "pattern": {
              "fillmode": "overlay",
              "size": 10,
              "solidity": 0.2
             }
            },
            "type": "barpolar"
           }
          ],
          "carpet": [
           {
            "aaxis": {
             "endlinecolor": "#2a3f5f",
             "gridcolor": "white",
             "linecolor": "white",
             "minorgridcolor": "white",
             "startlinecolor": "#2a3f5f"
            },
            "baxis": {
             "endlinecolor": "#2a3f5f",
             "gridcolor": "white",
             "linecolor": "white",
             "minorgridcolor": "white",
             "startlinecolor": "#2a3f5f"
            },
            "type": "carpet"
           }
          ],
          "choropleth": [
           {
            "colorbar": {
             "outlinewidth": 0,
             "ticks": ""
            },
            "type": "choropleth"
           }
          ],
          "contour": [
           {
            "colorbar": {
             "outlinewidth": 0,
             "ticks": ""
            },
            "colorscale": [
             [
              0,
              "#0d0887"
             ],
             [
              0.1111111111111111,
              "#46039f"
             ],
             [
              0.2222222222222222,
              "#7201a8"
             ],
             [
              0.3333333333333333,
              "#9c179e"
             ],
             [
              0.4444444444444444,
              "#bd3786"
             ],
             [
              0.5555555555555556,
              "#d8576b"
             ],
             [
              0.6666666666666666,
              "#ed7953"
             ],
             [
              0.7777777777777778,
              "#fb9f3a"
             ],
             [
              0.8888888888888888,
              "#fdca26"
             ],
             [
              1,
              "#f0f921"
             ]
            ],
            "type": "contour"
           }
          ],
          "contourcarpet": [
           {
            "colorbar": {
             "outlinewidth": 0,
             "ticks": ""
            },
            "type": "contourcarpet"
           }
          ],
          "heatmap": [
           {
            "colorbar": {
             "outlinewidth": 0,
             "ticks": ""
            },
            "colorscale": [
             [
              0,
              "#0d0887"
             ],
             [
              0.1111111111111111,
              "#46039f"
             ],
             [
              0.2222222222222222,
              "#7201a8"
             ],
             [
              0.3333333333333333,
              "#9c179e"
             ],
             [
              0.4444444444444444,
              "#bd3786"
             ],
             [
              0.5555555555555556,
              "#d8576b"
             ],
             [
              0.6666666666666666,
              "#ed7953"
             ],
             [
              0.7777777777777778,
              "#fb9f3a"
             ],
             [
              0.8888888888888888,
              "#fdca26"
             ],
             [
              1,
              "#f0f921"
             ]
            ],
            "type": "heatmap"
           }
          ],
          "histogram": [
           {
            "marker": {
             "pattern": {
              "fillmode": "overlay",
              "size": 10,
              "solidity": 0.2
             }
            },
            "type": "histogram"
           }
          ],
          "histogram2d": [
           {
            "colorbar": {
             "outlinewidth": 0,
             "ticks": ""
            },
            "colorscale": [
             [
              0,
              "#0d0887"
             ],
             [
              0.1111111111111111,
              "#46039f"
             ],
             [
              0.2222222222222222,
              "#7201a8"
             ],
             [
              0.3333333333333333,
              "#9c179e"
             ],
             [
              0.4444444444444444,
              "#bd3786"
             ],
             [
              0.5555555555555556,
              "#d8576b"
             ],
             [
              0.6666666666666666,
              "#ed7953"
             ],
             [
              0.7777777777777778,
              "#fb9f3a"
             ],
             [
              0.8888888888888888,
              "#fdca26"
             ],
             [
              1,
              "#f0f921"
             ]
            ],
            "type": "histogram2d"
           }
          ],
          "histogram2dcontour": [
           {
            "colorbar": {
             "outlinewidth": 0,
             "ticks": ""
            },
            "colorscale": [
             [
              0,
              "#0d0887"
             ],
             [
              0.1111111111111111,
              "#46039f"
             ],
             [
              0.2222222222222222,
              "#7201a8"
             ],
             [
              0.3333333333333333,
              "#9c179e"
             ],
             [
              0.4444444444444444,
              "#bd3786"
             ],
             [
              0.5555555555555556,
              "#d8576b"
             ],
             [
              0.6666666666666666,
              "#ed7953"
             ],
             [
              0.7777777777777778,
              "#fb9f3a"
             ],
             [
              0.8888888888888888,
              "#fdca26"
             ],
             [
              1,
              "#f0f921"
             ]
            ],
            "type": "histogram2dcontour"
           }
          ],
          "mesh3d": [
           {
            "colorbar": {
             "outlinewidth": 0,
             "ticks": ""
            },
            "type": "mesh3d"
           }
          ],
          "parcoords": [
           {
            "line": {
             "colorbar": {
              "outlinewidth": 0,
              "ticks": ""
             }
            },
            "type": "parcoords"
           }
          ],
          "pie": [
           {
            "automargin": true,
            "type": "pie"
           }
          ],
          "scatter": [
           {
            "fillpattern": {
             "fillmode": "overlay",
             "size": 10,
             "solidity": 0.2
            },
            "type": "scatter"
           }
          ],
          "scatter3d": [
           {
            "line": {
             "colorbar": {
              "outlinewidth": 0,
              "ticks": ""
             }
            },
            "marker": {
             "colorbar": {
              "outlinewidth": 0,
              "ticks": ""
             }
            },
            "type": "scatter3d"
           }
          ],
          "scattercarpet": [
           {
            "marker": {
             "colorbar": {
              "outlinewidth": 0,
              "ticks": ""
             }
            },
            "type": "scattercarpet"
           }
          ],
          "scattergeo": [
           {
            "marker": {
             "colorbar": {
              "outlinewidth": 0,
              "ticks": ""
             }
            },
            "type": "scattergeo"
           }
          ],
          "scattergl": [
           {
            "marker": {
             "colorbar": {
              "outlinewidth": 0,
              "ticks": ""
             }
            },
            "type": "scattergl"
           }
          ],
          "scattermap": [
           {
            "marker": {
             "colorbar": {
              "outlinewidth": 0,
              "ticks": ""
             }
            },
            "type": "scattermap"
           }
          ],
          "scattermapbox": [
           {
            "marker": {
             "colorbar": {
              "outlinewidth": 0,
              "ticks": ""
             }
            },
            "type": "scattermapbox"
           }
          ],
          "scatterpolar": [
           {
            "marker": {
             "colorbar": {
              "outlinewidth": 0,
              "ticks": ""
             }
            },
            "type": "scatterpolar"
           }
          ],
          "scatterpolargl": [
           {
            "marker": {
             "colorbar": {
              "outlinewidth": 0,
              "ticks": ""
             }
            },
            "type": "scatterpolargl"
           }
          ],
          "scatterternary": [
           {
            "marker": {
             "colorbar": {
              "outlinewidth": 0,
              "ticks": ""
             }
            },
            "type": "scatterternary"
           }
          ],
          "surface": [
           {
            "colorbar": {
             "outlinewidth": 0,
             "ticks": ""
            },
            "colorscale": [
             [
              0,
              "#0d0887"
             ],
             [
              0.1111111111111111,
              "#46039f"
             ],
             [
              0.2222222222222222,
              "#7201a8"
             ],
             [
              0.3333333333333333,
              "#9c179e"
             ],
             [
              0.4444444444444444,
              "#bd3786"
             ],
             [
              0.5555555555555556,
              "#d8576b"
             ],
             [
              0.6666666666666666,
              "#ed7953"
             ],
             [
              0.7777777777777778,
              "#fb9f3a"
             ],
             [
              0.8888888888888888,
              "#fdca26"
             ],
             [
              1,
              "#f0f921"
             ]
            ],
            "type": "surface"
           }
          ],
          "table": [
           {
            "cells": {
             "fill": {
              "color": "#EBF0F8"
             },
             "line": {
              "color": "white"
             }
            },
            "header": {
             "fill": {
              "color": "#C8D4E3"
             },
             "line": {
              "color": "white"
             }
            },
            "type": "table"
           }
          ]
         },
         "layout": {
          "annotationdefaults": {
           "arrowcolor": "#2a3f5f",
           "arrowhead": 0,
           "arrowwidth": 1
          },
          "autotypenumbers": "strict",
          "coloraxis": {
           "colorbar": {
            "outlinewidth": 0,
            "ticks": ""
           }
          },
          "colorscale": {
           "diverging": [
            [
             0,
             "#8e0152"
            ],
            [
             0.1,
             "#c51b7d"
            ],
            [
             0.2,
             "#de77ae"
            ],
            [
             0.3,
             "#f1b6da"
            ],
            [
             0.4,
             "#fde0ef"
            ],
            [
             0.5,
             "#f7f7f7"
            ],
            [
             0.6,
             "#e6f5d0"
            ],
            [
             0.7,
             "#b8e186"
            ],
            [
             0.8,
             "#7fbc41"
            ],
            [
             0.9,
             "#4d9221"
            ],
            [
             1,
             "#276419"
            ]
           ],
           "sequential": [
            [
             0,
             "#0d0887"
            ],
            [
             0.1111111111111111,
             "#46039f"
            ],
            [
             0.2222222222222222,
             "#7201a8"
            ],
            [
             0.3333333333333333,
             "#9c179e"
            ],
            [
             0.4444444444444444,
             "#bd3786"
            ],
            [
             0.5555555555555556,
             "#d8576b"
            ],
            [
             0.6666666666666666,
             "#ed7953"
            ],
            [
             0.7777777777777778,
             "#fb9f3a"
            ],
            [
             0.8888888888888888,
             "#fdca26"
            ],
            [
             1,
             "#f0f921"
            ]
           ],
           "sequentialminus": [
            [
             0,
             "#0d0887"
            ],
            [
             0.1111111111111111,
             "#46039f"
            ],
            [
             0.2222222222222222,
             "#7201a8"
            ],
            [
             0.3333333333333333,
             "#9c179e"
            ],
            [
             0.4444444444444444,
             "#bd3786"
            ],
            [
             0.5555555555555556,
             "#d8576b"
            ],
            [
             0.6666666666666666,
             "#ed7953"
            ],
            [
             0.7777777777777778,
             "#fb9f3a"
            ],
            [
             0.8888888888888888,
             "#fdca26"
            ],
            [
             1,
             "#f0f921"
            ]
           ]
          },
          "colorway": [
           "#636efa",
           "#EF553B",
           "#00cc96",
           "#ab63fa",
           "#FFA15A",
           "#19d3f3",
           "#FF6692",
           "#B6E880",
           "#FF97FF",
           "#FECB52"
          ],
          "font": {
           "color": "#2a3f5f"
          },
          "geo": {
           "bgcolor": "white",
           "lakecolor": "white",
           "landcolor": "#E5ECF6",
           "showlakes": true,
           "showland": true,
           "subunitcolor": "white"
          },
          "hoverlabel": {
           "align": "left"
          },
          "hovermode": "closest",
          "mapbox": {
           "style": "light"
          },
          "paper_bgcolor": "white",
          "plot_bgcolor": "#E5ECF6",
          "polar": {
           "angularaxis": {
            "gridcolor": "white",
            "linecolor": "white",
            "ticks": ""
           },
           "bgcolor": "#E5ECF6",
           "radialaxis": {
            "gridcolor": "white",
            "linecolor": "white",
            "ticks": ""
           }
          },
          "scene": {
           "xaxis": {
            "backgroundcolor": "#E5ECF6",
            "gridcolor": "white",
            "gridwidth": 2,
            "linecolor": "white",
            "showbackground": true,
            "ticks": "",
            "zerolinecolor": "white"
           },
           "yaxis": {
            "backgroundcolor": "#E5ECF6",
            "gridcolor": "white",
            "gridwidth": 2,
            "linecolor": "white",
            "showbackground": true,
            "ticks": "",
            "zerolinecolor": "white"
           },
           "zaxis": {
            "backgroundcolor": "#E5ECF6",
            "gridcolor": "white",
            "gridwidth": 2,
            "linecolor": "white",
            "showbackground": true,
            "ticks": "",
            "zerolinecolor": "white"
           }
          },
          "shapedefaults": {
           "line": {
            "color": "#2a3f5f"
           }
          },
          "ternary": {
           "aaxis": {
            "gridcolor": "white",
            "linecolor": "white",
            "ticks": ""
           },
           "baxis": {
            "gridcolor": "white",
            "linecolor": "white",
            "ticks": ""
           },
           "bgcolor": "#E5ECF6",
           "caxis": {
            "gridcolor": "white",
            "linecolor": "white",
            "ticks": ""
           }
          },
          "title": {
           "x": 0.05
          },
          "xaxis": {
           "automargin": true,
           "gridcolor": "white",
           "linecolor": "white",
           "ticks": "",
           "title": {
            "standoff": 15
           },
           "zerolinecolor": "white",
           "zerolinewidth": 2
          },
          "yaxis": {
           "automargin": true,
           "gridcolor": "white",
           "linecolor": "white",
           "ticks": "",
           "title": {
            "standoff": 15
           },
           "zerolinecolor": "white",
           "zerolinewidth": 2
          }
         }
        },
        "title": {
         "text": "Comparação CO₂ - RM2 - Latitude e Longitude constantes - GASOLINE"
        },
        "xaxis": {
         "title": {
          "text": "Amostras"
         }
        },
        "yaxis": {
         "title": {
          "text": "CO₂ (g/s)"
         }
        }
       }
      }
     },
     "metadata": {},
     "output_type": "display_data"
    },
    {
     "name": "stdout",
     "output_type": "stream",
     "text": [
      "\n",
      "🔁 RM3 - Aceleração constante (ETHANOL)\n",
      "Diferença Média: 0.2013 | Diferença Máxima: 1.8051 | Erro Quadrático Médio (RMSE): 0.3412 | Desvio Padrão (Std): 0.2756\n"
     ]
    },
    {
     "data": {
      "text/html": [
       "<style type=\"text/css\">\n",
       "</style>\n",
       "<table id=\"T_152bb\">\n",
       "  <caption>Comparação dos dados originais e modificados - RM3 - Aceleração constante (ETHANOL)</caption>\n",
       "  <thead>\n",
       "    <tr>\n",
       "      <th class=\"blank level0\" >&nbsp;</th>\n",
       "      <th id=\"T_152bb_level0_col0\" class=\"col_heading level0 col0\" >Latitude_Orig</th>\n",
       "      <th id=\"T_152bb_level0_col1\" class=\"col_heading level0 col1\" >Longitude_Orig</th>\n",
       "      <th id=\"T_152bb_level0_col2\" class=\"col_heading level0 col2\" >Speed(OBD)(km/h)_Orig</th>\n",
       "      <th id=\"T_152bb_level0_col3\" class=\"col_heading level0 col3\" >Acceleration_Orig</th>\n",
       "      <th id=\"T_152bb_level0_col4\" class=\"col_heading level0 col4\" > </th>\n",
       "      <th id=\"T_152bb_level0_col5\" class=\"col_heading level0 col5\" >Latitude_Mod</th>\n",
       "      <th id=\"T_152bb_level0_col6\" class=\"col_heading level0 col6\" >Longitude_Mod</th>\n",
       "      <th id=\"T_152bb_level0_col7\" class=\"col_heading level0 col7\" >Speed(OBD)(km/h)_Mod</th>\n",
       "      <th id=\"T_152bb_level0_col8\" class=\"col_heading level0 col8\" >Acceleration_Mod</th>\n",
       "      <th id=\"T_152bb_level0_col9\" class=\"col_heading level0 col9\" > </th>\n",
       "      <th id=\"T_152bb_level0_col10\" class=\"col_heading level0 col10\" >CO₂_Real</th>\n",
       "      <th id=\"T_152bb_level0_col11\" class=\"col_heading level0 col11\" >CO₂_Orig</th>\n",
       "      <th id=\"T_152bb_level0_col12\" class=\"col_heading level0 col12\" >CO₂_Mod</th>\n",
       "    </tr>\n",
       "  </thead>\n",
       "  <tbody>\n",
       "    <tr>\n",
       "      <th id=\"T_152bb_level0_row0\" class=\"row_heading level0 row0\" >0</th>\n",
       "      <td id=\"T_152bb_row0_col0\" class=\"data row0 col0\" >-5.820105</td>\n",
       "      <td id=\"T_152bb_row0_col1\" class=\"data row0 col1\" >-35.220818</td>\n",
       "      <td id=\"T_152bb_row0_col2\" class=\"data row0 col2\" >3</td>\n",
       "      <td id=\"T_152bb_row0_col3\" class=\"data row0 col3\" >0.000000</td>\n",
       "      <td id=\"T_152bb_row0_col4\" class=\"data row0 col4\" >→</td>\n",
       "      <td id=\"T_152bb_row0_col5\" class=\"data row0 col5\" >-5.820105</td>\n",
       "      <td id=\"T_152bb_row0_col6\" class=\"data row0 col6\" >-35.220818</td>\n",
       "      <td id=\"T_152bb_row0_col7\" class=\"data row0 col7\" >3</td>\n",
       "      <td id=\"T_152bb_row0_col8\" class=\"data row0 col8\" >-0.000000</td>\n",
       "      <td id=\"T_152bb_row0_col9\" class=\"data row0 col9\" > </td>\n",
       "      <td id=\"T_152bb_row0_col10\" class=\"data row0 col10\" >0.642839</td>\n",
       "      <td id=\"T_152bb_row0_col11\" class=\"data row0 col11\" >0.742631</td>\n",
       "      <td id=\"T_152bb_row0_col12\" class=\"data row0 col12\" >0.659013</td>\n",
       "    </tr>\n",
       "    <tr>\n",
       "      <th id=\"T_152bb_level0_row1\" class=\"row_heading level0 row1\" >1</th>\n",
       "      <td id=\"T_152bb_row1_col0\" class=\"data row1 col0\" >-5.820103</td>\n",
       "      <td id=\"T_152bb_row1_col1\" class=\"data row1 col1\" >-35.220828</td>\n",
       "      <td id=\"T_152bb_row1_col2\" class=\"data row1 col2\" >5</td>\n",
       "      <td id=\"T_152bb_row1_col3\" class=\"data row1 col3\" >0.555556</td>\n",
       "      <td id=\"T_152bb_row1_col4\" class=\"data row1 col4\" >→</td>\n",
       "      <td id=\"T_152bb_row1_col5\" class=\"data row1 col5\" >-5.820103</td>\n",
       "      <td id=\"T_152bb_row1_col6\" class=\"data row1 col6\" >-35.220828</td>\n",
       "      <td id=\"T_152bb_row1_col7\" class=\"data row1 col7\" >5</td>\n",
       "      <td id=\"T_152bb_row1_col8\" class=\"data row1 col8\" >-0.000000</td>\n",
       "      <td id=\"T_152bb_row1_col9\" class=\"data row1 col9\" > </td>\n",
       "      <td id=\"T_152bb_row1_col10\" class=\"data row1 col10\" >0.653249</td>\n",
       "      <td id=\"T_152bb_row1_col11\" class=\"data row1 col11\" >0.771505</td>\n",
       "      <td id=\"T_152bb_row1_col12\" class=\"data row1 col12\" >0.830598</td>\n",
       "    </tr>\n",
       "    <tr>\n",
       "      <th id=\"T_152bb_level0_row2\" class=\"row_heading level0 row2\" >2</th>\n",
       "      <td id=\"T_152bb_row2_col0\" class=\"data row2 col0\" >-5.820102</td>\n",
       "      <td id=\"T_152bb_row2_col1\" class=\"data row2 col1\" >-35.220838</td>\n",
       "      <td id=\"T_152bb_row2_col2\" class=\"data row2 col2\" >5</td>\n",
       "      <td id=\"T_152bb_row2_col3\" class=\"data row2 col3\" >0.000000</td>\n",
       "      <td id=\"T_152bb_row2_col4\" class=\"data row2 col4\" >→</td>\n",
       "      <td id=\"T_152bb_row2_col5\" class=\"data row2 col5\" >-5.820102</td>\n",
       "      <td id=\"T_152bb_row2_col6\" class=\"data row2 col6\" >-35.220838</td>\n",
       "      <td id=\"T_152bb_row2_col7\" class=\"data row2 col7\" >5</td>\n",
       "      <td id=\"T_152bb_row2_col8\" class=\"data row2 col8\" >-0.000000</td>\n",
       "      <td id=\"T_152bb_row2_col9\" class=\"data row2 col9\" > </td>\n",
       "      <td id=\"T_152bb_row2_col10\" class=\"data row2 col10\" >0.653249</td>\n",
       "      <td id=\"T_152bb_row2_col11\" class=\"data row2 col11\" >0.771505</td>\n",
       "      <td id=\"T_152bb_row2_col12\" class=\"data row2 col12\" >0.830598</td>\n",
       "    </tr>\n",
       "    <tr>\n",
       "      <th id=\"T_152bb_level0_row3\" class=\"row_heading level0 row3\" >3</th>\n",
       "      <td id=\"T_152bb_row3_col0\" class=\"data row3 col0\" >-5.820096</td>\n",
       "      <td id=\"T_152bb_row3_col1\" class=\"data row3 col1\" >-35.220843</td>\n",
       "      <td id=\"T_152bb_row3_col2\" class=\"data row3 col2\" >3</td>\n",
       "      <td id=\"T_152bb_row3_col3\" class=\"data row3 col3\" >-0.555556</td>\n",
       "      <td id=\"T_152bb_row3_col4\" class=\"data row3 col4\" >→</td>\n",
       "      <td id=\"T_152bb_row3_col5\" class=\"data row3 col5\" >-5.820096</td>\n",
       "      <td id=\"T_152bb_row3_col6\" class=\"data row3 col6\" >-35.220843</td>\n",
       "      <td id=\"T_152bb_row3_col7\" class=\"data row3 col7\" >3</td>\n",
       "      <td id=\"T_152bb_row3_col8\" class=\"data row3 col8\" >-0.000000</td>\n",
       "      <td id=\"T_152bb_row3_col9\" class=\"data row3 col9\" > </td>\n",
       "      <td id=\"T_152bb_row3_col10\" class=\"data row3 col10\" >0.679275</td>\n",
       "      <td id=\"T_152bb_row3_col11\" class=\"data row3 col11\" >0.659013</td>\n",
       "      <td id=\"T_152bb_row3_col12\" class=\"data row3 col12\" >0.659013</td>\n",
       "    </tr>\n",
       "    <tr>\n",
       "      <th id=\"T_152bb_level0_row4\" class=\"row_heading level0 row4\" >4</th>\n",
       "      <td id=\"T_152bb_row4_col0\" class=\"data row4 col0\" >-5.820091</td>\n",
       "      <td id=\"T_152bb_row4_col1\" class=\"data row4 col1\" >-35.220850</td>\n",
       "      <td id=\"T_152bb_row4_col2\" class=\"data row4 col2\" >0</td>\n",
       "      <td id=\"T_152bb_row4_col3\" class=\"data row4 col3\" >-0.833333</td>\n",
       "      <td id=\"T_152bb_row4_col4\" class=\"data row4 col4\" >→</td>\n",
       "      <td id=\"T_152bb_row4_col5\" class=\"data row4 col5\" >-5.820091</td>\n",
       "      <td id=\"T_152bb_row4_col6\" class=\"data row4 col6\" >-35.220850</td>\n",
       "      <td id=\"T_152bb_row4_col7\" class=\"data row4 col7\" >0</td>\n",
       "      <td id=\"T_152bb_row4_col8\" class=\"data row4 col8\" >-0.000000</td>\n",
       "      <td id=\"T_152bb_row4_col9\" class=\"data row4 col9\" > </td>\n",
       "      <td id=\"T_152bb_row4_col10\" class=\"data row4 col10\" >0.610306</td>\n",
       "      <td id=\"T_152bb_row4_col11\" class=\"data row4 col11\" >0.667689</td>\n",
       "      <td id=\"T_152bb_row4_col12\" class=\"data row4 col12\" >0.667689</td>\n",
       "    </tr>\n",
       "    <tr>\n",
       "      <th id=\"T_152bb_level0_row5\" class=\"row_heading level0 row5\" >5</th>\n",
       "      <td id=\"T_152bb_row5_col0\" class=\"data row5 col0\" >-5.820091</td>\n",
       "      <td id=\"T_152bb_row5_col1\" class=\"data row5 col1\" >-35.220850</td>\n",
       "      <td id=\"T_152bb_row5_col2\" class=\"data row5 col2\" >0</td>\n",
       "      <td id=\"T_152bb_row5_col3\" class=\"data row5 col3\" >0.000000</td>\n",
       "      <td id=\"T_152bb_row5_col4\" class=\"data row5 col4\" >→</td>\n",
       "      <td id=\"T_152bb_row5_col5\" class=\"data row5 col5\" >-5.820091</td>\n",
       "      <td id=\"T_152bb_row5_col6\" class=\"data row5 col6\" >-35.220850</td>\n",
       "      <td id=\"T_152bb_row5_col7\" class=\"data row5 col7\" >0</td>\n",
       "      <td id=\"T_152bb_row5_col8\" class=\"data row5 col8\" >-0.000000</td>\n",
       "      <td id=\"T_152bb_row5_col9\" class=\"data row5 col9\" > </td>\n",
       "      <td id=\"T_152bb_row5_col10\" class=\"data row5 col10\" >0.610306</td>\n",
       "      <td id=\"T_152bb_row5_col11\" class=\"data row5 col11\" >0.706858</td>\n",
       "      <td id=\"T_152bb_row5_col12\" class=\"data row5 col12\" >0.667689</td>\n",
       "    </tr>\n",
       "    <tr>\n",
       "      <th id=\"T_152bb_level0_row6\" class=\"row_heading level0 row6\" >6</th>\n",
       "      <td id=\"T_152bb_row6_col0\" class=\"data row6 col0\" >-5.820091</td>\n",
       "      <td id=\"T_152bb_row6_col1\" class=\"data row6 col1\" >-35.220850</td>\n",
       "      <td id=\"T_152bb_row6_col2\" class=\"data row6 col2\" >0</td>\n",
       "      <td id=\"T_152bb_row6_col3\" class=\"data row6 col3\" >0.000000</td>\n",
       "      <td id=\"T_152bb_row6_col4\" class=\"data row6 col4\" >→</td>\n",
       "      <td id=\"T_152bb_row6_col5\" class=\"data row6 col5\" >-5.820091</td>\n",
       "      <td id=\"T_152bb_row6_col6\" class=\"data row6 col6\" >-35.220850</td>\n",
       "      <td id=\"T_152bb_row6_col7\" class=\"data row6 col7\" >0</td>\n",
       "      <td id=\"T_152bb_row6_col8\" class=\"data row6 col8\" >-0.000000</td>\n",
       "      <td id=\"T_152bb_row6_col9\" class=\"data row6 col9\" > </td>\n",
       "      <td id=\"T_152bb_row6_col10\" class=\"data row6 col10\" >0.490587</td>\n",
       "      <td id=\"T_152bb_row6_col11\" class=\"data row6 col11\" >0.706858</td>\n",
       "      <td id=\"T_152bb_row6_col12\" class=\"data row6 col12\" >0.667689</td>\n",
       "    </tr>\n",
       "    <tr>\n",
       "      <th id=\"T_152bb_level0_row7\" class=\"row_heading level0 row7\" >7</th>\n",
       "      <td id=\"T_152bb_row7_col0\" class=\"data row7 col0\" >-5.820085</td>\n",
       "      <td id=\"T_152bb_row7_col1\" class=\"data row7 col1\" >-35.220856</td>\n",
       "      <td id=\"T_152bb_row7_col2\" class=\"data row7 col2\" >3</td>\n",
       "      <td id=\"T_152bb_row7_col3\" class=\"data row7 col3\" >0.833333</td>\n",
       "      <td id=\"T_152bb_row7_col4\" class=\"data row7 col4\" >→</td>\n",
       "      <td id=\"T_152bb_row7_col5\" class=\"data row7 col5\" >-5.820085</td>\n",
       "      <td id=\"T_152bb_row7_col6\" class=\"data row7 col6\" >-35.220856</td>\n",
       "      <td id=\"T_152bb_row7_col7\" class=\"data row7 col7\" >3</td>\n",
       "      <td id=\"T_152bb_row7_col8\" class=\"data row7 col8\" >-0.000000</td>\n",
       "      <td id=\"T_152bb_row7_col9\" class=\"data row7 col9\" > </td>\n",
       "      <td id=\"T_152bb_row7_col10\" class=\"data row7 col10\" >1.090483</td>\n",
       "      <td id=\"T_152bb_row7_col11\" class=\"data row7 col11\" >1.137803</td>\n",
       "      <td id=\"T_152bb_row7_col12\" class=\"data row7 col12\" >0.724289</td>\n",
       "    </tr>\n",
       "    <tr>\n",
       "      <th id=\"T_152bb_level0_row8\" class=\"row_heading level0 row8\" >8</th>\n",
       "      <td id=\"T_152bb_row8_col0\" class=\"data row8 col0\" >-5.820074</td>\n",
       "      <td id=\"T_152bb_row8_col1\" class=\"data row8 col1\" >-35.220859</td>\n",
       "      <td id=\"T_152bb_row8_col2\" class=\"data row8 col2\" >3</td>\n",
       "      <td id=\"T_152bb_row8_col3\" class=\"data row8 col3\" >0.000000</td>\n",
       "      <td id=\"T_152bb_row8_col4\" class=\"data row8 col4\" >→</td>\n",
       "      <td id=\"T_152bb_row8_col5\" class=\"data row8 col5\" >-5.820074</td>\n",
       "      <td id=\"T_152bb_row8_col6\" class=\"data row8 col6\" >-35.220859</td>\n",
       "      <td id=\"T_152bb_row8_col7\" class=\"data row8 col7\" >3</td>\n",
       "      <td id=\"T_152bb_row8_col8\" class=\"data row8 col8\" >-0.000000</td>\n",
       "      <td id=\"T_152bb_row8_col9\" class=\"data row8 col9\" > </td>\n",
       "      <td id=\"T_152bb_row8_col10\" class=\"data row8 col10\" >1.090483</td>\n",
       "      <td id=\"T_152bb_row8_col11\" class=\"data row8 col11\" >1.137803</td>\n",
       "      <td id=\"T_152bb_row8_col12\" class=\"data row8 col12\" >0.724289</td>\n",
       "    </tr>\n",
       "    <tr>\n",
       "      <th id=\"T_152bb_level0_row9\" class=\"row_heading level0 row9\" >9</th>\n",
       "      <td id=\"T_152bb_row9_col0\" class=\"data row9 col0\" >-5.820064</td>\n",
       "      <td id=\"T_152bb_row9_col1\" class=\"data row9 col1\" >-35.220858</td>\n",
       "      <td id=\"T_152bb_row9_col2\" class=\"data row9 col2\" >3</td>\n",
       "      <td id=\"T_152bb_row9_col3\" class=\"data row9 col3\" >0.000000</td>\n",
       "      <td id=\"T_152bb_row9_col4\" class=\"data row9 col4\" >→</td>\n",
       "      <td id=\"T_152bb_row9_col5\" class=\"data row9 col5\" >-5.820064</td>\n",
       "      <td id=\"T_152bb_row9_col6\" class=\"data row9 col6\" >-35.220858</td>\n",
       "      <td id=\"T_152bb_row9_col7\" class=\"data row9 col7\" >3</td>\n",
       "      <td id=\"T_152bb_row9_col8\" class=\"data row9 col8\" >-0.000000</td>\n",
       "      <td id=\"T_152bb_row9_col9\" class=\"data row9 col9\" > </td>\n",
       "      <td id=\"T_152bb_row9_col10\" class=\"data row9 col10\" >0.921315</td>\n",
       "      <td id=\"T_152bb_row9_col11\" class=\"data row9 col11\" >1.137803</td>\n",
       "      <td id=\"T_152bb_row9_col12\" class=\"data row9 col12\" >0.724289</td>\n",
       "    </tr>\n",
       "  </tbody>\n",
       "</table>\n"
      ],
      "text/plain": [
       "<pandas.io.formats.style.Styler at 0x20ef05ef690>"
      ]
     },
     "metadata": {},
     "output_type": "display_data"
    },
    {
     "data": {
      "application/vnd.plotly.v1+json": {
       "config": {
        "plotlyServerURL": "https://plot.ly"
       },
       "data": [
        {
         "line": {
          "color": "green",
          "dash": "dot"
         },
         "mode": "lines",
         "name": "Real",
         "type": "scatter",
         "y": {
          "bdata": "Xv2WDSKS5D+bk2QeaufkP5uTZB5q5+Q/NotmSJ685T/ehxTZoIfjP96HFNmgh+M/M5CwL8hl3z/dnA9wnnLxP92cD3CecvE/T3ASz2l77T+UX3iidnLyPz8yMAV+Z/Q/PzIwBX5n9D8ti7UITBb8PzhhcBqj5vk/KSOOULfS8D8pI45Qt9LwP7us/CApG+8/cjYv8OP84z+t9vIuJyjgP6328i4nKOA/geLz0z/39T+rgxXuOvLzP6uDFe468vM/mb1aTGW9AEB0UCWuXTcFQJNSfcM51QFAk1J9wznVAUDU4Eocwdz0P40G4N+x0N0/MaWrxsVQ3T+Gb8fSpWfjP4Zvx9KlZ+M/RJASr2yy4j+u4feXKT3iPxtsE+QD5v0/G2wT5APm/T9xVW+Vh+D+P/WBu/ZpMek/9YG79mkx6T8EcmzGOjzYP6VZboDtdf4/WOugB2mlAEBY66AHaaUAQFcs1yJHEfo/jF/HYiTM+D+vRCQpQjH6P69EJClCMfo/IlLOZdxR9j8U6vVt9WfxP9L1RbO+x/I/0vVFs77H8j9JPCZTdgbrPy3PofTAJtk/Lc+h9MAm2T83dmuxoNHXP5m9WkxlveA/wxqQeuun4T/DGpB666fhPy5sdWOoMgFAN3ZrsaDRB0CTtalUUskJQJO1qVRSyQlAUQXmhZA5CECzrwGybRkJQLOvAbJtGQlAadNRH3liAkDxyvHJCOv/P/HK8ckI6/8/ZYpqDIgCAkDcITJ38e4HQFhbyHe+Nvk/WFvId742+T+BiQxRzfvaP+KMDwAd1/Y/4owPAB3X9j9nuVth/yfxP4GJDFHN+9o/VyzXIkcR2j9XLNciRxHKPzhhcBqj5sk/mb1aTGW90D+rqr6oeQbiPxTJ619+uOE/cloUOF8j9z+cBUVJAVwCQO7F9qKMm/w/7sX2ooyb/D8XwP8/+pH1Py66pl3DO9s/YtOg3ya82D8GXXEvPVHKPwZdcS89Uco/3P87AbdmyT8zkLAvyGXPPxdp8ttk2OI/F2ny22TY4j/s9fsW3vTiP/4o4Wa23vY/g+DZ9mxa+z8=",
          "dtype": "f8"
         }
        },
        {
         "line": {
          "color": "blue",
          "dash": "dash"
         },
         "mode": "lines",
         "name": "Predição Original",
         "type": "scatter",
         "y": {
          "bdata": "A1nGMaLD5z/rGxZ+K7DoP+sbFn4rsOg/ZNKEuKEW5T8gJJx1tV3lP1qolBeUnuY/WqiUF5Se5j8vN5pfcTTyPy83ml9xNPI/LzeaX3E08j8LUj4DVmv0P2cHXp66ovQ/lajUrwhy8z8ERxYOSyj4P0gf5HQeCfI/if7LZHnq7z8XHaiiCV3vP6Btm6JJmew/vGW1En/65z9MP1pTWq7wP/J2f86FGvA/Rx/yOxHc8D9HH/I7EdzwP0cf8jsR3PA/Wi2PK9ct9T99iPbmwzv1P+s7h6uSvvI/jlifB2hB+z/KAreWPx7tP2CGcv2h3+w/DE1YhnUh4z+r91rqETzvPzST+4nO/eQ/tcGbWjP25j8r0X6ZskrsPzXVexnn+PI/jsX9rHxr8z+YODlE2Q7zPxrw1xsMw+0/6+G9lxVx7T+VLCu5vQ3pP5kI65KAuvA/xV7vM9nJ8j+3rXXsTRn+P7nipTU15fQ/Ahig1qK48j97HMyYL2j0P61VsDSbgfU/gKXeX7rt9D8lL/FG5m/yP1D9sJ1ASPI/ONgUq37H8z/SblJX33btP6Pvp4KhC+M/A1unplDL5j/tVn03pGviP09EUKldGOg/RjLkVnwe6D+bSQJT7m7oP/kNtZK+Z+k/BO79CuHa9z9uhs6rFD4AQDSsx4gppPs/JoJSHH6Y9j8b5eo1rb34P7wp1TtfOgFA605wkeGE9z+CQHPA6Nf7P96W8dRj7vo/77f/lcKE+T8/0HaFb3j5P0ixId0VM/o/2QaTrAQF9T89ims167HjP+Roiw7ssfA/N+aifBlj8D+LMRVBlGrvP6CylwUtpOE/UCAMIn9U4D86TWpu5ebtP5PEfPDbnN0/8ql5Nfn/4D83OrmjNxvhP9ETGcqqqOg/TEBpKYVw9j/5y4EaW9T4P6g7DuceO/U/scgFb/N/8D+73vRQdeXuP5DaSmyYQ+A/1hTHV/j+2j9wnnVfpazbPzJoid+r2eU/KlRdoNof2z8xuA2DPjffP3qotC6cE+Y/eqi0LpwT5j96qLQunBPmPwHia4Ko5fc/29W9hKHm9z8=",
          "dtype": "f8"
         }
        },
        {
         "line": {
          "color": "red"
         },
         "mode": "lines",
         "name": "Predição com RM",
         "type": "scatter",
         "y": {
          "bdata": "ZNKEuKEW5T9ejQxnQpTqP16NDGdClOo/ZNKEuKEW5T8gJJx1tV3lPyAknHW1XeU/ICScdbVd5T/FNyghYC3nP8U3KCFgLec/xTcoIWAt5z8scwLYboLsPwbAVK2Mhuo/MykxMf1S7D94QcLJ7izuP6ZYdcGb2eQ/Tt0OyFxy5T+7OIoOfuPkP0CbG8p78uI/vGW1En/65z+8ZbUSf/rnPzPWqo29DfE/ajZtanAZ8j9qNm1qcBnyP2o2bWpwGfI/PFnKYak68j8wKoviISjsPylqHYB37uY/PK6la8We6T+hyQvfAH7cP6HJC98Aftw/DE1YhnUh4z82YTRrrvXjPzST+4nO/eQ/tcGbWjP25j/RPvSOBsnqP9E+9I4Gyeo/jsX9rHxr8z+5K+HgV8TlPwmaHDlYg+Q/hT6HO2Wf5T+pXshaxxvoP6leyFrHG+g/4TWeXXet5D8CMC5hJFryP+i9Xq9FL+0/ZVobT2H86z9+irjwR8/qP8N57/wYY+o/cN/JPvRx8D/Mp5LEv5HuP8ynksS/ke4/BmuevUbW6j/FgxfOqV/nP6Pvp4KhC+M/o++ngqEL4z9wba5GFZHgPyMZuawFw+M/aVzBPoNP6D9pXME+g0/oP22INSJnuuU/7/ofMWQI7j/v+h8xZAjuP75StPnonfU/OYrK53Wu8T9nMz4WLhjyP+ZnAHwLVvA/NYPeMLsD7j8Wa1Ug/gPsPxPWXMZ4lOs/LVN0sdpf6z9O3y1IUvLpP1fxhhawsOs/CJsr7EYn5D89ims167HjPz2KazXrseM/azN7CHp+4z+zzLzpVOnhP6CylwUtpOE/kIDtLUdX4j+QgO0tR1fiPyA2eRKTD+c/8ql5Nfn/4D83OrmjNxvhPzc6uaM3G+E/P4KtzGQi8D+mWIrnCcnxP4lnizUY8u4/vA2+LRst5T9GUbUpq/jiP5DaSmyYQ+A/ViRq8PJU3j9J61Bzmd/gP0nrUHOZ3+A/LdDc9L0Y5D8xuA2DPjffPzG4DYM+N98/MbgNgz433z8xuA2DPjffPz60e65YdeQ/PrR7rlh15D8=",
          "dtype": "f8"
         }
        }
       ],
       "layout": {
        "template": {
         "data": {
          "bar": [
           {
            "error_x": {
             "color": "#2a3f5f"
            },
            "error_y": {
             "color": "#2a3f5f"
            },
            "marker": {
             "line": {
              "color": "#E5ECF6",
              "width": 0.5
             },
             "pattern": {
              "fillmode": "overlay",
              "size": 10,
              "solidity": 0.2
             }
            },
            "type": "bar"
           }
          ],
          "barpolar": [
           {
            "marker": {
             "line": {
              "color": "#E5ECF6",
              "width": 0.5
             },
             "pattern": {
              "fillmode": "overlay",
              "size": 10,
              "solidity": 0.2
             }
            },
            "type": "barpolar"
           }
          ],
          "carpet": [
           {
            "aaxis": {
             "endlinecolor": "#2a3f5f",
             "gridcolor": "white",
             "linecolor": "white",
             "minorgridcolor": "white",
             "startlinecolor": "#2a3f5f"
            },
            "baxis": {
             "endlinecolor": "#2a3f5f",
             "gridcolor": "white",
             "linecolor": "white",
             "minorgridcolor": "white",
             "startlinecolor": "#2a3f5f"
            },
            "type": "carpet"
           }
          ],
          "choropleth": [
           {
            "colorbar": {
             "outlinewidth": 0,
             "ticks": ""
            },
            "type": "choropleth"
           }
          ],
          "contour": [
           {
            "colorbar": {
             "outlinewidth": 0,
             "ticks": ""
            },
            "colorscale": [
             [
              0,
              "#0d0887"
             ],
             [
              0.1111111111111111,
              "#46039f"
             ],
             [
              0.2222222222222222,
              "#7201a8"
             ],
             [
              0.3333333333333333,
              "#9c179e"
             ],
             [
              0.4444444444444444,
              "#bd3786"
             ],
             [
              0.5555555555555556,
              "#d8576b"
             ],
             [
              0.6666666666666666,
              "#ed7953"
             ],
             [
              0.7777777777777778,
              "#fb9f3a"
             ],
             [
              0.8888888888888888,
              "#fdca26"
             ],
             [
              1,
              "#f0f921"
             ]
            ],
            "type": "contour"
           }
          ],
          "contourcarpet": [
           {
            "colorbar": {
             "outlinewidth": 0,
             "ticks": ""
            },
            "type": "contourcarpet"
           }
          ],
          "heatmap": [
           {
            "colorbar": {
             "outlinewidth": 0,
             "ticks": ""
            },
            "colorscale": [
             [
              0,
              "#0d0887"
             ],
             [
              0.1111111111111111,
              "#46039f"
             ],
             [
              0.2222222222222222,
              "#7201a8"
             ],
             [
              0.3333333333333333,
              "#9c179e"
             ],
             [
              0.4444444444444444,
              "#bd3786"
             ],
             [
              0.5555555555555556,
              "#d8576b"
             ],
             [
              0.6666666666666666,
              "#ed7953"
             ],
             [
              0.7777777777777778,
              "#fb9f3a"
             ],
             [
              0.8888888888888888,
              "#fdca26"
             ],
             [
              1,
              "#f0f921"
             ]
            ],
            "type": "heatmap"
           }
          ],
          "histogram": [
           {
            "marker": {
             "pattern": {
              "fillmode": "overlay",
              "size": 10,
              "solidity": 0.2
             }
            },
            "type": "histogram"
           }
          ],
          "histogram2d": [
           {
            "colorbar": {
             "outlinewidth": 0,
             "ticks": ""
            },
            "colorscale": [
             [
              0,
              "#0d0887"
             ],
             [
              0.1111111111111111,
              "#46039f"
             ],
             [
              0.2222222222222222,
              "#7201a8"
             ],
             [
              0.3333333333333333,
              "#9c179e"
             ],
             [
              0.4444444444444444,
              "#bd3786"
             ],
             [
              0.5555555555555556,
              "#d8576b"
             ],
             [
              0.6666666666666666,
              "#ed7953"
             ],
             [
              0.7777777777777778,
              "#fb9f3a"
             ],
             [
              0.8888888888888888,
              "#fdca26"
             ],
             [
              1,
              "#f0f921"
             ]
            ],
            "type": "histogram2d"
           }
          ],
          "histogram2dcontour": [
           {
            "colorbar": {
             "outlinewidth": 0,
             "ticks": ""
            },
            "colorscale": [
             [
              0,
              "#0d0887"
             ],
             [
              0.1111111111111111,
              "#46039f"
             ],
             [
              0.2222222222222222,
              "#7201a8"
             ],
             [
              0.3333333333333333,
              "#9c179e"
             ],
             [
              0.4444444444444444,
              "#bd3786"
             ],
             [
              0.5555555555555556,
              "#d8576b"
             ],
             [
              0.6666666666666666,
              "#ed7953"
             ],
             [
              0.7777777777777778,
              "#fb9f3a"
             ],
             [
              0.8888888888888888,
              "#fdca26"
             ],
             [
              1,
              "#f0f921"
             ]
            ],
            "type": "histogram2dcontour"
           }
          ],
          "mesh3d": [
           {
            "colorbar": {
             "outlinewidth": 0,
             "ticks": ""
            },
            "type": "mesh3d"
           }
          ],
          "parcoords": [
           {
            "line": {
             "colorbar": {
              "outlinewidth": 0,
              "ticks": ""
             }
            },
            "type": "parcoords"
           }
          ],
          "pie": [
           {
            "automargin": true,
            "type": "pie"
           }
          ],
          "scatter": [
           {
            "fillpattern": {
             "fillmode": "overlay",
             "size": 10,
             "solidity": 0.2
            },
            "type": "scatter"
           }
          ],
          "scatter3d": [
           {
            "line": {
             "colorbar": {
              "outlinewidth": 0,
              "ticks": ""
             }
            },
            "marker": {
             "colorbar": {
              "outlinewidth": 0,
              "ticks": ""
             }
            },
            "type": "scatter3d"
           }
          ],
          "scattercarpet": [
           {
            "marker": {
             "colorbar": {
              "outlinewidth": 0,
              "ticks": ""
             }
            },
            "type": "scattercarpet"
           }
          ],
          "scattergeo": [
           {
            "marker": {
             "colorbar": {
              "outlinewidth": 0,
              "ticks": ""
             }
            },
            "type": "scattergeo"
           }
          ],
          "scattergl": [
           {
            "marker": {
             "colorbar": {
              "outlinewidth": 0,
              "ticks": ""
             }
            },
            "type": "scattergl"
           }
          ],
          "scattermap": [
           {
            "marker": {
             "colorbar": {
              "outlinewidth": 0,
              "ticks": ""
             }
            },
            "type": "scattermap"
           }
          ],
          "scattermapbox": [
           {
            "marker": {
             "colorbar": {
              "outlinewidth": 0,
              "ticks": ""
             }
            },
            "type": "scattermapbox"
           }
          ],
          "scatterpolar": [
           {
            "marker": {
             "colorbar": {
              "outlinewidth": 0,
              "ticks": ""
             }
            },
            "type": "scatterpolar"
           }
          ],
          "scatterpolargl": [
           {
            "marker": {
             "colorbar": {
              "outlinewidth": 0,
              "ticks": ""
             }
            },
            "type": "scatterpolargl"
           }
          ],
          "scatterternary": [
           {
            "marker": {
             "colorbar": {
              "outlinewidth": 0,
              "ticks": ""
             }
            },
            "type": "scatterternary"
           }
          ],
          "surface": [
           {
            "colorbar": {
             "outlinewidth": 0,
             "ticks": ""
            },
            "colorscale": [
             [
              0,
              "#0d0887"
             ],
             [
              0.1111111111111111,
              "#46039f"
             ],
             [
              0.2222222222222222,
              "#7201a8"
             ],
             [
              0.3333333333333333,
              "#9c179e"
             ],
             [
              0.4444444444444444,
              "#bd3786"
             ],
             [
              0.5555555555555556,
              "#d8576b"
             ],
             [
              0.6666666666666666,
              "#ed7953"
             ],
             [
              0.7777777777777778,
              "#fb9f3a"
             ],
             [
              0.8888888888888888,
              "#fdca26"
             ],
             [
              1,
              "#f0f921"
             ]
            ],
            "type": "surface"
           }
          ],
          "table": [
           {
            "cells": {
             "fill": {
              "color": "#EBF0F8"
             },
             "line": {
              "color": "white"
             }
            },
            "header": {
             "fill": {
              "color": "#C8D4E3"
             },
             "line": {
              "color": "white"
             }
            },
            "type": "table"
           }
          ]
         },
         "layout": {
          "annotationdefaults": {
           "arrowcolor": "#2a3f5f",
           "arrowhead": 0,
           "arrowwidth": 1
          },
          "autotypenumbers": "strict",
          "coloraxis": {
           "colorbar": {
            "outlinewidth": 0,
            "ticks": ""
           }
          },
          "colorscale": {
           "diverging": [
            [
             0,
             "#8e0152"
            ],
            [
             0.1,
             "#c51b7d"
            ],
            [
             0.2,
             "#de77ae"
            ],
            [
             0.3,
             "#f1b6da"
            ],
            [
             0.4,
             "#fde0ef"
            ],
            [
             0.5,
             "#f7f7f7"
            ],
            [
             0.6,
             "#e6f5d0"
            ],
            [
             0.7,
             "#b8e186"
            ],
            [
             0.8,
             "#7fbc41"
            ],
            [
             0.9,
             "#4d9221"
            ],
            [
             1,
             "#276419"
            ]
           ],
           "sequential": [
            [
             0,
             "#0d0887"
            ],
            [
             0.1111111111111111,
             "#46039f"
            ],
            [
             0.2222222222222222,
             "#7201a8"
            ],
            [
             0.3333333333333333,
             "#9c179e"
            ],
            [
             0.4444444444444444,
             "#bd3786"
            ],
            [
             0.5555555555555556,
             "#d8576b"
            ],
            [
             0.6666666666666666,
             "#ed7953"
            ],
            [
             0.7777777777777778,
             "#fb9f3a"
            ],
            [
             0.8888888888888888,
             "#fdca26"
            ],
            [
             1,
             "#f0f921"
            ]
           ],
           "sequentialminus": [
            [
             0,
             "#0d0887"
            ],
            [
             0.1111111111111111,
             "#46039f"
            ],
            [
             0.2222222222222222,
             "#7201a8"
            ],
            [
             0.3333333333333333,
             "#9c179e"
            ],
            [
             0.4444444444444444,
             "#bd3786"
            ],
            [
             0.5555555555555556,
             "#d8576b"
            ],
            [
             0.6666666666666666,
             "#ed7953"
            ],
            [
             0.7777777777777778,
             "#fb9f3a"
            ],
            [
             0.8888888888888888,
             "#fdca26"
            ],
            [
             1,
             "#f0f921"
            ]
           ]
          },
          "colorway": [
           "#636efa",
           "#EF553B",
           "#00cc96",
           "#ab63fa",
           "#FFA15A",
           "#19d3f3",
           "#FF6692",
           "#B6E880",
           "#FF97FF",
           "#FECB52"
          ],
          "font": {
           "color": "#2a3f5f"
          },
          "geo": {
           "bgcolor": "white",
           "lakecolor": "white",
           "landcolor": "#E5ECF6",
           "showlakes": true,
           "showland": true,
           "subunitcolor": "white"
          },
          "hoverlabel": {
           "align": "left"
          },
          "hovermode": "closest",
          "mapbox": {
           "style": "light"
          },
          "paper_bgcolor": "white",
          "plot_bgcolor": "#E5ECF6",
          "polar": {
           "angularaxis": {
            "gridcolor": "white",
            "linecolor": "white",
            "ticks": ""
           },
           "bgcolor": "#E5ECF6",
           "radialaxis": {
            "gridcolor": "white",
            "linecolor": "white",
            "ticks": ""
           }
          },
          "scene": {
           "xaxis": {
            "backgroundcolor": "#E5ECF6",
            "gridcolor": "white",
            "gridwidth": 2,
            "linecolor": "white",
            "showbackground": true,
            "ticks": "",
            "zerolinecolor": "white"
           },
           "yaxis": {
            "backgroundcolor": "#E5ECF6",
            "gridcolor": "white",
            "gridwidth": 2,
            "linecolor": "white",
            "showbackground": true,
            "ticks": "",
            "zerolinecolor": "white"
           },
           "zaxis": {
            "backgroundcolor": "#E5ECF6",
            "gridcolor": "white",
            "gridwidth": 2,
            "linecolor": "white",
            "showbackground": true,
            "ticks": "",
            "zerolinecolor": "white"
           }
          },
          "shapedefaults": {
           "line": {
            "color": "#2a3f5f"
           }
          },
          "ternary": {
           "aaxis": {
            "gridcolor": "white",
            "linecolor": "white",
            "ticks": ""
           },
           "baxis": {
            "gridcolor": "white",
            "linecolor": "white",
            "ticks": ""
           },
           "bgcolor": "#E5ECF6",
           "caxis": {
            "gridcolor": "white",
            "linecolor": "white",
            "ticks": ""
           }
          },
          "title": {
           "x": 0.05
          },
          "xaxis": {
           "automargin": true,
           "gridcolor": "white",
           "linecolor": "white",
           "ticks": "",
           "title": {
            "standoff": 15
           },
           "zerolinecolor": "white",
           "zerolinewidth": 2
          },
          "yaxis": {
           "automargin": true,
           "gridcolor": "white",
           "linecolor": "white",
           "ticks": "",
           "title": {
            "standoff": 15
           },
           "zerolinecolor": "white",
           "zerolinewidth": 2
          }
         }
        },
        "title": {
         "text": "Comparação CO₂ - RM3 - Aceleração constante - ETHANOL"
        },
        "xaxis": {
         "title": {
          "text": "Amostras"
         }
        },
        "yaxis": {
         "title": {
          "text": "CO₂ (g/s)"
         }
        }
       }
      }
     },
     "metadata": {},
     "output_type": "display_data"
    },
    {
     "name": "stdout",
     "output_type": "stream",
     "text": [
      "\n",
      "🔁 RM3 - Aceleração constante (GASOLINE)\n",
      "Diferença Média: 0.3311 | Diferença Máxima: 2.1784 | Erro Quadrático Médio (RMSE): 0.4981 | Desvio Padrão (Std): 0.3721\n"
     ]
    },
    {
     "data": {
      "text/html": [
       "<style type=\"text/css\">\n",
       "</style>\n",
       "<table id=\"T_70894\">\n",
       "  <caption>Comparação dos dados originais e modificados - RM3 - Aceleração constante (GASOLINE)</caption>\n",
       "  <thead>\n",
       "    <tr>\n",
       "      <th class=\"blank level0\" >&nbsp;</th>\n",
       "      <th id=\"T_70894_level0_col0\" class=\"col_heading level0 col0\" >Latitude_Orig</th>\n",
       "      <th id=\"T_70894_level0_col1\" class=\"col_heading level0 col1\" >Longitude_Orig</th>\n",
       "      <th id=\"T_70894_level0_col2\" class=\"col_heading level0 col2\" >Speed(OBD)(km/h)_Orig</th>\n",
       "      <th id=\"T_70894_level0_col3\" class=\"col_heading level0 col3\" >Acceleration_Orig</th>\n",
       "      <th id=\"T_70894_level0_col4\" class=\"col_heading level0 col4\" > </th>\n",
       "      <th id=\"T_70894_level0_col5\" class=\"col_heading level0 col5\" >Latitude_Mod</th>\n",
       "      <th id=\"T_70894_level0_col6\" class=\"col_heading level0 col6\" >Longitude_Mod</th>\n",
       "      <th id=\"T_70894_level0_col7\" class=\"col_heading level0 col7\" >Speed(OBD)(km/h)_Mod</th>\n",
       "      <th id=\"T_70894_level0_col8\" class=\"col_heading level0 col8\" >Acceleration_Mod</th>\n",
       "      <th id=\"T_70894_level0_col9\" class=\"col_heading level0 col9\" > </th>\n",
       "      <th id=\"T_70894_level0_col10\" class=\"col_heading level0 col10\" >CO₂_Real</th>\n",
       "      <th id=\"T_70894_level0_col11\" class=\"col_heading level0 col11\" >CO₂_Orig</th>\n",
       "      <th id=\"T_70894_level0_col12\" class=\"col_heading level0 col12\" >CO₂_Mod</th>\n",
       "    </tr>\n",
       "  </thead>\n",
       "  <tbody>\n",
       "    <tr>\n",
       "      <th id=\"T_70894_level0_row0\" class=\"row_heading level0 row0\" >0</th>\n",
       "      <td id=\"T_70894_row0_col0\" class=\"data row0 col0\" >-5.820010</td>\n",
       "      <td id=\"T_70894_row0_col1\" class=\"data row0 col1\" >-35.220825</td>\n",
       "      <td id=\"T_70894_row0_col2\" class=\"data row0 col2\" >5</td>\n",
       "      <td id=\"T_70894_row0_col3\" class=\"data row0 col3\" >0.000000</td>\n",
       "      <td id=\"T_70894_row0_col4\" class=\"data row0 col4\" >→</td>\n",
       "      <td id=\"T_70894_row0_col5\" class=\"data row0 col5\" >-5.820010</td>\n",
       "      <td id=\"T_70894_row0_col6\" class=\"data row0 col6\" >-35.220825</td>\n",
       "      <td id=\"T_70894_row0_col7\" class=\"data row0 col7\" >5</td>\n",
       "      <td id=\"T_70894_row0_col8\" class=\"data row0 col8\" >-0.000733</td>\n",
       "      <td id=\"T_70894_row0_col9\" class=\"data row0 col9\" > </td>\n",
       "      <td id=\"T_70894_row0_col10\" class=\"data row0 col10\" >1.002671</td>\n",
       "      <td id=\"T_70894_row0_col11\" class=\"data row0 col11\" >1.456781</td>\n",
       "      <td id=\"T_70894_row0_col12\" class=\"data row0 col12\" >1.016708</td>\n",
       "    </tr>\n",
       "    <tr>\n",
       "      <th id=\"T_70894_level0_row1\" class=\"row_heading level0 row1\" >1</th>\n",
       "      <td id=\"T_70894_row1_col0\" class=\"data row1 col0\" >-5.820013</td>\n",
       "      <td id=\"T_70894_row1_col1\" class=\"data row1 col1\" >-35.220822</td>\n",
       "      <td id=\"T_70894_row1_col2\" class=\"data row1 col2\" >4</td>\n",
       "      <td id=\"T_70894_row1_col3\" class=\"data row1 col3\" >-0.277778</td>\n",
       "      <td id=\"T_70894_row1_col4\" class=\"data row1 col4\" >→</td>\n",
       "      <td id=\"T_70894_row1_col5\" class=\"data row1 col5\" >-5.820013</td>\n",
       "      <td id=\"T_70894_row1_col6\" class=\"data row1 col6\" >-35.220822</td>\n",
       "      <td id=\"T_70894_row1_col7\" class=\"data row1 col7\" >4</td>\n",
       "      <td id=\"T_70894_row1_col8\" class=\"data row1 col8\" >-0.000733</td>\n",
       "      <td id=\"T_70894_row1_col9\" class=\"data row1 col9\" > </td>\n",
       "      <td id=\"T_70894_row1_col10\" class=\"data row1 col10\" >1.013360</td>\n",
       "      <td id=\"T_70894_row1_col11\" class=\"data row1 col11\" >1.016708</td>\n",
       "      <td id=\"T_70894_row1_col12\" class=\"data row1 col12\" >1.016708</td>\n",
       "    </tr>\n",
       "    <tr>\n",
       "      <th id=\"T_70894_level0_row2\" class=\"row_heading level0 row2\" >2</th>\n",
       "      <td id=\"T_70894_row2_col0\" class=\"data row2 col0\" >-5.820016</td>\n",
       "      <td id=\"T_70894_row2_col1\" class=\"data row2 col1\" >-35.220819</td>\n",
       "      <td id=\"T_70894_row2_col2\" class=\"data row2 col2\" >5</td>\n",
       "      <td id=\"T_70894_row2_col3\" class=\"data row2 col3\" >0.277778</td>\n",
       "      <td id=\"T_70894_row2_col4\" class=\"data row2 col4\" >→</td>\n",
       "      <td id=\"T_70894_row2_col5\" class=\"data row2 col5\" >-5.820016</td>\n",
       "      <td id=\"T_70894_row2_col6\" class=\"data row2 col6\" >-35.220819</td>\n",
       "      <td id=\"T_70894_row2_col7\" class=\"data row2 col7\" >5</td>\n",
       "      <td id=\"T_70894_row2_col8\" class=\"data row2 col8\" >-0.000733</td>\n",
       "      <td id=\"T_70894_row2_col9\" class=\"data row2 col9\" > </td>\n",
       "      <td id=\"T_70894_row2_col10\" class=\"data row2 col10\" >2.088720</td>\n",
       "      <td id=\"T_70894_row2_col11\" class=\"data row2 col11\" >1.456781</td>\n",
       "      <td id=\"T_70894_row2_col12\" class=\"data row2 col12\" >1.016708</td>\n",
       "    </tr>\n",
       "    <tr>\n",
       "      <th id=\"T_70894_level0_row3\" class=\"row_heading level0 row3\" >3</th>\n",
       "      <td id=\"T_70894_row3_col0\" class=\"data row3 col0\" >-5.820014</td>\n",
       "      <td id=\"T_70894_row3_col1\" class=\"data row3 col1\" >-35.220825</td>\n",
       "      <td id=\"T_70894_row3_col2\" class=\"data row3 col2\" >7</td>\n",
       "      <td id=\"T_70894_row3_col3\" class=\"data row3 col3\" >0.555556</td>\n",
       "      <td id=\"T_70894_row3_col4\" class=\"data row3 col4\" >→</td>\n",
       "      <td id=\"T_70894_row3_col5\" class=\"data row3 col5\" >-5.820014</td>\n",
       "      <td id=\"T_70894_row3_col6\" class=\"data row3 col6\" >-35.220825</td>\n",
       "      <td id=\"T_70894_row3_col7\" class=\"data row3 col7\" >7</td>\n",
       "      <td id=\"T_70894_row3_col8\" class=\"data row3 col8\" >-0.000733</td>\n",
       "      <td id=\"T_70894_row3_col9\" class=\"data row3 col9\" > </td>\n",
       "      <td id=\"T_70894_row3_col10\" class=\"data row3 col10\" >2.261889</td>\n",
       "      <td id=\"T_70894_row3_col11\" class=\"data row3 col11\" >1.996380</td>\n",
       "      <td id=\"T_70894_row3_col12\" class=\"data row3 col12\" >0.972466</td>\n",
       "    </tr>\n",
       "    <tr>\n",
       "      <th id=\"T_70894_level0_row4\" class=\"row_heading level0 row4\" >4</th>\n",
       "      <td id=\"T_70894_row4_col0\" class=\"data row4 col0\" >-5.819992</td>\n",
       "      <td id=\"T_70894_row4_col1\" class=\"data row4 col1\" >-35.220829</td>\n",
       "      <td id=\"T_70894_row4_col2\" class=\"data row4 col2\" >9</td>\n",
       "      <td id=\"T_70894_row4_col3\" class=\"data row4 col3\" >0.555556</td>\n",
       "      <td id=\"T_70894_row4_col4\" class=\"data row4 col4\" >→</td>\n",
       "      <td id=\"T_70894_row4_col5\" class=\"data row4 col5\" >-5.819992</td>\n",
       "      <td id=\"T_70894_row4_col6\" class=\"data row4 col6\" >-35.220829</td>\n",
       "      <td id=\"T_70894_row4_col7\" class=\"data row4 col7\" >9</td>\n",
       "      <td id=\"T_70894_row4_col8\" class=\"data row4 col8\" >-0.000733</td>\n",
       "      <td id=\"T_70894_row4_col9\" class=\"data row4 col9\" > </td>\n",
       "      <td id=\"T_70894_row4_col10\" class=\"data row4 col10\" >2.499195</td>\n",
       "      <td id=\"T_70894_row4_col11\" class=\"data row4 col11\" >2.400486</td>\n",
       "      <td id=\"T_70894_row4_col12\" class=\"data row4 col12\" >1.621746</td>\n",
       "    </tr>\n",
       "    <tr>\n",
       "      <th id=\"T_70894_level0_row5\" class=\"row_heading level0 row5\" >5</th>\n",
       "      <td id=\"T_70894_row5_col0\" class=\"data row5 col0\" >-5.819974</td>\n",
       "      <td id=\"T_70894_row5_col1\" class=\"data row5 col1\" >-35.220824</td>\n",
       "      <td id=\"T_70894_row5_col2\" class=\"data row5 col2\" >12</td>\n",
       "      <td id=\"T_70894_row5_col3\" class=\"data row5 col3\" >0.833333</td>\n",
       "      <td id=\"T_70894_row5_col4\" class=\"data row5 col4\" >→</td>\n",
       "      <td id=\"T_70894_row5_col5\" class=\"data row5 col5\" >-5.819974</td>\n",
       "      <td id=\"T_70894_row5_col6\" class=\"data row5 col6\" >-35.220824</td>\n",
       "      <td id=\"T_70894_row5_col7\" class=\"data row5 col7\" >12</td>\n",
       "      <td id=\"T_70894_row5_col8\" class=\"data row5 col8\" >-0.000733</td>\n",
       "      <td id=\"T_70894_row5_col9\" class=\"data row5 col9\" > </td>\n",
       "      <td id=\"T_70894_row5_col10\" class=\"data row5 col10\" >2.606089</td>\n",
       "      <td id=\"T_70894_row5_col11\" class=\"data row5 col11\" >2.400486</td>\n",
       "      <td id=\"T_70894_row5_col12\" class=\"data row5 col12\" >1.630442</td>\n",
       "    </tr>\n",
       "    <tr>\n",
       "      <th id=\"T_70894_level0_row6\" class=\"row_heading level0 row6\" >6</th>\n",
       "      <td id=\"T_70894_row6_col0\" class=\"data row6 col0\" >-5.819944</td>\n",
       "      <td id=\"T_70894_row6_col1\" class=\"data row6 col1\" >-35.220823</td>\n",
       "      <td id=\"T_70894_row6_col2\" class=\"data row6 col2\" >15</td>\n",
       "      <td id=\"T_70894_row6_col3\" class=\"data row6 col3\" >0.833333</td>\n",
       "      <td id=\"T_70894_row6_col4\" class=\"data row6 col4\" >→</td>\n",
       "      <td id=\"T_70894_row6_col5\" class=\"data row6 col5\" >-5.819944</td>\n",
       "      <td id=\"T_70894_row6_col6\" class=\"data row6 col6\" >-35.220823</td>\n",
       "      <td id=\"T_70894_row6_col7\" class=\"data row6 col7\" >15</td>\n",
       "      <td id=\"T_70894_row6_col8\" class=\"data row6 col8\" >-0.000733</td>\n",
       "      <td id=\"T_70894_row6_col9\" class=\"data row6 col9\" > </td>\n",
       "      <td id=\"T_70894_row6_col10\" class=\"data row6 col10\" >3.070012</td>\n",
       "      <td id=\"T_70894_row6_col11\" class=\"data row6 col11\" >2.148721</td>\n",
       "      <td id=\"T_70894_row6_col12\" class=\"data row6 col12\" >1.361783</td>\n",
       "    </tr>\n",
       "    <tr>\n",
       "      <th id=\"T_70894_level0_row7\" class=\"row_heading level0 row7\" >7</th>\n",
       "      <td id=\"T_70894_row7_col0\" class=\"data row7 col0\" >-5.819908</td>\n",
       "      <td id=\"T_70894_row7_col1\" class=\"data row7 col1\" >-35.220810</td>\n",
       "      <td id=\"T_70894_row7_col2\" class=\"data row7 col2\" >18</td>\n",
       "      <td id=\"T_70894_row7_col3\" class=\"data row7 col3\" >0.833333</td>\n",
       "      <td id=\"T_70894_row7_col4\" class=\"data row7 col4\" >→</td>\n",
       "      <td id=\"T_70894_row7_col5\" class=\"data row7 col5\" >-5.819908</td>\n",
       "      <td id=\"T_70894_row7_col6\" class=\"data row7 col6\" >-35.220810</td>\n",
       "      <td id=\"T_70894_row7_col7\" class=\"data row7 col7\" >18</td>\n",
       "      <td id=\"T_70894_row7_col8\" class=\"data row7 col8\" >-0.000733</td>\n",
       "      <td id=\"T_70894_row7_col9\" class=\"data row7 col9\" > </td>\n",
       "      <td id=\"T_70894_row7_col10\" class=\"data row7 col10\" >2.445747</td>\n",
       "      <td id=\"T_70894_row7_col11\" class=\"data row7 col11\" >1.470940</td>\n",
       "      <td id=\"T_70894_row7_col12\" class=\"data row7 col12\" >0.924451</td>\n",
       "    </tr>\n",
       "    <tr>\n",
       "      <th id=\"T_70894_level0_row8\" class=\"row_heading level0 row8\" >8</th>\n",
       "      <td id=\"T_70894_row8_col0\" class=\"data row8 col0\" >-5.819866</td>\n",
       "      <td id=\"T_70894_row8_col1\" class=\"data row8 col1\" >-35.220794</td>\n",
       "      <td id=\"T_70894_row8_col2\" class=\"data row8 col2\" >18</td>\n",
       "      <td id=\"T_70894_row8_col3\" class=\"data row8 col3\" >0.000000</td>\n",
       "      <td id=\"T_70894_row8_col4\" class=\"data row8 col4\" >→</td>\n",
       "      <td id=\"T_70894_row8_col5\" class=\"data row8 col5\" >-5.819866</td>\n",
       "      <td id=\"T_70894_row8_col6\" class=\"data row8 col6\" >-35.220794</td>\n",
       "      <td id=\"T_70894_row8_col7\" class=\"data row8 col7\" >18</td>\n",
       "      <td id=\"T_70894_row8_col8\" class=\"data row8 col8\" >-0.000733</td>\n",
       "      <td id=\"T_70894_row8_col9\" class=\"data row8 col9\" > </td>\n",
       "      <td id=\"T_70894_row8_col10\" class=\"data row8 col10\" >1.073221</td>\n",
       "      <td id=\"T_70894_row8_col11\" class=\"data row8 col11\" >1.588029</td>\n",
       "      <td id=\"T_70894_row8_col12\" class=\"data row8 col12\" >1.040891</td>\n",
       "    </tr>\n",
       "    <tr>\n",
       "      <th id=\"T_70894_level0_row9\" class=\"row_heading level0 row9\" >9</th>\n",
       "      <td id=\"T_70894_row9_col0\" class=\"data row9 col0\" >-5.819821</td>\n",
       "      <td id=\"T_70894_row9_col1\" class=\"data row9 col1\" >-35.220775</td>\n",
       "      <td id=\"T_70894_row9_col2\" class=\"data row9 col2\" >16</td>\n",
       "      <td id=\"T_70894_row9_col3\" class=\"data row9 col3\" >-0.555556</td>\n",
       "      <td id=\"T_70894_row9_col4\" class=\"data row9 col4\" >→</td>\n",
       "      <td id=\"T_70894_row9_col5\" class=\"data row9 col5\" >-5.819821</td>\n",
       "      <td id=\"T_70894_row9_col6\" class=\"data row9 col6\" >-35.220775</td>\n",
       "      <td id=\"T_70894_row9_col7\" class=\"data row9 col7\" >16</td>\n",
       "      <td id=\"T_70894_row9_col8\" class=\"data row9 col8\" >-0.000733</td>\n",
       "      <td id=\"T_70894_row9_col9\" class=\"data row9 col9\" > </td>\n",
       "      <td id=\"T_70894_row9_col10\" class=\"data row9 col10\" >0.562265</td>\n",
       "      <td id=\"T_70894_row9_col11\" class=\"data row9 col11\" >1.085921</td>\n",
       "      <td id=\"T_70894_row9_col12\" class=\"data row9 col12\" >1.085921</td>\n",
       "    </tr>\n",
       "  </tbody>\n",
       "</table>\n"
      ],
      "text/plain": [
       "<pandas.io.formats.style.Styler at 0x20ef27657d0>"
      ]
     },
     "metadata": {},
     "output_type": "display_data"
    },
    {
     "data": {
      "application/vnd.plotly.v1+json": {
       "config": {
        "plotlyServerURL": "https://plot.ly"
       },
       "data": [
        {
         "line": {
          "color": "green",
          "dash": "dot"
         },
         "mode": "lines",
         "name": "Real",
         "type": "scatter",
         "y": {
          "bdata": "fgFSsvAK8D+A9UFnuTbwP+sFLaeytQBAlHGRLVkYAkBCucXSWf4DQEt9dVtF2QRAqBJmS2KPCEA+120O5JADQCN/TinqK/E/+as09BP+4T+aTWFMs5viP5pNYUyzm+I/XDzytNji+j+dNUG2RPMCQCiGK0XJLgZAUV/NH7tGBUCt9L0P2PwIQMoh0PdM4gZALUmGV/HwAUC7e8iq65kFQJWKBjqL2QZAPtdtDuSQA0A+120O5JADQD/LXcOsvPM/G9QTrTAS5T+dNUG2RPPiPz7XbQ7kkOM/PtdtDuSQ4z+N38u90b/qPypPDv0M2/E/XDzytNjiCkCoDN6lRqUIQKgM3qVGpQhA8yxc66J8D0BuxFHGr5gMQIjedkcOpwVAJ4Cjn61EBkBRX80fu0YFQLWf+IuRFgVAtZ/4i5EWBUBZCgicdGDxP1JTvdSDcvU/1NlvNQHp9z+u1cBdilHkP67VwF2KUeQ/oGcrz6h17D9QRlgTiYXwP5J9oXiQ7PE/kn2heJDs8T/DRQDZ8l7mP79dIG9hB+Y/v10gb2EH5j+/XSBvYQfmP2LnLDGS/OY/sOIlH4U+6T/qekRTCmDuP6BnK8+odew/mWxe/gBHB0CpJVOyeGYNQIFGKTJrZA5AgUYpMmtkDkDqCPF5wKoQQNfm1Pb71QxA1+bU9vvVDEDDRQDZ8l7mP8A4mxf4ceE/+as09BP+4T9i5ywxkvzmP2LnLDGS/OY/QeTSz9596D9B5NLP3n3oPzJEUyiZH+c/MkRTKJkf5z95fPEDZJ/tP3l88QNkn+0/2trEq8QB7T8Lfp60vd7sP9by5EEzquw/LlxzvgfI5j8uXHO+B8jmP79dIG9hB+Y/idJm/NbS5T/DRQDZ8l7mP/jQuUt9k+Y/+NC5S32T5j8g7t0vJuzuPwt+nrS93uw/nH9LZRce7D9q3HFcHkHsP2rccVweQew/H7zzFsJp5T8fvPMWwmnlP/jQuUt9k+Y/LlxzvgfI5j8uXHO+B8jmPy5cc74HyOY/atxxXB5B7D9q3HFcHkHsPwt+nrS93uw/1vLkQTOq7D8=",
          "dtype": "f8"
         }
        },
        {
         "line": {
          "color": "blue",
          "dash": "dash"
         },
         "mode": "lines",
         "name": "Predição Original",
         "type": "scatter",
         "y": {
          "bdata": "nyhPnflO9z9gHHYQcETwP58oT535Tvc/NcYJ3ivx/z/H027bMTQDQMfTbtsxNANAW6JizpQwAUDSiMQk+Ij3P/2q4seQaPk/ZH6eRe5f8T9BGZ5ZmvD3PzitkrX97Pg/sjPog+dN+z+SSuHot2oCQJww0qNNLgNA8cQEdVL2B0A1HTGC8yUFQJ1s4cie0QVAPEfMwV4IAkA8R8zBXggCQF2Pwwd46AFAbpuVTxN2+j/IvXHXsBP6P0OwSlf+P/c/2pPnoDIS6T+hOYU4eCfuPxp0K9BUbOo/ThQjZ9o8AEBABo/x9pL3P3F+mAxJHfY/vjt97VxcAkC1xmrF5DgDQOa6Z/pAWAZAUonaDz/zBED9aMiraIEDQPruFYWieANA+u4VhaJ4A0CoKE294o/7Pxk9jtecgfw/S7H7xD8A/j92WkFYmFz2P7S5Onx/Bvo/RX1rWH4i8z/oY5hva434P1TJv1Fh2es/2F3p5aM27D+RtiC+vPzzP6NexDxw2fI/XyhyWTnN9D+DFQQ4srDxP7jtWJ1vMew/uO1YnW8x7D+47VidbzHsP7jtWJ1vMew/uO1YnW8x7D+47VidbzHsP7jtWJ1vMew/uO1YnW8x7D8nAD+TNLUCQNaKcWWMugZA0Uv5KVIhCEA+8WTkUCIIQPi+a1e0Yw5Ayp9UILRhDkDaMTNkxTIBQMaASEASVe8/28WzSFf/7z9COf9b/WfwPxW/p/5ScP0/VZWNuaJb6j9o0D7Y66zqP2jQPtjrrOo/aNA+2Ous6j9o0D7Y66zqP2jQPtjrrOo/aNA+2Ous6j9o0D7Y66zqP2jQPtjrrOo/aNA+2Ous6j9o0D7Y66zqP2jQPtjrrOo/aNA+2Ous6j9o0D7Y66zqP2jQPtjrrOo/aNA+2Ous6j9o0D7Y66zqP2jQPtjrrOo/aNA+2Ous6j9o0D7Y66zqP2jQPtjrrOo/aNA+2Ous6j9o0D7Y66zqP2jQPtjrrOo/aNA+2Ous6j9o0D7Y66zqP2jQPtjrrOo/aNA+2Ous6j9o0D7Y66zqP2jQPtjrrOo/aNA+2Ous6j8=",
          "dtype": "f8"
         }
        },
        {
         "line": {
          "color": "red"
         },
         "mode": "lines",
         "name": "Predição com RM",
         "type": "scatter",
         "y": {
          "bdata": "YBx2EHBE8D9gHHYQcETwP2AcdhBwRPA/AWfH8HAe7z8/Wsabq/L5P6WlLY1KFvo/KiL5otzJ9T9UxzJIGpXtP9/2+LZ9p/A/ZH6eRe5f8T9BGZ5ZmvD3PzitkrX97Pg/sjPog+dN+z/T+2OcOe/8P3mhGjiqnv4/v058LY88AEAWpuYVXsr/PwB+RspgvP4/f2jBYG6G+D9/aMFgbob4PzcBzuwFKvY/yGZCpwys8j/IZkKnDKzyP2UxaiO7M/I/jhh/6ra88D+hOYU4eCfuP1r0TdC9lvE//rOOZpKi9D8c4o0dyaD5PwVPhyXsh/c/kedD+Zz59z/iJz7YNNT5P9wGF9nwsP8/nHmIuM/h/j/MF/2x9Xn9PxhrkQFl/fo/GGuRAWX9+j8yl0wkWnfzP7Rj0vGs5/M/AkHM7ye09j92WkFYmFz2P3ZaQViYXPY/RX1rWH4i8z9FfWtYfiLzPz9IDDezIfI/iEhZ0rVJ8T/RR5DBJ270P0HFavBRqfI/QcVq8FGp8j+DFQQ4srDxP4MVBDiysPE/gxUEOLKw8T+DFQQ4srDxP4MVBDiysPE/gxUEOLKw8T+DFQQ4srDxP4MVBDiysPE/gxUEOLKw8T9tLDnuuZIAQIvIulpfqgBAPpTyNfs4AEB1a21UQ60EQGemtynBswVAZ6a3KcGzBUBNegV9M8bwP+rVvtk+hvI/VKHFkN798T+IO8DtZfPzP4g7wO1l8/M/1aQOHbok6j/VpA4duiTqP9WkDh26JOo/1aQOHbok6j/VpA4duiTqP9WkDh26JOo/1aQOHbok6j/VpA4duiTqP9WkDh26JOo/1aQOHbok6j/VpA4duiTqP9WkDh26JOo/1aQOHbok6j/VpA4duiTqP9WkDh26JOo/1aQOHbok6j/VpA4duiTqP9WkDh26JOo/1aQOHbok6j/VpA4duiTqP9WkDh26JOo/1aQOHbok6j/VpA4duiTqP9WkDh26JOo/1aQOHbok6j/VpA4duiTqP9WkDh26JOo/1aQOHbok6j/VpA4duiTqP9WkDh26JOo/1aQOHbok6j8=",
          "dtype": "f8"
         }
        }
       ],
       "layout": {
        "template": {
         "data": {
          "bar": [
           {
            "error_x": {
             "color": "#2a3f5f"
            },
            "error_y": {
             "color": "#2a3f5f"
            },
            "marker": {
             "line": {
              "color": "#E5ECF6",
              "width": 0.5
             },
             "pattern": {
              "fillmode": "overlay",
              "size": 10,
              "solidity": 0.2
             }
            },
            "type": "bar"
           }
          ],
          "barpolar": [
           {
            "marker": {
             "line": {
              "color": "#E5ECF6",
              "width": 0.5
             },
             "pattern": {
              "fillmode": "overlay",
              "size": 10,
              "solidity": 0.2
             }
            },
            "type": "barpolar"
           }
          ],
          "carpet": [
           {
            "aaxis": {
             "endlinecolor": "#2a3f5f",
             "gridcolor": "white",
             "linecolor": "white",
             "minorgridcolor": "white",
             "startlinecolor": "#2a3f5f"
            },
            "baxis": {
             "endlinecolor": "#2a3f5f",
             "gridcolor": "white",
             "linecolor": "white",
             "minorgridcolor": "white",
             "startlinecolor": "#2a3f5f"
            },
            "type": "carpet"
           }
          ],
          "choropleth": [
           {
            "colorbar": {
             "outlinewidth": 0,
             "ticks": ""
            },
            "type": "choropleth"
           }
          ],
          "contour": [
           {
            "colorbar": {
             "outlinewidth": 0,
             "ticks": ""
            },
            "colorscale": [
             [
              0,
              "#0d0887"
             ],
             [
              0.1111111111111111,
              "#46039f"
             ],
             [
              0.2222222222222222,
              "#7201a8"
             ],
             [
              0.3333333333333333,
              "#9c179e"
             ],
             [
              0.4444444444444444,
              "#bd3786"
             ],
             [
              0.5555555555555556,
              "#d8576b"
             ],
             [
              0.6666666666666666,
              "#ed7953"
             ],
             [
              0.7777777777777778,
              "#fb9f3a"
             ],
             [
              0.8888888888888888,
              "#fdca26"
             ],
             [
              1,
              "#f0f921"
             ]
            ],
            "type": "contour"
           }
          ],
          "contourcarpet": [
           {
            "colorbar": {
             "outlinewidth": 0,
             "ticks": ""
            },
            "type": "contourcarpet"
           }
          ],
          "heatmap": [
           {
            "colorbar": {
             "outlinewidth": 0,
             "ticks": ""
            },
            "colorscale": [
             [
              0,
              "#0d0887"
             ],
             [
              0.1111111111111111,
              "#46039f"
             ],
             [
              0.2222222222222222,
              "#7201a8"
             ],
             [
              0.3333333333333333,
              "#9c179e"
             ],
             [
              0.4444444444444444,
              "#bd3786"
             ],
             [
              0.5555555555555556,
              "#d8576b"
             ],
             [
              0.6666666666666666,
              "#ed7953"
             ],
             [
              0.7777777777777778,
              "#fb9f3a"
             ],
             [
              0.8888888888888888,
              "#fdca26"
             ],
             [
              1,
              "#f0f921"
             ]
            ],
            "type": "heatmap"
           }
          ],
          "histogram": [
           {
            "marker": {
             "pattern": {
              "fillmode": "overlay",
              "size": 10,
              "solidity": 0.2
             }
            },
            "type": "histogram"
           }
          ],
          "histogram2d": [
           {
            "colorbar": {
             "outlinewidth": 0,
             "ticks": ""
            },
            "colorscale": [
             [
              0,
              "#0d0887"
             ],
             [
              0.1111111111111111,
              "#46039f"
             ],
             [
              0.2222222222222222,
              "#7201a8"
             ],
             [
              0.3333333333333333,
              "#9c179e"
             ],
             [
              0.4444444444444444,
              "#bd3786"
             ],
             [
              0.5555555555555556,
              "#d8576b"
             ],
             [
              0.6666666666666666,
              "#ed7953"
             ],
             [
              0.7777777777777778,
              "#fb9f3a"
             ],
             [
              0.8888888888888888,
              "#fdca26"
             ],
             [
              1,
              "#f0f921"
             ]
            ],
            "type": "histogram2d"
           }
          ],
          "histogram2dcontour": [
           {
            "colorbar": {
             "outlinewidth": 0,
             "ticks": ""
            },
            "colorscale": [
             [
              0,
              "#0d0887"
             ],
             [
              0.1111111111111111,
              "#46039f"
             ],
             [
              0.2222222222222222,
              "#7201a8"
             ],
             [
              0.3333333333333333,
              "#9c179e"
             ],
             [
              0.4444444444444444,
              "#bd3786"
             ],
             [
              0.5555555555555556,
              "#d8576b"
             ],
             [
              0.6666666666666666,
              "#ed7953"
             ],
             [
              0.7777777777777778,
              "#fb9f3a"
             ],
             [
              0.8888888888888888,
              "#fdca26"
             ],
             [
              1,
              "#f0f921"
             ]
            ],
            "type": "histogram2dcontour"
           }
          ],
          "mesh3d": [
           {
            "colorbar": {
             "outlinewidth": 0,
             "ticks": ""
            },
            "type": "mesh3d"
           }
          ],
          "parcoords": [
           {
            "line": {
             "colorbar": {
              "outlinewidth": 0,
              "ticks": ""
             }
            },
            "type": "parcoords"
           }
          ],
          "pie": [
           {
            "automargin": true,
            "type": "pie"
           }
          ],
          "scatter": [
           {
            "fillpattern": {
             "fillmode": "overlay",
             "size": 10,
             "solidity": 0.2
            },
            "type": "scatter"
           }
          ],
          "scatter3d": [
           {
            "line": {
             "colorbar": {
              "outlinewidth": 0,
              "ticks": ""
             }
            },
            "marker": {
             "colorbar": {
              "outlinewidth": 0,
              "ticks": ""
             }
            },
            "type": "scatter3d"
           }
          ],
          "scattercarpet": [
           {
            "marker": {
             "colorbar": {
              "outlinewidth": 0,
              "ticks": ""
             }
            },
            "type": "scattercarpet"
           }
          ],
          "scattergeo": [
           {
            "marker": {
             "colorbar": {
              "outlinewidth": 0,
              "ticks": ""
             }
            },
            "type": "scattergeo"
           }
          ],
          "scattergl": [
           {
            "marker": {
             "colorbar": {
              "outlinewidth": 0,
              "ticks": ""
             }
            },
            "type": "scattergl"
           }
          ],
          "scattermap": [
           {
            "marker": {
             "colorbar": {
              "outlinewidth": 0,
              "ticks": ""
             }
            },
            "type": "scattermap"
           }
          ],
          "scattermapbox": [
           {
            "marker": {
             "colorbar": {
              "outlinewidth": 0,
              "ticks": ""
             }
            },
            "type": "scattermapbox"
           }
          ],
          "scatterpolar": [
           {
            "marker": {
             "colorbar": {
              "outlinewidth": 0,
              "ticks": ""
             }
            },
            "type": "scatterpolar"
           }
          ],
          "scatterpolargl": [
           {
            "marker": {
             "colorbar": {
              "outlinewidth": 0,
              "ticks": ""
             }
            },
            "type": "scatterpolargl"
           }
          ],
          "scatterternary": [
           {
            "marker": {
             "colorbar": {
              "outlinewidth": 0,
              "ticks": ""
             }
            },
            "type": "scatterternary"
           }
          ],
          "surface": [
           {
            "colorbar": {
             "outlinewidth": 0,
             "ticks": ""
            },
            "colorscale": [
             [
              0,
              "#0d0887"
             ],
             [
              0.1111111111111111,
              "#46039f"
             ],
             [
              0.2222222222222222,
              "#7201a8"
             ],
             [
              0.3333333333333333,
              "#9c179e"
             ],
             [
              0.4444444444444444,
              "#bd3786"
             ],
             [
              0.5555555555555556,
              "#d8576b"
             ],
             [
              0.6666666666666666,
              "#ed7953"
             ],
             [
              0.7777777777777778,
              "#fb9f3a"
             ],
             [
              0.8888888888888888,
              "#fdca26"
             ],
             [
              1,
              "#f0f921"
             ]
            ],
            "type": "surface"
           }
          ],
          "table": [
           {
            "cells": {
             "fill": {
              "color": "#EBF0F8"
             },
             "line": {
              "color": "white"
             }
            },
            "header": {
             "fill": {
              "color": "#C8D4E3"
             },
             "line": {
              "color": "white"
             }
            },
            "type": "table"
           }
          ]
         },
         "layout": {
          "annotationdefaults": {
           "arrowcolor": "#2a3f5f",
           "arrowhead": 0,
           "arrowwidth": 1
          },
          "autotypenumbers": "strict",
          "coloraxis": {
           "colorbar": {
            "outlinewidth": 0,
            "ticks": ""
           }
          },
          "colorscale": {
           "diverging": [
            [
             0,
             "#8e0152"
            ],
            [
             0.1,
             "#c51b7d"
            ],
            [
             0.2,
             "#de77ae"
            ],
            [
             0.3,
             "#f1b6da"
            ],
            [
             0.4,
             "#fde0ef"
            ],
            [
             0.5,
             "#f7f7f7"
            ],
            [
             0.6,
             "#e6f5d0"
            ],
            [
             0.7,
             "#b8e186"
            ],
            [
             0.8,
             "#7fbc41"
            ],
            [
             0.9,
             "#4d9221"
            ],
            [
             1,
             "#276419"
            ]
           ],
           "sequential": [
            [
             0,
             "#0d0887"
            ],
            [
             0.1111111111111111,
             "#46039f"
            ],
            [
             0.2222222222222222,
             "#7201a8"
            ],
            [
             0.3333333333333333,
             "#9c179e"
            ],
            [
             0.4444444444444444,
             "#bd3786"
            ],
            [
             0.5555555555555556,
             "#d8576b"
            ],
            [
             0.6666666666666666,
             "#ed7953"
            ],
            [
             0.7777777777777778,
             "#fb9f3a"
            ],
            [
             0.8888888888888888,
             "#fdca26"
            ],
            [
             1,
             "#f0f921"
            ]
           ],
           "sequentialminus": [
            [
             0,
             "#0d0887"
            ],
            [
             0.1111111111111111,
             "#46039f"
            ],
            [
             0.2222222222222222,
             "#7201a8"
            ],
            [
             0.3333333333333333,
             "#9c179e"
            ],
            [
             0.4444444444444444,
             "#bd3786"
            ],
            [
             0.5555555555555556,
             "#d8576b"
            ],
            [
             0.6666666666666666,
             "#ed7953"
            ],
            [
             0.7777777777777778,
             "#fb9f3a"
            ],
            [
             0.8888888888888888,
             "#fdca26"
            ],
            [
             1,
             "#f0f921"
            ]
           ]
          },
          "colorway": [
           "#636efa",
           "#EF553B",
           "#00cc96",
           "#ab63fa",
           "#FFA15A",
           "#19d3f3",
           "#FF6692",
           "#B6E880",
           "#FF97FF",
           "#FECB52"
          ],
          "font": {
           "color": "#2a3f5f"
          },
          "geo": {
           "bgcolor": "white",
           "lakecolor": "white",
           "landcolor": "#E5ECF6",
           "showlakes": true,
           "showland": true,
           "subunitcolor": "white"
          },
          "hoverlabel": {
           "align": "left"
          },
          "hovermode": "closest",
          "mapbox": {
           "style": "light"
          },
          "paper_bgcolor": "white",
          "plot_bgcolor": "#E5ECF6",
          "polar": {
           "angularaxis": {
            "gridcolor": "white",
            "linecolor": "white",
            "ticks": ""
           },
           "bgcolor": "#E5ECF6",
           "radialaxis": {
            "gridcolor": "white",
            "linecolor": "white",
            "ticks": ""
           }
          },
          "scene": {
           "xaxis": {
            "backgroundcolor": "#E5ECF6",
            "gridcolor": "white",
            "gridwidth": 2,
            "linecolor": "white",
            "showbackground": true,
            "ticks": "",
            "zerolinecolor": "white"
           },
           "yaxis": {
            "backgroundcolor": "#E5ECF6",
            "gridcolor": "white",
            "gridwidth": 2,
            "linecolor": "white",
            "showbackground": true,
            "ticks": "",
            "zerolinecolor": "white"
           },
           "zaxis": {
            "backgroundcolor": "#E5ECF6",
            "gridcolor": "white",
            "gridwidth": 2,
            "linecolor": "white",
            "showbackground": true,
            "ticks": "",
            "zerolinecolor": "white"
           }
          },
          "shapedefaults": {
           "line": {
            "color": "#2a3f5f"
           }
          },
          "ternary": {
           "aaxis": {
            "gridcolor": "white",
            "linecolor": "white",
            "ticks": ""
           },
           "baxis": {
            "gridcolor": "white",
            "linecolor": "white",
            "ticks": ""
           },
           "bgcolor": "#E5ECF6",
           "caxis": {
            "gridcolor": "white",
            "linecolor": "white",
            "ticks": ""
           }
          },
          "title": {
           "x": 0.05
          },
          "xaxis": {
           "automargin": true,
           "gridcolor": "white",
           "linecolor": "white",
           "ticks": "",
           "title": {
            "standoff": 15
           },
           "zerolinecolor": "white",
           "zerolinewidth": 2
          },
          "yaxis": {
           "automargin": true,
           "gridcolor": "white",
           "linecolor": "white",
           "ticks": "",
           "title": {
            "standoff": 15
           },
           "zerolinecolor": "white",
           "zerolinewidth": 2
          }
         }
        },
        "title": {
         "text": "Comparação CO₂ - RM3 - Aceleração constante - GASOLINE"
        },
        "xaxis": {
         "title": {
          "text": "Amostras"
         }
        },
        "yaxis": {
         "title": {
          "text": "CO₂ (g/s)"
         }
        }
       }
      }
     },
     "metadata": {},
     "output_type": "display_data"
    }
   ],
   "source": [
    "# 📦 Imports\n",
    "import pandas as pd\n",
    "import numpy as np\n",
    "import joblib\n",
    "import plotly.graph_objects as go\n",
    "from sklearn.metrics import mean_squared_error\n",
    "from pathlib import Path\n",
    "from IPython.display import display\n",
    "\n",
    "# 📁 Carregar dados com caminho absoluto seguro\n",
    "ethanol_path = Path(r\"C:/Users/Paulo Eduardo/Documents/Dissertação/ModelosML/Conect2ai/MDPI2023-pollution/data/[Etanol] Trajeto Casa-Escola-UFRN/trackLog-2023-Feb-13_06-38-49_seg.csv\")\n",
    "gasoline_path = Path(r\"C:/Users/Paulo Eduardo/Documents/Dissertação/ModelosML/Conect2ai/MDPI2023-pollution/data/[Gasolina] Trajeto Casa-Escola-UFRN/trackLog-2022-Dec-01_06-43-57_qui.csv\")\n",
    "\n",
    "df_ethanol = pd.read_csv(ethanol_path)\n",
    "df_gasoline = pd.read_csv(gasoline_path)\n",
    "\n",
    "# ✨ Preparo dos dados\n",
    "def preparar_dados(df):\n",
    "    df.columns = df.columns.str.strip()\n",
    "    col_map = {\n",
    "        'Speed (OBD)(km/h)': 'Speed(OBD)(km/h)',\n",
    "        'Latitude ': 'Latitude',\n",
    "        'Longitude ': 'Longitude'\n",
    "    }\n",
    "    df.rename(columns={k: v for k, v in col_map.items() if k in df.columns}, inplace=True)\n",
    "    if \"Speed(OBD)(km/h)\" in df.columns:\n",
    "        speeds = df[\"Speed(OBD)(km/h)\"].fillna(0).values * 1000 / 3600\n",
    "        df[\"Acceleration\"] = np.diff(speeds, prepend=speeds[0])\n",
    "    return df\n",
    "\n",
    "df_ethanol = preparar_dados(df_ethanol)\n",
    "df_gasoline = preparar_dados(df_gasoline)\n",
    "\n",
    "# 📦 Carregar modelos\n",
    "modelos = {\n",
    "    \"ethanol\": {\n",
    "        \"afr\": joblib.load(Path(r\"C:/Users/Paulo Eduardo/Documents/Dissertação/ModelosML/Conect2ai/MDPI2023-pollution/models/LGBMRegressor_ethanol_afr.pkl\")),\n",
    "        \"maf\": joblib.load(Path(r\"C:/Users/Paulo Eduardo/Documents/Dissertação/ModelosML/Conect2ai/MDPI2023-pollution/models/XGBRegressor_ethanol_maf.pkl\"))\n",
    "    },\n",
    "    \"gasoline\": {\n",
    "        \"afr\": joblib.load(Path(r\"C:/Users/Paulo Eduardo/Documents/Dissertação/ModelosML/Conect2ai/MDPI2023-pollution/models/LGBMRegressor_gasoline_afr.pkl\")),\n",
    "        \"maf\": joblib.load(Path(r\"C:/Users/Paulo Eduardo/Documents/Dissertação/ModelosML/Conect2ai/MDPI2023-pollution/models/XGBRegressor_gasoline_maf.pkl\"))\n",
    "    }\n",
    "}\n",
    "\n",
    "# 🔧 Função compute_co2\n",
    "def compute_co2(afr, maf, fuel_type=\"ethanol\"):\n",
    "    carbon_fraction = {\n",
    "        \"ethanol\": 0.5217,\n",
    "        \"gasoline\": 0.8571\n",
    "    }\n",
    "    c_fraction = carbon_fraction[fuel_type]\n",
    "    fuel_rate = maf / afr\n",
    "    return fuel_rate * c_fraction * (44.0 / 12.0)\n",
    "\n",
    "# 🔧 Função auxiliar para encontrar colunas reais de AFR e MAF\n",
    "def encontrar_coluna(df, alternativas):\n",
    "    df.columns = df.columns.str.strip()\n",
    "    for alt in alternativas:\n",
    "        if alt in df.columns:\n",
    "            return df[alt]\n",
    "    return None\n",
    "\n",
    "# 🔍 Função principal para executar os testes com visualização Plotly e cálculo de métricas\n",
    "def executar_teste_plotly(df_original, df_modificado, modelo_afr, modelo_maf, fuel, nome_mr):\n",
    "    features = [\"Latitude\", \"Longitude\", \"Speed(OBD)(km/h)\", \"Acceleration\"]\n",
    "\n",
    "    afr_real = encontrar_coluna(df_original, [\"Air Fuel Ratio(Commanded)(:1)\", \"AFR\", \"AirFuelRatio(Commanded)(:1)\"])\n",
    "    maf_real = encontrar_coluna(df_original, [\"Mass Air Flow Rate(g/s)\", \"MAF\", \"MassAirFlowRate(g/s)\"])\n",
    "\n",
    "    co2_real = compute_co2(afr_real.values, maf_real.values, fuel) if afr_real is not None and maf_real is not None else None\n",
    "\n",
    "    afr_orig = modelo_afr.predict(df_original[features])\n",
    "    maf_orig = modelo_maf.predict(df_original[features])\n",
    "    co2_orig = compute_co2(afr_orig, maf_orig, fuel)\n",
    "\n",
    "    afr_mod = modelo_afr.predict(df_modificado[features])\n",
    "    maf_mod = modelo_maf.predict(df_modificado[features])\n",
    "    co2_mod = compute_co2(afr_mod, maf_mod, fuel)\n",
    "\n",
    "    # 📏 Cálculo de métricas\n",
    "    diff = np.abs(co2_orig - co2_mod)\n",
    "    media = diff.mean()\n",
    "    maxima = diff.max()\n",
    "    rmse = mean_squared_error(co2_orig, co2_mod, squared=False)\n",
    "    std = diff.std()\n",
    "\n",
    "    print(f\"\\n🔁 {nome_mr} ({fuel.upper()})\")\n",
    "    print(f\"Diferença Média: {media:.4f} | Diferença Máxima: {maxima:.4f} | Erro Quadrático Médio (RMSE): {rmse:.4f} | Desvio Padrão (Std): {std:.4f}\")\n",
    "\n",
    "    # 🧾 Tabela comparativa original vs modificado com separação visual e CO₂s\n",
    "    tabela = pd.concat([\n",
    "        df_original[features].iloc[:10].add_suffix(\"_Orig\"),\n",
    "        pd.DataFrame({\" \": [\"→\"] * 10}),\n",
    "        df_modificado[features].iloc[:10].add_suffix(\"_Mod\"),\n",
    "        pd.DataFrame({\" \": [\" \"] * 10}),\n",
    "        pd.DataFrame({\n",
    "            \"CO₂_Real\": co2_real[:10] if co2_real is not None else np.nan,\n",
    "            \"CO₂_Orig\": co2_orig[:10],\n",
    "            \"CO₂_Mod\": co2_mod[:10]\n",
    "        })\n",
    "    ], axis=1)\n",
    "    display(tabela.style.set_caption(f\"Comparação dos dados originais e modificados - {nome_mr} ({fuel.upper()})\"))\n",
    "\n",
    "    # 📊 Gráfico Plotly\n",
    "    fig = go.Figure()\n",
    "    if co2_real is not None:\n",
    "        fig.add_trace(go.Scatter(y=co2_real[:100], mode='lines', name='Real', line=dict(dash='dot', color='green')))\n",
    "    fig.add_trace(go.Scatter(y=co2_orig[:100], mode='lines', name='Predição Original', line=dict(dash='dash', color='blue')))\n",
    "    fig.add_trace(go.Scatter(y=co2_mod[:100], mode='lines', name='Predição com RM', line=dict(color='red')))\n",
    "\n",
    "    fig.update_layout(\n",
    "        title=f\"Comparação CO₂ - {nome_mr} - {fuel.upper()}\",\n",
    "        xaxis_title=\"Amostras\",\n",
    "        yaxis_title=\"CO₂ (g/s)\"\n",
    "    )\n",
    "    fig.show()\n",
    " \n",
    "\n",
    "# 🔁 Testes Metamórficos\n",
    "relacoes_metamorficas = {\n",
    "    \"RM1 - Velocidade constante\": lambda df: df.assign(**{\"Speed(OBD)(km/h)\": df[\"Speed(OBD)(km/h)\"].mean()}),\n",
    "    \"RM2 - Latitude e Longitude constantes\": lambda df: df.assign(\n",
    "        Latitude=df[\"Latitude\"].mean(), Longitude=df[\"Longitude\"].mean()),\n",
    "    \"RM3 - Aceleração constante\": lambda df: df.assign(Acceleration=df[\"Acceleration\"].mean())\n",
    "}\n",
    "\n",
    "# 🧲 Executar para ambos os combustíveis e RMs\n",
    "for nome_mr, transformacao in relacoes_metamorficas.items():\n",
    "    for combustivel, df_original in [(\"ethanol\", df_ethanol), (\"gasoline\", df_gasoline)]:\n",
    "        df_modificado = transformacao(df_original.copy())\n",
    "        executar_teste_plotly(\n",
    "            df_original=df_original,\n",
    "            df_modificado=df_modificado,\n",
    "            modelo_afr=modelos[combustivel][\"afr\"],\n",
    "            modelo_maf=modelos[combustivel][\"maf\"],\n",
    "            fuel=combustivel,\n",
    "            nome_mr=nome_mr\n",
    "        )"
   ]
  }
 ],
 "metadata": {
  "kernelspec": {
   "display_name": "biofuel_analysis",
   "language": "python",
   "name": "python3"
  },
  "language_info": {
   "codemirror_mode": {
    "name": "ipython",
    "version": 3
   },
   "file_extension": ".py",
   "mimetype": "text/x-python",
   "name": "python",
   "nbconvert_exporter": "python",
   "pygments_lexer": "ipython3",
   "version": "3.11.9"
  }
 },
 "nbformat": 4,
 "nbformat_minor": 2
}

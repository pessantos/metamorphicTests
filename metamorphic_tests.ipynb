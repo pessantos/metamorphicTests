{
 "cells": [
  {
   "cell_type": "code",
   "execution_count": 1,
   "metadata": {},
   "outputs": [],
   "source": [
    "# 📦 Imports\n",
    "import pandas as pd\n",
    "import numpy as np\n",
    "import joblib\n",
    "import plotly.graph_objects as go\n",
    "from sklearn.metrics import mean_squared_error\n",
    "from pathlib import Path\n",
    "from IPython.display import display\n",
    "\n",
    "# 📁 Carregar dados com caminho absoluto seguro\n",
    "ethanol_path = Path(r\"C:/Users/Paulo Eduardo/Documents/Dissertação/ModelosML/Conect2ai/MDPI2023-pollution/data/[Etanol] Trajeto Casa-Escola-UFRN/trackLog-2023-Feb-13_06-38-49_seg.csv\")\n",
    "gasoline_path = Path(r\"C:/Users/Paulo Eduardo/Documents/Dissertação/ModelosML/Conect2ai/MDPI2023-pollution/data/[Gasolina] Trajeto Casa-Escola-UFRN/trackLog-2022-Dec-01_06-43-57_qui.csv\")\n",
    "\n",
    "df_ethanol = pd.read_csv(ethanol_path)\n",
    "df_gasoline = pd.read_csv(gasoline_path)\n",
    "\n",
    "# ✨ Preparo dos dados\n",
    "def preparar_dados(df):\n",
    "    df.columns = df.columns.str.strip()\n",
    "    col_map = {\n",
    "        'Speed (OBD)(km/h)': 'Speed(OBD)(km/h)',\n",
    "        'Latitude ': 'Latitude',\n",
    "        'Longitude ': 'Longitude'\n",
    "    }\n",
    "    df.rename(columns={k: v for k, v in col_map.items() if k in df.columns}, inplace=True)\n",
    "    if \"Speed(OBD)(km/h)\" in df.columns:\n",
    "        speeds = df[\"Speed(OBD)(km/h)\"].fillna(0).values * 1000 / 3600\n",
    "        df[\"Acceleration\"] = np.diff(speeds, prepend=speeds[0])\n",
    "    return df\n",
    "\n",
    "df_ethanol = preparar_dados(df_ethanol)\n",
    "df_gasoline = preparar_dados(df_gasoline)\n",
    "\n",
    "# ✨ Preparo dos dados\n",
    "def preparar_dados(df):\n",
    "    df.columns = df.columns.str.strip()\n",
    "    col_map = {\n",
    "        'Speed (OBD)(km/h)': 'Speed(OBD)(km/h)',\n",
    "        'Latitude ': 'Latitude',\n",
    "        'Longitude ': 'Longitude'\n",
    "    }\n",
    "    df.rename(columns={k: v for k, v in col_map.items() if k in df.columns}, inplace=True)\n",
    "    if \"Speed(OBD)(km/h)\" in df.columns:\n",
    "        speeds = df[\"Speed(OBD)(km/h)\"].fillna(0).values * 1000 / 3600\n",
    "        df[\"Acceleration\"] = np.diff(speeds, prepend=speeds[0])\n",
    "    return df\n",
    "\n",
    "df_ethanol = preparar_dados(df_ethanol)\n",
    "df_gasoline = preparar_dados(df_gasoline)\n",
    "\n",
    "# 📦 Carregar modelos\n",
    "modelos = {\n",
    "    \"ethanol\": {\n",
    "        \"afr\": joblib.load(Path(r\"C:/Users/Paulo Eduardo/Documents/Dissertação/ModelosML/Conect2ai/MDPI2023-pollution/models/LGBMRegressor_ethanol_afr.pkl\")),\n",
    "        \"maf\": joblib.load(Path(r\"C:/Users/Paulo Eduardo/Documents/Dissertação/ModelosML/Conect2ai/MDPI2023-pollution/models/XGBRegressor_ethanol_maf.pkl\"))\n",
    "    },\n",
    "    \"gasoline\": {\n",
    "        \"afr\": joblib.load(Path(r\"C:/Users/Paulo Eduardo/Documents/Dissertação/ModelosML/Conect2ai/MDPI2023-pollution/models/LGBMRegressor_gasoline_afr.pkl\")),\n",
    "        \"maf\": joblib.load(Path(r\"C:/Users/Paulo Eduardo/Documents/Dissertação/ModelosML/Conect2ai/MDPI2023-pollution/models/XGBRegressor_gasoline_maf.pkl\"))\n",
    "    }\n",
    "}\n",
    "\n",
    "# 🔧 Função compute_co2\n",
    "def compute_co2(afr, maf, fuel_type=\"ethanol\"):\n",
    "    carbon_fraction = {\n",
    "        \"ethanol\": 0.5217,\n",
    "        \"gasoline\": 0.8571\n",
    "    }\n",
    "    c_fraction = carbon_fraction[fuel_type]\n",
    "    fuel_rate = maf / afr\n",
    "    return fuel_rate * c_fraction * (44.0 / 12.0)\n",
    "\n",
    "# 🔧 Função auxiliar para encontrar colunas reais de AFR e MAF\n",
    "def encontrar_coluna(df, alternativas):\n",
    "    df.columns = df.columns.str.strip()\n",
    "    for alt in alternativas:\n",
    "        if alt in df.columns:\n",
    "            return df[alt]\n",
    "    return None\n",
    "\n",
    "# 🔍 Função principal para executar os testes com visualização Plotly e cálculo de métricas\n",
    "def executar_teste_plotly(df_original, df_modificado, modelo_afr, modelo_maf, fuel, nome_mr):\n",
    "    features = [\"Latitude\", \"Longitude\", \"Speed(OBD)(km/h)\", \"Acceleration\"]\n",
    "\n",
    "    afr_real = encontrar_coluna(df_original, [\"Air Fuel Ratio(Commanded)(:1)\", \"AFR\", \"AirFuelRatio(Commanded)(:1)\"])\n",
    "    maf_real = encontrar_coluna(df_original, [\"Mass Air Flow Rate(g/s)\", \"MAF\", \"MassAirFlowRate(g/s)\"])\n",
    "\n",
    "    co2_real = compute_co2(afr_real.values, maf_real.values, fuel) if afr_real is not None and maf_real is not None else None\n",
    "\n",
    "    afr_orig = modelo_afr.predict(df_original[features])\n",
    "    maf_orig = modelo_maf.predict(df_original[features])\n",
    "    co2_orig = compute_co2(afr_orig, maf_orig, fuel)\n",
    "\n",
    "    afr_mod = modelo_afr.predict(df_modificado[features])\n",
    "    maf_mod = modelo_maf.predict(df_modificado[features])\n",
    "    co2_mod = compute_co2(afr_mod, maf_mod, fuel)\n",
    "\n",
    "    # 📏 Cálculo de métricas\n",
    "    diff = np.abs(co2_orig - co2_mod)\n",
    "    media = diff.mean()\n",
    "    maxima = diff.max()\n",
    "    rmse = mean_squared_error(co2_orig, co2_mod, squared=False)\n",
    "    std = diff.std()\n",
    "\n",
    "    print(f\"\\n🔁 {nome_mr} ({fuel.upper()})\")\n",
    "    print(f\"Diferença Média: {media:.4f} | Diferença Máxima: {maxima:.4f} | Erro Quadrático Médio (RMSE): {rmse:.4f} | Desvio Padrão (Std): {std:.4f}\")\n",
    "\n",
    "    # 🧾 Tabela comparativa\n",
    "    tabela = pd.concat([\n",
    "        df_original[features].iloc[:10].add_suffix(\"_Orig\"),\n",
    "        pd.DataFrame({\" \": [\"→\"] * 10}),\n",
    "        df_modificado[features].iloc[:10].add_suffix(\"_Mod\"),\n",
    "        pd.DataFrame({\" \": [\" \"] * 10}),\n",
    "        pd.DataFrame({\n",
    "            \"CO₂_Real\": co2_real[:10] if co2_real is not None else np.nan,\n",
    "            \"CO₂_Orig\": co2_orig[:10],\n",
    "            \"CO₂_Mod\": co2_mod[:10]\n",
    "        })\n",
    "    ], axis=1)\n",
    "\n",
    "    display(tabela.style.set_caption(f\"Comparação dos dados originais e modificados - {nome_mr} ({fuel.upper()})\"))\n",
    "\n",
    "    # 📊 Gráfico Plotly\n",
    "    fig = go.Figure()\n",
    "    if co2_real is not None:\n",
    "        fig.add_trace(go.Scatter(y=co2_real[:100], mode='lines', name='Real', line=dict(dash='dot', color='green')))\n",
    "    fig.add_trace(go.Scatter(y=co2_orig[:100], mode='lines', name='Predição Original', line=dict(dash='dash', color='blue')))\n",
    "    fig.add_trace(go.Scatter(y=co2_mod[:100], mode='lines', name='Predição com RM', line=dict(color='red')))\n",
    "\n",
    "    fig.update_layout(\n",
    "        title=dict(text=f\"Comparação CO₂ - {nome_mr} - {fuel.upper()}\", x=0.5),\n",
    "        xaxis_title=\"Amostras\",\n",
    "        yaxis_title=\"CO₂ (g/s)\",\n",
    "        template=\"plotly_white\"\n",
    "    )\n",
    "    fig.show()"
   ]
  },
  {
   "cell_type": "code",
   "execution_count": 2,
   "metadata": {},
   "outputs": [],
   "source": [
    "# 🔁 Testes Metamórficos\n",
    "#INDICAR PARA CADA CT QUAL O TIPO DE RELACAO METAMORFICA\n",
    "testes_metamorficos = {\n",
    "\n",
    "# Scenario: RM1 - Velocidade nula\n",
    "#Tipo de relação metamórfica: Exclusiva\n",
    "    #     Given um trajeto real com velocidade variável\n",
    "    #     When a velocidade é zerada em todos os pontos\n",
    "    #     Then o CO₂ previsto deve refletir um cenário de motor parado, mesmo que a aceleração e posição geográfica estejam presentes\n",
    "    \"Caso de teste: RM1: Velocidade igual a zero (mantendo aceleração e posição)\": lambda df: df.copy().assign(\n",
    "        **{\n",
    "            \"Speed(OBD)(km/h)\": 0.0\n",
    "        }\n",
    "    ),\n",
    "\n",
    "# Scenario: RM2 - Latitude nula\n",
    "#Tipo de relação metamórfica: Inversiva\n",
    "    #     Given um trajeto com latitude geográfica real\n",
    "    #     When a latitude é zerada em todos os pontos\n",
    "    #     Then o CO₂ previsto deve manter coerência, a menos que o modelo dependa fortemente da posição geográfica\n",
    "    \"Caso de teste: RM2 - Latitude nula (mantendo demais variáveis)\": lambda df: df.copy().assign(\n",
    "        Latitude=0.0\n",
    "    ),\n",
    "\n",
    "    # Scenario: RM3 - Longitude nula\n",
    "    #Tipo de relação metamórfica: Inversiva\n",
    "    #     Given um trajeto com longitude geográfica real\n",
    "    #     When a longitude é zerada em todos os pontos\n",
    "    #     Then o CO₂ previsto deve manter coerência, a menos que o modelo dependa fortemente da posição geográfica\n",
    "    \"Caso de teste: RM3 - Longitude nula (mantendo demais variáveis)\": lambda df: df.copy().assign(\n",
    "        Longitude=0.0\n",
    "    ),\n",
    "\n",
    "    # Scenario: RM4 - Aceleração nula\n",
    "    #Tipo de relação metamórfica: Exclusiva\n",
    "    #     Given um trajeto com aceleração variável\n",
    "    #     When a aceleração é zerada em todos os pontos\n",
    "    #     Then o CO₂ previsto deve refletir comportamento compatível com velocidade constante ou baixa dinâmica\n",
    "    \"Caso de teste: RM4 - Aceleração nula (mantendo demais variáveis)\": lambda df: df.copy().assign(\n",
    "        Acceleration=0.0\n",
    "    ),\n",
    "\n",
    "\n",
    "# Scenario: RM5 - Velocidade constante no valor médio do trajeto\n",
    "#Tipo de relação metamórfica: Aditiva\n",
    "#    Given um trajeto com velocidade variável\n",
    "#    When a velocidade é substituída pela média do trajeto\n",
    "#    Then o CO₂ previsto deve se manter coerente e levemente suavizado\n",
    "\n",
    "    \"Caso de teste: RM5 - Velocidade constante\": lambda df: df.assign(\n",
    "        **{\"Speed(OBD)(km/h)\": df[\"Speed(OBD)(km/h)\"].mean()}\n",
    "    ),\n",
    "\n",
    "# Scenario: RM6 - Velocidade constante em 80 km/h e aceleração zero\n",
    "#Tipo de relação metamórfica: Aditiva + Exclusiva (A/E)\n",
    "#     Given um trajeto urbano\n",
    "#     When a velocidade é definida como 80 km/h e a aceleração é zero\n",
    "#     Then o modelo deve prever um CO₂ constante ou levemente crescente\n",
    "\n",
    "    \"Caso de teste: RM6 - Velocidade constante em 80 km/h e aceleração igual a zero\": lambda df: df.assign(\n",
    "        **{\n",
    "            \"Speed(OBD)(km/h)\": 80.0,\n",
    "            \"Acceleration\": 0.0\n",
    "        }        \n",
    "    ),\n",
    "\n",
    "# Scenario: RM7 - Velocidade constante a 130 km/h e aceleração zero\n",
    "#Tipo de relação metamórfica: Aditiva + Exclusiva (A/E)\n",
    "#     Given um trajeto urbano\n",
    "#     When a velocidade é definida como 130 km/h e a aceleração é zero\n",
    "#     Then o modelo deve prever um CO₂ elevado e estável\n",
    "\n",
    "    \"Caso de teste: RM7 - Velocidade constante a 130 km/h e aceleração igual a zero\": lambda df: df.assign(\n",
    "        **{\n",
    "            \"Speed(OBD)(km/h)\": 130.0,\n",
    "            \"Acceleration\": 0.0\n",
    "        }\n",
    "    ),\n",
    "\n",
    "# Scenario: RM8 - Velocidade crescente linearmente (2 km/h por ponto)\n",
    "#Tipo de relação metamórfica: Sustentável\n",
    "#     Given um trajeto inicial com velocidade arbitrária\n",
    "#     When a velocidade aumenta de 2 em 2 km/h e a aceleração é ajustada\n",
    "#     Then o CO₂ previsto deve aumentar progressivamente de forma coerente\n",
    "\n",
    "    \"Caso de teste: RM8 - Velocidade crescente linearmente (2 km/h por ponto)\": lambda df: (\n",
    "        lambda speeds_kmh: df.assign(\n",
    "            **{\n",
    "                \"Speed(OBD)(km/h)\": speeds_kmh,\n",
    "                \"Acceleration\": np.diff(\n",
    "                    speeds_kmh * 1000 / 3600,  # conversão para m/s\n",
    "                    prepend=speeds_kmh[0] * 1000 / 3600\n",
    "                )\n",
    "            }\n",
    "        )\n",
    "    )(np.arange(0, 2 * len(df), 2)),\n",
    "\n",
    "    \n",
    "\n",
    "# Scenario: RM9 - Latitude e Longitude constantes\n",
    "#Tipo de relação metamórfica: Inversiva\n",
    "#   Given um trajeto com diferentes coordenadas geográficas\n",
    "#   When todas as posições são fixadas no ponto médio\n",
    "#   Then o CO₂ previsto deve mudar pouco, indicando baixa dependência espacial\n",
    "\n",
    "    \"Caso de teste: RM9 - Latitude e Longitude constantes\": lambda df: df.assign(\n",
    "        Latitude=df[\"Latitude\"].mean(),\n",
    "        Longitude=df[\"Longitude\"].mean()\n",
    "    ),\n",
    "\n",
    "# Scenario: RM10 - Aceleração constante\n",
    "#Tipo de relação metamórfica: Aditiva\n",
    "#     Given um trajeto com aceleração variável\n",
    "#     When a aceleração é substituída pelo valor médio\n",
    "#     Then o modelo deve produzir previsões de CO₂ similares ao trajeto original\n",
    "\n",
    "    \"Caso de teste: RM10 - Aceleração constante\": lambda df: df.assign(\n",
    "        Acceleration=df[\"Acceleration\"].mean()\n",
    "    ),\n",
    "\n",
    "\n",
    "# Scenario: RM11 - Velocidade e aceleração iguais a zero\n",
    "#Tipo de relação metamórfica: Exclusiva\n",
    "#     Given um trajeto ativo\n",
    "#     When todas as velocidades e acelerações são zeradas\n",
    "#     Then o CO₂ previsto deve ser mínimo ou nulo, respeitando coerência física\n",
    "\n",
    "    \"Caso de teste: RM11 - Velocidade e aceleração iguais a zero\": lambda df: df.assign(\n",
    "        **{\n",
    "            \"Speed(OBD)(km/h)\": 0.0,\n",
    "            \"Acceleration\": 0.0\n",
    "        }\n",
    "    ),\n",
    "\n",
    "\n",
    "# Scenario: RM12 - Latitude e Longitude multiplicadas por 2\n",
    "#Tipo de relação metamórfica: Multiplicativa\n",
    "#     Given um trajeto com coordenadas reais\n",
    "#     When os valores de latitude e longitude são multiplicados por 2\n",
    "#     Then o modelo pode apresentar instabilidades ou previsões incoerentes\n",
    "\n",
    "    \"Caso de teste: RM12 - Latitude e Longitude multiplicadas por 2\": lambda df: df.assign(\n",
    "        Latitude=df[\"Latitude\"] * 2,\n",
    "        Longitude=df[\"Longitude\"] * 2\n",
    "    ),\n",
    "\n",
    "# Scenario: RM13 - Latitude e Longitude deslocadas para simular +200 km\n",
    "#Tipo de relação metamórfica: Multiplicativa, Inversiva e Exclusiva\n",
    "#     Given um trajeto típico\n",
    "#     When a dispersão espacial das coordenadas é aumentada em 25 vezes\n",
    "#     Then o modelo deve manter coerência ou indicar limitação fora da distribuição de treino\n",
    "\n",
    "    \"Caso de teste: RM13 - Latitude e Longitude deslocadas para simular +200 km\": lambda df: df.assign(\n",
    "        Latitude=(df[\"Latitude\"] - df[\"Latitude\"].mean()) * 25 + df[\"Latitude\"].mean(),\n",
    "        Longitude=(df[\"Longitude\"] - df[\"Longitude\"].mean()) * 25 + df[\"Longitude\"].mean()\n",
    "    ),\n",
    "    \n",
    "}\n"
   ]
  },
  {
   "cell_type": "code",
   "execution_count": 3,
   "metadata": {},
   "outputs": [
    {
     "name": "stdout",
     "output_type": "stream",
     "text": [
      "\n",
      "🔁 Caso de teste: RM1: Velocidade igual a zero (mantendo aceleração e posição) (ETHANOL)\n",
      "Diferença Média: 0.3016 | Diferença Máxima: 2.2210 | Erro Quadrático Médio (RMSE): 0.4900 | Desvio Padrão (Std): 0.3862\n"
     ]
    },
    {
     "data": {
      "text/html": [
       "<style type=\"text/css\">\n",
       "</style>\n",
       "<table id=\"T_e411d\">\n",
       "  <caption>Comparação dos dados originais e modificados - Caso de teste: RM1: Velocidade igual a zero (mantendo aceleração e posição) (ETHANOL)</caption>\n",
       "  <thead>\n",
       "    <tr>\n",
       "      <th class=\"blank level0\" >&nbsp;</th>\n",
       "      <th id=\"T_e411d_level0_col0\" class=\"col_heading level0 col0\" >Latitude_Orig</th>\n",
       "      <th id=\"T_e411d_level0_col1\" class=\"col_heading level0 col1\" >Longitude_Orig</th>\n",
       "      <th id=\"T_e411d_level0_col2\" class=\"col_heading level0 col2\" >Speed(OBD)(km/h)_Orig</th>\n",
       "      <th id=\"T_e411d_level0_col3\" class=\"col_heading level0 col3\" >Acceleration_Orig</th>\n",
       "      <th id=\"T_e411d_level0_col4\" class=\"col_heading level0 col4\" > </th>\n",
       "      <th id=\"T_e411d_level0_col5\" class=\"col_heading level0 col5\" >Latitude_Mod</th>\n",
       "      <th id=\"T_e411d_level0_col6\" class=\"col_heading level0 col6\" >Longitude_Mod</th>\n",
       "      <th id=\"T_e411d_level0_col7\" class=\"col_heading level0 col7\" >Speed(OBD)(km/h)_Mod</th>\n",
       "      <th id=\"T_e411d_level0_col8\" class=\"col_heading level0 col8\" >Acceleration_Mod</th>\n",
       "      <th id=\"T_e411d_level0_col9\" class=\"col_heading level0 col9\" > </th>\n",
       "      <th id=\"T_e411d_level0_col10\" class=\"col_heading level0 col10\" >CO₂_Real</th>\n",
       "      <th id=\"T_e411d_level0_col11\" class=\"col_heading level0 col11\" >CO₂_Orig</th>\n",
       "      <th id=\"T_e411d_level0_col12\" class=\"col_heading level0 col12\" >CO₂_Mod</th>\n",
       "    </tr>\n",
       "  </thead>\n",
       "  <tbody>\n",
       "    <tr>\n",
       "      <th id=\"T_e411d_level0_row0\" class=\"row_heading level0 row0\" >0</th>\n",
       "      <td id=\"T_e411d_row0_col0\" class=\"data row0 col0\" >-5.820105</td>\n",
       "      <td id=\"T_e411d_row0_col1\" class=\"data row0 col1\" >-35.220818</td>\n",
       "      <td id=\"T_e411d_row0_col2\" class=\"data row0 col2\" >3</td>\n",
       "      <td id=\"T_e411d_row0_col3\" class=\"data row0 col3\" >0.000000</td>\n",
       "      <td id=\"T_e411d_row0_col4\" class=\"data row0 col4\" >→</td>\n",
       "      <td id=\"T_e411d_row0_col5\" class=\"data row0 col5\" >-5.820105</td>\n",
       "      <td id=\"T_e411d_row0_col6\" class=\"data row0 col6\" >-35.220818</td>\n",
       "      <td id=\"T_e411d_row0_col7\" class=\"data row0 col7\" >0.000000</td>\n",
       "      <td id=\"T_e411d_row0_col8\" class=\"data row0 col8\" >0.000000</td>\n",
       "      <td id=\"T_e411d_row0_col9\" class=\"data row0 col9\" > </td>\n",
       "      <td id=\"T_e411d_row0_col10\" class=\"data row0 col10\" >0.642839</td>\n",
       "      <td id=\"T_e411d_row0_col11\" class=\"data row0 col11\" >0.742631</td>\n",
       "      <td id=\"T_e411d_row0_col12\" class=\"data row0 col12\" >0.727468</td>\n",
       "    </tr>\n",
       "    <tr>\n",
       "      <th id=\"T_e411d_level0_row1\" class=\"row_heading level0 row1\" >1</th>\n",
       "      <td id=\"T_e411d_row1_col0\" class=\"data row1 col0\" >-5.820103</td>\n",
       "      <td id=\"T_e411d_row1_col1\" class=\"data row1 col1\" >-35.220828</td>\n",
       "      <td id=\"T_e411d_row1_col2\" class=\"data row1 col2\" >5</td>\n",
       "      <td id=\"T_e411d_row1_col3\" class=\"data row1 col3\" >0.555556</td>\n",
       "      <td id=\"T_e411d_row1_col4\" class=\"data row1 col4\" >→</td>\n",
       "      <td id=\"T_e411d_row1_col5\" class=\"data row1 col5\" >-5.820103</td>\n",
       "      <td id=\"T_e411d_row1_col6\" class=\"data row1 col6\" >-35.220828</td>\n",
       "      <td id=\"T_e411d_row1_col7\" class=\"data row1 col7\" >0.000000</td>\n",
       "      <td id=\"T_e411d_row1_col8\" class=\"data row1 col8\" >0.555556</td>\n",
       "      <td id=\"T_e411d_row1_col9\" class=\"data row1 col9\" > </td>\n",
       "      <td id=\"T_e411d_row1_col10\" class=\"data row1 col10\" >0.653249</td>\n",
       "      <td id=\"T_e411d_row1_col11\" class=\"data row1 col11\" >0.771505</td>\n",
       "      <td id=\"T_e411d_row1_col12\" class=\"data row1 col12\" >0.727468</td>\n",
       "    </tr>\n",
       "    <tr>\n",
       "      <th id=\"T_e411d_level0_row2\" class=\"row_heading level0 row2\" >2</th>\n",
       "      <td id=\"T_e411d_row2_col0\" class=\"data row2 col0\" >-5.820102</td>\n",
       "      <td id=\"T_e411d_row2_col1\" class=\"data row2 col1\" >-35.220838</td>\n",
       "      <td id=\"T_e411d_row2_col2\" class=\"data row2 col2\" >5</td>\n",
       "      <td id=\"T_e411d_row2_col3\" class=\"data row2 col3\" >0.000000</td>\n",
       "      <td id=\"T_e411d_row2_col4\" class=\"data row2 col4\" >→</td>\n",
       "      <td id=\"T_e411d_row2_col5\" class=\"data row2 col5\" >-5.820102</td>\n",
       "      <td id=\"T_e411d_row2_col6\" class=\"data row2 col6\" >-35.220838</td>\n",
       "      <td id=\"T_e411d_row2_col7\" class=\"data row2 col7\" >0.000000</td>\n",
       "      <td id=\"T_e411d_row2_col8\" class=\"data row2 col8\" >0.000000</td>\n",
       "      <td id=\"T_e411d_row2_col9\" class=\"data row2 col9\" > </td>\n",
       "      <td id=\"T_e411d_row2_col10\" class=\"data row2 col10\" >0.653249</td>\n",
       "      <td id=\"T_e411d_row2_col11\" class=\"data row2 col11\" >0.771505</td>\n",
       "      <td id=\"T_e411d_row2_col12\" class=\"data row2 col12\" >0.727468</td>\n",
       "    </tr>\n",
       "    <tr>\n",
       "      <th id=\"T_e411d_level0_row3\" class=\"row_heading level0 row3\" >3</th>\n",
       "      <td id=\"T_e411d_row3_col0\" class=\"data row3 col0\" >-5.820096</td>\n",
       "      <td id=\"T_e411d_row3_col1\" class=\"data row3 col1\" >-35.220843</td>\n",
       "      <td id=\"T_e411d_row3_col2\" class=\"data row3 col2\" >3</td>\n",
       "      <td id=\"T_e411d_row3_col3\" class=\"data row3 col3\" >-0.555556</td>\n",
       "      <td id=\"T_e411d_row3_col4\" class=\"data row3 col4\" >→</td>\n",
       "      <td id=\"T_e411d_row3_col5\" class=\"data row3 col5\" >-5.820096</td>\n",
       "      <td id=\"T_e411d_row3_col6\" class=\"data row3 col6\" >-35.220843</td>\n",
       "      <td id=\"T_e411d_row3_col7\" class=\"data row3 col7\" >0.000000</td>\n",
       "      <td id=\"T_e411d_row3_col8\" class=\"data row3 col8\" >-0.555556</td>\n",
       "      <td id=\"T_e411d_row3_col9\" class=\"data row3 col9\" > </td>\n",
       "      <td id=\"T_e411d_row3_col10\" class=\"data row3 col10\" >0.679275</td>\n",
       "      <td id=\"T_e411d_row3_col11\" class=\"data row3 col11\" >0.659013</td>\n",
       "      <td id=\"T_e411d_row3_col12\" class=\"data row3 col12\" >0.721582</td>\n",
       "    </tr>\n",
       "    <tr>\n",
       "      <th id=\"T_e411d_level0_row4\" class=\"row_heading level0 row4\" >4</th>\n",
       "      <td id=\"T_e411d_row4_col0\" class=\"data row4 col0\" >-5.820091</td>\n",
       "      <td id=\"T_e411d_row4_col1\" class=\"data row4 col1\" >-35.220850</td>\n",
       "      <td id=\"T_e411d_row4_col2\" class=\"data row4 col2\" >0</td>\n",
       "      <td id=\"T_e411d_row4_col3\" class=\"data row4 col3\" >-0.833333</td>\n",
       "      <td id=\"T_e411d_row4_col4\" class=\"data row4 col4\" >→</td>\n",
       "      <td id=\"T_e411d_row4_col5\" class=\"data row4 col5\" >-5.820091</td>\n",
       "      <td id=\"T_e411d_row4_col6\" class=\"data row4 col6\" >-35.220850</td>\n",
       "      <td id=\"T_e411d_row4_col7\" class=\"data row4 col7\" >0.000000</td>\n",
       "      <td id=\"T_e411d_row4_col8\" class=\"data row4 col8\" >-0.833333</td>\n",
       "      <td id=\"T_e411d_row4_col9\" class=\"data row4 col9\" > </td>\n",
       "      <td id=\"T_e411d_row4_col10\" class=\"data row4 col10\" >0.610306</td>\n",
       "      <td id=\"T_e411d_row4_col11\" class=\"data row4 col11\" >0.667689</td>\n",
       "      <td id=\"T_e411d_row4_col12\" class=\"data row4 col12\" >0.667689</td>\n",
       "    </tr>\n",
       "    <tr>\n",
       "      <th id=\"T_e411d_level0_row5\" class=\"row_heading level0 row5\" >5</th>\n",
       "      <td id=\"T_e411d_row5_col0\" class=\"data row5 col0\" >-5.820091</td>\n",
       "      <td id=\"T_e411d_row5_col1\" class=\"data row5 col1\" >-35.220850</td>\n",
       "      <td id=\"T_e411d_row5_col2\" class=\"data row5 col2\" >0</td>\n",
       "      <td id=\"T_e411d_row5_col3\" class=\"data row5 col3\" >0.000000</td>\n",
       "      <td id=\"T_e411d_row5_col4\" class=\"data row5 col4\" >→</td>\n",
       "      <td id=\"T_e411d_row5_col5\" class=\"data row5 col5\" >-5.820091</td>\n",
       "      <td id=\"T_e411d_row5_col6\" class=\"data row5 col6\" >-35.220850</td>\n",
       "      <td id=\"T_e411d_row5_col7\" class=\"data row5 col7\" >0.000000</td>\n",
       "      <td id=\"T_e411d_row5_col8\" class=\"data row5 col8\" >0.000000</td>\n",
       "      <td id=\"T_e411d_row5_col9\" class=\"data row5 col9\" > </td>\n",
       "      <td id=\"T_e411d_row5_col10\" class=\"data row5 col10\" >0.610306</td>\n",
       "      <td id=\"T_e411d_row5_col11\" class=\"data row5 col11\" >0.706858</td>\n",
       "      <td id=\"T_e411d_row5_col12\" class=\"data row5 col12\" >0.706858</td>\n",
       "    </tr>\n",
       "    <tr>\n",
       "      <th id=\"T_e411d_level0_row6\" class=\"row_heading level0 row6\" >6</th>\n",
       "      <td id=\"T_e411d_row6_col0\" class=\"data row6 col0\" >-5.820091</td>\n",
       "      <td id=\"T_e411d_row6_col1\" class=\"data row6 col1\" >-35.220850</td>\n",
       "      <td id=\"T_e411d_row6_col2\" class=\"data row6 col2\" >0</td>\n",
       "      <td id=\"T_e411d_row6_col3\" class=\"data row6 col3\" >0.000000</td>\n",
       "      <td id=\"T_e411d_row6_col4\" class=\"data row6 col4\" >→</td>\n",
       "      <td id=\"T_e411d_row6_col5\" class=\"data row6 col5\" >-5.820091</td>\n",
       "      <td id=\"T_e411d_row6_col6\" class=\"data row6 col6\" >-35.220850</td>\n",
       "      <td id=\"T_e411d_row6_col7\" class=\"data row6 col7\" >0.000000</td>\n",
       "      <td id=\"T_e411d_row6_col8\" class=\"data row6 col8\" >0.000000</td>\n",
       "      <td id=\"T_e411d_row6_col9\" class=\"data row6 col9\" > </td>\n",
       "      <td id=\"T_e411d_row6_col10\" class=\"data row6 col10\" >0.490587</td>\n",
       "      <td id=\"T_e411d_row6_col11\" class=\"data row6 col11\" >0.706858</td>\n",
       "      <td id=\"T_e411d_row6_col12\" class=\"data row6 col12\" >0.706858</td>\n",
       "    </tr>\n",
       "    <tr>\n",
       "      <th id=\"T_e411d_level0_row7\" class=\"row_heading level0 row7\" >7</th>\n",
       "      <td id=\"T_e411d_row7_col0\" class=\"data row7 col0\" >-5.820085</td>\n",
       "      <td id=\"T_e411d_row7_col1\" class=\"data row7 col1\" >-35.220856</td>\n",
       "      <td id=\"T_e411d_row7_col2\" class=\"data row7 col2\" >3</td>\n",
       "      <td id=\"T_e411d_row7_col3\" class=\"data row7 col3\" >0.833333</td>\n",
       "      <td id=\"T_e411d_row7_col4\" class=\"data row7 col4\" >→</td>\n",
       "      <td id=\"T_e411d_row7_col5\" class=\"data row7 col5\" >-5.820085</td>\n",
       "      <td id=\"T_e411d_row7_col6\" class=\"data row7 col6\" >-35.220856</td>\n",
       "      <td id=\"T_e411d_row7_col7\" class=\"data row7 col7\" >0.000000</td>\n",
       "      <td id=\"T_e411d_row7_col8\" class=\"data row7 col8\" >0.833333</td>\n",
       "      <td id=\"T_e411d_row7_col9\" class=\"data row7 col9\" > </td>\n",
       "      <td id=\"T_e411d_row7_col10\" class=\"data row7 col10\" >1.090483</td>\n",
       "      <td id=\"T_e411d_row7_col11\" class=\"data row7 col11\" >1.137803</td>\n",
       "      <td id=\"T_e411d_row7_col12\" class=\"data row7 col12\" >0.706858</td>\n",
       "    </tr>\n",
       "    <tr>\n",
       "      <th id=\"T_e411d_level0_row8\" class=\"row_heading level0 row8\" >8</th>\n",
       "      <td id=\"T_e411d_row8_col0\" class=\"data row8 col0\" >-5.820074</td>\n",
       "      <td id=\"T_e411d_row8_col1\" class=\"data row8 col1\" >-35.220859</td>\n",
       "      <td id=\"T_e411d_row8_col2\" class=\"data row8 col2\" >3</td>\n",
       "      <td id=\"T_e411d_row8_col3\" class=\"data row8 col3\" >0.000000</td>\n",
       "      <td id=\"T_e411d_row8_col4\" class=\"data row8 col4\" >→</td>\n",
       "      <td id=\"T_e411d_row8_col5\" class=\"data row8 col5\" >-5.820074</td>\n",
       "      <td id=\"T_e411d_row8_col6\" class=\"data row8 col6\" >-35.220859</td>\n",
       "      <td id=\"T_e411d_row8_col7\" class=\"data row8 col7\" >0.000000</td>\n",
       "      <td id=\"T_e411d_row8_col8\" class=\"data row8 col8\" >0.000000</td>\n",
       "      <td id=\"T_e411d_row8_col9\" class=\"data row8 col9\" > </td>\n",
       "      <td id=\"T_e411d_row8_col10\" class=\"data row8 col10\" >1.090483</td>\n",
       "      <td id=\"T_e411d_row8_col11\" class=\"data row8 col11\" >1.137803</td>\n",
       "      <td id=\"T_e411d_row8_col12\" class=\"data row8 col12\" >0.706858</td>\n",
       "    </tr>\n",
       "    <tr>\n",
       "      <th id=\"T_e411d_level0_row9\" class=\"row_heading level0 row9\" >9</th>\n",
       "      <td id=\"T_e411d_row9_col0\" class=\"data row9 col0\" >-5.820064</td>\n",
       "      <td id=\"T_e411d_row9_col1\" class=\"data row9 col1\" >-35.220858</td>\n",
       "      <td id=\"T_e411d_row9_col2\" class=\"data row9 col2\" >3</td>\n",
       "      <td id=\"T_e411d_row9_col3\" class=\"data row9 col3\" >0.000000</td>\n",
       "      <td id=\"T_e411d_row9_col4\" class=\"data row9 col4\" >→</td>\n",
       "      <td id=\"T_e411d_row9_col5\" class=\"data row9 col5\" >-5.820064</td>\n",
       "      <td id=\"T_e411d_row9_col6\" class=\"data row9 col6\" >-35.220858</td>\n",
       "      <td id=\"T_e411d_row9_col7\" class=\"data row9 col7\" >0.000000</td>\n",
       "      <td id=\"T_e411d_row9_col8\" class=\"data row9 col8\" >0.000000</td>\n",
       "      <td id=\"T_e411d_row9_col9\" class=\"data row9 col9\" > </td>\n",
       "      <td id=\"T_e411d_row9_col10\" class=\"data row9 col10\" >0.921315</td>\n",
       "      <td id=\"T_e411d_row9_col11\" class=\"data row9 col11\" >1.137803</td>\n",
       "      <td id=\"T_e411d_row9_col12\" class=\"data row9 col12\" >0.706858</td>\n",
       "    </tr>\n",
       "  </tbody>\n",
       "</table>\n"
      ],
      "text/plain": [
       "<pandas.io.formats.style.Styler at 0x1bd8af65150>"
      ]
     },
     "metadata": {},
     "output_type": "display_data"
    },
    {
     "data": {
      "application/vnd.plotly.v1+json": {
       "config": {
        "plotlyServerURL": "https://plot.ly"
       },
       "data": [
        {
         "line": {
          "color": "green",
          "dash": "dot"
         },
         "mode": "lines",
         "name": "Real",
         "type": "scatter",
         "y": {
          "bdata": "Xv2WDSKS5D+bk2QeaufkP5uTZB5q5+Q/NotmSJ685T/ehxTZoIfjP96HFNmgh+M/M5CwL8hl3z/dnA9wnnLxP92cD3CecvE/T3ASz2l77T+UX3iidnLyPz8yMAV+Z/Q/PzIwBX5n9D8ti7UITBb8PzhhcBqj5vk/KSOOULfS8D8pI45Qt9LwP7us/CApG+8/cjYv8OP84z+t9vIuJyjgP6328i4nKOA/geLz0z/39T+rgxXuOvLzP6uDFe468vM/mb1aTGW9AEB0UCWuXTcFQJNSfcM51QFAk1J9wznVAUDU4Eocwdz0P40G4N+x0N0/MaWrxsVQ3T+Gb8fSpWfjP4Zvx9KlZ+M/RJASr2yy4j+u4feXKT3iPxtsE+QD5v0/G2wT5APm/T9xVW+Vh+D+P/WBu/ZpMek/9YG79mkx6T8EcmzGOjzYP6VZboDtdf4/WOugB2mlAEBY66AHaaUAQFcs1yJHEfo/jF/HYiTM+D+vRCQpQjH6P69EJClCMfo/IlLOZdxR9j8U6vVt9WfxP9L1RbO+x/I/0vVFs77H8j9JPCZTdgbrPy3PofTAJtk/Lc+h9MAm2T83dmuxoNHXP5m9WkxlveA/wxqQeuun4T/DGpB666fhPy5sdWOoMgFAN3ZrsaDRB0CTtalUUskJQJO1qVRSyQlAUQXmhZA5CECzrwGybRkJQLOvAbJtGQlAadNRH3liAkDxyvHJCOv/P/HK8ckI6/8/ZYpqDIgCAkDcITJ38e4HQFhbyHe+Nvk/WFvId742+T+BiQxRzfvaP+KMDwAd1/Y/4owPAB3X9j9nuVth/yfxP4GJDFHN+9o/VyzXIkcR2j9XLNciRxHKPzhhcBqj5sk/mb1aTGW90D+rqr6oeQbiPxTJ619+uOE/cloUOF8j9z+cBUVJAVwCQO7F9qKMm/w/7sX2ooyb/D8XwP8/+pH1Py66pl3DO9s/YtOg3ya82D8GXXEvPVHKPwZdcS89Uco/3P87AbdmyT8zkLAvyGXPPxdp8ttk2OI/F2ny22TY4j/s9fsW3vTiP/4o4Wa23vY/g+DZ9mxa+z8=",
          "dtype": "f8"
         }
        },
        {
         "line": {
          "color": "blue",
          "dash": "dash"
         },
         "mode": "lines",
         "name": "Predição Original",
         "type": "scatter",
         "y": {
          "bdata": "A1nGMaLD5z/rGxZ+K7DoP+sbFn4rsOg/ZNKEuKEW5T8gJJx1tV3lP1qolBeUnuY/WqiUF5Se5j8vN5pfcTTyPy83ml9xNPI/LzeaX3E08j8LUj4DVmv0P2cHXp66ovQ/lajUrwhy8z8ERxYOSyj4P0gf5HQeCfI/if7LZHnq7z8XHaiiCV3vP6Btm6JJmew/vGW1En/65z9MP1pTWq7wP/J2f86FGvA/Rx/yOxHc8D9HH/I7EdzwP0cf8jsR3PA/Wi2PK9ct9T99iPbmwzv1P+s7h6uSvvI/jlifB2hB+z/KAreWPx7tP2CGcv2h3+w/DE1YhnUh4z+r91rqETzvPzST+4nO/eQ/tcGbWjP25j8r0X6ZskrsPzXVexnn+PI/jsX9rHxr8z+YODlE2Q7zPxrw1xsMw+0/6+G9lxVx7T+VLCu5vQ3pP5kI65KAuvA/xV7vM9nJ8j+3rXXsTRn+P7nipTU15fQ/Ahig1qK48j97HMyYL2j0P61VsDSbgfU/gKXeX7rt9D8lL/FG5m/yP1D9sJ1ASPI/ONgUq37H8z/SblJX33btP6Pvp4KhC+M/A1unplDL5j/tVn03pGviP09EUKldGOg/RjLkVnwe6D+bSQJT7m7oP/kNtZK+Z+k/BO79CuHa9z9uhs6rFD4AQDSsx4gppPs/JoJSHH6Y9j8b5eo1rb34P7wp1TtfOgFA605wkeGE9z+CQHPA6Nf7P96W8dRj7vo/77f/lcKE+T8/0HaFb3j5P0ixId0VM/o/2QaTrAQF9T89ims167HjP+Roiw7ssfA/N+aifBlj8D+LMRVBlGrvP6CylwUtpOE/UCAMIn9U4D86TWpu5ebtP5PEfPDbnN0/8ql5Nfn/4D83OrmjNxvhP9ETGcqqqOg/TEBpKYVw9j/5y4EaW9T4P6g7DuceO/U/scgFb/N/8D+73vRQdeXuP5DaSmyYQ+A/1hTHV/j+2j9wnnVfpazbPzJoid+r2eU/KlRdoNof2z8xuA2DPjffP3qotC6cE+Y/eqi0LpwT5j96qLQunBPmPwHia4Ko5fc/29W9hKHm9z8=",
          "dtype": "f8"
         }
        },
        {
         "line": {
          "color": "red"
         },
         "mode": "lines",
         "name": "Predição com RM",
         "type": "scatter",
         "y": {
          "bdata": "St2AJWpH5z9K3YAlakfnP0rdgCVqR+c/cOc/YDMX5z8gJJx1tV3lP1qolBeUnuY/WqiUF5Se5j9aqJQXlJ7mP1qolBeUnuY/WqiUF5Se5j9aqJQXlJ7mP8eLnZFBLfI/JdpI0IsY8T+aPIGOwsXwP5o8gY7CxfA/uYoWehoF8D+0GAQqKmbuPxqXTTRR+O0/2m0qp36S6D8al000UfjtP7lvWYFteOM//iUIitBx6D/+JQiK0HHoP/4lCIrQceg//iUIitBx6D98+HwllEzuP191j024R+4/SK8xACFn6D9+pisUDhnjP36mKxQOGeM/MOmzZd/s4T9qmGZXSH7jP+LOv+5ZS+I/4s6/7llL4j8Knfl11xzhPwiL0218suM/65doDZB/4j+fyp3Z217vPwiL0218suM/rQ4cm7LJ5T8nKM0f233iP60OHJuyyeU/cgLAYOj07z9h3D6qQlvjP8BKWxXdDO4/+QP1Hqgc7z9YVyA6j//mP1hXIDqP/+Y/1XwvHWqY5T/VfC8dapjlP9V8Lx1qmOU/t70291xj5T9y4/Os9AziP3FKjo8Ag+E/cuPzrPQM4j+zfzMviTXhP0+daSCJEOE/T51pIIkQ4T9mLuo1g8jhPxsRfdYN4OE/o6FXMdYg7T8dfJtbkozgP5fkD4fJ1+8/l+QPh8nX7z+LOhYdGE7tPzMWHf1PwuU/NnN9xYGC8D8gg8W938XgPweZdDbvD+A/EOTzPqb83T8Gffwvf0PjPwZ9/C9/Q+M/nBFtJWtN4z9LJ+3YQQ3fPx3mwsZK7d8/hrjz4xbP3z8XHmD5n1PfP6ClxgRldN4/kkM6k3qf3j+EP4ks7lPfP0ZHGdS8nNw/Bl6uN3373D8GXq43ffvcP5IbikR1C98/sZH30JWZ3T8aqKtSkvrdP1UGNR47zPA/gdWVWGYN3z8qG8//KR3wPyM5gAhhWN0/W56kIiKr3D9DLicC6/ncP1Jrqjcrm94/W56kIiKr3D8jOYAIYVjdP1Jrqjcrm94/UmuqNyub3j9Sa6o3K5veP2kEMwUXrt4/mjmLPR+w3j8=",
          "dtype": "f8"
         }
        }
       ],
       "layout": {
        "template": {
         "data": {
          "bar": [
           {
            "error_x": {
             "color": "#2a3f5f"
            },
            "error_y": {
             "color": "#2a3f5f"
            },
            "marker": {
             "line": {
              "color": "white",
              "width": 0.5
             },
             "pattern": {
              "fillmode": "overlay",
              "size": 10,
              "solidity": 0.2
             }
            },
            "type": "bar"
           }
          ],
          "barpolar": [
           {
            "marker": {
             "line": {
              "color": "white",
              "width": 0.5
             },
             "pattern": {
              "fillmode": "overlay",
              "size": 10,
              "solidity": 0.2
             }
            },
            "type": "barpolar"
           }
          ],
          "carpet": [
           {
            "aaxis": {
             "endlinecolor": "#2a3f5f",
             "gridcolor": "#C8D4E3",
             "linecolor": "#C8D4E3",
             "minorgridcolor": "#C8D4E3",
             "startlinecolor": "#2a3f5f"
            },
            "baxis": {
             "endlinecolor": "#2a3f5f",
             "gridcolor": "#C8D4E3",
             "linecolor": "#C8D4E3",
             "minorgridcolor": "#C8D4E3",
             "startlinecolor": "#2a3f5f"
            },
            "type": "carpet"
           }
          ],
          "choropleth": [
           {
            "colorbar": {
             "outlinewidth": 0,
             "ticks": ""
            },
            "type": "choropleth"
           }
          ],
          "contour": [
           {
            "colorbar": {
             "outlinewidth": 0,
             "ticks": ""
            },
            "colorscale": [
             [
              0,
              "#0d0887"
             ],
             [
              0.1111111111111111,
              "#46039f"
             ],
             [
              0.2222222222222222,
              "#7201a8"
             ],
             [
              0.3333333333333333,
              "#9c179e"
             ],
             [
              0.4444444444444444,
              "#bd3786"
             ],
             [
              0.5555555555555556,
              "#d8576b"
             ],
             [
              0.6666666666666666,
              "#ed7953"
             ],
             [
              0.7777777777777778,
              "#fb9f3a"
             ],
             [
              0.8888888888888888,
              "#fdca26"
             ],
             [
              1,
              "#f0f921"
             ]
            ],
            "type": "contour"
           }
          ],
          "contourcarpet": [
           {
            "colorbar": {
             "outlinewidth": 0,
             "ticks": ""
            },
            "type": "contourcarpet"
           }
          ],
          "heatmap": [
           {
            "colorbar": {
             "outlinewidth": 0,
             "ticks": ""
            },
            "colorscale": [
             [
              0,
              "#0d0887"
             ],
             [
              0.1111111111111111,
              "#46039f"
             ],
             [
              0.2222222222222222,
              "#7201a8"
             ],
             [
              0.3333333333333333,
              "#9c179e"
             ],
             [
              0.4444444444444444,
              "#bd3786"
             ],
             [
              0.5555555555555556,
              "#d8576b"
             ],
             [
              0.6666666666666666,
              "#ed7953"
             ],
             [
              0.7777777777777778,
              "#fb9f3a"
             ],
             [
              0.8888888888888888,
              "#fdca26"
             ],
             [
              1,
              "#f0f921"
             ]
            ],
            "type": "heatmap"
           }
          ],
          "histogram": [
           {
            "marker": {
             "pattern": {
              "fillmode": "overlay",
              "size": 10,
              "solidity": 0.2
             }
            },
            "type": "histogram"
           }
          ],
          "histogram2d": [
           {
            "colorbar": {
             "outlinewidth": 0,
             "ticks": ""
            },
            "colorscale": [
             [
              0,
              "#0d0887"
             ],
             [
              0.1111111111111111,
              "#46039f"
             ],
             [
              0.2222222222222222,
              "#7201a8"
             ],
             [
              0.3333333333333333,
              "#9c179e"
             ],
             [
              0.4444444444444444,
              "#bd3786"
             ],
             [
              0.5555555555555556,
              "#d8576b"
             ],
             [
              0.6666666666666666,
              "#ed7953"
             ],
             [
              0.7777777777777778,
              "#fb9f3a"
             ],
             [
              0.8888888888888888,
              "#fdca26"
             ],
             [
              1,
              "#f0f921"
             ]
            ],
            "type": "histogram2d"
           }
          ],
          "histogram2dcontour": [
           {
            "colorbar": {
             "outlinewidth": 0,
             "ticks": ""
            },
            "colorscale": [
             [
              0,
              "#0d0887"
             ],
             [
              0.1111111111111111,
              "#46039f"
             ],
             [
              0.2222222222222222,
              "#7201a8"
             ],
             [
              0.3333333333333333,
              "#9c179e"
             ],
             [
              0.4444444444444444,
              "#bd3786"
             ],
             [
              0.5555555555555556,
              "#d8576b"
             ],
             [
              0.6666666666666666,
              "#ed7953"
             ],
             [
              0.7777777777777778,
              "#fb9f3a"
             ],
             [
              0.8888888888888888,
              "#fdca26"
             ],
             [
              1,
              "#f0f921"
             ]
            ],
            "type": "histogram2dcontour"
           }
          ],
          "mesh3d": [
           {
            "colorbar": {
             "outlinewidth": 0,
             "ticks": ""
            },
            "type": "mesh3d"
           }
          ],
          "parcoords": [
           {
            "line": {
             "colorbar": {
              "outlinewidth": 0,
              "ticks": ""
             }
            },
            "type": "parcoords"
           }
          ],
          "pie": [
           {
            "automargin": true,
            "type": "pie"
           }
          ],
          "scatter": [
           {
            "fillpattern": {
             "fillmode": "overlay",
             "size": 10,
             "solidity": 0.2
            },
            "type": "scatter"
           }
          ],
          "scatter3d": [
           {
            "line": {
             "colorbar": {
              "outlinewidth": 0,
              "ticks": ""
             }
            },
            "marker": {
             "colorbar": {
              "outlinewidth": 0,
              "ticks": ""
             }
            },
            "type": "scatter3d"
           }
          ],
          "scattercarpet": [
           {
            "marker": {
             "colorbar": {
              "outlinewidth": 0,
              "ticks": ""
             }
            },
            "type": "scattercarpet"
           }
          ],
          "scattergeo": [
           {
            "marker": {
             "colorbar": {
              "outlinewidth": 0,
              "ticks": ""
             }
            },
            "type": "scattergeo"
           }
          ],
          "scattergl": [
           {
            "marker": {
             "colorbar": {
              "outlinewidth": 0,
              "ticks": ""
             }
            },
            "type": "scattergl"
           }
          ],
          "scattermap": [
           {
            "marker": {
             "colorbar": {
              "outlinewidth": 0,
              "ticks": ""
             }
            },
            "type": "scattermap"
           }
          ],
          "scattermapbox": [
           {
            "marker": {
             "colorbar": {
              "outlinewidth": 0,
              "ticks": ""
             }
            },
            "type": "scattermapbox"
           }
          ],
          "scatterpolar": [
           {
            "marker": {
             "colorbar": {
              "outlinewidth": 0,
              "ticks": ""
             }
            },
            "type": "scatterpolar"
           }
          ],
          "scatterpolargl": [
           {
            "marker": {
             "colorbar": {
              "outlinewidth": 0,
              "ticks": ""
             }
            },
            "type": "scatterpolargl"
           }
          ],
          "scatterternary": [
           {
            "marker": {
             "colorbar": {
              "outlinewidth": 0,
              "ticks": ""
             }
            },
            "type": "scatterternary"
           }
          ],
          "surface": [
           {
            "colorbar": {
             "outlinewidth": 0,
             "ticks": ""
            },
            "colorscale": [
             [
              0,
              "#0d0887"
             ],
             [
              0.1111111111111111,
              "#46039f"
             ],
             [
              0.2222222222222222,
              "#7201a8"
             ],
             [
              0.3333333333333333,
              "#9c179e"
             ],
             [
              0.4444444444444444,
              "#bd3786"
             ],
             [
              0.5555555555555556,
              "#d8576b"
             ],
             [
              0.6666666666666666,
              "#ed7953"
             ],
             [
              0.7777777777777778,
              "#fb9f3a"
             ],
             [
              0.8888888888888888,
              "#fdca26"
             ],
             [
              1,
              "#f0f921"
             ]
            ],
            "type": "surface"
           }
          ],
          "table": [
           {
            "cells": {
             "fill": {
              "color": "#EBF0F8"
             },
             "line": {
              "color": "white"
             }
            },
            "header": {
             "fill": {
              "color": "#C8D4E3"
             },
             "line": {
              "color": "white"
             }
            },
            "type": "table"
           }
          ]
         },
         "layout": {
          "annotationdefaults": {
           "arrowcolor": "#2a3f5f",
           "arrowhead": 0,
           "arrowwidth": 1
          },
          "autotypenumbers": "strict",
          "coloraxis": {
           "colorbar": {
            "outlinewidth": 0,
            "ticks": ""
           }
          },
          "colorscale": {
           "diverging": [
            [
             0,
             "#8e0152"
            ],
            [
             0.1,
             "#c51b7d"
            ],
            [
             0.2,
             "#de77ae"
            ],
            [
             0.3,
             "#f1b6da"
            ],
            [
             0.4,
             "#fde0ef"
            ],
            [
             0.5,
             "#f7f7f7"
            ],
            [
             0.6,
             "#e6f5d0"
            ],
            [
             0.7,
             "#b8e186"
            ],
            [
             0.8,
             "#7fbc41"
            ],
            [
             0.9,
             "#4d9221"
            ],
            [
             1,
             "#276419"
            ]
           ],
           "sequential": [
            [
             0,
             "#0d0887"
            ],
            [
             0.1111111111111111,
             "#46039f"
            ],
            [
             0.2222222222222222,
             "#7201a8"
            ],
            [
             0.3333333333333333,
             "#9c179e"
            ],
            [
             0.4444444444444444,
             "#bd3786"
            ],
            [
             0.5555555555555556,
             "#d8576b"
            ],
            [
             0.6666666666666666,
             "#ed7953"
            ],
            [
             0.7777777777777778,
             "#fb9f3a"
            ],
            [
             0.8888888888888888,
             "#fdca26"
            ],
            [
             1,
             "#f0f921"
            ]
           ],
           "sequentialminus": [
            [
             0,
             "#0d0887"
            ],
            [
             0.1111111111111111,
             "#46039f"
            ],
            [
             0.2222222222222222,
             "#7201a8"
            ],
            [
             0.3333333333333333,
             "#9c179e"
            ],
            [
             0.4444444444444444,
             "#bd3786"
            ],
            [
             0.5555555555555556,
             "#d8576b"
            ],
            [
             0.6666666666666666,
             "#ed7953"
            ],
            [
             0.7777777777777778,
             "#fb9f3a"
            ],
            [
             0.8888888888888888,
             "#fdca26"
            ],
            [
             1,
             "#f0f921"
            ]
           ]
          },
          "colorway": [
           "#636efa",
           "#EF553B",
           "#00cc96",
           "#ab63fa",
           "#FFA15A",
           "#19d3f3",
           "#FF6692",
           "#B6E880",
           "#FF97FF",
           "#FECB52"
          ],
          "font": {
           "color": "#2a3f5f"
          },
          "geo": {
           "bgcolor": "white",
           "lakecolor": "white",
           "landcolor": "white",
           "showlakes": true,
           "showland": true,
           "subunitcolor": "#C8D4E3"
          },
          "hoverlabel": {
           "align": "left"
          },
          "hovermode": "closest",
          "mapbox": {
           "style": "light"
          },
          "paper_bgcolor": "white",
          "plot_bgcolor": "white",
          "polar": {
           "angularaxis": {
            "gridcolor": "#EBF0F8",
            "linecolor": "#EBF0F8",
            "ticks": ""
           },
           "bgcolor": "white",
           "radialaxis": {
            "gridcolor": "#EBF0F8",
            "linecolor": "#EBF0F8",
            "ticks": ""
           }
          },
          "scene": {
           "xaxis": {
            "backgroundcolor": "white",
            "gridcolor": "#DFE8F3",
            "gridwidth": 2,
            "linecolor": "#EBF0F8",
            "showbackground": true,
            "ticks": "",
            "zerolinecolor": "#EBF0F8"
           },
           "yaxis": {
            "backgroundcolor": "white",
            "gridcolor": "#DFE8F3",
            "gridwidth": 2,
            "linecolor": "#EBF0F8",
            "showbackground": true,
            "ticks": "",
            "zerolinecolor": "#EBF0F8"
           },
           "zaxis": {
            "backgroundcolor": "white",
            "gridcolor": "#DFE8F3",
            "gridwidth": 2,
            "linecolor": "#EBF0F8",
            "showbackground": true,
            "ticks": "",
            "zerolinecolor": "#EBF0F8"
           }
          },
          "shapedefaults": {
           "line": {
            "color": "#2a3f5f"
           }
          },
          "ternary": {
           "aaxis": {
            "gridcolor": "#DFE8F3",
            "linecolor": "#A2B1C6",
            "ticks": ""
           },
           "baxis": {
            "gridcolor": "#DFE8F3",
            "linecolor": "#A2B1C6",
            "ticks": ""
           },
           "bgcolor": "white",
           "caxis": {
            "gridcolor": "#DFE8F3",
            "linecolor": "#A2B1C6",
            "ticks": ""
           }
          },
          "title": {
           "x": 0.05
          },
          "xaxis": {
           "automargin": true,
           "gridcolor": "#EBF0F8",
           "linecolor": "#EBF0F8",
           "ticks": "",
           "title": {
            "standoff": 15
           },
           "zerolinecolor": "#EBF0F8",
           "zerolinewidth": 2
          },
          "yaxis": {
           "automargin": true,
           "gridcolor": "#EBF0F8",
           "linecolor": "#EBF0F8",
           "ticks": "",
           "title": {
            "standoff": 15
           },
           "zerolinecolor": "#EBF0F8",
           "zerolinewidth": 2
          }
         }
        },
        "title": {
         "text": "Comparação CO₂ - Caso de teste: RM1: Velocidade igual a zero (mantendo aceleração e posição) - ETHANOL",
         "x": 0.5
        },
        "xaxis": {
         "title": {
          "text": "Amostras"
         }
        },
        "yaxis": {
         "title": {
          "text": "CO₂ (g/s)"
         }
        }
       }
      }
     },
     "metadata": {},
     "output_type": "display_data"
    },
    {
     "name": "stdout",
     "output_type": "stream",
     "text": [
      "\n",
      "🔁 Caso de teste: RM1: Velocidade igual a zero (mantendo aceleração e posição) (GASOLINE)\n",
      "Diferença Média: 0.5511 | Diferença Máxima: 2.9554 | Erro Quadrático Médio (RMSE): 0.8179 | Desvio Padrão (Std): 0.6044\n"
     ]
    },
    {
     "data": {
      "text/html": [
       "<style type=\"text/css\">\n",
       "</style>\n",
       "<table id=\"T_50192\">\n",
       "  <caption>Comparação dos dados originais e modificados - Caso de teste: RM1: Velocidade igual a zero (mantendo aceleração e posição) (GASOLINE)</caption>\n",
       "  <thead>\n",
       "    <tr>\n",
       "      <th class=\"blank level0\" >&nbsp;</th>\n",
       "      <th id=\"T_50192_level0_col0\" class=\"col_heading level0 col0\" >Latitude_Orig</th>\n",
       "      <th id=\"T_50192_level0_col1\" class=\"col_heading level0 col1\" >Longitude_Orig</th>\n",
       "      <th id=\"T_50192_level0_col2\" class=\"col_heading level0 col2\" >Speed(OBD)(km/h)_Orig</th>\n",
       "      <th id=\"T_50192_level0_col3\" class=\"col_heading level0 col3\" >Acceleration_Orig</th>\n",
       "      <th id=\"T_50192_level0_col4\" class=\"col_heading level0 col4\" > </th>\n",
       "      <th id=\"T_50192_level0_col5\" class=\"col_heading level0 col5\" >Latitude_Mod</th>\n",
       "      <th id=\"T_50192_level0_col6\" class=\"col_heading level0 col6\" >Longitude_Mod</th>\n",
       "      <th id=\"T_50192_level0_col7\" class=\"col_heading level0 col7\" >Speed(OBD)(km/h)_Mod</th>\n",
       "      <th id=\"T_50192_level0_col8\" class=\"col_heading level0 col8\" >Acceleration_Mod</th>\n",
       "      <th id=\"T_50192_level0_col9\" class=\"col_heading level0 col9\" > </th>\n",
       "      <th id=\"T_50192_level0_col10\" class=\"col_heading level0 col10\" >CO₂_Real</th>\n",
       "      <th id=\"T_50192_level0_col11\" class=\"col_heading level0 col11\" >CO₂_Orig</th>\n",
       "      <th id=\"T_50192_level0_col12\" class=\"col_heading level0 col12\" >CO₂_Mod</th>\n",
       "    </tr>\n",
       "  </thead>\n",
       "  <tbody>\n",
       "    <tr>\n",
       "      <th id=\"T_50192_level0_row0\" class=\"row_heading level0 row0\" >0</th>\n",
       "      <td id=\"T_50192_row0_col0\" class=\"data row0 col0\" >-5.820010</td>\n",
       "      <td id=\"T_50192_row0_col1\" class=\"data row0 col1\" >-35.220825</td>\n",
       "      <td id=\"T_50192_row0_col2\" class=\"data row0 col2\" >5</td>\n",
       "      <td id=\"T_50192_row0_col3\" class=\"data row0 col3\" >0.000000</td>\n",
       "      <td id=\"T_50192_row0_col4\" class=\"data row0 col4\" >→</td>\n",
       "      <td id=\"T_50192_row0_col5\" class=\"data row0 col5\" >-5.820010</td>\n",
       "      <td id=\"T_50192_row0_col6\" class=\"data row0 col6\" >-35.220825</td>\n",
       "      <td id=\"T_50192_row0_col7\" class=\"data row0 col7\" >0.000000</td>\n",
       "      <td id=\"T_50192_row0_col8\" class=\"data row0 col8\" >0.000000</td>\n",
       "      <td id=\"T_50192_row0_col9\" class=\"data row0 col9\" > </td>\n",
       "      <td id=\"T_50192_row0_col10\" class=\"data row0 col10\" >1.002671</td>\n",
       "      <td id=\"T_50192_row0_col11\" class=\"data row0 col11\" >1.456781</td>\n",
       "      <td id=\"T_50192_row0_col12\" class=\"data row0 col12\" >0.965052</td>\n",
       "    </tr>\n",
       "    <tr>\n",
       "      <th id=\"T_50192_level0_row1\" class=\"row_heading level0 row1\" >1</th>\n",
       "      <td id=\"T_50192_row1_col0\" class=\"data row1 col0\" >-5.820013</td>\n",
       "      <td id=\"T_50192_row1_col1\" class=\"data row1 col1\" >-35.220822</td>\n",
       "      <td id=\"T_50192_row1_col2\" class=\"data row1 col2\" >4</td>\n",
       "      <td id=\"T_50192_row1_col3\" class=\"data row1 col3\" >-0.277778</td>\n",
       "      <td id=\"T_50192_row1_col4\" class=\"data row1 col4\" >→</td>\n",
       "      <td id=\"T_50192_row1_col5\" class=\"data row1 col5\" >-5.820013</td>\n",
       "      <td id=\"T_50192_row1_col6\" class=\"data row1 col6\" >-35.220822</td>\n",
       "      <td id=\"T_50192_row1_col7\" class=\"data row1 col7\" >0.000000</td>\n",
       "      <td id=\"T_50192_row1_col8\" class=\"data row1 col8\" >-0.277778</td>\n",
       "      <td id=\"T_50192_row1_col9\" class=\"data row1 col9\" > </td>\n",
       "      <td id=\"T_50192_row1_col10\" class=\"data row1 col10\" >1.013360</td>\n",
       "      <td id=\"T_50192_row1_col11\" class=\"data row1 col11\" >1.016708</td>\n",
       "      <td id=\"T_50192_row1_col12\" class=\"data row1 col12\" >0.884055</td>\n",
       "    </tr>\n",
       "    <tr>\n",
       "      <th id=\"T_50192_level0_row2\" class=\"row_heading level0 row2\" >2</th>\n",
       "      <td id=\"T_50192_row2_col0\" class=\"data row2 col0\" >-5.820016</td>\n",
       "      <td id=\"T_50192_row2_col1\" class=\"data row2 col1\" >-35.220819</td>\n",
       "      <td id=\"T_50192_row2_col2\" class=\"data row2 col2\" >5</td>\n",
       "      <td id=\"T_50192_row2_col3\" class=\"data row2 col3\" >0.277778</td>\n",
       "      <td id=\"T_50192_row2_col4\" class=\"data row2 col4\" >→</td>\n",
       "      <td id=\"T_50192_row2_col5\" class=\"data row2 col5\" >-5.820016</td>\n",
       "      <td id=\"T_50192_row2_col6\" class=\"data row2 col6\" >-35.220819</td>\n",
       "      <td id=\"T_50192_row2_col7\" class=\"data row2 col7\" >0.000000</td>\n",
       "      <td id=\"T_50192_row2_col8\" class=\"data row2 col8\" >0.277778</td>\n",
       "      <td id=\"T_50192_row2_col9\" class=\"data row2 col9\" > </td>\n",
       "      <td id=\"T_50192_row2_col10\" class=\"data row2 col10\" >2.088720</td>\n",
       "      <td id=\"T_50192_row2_col11\" class=\"data row2 col11\" >1.456781</td>\n",
       "      <td id=\"T_50192_row2_col12\" class=\"data row2 col12\" >0.965052</td>\n",
       "    </tr>\n",
       "    <tr>\n",
       "      <th id=\"T_50192_level0_row3\" class=\"row_heading level0 row3\" >3</th>\n",
       "      <td id=\"T_50192_row3_col0\" class=\"data row3 col0\" >-5.820014</td>\n",
       "      <td id=\"T_50192_row3_col1\" class=\"data row3 col1\" >-35.220825</td>\n",
       "      <td id=\"T_50192_row3_col2\" class=\"data row3 col2\" >7</td>\n",
       "      <td id=\"T_50192_row3_col3\" class=\"data row3 col3\" >0.555556</td>\n",
       "      <td id=\"T_50192_row3_col4\" class=\"data row3 col4\" >→</td>\n",
       "      <td id=\"T_50192_row3_col5\" class=\"data row3 col5\" >-5.820014</td>\n",
       "      <td id=\"T_50192_row3_col6\" class=\"data row3 col6\" >-35.220825</td>\n",
       "      <td id=\"T_50192_row3_col7\" class=\"data row3 col7\" >0.000000</td>\n",
       "      <td id=\"T_50192_row3_col8\" class=\"data row3 col8\" >0.555556</td>\n",
       "      <td id=\"T_50192_row3_col9\" class=\"data row3 col9\" > </td>\n",
       "      <td id=\"T_50192_row3_col10\" class=\"data row3 col10\" >2.261889</td>\n",
       "      <td id=\"T_50192_row3_col11\" class=\"data row3 col11\" >1.996380</td>\n",
       "      <td id=\"T_50192_row3_col12\" class=\"data row3 col12\" >0.965052</td>\n",
       "    </tr>\n",
       "    <tr>\n",
       "      <th id=\"T_50192_level0_row4\" class=\"row_heading level0 row4\" >4</th>\n",
       "      <td id=\"T_50192_row4_col0\" class=\"data row4 col0\" >-5.819992</td>\n",
       "      <td id=\"T_50192_row4_col1\" class=\"data row4 col1\" >-35.220829</td>\n",
       "      <td id=\"T_50192_row4_col2\" class=\"data row4 col2\" >9</td>\n",
       "      <td id=\"T_50192_row4_col3\" class=\"data row4 col3\" >0.555556</td>\n",
       "      <td id=\"T_50192_row4_col4\" class=\"data row4 col4\" >→</td>\n",
       "      <td id=\"T_50192_row4_col5\" class=\"data row4 col5\" >-5.819992</td>\n",
       "      <td id=\"T_50192_row4_col6\" class=\"data row4 col6\" >-35.220829</td>\n",
       "      <td id=\"T_50192_row4_col7\" class=\"data row4 col7\" >0.000000</td>\n",
       "      <td id=\"T_50192_row4_col8\" class=\"data row4 col8\" >0.555556</td>\n",
       "      <td id=\"T_50192_row4_col9\" class=\"data row4 col9\" > </td>\n",
       "      <td id=\"T_50192_row4_col10\" class=\"data row4 col10\" >2.499195</td>\n",
       "      <td id=\"T_50192_row4_col11\" class=\"data row4 col11\" >2.400486</td>\n",
       "      <td id=\"T_50192_row4_col12\" class=\"data row4 col12\" >0.940914</td>\n",
       "    </tr>\n",
       "    <tr>\n",
       "      <th id=\"T_50192_level0_row5\" class=\"row_heading level0 row5\" >5</th>\n",
       "      <td id=\"T_50192_row5_col0\" class=\"data row5 col0\" >-5.819974</td>\n",
       "      <td id=\"T_50192_row5_col1\" class=\"data row5 col1\" >-35.220824</td>\n",
       "      <td id=\"T_50192_row5_col2\" class=\"data row5 col2\" >12</td>\n",
       "      <td id=\"T_50192_row5_col3\" class=\"data row5 col3\" >0.833333</td>\n",
       "      <td id=\"T_50192_row5_col4\" class=\"data row5 col4\" >→</td>\n",
       "      <td id=\"T_50192_row5_col5\" class=\"data row5 col5\" >-5.819974</td>\n",
       "      <td id=\"T_50192_row5_col6\" class=\"data row5 col6\" >-35.220824</td>\n",
       "      <td id=\"T_50192_row5_col7\" class=\"data row5 col7\" >0.000000</td>\n",
       "      <td id=\"T_50192_row5_col8\" class=\"data row5 col8\" >0.833333</td>\n",
       "      <td id=\"T_50192_row5_col9\" class=\"data row5 col9\" > </td>\n",
       "      <td id=\"T_50192_row5_col10\" class=\"data row5 col10\" >2.606089</td>\n",
       "      <td id=\"T_50192_row5_col11\" class=\"data row5 col11\" >2.400486</td>\n",
       "      <td id=\"T_50192_row5_col12\" class=\"data row5 col12\" >0.940914</td>\n",
       "    </tr>\n",
       "    <tr>\n",
       "      <th id=\"T_50192_level0_row6\" class=\"row_heading level0 row6\" >6</th>\n",
       "      <td id=\"T_50192_row6_col0\" class=\"data row6 col0\" >-5.819944</td>\n",
       "      <td id=\"T_50192_row6_col1\" class=\"data row6 col1\" >-35.220823</td>\n",
       "      <td id=\"T_50192_row6_col2\" class=\"data row6 col2\" >15</td>\n",
       "      <td id=\"T_50192_row6_col3\" class=\"data row6 col3\" >0.833333</td>\n",
       "      <td id=\"T_50192_row6_col4\" class=\"data row6 col4\" >→</td>\n",
       "      <td id=\"T_50192_row6_col5\" class=\"data row6 col5\" >-5.819944</td>\n",
       "      <td id=\"T_50192_row6_col6\" class=\"data row6 col6\" >-35.220823</td>\n",
       "      <td id=\"T_50192_row6_col7\" class=\"data row6 col7\" >0.000000</td>\n",
       "      <td id=\"T_50192_row6_col8\" class=\"data row6 col8\" >0.833333</td>\n",
       "      <td id=\"T_50192_row6_col9\" class=\"data row6 col9\" > </td>\n",
       "      <td id=\"T_50192_row6_col10\" class=\"data row6 col10\" >3.070012</td>\n",
       "      <td id=\"T_50192_row6_col11\" class=\"data row6 col11\" >2.148721</td>\n",
       "      <td id=\"T_50192_row6_col12\" class=\"data row6 col12\" >0.880813</td>\n",
       "    </tr>\n",
       "    <tr>\n",
       "      <th id=\"T_50192_level0_row7\" class=\"row_heading level0 row7\" >7</th>\n",
       "      <td id=\"T_50192_row7_col0\" class=\"data row7 col0\" >-5.819908</td>\n",
       "      <td id=\"T_50192_row7_col1\" class=\"data row7 col1\" >-35.220810</td>\n",
       "      <td id=\"T_50192_row7_col2\" class=\"data row7 col2\" >18</td>\n",
       "      <td id=\"T_50192_row7_col3\" class=\"data row7 col3\" >0.833333</td>\n",
       "      <td id=\"T_50192_row7_col4\" class=\"data row7 col4\" >→</td>\n",
       "      <td id=\"T_50192_row7_col5\" class=\"data row7 col5\" >-5.819908</td>\n",
       "      <td id=\"T_50192_row7_col6\" class=\"data row7 col6\" >-35.220810</td>\n",
       "      <td id=\"T_50192_row7_col7\" class=\"data row7 col7\" >0.000000</td>\n",
       "      <td id=\"T_50192_row7_col8\" class=\"data row7 col8\" >0.833333</td>\n",
       "      <td id=\"T_50192_row7_col9\" class=\"data row7 col9\" > </td>\n",
       "      <td id=\"T_50192_row7_col10\" class=\"data row7 col10\" >2.445747</td>\n",
       "      <td id=\"T_50192_row7_col11\" class=\"data row7 col11\" >1.470940</td>\n",
       "      <td id=\"T_50192_row7_col12\" class=\"data row7 col12\" >0.773157</td>\n",
       "    </tr>\n",
       "    <tr>\n",
       "      <th id=\"T_50192_level0_row8\" class=\"row_heading level0 row8\" >8</th>\n",
       "      <td id=\"T_50192_row8_col0\" class=\"data row8 col0\" >-5.819866</td>\n",
       "      <td id=\"T_50192_row8_col1\" class=\"data row8 col1\" >-35.220794</td>\n",
       "      <td id=\"T_50192_row8_col2\" class=\"data row8 col2\" >18</td>\n",
       "      <td id=\"T_50192_row8_col3\" class=\"data row8 col3\" >0.000000</td>\n",
       "      <td id=\"T_50192_row8_col4\" class=\"data row8 col4\" >→</td>\n",
       "      <td id=\"T_50192_row8_col5\" class=\"data row8 col5\" >-5.819866</td>\n",
       "      <td id=\"T_50192_row8_col6\" class=\"data row8 col6\" >-35.220794</td>\n",
       "      <td id=\"T_50192_row8_col7\" class=\"data row8 col7\" >0.000000</td>\n",
       "      <td id=\"T_50192_row8_col8\" class=\"data row8 col8\" >0.000000</td>\n",
       "      <td id=\"T_50192_row8_col9\" class=\"data row8 col9\" > </td>\n",
       "      <td id=\"T_50192_row8_col10\" class=\"data row8 col10\" >1.073221</td>\n",
       "      <td id=\"T_50192_row8_col11\" class=\"data row8 col11\" >1.588029</td>\n",
       "      <td id=\"T_50192_row8_col12\" class=\"data row8 col12\" >0.783680</td>\n",
       "    </tr>\n",
       "    <tr>\n",
       "      <th id=\"T_50192_level0_row9\" class=\"row_heading level0 row9\" >9</th>\n",
       "      <td id=\"T_50192_row9_col0\" class=\"data row9 col0\" >-5.819821</td>\n",
       "      <td id=\"T_50192_row9_col1\" class=\"data row9 col1\" >-35.220775</td>\n",
       "      <td id=\"T_50192_row9_col2\" class=\"data row9 col2\" >16</td>\n",
       "      <td id=\"T_50192_row9_col3\" class=\"data row9 col3\" >-0.555556</td>\n",
       "      <td id=\"T_50192_row9_col4\" class=\"data row9 col4\" >→</td>\n",
       "      <td id=\"T_50192_row9_col5\" class=\"data row9 col5\" >-5.819821</td>\n",
       "      <td id=\"T_50192_row9_col6\" class=\"data row9 col6\" >-35.220775</td>\n",
       "      <td id=\"T_50192_row9_col7\" class=\"data row9 col7\" >0.000000</td>\n",
       "      <td id=\"T_50192_row9_col8\" class=\"data row9 col8\" >-0.555556</td>\n",
       "      <td id=\"T_50192_row9_col9\" class=\"data row9 col9\" > </td>\n",
       "      <td id=\"T_50192_row9_col10\" class=\"data row9 col10\" >0.562265</td>\n",
       "      <td id=\"T_50192_row9_col11\" class=\"data row9 col11\" >1.085921</td>\n",
       "      <td id=\"T_50192_row9_col12\" class=\"data row9 col12\" >0.980167</td>\n",
       "    </tr>\n",
       "  </tbody>\n",
       "</table>\n"
      ],
      "text/plain": [
       "<pandas.io.formats.style.Styler at 0x1bd89531010>"
      ]
     },
     "metadata": {},
     "output_type": "display_data"
    },
    {
     "data": {
      "application/vnd.plotly.v1+json": {
       "config": {
        "plotlyServerURL": "https://plot.ly"
       },
       "data": [
        {
         "line": {
          "color": "green",
          "dash": "dot"
         },
         "mode": "lines",
         "name": "Real",
         "type": "scatter",
         "y": {
          "bdata": "fgFSsvAK8D+A9UFnuTbwP+sFLaeytQBAlHGRLVkYAkBCucXSWf4DQEt9dVtF2QRAqBJmS2KPCEA+120O5JADQCN/TinqK/E/+as09BP+4T+aTWFMs5viP5pNYUyzm+I/XDzytNji+j+dNUG2RPMCQCiGK0XJLgZAUV/NH7tGBUCt9L0P2PwIQMoh0PdM4gZALUmGV/HwAUC7e8iq65kFQJWKBjqL2QZAPtdtDuSQA0A+120O5JADQD/LXcOsvPM/G9QTrTAS5T+dNUG2RPPiPz7XbQ7kkOM/PtdtDuSQ4z+N38u90b/qPypPDv0M2/E/XDzytNjiCkCoDN6lRqUIQKgM3qVGpQhA8yxc66J8D0BuxFHGr5gMQIjedkcOpwVAJ4Cjn61EBkBRX80fu0YFQLWf+IuRFgVAtZ/4i5EWBUBZCgicdGDxP1JTvdSDcvU/1NlvNQHp9z+u1cBdilHkP67VwF2KUeQ/oGcrz6h17D9QRlgTiYXwP5J9oXiQ7PE/kn2heJDs8T/DRQDZ8l7mP79dIG9hB+Y/v10gb2EH5j+/XSBvYQfmP2LnLDGS/OY/sOIlH4U+6T/qekRTCmDuP6BnK8+odew/mWxe/gBHB0CpJVOyeGYNQIFGKTJrZA5AgUYpMmtkDkDqCPF5wKoQQNfm1Pb71QxA1+bU9vvVDEDDRQDZ8l7mP8A4mxf4ceE/+as09BP+4T9i5ywxkvzmP2LnLDGS/OY/QeTSz9596D9B5NLP3n3oPzJEUyiZH+c/MkRTKJkf5z95fPEDZJ/tP3l88QNkn+0/2trEq8QB7T8Lfp60vd7sP9by5EEzquw/LlxzvgfI5j8uXHO+B8jmP79dIG9hB+Y/idJm/NbS5T/DRQDZ8l7mP/jQuUt9k+Y/+NC5S32T5j8g7t0vJuzuPwt+nrS93uw/nH9LZRce7D9q3HFcHkHsP2rccVweQew/H7zzFsJp5T8fvPMWwmnlP/jQuUt9k+Y/LlxzvgfI5j8uXHO+B8jmPy5cc74HyOY/atxxXB5B7D9q3HFcHkHsPwt+nrS93uw/1vLkQTOq7D8=",
          "dtype": "f8"
         }
        },
        {
         "line": {
          "color": "blue",
          "dash": "dash"
         },
         "mode": "lines",
         "name": "Predição Original",
         "type": "scatter",
         "y": {
          "bdata": "nyhPnflO9z9gHHYQcETwP58oT535Tvc/NcYJ3ivx/z/H027bMTQDQMfTbtsxNANAW6JizpQwAUDSiMQk+Ij3P/2q4seQaPk/ZH6eRe5f8T9BGZ5ZmvD3PzitkrX97Pg/sjPog+dN+z+SSuHot2oCQJww0qNNLgNA8cQEdVL2B0A1HTGC8yUFQJ1s4cie0QVAPEfMwV4IAkA8R8zBXggCQF2Pwwd46AFAbpuVTxN2+j/IvXHXsBP6P0OwSlf+P/c/2pPnoDIS6T+hOYU4eCfuPxp0K9BUbOo/ThQjZ9o8AEBABo/x9pL3P3F+mAxJHfY/vjt97VxcAkC1xmrF5DgDQOa6Z/pAWAZAUonaDz/zBED9aMiraIEDQPruFYWieANA+u4VhaJ4A0CoKE294o/7Pxk9jtecgfw/S7H7xD8A/j92WkFYmFz2P7S5Onx/Bvo/RX1rWH4i8z/oY5hva434P1TJv1Fh2es/2F3p5aM27D+RtiC+vPzzP6NexDxw2fI/XyhyWTnN9D+DFQQ4srDxP7jtWJ1vMew/uO1YnW8x7D+47VidbzHsP7jtWJ1vMew/uO1YnW8x7D+47VidbzHsP7jtWJ1vMew/uO1YnW8x7D8nAD+TNLUCQNaKcWWMugZA0Uv5KVIhCEA+8WTkUCIIQPi+a1e0Yw5Ayp9UILRhDkDaMTNkxTIBQMaASEASVe8/28WzSFf/7z9COf9b/WfwPxW/p/5ScP0/VZWNuaJb6j9o0D7Y66zqP2jQPtjrrOo/aNA+2Ous6j9o0D7Y66zqP2jQPtjrrOo/aNA+2Ous6j9o0D7Y66zqP2jQPtjrrOo/aNA+2Ous6j9o0D7Y66zqP2jQPtjrrOo/aNA+2Ous6j9o0D7Y66zqP2jQPtjrrOo/aNA+2Ous6j9o0D7Y66zqP2jQPtjrrOo/aNA+2Ous6j9o0D7Y66zqP2jQPtjrrOo/aNA+2Ous6j9o0D7Y66zqP2jQPtjrrOo/aNA+2Ous6j9o0D7Y66zqP2jQPtjrrOo/aNA+2Ous6j9o0D7Y66zqP2jQPtjrrOo/aNA+2Ous6j8=",
          "dtype": "f8"
         }
        },
        {
         "line": {
          "color": "red"
         },
         "mode": "lines",
         "name": "Predição com RM",
         "type": "scatter",
         "y": {
          "bdata": "C4erBLXh7j8Hg42xLErsPwuHqwS14e4/C4erBLXh7j+cdD739xvuP5x0Pvf3G+4/HpFD2Z4v7D9RbDXEtL3oPwsBXiPnE+k/i4P1moZd7z9QhOdobCnxP66HE8ZjdvA/7AdTkp6U7T/Aavs0G/LqP8Bq+zQb8uo/qk5cpzWT7z9s3GLMNuX5P6pOXKc1k+8/VB6udWB38T9UHq51YHfxP1QernVgd/E/6YCdTXAx5z/pgJ1NcDHnPwCd8a8TyuQ/1dQMZxI57D/i8xI2GmvoPwiqwbMBoug/njmagZdz8D/VqkfJdsfwP6+U0wsStfA/w0A/L5jD8D/DQD8vmMPwP93RrcTSNPQ/7YKdU6K9+T86doZRbl35PyC2EHLd3PA/ILYQct3c8D9+g7Pf1hjrP36Ds9/WGOs/foOz39YY6z+B/k3/fSjqP/GyQDvkkOo/gf5N/30o6j/xskA75JDqP0Kzek/Xueo/llmbKUTX6j/rVjKYjBLwP6xUL0vafPI/uO1YnW8x7D+DFQQ4srDxP7jtWJ1vMew/uO1YnW8x7D+47VidbzHsP7jtWJ1vMew/uO1YnW8x7D+47VidbzHsP7jtWJ1vMew/uO1YnW8x7D/p+5z7zDP/P+n7nPvMM/8/+kMa95oS8D9oBbR0Qan+P/A1Jtf0++o/8DUm1/T76j8/t3AXrg7qP1gBZS/8vek/WAFlL/y96T9VlY25olvqP2jQPtjrrOo/VZWNuaJb6j9o0D7Y66zqP2jQPtjrrOo/aNA+2Ous6j9o0D7Y66zqP2jQPtjrrOo/aNA+2Ous6j9o0D7Y66zqP2jQPtjrrOo/aNA+2Ous6j9o0D7Y66zqP2jQPtjrrOo/aNA+2Ous6j9o0D7Y66zqP2jQPtjrrOo/aNA+2Ous6j9o0D7Y66zqP2jQPtjrrOo/aNA+2Ous6j9o0D7Y66zqP2jQPtjrrOo/aNA+2Ous6j9o0D7Y66zqP2jQPtjrrOo/aNA+2Ous6j9o0D7Y66zqP2jQPtjrrOo/aNA+2Ous6j9o0D7Y66zqP2jQPtjrrOo/aNA+2Ous6j8=",
          "dtype": "f8"
         }
        }
       ],
       "layout": {
        "template": {
         "data": {
          "bar": [
           {
            "error_x": {
             "color": "#2a3f5f"
            },
            "error_y": {
             "color": "#2a3f5f"
            },
            "marker": {
             "line": {
              "color": "white",
              "width": 0.5
             },
             "pattern": {
              "fillmode": "overlay",
              "size": 10,
              "solidity": 0.2
             }
            },
            "type": "bar"
           }
          ],
          "barpolar": [
           {
            "marker": {
             "line": {
              "color": "white",
              "width": 0.5
             },
             "pattern": {
              "fillmode": "overlay",
              "size": 10,
              "solidity": 0.2
             }
            },
            "type": "barpolar"
           }
          ],
          "carpet": [
           {
            "aaxis": {
             "endlinecolor": "#2a3f5f",
             "gridcolor": "#C8D4E3",
             "linecolor": "#C8D4E3",
             "minorgridcolor": "#C8D4E3",
             "startlinecolor": "#2a3f5f"
            },
            "baxis": {
             "endlinecolor": "#2a3f5f",
             "gridcolor": "#C8D4E3",
             "linecolor": "#C8D4E3",
             "minorgridcolor": "#C8D4E3",
             "startlinecolor": "#2a3f5f"
            },
            "type": "carpet"
           }
          ],
          "choropleth": [
           {
            "colorbar": {
             "outlinewidth": 0,
             "ticks": ""
            },
            "type": "choropleth"
           }
          ],
          "contour": [
           {
            "colorbar": {
             "outlinewidth": 0,
             "ticks": ""
            },
            "colorscale": [
             [
              0,
              "#0d0887"
             ],
             [
              0.1111111111111111,
              "#46039f"
             ],
             [
              0.2222222222222222,
              "#7201a8"
             ],
             [
              0.3333333333333333,
              "#9c179e"
             ],
             [
              0.4444444444444444,
              "#bd3786"
             ],
             [
              0.5555555555555556,
              "#d8576b"
             ],
             [
              0.6666666666666666,
              "#ed7953"
             ],
             [
              0.7777777777777778,
              "#fb9f3a"
             ],
             [
              0.8888888888888888,
              "#fdca26"
             ],
             [
              1,
              "#f0f921"
             ]
            ],
            "type": "contour"
           }
          ],
          "contourcarpet": [
           {
            "colorbar": {
             "outlinewidth": 0,
             "ticks": ""
            },
            "type": "contourcarpet"
           }
          ],
          "heatmap": [
           {
            "colorbar": {
             "outlinewidth": 0,
             "ticks": ""
            },
            "colorscale": [
             [
              0,
              "#0d0887"
             ],
             [
              0.1111111111111111,
              "#46039f"
             ],
             [
              0.2222222222222222,
              "#7201a8"
             ],
             [
              0.3333333333333333,
              "#9c179e"
             ],
             [
              0.4444444444444444,
              "#bd3786"
             ],
             [
              0.5555555555555556,
              "#d8576b"
             ],
             [
              0.6666666666666666,
              "#ed7953"
             ],
             [
              0.7777777777777778,
              "#fb9f3a"
             ],
             [
              0.8888888888888888,
              "#fdca26"
             ],
             [
              1,
              "#f0f921"
             ]
            ],
            "type": "heatmap"
           }
          ],
          "histogram": [
           {
            "marker": {
             "pattern": {
              "fillmode": "overlay",
              "size": 10,
              "solidity": 0.2
             }
            },
            "type": "histogram"
           }
          ],
          "histogram2d": [
           {
            "colorbar": {
             "outlinewidth": 0,
             "ticks": ""
            },
            "colorscale": [
             [
              0,
              "#0d0887"
             ],
             [
              0.1111111111111111,
              "#46039f"
             ],
             [
              0.2222222222222222,
              "#7201a8"
             ],
             [
              0.3333333333333333,
              "#9c179e"
             ],
             [
              0.4444444444444444,
              "#bd3786"
             ],
             [
              0.5555555555555556,
              "#d8576b"
             ],
             [
              0.6666666666666666,
              "#ed7953"
             ],
             [
              0.7777777777777778,
              "#fb9f3a"
             ],
             [
              0.8888888888888888,
              "#fdca26"
             ],
             [
              1,
              "#f0f921"
             ]
            ],
            "type": "histogram2d"
           }
          ],
          "histogram2dcontour": [
           {
            "colorbar": {
             "outlinewidth": 0,
             "ticks": ""
            },
            "colorscale": [
             [
              0,
              "#0d0887"
             ],
             [
              0.1111111111111111,
              "#46039f"
             ],
             [
              0.2222222222222222,
              "#7201a8"
             ],
             [
              0.3333333333333333,
              "#9c179e"
             ],
             [
              0.4444444444444444,
              "#bd3786"
             ],
             [
              0.5555555555555556,
              "#d8576b"
             ],
             [
              0.6666666666666666,
              "#ed7953"
             ],
             [
              0.7777777777777778,
              "#fb9f3a"
             ],
             [
              0.8888888888888888,
              "#fdca26"
             ],
             [
              1,
              "#f0f921"
             ]
            ],
            "type": "histogram2dcontour"
           }
          ],
          "mesh3d": [
           {
            "colorbar": {
             "outlinewidth": 0,
             "ticks": ""
            },
            "type": "mesh3d"
           }
          ],
          "parcoords": [
           {
            "line": {
             "colorbar": {
              "outlinewidth": 0,
              "ticks": ""
             }
            },
            "type": "parcoords"
           }
          ],
          "pie": [
           {
            "automargin": true,
            "type": "pie"
           }
          ],
          "scatter": [
           {
            "fillpattern": {
             "fillmode": "overlay",
             "size": 10,
             "solidity": 0.2
            },
            "type": "scatter"
           }
          ],
          "scatter3d": [
           {
            "line": {
             "colorbar": {
              "outlinewidth": 0,
              "ticks": ""
             }
            },
            "marker": {
             "colorbar": {
              "outlinewidth": 0,
              "ticks": ""
             }
            },
            "type": "scatter3d"
           }
          ],
          "scattercarpet": [
           {
            "marker": {
             "colorbar": {
              "outlinewidth": 0,
              "ticks": ""
             }
            },
            "type": "scattercarpet"
           }
          ],
          "scattergeo": [
           {
            "marker": {
             "colorbar": {
              "outlinewidth": 0,
              "ticks": ""
             }
            },
            "type": "scattergeo"
           }
          ],
          "scattergl": [
           {
            "marker": {
             "colorbar": {
              "outlinewidth": 0,
              "ticks": ""
             }
            },
            "type": "scattergl"
           }
          ],
          "scattermap": [
           {
            "marker": {
             "colorbar": {
              "outlinewidth": 0,
              "ticks": ""
             }
            },
            "type": "scattermap"
           }
          ],
          "scattermapbox": [
           {
            "marker": {
             "colorbar": {
              "outlinewidth": 0,
              "ticks": ""
             }
            },
            "type": "scattermapbox"
           }
          ],
          "scatterpolar": [
           {
            "marker": {
             "colorbar": {
              "outlinewidth": 0,
              "ticks": ""
             }
            },
            "type": "scatterpolar"
           }
          ],
          "scatterpolargl": [
           {
            "marker": {
             "colorbar": {
              "outlinewidth": 0,
              "ticks": ""
             }
            },
            "type": "scatterpolargl"
           }
          ],
          "scatterternary": [
           {
            "marker": {
             "colorbar": {
              "outlinewidth": 0,
              "ticks": ""
             }
            },
            "type": "scatterternary"
           }
          ],
          "surface": [
           {
            "colorbar": {
             "outlinewidth": 0,
             "ticks": ""
            },
            "colorscale": [
             [
              0,
              "#0d0887"
             ],
             [
              0.1111111111111111,
              "#46039f"
             ],
             [
              0.2222222222222222,
              "#7201a8"
             ],
             [
              0.3333333333333333,
              "#9c179e"
             ],
             [
              0.4444444444444444,
              "#bd3786"
             ],
             [
              0.5555555555555556,
              "#d8576b"
             ],
             [
              0.6666666666666666,
              "#ed7953"
             ],
             [
              0.7777777777777778,
              "#fb9f3a"
             ],
             [
              0.8888888888888888,
              "#fdca26"
             ],
             [
              1,
              "#f0f921"
             ]
            ],
            "type": "surface"
           }
          ],
          "table": [
           {
            "cells": {
             "fill": {
              "color": "#EBF0F8"
             },
             "line": {
              "color": "white"
             }
            },
            "header": {
             "fill": {
              "color": "#C8D4E3"
             },
             "line": {
              "color": "white"
             }
            },
            "type": "table"
           }
          ]
         },
         "layout": {
          "annotationdefaults": {
           "arrowcolor": "#2a3f5f",
           "arrowhead": 0,
           "arrowwidth": 1
          },
          "autotypenumbers": "strict",
          "coloraxis": {
           "colorbar": {
            "outlinewidth": 0,
            "ticks": ""
           }
          },
          "colorscale": {
           "diverging": [
            [
             0,
             "#8e0152"
            ],
            [
             0.1,
             "#c51b7d"
            ],
            [
             0.2,
             "#de77ae"
            ],
            [
             0.3,
             "#f1b6da"
            ],
            [
             0.4,
             "#fde0ef"
            ],
            [
             0.5,
             "#f7f7f7"
            ],
            [
             0.6,
             "#e6f5d0"
            ],
            [
             0.7,
             "#b8e186"
            ],
            [
             0.8,
             "#7fbc41"
            ],
            [
             0.9,
             "#4d9221"
            ],
            [
             1,
             "#276419"
            ]
           ],
           "sequential": [
            [
             0,
             "#0d0887"
            ],
            [
             0.1111111111111111,
             "#46039f"
            ],
            [
             0.2222222222222222,
             "#7201a8"
            ],
            [
             0.3333333333333333,
             "#9c179e"
            ],
            [
             0.4444444444444444,
             "#bd3786"
            ],
            [
             0.5555555555555556,
             "#d8576b"
            ],
            [
             0.6666666666666666,
             "#ed7953"
            ],
            [
             0.7777777777777778,
             "#fb9f3a"
            ],
            [
             0.8888888888888888,
             "#fdca26"
            ],
            [
             1,
             "#f0f921"
            ]
           ],
           "sequentialminus": [
            [
             0,
             "#0d0887"
            ],
            [
             0.1111111111111111,
             "#46039f"
            ],
            [
             0.2222222222222222,
             "#7201a8"
            ],
            [
             0.3333333333333333,
             "#9c179e"
            ],
            [
             0.4444444444444444,
             "#bd3786"
            ],
            [
             0.5555555555555556,
             "#d8576b"
            ],
            [
             0.6666666666666666,
             "#ed7953"
            ],
            [
             0.7777777777777778,
             "#fb9f3a"
            ],
            [
             0.8888888888888888,
             "#fdca26"
            ],
            [
             1,
             "#f0f921"
            ]
           ]
          },
          "colorway": [
           "#636efa",
           "#EF553B",
           "#00cc96",
           "#ab63fa",
           "#FFA15A",
           "#19d3f3",
           "#FF6692",
           "#B6E880",
           "#FF97FF",
           "#FECB52"
          ],
          "font": {
           "color": "#2a3f5f"
          },
          "geo": {
           "bgcolor": "white",
           "lakecolor": "white",
           "landcolor": "white",
           "showlakes": true,
           "showland": true,
           "subunitcolor": "#C8D4E3"
          },
          "hoverlabel": {
           "align": "left"
          },
          "hovermode": "closest",
          "mapbox": {
           "style": "light"
          },
          "paper_bgcolor": "white",
          "plot_bgcolor": "white",
          "polar": {
           "angularaxis": {
            "gridcolor": "#EBF0F8",
            "linecolor": "#EBF0F8",
            "ticks": ""
           },
           "bgcolor": "white",
           "radialaxis": {
            "gridcolor": "#EBF0F8",
            "linecolor": "#EBF0F8",
            "ticks": ""
           }
          },
          "scene": {
           "xaxis": {
            "backgroundcolor": "white",
            "gridcolor": "#DFE8F3",
            "gridwidth": 2,
            "linecolor": "#EBF0F8",
            "showbackground": true,
            "ticks": "",
            "zerolinecolor": "#EBF0F8"
           },
           "yaxis": {
            "backgroundcolor": "white",
            "gridcolor": "#DFE8F3",
            "gridwidth": 2,
            "linecolor": "#EBF0F8",
            "showbackground": true,
            "ticks": "",
            "zerolinecolor": "#EBF0F8"
           },
           "zaxis": {
            "backgroundcolor": "white",
            "gridcolor": "#DFE8F3",
            "gridwidth": 2,
            "linecolor": "#EBF0F8",
            "showbackground": true,
            "ticks": "",
            "zerolinecolor": "#EBF0F8"
           }
          },
          "shapedefaults": {
           "line": {
            "color": "#2a3f5f"
           }
          },
          "ternary": {
           "aaxis": {
            "gridcolor": "#DFE8F3",
            "linecolor": "#A2B1C6",
            "ticks": ""
           },
           "baxis": {
            "gridcolor": "#DFE8F3",
            "linecolor": "#A2B1C6",
            "ticks": ""
           },
           "bgcolor": "white",
           "caxis": {
            "gridcolor": "#DFE8F3",
            "linecolor": "#A2B1C6",
            "ticks": ""
           }
          },
          "title": {
           "x": 0.05
          },
          "xaxis": {
           "automargin": true,
           "gridcolor": "#EBF0F8",
           "linecolor": "#EBF0F8",
           "ticks": "",
           "title": {
            "standoff": 15
           },
           "zerolinecolor": "#EBF0F8",
           "zerolinewidth": 2
          },
          "yaxis": {
           "automargin": true,
           "gridcolor": "#EBF0F8",
           "linecolor": "#EBF0F8",
           "ticks": "",
           "title": {
            "standoff": 15
           },
           "zerolinecolor": "#EBF0F8",
           "zerolinewidth": 2
          }
         }
        },
        "title": {
         "text": "Comparação CO₂ - Caso de teste: RM1: Velocidade igual a zero (mantendo aceleração e posição) - GASOLINE",
         "x": 0.5
        },
        "xaxis": {
         "title": {
          "text": "Amostras"
         }
        },
        "yaxis": {
         "title": {
          "text": "CO₂ (g/s)"
         }
        }
       }
      }
     },
     "metadata": {},
     "output_type": "display_data"
    },
    {
     "name": "stdout",
     "output_type": "stream",
     "text": [
      "\n",
      "🔁 Caso de teste: RM2 - Latitude nula (mantendo demais variáveis) (ETHANOL)\n",
      "Diferença Média: 0.2759 | Diferença Máxima: 2.0479 | Erro Quadrático Médio (RMSE): 0.3941 | Desvio Padrão (Std): 0.2815\n"
     ]
    },
    {
     "data": {
      "text/html": [
       "<style type=\"text/css\">\n",
       "</style>\n",
       "<table id=\"T_79d7e\">\n",
       "  <caption>Comparação dos dados originais e modificados - Caso de teste: RM2 - Latitude nula (mantendo demais variáveis) (ETHANOL)</caption>\n",
       "  <thead>\n",
       "    <tr>\n",
       "      <th class=\"blank level0\" >&nbsp;</th>\n",
       "      <th id=\"T_79d7e_level0_col0\" class=\"col_heading level0 col0\" >Latitude_Orig</th>\n",
       "      <th id=\"T_79d7e_level0_col1\" class=\"col_heading level0 col1\" >Longitude_Orig</th>\n",
       "      <th id=\"T_79d7e_level0_col2\" class=\"col_heading level0 col2\" >Speed(OBD)(km/h)_Orig</th>\n",
       "      <th id=\"T_79d7e_level0_col3\" class=\"col_heading level0 col3\" >Acceleration_Orig</th>\n",
       "      <th id=\"T_79d7e_level0_col4\" class=\"col_heading level0 col4\" > </th>\n",
       "      <th id=\"T_79d7e_level0_col5\" class=\"col_heading level0 col5\" >Latitude_Mod</th>\n",
       "      <th id=\"T_79d7e_level0_col6\" class=\"col_heading level0 col6\" >Longitude_Mod</th>\n",
       "      <th id=\"T_79d7e_level0_col7\" class=\"col_heading level0 col7\" >Speed(OBD)(km/h)_Mod</th>\n",
       "      <th id=\"T_79d7e_level0_col8\" class=\"col_heading level0 col8\" >Acceleration_Mod</th>\n",
       "      <th id=\"T_79d7e_level0_col9\" class=\"col_heading level0 col9\" > </th>\n",
       "      <th id=\"T_79d7e_level0_col10\" class=\"col_heading level0 col10\" >CO₂_Real</th>\n",
       "      <th id=\"T_79d7e_level0_col11\" class=\"col_heading level0 col11\" >CO₂_Orig</th>\n",
       "      <th id=\"T_79d7e_level0_col12\" class=\"col_heading level0 col12\" >CO₂_Mod</th>\n",
       "    </tr>\n",
       "  </thead>\n",
       "  <tbody>\n",
       "    <tr>\n",
       "      <th id=\"T_79d7e_level0_row0\" class=\"row_heading level0 row0\" >0</th>\n",
       "      <td id=\"T_79d7e_row0_col0\" class=\"data row0 col0\" >-5.820105</td>\n",
       "      <td id=\"T_79d7e_row0_col1\" class=\"data row0 col1\" >-35.220818</td>\n",
       "      <td id=\"T_79d7e_row0_col2\" class=\"data row0 col2\" >3</td>\n",
       "      <td id=\"T_79d7e_row0_col3\" class=\"data row0 col3\" >0.000000</td>\n",
       "      <td id=\"T_79d7e_row0_col4\" class=\"data row0 col4\" >→</td>\n",
       "      <td id=\"T_79d7e_row0_col5\" class=\"data row0 col5\" >0.000000</td>\n",
       "      <td id=\"T_79d7e_row0_col6\" class=\"data row0 col6\" >-35.220818</td>\n",
       "      <td id=\"T_79d7e_row0_col7\" class=\"data row0 col7\" >3</td>\n",
       "      <td id=\"T_79d7e_row0_col8\" class=\"data row0 col8\" >0.000000</td>\n",
       "      <td id=\"T_79d7e_row0_col9\" class=\"data row0 col9\" > </td>\n",
       "      <td id=\"T_79d7e_row0_col10\" class=\"data row0 col10\" >0.642839</td>\n",
       "      <td id=\"T_79d7e_row0_col11\" class=\"data row0 col11\" >0.742631</td>\n",
       "      <td id=\"T_79d7e_row0_col12\" class=\"data row0 col12\" >1.226271</td>\n",
       "    </tr>\n",
       "    <tr>\n",
       "      <th id=\"T_79d7e_level0_row1\" class=\"row_heading level0 row1\" >1</th>\n",
       "      <td id=\"T_79d7e_row1_col0\" class=\"data row1 col0\" >-5.820103</td>\n",
       "      <td id=\"T_79d7e_row1_col1\" class=\"data row1 col1\" >-35.220828</td>\n",
       "      <td id=\"T_79d7e_row1_col2\" class=\"data row1 col2\" >5</td>\n",
       "      <td id=\"T_79d7e_row1_col3\" class=\"data row1 col3\" >0.555556</td>\n",
       "      <td id=\"T_79d7e_row1_col4\" class=\"data row1 col4\" >→</td>\n",
       "      <td id=\"T_79d7e_row1_col5\" class=\"data row1 col5\" >0.000000</td>\n",
       "      <td id=\"T_79d7e_row1_col6\" class=\"data row1 col6\" >-35.220828</td>\n",
       "      <td id=\"T_79d7e_row1_col7\" class=\"data row1 col7\" >5</td>\n",
       "      <td id=\"T_79d7e_row1_col8\" class=\"data row1 col8\" >0.555556</td>\n",
       "      <td id=\"T_79d7e_row1_col9\" class=\"data row1 col9\" > </td>\n",
       "      <td id=\"T_79d7e_row1_col10\" class=\"data row1 col10\" >0.653249</td>\n",
       "      <td id=\"T_79d7e_row1_col11\" class=\"data row1 col11\" >0.771505</td>\n",
       "      <td id=\"T_79d7e_row1_col12\" class=\"data row1 col12\" >1.419770</td>\n",
       "    </tr>\n",
       "    <tr>\n",
       "      <th id=\"T_79d7e_level0_row2\" class=\"row_heading level0 row2\" >2</th>\n",
       "      <td id=\"T_79d7e_row2_col0\" class=\"data row2 col0\" >-5.820102</td>\n",
       "      <td id=\"T_79d7e_row2_col1\" class=\"data row2 col1\" >-35.220838</td>\n",
       "      <td id=\"T_79d7e_row2_col2\" class=\"data row2 col2\" >5</td>\n",
       "      <td id=\"T_79d7e_row2_col3\" class=\"data row2 col3\" >0.000000</td>\n",
       "      <td id=\"T_79d7e_row2_col4\" class=\"data row2 col4\" >→</td>\n",
       "      <td id=\"T_79d7e_row2_col5\" class=\"data row2 col5\" >0.000000</td>\n",
       "      <td id=\"T_79d7e_row2_col6\" class=\"data row2 col6\" >-35.220838</td>\n",
       "      <td id=\"T_79d7e_row2_col7\" class=\"data row2 col7\" >5</td>\n",
       "      <td id=\"T_79d7e_row2_col8\" class=\"data row2 col8\" >0.000000</td>\n",
       "      <td id=\"T_79d7e_row2_col9\" class=\"data row2 col9\" > </td>\n",
       "      <td id=\"T_79d7e_row2_col10\" class=\"data row2 col10\" >0.653249</td>\n",
       "      <td id=\"T_79d7e_row2_col11\" class=\"data row2 col11\" >0.771505</td>\n",
       "      <td id=\"T_79d7e_row2_col12\" class=\"data row2 col12\" >1.419770</td>\n",
       "    </tr>\n",
       "    <tr>\n",
       "      <th id=\"T_79d7e_level0_row3\" class=\"row_heading level0 row3\" >3</th>\n",
       "      <td id=\"T_79d7e_row3_col0\" class=\"data row3 col0\" >-5.820096</td>\n",
       "      <td id=\"T_79d7e_row3_col1\" class=\"data row3 col1\" >-35.220843</td>\n",
       "      <td id=\"T_79d7e_row3_col2\" class=\"data row3 col2\" >3</td>\n",
       "      <td id=\"T_79d7e_row3_col3\" class=\"data row3 col3\" >-0.555556</td>\n",
       "      <td id=\"T_79d7e_row3_col4\" class=\"data row3 col4\" >→</td>\n",
       "      <td id=\"T_79d7e_row3_col5\" class=\"data row3 col5\" >0.000000</td>\n",
       "      <td id=\"T_79d7e_row3_col6\" class=\"data row3 col6\" >-35.220843</td>\n",
       "      <td id=\"T_79d7e_row3_col7\" class=\"data row3 col7\" >3</td>\n",
       "      <td id=\"T_79d7e_row3_col8\" class=\"data row3 col8\" >-0.555556</td>\n",
       "      <td id=\"T_79d7e_row3_col9\" class=\"data row3 col9\" > </td>\n",
       "      <td id=\"T_79d7e_row3_col10\" class=\"data row3 col10\" >0.679275</td>\n",
       "      <td id=\"T_79d7e_row3_col11\" class=\"data row3 col11\" >0.659013</td>\n",
       "      <td id=\"T_79d7e_row3_col12\" class=\"data row3 col12\" >0.920825</td>\n",
       "    </tr>\n",
       "    <tr>\n",
       "      <th id=\"T_79d7e_level0_row4\" class=\"row_heading level0 row4\" >4</th>\n",
       "      <td id=\"T_79d7e_row4_col0\" class=\"data row4 col0\" >-5.820091</td>\n",
       "      <td id=\"T_79d7e_row4_col1\" class=\"data row4 col1\" >-35.220850</td>\n",
       "      <td id=\"T_79d7e_row4_col2\" class=\"data row4 col2\" >0</td>\n",
       "      <td id=\"T_79d7e_row4_col3\" class=\"data row4 col3\" >-0.833333</td>\n",
       "      <td id=\"T_79d7e_row4_col4\" class=\"data row4 col4\" >→</td>\n",
       "      <td id=\"T_79d7e_row4_col5\" class=\"data row4 col5\" >0.000000</td>\n",
       "      <td id=\"T_79d7e_row4_col6\" class=\"data row4 col6\" >-35.220850</td>\n",
       "      <td id=\"T_79d7e_row4_col7\" class=\"data row4 col7\" >0</td>\n",
       "      <td id=\"T_79d7e_row4_col8\" class=\"data row4 col8\" >-0.833333</td>\n",
       "      <td id=\"T_79d7e_row4_col9\" class=\"data row4 col9\" > </td>\n",
       "      <td id=\"T_79d7e_row4_col10\" class=\"data row4 col10\" >0.610306</td>\n",
       "      <td id=\"T_79d7e_row4_col11\" class=\"data row4 col11\" >0.667689</td>\n",
       "      <td id=\"T_79d7e_row4_col12\" class=\"data row4 col12\" >1.173900</td>\n",
       "    </tr>\n",
       "    <tr>\n",
       "      <th id=\"T_79d7e_level0_row5\" class=\"row_heading level0 row5\" >5</th>\n",
       "      <td id=\"T_79d7e_row5_col0\" class=\"data row5 col0\" >-5.820091</td>\n",
       "      <td id=\"T_79d7e_row5_col1\" class=\"data row5 col1\" >-35.220850</td>\n",
       "      <td id=\"T_79d7e_row5_col2\" class=\"data row5 col2\" >0</td>\n",
       "      <td id=\"T_79d7e_row5_col3\" class=\"data row5 col3\" >0.000000</td>\n",
       "      <td id=\"T_79d7e_row5_col4\" class=\"data row5 col4\" >→</td>\n",
       "      <td id=\"T_79d7e_row5_col5\" class=\"data row5 col5\" >0.000000</td>\n",
       "      <td id=\"T_79d7e_row5_col6\" class=\"data row5 col6\" >-35.220850</td>\n",
       "      <td id=\"T_79d7e_row5_col7\" class=\"data row5 col7\" >0</td>\n",
       "      <td id=\"T_79d7e_row5_col8\" class=\"data row5 col8\" >0.000000</td>\n",
       "      <td id=\"T_79d7e_row5_col9\" class=\"data row5 col9\" > </td>\n",
       "      <td id=\"T_79d7e_row5_col10\" class=\"data row5 col10\" >0.610306</td>\n",
       "      <td id=\"T_79d7e_row5_col11\" class=\"data row5 col11\" >0.706858</td>\n",
       "      <td id=\"T_79d7e_row5_col12\" class=\"data row5 col12\" >1.261486</td>\n",
       "    </tr>\n",
       "    <tr>\n",
       "      <th id=\"T_79d7e_level0_row6\" class=\"row_heading level0 row6\" >6</th>\n",
       "      <td id=\"T_79d7e_row6_col0\" class=\"data row6 col0\" >-5.820091</td>\n",
       "      <td id=\"T_79d7e_row6_col1\" class=\"data row6 col1\" >-35.220850</td>\n",
       "      <td id=\"T_79d7e_row6_col2\" class=\"data row6 col2\" >0</td>\n",
       "      <td id=\"T_79d7e_row6_col3\" class=\"data row6 col3\" >0.000000</td>\n",
       "      <td id=\"T_79d7e_row6_col4\" class=\"data row6 col4\" >→</td>\n",
       "      <td id=\"T_79d7e_row6_col5\" class=\"data row6 col5\" >0.000000</td>\n",
       "      <td id=\"T_79d7e_row6_col6\" class=\"data row6 col6\" >-35.220850</td>\n",
       "      <td id=\"T_79d7e_row6_col7\" class=\"data row6 col7\" >0</td>\n",
       "      <td id=\"T_79d7e_row6_col8\" class=\"data row6 col8\" >0.000000</td>\n",
       "      <td id=\"T_79d7e_row6_col9\" class=\"data row6 col9\" > </td>\n",
       "      <td id=\"T_79d7e_row6_col10\" class=\"data row6 col10\" >0.490587</td>\n",
       "      <td id=\"T_79d7e_row6_col11\" class=\"data row6 col11\" >0.706858</td>\n",
       "      <td id=\"T_79d7e_row6_col12\" class=\"data row6 col12\" >1.261486</td>\n",
       "    </tr>\n",
       "    <tr>\n",
       "      <th id=\"T_79d7e_level0_row7\" class=\"row_heading level0 row7\" >7</th>\n",
       "      <td id=\"T_79d7e_row7_col0\" class=\"data row7 col0\" >-5.820085</td>\n",
       "      <td id=\"T_79d7e_row7_col1\" class=\"data row7 col1\" >-35.220856</td>\n",
       "      <td id=\"T_79d7e_row7_col2\" class=\"data row7 col2\" >3</td>\n",
       "      <td id=\"T_79d7e_row7_col3\" class=\"data row7 col3\" >0.833333</td>\n",
       "      <td id=\"T_79d7e_row7_col4\" class=\"data row7 col4\" >→</td>\n",
       "      <td id=\"T_79d7e_row7_col5\" class=\"data row7 col5\" >0.000000</td>\n",
       "      <td id=\"T_79d7e_row7_col6\" class=\"data row7 col6\" >-35.220856</td>\n",
       "      <td id=\"T_79d7e_row7_col7\" class=\"data row7 col7\" >3</td>\n",
       "      <td id=\"T_79d7e_row7_col8\" class=\"data row7 col8\" >0.833333</td>\n",
       "      <td id=\"T_79d7e_row7_col9\" class=\"data row7 col9\" > </td>\n",
       "      <td id=\"T_79d7e_row7_col10\" class=\"data row7 col10\" >1.090483</td>\n",
       "      <td id=\"T_79d7e_row7_col11\" class=\"data row7 col11\" >1.137803</td>\n",
       "      <td id=\"T_79d7e_row7_col12\" class=\"data row7 col12\" >1.226271</td>\n",
       "    </tr>\n",
       "    <tr>\n",
       "      <th id=\"T_79d7e_level0_row8\" class=\"row_heading level0 row8\" >8</th>\n",
       "      <td id=\"T_79d7e_row8_col0\" class=\"data row8 col0\" >-5.820074</td>\n",
       "      <td id=\"T_79d7e_row8_col1\" class=\"data row8 col1\" >-35.220859</td>\n",
       "      <td id=\"T_79d7e_row8_col2\" class=\"data row8 col2\" >3</td>\n",
       "      <td id=\"T_79d7e_row8_col3\" class=\"data row8 col3\" >0.000000</td>\n",
       "      <td id=\"T_79d7e_row8_col4\" class=\"data row8 col4\" >→</td>\n",
       "      <td id=\"T_79d7e_row8_col5\" class=\"data row8 col5\" >0.000000</td>\n",
       "      <td id=\"T_79d7e_row8_col6\" class=\"data row8 col6\" >-35.220859</td>\n",
       "      <td id=\"T_79d7e_row8_col7\" class=\"data row8 col7\" >3</td>\n",
       "      <td id=\"T_79d7e_row8_col8\" class=\"data row8 col8\" >0.000000</td>\n",
       "      <td id=\"T_79d7e_row8_col9\" class=\"data row8 col9\" > </td>\n",
       "      <td id=\"T_79d7e_row8_col10\" class=\"data row8 col10\" >1.090483</td>\n",
       "      <td id=\"T_79d7e_row8_col11\" class=\"data row8 col11\" >1.137803</td>\n",
       "      <td id=\"T_79d7e_row8_col12\" class=\"data row8 col12\" >1.226271</td>\n",
       "    </tr>\n",
       "    <tr>\n",
       "      <th id=\"T_79d7e_level0_row9\" class=\"row_heading level0 row9\" >9</th>\n",
       "      <td id=\"T_79d7e_row9_col0\" class=\"data row9 col0\" >-5.820064</td>\n",
       "      <td id=\"T_79d7e_row9_col1\" class=\"data row9 col1\" >-35.220858</td>\n",
       "      <td id=\"T_79d7e_row9_col2\" class=\"data row9 col2\" >3</td>\n",
       "      <td id=\"T_79d7e_row9_col3\" class=\"data row9 col3\" >0.000000</td>\n",
       "      <td id=\"T_79d7e_row9_col4\" class=\"data row9 col4\" >→</td>\n",
       "      <td id=\"T_79d7e_row9_col5\" class=\"data row9 col5\" >0.000000</td>\n",
       "      <td id=\"T_79d7e_row9_col6\" class=\"data row9 col6\" >-35.220858</td>\n",
       "      <td id=\"T_79d7e_row9_col7\" class=\"data row9 col7\" >3</td>\n",
       "      <td id=\"T_79d7e_row9_col8\" class=\"data row9 col8\" >0.000000</td>\n",
       "      <td id=\"T_79d7e_row9_col9\" class=\"data row9 col9\" > </td>\n",
       "      <td id=\"T_79d7e_row9_col10\" class=\"data row9 col10\" >0.921315</td>\n",
       "      <td id=\"T_79d7e_row9_col11\" class=\"data row9 col11\" >1.137803</td>\n",
       "      <td id=\"T_79d7e_row9_col12\" class=\"data row9 col12\" >1.226271</td>\n",
       "    </tr>\n",
       "  </tbody>\n",
       "</table>\n"
      ],
      "text/plain": [
       "<pandas.io.formats.style.Styler at 0x1bd85c9c310>"
      ]
     },
     "metadata": {},
     "output_type": "display_data"
    },
    {
     "data": {
      "application/vnd.plotly.v1+json": {
       "config": {
        "plotlyServerURL": "https://plot.ly"
       },
       "data": [
        {
         "line": {
          "color": "green",
          "dash": "dot"
         },
         "mode": "lines",
         "name": "Real",
         "type": "scatter",
         "y": {
          "bdata": "Xv2WDSKS5D+bk2QeaufkP5uTZB5q5+Q/NotmSJ685T/ehxTZoIfjP96HFNmgh+M/M5CwL8hl3z/dnA9wnnLxP92cD3CecvE/T3ASz2l77T+UX3iidnLyPz8yMAV+Z/Q/PzIwBX5n9D8ti7UITBb8PzhhcBqj5vk/KSOOULfS8D8pI45Qt9LwP7us/CApG+8/cjYv8OP84z+t9vIuJyjgP6328i4nKOA/geLz0z/39T+rgxXuOvLzP6uDFe468vM/mb1aTGW9AEB0UCWuXTcFQJNSfcM51QFAk1J9wznVAUDU4Eocwdz0P40G4N+x0N0/MaWrxsVQ3T+Gb8fSpWfjP4Zvx9KlZ+M/RJASr2yy4j+u4feXKT3iPxtsE+QD5v0/G2wT5APm/T9xVW+Vh+D+P/WBu/ZpMek/9YG79mkx6T8EcmzGOjzYP6VZboDtdf4/WOugB2mlAEBY66AHaaUAQFcs1yJHEfo/jF/HYiTM+D+vRCQpQjH6P69EJClCMfo/IlLOZdxR9j8U6vVt9WfxP9L1RbO+x/I/0vVFs77H8j9JPCZTdgbrPy3PofTAJtk/Lc+h9MAm2T83dmuxoNHXP5m9WkxlveA/wxqQeuun4T/DGpB666fhPy5sdWOoMgFAN3ZrsaDRB0CTtalUUskJQJO1qVRSyQlAUQXmhZA5CECzrwGybRkJQLOvAbJtGQlAadNRH3liAkDxyvHJCOv/P/HK8ckI6/8/ZYpqDIgCAkDcITJ38e4HQFhbyHe+Nvk/WFvId742+T+BiQxRzfvaP+KMDwAd1/Y/4owPAB3X9j9nuVth/yfxP4GJDFHN+9o/VyzXIkcR2j9XLNciRxHKPzhhcBqj5sk/mb1aTGW90D+rqr6oeQbiPxTJ619+uOE/cloUOF8j9z+cBUVJAVwCQO7F9qKMm/w/7sX2ooyb/D8XwP8/+pH1Py66pl3DO9s/YtOg3ya82D8GXXEvPVHKPwZdcS89Uco/3P87AbdmyT8zkLAvyGXPPxdp8ttk2OI/F2ny22TY4j/s9fsW3vTiP/4o4Wa23vY/g+DZ9mxa+z8=",
          "dtype": "f8"
         }
        },
        {
         "line": {
          "color": "blue",
          "dash": "dash"
         },
         "mode": "lines",
         "name": "Predição Original",
         "type": "scatter",
         "y": {
          "bdata": "A1nGMaLD5z/rGxZ+K7DoP+sbFn4rsOg/ZNKEuKEW5T8gJJx1tV3lP1qolBeUnuY/WqiUF5Se5j8vN5pfcTTyPy83ml9xNPI/LzeaX3E08j8LUj4DVmv0P2cHXp66ovQ/lajUrwhy8z8ERxYOSyj4P0gf5HQeCfI/if7LZHnq7z8XHaiiCV3vP6Btm6JJmew/vGW1En/65z9MP1pTWq7wP/J2f86FGvA/Rx/yOxHc8D9HH/I7EdzwP0cf8jsR3PA/Wi2PK9ct9T99iPbmwzv1P+s7h6uSvvI/jlifB2hB+z/KAreWPx7tP2CGcv2h3+w/DE1YhnUh4z+r91rqETzvPzST+4nO/eQ/tcGbWjP25j8r0X6ZskrsPzXVexnn+PI/jsX9rHxr8z+YODlE2Q7zPxrw1xsMw+0/6+G9lxVx7T+VLCu5vQ3pP5kI65KAuvA/xV7vM9nJ8j+3rXXsTRn+P7nipTU15fQ/Ahig1qK48j97HMyYL2j0P61VsDSbgfU/gKXeX7rt9D8lL/FG5m/yP1D9sJ1ASPI/ONgUq37H8z/SblJX33btP6Pvp4KhC+M/A1unplDL5j/tVn03pGviP09EUKldGOg/RjLkVnwe6D+bSQJT7m7oP/kNtZK+Z+k/BO79CuHa9z9uhs6rFD4AQDSsx4gppPs/JoJSHH6Y9j8b5eo1rb34P7wp1TtfOgFA605wkeGE9z+CQHPA6Nf7P96W8dRj7vo/77f/lcKE+T8/0HaFb3j5P0ixId0VM/o/2QaTrAQF9T89ims167HjP+Roiw7ssfA/N+aifBlj8D+LMRVBlGrvP6CylwUtpOE/UCAMIn9U4D86TWpu5ebtP5PEfPDbnN0/8ql5Nfn/4D83OrmjNxvhP9ETGcqqqOg/TEBpKYVw9j/5y4EaW9T4P6g7DuceO/U/scgFb/N/8D+73vRQdeXuP5DaSmyYQ+A/1hTHV/j+2j9wnnVfpazbPzJoid+r2eU/KlRdoNof2z8xuA2DPjffP3qotC6cE+Y/eqi0LpwT5j96qLQunBPmPwHia4Ko5fc/29W9hKHm9z8=",
          "dtype": "f8"
         }
        },
        {
         "line": {
          "color": "red"
         },
         "mode": "lines",
         "name": "Predição com RM",
         "type": "scatter",
         "y": {
          "bdata": "+1BHu86e8z9tNzWRYLf2P203NZFgt/Y/wE71eWZ37T8KfB+SS8jyP4M9FLcLL/Q/gz0Utwsv9D/7UEe7zp7zP/tQR7vOnvM/+1BHu86e8z9xDCEiq3H2P3EMISKrcfY/5ESqkEnk8z88XJe5Yhr2P4dLC62Om/U/B3XGfUMr8D/WTD0Z8g3vP9ZMPRnyDe8/1znSSs0k7z+NJy0m2T3wP1dELnBO9fE/IGKelmeE7z8gYp6WZ4TvPyBinpZnhO8/kNYgbX3f8z/QSE647STyP6nb+H8+pO0/M2OUuzQ/4j/0VzZAsXniP6HPCTbKT+I/nQmOCACB5j+QjqtQZQ/oP0juwnsrW+Y/qQHWnfiG6T8vQr4d9ITxP5k7xKO+ZPM/rvtczZ119j/cGBx++eL1P+EKLBK9duQ/+x7I8Z1T5D/c/CjuoT/wPxVMxQcO9/E/uH1e+OC+9T+d08vsZ6XuPxTt3rjvT/A/QU8KblkC8D//bUQYhPbmPyuIBzjcUuw/pd1XHp8S7D96WA/XkaTtP3HAx85WYe0/1jFaNFL/7T/WMVo0Uv/tPx+GMcqPxt4/hMBbsqD25D988j6DiVHiP8rIAvVEBu8/63fCHCJw8T+Nzurw5q/wP426rNfMSu0/sj+PuBLt9j8dZj0QhbfoPzRK/tSqs/I/AsxL++xg8D+Fx+RIs630P+UgzOZ1t+k/dbItUmnL9j+liM4b7pzxPzCYVYOrAeo/bOlCMPZz6T8ZTYBjxQnuP8GxUgd7guc/i2CLU4nO5T+rj15lC6TkP/5HQdnkUuo/El6VWLTm6T97HsT/69DbP/MO6VgqDeQ/JTDg/rcF5T8y9A+IpfLnP+DQ2RwAkOA/GhF6oSP+4j8C2XjOeUfoP/MmGAVXx+Y/8yYYBVfH5j9EdnXGjF/pP8d/RYMD0vM/+KlURl2A5z+aFqImK3XyPzs6Qblra9o/LRvRtUWx4T89cZhmj37dPxq8p2QDVt8/fiFlttOY5j8UpWJjvbXnPwirWgO6Dec/CKtaA7oN5z8Iq1oDug3nP3u0dJSQ1PI/fZ6RI1TV8j8=",
          "dtype": "f8"
         }
        }
       ],
       "layout": {
        "template": {
         "data": {
          "bar": [
           {
            "error_x": {
             "color": "#2a3f5f"
            },
            "error_y": {
             "color": "#2a3f5f"
            },
            "marker": {
             "line": {
              "color": "white",
              "width": 0.5
             },
             "pattern": {
              "fillmode": "overlay",
              "size": 10,
              "solidity": 0.2
             }
            },
            "type": "bar"
           }
          ],
          "barpolar": [
           {
            "marker": {
             "line": {
              "color": "white",
              "width": 0.5
             },
             "pattern": {
              "fillmode": "overlay",
              "size": 10,
              "solidity": 0.2
             }
            },
            "type": "barpolar"
           }
          ],
          "carpet": [
           {
            "aaxis": {
             "endlinecolor": "#2a3f5f",
             "gridcolor": "#C8D4E3",
             "linecolor": "#C8D4E3",
             "minorgridcolor": "#C8D4E3",
             "startlinecolor": "#2a3f5f"
            },
            "baxis": {
             "endlinecolor": "#2a3f5f",
             "gridcolor": "#C8D4E3",
             "linecolor": "#C8D4E3",
             "minorgridcolor": "#C8D4E3",
             "startlinecolor": "#2a3f5f"
            },
            "type": "carpet"
           }
          ],
          "choropleth": [
           {
            "colorbar": {
             "outlinewidth": 0,
             "ticks": ""
            },
            "type": "choropleth"
           }
          ],
          "contour": [
           {
            "colorbar": {
             "outlinewidth": 0,
             "ticks": ""
            },
            "colorscale": [
             [
              0,
              "#0d0887"
             ],
             [
              0.1111111111111111,
              "#46039f"
             ],
             [
              0.2222222222222222,
              "#7201a8"
             ],
             [
              0.3333333333333333,
              "#9c179e"
             ],
             [
              0.4444444444444444,
              "#bd3786"
             ],
             [
              0.5555555555555556,
              "#d8576b"
             ],
             [
              0.6666666666666666,
              "#ed7953"
             ],
             [
              0.7777777777777778,
              "#fb9f3a"
             ],
             [
              0.8888888888888888,
              "#fdca26"
             ],
             [
              1,
              "#f0f921"
             ]
            ],
            "type": "contour"
           }
          ],
          "contourcarpet": [
           {
            "colorbar": {
             "outlinewidth": 0,
             "ticks": ""
            },
            "type": "contourcarpet"
           }
          ],
          "heatmap": [
           {
            "colorbar": {
             "outlinewidth": 0,
             "ticks": ""
            },
            "colorscale": [
             [
              0,
              "#0d0887"
             ],
             [
              0.1111111111111111,
              "#46039f"
             ],
             [
              0.2222222222222222,
              "#7201a8"
             ],
             [
              0.3333333333333333,
              "#9c179e"
             ],
             [
              0.4444444444444444,
              "#bd3786"
             ],
             [
              0.5555555555555556,
              "#d8576b"
             ],
             [
              0.6666666666666666,
              "#ed7953"
             ],
             [
              0.7777777777777778,
              "#fb9f3a"
             ],
             [
              0.8888888888888888,
              "#fdca26"
             ],
             [
              1,
              "#f0f921"
             ]
            ],
            "type": "heatmap"
           }
          ],
          "histogram": [
           {
            "marker": {
             "pattern": {
              "fillmode": "overlay",
              "size": 10,
              "solidity": 0.2
             }
            },
            "type": "histogram"
           }
          ],
          "histogram2d": [
           {
            "colorbar": {
             "outlinewidth": 0,
             "ticks": ""
            },
            "colorscale": [
             [
              0,
              "#0d0887"
             ],
             [
              0.1111111111111111,
              "#46039f"
             ],
             [
              0.2222222222222222,
              "#7201a8"
             ],
             [
              0.3333333333333333,
              "#9c179e"
             ],
             [
              0.4444444444444444,
              "#bd3786"
             ],
             [
              0.5555555555555556,
              "#d8576b"
             ],
             [
              0.6666666666666666,
              "#ed7953"
             ],
             [
              0.7777777777777778,
              "#fb9f3a"
             ],
             [
              0.8888888888888888,
              "#fdca26"
             ],
             [
              1,
              "#f0f921"
             ]
            ],
            "type": "histogram2d"
           }
          ],
          "histogram2dcontour": [
           {
            "colorbar": {
             "outlinewidth": 0,
             "ticks": ""
            },
            "colorscale": [
             [
              0,
              "#0d0887"
             ],
             [
              0.1111111111111111,
              "#46039f"
             ],
             [
              0.2222222222222222,
              "#7201a8"
             ],
             [
              0.3333333333333333,
              "#9c179e"
             ],
             [
              0.4444444444444444,
              "#bd3786"
             ],
             [
              0.5555555555555556,
              "#d8576b"
             ],
             [
              0.6666666666666666,
              "#ed7953"
             ],
             [
              0.7777777777777778,
              "#fb9f3a"
             ],
             [
              0.8888888888888888,
              "#fdca26"
             ],
             [
              1,
              "#f0f921"
             ]
            ],
            "type": "histogram2dcontour"
           }
          ],
          "mesh3d": [
           {
            "colorbar": {
             "outlinewidth": 0,
             "ticks": ""
            },
            "type": "mesh3d"
           }
          ],
          "parcoords": [
           {
            "line": {
             "colorbar": {
              "outlinewidth": 0,
              "ticks": ""
             }
            },
            "type": "parcoords"
           }
          ],
          "pie": [
           {
            "automargin": true,
            "type": "pie"
           }
          ],
          "scatter": [
           {
            "fillpattern": {
             "fillmode": "overlay",
             "size": 10,
             "solidity": 0.2
            },
            "type": "scatter"
           }
          ],
          "scatter3d": [
           {
            "line": {
             "colorbar": {
              "outlinewidth": 0,
              "ticks": ""
             }
            },
            "marker": {
             "colorbar": {
              "outlinewidth": 0,
              "ticks": ""
             }
            },
            "type": "scatter3d"
           }
          ],
          "scattercarpet": [
           {
            "marker": {
             "colorbar": {
              "outlinewidth": 0,
              "ticks": ""
             }
            },
            "type": "scattercarpet"
           }
          ],
          "scattergeo": [
           {
            "marker": {
             "colorbar": {
              "outlinewidth": 0,
              "ticks": ""
             }
            },
            "type": "scattergeo"
           }
          ],
          "scattergl": [
           {
            "marker": {
             "colorbar": {
              "outlinewidth": 0,
              "ticks": ""
             }
            },
            "type": "scattergl"
           }
          ],
          "scattermap": [
           {
            "marker": {
             "colorbar": {
              "outlinewidth": 0,
              "ticks": ""
             }
            },
            "type": "scattermap"
           }
          ],
          "scattermapbox": [
           {
            "marker": {
             "colorbar": {
              "outlinewidth": 0,
              "ticks": ""
             }
            },
            "type": "scattermapbox"
           }
          ],
          "scatterpolar": [
           {
            "marker": {
             "colorbar": {
              "outlinewidth": 0,
              "ticks": ""
             }
            },
            "type": "scatterpolar"
           }
          ],
          "scatterpolargl": [
           {
            "marker": {
             "colorbar": {
              "outlinewidth": 0,
              "ticks": ""
             }
            },
            "type": "scatterpolargl"
           }
          ],
          "scatterternary": [
           {
            "marker": {
             "colorbar": {
              "outlinewidth": 0,
              "ticks": ""
             }
            },
            "type": "scatterternary"
           }
          ],
          "surface": [
           {
            "colorbar": {
             "outlinewidth": 0,
             "ticks": ""
            },
            "colorscale": [
             [
              0,
              "#0d0887"
             ],
             [
              0.1111111111111111,
              "#46039f"
             ],
             [
              0.2222222222222222,
              "#7201a8"
             ],
             [
              0.3333333333333333,
              "#9c179e"
             ],
             [
              0.4444444444444444,
              "#bd3786"
             ],
             [
              0.5555555555555556,
              "#d8576b"
             ],
             [
              0.6666666666666666,
              "#ed7953"
             ],
             [
              0.7777777777777778,
              "#fb9f3a"
             ],
             [
              0.8888888888888888,
              "#fdca26"
             ],
             [
              1,
              "#f0f921"
             ]
            ],
            "type": "surface"
           }
          ],
          "table": [
           {
            "cells": {
             "fill": {
              "color": "#EBF0F8"
             },
             "line": {
              "color": "white"
             }
            },
            "header": {
             "fill": {
              "color": "#C8D4E3"
             },
             "line": {
              "color": "white"
             }
            },
            "type": "table"
           }
          ]
         },
         "layout": {
          "annotationdefaults": {
           "arrowcolor": "#2a3f5f",
           "arrowhead": 0,
           "arrowwidth": 1
          },
          "autotypenumbers": "strict",
          "coloraxis": {
           "colorbar": {
            "outlinewidth": 0,
            "ticks": ""
           }
          },
          "colorscale": {
           "diverging": [
            [
             0,
             "#8e0152"
            ],
            [
             0.1,
             "#c51b7d"
            ],
            [
             0.2,
             "#de77ae"
            ],
            [
             0.3,
             "#f1b6da"
            ],
            [
             0.4,
             "#fde0ef"
            ],
            [
             0.5,
             "#f7f7f7"
            ],
            [
             0.6,
             "#e6f5d0"
            ],
            [
             0.7,
             "#b8e186"
            ],
            [
             0.8,
             "#7fbc41"
            ],
            [
             0.9,
             "#4d9221"
            ],
            [
             1,
             "#276419"
            ]
           ],
           "sequential": [
            [
             0,
             "#0d0887"
            ],
            [
             0.1111111111111111,
             "#46039f"
            ],
            [
             0.2222222222222222,
             "#7201a8"
            ],
            [
             0.3333333333333333,
             "#9c179e"
            ],
            [
             0.4444444444444444,
             "#bd3786"
            ],
            [
             0.5555555555555556,
             "#d8576b"
            ],
            [
             0.6666666666666666,
             "#ed7953"
            ],
            [
             0.7777777777777778,
             "#fb9f3a"
            ],
            [
             0.8888888888888888,
             "#fdca26"
            ],
            [
             1,
             "#f0f921"
            ]
           ],
           "sequentialminus": [
            [
             0,
             "#0d0887"
            ],
            [
             0.1111111111111111,
             "#46039f"
            ],
            [
             0.2222222222222222,
             "#7201a8"
            ],
            [
             0.3333333333333333,
             "#9c179e"
            ],
            [
             0.4444444444444444,
             "#bd3786"
            ],
            [
             0.5555555555555556,
             "#d8576b"
            ],
            [
             0.6666666666666666,
             "#ed7953"
            ],
            [
             0.7777777777777778,
             "#fb9f3a"
            ],
            [
             0.8888888888888888,
             "#fdca26"
            ],
            [
             1,
             "#f0f921"
            ]
           ]
          },
          "colorway": [
           "#636efa",
           "#EF553B",
           "#00cc96",
           "#ab63fa",
           "#FFA15A",
           "#19d3f3",
           "#FF6692",
           "#B6E880",
           "#FF97FF",
           "#FECB52"
          ],
          "font": {
           "color": "#2a3f5f"
          },
          "geo": {
           "bgcolor": "white",
           "lakecolor": "white",
           "landcolor": "white",
           "showlakes": true,
           "showland": true,
           "subunitcolor": "#C8D4E3"
          },
          "hoverlabel": {
           "align": "left"
          },
          "hovermode": "closest",
          "mapbox": {
           "style": "light"
          },
          "paper_bgcolor": "white",
          "plot_bgcolor": "white",
          "polar": {
           "angularaxis": {
            "gridcolor": "#EBF0F8",
            "linecolor": "#EBF0F8",
            "ticks": ""
           },
           "bgcolor": "white",
           "radialaxis": {
            "gridcolor": "#EBF0F8",
            "linecolor": "#EBF0F8",
            "ticks": ""
           }
          },
          "scene": {
           "xaxis": {
            "backgroundcolor": "white",
            "gridcolor": "#DFE8F3",
            "gridwidth": 2,
            "linecolor": "#EBF0F8",
            "showbackground": true,
            "ticks": "",
            "zerolinecolor": "#EBF0F8"
           },
           "yaxis": {
            "backgroundcolor": "white",
            "gridcolor": "#DFE8F3",
            "gridwidth": 2,
            "linecolor": "#EBF0F8",
            "showbackground": true,
            "ticks": "",
            "zerolinecolor": "#EBF0F8"
           },
           "zaxis": {
            "backgroundcolor": "white",
            "gridcolor": "#DFE8F3",
            "gridwidth": 2,
            "linecolor": "#EBF0F8",
            "showbackground": true,
            "ticks": "",
            "zerolinecolor": "#EBF0F8"
           }
          },
          "shapedefaults": {
           "line": {
            "color": "#2a3f5f"
           }
          },
          "ternary": {
           "aaxis": {
            "gridcolor": "#DFE8F3",
            "linecolor": "#A2B1C6",
            "ticks": ""
           },
           "baxis": {
            "gridcolor": "#DFE8F3",
            "linecolor": "#A2B1C6",
            "ticks": ""
           },
           "bgcolor": "white",
           "caxis": {
            "gridcolor": "#DFE8F3",
            "linecolor": "#A2B1C6",
            "ticks": ""
           }
          },
          "title": {
           "x": 0.05
          },
          "xaxis": {
           "automargin": true,
           "gridcolor": "#EBF0F8",
           "linecolor": "#EBF0F8",
           "ticks": "",
           "title": {
            "standoff": 15
           },
           "zerolinecolor": "#EBF0F8",
           "zerolinewidth": 2
          },
          "yaxis": {
           "automargin": true,
           "gridcolor": "#EBF0F8",
           "linecolor": "#EBF0F8",
           "ticks": "",
           "title": {
            "standoff": 15
           },
           "zerolinecolor": "#EBF0F8",
           "zerolinewidth": 2
          }
         }
        },
        "title": {
         "text": "Comparação CO₂ - Caso de teste: RM2 - Latitude nula (mantendo demais variáveis) - ETHANOL",
         "x": 0.5
        },
        "xaxis": {
         "title": {
          "text": "Amostras"
         }
        },
        "yaxis": {
         "title": {
          "text": "CO₂ (g/s)"
         }
        }
       }
      }
     },
     "metadata": {},
     "output_type": "display_data"
    },
    {
     "name": "stdout",
     "output_type": "stream",
     "text": [
      "\n",
      "🔁 Caso de teste: RM2 - Latitude nula (mantendo demais variáveis) (GASOLINE)\n",
      "Diferença Média: 0.8107 | Diferença Máxima: 4.4648 | Erro Quadrático Médio (RMSE): 1.0747 | Desvio Padrão (Std): 0.7055\n"
     ]
    },
    {
     "data": {
      "text/html": [
       "<style type=\"text/css\">\n",
       "</style>\n",
       "<table id=\"T_c660c\">\n",
       "  <caption>Comparação dos dados originais e modificados - Caso de teste: RM2 - Latitude nula (mantendo demais variáveis) (GASOLINE)</caption>\n",
       "  <thead>\n",
       "    <tr>\n",
       "      <th class=\"blank level0\" >&nbsp;</th>\n",
       "      <th id=\"T_c660c_level0_col0\" class=\"col_heading level0 col0\" >Latitude_Orig</th>\n",
       "      <th id=\"T_c660c_level0_col1\" class=\"col_heading level0 col1\" >Longitude_Orig</th>\n",
       "      <th id=\"T_c660c_level0_col2\" class=\"col_heading level0 col2\" >Speed(OBD)(km/h)_Orig</th>\n",
       "      <th id=\"T_c660c_level0_col3\" class=\"col_heading level0 col3\" >Acceleration_Orig</th>\n",
       "      <th id=\"T_c660c_level0_col4\" class=\"col_heading level0 col4\" > </th>\n",
       "      <th id=\"T_c660c_level0_col5\" class=\"col_heading level0 col5\" >Latitude_Mod</th>\n",
       "      <th id=\"T_c660c_level0_col6\" class=\"col_heading level0 col6\" >Longitude_Mod</th>\n",
       "      <th id=\"T_c660c_level0_col7\" class=\"col_heading level0 col7\" >Speed(OBD)(km/h)_Mod</th>\n",
       "      <th id=\"T_c660c_level0_col8\" class=\"col_heading level0 col8\" >Acceleration_Mod</th>\n",
       "      <th id=\"T_c660c_level0_col9\" class=\"col_heading level0 col9\" > </th>\n",
       "      <th id=\"T_c660c_level0_col10\" class=\"col_heading level0 col10\" >CO₂_Real</th>\n",
       "      <th id=\"T_c660c_level0_col11\" class=\"col_heading level0 col11\" >CO₂_Orig</th>\n",
       "      <th id=\"T_c660c_level0_col12\" class=\"col_heading level0 col12\" >CO₂_Mod</th>\n",
       "    </tr>\n",
       "  </thead>\n",
       "  <tbody>\n",
       "    <tr>\n",
       "      <th id=\"T_c660c_level0_row0\" class=\"row_heading level0 row0\" >0</th>\n",
       "      <td id=\"T_c660c_row0_col0\" class=\"data row0 col0\" >-5.820010</td>\n",
       "      <td id=\"T_c660c_row0_col1\" class=\"data row0 col1\" >-35.220825</td>\n",
       "      <td id=\"T_c660c_row0_col2\" class=\"data row0 col2\" >5</td>\n",
       "      <td id=\"T_c660c_row0_col3\" class=\"data row0 col3\" >0.000000</td>\n",
       "      <td id=\"T_c660c_row0_col4\" class=\"data row0 col4\" >→</td>\n",
       "      <td id=\"T_c660c_row0_col5\" class=\"data row0 col5\" >0.000000</td>\n",
       "      <td id=\"T_c660c_row0_col6\" class=\"data row0 col6\" >-35.220825</td>\n",
       "      <td id=\"T_c660c_row0_col7\" class=\"data row0 col7\" >5</td>\n",
       "      <td id=\"T_c660c_row0_col8\" class=\"data row0 col8\" >0.000000</td>\n",
       "      <td id=\"T_c660c_row0_col9\" class=\"data row0 col9\" > </td>\n",
       "      <td id=\"T_c660c_row0_col10\" class=\"data row0 col10\" >1.002671</td>\n",
       "      <td id=\"T_c660c_row0_col11\" class=\"data row0 col11\" >1.456781</td>\n",
       "      <td id=\"T_c660c_row0_col12\" class=\"data row0 col12\" >2.210472</td>\n",
       "    </tr>\n",
       "    <tr>\n",
       "      <th id=\"T_c660c_level0_row1\" class=\"row_heading level0 row1\" >1</th>\n",
       "      <td id=\"T_c660c_row1_col0\" class=\"data row1 col0\" >-5.820013</td>\n",
       "      <td id=\"T_c660c_row1_col1\" class=\"data row1 col1\" >-35.220822</td>\n",
       "      <td id=\"T_c660c_row1_col2\" class=\"data row1 col2\" >4</td>\n",
       "      <td id=\"T_c660c_row1_col3\" class=\"data row1 col3\" >-0.277778</td>\n",
       "      <td id=\"T_c660c_row1_col4\" class=\"data row1 col4\" >→</td>\n",
       "      <td id=\"T_c660c_row1_col5\" class=\"data row1 col5\" >0.000000</td>\n",
       "      <td id=\"T_c660c_row1_col6\" class=\"data row1 col6\" >-35.220822</td>\n",
       "      <td id=\"T_c660c_row1_col7\" class=\"data row1 col7\" >4</td>\n",
       "      <td id=\"T_c660c_row1_col8\" class=\"data row1 col8\" >-0.277778</td>\n",
       "      <td id=\"T_c660c_row1_col9\" class=\"data row1 col9\" > </td>\n",
       "      <td id=\"T_c660c_row1_col10\" class=\"data row1 col10\" >1.013360</td>\n",
       "      <td id=\"T_c660c_row1_col11\" class=\"data row1 col11\" >1.016708</td>\n",
       "      <td id=\"T_c660c_row1_col12\" class=\"data row1 col12\" >2.381479</td>\n",
       "    </tr>\n",
       "    <tr>\n",
       "      <th id=\"T_c660c_level0_row2\" class=\"row_heading level0 row2\" >2</th>\n",
       "      <td id=\"T_c660c_row2_col0\" class=\"data row2 col0\" >-5.820016</td>\n",
       "      <td id=\"T_c660c_row2_col1\" class=\"data row2 col1\" >-35.220819</td>\n",
       "      <td id=\"T_c660c_row2_col2\" class=\"data row2 col2\" >5</td>\n",
       "      <td id=\"T_c660c_row2_col3\" class=\"data row2 col3\" >0.277778</td>\n",
       "      <td id=\"T_c660c_row2_col4\" class=\"data row2 col4\" >→</td>\n",
       "      <td id=\"T_c660c_row2_col5\" class=\"data row2 col5\" >0.000000</td>\n",
       "      <td id=\"T_c660c_row2_col6\" class=\"data row2 col6\" >-35.220819</td>\n",
       "      <td id=\"T_c660c_row2_col7\" class=\"data row2 col7\" >5</td>\n",
       "      <td id=\"T_c660c_row2_col8\" class=\"data row2 col8\" >0.277778</td>\n",
       "      <td id=\"T_c660c_row2_col9\" class=\"data row2 col9\" > </td>\n",
       "      <td id=\"T_c660c_row2_col10\" class=\"data row2 col10\" >2.088720</td>\n",
       "      <td id=\"T_c660c_row2_col11\" class=\"data row2 col11\" >1.456781</td>\n",
       "      <td id=\"T_c660c_row2_col12\" class=\"data row2 col12\" >2.210472</td>\n",
       "    </tr>\n",
       "    <tr>\n",
       "      <th id=\"T_c660c_level0_row3\" class=\"row_heading level0 row3\" >3</th>\n",
       "      <td id=\"T_c660c_row3_col0\" class=\"data row3 col0\" >-5.820014</td>\n",
       "      <td id=\"T_c660c_row3_col1\" class=\"data row3 col1\" >-35.220825</td>\n",
       "      <td id=\"T_c660c_row3_col2\" class=\"data row3 col2\" >7</td>\n",
       "      <td id=\"T_c660c_row3_col3\" class=\"data row3 col3\" >0.555556</td>\n",
       "      <td id=\"T_c660c_row3_col4\" class=\"data row3 col4\" >→</td>\n",
       "      <td id=\"T_c660c_row3_col5\" class=\"data row3 col5\" >0.000000</td>\n",
       "      <td id=\"T_c660c_row3_col6\" class=\"data row3 col6\" >-35.220825</td>\n",
       "      <td id=\"T_c660c_row3_col7\" class=\"data row3 col7\" >7</td>\n",
       "      <td id=\"T_c660c_row3_col8\" class=\"data row3 col8\" >0.555556</td>\n",
       "      <td id=\"T_c660c_row3_col9\" class=\"data row3 col9\" > </td>\n",
       "      <td id=\"T_c660c_row3_col10\" class=\"data row3 col10\" >2.261889</td>\n",
       "      <td id=\"T_c660c_row3_col11\" class=\"data row3 col11\" >1.996380</td>\n",
       "      <td id=\"T_c660c_row3_col12\" class=\"data row3 col12\" >2.764091</td>\n",
       "    </tr>\n",
       "    <tr>\n",
       "      <th id=\"T_c660c_level0_row4\" class=\"row_heading level0 row4\" >4</th>\n",
       "      <td id=\"T_c660c_row4_col0\" class=\"data row4 col0\" >-5.819992</td>\n",
       "      <td id=\"T_c660c_row4_col1\" class=\"data row4 col1\" >-35.220829</td>\n",
       "      <td id=\"T_c660c_row4_col2\" class=\"data row4 col2\" >9</td>\n",
       "      <td id=\"T_c660c_row4_col3\" class=\"data row4 col3\" >0.555556</td>\n",
       "      <td id=\"T_c660c_row4_col4\" class=\"data row4 col4\" >→</td>\n",
       "      <td id=\"T_c660c_row4_col5\" class=\"data row4 col5\" >0.000000</td>\n",
       "      <td id=\"T_c660c_row4_col6\" class=\"data row4 col6\" >-35.220829</td>\n",
       "      <td id=\"T_c660c_row4_col7\" class=\"data row4 col7\" >9</td>\n",
       "      <td id=\"T_c660c_row4_col8\" class=\"data row4 col8\" >0.555556</td>\n",
       "      <td id=\"T_c660c_row4_col9\" class=\"data row4 col9\" > </td>\n",
       "      <td id=\"T_c660c_row4_col10\" class=\"data row4 col10\" >2.499195</td>\n",
       "      <td id=\"T_c660c_row4_col11\" class=\"data row4 col11\" >2.400486</td>\n",
       "      <td id=\"T_c660c_row4_col12\" class=\"data row4 col12\" >2.733665</td>\n",
       "    </tr>\n",
       "    <tr>\n",
       "      <th id=\"T_c660c_level0_row5\" class=\"row_heading level0 row5\" >5</th>\n",
       "      <td id=\"T_c660c_row5_col0\" class=\"data row5 col0\" >-5.819974</td>\n",
       "      <td id=\"T_c660c_row5_col1\" class=\"data row5 col1\" >-35.220824</td>\n",
       "      <td id=\"T_c660c_row5_col2\" class=\"data row5 col2\" >12</td>\n",
       "      <td id=\"T_c660c_row5_col3\" class=\"data row5 col3\" >0.833333</td>\n",
       "      <td id=\"T_c660c_row5_col4\" class=\"data row5 col4\" >→</td>\n",
       "      <td id=\"T_c660c_row5_col5\" class=\"data row5 col5\" >0.000000</td>\n",
       "      <td id=\"T_c660c_row5_col6\" class=\"data row5 col6\" >-35.220824</td>\n",
       "      <td id=\"T_c660c_row5_col7\" class=\"data row5 col7\" >12</td>\n",
       "      <td id=\"T_c660c_row5_col8\" class=\"data row5 col8\" >0.833333</td>\n",
       "      <td id=\"T_c660c_row5_col9\" class=\"data row5 col9\" > </td>\n",
       "      <td id=\"T_c660c_row5_col10\" class=\"data row5 col10\" >2.606089</td>\n",
       "      <td id=\"T_c660c_row5_col11\" class=\"data row5 col11\" >2.400486</td>\n",
       "      <td id=\"T_c660c_row5_col12\" class=\"data row5 col12\" >2.900924</td>\n",
       "    </tr>\n",
       "    <tr>\n",
       "      <th id=\"T_c660c_level0_row6\" class=\"row_heading level0 row6\" >6</th>\n",
       "      <td id=\"T_c660c_row6_col0\" class=\"data row6 col0\" >-5.819944</td>\n",
       "      <td id=\"T_c660c_row6_col1\" class=\"data row6 col1\" >-35.220823</td>\n",
       "      <td id=\"T_c660c_row6_col2\" class=\"data row6 col2\" >15</td>\n",
       "      <td id=\"T_c660c_row6_col3\" class=\"data row6 col3\" >0.833333</td>\n",
       "      <td id=\"T_c660c_row6_col4\" class=\"data row6 col4\" >→</td>\n",
       "      <td id=\"T_c660c_row6_col5\" class=\"data row6 col5\" >0.000000</td>\n",
       "      <td id=\"T_c660c_row6_col6\" class=\"data row6 col6\" >-35.220823</td>\n",
       "      <td id=\"T_c660c_row6_col7\" class=\"data row6 col7\" >15</td>\n",
       "      <td id=\"T_c660c_row6_col8\" class=\"data row6 col8\" >0.833333</td>\n",
       "      <td id=\"T_c660c_row6_col9\" class=\"data row6 col9\" > </td>\n",
       "      <td id=\"T_c660c_row6_col10\" class=\"data row6 col10\" >3.070012</td>\n",
       "      <td id=\"T_c660c_row6_col11\" class=\"data row6 col11\" >2.148721</td>\n",
       "      <td id=\"T_c660c_row6_col12\" class=\"data row6 col12\" >2.524258</td>\n",
       "    </tr>\n",
       "    <tr>\n",
       "      <th id=\"T_c660c_level0_row7\" class=\"row_heading level0 row7\" >7</th>\n",
       "      <td id=\"T_c660c_row7_col0\" class=\"data row7 col0\" >-5.819908</td>\n",
       "      <td id=\"T_c660c_row7_col1\" class=\"data row7 col1\" >-35.220810</td>\n",
       "      <td id=\"T_c660c_row7_col2\" class=\"data row7 col2\" >18</td>\n",
       "      <td id=\"T_c660c_row7_col3\" class=\"data row7 col3\" >0.833333</td>\n",
       "      <td id=\"T_c660c_row7_col4\" class=\"data row7 col4\" >→</td>\n",
       "      <td id=\"T_c660c_row7_col5\" class=\"data row7 col5\" >0.000000</td>\n",
       "      <td id=\"T_c660c_row7_col6\" class=\"data row7 col6\" >-35.220810</td>\n",
       "      <td id=\"T_c660c_row7_col7\" class=\"data row7 col7\" >18</td>\n",
       "      <td id=\"T_c660c_row7_col8\" class=\"data row7 col8\" >0.833333</td>\n",
       "      <td id=\"T_c660c_row7_col9\" class=\"data row7 col9\" > </td>\n",
       "      <td id=\"T_c660c_row7_col10\" class=\"data row7 col10\" >2.445747</td>\n",
       "      <td id=\"T_c660c_row7_col11\" class=\"data row7 col11\" >1.470940</td>\n",
       "      <td id=\"T_c660c_row7_col12\" class=\"data row7 col12\" >2.125705</td>\n",
       "    </tr>\n",
       "    <tr>\n",
       "      <th id=\"T_c660c_level0_row8\" class=\"row_heading level0 row8\" >8</th>\n",
       "      <td id=\"T_c660c_row8_col0\" class=\"data row8 col0\" >-5.819866</td>\n",
       "      <td id=\"T_c660c_row8_col1\" class=\"data row8 col1\" >-35.220794</td>\n",
       "      <td id=\"T_c660c_row8_col2\" class=\"data row8 col2\" >18</td>\n",
       "      <td id=\"T_c660c_row8_col3\" class=\"data row8 col3\" >0.000000</td>\n",
       "      <td id=\"T_c660c_row8_col4\" class=\"data row8 col4\" >→</td>\n",
       "      <td id=\"T_c660c_row8_col5\" class=\"data row8 col5\" >0.000000</td>\n",
       "      <td id=\"T_c660c_row8_col6\" class=\"data row8 col6\" >-35.220794</td>\n",
       "      <td id=\"T_c660c_row8_col7\" class=\"data row8 col7\" >18</td>\n",
       "      <td id=\"T_c660c_row8_col8\" class=\"data row8 col8\" >0.000000</td>\n",
       "      <td id=\"T_c660c_row8_col9\" class=\"data row8 col9\" > </td>\n",
       "      <td id=\"T_c660c_row8_col10\" class=\"data row8 col10\" >1.073221</td>\n",
       "      <td id=\"T_c660c_row8_col11\" class=\"data row8 col11\" >1.588029</td>\n",
       "      <td id=\"T_c660c_row8_col12\" class=\"data row8 col12\" >2.241735</td>\n",
       "    </tr>\n",
       "    <tr>\n",
       "      <th id=\"T_c660c_level0_row9\" class=\"row_heading level0 row9\" >9</th>\n",
       "      <td id=\"T_c660c_row9_col0\" class=\"data row9 col0\" >-5.819821</td>\n",
       "      <td id=\"T_c660c_row9_col1\" class=\"data row9 col1\" >-35.220775</td>\n",
       "      <td id=\"T_c660c_row9_col2\" class=\"data row9 col2\" >16</td>\n",
       "      <td id=\"T_c660c_row9_col3\" class=\"data row9 col3\" >-0.555556</td>\n",
       "      <td id=\"T_c660c_row9_col4\" class=\"data row9 col4\" >→</td>\n",
       "      <td id=\"T_c660c_row9_col5\" class=\"data row9 col5\" >0.000000</td>\n",
       "      <td id=\"T_c660c_row9_col6\" class=\"data row9 col6\" >-35.220775</td>\n",
       "      <td id=\"T_c660c_row9_col7\" class=\"data row9 col7\" >16</td>\n",
       "      <td id=\"T_c660c_row9_col8\" class=\"data row9 col8\" >-0.555556</td>\n",
       "      <td id=\"T_c660c_row9_col9\" class=\"data row9 col9\" > </td>\n",
       "      <td id=\"T_c660c_row9_col10\" class=\"data row9 col10\" >0.562265</td>\n",
       "      <td id=\"T_c660c_row9_col11\" class=\"data row9 col11\" >1.085921</td>\n",
       "      <td id=\"T_c660c_row9_col12\" class=\"data row9 col12\" >1.960367</td>\n",
       "    </tr>\n",
       "  </tbody>\n",
       "</table>\n"
      ],
      "text/plain": [
       "<pandas.io.formats.style.Styler at 0x1bd8c164910>"
      ]
     },
     "metadata": {},
     "output_type": "display_data"
    },
    {
     "data": {
      "application/vnd.plotly.v1+json": {
       "config": {
        "plotlyServerURL": "https://plot.ly"
       },
       "data": [
        {
         "line": {
          "color": "green",
          "dash": "dot"
         },
         "mode": "lines",
         "name": "Real",
         "type": "scatter",
         "y": {
          "bdata": "fgFSsvAK8D+A9UFnuTbwP+sFLaeytQBAlHGRLVkYAkBCucXSWf4DQEt9dVtF2QRAqBJmS2KPCEA+120O5JADQCN/TinqK/E/+as09BP+4T+aTWFMs5viP5pNYUyzm+I/XDzytNji+j+dNUG2RPMCQCiGK0XJLgZAUV/NH7tGBUCt9L0P2PwIQMoh0PdM4gZALUmGV/HwAUC7e8iq65kFQJWKBjqL2QZAPtdtDuSQA0A+120O5JADQD/LXcOsvPM/G9QTrTAS5T+dNUG2RPPiPz7XbQ7kkOM/PtdtDuSQ4z+N38u90b/qPypPDv0M2/E/XDzytNjiCkCoDN6lRqUIQKgM3qVGpQhA8yxc66J8D0BuxFHGr5gMQIjedkcOpwVAJ4Cjn61EBkBRX80fu0YFQLWf+IuRFgVAtZ/4i5EWBUBZCgicdGDxP1JTvdSDcvU/1NlvNQHp9z+u1cBdilHkP67VwF2KUeQ/oGcrz6h17D9QRlgTiYXwP5J9oXiQ7PE/kn2heJDs8T/DRQDZ8l7mP79dIG9hB+Y/v10gb2EH5j+/XSBvYQfmP2LnLDGS/OY/sOIlH4U+6T/qekRTCmDuP6BnK8+odew/mWxe/gBHB0CpJVOyeGYNQIFGKTJrZA5AgUYpMmtkDkDqCPF5wKoQQNfm1Pb71QxA1+bU9vvVDEDDRQDZ8l7mP8A4mxf4ceE/+as09BP+4T9i5ywxkvzmP2LnLDGS/OY/QeTSz9596D9B5NLP3n3oPzJEUyiZH+c/MkRTKJkf5z95fPEDZJ/tP3l88QNkn+0/2trEq8QB7T8Lfp60vd7sP9by5EEzquw/LlxzvgfI5j8uXHO+B8jmP79dIG9hB+Y/idJm/NbS5T/DRQDZ8l7mP/jQuUt9k+Y/+NC5S32T5j8g7t0vJuzuPwt+nrS93uw/nH9LZRce7D9q3HFcHkHsP2rccVweQew/H7zzFsJp5T8fvPMWwmnlP/jQuUt9k+Y/LlxzvgfI5j8uXHO+B8jmPy5cc74HyOY/atxxXB5B7D9q3HFcHkHsPwt+nrS93uw/1vLkQTOq7D8=",
          "dtype": "f8"
         }
        },
        {
         "line": {
          "color": "blue",
          "dash": "dash"
         },
         "mode": "lines",
         "name": "Predição Original",
         "type": "scatter",
         "y": {
          "bdata": "nyhPnflO9z9gHHYQcETwP58oT535Tvc/NcYJ3ivx/z/H027bMTQDQMfTbtsxNANAW6JizpQwAUDSiMQk+Ij3P/2q4seQaPk/ZH6eRe5f8T9BGZ5ZmvD3PzitkrX97Pg/sjPog+dN+z+SSuHot2oCQJww0qNNLgNA8cQEdVL2B0A1HTGC8yUFQJ1s4cie0QVAPEfMwV4IAkA8R8zBXggCQF2Pwwd46AFAbpuVTxN2+j/IvXHXsBP6P0OwSlf+P/c/2pPnoDIS6T+hOYU4eCfuPxp0K9BUbOo/ThQjZ9o8AEBABo/x9pL3P3F+mAxJHfY/vjt97VxcAkC1xmrF5DgDQOa6Z/pAWAZAUonaDz/zBED9aMiraIEDQPruFYWieANA+u4VhaJ4A0CoKE294o/7Pxk9jtecgfw/S7H7xD8A/j92WkFYmFz2P7S5Onx/Bvo/RX1rWH4i8z/oY5hva434P1TJv1Fh2es/2F3p5aM27D+RtiC+vPzzP6NexDxw2fI/XyhyWTnN9D+DFQQ4srDxP7jtWJ1vMew/uO1YnW8x7D+47VidbzHsP7jtWJ1vMew/uO1YnW8x7D+47VidbzHsP7jtWJ1vMew/uO1YnW8x7D8nAD+TNLUCQNaKcWWMugZA0Uv5KVIhCEA+8WTkUCIIQPi+a1e0Yw5Ayp9UILRhDkDaMTNkxTIBQMaASEASVe8/28WzSFf/7z9COf9b/WfwPxW/p/5ScP0/VZWNuaJb6j9o0D7Y66zqP2jQPtjrrOo/aNA+2Ous6j9o0D7Y66zqP2jQPtjrrOo/aNA+2Ous6j9o0D7Y66zqP2jQPtjrrOo/aNA+2Ous6j9o0D7Y66zqP2jQPtjrrOo/aNA+2Ous6j9o0D7Y66zqP2jQPtjrrOo/aNA+2Ous6j9o0D7Y66zqP2jQPtjrrOo/aNA+2Ous6j9o0D7Y66zqP2jQPtjrrOo/aNA+2Ous6j9o0D7Y66zqP2jQPtjrrOo/aNA+2Ous6j9o0D7Y66zqP2jQPtjrrOo/aNA+2Ous6j9o0D7Y66zqP2jQPtjrrOo/aNA+2Ous6j8=",
          "dtype": "f8"
         }
        },
        {
         "line": {
          "color": "red"
         },
         "mode": "lines",
         "name": "Predição com RM",
         "type": "scatter",
         "y": {
          "bdata": "86qdvAuvAUCgVcGhRA0DQPOqnbwLrwFA04pErNscBkCNtpmYi94FQCKwpaoXNQdApEUdQK4xBEBSsjrMcQEBQCZU5acS7wFAPfkN26ld/z8CKmFJxDoFQMJpdxfc6ANAhAOtINmJA0BY85nDsfoGQHidUubz9QlAcvYiG6F4CkDxZa9xhNcBQKh8kNmCsgFARbMg4IM1+D+F115Lzx72P4BSRk5Tuec/fVKwDJ5/2T+RwO9xmSHZP3cSY04U7NY/3Fts5cb36j8M3pFerfH4P+0JfZq/m/o/hKrCi/sFAUAAXZoUpsEFQMJzJeNzngJAW87LBKRUB0AtXvX8S2wLQC1e9fxLbAtA6+vvTRTp/j8n+mfJgefwPypYi6vnLPc/KliLq+cs9z8a3/Ud2n/oPzgwtYFyzuU/ku113K+t4T8Ki5RmlR7zP1tGaGxMNuY/lX8W4REP8j9jrfTtCn7lPyAbJ2GVwPo/wZrz0TYcAkDu0gBgJcwCQG4iW0zvxwJAKHYH355fAkCEwJTeCjH9P1QRgH6DFvk/VBGAfoMW+T9UEYB+gxb5P1QRgH6DFvk/VBGAfoMW+T9UEYB+gxb5P1QRgH6DFvk/VBGAfoMW+T/UeSeCIVsIQM2OXg0b+AdA1BTk9TBICEDjD+GsV6MDQIY0ie3t0QRAJgp8lpHQBEAPPM3pYysCQCrRJe1xYwBAXVmpc/exAECnmi8y5TQCQGj6AETbRAdAoNa0oLji/z/OMACP0Qb7P84wAI/RBvs/zjAAj9EG+z/OMACP0Qb7P84wAI/RBvs/zjAAj9EG+z/OMACP0Qb7P84wAI/RBvs/zjAAj9EG+z/OMACP0Qb7P84wAI/RBvs/zjAAj9EG+z/OMACP0Qb7P84wAI/RBvs/zjAAj9EG+z/OMACP0Qb7P84wAI/RBvs/zjAAj9EG+z/OMACP0Qb7P84wAI/RBvs/zjAAj9EG+z/OMACP0Qb7P84wAI/RBvs/zjAAj9EG+z/OMACP0Qb7P84wAI/RBvs/zjAAj9EG+z/OMACP0Qb7P84wAI/RBvs/zjAAj9EG+z8=",
          "dtype": "f8"
         }
        }
       ],
       "layout": {
        "template": {
         "data": {
          "bar": [
           {
            "error_x": {
             "color": "#2a3f5f"
            },
            "error_y": {
             "color": "#2a3f5f"
            },
            "marker": {
             "line": {
              "color": "white",
              "width": 0.5
             },
             "pattern": {
              "fillmode": "overlay",
              "size": 10,
              "solidity": 0.2
             }
            },
            "type": "bar"
           }
          ],
          "barpolar": [
           {
            "marker": {
             "line": {
              "color": "white",
              "width": 0.5
             },
             "pattern": {
              "fillmode": "overlay",
              "size": 10,
              "solidity": 0.2
             }
            },
            "type": "barpolar"
           }
          ],
          "carpet": [
           {
            "aaxis": {
             "endlinecolor": "#2a3f5f",
             "gridcolor": "#C8D4E3",
             "linecolor": "#C8D4E3",
             "minorgridcolor": "#C8D4E3",
             "startlinecolor": "#2a3f5f"
            },
            "baxis": {
             "endlinecolor": "#2a3f5f",
             "gridcolor": "#C8D4E3",
             "linecolor": "#C8D4E3",
             "minorgridcolor": "#C8D4E3",
             "startlinecolor": "#2a3f5f"
            },
            "type": "carpet"
           }
          ],
          "choropleth": [
           {
            "colorbar": {
             "outlinewidth": 0,
             "ticks": ""
            },
            "type": "choropleth"
           }
          ],
          "contour": [
           {
            "colorbar": {
             "outlinewidth": 0,
             "ticks": ""
            },
            "colorscale": [
             [
              0,
              "#0d0887"
             ],
             [
              0.1111111111111111,
              "#46039f"
             ],
             [
              0.2222222222222222,
              "#7201a8"
             ],
             [
              0.3333333333333333,
              "#9c179e"
             ],
             [
              0.4444444444444444,
              "#bd3786"
             ],
             [
              0.5555555555555556,
              "#d8576b"
             ],
             [
              0.6666666666666666,
              "#ed7953"
             ],
             [
              0.7777777777777778,
              "#fb9f3a"
             ],
             [
              0.8888888888888888,
              "#fdca26"
             ],
             [
              1,
              "#f0f921"
             ]
            ],
            "type": "contour"
           }
          ],
          "contourcarpet": [
           {
            "colorbar": {
             "outlinewidth": 0,
             "ticks": ""
            },
            "type": "contourcarpet"
           }
          ],
          "heatmap": [
           {
            "colorbar": {
             "outlinewidth": 0,
             "ticks": ""
            },
            "colorscale": [
             [
              0,
              "#0d0887"
             ],
             [
              0.1111111111111111,
              "#46039f"
             ],
             [
              0.2222222222222222,
              "#7201a8"
             ],
             [
              0.3333333333333333,
              "#9c179e"
             ],
             [
              0.4444444444444444,
              "#bd3786"
             ],
             [
              0.5555555555555556,
              "#d8576b"
             ],
             [
              0.6666666666666666,
              "#ed7953"
             ],
             [
              0.7777777777777778,
              "#fb9f3a"
             ],
             [
              0.8888888888888888,
              "#fdca26"
             ],
             [
              1,
              "#f0f921"
             ]
            ],
            "type": "heatmap"
           }
          ],
          "histogram": [
           {
            "marker": {
             "pattern": {
              "fillmode": "overlay",
              "size": 10,
              "solidity": 0.2
             }
            },
            "type": "histogram"
           }
          ],
          "histogram2d": [
           {
            "colorbar": {
             "outlinewidth": 0,
             "ticks": ""
            },
            "colorscale": [
             [
              0,
              "#0d0887"
             ],
             [
              0.1111111111111111,
              "#46039f"
             ],
             [
              0.2222222222222222,
              "#7201a8"
             ],
             [
              0.3333333333333333,
              "#9c179e"
             ],
             [
              0.4444444444444444,
              "#bd3786"
             ],
             [
              0.5555555555555556,
              "#d8576b"
             ],
             [
              0.6666666666666666,
              "#ed7953"
             ],
             [
              0.7777777777777778,
              "#fb9f3a"
             ],
             [
              0.8888888888888888,
              "#fdca26"
             ],
             [
              1,
              "#f0f921"
             ]
            ],
            "type": "histogram2d"
           }
          ],
          "histogram2dcontour": [
           {
            "colorbar": {
             "outlinewidth": 0,
             "ticks": ""
            },
            "colorscale": [
             [
              0,
              "#0d0887"
             ],
             [
              0.1111111111111111,
              "#46039f"
             ],
             [
              0.2222222222222222,
              "#7201a8"
             ],
             [
              0.3333333333333333,
              "#9c179e"
             ],
             [
              0.4444444444444444,
              "#bd3786"
             ],
             [
              0.5555555555555556,
              "#d8576b"
             ],
             [
              0.6666666666666666,
              "#ed7953"
             ],
             [
              0.7777777777777778,
              "#fb9f3a"
             ],
             [
              0.8888888888888888,
              "#fdca26"
             ],
             [
              1,
              "#f0f921"
             ]
            ],
            "type": "histogram2dcontour"
           }
          ],
          "mesh3d": [
           {
            "colorbar": {
             "outlinewidth": 0,
             "ticks": ""
            },
            "type": "mesh3d"
           }
          ],
          "parcoords": [
           {
            "line": {
             "colorbar": {
              "outlinewidth": 0,
              "ticks": ""
             }
            },
            "type": "parcoords"
           }
          ],
          "pie": [
           {
            "automargin": true,
            "type": "pie"
           }
          ],
          "scatter": [
           {
            "fillpattern": {
             "fillmode": "overlay",
             "size": 10,
             "solidity": 0.2
            },
            "type": "scatter"
           }
          ],
          "scatter3d": [
           {
            "line": {
             "colorbar": {
              "outlinewidth": 0,
              "ticks": ""
             }
            },
            "marker": {
             "colorbar": {
              "outlinewidth": 0,
              "ticks": ""
             }
            },
            "type": "scatter3d"
           }
          ],
          "scattercarpet": [
           {
            "marker": {
             "colorbar": {
              "outlinewidth": 0,
              "ticks": ""
             }
            },
            "type": "scattercarpet"
           }
          ],
          "scattergeo": [
           {
            "marker": {
             "colorbar": {
              "outlinewidth": 0,
              "ticks": ""
             }
            },
            "type": "scattergeo"
           }
          ],
          "scattergl": [
           {
            "marker": {
             "colorbar": {
              "outlinewidth": 0,
              "ticks": ""
             }
            },
            "type": "scattergl"
           }
          ],
          "scattermap": [
           {
            "marker": {
             "colorbar": {
              "outlinewidth": 0,
              "ticks": ""
             }
            },
            "type": "scattermap"
           }
          ],
          "scattermapbox": [
           {
            "marker": {
             "colorbar": {
              "outlinewidth": 0,
              "ticks": ""
             }
            },
            "type": "scattermapbox"
           }
          ],
          "scatterpolar": [
           {
            "marker": {
             "colorbar": {
              "outlinewidth": 0,
              "ticks": ""
             }
            },
            "type": "scatterpolar"
           }
          ],
          "scatterpolargl": [
           {
            "marker": {
             "colorbar": {
              "outlinewidth": 0,
              "ticks": ""
             }
            },
            "type": "scatterpolargl"
           }
          ],
          "scatterternary": [
           {
            "marker": {
             "colorbar": {
              "outlinewidth": 0,
              "ticks": ""
             }
            },
            "type": "scatterternary"
           }
          ],
          "surface": [
           {
            "colorbar": {
             "outlinewidth": 0,
             "ticks": ""
            },
            "colorscale": [
             [
              0,
              "#0d0887"
             ],
             [
              0.1111111111111111,
              "#46039f"
             ],
             [
              0.2222222222222222,
              "#7201a8"
             ],
             [
              0.3333333333333333,
              "#9c179e"
             ],
             [
              0.4444444444444444,
              "#bd3786"
             ],
             [
              0.5555555555555556,
              "#d8576b"
             ],
             [
              0.6666666666666666,
              "#ed7953"
             ],
             [
              0.7777777777777778,
              "#fb9f3a"
             ],
             [
              0.8888888888888888,
              "#fdca26"
             ],
             [
              1,
              "#f0f921"
             ]
            ],
            "type": "surface"
           }
          ],
          "table": [
           {
            "cells": {
             "fill": {
              "color": "#EBF0F8"
             },
             "line": {
              "color": "white"
             }
            },
            "header": {
             "fill": {
              "color": "#C8D4E3"
             },
             "line": {
              "color": "white"
             }
            },
            "type": "table"
           }
          ]
         },
         "layout": {
          "annotationdefaults": {
           "arrowcolor": "#2a3f5f",
           "arrowhead": 0,
           "arrowwidth": 1
          },
          "autotypenumbers": "strict",
          "coloraxis": {
           "colorbar": {
            "outlinewidth": 0,
            "ticks": ""
           }
          },
          "colorscale": {
           "diverging": [
            [
             0,
             "#8e0152"
            ],
            [
             0.1,
             "#c51b7d"
            ],
            [
             0.2,
             "#de77ae"
            ],
            [
             0.3,
             "#f1b6da"
            ],
            [
             0.4,
             "#fde0ef"
            ],
            [
             0.5,
             "#f7f7f7"
            ],
            [
             0.6,
             "#e6f5d0"
            ],
            [
             0.7,
             "#b8e186"
            ],
            [
             0.8,
             "#7fbc41"
            ],
            [
             0.9,
             "#4d9221"
            ],
            [
             1,
             "#276419"
            ]
           ],
           "sequential": [
            [
             0,
             "#0d0887"
            ],
            [
             0.1111111111111111,
             "#46039f"
            ],
            [
             0.2222222222222222,
             "#7201a8"
            ],
            [
             0.3333333333333333,
             "#9c179e"
            ],
            [
             0.4444444444444444,
             "#bd3786"
            ],
            [
             0.5555555555555556,
             "#d8576b"
            ],
            [
             0.6666666666666666,
             "#ed7953"
            ],
            [
             0.7777777777777778,
             "#fb9f3a"
            ],
            [
             0.8888888888888888,
             "#fdca26"
            ],
            [
             1,
             "#f0f921"
            ]
           ],
           "sequentialminus": [
            [
             0,
             "#0d0887"
            ],
            [
             0.1111111111111111,
             "#46039f"
            ],
            [
             0.2222222222222222,
             "#7201a8"
            ],
            [
             0.3333333333333333,
             "#9c179e"
            ],
            [
             0.4444444444444444,
             "#bd3786"
            ],
            [
             0.5555555555555556,
             "#d8576b"
            ],
            [
             0.6666666666666666,
             "#ed7953"
            ],
            [
             0.7777777777777778,
             "#fb9f3a"
            ],
            [
             0.8888888888888888,
             "#fdca26"
            ],
            [
             1,
             "#f0f921"
            ]
           ]
          },
          "colorway": [
           "#636efa",
           "#EF553B",
           "#00cc96",
           "#ab63fa",
           "#FFA15A",
           "#19d3f3",
           "#FF6692",
           "#B6E880",
           "#FF97FF",
           "#FECB52"
          ],
          "font": {
           "color": "#2a3f5f"
          },
          "geo": {
           "bgcolor": "white",
           "lakecolor": "white",
           "landcolor": "white",
           "showlakes": true,
           "showland": true,
           "subunitcolor": "#C8D4E3"
          },
          "hoverlabel": {
           "align": "left"
          },
          "hovermode": "closest",
          "mapbox": {
           "style": "light"
          },
          "paper_bgcolor": "white",
          "plot_bgcolor": "white",
          "polar": {
           "angularaxis": {
            "gridcolor": "#EBF0F8",
            "linecolor": "#EBF0F8",
            "ticks": ""
           },
           "bgcolor": "white",
           "radialaxis": {
            "gridcolor": "#EBF0F8",
            "linecolor": "#EBF0F8",
            "ticks": ""
           }
          },
          "scene": {
           "xaxis": {
            "backgroundcolor": "white",
            "gridcolor": "#DFE8F3",
            "gridwidth": 2,
            "linecolor": "#EBF0F8",
            "showbackground": true,
            "ticks": "",
            "zerolinecolor": "#EBF0F8"
           },
           "yaxis": {
            "backgroundcolor": "white",
            "gridcolor": "#DFE8F3",
            "gridwidth": 2,
            "linecolor": "#EBF0F8",
            "showbackground": true,
            "ticks": "",
            "zerolinecolor": "#EBF0F8"
           },
           "zaxis": {
            "backgroundcolor": "white",
            "gridcolor": "#DFE8F3",
            "gridwidth": 2,
            "linecolor": "#EBF0F8",
            "showbackground": true,
            "ticks": "",
            "zerolinecolor": "#EBF0F8"
           }
          },
          "shapedefaults": {
           "line": {
            "color": "#2a3f5f"
           }
          },
          "ternary": {
           "aaxis": {
            "gridcolor": "#DFE8F3",
            "linecolor": "#A2B1C6",
            "ticks": ""
           },
           "baxis": {
            "gridcolor": "#DFE8F3",
            "linecolor": "#A2B1C6",
            "ticks": ""
           },
           "bgcolor": "white",
           "caxis": {
            "gridcolor": "#DFE8F3",
            "linecolor": "#A2B1C6",
            "ticks": ""
           }
          },
          "title": {
           "x": 0.05
          },
          "xaxis": {
           "automargin": true,
           "gridcolor": "#EBF0F8",
           "linecolor": "#EBF0F8",
           "ticks": "",
           "title": {
            "standoff": 15
           },
           "zerolinecolor": "#EBF0F8",
           "zerolinewidth": 2
          },
          "yaxis": {
           "automargin": true,
           "gridcolor": "#EBF0F8",
           "linecolor": "#EBF0F8",
           "ticks": "",
           "title": {
            "standoff": 15
           },
           "zerolinecolor": "#EBF0F8",
           "zerolinewidth": 2
          }
         }
        },
        "title": {
         "text": "Comparação CO₂ - Caso de teste: RM2 - Latitude nula (mantendo demais variáveis) - GASOLINE",
         "x": 0.5
        },
        "xaxis": {
         "title": {
          "text": "Amostras"
         }
        },
        "yaxis": {
         "title": {
          "text": "CO₂ (g/s)"
         }
        }
       }
      }
     },
     "metadata": {},
     "output_type": "display_data"
    },
    {
     "name": "stdout",
     "output_type": "stream",
     "text": [
      "\n",
      "🔁 Caso de teste: RM3 - Longitude nula (mantendo demais variáveis) (ETHANOL)\n",
      "Diferença Média: 0.3039 | Diferença Máxima: 2.0281 | Erro Quadrático Médio (RMSE): 0.4241 | Desvio Padrão (Std): 0.2959\n"
     ]
    },
    {
     "data": {
      "text/html": [
       "<style type=\"text/css\">\n",
       "</style>\n",
       "<table id=\"T_fb940\">\n",
       "  <caption>Comparação dos dados originais e modificados - Caso de teste: RM3 - Longitude nula (mantendo demais variáveis) (ETHANOL)</caption>\n",
       "  <thead>\n",
       "    <tr>\n",
       "      <th class=\"blank level0\" >&nbsp;</th>\n",
       "      <th id=\"T_fb940_level0_col0\" class=\"col_heading level0 col0\" >Latitude_Orig</th>\n",
       "      <th id=\"T_fb940_level0_col1\" class=\"col_heading level0 col1\" >Longitude_Orig</th>\n",
       "      <th id=\"T_fb940_level0_col2\" class=\"col_heading level0 col2\" >Speed(OBD)(km/h)_Orig</th>\n",
       "      <th id=\"T_fb940_level0_col3\" class=\"col_heading level0 col3\" >Acceleration_Orig</th>\n",
       "      <th id=\"T_fb940_level0_col4\" class=\"col_heading level0 col4\" > </th>\n",
       "      <th id=\"T_fb940_level0_col5\" class=\"col_heading level0 col5\" >Latitude_Mod</th>\n",
       "      <th id=\"T_fb940_level0_col6\" class=\"col_heading level0 col6\" >Longitude_Mod</th>\n",
       "      <th id=\"T_fb940_level0_col7\" class=\"col_heading level0 col7\" >Speed(OBD)(km/h)_Mod</th>\n",
       "      <th id=\"T_fb940_level0_col8\" class=\"col_heading level0 col8\" >Acceleration_Mod</th>\n",
       "      <th id=\"T_fb940_level0_col9\" class=\"col_heading level0 col9\" > </th>\n",
       "      <th id=\"T_fb940_level0_col10\" class=\"col_heading level0 col10\" >CO₂_Real</th>\n",
       "      <th id=\"T_fb940_level0_col11\" class=\"col_heading level0 col11\" >CO₂_Orig</th>\n",
       "      <th id=\"T_fb940_level0_col12\" class=\"col_heading level0 col12\" >CO₂_Mod</th>\n",
       "    </tr>\n",
       "  </thead>\n",
       "  <tbody>\n",
       "    <tr>\n",
       "      <th id=\"T_fb940_level0_row0\" class=\"row_heading level0 row0\" >0</th>\n",
       "      <td id=\"T_fb940_row0_col0\" class=\"data row0 col0\" >-5.820105</td>\n",
       "      <td id=\"T_fb940_row0_col1\" class=\"data row0 col1\" >-35.220818</td>\n",
       "      <td id=\"T_fb940_row0_col2\" class=\"data row0 col2\" >3</td>\n",
       "      <td id=\"T_fb940_row0_col3\" class=\"data row0 col3\" >0.000000</td>\n",
       "      <td id=\"T_fb940_row0_col4\" class=\"data row0 col4\" >→</td>\n",
       "      <td id=\"T_fb940_row0_col5\" class=\"data row0 col5\" >-5.820105</td>\n",
       "      <td id=\"T_fb940_row0_col6\" class=\"data row0 col6\" >0.000000</td>\n",
       "      <td id=\"T_fb940_row0_col7\" class=\"data row0 col7\" >3</td>\n",
       "      <td id=\"T_fb940_row0_col8\" class=\"data row0 col8\" >0.000000</td>\n",
       "      <td id=\"T_fb940_row0_col9\" class=\"data row0 col9\" > </td>\n",
       "      <td id=\"T_fb940_row0_col10\" class=\"data row0 col10\" >0.642839</td>\n",
       "      <td id=\"T_fb940_row0_col11\" class=\"data row0 col11\" >0.742631</td>\n",
       "      <td id=\"T_fb940_row0_col12\" class=\"data row0 col12\" >0.665038</td>\n",
       "    </tr>\n",
       "    <tr>\n",
       "      <th id=\"T_fb940_level0_row1\" class=\"row_heading level0 row1\" >1</th>\n",
       "      <td id=\"T_fb940_row1_col0\" class=\"data row1 col0\" >-5.820103</td>\n",
       "      <td id=\"T_fb940_row1_col1\" class=\"data row1 col1\" >-35.220828</td>\n",
       "      <td id=\"T_fb940_row1_col2\" class=\"data row1 col2\" >5</td>\n",
       "      <td id=\"T_fb940_row1_col3\" class=\"data row1 col3\" >0.555556</td>\n",
       "      <td id=\"T_fb940_row1_col4\" class=\"data row1 col4\" >→</td>\n",
       "      <td id=\"T_fb940_row1_col5\" class=\"data row1 col5\" >-5.820103</td>\n",
       "      <td id=\"T_fb940_row1_col6\" class=\"data row1 col6\" >0.000000</td>\n",
       "      <td id=\"T_fb940_row1_col7\" class=\"data row1 col7\" >5</td>\n",
       "      <td id=\"T_fb940_row1_col8\" class=\"data row1 col8\" >0.555556</td>\n",
       "      <td id=\"T_fb940_row1_col9\" class=\"data row1 col9\" > </td>\n",
       "      <td id=\"T_fb940_row1_col10\" class=\"data row1 col10\" >0.653249</td>\n",
       "      <td id=\"T_fb940_row1_col11\" class=\"data row1 col11\" >0.771505</td>\n",
       "      <td id=\"T_fb940_row1_col12\" class=\"data row1 col12\" >0.581781</td>\n",
       "    </tr>\n",
       "    <tr>\n",
       "      <th id=\"T_fb940_level0_row2\" class=\"row_heading level0 row2\" >2</th>\n",
       "      <td id=\"T_fb940_row2_col0\" class=\"data row2 col0\" >-5.820102</td>\n",
       "      <td id=\"T_fb940_row2_col1\" class=\"data row2 col1\" >-35.220838</td>\n",
       "      <td id=\"T_fb940_row2_col2\" class=\"data row2 col2\" >5</td>\n",
       "      <td id=\"T_fb940_row2_col3\" class=\"data row2 col3\" >0.000000</td>\n",
       "      <td id=\"T_fb940_row2_col4\" class=\"data row2 col4\" >→</td>\n",
       "      <td id=\"T_fb940_row2_col5\" class=\"data row2 col5\" >-5.820102</td>\n",
       "      <td id=\"T_fb940_row2_col6\" class=\"data row2 col6\" >0.000000</td>\n",
       "      <td id=\"T_fb940_row2_col7\" class=\"data row2 col7\" >5</td>\n",
       "      <td id=\"T_fb940_row2_col8\" class=\"data row2 col8\" >0.000000</td>\n",
       "      <td id=\"T_fb940_row2_col9\" class=\"data row2 col9\" > </td>\n",
       "      <td id=\"T_fb940_row2_col10\" class=\"data row2 col10\" >0.653249</td>\n",
       "      <td id=\"T_fb940_row2_col11\" class=\"data row2 col11\" >0.771505</td>\n",
       "      <td id=\"T_fb940_row2_col12\" class=\"data row2 col12\" >0.581781</td>\n",
       "    </tr>\n",
       "    <tr>\n",
       "      <th id=\"T_fb940_level0_row3\" class=\"row_heading level0 row3\" >3</th>\n",
       "      <td id=\"T_fb940_row3_col0\" class=\"data row3 col0\" >-5.820096</td>\n",
       "      <td id=\"T_fb940_row3_col1\" class=\"data row3 col1\" >-35.220843</td>\n",
       "      <td id=\"T_fb940_row3_col2\" class=\"data row3 col2\" >3</td>\n",
       "      <td id=\"T_fb940_row3_col3\" class=\"data row3 col3\" >-0.555556</td>\n",
       "      <td id=\"T_fb940_row3_col4\" class=\"data row3 col4\" >→</td>\n",
       "      <td id=\"T_fb940_row3_col5\" class=\"data row3 col5\" >-5.820096</td>\n",
       "      <td id=\"T_fb940_row3_col6\" class=\"data row3 col6\" >0.000000</td>\n",
       "      <td id=\"T_fb940_row3_col7\" class=\"data row3 col7\" >3</td>\n",
       "      <td id=\"T_fb940_row3_col8\" class=\"data row3 col8\" >-0.555556</td>\n",
       "      <td id=\"T_fb940_row3_col9\" class=\"data row3 col9\" > </td>\n",
       "      <td id=\"T_fb940_row3_col10\" class=\"data row3 col10\" >0.679275</td>\n",
       "      <td id=\"T_fb940_row3_col11\" class=\"data row3 col11\" >0.659013</td>\n",
       "      <td id=\"T_fb940_row3_col12\" class=\"data row3 col12\" >0.617370</td>\n",
       "    </tr>\n",
       "    <tr>\n",
       "      <th id=\"T_fb940_level0_row4\" class=\"row_heading level0 row4\" >4</th>\n",
       "      <td id=\"T_fb940_row4_col0\" class=\"data row4 col0\" >-5.820091</td>\n",
       "      <td id=\"T_fb940_row4_col1\" class=\"data row4 col1\" >-35.220850</td>\n",
       "      <td id=\"T_fb940_row4_col2\" class=\"data row4 col2\" >0</td>\n",
       "      <td id=\"T_fb940_row4_col3\" class=\"data row4 col3\" >-0.833333</td>\n",
       "      <td id=\"T_fb940_row4_col4\" class=\"data row4 col4\" >→</td>\n",
       "      <td id=\"T_fb940_row4_col5\" class=\"data row4 col5\" >-5.820091</td>\n",
       "      <td id=\"T_fb940_row4_col6\" class=\"data row4 col6\" >0.000000</td>\n",
       "      <td id=\"T_fb940_row4_col7\" class=\"data row4 col7\" >0</td>\n",
       "      <td id=\"T_fb940_row4_col8\" class=\"data row4 col8\" >-0.833333</td>\n",
       "      <td id=\"T_fb940_row4_col9\" class=\"data row4 col9\" > </td>\n",
       "      <td id=\"T_fb940_row4_col10\" class=\"data row4 col10\" >0.610306</td>\n",
       "      <td id=\"T_fb940_row4_col11\" class=\"data row4 col11\" >0.667689</td>\n",
       "      <td id=\"T_fb940_row4_col12\" class=\"data row4 col12\" >0.466419</td>\n",
       "    </tr>\n",
       "    <tr>\n",
       "      <th id=\"T_fb940_level0_row5\" class=\"row_heading level0 row5\" >5</th>\n",
       "      <td id=\"T_fb940_row5_col0\" class=\"data row5 col0\" >-5.820091</td>\n",
       "      <td id=\"T_fb940_row5_col1\" class=\"data row5 col1\" >-35.220850</td>\n",
       "      <td id=\"T_fb940_row5_col2\" class=\"data row5 col2\" >0</td>\n",
       "      <td id=\"T_fb940_row5_col3\" class=\"data row5 col3\" >0.000000</td>\n",
       "      <td id=\"T_fb940_row5_col4\" class=\"data row5 col4\" >→</td>\n",
       "      <td id=\"T_fb940_row5_col5\" class=\"data row5 col5\" >-5.820091</td>\n",
       "      <td id=\"T_fb940_row5_col6\" class=\"data row5 col6\" >0.000000</td>\n",
       "      <td id=\"T_fb940_row5_col7\" class=\"data row5 col7\" >0</td>\n",
       "      <td id=\"T_fb940_row5_col8\" class=\"data row5 col8\" >0.000000</td>\n",
       "      <td id=\"T_fb940_row5_col9\" class=\"data row5 col9\" > </td>\n",
       "      <td id=\"T_fb940_row5_col10\" class=\"data row5 col10\" >0.610306</td>\n",
       "      <td id=\"T_fb940_row5_col11\" class=\"data row5 col11\" >0.706858</td>\n",
       "      <td id=\"T_fb940_row5_col12\" class=\"data row5 col12\" >0.474772</td>\n",
       "    </tr>\n",
       "    <tr>\n",
       "      <th id=\"T_fb940_level0_row6\" class=\"row_heading level0 row6\" >6</th>\n",
       "      <td id=\"T_fb940_row6_col0\" class=\"data row6 col0\" >-5.820091</td>\n",
       "      <td id=\"T_fb940_row6_col1\" class=\"data row6 col1\" >-35.220850</td>\n",
       "      <td id=\"T_fb940_row6_col2\" class=\"data row6 col2\" >0</td>\n",
       "      <td id=\"T_fb940_row6_col3\" class=\"data row6 col3\" >0.000000</td>\n",
       "      <td id=\"T_fb940_row6_col4\" class=\"data row6 col4\" >→</td>\n",
       "      <td id=\"T_fb940_row6_col5\" class=\"data row6 col5\" >-5.820091</td>\n",
       "      <td id=\"T_fb940_row6_col6\" class=\"data row6 col6\" >0.000000</td>\n",
       "      <td id=\"T_fb940_row6_col7\" class=\"data row6 col7\" >0</td>\n",
       "      <td id=\"T_fb940_row6_col8\" class=\"data row6 col8\" >0.000000</td>\n",
       "      <td id=\"T_fb940_row6_col9\" class=\"data row6 col9\" > </td>\n",
       "      <td id=\"T_fb940_row6_col10\" class=\"data row6 col10\" >0.490587</td>\n",
       "      <td id=\"T_fb940_row6_col11\" class=\"data row6 col11\" >0.706858</td>\n",
       "      <td id=\"T_fb940_row6_col12\" class=\"data row6 col12\" >0.474772</td>\n",
       "    </tr>\n",
       "    <tr>\n",
       "      <th id=\"T_fb940_level0_row7\" class=\"row_heading level0 row7\" >7</th>\n",
       "      <td id=\"T_fb940_row7_col0\" class=\"data row7 col0\" >-5.820085</td>\n",
       "      <td id=\"T_fb940_row7_col1\" class=\"data row7 col1\" >-35.220856</td>\n",
       "      <td id=\"T_fb940_row7_col2\" class=\"data row7 col2\" >3</td>\n",
       "      <td id=\"T_fb940_row7_col3\" class=\"data row7 col3\" >0.833333</td>\n",
       "      <td id=\"T_fb940_row7_col4\" class=\"data row7 col4\" >→</td>\n",
       "      <td id=\"T_fb940_row7_col5\" class=\"data row7 col5\" >-5.820085</td>\n",
       "      <td id=\"T_fb940_row7_col6\" class=\"data row7 col6\" >0.000000</td>\n",
       "      <td id=\"T_fb940_row7_col7\" class=\"data row7 col7\" >3</td>\n",
       "      <td id=\"T_fb940_row7_col8\" class=\"data row7 col8\" >0.833333</td>\n",
       "      <td id=\"T_fb940_row7_col9\" class=\"data row7 col9\" > </td>\n",
       "      <td id=\"T_fb940_row7_col10\" class=\"data row7 col10\" >1.090483</td>\n",
       "      <td id=\"T_fb940_row7_col11\" class=\"data row7 col11\" >1.137803</td>\n",
       "      <td id=\"T_fb940_row7_col12\" class=\"data row7 col12\" >0.665038</td>\n",
       "    </tr>\n",
       "    <tr>\n",
       "      <th id=\"T_fb940_level0_row8\" class=\"row_heading level0 row8\" >8</th>\n",
       "      <td id=\"T_fb940_row8_col0\" class=\"data row8 col0\" >-5.820074</td>\n",
       "      <td id=\"T_fb940_row8_col1\" class=\"data row8 col1\" >-35.220859</td>\n",
       "      <td id=\"T_fb940_row8_col2\" class=\"data row8 col2\" >3</td>\n",
       "      <td id=\"T_fb940_row8_col3\" class=\"data row8 col3\" >0.000000</td>\n",
       "      <td id=\"T_fb940_row8_col4\" class=\"data row8 col4\" >→</td>\n",
       "      <td id=\"T_fb940_row8_col5\" class=\"data row8 col5\" >-5.820074</td>\n",
       "      <td id=\"T_fb940_row8_col6\" class=\"data row8 col6\" >0.000000</td>\n",
       "      <td id=\"T_fb940_row8_col7\" class=\"data row8 col7\" >3</td>\n",
       "      <td id=\"T_fb940_row8_col8\" class=\"data row8 col8\" >0.000000</td>\n",
       "      <td id=\"T_fb940_row8_col9\" class=\"data row8 col9\" > </td>\n",
       "      <td id=\"T_fb940_row8_col10\" class=\"data row8 col10\" >1.090483</td>\n",
       "      <td id=\"T_fb940_row8_col11\" class=\"data row8 col11\" >1.137803</td>\n",
       "      <td id=\"T_fb940_row8_col12\" class=\"data row8 col12\" >0.665038</td>\n",
       "    </tr>\n",
       "    <tr>\n",
       "      <th id=\"T_fb940_level0_row9\" class=\"row_heading level0 row9\" >9</th>\n",
       "      <td id=\"T_fb940_row9_col0\" class=\"data row9 col0\" >-5.820064</td>\n",
       "      <td id=\"T_fb940_row9_col1\" class=\"data row9 col1\" >-35.220858</td>\n",
       "      <td id=\"T_fb940_row9_col2\" class=\"data row9 col2\" >3</td>\n",
       "      <td id=\"T_fb940_row9_col3\" class=\"data row9 col3\" >0.000000</td>\n",
       "      <td id=\"T_fb940_row9_col4\" class=\"data row9 col4\" >→</td>\n",
       "      <td id=\"T_fb940_row9_col5\" class=\"data row9 col5\" >-5.820064</td>\n",
       "      <td id=\"T_fb940_row9_col6\" class=\"data row9 col6\" >0.000000</td>\n",
       "      <td id=\"T_fb940_row9_col7\" class=\"data row9 col7\" >3</td>\n",
       "      <td id=\"T_fb940_row9_col8\" class=\"data row9 col8\" >0.000000</td>\n",
       "      <td id=\"T_fb940_row9_col9\" class=\"data row9 col9\" > </td>\n",
       "      <td id=\"T_fb940_row9_col10\" class=\"data row9 col10\" >0.921315</td>\n",
       "      <td id=\"T_fb940_row9_col11\" class=\"data row9 col11\" >1.137803</td>\n",
       "      <td id=\"T_fb940_row9_col12\" class=\"data row9 col12\" >0.665038</td>\n",
       "    </tr>\n",
       "  </tbody>\n",
       "</table>\n"
      ],
      "text/plain": [
       "<pandas.io.formats.style.Styler at 0x1bd8c158a90>"
      ]
     },
     "metadata": {},
     "output_type": "display_data"
    },
    {
     "data": {
      "application/vnd.plotly.v1+json": {
       "config": {
        "plotlyServerURL": "https://plot.ly"
       },
       "data": [
        {
         "line": {
          "color": "green",
          "dash": "dot"
         },
         "mode": "lines",
         "name": "Real",
         "type": "scatter",
         "y": {
          "bdata": "Xv2WDSKS5D+bk2QeaufkP5uTZB5q5+Q/NotmSJ685T/ehxTZoIfjP96HFNmgh+M/M5CwL8hl3z/dnA9wnnLxP92cD3CecvE/T3ASz2l77T+UX3iidnLyPz8yMAV+Z/Q/PzIwBX5n9D8ti7UITBb8PzhhcBqj5vk/KSOOULfS8D8pI45Qt9LwP7us/CApG+8/cjYv8OP84z+t9vIuJyjgP6328i4nKOA/geLz0z/39T+rgxXuOvLzP6uDFe468vM/mb1aTGW9AEB0UCWuXTcFQJNSfcM51QFAk1J9wznVAUDU4Eocwdz0P40G4N+x0N0/MaWrxsVQ3T+Gb8fSpWfjP4Zvx9KlZ+M/RJASr2yy4j+u4feXKT3iPxtsE+QD5v0/G2wT5APm/T9xVW+Vh+D+P/WBu/ZpMek/9YG79mkx6T8EcmzGOjzYP6VZboDtdf4/WOugB2mlAEBY66AHaaUAQFcs1yJHEfo/jF/HYiTM+D+vRCQpQjH6P69EJClCMfo/IlLOZdxR9j8U6vVt9WfxP9L1RbO+x/I/0vVFs77H8j9JPCZTdgbrPy3PofTAJtk/Lc+h9MAm2T83dmuxoNHXP5m9WkxlveA/wxqQeuun4T/DGpB666fhPy5sdWOoMgFAN3ZrsaDRB0CTtalUUskJQJO1qVRSyQlAUQXmhZA5CECzrwGybRkJQLOvAbJtGQlAadNRH3liAkDxyvHJCOv/P/HK8ckI6/8/ZYpqDIgCAkDcITJ38e4HQFhbyHe+Nvk/WFvId742+T+BiQxRzfvaP+KMDwAd1/Y/4owPAB3X9j9nuVth/yfxP4GJDFHN+9o/VyzXIkcR2j9XLNciRxHKPzhhcBqj5sk/mb1aTGW90D+rqr6oeQbiPxTJ619+uOE/cloUOF8j9z+cBUVJAVwCQO7F9qKMm/w/7sX2ooyb/D8XwP8/+pH1Py66pl3DO9s/YtOg3ya82D8GXXEvPVHKPwZdcS89Uco/3P87AbdmyT8zkLAvyGXPPxdp8ttk2OI/F2ny22TY4j/s9fsW3vTiP/4o4Wa23vY/g+DZ9mxa+z8=",
          "dtype": "f8"
         }
        },
        {
         "line": {
          "color": "blue",
          "dash": "dash"
         },
         "mode": "lines",
         "name": "Predição Original",
         "type": "scatter",
         "y": {
          "bdata": "A1nGMaLD5z/rGxZ+K7DoP+sbFn4rsOg/ZNKEuKEW5T8gJJx1tV3lP1qolBeUnuY/WqiUF5Se5j8vN5pfcTTyPy83ml9xNPI/LzeaX3E08j8LUj4DVmv0P2cHXp66ovQ/lajUrwhy8z8ERxYOSyj4P0gf5HQeCfI/if7LZHnq7z8XHaiiCV3vP6Btm6JJmew/vGW1En/65z9MP1pTWq7wP/J2f86FGvA/Rx/yOxHc8D9HH/I7EdzwP0cf8jsR3PA/Wi2PK9ct9T99iPbmwzv1P+s7h6uSvvI/jlifB2hB+z/KAreWPx7tP2CGcv2h3+w/DE1YhnUh4z+r91rqETzvPzST+4nO/eQ/tcGbWjP25j8r0X6ZskrsPzXVexnn+PI/jsX9rHxr8z+YODlE2Q7zPxrw1xsMw+0/6+G9lxVx7T+VLCu5vQ3pP5kI65KAuvA/xV7vM9nJ8j+3rXXsTRn+P7nipTU15fQ/Ahig1qK48j97HMyYL2j0P61VsDSbgfU/gKXeX7rt9D8lL/FG5m/yP1D9sJ1ASPI/ONgUq37H8z/SblJX33btP6Pvp4KhC+M/A1unplDL5j/tVn03pGviP09EUKldGOg/RjLkVnwe6D+bSQJT7m7oP/kNtZK+Z+k/BO79CuHa9z9uhs6rFD4AQDSsx4gppPs/JoJSHH6Y9j8b5eo1rb34P7wp1TtfOgFA605wkeGE9z+CQHPA6Nf7P96W8dRj7vo/77f/lcKE+T8/0HaFb3j5P0ixId0VM/o/2QaTrAQF9T89ims167HjP+Roiw7ssfA/N+aifBlj8D+LMRVBlGrvP6CylwUtpOE/UCAMIn9U4D86TWpu5ebtP5PEfPDbnN0/8ql5Nfn/4D83OrmjNxvhP9ETGcqqqOg/TEBpKYVw9j/5y4EaW9T4P6g7DuceO/U/scgFb/N/8D+73vRQdeXuP5DaSmyYQ+A/1hTHV/j+2j9wnnVfpazbPzJoid+r2eU/KlRdoNof2z8xuA2DPjffP3qotC6cE+Y/eqi0LpwT5j96qLQunBPmPwHia4Ko5fc/29W9hKHm9z8=",
          "dtype": "f8"
         }
        },
        {
         "line": {
          "color": "red"
         },
         "mode": "lines",
         "name": "Predição com RM",
         "type": "scatter",
         "y": {
          "bdata": "GGDmzf5H5T9IjL3v8p3iP0iMve/yneI/XAHLKn7B4z/oLWoU0NndP+QvpZ6qYt4/5C+lnqpi3j8YYObN/kflPxhg5s3+R+U/GGDmzf5H5T+RLRqJPtXjP9rToGpfseA/UNLRDhBQ7z82V2rtnfv0PzbcPo3EQfg/funRzk457z9+6dHOTjnvP31IK22xdu8/V6plAx+s2D82ENe0PxHrP2GuXz/viuM/IQVi0ZpS4j8hBWLRmlLiPyEFYtGaUuI/qsCL4qTL4z9zS5nxJZf1P40LaZsWSfk/z6MucL2J8j+QSLNa7lbyP0R02tW7C/I/KT/P4LYk4T8Ccak3bP3xP1ugKPQg/Nw/9pZNWK994D83SrUGDkbsP/zszNZG+uo/WV5+NAHo3T/JFFotPUj4PwjKZtAvcvE/oaZ5FhtE8T83SrUGDkbsP/zszNZG+uo/Ntw+jcRB+D+aSaiderntP1wFnCCnt/g/8BoUtmWT+j+FXG060X/2P5La/iGP7vY/ndShQWQo9j8C0pWdttv1P3lNvaMWgvU/eU29oxaC9T+rgw2pQBz2P6x5t72w7eE/ehfUz5dT9j8knK3CxvvsPxhxiJ2Qiuw/+rpu2rws5D/c6kwGT6viP7szX0OYB+Q//TIA6r7y8z9ArtgxNbLtP/Fj+EDyYfY/W4QIVx02+j8o0kEtVbfrP+nVLr2b+fU/b5Uu7yjr5z/wT8dOjjHnP77ahJzsK+w/BFIYt8Ay5z+DV8F8EmLpP49DoC10sOo/lsPAfSMt4j+LtHXDsT3RP/ay+sNLE+U/9rL6w0sT5T/wHy/1NLnpP4u0dcOxPdE/rQlp2N+M6j8wF7IyPQvwP+QQa9vzF+4/IyabRCga3D/3eg9ZWHDgP2iEitmTefA/RBJKQ0ig8j+TTUnGxvf1P905QSdm4uk/ZcQutlU37D8sQ58/MVPoPwQRtk0vXdE/S2S5lRiI6z+Kc/hQ4WftP7TkSGz8MfA/Cr3rWOi/6j/pcxNHuNPcP7DOg19kReo/sM6DX2RF6j+wzoNfZEXqPz8f4tdYf+s/C4A3jXx26z8=",
          "dtype": "f8"
         }
        }
       ],
       "layout": {
        "template": {
         "data": {
          "bar": [
           {
            "error_x": {
             "color": "#2a3f5f"
            },
            "error_y": {
             "color": "#2a3f5f"
            },
            "marker": {
             "line": {
              "color": "white",
              "width": 0.5
             },
             "pattern": {
              "fillmode": "overlay",
              "size": 10,
              "solidity": 0.2
             }
            },
            "type": "bar"
           }
          ],
          "barpolar": [
           {
            "marker": {
             "line": {
              "color": "white",
              "width": 0.5
             },
             "pattern": {
              "fillmode": "overlay",
              "size": 10,
              "solidity": 0.2
             }
            },
            "type": "barpolar"
           }
          ],
          "carpet": [
           {
            "aaxis": {
             "endlinecolor": "#2a3f5f",
             "gridcolor": "#C8D4E3",
             "linecolor": "#C8D4E3",
             "minorgridcolor": "#C8D4E3",
             "startlinecolor": "#2a3f5f"
            },
            "baxis": {
             "endlinecolor": "#2a3f5f",
             "gridcolor": "#C8D4E3",
             "linecolor": "#C8D4E3",
             "minorgridcolor": "#C8D4E3",
             "startlinecolor": "#2a3f5f"
            },
            "type": "carpet"
           }
          ],
          "choropleth": [
           {
            "colorbar": {
             "outlinewidth": 0,
             "ticks": ""
            },
            "type": "choropleth"
           }
          ],
          "contour": [
           {
            "colorbar": {
             "outlinewidth": 0,
             "ticks": ""
            },
            "colorscale": [
             [
              0,
              "#0d0887"
             ],
             [
              0.1111111111111111,
              "#46039f"
             ],
             [
              0.2222222222222222,
              "#7201a8"
             ],
             [
              0.3333333333333333,
              "#9c179e"
             ],
             [
              0.4444444444444444,
              "#bd3786"
             ],
             [
              0.5555555555555556,
              "#d8576b"
             ],
             [
              0.6666666666666666,
              "#ed7953"
             ],
             [
              0.7777777777777778,
              "#fb9f3a"
             ],
             [
              0.8888888888888888,
              "#fdca26"
             ],
             [
              1,
              "#f0f921"
             ]
            ],
            "type": "contour"
           }
          ],
          "contourcarpet": [
           {
            "colorbar": {
             "outlinewidth": 0,
             "ticks": ""
            },
            "type": "contourcarpet"
           }
          ],
          "heatmap": [
           {
            "colorbar": {
             "outlinewidth": 0,
             "ticks": ""
            },
            "colorscale": [
             [
              0,
              "#0d0887"
             ],
             [
              0.1111111111111111,
              "#46039f"
             ],
             [
              0.2222222222222222,
              "#7201a8"
             ],
             [
              0.3333333333333333,
              "#9c179e"
             ],
             [
              0.4444444444444444,
              "#bd3786"
             ],
             [
              0.5555555555555556,
              "#d8576b"
             ],
             [
              0.6666666666666666,
              "#ed7953"
             ],
             [
              0.7777777777777778,
              "#fb9f3a"
             ],
             [
              0.8888888888888888,
              "#fdca26"
             ],
             [
              1,
              "#f0f921"
             ]
            ],
            "type": "heatmap"
           }
          ],
          "histogram": [
           {
            "marker": {
             "pattern": {
              "fillmode": "overlay",
              "size": 10,
              "solidity": 0.2
             }
            },
            "type": "histogram"
           }
          ],
          "histogram2d": [
           {
            "colorbar": {
             "outlinewidth": 0,
             "ticks": ""
            },
            "colorscale": [
             [
              0,
              "#0d0887"
             ],
             [
              0.1111111111111111,
              "#46039f"
             ],
             [
              0.2222222222222222,
              "#7201a8"
             ],
             [
              0.3333333333333333,
              "#9c179e"
             ],
             [
              0.4444444444444444,
              "#bd3786"
             ],
             [
              0.5555555555555556,
              "#d8576b"
             ],
             [
              0.6666666666666666,
              "#ed7953"
             ],
             [
              0.7777777777777778,
              "#fb9f3a"
             ],
             [
              0.8888888888888888,
              "#fdca26"
             ],
             [
              1,
              "#f0f921"
             ]
            ],
            "type": "histogram2d"
           }
          ],
          "histogram2dcontour": [
           {
            "colorbar": {
             "outlinewidth": 0,
             "ticks": ""
            },
            "colorscale": [
             [
              0,
              "#0d0887"
             ],
             [
              0.1111111111111111,
              "#46039f"
             ],
             [
              0.2222222222222222,
              "#7201a8"
             ],
             [
              0.3333333333333333,
              "#9c179e"
             ],
             [
              0.4444444444444444,
              "#bd3786"
             ],
             [
              0.5555555555555556,
              "#d8576b"
             ],
             [
              0.6666666666666666,
              "#ed7953"
             ],
             [
              0.7777777777777778,
              "#fb9f3a"
             ],
             [
              0.8888888888888888,
              "#fdca26"
             ],
             [
              1,
              "#f0f921"
             ]
            ],
            "type": "histogram2dcontour"
           }
          ],
          "mesh3d": [
           {
            "colorbar": {
             "outlinewidth": 0,
             "ticks": ""
            },
            "type": "mesh3d"
           }
          ],
          "parcoords": [
           {
            "line": {
             "colorbar": {
              "outlinewidth": 0,
              "ticks": ""
             }
            },
            "type": "parcoords"
           }
          ],
          "pie": [
           {
            "automargin": true,
            "type": "pie"
           }
          ],
          "scatter": [
           {
            "fillpattern": {
             "fillmode": "overlay",
             "size": 10,
             "solidity": 0.2
            },
            "type": "scatter"
           }
          ],
          "scatter3d": [
           {
            "line": {
             "colorbar": {
              "outlinewidth": 0,
              "ticks": ""
             }
            },
            "marker": {
             "colorbar": {
              "outlinewidth": 0,
              "ticks": ""
             }
            },
            "type": "scatter3d"
           }
          ],
          "scattercarpet": [
           {
            "marker": {
             "colorbar": {
              "outlinewidth": 0,
              "ticks": ""
             }
            },
            "type": "scattercarpet"
           }
          ],
          "scattergeo": [
           {
            "marker": {
             "colorbar": {
              "outlinewidth": 0,
              "ticks": ""
             }
            },
            "type": "scattergeo"
           }
          ],
          "scattergl": [
           {
            "marker": {
             "colorbar": {
              "outlinewidth": 0,
              "ticks": ""
             }
            },
            "type": "scattergl"
           }
          ],
          "scattermap": [
           {
            "marker": {
             "colorbar": {
              "outlinewidth": 0,
              "ticks": ""
             }
            },
            "type": "scattermap"
           }
          ],
          "scattermapbox": [
           {
            "marker": {
             "colorbar": {
              "outlinewidth": 0,
              "ticks": ""
             }
            },
            "type": "scattermapbox"
           }
          ],
          "scatterpolar": [
           {
            "marker": {
             "colorbar": {
              "outlinewidth": 0,
              "ticks": ""
             }
            },
            "type": "scatterpolar"
           }
          ],
          "scatterpolargl": [
           {
            "marker": {
             "colorbar": {
              "outlinewidth": 0,
              "ticks": ""
             }
            },
            "type": "scatterpolargl"
           }
          ],
          "scatterternary": [
           {
            "marker": {
             "colorbar": {
              "outlinewidth": 0,
              "ticks": ""
             }
            },
            "type": "scatterternary"
           }
          ],
          "surface": [
           {
            "colorbar": {
             "outlinewidth": 0,
             "ticks": ""
            },
            "colorscale": [
             [
              0,
              "#0d0887"
             ],
             [
              0.1111111111111111,
              "#46039f"
             ],
             [
              0.2222222222222222,
              "#7201a8"
             ],
             [
              0.3333333333333333,
              "#9c179e"
             ],
             [
              0.4444444444444444,
              "#bd3786"
             ],
             [
              0.5555555555555556,
              "#d8576b"
             ],
             [
              0.6666666666666666,
              "#ed7953"
             ],
             [
              0.7777777777777778,
              "#fb9f3a"
             ],
             [
              0.8888888888888888,
              "#fdca26"
             ],
             [
              1,
              "#f0f921"
             ]
            ],
            "type": "surface"
           }
          ],
          "table": [
           {
            "cells": {
             "fill": {
              "color": "#EBF0F8"
             },
             "line": {
              "color": "white"
             }
            },
            "header": {
             "fill": {
              "color": "#C8D4E3"
             },
             "line": {
              "color": "white"
             }
            },
            "type": "table"
           }
          ]
         },
         "layout": {
          "annotationdefaults": {
           "arrowcolor": "#2a3f5f",
           "arrowhead": 0,
           "arrowwidth": 1
          },
          "autotypenumbers": "strict",
          "coloraxis": {
           "colorbar": {
            "outlinewidth": 0,
            "ticks": ""
           }
          },
          "colorscale": {
           "diverging": [
            [
             0,
             "#8e0152"
            ],
            [
             0.1,
             "#c51b7d"
            ],
            [
             0.2,
             "#de77ae"
            ],
            [
             0.3,
             "#f1b6da"
            ],
            [
             0.4,
             "#fde0ef"
            ],
            [
             0.5,
             "#f7f7f7"
            ],
            [
             0.6,
             "#e6f5d0"
            ],
            [
             0.7,
             "#b8e186"
            ],
            [
             0.8,
             "#7fbc41"
            ],
            [
             0.9,
             "#4d9221"
            ],
            [
             1,
             "#276419"
            ]
           ],
           "sequential": [
            [
             0,
             "#0d0887"
            ],
            [
             0.1111111111111111,
             "#46039f"
            ],
            [
             0.2222222222222222,
             "#7201a8"
            ],
            [
             0.3333333333333333,
             "#9c179e"
            ],
            [
             0.4444444444444444,
             "#bd3786"
            ],
            [
             0.5555555555555556,
             "#d8576b"
            ],
            [
             0.6666666666666666,
             "#ed7953"
            ],
            [
             0.7777777777777778,
             "#fb9f3a"
            ],
            [
             0.8888888888888888,
             "#fdca26"
            ],
            [
             1,
             "#f0f921"
            ]
           ],
           "sequentialminus": [
            [
             0,
             "#0d0887"
            ],
            [
             0.1111111111111111,
             "#46039f"
            ],
            [
             0.2222222222222222,
             "#7201a8"
            ],
            [
             0.3333333333333333,
             "#9c179e"
            ],
            [
             0.4444444444444444,
             "#bd3786"
            ],
            [
             0.5555555555555556,
             "#d8576b"
            ],
            [
             0.6666666666666666,
             "#ed7953"
            ],
            [
             0.7777777777777778,
             "#fb9f3a"
            ],
            [
             0.8888888888888888,
             "#fdca26"
            ],
            [
             1,
             "#f0f921"
            ]
           ]
          },
          "colorway": [
           "#636efa",
           "#EF553B",
           "#00cc96",
           "#ab63fa",
           "#FFA15A",
           "#19d3f3",
           "#FF6692",
           "#B6E880",
           "#FF97FF",
           "#FECB52"
          ],
          "font": {
           "color": "#2a3f5f"
          },
          "geo": {
           "bgcolor": "white",
           "lakecolor": "white",
           "landcolor": "white",
           "showlakes": true,
           "showland": true,
           "subunitcolor": "#C8D4E3"
          },
          "hoverlabel": {
           "align": "left"
          },
          "hovermode": "closest",
          "mapbox": {
           "style": "light"
          },
          "paper_bgcolor": "white",
          "plot_bgcolor": "white",
          "polar": {
           "angularaxis": {
            "gridcolor": "#EBF0F8",
            "linecolor": "#EBF0F8",
            "ticks": ""
           },
           "bgcolor": "white",
           "radialaxis": {
            "gridcolor": "#EBF0F8",
            "linecolor": "#EBF0F8",
            "ticks": ""
           }
          },
          "scene": {
           "xaxis": {
            "backgroundcolor": "white",
            "gridcolor": "#DFE8F3",
            "gridwidth": 2,
            "linecolor": "#EBF0F8",
            "showbackground": true,
            "ticks": "",
            "zerolinecolor": "#EBF0F8"
           },
           "yaxis": {
            "backgroundcolor": "white",
            "gridcolor": "#DFE8F3",
            "gridwidth": 2,
            "linecolor": "#EBF0F8",
            "showbackground": true,
            "ticks": "",
            "zerolinecolor": "#EBF0F8"
           },
           "zaxis": {
            "backgroundcolor": "white",
            "gridcolor": "#DFE8F3",
            "gridwidth": 2,
            "linecolor": "#EBF0F8",
            "showbackground": true,
            "ticks": "",
            "zerolinecolor": "#EBF0F8"
           }
          },
          "shapedefaults": {
           "line": {
            "color": "#2a3f5f"
           }
          },
          "ternary": {
           "aaxis": {
            "gridcolor": "#DFE8F3",
            "linecolor": "#A2B1C6",
            "ticks": ""
           },
           "baxis": {
            "gridcolor": "#DFE8F3",
            "linecolor": "#A2B1C6",
            "ticks": ""
           },
           "bgcolor": "white",
           "caxis": {
            "gridcolor": "#DFE8F3",
            "linecolor": "#A2B1C6",
            "ticks": ""
           }
          },
          "title": {
           "x": 0.05
          },
          "xaxis": {
           "automargin": true,
           "gridcolor": "#EBF0F8",
           "linecolor": "#EBF0F8",
           "ticks": "",
           "title": {
            "standoff": 15
           },
           "zerolinecolor": "#EBF0F8",
           "zerolinewidth": 2
          },
          "yaxis": {
           "automargin": true,
           "gridcolor": "#EBF0F8",
           "linecolor": "#EBF0F8",
           "ticks": "",
           "title": {
            "standoff": 15
           },
           "zerolinecolor": "#EBF0F8",
           "zerolinewidth": 2
          }
         }
        },
        "title": {
         "text": "Comparação CO₂ - Caso de teste: RM3 - Longitude nula (mantendo demais variáveis) - ETHANOL",
         "x": 0.5
        },
        "xaxis": {
         "title": {
          "text": "Amostras"
         }
        },
        "yaxis": {
         "title": {
          "text": "CO₂ (g/s)"
         }
        }
       }
      }
     },
     "metadata": {},
     "output_type": "display_data"
    },
    {
     "name": "stdout",
     "output_type": "stream",
     "text": [
      "\n",
      "🔁 Caso de teste: RM3 - Longitude nula (mantendo demais variáveis) (GASOLINE)\n",
      "Diferença Média: 0.5591 | Diferença Máxima: 3.2228 | Erro Quadrático Médio (RMSE): 0.7443 | Desvio Padrão (Std): 0.4914\n"
     ]
    },
    {
     "data": {
      "text/html": [
       "<style type=\"text/css\">\n",
       "</style>\n",
       "<table id=\"T_c1f04\">\n",
       "  <caption>Comparação dos dados originais e modificados - Caso de teste: RM3 - Longitude nula (mantendo demais variáveis) (GASOLINE)</caption>\n",
       "  <thead>\n",
       "    <tr>\n",
       "      <th class=\"blank level0\" >&nbsp;</th>\n",
       "      <th id=\"T_c1f04_level0_col0\" class=\"col_heading level0 col0\" >Latitude_Orig</th>\n",
       "      <th id=\"T_c1f04_level0_col1\" class=\"col_heading level0 col1\" >Longitude_Orig</th>\n",
       "      <th id=\"T_c1f04_level0_col2\" class=\"col_heading level0 col2\" >Speed(OBD)(km/h)_Orig</th>\n",
       "      <th id=\"T_c1f04_level0_col3\" class=\"col_heading level0 col3\" >Acceleration_Orig</th>\n",
       "      <th id=\"T_c1f04_level0_col4\" class=\"col_heading level0 col4\" > </th>\n",
       "      <th id=\"T_c1f04_level0_col5\" class=\"col_heading level0 col5\" >Latitude_Mod</th>\n",
       "      <th id=\"T_c1f04_level0_col6\" class=\"col_heading level0 col6\" >Longitude_Mod</th>\n",
       "      <th id=\"T_c1f04_level0_col7\" class=\"col_heading level0 col7\" >Speed(OBD)(km/h)_Mod</th>\n",
       "      <th id=\"T_c1f04_level0_col8\" class=\"col_heading level0 col8\" >Acceleration_Mod</th>\n",
       "      <th id=\"T_c1f04_level0_col9\" class=\"col_heading level0 col9\" > </th>\n",
       "      <th id=\"T_c1f04_level0_col10\" class=\"col_heading level0 col10\" >CO₂_Real</th>\n",
       "      <th id=\"T_c1f04_level0_col11\" class=\"col_heading level0 col11\" >CO₂_Orig</th>\n",
       "      <th id=\"T_c1f04_level0_col12\" class=\"col_heading level0 col12\" >CO₂_Mod</th>\n",
       "    </tr>\n",
       "  </thead>\n",
       "  <tbody>\n",
       "    <tr>\n",
       "      <th id=\"T_c1f04_level0_row0\" class=\"row_heading level0 row0\" >0</th>\n",
       "      <td id=\"T_c1f04_row0_col0\" class=\"data row0 col0\" >-5.820010</td>\n",
       "      <td id=\"T_c1f04_row0_col1\" class=\"data row0 col1\" >-35.220825</td>\n",
       "      <td id=\"T_c1f04_row0_col2\" class=\"data row0 col2\" >5</td>\n",
       "      <td id=\"T_c1f04_row0_col3\" class=\"data row0 col3\" >0.000000</td>\n",
       "      <td id=\"T_c1f04_row0_col4\" class=\"data row0 col4\" >→</td>\n",
       "      <td id=\"T_c1f04_row0_col5\" class=\"data row0 col5\" >-5.820010</td>\n",
       "      <td id=\"T_c1f04_row0_col6\" class=\"data row0 col6\" >0.000000</td>\n",
       "      <td id=\"T_c1f04_row0_col7\" class=\"data row0 col7\" >5</td>\n",
       "      <td id=\"T_c1f04_row0_col8\" class=\"data row0 col8\" >0.000000</td>\n",
       "      <td id=\"T_c1f04_row0_col9\" class=\"data row0 col9\" > </td>\n",
       "      <td id=\"T_c1f04_row0_col10\" class=\"data row0 col10\" >1.002671</td>\n",
       "      <td id=\"T_c1f04_row0_col11\" class=\"data row0 col11\" >1.456781</td>\n",
       "      <td id=\"T_c1f04_row0_col12\" class=\"data row0 col12\" >0.354376</td>\n",
       "    </tr>\n",
       "    <tr>\n",
       "      <th id=\"T_c1f04_level0_row1\" class=\"row_heading level0 row1\" >1</th>\n",
       "      <td id=\"T_c1f04_row1_col0\" class=\"data row1 col0\" >-5.820013</td>\n",
       "      <td id=\"T_c1f04_row1_col1\" class=\"data row1 col1\" >-35.220822</td>\n",
       "      <td id=\"T_c1f04_row1_col2\" class=\"data row1 col2\" >4</td>\n",
       "      <td id=\"T_c1f04_row1_col3\" class=\"data row1 col3\" >-0.277778</td>\n",
       "      <td id=\"T_c1f04_row1_col4\" class=\"data row1 col4\" >→</td>\n",
       "      <td id=\"T_c1f04_row1_col5\" class=\"data row1 col5\" >-5.820013</td>\n",
       "      <td id=\"T_c1f04_row1_col6\" class=\"data row1 col6\" >0.000000</td>\n",
       "      <td id=\"T_c1f04_row1_col7\" class=\"data row1 col7\" >4</td>\n",
       "      <td id=\"T_c1f04_row1_col8\" class=\"data row1 col8\" >-0.277778</td>\n",
       "      <td id=\"T_c1f04_row1_col9\" class=\"data row1 col9\" > </td>\n",
       "      <td id=\"T_c1f04_row1_col10\" class=\"data row1 col10\" >1.013360</td>\n",
       "      <td id=\"T_c1f04_row1_col11\" class=\"data row1 col11\" >1.016708</td>\n",
       "      <td id=\"T_c1f04_row1_col12\" class=\"data row1 col12\" >0.631768</td>\n",
       "    </tr>\n",
       "    <tr>\n",
       "      <th id=\"T_c1f04_level0_row2\" class=\"row_heading level0 row2\" >2</th>\n",
       "      <td id=\"T_c1f04_row2_col0\" class=\"data row2 col0\" >-5.820016</td>\n",
       "      <td id=\"T_c1f04_row2_col1\" class=\"data row2 col1\" >-35.220819</td>\n",
       "      <td id=\"T_c1f04_row2_col2\" class=\"data row2 col2\" >5</td>\n",
       "      <td id=\"T_c1f04_row2_col3\" class=\"data row2 col3\" >0.277778</td>\n",
       "      <td id=\"T_c1f04_row2_col4\" class=\"data row2 col4\" >→</td>\n",
       "      <td id=\"T_c1f04_row2_col5\" class=\"data row2 col5\" >-5.820016</td>\n",
       "      <td id=\"T_c1f04_row2_col6\" class=\"data row2 col6\" >0.000000</td>\n",
       "      <td id=\"T_c1f04_row2_col7\" class=\"data row2 col7\" >5</td>\n",
       "      <td id=\"T_c1f04_row2_col8\" class=\"data row2 col8\" >0.277778</td>\n",
       "      <td id=\"T_c1f04_row2_col9\" class=\"data row2 col9\" > </td>\n",
       "      <td id=\"T_c1f04_row2_col10\" class=\"data row2 col10\" >2.088720</td>\n",
       "      <td id=\"T_c1f04_row2_col11\" class=\"data row2 col11\" >1.456781</td>\n",
       "      <td id=\"T_c1f04_row2_col12\" class=\"data row2 col12\" >0.354376</td>\n",
       "    </tr>\n",
       "    <tr>\n",
       "      <th id=\"T_c1f04_level0_row3\" class=\"row_heading level0 row3\" >3</th>\n",
       "      <td id=\"T_c1f04_row3_col0\" class=\"data row3 col0\" >-5.820014</td>\n",
       "      <td id=\"T_c1f04_row3_col1\" class=\"data row3 col1\" >-35.220825</td>\n",
       "      <td id=\"T_c1f04_row3_col2\" class=\"data row3 col2\" >7</td>\n",
       "      <td id=\"T_c1f04_row3_col3\" class=\"data row3 col3\" >0.555556</td>\n",
       "      <td id=\"T_c1f04_row3_col4\" class=\"data row3 col4\" >→</td>\n",
       "      <td id=\"T_c1f04_row3_col5\" class=\"data row3 col5\" >-5.820014</td>\n",
       "      <td id=\"T_c1f04_row3_col6\" class=\"data row3 col6\" >0.000000</td>\n",
       "      <td id=\"T_c1f04_row3_col7\" class=\"data row3 col7\" >7</td>\n",
       "      <td id=\"T_c1f04_row3_col8\" class=\"data row3 col8\" >0.555556</td>\n",
       "      <td id=\"T_c1f04_row3_col9\" class=\"data row3 col9\" > </td>\n",
       "      <td id=\"T_c1f04_row3_col10\" class=\"data row3 col10\" >2.261889</td>\n",
       "      <td id=\"T_c1f04_row3_col11\" class=\"data row3 col11\" >1.996380</td>\n",
       "      <td id=\"T_c1f04_row3_col12\" class=\"data row3 col12\" >0.574012</td>\n",
       "    </tr>\n",
       "    <tr>\n",
       "      <th id=\"T_c1f04_level0_row4\" class=\"row_heading level0 row4\" >4</th>\n",
       "      <td id=\"T_c1f04_row4_col0\" class=\"data row4 col0\" >-5.819992</td>\n",
       "      <td id=\"T_c1f04_row4_col1\" class=\"data row4 col1\" >-35.220829</td>\n",
       "      <td id=\"T_c1f04_row4_col2\" class=\"data row4 col2\" >9</td>\n",
       "      <td id=\"T_c1f04_row4_col3\" class=\"data row4 col3\" >0.555556</td>\n",
       "      <td id=\"T_c1f04_row4_col4\" class=\"data row4 col4\" >→</td>\n",
       "      <td id=\"T_c1f04_row4_col5\" class=\"data row4 col5\" >-5.819992</td>\n",
       "      <td id=\"T_c1f04_row4_col6\" class=\"data row4 col6\" >0.000000</td>\n",
       "      <td id=\"T_c1f04_row4_col7\" class=\"data row4 col7\" >9</td>\n",
       "      <td id=\"T_c1f04_row4_col8\" class=\"data row4 col8\" >0.555556</td>\n",
       "      <td id=\"T_c1f04_row4_col9\" class=\"data row4 col9\" > </td>\n",
       "      <td id=\"T_c1f04_row4_col10\" class=\"data row4 col10\" >2.499195</td>\n",
       "      <td id=\"T_c1f04_row4_col11\" class=\"data row4 col11\" >2.400486</td>\n",
       "      <td id=\"T_c1f04_row4_col12\" class=\"data row4 col12\" >0.818026</td>\n",
       "    </tr>\n",
       "    <tr>\n",
       "      <th id=\"T_c1f04_level0_row5\" class=\"row_heading level0 row5\" >5</th>\n",
       "      <td id=\"T_c1f04_row5_col0\" class=\"data row5 col0\" >-5.819974</td>\n",
       "      <td id=\"T_c1f04_row5_col1\" class=\"data row5 col1\" >-35.220824</td>\n",
       "      <td id=\"T_c1f04_row5_col2\" class=\"data row5 col2\" >12</td>\n",
       "      <td id=\"T_c1f04_row5_col3\" class=\"data row5 col3\" >0.833333</td>\n",
       "      <td id=\"T_c1f04_row5_col4\" class=\"data row5 col4\" >→</td>\n",
       "      <td id=\"T_c1f04_row5_col5\" class=\"data row5 col5\" >-5.819974</td>\n",
       "      <td id=\"T_c1f04_row5_col6\" class=\"data row5 col6\" >0.000000</td>\n",
       "      <td id=\"T_c1f04_row5_col7\" class=\"data row5 col7\" >12</td>\n",
       "      <td id=\"T_c1f04_row5_col8\" class=\"data row5 col8\" >0.833333</td>\n",
       "      <td id=\"T_c1f04_row5_col9\" class=\"data row5 col9\" > </td>\n",
       "      <td id=\"T_c1f04_row5_col10\" class=\"data row5 col10\" >2.606089</td>\n",
       "      <td id=\"T_c1f04_row5_col11\" class=\"data row5 col11\" >2.400486</td>\n",
       "      <td id=\"T_c1f04_row5_col12\" class=\"data row5 col12\" >0.653651</td>\n",
       "    </tr>\n",
       "    <tr>\n",
       "      <th id=\"T_c1f04_level0_row6\" class=\"row_heading level0 row6\" >6</th>\n",
       "      <td id=\"T_c1f04_row6_col0\" class=\"data row6 col0\" >-5.819944</td>\n",
       "      <td id=\"T_c1f04_row6_col1\" class=\"data row6 col1\" >-35.220823</td>\n",
       "      <td id=\"T_c1f04_row6_col2\" class=\"data row6 col2\" >15</td>\n",
       "      <td id=\"T_c1f04_row6_col3\" class=\"data row6 col3\" >0.833333</td>\n",
       "      <td id=\"T_c1f04_row6_col4\" class=\"data row6 col4\" >→</td>\n",
       "      <td id=\"T_c1f04_row6_col5\" class=\"data row6 col5\" >-5.819944</td>\n",
       "      <td id=\"T_c1f04_row6_col6\" class=\"data row6 col6\" >0.000000</td>\n",
       "      <td id=\"T_c1f04_row6_col7\" class=\"data row6 col7\" >15</td>\n",
       "      <td id=\"T_c1f04_row6_col8\" class=\"data row6 col8\" >0.833333</td>\n",
       "      <td id=\"T_c1f04_row6_col9\" class=\"data row6 col9\" > </td>\n",
       "      <td id=\"T_c1f04_row6_col10\" class=\"data row6 col10\" >3.070012</td>\n",
       "      <td id=\"T_c1f04_row6_col11\" class=\"data row6 col11\" >2.148721</td>\n",
       "      <td id=\"T_c1f04_row6_col12\" class=\"data row6 col12\" >0.505126</td>\n",
       "    </tr>\n",
       "    <tr>\n",
       "      <th id=\"T_c1f04_level0_row7\" class=\"row_heading level0 row7\" >7</th>\n",
       "      <td id=\"T_c1f04_row7_col0\" class=\"data row7 col0\" >-5.819908</td>\n",
       "      <td id=\"T_c1f04_row7_col1\" class=\"data row7 col1\" >-35.220810</td>\n",
       "      <td id=\"T_c1f04_row7_col2\" class=\"data row7 col2\" >18</td>\n",
       "      <td id=\"T_c1f04_row7_col3\" class=\"data row7 col3\" >0.833333</td>\n",
       "      <td id=\"T_c1f04_row7_col4\" class=\"data row7 col4\" >→</td>\n",
       "      <td id=\"T_c1f04_row7_col5\" class=\"data row7 col5\" >-5.819908</td>\n",
       "      <td id=\"T_c1f04_row7_col6\" class=\"data row7 col6\" >0.000000</td>\n",
       "      <td id=\"T_c1f04_row7_col7\" class=\"data row7 col7\" >18</td>\n",
       "      <td id=\"T_c1f04_row7_col8\" class=\"data row7 col8\" >0.833333</td>\n",
       "      <td id=\"T_c1f04_row7_col9\" class=\"data row7 col9\" > </td>\n",
       "      <td id=\"T_c1f04_row7_col10\" class=\"data row7 col10\" >2.445747</td>\n",
       "      <td id=\"T_c1f04_row7_col11\" class=\"data row7 col11\" >1.470940</td>\n",
       "      <td id=\"T_c1f04_row7_col12\" class=\"data row7 col12\" >0.484962</td>\n",
       "    </tr>\n",
       "    <tr>\n",
       "      <th id=\"T_c1f04_level0_row8\" class=\"row_heading level0 row8\" >8</th>\n",
       "      <td id=\"T_c1f04_row8_col0\" class=\"data row8 col0\" >-5.819866</td>\n",
       "      <td id=\"T_c1f04_row8_col1\" class=\"data row8 col1\" >-35.220794</td>\n",
       "      <td id=\"T_c1f04_row8_col2\" class=\"data row8 col2\" >18</td>\n",
       "      <td id=\"T_c1f04_row8_col3\" class=\"data row8 col3\" >0.000000</td>\n",
       "      <td id=\"T_c1f04_row8_col4\" class=\"data row8 col4\" >→</td>\n",
       "      <td id=\"T_c1f04_row8_col5\" class=\"data row8 col5\" >-5.819866</td>\n",
       "      <td id=\"T_c1f04_row8_col6\" class=\"data row8 col6\" >0.000000</td>\n",
       "      <td id=\"T_c1f04_row8_col7\" class=\"data row8 col7\" >18</td>\n",
       "      <td id=\"T_c1f04_row8_col8\" class=\"data row8 col8\" >0.000000</td>\n",
       "      <td id=\"T_c1f04_row8_col9\" class=\"data row8 col9\" > </td>\n",
       "      <td id=\"T_c1f04_row8_col10\" class=\"data row8 col10\" >1.073221</td>\n",
       "      <td id=\"T_c1f04_row8_col11\" class=\"data row8 col11\" >1.588029</td>\n",
       "      <td id=\"T_c1f04_row8_col12\" class=\"data row8 col12\" >0.481107</td>\n",
       "    </tr>\n",
       "    <tr>\n",
       "      <th id=\"T_c1f04_level0_row9\" class=\"row_heading level0 row9\" >9</th>\n",
       "      <td id=\"T_c1f04_row9_col0\" class=\"data row9 col0\" >-5.819821</td>\n",
       "      <td id=\"T_c1f04_row9_col1\" class=\"data row9 col1\" >-35.220775</td>\n",
       "      <td id=\"T_c1f04_row9_col2\" class=\"data row9 col2\" >16</td>\n",
       "      <td id=\"T_c1f04_row9_col3\" class=\"data row9 col3\" >-0.555556</td>\n",
       "      <td id=\"T_c1f04_row9_col4\" class=\"data row9 col4\" >→</td>\n",
       "      <td id=\"T_c1f04_row9_col5\" class=\"data row9 col5\" >-5.819821</td>\n",
       "      <td id=\"T_c1f04_row9_col6\" class=\"data row9 col6\" >0.000000</td>\n",
       "      <td id=\"T_c1f04_row9_col7\" class=\"data row9 col7\" >16</td>\n",
       "      <td id=\"T_c1f04_row9_col8\" class=\"data row9 col8\" >-0.555556</td>\n",
       "      <td id=\"T_c1f04_row9_col9\" class=\"data row9 col9\" > </td>\n",
       "      <td id=\"T_c1f04_row9_col10\" class=\"data row9 col10\" >0.562265</td>\n",
       "      <td id=\"T_c1f04_row9_col11\" class=\"data row9 col11\" >1.085921</td>\n",
       "      <td id=\"T_c1f04_row9_col12\" class=\"data row9 col12\" >0.750878</td>\n",
       "    </tr>\n",
       "  </tbody>\n",
       "</table>\n"
      ],
      "text/plain": [
       "<pandas.io.formats.style.Styler at 0x1bd896ec550>"
      ]
     },
     "metadata": {},
     "output_type": "display_data"
    },
    {
     "data": {
      "application/vnd.plotly.v1+json": {
       "config": {
        "plotlyServerURL": "https://plot.ly"
       },
       "data": [
        {
         "line": {
          "color": "green",
          "dash": "dot"
         },
         "mode": "lines",
         "name": "Real",
         "type": "scatter",
         "y": {
          "bdata": "fgFSsvAK8D+A9UFnuTbwP+sFLaeytQBAlHGRLVkYAkBCucXSWf4DQEt9dVtF2QRAqBJmS2KPCEA+120O5JADQCN/TinqK/E/+as09BP+4T+aTWFMs5viP5pNYUyzm+I/XDzytNji+j+dNUG2RPMCQCiGK0XJLgZAUV/NH7tGBUCt9L0P2PwIQMoh0PdM4gZALUmGV/HwAUC7e8iq65kFQJWKBjqL2QZAPtdtDuSQA0A+120O5JADQD/LXcOsvPM/G9QTrTAS5T+dNUG2RPPiPz7XbQ7kkOM/PtdtDuSQ4z+N38u90b/qPypPDv0M2/E/XDzytNjiCkCoDN6lRqUIQKgM3qVGpQhA8yxc66J8D0BuxFHGr5gMQIjedkcOpwVAJ4Cjn61EBkBRX80fu0YFQLWf+IuRFgVAtZ/4i5EWBUBZCgicdGDxP1JTvdSDcvU/1NlvNQHp9z+u1cBdilHkP67VwF2KUeQ/oGcrz6h17D9QRlgTiYXwP5J9oXiQ7PE/kn2heJDs8T/DRQDZ8l7mP79dIG9hB+Y/v10gb2EH5j+/XSBvYQfmP2LnLDGS/OY/sOIlH4U+6T/qekRTCmDuP6BnK8+odew/mWxe/gBHB0CpJVOyeGYNQIFGKTJrZA5AgUYpMmtkDkDqCPF5wKoQQNfm1Pb71QxA1+bU9vvVDEDDRQDZ8l7mP8A4mxf4ceE/+as09BP+4T9i5ywxkvzmP2LnLDGS/OY/QeTSz9596D9B5NLP3n3oPzJEUyiZH+c/MkRTKJkf5z95fPEDZJ/tP3l88QNkn+0/2trEq8QB7T8Lfp60vd7sP9by5EEzquw/LlxzvgfI5j8uXHO+B8jmP79dIG9hB+Y/idJm/NbS5T/DRQDZ8l7mP/jQuUt9k+Y/+NC5S32T5j8g7t0vJuzuPwt+nrS93uw/nH9LZRce7D9q3HFcHkHsP2rccVweQew/H7zzFsJp5T8fvPMWwmnlP/jQuUt9k+Y/LlxzvgfI5j8uXHO+B8jmPy5cc74HyOY/atxxXB5B7D9q3HFcHkHsPwt+nrS93uw/1vLkQTOq7D8=",
          "dtype": "f8"
         }
        },
        {
         "line": {
          "color": "blue",
          "dash": "dash"
         },
         "mode": "lines",
         "name": "Predição Original",
         "type": "scatter",
         "y": {
          "bdata": "nyhPnflO9z9gHHYQcETwP58oT535Tvc/NcYJ3ivx/z/H027bMTQDQMfTbtsxNANAW6JizpQwAUDSiMQk+Ij3P/2q4seQaPk/ZH6eRe5f8T9BGZ5ZmvD3PzitkrX97Pg/sjPog+dN+z+SSuHot2oCQJww0qNNLgNA8cQEdVL2B0A1HTGC8yUFQJ1s4cie0QVAPEfMwV4IAkA8R8zBXggCQF2Pwwd46AFAbpuVTxN2+j/IvXHXsBP6P0OwSlf+P/c/2pPnoDIS6T+hOYU4eCfuPxp0K9BUbOo/ThQjZ9o8AEBABo/x9pL3P3F+mAxJHfY/vjt97VxcAkC1xmrF5DgDQOa6Z/pAWAZAUonaDz/zBED9aMiraIEDQPruFYWieANA+u4VhaJ4A0CoKE294o/7Pxk9jtecgfw/S7H7xD8A/j92WkFYmFz2P7S5Onx/Bvo/RX1rWH4i8z/oY5hva434P1TJv1Fh2es/2F3p5aM27D+RtiC+vPzzP6NexDxw2fI/XyhyWTnN9D+DFQQ4srDxP7jtWJ1vMew/uO1YnW8x7D+47VidbzHsP7jtWJ1vMew/uO1YnW8x7D+47VidbzHsP7jtWJ1vMew/uO1YnW8x7D8nAD+TNLUCQNaKcWWMugZA0Uv5KVIhCEA+8WTkUCIIQPi+a1e0Yw5Ayp9UILRhDkDaMTNkxTIBQMaASEASVe8/28WzSFf/7z9COf9b/WfwPxW/p/5ScP0/VZWNuaJb6j9o0D7Y66zqP2jQPtjrrOo/aNA+2Ous6j9o0D7Y66zqP2jQPtjrrOo/aNA+2Ous6j9o0D7Y66zqP2jQPtjrrOo/aNA+2Ous6j9o0D7Y66zqP2jQPtjrrOo/aNA+2Ous6j9o0D7Y66zqP2jQPtjrrOo/aNA+2Ous6j9o0D7Y66zqP2jQPtjrrOo/aNA+2Ous6j9o0D7Y66zqP2jQPtjrrOo/aNA+2Ous6j9o0D7Y66zqP2jQPtjrrOo/aNA+2Ous6j9o0D7Y66zqP2jQPtjrrOo/aNA+2Ous6j9o0D7Y66zqP2jQPtjrrOo/aNA+2Ous6j8=",
          "dtype": "f8"
         }
        },
        {
         "line": {
          "color": "red"
         },
         "mode": "lines",
         "name": "Predição com RM",
         "type": "scatter",
         "y": {
          "bdata": "8kUPmxqu1j810IvrcTfkP/JFD5sartY/OMeRcU9e4j9bihooRS3qP6ZmzIO06uQ/zZ/SF/4p4D/SXSqjnQnfP+nrMH9zyt4/W3/OtjEH6D+aWRGVSsXpPxIUudmWIuk/4/xYm2Zx6z+mZsyDtOrkP6ZmzIO06uQ/zZ/SF/4p4D+H/+sGlmz7Pxbrr/vbSeg/ISCSAMxh7z8+8DQD/PjvP7bR76IVAP8/E4Dw3ffE+T9zEc/+hRr5P/NWePV9hwNAb/YGsT998D8LCvrmkvjwP3o5lxH2y+c/PdDFNj1r5z8mGp5sjb/oP4YyAIHF/eo/266hKemJ5T/brqEp6YnlP9aguiBhteU/oMMavxWy/j+26HCydXn9P5vtFWCfA+s/m+0VYJ8D6z8MrYkYfGD6P6HKNlFraf8//Xg3jE0u+j90IuCJLQT8P5gqArdD2QFAahQjRR64+D9pxWODp5n+Pwi8BR0yd+g/OW1ihOFI5z82WCKumLjqP6x4RXq7au0/FCFbLbZ+6D/0eGYk2rHrP9Tgiwi0e+s/1OCLCLR76z/U4IsItHvrP9Tgiwi0e+s/1OCLCLR76z/U4IsItHvrP9Tgiwi0e+s/1OCLCLR76z87yiu2vUf7P6oKtJM1AwJA3NknchK95D9IQi+H5JACQMK0NnxDbug/8tFUa4s86D8YYldHzijpP/XN+ebkv+c/0YxtdFbF5T/WkmK5ImXnP+YpQYkKBdc/3M+OQCKJ6T/Z0xTaq9TmP9nTFNqr1OY/2dMU2qvU5j/Z0xTaq9TmP9nTFNqr1OY/2dMU2qvU5j/Z0xTaq9TmP9nTFNqr1OY/2dMU2qvU5j/Z0xTaq9TmP9nTFNqr1OY/2dMU2qvU5j/Z0xTaq9TmP9nTFNqr1OY/2dMU2qvU5j/Z0xTaq9TmP9nTFNqr1OY/2dMU2qvU5j/Z0xTaq9TmP9nTFNqr1OY/2dMU2qvU5j/Z0xTaq9TmP9nTFNqr1OY/2dMU2qvU5j/Z0xTaq9TmP9nTFNqr1OY/2dMU2qvU5j/Z0xTaq9TmP9nTFNqr1OY/2dMU2qvU5j8=",
          "dtype": "f8"
         }
        }
       ],
       "layout": {
        "template": {
         "data": {
          "bar": [
           {
            "error_x": {
             "color": "#2a3f5f"
            },
            "error_y": {
             "color": "#2a3f5f"
            },
            "marker": {
             "line": {
              "color": "white",
              "width": 0.5
             },
             "pattern": {
              "fillmode": "overlay",
              "size": 10,
              "solidity": 0.2
             }
            },
            "type": "bar"
           }
          ],
          "barpolar": [
           {
            "marker": {
             "line": {
              "color": "white",
              "width": 0.5
             },
             "pattern": {
              "fillmode": "overlay",
              "size": 10,
              "solidity": 0.2
             }
            },
            "type": "barpolar"
           }
          ],
          "carpet": [
           {
            "aaxis": {
             "endlinecolor": "#2a3f5f",
             "gridcolor": "#C8D4E3",
             "linecolor": "#C8D4E3",
             "minorgridcolor": "#C8D4E3",
             "startlinecolor": "#2a3f5f"
            },
            "baxis": {
             "endlinecolor": "#2a3f5f",
             "gridcolor": "#C8D4E3",
             "linecolor": "#C8D4E3",
             "minorgridcolor": "#C8D4E3",
             "startlinecolor": "#2a3f5f"
            },
            "type": "carpet"
           }
          ],
          "choropleth": [
           {
            "colorbar": {
             "outlinewidth": 0,
             "ticks": ""
            },
            "type": "choropleth"
           }
          ],
          "contour": [
           {
            "colorbar": {
             "outlinewidth": 0,
             "ticks": ""
            },
            "colorscale": [
             [
              0,
              "#0d0887"
             ],
             [
              0.1111111111111111,
              "#46039f"
             ],
             [
              0.2222222222222222,
              "#7201a8"
             ],
             [
              0.3333333333333333,
              "#9c179e"
             ],
             [
              0.4444444444444444,
              "#bd3786"
             ],
             [
              0.5555555555555556,
              "#d8576b"
             ],
             [
              0.6666666666666666,
              "#ed7953"
             ],
             [
              0.7777777777777778,
              "#fb9f3a"
             ],
             [
              0.8888888888888888,
              "#fdca26"
             ],
             [
              1,
              "#f0f921"
             ]
            ],
            "type": "contour"
           }
          ],
          "contourcarpet": [
           {
            "colorbar": {
             "outlinewidth": 0,
             "ticks": ""
            },
            "type": "contourcarpet"
           }
          ],
          "heatmap": [
           {
            "colorbar": {
             "outlinewidth": 0,
             "ticks": ""
            },
            "colorscale": [
             [
              0,
              "#0d0887"
             ],
             [
              0.1111111111111111,
              "#46039f"
             ],
             [
              0.2222222222222222,
              "#7201a8"
             ],
             [
              0.3333333333333333,
              "#9c179e"
             ],
             [
              0.4444444444444444,
              "#bd3786"
             ],
             [
              0.5555555555555556,
              "#d8576b"
             ],
             [
              0.6666666666666666,
              "#ed7953"
             ],
             [
              0.7777777777777778,
              "#fb9f3a"
             ],
             [
              0.8888888888888888,
              "#fdca26"
             ],
             [
              1,
              "#f0f921"
             ]
            ],
            "type": "heatmap"
           }
          ],
          "histogram": [
           {
            "marker": {
             "pattern": {
              "fillmode": "overlay",
              "size": 10,
              "solidity": 0.2
             }
            },
            "type": "histogram"
           }
          ],
          "histogram2d": [
           {
            "colorbar": {
             "outlinewidth": 0,
             "ticks": ""
            },
            "colorscale": [
             [
              0,
              "#0d0887"
             ],
             [
              0.1111111111111111,
              "#46039f"
             ],
             [
              0.2222222222222222,
              "#7201a8"
             ],
             [
              0.3333333333333333,
              "#9c179e"
             ],
             [
              0.4444444444444444,
              "#bd3786"
             ],
             [
              0.5555555555555556,
              "#d8576b"
             ],
             [
              0.6666666666666666,
              "#ed7953"
             ],
             [
              0.7777777777777778,
              "#fb9f3a"
             ],
             [
              0.8888888888888888,
              "#fdca26"
             ],
             [
              1,
              "#f0f921"
             ]
            ],
            "type": "histogram2d"
           }
          ],
          "histogram2dcontour": [
           {
            "colorbar": {
             "outlinewidth": 0,
             "ticks": ""
            },
            "colorscale": [
             [
              0,
              "#0d0887"
             ],
             [
              0.1111111111111111,
              "#46039f"
             ],
             [
              0.2222222222222222,
              "#7201a8"
             ],
             [
              0.3333333333333333,
              "#9c179e"
             ],
             [
              0.4444444444444444,
              "#bd3786"
             ],
             [
              0.5555555555555556,
              "#d8576b"
             ],
             [
              0.6666666666666666,
              "#ed7953"
             ],
             [
              0.7777777777777778,
              "#fb9f3a"
             ],
             [
              0.8888888888888888,
              "#fdca26"
             ],
             [
              1,
              "#f0f921"
             ]
            ],
            "type": "histogram2dcontour"
           }
          ],
          "mesh3d": [
           {
            "colorbar": {
             "outlinewidth": 0,
             "ticks": ""
            },
            "type": "mesh3d"
           }
          ],
          "parcoords": [
           {
            "line": {
             "colorbar": {
              "outlinewidth": 0,
              "ticks": ""
             }
            },
            "type": "parcoords"
           }
          ],
          "pie": [
           {
            "automargin": true,
            "type": "pie"
           }
          ],
          "scatter": [
           {
            "fillpattern": {
             "fillmode": "overlay",
             "size": 10,
             "solidity": 0.2
            },
            "type": "scatter"
           }
          ],
          "scatter3d": [
           {
            "line": {
             "colorbar": {
              "outlinewidth": 0,
              "ticks": ""
             }
            },
            "marker": {
             "colorbar": {
              "outlinewidth": 0,
              "ticks": ""
             }
            },
            "type": "scatter3d"
           }
          ],
          "scattercarpet": [
           {
            "marker": {
             "colorbar": {
              "outlinewidth": 0,
              "ticks": ""
             }
            },
            "type": "scattercarpet"
           }
          ],
          "scattergeo": [
           {
            "marker": {
             "colorbar": {
              "outlinewidth": 0,
              "ticks": ""
             }
            },
            "type": "scattergeo"
           }
          ],
          "scattergl": [
           {
            "marker": {
             "colorbar": {
              "outlinewidth": 0,
              "ticks": ""
             }
            },
            "type": "scattergl"
           }
          ],
          "scattermap": [
           {
            "marker": {
             "colorbar": {
              "outlinewidth": 0,
              "ticks": ""
             }
            },
            "type": "scattermap"
           }
          ],
          "scattermapbox": [
           {
            "marker": {
             "colorbar": {
              "outlinewidth": 0,
              "ticks": ""
             }
            },
            "type": "scattermapbox"
           }
          ],
          "scatterpolar": [
           {
            "marker": {
             "colorbar": {
              "outlinewidth": 0,
              "ticks": ""
             }
            },
            "type": "scatterpolar"
           }
          ],
          "scatterpolargl": [
           {
            "marker": {
             "colorbar": {
              "outlinewidth": 0,
              "ticks": ""
             }
            },
            "type": "scatterpolargl"
           }
          ],
          "scatterternary": [
           {
            "marker": {
             "colorbar": {
              "outlinewidth": 0,
              "ticks": ""
             }
            },
            "type": "scatterternary"
           }
          ],
          "surface": [
           {
            "colorbar": {
             "outlinewidth": 0,
             "ticks": ""
            },
            "colorscale": [
             [
              0,
              "#0d0887"
             ],
             [
              0.1111111111111111,
              "#46039f"
             ],
             [
              0.2222222222222222,
              "#7201a8"
             ],
             [
              0.3333333333333333,
              "#9c179e"
             ],
             [
              0.4444444444444444,
              "#bd3786"
             ],
             [
              0.5555555555555556,
              "#d8576b"
             ],
             [
              0.6666666666666666,
              "#ed7953"
             ],
             [
              0.7777777777777778,
              "#fb9f3a"
             ],
             [
              0.8888888888888888,
              "#fdca26"
             ],
             [
              1,
              "#f0f921"
             ]
            ],
            "type": "surface"
           }
          ],
          "table": [
           {
            "cells": {
             "fill": {
              "color": "#EBF0F8"
             },
             "line": {
              "color": "white"
             }
            },
            "header": {
             "fill": {
              "color": "#C8D4E3"
             },
             "line": {
              "color": "white"
             }
            },
            "type": "table"
           }
          ]
         },
         "layout": {
          "annotationdefaults": {
           "arrowcolor": "#2a3f5f",
           "arrowhead": 0,
           "arrowwidth": 1
          },
          "autotypenumbers": "strict",
          "coloraxis": {
           "colorbar": {
            "outlinewidth": 0,
            "ticks": ""
           }
          },
          "colorscale": {
           "diverging": [
            [
             0,
             "#8e0152"
            ],
            [
             0.1,
             "#c51b7d"
            ],
            [
             0.2,
             "#de77ae"
            ],
            [
             0.3,
             "#f1b6da"
            ],
            [
             0.4,
             "#fde0ef"
            ],
            [
             0.5,
             "#f7f7f7"
            ],
            [
             0.6,
             "#e6f5d0"
            ],
            [
             0.7,
             "#b8e186"
            ],
            [
             0.8,
             "#7fbc41"
            ],
            [
             0.9,
             "#4d9221"
            ],
            [
             1,
             "#276419"
            ]
           ],
           "sequential": [
            [
             0,
             "#0d0887"
            ],
            [
             0.1111111111111111,
             "#46039f"
            ],
            [
             0.2222222222222222,
             "#7201a8"
            ],
            [
             0.3333333333333333,
             "#9c179e"
            ],
            [
             0.4444444444444444,
             "#bd3786"
            ],
            [
             0.5555555555555556,
             "#d8576b"
            ],
            [
             0.6666666666666666,
             "#ed7953"
            ],
            [
             0.7777777777777778,
             "#fb9f3a"
            ],
            [
             0.8888888888888888,
             "#fdca26"
            ],
            [
             1,
             "#f0f921"
            ]
           ],
           "sequentialminus": [
            [
             0,
             "#0d0887"
            ],
            [
             0.1111111111111111,
             "#46039f"
            ],
            [
             0.2222222222222222,
             "#7201a8"
            ],
            [
             0.3333333333333333,
             "#9c179e"
            ],
            [
             0.4444444444444444,
             "#bd3786"
            ],
            [
             0.5555555555555556,
             "#d8576b"
            ],
            [
             0.6666666666666666,
             "#ed7953"
            ],
            [
             0.7777777777777778,
             "#fb9f3a"
            ],
            [
             0.8888888888888888,
             "#fdca26"
            ],
            [
             1,
             "#f0f921"
            ]
           ]
          },
          "colorway": [
           "#636efa",
           "#EF553B",
           "#00cc96",
           "#ab63fa",
           "#FFA15A",
           "#19d3f3",
           "#FF6692",
           "#B6E880",
           "#FF97FF",
           "#FECB52"
          ],
          "font": {
           "color": "#2a3f5f"
          },
          "geo": {
           "bgcolor": "white",
           "lakecolor": "white",
           "landcolor": "white",
           "showlakes": true,
           "showland": true,
           "subunitcolor": "#C8D4E3"
          },
          "hoverlabel": {
           "align": "left"
          },
          "hovermode": "closest",
          "mapbox": {
           "style": "light"
          },
          "paper_bgcolor": "white",
          "plot_bgcolor": "white",
          "polar": {
           "angularaxis": {
            "gridcolor": "#EBF0F8",
            "linecolor": "#EBF0F8",
            "ticks": ""
           },
           "bgcolor": "white",
           "radialaxis": {
            "gridcolor": "#EBF0F8",
            "linecolor": "#EBF0F8",
            "ticks": ""
           }
          },
          "scene": {
           "xaxis": {
            "backgroundcolor": "white",
            "gridcolor": "#DFE8F3",
            "gridwidth": 2,
            "linecolor": "#EBF0F8",
            "showbackground": true,
            "ticks": "",
            "zerolinecolor": "#EBF0F8"
           },
           "yaxis": {
            "backgroundcolor": "white",
            "gridcolor": "#DFE8F3",
            "gridwidth": 2,
            "linecolor": "#EBF0F8",
            "showbackground": true,
            "ticks": "",
            "zerolinecolor": "#EBF0F8"
           },
           "zaxis": {
            "backgroundcolor": "white",
            "gridcolor": "#DFE8F3",
            "gridwidth": 2,
            "linecolor": "#EBF0F8",
            "showbackground": true,
            "ticks": "",
            "zerolinecolor": "#EBF0F8"
           }
          },
          "shapedefaults": {
           "line": {
            "color": "#2a3f5f"
           }
          },
          "ternary": {
           "aaxis": {
            "gridcolor": "#DFE8F3",
            "linecolor": "#A2B1C6",
            "ticks": ""
           },
           "baxis": {
            "gridcolor": "#DFE8F3",
            "linecolor": "#A2B1C6",
            "ticks": ""
           },
           "bgcolor": "white",
           "caxis": {
            "gridcolor": "#DFE8F3",
            "linecolor": "#A2B1C6",
            "ticks": ""
           }
          },
          "title": {
           "x": 0.05
          },
          "xaxis": {
           "automargin": true,
           "gridcolor": "#EBF0F8",
           "linecolor": "#EBF0F8",
           "ticks": "",
           "title": {
            "standoff": 15
           },
           "zerolinecolor": "#EBF0F8",
           "zerolinewidth": 2
          },
          "yaxis": {
           "automargin": true,
           "gridcolor": "#EBF0F8",
           "linecolor": "#EBF0F8",
           "ticks": "",
           "title": {
            "standoff": 15
           },
           "zerolinecolor": "#EBF0F8",
           "zerolinewidth": 2
          }
         }
        },
        "title": {
         "text": "Comparação CO₂ - Caso de teste: RM3 - Longitude nula (mantendo demais variáveis) - GASOLINE",
         "x": 0.5
        },
        "xaxis": {
         "title": {
          "text": "Amostras"
         }
        },
        "yaxis": {
         "title": {
          "text": "CO₂ (g/s)"
         }
        }
       }
      }
     },
     "metadata": {},
     "output_type": "display_data"
    },
    {
     "name": "stdout",
     "output_type": "stream",
     "text": [
      "\n",
      "🔁 Caso de teste: RM4 - Aceleração nula (mantendo demais variáveis) (ETHANOL)\n",
      "Diferença Média: 0.0817 | Diferença Máxima: 1.4412 | Erro Quadrático Médio (RMSE): 0.1847 | Desvio Padrão (Std): 0.1657\n"
     ]
    },
    {
     "data": {
      "text/html": [
       "<style type=\"text/css\">\n",
       "</style>\n",
       "<table id=\"T_f4ee0\">\n",
       "  <caption>Comparação dos dados originais e modificados - Caso de teste: RM4 - Aceleração nula (mantendo demais variáveis) (ETHANOL)</caption>\n",
       "  <thead>\n",
       "    <tr>\n",
       "      <th class=\"blank level0\" >&nbsp;</th>\n",
       "      <th id=\"T_f4ee0_level0_col0\" class=\"col_heading level0 col0\" >Latitude_Orig</th>\n",
       "      <th id=\"T_f4ee0_level0_col1\" class=\"col_heading level0 col1\" >Longitude_Orig</th>\n",
       "      <th id=\"T_f4ee0_level0_col2\" class=\"col_heading level0 col2\" >Speed(OBD)(km/h)_Orig</th>\n",
       "      <th id=\"T_f4ee0_level0_col3\" class=\"col_heading level0 col3\" >Acceleration_Orig</th>\n",
       "      <th id=\"T_f4ee0_level0_col4\" class=\"col_heading level0 col4\" > </th>\n",
       "      <th id=\"T_f4ee0_level0_col5\" class=\"col_heading level0 col5\" >Latitude_Mod</th>\n",
       "      <th id=\"T_f4ee0_level0_col6\" class=\"col_heading level0 col6\" >Longitude_Mod</th>\n",
       "      <th id=\"T_f4ee0_level0_col7\" class=\"col_heading level0 col7\" >Speed(OBD)(km/h)_Mod</th>\n",
       "      <th id=\"T_f4ee0_level0_col8\" class=\"col_heading level0 col8\" >Acceleration_Mod</th>\n",
       "      <th id=\"T_f4ee0_level0_col9\" class=\"col_heading level0 col9\" > </th>\n",
       "      <th id=\"T_f4ee0_level0_col10\" class=\"col_heading level0 col10\" >CO₂_Real</th>\n",
       "      <th id=\"T_f4ee0_level0_col11\" class=\"col_heading level0 col11\" >CO₂_Orig</th>\n",
       "      <th id=\"T_f4ee0_level0_col12\" class=\"col_heading level0 col12\" >CO₂_Mod</th>\n",
       "    </tr>\n",
       "  </thead>\n",
       "  <tbody>\n",
       "    <tr>\n",
       "      <th id=\"T_f4ee0_level0_row0\" class=\"row_heading level0 row0\" >0</th>\n",
       "      <td id=\"T_f4ee0_row0_col0\" class=\"data row0 col0\" >-5.820105</td>\n",
       "      <td id=\"T_f4ee0_row0_col1\" class=\"data row0 col1\" >-35.220818</td>\n",
       "      <td id=\"T_f4ee0_row0_col2\" class=\"data row0 col2\" >3</td>\n",
       "      <td id=\"T_f4ee0_row0_col3\" class=\"data row0 col3\" >0.000000</td>\n",
       "      <td id=\"T_f4ee0_row0_col4\" class=\"data row0 col4\" >→</td>\n",
       "      <td id=\"T_f4ee0_row0_col5\" class=\"data row0 col5\" >-5.820105</td>\n",
       "      <td id=\"T_f4ee0_row0_col6\" class=\"data row0 col6\" >-35.220818</td>\n",
       "      <td id=\"T_f4ee0_row0_col7\" class=\"data row0 col7\" >3</td>\n",
       "      <td id=\"T_f4ee0_row0_col8\" class=\"data row0 col8\" >0.000000</td>\n",
       "      <td id=\"T_f4ee0_row0_col9\" class=\"data row0 col9\" > </td>\n",
       "      <td id=\"T_f4ee0_row0_col10\" class=\"data row0 col10\" >0.642839</td>\n",
       "      <td id=\"T_f4ee0_row0_col11\" class=\"data row0 col11\" >0.742631</td>\n",
       "      <td id=\"T_f4ee0_row0_col12\" class=\"data row0 col12\" >0.742631</td>\n",
       "    </tr>\n",
       "    <tr>\n",
       "      <th id=\"T_f4ee0_level0_row1\" class=\"row_heading level0 row1\" >1</th>\n",
       "      <td id=\"T_f4ee0_row1_col0\" class=\"data row1 col0\" >-5.820103</td>\n",
       "      <td id=\"T_f4ee0_row1_col1\" class=\"data row1 col1\" >-35.220828</td>\n",
       "      <td id=\"T_f4ee0_row1_col2\" class=\"data row1 col2\" >5</td>\n",
       "      <td id=\"T_f4ee0_row1_col3\" class=\"data row1 col3\" >0.555556</td>\n",
       "      <td id=\"T_f4ee0_row1_col4\" class=\"data row1 col4\" >→</td>\n",
       "      <td id=\"T_f4ee0_row1_col5\" class=\"data row1 col5\" >-5.820103</td>\n",
       "      <td id=\"T_f4ee0_row1_col6\" class=\"data row1 col6\" >-35.220828</td>\n",
       "      <td id=\"T_f4ee0_row1_col7\" class=\"data row1 col7\" >5</td>\n",
       "      <td id=\"T_f4ee0_row1_col8\" class=\"data row1 col8\" >0.000000</td>\n",
       "      <td id=\"T_f4ee0_row1_col9\" class=\"data row1 col9\" > </td>\n",
       "      <td id=\"T_f4ee0_row1_col10\" class=\"data row1 col10\" >0.653249</td>\n",
       "      <td id=\"T_f4ee0_row1_col11\" class=\"data row1 col11\" >0.771505</td>\n",
       "      <td id=\"T_f4ee0_row1_col12\" class=\"data row1 col12\" >0.771505</td>\n",
       "    </tr>\n",
       "    <tr>\n",
       "      <th id=\"T_f4ee0_level0_row2\" class=\"row_heading level0 row2\" >2</th>\n",
       "      <td id=\"T_f4ee0_row2_col0\" class=\"data row2 col0\" >-5.820102</td>\n",
       "      <td id=\"T_f4ee0_row2_col1\" class=\"data row2 col1\" >-35.220838</td>\n",
       "      <td id=\"T_f4ee0_row2_col2\" class=\"data row2 col2\" >5</td>\n",
       "      <td id=\"T_f4ee0_row2_col3\" class=\"data row2 col3\" >0.000000</td>\n",
       "      <td id=\"T_f4ee0_row2_col4\" class=\"data row2 col4\" >→</td>\n",
       "      <td id=\"T_f4ee0_row2_col5\" class=\"data row2 col5\" >-5.820102</td>\n",
       "      <td id=\"T_f4ee0_row2_col6\" class=\"data row2 col6\" >-35.220838</td>\n",
       "      <td id=\"T_f4ee0_row2_col7\" class=\"data row2 col7\" >5</td>\n",
       "      <td id=\"T_f4ee0_row2_col8\" class=\"data row2 col8\" >0.000000</td>\n",
       "      <td id=\"T_f4ee0_row2_col9\" class=\"data row2 col9\" > </td>\n",
       "      <td id=\"T_f4ee0_row2_col10\" class=\"data row2 col10\" >0.653249</td>\n",
       "      <td id=\"T_f4ee0_row2_col11\" class=\"data row2 col11\" >0.771505</td>\n",
       "      <td id=\"T_f4ee0_row2_col12\" class=\"data row2 col12\" >0.771505</td>\n",
       "    </tr>\n",
       "    <tr>\n",
       "      <th id=\"T_f4ee0_level0_row3\" class=\"row_heading level0 row3\" >3</th>\n",
       "      <td id=\"T_f4ee0_row3_col0\" class=\"data row3 col0\" >-5.820096</td>\n",
       "      <td id=\"T_f4ee0_row3_col1\" class=\"data row3 col1\" >-35.220843</td>\n",
       "      <td id=\"T_f4ee0_row3_col2\" class=\"data row3 col2\" >3</td>\n",
       "      <td id=\"T_f4ee0_row3_col3\" class=\"data row3 col3\" >-0.555556</td>\n",
       "      <td id=\"T_f4ee0_row3_col4\" class=\"data row3 col4\" >→</td>\n",
       "      <td id=\"T_f4ee0_row3_col5\" class=\"data row3 col5\" >-5.820096</td>\n",
       "      <td id=\"T_f4ee0_row3_col6\" class=\"data row3 col6\" >-35.220843</td>\n",
       "      <td id=\"T_f4ee0_row3_col7\" class=\"data row3 col7\" >3</td>\n",
       "      <td id=\"T_f4ee0_row3_col8\" class=\"data row3 col8\" >0.000000</td>\n",
       "      <td id=\"T_f4ee0_row3_col9\" class=\"data row3 col9\" > </td>\n",
       "      <td id=\"T_f4ee0_row3_col10\" class=\"data row3 col10\" >0.679275</td>\n",
       "      <td id=\"T_f4ee0_row3_col11\" class=\"data row3 col11\" >0.659013</td>\n",
       "      <td id=\"T_f4ee0_row3_col12\" class=\"data row3 col12\" >0.742631</td>\n",
       "    </tr>\n",
       "    <tr>\n",
       "      <th id=\"T_f4ee0_level0_row4\" class=\"row_heading level0 row4\" >4</th>\n",
       "      <td id=\"T_f4ee0_row4_col0\" class=\"data row4 col0\" >-5.820091</td>\n",
       "      <td id=\"T_f4ee0_row4_col1\" class=\"data row4 col1\" >-35.220850</td>\n",
       "      <td id=\"T_f4ee0_row4_col2\" class=\"data row4 col2\" >0</td>\n",
       "      <td id=\"T_f4ee0_row4_col3\" class=\"data row4 col3\" >-0.833333</td>\n",
       "      <td id=\"T_f4ee0_row4_col4\" class=\"data row4 col4\" >→</td>\n",
       "      <td id=\"T_f4ee0_row4_col5\" class=\"data row4 col5\" >-5.820091</td>\n",
       "      <td id=\"T_f4ee0_row4_col6\" class=\"data row4 col6\" >-35.220850</td>\n",
       "      <td id=\"T_f4ee0_row4_col7\" class=\"data row4 col7\" >0</td>\n",
       "      <td id=\"T_f4ee0_row4_col8\" class=\"data row4 col8\" >0.000000</td>\n",
       "      <td id=\"T_f4ee0_row4_col9\" class=\"data row4 col9\" > </td>\n",
       "      <td id=\"T_f4ee0_row4_col10\" class=\"data row4 col10\" >0.610306</td>\n",
       "      <td id=\"T_f4ee0_row4_col11\" class=\"data row4 col11\" >0.667689</td>\n",
       "      <td id=\"T_f4ee0_row4_col12\" class=\"data row4 col12\" >0.706858</td>\n",
       "    </tr>\n",
       "    <tr>\n",
       "      <th id=\"T_f4ee0_level0_row5\" class=\"row_heading level0 row5\" >5</th>\n",
       "      <td id=\"T_f4ee0_row5_col0\" class=\"data row5 col0\" >-5.820091</td>\n",
       "      <td id=\"T_f4ee0_row5_col1\" class=\"data row5 col1\" >-35.220850</td>\n",
       "      <td id=\"T_f4ee0_row5_col2\" class=\"data row5 col2\" >0</td>\n",
       "      <td id=\"T_f4ee0_row5_col3\" class=\"data row5 col3\" >0.000000</td>\n",
       "      <td id=\"T_f4ee0_row5_col4\" class=\"data row5 col4\" >→</td>\n",
       "      <td id=\"T_f4ee0_row5_col5\" class=\"data row5 col5\" >-5.820091</td>\n",
       "      <td id=\"T_f4ee0_row5_col6\" class=\"data row5 col6\" >-35.220850</td>\n",
       "      <td id=\"T_f4ee0_row5_col7\" class=\"data row5 col7\" >0</td>\n",
       "      <td id=\"T_f4ee0_row5_col8\" class=\"data row5 col8\" >0.000000</td>\n",
       "      <td id=\"T_f4ee0_row5_col9\" class=\"data row5 col9\" > </td>\n",
       "      <td id=\"T_f4ee0_row5_col10\" class=\"data row5 col10\" >0.610306</td>\n",
       "      <td id=\"T_f4ee0_row5_col11\" class=\"data row5 col11\" >0.706858</td>\n",
       "      <td id=\"T_f4ee0_row5_col12\" class=\"data row5 col12\" >0.706858</td>\n",
       "    </tr>\n",
       "    <tr>\n",
       "      <th id=\"T_f4ee0_level0_row6\" class=\"row_heading level0 row6\" >6</th>\n",
       "      <td id=\"T_f4ee0_row6_col0\" class=\"data row6 col0\" >-5.820091</td>\n",
       "      <td id=\"T_f4ee0_row6_col1\" class=\"data row6 col1\" >-35.220850</td>\n",
       "      <td id=\"T_f4ee0_row6_col2\" class=\"data row6 col2\" >0</td>\n",
       "      <td id=\"T_f4ee0_row6_col3\" class=\"data row6 col3\" >0.000000</td>\n",
       "      <td id=\"T_f4ee0_row6_col4\" class=\"data row6 col4\" >→</td>\n",
       "      <td id=\"T_f4ee0_row6_col5\" class=\"data row6 col5\" >-5.820091</td>\n",
       "      <td id=\"T_f4ee0_row6_col6\" class=\"data row6 col6\" >-35.220850</td>\n",
       "      <td id=\"T_f4ee0_row6_col7\" class=\"data row6 col7\" >0</td>\n",
       "      <td id=\"T_f4ee0_row6_col8\" class=\"data row6 col8\" >0.000000</td>\n",
       "      <td id=\"T_f4ee0_row6_col9\" class=\"data row6 col9\" > </td>\n",
       "      <td id=\"T_f4ee0_row6_col10\" class=\"data row6 col10\" >0.490587</td>\n",
       "      <td id=\"T_f4ee0_row6_col11\" class=\"data row6 col11\" >0.706858</td>\n",
       "      <td id=\"T_f4ee0_row6_col12\" class=\"data row6 col12\" >0.706858</td>\n",
       "    </tr>\n",
       "    <tr>\n",
       "      <th id=\"T_f4ee0_level0_row7\" class=\"row_heading level0 row7\" >7</th>\n",
       "      <td id=\"T_f4ee0_row7_col0\" class=\"data row7 col0\" >-5.820085</td>\n",
       "      <td id=\"T_f4ee0_row7_col1\" class=\"data row7 col1\" >-35.220856</td>\n",
       "      <td id=\"T_f4ee0_row7_col2\" class=\"data row7 col2\" >3</td>\n",
       "      <td id=\"T_f4ee0_row7_col3\" class=\"data row7 col3\" >0.833333</td>\n",
       "      <td id=\"T_f4ee0_row7_col4\" class=\"data row7 col4\" >→</td>\n",
       "      <td id=\"T_f4ee0_row7_col5\" class=\"data row7 col5\" >-5.820085</td>\n",
       "      <td id=\"T_f4ee0_row7_col6\" class=\"data row7 col6\" >-35.220856</td>\n",
       "      <td id=\"T_f4ee0_row7_col7\" class=\"data row7 col7\" >3</td>\n",
       "      <td id=\"T_f4ee0_row7_col8\" class=\"data row7 col8\" >0.000000</td>\n",
       "      <td id=\"T_f4ee0_row7_col9\" class=\"data row7 col9\" > </td>\n",
       "      <td id=\"T_f4ee0_row7_col10\" class=\"data row7 col10\" >1.090483</td>\n",
       "      <td id=\"T_f4ee0_row7_col11\" class=\"data row7 col11\" >1.137803</td>\n",
       "      <td id=\"T_f4ee0_row7_col12\" class=\"data row7 col12\" >1.137803</td>\n",
       "    </tr>\n",
       "    <tr>\n",
       "      <th id=\"T_f4ee0_level0_row8\" class=\"row_heading level0 row8\" >8</th>\n",
       "      <td id=\"T_f4ee0_row8_col0\" class=\"data row8 col0\" >-5.820074</td>\n",
       "      <td id=\"T_f4ee0_row8_col1\" class=\"data row8 col1\" >-35.220859</td>\n",
       "      <td id=\"T_f4ee0_row8_col2\" class=\"data row8 col2\" >3</td>\n",
       "      <td id=\"T_f4ee0_row8_col3\" class=\"data row8 col3\" >0.000000</td>\n",
       "      <td id=\"T_f4ee0_row8_col4\" class=\"data row8 col4\" >→</td>\n",
       "      <td id=\"T_f4ee0_row8_col5\" class=\"data row8 col5\" >-5.820074</td>\n",
       "      <td id=\"T_f4ee0_row8_col6\" class=\"data row8 col6\" >-35.220859</td>\n",
       "      <td id=\"T_f4ee0_row8_col7\" class=\"data row8 col7\" >3</td>\n",
       "      <td id=\"T_f4ee0_row8_col8\" class=\"data row8 col8\" >0.000000</td>\n",
       "      <td id=\"T_f4ee0_row8_col9\" class=\"data row8 col9\" > </td>\n",
       "      <td id=\"T_f4ee0_row8_col10\" class=\"data row8 col10\" >1.090483</td>\n",
       "      <td id=\"T_f4ee0_row8_col11\" class=\"data row8 col11\" >1.137803</td>\n",
       "      <td id=\"T_f4ee0_row8_col12\" class=\"data row8 col12\" >1.137803</td>\n",
       "    </tr>\n",
       "    <tr>\n",
       "      <th id=\"T_f4ee0_level0_row9\" class=\"row_heading level0 row9\" >9</th>\n",
       "      <td id=\"T_f4ee0_row9_col0\" class=\"data row9 col0\" >-5.820064</td>\n",
       "      <td id=\"T_f4ee0_row9_col1\" class=\"data row9 col1\" >-35.220858</td>\n",
       "      <td id=\"T_f4ee0_row9_col2\" class=\"data row9 col2\" >3</td>\n",
       "      <td id=\"T_f4ee0_row9_col3\" class=\"data row9 col3\" >0.000000</td>\n",
       "      <td id=\"T_f4ee0_row9_col4\" class=\"data row9 col4\" >→</td>\n",
       "      <td id=\"T_f4ee0_row9_col5\" class=\"data row9 col5\" >-5.820064</td>\n",
       "      <td id=\"T_f4ee0_row9_col6\" class=\"data row9 col6\" >-35.220858</td>\n",
       "      <td id=\"T_f4ee0_row9_col7\" class=\"data row9 col7\" >3</td>\n",
       "      <td id=\"T_f4ee0_row9_col8\" class=\"data row9 col8\" >0.000000</td>\n",
       "      <td id=\"T_f4ee0_row9_col9\" class=\"data row9 col9\" > </td>\n",
       "      <td id=\"T_f4ee0_row9_col10\" class=\"data row9 col10\" >0.921315</td>\n",
       "      <td id=\"T_f4ee0_row9_col11\" class=\"data row9 col11\" >1.137803</td>\n",
       "      <td id=\"T_f4ee0_row9_col12\" class=\"data row9 col12\" >1.137803</td>\n",
       "    </tr>\n",
       "  </tbody>\n",
       "</table>\n"
      ],
      "text/plain": [
       "<pandas.io.formats.style.Styler at 0x1bd8bc0ad90>"
      ]
     },
     "metadata": {},
     "output_type": "display_data"
    },
    {
     "data": {
      "application/vnd.plotly.v1+json": {
       "config": {
        "plotlyServerURL": "https://plot.ly"
       },
       "data": [
        {
         "line": {
          "color": "green",
          "dash": "dot"
         },
         "mode": "lines",
         "name": "Real",
         "type": "scatter",
         "y": {
          "bdata": "Xv2WDSKS5D+bk2QeaufkP5uTZB5q5+Q/NotmSJ685T/ehxTZoIfjP96HFNmgh+M/M5CwL8hl3z/dnA9wnnLxP92cD3CecvE/T3ASz2l77T+UX3iidnLyPz8yMAV+Z/Q/PzIwBX5n9D8ti7UITBb8PzhhcBqj5vk/KSOOULfS8D8pI45Qt9LwP7us/CApG+8/cjYv8OP84z+t9vIuJyjgP6328i4nKOA/geLz0z/39T+rgxXuOvLzP6uDFe468vM/mb1aTGW9AEB0UCWuXTcFQJNSfcM51QFAk1J9wznVAUDU4Eocwdz0P40G4N+x0N0/MaWrxsVQ3T+Gb8fSpWfjP4Zvx9KlZ+M/RJASr2yy4j+u4feXKT3iPxtsE+QD5v0/G2wT5APm/T9xVW+Vh+D+P/WBu/ZpMek/9YG79mkx6T8EcmzGOjzYP6VZboDtdf4/WOugB2mlAEBY66AHaaUAQFcs1yJHEfo/jF/HYiTM+D+vRCQpQjH6P69EJClCMfo/IlLOZdxR9j8U6vVt9WfxP9L1RbO+x/I/0vVFs77H8j9JPCZTdgbrPy3PofTAJtk/Lc+h9MAm2T83dmuxoNHXP5m9WkxlveA/wxqQeuun4T/DGpB666fhPy5sdWOoMgFAN3ZrsaDRB0CTtalUUskJQJO1qVRSyQlAUQXmhZA5CECzrwGybRkJQLOvAbJtGQlAadNRH3liAkDxyvHJCOv/P/HK8ckI6/8/ZYpqDIgCAkDcITJ38e4HQFhbyHe+Nvk/WFvId742+T+BiQxRzfvaP+KMDwAd1/Y/4owPAB3X9j9nuVth/yfxP4GJDFHN+9o/VyzXIkcR2j9XLNciRxHKPzhhcBqj5sk/mb1aTGW90D+rqr6oeQbiPxTJ619+uOE/cloUOF8j9z+cBUVJAVwCQO7F9qKMm/w/7sX2ooyb/D8XwP8/+pH1Py66pl3DO9s/YtOg3ya82D8GXXEvPVHKPwZdcS89Uco/3P87AbdmyT8zkLAvyGXPPxdp8ttk2OI/F2ny22TY4j/s9fsW3vTiP/4o4Wa23vY/g+DZ9mxa+z8=",
          "dtype": "f8"
         }
        },
        {
         "line": {
          "color": "blue",
          "dash": "dash"
         },
         "mode": "lines",
         "name": "Predição Original",
         "type": "scatter",
         "y": {
          "bdata": "A1nGMaLD5z/rGxZ+K7DoP+sbFn4rsOg/ZNKEuKEW5T8gJJx1tV3lP1qolBeUnuY/WqiUF5Se5j8vN5pfcTTyPy83ml9xNPI/LzeaX3E08j8LUj4DVmv0P2cHXp66ovQ/lajUrwhy8z8ERxYOSyj4P0gf5HQeCfI/if7LZHnq7z8XHaiiCV3vP6Btm6JJmew/vGW1En/65z9MP1pTWq7wP/J2f86FGvA/Rx/yOxHc8D9HH/I7EdzwP0cf8jsR3PA/Wi2PK9ct9T99iPbmwzv1P+s7h6uSvvI/jlifB2hB+z/KAreWPx7tP2CGcv2h3+w/DE1YhnUh4z+r91rqETzvPzST+4nO/eQ/tcGbWjP25j8r0X6ZskrsPzXVexnn+PI/jsX9rHxr8z+YODlE2Q7zPxrw1xsMw+0/6+G9lxVx7T+VLCu5vQ3pP5kI65KAuvA/xV7vM9nJ8j+3rXXsTRn+P7nipTU15fQ/Ahig1qK48j97HMyYL2j0P61VsDSbgfU/gKXeX7rt9D8lL/FG5m/yP1D9sJ1ASPI/ONgUq37H8z/SblJX33btP6Pvp4KhC+M/A1unplDL5j/tVn03pGviP09EUKldGOg/RjLkVnwe6D+bSQJT7m7oP/kNtZK+Z+k/BO79CuHa9z9uhs6rFD4AQDSsx4gppPs/JoJSHH6Y9j8b5eo1rb34P7wp1TtfOgFA605wkeGE9z+CQHPA6Nf7P96W8dRj7vo/77f/lcKE+T8/0HaFb3j5P0ixId0VM/o/2QaTrAQF9T89ims167HjP+Roiw7ssfA/N+aifBlj8D+LMRVBlGrvP6CylwUtpOE/UCAMIn9U4D86TWpu5ebtP5PEfPDbnN0/8ql5Nfn/4D83OrmjNxvhP9ETGcqqqOg/TEBpKYVw9j/5y4EaW9T4P6g7DuceO/U/scgFb/N/8D+73vRQdeXuP5DaSmyYQ+A/1hTHV/j+2j9wnnVfpazbPzJoid+r2eU/KlRdoNof2z8xuA2DPjffP3qotC6cE+Y/eqi0LpwT5j96qLQunBPmPwHia4Ko5fc/29W9hKHm9z8=",
          "dtype": "f8"
         }
        },
        {
         "line": {
          "color": "red"
         },
         "mode": "lines",
         "name": "Predição com RM",
         "type": "scatter",
         "y": {
          "bdata": "A1nGMaLD5z/rGxZ+K7DoP+sbFn4rsOg/A1nGMaLD5z9aqJQXlJ7mP1qolBeUnuY/WqiUF5Se5j8vN5pfcTTyPy83ml9xNPI/LzeaX3E08j8LUj4DVmv0P2cHXp66ovQ/qYNHBjha+T9fyEE4KTL4P8nG0dJbaPI/if7LZHnq7z8XHaiiCV3vP6Btm6JJmew/TD9aU1qu8D9MP1pTWq7wP1gz9DHx1u4/Rx/yOxHc8D9HH/I7EdzwP0cf8jsR3PA/Wi2PK9ct9T98UFr1gp70P5Vyl/qMd/M/jlifB2hB+z9ghnL9od/sP2CGcv2h3+w/4qaDdgk28j+r91rqETzvP/9r3jSsEvA/as6bWzyW8D811XsZ5/jyPzXVexnn+PI/h/PU02B58j9DE7tpZd3sPzcmrK/Uj+0/6+G9lxVx7T+ZCOuSgLrwP5kI65KAuvA/UH23j6Jg6T+3rXXsTRn+P2ZSVlc+n/U/WuJYcMm09j97HMyYL2j0P8PjcfZbU/U/gKXeX7rt9D9Q/bCdQEjyP1D9sJ1ASPI/ONgUq37H8z/SblJX33btPwNbp6ZQy+Y/A1unplDL5j8o8Vh8TXHmP4ylry2H0OI/m0kCU+5u6D+bSQJT7m7oP/kNtZK+Z+k/bobOqxQ+AEBuhs6rFD4AQIpRaElTAwNAvVhF2QpNAkCEZa8XTpkCQLwp1TtfOgFAvdDJKf5H+j+CQHPA6Nf7P0FlL+ewCPo/77f/lcKE+T/Jki7lSSL5P5zeJUtY7fg/2QaTrAQF9T/kaIsO7LHwP+Roiw7ssfA/N+aifBlj8D+CcY69n3TuP/ylq8zicO4/Ok1qbuXm7T86TWpu5ebtP9zZwcegovA/Zb08JiYT6z/RExnKqqjoP9ETGcqqqOg/TEBpKYVw9j8bWBKQ8p74P9Wb0cZRJ/Q/scgFb/N/8D9mJUilsFruP3KcIz/H0OM/2Sny21Qz4z8yaInfq9nlPzJoid+r2eU/NRGpbCWQ9z96qLQunBPmP3qotC6cE+Y/eqi0LpwT5j96qLQunBPmP9vVvYSh5vc/29W9hKHm9z8=",
          "dtype": "f8"
         }
        }
       ],
       "layout": {
        "template": {
         "data": {
          "bar": [
           {
            "error_x": {
             "color": "#2a3f5f"
            },
            "error_y": {
             "color": "#2a3f5f"
            },
            "marker": {
             "line": {
              "color": "white",
              "width": 0.5
             },
             "pattern": {
              "fillmode": "overlay",
              "size": 10,
              "solidity": 0.2
             }
            },
            "type": "bar"
           }
          ],
          "barpolar": [
           {
            "marker": {
             "line": {
              "color": "white",
              "width": 0.5
             },
             "pattern": {
              "fillmode": "overlay",
              "size": 10,
              "solidity": 0.2
             }
            },
            "type": "barpolar"
           }
          ],
          "carpet": [
           {
            "aaxis": {
             "endlinecolor": "#2a3f5f",
             "gridcolor": "#C8D4E3",
             "linecolor": "#C8D4E3",
             "minorgridcolor": "#C8D4E3",
             "startlinecolor": "#2a3f5f"
            },
            "baxis": {
             "endlinecolor": "#2a3f5f",
             "gridcolor": "#C8D4E3",
             "linecolor": "#C8D4E3",
             "minorgridcolor": "#C8D4E3",
             "startlinecolor": "#2a3f5f"
            },
            "type": "carpet"
           }
          ],
          "choropleth": [
           {
            "colorbar": {
             "outlinewidth": 0,
             "ticks": ""
            },
            "type": "choropleth"
           }
          ],
          "contour": [
           {
            "colorbar": {
             "outlinewidth": 0,
             "ticks": ""
            },
            "colorscale": [
             [
              0,
              "#0d0887"
             ],
             [
              0.1111111111111111,
              "#46039f"
             ],
             [
              0.2222222222222222,
              "#7201a8"
             ],
             [
              0.3333333333333333,
              "#9c179e"
             ],
             [
              0.4444444444444444,
              "#bd3786"
             ],
             [
              0.5555555555555556,
              "#d8576b"
             ],
             [
              0.6666666666666666,
              "#ed7953"
             ],
             [
              0.7777777777777778,
              "#fb9f3a"
             ],
             [
              0.8888888888888888,
              "#fdca26"
             ],
             [
              1,
              "#f0f921"
             ]
            ],
            "type": "contour"
           }
          ],
          "contourcarpet": [
           {
            "colorbar": {
             "outlinewidth": 0,
             "ticks": ""
            },
            "type": "contourcarpet"
           }
          ],
          "heatmap": [
           {
            "colorbar": {
             "outlinewidth": 0,
             "ticks": ""
            },
            "colorscale": [
             [
              0,
              "#0d0887"
             ],
             [
              0.1111111111111111,
              "#46039f"
             ],
             [
              0.2222222222222222,
              "#7201a8"
             ],
             [
              0.3333333333333333,
              "#9c179e"
             ],
             [
              0.4444444444444444,
              "#bd3786"
             ],
             [
              0.5555555555555556,
              "#d8576b"
             ],
             [
              0.6666666666666666,
              "#ed7953"
             ],
             [
              0.7777777777777778,
              "#fb9f3a"
             ],
             [
              0.8888888888888888,
              "#fdca26"
             ],
             [
              1,
              "#f0f921"
             ]
            ],
            "type": "heatmap"
           }
          ],
          "histogram": [
           {
            "marker": {
             "pattern": {
              "fillmode": "overlay",
              "size": 10,
              "solidity": 0.2
             }
            },
            "type": "histogram"
           }
          ],
          "histogram2d": [
           {
            "colorbar": {
             "outlinewidth": 0,
             "ticks": ""
            },
            "colorscale": [
             [
              0,
              "#0d0887"
             ],
             [
              0.1111111111111111,
              "#46039f"
             ],
             [
              0.2222222222222222,
              "#7201a8"
             ],
             [
              0.3333333333333333,
              "#9c179e"
             ],
             [
              0.4444444444444444,
              "#bd3786"
             ],
             [
              0.5555555555555556,
              "#d8576b"
             ],
             [
              0.6666666666666666,
              "#ed7953"
             ],
             [
              0.7777777777777778,
              "#fb9f3a"
             ],
             [
              0.8888888888888888,
              "#fdca26"
             ],
             [
              1,
              "#f0f921"
             ]
            ],
            "type": "histogram2d"
           }
          ],
          "histogram2dcontour": [
           {
            "colorbar": {
             "outlinewidth": 0,
             "ticks": ""
            },
            "colorscale": [
             [
              0,
              "#0d0887"
             ],
             [
              0.1111111111111111,
              "#46039f"
             ],
             [
              0.2222222222222222,
              "#7201a8"
             ],
             [
              0.3333333333333333,
              "#9c179e"
             ],
             [
              0.4444444444444444,
              "#bd3786"
             ],
             [
              0.5555555555555556,
              "#d8576b"
             ],
             [
              0.6666666666666666,
              "#ed7953"
             ],
             [
              0.7777777777777778,
              "#fb9f3a"
             ],
             [
              0.8888888888888888,
              "#fdca26"
             ],
             [
              1,
              "#f0f921"
             ]
            ],
            "type": "histogram2dcontour"
           }
          ],
          "mesh3d": [
           {
            "colorbar": {
             "outlinewidth": 0,
             "ticks": ""
            },
            "type": "mesh3d"
           }
          ],
          "parcoords": [
           {
            "line": {
             "colorbar": {
              "outlinewidth": 0,
              "ticks": ""
             }
            },
            "type": "parcoords"
           }
          ],
          "pie": [
           {
            "automargin": true,
            "type": "pie"
           }
          ],
          "scatter": [
           {
            "fillpattern": {
             "fillmode": "overlay",
             "size": 10,
             "solidity": 0.2
            },
            "type": "scatter"
           }
          ],
          "scatter3d": [
           {
            "line": {
             "colorbar": {
              "outlinewidth": 0,
              "ticks": ""
             }
            },
            "marker": {
             "colorbar": {
              "outlinewidth": 0,
              "ticks": ""
             }
            },
            "type": "scatter3d"
           }
          ],
          "scattercarpet": [
           {
            "marker": {
             "colorbar": {
              "outlinewidth": 0,
              "ticks": ""
             }
            },
            "type": "scattercarpet"
           }
          ],
          "scattergeo": [
           {
            "marker": {
             "colorbar": {
              "outlinewidth": 0,
              "ticks": ""
             }
            },
            "type": "scattergeo"
           }
          ],
          "scattergl": [
           {
            "marker": {
             "colorbar": {
              "outlinewidth": 0,
              "ticks": ""
             }
            },
            "type": "scattergl"
           }
          ],
          "scattermap": [
           {
            "marker": {
             "colorbar": {
              "outlinewidth": 0,
              "ticks": ""
             }
            },
            "type": "scattermap"
           }
          ],
          "scattermapbox": [
           {
            "marker": {
             "colorbar": {
              "outlinewidth": 0,
              "ticks": ""
             }
            },
            "type": "scattermapbox"
           }
          ],
          "scatterpolar": [
           {
            "marker": {
             "colorbar": {
              "outlinewidth": 0,
              "ticks": ""
             }
            },
            "type": "scatterpolar"
           }
          ],
          "scatterpolargl": [
           {
            "marker": {
             "colorbar": {
              "outlinewidth": 0,
              "ticks": ""
             }
            },
            "type": "scatterpolargl"
           }
          ],
          "scatterternary": [
           {
            "marker": {
             "colorbar": {
              "outlinewidth": 0,
              "ticks": ""
             }
            },
            "type": "scatterternary"
           }
          ],
          "surface": [
           {
            "colorbar": {
             "outlinewidth": 0,
             "ticks": ""
            },
            "colorscale": [
             [
              0,
              "#0d0887"
             ],
             [
              0.1111111111111111,
              "#46039f"
             ],
             [
              0.2222222222222222,
              "#7201a8"
             ],
             [
              0.3333333333333333,
              "#9c179e"
             ],
             [
              0.4444444444444444,
              "#bd3786"
             ],
             [
              0.5555555555555556,
              "#d8576b"
             ],
             [
              0.6666666666666666,
              "#ed7953"
             ],
             [
              0.7777777777777778,
              "#fb9f3a"
             ],
             [
              0.8888888888888888,
              "#fdca26"
             ],
             [
              1,
              "#f0f921"
             ]
            ],
            "type": "surface"
           }
          ],
          "table": [
           {
            "cells": {
             "fill": {
              "color": "#EBF0F8"
             },
             "line": {
              "color": "white"
             }
            },
            "header": {
             "fill": {
              "color": "#C8D4E3"
             },
             "line": {
              "color": "white"
             }
            },
            "type": "table"
           }
          ]
         },
         "layout": {
          "annotationdefaults": {
           "arrowcolor": "#2a3f5f",
           "arrowhead": 0,
           "arrowwidth": 1
          },
          "autotypenumbers": "strict",
          "coloraxis": {
           "colorbar": {
            "outlinewidth": 0,
            "ticks": ""
           }
          },
          "colorscale": {
           "diverging": [
            [
             0,
             "#8e0152"
            ],
            [
             0.1,
             "#c51b7d"
            ],
            [
             0.2,
             "#de77ae"
            ],
            [
             0.3,
             "#f1b6da"
            ],
            [
             0.4,
             "#fde0ef"
            ],
            [
             0.5,
             "#f7f7f7"
            ],
            [
             0.6,
             "#e6f5d0"
            ],
            [
             0.7,
             "#b8e186"
            ],
            [
             0.8,
             "#7fbc41"
            ],
            [
             0.9,
             "#4d9221"
            ],
            [
             1,
             "#276419"
            ]
           ],
           "sequential": [
            [
             0,
             "#0d0887"
            ],
            [
             0.1111111111111111,
             "#46039f"
            ],
            [
             0.2222222222222222,
             "#7201a8"
            ],
            [
             0.3333333333333333,
             "#9c179e"
            ],
            [
             0.4444444444444444,
             "#bd3786"
            ],
            [
             0.5555555555555556,
             "#d8576b"
            ],
            [
             0.6666666666666666,
             "#ed7953"
            ],
            [
             0.7777777777777778,
             "#fb9f3a"
            ],
            [
             0.8888888888888888,
             "#fdca26"
            ],
            [
             1,
             "#f0f921"
            ]
           ],
           "sequentialminus": [
            [
             0,
             "#0d0887"
            ],
            [
             0.1111111111111111,
             "#46039f"
            ],
            [
             0.2222222222222222,
             "#7201a8"
            ],
            [
             0.3333333333333333,
             "#9c179e"
            ],
            [
             0.4444444444444444,
             "#bd3786"
            ],
            [
             0.5555555555555556,
             "#d8576b"
            ],
            [
             0.6666666666666666,
             "#ed7953"
            ],
            [
             0.7777777777777778,
             "#fb9f3a"
            ],
            [
             0.8888888888888888,
             "#fdca26"
            ],
            [
             1,
             "#f0f921"
            ]
           ]
          },
          "colorway": [
           "#636efa",
           "#EF553B",
           "#00cc96",
           "#ab63fa",
           "#FFA15A",
           "#19d3f3",
           "#FF6692",
           "#B6E880",
           "#FF97FF",
           "#FECB52"
          ],
          "font": {
           "color": "#2a3f5f"
          },
          "geo": {
           "bgcolor": "white",
           "lakecolor": "white",
           "landcolor": "white",
           "showlakes": true,
           "showland": true,
           "subunitcolor": "#C8D4E3"
          },
          "hoverlabel": {
           "align": "left"
          },
          "hovermode": "closest",
          "mapbox": {
           "style": "light"
          },
          "paper_bgcolor": "white",
          "plot_bgcolor": "white",
          "polar": {
           "angularaxis": {
            "gridcolor": "#EBF0F8",
            "linecolor": "#EBF0F8",
            "ticks": ""
           },
           "bgcolor": "white",
           "radialaxis": {
            "gridcolor": "#EBF0F8",
            "linecolor": "#EBF0F8",
            "ticks": ""
           }
          },
          "scene": {
           "xaxis": {
            "backgroundcolor": "white",
            "gridcolor": "#DFE8F3",
            "gridwidth": 2,
            "linecolor": "#EBF0F8",
            "showbackground": true,
            "ticks": "",
            "zerolinecolor": "#EBF0F8"
           },
           "yaxis": {
            "backgroundcolor": "white",
            "gridcolor": "#DFE8F3",
            "gridwidth": 2,
            "linecolor": "#EBF0F8",
            "showbackground": true,
            "ticks": "",
            "zerolinecolor": "#EBF0F8"
           },
           "zaxis": {
            "backgroundcolor": "white",
            "gridcolor": "#DFE8F3",
            "gridwidth": 2,
            "linecolor": "#EBF0F8",
            "showbackground": true,
            "ticks": "",
            "zerolinecolor": "#EBF0F8"
           }
          },
          "shapedefaults": {
           "line": {
            "color": "#2a3f5f"
           }
          },
          "ternary": {
           "aaxis": {
            "gridcolor": "#DFE8F3",
            "linecolor": "#A2B1C6",
            "ticks": ""
           },
           "baxis": {
            "gridcolor": "#DFE8F3",
            "linecolor": "#A2B1C6",
            "ticks": ""
           },
           "bgcolor": "white",
           "caxis": {
            "gridcolor": "#DFE8F3",
            "linecolor": "#A2B1C6",
            "ticks": ""
           }
          },
          "title": {
           "x": 0.05
          },
          "xaxis": {
           "automargin": true,
           "gridcolor": "#EBF0F8",
           "linecolor": "#EBF0F8",
           "ticks": "",
           "title": {
            "standoff": 15
           },
           "zerolinecolor": "#EBF0F8",
           "zerolinewidth": 2
          },
          "yaxis": {
           "automargin": true,
           "gridcolor": "#EBF0F8",
           "linecolor": "#EBF0F8",
           "ticks": "",
           "title": {
            "standoff": 15
           },
           "zerolinecolor": "#EBF0F8",
           "zerolinewidth": 2
          }
         }
        },
        "title": {
         "text": "Comparação CO₂ - Caso de teste: RM4 - Aceleração nula (mantendo demais variáveis) - ETHANOL",
         "x": 0.5
        },
        "xaxis": {
         "title": {
          "text": "Amostras"
         }
        },
        "yaxis": {
         "title": {
          "text": "CO₂ (g/s)"
         }
        }
       }
      }
     },
     "metadata": {},
     "output_type": "display_data"
    },
    {
     "name": "stdout",
     "output_type": "stream",
     "text": [
      "\n",
      "🔁 Caso de teste: RM4 - Aceleração nula (mantendo demais variáveis) (GASOLINE)\n",
      "Diferença Média: 0.1415 | Diferença Máxima: 1.6267 | Erro Quadrático Médio (RMSE): 0.2673 | Desvio Padrão (Std): 0.2268\n"
     ]
    },
    {
     "data": {
      "text/html": [
       "<style type=\"text/css\">\n",
       "</style>\n",
       "<table id=\"T_f7da3\">\n",
       "  <caption>Comparação dos dados originais e modificados - Caso de teste: RM4 - Aceleração nula (mantendo demais variáveis) (GASOLINE)</caption>\n",
       "  <thead>\n",
       "    <tr>\n",
       "      <th class=\"blank level0\" >&nbsp;</th>\n",
       "      <th id=\"T_f7da3_level0_col0\" class=\"col_heading level0 col0\" >Latitude_Orig</th>\n",
       "      <th id=\"T_f7da3_level0_col1\" class=\"col_heading level0 col1\" >Longitude_Orig</th>\n",
       "      <th id=\"T_f7da3_level0_col2\" class=\"col_heading level0 col2\" >Speed(OBD)(km/h)_Orig</th>\n",
       "      <th id=\"T_f7da3_level0_col3\" class=\"col_heading level0 col3\" >Acceleration_Orig</th>\n",
       "      <th id=\"T_f7da3_level0_col4\" class=\"col_heading level0 col4\" > </th>\n",
       "      <th id=\"T_f7da3_level0_col5\" class=\"col_heading level0 col5\" >Latitude_Mod</th>\n",
       "      <th id=\"T_f7da3_level0_col6\" class=\"col_heading level0 col6\" >Longitude_Mod</th>\n",
       "      <th id=\"T_f7da3_level0_col7\" class=\"col_heading level0 col7\" >Speed(OBD)(km/h)_Mod</th>\n",
       "      <th id=\"T_f7da3_level0_col8\" class=\"col_heading level0 col8\" >Acceleration_Mod</th>\n",
       "      <th id=\"T_f7da3_level0_col9\" class=\"col_heading level0 col9\" > </th>\n",
       "      <th id=\"T_f7da3_level0_col10\" class=\"col_heading level0 col10\" >CO₂_Real</th>\n",
       "      <th id=\"T_f7da3_level0_col11\" class=\"col_heading level0 col11\" >CO₂_Orig</th>\n",
       "      <th id=\"T_f7da3_level0_col12\" class=\"col_heading level0 col12\" >CO₂_Mod</th>\n",
       "    </tr>\n",
       "  </thead>\n",
       "  <tbody>\n",
       "    <tr>\n",
       "      <th id=\"T_f7da3_level0_row0\" class=\"row_heading level0 row0\" >0</th>\n",
       "      <td id=\"T_f7da3_row0_col0\" class=\"data row0 col0\" >-5.820010</td>\n",
       "      <td id=\"T_f7da3_row0_col1\" class=\"data row0 col1\" >-35.220825</td>\n",
       "      <td id=\"T_f7da3_row0_col2\" class=\"data row0 col2\" >5</td>\n",
       "      <td id=\"T_f7da3_row0_col3\" class=\"data row0 col3\" >0.000000</td>\n",
       "      <td id=\"T_f7da3_row0_col4\" class=\"data row0 col4\" >→</td>\n",
       "      <td id=\"T_f7da3_row0_col5\" class=\"data row0 col5\" >-5.820010</td>\n",
       "      <td id=\"T_f7da3_row0_col6\" class=\"data row0 col6\" >-35.220825</td>\n",
       "      <td id=\"T_f7da3_row0_col7\" class=\"data row0 col7\" >5</td>\n",
       "      <td id=\"T_f7da3_row0_col8\" class=\"data row0 col8\" >0.000000</td>\n",
       "      <td id=\"T_f7da3_row0_col9\" class=\"data row0 col9\" > </td>\n",
       "      <td id=\"T_f7da3_row0_col10\" class=\"data row0 col10\" >1.002671</td>\n",
       "      <td id=\"T_f7da3_row0_col11\" class=\"data row0 col11\" >1.456781</td>\n",
       "      <td id=\"T_f7da3_row0_col12\" class=\"data row0 col12\" >1.456781</td>\n",
       "    </tr>\n",
       "    <tr>\n",
       "      <th id=\"T_f7da3_level0_row1\" class=\"row_heading level0 row1\" >1</th>\n",
       "      <td id=\"T_f7da3_row1_col0\" class=\"data row1 col0\" >-5.820013</td>\n",
       "      <td id=\"T_f7da3_row1_col1\" class=\"data row1 col1\" >-35.220822</td>\n",
       "      <td id=\"T_f7da3_row1_col2\" class=\"data row1 col2\" >4</td>\n",
       "      <td id=\"T_f7da3_row1_col3\" class=\"data row1 col3\" >-0.277778</td>\n",
       "      <td id=\"T_f7da3_row1_col4\" class=\"data row1 col4\" >→</td>\n",
       "      <td id=\"T_f7da3_row1_col5\" class=\"data row1 col5\" >-5.820013</td>\n",
       "      <td id=\"T_f7da3_row1_col6\" class=\"data row1 col6\" >-35.220822</td>\n",
       "      <td id=\"T_f7da3_row1_col7\" class=\"data row1 col7\" >4</td>\n",
       "      <td id=\"T_f7da3_row1_col8\" class=\"data row1 col8\" >0.000000</td>\n",
       "      <td id=\"T_f7da3_row1_col9\" class=\"data row1 col9\" > </td>\n",
       "      <td id=\"T_f7da3_row1_col10\" class=\"data row1 col10\" >1.013360</td>\n",
       "      <td id=\"T_f7da3_row1_col11\" class=\"data row1 col11\" >1.016708</td>\n",
       "      <td id=\"T_f7da3_row1_col12\" class=\"data row1 col12\" >1.456781</td>\n",
       "    </tr>\n",
       "    <tr>\n",
       "      <th id=\"T_f7da3_level0_row2\" class=\"row_heading level0 row2\" >2</th>\n",
       "      <td id=\"T_f7da3_row2_col0\" class=\"data row2 col0\" >-5.820016</td>\n",
       "      <td id=\"T_f7da3_row2_col1\" class=\"data row2 col1\" >-35.220819</td>\n",
       "      <td id=\"T_f7da3_row2_col2\" class=\"data row2 col2\" >5</td>\n",
       "      <td id=\"T_f7da3_row2_col3\" class=\"data row2 col3\" >0.277778</td>\n",
       "      <td id=\"T_f7da3_row2_col4\" class=\"data row2 col4\" >→</td>\n",
       "      <td id=\"T_f7da3_row2_col5\" class=\"data row2 col5\" >-5.820016</td>\n",
       "      <td id=\"T_f7da3_row2_col6\" class=\"data row2 col6\" >-35.220819</td>\n",
       "      <td id=\"T_f7da3_row2_col7\" class=\"data row2 col7\" >5</td>\n",
       "      <td id=\"T_f7da3_row2_col8\" class=\"data row2 col8\" >0.000000</td>\n",
       "      <td id=\"T_f7da3_row2_col9\" class=\"data row2 col9\" > </td>\n",
       "      <td id=\"T_f7da3_row2_col10\" class=\"data row2 col10\" >2.088720</td>\n",
       "      <td id=\"T_f7da3_row2_col11\" class=\"data row2 col11\" >1.456781</td>\n",
       "      <td id=\"T_f7da3_row2_col12\" class=\"data row2 col12\" >1.456781</td>\n",
       "    </tr>\n",
       "    <tr>\n",
       "      <th id=\"T_f7da3_level0_row3\" class=\"row_heading level0 row3\" >3</th>\n",
       "      <td id=\"T_f7da3_row3_col0\" class=\"data row3 col0\" >-5.820014</td>\n",
       "      <td id=\"T_f7da3_row3_col1\" class=\"data row3 col1\" >-35.220825</td>\n",
       "      <td id=\"T_f7da3_row3_col2\" class=\"data row3 col2\" >7</td>\n",
       "      <td id=\"T_f7da3_row3_col3\" class=\"data row3 col3\" >0.555556</td>\n",
       "      <td id=\"T_f7da3_row3_col4\" class=\"data row3 col4\" >→</td>\n",
       "      <td id=\"T_f7da3_row3_col5\" class=\"data row3 col5\" >-5.820014</td>\n",
       "      <td id=\"T_f7da3_row3_col6\" class=\"data row3 col6\" >-35.220825</td>\n",
       "      <td id=\"T_f7da3_row3_col7\" class=\"data row3 col7\" >7</td>\n",
       "      <td id=\"T_f7da3_row3_col8\" class=\"data row3 col8\" >0.000000</td>\n",
       "      <td id=\"T_f7da3_row3_col9\" class=\"data row3 col9\" > </td>\n",
       "      <td id=\"T_f7da3_row3_col10\" class=\"data row3 col10\" >2.261889</td>\n",
       "      <td id=\"T_f7da3_row3_col11\" class=\"data row3 col11\" >1.996380</td>\n",
       "      <td id=\"T_f7da3_row3_col12\" class=\"data row3 col12\" >1.996380</td>\n",
       "    </tr>\n",
       "    <tr>\n",
       "      <th id=\"T_f7da3_level0_row4\" class=\"row_heading level0 row4\" >4</th>\n",
       "      <td id=\"T_f7da3_row4_col0\" class=\"data row4 col0\" >-5.819992</td>\n",
       "      <td id=\"T_f7da3_row4_col1\" class=\"data row4 col1\" >-35.220829</td>\n",
       "      <td id=\"T_f7da3_row4_col2\" class=\"data row4 col2\" >9</td>\n",
       "      <td id=\"T_f7da3_row4_col3\" class=\"data row4 col3\" >0.555556</td>\n",
       "      <td id=\"T_f7da3_row4_col4\" class=\"data row4 col4\" >→</td>\n",
       "      <td id=\"T_f7da3_row4_col5\" class=\"data row4 col5\" >-5.819992</td>\n",
       "      <td id=\"T_f7da3_row4_col6\" class=\"data row4 col6\" >-35.220829</td>\n",
       "      <td id=\"T_f7da3_row4_col7\" class=\"data row4 col7\" >9</td>\n",
       "      <td id=\"T_f7da3_row4_col8\" class=\"data row4 col8\" >0.000000</td>\n",
       "      <td id=\"T_f7da3_row4_col9\" class=\"data row4 col9\" > </td>\n",
       "      <td id=\"T_f7da3_row4_col10\" class=\"data row4 col10\" >2.499195</td>\n",
       "      <td id=\"T_f7da3_row4_col11\" class=\"data row4 col11\" >2.400486</td>\n",
       "      <td id=\"T_f7da3_row4_col12\" class=\"data row4 col12\" >2.400486</td>\n",
       "    </tr>\n",
       "    <tr>\n",
       "      <th id=\"T_f7da3_level0_row5\" class=\"row_heading level0 row5\" >5</th>\n",
       "      <td id=\"T_f7da3_row5_col0\" class=\"data row5 col0\" >-5.819974</td>\n",
       "      <td id=\"T_f7da3_row5_col1\" class=\"data row5 col1\" >-35.220824</td>\n",
       "      <td id=\"T_f7da3_row5_col2\" class=\"data row5 col2\" >12</td>\n",
       "      <td id=\"T_f7da3_row5_col3\" class=\"data row5 col3\" >0.833333</td>\n",
       "      <td id=\"T_f7da3_row5_col4\" class=\"data row5 col4\" >→</td>\n",
       "      <td id=\"T_f7da3_row5_col5\" class=\"data row5 col5\" >-5.819974</td>\n",
       "      <td id=\"T_f7da3_row5_col6\" class=\"data row5 col6\" >-35.220824</td>\n",
       "      <td id=\"T_f7da3_row5_col7\" class=\"data row5 col7\" >12</td>\n",
       "      <td id=\"T_f7da3_row5_col8\" class=\"data row5 col8\" >0.000000</td>\n",
       "      <td id=\"T_f7da3_row5_col9\" class=\"data row5 col9\" > </td>\n",
       "      <td id=\"T_f7da3_row5_col10\" class=\"data row5 col10\" >2.606089</td>\n",
       "      <td id=\"T_f7da3_row5_col11\" class=\"data row5 col11\" >2.400486</td>\n",
       "      <td id=\"T_f7da3_row5_col12\" class=\"data row5 col12\" >2.400486</td>\n",
       "    </tr>\n",
       "    <tr>\n",
       "      <th id=\"T_f7da3_level0_row6\" class=\"row_heading level0 row6\" >6</th>\n",
       "      <td id=\"T_f7da3_row6_col0\" class=\"data row6 col0\" >-5.819944</td>\n",
       "      <td id=\"T_f7da3_row6_col1\" class=\"data row6 col1\" >-35.220823</td>\n",
       "      <td id=\"T_f7da3_row6_col2\" class=\"data row6 col2\" >15</td>\n",
       "      <td id=\"T_f7da3_row6_col3\" class=\"data row6 col3\" >0.833333</td>\n",
       "      <td id=\"T_f7da3_row6_col4\" class=\"data row6 col4\" >→</td>\n",
       "      <td id=\"T_f7da3_row6_col5\" class=\"data row6 col5\" >-5.819944</td>\n",
       "      <td id=\"T_f7da3_row6_col6\" class=\"data row6 col6\" >-35.220823</td>\n",
       "      <td id=\"T_f7da3_row6_col7\" class=\"data row6 col7\" >15</td>\n",
       "      <td id=\"T_f7da3_row6_col8\" class=\"data row6 col8\" >0.000000</td>\n",
       "      <td id=\"T_f7da3_row6_col9\" class=\"data row6 col9\" > </td>\n",
       "      <td id=\"T_f7da3_row6_col10\" class=\"data row6 col10\" >3.070012</td>\n",
       "      <td id=\"T_f7da3_row6_col11\" class=\"data row6 col11\" >2.148721</td>\n",
       "      <td id=\"T_f7da3_row6_col12\" class=\"data row6 col12\" >2.153532</td>\n",
       "    </tr>\n",
       "    <tr>\n",
       "      <th id=\"T_f7da3_level0_row7\" class=\"row_heading level0 row7\" >7</th>\n",
       "      <td id=\"T_f7da3_row7_col0\" class=\"data row7 col0\" >-5.819908</td>\n",
       "      <td id=\"T_f7da3_row7_col1\" class=\"data row7 col1\" >-35.220810</td>\n",
       "      <td id=\"T_f7da3_row7_col2\" class=\"data row7 col2\" >18</td>\n",
       "      <td id=\"T_f7da3_row7_col3\" class=\"data row7 col3\" >0.833333</td>\n",
       "      <td id=\"T_f7da3_row7_col4\" class=\"data row7 col4\" >→</td>\n",
       "      <td id=\"T_f7da3_row7_col5\" class=\"data row7 col5\" >-5.819908</td>\n",
       "      <td id=\"T_f7da3_row7_col6\" class=\"data row7 col6\" >-35.220810</td>\n",
       "      <td id=\"T_f7da3_row7_col7\" class=\"data row7 col7\" >18</td>\n",
       "      <td id=\"T_f7da3_row7_col8\" class=\"data row7 col8\" >0.000000</td>\n",
       "      <td id=\"T_f7da3_row7_col9\" class=\"data row7 col9\" > </td>\n",
       "      <td id=\"T_f7da3_row7_col10\" class=\"data row7 col10\" >2.445747</td>\n",
       "      <td id=\"T_f7da3_row7_col11\" class=\"data row7 col11\" >1.470940</td>\n",
       "      <td id=\"T_f7da3_row7_col12\" class=\"data row7 col12\" >1.470561</td>\n",
       "    </tr>\n",
       "    <tr>\n",
       "      <th id=\"T_f7da3_level0_row8\" class=\"row_heading level0 row8\" >8</th>\n",
       "      <td id=\"T_f7da3_row8_col0\" class=\"data row8 col0\" >-5.819866</td>\n",
       "      <td id=\"T_f7da3_row8_col1\" class=\"data row8 col1\" >-35.220794</td>\n",
       "      <td id=\"T_f7da3_row8_col2\" class=\"data row8 col2\" >18</td>\n",
       "      <td id=\"T_f7da3_row8_col3\" class=\"data row8 col3\" >0.000000</td>\n",
       "      <td id=\"T_f7da3_row8_col4\" class=\"data row8 col4\" >→</td>\n",
       "      <td id=\"T_f7da3_row8_col5\" class=\"data row8 col5\" >-5.819866</td>\n",
       "      <td id=\"T_f7da3_row8_col6\" class=\"data row8 col6\" >-35.220794</td>\n",
       "      <td id=\"T_f7da3_row8_col7\" class=\"data row8 col7\" >18</td>\n",
       "      <td id=\"T_f7da3_row8_col8\" class=\"data row8 col8\" >0.000000</td>\n",
       "      <td id=\"T_f7da3_row8_col9\" class=\"data row8 col9\" > </td>\n",
       "      <td id=\"T_f7da3_row8_col10\" class=\"data row8 col10\" >1.073221</td>\n",
       "      <td id=\"T_f7da3_row8_col11\" class=\"data row8 col11\" >1.588029</td>\n",
       "      <td id=\"T_f7da3_row8_col12\" class=\"data row8 col12\" >1.588029</td>\n",
       "    </tr>\n",
       "    <tr>\n",
       "      <th id=\"T_f7da3_level0_row9\" class=\"row_heading level0 row9\" >9</th>\n",
       "      <td id=\"T_f7da3_row9_col0\" class=\"data row9 col0\" >-5.819821</td>\n",
       "      <td id=\"T_f7da3_row9_col1\" class=\"data row9 col1\" >-35.220775</td>\n",
       "      <td id=\"T_f7da3_row9_col2\" class=\"data row9 col2\" >16</td>\n",
       "      <td id=\"T_f7da3_row9_col3\" class=\"data row9 col3\" >-0.555556</td>\n",
       "      <td id=\"T_f7da3_row9_col4\" class=\"data row9 col4\" >→</td>\n",
       "      <td id=\"T_f7da3_row9_col5\" class=\"data row9 col5\" >-5.819821</td>\n",
       "      <td id=\"T_f7da3_row9_col6\" class=\"data row9 col6\" >-35.220775</td>\n",
       "      <td id=\"T_f7da3_row9_col7\" class=\"data row9 col7\" >16</td>\n",
       "      <td id=\"T_f7da3_row9_col8\" class=\"data row9 col8\" >0.000000</td>\n",
       "      <td id=\"T_f7da3_row9_col9\" class=\"data row9 col9\" > </td>\n",
       "      <td id=\"T_f7da3_row9_col10\" class=\"data row9 col10\" >0.562265</td>\n",
       "      <td id=\"T_f7da3_row9_col11\" class=\"data row9 col11\" >1.085921</td>\n",
       "      <td id=\"T_f7da3_row9_col12\" class=\"data row9 col12\" >1.629457</td>\n",
       "    </tr>\n",
       "  </tbody>\n",
       "</table>\n"
      ],
      "text/plain": [
       "<pandas.io.formats.style.Styler at 0x1bd896a5a90>"
      ]
     },
     "metadata": {},
     "output_type": "display_data"
    },
    {
     "data": {
      "application/vnd.plotly.v1+json": {
       "config": {
        "plotlyServerURL": "https://plot.ly"
       },
       "data": [
        {
         "line": {
          "color": "green",
          "dash": "dot"
         },
         "mode": "lines",
         "name": "Real",
         "type": "scatter",
         "y": {
          "bdata": "fgFSsvAK8D+A9UFnuTbwP+sFLaeytQBAlHGRLVkYAkBCucXSWf4DQEt9dVtF2QRAqBJmS2KPCEA+120O5JADQCN/TinqK/E/+as09BP+4T+aTWFMs5viP5pNYUyzm+I/XDzytNji+j+dNUG2RPMCQCiGK0XJLgZAUV/NH7tGBUCt9L0P2PwIQMoh0PdM4gZALUmGV/HwAUC7e8iq65kFQJWKBjqL2QZAPtdtDuSQA0A+120O5JADQD/LXcOsvPM/G9QTrTAS5T+dNUG2RPPiPz7XbQ7kkOM/PtdtDuSQ4z+N38u90b/qPypPDv0M2/E/XDzytNjiCkCoDN6lRqUIQKgM3qVGpQhA8yxc66J8D0BuxFHGr5gMQIjedkcOpwVAJ4Cjn61EBkBRX80fu0YFQLWf+IuRFgVAtZ/4i5EWBUBZCgicdGDxP1JTvdSDcvU/1NlvNQHp9z+u1cBdilHkP67VwF2KUeQ/oGcrz6h17D9QRlgTiYXwP5J9oXiQ7PE/kn2heJDs8T/DRQDZ8l7mP79dIG9hB+Y/v10gb2EH5j+/XSBvYQfmP2LnLDGS/OY/sOIlH4U+6T/qekRTCmDuP6BnK8+odew/mWxe/gBHB0CpJVOyeGYNQIFGKTJrZA5AgUYpMmtkDkDqCPF5wKoQQNfm1Pb71QxA1+bU9vvVDEDDRQDZ8l7mP8A4mxf4ceE/+as09BP+4T9i5ywxkvzmP2LnLDGS/OY/QeTSz9596D9B5NLP3n3oPzJEUyiZH+c/MkRTKJkf5z95fPEDZJ/tP3l88QNkn+0/2trEq8QB7T8Lfp60vd7sP9by5EEzquw/LlxzvgfI5j8uXHO+B8jmP79dIG9hB+Y/idJm/NbS5T/DRQDZ8l7mP/jQuUt9k+Y/+NC5S32T5j8g7t0vJuzuPwt+nrS93uw/nH9LZRce7D9q3HFcHkHsP2rccVweQew/H7zzFsJp5T8fvPMWwmnlP/jQuUt9k+Y/LlxzvgfI5j8uXHO+B8jmPy5cc74HyOY/atxxXB5B7D9q3HFcHkHsPwt+nrS93uw/1vLkQTOq7D8=",
          "dtype": "f8"
         }
        },
        {
         "line": {
          "color": "blue",
          "dash": "dash"
         },
         "mode": "lines",
         "name": "Predição Original",
         "type": "scatter",
         "y": {
          "bdata": "nyhPnflO9z9gHHYQcETwP58oT535Tvc/NcYJ3ivx/z/H027bMTQDQMfTbtsxNANAW6JizpQwAUDSiMQk+Ij3P/2q4seQaPk/ZH6eRe5f8T9BGZ5ZmvD3PzitkrX97Pg/sjPog+dN+z+SSuHot2oCQJww0qNNLgNA8cQEdVL2B0A1HTGC8yUFQJ1s4cie0QVAPEfMwV4IAkA8R8zBXggCQF2Pwwd46AFAbpuVTxN2+j/IvXHXsBP6P0OwSlf+P/c/2pPnoDIS6T+hOYU4eCfuPxp0K9BUbOo/ThQjZ9o8AEBABo/x9pL3P3F+mAxJHfY/vjt97VxcAkC1xmrF5DgDQOa6Z/pAWAZAUonaDz/zBED9aMiraIEDQPruFYWieANA+u4VhaJ4A0CoKE294o/7Pxk9jtecgfw/S7H7xD8A/j92WkFYmFz2P7S5Onx/Bvo/RX1rWH4i8z/oY5hva434P1TJv1Fh2es/2F3p5aM27D+RtiC+vPzzP6NexDxw2fI/XyhyWTnN9D+DFQQ4srDxP7jtWJ1vMew/uO1YnW8x7D+47VidbzHsP7jtWJ1vMew/uO1YnW8x7D+47VidbzHsP7jtWJ1vMew/uO1YnW8x7D8nAD+TNLUCQNaKcWWMugZA0Uv5KVIhCEA+8WTkUCIIQPi+a1e0Yw5Ayp9UILRhDkDaMTNkxTIBQMaASEASVe8/28WzSFf/7z9COf9b/WfwPxW/p/5ScP0/VZWNuaJb6j9o0D7Y66zqP2jQPtjrrOo/aNA+2Ous6j9o0D7Y66zqP2jQPtjrrOo/aNA+2Ous6j9o0D7Y66zqP2jQPtjrrOo/aNA+2Ous6j9o0D7Y66zqP2jQPtjrrOo/aNA+2Ous6j9o0D7Y66zqP2jQPtjrrOo/aNA+2Ous6j9o0D7Y66zqP2jQPtjrrOo/aNA+2Ous6j9o0D7Y66zqP2jQPtjrrOo/aNA+2Ous6j9o0D7Y66zqP2jQPtjrrOo/aNA+2Ous6j9o0D7Y66zqP2jQPtjrrOo/aNA+2Ous6j9o0D7Y66zqP2jQPtjrrOo/aNA+2Ous6j8=",
          "dtype": "f8"
         }
        },
        {
         "line": {
          "color": "red"
         },
         "mode": "lines",
         "name": "Predição com RM",
         "type": "scatter",
         "y": {
          "bdata": "nyhPnflO9z+fKE+d+U73P58oT535Tvc/NcYJ3ivx/z/H027bMTQDQMfTbtsxNANAXZAdKW86AUCgqxNoa4f3P/2q4seQaPk/oHdQm0ES+j97erg745/+Pz8xPSWTZwBA8VoqKTyZAUCSSuHot2oCQJww0qNNLgNAzgyQkQ4ECEBDGTirD7YFQNwqwfRAvwVAVcPnRbD5AUBVw+dFsPkBQB+aeKripQFAyL1x17AT+j/IvXHXsBP6P0mIfG2M6fY/LEB39hlo9j/VAJ5wP/zyPzdZ8GxlwvM/ThQjZ9o8AEBGbDEPAzQEQNHSbBpLIwJAvjt97VxcAkC1xmrF5DgDQOa6Z/pAWAZAXjPOwtnDBkDftW39JikFQPruFYWieANA+u4VhaJ4A0D3pOktb3n7P1/Dc9OfF/w/ZH/aFbSQ/T+0uTp8fwb6P7S5Onx/Bvo/6GOYb2uN+D/oY5hva434P46BJIqR3PY/8oIOT4RY9j8EdZ/XlD/4P18oclk5zfQ/XyhyWTnN9D+47VidbzHsP7jtWJ1vMew/uO1YnW8x7D+47VidbzHsP7jtWJ1vMew/uO1YnW8x7D+47VidbzHsP7jtWJ1vMew/uO1YnW8x7D/SjvOKFTUDQI0lVxDNighA0Uv5KVIhCEBvSWkRG2sNQMqfVCC0YQ5Ayp9UILRhDkA9iGWDozEBQIOD68kh4QFANgPXGus8AUAVv6f+UnD9PxW/p/5ScP0/aNA+2Ous6j9o0D7Y66zqP2jQPtjrrOo/aNA+2Ous6j9o0D7Y66zqP2jQPtjrrOo/aNA+2Ous6j9o0D7Y66zqP2jQPtjrrOo/aNA+2Ous6j9o0D7Y66zqP2jQPtjrrOo/aNA+2Ous6j9o0D7Y66zqP2jQPtjrrOo/aNA+2Ous6j9o0D7Y66zqP2jQPtjrrOo/aNA+2Ous6j9o0D7Y66zqP2jQPtjrrOo/aNA+2Ous6j9o0D7Y66zqP2jQPtjrrOo/aNA+2Ous6j9o0D7Y66zqP2jQPtjrrOo/aNA+2Ous6j9o0D7Y66zqP2jQPtjrrOo/aNA+2Ous6j8=",
          "dtype": "f8"
         }
        }
       ],
       "layout": {
        "template": {
         "data": {
          "bar": [
           {
            "error_x": {
             "color": "#2a3f5f"
            },
            "error_y": {
             "color": "#2a3f5f"
            },
            "marker": {
             "line": {
              "color": "white",
              "width": 0.5
             },
             "pattern": {
              "fillmode": "overlay",
              "size": 10,
              "solidity": 0.2
             }
            },
            "type": "bar"
           }
          ],
          "barpolar": [
           {
            "marker": {
             "line": {
              "color": "white",
              "width": 0.5
             },
             "pattern": {
              "fillmode": "overlay",
              "size": 10,
              "solidity": 0.2
             }
            },
            "type": "barpolar"
           }
          ],
          "carpet": [
           {
            "aaxis": {
             "endlinecolor": "#2a3f5f",
             "gridcolor": "#C8D4E3",
             "linecolor": "#C8D4E3",
             "minorgridcolor": "#C8D4E3",
             "startlinecolor": "#2a3f5f"
            },
            "baxis": {
             "endlinecolor": "#2a3f5f",
             "gridcolor": "#C8D4E3",
             "linecolor": "#C8D4E3",
             "minorgridcolor": "#C8D4E3",
             "startlinecolor": "#2a3f5f"
            },
            "type": "carpet"
           }
          ],
          "choropleth": [
           {
            "colorbar": {
             "outlinewidth": 0,
             "ticks": ""
            },
            "type": "choropleth"
           }
          ],
          "contour": [
           {
            "colorbar": {
             "outlinewidth": 0,
             "ticks": ""
            },
            "colorscale": [
             [
              0,
              "#0d0887"
             ],
             [
              0.1111111111111111,
              "#46039f"
             ],
             [
              0.2222222222222222,
              "#7201a8"
             ],
             [
              0.3333333333333333,
              "#9c179e"
             ],
             [
              0.4444444444444444,
              "#bd3786"
             ],
             [
              0.5555555555555556,
              "#d8576b"
             ],
             [
              0.6666666666666666,
              "#ed7953"
             ],
             [
              0.7777777777777778,
              "#fb9f3a"
             ],
             [
              0.8888888888888888,
              "#fdca26"
             ],
             [
              1,
              "#f0f921"
             ]
            ],
            "type": "contour"
           }
          ],
          "contourcarpet": [
           {
            "colorbar": {
             "outlinewidth": 0,
             "ticks": ""
            },
            "type": "contourcarpet"
           }
          ],
          "heatmap": [
           {
            "colorbar": {
             "outlinewidth": 0,
             "ticks": ""
            },
            "colorscale": [
             [
              0,
              "#0d0887"
             ],
             [
              0.1111111111111111,
              "#46039f"
             ],
             [
              0.2222222222222222,
              "#7201a8"
             ],
             [
              0.3333333333333333,
              "#9c179e"
             ],
             [
              0.4444444444444444,
              "#bd3786"
             ],
             [
              0.5555555555555556,
              "#d8576b"
             ],
             [
              0.6666666666666666,
              "#ed7953"
             ],
             [
              0.7777777777777778,
              "#fb9f3a"
             ],
             [
              0.8888888888888888,
              "#fdca26"
             ],
             [
              1,
              "#f0f921"
             ]
            ],
            "type": "heatmap"
           }
          ],
          "histogram": [
           {
            "marker": {
             "pattern": {
              "fillmode": "overlay",
              "size": 10,
              "solidity": 0.2
             }
            },
            "type": "histogram"
           }
          ],
          "histogram2d": [
           {
            "colorbar": {
             "outlinewidth": 0,
             "ticks": ""
            },
            "colorscale": [
             [
              0,
              "#0d0887"
             ],
             [
              0.1111111111111111,
              "#46039f"
             ],
             [
              0.2222222222222222,
              "#7201a8"
             ],
             [
              0.3333333333333333,
              "#9c179e"
             ],
             [
              0.4444444444444444,
              "#bd3786"
             ],
             [
              0.5555555555555556,
              "#d8576b"
             ],
             [
              0.6666666666666666,
              "#ed7953"
             ],
             [
              0.7777777777777778,
              "#fb9f3a"
             ],
             [
              0.8888888888888888,
              "#fdca26"
             ],
             [
              1,
              "#f0f921"
             ]
            ],
            "type": "histogram2d"
           }
          ],
          "histogram2dcontour": [
           {
            "colorbar": {
             "outlinewidth": 0,
             "ticks": ""
            },
            "colorscale": [
             [
              0,
              "#0d0887"
             ],
             [
              0.1111111111111111,
              "#46039f"
             ],
             [
              0.2222222222222222,
              "#7201a8"
             ],
             [
              0.3333333333333333,
              "#9c179e"
             ],
             [
              0.4444444444444444,
              "#bd3786"
             ],
             [
              0.5555555555555556,
              "#d8576b"
             ],
             [
              0.6666666666666666,
              "#ed7953"
             ],
             [
              0.7777777777777778,
              "#fb9f3a"
             ],
             [
              0.8888888888888888,
              "#fdca26"
             ],
             [
              1,
              "#f0f921"
             ]
            ],
            "type": "histogram2dcontour"
           }
          ],
          "mesh3d": [
           {
            "colorbar": {
             "outlinewidth": 0,
             "ticks": ""
            },
            "type": "mesh3d"
           }
          ],
          "parcoords": [
           {
            "line": {
             "colorbar": {
              "outlinewidth": 0,
              "ticks": ""
             }
            },
            "type": "parcoords"
           }
          ],
          "pie": [
           {
            "automargin": true,
            "type": "pie"
           }
          ],
          "scatter": [
           {
            "fillpattern": {
             "fillmode": "overlay",
             "size": 10,
             "solidity": 0.2
            },
            "type": "scatter"
           }
          ],
          "scatter3d": [
           {
            "line": {
             "colorbar": {
              "outlinewidth": 0,
              "ticks": ""
             }
            },
            "marker": {
             "colorbar": {
              "outlinewidth": 0,
              "ticks": ""
             }
            },
            "type": "scatter3d"
           }
          ],
          "scattercarpet": [
           {
            "marker": {
             "colorbar": {
              "outlinewidth": 0,
              "ticks": ""
             }
            },
            "type": "scattercarpet"
           }
          ],
          "scattergeo": [
           {
            "marker": {
             "colorbar": {
              "outlinewidth": 0,
              "ticks": ""
             }
            },
            "type": "scattergeo"
           }
          ],
          "scattergl": [
           {
            "marker": {
             "colorbar": {
              "outlinewidth": 0,
              "ticks": ""
             }
            },
            "type": "scattergl"
           }
          ],
          "scattermap": [
           {
            "marker": {
             "colorbar": {
              "outlinewidth": 0,
              "ticks": ""
             }
            },
            "type": "scattermap"
           }
          ],
          "scattermapbox": [
           {
            "marker": {
             "colorbar": {
              "outlinewidth": 0,
              "ticks": ""
             }
            },
            "type": "scattermapbox"
           }
          ],
          "scatterpolar": [
           {
            "marker": {
             "colorbar": {
              "outlinewidth": 0,
              "ticks": ""
             }
            },
            "type": "scatterpolar"
           }
          ],
          "scatterpolargl": [
           {
            "marker": {
             "colorbar": {
              "outlinewidth": 0,
              "ticks": ""
             }
            },
            "type": "scatterpolargl"
           }
          ],
          "scatterternary": [
           {
            "marker": {
             "colorbar": {
              "outlinewidth": 0,
              "ticks": ""
             }
            },
            "type": "scatterternary"
           }
          ],
          "surface": [
           {
            "colorbar": {
             "outlinewidth": 0,
             "ticks": ""
            },
            "colorscale": [
             [
              0,
              "#0d0887"
             ],
             [
              0.1111111111111111,
              "#46039f"
             ],
             [
              0.2222222222222222,
              "#7201a8"
             ],
             [
              0.3333333333333333,
              "#9c179e"
             ],
             [
              0.4444444444444444,
              "#bd3786"
             ],
             [
              0.5555555555555556,
              "#d8576b"
             ],
             [
              0.6666666666666666,
              "#ed7953"
             ],
             [
              0.7777777777777778,
              "#fb9f3a"
             ],
             [
              0.8888888888888888,
              "#fdca26"
             ],
             [
              1,
              "#f0f921"
             ]
            ],
            "type": "surface"
           }
          ],
          "table": [
           {
            "cells": {
             "fill": {
              "color": "#EBF0F8"
             },
             "line": {
              "color": "white"
             }
            },
            "header": {
             "fill": {
              "color": "#C8D4E3"
             },
             "line": {
              "color": "white"
             }
            },
            "type": "table"
           }
          ]
         },
         "layout": {
          "annotationdefaults": {
           "arrowcolor": "#2a3f5f",
           "arrowhead": 0,
           "arrowwidth": 1
          },
          "autotypenumbers": "strict",
          "coloraxis": {
           "colorbar": {
            "outlinewidth": 0,
            "ticks": ""
           }
          },
          "colorscale": {
           "diverging": [
            [
             0,
             "#8e0152"
            ],
            [
             0.1,
             "#c51b7d"
            ],
            [
             0.2,
             "#de77ae"
            ],
            [
             0.3,
             "#f1b6da"
            ],
            [
             0.4,
             "#fde0ef"
            ],
            [
             0.5,
             "#f7f7f7"
            ],
            [
             0.6,
             "#e6f5d0"
            ],
            [
             0.7,
             "#b8e186"
            ],
            [
             0.8,
             "#7fbc41"
            ],
            [
             0.9,
             "#4d9221"
            ],
            [
             1,
             "#276419"
            ]
           ],
           "sequential": [
            [
             0,
             "#0d0887"
            ],
            [
             0.1111111111111111,
             "#46039f"
            ],
            [
             0.2222222222222222,
             "#7201a8"
            ],
            [
             0.3333333333333333,
             "#9c179e"
            ],
            [
             0.4444444444444444,
             "#bd3786"
            ],
            [
             0.5555555555555556,
             "#d8576b"
            ],
            [
             0.6666666666666666,
             "#ed7953"
            ],
            [
             0.7777777777777778,
             "#fb9f3a"
            ],
            [
             0.8888888888888888,
             "#fdca26"
            ],
            [
             1,
             "#f0f921"
            ]
           ],
           "sequentialminus": [
            [
             0,
             "#0d0887"
            ],
            [
             0.1111111111111111,
             "#46039f"
            ],
            [
             0.2222222222222222,
             "#7201a8"
            ],
            [
             0.3333333333333333,
             "#9c179e"
            ],
            [
             0.4444444444444444,
             "#bd3786"
            ],
            [
             0.5555555555555556,
             "#d8576b"
            ],
            [
             0.6666666666666666,
             "#ed7953"
            ],
            [
             0.7777777777777778,
             "#fb9f3a"
            ],
            [
             0.8888888888888888,
             "#fdca26"
            ],
            [
             1,
             "#f0f921"
            ]
           ]
          },
          "colorway": [
           "#636efa",
           "#EF553B",
           "#00cc96",
           "#ab63fa",
           "#FFA15A",
           "#19d3f3",
           "#FF6692",
           "#B6E880",
           "#FF97FF",
           "#FECB52"
          ],
          "font": {
           "color": "#2a3f5f"
          },
          "geo": {
           "bgcolor": "white",
           "lakecolor": "white",
           "landcolor": "white",
           "showlakes": true,
           "showland": true,
           "subunitcolor": "#C8D4E3"
          },
          "hoverlabel": {
           "align": "left"
          },
          "hovermode": "closest",
          "mapbox": {
           "style": "light"
          },
          "paper_bgcolor": "white",
          "plot_bgcolor": "white",
          "polar": {
           "angularaxis": {
            "gridcolor": "#EBF0F8",
            "linecolor": "#EBF0F8",
            "ticks": ""
           },
           "bgcolor": "white",
           "radialaxis": {
            "gridcolor": "#EBF0F8",
            "linecolor": "#EBF0F8",
            "ticks": ""
           }
          },
          "scene": {
           "xaxis": {
            "backgroundcolor": "white",
            "gridcolor": "#DFE8F3",
            "gridwidth": 2,
            "linecolor": "#EBF0F8",
            "showbackground": true,
            "ticks": "",
            "zerolinecolor": "#EBF0F8"
           },
           "yaxis": {
            "backgroundcolor": "white",
            "gridcolor": "#DFE8F3",
            "gridwidth": 2,
            "linecolor": "#EBF0F8",
            "showbackground": true,
            "ticks": "",
            "zerolinecolor": "#EBF0F8"
           },
           "zaxis": {
            "backgroundcolor": "white",
            "gridcolor": "#DFE8F3",
            "gridwidth": 2,
            "linecolor": "#EBF0F8",
            "showbackground": true,
            "ticks": "",
            "zerolinecolor": "#EBF0F8"
           }
          },
          "shapedefaults": {
           "line": {
            "color": "#2a3f5f"
           }
          },
          "ternary": {
           "aaxis": {
            "gridcolor": "#DFE8F3",
            "linecolor": "#A2B1C6",
            "ticks": ""
           },
           "baxis": {
            "gridcolor": "#DFE8F3",
            "linecolor": "#A2B1C6",
            "ticks": ""
           },
           "bgcolor": "white",
           "caxis": {
            "gridcolor": "#DFE8F3",
            "linecolor": "#A2B1C6",
            "ticks": ""
           }
          },
          "title": {
           "x": 0.05
          },
          "xaxis": {
           "automargin": true,
           "gridcolor": "#EBF0F8",
           "linecolor": "#EBF0F8",
           "ticks": "",
           "title": {
            "standoff": 15
           },
           "zerolinecolor": "#EBF0F8",
           "zerolinewidth": 2
          },
          "yaxis": {
           "automargin": true,
           "gridcolor": "#EBF0F8",
           "linecolor": "#EBF0F8",
           "ticks": "",
           "title": {
            "standoff": 15
           },
           "zerolinecolor": "#EBF0F8",
           "zerolinewidth": 2
          }
         }
        },
        "title": {
         "text": "Comparação CO₂ - Caso de teste: RM4 - Aceleração nula (mantendo demais variáveis) - GASOLINE",
         "x": 0.5
        },
        "xaxis": {
         "title": {
          "text": "Amostras"
         }
        },
        "yaxis": {
         "title": {
          "text": "CO₂ (g/s)"
         }
        }
       }
      }
     },
     "metadata": {},
     "output_type": "display_data"
    },
    {
     "name": "stdout",
     "output_type": "stream",
     "text": [
      "\n",
      "🔁 Caso de teste: RM5 - Velocidade constante (ETHANOL)\n",
      "Diferença Média: 0.3081 | Diferença Máxima: 1.7321 | Erro Quadrático Médio (RMSE): 0.4077 | Desvio Padrão (Std): 0.2670\n"
     ]
    },
    {
     "data": {
      "text/html": [
       "<style type=\"text/css\">\n",
       "</style>\n",
       "<table id=\"T_c2700\">\n",
       "  <caption>Comparação dos dados originais e modificados - Caso de teste: RM5 - Velocidade constante (ETHANOL)</caption>\n",
       "  <thead>\n",
       "    <tr>\n",
       "      <th class=\"blank level0\" >&nbsp;</th>\n",
       "      <th id=\"T_c2700_level0_col0\" class=\"col_heading level0 col0\" >Latitude_Orig</th>\n",
       "      <th id=\"T_c2700_level0_col1\" class=\"col_heading level0 col1\" >Longitude_Orig</th>\n",
       "      <th id=\"T_c2700_level0_col2\" class=\"col_heading level0 col2\" >Speed(OBD)(km/h)_Orig</th>\n",
       "      <th id=\"T_c2700_level0_col3\" class=\"col_heading level0 col3\" >Acceleration_Orig</th>\n",
       "      <th id=\"T_c2700_level0_col4\" class=\"col_heading level0 col4\" > </th>\n",
       "      <th id=\"T_c2700_level0_col5\" class=\"col_heading level0 col5\" >Latitude_Mod</th>\n",
       "      <th id=\"T_c2700_level0_col6\" class=\"col_heading level0 col6\" >Longitude_Mod</th>\n",
       "      <th id=\"T_c2700_level0_col7\" class=\"col_heading level0 col7\" >Speed(OBD)(km/h)_Mod</th>\n",
       "      <th id=\"T_c2700_level0_col8\" class=\"col_heading level0 col8\" >Acceleration_Mod</th>\n",
       "      <th id=\"T_c2700_level0_col9\" class=\"col_heading level0 col9\" > </th>\n",
       "      <th id=\"T_c2700_level0_col10\" class=\"col_heading level0 col10\" >CO₂_Real</th>\n",
       "      <th id=\"T_c2700_level0_col11\" class=\"col_heading level0 col11\" >CO₂_Orig</th>\n",
       "      <th id=\"T_c2700_level0_col12\" class=\"col_heading level0 col12\" >CO₂_Mod</th>\n",
       "    </tr>\n",
       "  </thead>\n",
       "  <tbody>\n",
       "    <tr>\n",
       "      <th id=\"T_c2700_level0_row0\" class=\"row_heading level0 row0\" >0</th>\n",
       "      <td id=\"T_c2700_row0_col0\" class=\"data row0 col0\" >-5.820105</td>\n",
       "      <td id=\"T_c2700_row0_col1\" class=\"data row0 col1\" >-35.220818</td>\n",
       "      <td id=\"T_c2700_row0_col2\" class=\"data row0 col2\" >3</td>\n",
       "      <td id=\"T_c2700_row0_col3\" class=\"data row0 col3\" >0.000000</td>\n",
       "      <td id=\"T_c2700_row0_col4\" class=\"data row0 col4\" >→</td>\n",
       "      <td id=\"T_c2700_row0_col5\" class=\"data row0 col5\" >-5.820105</td>\n",
       "      <td id=\"T_c2700_row0_col6\" class=\"data row0 col6\" >-35.220818</td>\n",
       "      <td id=\"T_c2700_row0_col7\" class=\"data row0 col7\" >20.896737</td>\n",
       "      <td id=\"T_c2700_row0_col8\" class=\"data row0 col8\" >0.000000</td>\n",
       "      <td id=\"T_c2700_row0_col9\" class=\"data row0 col9\" > </td>\n",
       "      <td id=\"T_c2700_row0_col10\" class=\"data row0 col10\" >0.642839</td>\n",
       "      <td id=\"T_c2700_row0_col11\" class=\"data row0 col11\" >0.742631</td>\n",
       "      <td id=\"T_c2700_row0_col12\" class=\"data row0 col12\" >1.447286</td>\n",
       "    </tr>\n",
       "    <tr>\n",
       "      <th id=\"T_c2700_level0_row1\" class=\"row_heading level0 row1\" >1</th>\n",
       "      <td id=\"T_c2700_row1_col0\" class=\"data row1 col0\" >-5.820103</td>\n",
       "      <td id=\"T_c2700_row1_col1\" class=\"data row1 col1\" >-35.220828</td>\n",
       "      <td id=\"T_c2700_row1_col2\" class=\"data row1 col2\" >5</td>\n",
       "      <td id=\"T_c2700_row1_col3\" class=\"data row1 col3\" >0.555556</td>\n",
       "      <td id=\"T_c2700_row1_col4\" class=\"data row1 col4\" >→</td>\n",
       "      <td id=\"T_c2700_row1_col5\" class=\"data row1 col5\" >-5.820103</td>\n",
       "      <td id=\"T_c2700_row1_col6\" class=\"data row1 col6\" >-35.220828</td>\n",
       "      <td id=\"T_c2700_row1_col7\" class=\"data row1 col7\" >20.896737</td>\n",
       "      <td id=\"T_c2700_row1_col8\" class=\"data row1 col8\" >0.555556</td>\n",
       "      <td id=\"T_c2700_row1_col9\" class=\"data row1 col9\" > </td>\n",
       "      <td id=\"T_c2700_row1_col10\" class=\"data row1 col10\" >0.653249</td>\n",
       "      <td id=\"T_c2700_row1_col11\" class=\"data row1 col11\" >0.771505</td>\n",
       "      <td id=\"T_c2700_row1_col12\" class=\"data row1 col12\" >1.459546</td>\n",
       "    </tr>\n",
       "    <tr>\n",
       "      <th id=\"T_c2700_level0_row2\" class=\"row_heading level0 row2\" >2</th>\n",
       "      <td id=\"T_c2700_row2_col0\" class=\"data row2 col0\" >-5.820102</td>\n",
       "      <td id=\"T_c2700_row2_col1\" class=\"data row2 col1\" >-35.220838</td>\n",
       "      <td id=\"T_c2700_row2_col2\" class=\"data row2 col2\" >5</td>\n",
       "      <td id=\"T_c2700_row2_col3\" class=\"data row2 col3\" >0.000000</td>\n",
       "      <td id=\"T_c2700_row2_col4\" class=\"data row2 col4\" >→</td>\n",
       "      <td id=\"T_c2700_row2_col5\" class=\"data row2 col5\" >-5.820102</td>\n",
       "      <td id=\"T_c2700_row2_col6\" class=\"data row2 col6\" >-35.220838</td>\n",
       "      <td id=\"T_c2700_row2_col7\" class=\"data row2 col7\" >20.896737</td>\n",
       "      <td id=\"T_c2700_row2_col8\" class=\"data row2 col8\" >0.000000</td>\n",
       "      <td id=\"T_c2700_row2_col9\" class=\"data row2 col9\" > </td>\n",
       "      <td id=\"T_c2700_row2_col10\" class=\"data row2 col10\" >0.653249</td>\n",
       "      <td id=\"T_c2700_row2_col11\" class=\"data row2 col11\" >0.771505</td>\n",
       "      <td id=\"T_c2700_row2_col12\" class=\"data row2 col12\" >1.447286</td>\n",
       "    </tr>\n",
       "    <tr>\n",
       "      <th id=\"T_c2700_level0_row3\" class=\"row_heading level0 row3\" >3</th>\n",
       "      <td id=\"T_c2700_row3_col0\" class=\"data row3 col0\" >-5.820096</td>\n",
       "      <td id=\"T_c2700_row3_col1\" class=\"data row3 col1\" >-35.220843</td>\n",
       "      <td id=\"T_c2700_row3_col2\" class=\"data row3 col2\" >3</td>\n",
       "      <td id=\"T_c2700_row3_col3\" class=\"data row3 col3\" >-0.555556</td>\n",
       "      <td id=\"T_c2700_row3_col4\" class=\"data row3 col4\" >→</td>\n",
       "      <td id=\"T_c2700_row3_col5\" class=\"data row3 col5\" >-5.820096</td>\n",
       "      <td id=\"T_c2700_row3_col6\" class=\"data row3 col6\" >-35.220843</td>\n",
       "      <td id=\"T_c2700_row3_col7\" class=\"data row3 col7\" >20.896737</td>\n",
       "      <td id=\"T_c2700_row3_col8\" class=\"data row3 col8\" >-0.555556</td>\n",
       "      <td id=\"T_c2700_row3_col9\" class=\"data row3 col9\" > </td>\n",
       "      <td id=\"T_c2700_row3_col10\" class=\"data row3 col10\" >0.679275</td>\n",
       "      <td id=\"T_c2700_row3_col11\" class=\"data row3 col11\" >0.659013</td>\n",
       "      <td id=\"T_c2700_row3_col12\" class=\"data row3 col12\" >0.666306</td>\n",
       "    </tr>\n",
       "    <tr>\n",
       "      <th id=\"T_c2700_level0_row4\" class=\"row_heading level0 row4\" >4</th>\n",
       "      <td id=\"T_c2700_row4_col0\" class=\"data row4 col0\" >-5.820091</td>\n",
       "      <td id=\"T_c2700_row4_col1\" class=\"data row4 col1\" >-35.220850</td>\n",
       "      <td id=\"T_c2700_row4_col2\" class=\"data row4 col2\" >0</td>\n",
       "      <td id=\"T_c2700_row4_col3\" class=\"data row4 col3\" >-0.833333</td>\n",
       "      <td id=\"T_c2700_row4_col4\" class=\"data row4 col4\" >→</td>\n",
       "      <td id=\"T_c2700_row4_col5\" class=\"data row4 col5\" >-5.820091</td>\n",
       "      <td id=\"T_c2700_row4_col6\" class=\"data row4 col6\" >-35.220850</td>\n",
       "      <td id=\"T_c2700_row4_col7\" class=\"data row4 col7\" >20.896737</td>\n",
       "      <td id=\"T_c2700_row4_col8\" class=\"data row4 col8\" >-0.833333</td>\n",
       "      <td id=\"T_c2700_row4_col9\" class=\"data row4 col9\" > </td>\n",
       "      <td id=\"T_c2700_row4_col10\" class=\"data row4 col10\" >0.610306</td>\n",
       "      <td id=\"T_c2700_row4_col11\" class=\"data row4 col11\" >0.667689</td>\n",
       "      <td id=\"T_c2700_row4_col12\" class=\"data row4 col12\" >0.853810</td>\n",
       "    </tr>\n",
       "    <tr>\n",
       "      <th id=\"T_c2700_level0_row5\" class=\"row_heading level0 row5\" >5</th>\n",
       "      <td id=\"T_c2700_row5_col0\" class=\"data row5 col0\" >-5.820091</td>\n",
       "      <td id=\"T_c2700_row5_col1\" class=\"data row5 col1\" >-35.220850</td>\n",
       "      <td id=\"T_c2700_row5_col2\" class=\"data row5 col2\" >0</td>\n",
       "      <td id=\"T_c2700_row5_col3\" class=\"data row5 col3\" >0.000000</td>\n",
       "      <td id=\"T_c2700_row5_col4\" class=\"data row5 col4\" >→</td>\n",
       "      <td id=\"T_c2700_row5_col5\" class=\"data row5 col5\" >-5.820091</td>\n",
       "      <td id=\"T_c2700_row5_col6\" class=\"data row5 col6\" >-35.220850</td>\n",
       "      <td id=\"T_c2700_row5_col7\" class=\"data row5 col7\" >20.896737</td>\n",
       "      <td id=\"T_c2700_row5_col8\" class=\"data row5 col8\" >0.000000</td>\n",
       "      <td id=\"T_c2700_row5_col9\" class=\"data row5 col9\" > </td>\n",
       "      <td id=\"T_c2700_row5_col10\" class=\"data row5 col10\" >0.610306</td>\n",
       "      <td id=\"T_c2700_row5_col11\" class=\"data row5 col11\" >0.706858</td>\n",
       "      <td id=\"T_c2700_row5_col12\" class=\"data row5 col12\" >1.556241</td>\n",
       "    </tr>\n",
       "    <tr>\n",
       "      <th id=\"T_c2700_level0_row6\" class=\"row_heading level0 row6\" >6</th>\n",
       "      <td id=\"T_c2700_row6_col0\" class=\"data row6 col0\" >-5.820091</td>\n",
       "      <td id=\"T_c2700_row6_col1\" class=\"data row6 col1\" >-35.220850</td>\n",
       "      <td id=\"T_c2700_row6_col2\" class=\"data row6 col2\" >0</td>\n",
       "      <td id=\"T_c2700_row6_col3\" class=\"data row6 col3\" >0.000000</td>\n",
       "      <td id=\"T_c2700_row6_col4\" class=\"data row6 col4\" >→</td>\n",
       "      <td id=\"T_c2700_row6_col5\" class=\"data row6 col5\" >-5.820091</td>\n",
       "      <td id=\"T_c2700_row6_col6\" class=\"data row6 col6\" >-35.220850</td>\n",
       "      <td id=\"T_c2700_row6_col7\" class=\"data row6 col7\" >20.896737</td>\n",
       "      <td id=\"T_c2700_row6_col8\" class=\"data row6 col8\" >0.000000</td>\n",
       "      <td id=\"T_c2700_row6_col9\" class=\"data row6 col9\" > </td>\n",
       "      <td id=\"T_c2700_row6_col10\" class=\"data row6 col10\" >0.490587</td>\n",
       "      <td id=\"T_c2700_row6_col11\" class=\"data row6 col11\" >0.706858</td>\n",
       "      <td id=\"T_c2700_row6_col12\" class=\"data row6 col12\" >1.556241</td>\n",
       "    </tr>\n",
       "    <tr>\n",
       "      <th id=\"T_c2700_level0_row7\" class=\"row_heading level0 row7\" >7</th>\n",
       "      <td id=\"T_c2700_row7_col0\" class=\"data row7 col0\" >-5.820085</td>\n",
       "      <td id=\"T_c2700_row7_col1\" class=\"data row7 col1\" >-35.220856</td>\n",
       "      <td id=\"T_c2700_row7_col2\" class=\"data row7 col2\" >3</td>\n",
       "      <td id=\"T_c2700_row7_col3\" class=\"data row7 col3\" >0.833333</td>\n",
       "      <td id=\"T_c2700_row7_col4\" class=\"data row7 col4\" >→</td>\n",
       "      <td id=\"T_c2700_row7_col5\" class=\"data row7 col5\" >-5.820085</td>\n",
       "      <td id=\"T_c2700_row7_col6\" class=\"data row7 col6\" >-35.220856</td>\n",
       "      <td id=\"T_c2700_row7_col7\" class=\"data row7 col7\" >20.896737</td>\n",
       "      <td id=\"T_c2700_row7_col8\" class=\"data row7 col8\" >0.833333</td>\n",
       "      <td id=\"T_c2700_row7_col9\" class=\"data row7 col9\" > </td>\n",
       "      <td id=\"T_c2700_row7_col10\" class=\"data row7 col10\" >1.090483</td>\n",
       "      <td id=\"T_c2700_row7_col11\" class=\"data row7 col11\" >1.137803</td>\n",
       "      <td id=\"T_c2700_row7_col12\" class=\"data row7 col12\" >1.569425</td>\n",
       "    </tr>\n",
       "    <tr>\n",
       "      <th id=\"T_c2700_level0_row8\" class=\"row_heading level0 row8\" >8</th>\n",
       "      <td id=\"T_c2700_row8_col0\" class=\"data row8 col0\" >-5.820074</td>\n",
       "      <td id=\"T_c2700_row8_col1\" class=\"data row8 col1\" >-35.220859</td>\n",
       "      <td id=\"T_c2700_row8_col2\" class=\"data row8 col2\" >3</td>\n",
       "      <td id=\"T_c2700_row8_col3\" class=\"data row8 col3\" >0.000000</td>\n",
       "      <td id=\"T_c2700_row8_col4\" class=\"data row8 col4\" >→</td>\n",
       "      <td id=\"T_c2700_row8_col5\" class=\"data row8 col5\" >-5.820074</td>\n",
       "      <td id=\"T_c2700_row8_col6\" class=\"data row8 col6\" >-35.220859</td>\n",
       "      <td id=\"T_c2700_row8_col7\" class=\"data row8 col7\" >20.896737</td>\n",
       "      <td id=\"T_c2700_row8_col8\" class=\"data row8 col8\" >0.000000</td>\n",
       "      <td id=\"T_c2700_row8_col9\" class=\"data row8 col9\" > </td>\n",
       "      <td id=\"T_c2700_row8_col10\" class=\"data row8 col10\" >1.090483</td>\n",
       "      <td id=\"T_c2700_row8_col11\" class=\"data row8 col11\" >1.137803</td>\n",
       "      <td id=\"T_c2700_row8_col12\" class=\"data row8 col12\" >1.556241</td>\n",
       "    </tr>\n",
       "    <tr>\n",
       "      <th id=\"T_c2700_level0_row9\" class=\"row_heading level0 row9\" >9</th>\n",
       "      <td id=\"T_c2700_row9_col0\" class=\"data row9 col0\" >-5.820064</td>\n",
       "      <td id=\"T_c2700_row9_col1\" class=\"data row9 col1\" >-35.220858</td>\n",
       "      <td id=\"T_c2700_row9_col2\" class=\"data row9 col2\" >3</td>\n",
       "      <td id=\"T_c2700_row9_col3\" class=\"data row9 col3\" >0.000000</td>\n",
       "      <td id=\"T_c2700_row9_col4\" class=\"data row9 col4\" >→</td>\n",
       "      <td id=\"T_c2700_row9_col5\" class=\"data row9 col5\" >-5.820064</td>\n",
       "      <td id=\"T_c2700_row9_col6\" class=\"data row9 col6\" >-35.220858</td>\n",
       "      <td id=\"T_c2700_row9_col7\" class=\"data row9 col7\" >20.896737</td>\n",
       "      <td id=\"T_c2700_row9_col8\" class=\"data row9 col8\" >0.000000</td>\n",
       "      <td id=\"T_c2700_row9_col9\" class=\"data row9 col9\" > </td>\n",
       "      <td id=\"T_c2700_row9_col10\" class=\"data row9 col10\" >0.921315</td>\n",
       "      <td id=\"T_c2700_row9_col11\" class=\"data row9 col11\" >1.137803</td>\n",
       "      <td id=\"T_c2700_row9_col12\" class=\"data row9 col12\" >1.556241</td>\n",
       "    </tr>\n",
       "  </tbody>\n",
       "</table>\n"
      ],
      "text/plain": [
       "<pandas.io.formats.style.Styler at 0x1bd896c43d0>"
      ]
     },
     "metadata": {},
     "output_type": "display_data"
    },
    {
     "data": {
      "application/vnd.plotly.v1+json": {
       "config": {
        "plotlyServerURL": "https://plot.ly"
       },
       "data": [
        {
         "line": {
          "color": "green",
          "dash": "dot"
         },
         "mode": "lines",
         "name": "Real",
         "type": "scatter",
         "y": {
          "bdata": "Xv2WDSKS5D+bk2QeaufkP5uTZB5q5+Q/NotmSJ685T/ehxTZoIfjP96HFNmgh+M/M5CwL8hl3z/dnA9wnnLxP92cD3CecvE/T3ASz2l77T+UX3iidnLyPz8yMAV+Z/Q/PzIwBX5n9D8ti7UITBb8PzhhcBqj5vk/KSOOULfS8D8pI45Qt9LwP7us/CApG+8/cjYv8OP84z+t9vIuJyjgP6328i4nKOA/geLz0z/39T+rgxXuOvLzP6uDFe468vM/mb1aTGW9AEB0UCWuXTcFQJNSfcM51QFAk1J9wznVAUDU4Eocwdz0P40G4N+x0N0/MaWrxsVQ3T+Gb8fSpWfjP4Zvx9KlZ+M/RJASr2yy4j+u4feXKT3iPxtsE+QD5v0/G2wT5APm/T9xVW+Vh+D+P/WBu/ZpMek/9YG79mkx6T8EcmzGOjzYP6VZboDtdf4/WOugB2mlAEBY66AHaaUAQFcs1yJHEfo/jF/HYiTM+D+vRCQpQjH6P69EJClCMfo/IlLOZdxR9j8U6vVt9WfxP9L1RbO+x/I/0vVFs77H8j9JPCZTdgbrPy3PofTAJtk/Lc+h9MAm2T83dmuxoNHXP5m9WkxlveA/wxqQeuun4T/DGpB666fhPy5sdWOoMgFAN3ZrsaDRB0CTtalUUskJQJO1qVRSyQlAUQXmhZA5CECzrwGybRkJQLOvAbJtGQlAadNRH3liAkDxyvHJCOv/P/HK8ckI6/8/ZYpqDIgCAkDcITJ38e4HQFhbyHe+Nvk/WFvId742+T+BiQxRzfvaP+KMDwAd1/Y/4owPAB3X9j9nuVth/yfxP4GJDFHN+9o/VyzXIkcR2j9XLNciRxHKPzhhcBqj5sk/mb1aTGW90D+rqr6oeQbiPxTJ619+uOE/cloUOF8j9z+cBUVJAVwCQO7F9qKMm/w/7sX2ooyb/D8XwP8/+pH1Py66pl3DO9s/YtOg3ya82D8GXXEvPVHKPwZdcS89Uco/3P87AbdmyT8zkLAvyGXPPxdp8ttk2OI/F2ny22TY4j/s9fsW3vTiP/4o4Wa23vY/g+DZ9mxa+z8=",
          "dtype": "f8"
         }
        },
        {
         "line": {
          "color": "blue",
          "dash": "dash"
         },
         "mode": "lines",
         "name": "Predição Original",
         "type": "scatter",
         "y": {
          "bdata": "A1nGMaLD5z/rGxZ+K7DoP+sbFn4rsOg/ZNKEuKEW5T8gJJx1tV3lP1qolBeUnuY/WqiUF5Se5j8vN5pfcTTyPy83ml9xNPI/LzeaX3E08j8LUj4DVmv0P2cHXp66ovQ/lajUrwhy8z8ERxYOSyj4P0gf5HQeCfI/if7LZHnq7z8XHaiiCV3vP6Btm6JJmew/vGW1En/65z9MP1pTWq7wP/J2f86FGvA/Rx/yOxHc8D9HH/I7EdzwP0cf8jsR3PA/Wi2PK9ct9T99iPbmwzv1P+s7h6uSvvI/jlifB2hB+z/KAreWPx7tP2CGcv2h3+w/DE1YhnUh4z+r91rqETzvPzST+4nO/eQ/tcGbWjP25j8r0X6ZskrsPzXVexnn+PI/jsX9rHxr8z+YODlE2Q7zPxrw1xsMw+0/6+G9lxVx7T+VLCu5vQ3pP5kI65KAuvA/xV7vM9nJ8j+3rXXsTRn+P7nipTU15fQ/Ahig1qK48j97HMyYL2j0P61VsDSbgfU/gKXeX7rt9D8lL/FG5m/yP1D9sJ1ASPI/ONgUq37H8z/SblJX33btP6Pvp4KhC+M/A1unplDL5j/tVn03pGviP09EUKldGOg/RjLkVnwe6D+bSQJT7m7oP/kNtZK+Z+k/BO79CuHa9z9uhs6rFD4AQDSsx4gppPs/JoJSHH6Y9j8b5eo1rb34P7wp1TtfOgFA605wkeGE9z+CQHPA6Nf7P96W8dRj7vo/77f/lcKE+T8/0HaFb3j5P0ixId0VM/o/2QaTrAQF9T89ims167HjP+Roiw7ssfA/N+aifBlj8D+LMRVBlGrvP6CylwUtpOE/UCAMIn9U4D86TWpu5ebtP5PEfPDbnN0/8ql5Nfn/4D83OrmjNxvhP9ETGcqqqOg/TEBpKYVw9j/5y4EaW9T4P6g7DuceO/U/scgFb/N/8D+73vRQdeXuP5DaSmyYQ+A/1hTHV/j+2j9wnnVfpazbPzJoid+r2eU/KlRdoNof2z8xuA2DPjffP3qotC6cE+Y/eqi0LpwT5j96qLQunBPmPwHia4Ko5fc/29W9hKHm9z8=",
          "dtype": "f8"
         }
        },
        {
         "line": {
          "color": "red"
         },
         "mode": "lines",
         "name": "Predição com RM",
         "type": "scatter",
         "y": {
          "bdata": "91TaexUo9z8jnbs1TVr3P/dU2nsVKPc///T1c2FS5T8kwWPlaFLrP0CxIWBd5vg/QLEhYF3m+D9JU5jpXBz5P0CxIWBd5vg/QLEhYF3m+D9JU5jpXBz5P07kbm6NyPY/BqMl0kXh8z+gpaUaLjj0P6ClpRouOPQ/YNsRJOj49D+jOpo1kEH1P6PnKkw0p/Q/XSLZKJcw5j+j5ypMNKf0P/LzTcrrfOQ/p71KY0TK8j+nvUpjRMryP6e9SmNEyvI/9LcyAATz8j/c+tGxIY30P8QdXbsXX/Q/V21WnSE39z+LEIJ38ujyP4UzU4FIwPI/LbynyU+85z8+MwuO18XvP1yEo6A9/eY/XISjoD395j9GtpyAFYXiP/uComJFR/A/SZIn+znm5D/8la5nG0TyPz9se5aSavA/+4KiYkVH8D+OWkgqoPniP/uComJFR/A/NRwhc0gQ8j9mUlZXPp/1P7nipTU15fQ/BFIsjWZX9T9v+QpY3231PyNEfxVYnPU/sW4yQ3pM8z9Nf2lAVHbzP7FuMkN6TPM/zi4fQpZM8T8MXCyRL8TnP8jhtRufyOI/DFwskS/E5z/ROWXQ/pniPwfQt34BNuM/B9C3fgE24z89YtHmlZ3pP5bnI++mw/c/JbqXILyo8z8l3GyxHlT8P5pDA0bNXPM/mkMDRs1c8z/DaBzSQDHyP7aYwxThvvg/japvfJsh8T/eiPwuYqz5P1tSjlQkN/g/UoBW2eU3+D/YQyGmK174P9hDIaYrXvg/hbMB/p688D/kuSmdw9noPz73tOB4zvA/CL4mYrOB8D+xgC4IDI/wP9xTnCSRTuc/S0TRIWdl3z/vAcvkF2zwP+fVp1O+MN4/f2+c7USi5D9/b5ztRKLkP7YuZ6rtteo/BJFkyejm7z+Ao6Wb7knwP/KIUEi+KvU/+QFW1E6I7z/2qlgYi9nwP78oV3lL3uI/s31ulWua2T/ERfmIcLDaP2iiAkpTC+Q/s31ulWua2T+/KFd5S97iP2iiAkpTC+Q/aKICSlML5D9oogJKUwvkPzkNwHaDQOQ/P99UiWoW5D8=",
          "dtype": "f8"
         }
        }
       ],
       "layout": {
        "template": {
         "data": {
          "bar": [
           {
            "error_x": {
             "color": "#2a3f5f"
            },
            "error_y": {
             "color": "#2a3f5f"
            },
            "marker": {
             "line": {
              "color": "white",
              "width": 0.5
             },
             "pattern": {
              "fillmode": "overlay",
              "size": 10,
              "solidity": 0.2
             }
            },
            "type": "bar"
           }
          ],
          "barpolar": [
           {
            "marker": {
             "line": {
              "color": "white",
              "width": 0.5
             },
             "pattern": {
              "fillmode": "overlay",
              "size": 10,
              "solidity": 0.2
             }
            },
            "type": "barpolar"
           }
          ],
          "carpet": [
           {
            "aaxis": {
             "endlinecolor": "#2a3f5f",
             "gridcolor": "#C8D4E3",
             "linecolor": "#C8D4E3",
             "minorgridcolor": "#C8D4E3",
             "startlinecolor": "#2a3f5f"
            },
            "baxis": {
             "endlinecolor": "#2a3f5f",
             "gridcolor": "#C8D4E3",
             "linecolor": "#C8D4E3",
             "minorgridcolor": "#C8D4E3",
             "startlinecolor": "#2a3f5f"
            },
            "type": "carpet"
           }
          ],
          "choropleth": [
           {
            "colorbar": {
             "outlinewidth": 0,
             "ticks": ""
            },
            "type": "choropleth"
           }
          ],
          "contour": [
           {
            "colorbar": {
             "outlinewidth": 0,
             "ticks": ""
            },
            "colorscale": [
             [
              0,
              "#0d0887"
             ],
             [
              0.1111111111111111,
              "#46039f"
             ],
             [
              0.2222222222222222,
              "#7201a8"
             ],
             [
              0.3333333333333333,
              "#9c179e"
             ],
             [
              0.4444444444444444,
              "#bd3786"
             ],
             [
              0.5555555555555556,
              "#d8576b"
             ],
             [
              0.6666666666666666,
              "#ed7953"
             ],
             [
              0.7777777777777778,
              "#fb9f3a"
             ],
             [
              0.8888888888888888,
              "#fdca26"
             ],
             [
              1,
              "#f0f921"
             ]
            ],
            "type": "contour"
           }
          ],
          "contourcarpet": [
           {
            "colorbar": {
             "outlinewidth": 0,
             "ticks": ""
            },
            "type": "contourcarpet"
           }
          ],
          "heatmap": [
           {
            "colorbar": {
             "outlinewidth": 0,
             "ticks": ""
            },
            "colorscale": [
             [
              0,
              "#0d0887"
             ],
             [
              0.1111111111111111,
              "#46039f"
             ],
             [
              0.2222222222222222,
              "#7201a8"
             ],
             [
              0.3333333333333333,
              "#9c179e"
             ],
             [
              0.4444444444444444,
              "#bd3786"
             ],
             [
              0.5555555555555556,
              "#d8576b"
             ],
             [
              0.6666666666666666,
              "#ed7953"
             ],
             [
              0.7777777777777778,
              "#fb9f3a"
             ],
             [
              0.8888888888888888,
              "#fdca26"
             ],
             [
              1,
              "#f0f921"
             ]
            ],
            "type": "heatmap"
           }
          ],
          "histogram": [
           {
            "marker": {
             "pattern": {
              "fillmode": "overlay",
              "size": 10,
              "solidity": 0.2
             }
            },
            "type": "histogram"
           }
          ],
          "histogram2d": [
           {
            "colorbar": {
             "outlinewidth": 0,
             "ticks": ""
            },
            "colorscale": [
             [
              0,
              "#0d0887"
             ],
             [
              0.1111111111111111,
              "#46039f"
             ],
             [
              0.2222222222222222,
              "#7201a8"
             ],
             [
              0.3333333333333333,
              "#9c179e"
             ],
             [
              0.4444444444444444,
              "#bd3786"
             ],
             [
              0.5555555555555556,
              "#d8576b"
             ],
             [
              0.6666666666666666,
              "#ed7953"
             ],
             [
              0.7777777777777778,
              "#fb9f3a"
             ],
             [
              0.8888888888888888,
              "#fdca26"
             ],
             [
              1,
              "#f0f921"
             ]
            ],
            "type": "histogram2d"
           }
          ],
          "histogram2dcontour": [
           {
            "colorbar": {
             "outlinewidth": 0,
             "ticks": ""
            },
            "colorscale": [
             [
              0,
              "#0d0887"
             ],
             [
              0.1111111111111111,
              "#46039f"
             ],
             [
              0.2222222222222222,
              "#7201a8"
             ],
             [
              0.3333333333333333,
              "#9c179e"
             ],
             [
              0.4444444444444444,
              "#bd3786"
             ],
             [
              0.5555555555555556,
              "#d8576b"
             ],
             [
              0.6666666666666666,
              "#ed7953"
             ],
             [
              0.7777777777777778,
              "#fb9f3a"
             ],
             [
              0.8888888888888888,
              "#fdca26"
             ],
             [
              1,
              "#f0f921"
             ]
            ],
            "type": "histogram2dcontour"
           }
          ],
          "mesh3d": [
           {
            "colorbar": {
             "outlinewidth": 0,
             "ticks": ""
            },
            "type": "mesh3d"
           }
          ],
          "parcoords": [
           {
            "line": {
             "colorbar": {
              "outlinewidth": 0,
              "ticks": ""
             }
            },
            "type": "parcoords"
           }
          ],
          "pie": [
           {
            "automargin": true,
            "type": "pie"
           }
          ],
          "scatter": [
           {
            "fillpattern": {
             "fillmode": "overlay",
             "size": 10,
             "solidity": 0.2
            },
            "type": "scatter"
           }
          ],
          "scatter3d": [
           {
            "line": {
             "colorbar": {
              "outlinewidth": 0,
              "ticks": ""
             }
            },
            "marker": {
             "colorbar": {
              "outlinewidth": 0,
              "ticks": ""
             }
            },
            "type": "scatter3d"
           }
          ],
          "scattercarpet": [
           {
            "marker": {
             "colorbar": {
              "outlinewidth": 0,
              "ticks": ""
             }
            },
            "type": "scattercarpet"
           }
          ],
          "scattergeo": [
           {
            "marker": {
             "colorbar": {
              "outlinewidth": 0,
              "ticks": ""
             }
            },
            "type": "scattergeo"
           }
          ],
          "scattergl": [
           {
            "marker": {
             "colorbar": {
              "outlinewidth": 0,
              "ticks": ""
             }
            },
            "type": "scattergl"
           }
          ],
          "scattermap": [
           {
            "marker": {
             "colorbar": {
              "outlinewidth": 0,
              "ticks": ""
             }
            },
            "type": "scattermap"
           }
          ],
          "scattermapbox": [
           {
            "marker": {
             "colorbar": {
              "outlinewidth": 0,
              "ticks": ""
             }
            },
            "type": "scattermapbox"
           }
          ],
          "scatterpolar": [
           {
            "marker": {
             "colorbar": {
              "outlinewidth": 0,
              "ticks": ""
             }
            },
            "type": "scatterpolar"
           }
          ],
          "scatterpolargl": [
           {
            "marker": {
             "colorbar": {
              "outlinewidth": 0,
              "ticks": ""
             }
            },
            "type": "scatterpolargl"
           }
          ],
          "scatterternary": [
           {
            "marker": {
             "colorbar": {
              "outlinewidth": 0,
              "ticks": ""
             }
            },
            "type": "scatterternary"
           }
          ],
          "surface": [
           {
            "colorbar": {
             "outlinewidth": 0,
             "ticks": ""
            },
            "colorscale": [
             [
              0,
              "#0d0887"
             ],
             [
              0.1111111111111111,
              "#46039f"
             ],
             [
              0.2222222222222222,
              "#7201a8"
             ],
             [
              0.3333333333333333,
              "#9c179e"
             ],
             [
              0.4444444444444444,
              "#bd3786"
             ],
             [
              0.5555555555555556,
              "#d8576b"
             ],
             [
              0.6666666666666666,
              "#ed7953"
             ],
             [
              0.7777777777777778,
              "#fb9f3a"
             ],
             [
              0.8888888888888888,
              "#fdca26"
             ],
             [
              1,
              "#f0f921"
             ]
            ],
            "type": "surface"
           }
          ],
          "table": [
           {
            "cells": {
             "fill": {
              "color": "#EBF0F8"
             },
             "line": {
              "color": "white"
             }
            },
            "header": {
             "fill": {
              "color": "#C8D4E3"
             },
             "line": {
              "color": "white"
             }
            },
            "type": "table"
           }
          ]
         },
         "layout": {
          "annotationdefaults": {
           "arrowcolor": "#2a3f5f",
           "arrowhead": 0,
           "arrowwidth": 1
          },
          "autotypenumbers": "strict",
          "coloraxis": {
           "colorbar": {
            "outlinewidth": 0,
            "ticks": ""
           }
          },
          "colorscale": {
           "diverging": [
            [
             0,
             "#8e0152"
            ],
            [
             0.1,
             "#c51b7d"
            ],
            [
             0.2,
             "#de77ae"
            ],
            [
             0.3,
             "#f1b6da"
            ],
            [
             0.4,
             "#fde0ef"
            ],
            [
             0.5,
             "#f7f7f7"
            ],
            [
             0.6,
             "#e6f5d0"
            ],
            [
             0.7,
             "#b8e186"
            ],
            [
             0.8,
             "#7fbc41"
            ],
            [
             0.9,
             "#4d9221"
            ],
            [
             1,
             "#276419"
            ]
           ],
           "sequential": [
            [
             0,
             "#0d0887"
            ],
            [
             0.1111111111111111,
             "#46039f"
            ],
            [
             0.2222222222222222,
             "#7201a8"
            ],
            [
             0.3333333333333333,
             "#9c179e"
            ],
            [
             0.4444444444444444,
             "#bd3786"
            ],
            [
             0.5555555555555556,
             "#d8576b"
            ],
            [
             0.6666666666666666,
             "#ed7953"
            ],
            [
             0.7777777777777778,
             "#fb9f3a"
            ],
            [
             0.8888888888888888,
             "#fdca26"
            ],
            [
             1,
             "#f0f921"
            ]
           ],
           "sequentialminus": [
            [
             0,
             "#0d0887"
            ],
            [
             0.1111111111111111,
             "#46039f"
            ],
            [
             0.2222222222222222,
             "#7201a8"
            ],
            [
             0.3333333333333333,
             "#9c179e"
            ],
            [
             0.4444444444444444,
             "#bd3786"
            ],
            [
             0.5555555555555556,
             "#d8576b"
            ],
            [
             0.6666666666666666,
             "#ed7953"
            ],
            [
             0.7777777777777778,
             "#fb9f3a"
            ],
            [
             0.8888888888888888,
             "#fdca26"
            ],
            [
             1,
             "#f0f921"
            ]
           ]
          },
          "colorway": [
           "#636efa",
           "#EF553B",
           "#00cc96",
           "#ab63fa",
           "#FFA15A",
           "#19d3f3",
           "#FF6692",
           "#B6E880",
           "#FF97FF",
           "#FECB52"
          ],
          "font": {
           "color": "#2a3f5f"
          },
          "geo": {
           "bgcolor": "white",
           "lakecolor": "white",
           "landcolor": "white",
           "showlakes": true,
           "showland": true,
           "subunitcolor": "#C8D4E3"
          },
          "hoverlabel": {
           "align": "left"
          },
          "hovermode": "closest",
          "mapbox": {
           "style": "light"
          },
          "paper_bgcolor": "white",
          "plot_bgcolor": "white",
          "polar": {
           "angularaxis": {
            "gridcolor": "#EBF0F8",
            "linecolor": "#EBF0F8",
            "ticks": ""
           },
           "bgcolor": "white",
           "radialaxis": {
            "gridcolor": "#EBF0F8",
            "linecolor": "#EBF0F8",
            "ticks": ""
           }
          },
          "scene": {
           "xaxis": {
            "backgroundcolor": "white",
            "gridcolor": "#DFE8F3",
            "gridwidth": 2,
            "linecolor": "#EBF0F8",
            "showbackground": true,
            "ticks": "",
            "zerolinecolor": "#EBF0F8"
           },
           "yaxis": {
            "backgroundcolor": "white",
            "gridcolor": "#DFE8F3",
            "gridwidth": 2,
            "linecolor": "#EBF0F8",
            "showbackground": true,
            "ticks": "",
            "zerolinecolor": "#EBF0F8"
           },
           "zaxis": {
            "backgroundcolor": "white",
            "gridcolor": "#DFE8F3",
            "gridwidth": 2,
            "linecolor": "#EBF0F8",
            "showbackground": true,
            "ticks": "",
            "zerolinecolor": "#EBF0F8"
           }
          },
          "shapedefaults": {
           "line": {
            "color": "#2a3f5f"
           }
          },
          "ternary": {
           "aaxis": {
            "gridcolor": "#DFE8F3",
            "linecolor": "#A2B1C6",
            "ticks": ""
           },
           "baxis": {
            "gridcolor": "#DFE8F3",
            "linecolor": "#A2B1C6",
            "ticks": ""
           },
           "bgcolor": "white",
           "caxis": {
            "gridcolor": "#DFE8F3",
            "linecolor": "#A2B1C6",
            "ticks": ""
           }
          },
          "title": {
           "x": 0.05
          },
          "xaxis": {
           "automargin": true,
           "gridcolor": "#EBF0F8",
           "linecolor": "#EBF0F8",
           "ticks": "",
           "title": {
            "standoff": 15
           },
           "zerolinecolor": "#EBF0F8",
           "zerolinewidth": 2
          },
          "yaxis": {
           "automargin": true,
           "gridcolor": "#EBF0F8",
           "linecolor": "#EBF0F8",
           "ticks": "",
           "title": {
            "standoff": 15
           },
           "zerolinecolor": "#EBF0F8",
           "zerolinewidth": 2
          }
         }
        },
        "title": {
         "text": "Comparação CO₂ - Caso de teste: RM5 - Velocidade constante - ETHANOL",
         "x": 0.5
        },
        "xaxis": {
         "title": {
          "text": "Amostras"
         }
        },
        "yaxis": {
         "title": {
          "text": "CO₂ (g/s)"
         }
        }
       }
      }
     },
     "metadata": {},
     "output_type": "display_data"
    },
    {
     "name": "stdout",
     "output_type": "stream",
     "text": [
      "\n",
      "🔁 Caso de teste: RM5 - Velocidade constante (GASOLINE)\n",
      "Diferença Média: 0.3768 | Diferença Máxima: 1.3891 | Erro Quadrático Médio (RMSE): 0.5071 | Desvio Padrão (Std): 0.3394\n"
     ]
    },
    {
     "data": {
      "text/html": [
       "<style type=\"text/css\">\n",
       "</style>\n",
       "<table id=\"T_0c044\">\n",
       "  <caption>Comparação dos dados originais e modificados - Caso de teste: RM5 - Velocidade constante (GASOLINE)</caption>\n",
       "  <thead>\n",
       "    <tr>\n",
       "      <th class=\"blank level0\" >&nbsp;</th>\n",
       "      <th id=\"T_0c044_level0_col0\" class=\"col_heading level0 col0\" >Latitude_Orig</th>\n",
       "      <th id=\"T_0c044_level0_col1\" class=\"col_heading level0 col1\" >Longitude_Orig</th>\n",
       "      <th id=\"T_0c044_level0_col2\" class=\"col_heading level0 col2\" >Speed(OBD)(km/h)_Orig</th>\n",
       "      <th id=\"T_0c044_level0_col3\" class=\"col_heading level0 col3\" >Acceleration_Orig</th>\n",
       "      <th id=\"T_0c044_level0_col4\" class=\"col_heading level0 col4\" > </th>\n",
       "      <th id=\"T_0c044_level0_col5\" class=\"col_heading level0 col5\" >Latitude_Mod</th>\n",
       "      <th id=\"T_0c044_level0_col6\" class=\"col_heading level0 col6\" >Longitude_Mod</th>\n",
       "      <th id=\"T_0c044_level0_col7\" class=\"col_heading level0 col7\" >Speed(OBD)(km/h)_Mod</th>\n",
       "      <th id=\"T_0c044_level0_col8\" class=\"col_heading level0 col8\" >Acceleration_Mod</th>\n",
       "      <th id=\"T_0c044_level0_col9\" class=\"col_heading level0 col9\" > </th>\n",
       "      <th id=\"T_0c044_level0_col10\" class=\"col_heading level0 col10\" >CO₂_Real</th>\n",
       "      <th id=\"T_0c044_level0_col11\" class=\"col_heading level0 col11\" >CO₂_Orig</th>\n",
       "      <th id=\"T_0c044_level0_col12\" class=\"col_heading level0 col12\" >CO₂_Mod</th>\n",
       "    </tr>\n",
       "  </thead>\n",
       "  <tbody>\n",
       "    <tr>\n",
       "      <th id=\"T_0c044_level0_row0\" class=\"row_heading level0 row0\" >0</th>\n",
       "      <td id=\"T_0c044_row0_col0\" class=\"data row0 col0\" >-5.820010</td>\n",
       "      <td id=\"T_0c044_row0_col1\" class=\"data row0 col1\" >-35.220825</td>\n",
       "      <td id=\"T_0c044_row0_col2\" class=\"data row0 col2\" >5</td>\n",
       "      <td id=\"T_0c044_row0_col3\" class=\"data row0 col3\" >0.000000</td>\n",
       "      <td id=\"T_0c044_row0_col4\" class=\"data row0 col4\" >→</td>\n",
       "      <td id=\"T_0c044_row0_col5\" class=\"data row0 col5\" >-5.820010</td>\n",
       "      <td id=\"T_0c044_row0_col6\" class=\"data row0 col6\" >-35.220825</td>\n",
       "      <td id=\"T_0c044_row0_col7\" class=\"data row0 col7\" >24.494192</td>\n",
       "      <td id=\"T_0c044_row0_col8\" class=\"data row0 col8\" >0.000000</td>\n",
       "      <td id=\"T_0c044_row0_col9\" class=\"data row0 col9\" > </td>\n",
       "      <td id=\"T_0c044_row0_col10\" class=\"data row0 col10\" >1.002671</td>\n",
       "      <td id=\"T_0c044_row0_col11\" class=\"data row0 col11\" >1.456781</td>\n",
       "      <td id=\"T_0c044_row0_col12\" class=\"data row0 col12\" >2.005537</td>\n",
       "    </tr>\n",
       "    <tr>\n",
       "      <th id=\"T_0c044_level0_row1\" class=\"row_heading level0 row1\" >1</th>\n",
       "      <td id=\"T_0c044_row1_col0\" class=\"data row1 col0\" >-5.820013</td>\n",
       "      <td id=\"T_0c044_row1_col1\" class=\"data row1 col1\" >-35.220822</td>\n",
       "      <td id=\"T_0c044_row1_col2\" class=\"data row1 col2\" >4</td>\n",
       "      <td id=\"T_0c044_row1_col3\" class=\"data row1 col3\" >-0.277778</td>\n",
       "      <td id=\"T_0c044_row1_col4\" class=\"data row1 col4\" >→</td>\n",
       "      <td id=\"T_0c044_row1_col5\" class=\"data row1 col5\" >-5.820013</td>\n",
       "      <td id=\"T_0c044_row1_col6\" class=\"data row1 col6\" >-35.220822</td>\n",
       "      <td id=\"T_0c044_row1_col7\" class=\"data row1 col7\" >24.494192</td>\n",
       "      <td id=\"T_0c044_row1_col8\" class=\"data row1 col8\" >-0.277778</td>\n",
       "      <td id=\"T_0c044_row1_col9\" class=\"data row1 col9\" > </td>\n",
       "      <td id=\"T_0c044_row1_col10\" class=\"data row1 col10\" >1.013360</td>\n",
       "      <td id=\"T_0c044_row1_col11\" class=\"data row1 col11\" >1.016708</td>\n",
       "      <td id=\"T_0c044_row1_col12\" class=\"data row1 col12\" >1.239649</td>\n",
       "    </tr>\n",
       "    <tr>\n",
       "      <th id=\"T_0c044_level0_row2\" class=\"row_heading level0 row2\" >2</th>\n",
       "      <td id=\"T_0c044_row2_col0\" class=\"data row2 col0\" >-5.820016</td>\n",
       "      <td id=\"T_0c044_row2_col1\" class=\"data row2 col1\" >-35.220819</td>\n",
       "      <td id=\"T_0c044_row2_col2\" class=\"data row2 col2\" >5</td>\n",
       "      <td id=\"T_0c044_row2_col3\" class=\"data row2 col3\" >0.277778</td>\n",
       "      <td id=\"T_0c044_row2_col4\" class=\"data row2 col4\" >→</td>\n",
       "      <td id=\"T_0c044_row2_col5\" class=\"data row2 col5\" >-5.820016</td>\n",
       "      <td id=\"T_0c044_row2_col6\" class=\"data row2 col6\" >-35.220819</td>\n",
       "      <td id=\"T_0c044_row2_col7\" class=\"data row2 col7\" >24.494192</td>\n",
       "      <td id=\"T_0c044_row2_col8\" class=\"data row2 col8\" >0.277778</td>\n",
       "      <td id=\"T_0c044_row2_col9\" class=\"data row2 col9\" > </td>\n",
       "      <td id=\"T_0c044_row2_col10\" class=\"data row2 col10\" >2.088720</td>\n",
       "      <td id=\"T_0c044_row2_col11\" class=\"data row2 col11\" >1.456781</td>\n",
       "      <td id=\"T_0c044_row2_col12\" class=\"data row2 col12\" >2.011935</td>\n",
       "    </tr>\n",
       "    <tr>\n",
       "      <th id=\"T_0c044_level0_row3\" class=\"row_heading level0 row3\" >3</th>\n",
       "      <td id=\"T_0c044_row3_col0\" class=\"data row3 col0\" >-5.820014</td>\n",
       "      <td id=\"T_0c044_row3_col1\" class=\"data row3 col1\" >-35.220825</td>\n",
       "      <td id=\"T_0c044_row3_col2\" class=\"data row3 col2\" >7</td>\n",
       "      <td id=\"T_0c044_row3_col3\" class=\"data row3 col3\" >0.555556</td>\n",
       "      <td id=\"T_0c044_row3_col4\" class=\"data row3 col4\" >→</td>\n",
       "      <td id=\"T_0c044_row3_col5\" class=\"data row3 col5\" >-5.820014</td>\n",
       "      <td id=\"T_0c044_row3_col6\" class=\"data row3 col6\" >-35.220825</td>\n",
       "      <td id=\"T_0c044_row3_col7\" class=\"data row3 col7\" >24.494192</td>\n",
       "      <td id=\"T_0c044_row3_col8\" class=\"data row3 col8\" >0.555556</td>\n",
       "      <td id=\"T_0c044_row3_col9\" class=\"data row3 col9\" > </td>\n",
       "      <td id=\"T_0c044_row3_col10\" class=\"data row3 col10\" >2.261889</td>\n",
       "      <td id=\"T_0c044_row3_col11\" class=\"data row3 col11\" >1.996380</td>\n",
       "      <td id=\"T_0c044_row3_col12\" class=\"data row3 col12\" >2.011935</td>\n",
       "    </tr>\n",
       "    <tr>\n",
       "      <th id=\"T_0c044_level0_row4\" class=\"row_heading level0 row4\" >4</th>\n",
       "      <td id=\"T_0c044_row4_col0\" class=\"data row4 col0\" >-5.819992</td>\n",
       "      <td id=\"T_0c044_row4_col1\" class=\"data row4 col1\" >-35.220829</td>\n",
       "      <td id=\"T_0c044_row4_col2\" class=\"data row4 col2\" >9</td>\n",
       "      <td id=\"T_0c044_row4_col3\" class=\"data row4 col3\" >0.555556</td>\n",
       "      <td id=\"T_0c044_row4_col4\" class=\"data row4 col4\" >→</td>\n",
       "      <td id=\"T_0c044_row4_col5\" class=\"data row4 col5\" >-5.819992</td>\n",
       "      <td id=\"T_0c044_row4_col6\" class=\"data row4 col6\" >-35.220829</td>\n",
       "      <td id=\"T_0c044_row4_col7\" class=\"data row4 col7\" >24.494192</td>\n",
       "      <td id=\"T_0c044_row4_col8\" class=\"data row4 col8\" >0.555556</td>\n",
       "      <td id=\"T_0c044_row4_col9\" class=\"data row4 col9\" > </td>\n",
       "      <td id=\"T_0c044_row4_col10\" class=\"data row4 col10\" >2.499195</td>\n",
       "      <td id=\"T_0c044_row4_col11\" class=\"data row4 col11\" >2.400486</td>\n",
       "      <td id=\"T_0c044_row4_col12\" class=\"data row4 col12\" >1.903163</td>\n",
       "    </tr>\n",
       "    <tr>\n",
       "      <th id=\"T_0c044_level0_row5\" class=\"row_heading level0 row5\" >5</th>\n",
       "      <td id=\"T_0c044_row5_col0\" class=\"data row5 col0\" >-5.819974</td>\n",
       "      <td id=\"T_0c044_row5_col1\" class=\"data row5 col1\" >-35.220824</td>\n",
       "      <td id=\"T_0c044_row5_col2\" class=\"data row5 col2\" >12</td>\n",
       "      <td id=\"T_0c044_row5_col3\" class=\"data row5 col3\" >0.833333</td>\n",
       "      <td id=\"T_0c044_row5_col4\" class=\"data row5 col4\" >→</td>\n",
       "      <td id=\"T_0c044_row5_col5\" class=\"data row5 col5\" >-5.819974</td>\n",
       "      <td id=\"T_0c044_row5_col6\" class=\"data row5 col6\" >-35.220824</td>\n",
       "      <td id=\"T_0c044_row5_col7\" class=\"data row5 col7\" >24.494192</td>\n",
       "      <td id=\"T_0c044_row5_col8\" class=\"data row5 col8\" >0.833333</td>\n",
       "      <td id=\"T_0c044_row5_col9\" class=\"data row5 col9\" > </td>\n",
       "      <td id=\"T_0c044_row5_col10\" class=\"data row5 col10\" >2.606089</td>\n",
       "      <td id=\"T_0c044_row5_col11\" class=\"data row5 col11\" >2.400486</td>\n",
       "      <td id=\"T_0c044_row5_col12\" class=\"data row5 col12\" >1.903163</td>\n",
       "    </tr>\n",
       "    <tr>\n",
       "      <th id=\"T_0c044_level0_row6\" class=\"row_heading level0 row6\" >6</th>\n",
       "      <td id=\"T_0c044_row6_col0\" class=\"data row6 col0\" >-5.819944</td>\n",
       "      <td id=\"T_0c044_row6_col1\" class=\"data row6 col1\" >-35.220823</td>\n",
       "      <td id=\"T_0c044_row6_col2\" class=\"data row6 col2\" >15</td>\n",
       "      <td id=\"T_0c044_row6_col3\" class=\"data row6 col3\" >0.833333</td>\n",
       "      <td id=\"T_0c044_row6_col4\" class=\"data row6 col4\" >→</td>\n",
       "      <td id=\"T_0c044_row6_col5\" class=\"data row6 col5\" >-5.819944</td>\n",
       "      <td id=\"T_0c044_row6_col6\" class=\"data row6 col6\" >-35.220823</td>\n",
       "      <td id=\"T_0c044_row6_col7\" class=\"data row6 col7\" >24.494192</td>\n",
       "      <td id=\"T_0c044_row6_col8\" class=\"data row6 col8\" >0.833333</td>\n",
       "      <td id=\"T_0c044_row6_col9\" class=\"data row6 col9\" > </td>\n",
       "      <td id=\"T_0c044_row6_col10\" class=\"data row6 col10\" >3.070012</td>\n",
       "      <td id=\"T_0c044_row6_col11\" class=\"data row6 col11\" >2.148721</td>\n",
       "      <td id=\"T_0c044_row6_col12\" class=\"data row6 col12\" >1.831330</td>\n",
       "    </tr>\n",
       "    <tr>\n",
       "      <th id=\"T_0c044_level0_row7\" class=\"row_heading level0 row7\" >7</th>\n",
       "      <td id=\"T_0c044_row7_col0\" class=\"data row7 col0\" >-5.819908</td>\n",
       "      <td id=\"T_0c044_row7_col1\" class=\"data row7 col1\" >-35.220810</td>\n",
       "      <td id=\"T_0c044_row7_col2\" class=\"data row7 col2\" >18</td>\n",
       "      <td id=\"T_0c044_row7_col3\" class=\"data row7 col3\" >0.833333</td>\n",
       "      <td id=\"T_0c044_row7_col4\" class=\"data row7 col4\" >→</td>\n",
       "      <td id=\"T_0c044_row7_col5\" class=\"data row7 col5\" >-5.819908</td>\n",
       "      <td id=\"T_0c044_row7_col6\" class=\"data row7 col6\" >-35.220810</td>\n",
       "      <td id=\"T_0c044_row7_col7\" class=\"data row7 col7\" >24.494192</td>\n",
       "      <td id=\"T_0c044_row7_col8\" class=\"data row7 col8\" >0.833333</td>\n",
       "      <td id=\"T_0c044_row7_col9\" class=\"data row7 col9\" > </td>\n",
       "      <td id=\"T_0c044_row7_col10\" class=\"data row7 col10\" >2.445747</td>\n",
       "      <td id=\"T_0c044_row7_col11\" class=\"data row7 col11\" >1.470940</td>\n",
       "      <td id=\"T_0c044_row7_col12\" class=\"data row7 col12\" >1.152140</td>\n",
       "    </tr>\n",
       "    <tr>\n",
       "      <th id=\"T_0c044_level0_row8\" class=\"row_heading level0 row8\" >8</th>\n",
       "      <td id=\"T_0c044_row8_col0\" class=\"data row8 col0\" >-5.819866</td>\n",
       "      <td id=\"T_0c044_row8_col1\" class=\"data row8 col1\" >-35.220794</td>\n",
       "      <td id=\"T_0c044_row8_col2\" class=\"data row8 col2\" >18</td>\n",
       "      <td id=\"T_0c044_row8_col3\" class=\"data row8 col3\" >0.000000</td>\n",
       "      <td id=\"T_0c044_row8_col4\" class=\"data row8 col4\" >→</td>\n",
       "      <td id=\"T_0c044_row8_col5\" class=\"data row8 col5\" >-5.819866</td>\n",
       "      <td id=\"T_0c044_row8_col6\" class=\"data row8 col6\" >-35.220794</td>\n",
       "      <td id=\"T_0c044_row8_col7\" class=\"data row8 col7\" >24.494192</td>\n",
       "      <td id=\"T_0c044_row8_col8\" class=\"data row8 col8\" >0.000000</td>\n",
       "      <td id=\"T_0c044_row8_col9\" class=\"data row8 col9\" > </td>\n",
       "      <td id=\"T_0c044_row8_col10\" class=\"data row8 col10\" >1.073221</td>\n",
       "      <td id=\"T_0c044_row8_col11\" class=\"data row8 col11\" >1.588029</td>\n",
       "      <td id=\"T_0c044_row8_col12\" class=\"data row8 col12\" >1.148476</td>\n",
       "    </tr>\n",
       "    <tr>\n",
       "      <th id=\"T_0c044_level0_row9\" class=\"row_heading level0 row9\" >9</th>\n",
       "      <td id=\"T_0c044_row9_col0\" class=\"data row9 col0\" >-5.819821</td>\n",
       "      <td id=\"T_0c044_row9_col1\" class=\"data row9 col1\" >-35.220775</td>\n",
       "      <td id=\"T_0c044_row9_col2\" class=\"data row9 col2\" >16</td>\n",
       "      <td id=\"T_0c044_row9_col3\" class=\"data row9 col3\" >-0.555556</td>\n",
       "      <td id=\"T_0c044_row9_col4\" class=\"data row9 col4\" >→</td>\n",
       "      <td id=\"T_0c044_row9_col5\" class=\"data row9 col5\" >-5.819821</td>\n",
       "      <td id=\"T_0c044_row9_col6\" class=\"data row9 col6\" >-35.220775</td>\n",
       "      <td id=\"T_0c044_row9_col7\" class=\"data row9 col7\" >24.494192</td>\n",
       "      <td id=\"T_0c044_row9_col8\" class=\"data row9 col8\" >-0.555556</td>\n",
       "      <td id=\"T_0c044_row9_col9\" class=\"data row9 col9\" > </td>\n",
       "      <td id=\"T_0c044_row9_col10\" class=\"data row9 col10\" >0.562265</td>\n",
       "      <td id=\"T_0c044_row9_col11\" class=\"data row9 col11\" >1.085921</td>\n",
       "      <td id=\"T_0c044_row9_col12\" class=\"data row9 col12\" >1.103385</td>\n",
       "    </tr>\n",
       "  </tbody>\n",
       "</table>\n"
      ],
      "text/plain": [
       "<pandas.io.formats.style.Styler at 0x1bd8c10d790>"
      ]
     },
     "metadata": {},
     "output_type": "display_data"
    },
    {
     "data": {
      "application/vnd.plotly.v1+json": {
       "config": {
        "plotlyServerURL": "https://plot.ly"
       },
       "data": [
        {
         "line": {
          "color": "green",
          "dash": "dot"
         },
         "mode": "lines",
         "name": "Real",
         "type": "scatter",
         "y": {
          "bdata": "fgFSsvAK8D+A9UFnuTbwP+sFLaeytQBAlHGRLVkYAkBCucXSWf4DQEt9dVtF2QRAqBJmS2KPCEA+120O5JADQCN/TinqK/E/+as09BP+4T+aTWFMs5viP5pNYUyzm+I/XDzytNji+j+dNUG2RPMCQCiGK0XJLgZAUV/NH7tGBUCt9L0P2PwIQMoh0PdM4gZALUmGV/HwAUC7e8iq65kFQJWKBjqL2QZAPtdtDuSQA0A+120O5JADQD/LXcOsvPM/G9QTrTAS5T+dNUG2RPPiPz7XbQ7kkOM/PtdtDuSQ4z+N38u90b/qPypPDv0M2/E/XDzytNjiCkCoDN6lRqUIQKgM3qVGpQhA8yxc66J8D0BuxFHGr5gMQIjedkcOpwVAJ4Cjn61EBkBRX80fu0YFQLWf+IuRFgVAtZ/4i5EWBUBZCgicdGDxP1JTvdSDcvU/1NlvNQHp9z+u1cBdilHkP67VwF2KUeQ/oGcrz6h17D9QRlgTiYXwP5J9oXiQ7PE/kn2heJDs8T/DRQDZ8l7mP79dIG9hB+Y/v10gb2EH5j+/XSBvYQfmP2LnLDGS/OY/sOIlH4U+6T/qekRTCmDuP6BnK8+odew/mWxe/gBHB0CpJVOyeGYNQIFGKTJrZA5AgUYpMmtkDkDqCPF5wKoQQNfm1Pb71QxA1+bU9vvVDEDDRQDZ8l7mP8A4mxf4ceE/+as09BP+4T9i5ywxkvzmP2LnLDGS/OY/QeTSz9596D9B5NLP3n3oPzJEUyiZH+c/MkRTKJkf5z95fPEDZJ/tP3l88QNkn+0/2trEq8QB7T8Lfp60vd7sP9by5EEzquw/LlxzvgfI5j8uXHO+B8jmP79dIG9hB+Y/idJm/NbS5T/DRQDZ8l7mP/jQuUt9k+Y/+NC5S32T5j8g7t0vJuzuPwt+nrS93uw/nH9LZRce7D9q3HFcHkHsP2rccVweQew/H7zzFsJp5T8fvPMWwmnlP/jQuUt9k+Y/LlxzvgfI5j8uXHO+B8jmPy5cc74HyOY/atxxXB5B7D9q3HFcHkHsPwt+nrS93uw/1vLkQTOq7D8=",
          "dtype": "f8"
         }
        },
        {
         "line": {
          "color": "blue",
          "dash": "dash"
         },
         "mode": "lines",
         "name": "Predição Original",
         "type": "scatter",
         "y": {
          "bdata": "nyhPnflO9z9gHHYQcETwP58oT535Tvc/NcYJ3ivx/z/H027bMTQDQMfTbtsxNANAW6JizpQwAUDSiMQk+Ij3P/2q4seQaPk/ZH6eRe5f8T9BGZ5ZmvD3PzitkrX97Pg/sjPog+dN+z+SSuHot2oCQJww0qNNLgNA8cQEdVL2B0A1HTGC8yUFQJ1s4cie0QVAPEfMwV4IAkA8R8zBXggCQF2Pwwd46AFAbpuVTxN2+j/IvXHXsBP6P0OwSlf+P/c/2pPnoDIS6T+hOYU4eCfuPxp0K9BUbOo/ThQjZ9o8AEBABo/x9pL3P3F+mAxJHfY/vjt97VxcAkC1xmrF5DgDQOa6Z/pAWAZAUonaDz/zBED9aMiraIEDQPruFYWieANA+u4VhaJ4A0CoKE294o/7Pxk9jtecgfw/S7H7xD8A/j92WkFYmFz2P7S5Onx/Bvo/RX1rWH4i8z/oY5hva434P1TJv1Fh2es/2F3p5aM27D+RtiC+vPzzP6NexDxw2fI/XyhyWTnN9D+DFQQ4srDxP7jtWJ1vMew/uO1YnW8x7D+47VidbzHsP7jtWJ1vMew/uO1YnW8x7D+47VidbzHsP7jtWJ1vMew/uO1YnW8x7D8nAD+TNLUCQNaKcWWMugZA0Uv5KVIhCEA+8WTkUCIIQPi+a1e0Yw5Ayp9UILRhDkDaMTNkxTIBQMaASEASVe8/28WzSFf/7z9COf9b/WfwPxW/p/5ScP0/VZWNuaJb6j9o0D7Y66zqP2jQPtjrrOo/aNA+2Ous6j9o0D7Y66zqP2jQPtjrrOo/aNA+2Ous6j9o0D7Y66zqP2jQPtjrrOo/aNA+2Ous6j9o0D7Y66zqP2jQPtjrrOo/aNA+2Ous6j9o0D7Y66zqP2jQPtjrrOo/aNA+2Ous6j9o0D7Y66zqP2jQPtjrrOo/aNA+2Ous6j9o0D7Y66zqP2jQPtjrrOo/aNA+2Ous6j9o0D7Y66zqP2jQPtjrrOo/aNA+2Ous6j9o0D7Y66zqP2jQPtjrrOo/aNA+2Ous6j9o0D7Y66zqP2jQPtjrrOo/aNA+2Ous6j8=",
          "dtype": "f8"
         }
        },
        {
         "line": {
          "color": "red"
         },
         "mode": "lines",
         "name": "Predição com RM",
         "type": "scatter",
         "y": {
          "bdata": "agWTyFYLAEAmriw6mtXzP/6PZYBxGABA/o9lgHEYAEDFGH2KWnP+P8UYfYpac/4/2NGaJyFN/T80wuWHKm/yP6Lko1ooYPI/E+wnmnan8T+XrTDI34v0P8z1+Y8nD/g/OaFhVSBB+D+mcFE1FtP/P6ZwUTUW0/8/sFjVrTzaAECsVMQZwN//P7BY1a082gBAPEfMwV4IAkA8R8zBXggCQDxHzMFeCAJASCs8vxt5+T9P3Tt+XmT5P+TsUTawW/Y/b11vHd2O6j/DGlDj38HuP5DmsjnrVug/+rDOE9Ll/T+rnqvG+9n1P1ige0NydvY/JpM48CKcA0AmkzjwIpwDQMFM/2oRJwVAC1iE7jMcBEBGZe2abtIDQDn+IaLURgNAOf4hotRGA0CqrwAqgHD7P6qvACqAcPs/qq8AKoBw+z94GZ3HIQHxP9XtduULxvc/eBmdxyEB8T/V7XblC8b3PxpiAiHifuk/5y/XmxDO6D8H8DEhbyHyP8OxIfGgsfI//S36doP/+j+IylCeKmX3P/0t+naD//o//S36doP/+j/9Lfp2g//6P/0t+naD//o//S36doP/+j/9Lfp2g//6P/0t+naD//o//S36doP/+j/PSZI8ez0HQM9Jkjx7PQdAsgF2fo3TC0BXyO23NBgHQFLTUPVG6gtAsgF2fo3TC0COFrmWWe0AQBeQVTgN7uo/F5BVOA3u6j9CWCvZujLhP1SUC80/0fw/Qlgr2boy4T9UlAvNP9H8P1SUC80/0fw/VJQLzT/R/D9UlAvNP9H8P1SUC80/0fw/VJQLzT/R/D9UlAvNP9H8P1SUC80/0fw/VJQLzT/R/D9UlAvNP9H8P1SUC80/0fw/VJQLzT/R/D9UlAvNP9H8P1SUC80/0fw/VJQLzT/R/D9UlAvNP9H8P1SUC80/0fw/VJQLzT/R/D9UlAvNP9H8P1SUC80/0fw/VJQLzT/R/D9UlAvNP9H8P1SUC80/0fw/VJQLzT/R/D9UlAvNP9H8P1SUC80/0fw/VJQLzT/R/D9UlAvNP9H8P1SUC80/0fw/VJQLzT/R/D8=",
          "dtype": "f8"
         }
        }
       ],
       "layout": {
        "template": {
         "data": {
          "bar": [
           {
            "error_x": {
             "color": "#2a3f5f"
            },
            "error_y": {
             "color": "#2a3f5f"
            },
            "marker": {
             "line": {
              "color": "white",
              "width": 0.5
             },
             "pattern": {
              "fillmode": "overlay",
              "size": 10,
              "solidity": 0.2
             }
            },
            "type": "bar"
           }
          ],
          "barpolar": [
           {
            "marker": {
             "line": {
              "color": "white",
              "width": 0.5
             },
             "pattern": {
              "fillmode": "overlay",
              "size": 10,
              "solidity": 0.2
             }
            },
            "type": "barpolar"
           }
          ],
          "carpet": [
           {
            "aaxis": {
             "endlinecolor": "#2a3f5f",
             "gridcolor": "#C8D4E3",
             "linecolor": "#C8D4E3",
             "minorgridcolor": "#C8D4E3",
             "startlinecolor": "#2a3f5f"
            },
            "baxis": {
             "endlinecolor": "#2a3f5f",
             "gridcolor": "#C8D4E3",
             "linecolor": "#C8D4E3",
             "minorgridcolor": "#C8D4E3",
             "startlinecolor": "#2a3f5f"
            },
            "type": "carpet"
           }
          ],
          "choropleth": [
           {
            "colorbar": {
             "outlinewidth": 0,
             "ticks": ""
            },
            "type": "choropleth"
           }
          ],
          "contour": [
           {
            "colorbar": {
             "outlinewidth": 0,
             "ticks": ""
            },
            "colorscale": [
             [
              0,
              "#0d0887"
             ],
             [
              0.1111111111111111,
              "#46039f"
             ],
             [
              0.2222222222222222,
              "#7201a8"
             ],
             [
              0.3333333333333333,
              "#9c179e"
             ],
             [
              0.4444444444444444,
              "#bd3786"
             ],
             [
              0.5555555555555556,
              "#d8576b"
             ],
             [
              0.6666666666666666,
              "#ed7953"
             ],
             [
              0.7777777777777778,
              "#fb9f3a"
             ],
             [
              0.8888888888888888,
              "#fdca26"
             ],
             [
              1,
              "#f0f921"
             ]
            ],
            "type": "contour"
           }
          ],
          "contourcarpet": [
           {
            "colorbar": {
             "outlinewidth": 0,
             "ticks": ""
            },
            "type": "contourcarpet"
           }
          ],
          "heatmap": [
           {
            "colorbar": {
             "outlinewidth": 0,
             "ticks": ""
            },
            "colorscale": [
             [
              0,
              "#0d0887"
             ],
             [
              0.1111111111111111,
              "#46039f"
             ],
             [
              0.2222222222222222,
              "#7201a8"
             ],
             [
              0.3333333333333333,
              "#9c179e"
             ],
             [
              0.4444444444444444,
              "#bd3786"
             ],
             [
              0.5555555555555556,
              "#d8576b"
             ],
             [
              0.6666666666666666,
              "#ed7953"
             ],
             [
              0.7777777777777778,
              "#fb9f3a"
             ],
             [
              0.8888888888888888,
              "#fdca26"
             ],
             [
              1,
              "#f0f921"
             ]
            ],
            "type": "heatmap"
           }
          ],
          "histogram": [
           {
            "marker": {
             "pattern": {
              "fillmode": "overlay",
              "size": 10,
              "solidity": 0.2
             }
            },
            "type": "histogram"
           }
          ],
          "histogram2d": [
           {
            "colorbar": {
             "outlinewidth": 0,
             "ticks": ""
            },
            "colorscale": [
             [
              0,
              "#0d0887"
             ],
             [
              0.1111111111111111,
              "#46039f"
             ],
             [
              0.2222222222222222,
              "#7201a8"
             ],
             [
              0.3333333333333333,
              "#9c179e"
             ],
             [
              0.4444444444444444,
              "#bd3786"
             ],
             [
              0.5555555555555556,
              "#d8576b"
             ],
             [
              0.6666666666666666,
              "#ed7953"
             ],
             [
              0.7777777777777778,
              "#fb9f3a"
             ],
             [
              0.8888888888888888,
              "#fdca26"
             ],
             [
              1,
              "#f0f921"
             ]
            ],
            "type": "histogram2d"
           }
          ],
          "histogram2dcontour": [
           {
            "colorbar": {
             "outlinewidth": 0,
             "ticks": ""
            },
            "colorscale": [
             [
              0,
              "#0d0887"
             ],
             [
              0.1111111111111111,
              "#46039f"
             ],
             [
              0.2222222222222222,
              "#7201a8"
             ],
             [
              0.3333333333333333,
              "#9c179e"
             ],
             [
              0.4444444444444444,
              "#bd3786"
             ],
             [
              0.5555555555555556,
              "#d8576b"
             ],
             [
              0.6666666666666666,
              "#ed7953"
             ],
             [
              0.7777777777777778,
              "#fb9f3a"
             ],
             [
              0.8888888888888888,
              "#fdca26"
             ],
             [
              1,
              "#f0f921"
             ]
            ],
            "type": "histogram2dcontour"
           }
          ],
          "mesh3d": [
           {
            "colorbar": {
             "outlinewidth": 0,
             "ticks": ""
            },
            "type": "mesh3d"
           }
          ],
          "parcoords": [
           {
            "line": {
             "colorbar": {
              "outlinewidth": 0,
              "ticks": ""
             }
            },
            "type": "parcoords"
           }
          ],
          "pie": [
           {
            "automargin": true,
            "type": "pie"
           }
          ],
          "scatter": [
           {
            "fillpattern": {
             "fillmode": "overlay",
             "size": 10,
             "solidity": 0.2
            },
            "type": "scatter"
           }
          ],
          "scatter3d": [
           {
            "line": {
             "colorbar": {
              "outlinewidth": 0,
              "ticks": ""
             }
            },
            "marker": {
             "colorbar": {
              "outlinewidth": 0,
              "ticks": ""
             }
            },
            "type": "scatter3d"
           }
          ],
          "scattercarpet": [
           {
            "marker": {
             "colorbar": {
              "outlinewidth": 0,
              "ticks": ""
             }
            },
            "type": "scattercarpet"
           }
          ],
          "scattergeo": [
           {
            "marker": {
             "colorbar": {
              "outlinewidth": 0,
              "ticks": ""
             }
            },
            "type": "scattergeo"
           }
          ],
          "scattergl": [
           {
            "marker": {
             "colorbar": {
              "outlinewidth": 0,
              "ticks": ""
             }
            },
            "type": "scattergl"
           }
          ],
          "scattermap": [
           {
            "marker": {
             "colorbar": {
              "outlinewidth": 0,
              "ticks": ""
             }
            },
            "type": "scattermap"
           }
          ],
          "scattermapbox": [
           {
            "marker": {
             "colorbar": {
              "outlinewidth": 0,
              "ticks": ""
             }
            },
            "type": "scattermapbox"
           }
          ],
          "scatterpolar": [
           {
            "marker": {
             "colorbar": {
              "outlinewidth": 0,
              "ticks": ""
             }
            },
            "type": "scatterpolar"
           }
          ],
          "scatterpolargl": [
           {
            "marker": {
             "colorbar": {
              "outlinewidth": 0,
              "ticks": ""
             }
            },
            "type": "scatterpolargl"
           }
          ],
          "scatterternary": [
           {
            "marker": {
             "colorbar": {
              "outlinewidth": 0,
              "ticks": ""
             }
            },
            "type": "scatterternary"
           }
          ],
          "surface": [
           {
            "colorbar": {
             "outlinewidth": 0,
             "ticks": ""
            },
            "colorscale": [
             [
              0,
              "#0d0887"
             ],
             [
              0.1111111111111111,
              "#46039f"
             ],
             [
              0.2222222222222222,
              "#7201a8"
             ],
             [
              0.3333333333333333,
              "#9c179e"
             ],
             [
              0.4444444444444444,
              "#bd3786"
             ],
             [
              0.5555555555555556,
              "#d8576b"
             ],
             [
              0.6666666666666666,
              "#ed7953"
             ],
             [
              0.7777777777777778,
              "#fb9f3a"
             ],
             [
              0.8888888888888888,
              "#fdca26"
             ],
             [
              1,
              "#f0f921"
             ]
            ],
            "type": "surface"
           }
          ],
          "table": [
           {
            "cells": {
             "fill": {
              "color": "#EBF0F8"
             },
             "line": {
              "color": "white"
             }
            },
            "header": {
             "fill": {
              "color": "#C8D4E3"
             },
             "line": {
              "color": "white"
             }
            },
            "type": "table"
           }
          ]
         },
         "layout": {
          "annotationdefaults": {
           "arrowcolor": "#2a3f5f",
           "arrowhead": 0,
           "arrowwidth": 1
          },
          "autotypenumbers": "strict",
          "coloraxis": {
           "colorbar": {
            "outlinewidth": 0,
            "ticks": ""
           }
          },
          "colorscale": {
           "diverging": [
            [
             0,
             "#8e0152"
            ],
            [
             0.1,
             "#c51b7d"
            ],
            [
             0.2,
             "#de77ae"
            ],
            [
             0.3,
             "#f1b6da"
            ],
            [
             0.4,
             "#fde0ef"
            ],
            [
             0.5,
             "#f7f7f7"
            ],
            [
             0.6,
             "#e6f5d0"
            ],
            [
             0.7,
             "#b8e186"
            ],
            [
             0.8,
             "#7fbc41"
            ],
            [
             0.9,
             "#4d9221"
            ],
            [
             1,
             "#276419"
            ]
           ],
           "sequential": [
            [
             0,
             "#0d0887"
            ],
            [
             0.1111111111111111,
             "#46039f"
            ],
            [
             0.2222222222222222,
             "#7201a8"
            ],
            [
             0.3333333333333333,
             "#9c179e"
            ],
            [
             0.4444444444444444,
             "#bd3786"
            ],
            [
             0.5555555555555556,
             "#d8576b"
            ],
            [
             0.6666666666666666,
             "#ed7953"
            ],
            [
             0.7777777777777778,
             "#fb9f3a"
            ],
            [
             0.8888888888888888,
             "#fdca26"
            ],
            [
             1,
             "#f0f921"
            ]
           ],
           "sequentialminus": [
            [
             0,
             "#0d0887"
            ],
            [
             0.1111111111111111,
             "#46039f"
            ],
            [
             0.2222222222222222,
             "#7201a8"
            ],
            [
             0.3333333333333333,
             "#9c179e"
            ],
            [
             0.4444444444444444,
             "#bd3786"
            ],
            [
             0.5555555555555556,
             "#d8576b"
            ],
            [
             0.6666666666666666,
             "#ed7953"
            ],
            [
             0.7777777777777778,
             "#fb9f3a"
            ],
            [
             0.8888888888888888,
             "#fdca26"
            ],
            [
             1,
             "#f0f921"
            ]
           ]
          },
          "colorway": [
           "#636efa",
           "#EF553B",
           "#00cc96",
           "#ab63fa",
           "#FFA15A",
           "#19d3f3",
           "#FF6692",
           "#B6E880",
           "#FF97FF",
           "#FECB52"
          ],
          "font": {
           "color": "#2a3f5f"
          },
          "geo": {
           "bgcolor": "white",
           "lakecolor": "white",
           "landcolor": "white",
           "showlakes": true,
           "showland": true,
           "subunitcolor": "#C8D4E3"
          },
          "hoverlabel": {
           "align": "left"
          },
          "hovermode": "closest",
          "mapbox": {
           "style": "light"
          },
          "paper_bgcolor": "white",
          "plot_bgcolor": "white",
          "polar": {
           "angularaxis": {
            "gridcolor": "#EBF0F8",
            "linecolor": "#EBF0F8",
            "ticks": ""
           },
           "bgcolor": "white",
           "radialaxis": {
            "gridcolor": "#EBF0F8",
            "linecolor": "#EBF0F8",
            "ticks": ""
           }
          },
          "scene": {
           "xaxis": {
            "backgroundcolor": "white",
            "gridcolor": "#DFE8F3",
            "gridwidth": 2,
            "linecolor": "#EBF0F8",
            "showbackground": true,
            "ticks": "",
            "zerolinecolor": "#EBF0F8"
           },
           "yaxis": {
            "backgroundcolor": "white",
            "gridcolor": "#DFE8F3",
            "gridwidth": 2,
            "linecolor": "#EBF0F8",
            "showbackground": true,
            "ticks": "",
            "zerolinecolor": "#EBF0F8"
           },
           "zaxis": {
            "backgroundcolor": "white",
            "gridcolor": "#DFE8F3",
            "gridwidth": 2,
            "linecolor": "#EBF0F8",
            "showbackground": true,
            "ticks": "",
            "zerolinecolor": "#EBF0F8"
           }
          },
          "shapedefaults": {
           "line": {
            "color": "#2a3f5f"
           }
          },
          "ternary": {
           "aaxis": {
            "gridcolor": "#DFE8F3",
            "linecolor": "#A2B1C6",
            "ticks": ""
           },
           "baxis": {
            "gridcolor": "#DFE8F3",
            "linecolor": "#A2B1C6",
            "ticks": ""
           },
           "bgcolor": "white",
           "caxis": {
            "gridcolor": "#DFE8F3",
            "linecolor": "#A2B1C6",
            "ticks": ""
           }
          },
          "title": {
           "x": 0.05
          },
          "xaxis": {
           "automargin": true,
           "gridcolor": "#EBF0F8",
           "linecolor": "#EBF0F8",
           "ticks": "",
           "title": {
            "standoff": 15
           },
           "zerolinecolor": "#EBF0F8",
           "zerolinewidth": 2
          },
          "yaxis": {
           "automargin": true,
           "gridcolor": "#EBF0F8",
           "linecolor": "#EBF0F8",
           "ticks": "",
           "title": {
            "standoff": 15
           },
           "zerolinecolor": "#EBF0F8",
           "zerolinewidth": 2
          }
         }
        },
        "title": {
         "text": "Comparação CO₂ - Caso de teste: RM5 - Velocidade constante - GASOLINE",
         "x": 0.5
        },
        "xaxis": {
         "title": {
          "text": "Amostras"
         }
        },
        "yaxis": {
         "title": {
          "text": "CO₂ (g/s)"
         }
        }
       }
      }
     },
     "metadata": {},
     "output_type": "display_data"
    },
    {
     "name": "stdout",
     "output_type": "stream",
     "text": [
      "\n",
      "🔁 Caso de teste: RM6 - Velocidade constante em 80 km/h e aceleração igual a zero (ETHANOL)\n",
      "Diferença Média: 0.8550 | Diferença Máxima: 2.8647 | Erro Quadrático Médio (RMSE): 0.9879 | Desvio Padrão (Std): 0.4949\n"
     ]
    },
    {
     "data": {
      "text/html": [
       "<style type=\"text/css\">\n",
       "</style>\n",
       "<table id=\"T_a92b2\">\n",
       "  <caption>Comparação dos dados originais e modificados - Caso de teste: RM6 - Velocidade constante em 80 km/h e aceleração igual a zero (ETHANOL)</caption>\n",
       "  <thead>\n",
       "    <tr>\n",
       "      <th class=\"blank level0\" >&nbsp;</th>\n",
       "      <th id=\"T_a92b2_level0_col0\" class=\"col_heading level0 col0\" >Latitude_Orig</th>\n",
       "      <th id=\"T_a92b2_level0_col1\" class=\"col_heading level0 col1\" >Longitude_Orig</th>\n",
       "      <th id=\"T_a92b2_level0_col2\" class=\"col_heading level0 col2\" >Speed(OBD)(km/h)_Orig</th>\n",
       "      <th id=\"T_a92b2_level0_col3\" class=\"col_heading level0 col3\" >Acceleration_Orig</th>\n",
       "      <th id=\"T_a92b2_level0_col4\" class=\"col_heading level0 col4\" > </th>\n",
       "      <th id=\"T_a92b2_level0_col5\" class=\"col_heading level0 col5\" >Latitude_Mod</th>\n",
       "      <th id=\"T_a92b2_level0_col6\" class=\"col_heading level0 col6\" >Longitude_Mod</th>\n",
       "      <th id=\"T_a92b2_level0_col7\" class=\"col_heading level0 col7\" >Speed(OBD)(km/h)_Mod</th>\n",
       "      <th id=\"T_a92b2_level0_col8\" class=\"col_heading level0 col8\" >Acceleration_Mod</th>\n",
       "      <th id=\"T_a92b2_level0_col9\" class=\"col_heading level0 col9\" > </th>\n",
       "      <th id=\"T_a92b2_level0_col10\" class=\"col_heading level0 col10\" >CO₂_Real</th>\n",
       "      <th id=\"T_a92b2_level0_col11\" class=\"col_heading level0 col11\" >CO₂_Orig</th>\n",
       "      <th id=\"T_a92b2_level0_col12\" class=\"col_heading level0 col12\" >CO₂_Mod</th>\n",
       "    </tr>\n",
       "  </thead>\n",
       "  <tbody>\n",
       "    <tr>\n",
       "      <th id=\"T_a92b2_level0_row0\" class=\"row_heading level0 row0\" >0</th>\n",
       "      <td id=\"T_a92b2_row0_col0\" class=\"data row0 col0\" >-5.820105</td>\n",
       "      <td id=\"T_a92b2_row0_col1\" class=\"data row0 col1\" >-35.220818</td>\n",
       "      <td id=\"T_a92b2_row0_col2\" class=\"data row0 col2\" >3</td>\n",
       "      <td id=\"T_a92b2_row0_col3\" class=\"data row0 col3\" >0.000000</td>\n",
       "      <td id=\"T_a92b2_row0_col4\" class=\"data row0 col4\" >→</td>\n",
       "      <td id=\"T_a92b2_row0_col5\" class=\"data row0 col5\" >-5.820105</td>\n",
       "      <td id=\"T_a92b2_row0_col6\" class=\"data row0 col6\" >-35.220818</td>\n",
       "      <td id=\"T_a92b2_row0_col7\" class=\"data row0 col7\" >80.000000</td>\n",
       "      <td id=\"T_a92b2_row0_col8\" class=\"data row0 col8\" >0.000000</td>\n",
       "      <td id=\"T_a92b2_row0_col9\" class=\"data row0 col9\" > </td>\n",
       "      <td id=\"T_a92b2_row0_col10\" class=\"data row0 col10\" >0.642839</td>\n",
       "      <td id=\"T_a92b2_row0_col11\" class=\"data row0 col11\" >0.742631</td>\n",
       "      <td id=\"T_a92b2_row0_col12\" class=\"data row0 col12\" >1.579490</td>\n",
       "    </tr>\n",
       "    <tr>\n",
       "      <th id=\"T_a92b2_level0_row1\" class=\"row_heading level0 row1\" >1</th>\n",
       "      <td id=\"T_a92b2_row1_col0\" class=\"data row1 col0\" >-5.820103</td>\n",
       "      <td id=\"T_a92b2_row1_col1\" class=\"data row1 col1\" >-35.220828</td>\n",
       "      <td id=\"T_a92b2_row1_col2\" class=\"data row1 col2\" >5</td>\n",
       "      <td id=\"T_a92b2_row1_col3\" class=\"data row1 col3\" >0.555556</td>\n",
       "      <td id=\"T_a92b2_row1_col4\" class=\"data row1 col4\" >→</td>\n",
       "      <td id=\"T_a92b2_row1_col5\" class=\"data row1 col5\" >-5.820103</td>\n",
       "      <td id=\"T_a92b2_row1_col6\" class=\"data row1 col6\" >-35.220828</td>\n",
       "      <td id=\"T_a92b2_row1_col7\" class=\"data row1 col7\" >80.000000</td>\n",
       "      <td id=\"T_a92b2_row1_col8\" class=\"data row1 col8\" >0.000000</td>\n",
       "      <td id=\"T_a92b2_row1_col9\" class=\"data row1 col9\" > </td>\n",
       "      <td id=\"T_a92b2_row1_col10\" class=\"data row1 col10\" >0.653249</td>\n",
       "      <td id=\"T_a92b2_row1_col11\" class=\"data row1 col11\" >0.771505</td>\n",
       "      <td id=\"T_a92b2_row1_col12\" class=\"data row1 col12\" >1.579490</td>\n",
       "    </tr>\n",
       "    <tr>\n",
       "      <th id=\"T_a92b2_level0_row2\" class=\"row_heading level0 row2\" >2</th>\n",
       "      <td id=\"T_a92b2_row2_col0\" class=\"data row2 col0\" >-5.820102</td>\n",
       "      <td id=\"T_a92b2_row2_col1\" class=\"data row2 col1\" >-35.220838</td>\n",
       "      <td id=\"T_a92b2_row2_col2\" class=\"data row2 col2\" >5</td>\n",
       "      <td id=\"T_a92b2_row2_col3\" class=\"data row2 col3\" >0.000000</td>\n",
       "      <td id=\"T_a92b2_row2_col4\" class=\"data row2 col4\" >→</td>\n",
       "      <td id=\"T_a92b2_row2_col5\" class=\"data row2 col5\" >-5.820102</td>\n",
       "      <td id=\"T_a92b2_row2_col6\" class=\"data row2 col6\" >-35.220838</td>\n",
       "      <td id=\"T_a92b2_row2_col7\" class=\"data row2 col7\" >80.000000</td>\n",
       "      <td id=\"T_a92b2_row2_col8\" class=\"data row2 col8\" >0.000000</td>\n",
       "      <td id=\"T_a92b2_row2_col9\" class=\"data row2 col9\" > </td>\n",
       "      <td id=\"T_a92b2_row2_col10\" class=\"data row2 col10\" >0.653249</td>\n",
       "      <td id=\"T_a92b2_row2_col11\" class=\"data row2 col11\" >0.771505</td>\n",
       "      <td id=\"T_a92b2_row2_col12\" class=\"data row2 col12\" >1.579490</td>\n",
       "    </tr>\n",
       "    <tr>\n",
       "      <th id=\"T_a92b2_level0_row3\" class=\"row_heading level0 row3\" >3</th>\n",
       "      <td id=\"T_a92b2_row3_col0\" class=\"data row3 col0\" >-5.820096</td>\n",
       "      <td id=\"T_a92b2_row3_col1\" class=\"data row3 col1\" >-35.220843</td>\n",
       "      <td id=\"T_a92b2_row3_col2\" class=\"data row3 col2\" >3</td>\n",
       "      <td id=\"T_a92b2_row3_col3\" class=\"data row3 col3\" >-0.555556</td>\n",
       "      <td id=\"T_a92b2_row3_col4\" class=\"data row3 col4\" >→</td>\n",
       "      <td id=\"T_a92b2_row3_col5\" class=\"data row3 col5\" >-5.820096</td>\n",
       "      <td id=\"T_a92b2_row3_col6\" class=\"data row3 col6\" >-35.220843</td>\n",
       "      <td id=\"T_a92b2_row3_col7\" class=\"data row3 col7\" >80.000000</td>\n",
       "      <td id=\"T_a92b2_row3_col8\" class=\"data row3 col8\" >0.000000</td>\n",
       "      <td id=\"T_a92b2_row3_col9\" class=\"data row3 col9\" > </td>\n",
       "      <td id=\"T_a92b2_row3_col10\" class=\"data row3 col10\" >0.679275</td>\n",
       "      <td id=\"T_a92b2_row3_col11\" class=\"data row3 col11\" >0.659013</td>\n",
       "      <td id=\"T_a92b2_row3_col12\" class=\"data row3 col12\" >1.579490</td>\n",
       "    </tr>\n",
       "    <tr>\n",
       "      <th id=\"T_a92b2_level0_row4\" class=\"row_heading level0 row4\" >4</th>\n",
       "      <td id=\"T_a92b2_row4_col0\" class=\"data row4 col0\" >-5.820091</td>\n",
       "      <td id=\"T_a92b2_row4_col1\" class=\"data row4 col1\" >-35.220850</td>\n",
       "      <td id=\"T_a92b2_row4_col2\" class=\"data row4 col2\" >0</td>\n",
       "      <td id=\"T_a92b2_row4_col3\" class=\"data row4 col3\" >-0.833333</td>\n",
       "      <td id=\"T_a92b2_row4_col4\" class=\"data row4 col4\" >→</td>\n",
       "      <td id=\"T_a92b2_row4_col5\" class=\"data row4 col5\" >-5.820091</td>\n",
       "      <td id=\"T_a92b2_row4_col6\" class=\"data row4 col6\" >-35.220850</td>\n",
       "      <td id=\"T_a92b2_row4_col7\" class=\"data row4 col7\" >80.000000</td>\n",
       "      <td id=\"T_a92b2_row4_col8\" class=\"data row4 col8\" >0.000000</td>\n",
       "      <td id=\"T_a92b2_row4_col9\" class=\"data row4 col9\" > </td>\n",
       "      <td id=\"T_a92b2_row4_col10\" class=\"data row4 col10\" >0.610306</td>\n",
       "      <td id=\"T_a92b2_row4_col11\" class=\"data row4 col11\" >0.667689</td>\n",
       "      <td id=\"T_a92b2_row4_col12\" class=\"data row4 col12\" >1.520587</td>\n",
       "    </tr>\n",
       "    <tr>\n",
       "      <th id=\"T_a92b2_level0_row5\" class=\"row_heading level0 row5\" >5</th>\n",
       "      <td id=\"T_a92b2_row5_col0\" class=\"data row5 col0\" >-5.820091</td>\n",
       "      <td id=\"T_a92b2_row5_col1\" class=\"data row5 col1\" >-35.220850</td>\n",
       "      <td id=\"T_a92b2_row5_col2\" class=\"data row5 col2\" >0</td>\n",
       "      <td id=\"T_a92b2_row5_col3\" class=\"data row5 col3\" >0.000000</td>\n",
       "      <td id=\"T_a92b2_row5_col4\" class=\"data row5 col4\" >→</td>\n",
       "      <td id=\"T_a92b2_row5_col5\" class=\"data row5 col5\" >-5.820091</td>\n",
       "      <td id=\"T_a92b2_row5_col6\" class=\"data row5 col6\" >-35.220850</td>\n",
       "      <td id=\"T_a92b2_row5_col7\" class=\"data row5 col7\" >80.000000</td>\n",
       "      <td id=\"T_a92b2_row5_col8\" class=\"data row5 col8\" >0.000000</td>\n",
       "      <td id=\"T_a92b2_row5_col9\" class=\"data row5 col9\" > </td>\n",
       "      <td id=\"T_a92b2_row5_col10\" class=\"data row5 col10\" >0.610306</td>\n",
       "      <td id=\"T_a92b2_row5_col11\" class=\"data row5 col11\" >0.706858</td>\n",
       "      <td id=\"T_a92b2_row5_col12\" class=\"data row5 col12\" >1.520587</td>\n",
       "    </tr>\n",
       "    <tr>\n",
       "      <th id=\"T_a92b2_level0_row6\" class=\"row_heading level0 row6\" >6</th>\n",
       "      <td id=\"T_a92b2_row6_col0\" class=\"data row6 col0\" >-5.820091</td>\n",
       "      <td id=\"T_a92b2_row6_col1\" class=\"data row6 col1\" >-35.220850</td>\n",
       "      <td id=\"T_a92b2_row6_col2\" class=\"data row6 col2\" >0</td>\n",
       "      <td id=\"T_a92b2_row6_col3\" class=\"data row6 col3\" >0.000000</td>\n",
       "      <td id=\"T_a92b2_row6_col4\" class=\"data row6 col4\" >→</td>\n",
       "      <td id=\"T_a92b2_row6_col5\" class=\"data row6 col5\" >-5.820091</td>\n",
       "      <td id=\"T_a92b2_row6_col6\" class=\"data row6 col6\" >-35.220850</td>\n",
       "      <td id=\"T_a92b2_row6_col7\" class=\"data row6 col7\" >80.000000</td>\n",
       "      <td id=\"T_a92b2_row6_col8\" class=\"data row6 col8\" >0.000000</td>\n",
       "      <td id=\"T_a92b2_row6_col9\" class=\"data row6 col9\" > </td>\n",
       "      <td id=\"T_a92b2_row6_col10\" class=\"data row6 col10\" >0.490587</td>\n",
       "      <td id=\"T_a92b2_row6_col11\" class=\"data row6 col11\" >0.706858</td>\n",
       "      <td id=\"T_a92b2_row6_col12\" class=\"data row6 col12\" >1.520587</td>\n",
       "    </tr>\n",
       "    <tr>\n",
       "      <th id=\"T_a92b2_level0_row7\" class=\"row_heading level0 row7\" >7</th>\n",
       "      <td id=\"T_a92b2_row7_col0\" class=\"data row7 col0\" >-5.820085</td>\n",
       "      <td id=\"T_a92b2_row7_col1\" class=\"data row7 col1\" >-35.220856</td>\n",
       "      <td id=\"T_a92b2_row7_col2\" class=\"data row7 col2\" >3</td>\n",
       "      <td id=\"T_a92b2_row7_col3\" class=\"data row7 col3\" >0.833333</td>\n",
       "      <td id=\"T_a92b2_row7_col4\" class=\"data row7 col4\" >→</td>\n",
       "      <td id=\"T_a92b2_row7_col5\" class=\"data row7 col5\" >-5.820085</td>\n",
       "      <td id=\"T_a92b2_row7_col6\" class=\"data row7 col6\" >-35.220856</td>\n",
       "      <td id=\"T_a92b2_row7_col7\" class=\"data row7 col7\" >80.000000</td>\n",
       "      <td id=\"T_a92b2_row7_col8\" class=\"data row7 col8\" >0.000000</td>\n",
       "      <td id=\"T_a92b2_row7_col9\" class=\"data row7 col9\" > </td>\n",
       "      <td id=\"T_a92b2_row7_col10\" class=\"data row7 col10\" >1.090483</td>\n",
       "      <td id=\"T_a92b2_row7_col11\" class=\"data row7 col11\" >1.137803</td>\n",
       "      <td id=\"T_a92b2_row7_col12\" class=\"data row7 col12\" >1.520587</td>\n",
       "    </tr>\n",
       "    <tr>\n",
       "      <th id=\"T_a92b2_level0_row8\" class=\"row_heading level0 row8\" >8</th>\n",
       "      <td id=\"T_a92b2_row8_col0\" class=\"data row8 col0\" >-5.820074</td>\n",
       "      <td id=\"T_a92b2_row8_col1\" class=\"data row8 col1\" >-35.220859</td>\n",
       "      <td id=\"T_a92b2_row8_col2\" class=\"data row8 col2\" >3</td>\n",
       "      <td id=\"T_a92b2_row8_col3\" class=\"data row8 col3\" >0.000000</td>\n",
       "      <td id=\"T_a92b2_row8_col4\" class=\"data row8 col4\" >→</td>\n",
       "      <td id=\"T_a92b2_row8_col5\" class=\"data row8 col5\" >-5.820074</td>\n",
       "      <td id=\"T_a92b2_row8_col6\" class=\"data row8 col6\" >-35.220859</td>\n",
       "      <td id=\"T_a92b2_row8_col7\" class=\"data row8 col7\" >80.000000</td>\n",
       "      <td id=\"T_a92b2_row8_col8\" class=\"data row8 col8\" >0.000000</td>\n",
       "      <td id=\"T_a92b2_row8_col9\" class=\"data row8 col9\" > </td>\n",
       "      <td id=\"T_a92b2_row8_col10\" class=\"data row8 col10\" >1.090483</td>\n",
       "      <td id=\"T_a92b2_row8_col11\" class=\"data row8 col11\" >1.137803</td>\n",
       "      <td id=\"T_a92b2_row8_col12\" class=\"data row8 col12\" >1.520587</td>\n",
       "    </tr>\n",
       "    <tr>\n",
       "      <th id=\"T_a92b2_level0_row9\" class=\"row_heading level0 row9\" >9</th>\n",
       "      <td id=\"T_a92b2_row9_col0\" class=\"data row9 col0\" >-5.820064</td>\n",
       "      <td id=\"T_a92b2_row9_col1\" class=\"data row9 col1\" >-35.220858</td>\n",
       "      <td id=\"T_a92b2_row9_col2\" class=\"data row9 col2\" >3</td>\n",
       "      <td id=\"T_a92b2_row9_col3\" class=\"data row9 col3\" >0.000000</td>\n",
       "      <td id=\"T_a92b2_row9_col4\" class=\"data row9 col4\" >→</td>\n",
       "      <td id=\"T_a92b2_row9_col5\" class=\"data row9 col5\" >-5.820064</td>\n",
       "      <td id=\"T_a92b2_row9_col6\" class=\"data row9 col6\" >-35.220858</td>\n",
       "      <td id=\"T_a92b2_row9_col7\" class=\"data row9 col7\" >80.000000</td>\n",
       "      <td id=\"T_a92b2_row9_col8\" class=\"data row9 col8\" >0.000000</td>\n",
       "      <td id=\"T_a92b2_row9_col9\" class=\"data row9 col9\" > </td>\n",
       "      <td id=\"T_a92b2_row9_col10\" class=\"data row9 col10\" >0.921315</td>\n",
       "      <td id=\"T_a92b2_row9_col11\" class=\"data row9 col11\" >1.137803</td>\n",
       "      <td id=\"T_a92b2_row9_col12\" class=\"data row9 col12\" >1.520587</td>\n",
       "    </tr>\n",
       "  </tbody>\n",
       "</table>\n"
      ],
      "text/plain": [
       "<pandas.io.formats.style.Styler at 0x1bd8bff6350>"
      ]
     },
     "metadata": {},
     "output_type": "display_data"
    },
    {
     "data": {
      "application/vnd.plotly.v1+json": {
       "config": {
        "plotlyServerURL": "https://plot.ly"
       },
       "data": [
        {
         "line": {
          "color": "green",
          "dash": "dot"
         },
         "mode": "lines",
         "name": "Real",
         "type": "scatter",
         "y": {
          "bdata": "Xv2WDSKS5D+bk2QeaufkP5uTZB5q5+Q/NotmSJ685T/ehxTZoIfjP96HFNmgh+M/M5CwL8hl3z/dnA9wnnLxP92cD3CecvE/T3ASz2l77T+UX3iidnLyPz8yMAV+Z/Q/PzIwBX5n9D8ti7UITBb8PzhhcBqj5vk/KSOOULfS8D8pI45Qt9LwP7us/CApG+8/cjYv8OP84z+t9vIuJyjgP6328i4nKOA/geLz0z/39T+rgxXuOvLzP6uDFe468vM/mb1aTGW9AEB0UCWuXTcFQJNSfcM51QFAk1J9wznVAUDU4Eocwdz0P40G4N+x0N0/MaWrxsVQ3T+Gb8fSpWfjP4Zvx9KlZ+M/RJASr2yy4j+u4feXKT3iPxtsE+QD5v0/G2wT5APm/T9xVW+Vh+D+P/WBu/ZpMek/9YG79mkx6T8EcmzGOjzYP6VZboDtdf4/WOugB2mlAEBY66AHaaUAQFcs1yJHEfo/jF/HYiTM+D+vRCQpQjH6P69EJClCMfo/IlLOZdxR9j8U6vVt9WfxP9L1RbO+x/I/0vVFs77H8j9JPCZTdgbrPy3PofTAJtk/Lc+h9MAm2T83dmuxoNHXP5m9WkxlveA/wxqQeuun4T/DGpB666fhPy5sdWOoMgFAN3ZrsaDRB0CTtalUUskJQJO1qVRSyQlAUQXmhZA5CECzrwGybRkJQLOvAbJtGQlAadNRH3liAkDxyvHJCOv/P/HK8ckI6/8/ZYpqDIgCAkDcITJ38e4HQFhbyHe+Nvk/WFvId742+T+BiQxRzfvaP+KMDwAd1/Y/4owPAB3X9j9nuVth/yfxP4GJDFHN+9o/VyzXIkcR2j9XLNciRxHKPzhhcBqj5sk/mb1aTGW90D+rqr6oeQbiPxTJ619+uOE/cloUOF8j9z+cBUVJAVwCQO7F9qKMm/w/7sX2ooyb/D8XwP8/+pH1Py66pl3DO9s/YtOg3ya82D8GXXEvPVHKPwZdcS89Uco/3P87AbdmyT8zkLAvyGXPPxdp8ttk2OI/F2ny22TY4j/s9fsW3vTiP/4o4Wa23vY/g+DZ9mxa+z8=",
          "dtype": "f8"
         }
        },
        {
         "line": {
          "color": "blue",
          "dash": "dash"
         },
         "mode": "lines",
         "name": "Predição Original",
         "type": "scatter",
         "y": {
          "bdata": "A1nGMaLD5z/rGxZ+K7DoP+sbFn4rsOg/ZNKEuKEW5T8gJJx1tV3lP1qolBeUnuY/WqiUF5Se5j8vN5pfcTTyPy83ml9xNPI/LzeaX3E08j8LUj4DVmv0P2cHXp66ovQ/lajUrwhy8z8ERxYOSyj4P0gf5HQeCfI/if7LZHnq7z8XHaiiCV3vP6Btm6JJmew/vGW1En/65z9MP1pTWq7wP/J2f86FGvA/Rx/yOxHc8D9HH/I7EdzwP0cf8jsR3PA/Wi2PK9ct9T99iPbmwzv1P+s7h6uSvvI/jlifB2hB+z/KAreWPx7tP2CGcv2h3+w/DE1YhnUh4z+r91rqETzvPzST+4nO/eQ/tcGbWjP25j8r0X6ZskrsPzXVexnn+PI/jsX9rHxr8z+YODlE2Q7zPxrw1xsMw+0/6+G9lxVx7T+VLCu5vQ3pP5kI65KAuvA/xV7vM9nJ8j+3rXXsTRn+P7nipTU15fQ/Ahig1qK48j97HMyYL2j0P61VsDSbgfU/gKXeX7rt9D8lL/FG5m/yP1D9sJ1ASPI/ONgUq37H8z/SblJX33btP6Pvp4KhC+M/A1unplDL5j/tVn03pGviP09EUKldGOg/RjLkVnwe6D+bSQJT7m7oP/kNtZK+Z+k/BO79CuHa9z9uhs6rFD4AQDSsx4gppPs/JoJSHH6Y9j8b5eo1rb34P7wp1TtfOgFA605wkeGE9z+CQHPA6Nf7P96W8dRj7vo/77f/lcKE+T8/0HaFb3j5P0ixId0VM/o/2QaTrAQF9T89ims167HjP+Roiw7ssfA/N+aifBlj8D+LMRVBlGrvP6CylwUtpOE/UCAMIn9U4D86TWpu5ebtP5PEfPDbnN0/8ql5Nfn/4D83OrmjNxvhP9ETGcqqqOg/TEBpKYVw9j/5y4EaW9T4P6g7DuceO/U/scgFb/N/8D+73vRQdeXuP5DaSmyYQ+A/1hTHV/j+2j9wnnVfpazbPzJoid+r2eU/KlRdoNof2z8xuA2DPjffP3qotC6cE+Y/eqi0LpwT5j96qLQunBPmPwHia4Ko5fc/29W9hKHm9z8=",
          "dtype": "f8"
         }
        },
        {
         "line": {
          "color": "red"
         },
         "mode": "lines",
         "name": "Predição com RM",
         "type": "scatter",
         "y": {
          "bdata": "htxijZdF+T+G3GKNl0X5P4bcYo2XRfk/htxijZdF+T9lt8/kUlT4P2W3z+RSVPg/ZbfP5FJU+D9lt8/kUlT4P2W3z+RSVPg/ZbfP5FJU+D9lt8/kUlT4P84ljK20ivQ/ziWMrbSK9D/OJYyttIr0P84ljK20ivQ/7h24kS+N+T/uHbiRL435P+jwFMcU0fg/6PAUxxTR+D/o8BTHFNH4P+jwFMcU0fg/1gUquIsS/D/WBSq4ixL8P9YFKriLEvw/1gUquIsS/D/WBSq4ixL8P9YFKriLEvw/S7MeyMzQ+T+vZjBBXFX6P69mMEFcVfo/r2YwQVxV+j8ziSPk0Ub6PzOJI+TRRvo/M4kj5NFG+j9R3kAGyULzP1HeQAbJQvM/Ud5ABslC8z9R3kAGyULzP1HeQAbJQvM/Ud5ABslC8z9R3kAGyULzP1HeQAbJQvM/Ud5ABslC8z+CJ1S24gb4P4InVLbiBvg/nBAyBOlS+j8k6vfuJYP7PyTq9+4lg/s/G2UtNa/k+j8bZS01r+T6PxtlLTWv5Po/mlrp4koA/T/u5j3ZLCL9P+7mPdksIv0/7uY92Swi/T/u5j3ZLCL9P5J7oGcsdP0/knugZyx0/T+Se6BnLHT9P9zDsEDthAJA/zusZgvzAkD/O6xmC/MCQFNp9H8t7wJAU2n0fy3vAkC9BIs0i04CQIodxRV1YgFAFpsLoF0iAEB7qymcOIgAQAMxooArhP8/Q5c9BBW1/j+uvqgls8/+P66+qCWzz/4/GLZGFu0c/j/ImHufCv72P8iYe58K/vY/UVeUc+uk9j/SdT68XwH2P9J1PrxfAfY/Of0PFokg9j85/Q8WiSD2P/4WMxtWLPQ/fJV/2FYq9T98lX/YVir1P3yVf9hWKvU//WSO8PFE+z/9ZI7w8UT7P/1kjvDxRPs/qfAmb4qp/D8WhhDKSIH8P4xUvRrKOfU/jFS9Gso59T+MVL0ayjn1P4xUvRrKOfU/jFS9Gso59T+MVL0ayjn1P4xUvRrKOfU/jFS9Gso59T+MVL0ayjn1PzjBnB6n9vg/OMGcHqf2+D8=",
          "dtype": "f8"
         }
        }
       ],
       "layout": {
        "template": {
         "data": {
          "bar": [
           {
            "error_x": {
             "color": "#2a3f5f"
            },
            "error_y": {
             "color": "#2a3f5f"
            },
            "marker": {
             "line": {
              "color": "white",
              "width": 0.5
             },
             "pattern": {
              "fillmode": "overlay",
              "size": 10,
              "solidity": 0.2
             }
            },
            "type": "bar"
           }
          ],
          "barpolar": [
           {
            "marker": {
             "line": {
              "color": "white",
              "width": 0.5
             },
             "pattern": {
              "fillmode": "overlay",
              "size": 10,
              "solidity": 0.2
             }
            },
            "type": "barpolar"
           }
          ],
          "carpet": [
           {
            "aaxis": {
             "endlinecolor": "#2a3f5f",
             "gridcolor": "#C8D4E3",
             "linecolor": "#C8D4E3",
             "minorgridcolor": "#C8D4E3",
             "startlinecolor": "#2a3f5f"
            },
            "baxis": {
             "endlinecolor": "#2a3f5f",
             "gridcolor": "#C8D4E3",
             "linecolor": "#C8D4E3",
             "minorgridcolor": "#C8D4E3",
             "startlinecolor": "#2a3f5f"
            },
            "type": "carpet"
           }
          ],
          "choropleth": [
           {
            "colorbar": {
             "outlinewidth": 0,
             "ticks": ""
            },
            "type": "choropleth"
           }
          ],
          "contour": [
           {
            "colorbar": {
             "outlinewidth": 0,
             "ticks": ""
            },
            "colorscale": [
             [
              0,
              "#0d0887"
             ],
             [
              0.1111111111111111,
              "#46039f"
             ],
             [
              0.2222222222222222,
              "#7201a8"
             ],
             [
              0.3333333333333333,
              "#9c179e"
             ],
             [
              0.4444444444444444,
              "#bd3786"
             ],
             [
              0.5555555555555556,
              "#d8576b"
             ],
             [
              0.6666666666666666,
              "#ed7953"
             ],
             [
              0.7777777777777778,
              "#fb9f3a"
             ],
             [
              0.8888888888888888,
              "#fdca26"
             ],
             [
              1,
              "#f0f921"
             ]
            ],
            "type": "contour"
           }
          ],
          "contourcarpet": [
           {
            "colorbar": {
             "outlinewidth": 0,
             "ticks": ""
            },
            "type": "contourcarpet"
           }
          ],
          "heatmap": [
           {
            "colorbar": {
             "outlinewidth": 0,
             "ticks": ""
            },
            "colorscale": [
             [
              0,
              "#0d0887"
             ],
             [
              0.1111111111111111,
              "#46039f"
             ],
             [
              0.2222222222222222,
              "#7201a8"
             ],
             [
              0.3333333333333333,
              "#9c179e"
             ],
             [
              0.4444444444444444,
              "#bd3786"
             ],
             [
              0.5555555555555556,
              "#d8576b"
             ],
             [
              0.6666666666666666,
              "#ed7953"
             ],
             [
              0.7777777777777778,
              "#fb9f3a"
             ],
             [
              0.8888888888888888,
              "#fdca26"
             ],
             [
              1,
              "#f0f921"
             ]
            ],
            "type": "heatmap"
           }
          ],
          "histogram": [
           {
            "marker": {
             "pattern": {
              "fillmode": "overlay",
              "size": 10,
              "solidity": 0.2
             }
            },
            "type": "histogram"
           }
          ],
          "histogram2d": [
           {
            "colorbar": {
             "outlinewidth": 0,
             "ticks": ""
            },
            "colorscale": [
             [
              0,
              "#0d0887"
             ],
             [
              0.1111111111111111,
              "#46039f"
             ],
             [
              0.2222222222222222,
              "#7201a8"
             ],
             [
              0.3333333333333333,
              "#9c179e"
             ],
             [
              0.4444444444444444,
              "#bd3786"
             ],
             [
              0.5555555555555556,
              "#d8576b"
             ],
             [
              0.6666666666666666,
              "#ed7953"
             ],
             [
              0.7777777777777778,
              "#fb9f3a"
             ],
             [
              0.8888888888888888,
              "#fdca26"
             ],
             [
              1,
              "#f0f921"
             ]
            ],
            "type": "histogram2d"
           }
          ],
          "histogram2dcontour": [
           {
            "colorbar": {
             "outlinewidth": 0,
             "ticks": ""
            },
            "colorscale": [
             [
              0,
              "#0d0887"
             ],
             [
              0.1111111111111111,
              "#46039f"
             ],
             [
              0.2222222222222222,
              "#7201a8"
             ],
             [
              0.3333333333333333,
              "#9c179e"
             ],
             [
              0.4444444444444444,
              "#bd3786"
             ],
             [
              0.5555555555555556,
              "#d8576b"
             ],
             [
              0.6666666666666666,
              "#ed7953"
             ],
             [
              0.7777777777777778,
              "#fb9f3a"
             ],
             [
              0.8888888888888888,
              "#fdca26"
             ],
             [
              1,
              "#f0f921"
             ]
            ],
            "type": "histogram2dcontour"
           }
          ],
          "mesh3d": [
           {
            "colorbar": {
             "outlinewidth": 0,
             "ticks": ""
            },
            "type": "mesh3d"
           }
          ],
          "parcoords": [
           {
            "line": {
             "colorbar": {
              "outlinewidth": 0,
              "ticks": ""
             }
            },
            "type": "parcoords"
           }
          ],
          "pie": [
           {
            "automargin": true,
            "type": "pie"
           }
          ],
          "scatter": [
           {
            "fillpattern": {
             "fillmode": "overlay",
             "size": 10,
             "solidity": 0.2
            },
            "type": "scatter"
           }
          ],
          "scatter3d": [
           {
            "line": {
             "colorbar": {
              "outlinewidth": 0,
              "ticks": ""
             }
            },
            "marker": {
             "colorbar": {
              "outlinewidth": 0,
              "ticks": ""
             }
            },
            "type": "scatter3d"
           }
          ],
          "scattercarpet": [
           {
            "marker": {
             "colorbar": {
              "outlinewidth": 0,
              "ticks": ""
             }
            },
            "type": "scattercarpet"
           }
          ],
          "scattergeo": [
           {
            "marker": {
             "colorbar": {
              "outlinewidth": 0,
              "ticks": ""
             }
            },
            "type": "scattergeo"
           }
          ],
          "scattergl": [
           {
            "marker": {
             "colorbar": {
              "outlinewidth": 0,
              "ticks": ""
             }
            },
            "type": "scattergl"
           }
          ],
          "scattermap": [
           {
            "marker": {
             "colorbar": {
              "outlinewidth": 0,
              "ticks": ""
             }
            },
            "type": "scattermap"
           }
          ],
          "scattermapbox": [
           {
            "marker": {
             "colorbar": {
              "outlinewidth": 0,
              "ticks": ""
             }
            },
            "type": "scattermapbox"
           }
          ],
          "scatterpolar": [
           {
            "marker": {
             "colorbar": {
              "outlinewidth": 0,
              "ticks": ""
             }
            },
            "type": "scatterpolar"
           }
          ],
          "scatterpolargl": [
           {
            "marker": {
             "colorbar": {
              "outlinewidth": 0,
              "ticks": ""
             }
            },
            "type": "scatterpolargl"
           }
          ],
          "scatterternary": [
           {
            "marker": {
             "colorbar": {
              "outlinewidth": 0,
              "ticks": ""
             }
            },
            "type": "scatterternary"
           }
          ],
          "surface": [
           {
            "colorbar": {
             "outlinewidth": 0,
             "ticks": ""
            },
            "colorscale": [
             [
              0,
              "#0d0887"
             ],
             [
              0.1111111111111111,
              "#46039f"
             ],
             [
              0.2222222222222222,
              "#7201a8"
             ],
             [
              0.3333333333333333,
              "#9c179e"
             ],
             [
              0.4444444444444444,
              "#bd3786"
             ],
             [
              0.5555555555555556,
              "#d8576b"
             ],
             [
              0.6666666666666666,
              "#ed7953"
             ],
             [
              0.7777777777777778,
              "#fb9f3a"
             ],
             [
              0.8888888888888888,
              "#fdca26"
             ],
             [
              1,
              "#f0f921"
             ]
            ],
            "type": "surface"
           }
          ],
          "table": [
           {
            "cells": {
             "fill": {
              "color": "#EBF0F8"
             },
             "line": {
              "color": "white"
             }
            },
            "header": {
             "fill": {
              "color": "#C8D4E3"
             },
             "line": {
              "color": "white"
             }
            },
            "type": "table"
           }
          ]
         },
         "layout": {
          "annotationdefaults": {
           "arrowcolor": "#2a3f5f",
           "arrowhead": 0,
           "arrowwidth": 1
          },
          "autotypenumbers": "strict",
          "coloraxis": {
           "colorbar": {
            "outlinewidth": 0,
            "ticks": ""
           }
          },
          "colorscale": {
           "diverging": [
            [
             0,
             "#8e0152"
            ],
            [
             0.1,
             "#c51b7d"
            ],
            [
             0.2,
             "#de77ae"
            ],
            [
             0.3,
             "#f1b6da"
            ],
            [
             0.4,
             "#fde0ef"
            ],
            [
             0.5,
             "#f7f7f7"
            ],
            [
             0.6,
             "#e6f5d0"
            ],
            [
             0.7,
             "#b8e186"
            ],
            [
             0.8,
             "#7fbc41"
            ],
            [
             0.9,
             "#4d9221"
            ],
            [
             1,
             "#276419"
            ]
           ],
           "sequential": [
            [
             0,
             "#0d0887"
            ],
            [
             0.1111111111111111,
             "#46039f"
            ],
            [
             0.2222222222222222,
             "#7201a8"
            ],
            [
             0.3333333333333333,
             "#9c179e"
            ],
            [
             0.4444444444444444,
             "#bd3786"
            ],
            [
             0.5555555555555556,
             "#d8576b"
            ],
            [
             0.6666666666666666,
             "#ed7953"
            ],
            [
             0.7777777777777778,
             "#fb9f3a"
            ],
            [
             0.8888888888888888,
             "#fdca26"
            ],
            [
             1,
             "#f0f921"
            ]
           ],
           "sequentialminus": [
            [
             0,
             "#0d0887"
            ],
            [
             0.1111111111111111,
             "#46039f"
            ],
            [
             0.2222222222222222,
             "#7201a8"
            ],
            [
             0.3333333333333333,
             "#9c179e"
            ],
            [
             0.4444444444444444,
             "#bd3786"
            ],
            [
             0.5555555555555556,
             "#d8576b"
            ],
            [
             0.6666666666666666,
             "#ed7953"
            ],
            [
             0.7777777777777778,
             "#fb9f3a"
            ],
            [
             0.8888888888888888,
             "#fdca26"
            ],
            [
             1,
             "#f0f921"
            ]
           ]
          },
          "colorway": [
           "#636efa",
           "#EF553B",
           "#00cc96",
           "#ab63fa",
           "#FFA15A",
           "#19d3f3",
           "#FF6692",
           "#B6E880",
           "#FF97FF",
           "#FECB52"
          ],
          "font": {
           "color": "#2a3f5f"
          },
          "geo": {
           "bgcolor": "white",
           "lakecolor": "white",
           "landcolor": "white",
           "showlakes": true,
           "showland": true,
           "subunitcolor": "#C8D4E3"
          },
          "hoverlabel": {
           "align": "left"
          },
          "hovermode": "closest",
          "mapbox": {
           "style": "light"
          },
          "paper_bgcolor": "white",
          "plot_bgcolor": "white",
          "polar": {
           "angularaxis": {
            "gridcolor": "#EBF0F8",
            "linecolor": "#EBF0F8",
            "ticks": ""
           },
           "bgcolor": "white",
           "radialaxis": {
            "gridcolor": "#EBF0F8",
            "linecolor": "#EBF0F8",
            "ticks": ""
           }
          },
          "scene": {
           "xaxis": {
            "backgroundcolor": "white",
            "gridcolor": "#DFE8F3",
            "gridwidth": 2,
            "linecolor": "#EBF0F8",
            "showbackground": true,
            "ticks": "",
            "zerolinecolor": "#EBF0F8"
           },
           "yaxis": {
            "backgroundcolor": "white",
            "gridcolor": "#DFE8F3",
            "gridwidth": 2,
            "linecolor": "#EBF0F8",
            "showbackground": true,
            "ticks": "",
            "zerolinecolor": "#EBF0F8"
           },
           "zaxis": {
            "backgroundcolor": "white",
            "gridcolor": "#DFE8F3",
            "gridwidth": 2,
            "linecolor": "#EBF0F8",
            "showbackground": true,
            "ticks": "",
            "zerolinecolor": "#EBF0F8"
           }
          },
          "shapedefaults": {
           "line": {
            "color": "#2a3f5f"
           }
          },
          "ternary": {
           "aaxis": {
            "gridcolor": "#DFE8F3",
            "linecolor": "#A2B1C6",
            "ticks": ""
           },
           "baxis": {
            "gridcolor": "#DFE8F3",
            "linecolor": "#A2B1C6",
            "ticks": ""
           },
           "bgcolor": "white",
           "caxis": {
            "gridcolor": "#DFE8F3",
            "linecolor": "#A2B1C6",
            "ticks": ""
           }
          },
          "title": {
           "x": 0.05
          },
          "xaxis": {
           "automargin": true,
           "gridcolor": "#EBF0F8",
           "linecolor": "#EBF0F8",
           "ticks": "",
           "title": {
            "standoff": 15
           },
           "zerolinecolor": "#EBF0F8",
           "zerolinewidth": 2
          },
          "yaxis": {
           "automargin": true,
           "gridcolor": "#EBF0F8",
           "linecolor": "#EBF0F8",
           "ticks": "",
           "title": {
            "standoff": 15
           },
           "zerolinecolor": "#EBF0F8",
           "zerolinewidth": 2
          }
         }
        },
        "title": {
         "text": "Comparação CO₂ - Caso de teste: RM6 - Velocidade constante em 80 km/h e aceleração igual a zero - ETHANOL",
         "x": 0.5
        },
        "xaxis": {
         "title": {
          "text": "Amostras"
         }
        },
        "yaxis": {
         "title": {
          "text": "CO₂ (g/s)"
         }
        }
       }
      }
     },
     "metadata": {},
     "output_type": "display_data"
    },
    {
     "name": "stdout",
     "output_type": "stream",
     "text": [
      "\n",
      "🔁 Caso de teste: RM6 - Velocidade constante em 80 km/h e aceleração igual a zero (GASOLINE)\n",
      "Diferença Média: 0.8292 | Diferença Máxima: 3.1289 | Erro Quadrático Médio (RMSE): 1.0376 | Desvio Padrão (Std): 0.6237\n"
     ]
    },
    {
     "data": {
      "text/html": [
       "<style type=\"text/css\">\n",
       "</style>\n",
       "<table id=\"T_2ce55\">\n",
       "  <caption>Comparação dos dados originais e modificados - Caso de teste: RM6 - Velocidade constante em 80 km/h e aceleração igual a zero (GASOLINE)</caption>\n",
       "  <thead>\n",
       "    <tr>\n",
       "      <th class=\"blank level0\" >&nbsp;</th>\n",
       "      <th id=\"T_2ce55_level0_col0\" class=\"col_heading level0 col0\" >Latitude_Orig</th>\n",
       "      <th id=\"T_2ce55_level0_col1\" class=\"col_heading level0 col1\" >Longitude_Orig</th>\n",
       "      <th id=\"T_2ce55_level0_col2\" class=\"col_heading level0 col2\" >Speed(OBD)(km/h)_Orig</th>\n",
       "      <th id=\"T_2ce55_level0_col3\" class=\"col_heading level0 col3\" >Acceleration_Orig</th>\n",
       "      <th id=\"T_2ce55_level0_col4\" class=\"col_heading level0 col4\" > </th>\n",
       "      <th id=\"T_2ce55_level0_col5\" class=\"col_heading level0 col5\" >Latitude_Mod</th>\n",
       "      <th id=\"T_2ce55_level0_col6\" class=\"col_heading level0 col6\" >Longitude_Mod</th>\n",
       "      <th id=\"T_2ce55_level0_col7\" class=\"col_heading level0 col7\" >Speed(OBD)(km/h)_Mod</th>\n",
       "      <th id=\"T_2ce55_level0_col8\" class=\"col_heading level0 col8\" >Acceleration_Mod</th>\n",
       "      <th id=\"T_2ce55_level0_col9\" class=\"col_heading level0 col9\" > </th>\n",
       "      <th id=\"T_2ce55_level0_col10\" class=\"col_heading level0 col10\" >CO₂_Real</th>\n",
       "      <th id=\"T_2ce55_level0_col11\" class=\"col_heading level0 col11\" >CO₂_Orig</th>\n",
       "      <th id=\"T_2ce55_level0_col12\" class=\"col_heading level0 col12\" >CO₂_Mod</th>\n",
       "    </tr>\n",
       "  </thead>\n",
       "  <tbody>\n",
       "    <tr>\n",
       "      <th id=\"T_2ce55_level0_row0\" class=\"row_heading level0 row0\" >0</th>\n",
       "      <td id=\"T_2ce55_row0_col0\" class=\"data row0 col0\" >-5.820010</td>\n",
       "      <td id=\"T_2ce55_row0_col1\" class=\"data row0 col1\" >-35.220825</td>\n",
       "      <td id=\"T_2ce55_row0_col2\" class=\"data row0 col2\" >5</td>\n",
       "      <td id=\"T_2ce55_row0_col3\" class=\"data row0 col3\" >0.000000</td>\n",
       "      <td id=\"T_2ce55_row0_col4\" class=\"data row0 col4\" >→</td>\n",
       "      <td id=\"T_2ce55_row0_col5\" class=\"data row0 col5\" >-5.820010</td>\n",
       "      <td id=\"T_2ce55_row0_col6\" class=\"data row0 col6\" >-35.220825</td>\n",
       "      <td id=\"T_2ce55_row0_col7\" class=\"data row0 col7\" >80.000000</td>\n",
       "      <td id=\"T_2ce55_row0_col8\" class=\"data row0 col8\" >0.000000</td>\n",
       "      <td id=\"T_2ce55_row0_col9\" class=\"data row0 col9\" > </td>\n",
       "      <td id=\"T_2ce55_row0_col10\" class=\"data row0 col10\" >1.002671</td>\n",
       "      <td id=\"T_2ce55_row0_col11\" class=\"data row0 col11\" >1.456781</td>\n",
       "      <td id=\"T_2ce55_row0_col12\" class=\"data row0 col12\" >3.189422</td>\n",
       "    </tr>\n",
       "    <tr>\n",
       "      <th id=\"T_2ce55_level0_row1\" class=\"row_heading level0 row1\" >1</th>\n",
       "      <td id=\"T_2ce55_row1_col0\" class=\"data row1 col0\" >-5.820013</td>\n",
       "      <td id=\"T_2ce55_row1_col1\" class=\"data row1 col1\" >-35.220822</td>\n",
       "      <td id=\"T_2ce55_row1_col2\" class=\"data row1 col2\" >4</td>\n",
       "      <td id=\"T_2ce55_row1_col3\" class=\"data row1 col3\" >-0.277778</td>\n",
       "      <td id=\"T_2ce55_row1_col4\" class=\"data row1 col4\" >→</td>\n",
       "      <td id=\"T_2ce55_row1_col5\" class=\"data row1 col5\" >-5.820013</td>\n",
       "      <td id=\"T_2ce55_row1_col6\" class=\"data row1 col6\" >-35.220822</td>\n",
       "      <td id=\"T_2ce55_row1_col7\" class=\"data row1 col7\" >80.000000</td>\n",
       "      <td id=\"T_2ce55_row1_col8\" class=\"data row1 col8\" >0.000000</td>\n",
       "      <td id=\"T_2ce55_row1_col9\" class=\"data row1 col9\" > </td>\n",
       "      <td id=\"T_2ce55_row1_col10\" class=\"data row1 col10\" >1.013360</td>\n",
       "      <td id=\"T_2ce55_row1_col11\" class=\"data row1 col11\" >1.016708</td>\n",
       "      <td id=\"T_2ce55_row1_col12\" class=\"data row1 col12\" >3.189422</td>\n",
       "    </tr>\n",
       "    <tr>\n",
       "      <th id=\"T_2ce55_level0_row2\" class=\"row_heading level0 row2\" >2</th>\n",
       "      <td id=\"T_2ce55_row2_col0\" class=\"data row2 col0\" >-5.820016</td>\n",
       "      <td id=\"T_2ce55_row2_col1\" class=\"data row2 col1\" >-35.220819</td>\n",
       "      <td id=\"T_2ce55_row2_col2\" class=\"data row2 col2\" >5</td>\n",
       "      <td id=\"T_2ce55_row2_col3\" class=\"data row2 col3\" >0.277778</td>\n",
       "      <td id=\"T_2ce55_row2_col4\" class=\"data row2 col4\" >→</td>\n",
       "      <td id=\"T_2ce55_row2_col5\" class=\"data row2 col5\" >-5.820016</td>\n",
       "      <td id=\"T_2ce55_row2_col6\" class=\"data row2 col6\" >-35.220819</td>\n",
       "      <td id=\"T_2ce55_row2_col7\" class=\"data row2 col7\" >80.000000</td>\n",
       "      <td id=\"T_2ce55_row2_col8\" class=\"data row2 col8\" >0.000000</td>\n",
       "      <td id=\"T_2ce55_row2_col9\" class=\"data row2 col9\" > </td>\n",
       "      <td id=\"T_2ce55_row2_col10\" class=\"data row2 col10\" >2.088720</td>\n",
       "      <td id=\"T_2ce55_row2_col11\" class=\"data row2 col11\" >1.456781</td>\n",
       "      <td id=\"T_2ce55_row2_col12\" class=\"data row2 col12\" >3.189422</td>\n",
       "    </tr>\n",
       "    <tr>\n",
       "      <th id=\"T_2ce55_level0_row3\" class=\"row_heading level0 row3\" >3</th>\n",
       "      <td id=\"T_2ce55_row3_col0\" class=\"data row3 col0\" >-5.820014</td>\n",
       "      <td id=\"T_2ce55_row3_col1\" class=\"data row3 col1\" >-35.220825</td>\n",
       "      <td id=\"T_2ce55_row3_col2\" class=\"data row3 col2\" >7</td>\n",
       "      <td id=\"T_2ce55_row3_col3\" class=\"data row3 col3\" >0.555556</td>\n",
       "      <td id=\"T_2ce55_row3_col4\" class=\"data row3 col4\" >→</td>\n",
       "      <td id=\"T_2ce55_row3_col5\" class=\"data row3 col5\" >-5.820014</td>\n",
       "      <td id=\"T_2ce55_row3_col6\" class=\"data row3 col6\" >-35.220825</td>\n",
       "      <td id=\"T_2ce55_row3_col7\" class=\"data row3 col7\" >80.000000</td>\n",
       "      <td id=\"T_2ce55_row3_col8\" class=\"data row3 col8\" >0.000000</td>\n",
       "      <td id=\"T_2ce55_row3_col9\" class=\"data row3 col9\" > </td>\n",
       "      <td id=\"T_2ce55_row3_col10\" class=\"data row3 col10\" >2.261889</td>\n",
       "      <td id=\"T_2ce55_row3_col11\" class=\"data row3 col11\" >1.996380</td>\n",
       "      <td id=\"T_2ce55_row3_col12\" class=\"data row3 col12\" >3.189422</td>\n",
       "    </tr>\n",
       "    <tr>\n",
       "      <th id=\"T_2ce55_level0_row4\" class=\"row_heading level0 row4\" >4</th>\n",
       "      <td id=\"T_2ce55_row4_col0\" class=\"data row4 col0\" >-5.819992</td>\n",
       "      <td id=\"T_2ce55_row4_col1\" class=\"data row4 col1\" >-35.220829</td>\n",
       "      <td id=\"T_2ce55_row4_col2\" class=\"data row4 col2\" >9</td>\n",
       "      <td id=\"T_2ce55_row4_col3\" class=\"data row4 col3\" >0.555556</td>\n",
       "      <td id=\"T_2ce55_row4_col4\" class=\"data row4 col4\" >→</td>\n",
       "      <td id=\"T_2ce55_row4_col5\" class=\"data row4 col5\" >-5.819992</td>\n",
       "      <td id=\"T_2ce55_row4_col6\" class=\"data row4 col6\" >-35.220829</td>\n",
       "      <td id=\"T_2ce55_row4_col7\" class=\"data row4 col7\" >80.000000</td>\n",
       "      <td id=\"T_2ce55_row4_col8\" class=\"data row4 col8\" >0.000000</td>\n",
       "      <td id=\"T_2ce55_row4_col9\" class=\"data row4 col9\" > </td>\n",
       "      <td id=\"T_2ce55_row4_col10\" class=\"data row4 col10\" >2.499195</td>\n",
       "      <td id=\"T_2ce55_row4_col11\" class=\"data row4 col11\" >2.400486</td>\n",
       "      <td id=\"T_2ce55_row4_col12\" class=\"data row4 col12\" >2.736358</td>\n",
       "    </tr>\n",
       "    <tr>\n",
       "      <th id=\"T_2ce55_level0_row5\" class=\"row_heading level0 row5\" >5</th>\n",
       "      <td id=\"T_2ce55_row5_col0\" class=\"data row5 col0\" >-5.819974</td>\n",
       "      <td id=\"T_2ce55_row5_col1\" class=\"data row5 col1\" >-35.220824</td>\n",
       "      <td id=\"T_2ce55_row5_col2\" class=\"data row5 col2\" >12</td>\n",
       "      <td id=\"T_2ce55_row5_col3\" class=\"data row5 col3\" >0.833333</td>\n",
       "      <td id=\"T_2ce55_row5_col4\" class=\"data row5 col4\" >→</td>\n",
       "      <td id=\"T_2ce55_row5_col5\" class=\"data row5 col5\" >-5.819974</td>\n",
       "      <td id=\"T_2ce55_row5_col6\" class=\"data row5 col6\" >-35.220824</td>\n",
       "      <td id=\"T_2ce55_row5_col7\" class=\"data row5 col7\" >80.000000</td>\n",
       "      <td id=\"T_2ce55_row5_col8\" class=\"data row5 col8\" >0.000000</td>\n",
       "      <td id=\"T_2ce55_row5_col9\" class=\"data row5 col9\" > </td>\n",
       "      <td id=\"T_2ce55_row5_col10\" class=\"data row5 col10\" >2.606089</td>\n",
       "      <td id=\"T_2ce55_row5_col11\" class=\"data row5 col11\" >2.400486</td>\n",
       "      <td id=\"T_2ce55_row5_col12\" class=\"data row5 col12\" >2.736358</td>\n",
       "    </tr>\n",
       "    <tr>\n",
       "      <th id=\"T_2ce55_level0_row6\" class=\"row_heading level0 row6\" >6</th>\n",
       "      <td id=\"T_2ce55_row6_col0\" class=\"data row6 col0\" >-5.819944</td>\n",
       "      <td id=\"T_2ce55_row6_col1\" class=\"data row6 col1\" >-35.220823</td>\n",
       "      <td id=\"T_2ce55_row6_col2\" class=\"data row6 col2\" >15</td>\n",
       "      <td id=\"T_2ce55_row6_col3\" class=\"data row6 col3\" >0.833333</td>\n",
       "      <td id=\"T_2ce55_row6_col4\" class=\"data row6 col4\" >→</td>\n",
       "      <td id=\"T_2ce55_row6_col5\" class=\"data row6 col5\" >-5.819944</td>\n",
       "      <td id=\"T_2ce55_row6_col6\" class=\"data row6 col6\" >-35.220823</td>\n",
       "      <td id=\"T_2ce55_row6_col7\" class=\"data row6 col7\" >80.000000</td>\n",
       "      <td id=\"T_2ce55_row6_col8\" class=\"data row6 col8\" >0.000000</td>\n",
       "      <td id=\"T_2ce55_row6_col9\" class=\"data row6 col9\" > </td>\n",
       "      <td id=\"T_2ce55_row6_col10\" class=\"data row6 col10\" >3.070012</td>\n",
       "      <td id=\"T_2ce55_row6_col11\" class=\"data row6 col11\" >2.148721</td>\n",
       "      <td id=\"T_2ce55_row6_col12\" class=\"data row6 col12\" >2.648454</td>\n",
       "    </tr>\n",
       "    <tr>\n",
       "      <th id=\"T_2ce55_level0_row7\" class=\"row_heading level0 row7\" >7</th>\n",
       "      <td id=\"T_2ce55_row7_col0\" class=\"data row7 col0\" >-5.819908</td>\n",
       "      <td id=\"T_2ce55_row7_col1\" class=\"data row7 col1\" >-35.220810</td>\n",
       "      <td id=\"T_2ce55_row7_col2\" class=\"data row7 col2\" >18</td>\n",
       "      <td id=\"T_2ce55_row7_col3\" class=\"data row7 col3\" >0.833333</td>\n",
       "      <td id=\"T_2ce55_row7_col4\" class=\"data row7 col4\" >→</td>\n",
       "      <td id=\"T_2ce55_row7_col5\" class=\"data row7 col5\" >-5.819908</td>\n",
       "      <td id=\"T_2ce55_row7_col6\" class=\"data row7 col6\" >-35.220810</td>\n",
       "      <td id=\"T_2ce55_row7_col7\" class=\"data row7 col7\" >80.000000</td>\n",
       "      <td id=\"T_2ce55_row7_col8\" class=\"data row7 col8\" >0.000000</td>\n",
       "      <td id=\"T_2ce55_row7_col9\" class=\"data row7 col9\" > </td>\n",
       "      <td id=\"T_2ce55_row7_col10\" class=\"data row7 col10\" >2.445747</td>\n",
       "      <td id=\"T_2ce55_row7_col11\" class=\"data row7 col11\" >1.470940</td>\n",
       "      <td id=\"T_2ce55_row7_col12\" class=\"data row7 col12\" >2.052619</td>\n",
       "    </tr>\n",
       "    <tr>\n",
       "      <th id=\"T_2ce55_level0_row8\" class=\"row_heading level0 row8\" >8</th>\n",
       "      <td id=\"T_2ce55_row8_col0\" class=\"data row8 col0\" >-5.819866</td>\n",
       "      <td id=\"T_2ce55_row8_col1\" class=\"data row8 col1\" >-35.220794</td>\n",
       "      <td id=\"T_2ce55_row8_col2\" class=\"data row8 col2\" >18</td>\n",
       "      <td id=\"T_2ce55_row8_col3\" class=\"data row8 col3\" >0.000000</td>\n",
       "      <td id=\"T_2ce55_row8_col4\" class=\"data row8 col4\" >→</td>\n",
       "      <td id=\"T_2ce55_row8_col5\" class=\"data row8 col5\" >-5.819866</td>\n",
       "      <td id=\"T_2ce55_row8_col6\" class=\"data row8 col6\" >-35.220794</td>\n",
       "      <td id=\"T_2ce55_row8_col7\" class=\"data row8 col7\" >80.000000</td>\n",
       "      <td id=\"T_2ce55_row8_col8\" class=\"data row8 col8\" >0.000000</td>\n",
       "      <td id=\"T_2ce55_row8_col9\" class=\"data row8 col9\" > </td>\n",
       "      <td id=\"T_2ce55_row8_col10\" class=\"data row8 col10\" >1.073221</td>\n",
       "      <td id=\"T_2ce55_row8_col11\" class=\"data row8 col11\" >1.588029</td>\n",
       "      <td id=\"T_2ce55_row8_col12\" class=\"data row8 col12\" >2.052619</td>\n",
       "    </tr>\n",
       "    <tr>\n",
       "      <th id=\"T_2ce55_level0_row9\" class=\"row_heading level0 row9\" >9</th>\n",
       "      <td id=\"T_2ce55_row9_col0\" class=\"data row9 col0\" >-5.819821</td>\n",
       "      <td id=\"T_2ce55_row9_col1\" class=\"data row9 col1\" >-35.220775</td>\n",
       "      <td id=\"T_2ce55_row9_col2\" class=\"data row9 col2\" >16</td>\n",
       "      <td id=\"T_2ce55_row9_col3\" class=\"data row9 col3\" >-0.555556</td>\n",
       "      <td id=\"T_2ce55_row9_col4\" class=\"data row9 col4\" >→</td>\n",
       "      <td id=\"T_2ce55_row9_col5\" class=\"data row9 col5\" >-5.819821</td>\n",
       "      <td id=\"T_2ce55_row9_col6\" class=\"data row9 col6\" >-35.220775</td>\n",
       "      <td id=\"T_2ce55_row9_col7\" class=\"data row9 col7\" >80.000000</td>\n",
       "      <td id=\"T_2ce55_row9_col8\" class=\"data row9 col8\" >0.000000</td>\n",
       "      <td id=\"T_2ce55_row9_col9\" class=\"data row9 col9\" > </td>\n",
       "      <td id=\"T_2ce55_row9_col10\" class=\"data row9 col10\" >0.562265</td>\n",
       "      <td id=\"T_2ce55_row9_col11\" class=\"data row9 col11\" >1.085921</td>\n",
       "      <td id=\"T_2ce55_row9_col12\" class=\"data row9 col12\" >2.092170</td>\n",
       "    </tr>\n",
       "  </tbody>\n",
       "</table>\n"
      ],
      "text/plain": [
       "<pandas.io.formats.style.Styler at 0x1bd896c1510>"
      ]
     },
     "metadata": {},
     "output_type": "display_data"
    },
    {
     "data": {
      "application/vnd.plotly.v1+json": {
       "config": {
        "plotlyServerURL": "https://plot.ly"
       },
       "data": [
        {
         "line": {
          "color": "green",
          "dash": "dot"
         },
         "mode": "lines",
         "name": "Real",
         "type": "scatter",
         "y": {
          "bdata": "fgFSsvAK8D+A9UFnuTbwP+sFLaeytQBAlHGRLVkYAkBCucXSWf4DQEt9dVtF2QRAqBJmS2KPCEA+120O5JADQCN/TinqK/E/+as09BP+4T+aTWFMs5viP5pNYUyzm+I/XDzytNji+j+dNUG2RPMCQCiGK0XJLgZAUV/NH7tGBUCt9L0P2PwIQMoh0PdM4gZALUmGV/HwAUC7e8iq65kFQJWKBjqL2QZAPtdtDuSQA0A+120O5JADQD/LXcOsvPM/G9QTrTAS5T+dNUG2RPPiPz7XbQ7kkOM/PtdtDuSQ4z+N38u90b/qPypPDv0M2/E/XDzytNjiCkCoDN6lRqUIQKgM3qVGpQhA8yxc66J8D0BuxFHGr5gMQIjedkcOpwVAJ4Cjn61EBkBRX80fu0YFQLWf+IuRFgVAtZ/4i5EWBUBZCgicdGDxP1JTvdSDcvU/1NlvNQHp9z+u1cBdilHkP67VwF2KUeQ/oGcrz6h17D9QRlgTiYXwP5J9oXiQ7PE/kn2heJDs8T/DRQDZ8l7mP79dIG9hB+Y/v10gb2EH5j+/XSBvYQfmP2LnLDGS/OY/sOIlH4U+6T/qekRTCmDuP6BnK8+odew/mWxe/gBHB0CpJVOyeGYNQIFGKTJrZA5AgUYpMmtkDkDqCPF5wKoQQNfm1Pb71QxA1+bU9vvVDEDDRQDZ8l7mP8A4mxf4ceE/+as09BP+4T9i5ywxkvzmP2LnLDGS/OY/QeTSz9596D9B5NLP3n3oPzJEUyiZH+c/MkRTKJkf5z95fPEDZJ/tP3l88QNkn+0/2trEq8QB7T8Lfp60vd7sP9by5EEzquw/LlxzvgfI5j8uXHO+B8jmP79dIG9hB+Y/idJm/NbS5T/DRQDZ8l7mP/jQuUt9k+Y/+NC5S32T5j8g7t0vJuzuPwt+nrS93uw/nH9LZRce7D9q3HFcHkHsP2rccVweQew/H7zzFsJp5T8fvPMWwmnlP/jQuUt9k+Y/LlxzvgfI5j8uXHO+B8jmPy5cc74HyOY/atxxXB5B7D9q3HFcHkHsPwt+nrS93uw/1vLkQTOq7D8=",
          "dtype": "f8"
         }
        },
        {
         "line": {
          "color": "blue",
          "dash": "dash"
         },
         "mode": "lines",
         "name": "Predição Original",
         "type": "scatter",
         "y": {
          "bdata": "nyhPnflO9z9gHHYQcETwP58oT535Tvc/NcYJ3ivx/z/H027bMTQDQMfTbtsxNANAW6JizpQwAUDSiMQk+Ij3P/2q4seQaPk/ZH6eRe5f8T9BGZ5ZmvD3PzitkrX97Pg/sjPog+dN+z+SSuHot2oCQJww0qNNLgNA8cQEdVL2B0A1HTGC8yUFQJ1s4cie0QVAPEfMwV4IAkA8R8zBXggCQF2Pwwd46AFAbpuVTxN2+j/IvXHXsBP6P0OwSlf+P/c/2pPnoDIS6T+hOYU4eCfuPxp0K9BUbOo/ThQjZ9o8AEBABo/x9pL3P3F+mAxJHfY/vjt97VxcAkC1xmrF5DgDQOa6Z/pAWAZAUonaDz/zBED9aMiraIEDQPruFYWieANA+u4VhaJ4A0CoKE294o/7Pxk9jtecgfw/S7H7xD8A/j92WkFYmFz2P7S5Onx/Bvo/RX1rWH4i8z/oY5hva434P1TJv1Fh2es/2F3p5aM27D+RtiC+vPzzP6NexDxw2fI/XyhyWTnN9D+DFQQ4srDxP7jtWJ1vMew/uO1YnW8x7D+47VidbzHsP7jtWJ1vMew/uO1YnW8x7D+47VidbzHsP7jtWJ1vMew/uO1YnW8x7D8nAD+TNLUCQNaKcWWMugZA0Uv5KVIhCEA+8WTkUCIIQPi+a1e0Yw5Ayp9UILRhDkDaMTNkxTIBQMaASEASVe8/28WzSFf/7z9COf9b/WfwPxW/p/5ScP0/VZWNuaJb6j9o0D7Y66zqP2jQPtjrrOo/aNA+2Ous6j9o0D7Y66zqP2jQPtjrrOo/aNA+2Ous6j9o0D7Y66zqP2jQPtjrrOo/aNA+2Ous6j9o0D7Y66zqP2jQPtjrrOo/aNA+2Ous6j9o0D7Y66zqP2jQPtjrrOo/aNA+2Ous6j9o0D7Y66zqP2jQPtjrrOo/aNA+2Ous6j9o0D7Y66zqP2jQPtjrrOo/aNA+2Ous6j9o0D7Y66zqP2jQPtjrrOo/aNA+2Ous6j9o0D7Y66zqP2jQPtjrrOo/aNA+2Ous6j9o0D7Y66zqP2jQPtjrrOo/aNA+2Ous6j8=",
          "dtype": "f8"
         }
        },
        {
         "line": {
          "color": "red"
         },
         "mode": "lines",
         "name": "Predição com RM",
         "type": "scatter",
         "y": {
          "bdata": "gEQ+be+DCUCARD5t74MJQIBEPm3vgwlAgEQ+be+DCUDeAhSfD+QFQN4CFJ8P5AVAYNKQkAgwBUBbqC20w2sAQFuoLbTDawBAIzQu1MO8AEDNO7oH2JYBQN+DwLMY4wNAxsbhI8t7A0DGxuEjy3sDQMbG4SPLewNAvwgGgPJOBEC/CAaA8k4EQL8IBoDyTgRACg5BWplLBkAKDkFamUsGQAoOQVqZSwZAxR/9+qATBEDFH/36oBMEQCIgJG8S+QJAIiAkbxL5AkCX9UtZI4UBQG46q7Ao9gBAy/sG5FLwBEBYZAx5ZmQKQFhkDHlmZApAWGQMeWZkCkBYZAx5ZmQKQE/JMzgAmQpAT8kzOACZCkBPyTM4AJkKQFL0fLMRKAhAUvR8sxEoCEBn28X8HbQBQGfbxfwdtAFAZ9vF/B20AUBd8oOYlf/+P13yg5iV//4/XfKDmJX//j9d8oOYlf/+P/RRNFr7BgZA9FE0WvsGBkAh0KcE3I0IQMyKs7qW0QdAzIqzupbRB0DMirO6ltEHQMyKs7qW0QdAzIqzupbRB0DMirO6ltEHQMyKs7qW0QdAzIqzupbRB0DMirO6ltEHQMyKs7qW0QdAzIqzupbRB0A13Ecc50sRQDXcRxznSxFA4P5BwQmqEUDg/kHBCaoRQOD+QcEJqhFA4P5BwQmqEUCnCRIDrxQPQCjR8jLrng9AKNHyMuueD0Ao0fIy654PQCjR8jLrng9AKNHyMuueD0Ao0fIy654PQCjR8jLrng9AKNHyMuueD0Ao0fIy654PQCjR8jLrng9AKNHyMuueD0Ao0fIy654PQCjR8jLrng9AKNHyMuueD0Ao0fIy654PQCjR8jLrng9AKNHyMuueD0Ao0fIy654PQCjR8jLrng9AKNHyMuueD0Ao0fIy654PQCjR8jLrng9AKNHyMuueD0Ao0fIy654PQCjR8jLrng9AKNHyMuueD0Ao0fIy654PQCjR8jLrng9AKNHyMuueD0Ao0fIy654PQCjR8jLrng9AKNHyMuueD0Ao0fIy654PQCjR8jLrng9AKNHyMuueD0A=",
          "dtype": "f8"
         }
        }
       ],
       "layout": {
        "template": {
         "data": {
          "bar": [
           {
            "error_x": {
             "color": "#2a3f5f"
            },
            "error_y": {
             "color": "#2a3f5f"
            },
            "marker": {
             "line": {
              "color": "white",
              "width": 0.5
             },
             "pattern": {
              "fillmode": "overlay",
              "size": 10,
              "solidity": 0.2
             }
            },
            "type": "bar"
           }
          ],
          "barpolar": [
           {
            "marker": {
             "line": {
              "color": "white",
              "width": 0.5
             },
             "pattern": {
              "fillmode": "overlay",
              "size": 10,
              "solidity": 0.2
             }
            },
            "type": "barpolar"
           }
          ],
          "carpet": [
           {
            "aaxis": {
             "endlinecolor": "#2a3f5f",
             "gridcolor": "#C8D4E3",
             "linecolor": "#C8D4E3",
             "minorgridcolor": "#C8D4E3",
             "startlinecolor": "#2a3f5f"
            },
            "baxis": {
             "endlinecolor": "#2a3f5f",
             "gridcolor": "#C8D4E3",
             "linecolor": "#C8D4E3",
             "minorgridcolor": "#C8D4E3",
             "startlinecolor": "#2a3f5f"
            },
            "type": "carpet"
           }
          ],
          "choropleth": [
           {
            "colorbar": {
             "outlinewidth": 0,
             "ticks": ""
            },
            "type": "choropleth"
           }
          ],
          "contour": [
           {
            "colorbar": {
             "outlinewidth": 0,
             "ticks": ""
            },
            "colorscale": [
             [
              0,
              "#0d0887"
             ],
             [
              0.1111111111111111,
              "#46039f"
             ],
             [
              0.2222222222222222,
              "#7201a8"
             ],
             [
              0.3333333333333333,
              "#9c179e"
             ],
             [
              0.4444444444444444,
              "#bd3786"
             ],
             [
              0.5555555555555556,
              "#d8576b"
             ],
             [
              0.6666666666666666,
              "#ed7953"
             ],
             [
              0.7777777777777778,
              "#fb9f3a"
             ],
             [
              0.8888888888888888,
              "#fdca26"
             ],
             [
              1,
              "#f0f921"
             ]
            ],
            "type": "contour"
           }
          ],
          "contourcarpet": [
           {
            "colorbar": {
             "outlinewidth": 0,
             "ticks": ""
            },
            "type": "contourcarpet"
           }
          ],
          "heatmap": [
           {
            "colorbar": {
             "outlinewidth": 0,
             "ticks": ""
            },
            "colorscale": [
             [
              0,
              "#0d0887"
             ],
             [
              0.1111111111111111,
              "#46039f"
             ],
             [
              0.2222222222222222,
              "#7201a8"
             ],
             [
              0.3333333333333333,
              "#9c179e"
             ],
             [
              0.4444444444444444,
              "#bd3786"
             ],
             [
              0.5555555555555556,
              "#d8576b"
             ],
             [
              0.6666666666666666,
              "#ed7953"
             ],
             [
              0.7777777777777778,
              "#fb9f3a"
             ],
             [
              0.8888888888888888,
              "#fdca26"
             ],
             [
              1,
              "#f0f921"
             ]
            ],
            "type": "heatmap"
           }
          ],
          "histogram": [
           {
            "marker": {
             "pattern": {
              "fillmode": "overlay",
              "size": 10,
              "solidity": 0.2
             }
            },
            "type": "histogram"
           }
          ],
          "histogram2d": [
           {
            "colorbar": {
             "outlinewidth": 0,
             "ticks": ""
            },
            "colorscale": [
             [
              0,
              "#0d0887"
             ],
             [
              0.1111111111111111,
              "#46039f"
             ],
             [
              0.2222222222222222,
              "#7201a8"
             ],
             [
              0.3333333333333333,
              "#9c179e"
             ],
             [
              0.4444444444444444,
              "#bd3786"
             ],
             [
              0.5555555555555556,
              "#d8576b"
             ],
             [
              0.6666666666666666,
              "#ed7953"
             ],
             [
              0.7777777777777778,
              "#fb9f3a"
             ],
             [
              0.8888888888888888,
              "#fdca26"
             ],
             [
              1,
              "#f0f921"
             ]
            ],
            "type": "histogram2d"
           }
          ],
          "histogram2dcontour": [
           {
            "colorbar": {
             "outlinewidth": 0,
             "ticks": ""
            },
            "colorscale": [
             [
              0,
              "#0d0887"
             ],
             [
              0.1111111111111111,
              "#46039f"
             ],
             [
              0.2222222222222222,
              "#7201a8"
             ],
             [
              0.3333333333333333,
              "#9c179e"
             ],
             [
              0.4444444444444444,
              "#bd3786"
             ],
             [
              0.5555555555555556,
              "#d8576b"
             ],
             [
              0.6666666666666666,
              "#ed7953"
             ],
             [
              0.7777777777777778,
              "#fb9f3a"
             ],
             [
              0.8888888888888888,
              "#fdca26"
             ],
             [
              1,
              "#f0f921"
             ]
            ],
            "type": "histogram2dcontour"
           }
          ],
          "mesh3d": [
           {
            "colorbar": {
             "outlinewidth": 0,
             "ticks": ""
            },
            "type": "mesh3d"
           }
          ],
          "parcoords": [
           {
            "line": {
             "colorbar": {
              "outlinewidth": 0,
              "ticks": ""
             }
            },
            "type": "parcoords"
           }
          ],
          "pie": [
           {
            "automargin": true,
            "type": "pie"
           }
          ],
          "scatter": [
           {
            "fillpattern": {
             "fillmode": "overlay",
             "size": 10,
             "solidity": 0.2
            },
            "type": "scatter"
           }
          ],
          "scatter3d": [
           {
            "line": {
             "colorbar": {
              "outlinewidth": 0,
              "ticks": ""
             }
            },
            "marker": {
             "colorbar": {
              "outlinewidth": 0,
              "ticks": ""
             }
            },
            "type": "scatter3d"
           }
          ],
          "scattercarpet": [
           {
            "marker": {
             "colorbar": {
              "outlinewidth": 0,
              "ticks": ""
             }
            },
            "type": "scattercarpet"
           }
          ],
          "scattergeo": [
           {
            "marker": {
             "colorbar": {
              "outlinewidth": 0,
              "ticks": ""
             }
            },
            "type": "scattergeo"
           }
          ],
          "scattergl": [
           {
            "marker": {
             "colorbar": {
              "outlinewidth": 0,
              "ticks": ""
             }
            },
            "type": "scattergl"
           }
          ],
          "scattermap": [
           {
            "marker": {
             "colorbar": {
              "outlinewidth": 0,
              "ticks": ""
             }
            },
            "type": "scattermap"
           }
          ],
          "scattermapbox": [
           {
            "marker": {
             "colorbar": {
              "outlinewidth": 0,
              "ticks": ""
             }
            },
            "type": "scattermapbox"
           }
          ],
          "scatterpolar": [
           {
            "marker": {
             "colorbar": {
              "outlinewidth": 0,
              "ticks": ""
             }
            },
            "type": "scatterpolar"
           }
          ],
          "scatterpolargl": [
           {
            "marker": {
             "colorbar": {
              "outlinewidth": 0,
              "ticks": ""
             }
            },
            "type": "scatterpolargl"
           }
          ],
          "scatterternary": [
           {
            "marker": {
             "colorbar": {
              "outlinewidth": 0,
              "ticks": ""
             }
            },
            "type": "scatterternary"
           }
          ],
          "surface": [
           {
            "colorbar": {
             "outlinewidth": 0,
             "ticks": ""
            },
            "colorscale": [
             [
              0,
              "#0d0887"
             ],
             [
              0.1111111111111111,
              "#46039f"
             ],
             [
              0.2222222222222222,
              "#7201a8"
             ],
             [
              0.3333333333333333,
              "#9c179e"
             ],
             [
              0.4444444444444444,
              "#bd3786"
             ],
             [
              0.5555555555555556,
              "#d8576b"
             ],
             [
              0.6666666666666666,
              "#ed7953"
             ],
             [
              0.7777777777777778,
              "#fb9f3a"
             ],
             [
              0.8888888888888888,
              "#fdca26"
             ],
             [
              1,
              "#f0f921"
             ]
            ],
            "type": "surface"
           }
          ],
          "table": [
           {
            "cells": {
             "fill": {
              "color": "#EBF0F8"
             },
             "line": {
              "color": "white"
             }
            },
            "header": {
             "fill": {
              "color": "#C8D4E3"
             },
             "line": {
              "color": "white"
             }
            },
            "type": "table"
           }
          ]
         },
         "layout": {
          "annotationdefaults": {
           "arrowcolor": "#2a3f5f",
           "arrowhead": 0,
           "arrowwidth": 1
          },
          "autotypenumbers": "strict",
          "coloraxis": {
           "colorbar": {
            "outlinewidth": 0,
            "ticks": ""
           }
          },
          "colorscale": {
           "diverging": [
            [
             0,
             "#8e0152"
            ],
            [
             0.1,
             "#c51b7d"
            ],
            [
             0.2,
             "#de77ae"
            ],
            [
             0.3,
             "#f1b6da"
            ],
            [
             0.4,
             "#fde0ef"
            ],
            [
             0.5,
             "#f7f7f7"
            ],
            [
             0.6,
             "#e6f5d0"
            ],
            [
             0.7,
             "#b8e186"
            ],
            [
             0.8,
             "#7fbc41"
            ],
            [
             0.9,
             "#4d9221"
            ],
            [
             1,
             "#276419"
            ]
           ],
           "sequential": [
            [
             0,
             "#0d0887"
            ],
            [
             0.1111111111111111,
             "#46039f"
            ],
            [
             0.2222222222222222,
             "#7201a8"
            ],
            [
             0.3333333333333333,
             "#9c179e"
            ],
            [
             0.4444444444444444,
             "#bd3786"
            ],
            [
             0.5555555555555556,
             "#d8576b"
            ],
            [
             0.6666666666666666,
             "#ed7953"
            ],
            [
             0.7777777777777778,
             "#fb9f3a"
            ],
            [
             0.8888888888888888,
             "#fdca26"
            ],
            [
             1,
             "#f0f921"
            ]
           ],
           "sequentialminus": [
            [
             0,
             "#0d0887"
            ],
            [
             0.1111111111111111,
             "#46039f"
            ],
            [
             0.2222222222222222,
             "#7201a8"
            ],
            [
             0.3333333333333333,
             "#9c179e"
            ],
            [
             0.4444444444444444,
             "#bd3786"
            ],
            [
             0.5555555555555556,
             "#d8576b"
            ],
            [
             0.6666666666666666,
             "#ed7953"
            ],
            [
             0.7777777777777778,
             "#fb9f3a"
            ],
            [
             0.8888888888888888,
             "#fdca26"
            ],
            [
             1,
             "#f0f921"
            ]
           ]
          },
          "colorway": [
           "#636efa",
           "#EF553B",
           "#00cc96",
           "#ab63fa",
           "#FFA15A",
           "#19d3f3",
           "#FF6692",
           "#B6E880",
           "#FF97FF",
           "#FECB52"
          ],
          "font": {
           "color": "#2a3f5f"
          },
          "geo": {
           "bgcolor": "white",
           "lakecolor": "white",
           "landcolor": "white",
           "showlakes": true,
           "showland": true,
           "subunitcolor": "#C8D4E3"
          },
          "hoverlabel": {
           "align": "left"
          },
          "hovermode": "closest",
          "mapbox": {
           "style": "light"
          },
          "paper_bgcolor": "white",
          "plot_bgcolor": "white",
          "polar": {
           "angularaxis": {
            "gridcolor": "#EBF0F8",
            "linecolor": "#EBF0F8",
            "ticks": ""
           },
           "bgcolor": "white",
           "radialaxis": {
            "gridcolor": "#EBF0F8",
            "linecolor": "#EBF0F8",
            "ticks": ""
           }
          },
          "scene": {
           "xaxis": {
            "backgroundcolor": "white",
            "gridcolor": "#DFE8F3",
            "gridwidth": 2,
            "linecolor": "#EBF0F8",
            "showbackground": true,
            "ticks": "",
            "zerolinecolor": "#EBF0F8"
           },
           "yaxis": {
            "backgroundcolor": "white",
            "gridcolor": "#DFE8F3",
            "gridwidth": 2,
            "linecolor": "#EBF0F8",
            "showbackground": true,
            "ticks": "",
            "zerolinecolor": "#EBF0F8"
           },
           "zaxis": {
            "backgroundcolor": "white",
            "gridcolor": "#DFE8F3",
            "gridwidth": 2,
            "linecolor": "#EBF0F8",
            "showbackground": true,
            "ticks": "",
            "zerolinecolor": "#EBF0F8"
           }
          },
          "shapedefaults": {
           "line": {
            "color": "#2a3f5f"
           }
          },
          "ternary": {
           "aaxis": {
            "gridcolor": "#DFE8F3",
            "linecolor": "#A2B1C6",
            "ticks": ""
           },
           "baxis": {
            "gridcolor": "#DFE8F3",
            "linecolor": "#A2B1C6",
            "ticks": ""
           },
           "bgcolor": "white",
           "caxis": {
            "gridcolor": "#DFE8F3",
            "linecolor": "#A2B1C6",
            "ticks": ""
           }
          },
          "title": {
           "x": 0.05
          },
          "xaxis": {
           "automargin": true,
           "gridcolor": "#EBF0F8",
           "linecolor": "#EBF0F8",
           "ticks": "",
           "title": {
            "standoff": 15
           },
           "zerolinecolor": "#EBF0F8",
           "zerolinewidth": 2
          },
          "yaxis": {
           "automargin": true,
           "gridcolor": "#EBF0F8",
           "linecolor": "#EBF0F8",
           "ticks": "",
           "title": {
            "standoff": 15
           },
           "zerolinecolor": "#EBF0F8",
           "zerolinewidth": 2
          }
         }
        },
        "title": {
         "text": "Comparação CO₂ - Caso de teste: RM6 - Velocidade constante em 80 km/h e aceleração igual a zero - GASOLINE",
         "x": 0.5
        },
        "xaxis": {
         "title": {
          "text": "Amostras"
         }
        },
        "yaxis": {
         "title": {
          "text": "CO₂ (g/s)"
         }
        }
       }
      }
     },
     "metadata": {},
     "output_type": "display_data"
    },
    {
     "name": "stdout",
     "output_type": "stream",
     "text": [
      "\n",
      "🔁 Caso de teste: RM7 - Velocidade constante a 130 km/h e aceleração igual a zero (ETHANOL)\n",
      "Diferença Média: 0.8550 | Diferença Máxima: 2.8647 | Erro Quadrático Médio (RMSE): 0.9879 | Desvio Padrão (Std): 0.4949\n"
     ]
    },
    {
     "data": {
      "text/html": [
       "<style type=\"text/css\">\n",
       "</style>\n",
       "<table id=\"T_d05e3\">\n",
       "  <caption>Comparação dos dados originais e modificados - Caso de teste: RM7 - Velocidade constante a 130 km/h e aceleração igual a zero (ETHANOL)</caption>\n",
       "  <thead>\n",
       "    <tr>\n",
       "      <th class=\"blank level0\" >&nbsp;</th>\n",
       "      <th id=\"T_d05e3_level0_col0\" class=\"col_heading level0 col0\" >Latitude_Orig</th>\n",
       "      <th id=\"T_d05e3_level0_col1\" class=\"col_heading level0 col1\" >Longitude_Orig</th>\n",
       "      <th id=\"T_d05e3_level0_col2\" class=\"col_heading level0 col2\" >Speed(OBD)(km/h)_Orig</th>\n",
       "      <th id=\"T_d05e3_level0_col3\" class=\"col_heading level0 col3\" >Acceleration_Orig</th>\n",
       "      <th id=\"T_d05e3_level0_col4\" class=\"col_heading level0 col4\" > </th>\n",
       "      <th id=\"T_d05e3_level0_col5\" class=\"col_heading level0 col5\" >Latitude_Mod</th>\n",
       "      <th id=\"T_d05e3_level0_col6\" class=\"col_heading level0 col6\" >Longitude_Mod</th>\n",
       "      <th id=\"T_d05e3_level0_col7\" class=\"col_heading level0 col7\" >Speed(OBD)(km/h)_Mod</th>\n",
       "      <th id=\"T_d05e3_level0_col8\" class=\"col_heading level0 col8\" >Acceleration_Mod</th>\n",
       "      <th id=\"T_d05e3_level0_col9\" class=\"col_heading level0 col9\" > </th>\n",
       "      <th id=\"T_d05e3_level0_col10\" class=\"col_heading level0 col10\" >CO₂_Real</th>\n",
       "      <th id=\"T_d05e3_level0_col11\" class=\"col_heading level0 col11\" >CO₂_Orig</th>\n",
       "      <th id=\"T_d05e3_level0_col12\" class=\"col_heading level0 col12\" >CO₂_Mod</th>\n",
       "    </tr>\n",
       "  </thead>\n",
       "  <tbody>\n",
       "    <tr>\n",
       "      <th id=\"T_d05e3_level0_row0\" class=\"row_heading level0 row0\" >0</th>\n",
       "      <td id=\"T_d05e3_row0_col0\" class=\"data row0 col0\" >-5.820105</td>\n",
       "      <td id=\"T_d05e3_row0_col1\" class=\"data row0 col1\" >-35.220818</td>\n",
       "      <td id=\"T_d05e3_row0_col2\" class=\"data row0 col2\" >3</td>\n",
       "      <td id=\"T_d05e3_row0_col3\" class=\"data row0 col3\" >0.000000</td>\n",
       "      <td id=\"T_d05e3_row0_col4\" class=\"data row0 col4\" >→</td>\n",
       "      <td id=\"T_d05e3_row0_col5\" class=\"data row0 col5\" >-5.820105</td>\n",
       "      <td id=\"T_d05e3_row0_col6\" class=\"data row0 col6\" >-35.220818</td>\n",
       "      <td id=\"T_d05e3_row0_col7\" class=\"data row0 col7\" >130.000000</td>\n",
       "      <td id=\"T_d05e3_row0_col8\" class=\"data row0 col8\" >0.000000</td>\n",
       "      <td id=\"T_d05e3_row0_col9\" class=\"data row0 col9\" > </td>\n",
       "      <td id=\"T_d05e3_row0_col10\" class=\"data row0 col10\" >0.642839</td>\n",
       "      <td id=\"T_d05e3_row0_col11\" class=\"data row0 col11\" >0.742631</td>\n",
       "      <td id=\"T_d05e3_row0_col12\" class=\"data row0 col12\" >1.579490</td>\n",
       "    </tr>\n",
       "    <tr>\n",
       "      <th id=\"T_d05e3_level0_row1\" class=\"row_heading level0 row1\" >1</th>\n",
       "      <td id=\"T_d05e3_row1_col0\" class=\"data row1 col0\" >-5.820103</td>\n",
       "      <td id=\"T_d05e3_row1_col1\" class=\"data row1 col1\" >-35.220828</td>\n",
       "      <td id=\"T_d05e3_row1_col2\" class=\"data row1 col2\" >5</td>\n",
       "      <td id=\"T_d05e3_row1_col3\" class=\"data row1 col3\" >0.555556</td>\n",
       "      <td id=\"T_d05e3_row1_col4\" class=\"data row1 col4\" >→</td>\n",
       "      <td id=\"T_d05e3_row1_col5\" class=\"data row1 col5\" >-5.820103</td>\n",
       "      <td id=\"T_d05e3_row1_col6\" class=\"data row1 col6\" >-35.220828</td>\n",
       "      <td id=\"T_d05e3_row1_col7\" class=\"data row1 col7\" >130.000000</td>\n",
       "      <td id=\"T_d05e3_row1_col8\" class=\"data row1 col8\" >0.000000</td>\n",
       "      <td id=\"T_d05e3_row1_col9\" class=\"data row1 col9\" > </td>\n",
       "      <td id=\"T_d05e3_row1_col10\" class=\"data row1 col10\" >0.653249</td>\n",
       "      <td id=\"T_d05e3_row1_col11\" class=\"data row1 col11\" >0.771505</td>\n",
       "      <td id=\"T_d05e3_row1_col12\" class=\"data row1 col12\" >1.579490</td>\n",
       "    </tr>\n",
       "    <tr>\n",
       "      <th id=\"T_d05e3_level0_row2\" class=\"row_heading level0 row2\" >2</th>\n",
       "      <td id=\"T_d05e3_row2_col0\" class=\"data row2 col0\" >-5.820102</td>\n",
       "      <td id=\"T_d05e3_row2_col1\" class=\"data row2 col1\" >-35.220838</td>\n",
       "      <td id=\"T_d05e3_row2_col2\" class=\"data row2 col2\" >5</td>\n",
       "      <td id=\"T_d05e3_row2_col3\" class=\"data row2 col3\" >0.000000</td>\n",
       "      <td id=\"T_d05e3_row2_col4\" class=\"data row2 col4\" >→</td>\n",
       "      <td id=\"T_d05e3_row2_col5\" class=\"data row2 col5\" >-5.820102</td>\n",
       "      <td id=\"T_d05e3_row2_col6\" class=\"data row2 col6\" >-35.220838</td>\n",
       "      <td id=\"T_d05e3_row2_col7\" class=\"data row2 col7\" >130.000000</td>\n",
       "      <td id=\"T_d05e3_row2_col8\" class=\"data row2 col8\" >0.000000</td>\n",
       "      <td id=\"T_d05e3_row2_col9\" class=\"data row2 col9\" > </td>\n",
       "      <td id=\"T_d05e3_row2_col10\" class=\"data row2 col10\" >0.653249</td>\n",
       "      <td id=\"T_d05e3_row2_col11\" class=\"data row2 col11\" >0.771505</td>\n",
       "      <td id=\"T_d05e3_row2_col12\" class=\"data row2 col12\" >1.579490</td>\n",
       "    </tr>\n",
       "    <tr>\n",
       "      <th id=\"T_d05e3_level0_row3\" class=\"row_heading level0 row3\" >3</th>\n",
       "      <td id=\"T_d05e3_row3_col0\" class=\"data row3 col0\" >-5.820096</td>\n",
       "      <td id=\"T_d05e3_row3_col1\" class=\"data row3 col1\" >-35.220843</td>\n",
       "      <td id=\"T_d05e3_row3_col2\" class=\"data row3 col2\" >3</td>\n",
       "      <td id=\"T_d05e3_row3_col3\" class=\"data row3 col3\" >-0.555556</td>\n",
       "      <td id=\"T_d05e3_row3_col4\" class=\"data row3 col4\" >→</td>\n",
       "      <td id=\"T_d05e3_row3_col5\" class=\"data row3 col5\" >-5.820096</td>\n",
       "      <td id=\"T_d05e3_row3_col6\" class=\"data row3 col6\" >-35.220843</td>\n",
       "      <td id=\"T_d05e3_row3_col7\" class=\"data row3 col7\" >130.000000</td>\n",
       "      <td id=\"T_d05e3_row3_col8\" class=\"data row3 col8\" >0.000000</td>\n",
       "      <td id=\"T_d05e3_row3_col9\" class=\"data row3 col9\" > </td>\n",
       "      <td id=\"T_d05e3_row3_col10\" class=\"data row3 col10\" >0.679275</td>\n",
       "      <td id=\"T_d05e3_row3_col11\" class=\"data row3 col11\" >0.659013</td>\n",
       "      <td id=\"T_d05e3_row3_col12\" class=\"data row3 col12\" >1.579490</td>\n",
       "    </tr>\n",
       "    <tr>\n",
       "      <th id=\"T_d05e3_level0_row4\" class=\"row_heading level0 row4\" >4</th>\n",
       "      <td id=\"T_d05e3_row4_col0\" class=\"data row4 col0\" >-5.820091</td>\n",
       "      <td id=\"T_d05e3_row4_col1\" class=\"data row4 col1\" >-35.220850</td>\n",
       "      <td id=\"T_d05e3_row4_col2\" class=\"data row4 col2\" >0</td>\n",
       "      <td id=\"T_d05e3_row4_col3\" class=\"data row4 col3\" >-0.833333</td>\n",
       "      <td id=\"T_d05e3_row4_col4\" class=\"data row4 col4\" >→</td>\n",
       "      <td id=\"T_d05e3_row4_col5\" class=\"data row4 col5\" >-5.820091</td>\n",
       "      <td id=\"T_d05e3_row4_col6\" class=\"data row4 col6\" >-35.220850</td>\n",
       "      <td id=\"T_d05e3_row4_col7\" class=\"data row4 col7\" >130.000000</td>\n",
       "      <td id=\"T_d05e3_row4_col8\" class=\"data row4 col8\" >0.000000</td>\n",
       "      <td id=\"T_d05e3_row4_col9\" class=\"data row4 col9\" > </td>\n",
       "      <td id=\"T_d05e3_row4_col10\" class=\"data row4 col10\" >0.610306</td>\n",
       "      <td id=\"T_d05e3_row4_col11\" class=\"data row4 col11\" >0.667689</td>\n",
       "      <td id=\"T_d05e3_row4_col12\" class=\"data row4 col12\" >1.520587</td>\n",
       "    </tr>\n",
       "    <tr>\n",
       "      <th id=\"T_d05e3_level0_row5\" class=\"row_heading level0 row5\" >5</th>\n",
       "      <td id=\"T_d05e3_row5_col0\" class=\"data row5 col0\" >-5.820091</td>\n",
       "      <td id=\"T_d05e3_row5_col1\" class=\"data row5 col1\" >-35.220850</td>\n",
       "      <td id=\"T_d05e3_row5_col2\" class=\"data row5 col2\" >0</td>\n",
       "      <td id=\"T_d05e3_row5_col3\" class=\"data row5 col3\" >0.000000</td>\n",
       "      <td id=\"T_d05e3_row5_col4\" class=\"data row5 col4\" >→</td>\n",
       "      <td id=\"T_d05e3_row5_col5\" class=\"data row5 col5\" >-5.820091</td>\n",
       "      <td id=\"T_d05e3_row5_col6\" class=\"data row5 col6\" >-35.220850</td>\n",
       "      <td id=\"T_d05e3_row5_col7\" class=\"data row5 col7\" >130.000000</td>\n",
       "      <td id=\"T_d05e3_row5_col8\" class=\"data row5 col8\" >0.000000</td>\n",
       "      <td id=\"T_d05e3_row5_col9\" class=\"data row5 col9\" > </td>\n",
       "      <td id=\"T_d05e3_row5_col10\" class=\"data row5 col10\" >0.610306</td>\n",
       "      <td id=\"T_d05e3_row5_col11\" class=\"data row5 col11\" >0.706858</td>\n",
       "      <td id=\"T_d05e3_row5_col12\" class=\"data row5 col12\" >1.520587</td>\n",
       "    </tr>\n",
       "    <tr>\n",
       "      <th id=\"T_d05e3_level0_row6\" class=\"row_heading level0 row6\" >6</th>\n",
       "      <td id=\"T_d05e3_row6_col0\" class=\"data row6 col0\" >-5.820091</td>\n",
       "      <td id=\"T_d05e3_row6_col1\" class=\"data row6 col1\" >-35.220850</td>\n",
       "      <td id=\"T_d05e3_row6_col2\" class=\"data row6 col2\" >0</td>\n",
       "      <td id=\"T_d05e3_row6_col3\" class=\"data row6 col3\" >0.000000</td>\n",
       "      <td id=\"T_d05e3_row6_col4\" class=\"data row6 col4\" >→</td>\n",
       "      <td id=\"T_d05e3_row6_col5\" class=\"data row6 col5\" >-5.820091</td>\n",
       "      <td id=\"T_d05e3_row6_col6\" class=\"data row6 col6\" >-35.220850</td>\n",
       "      <td id=\"T_d05e3_row6_col7\" class=\"data row6 col7\" >130.000000</td>\n",
       "      <td id=\"T_d05e3_row6_col8\" class=\"data row6 col8\" >0.000000</td>\n",
       "      <td id=\"T_d05e3_row6_col9\" class=\"data row6 col9\" > </td>\n",
       "      <td id=\"T_d05e3_row6_col10\" class=\"data row6 col10\" >0.490587</td>\n",
       "      <td id=\"T_d05e3_row6_col11\" class=\"data row6 col11\" >0.706858</td>\n",
       "      <td id=\"T_d05e3_row6_col12\" class=\"data row6 col12\" >1.520587</td>\n",
       "    </tr>\n",
       "    <tr>\n",
       "      <th id=\"T_d05e3_level0_row7\" class=\"row_heading level0 row7\" >7</th>\n",
       "      <td id=\"T_d05e3_row7_col0\" class=\"data row7 col0\" >-5.820085</td>\n",
       "      <td id=\"T_d05e3_row7_col1\" class=\"data row7 col1\" >-35.220856</td>\n",
       "      <td id=\"T_d05e3_row7_col2\" class=\"data row7 col2\" >3</td>\n",
       "      <td id=\"T_d05e3_row7_col3\" class=\"data row7 col3\" >0.833333</td>\n",
       "      <td id=\"T_d05e3_row7_col4\" class=\"data row7 col4\" >→</td>\n",
       "      <td id=\"T_d05e3_row7_col5\" class=\"data row7 col5\" >-5.820085</td>\n",
       "      <td id=\"T_d05e3_row7_col6\" class=\"data row7 col6\" >-35.220856</td>\n",
       "      <td id=\"T_d05e3_row7_col7\" class=\"data row7 col7\" >130.000000</td>\n",
       "      <td id=\"T_d05e3_row7_col8\" class=\"data row7 col8\" >0.000000</td>\n",
       "      <td id=\"T_d05e3_row7_col9\" class=\"data row7 col9\" > </td>\n",
       "      <td id=\"T_d05e3_row7_col10\" class=\"data row7 col10\" >1.090483</td>\n",
       "      <td id=\"T_d05e3_row7_col11\" class=\"data row7 col11\" >1.137803</td>\n",
       "      <td id=\"T_d05e3_row7_col12\" class=\"data row7 col12\" >1.520587</td>\n",
       "    </tr>\n",
       "    <tr>\n",
       "      <th id=\"T_d05e3_level0_row8\" class=\"row_heading level0 row8\" >8</th>\n",
       "      <td id=\"T_d05e3_row8_col0\" class=\"data row8 col0\" >-5.820074</td>\n",
       "      <td id=\"T_d05e3_row8_col1\" class=\"data row8 col1\" >-35.220859</td>\n",
       "      <td id=\"T_d05e3_row8_col2\" class=\"data row8 col2\" >3</td>\n",
       "      <td id=\"T_d05e3_row8_col3\" class=\"data row8 col3\" >0.000000</td>\n",
       "      <td id=\"T_d05e3_row8_col4\" class=\"data row8 col4\" >→</td>\n",
       "      <td id=\"T_d05e3_row8_col5\" class=\"data row8 col5\" >-5.820074</td>\n",
       "      <td id=\"T_d05e3_row8_col6\" class=\"data row8 col6\" >-35.220859</td>\n",
       "      <td id=\"T_d05e3_row8_col7\" class=\"data row8 col7\" >130.000000</td>\n",
       "      <td id=\"T_d05e3_row8_col8\" class=\"data row8 col8\" >0.000000</td>\n",
       "      <td id=\"T_d05e3_row8_col9\" class=\"data row8 col9\" > </td>\n",
       "      <td id=\"T_d05e3_row8_col10\" class=\"data row8 col10\" >1.090483</td>\n",
       "      <td id=\"T_d05e3_row8_col11\" class=\"data row8 col11\" >1.137803</td>\n",
       "      <td id=\"T_d05e3_row8_col12\" class=\"data row8 col12\" >1.520587</td>\n",
       "    </tr>\n",
       "    <tr>\n",
       "      <th id=\"T_d05e3_level0_row9\" class=\"row_heading level0 row9\" >9</th>\n",
       "      <td id=\"T_d05e3_row9_col0\" class=\"data row9 col0\" >-5.820064</td>\n",
       "      <td id=\"T_d05e3_row9_col1\" class=\"data row9 col1\" >-35.220858</td>\n",
       "      <td id=\"T_d05e3_row9_col2\" class=\"data row9 col2\" >3</td>\n",
       "      <td id=\"T_d05e3_row9_col3\" class=\"data row9 col3\" >0.000000</td>\n",
       "      <td id=\"T_d05e3_row9_col4\" class=\"data row9 col4\" >→</td>\n",
       "      <td id=\"T_d05e3_row9_col5\" class=\"data row9 col5\" >-5.820064</td>\n",
       "      <td id=\"T_d05e3_row9_col6\" class=\"data row9 col6\" >-35.220858</td>\n",
       "      <td id=\"T_d05e3_row9_col7\" class=\"data row9 col7\" >130.000000</td>\n",
       "      <td id=\"T_d05e3_row9_col8\" class=\"data row9 col8\" >0.000000</td>\n",
       "      <td id=\"T_d05e3_row9_col9\" class=\"data row9 col9\" > </td>\n",
       "      <td id=\"T_d05e3_row9_col10\" class=\"data row9 col10\" >0.921315</td>\n",
       "      <td id=\"T_d05e3_row9_col11\" class=\"data row9 col11\" >1.137803</td>\n",
       "      <td id=\"T_d05e3_row9_col12\" class=\"data row9 col12\" >1.520587</td>\n",
       "    </tr>\n",
       "  </tbody>\n",
       "</table>\n"
      ],
      "text/plain": [
       "<pandas.io.formats.style.Styler at 0x1bd89703e90>"
      ]
     },
     "metadata": {},
     "output_type": "display_data"
    },
    {
     "data": {
      "application/vnd.plotly.v1+json": {
       "config": {
        "plotlyServerURL": "https://plot.ly"
       },
       "data": [
        {
         "line": {
          "color": "green",
          "dash": "dot"
         },
         "mode": "lines",
         "name": "Real",
         "type": "scatter",
         "y": {
          "bdata": "Xv2WDSKS5D+bk2QeaufkP5uTZB5q5+Q/NotmSJ685T/ehxTZoIfjP96HFNmgh+M/M5CwL8hl3z/dnA9wnnLxP92cD3CecvE/T3ASz2l77T+UX3iidnLyPz8yMAV+Z/Q/PzIwBX5n9D8ti7UITBb8PzhhcBqj5vk/KSOOULfS8D8pI45Qt9LwP7us/CApG+8/cjYv8OP84z+t9vIuJyjgP6328i4nKOA/geLz0z/39T+rgxXuOvLzP6uDFe468vM/mb1aTGW9AEB0UCWuXTcFQJNSfcM51QFAk1J9wznVAUDU4Eocwdz0P40G4N+x0N0/MaWrxsVQ3T+Gb8fSpWfjP4Zvx9KlZ+M/RJASr2yy4j+u4feXKT3iPxtsE+QD5v0/G2wT5APm/T9xVW+Vh+D+P/WBu/ZpMek/9YG79mkx6T8EcmzGOjzYP6VZboDtdf4/WOugB2mlAEBY66AHaaUAQFcs1yJHEfo/jF/HYiTM+D+vRCQpQjH6P69EJClCMfo/IlLOZdxR9j8U6vVt9WfxP9L1RbO+x/I/0vVFs77H8j9JPCZTdgbrPy3PofTAJtk/Lc+h9MAm2T83dmuxoNHXP5m9WkxlveA/wxqQeuun4T/DGpB666fhPy5sdWOoMgFAN3ZrsaDRB0CTtalUUskJQJO1qVRSyQlAUQXmhZA5CECzrwGybRkJQLOvAbJtGQlAadNRH3liAkDxyvHJCOv/P/HK8ckI6/8/ZYpqDIgCAkDcITJ38e4HQFhbyHe+Nvk/WFvId742+T+BiQxRzfvaP+KMDwAd1/Y/4owPAB3X9j9nuVth/yfxP4GJDFHN+9o/VyzXIkcR2j9XLNciRxHKPzhhcBqj5sk/mb1aTGW90D+rqr6oeQbiPxTJ619+uOE/cloUOF8j9z+cBUVJAVwCQO7F9qKMm/w/7sX2ooyb/D8XwP8/+pH1Py66pl3DO9s/YtOg3ya82D8GXXEvPVHKPwZdcS89Uco/3P87AbdmyT8zkLAvyGXPPxdp8ttk2OI/F2ny22TY4j/s9fsW3vTiP/4o4Wa23vY/g+DZ9mxa+z8=",
          "dtype": "f8"
         }
        },
        {
         "line": {
          "color": "blue",
          "dash": "dash"
         },
         "mode": "lines",
         "name": "Predição Original",
         "type": "scatter",
         "y": {
          "bdata": "A1nGMaLD5z/rGxZ+K7DoP+sbFn4rsOg/ZNKEuKEW5T8gJJx1tV3lP1qolBeUnuY/WqiUF5Se5j8vN5pfcTTyPy83ml9xNPI/LzeaX3E08j8LUj4DVmv0P2cHXp66ovQ/lajUrwhy8z8ERxYOSyj4P0gf5HQeCfI/if7LZHnq7z8XHaiiCV3vP6Btm6JJmew/vGW1En/65z9MP1pTWq7wP/J2f86FGvA/Rx/yOxHc8D9HH/I7EdzwP0cf8jsR3PA/Wi2PK9ct9T99iPbmwzv1P+s7h6uSvvI/jlifB2hB+z/KAreWPx7tP2CGcv2h3+w/DE1YhnUh4z+r91rqETzvPzST+4nO/eQ/tcGbWjP25j8r0X6ZskrsPzXVexnn+PI/jsX9rHxr8z+YODlE2Q7zPxrw1xsMw+0/6+G9lxVx7T+VLCu5vQ3pP5kI65KAuvA/xV7vM9nJ8j+3rXXsTRn+P7nipTU15fQ/Ahig1qK48j97HMyYL2j0P61VsDSbgfU/gKXeX7rt9D8lL/FG5m/yP1D9sJ1ASPI/ONgUq37H8z/SblJX33btP6Pvp4KhC+M/A1unplDL5j/tVn03pGviP09EUKldGOg/RjLkVnwe6D+bSQJT7m7oP/kNtZK+Z+k/BO79CuHa9z9uhs6rFD4AQDSsx4gppPs/JoJSHH6Y9j8b5eo1rb34P7wp1TtfOgFA605wkeGE9z+CQHPA6Nf7P96W8dRj7vo/77f/lcKE+T8/0HaFb3j5P0ixId0VM/o/2QaTrAQF9T89ims167HjP+Roiw7ssfA/N+aifBlj8D+LMRVBlGrvP6CylwUtpOE/UCAMIn9U4D86TWpu5ebtP5PEfPDbnN0/8ql5Nfn/4D83OrmjNxvhP9ETGcqqqOg/TEBpKYVw9j/5y4EaW9T4P6g7DuceO/U/scgFb/N/8D+73vRQdeXuP5DaSmyYQ+A/1hTHV/j+2j9wnnVfpazbPzJoid+r2eU/KlRdoNof2z8xuA2DPjffP3qotC6cE+Y/eqi0LpwT5j96qLQunBPmPwHia4Ko5fc/29W9hKHm9z8=",
          "dtype": "f8"
         }
        },
        {
         "line": {
          "color": "red"
         },
         "mode": "lines",
         "name": "Predição com RM",
         "type": "scatter",
         "y": {
          "bdata": "htxijZdF+T+G3GKNl0X5P4bcYo2XRfk/htxijZdF+T9lt8/kUlT4P2W3z+RSVPg/ZbfP5FJU+D9lt8/kUlT4P2W3z+RSVPg/ZbfP5FJU+D9lt8/kUlT4P84ljK20ivQ/ziWMrbSK9D/OJYyttIr0P84ljK20ivQ/7h24kS+N+T/uHbiRL435P+jwFMcU0fg/6PAUxxTR+D/o8BTHFNH4P+jwFMcU0fg/1gUquIsS/D/WBSq4ixL8P9YFKriLEvw/1gUquIsS/D/WBSq4ixL8P9YFKriLEvw/S7MeyMzQ+T+vZjBBXFX6P69mMEFcVfo/r2YwQVxV+j8ziSPk0Ub6PzOJI+TRRvo/M4kj5NFG+j9R3kAGyULzP1HeQAbJQvM/Ud5ABslC8z9R3kAGyULzP1HeQAbJQvM/Ud5ABslC8z9R3kAGyULzP1HeQAbJQvM/Ud5ABslC8z+CJ1S24gb4P4InVLbiBvg/nBAyBOlS+j8k6vfuJYP7PyTq9+4lg/s/G2UtNa/k+j8bZS01r+T6PxtlLTWv5Po/mlrp4koA/T/u5j3ZLCL9P+7mPdksIv0/7uY92Swi/T/u5j3ZLCL9P5J7oGcsdP0/knugZyx0/T+Se6BnLHT9P9zDsEDthAJA/zusZgvzAkD/O6xmC/MCQFNp9H8t7wJAU2n0fy3vAkC9BIs0i04CQIodxRV1YgFAFpsLoF0iAEB7qymcOIgAQAMxooArhP8/Q5c9BBW1/j+uvqgls8/+P66+qCWzz/4/GLZGFu0c/j/ImHufCv72P8iYe58K/vY/UVeUc+uk9j/SdT68XwH2P9J1PrxfAfY/Of0PFokg9j85/Q8WiSD2P/4WMxtWLPQ/fJV/2FYq9T98lX/YVir1P3yVf9hWKvU//WSO8PFE+z/9ZI7w8UT7P/1kjvDxRPs/qfAmb4qp/D8WhhDKSIH8P4xUvRrKOfU/jFS9Gso59T+MVL0ayjn1P4xUvRrKOfU/jFS9Gso59T+MVL0ayjn1P4xUvRrKOfU/jFS9Gso59T+MVL0ayjn1PzjBnB6n9vg/OMGcHqf2+D8=",
          "dtype": "f8"
         }
        }
       ],
       "layout": {
        "template": {
         "data": {
          "bar": [
           {
            "error_x": {
             "color": "#2a3f5f"
            },
            "error_y": {
             "color": "#2a3f5f"
            },
            "marker": {
             "line": {
              "color": "white",
              "width": 0.5
             },
             "pattern": {
              "fillmode": "overlay",
              "size": 10,
              "solidity": 0.2
             }
            },
            "type": "bar"
           }
          ],
          "barpolar": [
           {
            "marker": {
             "line": {
              "color": "white",
              "width": 0.5
             },
             "pattern": {
              "fillmode": "overlay",
              "size": 10,
              "solidity": 0.2
             }
            },
            "type": "barpolar"
           }
          ],
          "carpet": [
           {
            "aaxis": {
             "endlinecolor": "#2a3f5f",
             "gridcolor": "#C8D4E3",
             "linecolor": "#C8D4E3",
             "minorgridcolor": "#C8D4E3",
             "startlinecolor": "#2a3f5f"
            },
            "baxis": {
             "endlinecolor": "#2a3f5f",
             "gridcolor": "#C8D4E3",
             "linecolor": "#C8D4E3",
             "minorgridcolor": "#C8D4E3",
             "startlinecolor": "#2a3f5f"
            },
            "type": "carpet"
           }
          ],
          "choropleth": [
           {
            "colorbar": {
             "outlinewidth": 0,
             "ticks": ""
            },
            "type": "choropleth"
           }
          ],
          "contour": [
           {
            "colorbar": {
             "outlinewidth": 0,
             "ticks": ""
            },
            "colorscale": [
             [
              0,
              "#0d0887"
             ],
             [
              0.1111111111111111,
              "#46039f"
             ],
             [
              0.2222222222222222,
              "#7201a8"
             ],
             [
              0.3333333333333333,
              "#9c179e"
             ],
             [
              0.4444444444444444,
              "#bd3786"
             ],
             [
              0.5555555555555556,
              "#d8576b"
             ],
             [
              0.6666666666666666,
              "#ed7953"
             ],
             [
              0.7777777777777778,
              "#fb9f3a"
             ],
             [
              0.8888888888888888,
              "#fdca26"
             ],
             [
              1,
              "#f0f921"
             ]
            ],
            "type": "contour"
           }
          ],
          "contourcarpet": [
           {
            "colorbar": {
             "outlinewidth": 0,
             "ticks": ""
            },
            "type": "contourcarpet"
           }
          ],
          "heatmap": [
           {
            "colorbar": {
             "outlinewidth": 0,
             "ticks": ""
            },
            "colorscale": [
             [
              0,
              "#0d0887"
             ],
             [
              0.1111111111111111,
              "#46039f"
             ],
             [
              0.2222222222222222,
              "#7201a8"
             ],
             [
              0.3333333333333333,
              "#9c179e"
             ],
             [
              0.4444444444444444,
              "#bd3786"
             ],
             [
              0.5555555555555556,
              "#d8576b"
             ],
             [
              0.6666666666666666,
              "#ed7953"
             ],
             [
              0.7777777777777778,
              "#fb9f3a"
             ],
             [
              0.8888888888888888,
              "#fdca26"
             ],
             [
              1,
              "#f0f921"
             ]
            ],
            "type": "heatmap"
           }
          ],
          "histogram": [
           {
            "marker": {
             "pattern": {
              "fillmode": "overlay",
              "size": 10,
              "solidity": 0.2
             }
            },
            "type": "histogram"
           }
          ],
          "histogram2d": [
           {
            "colorbar": {
             "outlinewidth": 0,
             "ticks": ""
            },
            "colorscale": [
             [
              0,
              "#0d0887"
             ],
             [
              0.1111111111111111,
              "#46039f"
             ],
             [
              0.2222222222222222,
              "#7201a8"
             ],
             [
              0.3333333333333333,
              "#9c179e"
             ],
             [
              0.4444444444444444,
              "#bd3786"
             ],
             [
              0.5555555555555556,
              "#d8576b"
             ],
             [
              0.6666666666666666,
              "#ed7953"
             ],
             [
              0.7777777777777778,
              "#fb9f3a"
             ],
             [
              0.8888888888888888,
              "#fdca26"
             ],
             [
              1,
              "#f0f921"
             ]
            ],
            "type": "histogram2d"
           }
          ],
          "histogram2dcontour": [
           {
            "colorbar": {
             "outlinewidth": 0,
             "ticks": ""
            },
            "colorscale": [
             [
              0,
              "#0d0887"
             ],
             [
              0.1111111111111111,
              "#46039f"
             ],
             [
              0.2222222222222222,
              "#7201a8"
             ],
             [
              0.3333333333333333,
              "#9c179e"
             ],
             [
              0.4444444444444444,
              "#bd3786"
             ],
             [
              0.5555555555555556,
              "#d8576b"
             ],
             [
              0.6666666666666666,
              "#ed7953"
             ],
             [
              0.7777777777777778,
              "#fb9f3a"
             ],
             [
              0.8888888888888888,
              "#fdca26"
             ],
             [
              1,
              "#f0f921"
             ]
            ],
            "type": "histogram2dcontour"
           }
          ],
          "mesh3d": [
           {
            "colorbar": {
             "outlinewidth": 0,
             "ticks": ""
            },
            "type": "mesh3d"
           }
          ],
          "parcoords": [
           {
            "line": {
             "colorbar": {
              "outlinewidth": 0,
              "ticks": ""
             }
            },
            "type": "parcoords"
           }
          ],
          "pie": [
           {
            "automargin": true,
            "type": "pie"
           }
          ],
          "scatter": [
           {
            "fillpattern": {
             "fillmode": "overlay",
             "size": 10,
             "solidity": 0.2
            },
            "type": "scatter"
           }
          ],
          "scatter3d": [
           {
            "line": {
             "colorbar": {
              "outlinewidth": 0,
              "ticks": ""
             }
            },
            "marker": {
             "colorbar": {
              "outlinewidth": 0,
              "ticks": ""
             }
            },
            "type": "scatter3d"
           }
          ],
          "scattercarpet": [
           {
            "marker": {
             "colorbar": {
              "outlinewidth": 0,
              "ticks": ""
             }
            },
            "type": "scattercarpet"
           }
          ],
          "scattergeo": [
           {
            "marker": {
             "colorbar": {
              "outlinewidth": 0,
              "ticks": ""
             }
            },
            "type": "scattergeo"
           }
          ],
          "scattergl": [
           {
            "marker": {
             "colorbar": {
              "outlinewidth": 0,
              "ticks": ""
             }
            },
            "type": "scattergl"
           }
          ],
          "scattermap": [
           {
            "marker": {
             "colorbar": {
              "outlinewidth": 0,
              "ticks": ""
             }
            },
            "type": "scattermap"
           }
          ],
          "scattermapbox": [
           {
            "marker": {
             "colorbar": {
              "outlinewidth": 0,
              "ticks": ""
             }
            },
            "type": "scattermapbox"
           }
          ],
          "scatterpolar": [
           {
            "marker": {
             "colorbar": {
              "outlinewidth": 0,
              "ticks": ""
             }
            },
            "type": "scatterpolar"
           }
          ],
          "scatterpolargl": [
           {
            "marker": {
             "colorbar": {
              "outlinewidth": 0,
              "ticks": ""
             }
            },
            "type": "scatterpolargl"
           }
          ],
          "scatterternary": [
           {
            "marker": {
             "colorbar": {
              "outlinewidth": 0,
              "ticks": ""
             }
            },
            "type": "scatterternary"
           }
          ],
          "surface": [
           {
            "colorbar": {
             "outlinewidth": 0,
             "ticks": ""
            },
            "colorscale": [
             [
              0,
              "#0d0887"
             ],
             [
              0.1111111111111111,
              "#46039f"
             ],
             [
              0.2222222222222222,
              "#7201a8"
             ],
             [
              0.3333333333333333,
              "#9c179e"
             ],
             [
              0.4444444444444444,
              "#bd3786"
             ],
             [
              0.5555555555555556,
              "#d8576b"
             ],
             [
              0.6666666666666666,
              "#ed7953"
             ],
             [
              0.7777777777777778,
              "#fb9f3a"
             ],
             [
              0.8888888888888888,
              "#fdca26"
             ],
             [
              1,
              "#f0f921"
             ]
            ],
            "type": "surface"
           }
          ],
          "table": [
           {
            "cells": {
             "fill": {
              "color": "#EBF0F8"
             },
             "line": {
              "color": "white"
             }
            },
            "header": {
             "fill": {
              "color": "#C8D4E3"
             },
             "line": {
              "color": "white"
             }
            },
            "type": "table"
           }
          ]
         },
         "layout": {
          "annotationdefaults": {
           "arrowcolor": "#2a3f5f",
           "arrowhead": 0,
           "arrowwidth": 1
          },
          "autotypenumbers": "strict",
          "coloraxis": {
           "colorbar": {
            "outlinewidth": 0,
            "ticks": ""
           }
          },
          "colorscale": {
           "diverging": [
            [
             0,
             "#8e0152"
            ],
            [
             0.1,
             "#c51b7d"
            ],
            [
             0.2,
             "#de77ae"
            ],
            [
             0.3,
             "#f1b6da"
            ],
            [
             0.4,
             "#fde0ef"
            ],
            [
             0.5,
             "#f7f7f7"
            ],
            [
             0.6,
             "#e6f5d0"
            ],
            [
             0.7,
             "#b8e186"
            ],
            [
             0.8,
             "#7fbc41"
            ],
            [
             0.9,
             "#4d9221"
            ],
            [
             1,
             "#276419"
            ]
           ],
           "sequential": [
            [
             0,
             "#0d0887"
            ],
            [
             0.1111111111111111,
             "#46039f"
            ],
            [
             0.2222222222222222,
             "#7201a8"
            ],
            [
             0.3333333333333333,
             "#9c179e"
            ],
            [
             0.4444444444444444,
             "#bd3786"
            ],
            [
             0.5555555555555556,
             "#d8576b"
            ],
            [
             0.6666666666666666,
             "#ed7953"
            ],
            [
             0.7777777777777778,
             "#fb9f3a"
            ],
            [
             0.8888888888888888,
             "#fdca26"
            ],
            [
             1,
             "#f0f921"
            ]
           ],
           "sequentialminus": [
            [
             0,
             "#0d0887"
            ],
            [
             0.1111111111111111,
             "#46039f"
            ],
            [
             0.2222222222222222,
             "#7201a8"
            ],
            [
             0.3333333333333333,
             "#9c179e"
            ],
            [
             0.4444444444444444,
             "#bd3786"
            ],
            [
             0.5555555555555556,
             "#d8576b"
            ],
            [
             0.6666666666666666,
             "#ed7953"
            ],
            [
             0.7777777777777778,
             "#fb9f3a"
            ],
            [
             0.8888888888888888,
             "#fdca26"
            ],
            [
             1,
             "#f0f921"
            ]
           ]
          },
          "colorway": [
           "#636efa",
           "#EF553B",
           "#00cc96",
           "#ab63fa",
           "#FFA15A",
           "#19d3f3",
           "#FF6692",
           "#B6E880",
           "#FF97FF",
           "#FECB52"
          ],
          "font": {
           "color": "#2a3f5f"
          },
          "geo": {
           "bgcolor": "white",
           "lakecolor": "white",
           "landcolor": "white",
           "showlakes": true,
           "showland": true,
           "subunitcolor": "#C8D4E3"
          },
          "hoverlabel": {
           "align": "left"
          },
          "hovermode": "closest",
          "mapbox": {
           "style": "light"
          },
          "paper_bgcolor": "white",
          "plot_bgcolor": "white",
          "polar": {
           "angularaxis": {
            "gridcolor": "#EBF0F8",
            "linecolor": "#EBF0F8",
            "ticks": ""
           },
           "bgcolor": "white",
           "radialaxis": {
            "gridcolor": "#EBF0F8",
            "linecolor": "#EBF0F8",
            "ticks": ""
           }
          },
          "scene": {
           "xaxis": {
            "backgroundcolor": "white",
            "gridcolor": "#DFE8F3",
            "gridwidth": 2,
            "linecolor": "#EBF0F8",
            "showbackground": true,
            "ticks": "",
            "zerolinecolor": "#EBF0F8"
           },
           "yaxis": {
            "backgroundcolor": "white",
            "gridcolor": "#DFE8F3",
            "gridwidth": 2,
            "linecolor": "#EBF0F8",
            "showbackground": true,
            "ticks": "",
            "zerolinecolor": "#EBF0F8"
           },
           "zaxis": {
            "backgroundcolor": "white",
            "gridcolor": "#DFE8F3",
            "gridwidth": 2,
            "linecolor": "#EBF0F8",
            "showbackground": true,
            "ticks": "",
            "zerolinecolor": "#EBF0F8"
           }
          },
          "shapedefaults": {
           "line": {
            "color": "#2a3f5f"
           }
          },
          "ternary": {
           "aaxis": {
            "gridcolor": "#DFE8F3",
            "linecolor": "#A2B1C6",
            "ticks": ""
           },
           "baxis": {
            "gridcolor": "#DFE8F3",
            "linecolor": "#A2B1C6",
            "ticks": ""
           },
           "bgcolor": "white",
           "caxis": {
            "gridcolor": "#DFE8F3",
            "linecolor": "#A2B1C6",
            "ticks": ""
           }
          },
          "title": {
           "x": 0.05
          },
          "xaxis": {
           "automargin": true,
           "gridcolor": "#EBF0F8",
           "linecolor": "#EBF0F8",
           "ticks": "",
           "title": {
            "standoff": 15
           },
           "zerolinecolor": "#EBF0F8",
           "zerolinewidth": 2
          },
          "yaxis": {
           "automargin": true,
           "gridcolor": "#EBF0F8",
           "linecolor": "#EBF0F8",
           "ticks": "",
           "title": {
            "standoff": 15
           },
           "zerolinecolor": "#EBF0F8",
           "zerolinewidth": 2
          }
         }
        },
        "title": {
         "text": "Comparação CO₂ - Caso de teste: RM7 - Velocidade constante a 130 km/h e aceleração igual a zero - ETHANOL",
         "x": 0.5
        },
        "xaxis": {
         "title": {
          "text": "Amostras"
         }
        },
        "yaxis": {
         "title": {
          "text": "CO₂ (g/s)"
         }
        }
       }
      }
     },
     "metadata": {},
     "output_type": "display_data"
    },
    {
     "name": "stdout",
     "output_type": "stream",
     "text": [
      "\n",
      "🔁 Caso de teste: RM7 - Velocidade constante a 130 km/h e aceleração igual a zero (GASOLINE)\n",
      "Diferença Média: 0.8292 | Diferença Máxima: 3.1289 | Erro Quadrático Médio (RMSE): 1.0376 | Desvio Padrão (Std): 0.6237\n"
     ]
    },
    {
     "data": {
      "text/html": [
       "<style type=\"text/css\">\n",
       "</style>\n",
       "<table id=\"T_99985\">\n",
       "  <caption>Comparação dos dados originais e modificados - Caso de teste: RM7 - Velocidade constante a 130 km/h e aceleração igual a zero (GASOLINE)</caption>\n",
       "  <thead>\n",
       "    <tr>\n",
       "      <th class=\"blank level0\" >&nbsp;</th>\n",
       "      <th id=\"T_99985_level0_col0\" class=\"col_heading level0 col0\" >Latitude_Orig</th>\n",
       "      <th id=\"T_99985_level0_col1\" class=\"col_heading level0 col1\" >Longitude_Orig</th>\n",
       "      <th id=\"T_99985_level0_col2\" class=\"col_heading level0 col2\" >Speed(OBD)(km/h)_Orig</th>\n",
       "      <th id=\"T_99985_level0_col3\" class=\"col_heading level0 col3\" >Acceleration_Orig</th>\n",
       "      <th id=\"T_99985_level0_col4\" class=\"col_heading level0 col4\" > </th>\n",
       "      <th id=\"T_99985_level0_col5\" class=\"col_heading level0 col5\" >Latitude_Mod</th>\n",
       "      <th id=\"T_99985_level0_col6\" class=\"col_heading level0 col6\" >Longitude_Mod</th>\n",
       "      <th id=\"T_99985_level0_col7\" class=\"col_heading level0 col7\" >Speed(OBD)(km/h)_Mod</th>\n",
       "      <th id=\"T_99985_level0_col8\" class=\"col_heading level0 col8\" >Acceleration_Mod</th>\n",
       "      <th id=\"T_99985_level0_col9\" class=\"col_heading level0 col9\" > </th>\n",
       "      <th id=\"T_99985_level0_col10\" class=\"col_heading level0 col10\" >CO₂_Real</th>\n",
       "      <th id=\"T_99985_level0_col11\" class=\"col_heading level0 col11\" >CO₂_Orig</th>\n",
       "      <th id=\"T_99985_level0_col12\" class=\"col_heading level0 col12\" >CO₂_Mod</th>\n",
       "    </tr>\n",
       "  </thead>\n",
       "  <tbody>\n",
       "    <tr>\n",
       "      <th id=\"T_99985_level0_row0\" class=\"row_heading level0 row0\" >0</th>\n",
       "      <td id=\"T_99985_row0_col0\" class=\"data row0 col0\" >-5.820010</td>\n",
       "      <td id=\"T_99985_row0_col1\" class=\"data row0 col1\" >-35.220825</td>\n",
       "      <td id=\"T_99985_row0_col2\" class=\"data row0 col2\" >5</td>\n",
       "      <td id=\"T_99985_row0_col3\" class=\"data row0 col3\" >0.000000</td>\n",
       "      <td id=\"T_99985_row0_col4\" class=\"data row0 col4\" >→</td>\n",
       "      <td id=\"T_99985_row0_col5\" class=\"data row0 col5\" >-5.820010</td>\n",
       "      <td id=\"T_99985_row0_col6\" class=\"data row0 col6\" >-35.220825</td>\n",
       "      <td id=\"T_99985_row0_col7\" class=\"data row0 col7\" >130.000000</td>\n",
       "      <td id=\"T_99985_row0_col8\" class=\"data row0 col8\" >0.000000</td>\n",
       "      <td id=\"T_99985_row0_col9\" class=\"data row0 col9\" > </td>\n",
       "      <td id=\"T_99985_row0_col10\" class=\"data row0 col10\" >1.002671</td>\n",
       "      <td id=\"T_99985_row0_col11\" class=\"data row0 col11\" >1.456781</td>\n",
       "      <td id=\"T_99985_row0_col12\" class=\"data row0 col12\" >3.189422</td>\n",
       "    </tr>\n",
       "    <tr>\n",
       "      <th id=\"T_99985_level0_row1\" class=\"row_heading level0 row1\" >1</th>\n",
       "      <td id=\"T_99985_row1_col0\" class=\"data row1 col0\" >-5.820013</td>\n",
       "      <td id=\"T_99985_row1_col1\" class=\"data row1 col1\" >-35.220822</td>\n",
       "      <td id=\"T_99985_row1_col2\" class=\"data row1 col2\" >4</td>\n",
       "      <td id=\"T_99985_row1_col3\" class=\"data row1 col3\" >-0.277778</td>\n",
       "      <td id=\"T_99985_row1_col4\" class=\"data row1 col4\" >→</td>\n",
       "      <td id=\"T_99985_row1_col5\" class=\"data row1 col5\" >-5.820013</td>\n",
       "      <td id=\"T_99985_row1_col6\" class=\"data row1 col6\" >-35.220822</td>\n",
       "      <td id=\"T_99985_row1_col7\" class=\"data row1 col7\" >130.000000</td>\n",
       "      <td id=\"T_99985_row1_col8\" class=\"data row1 col8\" >0.000000</td>\n",
       "      <td id=\"T_99985_row1_col9\" class=\"data row1 col9\" > </td>\n",
       "      <td id=\"T_99985_row1_col10\" class=\"data row1 col10\" >1.013360</td>\n",
       "      <td id=\"T_99985_row1_col11\" class=\"data row1 col11\" >1.016708</td>\n",
       "      <td id=\"T_99985_row1_col12\" class=\"data row1 col12\" >3.189422</td>\n",
       "    </tr>\n",
       "    <tr>\n",
       "      <th id=\"T_99985_level0_row2\" class=\"row_heading level0 row2\" >2</th>\n",
       "      <td id=\"T_99985_row2_col0\" class=\"data row2 col0\" >-5.820016</td>\n",
       "      <td id=\"T_99985_row2_col1\" class=\"data row2 col1\" >-35.220819</td>\n",
       "      <td id=\"T_99985_row2_col2\" class=\"data row2 col2\" >5</td>\n",
       "      <td id=\"T_99985_row2_col3\" class=\"data row2 col3\" >0.277778</td>\n",
       "      <td id=\"T_99985_row2_col4\" class=\"data row2 col4\" >→</td>\n",
       "      <td id=\"T_99985_row2_col5\" class=\"data row2 col5\" >-5.820016</td>\n",
       "      <td id=\"T_99985_row2_col6\" class=\"data row2 col6\" >-35.220819</td>\n",
       "      <td id=\"T_99985_row2_col7\" class=\"data row2 col7\" >130.000000</td>\n",
       "      <td id=\"T_99985_row2_col8\" class=\"data row2 col8\" >0.000000</td>\n",
       "      <td id=\"T_99985_row2_col9\" class=\"data row2 col9\" > </td>\n",
       "      <td id=\"T_99985_row2_col10\" class=\"data row2 col10\" >2.088720</td>\n",
       "      <td id=\"T_99985_row2_col11\" class=\"data row2 col11\" >1.456781</td>\n",
       "      <td id=\"T_99985_row2_col12\" class=\"data row2 col12\" >3.189422</td>\n",
       "    </tr>\n",
       "    <tr>\n",
       "      <th id=\"T_99985_level0_row3\" class=\"row_heading level0 row3\" >3</th>\n",
       "      <td id=\"T_99985_row3_col0\" class=\"data row3 col0\" >-5.820014</td>\n",
       "      <td id=\"T_99985_row3_col1\" class=\"data row3 col1\" >-35.220825</td>\n",
       "      <td id=\"T_99985_row3_col2\" class=\"data row3 col2\" >7</td>\n",
       "      <td id=\"T_99985_row3_col3\" class=\"data row3 col3\" >0.555556</td>\n",
       "      <td id=\"T_99985_row3_col4\" class=\"data row3 col4\" >→</td>\n",
       "      <td id=\"T_99985_row3_col5\" class=\"data row3 col5\" >-5.820014</td>\n",
       "      <td id=\"T_99985_row3_col6\" class=\"data row3 col6\" >-35.220825</td>\n",
       "      <td id=\"T_99985_row3_col7\" class=\"data row3 col7\" >130.000000</td>\n",
       "      <td id=\"T_99985_row3_col8\" class=\"data row3 col8\" >0.000000</td>\n",
       "      <td id=\"T_99985_row3_col9\" class=\"data row3 col9\" > </td>\n",
       "      <td id=\"T_99985_row3_col10\" class=\"data row3 col10\" >2.261889</td>\n",
       "      <td id=\"T_99985_row3_col11\" class=\"data row3 col11\" >1.996380</td>\n",
       "      <td id=\"T_99985_row3_col12\" class=\"data row3 col12\" >3.189422</td>\n",
       "    </tr>\n",
       "    <tr>\n",
       "      <th id=\"T_99985_level0_row4\" class=\"row_heading level0 row4\" >4</th>\n",
       "      <td id=\"T_99985_row4_col0\" class=\"data row4 col0\" >-5.819992</td>\n",
       "      <td id=\"T_99985_row4_col1\" class=\"data row4 col1\" >-35.220829</td>\n",
       "      <td id=\"T_99985_row4_col2\" class=\"data row4 col2\" >9</td>\n",
       "      <td id=\"T_99985_row4_col3\" class=\"data row4 col3\" >0.555556</td>\n",
       "      <td id=\"T_99985_row4_col4\" class=\"data row4 col4\" >→</td>\n",
       "      <td id=\"T_99985_row4_col5\" class=\"data row4 col5\" >-5.819992</td>\n",
       "      <td id=\"T_99985_row4_col6\" class=\"data row4 col6\" >-35.220829</td>\n",
       "      <td id=\"T_99985_row4_col7\" class=\"data row4 col7\" >130.000000</td>\n",
       "      <td id=\"T_99985_row4_col8\" class=\"data row4 col8\" >0.000000</td>\n",
       "      <td id=\"T_99985_row4_col9\" class=\"data row4 col9\" > </td>\n",
       "      <td id=\"T_99985_row4_col10\" class=\"data row4 col10\" >2.499195</td>\n",
       "      <td id=\"T_99985_row4_col11\" class=\"data row4 col11\" >2.400486</td>\n",
       "      <td id=\"T_99985_row4_col12\" class=\"data row4 col12\" >2.736358</td>\n",
       "    </tr>\n",
       "    <tr>\n",
       "      <th id=\"T_99985_level0_row5\" class=\"row_heading level0 row5\" >5</th>\n",
       "      <td id=\"T_99985_row5_col0\" class=\"data row5 col0\" >-5.819974</td>\n",
       "      <td id=\"T_99985_row5_col1\" class=\"data row5 col1\" >-35.220824</td>\n",
       "      <td id=\"T_99985_row5_col2\" class=\"data row5 col2\" >12</td>\n",
       "      <td id=\"T_99985_row5_col3\" class=\"data row5 col3\" >0.833333</td>\n",
       "      <td id=\"T_99985_row5_col4\" class=\"data row5 col4\" >→</td>\n",
       "      <td id=\"T_99985_row5_col5\" class=\"data row5 col5\" >-5.819974</td>\n",
       "      <td id=\"T_99985_row5_col6\" class=\"data row5 col6\" >-35.220824</td>\n",
       "      <td id=\"T_99985_row5_col7\" class=\"data row5 col7\" >130.000000</td>\n",
       "      <td id=\"T_99985_row5_col8\" class=\"data row5 col8\" >0.000000</td>\n",
       "      <td id=\"T_99985_row5_col9\" class=\"data row5 col9\" > </td>\n",
       "      <td id=\"T_99985_row5_col10\" class=\"data row5 col10\" >2.606089</td>\n",
       "      <td id=\"T_99985_row5_col11\" class=\"data row5 col11\" >2.400486</td>\n",
       "      <td id=\"T_99985_row5_col12\" class=\"data row5 col12\" >2.736358</td>\n",
       "    </tr>\n",
       "    <tr>\n",
       "      <th id=\"T_99985_level0_row6\" class=\"row_heading level0 row6\" >6</th>\n",
       "      <td id=\"T_99985_row6_col0\" class=\"data row6 col0\" >-5.819944</td>\n",
       "      <td id=\"T_99985_row6_col1\" class=\"data row6 col1\" >-35.220823</td>\n",
       "      <td id=\"T_99985_row6_col2\" class=\"data row6 col2\" >15</td>\n",
       "      <td id=\"T_99985_row6_col3\" class=\"data row6 col3\" >0.833333</td>\n",
       "      <td id=\"T_99985_row6_col4\" class=\"data row6 col4\" >→</td>\n",
       "      <td id=\"T_99985_row6_col5\" class=\"data row6 col5\" >-5.819944</td>\n",
       "      <td id=\"T_99985_row6_col6\" class=\"data row6 col6\" >-35.220823</td>\n",
       "      <td id=\"T_99985_row6_col7\" class=\"data row6 col7\" >130.000000</td>\n",
       "      <td id=\"T_99985_row6_col8\" class=\"data row6 col8\" >0.000000</td>\n",
       "      <td id=\"T_99985_row6_col9\" class=\"data row6 col9\" > </td>\n",
       "      <td id=\"T_99985_row6_col10\" class=\"data row6 col10\" >3.070012</td>\n",
       "      <td id=\"T_99985_row6_col11\" class=\"data row6 col11\" >2.148721</td>\n",
       "      <td id=\"T_99985_row6_col12\" class=\"data row6 col12\" >2.648454</td>\n",
       "    </tr>\n",
       "    <tr>\n",
       "      <th id=\"T_99985_level0_row7\" class=\"row_heading level0 row7\" >7</th>\n",
       "      <td id=\"T_99985_row7_col0\" class=\"data row7 col0\" >-5.819908</td>\n",
       "      <td id=\"T_99985_row7_col1\" class=\"data row7 col1\" >-35.220810</td>\n",
       "      <td id=\"T_99985_row7_col2\" class=\"data row7 col2\" >18</td>\n",
       "      <td id=\"T_99985_row7_col3\" class=\"data row7 col3\" >0.833333</td>\n",
       "      <td id=\"T_99985_row7_col4\" class=\"data row7 col4\" >→</td>\n",
       "      <td id=\"T_99985_row7_col5\" class=\"data row7 col5\" >-5.819908</td>\n",
       "      <td id=\"T_99985_row7_col6\" class=\"data row7 col6\" >-35.220810</td>\n",
       "      <td id=\"T_99985_row7_col7\" class=\"data row7 col7\" >130.000000</td>\n",
       "      <td id=\"T_99985_row7_col8\" class=\"data row7 col8\" >0.000000</td>\n",
       "      <td id=\"T_99985_row7_col9\" class=\"data row7 col9\" > </td>\n",
       "      <td id=\"T_99985_row7_col10\" class=\"data row7 col10\" >2.445747</td>\n",
       "      <td id=\"T_99985_row7_col11\" class=\"data row7 col11\" >1.470940</td>\n",
       "      <td id=\"T_99985_row7_col12\" class=\"data row7 col12\" >2.052619</td>\n",
       "    </tr>\n",
       "    <tr>\n",
       "      <th id=\"T_99985_level0_row8\" class=\"row_heading level0 row8\" >8</th>\n",
       "      <td id=\"T_99985_row8_col0\" class=\"data row8 col0\" >-5.819866</td>\n",
       "      <td id=\"T_99985_row8_col1\" class=\"data row8 col1\" >-35.220794</td>\n",
       "      <td id=\"T_99985_row8_col2\" class=\"data row8 col2\" >18</td>\n",
       "      <td id=\"T_99985_row8_col3\" class=\"data row8 col3\" >0.000000</td>\n",
       "      <td id=\"T_99985_row8_col4\" class=\"data row8 col4\" >→</td>\n",
       "      <td id=\"T_99985_row8_col5\" class=\"data row8 col5\" >-5.819866</td>\n",
       "      <td id=\"T_99985_row8_col6\" class=\"data row8 col6\" >-35.220794</td>\n",
       "      <td id=\"T_99985_row8_col7\" class=\"data row8 col7\" >130.000000</td>\n",
       "      <td id=\"T_99985_row8_col8\" class=\"data row8 col8\" >0.000000</td>\n",
       "      <td id=\"T_99985_row8_col9\" class=\"data row8 col9\" > </td>\n",
       "      <td id=\"T_99985_row8_col10\" class=\"data row8 col10\" >1.073221</td>\n",
       "      <td id=\"T_99985_row8_col11\" class=\"data row8 col11\" >1.588029</td>\n",
       "      <td id=\"T_99985_row8_col12\" class=\"data row8 col12\" >2.052619</td>\n",
       "    </tr>\n",
       "    <tr>\n",
       "      <th id=\"T_99985_level0_row9\" class=\"row_heading level0 row9\" >9</th>\n",
       "      <td id=\"T_99985_row9_col0\" class=\"data row9 col0\" >-5.819821</td>\n",
       "      <td id=\"T_99985_row9_col1\" class=\"data row9 col1\" >-35.220775</td>\n",
       "      <td id=\"T_99985_row9_col2\" class=\"data row9 col2\" >16</td>\n",
       "      <td id=\"T_99985_row9_col3\" class=\"data row9 col3\" >-0.555556</td>\n",
       "      <td id=\"T_99985_row9_col4\" class=\"data row9 col4\" >→</td>\n",
       "      <td id=\"T_99985_row9_col5\" class=\"data row9 col5\" >-5.819821</td>\n",
       "      <td id=\"T_99985_row9_col6\" class=\"data row9 col6\" >-35.220775</td>\n",
       "      <td id=\"T_99985_row9_col7\" class=\"data row9 col7\" >130.000000</td>\n",
       "      <td id=\"T_99985_row9_col8\" class=\"data row9 col8\" >0.000000</td>\n",
       "      <td id=\"T_99985_row9_col9\" class=\"data row9 col9\" > </td>\n",
       "      <td id=\"T_99985_row9_col10\" class=\"data row9 col10\" >0.562265</td>\n",
       "      <td id=\"T_99985_row9_col11\" class=\"data row9 col11\" >1.085921</td>\n",
       "      <td id=\"T_99985_row9_col12\" class=\"data row9 col12\" >2.092170</td>\n",
       "    </tr>\n",
       "  </tbody>\n",
       "</table>\n"
      ],
      "text/plain": [
       "<pandas.io.formats.style.Styler at 0x1bd8afa7c90>"
      ]
     },
     "metadata": {},
     "output_type": "display_data"
    },
    {
     "data": {
      "application/vnd.plotly.v1+json": {
       "config": {
        "plotlyServerURL": "https://plot.ly"
       },
       "data": [
        {
         "line": {
          "color": "green",
          "dash": "dot"
         },
         "mode": "lines",
         "name": "Real",
         "type": "scatter",
         "y": {
          "bdata": "fgFSsvAK8D+A9UFnuTbwP+sFLaeytQBAlHGRLVkYAkBCucXSWf4DQEt9dVtF2QRAqBJmS2KPCEA+120O5JADQCN/TinqK/E/+as09BP+4T+aTWFMs5viP5pNYUyzm+I/XDzytNji+j+dNUG2RPMCQCiGK0XJLgZAUV/NH7tGBUCt9L0P2PwIQMoh0PdM4gZALUmGV/HwAUC7e8iq65kFQJWKBjqL2QZAPtdtDuSQA0A+120O5JADQD/LXcOsvPM/G9QTrTAS5T+dNUG2RPPiPz7XbQ7kkOM/PtdtDuSQ4z+N38u90b/qPypPDv0M2/E/XDzytNjiCkCoDN6lRqUIQKgM3qVGpQhA8yxc66J8D0BuxFHGr5gMQIjedkcOpwVAJ4Cjn61EBkBRX80fu0YFQLWf+IuRFgVAtZ/4i5EWBUBZCgicdGDxP1JTvdSDcvU/1NlvNQHp9z+u1cBdilHkP67VwF2KUeQ/oGcrz6h17D9QRlgTiYXwP5J9oXiQ7PE/kn2heJDs8T/DRQDZ8l7mP79dIG9hB+Y/v10gb2EH5j+/XSBvYQfmP2LnLDGS/OY/sOIlH4U+6T/qekRTCmDuP6BnK8+odew/mWxe/gBHB0CpJVOyeGYNQIFGKTJrZA5AgUYpMmtkDkDqCPF5wKoQQNfm1Pb71QxA1+bU9vvVDEDDRQDZ8l7mP8A4mxf4ceE/+as09BP+4T9i5ywxkvzmP2LnLDGS/OY/QeTSz9596D9B5NLP3n3oPzJEUyiZH+c/MkRTKJkf5z95fPEDZJ/tP3l88QNkn+0/2trEq8QB7T8Lfp60vd7sP9by5EEzquw/LlxzvgfI5j8uXHO+B8jmP79dIG9hB+Y/idJm/NbS5T/DRQDZ8l7mP/jQuUt9k+Y/+NC5S32T5j8g7t0vJuzuPwt+nrS93uw/nH9LZRce7D9q3HFcHkHsP2rccVweQew/H7zzFsJp5T8fvPMWwmnlP/jQuUt9k+Y/LlxzvgfI5j8uXHO+B8jmPy5cc74HyOY/atxxXB5B7D9q3HFcHkHsPwt+nrS93uw/1vLkQTOq7D8=",
          "dtype": "f8"
         }
        },
        {
         "line": {
          "color": "blue",
          "dash": "dash"
         },
         "mode": "lines",
         "name": "Predição Original",
         "type": "scatter",
         "y": {
          "bdata": "nyhPnflO9z9gHHYQcETwP58oT535Tvc/NcYJ3ivx/z/H027bMTQDQMfTbtsxNANAW6JizpQwAUDSiMQk+Ij3P/2q4seQaPk/ZH6eRe5f8T9BGZ5ZmvD3PzitkrX97Pg/sjPog+dN+z+SSuHot2oCQJww0qNNLgNA8cQEdVL2B0A1HTGC8yUFQJ1s4cie0QVAPEfMwV4IAkA8R8zBXggCQF2Pwwd46AFAbpuVTxN2+j/IvXHXsBP6P0OwSlf+P/c/2pPnoDIS6T+hOYU4eCfuPxp0K9BUbOo/ThQjZ9o8AEBABo/x9pL3P3F+mAxJHfY/vjt97VxcAkC1xmrF5DgDQOa6Z/pAWAZAUonaDz/zBED9aMiraIEDQPruFYWieANA+u4VhaJ4A0CoKE294o/7Pxk9jtecgfw/S7H7xD8A/j92WkFYmFz2P7S5Onx/Bvo/RX1rWH4i8z/oY5hva434P1TJv1Fh2es/2F3p5aM27D+RtiC+vPzzP6NexDxw2fI/XyhyWTnN9D+DFQQ4srDxP7jtWJ1vMew/uO1YnW8x7D+47VidbzHsP7jtWJ1vMew/uO1YnW8x7D+47VidbzHsP7jtWJ1vMew/uO1YnW8x7D8nAD+TNLUCQNaKcWWMugZA0Uv5KVIhCEA+8WTkUCIIQPi+a1e0Yw5Ayp9UILRhDkDaMTNkxTIBQMaASEASVe8/28WzSFf/7z9COf9b/WfwPxW/p/5ScP0/VZWNuaJb6j9o0D7Y66zqP2jQPtjrrOo/aNA+2Ous6j9o0D7Y66zqP2jQPtjrrOo/aNA+2Ous6j9o0D7Y66zqP2jQPtjrrOo/aNA+2Ous6j9o0D7Y66zqP2jQPtjrrOo/aNA+2Ous6j9o0D7Y66zqP2jQPtjrrOo/aNA+2Ous6j9o0D7Y66zqP2jQPtjrrOo/aNA+2Ous6j9o0D7Y66zqP2jQPtjrrOo/aNA+2Ous6j9o0D7Y66zqP2jQPtjrrOo/aNA+2Ous6j9o0D7Y66zqP2jQPtjrrOo/aNA+2Ous6j9o0D7Y66zqP2jQPtjrrOo/aNA+2Ous6j8=",
          "dtype": "f8"
         }
        },
        {
         "line": {
          "color": "red"
         },
         "mode": "lines",
         "name": "Predição com RM",
         "type": "scatter",
         "y": {
          "bdata": "gEQ+be+DCUCARD5t74MJQIBEPm3vgwlAgEQ+be+DCUDeAhSfD+QFQN4CFJ8P5AVAYNKQkAgwBUBbqC20w2sAQFuoLbTDawBAIzQu1MO8AEDNO7oH2JYBQN+DwLMY4wNAxsbhI8t7A0DGxuEjy3sDQMbG4SPLewNAvwgGgPJOBEC/CAaA8k4EQL8IBoDyTgRACg5BWplLBkAKDkFamUsGQAoOQVqZSwZAxR/9+qATBEDFH/36oBMEQCIgJG8S+QJAIiAkbxL5AkCX9UtZI4UBQG46q7Ao9gBAy/sG5FLwBEBYZAx5ZmQKQFhkDHlmZApAWGQMeWZkCkBYZAx5ZmQKQE/JMzgAmQpAT8kzOACZCkBPyTM4AJkKQFL0fLMRKAhAUvR8sxEoCEBn28X8HbQBQGfbxfwdtAFAZ9vF/B20AUBd8oOYlf/+P13yg5iV//4/XfKDmJX//j9d8oOYlf/+P/RRNFr7BgZA9FE0WvsGBkAh0KcE3I0IQMyKs7qW0QdAzIqzupbRB0DMirO6ltEHQMyKs7qW0QdAzIqzupbRB0DMirO6ltEHQMyKs7qW0QdAzIqzupbRB0DMirO6ltEHQMyKs7qW0QdAzIqzupbRB0A13Ecc50sRQDXcRxznSxFA4P5BwQmqEUDg/kHBCaoRQOD+QcEJqhFA4P5BwQmqEUCnCRIDrxQPQCjR8jLrng9AKNHyMuueD0Ao0fIy654PQCjR8jLrng9AKNHyMuueD0Ao0fIy654PQCjR8jLrng9AKNHyMuueD0Ao0fIy654PQCjR8jLrng9AKNHyMuueD0Ao0fIy654PQCjR8jLrng9AKNHyMuueD0Ao0fIy654PQCjR8jLrng9AKNHyMuueD0Ao0fIy654PQCjR8jLrng9AKNHyMuueD0Ao0fIy654PQCjR8jLrng9AKNHyMuueD0Ao0fIy654PQCjR8jLrng9AKNHyMuueD0Ao0fIy654PQCjR8jLrng9AKNHyMuueD0Ao0fIy654PQCjR8jLrng9AKNHyMuueD0Ao0fIy654PQCjR8jLrng9AKNHyMuueD0A=",
          "dtype": "f8"
         }
        }
       ],
       "layout": {
        "template": {
         "data": {
          "bar": [
           {
            "error_x": {
             "color": "#2a3f5f"
            },
            "error_y": {
             "color": "#2a3f5f"
            },
            "marker": {
             "line": {
              "color": "white",
              "width": 0.5
             },
             "pattern": {
              "fillmode": "overlay",
              "size": 10,
              "solidity": 0.2
             }
            },
            "type": "bar"
           }
          ],
          "barpolar": [
           {
            "marker": {
             "line": {
              "color": "white",
              "width": 0.5
             },
             "pattern": {
              "fillmode": "overlay",
              "size": 10,
              "solidity": 0.2
             }
            },
            "type": "barpolar"
           }
          ],
          "carpet": [
           {
            "aaxis": {
             "endlinecolor": "#2a3f5f",
             "gridcolor": "#C8D4E3",
             "linecolor": "#C8D4E3",
             "minorgridcolor": "#C8D4E3",
             "startlinecolor": "#2a3f5f"
            },
            "baxis": {
             "endlinecolor": "#2a3f5f",
             "gridcolor": "#C8D4E3",
             "linecolor": "#C8D4E3",
             "minorgridcolor": "#C8D4E3",
             "startlinecolor": "#2a3f5f"
            },
            "type": "carpet"
           }
          ],
          "choropleth": [
           {
            "colorbar": {
             "outlinewidth": 0,
             "ticks": ""
            },
            "type": "choropleth"
           }
          ],
          "contour": [
           {
            "colorbar": {
             "outlinewidth": 0,
             "ticks": ""
            },
            "colorscale": [
             [
              0,
              "#0d0887"
             ],
             [
              0.1111111111111111,
              "#46039f"
             ],
             [
              0.2222222222222222,
              "#7201a8"
             ],
             [
              0.3333333333333333,
              "#9c179e"
             ],
             [
              0.4444444444444444,
              "#bd3786"
             ],
             [
              0.5555555555555556,
              "#d8576b"
             ],
             [
              0.6666666666666666,
              "#ed7953"
             ],
             [
              0.7777777777777778,
              "#fb9f3a"
             ],
             [
              0.8888888888888888,
              "#fdca26"
             ],
             [
              1,
              "#f0f921"
             ]
            ],
            "type": "contour"
           }
          ],
          "contourcarpet": [
           {
            "colorbar": {
             "outlinewidth": 0,
             "ticks": ""
            },
            "type": "contourcarpet"
           }
          ],
          "heatmap": [
           {
            "colorbar": {
             "outlinewidth": 0,
             "ticks": ""
            },
            "colorscale": [
             [
              0,
              "#0d0887"
             ],
             [
              0.1111111111111111,
              "#46039f"
             ],
             [
              0.2222222222222222,
              "#7201a8"
             ],
             [
              0.3333333333333333,
              "#9c179e"
             ],
             [
              0.4444444444444444,
              "#bd3786"
             ],
             [
              0.5555555555555556,
              "#d8576b"
             ],
             [
              0.6666666666666666,
              "#ed7953"
             ],
             [
              0.7777777777777778,
              "#fb9f3a"
             ],
             [
              0.8888888888888888,
              "#fdca26"
             ],
             [
              1,
              "#f0f921"
             ]
            ],
            "type": "heatmap"
           }
          ],
          "histogram": [
           {
            "marker": {
             "pattern": {
              "fillmode": "overlay",
              "size": 10,
              "solidity": 0.2
             }
            },
            "type": "histogram"
           }
          ],
          "histogram2d": [
           {
            "colorbar": {
             "outlinewidth": 0,
             "ticks": ""
            },
            "colorscale": [
             [
              0,
              "#0d0887"
             ],
             [
              0.1111111111111111,
              "#46039f"
             ],
             [
              0.2222222222222222,
              "#7201a8"
             ],
             [
              0.3333333333333333,
              "#9c179e"
             ],
             [
              0.4444444444444444,
              "#bd3786"
             ],
             [
              0.5555555555555556,
              "#d8576b"
             ],
             [
              0.6666666666666666,
              "#ed7953"
             ],
             [
              0.7777777777777778,
              "#fb9f3a"
             ],
             [
              0.8888888888888888,
              "#fdca26"
             ],
             [
              1,
              "#f0f921"
             ]
            ],
            "type": "histogram2d"
           }
          ],
          "histogram2dcontour": [
           {
            "colorbar": {
             "outlinewidth": 0,
             "ticks": ""
            },
            "colorscale": [
             [
              0,
              "#0d0887"
             ],
             [
              0.1111111111111111,
              "#46039f"
             ],
             [
              0.2222222222222222,
              "#7201a8"
             ],
             [
              0.3333333333333333,
              "#9c179e"
             ],
             [
              0.4444444444444444,
              "#bd3786"
             ],
             [
              0.5555555555555556,
              "#d8576b"
             ],
             [
              0.6666666666666666,
              "#ed7953"
             ],
             [
              0.7777777777777778,
              "#fb9f3a"
             ],
             [
              0.8888888888888888,
              "#fdca26"
             ],
             [
              1,
              "#f0f921"
             ]
            ],
            "type": "histogram2dcontour"
           }
          ],
          "mesh3d": [
           {
            "colorbar": {
             "outlinewidth": 0,
             "ticks": ""
            },
            "type": "mesh3d"
           }
          ],
          "parcoords": [
           {
            "line": {
             "colorbar": {
              "outlinewidth": 0,
              "ticks": ""
             }
            },
            "type": "parcoords"
           }
          ],
          "pie": [
           {
            "automargin": true,
            "type": "pie"
           }
          ],
          "scatter": [
           {
            "fillpattern": {
             "fillmode": "overlay",
             "size": 10,
             "solidity": 0.2
            },
            "type": "scatter"
           }
          ],
          "scatter3d": [
           {
            "line": {
             "colorbar": {
              "outlinewidth": 0,
              "ticks": ""
             }
            },
            "marker": {
             "colorbar": {
              "outlinewidth": 0,
              "ticks": ""
             }
            },
            "type": "scatter3d"
           }
          ],
          "scattercarpet": [
           {
            "marker": {
             "colorbar": {
              "outlinewidth": 0,
              "ticks": ""
             }
            },
            "type": "scattercarpet"
           }
          ],
          "scattergeo": [
           {
            "marker": {
             "colorbar": {
              "outlinewidth": 0,
              "ticks": ""
             }
            },
            "type": "scattergeo"
           }
          ],
          "scattergl": [
           {
            "marker": {
             "colorbar": {
              "outlinewidth": 0,
              "ticks": ""
             }
            },
            "type": "scattergl"
           }
          ],
          "scattermap": [
           {
            "marker": {
             "colorbar": {
              "outlinewidth": 0,
              "ticks": ""
             }
            },
            "type": "scattermap"
           }
          ],
          "scattermapbox": [
           {
            "marker": {
             "colorbar": {
              "outlinewidth": 0,
              "ticks": ""
             }
            },
            "type": "scattermapbox"
           }
          ],
          "scatterpolar": [
           {
            "marker": {
             "colorbar": {
              "outlinewidth": 0,
              "ticks": ""
             }
            },
            "type": "scatterpolar"
           }
          ],
          "scatterpolargl": [
           {
            "marker": {
             "colorbar": {
              "outlinewidth": 0,
              "ticks": ""
             }
            },
            "type": "scatterpolargl"
           }
          ],
          "scatterternary": [
           {
            "marker": {
             "colorbar": {
              "outlinewidth": 0,
              "ticks": ""
             }
            },
            "type": "scatterternary"
           }
          ],
          "surface": [
           {
            "colorbar": {
             "outlinewidth": 0,
             "ticks": ""
            },
            "colorscale": [
             [
              0,
              "#0d0887"
             ],
             [
              0.1111111111111111,
              "#46039f"
             ],
             [
              0.2222222222222222,
              "#7201a8"
             ],
             [
              0.3333333333333333,
              "#9c179e"
             ],
             [
              0.4444444444444444,
              "#bd3786"
             ],
             [
              0.5555555555555556,
              "#d8576b"
             ],
             [
              0.6666666666666666,
              "#ed7953"
             ],
             [
              0.7777777777777778,
              "#fb9f3a"
             ],
             [
              0.8888888888888888,
              "#fdca26"
             ],
             [
              1,
              "#f0f921"
             ]
            ],
            "type": "surface"
           }
          ],
          "table": [
           {
            "cells": {
             "fill": {
              "color": "#EBF0F8"
             },
             "line": {
              "color": "white"
             }
            },
            "header": {
             "fill": {
              "color": "#C8D4E3"
             },
             "line": {
              "color": "white"
             }
            },
            "type": "table"
           }
          ]
         },
         "layout": {
          "annotationdefaults": {
           "arrowcolor": "#2a3f5f",
           "arrowhead": 0,
           "arrowwidth": 1
          },
          "autotypenumbers": "strict",
          "coloraxis": {
           "colorbar": {
            "outlinewidth": 0,
            "ticks": ""
           }
          },
          "colorscale": {
           "diverging": [
            [
             0,
             "#8e0152"
            ],
            [
             0.1,
             "#c51b7d"
            ],
            [
             0.2,
             "#de77ae"
            ],
            [
             0.3,
             "#f1b6da"
            ],
            [
             0.4,
             "#fde0ef"
            ],
            [
             0.5,
             "#f7f7f7"
            ],
            [
             0.6,
             "#e6f5d0"
            ],
            [
             0.7,
             "#b8e186"
            ],
            [
             0.8,
             "#7fbc41"
            ],
            [
             0.9,
             "#4d9221"
            ],
            [
             1,
             "#276419"
            ]
           ],
           "sequential": [
            [
             0,
             "#0d0887"
            ],
            [
             0.1111111111111111,
             "#46039f"
            ],
            [
             0.2222222222222222,
             "#7201a8"
            ],
            [
             0.3333333333333333,
             "#9c179e"
            ],
            [
             0.4444444444444444,
             "#bd3786"
            ],
            [
             0.5555555555555556,
             "#d8576b"
            ],
            [
             0.6666666666666666,
             "#ed7953"
            ],
            [
             0.7777777777777778,
             "#fb9f3a"
            ],
            [
             0.8888888888888888,
             "#fdca26"
            ],
            [
             1,
             "#f0f921"
            ]
           ],
           "sequentialminus": [
            [
             0,
             "#0d0887"
            ],
            [
             0.1111111111111111,
             "#46039f"
            ],
            [
             0.2222222222222222,
             "#7201a8"
            ],
            [
             0.3333333333333333,
             "#9c179e"
            ],
            [
             0.4444444444444444,
             "#bd3786"
            ],
            [
             0.5555555555555556,
             "#d8576b"
            ],
            [
             0.6666666666666666,
             "#ed7953"
            ],
            [
             0.7777777777777778,
             "#fb9f3a"
            ],
            [
             0.8888888888888888,
             "#fdca26"
            ],
            [
             1,
             "#f0f921"
            ]
           ]
          },
          "colorway": [
           "#636efa",
           "#EF553B",
           "#00cc96",
           "#ab63fa",
           "#FFA15A",
           "#19d3f3",
           "#FF6692",
           "#B6E880",
           "#FF97FF",
           "#FECB52"
          ],
          "font": {
           "color": "#2a3f5f"
          },
          "geo": {
           "bgcolor": "white",
           "lakecolor": "white",
           "landcolor": "white",
           "showlakes": true,
           "showland": true,
           "subunitcolor": "#C8D4E3"
          },
          "hoverlabel": {
           "align": "left"
          },
          "hovermode": "closest",
          "mapbox": {
           "style": "light"
          },
          "paper_bgcolor": "white",
          "plot_bgcolor": "white",
          "polar": {
           "angularaxis": {
            "gridcolor": "#EBF0F8",
            "linecolor": "#EBF0F8",
            "ticks": ""
           },
           "bgcolor": "white",
           "radialaxis": {
            "gridcolor": "#EBF0F8",
            "linecolor": "#EBF0F8",
            "ticks": ""
           }
          },
          "scene": {
           "xaxis": {
            "backgroundcolor": "white",
            "gridcolor": "#DFE8F3",
            "gridwidth": 2,
            "linecolor": "#EBF0F8",
            "showbackground": true,
            "ticks": "",
            "zerolinecolor": "#EBF0F8"
           },
           "yaxis": {
            "backgroundcolor": "white",
            "gridcolor": "#DFE8F3",
            "gridwidth": 2,
            "linecolor": "#EBF0F8",
            "showbackground": true,
            "ticks": "",
            "zerolinecolor": "#EBF0F8"
           },
           "zaxis": {
            "backgroundcolor": "white",
            "gridcolor": "#DFE8F3",
            "gridwidth": 2,
            "linecolor": "#EBF0F8",
            "showbackground": true,
            "ticks": "",
            "zerolinecolor": "#EBF0F8"
           }
          },
          "shapedefaults": {
           "line": {
            "color": "#2a3f5f"
           }
          },
          "ternary": {
           "aaxis": {
            "gridcolor": "#DFE8F3",
            "linecolor": "#A2B1C6",
            "ticks": ""
           },
           "baxis": {
            "gridcolor": "#DFE8F3",
            "linecolor": "#A2B1C6",
            "ticks": ""
           },
           "bgcolor": "white",
           "caxis": {
            "gridcolor": "#DFE8F3",
            "linecolor": "#A2B1C6",
            "ticks": ""
           }
          },
          "title": {
           "x": 0.05
          },
          "xaxis": {
           "automargin": true,
           "gridcolor": "#EBF0F8",
           "linecolor": "#EBF0F8",
           "ticks": "",
           "title": {
            "standoff": 15
           },
           "zerolinecolor": "#EBF0F8",
           "zerolinewidth": 2
          },
          "yaxis": {
           "automargin": true,
           "gridcolor": "#EBF0F8",
           "linecolor": "#EBF0F8",
           "ticks": "",
           "title": {
            "standoff": 15
           },
           "zerolinecolor": "#EBF0F8",
           "zerolinewidth": 2
          }
         }
        },
        "title": {
         "text": "Comparação CO₂ - Caso de teste: RM7 - Velocidade constante a 130 km/h e aceleração igual a zero - GASOLINE",
         "x": 0.5
        },
        "xaxis": {
         "title": {
          "text": "Amostras"
         }
        },
        "yaxis": {
         "title": {
          "text": "CO₂ (g/s)"
         }
        }
       }
      }
     },
     "metadata": {},
     "output_type": "display_data"
    },
    {
     "name": "stdout",
     "output_type": "stream",
     "text": [
      "\n",
      "🔁 Caso de teste: RM8 - Velocidade crescente linearmente (2 km/h por ponto) (ETHANOL)\n",
      "Diferença Média: 0.8721 | Diferença Máxima: 2.8620 | Erro Quadrático Médio (RMSE): 1.0008 | Desvio Padrão (Std): 0.4911\n"
     ]
    },
    {
     "data": {
      "text/html": [
       "<style type=\"text/css\">\n",
       "</style>\n",
       "<table id=\"T_4c7fa\">\n",
       "  <caption>Comparação dos dados originais e modificados - Caso de teste: RM8 - Velocidade crescente linearmente (2 km/h por ponto) (ETHANOL)</caption>\n",
       "  <thead>\n",
       "    <tr>\n",
       "      <th class=\"blank level0\" >&nbsp;</th>\n",
       "      <th id=\"T_4c7fa_level0_col0\" class=\"col_heading level0 col0\" >Latitude_Orig</th>\n",
       "      <th id=\"T_4c7fa_level0_col1\" class=\"col_heading level0 col1\" >Longitude_Orig</th>\n",
       "      <th id=\"T_4c7fa_level0_col2\" class=\"col_heading level0 col2\" >Speed(OBD)(km/h)_Orig</th>\n",
       "      <th id=\"T_4c7fa_level0_col3\" class=\"col_heading level0 col3\" >Acceleration_Orig</th>\n",
       "      <th id=\"T_4c7fa_level0_col4\" class=\"col_heading level0 col4\" > </th>\n",
       "      <th id=\"T_4c7fa_level0_col5\" class=\"col_heading level0 col5\" >Latitude_Mod</th>\n",
       "      <th id=\"T_4c7fa_level0_col6\" class=\"col_heading level0 col6\" >Longitude_Mod</th>\n",
       "      <th id=\"T_4c7fa_level0_col7\" class=\"col_heading level0 col7\" >Speed(OBD)(km/h)_Mod</th>\n",
       "      <th id=\"T_4c7fa_level0_col8\" class=\"col_heading level0 col8\" >Acceleration_Mod</th>\n",
       "      <th id=\"T_4c7fa_level0_col9\" class=\"col_heading level0 col9\" > </th>\n",
       "      <th id=\"T_4c7fa_level0_col10\" class=\"col_heading level0 col10\" >CO₂_Real</th>\n",
       "      <th id=\"T_4c7fa_level0_col11\" class=\"col_heading level0 col11\" >CO₂_Orig</th>\n",
       "      <th id=\"T_4c7fa_level0_col12\" class=\"col_heading level0 col12\" >CO₂_Mod</th>\n",
       "    </tr>\n",
       "  </thead>\n",
       "  <tbody>\n",
       "    <tr>\n",
       "      <th id=\"T_4c7fa_level0_row0\" class=\"row_heading level0 row0\" >0</th>\n",
       "      <td id=\"T_4c7fa_row0_col0\" class=\"data row0 col0\" >-5.820105</td>\n",
       "      <td id=\"T_4c7fa_row0_col1\" class=\"data row0 col1\" >-35.220818</td>\n",
       "      <td id=\"T_4c7fa_row0_col2\" class=\"data row0 col2\" >3</td>\n",
       "      <td id=\"T_4c7fa_row0_col3\" class=\"data row0 col3\" >0.000000</td>\n",
       "      <td id=\"T_4c7fa_row0_col4\" class=\"data row0 col4\" >→</td>\n",
       "      <td id=\"T_4c7fa_row0_col5\" class=\"data row0 col5\" >-5.820105</td>\n",
       "      <td id=\"T_4c7fa_row0_col6\" class=\"data row0 col6\" >-35.220818</td>\n",
       "      <td id=\"T_4c7fa_row0_col7\" class=\"data row0 col7\" >0</td>\n",
       "      <td id=\"T_4c7fa_row0_col8\" class=\"data row0 col8\" >0.000000</td>\n",
       "      <td id=\"T_4c7fa_row0_col9\" class=\"data row0 col9\" > </td>\n",
       "      <td id=\"T_4c7fa_row0_col10\" class=\"data row0 col10\" >0.642839</td>\n",
       "      <td id=\"T_4c7fa_row0_col11\" class=\"data row0 col11\" >0.742631</td>\n",
       "      <td id=\"T_4c7fa_row0_col12\" class=\"data row0 col12\" >0.727468</td>\n",
       "    </tr>\n",
       "    <tr>\n",
       "      <th id=\"T_4c7fa_level0_row1\" class=\"row_heading level0 row1\" >1</th>\n",
       "      <td id=\"T_4c7fa_row1_col0\" class=\"data row1 col0\" >-5.820103</td>\n",
       "      <td id=\"T_4c7fa_row1_col1\" class=\"data row1 col1\" >-35.220828</td>\n",
       "      <td id=\"T_4c7fa_row1_col2\" class=\"data row1 col2\" >5</td>\n",
       "      <td id=\"T_4c7fa_row1_col3\" class=\"data row1 col3\" >0.555556</td>\n",
       "      <td id=\"T_4c7fa_row1_col4\" class=\"data row1 col4\" >→</td>\n",
       "      <td id=\"T_4c7fa_row1_col5\" class=\"data row1 col5\" >-5.820103</td>\n",
       "      <td id=\"T_4c7fa_row1_col6\" class=\"data row1 col6\" >-35.220828</td>\n",
       "      <td id=\"T_4c7fa_row1_col7\" class=\"data row1 col7\" >2</td>\n",
       "      <td id=\"T_4c7fa_row1_col8\" class=\"data row1 col8\" >0.555556</td>\n",
       "      <td id=\"T_4c7fa_row1_col9\" class=\"data row1 col9\" > </td>\n",
       "      <td id=\"T_4c7fa_row1_col10\" class=\"data row1 col10\" >0.653249</td>\n",
       "      <td id=\"T_4c7fa_row1_col11\" class=\"data row1 col11\" >0.771505</td>\n",
       "      <td id=\"T_4c7fa_row1_col12\" class=\"data row1 col12\" >0.933717</td>\n",
       "    </tr>\n",
       "    <tr>\n",
       "      <th id=\"T_4c7fa_level0_row2\" class=\"row_heading level0 row2\" >2</th>\n",
       "      <td id=\"T_4c7fa_row2_col0\" class=\"data row2 col0\" >-5.820102</td>\n",
       "      <td id=\"T_4c7fa_row2_col1\" class=\"data row2 col1\" >-35.220838</td>\n",
       "      <td id=\"T_4c7fa_row2_col2\" class=\"data row2 col2\" >5</td>\n",
       "      <td id=\"T_4c7fa_row2_col3\" class=\"data row2 col3\" >0.000000</td>\n",
       "      <td id=\"T_4c7fa_row2_col4\" class=\"data row2 col4\" >→</td>\n",
       "      <td id=\"T_4c7fa_row2_col5\" class=\"data row2 col5\" >-5.820102</td>\n",
       "      <td id=\"T_4c7fa_row2_col6\" class=\"data row2 col6\" >-35.220838</td>\n",
       "      <td id=\"T_4c7fa_row2_col7\" class=\"data row2 col7\" >4</td>\n",
       "      <td id=\"T_4c7fa_row2_col8\" class=\"data row2 col8\" >0.555556</td>\n",
       "      <td id=\"T_4c7fa_row2_col9\" class=\"data row2 col9\" > </td>\n",
       "      <td id=\"T_4c7fa_row2_col10\" class=\"data row2 col10\" >0.653249</td>\n",
       "      <td id=\"T_4c7fa_row2_col11\" class=\"data row2 col11\" >0.771505</td>\n",
       "      <td id=\"T_4c7fa_row2_col12\" class=\"data row2 col12\" >0.764202</td>\n",
       "    </tr>\n",
       "    <tr>\n",
       "      <th id=\"T_4c7fa_level0_row3\" class=\"row_heading level0 row3\" >3</th>\n",
       "      <td id=\"T_4c7fa_row3_col0\" class=\"data row3 col0\" >-5.820096</td>\n",
       "      <td id=\"T_4c7fa_row3_col1\" class=\"data row3 col1\" >-35.220843</td>\n",
       "      <td id=\"T_4c7fa_row3_col2\" class=\"data row3 col2\" >3</td>\n",
       "      <td id=\"T_4c7fa_row3_col3\" class=\"data row3 col3\" >-0.555556</td>\n",
       "      <td id=\"T_4c7fa_row3_col4\" class=\"data row3 col4\" >→</td>\n",
       "      <td id=\"T_4c7fa_row3_col5\" class=\"data row3 col5\" >-5.820096</td>\n",
       "      <td id=\"T_4c7fa_row3_col6\" class=\"data row3 col6\" >-35.220843</td>\n",
       "      <td id=\"T_4c7fa_row3_col7\" class=\"data row3 col7\" >6</td>\n",
       "      <td id=\"T_4c7fa_row3_col8\" class=\"data row3 col8\" >0.555556</td>\n",
       "      <td id=\"T_4c7fa_row3_col9\" class=\"data row3 col9\" > </td>\n",
       "      <td id=\"T_4c7fa_row3_col10\" class=\"data row3 col10\" >0.679275</td>\n",
       "      <td id=\"T_4c7fa_row3_col11\" class=\"data row3 col11\" >0.659013</td>\n",
       "      <td id=\"T_4c7fa_row3_col12\" class=\"data row3 col12\" >1.135843</td>\n",
       "    </tr>\n",
       "    <tr>\n",
       "      <th id=\"T_4c7fa_level0_row4\" class=\"row_heading level0 row4\" >4</th>\n",
       "      <td id=\"T_4c7fa_row4_col0\" class=\"data row4 col0\" >-5.820091</td>\n",
       "      <td id=\"T_4c7fa_row4_col1\" class=\"data row4 col1\" >-35.220850</td>\n",
       "      <td id=\"T_4c7fa_row4_col2\" class=\"data row4 col2\" >0</td>\n",
       "      <td id=\"T_4c7fa_row4_col3\" class=\"data row4 col3\" >-0.833333</td>\n",
       "      <td id=\"T_4c7fa_row4_col4\" class=\"data row4 col4\" >→</td>\n",
       "      <td id=\"T_4c7fa_row4_col5\" class=\"data row4 col5\" >-5.820091</td>\n",
       "      <td id=\"T_4c7fa_row4_col6\" class=\"data row4 col6\" >-35.220850</td>\n",
       "      <td id=\"T_4c7fa_row4_col7\" class=\"data row4 col7\" >8</td>\n",
       "      <td id=\"T_4c7fa_row4_col8\" class=\"data row4 col8\" >0.555556</td>\n",
       "      <td id=\"T_4c7fa_row4_col9\" class=\"data row4 col9\" > </td>\n",
       "      <td id=\"T_4c7fa_row4_col10\" class=\"data row4 col10\" >0.610306</td>\n",
       "      <td id=\"T_4c7fa_row4_col11\" class=\"data row4 col11\" >0.667689</td>\n",
       "      <td id=\"T_4c7fa_row4_col12\" class=\"data row4 col12\" >1.612801</td>\n",
       "    </tr>\n",
       "    <tr>\n",
       "      <th id=\"T_4c7fa_level0_row5\" class=\"row_heading level0 row5\" >5</th>\n",
       "      <td id=\"T_4c7fa_row5_col0\" class=\"data row5 col0\" >-5.820091</td>\n",
       "      <td id=\"T_4c7fa_row5_col1\" class=\"data row5 col1\" >-35.220850</td>\n",
       "      <td id=\"T_4c7fa_row5_col2\" class=\"data row5 col2\" >0</td>\n",
       "      <td id=\"T_4c7fa_row5_col3\" class=\"data row5 col3\" >0.000000</td>\n",
       "      <td id=\"T_4c7fa_row5_col4\" class=\"data row5 col4\" >→</td>\n",
       "      <td id=\"T_4c7fa_row5_col5\" class=\"data row5 col5\" >-5.820091</td>\n",
       "      <td id=\"T_4c7fa_row5_col6\" class=\"data row5 col6\" >-35.220850</td>\n",
       "      <td id=\"T_4c7fa_row5_col7\" class=\"data row5 col7\" >10</td>\n",
       "      <td id=\"T_4c7fa_row5_col8\" class=\"data row5 col8\" >0.555556</td>\n",
       "      <td id=\"T_4c7fa_row5_col9\" class=\"data row5 col9\" > </td>\n",
       "      <td id=\"T_4c7fa_row5_col10\" class=\"data row5 col10\" >0.610306</td>\n",
       "      <td id=\"T_4c7fa_row5_col11\" class=\"data row5 col11\" >0.706858</td>\n",
       "      <td id=\"T_4c7fa_row5_col12\" class=\"data row5 col12\" >1.588431</td>\n",
       "    </tr>\n",
       "    <tr>\n",
       "      <th id=\"T_4c7fa_level0_row6\" class=\"row_heading level0 row6\" >6</th>\n",
       "      <td id=\"T_4c7fa_row6_col0\" class=\"data row6 col0\" >-5.820091</td>\n",
       "      <td id=\"T_4c7fa_row6_col1\" class=\"data row6 col1\" >-35.220850</td>\n",
       "      <td id=\"T_4c7fa_row6_col2\" class=\"data row6 col2\" >0</td>\n",
       "      <td id=\"T_4c7fa_row6_col3\" class=\"data row6 col3\" >0.000000</td>\n",
       "      <td id=\"T_4c7fa_row6_col4\" class=\"data row6 col4\" >→</td>\n",
       "      <td id=\"T_4c7fa_row6_col5\" class=\"data row6 col5\" >-5.820091</td>\n",
       "      <td id=\"T_4c7fa_row6_col6\" class=\"data row6 col6\" >-35.220850</td>\n",
       "      <td id=\"T_4c7fa_row6_col7\" class=\"data row6 col7\" >12</td>\n",
       "      <td id=\"T_4c7fa_row6_col8\" class=\"data row6 col8\" >0.555556</td>\n",
       "      <td id=\"T_4c7fa_row6_col9\" class=\"data row6 col9\" > </td>\n",
       "      <td id=\"T_4c7fa_row6_col10\" class=\"data row6 col10\" >0.490587</td>\n",
       "      <td id=\"T_4c7fa_row6_col11\" class=\"data row6 col11\" >0.706858</td>\n",
       "      <td id=\"T_4c7fa_row6_col12\" class=\"data row6 col12\" >1.518801</td>\n",
       "    </tr>\n",
       "    <tr>\n",
       "      <th id=\"T_4c7fa_level0_row7\" class=\"row_heading level0 row7\" >7</th>\n",
       "      <td id=\"T_4c7fa_row7_col0\" class=\"data row7 col0\" >-5.820085</td>\n",
       "      <td id=\"T_4c7fa_row7_col1\" class=\"data row7 col1\" >-35.220856</td>\n",
       "      <td id=\"T_4c7fa_row7_col2\" class=\"data row7 col2\" >3</td>\n",
       "      <td id=\"T_4c7fa_row7_col3\" class=\"data row7 col3\" >0.833333</td>\n",
       "      <td id=\"T_4c7fa_row7_col4\" class=\"data row7 col4\" >→</td>\n",
       "      <td id=\"T_4c7fa_row7_col5\" class=\"data row7 col5\" >-5.820085</td>\n",
       "      <td id=\"T_4c7fa_row7_col6\" class=\"data row7 col6\" >-35.220856</td>\n",
       "      <td id=\"T_4c7fa_row7_col7\" class=\"data row7 col7\" >14</td>\n",
       "      <td id=\"T_4c7fa_row7_col8\" class=\"data row7 col8\" >0.555556</td>\n",
       "      <td id=\"T_4c7fa_row7_col9\" class=\"data row7 col9\" > </td>\n",
       "      <td id=\"T_4c7fa_row7_col10\" class=\"data row7 col10\" >1.090483</td>\n",
       "      <td id=\"T_4c7fa_row7_col11\" class=\"data row7 col11\" >1.137803</td>\n",
       "      <td id=\"T_4c7fa_row7_col12\" class=\"data row7 col12\" >1.473546</td>\n",
       "    </tr>\n",
       "    <tr>\n",
       "      <th id=\"T_4c7fa_level0_row8\" class=\"row_heading level0 row8\" >8</th>\n",
       "      <td id=\"T_4c7fa_row8_col0\" class=\"data row8 col0\" >-5.820074</td>\n",
       "      <td id=\"T_4c7fa_row8_col1\" class=\"data row8 col1\" >-35.220859</td>\n",
       "      <td id=\"T_4c7fa_row8_col2\" class=\"data row8 col2\" >3</td>\n",
       "      <td id=\"T_4c7fa_row8_col3\" class=\"data row8 col3\" >0.000000</td>\n",
       "      <td id=\"T_4c7fa_row8_col4\" class=\"data row8 col4\" >→</td>\n",
       "      <td id=\"T_4c7fa_row8_col5\" class=\"data row8 col5\" >-5.820074</td>\n",
       "      <td id=\"T_4c7fa_row8_col6\" class=\"data row8 col6\" >-35.220859</td>\n",
       "      <td id=\"T_4c7fa_row8_col7\" class=\"data row8 col7\" >16</td>\n",
       "      <td id=\"T_4c7fa_row8_col8\" class=\"data row8 col8\" >0.555556</td>\n",
       "      <td id=\"T_4c7fa_row8_col9\" class=\"data row8 col9\" > </td>\n",
       "      <td id=\"T_4c7fa_row8_col10\" class=\"data row8 col10\" >1.090483</td>\n",
       "      <td id=\"T_4c7fa_row8_col11\" class=\"data row8 col11\" >1.137803</td>\n",
       "      <td id=\"T_4c7fa_row8_col12\" class=\"data row8 col12\" >1.485014</td>\n",
       "    </tr>\n",
       "    <tr>\n",
       "      <th id=\"T_4c7fa_level0_row9\" class=\"row_heading level0 row9\" >9</th>\n",
       "      <td id=\"T_4c7fa_row9_col0\" class=\"data row9 col0\" >-5.820064</td>\n",
       "      <td id=\"T_4c7fa_row9_col1\" class=\"data row9 col1\" >-35.220858</td>\n",
       "      <td id=\"T_4c7fa_row9_col2\" class=\"data row9 col2\" >3</td>\n",
       "      <td id=\"T_4c7fa_row9_col3\" class=\"data row9 col3\" >0.000000</td>\n",
       "      <td id=\"T_4c7fa_row9_col4\" class=\"data row9 col4\" >→</td>\n",
       "      <td id=\"T_4c7fa_row9_col5\" class=\"data row9 col5\" >-5.820064</td>\n",
       "      <td id=\"T_4c7fa_row9_col6\" class=\"data row9 col6\" >-35.220858</td>\n",
       "      <td id=\"T_4c7fa_row9_col7\" class=\"data row9 col7\" >18</td>\n",
       "      <td id=\"T_4c7fa_row9_col8\" class=\"data row9 col8\" >0.555556</td>\n",
       "      <td id=\"T_4c7fa_row9_col9\" class=\"data row9 col9\" > </td>\n",
       "      <td id=\"T_4c7fa_row9_col10\" class=\"data row9 col10\" >0.921315</td>\n",
       "      <td id=\"T_4c7fa_row9_col11\" class=\"data row9 col11\" >1.137803</td>\n",
       "      <td id=\"T_4c7fa_row9_col12\" class=\"data row9 col12\" >1.451316</td>\n",
       "    </tr>\n",
       "  </tbody>\n",
       "</table>\n"
      ],
      "text/plain": [
       "<pandas.io.formats.style.Styler at 0x1bd896e0a50>"
      ]
     },
     "metadata": {},
     "output_type": "display_data"
    },
    {
     "data": {
      "application/vnd.plotly.v1+json": {
       "config": {
        "plotlyServerURL": "https://plot.ly"
       },
       "data": [
        {
         "line": {
          "color": "green",
          "dash": "dot"
         },
         "mode": "lines",
         "name": "Real",
         "type": "scatter",
         "y": {
          "bdata": "Xv2WDSKS5D+bk2QeaufkP5uTZB5q5+Q/NotmSJ685T/ehxTZoIfjP96HFNmgh+M/M5CwL8hl3z/dnA9wnnLxP92cD3CecvE/T3ASz2l77T+UX3iidnLyPz8yMAV+Z/Q/PzIwBX5n9D8ti7UITBb8PzhhcBqj5vk/KSOOULfS8D8pI45Qt9LwP7us/CApG+8/cjYv8OP84z+t9vIuJyjgP6328i4nKOA/geLz0z/39T+rgxXuOvLzP6uDFe468vM/mb1aTGW9AEB0UCWuXTcFQJNSfcM51QFAk1J9wznVAUDU4Eocwdz0P40G4N+x0N0/MaWrxsVQ3T+Gb8fSpWfjP4Zvx9KlZ+M/RJASr2yy4j+u4feXKT3iPxtsE+QD5v0/G2wT5APm/T9xVW+Vh+D+P/WBu/ZpMek/9YG79mkx6T8EcmzGOjzYP6VZboDtdf4/WOugB2mlAEBY66AHaaUAQFcs1yJHEfo/jF/HYiTM+D+vRCQpQjH6P69EJClCMfo/IlLOZdxR9j8U6vVt9WfxP9L1RbO+x/I/0vVFs77H8j9JPCZTdgbrPy3PofTAJtk/Lc+h9MAm2T83dmuxoNHXP5m9WkxlveA/wxqQeuun4T/DGpB666fhPy5sdWOoMgFAN3ZrsaDRB0CTtalUUskJQJO1qVRSyQlAUQXmhZA5CECzrwGybRkJQLOvAbJtGQlAadNRH3liAkDxyvHJCOv/P/HK8ckI6/8/ZYpqDIgCAkDcITJ38e4HQFhbyHe+Nvk/WFvId742+T+BiQxRzfvaP+KMDwAd1/Y/4owPAB3X9j9nuVth/yfxP4GJDFHN+9o/VyzXIkcR2j9XLNciRxHKPzhhcBqj5sk/mb1aTGW90D+rqr6oeQbiPxTJ619+uOE/cloUOF8j9z+cBUVJAVwCQO7F9qKMm/w/7sX2ooyb/D8XwP8/+pH1Py66pl3DO9s/YtOg3ya82D8GXXEvPVHKPwZdcS89Uco/3P87AbdmyT8zkLAvyGXPPxdp8ttk2OI/F2ny22TY4j/s9fsW3vTiP/4o4Wa23vY/g+DZ9mxa+z8=",
          "dtype": "f8"
         }
        },
        {
         "line": {
          "color": "blue",
          "dash": "dash"
         },
         "mode": "lines",
         "name": "Predição Original",
         "type": "scatter",
         "y": {
          "bdata": "A1nGMaLD5z/rGxZ+K7DoP+sbFn4rsOg/ZNKEuKEW5T8gJJx1tV3lP1qolBeUnuY/WqiUF5Se5j8vN5pfcTTyPy83ml9xNPI/LzeaX3E08j8LUj4DVmv0P2cHXp66ovQ/lajUrwhy8z8ERxYOSyj4P0gf5HQeCfI/if7LZHnq7z8XHaiiCV3vP6Btm6JJmew/vGW1En/65z9MP1pTWq7wP/J2f86FGvA/Rx/yOxHc8D9HH/I7EdzwP0cf8jsR3PA/Wi2PK9ct9T99iPbmwzv1P+s7h6uSvvI/jlifB2hB+z/KAreWPx7tP2CGcv2h3+w/DE1YhnUh4z+r91rqETzvPzST+4nO/eQ/tcGbWjP25j8r0X6ZskrsPzXVexnn+PI/jsX9rHxr8z+YODlE2Q7zPxrw1xsMw+0/6+G9lxVx7T+VLCu5vQ3pP5kI65KAuvA/xV7vM9nJ8j+3rXXsTRn+P7nipTU15fQ/Ahig1qK48j97HMyYL2j0P61VsDSbgfU/gKXeX7rt9D8lL/FG5m/yP1D9sJ1ASPI/ONgUq37H8z/SblJX33btP6Pvp4KhC+M/A1unplDL5j/tVn03pGviP09EUKldGOg/RjLkVnwe6D+bSQJT7m7oP/kNtZK+Z+k/BO79CuHa9z9uhs6rFD4AQDSsx4gppPs/JoJSHH6Y9j8b5eo1rb34P7wp1TtfOgFA605wkeGE9z+CQHPA6Nf7P96W8dRj7vo/77f/lcKE+T8/0HaFb3j5P0ixId0VM/o/2QaTrAQF9T89ims167HjP+Roiw7ssfA/N+aifBlj8D+LMRVBlGrvP6CylwUtpOE/UCAMIn9U4D86TWpu5ebtP5PEfPDbnN0/8ql5Nfn/4D83OrmjNxvhP9ETGcqqqOg/TEBpKYVw9j/5y4EaW9T4P6g7DuceO/U/scgFb/N/8D+73vRQdeXuP5DaSmyYQ+A/1hTHV/j+2j9wnnVfpazbPzJoid+r2eU/KlRdoNof2z8xuA2DPjffP3qotC6cE+Y/eqi0LpwT5j96qLQunBPmPwHia4Ko5fc/29W9hKHm9z8=",
          "dtype": "f8"
         }
        },
        {
         "line": {
          "color": "red"
         },
         "mode": "lines",
         "name": "Predição com RM",
         "type": "scatter",
         "y": {
          "bdata": "St2AJWpH5z9cS0cpA+HtP7ACwxJYdOg/VtVQEmos8j8cCww6CM75P+QBvh83avk/BxE2EgJN+D8nRwjEpJP3P/9LGAqewvc/QuH8/ZY49z9JU5jpXBz5P6/Vl2jXFvc/NB/xq2gJ9T+g2+VSSj31P7FbHMVFk+g/CgpVwUnI8j8lK8t7+bryP/Oi4slrefI/1qktyZel8j/06uw50dXyP1hArwTQNPQ/ndApz3Wf9z/5E/1UaZv3Py4Bml07efY/CpnIyhnY9j+1mPrZHo37Pzv3MGuKV/Y/RgtcIt2P8j9QLoplw+zyP9NOoyQkyPE/GJUFcO4G8z8JE25E+UT0P60IusD9Q/I/wilh8mxc7j/Yo2cSAQnWP4zrLsSEJeQ/FwvPSY8d7j9o7fzUQczzP2jt/NRBzPM/aO381EHM8z9o7fzUQczzP2jt/NRBzPM/aO381EHM8z9AitTRX7L4P0CK1NFfsvg/uJjFEcsO+z/z3YVxg0f8P/PdhXGDR/w/gshBtKGk+z+CyEG0oaT7P4LIQbShpPs/LLIdw0jP/T9WUauOHPL9P1ZRq44c8v0/VlGrjhzy/T9WUauOHPL9PwrMbF1lRv4/CsxsXWVG/j8KzGxdZUb+P+BRofgaCQNAshf0EUt6A0CyF/QRS3oDQP5D85FRdgNA/kPzkVF2A0CAVMTFNNECQAtjJp6J3gFAtLkmjIWVAEA7GeuCN/4AQLUglXuOMgBAi9+TAfkg/z/u24Ko9Dv/P+7bgqj0O/8/PL+febqG/j+cGrVJ0073P5watUnTTvc/hLFRER9G9z/mKHIWB572P+YochYHnvY/V4XEqCyl9j9XhcSoLKX2P0SLpgbNo/Q/VNLt9K2n9T9U0u30raf1P1TS7fStp/U/JLW8t27m+z8ktby3bub7PyS1vLdu5vs/f23Y80ZT/T8zuEnpFir9P68cUnidBfY/rxxSeJ0F9j+vHFJ4nQX2P68cUnidBfY/rxxSeJ0F9j+vHFJ4nQX2P68cUnidBfY/rxxSeJ0F9j+vHFJ4nQX2P1TSmUAsevk/VNKZQCx6+T8=",
          "dtype": "f8"
         }
        }
       ],
       "layout": {
        "template": {
         "data": {
          "bar": [
           {
            "error_x": {
             "color": "#2a3f5f"
            },
            "error_y": {
             "color": "#2a3f5f"
            },
            "marker": {
             "line": {
              "color": "white",
              "width": 0.5
             },
             "pattern": {
              "fillmode": "overlay",
              "size": 10,
              "solidity": 0.2
             }
            },
            "type": "bar"
           }
          ],
          "barpolar": [
           {
            "marker": {
             "line": {
              "color": "white",
              "width": 0.5
             },
             "pattern": {
              "fillmode": "overlay",
              "size": 10,
              "solidity": 0.2
             }
            },
            "type": "barpolar"
           }
          ],
          "carpet": [
           {
            "aaxis": {
             "endlinecolor": "#2a3f5f",
             "gridcolor": "#C8D4E3",
             "linecolor": "#C8D4E3",
             "minorgridcolor": "#C8D4E3",
             "startlinecolor": "#2a3f5f"
            },
            "baxis": {
             "endlinecolor": "#2a3f5f",
             "gridcolor": "#C8D4E3",
             "linecolor": "#C8D4E3",
             "minorgridcolor": "#C8D4E3",
             "startlinecolor": "#2a3f5f"
            },
            "type": "carpet"
           }
          ],
          "choropleth": [
           {
            "colorbar": {
             "outlinewidth": 0,
             "ticks": ""
            },
            "type": "choropleth"
           }
          ],
          "contour": [
           {
            "colorbar": {
             "outlinewidth": 0,
             "ticks": ""
            },
            "colorscale": [
             [
              0,
              "#0d0887"
             ],
             [
              0.1111111111111111,
              "#46039f"
             ],
             [
              0.2222222222222222,
              "#7201a8"
             ],
             [
              0.3333333333333333,
              "#9c179e"
             ],
             [
              0.4444444444444444,
              "#bd3786"
             ],
             [
              0.5555555555555556,
              "#d8576b"
             ],
             [
              0.6666666666666666,
              "#ed7953"
             ],
             [
              0.7777777777777778,
              "#fb9f3a"
             ],
             [
              0.8888888888888888,
              "#fdca26"
             ],
             [
              1,
              "#f0f921"
             ]
            ],
            "type": "contour"
           }
          ],
          "contourcarpet": [
           {
            "colorbar": {
             "outlinewidth": 0,
             "ticks": ""
            },
            "type": "contourcarpet"
           }
          ],
          "heatmap": [
           {
            "colorbar": {
             "outlinewidth": 0,
             "ticks": ""
            },
            "colorscale": [
             [
              0,
              "#0d0887"
             ],
             [
              0.1111111111111111,
              "#46039f"
             ],
             [
              0.2222222222222222,
              "#7201a8"
             ],
             [
              0.3333333333333333,
              "#9c179e"
             ],
             [
              0.4444444444444444,
              "#bd3786"
             ],
             [
              0.5555555555555556,
              "#d8576b"
             ],
             [
              0.6666666666666666,
              "#ed7953"
             ],
             [
              0.7777777777777778,
              "#fb9f3a"
             ],
             [
              0.8888888888888888,
              "#fdca26"
             ],
             [
              1,
              "#f0f921"
             ]
            ],
            "type": "heatmap"
           }
          ],
          "histogram": [
           {
            "marker": {
             "pattern": {
              "fillmode": "overlay",
              "size": 10,
              "solidity": 0.2
             }
            },
            "type": "histogram"
           }
          ],
          "histogram2d": [
           {
            "colorbar": {
             "outlinewidth": 0,
             "ticks": ""
            },
            "colorscale": [
             [
              0,
              "#0d0887"
             ],
             [
              0.1111111111111111,
              "#46039f"
             ],
             [
              0.2222222222222222,
              "#7201a8"
             ],
             [
              0.3333333333333333,
              "#9c179e"
             ],
             [
              0.4444444444444444,
              "#bd3786"
             ],
             [
              0.5555555555555556,
              "#d8576b"
             ],
             [
              0.6666666666666666,
              "#ed7953"
             ],
             [
              0.7777777777777778,
              "#fb9f3a"
             ],
             [
              0.8888888888888888,
              "#fdca26"
             ],
             [
              1,
              "#f0f921"
             ]
            ],
            "type": "histogram2d"
           }
          ],
          "histogram2dcontour": [
           {
            "colorbar": {
             "outlinewidth": 0,
             "ticks": ""
            },
            "colorscale": [
             [
              0,
              "#0d0887"
             ],
             [
              0.1111111111111111,
              "#46039f"
             ],
             [
              0.2222222222222222,
              "#7201a8"
             ],
             [
              0.3333333333333333,
              "#9c179e"
             ],
             [
              0.4444444444444444,
              "#bd3786"
             ],
             [
              0.5555555555555556,
              "#d8576b"
             ],
             [
              0.6666666666666666,
              "#ed7953"
             ],
             [
              0.7777777777777778,
              "#fb9f3a"
             ],
             [
              0.8888888888888888,
              "#fdca26"
             ],
             [
              1,
              "#f0f921"
             ]
            ],
            "type": "histogram2dcontour"
           }
          ],
          "mesh3d": [
           {
            "colorbar": {
             "outlinewidth": 0,
             "ticks": ""
            },
            "type": "mesh3d"
           }
          ],
          "parcoords": [
           {
            "line": {
             "colorbar": {
              "outlinewidth": 0,
              "ticks": ""
             }
            },
            "type": "parcoords"
           }
          ],
          "pie": [
           {
            "automargin": true,
            "type": "pie"
           }
          ],
          "scatter": [
           {
            "fillpattern": {
             "fillmode": "overlay",
             "size": 10,
             "solidity": 0.2
            },
            "type": "scatter"
           }
          ],
          "scatter3d": [
           {
            "line": {
             "colorbar": {
              "outlinewidth": 0,
              "ticks": ""
             }
            },
            "marker": {
             "colorbar": {
              "outlinewidth": 0,
              "ticks": ""
             }
            },
            "type": "scatter3d"
           }
          ],
          "scattercarpet": [
           {
            "marker": {
             "colorbar": {
              "outlinewidth": 0,
              "ticks": ""
             }
            },
            "type": "scattercarpet"
           }
          ],
          "scattergeo": [
           {
            "marker": {
             "colorbar": {
              "outlinewidth": 0,
              "ticks": ""
             }
            },
            "type": "scattergeo"
           }
          ],
          "scattergl": [
           {
            "marker": {
             "colorbar": {
              "outlinewidth": 0,
              "ticks": ""
             }
            },
            "type": "scattergl"
           }
          ],
          "scattermap": [
           {
            "marker": {
             "colorbar": {
              "outlinewidth": 0,
              "ticks": ""
             }
            },
            "type": "scattermap"
           }
          ],
          "scattermapbox": [
           {
            "marker": {
             "colorbar": {
              "outlinewidth": 0,
              "ticks": ""
             }
            },
            "type": "scattermapbox"
           }
          ],
          "scatterpolar": [
           {
            "marker": {
             "colorbar": {
              "outlinewidth": 0,
              "ticks": ""
             }
            },
            "type": "scatterpolar"
           }
          ],
          "scatterpolargl": [
           {
            "marker": {
             "colorbar": {
              "outlinewidth": 0,
              "ticks": ""
             }
            },
            "type": "scatterpolargl"
           }
          ],
          "scatterternary": [
           {
            "marker": {
             "colorbar": {
              "outlinewidth": 0,
              "ticks": ""
             }
            },
            "type": "scatterternary"
           }
          ],
          "surface": [
           {
            "colorbar": {
             "outlinewidth": 0,
             "ticks": ""
            },
            "colorscale": [
             [
              0,
              "#0d0887"
             ],
             [
              0.1111111111111111,
              "#46039f"
             ],
             [
              0.2222222222222222,
              "#7201a8"
             ],
             [
              0.3333333333333333,
              "#9c179e"
             ],
             [
              0.4444444444444444,
              "#bd3786"
             ],
             [
              0.5555555555555556,
              "#d8576b"
             ],
             [
              0.6666666666666666,
              "#ed7953"
             ],
             [
              0.7777777777777778,
              "#fb9f3a"
             ],
             [
              0.8888888888888888,
              "#fdca26"
             ],
             [
              1,
              "#f0f921"
             ]
            ],
            "type": "surface"
           }
          ],
          "table": [
           {
            "cells": {
             "fill": {
              "color": "#EBF0F8"
             },
             "line": {
              "color": "white"
             }
            },
            "header": {
             "fill": {
              "color": "#C8D4E3"
             },
             "line": {
              "color": "white"
             }
            },
            "type": "table"
           }
          ]
         },
         "layout": {
          "annotationdefaults": {
           "arrowcolor": "#2a3f5f",
           "arrowhead": 0,
           "arrowwidth": 1
          },
          "autotypenumbers": "strict",
          "coloraxis": {
           "colorbar": {
            "outlinewidth": 0,
            "ticks": ""
           }
          },
          "colorscale": {
           "diverging": [
            [
             0,
             "#8e0152"
            ],
            [
             0.1,
             "#c51b7d"
            ],
            [
             0.2,
             "#de77ae"
            ],
            [
             0.3,
             "#f1b6da"
            ],
            [
             0.4,
             "#fde0ef"
            ],
            [
             0.5,
             "#f7f7f7"
            ],
            [
             0.6,
             "#e6f5d0"
            ],
            [
             0.7,
             "#b8e186"
            ],
            [
             0.8,
             "#7fbc41"
            ],
            [
             0.9,
             "#4d9221"
            ],
            [
             1,
             "#276419"
            ]
           ],
           "sequential": [
            [
             0,
             "#0d0887"
            ],
            [
             0.1111111111111111,
             "#46039f"
            ],
            [
             0.2222222222222222,
             "#7201a8"
            ],
            [
             0.3333333333333333,
             "#9c179e"
            ],
            [
             0.4444444444444444,
             "#bd3786"
            ],
            [
             0.5555555555555556,
             "#d8576b"
            ],
            [
             0.6666666666666666,
             "#ed7953"
            ],
            [
             0.7777777777777778,
             "#fb9f3a"
            ],
            [
             0.8888888888888888,
             "#fdca26"
            ],
            [
             1,
             "#f0f921"
            ]
           ],
           "sequentialminus": [
            [
             0,
             "#0d0887"
            ],
            [
             0.1111111111111111,
             "#46039f"
            ],
            [
             0.2222222222222222,
             "#7201a8"
            ],
            [
             0.3333333333333333,
             "#9c179e"
            ],
            [
             0.4444444444444444,
             "#bd3786"
            ],
            [
             0.5555555555555556,
             "#d8576b"
            ],
            [
             0.6666666666666666,
             "#ed7953"
            ],
            [
             0.7777777777777778,
             "#fb9f3a"
            ],
            [
             0.8888888888888888,
             "#fdca26"
            ],
            [
             1,
             "#f0f921"
            ]
           ]
          },
          "colorway": [
           "#636efa",
           "#EF553B",
           "#00cc96",
           "#ab63fa",
           "#FFA15A",
           "#19d3f3",
           "#FF6692",
           "#B6E880",
           "#FF97FF",
           "#FECB52"
          ],
          "font": {
           "color": "#2a3f5f"
          },
          "geo": {
           "bgcolor": "white",
           "lakecolor": "white",
           "landcolor": "white",
           "showlakes": true,
           "showland": true,
           "subunitcolor": "#C8D4E3"
          },
          "hoverlabel": {
           "align": "left"
          },
          "hovermode": "closest",
          "mapbox": {
           "style": "light"
          },
          "paper_bgcolor": "white",
          "plot_bgcolor": "white",
          "polar": {
           "angularaxis": {
            "gridcolor": "#EBF0F8",
            "linecolor": "#EBF0F8",
            "ticks": ""
           },
           "bgcolor": "white",
           "radialaxis": {
            "gridcolor": "#EBF0F8",
            "linecolor": "#EBF0F8",
            "ticks": ""
           }
          },
          "scene": {
           "xaxis": {
            "backgroundcolor": "white",
            "gridcolor": "#DFE8F3",
            "gridwidth": 2,
            "linecolor": "#EBF0F8",
            "showbackground": true,
            "ticks": "",
            "zerolinecolor": "#EBF0F8"
           },
           "yaxis": {
            "backgroundcolor": "white",
            "gridcolor": "#DFE8F3",
            "gridwidth": 2,
            "linecolor": "#EBF0F8",
            "showbackground": true,
            "ticks": "",
            "zerolinecolor": "#EBF0F8"
           },
           "zaxis": {
            "backgroundcolor": "white",
            "gridcolor": "#DFE8F3",
            "gridwidth": 2,
            "linecolor": "#EBF0F8",
            "showbackground": true,
            "ticks": "",
            "zerolinecolor": "#EBF0F8"
           }
          },
          "shapedefaults": {
           "line": {
            "color": "#2a3f5f"
           }
          },
          "ternary": {
           "aaxis": {
            "gridcolor": "#DFE8F3",
            "linecolor": "#A2B1C6",
            "ticks": ""
           },
           "baxis": {
            "gridcolor": "#DFE8F3",
            "linecolor": "#A2B1C6",
            "ticks": ""
           },
           "bgcolor": "white",
           "caxis": {
            "gridcolor": "#DFE8F3",
            "linecolor": "#A2B1C6",
            "ticks": ""
           }
          },
          "title": {
           "x": 0.05
          },
          "xaxis": {
           "automargin": true,
           "gridcolor": "#EBF0F8",
           "linecolor": "#EBF0F8",
           "ticks": "",
           "title": {
            "standoff": 15
           },
           "zerolinecolor": "#EBF0F8",
           "zerolinewidth": 2
          },
          "yaxis": {
           "automargin": true,
           "gridcolor": "#EBF0F8",
           "linecolor": "#EBF0F8",
           "ticks": "",
           "title": {
            "standoff": 15
           },
           "zerolinecolor": "#EBF0F8",
           "zerolinewidth": 2
          }
         }
        },
        "title": {
         "text": "Comparação CO₂ - Caso de teste: RM8 - Velocidade crescente linearmente (2 km/h por ponto) - ETHANOL",
         "x": 0.5
        },
        "xaxis": {
         "title": {
          "text": "Amostras"
         }
        },
        "yaxis": {
         "title": {
          "text": "CO₂ (g/s)"
         }
        }
       }
      }
     },
     "metadata": {},
     "output_type": "display_data"
    },
    {
     "name": "stdout",
     "output_type": "stream",
     "text": [
      "\n",
      "🔁 Caso de teste: RM8 - Velocidade crescente linearmente (2 km/h por ponto) (GASOLINE)\n",
      "Diferença Média: 0.9904 | Diferença Máxima: 3.5768 | Erro Quadrático Médio (RMSE): 1.2278 | Desvio Padrão (Std): 0.7256\n"
     ]
    },
    {
     "data": {
      "text/html": [
       "<style type=\"text/css\">\n",
       "</style>\n",
       "<table id=\"T_6592f\">\n",
       "  <caption>Comparação dos dados originais e modificados - Caso de teste: RM8 - Velocidade crescente linearmente (2 km/h por ponto) (GASOLINE)</caption>\n",
       "  <thead>\n",
       "    <tr>\n",
       "      <th class=\"blank level0\" >&nbsp;</th>\n",
       "      <th id=\"T_6592f_level0_col0\" class=\"col_heading level0 col0\" >Latitude_Orig</th>\n",
       "      <th id=\"T_6592f_level0_col1\" class=\"col_heading level0 col1\" >Longitude_Orig</th>\n",
       "      <th id=\"T_6592f_level0_col2\" class=\"col_heading level0 col2\" >Speed(OBD)(km/h)_Orig</th>\n",
       "      <th id=\"T_6592f_level0_col3\" class=\"col_heading level0 col3\" >Acceleration_Orig</th>\n",
       "      <th id=\"T_6592f_level0_col4\" class=\"col_heading level0 col4\" > </th>\n",
       "      <th id=\"T_6592f_level0_col5\" class=\"col_heading level0 col5\" >Latitude_Mod</th>\n",
       "      <th id=\"T_6592f_level0_col6\" class=\"col_heading level0 col6\" >Longitude_Mod</th>\n",
       "      <th id=\"T_6592f_level0_col7\" class=\"col_heading level0 col7\" >Speed(OBD)(km/h)_Mod</th>\n",
       "      <th id=\"T_6592f_level0_col8\" class=\"col_heading level0 col8\" >Acceleration_Mod</th>\n",
       "      <th id=\"T_6592f_level0_col9\" class=\"col_heading level0 col9\" > </th>\n",
       "      <th id=\"T_6592f_level0_col10\" class=\"col_heading level0 col10\" >CO₂_Real</th>\n",
       "      <th id=\"T_6592f_level0_col11\" class=\"col_heading level0 col11\" >CO₂_Orig</th>\n",
       "      <th id=\"T_6592f_level0_col12\" class=\"col_heading level0 col12\" >CO₂_Mod</th>\n",
       "    </tr>\n",
       "  </thead>\n",
       "  <tbody>\n",
       "    <tr>\n",
       "      <th id=\"T_6592f_level0_row0\" class=\"row_heading level0 row0\" >0</th>\n",
       "      <td id=\"T_6592f_row0_col0\" class=\"data row0 col0\" >-5.820010</td>\n",
       "      <td id=\"T_6592f_row0_col1\" class=\"data row0 col1\" >-35.220825</td>\n",
       "      <td id=\"T_6592f_row0_col2\" class=\"data row0 col2\" >5</td>\n",
       "      <td id=\"T_6592f_row0_col3\" class=\"data row0 col3\" >0.000000</td>\n",
       "      <td id=\"T_6592f_row0_col4\" class=\"data row0 col4\" >→</td>\n",
       "      <td id=\"T_6592f_row0_col5\" class=\"data row0 col5\" >-5.820010</td>\n",
       "      <td id=\"T_6592f_row0_col6\" class=\"data row0 col6\" >-35.220825</td>\n",
       "      <td id=\"T_6592f_row0_col7\" class=\"data row0 col7\" >0</td>\n",
       "      <td id=\"T_6592f_row0_col8\" class=\"data row0 col8\" >0.000000</td>\n",
       "      <td id=\"T_6592f_row0_col9\" class=\"data row0 col9\" > </td>\n",
       "      <td id=\"T_6592f_row0_col10\" class=\"data row0 col10\" >1.002671</td>\n",
       "      <td id=\"T_6592f_row0_col11\" class=\"data row0 col11\" >1.456781</td>\n",
       "      <td id=\"T_6592f_row0_col12\" class=\"data row0 col12\" >0.965052</td>\n",
       "    </tr>\n",
       "    <tr>\n",
       "      <th id=\"T_6592f_level0_row1\" class=\"row_heading level0 row1\" >1</th>\n",
       "      <td id=\"T_6592f_row1_col0\" class=\"data row1 col0\" >-5.820013</td>\n",
       "      <td id=\"T_6592f_row1_col1\" class=\"data row1 col1\" >-35.220822</td>\n",
       "      <td id=\"T_6592f_row1_col2\" class=\"data row1 col2\" >4</td>\n",
       "      <td id=\"T_6592f_row1_col3\" class=\"data row1 col3\" >-0.277778</td>\n",
       "      <td id=\"T_6592f_row1_col4\" class=\"data row1 col4\" >→</td>\n",
       "      <td id=\"T_6592f_row1_col5\" class=\"data row1 col5\" >-5.820013</td>\n",
       "      <td id=\"T_6592f_row1_col6\" class=\"data row1 col6\" >-35.220822</td>\n",
       "      <td id=\"T_6592f_row1_col7\" class=\"data row1 col7\" >2</td>\n",
       "      <td id=\"T_6592f_row1_col8\" class=\"data row1 col8\" >0.555556</td>\n",
       "      <td id=\"T_6592f_row1_col9\" class=\"data row1 col9\" > </td>\n",
       "      <td id=\"T_6592f_row1_col10\" class=\"data row1 col10\" >1.013360</td>\n",
       "      <td id=\"T_6592f_row1_col11\" class=\"data row1 col11\" >1.016708</td>\n",
       "      <td id=\"T_6592f_row1_col12\" class=\"data row1 col12\" >1.215590</td>\n",
       "    </tr>\n",
       "    <tr>\n",
       "      <th id=\"T_6592f_level0_row2\" class=\"row_heading level0 row2\" >2</th>\n",
       "      <td id=\"T_6592f_row2_col0\" class=\"data row2 col0\" >-5.820016</td>\n",
       "      <td id=\"T_6592f_row2_col1\" class=\"data row2 col1\" >-35.220819</td>\n",
       "      <td id=\"T_6592f_row2_col2\" class=\"data row2 col2\" >5</td>\n",
       "      <td id=\"T_6592f_row2_col3\" class=\"data row2 col3\" >0.277778</td>\n",
       "      <td id=\"T_6592f_row2_col4\" class=\"data row2 col4\" >→</td>\n",
       "      <td id=\"T_6592f_row2_col5\" class=\"data row2 col5\" >-5.820016</td>\n",
       "      <td id=\"T_6592f_row2_col6\" class=\"data row2 col6\" >-35.220819</td>\n",
       "      <td id=\"T_6592f_row2_col7\" class=\"data row2 col7\" >4</td>\n",
       "      <td id=\"T_6592f_row2_col8\" class=\"data row2 col8\" >0.555556</td>\n",
       "      <td id=\"T_6592f_row2_col9\" class=\"data row2 col9\" > </td>\n",
       "      <td id=\"T_6592f_row2_col10\" class=\"data row2 col10\" >2.088720</td>\n",
       "      <td id=\"T_6592f_row2_col11\" class=\"data row2 col11\" >1.456781</td>\n",
       "      <td id=\"T_6592f_row2_col12\" class=\"data row2 col12\" >1.456781</td>\n",
       "    </tr>\n",
       "    <tr>\n",
       "      <th id=\"T_6592f_level0_row3\" class=\"row_heading level0 row3\" >3</th>\n",
       "      <td id=\"T_6592f_row3_col0\" class=\"data row3 col0\" >-5.820014</td>\n",
       "      <td id=\"T_6592f_row3_col1\" class=\"data row3 col1\" >-35.220825</td>\n",
       "      <td id=\"T_6592f_row3_col2\" class=\"data row3 col2\" >7</td>\n",
       "      <td id=\"T_6592f_row3_col3\" class=\"data row3 col3\" >0.555556</td>\n",
       "      <td id=\"T_6592f_row3_col4\" class=\"data row3 col4\" >→</td>\n",
       "      <td id=\"T_6592f_row3_col5\" class=\"data row3 col5\" >-5.820014</td>\n",
       "      <td id=\"T_6592f_row3_col6\" class=\"data row3 col6\" >-35.220825</td>\n",
       "      <td id=\"T_6592f_row3_col7\" class=\"data row3 col7\" >6</td>\n",
       "      <td id=\"T_6592f_row3_col8\" class=\"data row3 col8\" >0.555556</td>\n",
       "      <td id=\"T_6592f_row3_col9\" class=\"data row3 col9\" > </td>\n",
       "      <td id=\"T_6592f_row3_col10\" class=\"data row3 col10\" >2.261889</td>\n",
       "      <td id=\"T_6592f_row3_col11\" class=\"data row3 col11\" >1.996380</td>\n",
       "      <td id=\"T_6592f_row3_col12\" class=\"data row3 col12\" >1.819649</td>\n",
       "    </tr>\n",
       "    <tr>\n",
       "      <th id=\"T_6592f_level0_row4\" class=\"row_heading level0 row4\" >4</th>\n",
       "      <td id=\"T_6592f_row4_col0\" class=\"data row4 col0\" >-5.819992</td>\n",
       "      <td id=\"T_6592f_row4_col1\" class=\"data row4 col1\" >-35.220829</td>\n",
       "      <td id=\"T_6592f_row4_col2\" class=\"data row4 col2\" >9</td>\n",
       "      <td id=\"T_6592f_row4_col3\" class=\"data row4 col3\" >0.555556</td>\n",
       "      <td id=\"T_6592f_row4_col4\" class=\"data row4 col4\" >→</td>\n",
       "      <td id=\"T_6592f_row4_col5\" class=\"data row4 col5\" >-5.819992</td>\n",
       "      <td id=\"T_6592f_row4_col6\" class=\"data row4 col6\" >-35.220829</td>\n",
       "      <td id=\"T_6592f_row4_col7\" class=\"data row4 col7\" >8</td>\n",
       "      <td id=\"T_6592f_row4_col8\" class=\"data row4 col8\" >0.555556</td>\n",
       "      <td id=\"T_6592f_row4_col9\" class=\"data row4 col9\" > </td>\n",
       "      <td id=\"T_6592f_row4_col10\" class=\"data row4 col10\" >2.499195</td>\n",
       "      <td id=\"T_6592f_row4_col11\" class=\"data row4 col11\" >2.400486</td>\n",
       "      <td id=\"T_6592f_row4_col12\" class=\"data row4 col12\" >2.565020</td>\n",
       "    </tr>\n",
       "    <tr>\n",
       "      <th id=\"T_6592f_level0_row5\" class=\"row_heading level0 row5\" >5</th>\n",
       "      <td id=\"T_6592f_row5_col0\" class=\"data row5 col0\" >-5.819974</td>\n",
       "      <td id=\"T_6592f_row5_col1\" class=\"data row5 col1\" >-35.220824</td>\n",
       "      <td id=\"T_6592f_row5_col2\" class=\"data row5 col2\" >12</td>\n",
       "      <td id=\"T_6592f_row5_col3\" class=\"data row5 col3\" >0.833333</td>\n",
       "      <td id=\"T_6592f_row5_col4\" class=\"data row5 col4\" >→</td>\n",
       "      <td id=\"T_6592f_row5_col5\" class=\"data row5 col5\" >-5.819974</td>\n",
       "      <td id=\"T_6592f_row5_col6\" class=\"data row5 col6\" >-35.220824</td>\n",
       "      <td id=\"T_6592f_row5_col7\" class=\"data row5 col7\" >10</td>\n",
       "      <td id=\"T_6592f_row5_col8\" class=\"data row5 col8\" >0.555556</td>\n",
       "      <td id=\"T_6592f_row5_col9\" class=\"data row5 col9\" > </td>\n",
       "      <td id=\"T_6592f_row5_col10\" class=\"data row5 col10\" >2.606089</td>\n",
       "      <td id=\"T_6592f_row5_col11\" class=\"data row5 col11\" >2.400486</td>\n",
       "      <td id=\"T_6592f_row5_col12\" class=\"data row5 col12\" >2.400486</td>\n",
       "    </tr>\n",
       "    <tr>\n",
       "      <th id=\"T_6592f_level0_row6\" class=\"row_heading level0 row6\" >6</th>\n",
       "      <td id=\"T_6592f_row6_col0\" class=\"data row6 col0\" >-5.819944</td>\n",
       "      <td id=\"T_6592f_row6_col1\" class=\"data row6 col1\" >-35.220823</td>\n",
       "      <td id=\"T_6592f_row6_col2\" class=\"data row6 col2\" >15</td>\n",
       "      <td id=\"T_6592f_row6_col3\" class=\"data row6 col3\" >0.833333</td>\n",
       "      <td id=\"T_6592f_row6_col4\" class=\"data row6 col4\" >→</td>\n",
       "      <td id=\"T_6592f_row6_col5\" class=\"data row6 col5\" >-5.819944</td>\n",
       "      <td id=\"T_6592f_row6_col6\" class=\"data row6 col6\" >-35.220823</td>\n",
       "      <td id=\"T_6592f_row6_col7\" class=\"data row6 col7\" >12</td>\n",
       "      <td id=\"T_6592f_row6_col8\" class=\"data row6 col8\" >0.555556</td>\n",
       "      <td id=\"T_6592f_row6_col9\" class=\"data row6 col9\" > </td>\n",
       "      <td id=\"T_6592f_row6_col10\" class=\"data row6 col10\" >3.070012</td>\n",
       "      <td id=\"T_6592f_row6_col11\" class=\"data row6 col11\" >2.148721</td>\n",
       "      <td id=\"T_6592f_row6_col12\" class=\"data row6 col12\" >2.223305</td>\n",
       "    </tr>\n",
       "    <tr>\n",
       "      <th id=\"T_6592f_level0_row7\" class=\"row_heading level0 row7\" >7</th>\n",
       "      <td id=\"T_6592f_row7_col0\" class=\"data row7 col0\" >-5.819908</td>\n",
       "      <td id=\"T_6592f_row7_col1\" class=\"data row7 col1\" >-35.220810</td>\n",
       "      <td id=\"T_6592f_row7_col2\" class=\"data row7 col2\" >18</td>\n",
       "      <td id=\"T_6592f_row7_col3\" class=\"data row7 col3\" >0.833333</td>\n",
       "      <td id=\"T_6592f_row7_col4\" class=\"data row7 col4\" >→</td>\n",
       "      <td id=\"T_6592f_row7_col5\" class=\"data row7 col5\" >-5.819908</td>\n",
       "      <td id=\"T_6592f_row7_col6\" class=\"data row7 col6\" >-35.220810</td>\n",
       "      <td id=\"T_6592f_row7_col7\" class=\"data row7 col7\" >14</td>\n",
       "      <td id=\"T_6592f_row7_col8\" class=\"data row7 col8\" >0.555556</td>\n",
       "      <td id=\"T_6592f_row7_col9\" class=\"data row7 col9\" > </td>\n",
       "      <td id=\"T_6592f_row7_col10\" class=\"data row7 col10\" >2.445747</td>\n",
       "      <td id=\"T_6592f_row7_col11\" class=\"data row7 col11\" >1.470940</td>\n",
       "      <td id=\"T_6592f_row7_col12\" class=\"data row7 col12\" >2.016075</td>\n",
       "    </tr>\n",
       "    <tr>\n",
       "      <th id=\"T_6592f_level0_row8\" class=\"row_heading level0 row8\" >8</th>\n",
       "      <td id=\"T_6592f_row8_col0\" class=\"data row8 col0\" >-5.819866</td>\n",
       "      <td id=\"T_6592f_row8_col1\" class=\"data row8 col1\" >-35.220794</td>\n",
       "      <td id=\"T_6592f_row8_col2\" class=\"data row8 col2\" >18</td>\n",
       "      <td id=\"T_6592f_row8_col3\" class=\"data row8 col3\" >0.000000</td>\n",
       "      <td id=\"T_6592f_row8_col4\" class=\"data row8 col4\" >→</td>\n",
       "      <td id=\"T_6592f_row8_col5\" class=\"data row8 col5\" >-5.819866</td>\n",
       "      <td id=\"T_6592f_row8_col6\" class=\"data row8 col6\" >-35.220794</td>\n",
       "      <td id=\"T_6592f_row8_col7\" class=\"data row8 col7\" >16</td>\n",
       "      <td id=\"T_6592f_row8_col8\" class=\"data row8 col8\" >0.555556</td>\n",
       "      <td id=\"T_6592f_row8_col9\" class=\"data row8 col9\" > </td>\n",
       "      <td id=\"T_6592f_row8_col10\" class=\"data row8 col10\" >1.073221</td>\n",
       "      <td id=\"T_6592f_row8_col11\" class=\"data row8 col11\" >1.588029</td>\n",
       "      <td id=\"T_6592f_row8_col12\" class=\"data row8 col12\" >1.625817</td>\n",
       "    </tr>\n",
       "    <tr>\n",
       "      <th id=\"T_6592f_level0_row9\" class=\"row_heading level0 row9\" >9</th>\n",
       "      <td id=\"T_6592f_row9_col0\" class=\"data row9 col0\" >-5.819821</td>\n",
       "      <td id=\"T_6592f_row9_col1\" class=\"data row9 col1\" >-35.220775</td>\n",
       "      <td id=\"T_6592f_row9_col2\" class=\"data row9 col2\" >16</td>\n",
       "      <td id=\"T_6592f_row9_col3\" class=\"data row9 col3\" >-0.555556</td>\n",
       "      <td id=\"T_6592f_row9_col4\" class=\"data row9 col4\" >→</td>\n",
       "      <td id=\"T_6592f_row9_col5\" class=\"data row9 col5\" >-5.819821</td>\n",
       "      <td id=\"T_6592f_row9_col6\" class=\"data row9 col6\" >-35.220775</td>\n",
       "      <td id=\"T_6592f_row9_col7\" class=\"data row9 col7\" >18</td>\n",
       "      <td id=\"T_6592f_row9_col8\" class=\"data row9 col8\" >0.555556</td>\n",
       "      <td id=\"T_6592f_row9_col9\" class=\"data row9 col9\" > </td>\n",
       "      <td id=\"T_6592f_row9_col10\" class=\"data row9 col10\" >0.562265</td>\n",
       "      <td id=\"T_6592f_row9_col11\" class=\"data row9 col11\" >1.085921</td>\n",
       "      <td id=\"T_6592f_row9_col12\" class=\"data row9 col12\" >1.588437</td>\n",
       "    </tr>\n",
       "  </tbody>\n",
       "</table>\n"
      ],
      "text/plain": [
       "<pandas.io.formats.style.Styler at 0x1bd8c10d810>"
      ]
     },
     "metadata": {},
     "output_type": "display_data"
    },
    {
     "data": {
      "application/vnd.plotly.v1+json": {
       "config": {
        "plotlyServerURL": "https://plot.ly"
       },
       "data": [
        {
         "line": {
          "color": "green",
          "dash": "dot"
         },
         "mode": "lines",
         "name": "Real",
         "type": "scatter",
         "y": {
          "bdata": "fgFSsvAK8D+A9UFnuTbwP+sFLaeytQBAlHGRLVkYAkBCucXSWf4DQEt9dVtF2QRAqBJmS2KPCEA+120O5JADQCN/TinqK/E/+as09BP+4T+aTWFMs5viP5pNYUyzm+I/XDzytNji+j+dNUG2RPMCQCiGK0XJLgZAUV/NH7tGBUCt9L0P2PwIQMoh0PdM4gZALUmGV/HwAUC7e8iq65kFQJWKBjqL2QZAPtdtDuSQA0A+120O5JADQD/LXcOsvPM/G9QTrTAS5T+dNUG2RPPiPz7XbQ7kkOM/PtdtDuSQ4z+N38u90b/qPypPDv0M2/E/XDzytNjiCkCoDN6lRqUIQKgM3qVGpQhA8yxc66J8D0BuxFHGr5gMQIjedkcOpwVAJ4Cjn61EBkBRX80fu0YFQLWf+IuRFgVAtZ/4i5EWBUBZCgicdGDxP1JTvdSDcvU/1NlvNQHp9z+u1cBdilHkP67VwF2KUeQ/oGcrz6h17D9QRlgTiYXwP5J9oXiQ7PE/kn2heJDs8T/DRQDZ8l7mP79dIG9hB+Y/v10gb2EH5j+/XSBvYQfmP2LnLDGS/OY/sOIlH4U+6T/qekRTCmDuP6BnK8+odew/mWxe/gBHB0CpJVOyeGYNQIFGKTJrZA5AgUYpMmtkDkDqCPF5wKoQQNfm1Pb71QxA1+bU9vvVDEDDRQDZ8l7mP8A4mxf4ceE/+as09BP+4T9i5ywxkvzmP2LnLDGS/OY/QeTSz9596D9B5NLP3n3oPzJEUyiZH+c/MkRTKJkf5z95fPEDZJ/tP3l88QNkn+0/2trEq8QB7T8Lfp60vd7sP9by5EEzquw/LlxzvgfI5j8uXHO+B8jmP79dIG9hB+Y/idJm/NbS5T/DRQDZ8l7mP/jQuUt9k+Y/+NC5S32T5j8g7t0vJuzuPwt+nrS93uw/nH9LZRce7D9q3HFcHkHsP2rccVweQew/H7zzFsJp5T8fvPMWwmnlP/jQuUt9k+Y/LlxzvgfI5j8uXHO+B8jmPy5cc74HyOY/atxxXB5B7D9q3HFcHkHsPwt+nrS93uw/1vLkQTOq7D8=",
          "dtype": "f8"
         }
        },
        {
         "line": {
          "color": "blue",
          "dash": "dash"
         },
         "mode": "lines",
         "name": "Predição Original",
         "type": "scatter",
         "y": {
          "bdata": "nyhPnflO9z9gHHYQcETwP58oT535Tvc/NcYJ3ivx/z/H027bMTQDQMfTbtsxNANAW6JizpQwAUDSiMQk+Ij3P/2q4seQaPk/ZH6eRe5f8T9BGZ5ZmvD3PzitkrX97Pg/sjPog+dN+z+SSuHot2oCQJww0qNNLgNA8cQEdVL2B0A1HTGC8yUFQJ1s4cie0QVAPEfMwV4IAkA8R8zBXggCQF2Pwwd46AFAbpuVTxN2+j/IvXHXsBP6P0OwSlf+P/c/2pPnoDIS6T+hOYU4eCfuPxp0K9BUbOo/ThQjZ9o8AEBABo/x9pL3P3F+mAxJHfY/vjt97VxcAkC1xmrF5DgDQOa6Z/pAWAZAUonaDz/zBED9aMiraIEDQPruFYWieANA+u4VhaJ4A0CoKE294o/7Pxk9jtecgfw/S7H7xD8A/j92WkFYmFz2P7S5Onx/Bvo/RX1rWH4i8z/oY5hva434P1TJv1Fh2es/2F3p5aM27D+RtiC+vPzzP6NexDxw2fI/XyhyWTnN9D+DFQQ4srDxP7jtWJ1vMew/uO1YnW8x7D+47VidbzHsP7jtWJ1vMew/uO1YnW8x7D+47VidbzHsP7jtWJ1vMew/uO1YnW8x7D8nAD+TNLUCQNaKcWWMugZA0Uv5KVIhCEA+8WTkUCIIQPi+a1e0Yw5Ayp9UILRhDkDaMTNkxTIBQMaASEASVe8/28WzSFf/7z9COf9b/WfwPxW/p/5ScP0/VZWNuaJb6j9o0D7Y66zqP2jQPtjrrOo/aNA+2Ous6j9o0D7Y66zqP2jQPtjrrOo/aNA+2Ous6j9o0D7Y66zqP2jQPtjrrOo/aNA+2Ous6j9o0D7Y66zqP2jQPtjrrOo/aNA+2Ous6j9o0D7Y66zqP2jQPtjrrOo/aNA+2Ous6j9o0D7Y66zqP2jQPtjrrOo/aNA+2Ous6j9o0D7Y66zqP2jQPtjrrOo/aNA+2Ous6j9o0D7Y66zqP2jQPtjrrOo/aNA+2Ous6j9o0D7Y66zqP2jQPtjrrOo/aNA+2Ous6j9o0D7Y66zqP2jQPtjrrOo/aNA+2Ous6j8=",
          "dtype": "f8"
         }
        },
        {
         "line": {
          "color": "red"
         },
         "mode": "lines",
         "name": "Predição com RM",
         "type": "scatter",
         "y": {
          "bdata": "C4erBLXh7j/0gYsADnPzP58oT535Tvc/5cZFH0gd/T+hEGxgKYUEQMfTbtsxNANAZjcaPVTJAUD9J/eq6yAAQAXr/I5YA/o/T8h7NT1q+T+yS3d/doT3P0YiDRKJsv4/pnBRNRbT/z/68FCCqpL/P7THdUYvs/w/taAIbJ3u/j/XyAfwdcoAQLLbpq6lXwBAVTpcr3rYA0ABX618u74EQJlCCY+UNQdAZg77wg5OBEB5WOzHp4wEQDa5VJRiuQJAit9hGDrcAECHuk+FnWj7P+z9ROfASQVA5s6Bax18CED20SoIpNcPQIS5l3aWzQ9AkQebA6bZEEBBR0zItmcRQBc7KakD2hJAUTJNFQWsD0C92k/EFLsOQPHUxwjnhghAQdmY+qANDEDHfXHAS8YCQHtQQlBefwZAoKTAjLu1A0AT2CUxdEEBQBPYJTF0QQFAE9glMXRBAUAT2CUxdEEBQPbco7zzhQhA9tyjvPOFCECWmaweIVYLQNUC73KGhApA1QLvcoaECkDVAu9yhoQKQNUC73KGhApA1QLvcoaECkDVAu9yhoQKQNUC73KGhApA1QLvcoaECkDVAu9yhoQKQNUC73KGhApA1QLvcoaECkDjRHlXpEETQONEeVekQRNARBBYrXGqE0BEEFitcaoTQEQQWK1xqhNARBBYrXGqE0BnAzDPI00RQJIU5t8WmhFAkhTm3xaaEUCSFObfFpoRQJIU5t8WmhFAkhTm3xaaEUCSFObfFpoRQJIU5t8WmhFAkhTm3xaaEUCSFObfFpoRQJIU5t8WmhFAkhTm3xaaEUCSFObfFpoRQJIU5t8WmhFAkhTm3xaaEUCSFObfFpoRQJIU5t8WmhFAkhTm3xaaEUCSFObfFpoRQJIU5t8WmhFAkhTm3xaaEUCSFObfFpoRQJIU5t8WmhFAkhTm3xaaEUCSFObfFpoRQJIU5t8WmhFAkhTm3xaaEUCSFObfFpoRQJIU5t8WmhFAkhTm3xaaEUCSFObfFpoRQJIU5t8WmhFAkhTm3xaaEUCSFObfFpoRQJIU5t8WmhFAkhTm3xaaEUA=",
          "dtype": "f8"
         }
        }
       ],
       "layout": {
        "template": {
         "data": {
          "bar": [
           {
            "error_x": {
             "color": "#2a3f5f"
            },
            "error_y": {
             "color": "#2a3f5f"
            },
            "marker": {
             "line": {
              "color": "white",
              "width": 0.5
             },
             "pattern": {
              "fillmode": "overlay",
              "size": 10,
              "solidity": 0.2
             }
            },
            "type": "bar"
           }
          ],
          "barpolar": [
           {
            "marker": {
             "line": {
              "color": "white",
              "width": 0.5
             },
             "pattern": {
              "fillmode": "overlay",
              "size": 10,
              "solidity": 0.2
             }
            },
            "type": "barpolar"
           }
          ],
          "carpet": [
           {
            "aaxis": {
             "endlinecolor": "#2a3f5f",
             "gridcolor": "#C8D4E3",
             "linecolor": "#C8D4E3",
             "minorgridcolor": "#C8D4E3",
             "startlinecolor": "#2a3f5f"
            },
            "baxis": {
             "endlinecolor": "#2a3f5f",
             "gridcolor": "#C8D4E3",
             "linecolor": "#C8D4E3",
             "minorgridcolor": "#C8D4E3",
             "startlinecolor": "#2a3f5f"
            },
            "type": "carpet"
           }
          ],
          "choropleth": [
           {
            "colorbar": {
             "outlinewidth": 0,
             "ticks": ""
            },
            "type": "choropleth"
           }
          ],
          "contour": [
           {
            "colorbar": {
             "outlinewidth": 0,
             "ticks": ""
            },
            "colorscale": [
             [
              0,
              "#0d0887"
             ],
             [
              0.1111111111111111,
              "#46039f"
             ],
             [
              0.2222222222222222,
              "#7201a8"
             ],
             [
              0.3333333333333333,
              "#9c179e"
             ],
             [
              0.4444444444444444,
              "#bd3786"
             ],
             [
              0.5555555555555556,
              "#d8576b"
             ],
             [
              0.6666666666666666,
              "#ed7953"
             ],
             [
              0.7777777777777778,
              "#fb9f3a"
             ],
             [
              0.8888888888888888,
              "#fdca26"
             ],
             [
              1,
              "#f0f921"
             ]
            ],
            "type": "contour"
           }
          ],
          "contourcarpet": [
           {
            "colorbar": {
             "outlinewidth": 0,
             "ticks": ""
            },
            "type": "contourcarpet"
           }
          ],
          "heatmap": [
           {
            "colorbar": {
             "outlinewidth": 0,
             "ticks": ""
            },
            "colorscale": [
             [
              0,
              "#0d0887"
             ],
             [
              0.1111111111111111,
              "#46039f"
             ],
             [
              0.2222222222222222,
              "#7201a8"
             ],
             [
              0.3333333333333333,
              "#9c179e"
             ],
             [
              0.4444444444444444,
              "#bd3786"
             ],
             [
              0.5555555555555556,
              "#d8576b"
             ],
             [
              0.6666666666666666,
              "#ed7953"
             ],
             [
              0.7777777777777778,
              "#fb9f3a"
             ],
             [
              0.8888888888888888,
              "#fdca26"
             ],
             [
              1,
              "#f0f921"
             ]
            ],
            "type": "heatmap"
           }
          ],
          "histogram": [
           {
            "marker": {
             "pattern": {
              "fillmode": "overlay",
              "size": 10,
              "solidity": 0.2
             }
            },
            "type": "histogram"
           }
          ],
          "histogram2d": [
           {
            "colorbar": {
             "outlinewidth": 0,
             "ticks": ""
            },
            "colorscale": [
             [
              0,
              "#0d0887"
             ],
             [
              0.1111111111111111,
              "#46039f"
             ],
             [
              0.2222222222222222,
              "#7201a8"
             ],
             [
              0.3333333333333333,
              "#9c179e"
             ],
             [
              0.4444444444444444,
              "#bd3786"
             ],
             [
              0.5555555555555556,
              "#d8576b"
             ],
             [
              0.6666666666666666,
              "#ed7953"
             ],
             [
              0.7777777777777778,
              "#fb9f3a"
             ],
             [
              0.8888888888888888,
              "#fdca26"
             ],
             [
              1,
              "#f0f921"
             ]
            ],
            "type": "histogram2d"
           }
          ],
          "histogram2dcontour": [
           {
            "colorbar": {
             "outlinewidth": 0,
             "ticks": ""
            },
            "colorscale": [
             [
              0,
              "#0d0887"
             ],
             [
              0.1111111111111111,
              "#46039f"
             ],
             [
              0.2222222222222222,
              "#7201a8"
             ],
             [
              0.3333333333333333,
              "#9c179e"
             ],
             [
              0.4444444444444444,
              "#bd3786"
             ],
             [
              0.5555555555555556,
              "#d8576b"
             ],
             [
              0.6666666666666666,
              "#ed7953"
             ],
             [
              0.7777777777777778,
              "#fb9f3a"
             ],
             [
              0.8888888888888888,
              "#fdca26"
             ],
             [
              1,
              "#f0f921"
             ]
            ],
            "type": "histogram2dcontour"
           }
          ],
          "mesh3d": [
           {
            "colorbar": {
             "outlinewidth": 0,
             "ticks": ""
            },
            "type": "mesh3d"
           }
          ],
          "parcoords": [
           {
            "line": {
             "colorbar": {
              "outlinewidth": 0,
              "ticks": ""
             }
            },
            "type": "parcoords"
           }
          ],
          "pie": [
           {
            "automargin": true,
            "type": "pie"
           }
          ],
          "scatter": [
           {
            "fillpattern": {
             "fillmode": "overlay",
             "size": 10,
             "solidity": 0.2
            },
            "type": "scatter"
           }
          ],
          "scatter3d": [
           {
            "line": {
             "colorbar": {
              "outlinewidth": 0,
              "ticks": ""
             }
            },
            "marker": {
             "colorbar": {
              "outlinewidth": 0,
              "ticks": ""
             }
            },
            "type": "scatter3d"
           }
          ],
          "scattercarpet": [
           {
            "marker": {
             "colorbar": {
              "outlinewidth": 0,
              "ticks": ""
             }
            },
            "type": "scattercarpet"
           }
          ],
          "scattergeo": [
           {
            "marker": {
             "colorbar": {
              "outlinewidth": 0,
              "ticks": ""
             }
            },
            "type": "scattergeo"
           }
          ],
          "scattergl": [
           {
            "marker": {
             "colorbar": {
              "outlinewidth": 0,
              "ticks": ""
             }
            },
            "type": "scattergl"
           }
          ],
          "scattermap": [
           {
            "marker": {
             "colorbar": {
              "outlinewidth": 0,
              "ticks": ""
             }
            },
            "type": "scattermap"
           }
          ],
          "scattermapbox": [
           {
            "marker": {
             "colorbar": {
              "outlinewidth": 0,
              "ticks": ""
             }
            },
            "type": "scattermapbox"
           }
          ],
          "scatterpolar": [
           {
            "marker": {
             "colorbar": {
              "outlinewidth": 0,
              "ticks": ""
             }
            },
            "type": "scatterpolar"
           }
          ],
          "scatterpolargl": [
           {
            "marker": {
             "colorbar": {
              "outlinewidth": 0,
              "ticks": ""
             }
            },
            "type": "scatterpolargl"
           }
          ],
          "scatterternary": [
           {
            "marker": {
             "colorbar": {
              "outlinewidth": 0,
              "ticks": ""
             }
            },
            "type": "scatterternary"
           }
          ],
          "surface": [
           {
            "colorbar": {
             "outlinewidth": 0,
             "ticks": ""
            },
            "colorscale": [
             [
              0,
              "#0d0887"
             ],
             [
              0.1111111111111111,
              "#46039f"
             ],
             [
              0.2222222222222222,
              "#7201a8"
             ],
             [
              0.3333333333333333,
              "#9c179e"
             ],
             [
              0.4444444444444444,
              "#bd3786"
             ],
             [
              0.5555555555555556,
              "#d8576b"
             ],
             [
              0.6666666666666666,
              "#ed7953"
             ],
             [
              0.7777777777777778,
              "#fb9f3a"
             ],
             [
              0.8888888888888888,
              "#fdca26"
             ],
             [
              1,
              "#f0f921"
             ]
            ],
            "type": "surface"
           }
          ],
          "table": [
           {
            "cells": {
             "fill": {
              "color": "#EBF0F8"
             },
             "line": {
              "color": "white"
             }
            },
            "header": {
             "fill": {
              "color": "#C8D4E3"
             },
             "line": {
              "color": "white"
             }
            },
            "type": "table"
           }
          ]
         },
         "layout": {
          "annotationdefaults": {
           "arrowcolor": "#2a3f5f",
           "arrowhead": 0,
           "arrowwidth": 1
          },
          "autotypenumbers": "strict",
          "coloraxis": {
           "colorbar": {
            "outlinewidth": 0,
            "ticks": ""
           }
          },
          "colorscale": {
           "diverging": [
            [
             0,
             "#8e0152"
            ],
            [
             0.1,
             "#c51b7d"
            ],
            [
             0.2,
             "#de77ae"
            ],
            [
             0.3,
             "#f1b6da"
            ],
            [
             0.4,
             "#fde0ef"
            ],
            [
             0.5,
             "#f7f7f7"
            ],
            [
             0.6,
             "#e6f5d0"
            ],
            [
             0.7,
             "#b8e186"
            ],
            [
             0.8,
             "#7fbc41"
            ],
            [
             0.9,
             "#4d9221"
            ],
            [
             1,
             "#276419"
            ]
           ],
           "sequential": [
            [
             0,
             "#0d0887"
            ],
            [
             0.1111111111111111,
             "#46039f"
            ],
            [
             0.2222222222222222,
             "#7201a8"
            ],
            [
             0.3333333333333333,
             "#9c179e"
            ],
            [
             0.4444444444444444,
             "#bd3786"
            ],
            [
             0.5555555555555556,
             "#d8576b"
            ],
            [
             0.6666666666666666,
             "#ed7953"
            ],
            [
             0.7777777777777778,
             "#fb9f3a"
            ],
            [
             0.8888888888888888,
             "#fdca26"
            ],
            [
             1,
             "#f0f921"
            ]
           ],
           "sequentialminus": [
            [
             0,
             "#0d0887"
            ],
            [
             0.1111111111111111,
             "#46039f"
            ],
            [
             0.2222222222222222,
             "#7201a8"
            ],
            [
             0.3333333333333333,
             "#9c179e"
            ],
            [
             0.4444444444444444,
             "#bd3786"
            ],
            [
             0.5555555555555556,
             "#d8576b"
            ],
            [
             0.6666666666666666,
             "#ed7953"
            ],
            [
             0.7777777777777778,
             "#fb9f3a"
            ],
            [
             0.8888888888888888,
             "#fdca26"
            ],
            [
             1,
             "#f0f921"
            ]
           ]
          },
          "colorway": [
           "#636efa",
           "#EF553B",
           "#00cc96",
           "#ab63fa",
           "#FFA15A",
           "#19d3f3",
           "#FF6692",
           "#B6E880",
           "#FF97FF",
           "#FECB52"
          ],
          "font": {
           "color": "#2a3f5f"
          },
          "geo": {
           "bgcolor": "white",
           "lakecolor": "white",
           "landcolor": "white",
           "showlakes": true,
           "showland": true,
           "subunitcolor": "#C8D4E3"
          },
          "hoverlabel": {
           "align": "left"
          },
          "hovermode": "closest",
          "mapbox": {
           "style": "light"
          },
          "paper_bgcolor": "white",
          "plot_bgcolor": "white",
          "polar": {
           "angularaxis": {
            "gridcolor": "#EBF0F8",
            "linecolor": "#EBF0F8",
            "ticks": ""
           },
           "bgcolor": "white",
           "radialaxis": {
            "gridcolor": "#EBF0F8",
            "linecolor": "#EBF0F8",
            "ticks": ""
           }
          },
          "scene": {
           "xaxis": {
            "backgroundcolor": "white",
            "gridcolor": "#DFE8F3",
            "gridwidth": 2,
            "linecolor": "#EBF0F8",
            "showbackground": true,
            "ticks": "",
            "zerolinecolor": "#EBF0F8"
           },
           "yaxis": {
            "backgroundcolor": "white",
            "gridcolor": "#DFE8F3",
            "gridwidth": 2,
            "linecolor": "#EBF0F8",
            "showbackground": true,
            "ticks": "",
            "zerolinecolor": "#EBF0F8"
           },
           "zaxis": {
            "backgroundcolor": "white",
            "gridcolor": "#DFE8F3",
            "gridwidth": 2,
            "linecolor": "#EBF0F8",
            "showbackground": true,
            "ticks": "",
            "zerolinecolor": "#EBF0F8"
           }
          },
          "shapedefaults": {
           "line": {
            "color": "#2a3f5f"
           }
          },
          "ternary": {
           "aaxis": {
            "gridcolor": "#DFE8F3",
            "linecolor": "#A2B1C6",
            "ticks": ""
           },
           "baxis": {
            "gridcolor": "#DFE8F3",
            "linecolor": "#A2B1C6",
            "ticks": ""
           },
           "bgcolor": "white",
           "caxis": {
            "gridcolor": "#DFE8F3",
            "linecolor": "#A2B1C6",
            "ticks": ""
           }
          },
          "title": {
           "x": 0.05
          },
          "xaxis": {
           "automargin": true,
           "gridcolor": "#EBF0F8",
           "linecolor": "#EBF0F8",
           "ticks": "",
           "title": {
            "standoff": 15
           },
           "zerolinecolor": "#EBF0F8",
           "zerolinewidth": 2
          },
          "yaxis": {
           "automargin": true,
           "gridcolor": "#EBF0F8",
           "linecolor": "#EBF0F8",
           "ticks": "",
           "title": {
            "standoff": 15
           },
           "zerolinecolor": "#EBF0F8",
           "zerolinewidth": 2
          }
         }
        },
        "title": {
         "text": "Comparação CO₂ - Caso de teste: RM8 - Velocidade crescente linearmente (2 km/h por ponto) - GASOLINE",
         "x": 0.5
        },
        "xaxis": {
         "title": {
          "text": "Amostras"
         }
        },
        "yaxis": {
         "title": {
          "text": "CO₂ (g/s)"
         }
        }
       }
      }
     },
     "metadata": {},
     "output_type": "display_data"
    },
    {
     "name": "stdout",
     "output_type": "stream",
     "text": [
      "\n",
      "🔁 Caso de teste: RM9 - Latitude e Longitude constantes (ETHANOL)\n",
      "Diferença Média: 0.3162 | Diferença Máxima: 2.3747 | Erro Quadrático Médio (RMSE): 0.5145 | Desvio Padrão (Std): 0.4059\n"
     ]
    },
    {
     "data": {
      "text/html": [
       "<style type=\"text/css\">\n",
       "</style>\n",
       "<table id=\"T_97ca4\">\n",
       "  <caption>Comparação dos dados originais e modificados - Caso de teste: RM9 - Latitude e Longitude constantes (ETHANOL)</caption>\n",
       "  <thead>\n",
       "    <tr>\n",
       "      <th class=\"blank level0\" >&nbsp;</th>\n",
       "      <th id=\"T_97ca4_level0_col0\" class=\"col_heading level0 col0\" >Latitude_Orig</th>\n",
       "      <th id=\"T_97ca4_level0_col1\" class=\"col_heading level0 col1\" >Longitude_Orig</th>\n",
       "      <th id=\"T_97ca4_level0_col2\" class=\"col_heading level0 col2\" >Speed(OBD)(km/h)_Orig</th>\n",
       "      <th id=\"T_97ca4_level0_col3\" class=\"col_heading level0 col3\" >Acceleration_Orig</th>\n",
       "      <th id=\"T_97ca4_level0_col4\" class=\"col_heading level0 col4\" > </th>\n",
       "      <th id=\"T_97ca4_level0_col5\" class=\"col_heading level0 col5\" >Latitude_Mod</th>\n",
       "      <th id=\"T_97ca4_level0_col6\" class=\"col_heading level0 col6\" >Longitude_Mod</th>\n",
       "      <th id=\"T_97ca4_level0_col7\" class=\"col_heading level0 col7\" >Speed(OBD)(km/h)_Mod</th>\n",
       "      <th id=\"T_97ca4_level0_col8\" class=\"col_heading level0 col8\" >Acceleration_Mod</th>\n",
       "      <th id=\"T_97ca4_level0_col9\" class=\"col_heading level0 col9\" > </th>\n",
       "      <th id=\"T_97ca4_level0_col10\" class=\"col_heading level0 col10\" >CO₂_Real</th>\n",
       "      <th id=\"T_97ca4_level0_col11\" class=\"col_heading level0 col11\" >CO₂_Orig</th>\n",
       "      <th id=\"T_97ca4_level0_col12\" class=\"col_heading level0 col12\" >CO₂_Mod</th>\n",
       "    </tr>\n",
       "  </thead>\n",
       "  <tbody>\n",
       "    <tr>\n",
       "      <th id=\"T_97ca4_level0_row0\" class=\"row_heading level0 row0\" >0</th>\n",
       "      <td id=\"T_97ca4_row0_col0\" class=\"data row0 col0\" >-5.820105</td>\n",
       "      <td id=\"T_97ca4_row0_col1\" class=\"data row0 col1\" >-35.220818</td>\n",
       "      <td id=\"T_97ca4_row0_col2\" class=\"data row0 col2\" >3</td>\n",
       "      <td id=\"T_97ca4_row0_col3\" class=\"data row0 col3\" >0.000000</td>\n",
       "      <td id=\"T_97ca4_row0_col4\" class=\"data row0 col4\" >→</td>\n",
       "      <td id=\"T_97ca4_row0_col5\" class=\"data row0 col5\" >-5.809027</td>\n",
       "      <td id=\"T_97ca4_row0_col6\" class=\"data row0 col6\" >-35.207955</td>\n",
       "      <td id=\"T_97ca4_row0_col7\" class=\"data row0 col7\" >3</td>\n",
       "      <td id=\"T_97ca4_row0_col8\" class=\"data row0 col8\" >0.000000</td>\n",
       "      <td id=\"T_97ca4_row0_col9\" class=\"data row0 col9\" > </td>\n",
       "      <td id=\"T_97ca4_row0_col10\" class=\"data row0 col10\" >0.642839</td>\n",
       "      <td id=\"T_97ca4_row0_col11\" class=\"data row0 col11\" >0.742631</td>\n",
       "      <td id=\"T_97ca4_row0_col12\" class=\"data row0 col12\" >0.781108</td>\n",
       "    </tr>\n",
       "    <tr>\n",
       "      <th id=\"T_97ca4_level0_row1\" class=\"row_heading level0 row1\" >1</th>\n",
       "      <td id=\"T_97ca4_row1_col0\" class=\"data row1 col0\" >-5.820103</td>\n",
       "      <td id=\"T_97ca4_row1_col1\" class=\"data row1 col1\" >-35.220828</td>\n",
       "      <td id=\"T_97ca4_row1_col2\" class=\"data row1 col2\" >5</td>\n",
       "      <td id=\"T_97ca4_row1_col3\" class=\"data row1 col3\" >0.555556</td>\n",
       "      <td id=\"T_97ca4_row1_col4\" class=\"data row1 col4\" >→</td>\n",
       "      <td id=\"T_97ca4_row1_col5\" class=\"data row1 col5\" >-5.809027</td>\n",
       "      <td id=\"T_97ca4_row1_col6\" class=\"data row1 col6\" >-35.207955</td>\n",
       "      <td id=\"T_97ca4_row1_col7\" class=\"data row1 col7\" >5</td>\n",
       "      <td id=\"T_97ca4_row1_col8\" class=\"data row1 col8\" >0.555556</td>\n",
       "      <td id=\"T_97ca4_row1_col9\" class=\"data row1 col9\" > </td>\n",
       "      <td id=\"T_97ca4_row1_col10\" class=\"data row1 col10\" >0.653249</td>\n",
       "      <td id=\"T_97ca4_row1_col11\" class=\"data row1 col11\" >0.771505</td>\n",
       "      <td id=\"T_97ca4_row1_col12\" class=\"data row1 col12\" >1.122664</td>\n",
       "    </tr>\n",
       "    <tr>\n",
       "      <th id=\"T_97ca4_level0_row2\" class=\"row_heading level0 row2\" >2</th>\n",
       "      <td id=\"T_97ca4_row2_col0\" class=\"data row2 col0\" >-5.820102</td>\n",
       "      <td id=\"T_97ca4_row2_col1\" class=\"data row2 col1\" >-35.220838</td>\n",
       "      <td id=\"T_97ca4_row2_col2\" class=\"data row2 col2\" >5</td>\n",
       "      <td id=\"T_97ca4_row2_col3\" class=\"data row2 col3\" >0.000000</td>\n",
       "      <td id=\"T_97ca4_row2_col4\" class=\"data row2 col4\" >→</td>\n",
       "      <td id=\"T_97ca4_row2_col5\" class=\"data row2 col5\" >-5.809027</td>\n",
       "      <td id=\"T_97ca4_row2_col6\" class=\"data row2 col6\" >-35.207955</td>\n",
       "      <td id=\"T_97ca4_row2_col7\" class=\"data row2 col7\" >5</td>\n",
       "      <td id=\"T_97ca4_row2_col8\" class=\"data row2 col8\" >0.000000</td>\n",
       "      <td id=\"T_97ca4_row2_col9\" class=\"data row2 col9\" > </td>\n",
       "      <td id=\"T_97ca4_row2_col10\" class=\"data row2 col10\" >0.653249</td>\n",
       "      <td id=\"T_97ca4_row2_col11\" class=\"data row2 col11\" >0.771505</td>\n",
       "      <td id=\"T_97ca4_row2_col12\" class=\"data row2 col12\" >1.122664</td>\n",
       "    </tr>\n",
       "    <tr>\n",
       "      <th id=\"T_97ca4_level0_row3\" class=\"row_heading level0 row3\" >3</th>\n",
       "      <td id=\"T_97ca4_row3_col0\" class=\"data row3 col0\" >-5.820096</td>\n",
       "      <td id=\"T_97ca4_row3_col1\" class=\"data row3 col1\" >-35.220843</td>\n",
       "      <td id=\"T_97ca4_row3_col2\" class=\"data row3 col2\" >3</td>\n",
       "      <td id=\"T_97ca4_row3_col3\" class=\"data row3 col3\" >-0.555556</td>\n",
       "      <td id=\"T_97ca4_row3_col4\" class=\"data row3 col4\" >→</td>\n",
       "      <td id=\"T_97ca4_row3_col5\" class=\"data row3 col5\" >-5.809027</td>\n",
       "      <td id=\"T_97ca4_row3_col6\" class=\"data row3 col6\" >-35.207955</td>\n",
       "      <td id=\"T_97ca4_row3_col7\" class=\"data row3 col7\" >3</td>\n",
       "      <td id=\"T_97ca4_row3_col8\" class=\"data row3 col8\" >-0.555556</td>\n",
       "      <td id=\"T_97ca4_row3_col9\" class=\"data row3 col9\" > </td>\n",
       "      <td id=\"T_97ca4_row3_col10\" class=\"data row3 col10\" >0.679275</td>\n",
       "      <td id=\"T_97ca4_row3_col11\" class=\"data row3 col11\" >0.659013</td>\n",
       "      <td id=\"T_97ca4_row3_col12\" class=\"data row3 col12\" >0.546691</td>\n",
       "    </tr>\n",
       "    <tr>\n",
       "      <th id=\"T_97ca4_level0_row4\" class=\"row_heading level0 row4\" >4</th>\n",
       "      <td id=\"T_97ca4_row4_col0\" class=\"data row4 col0\" >-5.820091</td>\n",
       "      <td id=\"T_97ca4_row4_col1\" class=\"data row4 col1\" >-35.220850</td>\n",
       "      <td id=\"T_97ca4_row4_col2\" class=\"data row4 col2\" >0</td>\n",
       "      <td id=\"T_97ca4_row4_col3\" class=\"data row4 col3\" >-0.833333</td>\n",
       "      <td id=\"T_97ca4_row4_col4\" class=\"data row4 col4\" >→</td>\n",
       "      <td id=\"T_97ca4_row4_col5\" class=\"data row4 col5\" >-5.809027</td>\n",
       "      <td id=\"T_97ca4_row4_col6\" class=\"data row4 col6\" >-35.207955</td>\n",
       "      <td id=\"T_97ca4_row4_col7\" class=\"data row4 col7\" >0</td>\n",
       "      <td id=\"T_97ca4_row4_col8\" class=\"data row4 col8\" >-0.833333</td>\n",
       "      <td id=\"T_97ca4_row4_col9\" class=\"data row4 col9\" > </td>\n",
       "      <td id=\"T_97ca4_row4_col10\" class=\"data row4 col10\" >0.610306</td>\n",
       "      <td id=\"T_97ca4_row4_col11\" class=\"data row4 col11\" >0.667689</td>\n",
       "      <td id=\"T_97ca4_row4_col12\" class=\"data row4 col12\" >0.462394</td>\n",
       "    </tr>\n",
       "    <tr>\n",
       "      <th id=\"T_97ca4_level0_row5\" class=\"row_heading level0 row5\" >5</th>\n",
       "      <td id=\"T_97ca4_row5_col0\" class=\"data row5 col0\" >-5.820091</td>\n",
       "      <td id=\"T_97ca4_row5_col1\" class=\"data row5 col1\" >-35.220850</td>\n",
       "      <td id=\"T_97ca4_row5_col2\" class=\"data row5 col2\" >0</td>\n",
       "      <td id=\"T_97ca4_row5_col3\" class=\"data row5 col3\" >0.000000</td>\n",
       "      <td id=\"T_97ca4_row5_col4\" class=\"data row5 col4\" >→</td>\n",
       "      <td id=\"T_97ca4_row5_col5\" class=\"data row5 col5\" >-5.809027</td>\n",
       "      <td id=\"T_97ca4_row5_col6\" class=\"data row5 col6\" >-35.207955</td>\n",
       "      <td id=\"T_97ca4_row5_col7\" class=\"data row5 col7\" >0</td>\n",
       "      <td id=\"T_97ca4_row5_col8\" class=\"data row5 col8\" >0.000000</td>\n",
       "      <td id=\"T_97ca4_row5_col9\" class=\"data row5 col9\" > </td>\n",
       "      <td id=\"T_97ca4_row5_col10\" class=\"data row5 col10\" >0.610306</td>\n",
       "      <td id=\"T_97ca4_row5_col11\" class=\"data row5 col11\" >0.706858</td>\n",
       "      <td id=\"T_97ca4_row5_col12\" class=\"data row5 col12\" >0.461814</td>\n",
       "    </tr>\n",
       "    <tr>\n",
       "      <th id=\"T_97ca4_level0_row6\" class=\"row_heading level0 row6\" >6</th>\n",
       "      <td id=\"T_97ca4_row6_col0\" class=\"data row6 col0\" >-5.820091</td>\n",
       "      <td id=\"T_97ca4_row6_col1\" class=\"data row6 col1\" >-35.220850</td>\n",
       "      <td id=\"T_97ca4_row6_col2\" class=\"data row6 col2\" >0</td>\n",
       "      <td id=\"T_97ca4_row6_col3\" class=\"data row6 col3\" >0.000000</td>\n",
       "      <td id=\"T_97ca4_row6_col4\" class=\"data row6 col4\" >→</td>\n",
       "      <td id=\"T_97ca4_row6_col5\" class=\"data row6 col5\" >-5.809027</td>\n",
       "      <td id=\"T_97ca4_row6_col6\" class=\"data row6 col6\" >-35.207955</td>\n",
       "      <td id=\"T_97ca4_row6_col7\" class=\"data row6 col7\" >0</td>\n",
       "      <td id=\"T_97ca4_row6_col8\" class=\"data row6 col8\" >0.000000</td>\n",
       "      <td id=\"T_97ca4_row6_col9\" class=\"data row6 col9\" > </td>\n",
       "      <td id=\"T_97ca4_row6_col10\" class=\"data row6 col10\" >0.490587</td>\n",
       "      <td id=\"T_97ca4_row6_col11\" class=\"data row6 col11\" >0.706858</td>\n",
       "      <td id=\"T_97ca4_row6_col12\" class=\"data row6 col12\" >0.461814</td>\n",
       "    </tr>\n",
       "    <tr>\n",
       "      <th id=\"T_97ca4_level0_row7\" class=\"row_heading level0 row7\" >7</th>\n",
       "      <td id=\"T_97ca4_row7_col0\" class=\"data row7 col0\" >-5.820085</td>\n",
       "      <td id=\"T_97ca4_row7_col1\" class=\"data row7 col1\" >-35.220856</td>\n",
       "      <td id=\"T_97ca4_row7_col2\" class=\"data row7 col2\" >3</td>\n",
       "      <td id=\"T_97ca4_row7_col3\" class=\"data row7 col3\" >0.833333</td>\n",
       "      <td id=\"T_97ca4_row7_col4\" class=\"data row7 col4\" >→</td>\n",
       "      <td id=\"T_97ca4_row7_col5\" class=\"data row7 col5\" >-5.809027</td>\n",
       "      <td id=\"T_97ca4_row7_col6\" class=\"data row7 col6\" >-35.207955</td>\n",
       "      <td id=\"T_97ca4_row7_col7\" class=\"data row7 col7\" >3</td>\n",
       "      <td id=\"T_97ca4_row7_col8\" class=\"data row7 col8\" >0.833333</td>\n",
       "      <td id=\"T_97ca4_row7_col9\" class=\"data row7 col9\" > </td>\n",
       "      <td id=\"T_97ca4_row7_col10\" class=\"data row7 col10\" >1.090483</td>\n",
       "      <td id=\"T_97ca4_row7_col11\" class=\"data row7 col11\" >1.137803</td>\n",
       "      <td id=\"T_97ca4_row7_col12\" class=\"data row7 col12\" >0.781108</td>\n",
       "    </tr>\n",
       "    <tr>\n",
       "      <th id=\"T_97ca4_level0_row8\" class=\"row_heading level0 row8\" >8</th>\n",
       "      <td id=\"T_97ca4_row8_col0\" class=\"data row8 col0\" >-5.820074</td>\n",
       "      <td id=\"T_97ca4_row8_col1\" class=\"data row8 col1\" >-35.220859</td>\n",
       "      <td id=\"T_97ca4_row8_col2\" class=\"data row8 col2\" >3</td>\n",
       "      <td id=\"T_97ca4_row8_col3\" class=\"data row8 col3\" >0.000000</td>\n",
       "      <td id=\"T_97ca4_row8_col4\" class=\"data row8 col4\" >→</td>\n",
       "      <td id=\"T_97ca4_row8_col5\" class=\"data row8 col5\" >-5.809027</td>\n",
       "      <td id=\"T_97ca4_row8_col6\" class=\"data row8 col6\" >-35.207955</td>\n",
       "      <td id=\"T_97ca4_row8_col7\" class=\"data row8 col7\" >3</td>\n",
       "      <td id=\"T_97ca4_row8_col8\" class=\"data row8 col8\" >0.000000</td>\n",
       "      <td id=\"T_97ca4_row8_col9\" class=\"data row8 col9\" > </td>\n",
       "      <td id=\"T_97ca4_row8_col10\" class=\"data row8 col10\" >1.090483</td>\n",
       "      <td id=\"T_97ca4_row8_col11\" class=\"data row8 col11\" >1.137803</td>\n",
       "      <td id=\"T_97ca4_row8_col12\" class=\"data row8 col12\" >0.781108</td>\n",
       "    </tr>\n",
       "    <tr>\n",
       "      <th id=\"T_97ca4_level0_row9\" class=\"row_heading level0 row9\" >9</th>\n",
       "      <td id=\"T_97ca4_row9_col0\" class=\"data row9 col0\" >-5.820064</td>\n",
       "      <td id=\"T_97ca4_row9_col1\" class=\"data row9 col1\" >-35.220858</td>\n",
       "      <td id=\"T_97ca4_row9_col2\" class=\"data row9 col2\" >3</td>\n",
       "      <td id=\"T_97ca4_row9_col3\" class=\"data row9 col3\" >0.000000</td>\n",
       "      <td id=\"T_97ca4_row9_col4\" class=\"data row9 col4\" >→</td>\n",
       "      <td id=\"T_97ca4_row9_col5\" class=\"data row9 col5\" >-5.809027</td>\n",
       "      <td id=\"T_97ca4_row9_col6\" class=\"data row9 col6\" >-35.207955</td>\n",
       "      <td id=\"T_97ca4_row9_col7\" class=\"data row9 col7\" >3</td>\n",
       "      <td id=\"T_97ca4_row9_col8\" class=\"data row9 col8\" >0.000000</td>\n",
       "      <td id=\"T_97ca4_row9_col9\" class=\"data row9 col9\" > </td>\n",
       "      <td id=\"T_97ca4_row9_col10\" class=\"data row9 col10\" >0.921315</td>\n",
       "      <td id=\"T_97ca4_row9_col11\" class=\"data row9 col11\" >1.137803</td>\n",
       "      <td id=\"T_97ca4_row9_col12\" class=\"data row9 col12\" >0.781108</td>\n",
       "    </tr>\n",
       "  </tbody>\n",
       "</table>\n"
      ],
      "text/plain": [
       "<pandas.io.formats.style.Styler at 0x1bd8c1ee310>"
      ]
     },
     "metadata": {},
     "output_type": "display_data"
    },
    {
     "data": {
      "application/vnd.plotly.v1+json": {
       "config": {
        "plotlyServerURL": "https://plot.ly"
       },
       "data": [
        {
         "line": {
          "color": "green",
          "dash": "dot"
         },
         "mode": "lines",
         "name": "Real",
         "type": "scatter",
         "y": {
          "bdata": "Xv2WDSKS5D+bk2QeaufkP5uTZB5q5+Q/NotmSJ685T/ehxTZoIfjP96HFNmgh+M/M5CwL8hl3z/dnA9wnnLxP92cD3CecvE/T3ASz2l77T+UX3iidnLyPz8yMAV+Z/Q/PzIwBX5n9D8ti7UITBb8PzhhcBqj5vk/KSOOULfS8D8pI45Qt9LwP7us/CApG+8/cjYv8OP84z+t9vIuJyjgP6328i4nKOA/geLz0z/39T+rgxXuOvLzP6uDFe468vM/mb1aTGW9AEB0UCWuXTcFQJNSfcM51QFAk1J9wznVAUDU4Eocwdz0P40G4N+x0N0/MaWrxsVQ3T+Gb8fSpWfjP4Zvx9KlZ+M/RJASr2yy4j+u4feXKT3iPxtsE+QD5v0/G2wT5APm/T9xVW+Vh+D+P/WBu/ZpMek/9YG79mkx6T8EcmzGOjzYP6VZboDtdf4/WOugB2mlAEBY66AHaaUAQFcs1yJHEfo/jF/HYiTM+D+vRCQpQjH6P69EJClCMfo/IlLOZdxR9j8U6vVt9WfxP9L1RbO+x/I/0vVFs77H8j9JPCZTdgbrPy3PofTAJtk/Lc+h9MAm2T83dmuxoNHXP5m9WkxlveA/wxqQeuun4T/DGpB666fhPy5sdWOoMgFAN3ZrsaDRB0CTtalUUskJQJO1qVRSyQlAUQXmhZA5CECzrwGybRkJQLOvAbJtGQlAadNRH3liAkDxyvHJCOv/P/HK8ckI6/8/ZYpqDIgCAkDcITJ38e4HQFhbyHe+Nvk/WFvId742+T+BiQxRzfvaP+KMDwAd1/Y/4owPAB3X9j9nuVth/yfxP4GJDFHN+9o/VyzXIkcR2j9XLNciRxHKPzhhcBqj5sk/mb1aTGW90D+rqr6oeQbiPxTJ619+uOE/cloUOF8j9z+cBUVJAVwCQO7F9qKMm/w/7sX2ooyb/D8XwP8/+pH1Py66pl3DO9s/YtOg3ya82D8GXXEvPVHKPwZdcS89Uco/3P87AbdmyT8zkLAvyGXPPxdp8ttk2OI/F2ny22TY4j/s9fsW3vTiP/4o4Wa23vY/g+DZ9mxa+z8=",
          "dtype": "f8"
         }
        },
        {
         "line": {
          "color": "blue",
          "dash": "dash"
         },
         "mode": "lines",
         "name": "Predição Original",
         "type": "scatter",
         "y": {
          "bdata": "A1nGMaLD5z/rGxZ+K7DoP+sbFn4rsOg/ZNKEuKEW5T8gJJx1tV3lP1qolBeUnuY/WqiUF5Se5j8vN5pfcTTyPy83ml9xNPI/LzeaX3E08j8LUj4DVmv0P2cHXp66ovQ/lajUrwhy8z8ERxYOSyj4P0gf5HQeCfI/if7LZHnq7z8XHaiiCV3vP6Btm6JJmew/vGW1En/65z9MP1pTWq7wP/J2f86FGvA/Rx/yOxHc8D9HH/I7EdzwP0cf8jsR3PA/Wi2PK9ct9T99iPbmwzv1P+s7h6uSvvI/jlifB2hB+z/KAreWPx7tP2CGcv2h3+w/DE1YhnUh4z+r91rqETzvPzST+4nO/eQ/tcGbWjP25j8r0X6ZskrsPzXVexnn+PI/jsX9rHxr8z+YODlE2Q7zPxrw1xsMw+0/6+G9lxVx7T+VLCu5vQ3pP5kI65KAuvA/xV7vM9nJ8j+3rXXsTRn+P7nipTU15fQ/Ahig1qK48j97HMyYL2j0P61VsDSbgfU/gKXeX7rt9D8lL/FG5m/yP1D9sJ1ASPI/ONgUq37H8z/SblJX33btP6Pvp4KhC+M/A1unplDL5j/tVn03pGviP09EUKldGOg/RjLkVnwe6D+bSQJT7m7oP/kNtZK+Z+k/BO79CuHa9z9uhs6rFD4AQDSsx4gppPs/JoJSHH6Y9j8b5eo1rb34P7wp1TtfOgFA605wkeGE9z+CQHPA6Nf7P96W8dRj7vo/77f/lcKE+T8/0HaFb3j5P0ixId0VM/o/2QaTrAQF9T89ims167HjP+Roiw7ssfA/N+aifBlj8D+LMRVBlGrvP6CylwUtpOE/UCAMIn9U4D86TWpu5ebtP5PEfPDbnN0/8ql5Nfn/4D83OrmjNxvhP9ETGcqqqOg/TEBpKYVw9j/5y4EaW9T4P6g7DuceO/U/scgFb/N/8D+73vRQdeXuP5DaSmyYQ+A/1hTHV/j+2j9wnnVfpazbPzJoid+r2eU/KlRdoNof2z8xuA2DPjffP3qotC6cE+Y/eqi0LpwT5j96qLQunBPmPwHia4Ko5fc/29W9hKHm9z8=",
          "dtype": "f8"
         }
        },
        {
         "line": {
          "color": "red"
         },
         "mode": "lines",
         "name": "Predição com RM",
         "type": "scatter",
         "y": {
          "bdata": "CdlCN9b+6D8Ww1b+bvbxPxbDVv5u9vE/qTpIC39+4T/9aUp+3pfdP9B5Qplajt0/0HlCmVqO3T8J2UI31v7oPwnZQjfW/ug/CdlCN9b+6D/kyqcvYwHpP+TKpy9jAek/RRIoyjwr5D9YzBQlu1jsP4Td8B9sOuk/R7sKqgSn7T9HuwqqBKftP0e7CqoEp+0/gOsr0Q+N5j93xrNNat/uP6X0nub93+M/cLOGfKaM6z9ws4Z8pozrP3CzhnymjOs/RrIa4tle6T9yvnG4XW7lP9sM4k92tuI/wRLJsNlz6T/hI39iTADsP9xNU9tcfes/nS2rrVK73j8eM4OoqufoPzQuvMljeuM/gNXPLa4n5T+JvEtWUuTiP4X5U05e2+4/8Vs3b6cF5T/aWwsX92PpPykCa2Hv/+8//v4oG48A7z+JvEtWUuTiP4X5U05e2+4/hN3wH2w66T9HuwqqBKftPwKQykxCUOQ/jffXDSGh4j8eM4OoqufoP+KTw49oy+4/DrBfH2k77j+IX+tXmxfsP9l8x9I+lOs/2XzH0j6U6z/ZfMfSPpTrP5MJBCT7K+E/3E1T21x96z+KUKIXzFfhP4m8S1ZS5OI/Hlr/7XvJ6j8Ww1b+bvbxP0Y3cbgiLew/CaHFeV4a7D9A92Q0P47uP8wc3QSWJ+c/jffXDSGh4j/BqiPDU8nnP9l8x9I+lOs/du8RuCca3z+rudmYQ7PlP972sNerbuY/gQPX/oL55D/I5p6FSRbjP/uct7t3KuI/ZqNGBdCt3z+Tf6umrPraP/LnAo3G2OE/8ucCjcbY4T/UVmpL6SjiP5N/q6as+to/MqjGP/F12z9WBI8qqXXoPzdrqZOZYOE/kwkEJPsr4T+dLautUrvePx4zg6iq5+g/HjODqKrn6D/ik8OPaMvuP6vAhnc3ZeQ/VgSPKql16D/HBqjXCcDfPx41MonA5t0/9M0KaNLt4T8bSpenyTfbP3+Nlh+KF+o/BGc9Z9XG3j83pzEFxiLmP0D3ZDQ/ju4/QPdkND+O7j9A92Q0P47uPxnxrVHcaO4/R7sKqgSn7T8=",
          "dtype": "f8"
         }
        }
       ],
       "layout": {
        "template": {
         "data": {
          "bar": [
           {
            "error_x": {
             "color": "#2a3f5f"
            },
            "error_y": {
             "color": "#2a3f5f"
            },
            "marker": {
             "line": {
              "color": "white",
              "width": 0.5
             },
             "pattern": {
              "fillmode": "overlay",
              "size": 10,
              "solidity": 0.2
             }
            },
            "type": "bar"
           }
          ],
          "barpolar": [
           {
            "marker": {
             "line": {
              "color": "white",
              "width": 0.5
             },
             "pattern": {
              "fillmode": "overlay",
              "size": 10,
              "solidity": 0.2
             }
            },
            "type": "barpolar"
           }
          ],
          "carpet": [
           {
            "aaxis": {
             "endlinecolor": "#2a3f5f",
             "gridcolor": "#C8D4E3",
             "linecolor": "#C8D4E3",
             "minorgridcolor": "#C8D4E3",
             "startlinecolor": "#2a3f5f"
            },
            "baxis": {
             "endlinecolor": "#2a3f5f",
             "gridcolor": "#C8D4E3",
             "linecolor": "#C8D4E3",
             "minorgridcolor": "#C8D4E3",
             "startlinecolor": "#2a3f5f"
            },
            "type": "carpet"
           }
          ],
          "choropleth": [
           {
            "colorbar": {
             "outlinewidth": 0,
             "ticks": ""
            },
            "type": "choropleth"
           }
          ],
          "contour": [
           {
            "colorbar": {
             "outlinewidth": 0,
             "ticks": ""
            },
            "colorscale": [
             [
              0,
              "#0d0887"
             ],
             [
              0.1111111111111111,
              "#46039f"
             ],
             [
              0.2222222222222222,
              "#7201a8"
             ],
             [
              0.3333333333333333,
              "#9c179e"
             ],
             [
              0.4444444444444444,
              "#bd3786"
             ],
             [
              0.5555555555555556,
              "#d8576b"
             ],
             [
              0.6666666666666666,
              "#ed7953"
             ],
             [
              0.7777777777777778,
              "#fb9f3a"
             ],
             [
              0.8888888888888888,
              "#fdca26"
             ],
             [
              1,
              "#f0f921"
             ]
            ],
            "type": "contour"
           }
          ],
          "contourcarpet": [
           {
            "colorbar": {
             "outlinewidth": 0,
             "ticks": ""
            },
            "type": "contourcarpet"
           }
          ],
          "heatmap": [
           {
            "colorbar": {
             "outlinewidth": 0,
             "ticks": ""
            },
            "colorscale": [
             [
              0,
              "#0d0887"
             ],
             [
              0.1111111111111111,
              "#46039f"
             ],
             [
              0.2222222222222222,
              "#7201a8"
             ],
             [
              0.3333333333333333,
              "#9c179e"
             ],
             [
              0.4444444444444444,
              "#bd3786"
             ],
             [
              0.5555555555555556,
              "#d8576b"
             ],
             [
              0.6666666666666666,
              "#ed7953"
             ],
             [
              0.7777777777777778,
              "#fb9f3a"
             ],
             [
              0.8888888888888888,
              "#fdca26"
             ],
             [
              1,
              "#f0f921"
             ]
            ],
            "type": "heatmap"
           }
          ],
          "histogram": [
           {
            "marker": {
             "pattern": {
              "fillmode": "overlay",
              "size": 10,
              "solidity": 0.2
             }
            },
            "type": "histogram"
           }
          ],
          "histogram2d": [
           {
            "colorbar": {
             "outlinewidth": 0,
             "ticks": ""
            },
            "colorscale": [
             [
              0,
              "#0d0887"
             ],
             [
              0.1111111111111111,
              "#46039f"
             ],
             [
              0.2222222222222222,
              "#7201a8"
             ],
             [
              0.3333333333333333,
              "#9c179e"
             ],
             [
              0.4444444444444444,
              "#bd3786"
             ],
             [
              0.5555555555555556,
              "#d8576b"
             ],
             [
              0.6666666666666666,
              "#ed7953"
             ],
             [
              0.7777777777777778,
              "#fb9f3a"
             ],
             [
              0.8888888888888888,
              "#fdca26"
             ],
             [
              1,
              "#f0f921"
             ]
            ],
            "type": "histogram2d"
           }
          ],
          "histogram2dcontour": [
           {
            "colorbar": {
             "outlinewidth": 0,
             "ticks": ""
            },
            "colorscale": [
             [
              0,
              "#0d0887"
             ],
             [
              0.1111111111111111,
              "#46039f"
             ],
             [
              0.2222222222222222,
              "#7201a8"
             ],
             [
              0.3333333333333333,
              "#9c179e"
             ],
             [
              0.4444444444444444,
              "#bd3786"
             ],
             [
              0.5555555555555556,
              "#d8576b"
             ],
             [
              0.6666666666666666,
              "#ed7953"
             ],
             [
              0.7777777777777778,
              "#fb9f3a"
             ],
             [
              0.8888888888888888,
              "#fdca26"
             ],
             [
              1,
              "#f0f921"
             ]
            ],
            "type": "histogram2dcontour"
           }
          ],
          "mesh3d": [
           {
            "colorbar": {
             "outlinewidth": 0,
             "ticks": ""
            },
            "type": "mesh3d"
           }
          ],
          "parcoords": [
           {
            "line": {
             "colorbar": {
              "outlinewidth": 0,
              "ticks": ""
             }
            },
            "type": "parcoords"
           }
          ],
          "pie": [
           {
            "automargin": true,
            "type": "pie"
           }
          ],
          "scatter": [
           {
            "fillpattern": {
             "fillmode": "overlay",
             "size": 10,
             "solidity": 0.2
            },
            "type": "scatter"
           }
          ],
          "scatter3d": [
           {
            "line": {
             "colorbar": {
              "outlinewidth": 0,
              "ticks": ""
             }
            },
            "marker": {
             "colorbar": {
              "outlinewidth": 0,
              "ticks": ""
             }
            },
            "type": "scatter3d"
           }
          ],
          "scattercarpet": [
           {
            "marker": {
             "colorbar": {
              "outlinewidth": 0,
              "ticks": ""
             }
            },
            "type": "scattercarpet"
           }
          ],
          "scattergeo": [
           {
            "marker": {
             "colorbar": {
              "outlinewidth": 0,
              "ticks": ""
             }
            },
            "type": "scattergeo"
           }
          ],
          "scattergl": [
           {
            "marker": {
             "colorbar": {
              "outlinewidth": 0,
              "ticks": ""
             }
            },
            "type": "scattergl"
           }
          ],
          "scattermap": [
           {
            "marker": {
             "colorbar": {
              "outlinewidth": 0,
              "ticks": ""
             }
            },
            "type": "scattermap"
           }
          ],
          "scattermapbox": [
           {
            "marker": {
             "colorbar": {
              "outlinewidth": 0,
              "ticks": ""
             }
            },
            "type": "scattermapbox"
           }
          ],
          "scatterpolar": [
           {
            "marker": {
             "colorbar": {
              "outlinewidth": 0,
              "ticks": ""
             }
            },
            "type": "scatterpolar"
           }
          ],
          "scatterpolargl": [
           {
            "marker": {
             "colorbar": {
              "outlinewidth": 0,
              "ticks": ""
             }
            },
            "type": "scatterpolargl"
           }
          ],
          "scatterternary": [
           {
            "marker": {
             "colorbar": {
              "outlinewidth": 0,
              "ticks": ""
             }
            },
            "type": "scatterternary"
           }
          ],
          "surface": [
           {
            "colorbar": {
             "outlinewidth": 0,
             "ticks": ""
            },
            "colorscale": [
             [
              0,
              "#0d0887"
             ],
             [
              0.1111111111111111,
              "#46039f"
             ],
             [
              0.2222222222222222,
              "#7201a8"
             ],
             [
              0.3333333333333333,
              "#9c179e"
             ],
             [
              0.4444444444444444,
              "#bd3786"
             ],
             [
              0.5555555555555556,
              "#d8576b"
             ],
             [
              0.6666666666666666,
              "#ed7953"
             ],
             [
              0.7777777777777778,
              "#fb9f3a"
             ],
             [
              0.8888888888888888,
              "#fdca26"
             ],
             [
              1,
              "#f0f921"
             ]
            ],
            "type": "surface"
           }
          ],
          "table": [
           {
            "cells": {
             "fill": {
              "color": "#EBF0F8"
             },
             "line": {
              "color": "white"
             }
            },
            "header": {
             "fill": {
              "color": "#C8D4E3"
             },
             "line": {
              "color": "white"
             }
            },
            "type": "table"
           }
          ]
         },
         "layout": {
          "annotationdefaults": {
           "arrowcolor": "#2a3f5f",
           "arrowhead": 0,
           "arrowwidth": 1
          },
          "autotypenumbers": "strict",
          "coloraxis": {
           "colorbar": {
            "outlinewidth": 0,
            "ticks": ""
           }
          },
          "colorscale": {
           "diverging": [
            [
             0,
             "#8e0152"
            ],
            [
             0.1,
             "#c51b7d"
            ],
            [
             0.2,
             "#de77ae"
            ],
            [
             0.3,
             "#f1b6da"
            ],
            [
             0.4,
             "#fde0ef"
            ],
            [
             0.5,
             "#f7f7f7"
            ],
            [
             0.6,
             "#e6f5d0"
            ],
            [
             0.7,
             "#b8e186"
            ],
            [
             0.8,
             "#7fbc41"
            ],
            [
             0.9,
             "#4d9221"
            ],
            [
             1,
             "#276419"
            ]
           ],
           "sequential": [
            [
             0,
             "#0d0887"
            ],
            [
             0.1111111111111111,
             "#46039f"
            ],
            [
             0.2222222222222222,
             "#7201a8"
            ],
            [
             0.3333333333333333,
             "#9c179e"
            ],
            [
             0.4444444444444444,
             "#bd3786"
            ],
            [
             0.5555555555555556,
             "#d8576b"
            ],
            [
             0.6666666666666666,
             "#ed7953"
            ],
            [
             0.7777777777777778,
             "#fb9f3a"
            ],
            [
             0.8888888888888888,
             "#fdca26"
            ],
            [
             1,
             "#f0f921"
            ]
           ],
           "sequentialminus": [
            [
             0,
             "#0d0887"
            ],
            [
             0.1111111111111111,
             "#46039f"
            ],
            [
             0.2222222222222222,
             "#7201a8"
            ],
            [
             0.3333333333333333,
             "#9c179e"
            ],
            [
             0.4444444444444444,
             "#bd3786"
            ],
            [
             0.5555555555555556,
             "#d8576b"
            ],
            [
             0.6666666666666666,
             "#ed7953"
            ],
            [
             0.7777777777777778,
             "#fb9f3a"
            ],
            [
             0.8888888888888888,
             "#fdca26"
            ],
            [
             1,
             "#f0f921"
            ]
           ]
          },
          "colorway": [
           "#636efa",
           "#EF553B",
           "#00cc96",
           "#ab63fa",
           "#FFA15A",
           "#19d3f3",
           "#FF6692",
           "#B6E880",
           "#FF97FF",
           "#FECB52"
          ],
          "font": {
           "color": "#2a3f5f"
          },
          "geo": {
           "bgcolor": "white",
           "lakecolor": "white",
           "landcolor": "white",
           "showlakes": true,
           "showland": true,
           "subunitcolor": "#C8D4E3"
          },
          "hoverlabel": {
           "align": "left"
          },
          "hovermode": "closest",
          "mapbox": {
           "style": "light"
          },
          "paper_bgcolor": "white",
          "plot_bgcolor": "white",
          "polar": {
           "angularaxis": {
            "gridcolor": "#EBF0F8",
            "linecolor": "#EBF0F8",
            "ticks": ""
           },
           "bgcolor": "white",
           "radialaxis": {
            "gridcolor": "#EBF0F8",
            "linecolor": "#EBF0F8",
            "ticks": ""
           }
          },
          "scene": {
           "xaxis": {
            "backgroundcolor": "white",
            "gridcolor": "#DFE8F3",
            "gridwidth": 2,
            "linecolor": "#EBF0F8",
            "showbackground": true,
            "ticks": "",
            "zerolinecolor": "#EBF0F8"
           },
           "yaxis": {
            "backgroundcolor": "white",
            "gridcolor": "#DFE8F3",
            "gridwidth": 2,
            "linecolor": "#EBF0F8",
            "showbackground": true,
            "ticks": "",
            "zerolinecolor": "#EBF0F8"
           },
           "zaxis": {
            "backgroundcolor": "white",
            "gridcolor": "#DFE8F3",
            "gridwidth": 2,
            "linecolor": "#EBF0F8",
            "showbackground": true,
            "ticks": "",
            "zerolinecolor": "#EBF0F8"
           }
          },
          "shapedefaults": {
           "line": {
            "color": "#2a3f5f"
           }
          },
          "ternary": {
           "aaxis": {
            "gridcolor": "#DFE8F3",
            "linecolor": "#A2B1C6",
            "ticks": ""
           },
           "baxis": {
            "gridcolor": "#DFE8F3",
            "linecolor": "#A2B1C6",
            "ticks": ""
           },
           "bgcolor": "white",
           "caxis": {
            "gridcolor": "#DFE8F3",
            "linecolor": "#A2B1C6",
            "ticks": ""
           }
          },
          "title": {
           "x": 0.05
          },
          "xaxis": {
           "automargin": true,
           "gridcolor": "#EBF0F8",
           "linecolor": "#EBF0F8",
           "ticks": "",
           "title": {
            "standoff": 15
           },
           "zerolinecolor": "#EBF0F8",
           "zerolinewidth": 2
          },
          "yaxis": {
           "automargin": true,
           "gridcolor": "#EBF0F8",
           "linecolor": "#EBF0F8",
           "ticks": "",
           "title": {
            "standoff": 15
           },
           "zerolinecolor": "#EBF0F8",
           "zerolinewidth": 2
          }
         }
        },
        "title": {
         "text": "Comparação CO₂ - Caso de teste: RM9 - Latitude e Longitude constantes - ETHANOL",
         "x": 0.5
        },
        "xaxis": {
         "title": {
          "text": "Amostras"
         }
        },
        "yaxis": {
         "title": {
          "text": "CO₂ (g/s)"
         }
        }
       }
      }
     },
     "metadata": {},
     "output_type": "display_data"
    },
    {
     "name": "stdout",
     "output_type": "stream",
     "text": [
      "\n",
      "🔁 Caso de teste: RM9 - Latitude e Longitude constantes (GASOLINE)\n",
      "Diferença Média: 0.3598 | Diferença Máxima: 2.6722 | Erro Quadrático Médio (RMSE): 0.5582 | Desvio Padrão (Std): 0.4267\n"
     ]
    },
    {
     "data": {
      "text/html": [
       "<style type=\"text/css\">\n",
       "</style>\n",
       "<table id=\"T_53697\">\n",
       "  <caption>Comparação dos dados originais e modificados - Caso de teste: RM9 - Latitude e Longitude constantes (GASOLINE)</caption>\n",
       "  <thead>\n",
       "    <tr>\n",
       "      <th class=\"blank level0\" >&nbsp;</th>\n",
       "      <th id=\"T_53697_level0_col0\" class=\"col_heading level0 col0\" >Latitude_Orig</th>\n",
       "      <th id=\"T_53697_level0_col1\" class=\"col_heading level0 col1\" >Longitude_Orig</th>\n",
       "      <th id=\"T_53697_level0_col2\" class=\"col_heading level0 col2\" >Speed(OBD)(km/h)_Orig</th>\n",
       "      <th id=\"T_53697_level0_col3\" class=\"col_heading level0 col3\" >Acceleration_Orig</th>\n",
       "      <th id=\"T_53697_level0_col4\" class=\"col_heading level0 col4\" > </th>\n",
       "      <th id=\"T_53697_level0_col5\" class=\"col_heading level0 col5\" >Latitude_Mod</th>\n",
       "      <th id=\"T_53697_level0_col6\" class=\"col_heading level0 col6\" >Longitude_Mod</th>\n",
       "      <th id=\"T_53697_level0_col7\" class=\"col_heading level0 col7\" >Speed(OBD)(km/h)_Mod</th>\n",
       "      <th id=\"T_53697_level0_col8\" class=\"col_heading level0 col8\" >Acceleration_Mod</th>\n",
       "      <th id=\"T_53697_level0_col9\" class=\"col_heading level0 col9\" > </th>\n",
       "      <th id=\"T_53697_level0_col10\" class=\"col_heading level0 col10\" >CO₂_Real</th>\n",
       "      <th id=\"T_53697_level0_col11\" class=\"col_heading level0 col11\" >CO₂_Orig</th>\n",
       "      <th id=\"T_53697_level0_col12\" class=\"col_heading level0 col12\" >CO₂_Mod</th>\n",
       "    </tr>\n",
       "  </thead>\n",
       "  <tbody>\n",
       "    <tr>\n",
       "      <th id=\"T_53697_level0_row0\" class=\"row_heading level0 row0\" >0</th>\n",
       "      <td id=\"T_53697_row0_col0\" class=\"data row0 col0\" >-5.820010</td>\n",
       "      <td id=\"T_53697_row0_col1\" class=\"data row0 col1\" >-35.220825</td>\n",
       "      <td id=\"T_53697_row0_col2\" class=\"data row0 col2\" >5</td>\n",
       "      <td id=\"T_53697_row0_col3\" class=\"data row0 col3\" >0.000000</td>\n",
       "      <td id=\"T_53697_row0_col4\" class=\"data row0 col4\" >→</td>\n",
       "      <td id=\"T_53697_row0_col5\" class=\"data row0 col5\" >-5.812398</td>\n",
       "      <td id=\"T_53697_row0_col6\" class=\"data row0 col6\" >-35.208822</td>\n",
       "      <td id=\"T_53697_row0_col7\" class=\"data row0 col7\" >5</td>\n",
       "      <td id=\"T_53697_row0_col8\" class=\"data row0 col8\" >0.000000</td>\n",
       "      <td id=\"T_53697_row0_col9\" class=\"data row0 col9\" > </td>\n",
       "      <td id=\"T_53697_row0_col10\" class=\"data row0 col10\" >1.002671</td>\n",
       "      <td id=\"T_53697_row0_col11\" class=\"data row0 col11\" >1.456781</td>\n",
       "      <td id=\"T_53697_row0_col12\" class=\"data row0 col12\" >1.240028</td>\n",
       "    </tr>\n",
       "    <tr>\n",
       "      <th id=\"T_53697_level0_row1\" class=\"row_heading level0 row1\" >1</th>\n",
       "      <td id=\"T_53697_row1_col0\" class=\"data row1 col0\" >-5.820013</td>\n",
       "      <td id=\"T_53697_row1_col1\" class=\"data row1 col1\" >-35.220822</td>\n",
       "      <td id=\"T_53697_row1_col2\" class=\"data row1 col2\" >4</td>\n",
       "      <td id=\"T_53697_row1_col3\" class=\"data row1 col3\" >-0.277778</td>\n",
       "      <td id=\"T_53697_row1_col4\" class=\"data row1 col4\" >→</td>\n",
       "      <td id=\"T_53697_row1_col5\" class=\"data row1 col5\" >-5.812398</td>\n",
       "      <td id=\"T_53697_row1_col6\" class=\"data row1 col6\" >-35.208822</td>\n",
       "      <td id=\"T_53697_row1_col7\" class=\"data row1 col7\" >4</td>\n",
       "      <td id=\"T_53697_row1_col8\" class=\"data row1 col8\" >-0.277778</td>\n",
       "      <td id=\"T_53697_row1_col9\" class=\"data row1 col9\" > </td>\n",
       "      <td id=\"T_53697_row1_col10\" class=\"data row1 col10\" >1.013360</td>\n",
       "      <td id=\"T_53697_row1_col11\" class=\"data row1 col11\" >1.016708</td>\n",
       "      <td id=\"T_53697_row1_col12\" class=\"data row1 col12\" >0.967113</td>\n",
       "    </tr>\n",
       "    <tr>\n",
       "      <th id=\"T_53697_level0_row2\" class=\"row_heading level0 row2\" >2</th>\n",
       "      <td id=\"T_53697_row2_col0\" class=\"data row2 col0\" >-5.820016</td>\n",
       "      <td id=\"T_53697_row2_col1\" class=\"data row2 col1\" >-35.220819</td>\n",
       "      <td id=\"T_53697_row2_col2\" class=\"data row2 col2\" >5</td>\n",
       "      <td id=\"T_53697_row2_col3\" class=\"data row2 col3\" >0.277778</td>\n",
       "      <td id=\"T_53697_row2_col4\" class=\"data row2 col4\" >→</td>\n",
       "      <td id=\"T_53697_row2_col5\" class=\"data row2 col5\" >-5.812398</td>\n",
       "      <td id=\"T_53697_row2_col6\" class=\"data row2 col6\" >-35.208822</td>\n",
       "      <td id=\"T_53697_row2_col7\" class=\"data row2 col7\" >5</td>\n",
       "      <td id=\"T_53697_row2_col8\" class=\"data row2 col8\" >0.277778</td>\n",
       "      <td id=\"T_53697_row2_col9\" class=\"data row2 col9\" > </td>\n",
       "      <td id=\"T_53697_row2_col10\" class=\"data row2 col10\" >2.088720</td>\n",
       "      <td id=\"T_53697_row2_col11\" class=\"data row2 col11\" >1.456781</td>\n",
       "      <td id=\"T_53697_row2_col12\" class=\"data row2 col12\" >1.240028</td>\n",
       "    </tr>\n",
       "    <tr>\n",
       "      <th id=\"T_53697_level0_row3\" class=\"row_heading level0 row3\" >3</th>\n",
       "      <td id=\"T_53697_row3_col0\" class=\"data row3 col0\" >-5.820014</td>\n",
       "      <td id=\"T_53697_row3_col1\" class=\"data row3 col1\" >-35.220825</td>\n",
       "      <td id=\"T_53697_row3_col2\" class=\"data row3 col2\" >7</td>\n",
       "      <td id=\"T_53697_row3_col3\" class=\"data row3 col3\" >0.555556</td>\n",
       "      <td id=\"T_53697_row3_col4\" class=\"data row3 col4\" >→</td>\n",
       "      <td id=\"T_53697_row3_col5\" class=\"data row3 col5\" >-5.812398</td>\n",
       "      <td id=\"T_53697_row3_col6\" class=\"data row3 col6\" >-35.208822</td>\n",
       "      <td id=\"T_53697_row3_col7\" class=\"data row3 col7\" >7</td>\n",
       "      <td id=\"T_53697_row3_col8\" class=\"data row3 col8\" >0.555556</td>\n",
       "      <td id=\"T_53697_row3_col9\" class=\"data row3 col9\" > </td>\n",
       "      <td id=\"T_53697_row3_col10\" class=\"data row3 col10\" >2.261889</td>\n",
       "      <td id=\"T_53697_row3_col11\" class=\"data row3 col11\" >1.996380</td>\n",
       "      <td id=\"T_53697_row3_col12\" class=\"data row3 col12\" >1.515614</td>\n",
       "    </tr>\n",
       "    <tr>\n",
       "      <th id=\"T_53697_level0_row4\" class=\"row_heading level0 row4\" >4</th>\n",
       "      <td id=\"T_53697_row4_col0\" class=\"data row4 col0\" >-5.819992</td>\n",
       "      <td id=\"T_53697_row4_col1\" class=\"data row4 col1\" >-35.220829</td>\n",
       "      <td id=\"T_53697_row4_col2\" class=\"data row4 col2\" >9</td>\n",
       "      <td id=\"T_53697_row4_col3\" class=\"data row4 col3\" >0.555556</td>\n",
       "      <td id=\"T_53697_row4_col4\" class=\"data row4 col4\" >→</td>\n",
       "      <td id=\"T_53697_row4_col5\" class=\"data row4 col5\" >-5.812398</td>\n",
       "      <td id=\"T_53697_row4_col6\" class=\"data row4 col6\" >-35.208822</td>\n",
       "      <td id=\"T_53697_row4_col7\" class=\"data row4 col7\" >9</td>\n",
       "      <td id=\"T_53697_row4_col8\" class=\"data row4 col8\" >0.555556</td>\n",
       "      <td id=\"T_53697_row4_col9\" class=\"data row4 col9\" > </td>\n",
       "      <td id=\"T_53697_row4_col10\" class=\"data row4 col10\" >2.499195</td>\n",
       "      <td id=\"T_53697_row4_col11\" class=\"data row4 col11\" >2.400486</td>\n",
       "      <td id=\"T_53697_row4_col12\" class=\"data row4 col12\" >1.704046</td>\n",
       "    </tr>\n",
       "    <tr>\n",
       "      <th id=\"T_53697_level0_row5\" class=\"row_heading level0 row5\" >5</th>\n",
       "      <td id=\"T_53697_row5_col0\" class=\"data row5 col0\" >-5.819974</td>\n",
       "      <td id=\"T_53697_row5_col1\" class=\"data row5 col1\" >-35.220824</td>\n",
       "      <td id=\"T_53697_row5_col2\" class=\"data row5 col2\" >12</td>\n",
       "      <td id=\"T_53697_row5_col3\" class=\"data row5 col3\" >0.833333</td>\n",
       "      <td id=\"T_53697_row5_col4\" class=\"data row5 col4\" >→</td>\n",
       "      <td id=\"T_53697_row5_col5\" class=\"data row5 col5\" >-5.812398</td>\n",
       "      <td id=\"T_53697_row5_col6\" class=\"data row5 col6\" >-35.208822</td>\n",
       "      <td id=\"T_53697_row5_col7\" class=\"data row5 col7\" >12</td>\n",
       "      <td id=\"T_53697_row5_col8\" class=\"data row5 col8\" >0.833333</td>\n",
       "      <td id=\"T_53697_row5_col9\" class=\"data row5 col9\" > </td>\n",
       "      <td id=\"T_53697_row5_col10\" class=\"data row5 col10\" >2.606089</td>\n",
       "      <td id=\"T_53697_row5_col11\" class=\"data row5 col11\" >2.400486</td>\n",
       "      <td id=\"T_53697_row5_col12\" class=\"data row5 col12\" >1.704046</td>\n",
       "    </tr>\n",
       "    <tr>\n",
       "      <th id=\"T_53697_level0_row6\" class=\"row_heading level0 row6\" >6</th>\n",
       "      <td id=\"T_53697_row6_col0\" class=\"data row6 col0\" >-5.819944</td>\n",
       "      <td id=\"T_53697_row6_col1\" class=\"data row6 col1\" >-35.220823</td>\n",
       "      <td id=\"T_53697_row6_col2\" class=\"data row6 col2\" >15</td>\n",
       "      <td id=\"T_53697_row6_col3\" class=\"data row6 col3\" >0.833333</td>\n",
       "      <td id=\"T_53697_row6_col4\" class=\"data row6 col4\" >→</td>\n",
       "      <td id=\"T_53697_row6_col5\" class=\"data row6 col5\" >-5.812398</td>\n",
       "      <td id=\"T_53697_row6_col6\" class=\"data row6 col6\" >-35.208822</td>\n",
       "      <td id=\"T_53697_row6_col7\" class=\"data row6 col7\" >15</td>\n",
       "      <td id=\"T_53697_row6_col8\" class=\"data row6 col8\" >0.833333</td>\n",
       "      <td id=\"T_53697_row6_col9\" class=\"data row6 col9\" > </td>\n",
       "      <td id=\"T_53697_row6_col10\" class=\"data row6 col10\" >3.070012</td>\n",
       "      <td id=\"T_53697_row6_col11\" class=\"data row6 col11\" >2.148721</td>\n",
       "      <td id=\"T_53697_row6_col12\" class=\"data row6 col12\" >1.800354</td>\n",
       "    </tr>\n",
       "    <tr>\n",
       "      <th id=\"T_53697_level0_row7\" class=\"row_heading level0 row7\" >7</th>\n",
       "      <td id=\"T_53697_row7_col0\" class=\"data row7 col0\" >-5.819908</td>\n",
       "      <td id=\"T_53697_row7_col1\" class=\"data row7 col1\" >-35.220810</td>\n",
       "      <td id=\"T_53697_row7_col2\" class=\"data row7 col2\" >18</td>\n",
       "      <td id=\"T_53697_row7_col3\" class=\"data row7 col3\" >0.833333</td>\n",
       "      <td id=\"T_53697_row7_col4\" class=\"data row7 col4\" >→</td>\n",
       "      <td id=\"T_53697_row7_col5\" class=\"data row7 col5\" >-5.812398</td>\n",
       "      <td id=\"T_53697_row7_col6\" class=\"data row7 col6\" >-35.208822</td>\n",
       "      <td id=\"T_53697_row7_col7\" class=\"data row7 col7\" >18</td>\n",
       "      <td id=\"T_53697_row7_col8\" class=\"data row7 col8\" >0.833333</td>\n",
       "      <td id=\"T_53697_row7_col9\" class=\"data row7 col9\" > </td>\n",
       "      <td id=\"T_53697_row7_col10\" class=\"data row7 col10\" >2.445747</td>\n",
       "      <td id=\"T_53697_row7_col11\" class=\"data row7 col11\" >1.470940</td>\n",
       "      <td id=\"T_53697_row7_col12\" class=\"data row7 col12\" >1.841241</td>\n",
       "    </tr>\n",
       "    <tr>\n",
       "      <th id=\"T_53697_level0_row8\" class=\"row_heading level0 row8\" >8</th>\n",
       "      <td id=\"T_53697_row8_col0\" class=\"data row8 col0\" >-5.819866</td>\n",
       "      <td id=\"T_53697_row8_col1\" class=\"data row8 col1\" >-35.220794</td>\n",
       "      <td id=\"T_53697_row8_col2\" class=\"data row8 col2\" >18</td>\n",
       "      <td id=\"T_53697_row8_col3\" class=\"data row8 col3\" >0.000000</td>\n",
       "      <td id=\"T_53697_row8_col4\" class=\"data row8 col4\" >→</td>\n",
       "      <td id=\"T_53697_row8_col5\" class=\"data row8 col5\" >-5.812398</td>\n",
       "      <td id=\"T_53697_row8_col6\" class=\"data row8 col6\" >-35.208822</td>\n",
       "      <td id=\"T_53697_row8_col7\" class=\"data row8 col7\" >18</td>\n",
       "      <td id=\"T_53697_row8_col8\" class=\"data row8 col8\" >0.000000</td>\n",
       "      <td id=\"T_53697_row8_col9\" class=\"data row8 col9\" > </td>\n",
       "      <td id=\"T_53697_row8_col10\" class=\"data row8 col10\" >1.073221</td>\n",
       "      <td id=\"T_53697_row8_col11\" class=\"data row8 col11\" >1.588029</td>\n",
       "      <td id=\"T_53697_row8_col12\" class=\"data row8 col12\" >1.826487</td>\n",
       "    </tr>\n",
       "    <tr>\n",
       "      <th id=\"T_53697_level0_row9\" class=\"row_heading level0 row9\" >9</th>\n",
       "      <td id=\"T_53697_row9_col0\" class=\"data row9 col0\" >-5.819821</td>\n",
       "      <td id=\"T_53697_row9_col1\" class=\"data row9 col1\" >-35.220775</td>\n",
       "      <td id=\"T_53697_row9_col2\" class=\"data row9 col2\" >16</td>\n",
       "      <td id=\"T_53697_row9_col3\" class=\"data row9 col3\" >-0.555556</td>\n",
       "      <td id=\"T_53697_row9_col4\" class=\"data row9 col4\" >→</td>\n",
       "      <td id=\"T_53697_row9_col5\" class=\"data row9 col5\" >-5.812398</td>\n",
       "      <td id=\"T_53697_row9_col6\" class=\"data row9 col6\" >-35.208822</td>\n",
       "      <td id=\"T_53697_row9_col7\" class=\"data row9 col7\" >16</td>\n",
       "      <td id=\"T_53697_row9_col8\" class=\"data row9 col8\" >-0.555556</td>\n",
       "      <td id=\"T_53697_row9_col9\" class=\"data row9 col9\" > </td>\n",
       "      <td id=\"T_53697_row9_col10\" class=\"data row9 col10\" >0.562265</td>\n",
       "      <td id=\"T_53697_row9_col11\" class=\"data row9 col11\" >1.085921</td>\n",
       "      <td id=\"T_53697_row9_col12\" class=\"data row9 col12\" >1.011901</td>\n",
       "    </tr>\n",
       "  </tbody>\n",
       "</table>\n"
      ],
      "text/plain": [
       "<pandas.io.formats.style.Styler at 0x1bd896a4150>"
      ]
     },
     "metadata": {},
     "output_type": "display_data"
    },
    {
     "data": {
      "application/vnd.plotly.v1+json": {
       "config": {
        "plotlyServerURL": "https://plot.ly"
       },
       "data": [
        {
         "line": {
          "color": "green",
          "dash": "dot"
         },
         "mode": "lines",
         "name": "Real",
         "type": "scatter",
         "y": {
          "bdata": "fgFSsvAK8D+A9UFnuTbwP+sFLaeytQBAlHGRLVkYAkBCucXSWf4DQEt9dVtF2QRAqBJmS2KPCEA+120O5JADQCN/TinqK/E/+as09BP+4T+aTWFMs5viP5pNYUyzm+I/XDzytNji+j+dNUG2RPMCQCiGK0XJLgZAUV/NH7tGBUCt9L0P2PwIQMoh0PdM4gZALUmGV/HwAUC7e8iq65kFQJWKBjqL2QZAPtdtDuSQA0A+120O5JADQD/LXcOsvPM/G9QTrTAS5T+dNUG2RPPiPz7XbQ7kkOM/PtdtDuSQ4z+N38u90b/qPypPDv0M2/E/XDzytNjiCkCoDN6lRqUIQKgM3qVGpQhA8yxc66J8D0BuxFHGr5gMQIjedkcOpwVAJ4Cjn61EBkBRX80fu0YFQLWf+IuRFgVAtZ/4i5EWBUBZCgicdGDxP1JTvdSDcvU/1NlvNQHp9z+u1cBdilHkP67VwF2KUeQ/oGcrz6h17D9QRlgTiYXwP5J9oXiQ7PE/kn2heJDs8T/DRQDZ8l7mP79dIG9hB+Y/v10gb2EH5j+/XSBvYQfmP2LnLDGS/OY/sOIlH4U+6T/qekRTCmDuP6BnK8+odew/mWxe/gBHB0CpJVOyeGYNQIFGKTJrZA5AgUYpMmtkDkDqCPF5wKoQQNfm1Pb71QxA1+bU9vvVDEDDRQDZ8l7mP8A4mxf4ceE/+as09BP+4T9i5ywxkvzmP2LnLDGS/OY/QeTSz9596D9B5NLP3n3oPzJEUyiZH+c/MkRTKJkf5z95fPEDZJ/tP3l88QNkn+0/2trEq8QB7T8Lfp60vd7sP9by5EEzquw/LlxzvgfI5j8uXHO+B8jmP79dIG9hB+Y/idJm/NbS5T/DRQDZ8l7mP/jQuUt9k+Y/+NC5S32T5j8g7t0vJuzuPwt+nrS93uw/nH9LZRce7D9q3HFcHkHsP2rccVweQew/H7zzFsJp5T8fvPMWwmnlP/jQuUt9k+Y/LlxzvgfI5j8uXHO+B8jmPy5cc74HyOY/atxxXB5B7D9q3HFcHkHsPwt+nrS93uw/1vLkQTOq7D8=",
          "dtype": "f8"
         }
        },
        {
         "line": {
          "color": "blue",
          "dash": "dash"
         },
         "mode": "lines",
         "name": "Predição Original",
         "type": "scatter",
         "y": {
          "bdata": "nyhPnflO9z9gHHYQcETwP58oT535Tvc/NcYJ3ivx/z/H027bMTQDQMfTbtsxNANAW6JizpQwAUDSiMQk+Ij3P/2q4seQaPk/ZH6eRe5f8T9BGZ5ZmvD3PzitkrX97Pg/sjPog+dN+z+SSuHot2oCQJww0qNNLgNA8cQEdVL2B0A1HTGC8yUFQJ1s4cie0QVAPEfMwV4IAkA8R8zBXggCQF2Pwwd46AFAbpuVTxN2+j/IvXHXsBP6P0OwSlf+P/c/2pPnoDIS6T+hOYU4eCfuPxp0K9BUbOo/ThQjZ9o8AEBABo/x9pL3P3F+mAxJHfY/vjt97VxcAkC1xmrF5DgDQOa6Z/pAWAZAUonaDz/zBED9aMiraIEDQPruFYWieANA+u4VhaJ4A0CoKE294o/7Pxk9jtecgfw/S7H7xD8A/j92WkFYmFz2P7S5Onx/Bvo/RX1rWH4i8z/oY5hva434P1TJv1Fh2es/2F3p5aM27D+RtiC+vPzzP6NexDxw2fI/XyhyWTnN9D+DFQQ4srDxP7jtWJ1vMew/uO1YnW8x7D+47VidbzHsP7jtWJ1vMew/uO1YnW8x7D+47VidbzHsP7jtWJ1vMew/uO1YnW8x7D8nAD+TNLUCQNaKcWWMugZA0Uv5KVIhCEA+8WTkUCIIQPi+a1e0Yw5Ayp9UILRhDkDaMTNkxTIBQMaASEASVe8/28WzSFf/7z9COf9b/WfwPxW/p/5ScP0/VZWNuaJb6j9o0D7Y66zqP2jQPtjrrOo/aNA+2Ous6j9o0D7Y66zqP2jQPtjrrOo/aNA+2Ous6j9o0D7Y66zqP2jQPtjrrOo/aNA+2Ous6j9o0D7Y66zqP2jQPtjrrOo/aNA+2Ous6j9o0D7Y66zqP2jQPtjrrOo/aNA+2Ous6j9o0D7Y66zqP2jQPtjrrOo/aNA+2Ous6j9o0D7Y66zqP2jQPtjrrOo/aNA+2Ous6j9o0D7Y66zqP2jQPtjrrOo/aNA+2Ous6j9o0D7Y66zqP2jQPtjrrOo/aNA+2Ous6j9o0D7Y66zqP2jQPtjrrOo/aNA+2Ous6j8=",
          "dtype": "f8"
         }
        },
        {
         "line": {
          "color": "red"
         },
         "mode": "lines",
         "name": "Predição com RM",
         "type": "scatter",
         "y": {
          "bdata": "Y8/dXSfX8z+TZB6al/LuP2PP3V0n1/M/eBuAS/Q/+D/LpQCtxUP7P8ulAK3FQ/s/EKeWGEDO/D9Pf/zkuHX9PyrlbgdKOf0/jsIvVr8w8D/26qgNJUjvP57NLTnQeO8/csrcONUF8D/LpQCtxUP7P8ulAK3FQ/s/EKeWGEDO/D/uKDb8LEH7PwAlXJ4qRv8/t2tuhdw2AEC3a26F3DYAQBkzP2vGZv4/v3e5FhAOAEDO7kagvxv/P793uRYQDgBAck9kjckg7z+MAs8UmGn0P+I+e6e1oO8/eMiCvnBj/j+lVsdsPoLsP+OMuQFhN+4/y6UArcVD+z/LpQCtxUP7P8ulAK3FQ/s/xTaOpJFT+z/hr5gvLmz8P3w9GUDVxf8/fD0ZQNXF/z96nW2M6bf+PxkzP2vGZv4/v3e5FhAOAEA+p05nGeTzP06mYuJ9JP8/PMgJP4l48j8gw4rWCXT9P+YfpolN/O8/BzxwHGMg7T8igy4MiGrwP0hFq0SkOe0/OtRH4Exd8j/FMPTPROvnPy5LaETrheg/LktoROuF6D8uS2hE64XoPy5LaETrheg/LktoROuF6D8uS2hE64XoPy5LaETrheg/LktoROuF6D+17ldla3TuP7txwEzCS/g/y6UArcVD+z/FNo6kkVP7P3pONytIov4/eMiCvnBj/j+VK7mySUH/PxwZjfTOYu4/pNHDsE6p7T+RitFt5ILuP2PP3V0n1/M/G7H0vpF75z8uS2hE64XoPy5LaETrheg/LktoROuF6D8uS2hE64XoPy5LaETrheg/LktoROuF6D8uS2hE64XoPy5LaETrheg/LktoROuF6D8uS2hE64XoPy5LaETrheg/LktoROuF6D8uS2hE64XoPy5LaETrheg/LktoROuF6D8uS2hE64XoPy5LaETrheg/LktoROuF6D8uS2hE64XoPy5LaETrheg/LktoROuF6D8uS2hE64XoPy5LaETrheg/LktoROuF6D8uS2hE64XoPy5LaETrheg/LktoROuF6D8uS2hE64XoPy5LaETrheg/LktoROuF6D8=",
          "dtype": "f8"
         }
        }
       ],
       "layout": {
        "template": {
         "data": {
          "bar": [
           {
            "error_x": {
             "color": "#2a3f5f"
            },
            "error_y": {
             "color": "#2a3f5f"
            },
            "marker": {
             "line": {
              "color": "white",
              "width": 0.5
             },
             "pattern": {
              "fillmode": "overlay",
              "size": 10,
              "solidity": 0.2
             }
            },
            "type": "bar"
           }
          ],
          "barpolar": [
           {
            "marker": {
             "line": {
              "color": "white",
              "width": 0.5
             },
             "pattern": {
              "fillmode": "overlay",
              "size": 10,
              "solidity": 0.2
             }
            },
            "type": "barpolar"
           }
          ],
          "carpet": [
           {
            "aaxis": {
             "endlinecolor": "#2a3f5f",
             "gridcolor": "#C8D4E3",
             "linecolor": "#C8D4E3",
             "minorgridcolor": "#C8D4E3",
             "startlinecolor": "#2a3f5f"
            },
            "baxis": {
             "endlinecolor": "#2a3f5f",
             "gridcolor": "#C8D4E3",
             "linecolor": "#C8D4E3",
             "minorgridcolor": "#C8D4E3",
             "startlinecolor": "#2a3f5f"
            },
            "type": "carpet"
           }
          ],
          "choropleth": [
           {
            "colorbar": {
             "outlinewidth": 0,
             "ticks": ""
            },
            "type": "choropleth"
           }
          ],
          "contour": [
           {
            "colorbar": {
             "outlinewidth": 0,
             "ticks": ""
            },
            "colorscale": [
             [
              0,
              "#0d0887"
             ],
             [
              0.1111111111111111,
              "#46039f"
             ],
             [
              0.2222222222222222,
              "#7201a8"
             ],
             [
              0.3333333333333333,
              "#9c179e"
             ],
             [
              0.4444444444444444,
              "#bd3786"
             ],
             [
              0.5555555555555556,
              "#d8576b"
             ],
             [
              0.6666666666666666,
              "#ed7953"
             ],
             [
              0.7777777777777778,
              "#fb9f3a"
             ],
             [
              0.8888888888888888,
              "#fdca26"
             ],
             [
              1,
              "#f0f921"
             ]
            ],
            "type": "contour"
           }
          ],
          "contourcarpet": [
           {
            "colorbar": {
             "outlinewidth": 0,
             "ticks": ""
            },
            "type": "contourcarpet"
           }
          ],
          "heatmap": [
           {
            "colorbar": {
             "outlinewidth": 0,
             "ticks": ""
            },
            "colorscale": [
             [
              0,
              "#0d0887"
             ],
             [
              0.1111111111111111,
              "#46039f"
             ],
             [
              0.2222222222222222,
              "#7201a8"
             ],
             [
              0.3333333333333333,
              "#9c179e"
             ],
             [
              0.4444444444444444,
              "#bd3786"
             ],
             [
              0.5555555555555556,
              "#d8576b"
             ],
             [
              0.6666666666666666,
              "#ed7953"
             ],
             [
              0.7777777777777778,
              "#fb9f3a"
             ],
             [
              0.8888888888888888,
              "#fdca26"
             ],
             [
              1,
              "#f0f921"
             ]
            ],
            "type": "heatmap"
           }
          ],
          "histogram": [
           {
            "marker": {
             "pattern": {
              "fillmode": "overlay",
              "size": 10,
              "solidity": 0.2
             }
            },
            "type": "histogram"
           }
          ],
          "histogram2d": [
           {
            "colorbar": {
             "outlinewidth": 0,
             "ticks": ""
            },
            "colorscale": [
             [
              0,
              "#0d0887"
             ],
             [
              0.1111111111111111,
              "#46039f"
             ],
             [
              0.2222222222222222,
              "#7201a8"
             ],
             [
              0.3333333333333333,
              "#9c179e"
             ],
             [
              0.4444444444444444,
              "#bd3786"
             ],
             [
              0.5555555555555556,
              "#d8576b"
             ],
             [
              0.6666666666666666,
              "#ed7953"
             ],
             [
              0.7777777777777778,
              "#fb9f3a"
             ],
             [
              0.8888888888888888,
              "#fdca26"
             ],
             [
              1,
              "#f0f921"
             ]
            ],
            "type": "histogram2d"
           }
          ],
          "histogram2dcontour": [
           {
            "colorbar": {
             "outlinewidth": 0,
             "ticks": ""
            },
            "colorscale": [
             [
              0,
              "#0d0887"
             ],
             [
              0.1111111111111111,
              "#46039f"
             ],
             [
              0.2222222222222222,
              "#7201a8"
             ],
             [
              0.3333333333333333,
              "#9c179e"
             ],
             [
              0.4444444444444444,
              "#bd3786"
             ],
             [
              0.5555555555555556,
              "#d8576b"
             ],
             [
              0.6666666666666666,
              "#ed7953"
             ],
             [
              0.7777777777777778,
              "#fb9f3a"
             ],
             [
              0.8888888888888888,
              "#fdca26"
             ],
             [
              1,
              "#f0f921"
             ]
            ],
            "type": "histogram2dcontour"
           }
          ],
          "mesh3d": [
           {
            "colorbar": {
             "outlinewidth": 0,
             "ticks": ""
            },
            "type": "mesh3d"
           }
          ],
          "parcoords": [
           {
            "line": {
             "colorbar": {
              "outlinewidth": 0,
              "ticks": ""
             }
            },
            "type": "parcoords"
           }
          ],
          "pie": [
           {
            "automargin": true,
            "type": "pie"
           }
          ],
          "scatter": [
           {
            "fillpattern": {
             "fillmode": "overlay",
             "size": 10,
             "solidity": 0.2
            },
            "type": "scatter"
           }
          ],
          "scatter3d": [
           {
            "line": {
             "colorbar": {
              "outlinewidth": 0,
              "ticks": ""
             }
            },
            "marker": {
             "colorbar": {
              "outlinewidth": 0,
              "ticks": ""
             }
            },
            "type": "scatter3d"
           }
          ],
          "scattercarpet": [
           {
            "marker": {
             "colorbar": {
              "outlinewidth": 0,
              "ticks": ""
             }
            },
            "type": "scattercarpet"
           }
          ],
          "scattergeo": [
           {
            "marker": {
             "colorbar": {
              "outlinewidth": 0,
              "ticks": ""
             }
            },
            "type": "scattergeo"
           }
          ],
          "scattergl": [
           {
            "marker": {
             "colorbar": {
              "outlinewidth": 0,
              "ticks": ""
             }
            },
            "type": "scattergl"
           }
          ],
          "scattermap": [
           {
            "marker": {
             "colorbar": {
              "outlinewidth": 0,
              "ticks": ""
             }
            },
            "type": "scattermap"
           }
          ],
          "scattermapbox": [
           {
            "marker": {
             "colorbar": {
              "outlinewidth": 0,
              "ticks": ""
             }
            },
            "type": "scattermapbox"
           }
          ],
          "scatterpolar": [
           {
            "marker": {
             "colorbar": {
              "outlinewidth": 0,
              "ticks": ""
             }
            },
            "type": "scatterpolar"
           }
          ],
          "scatterpolargl": [
           {
            "marker": {
             "colorbar": {
              "outlinewidth": 0,
              "ticks": ""
             }
            },
            "type": "scatterpolargl"
           }
          ],
          "scatterternary": [
           {
            "marker": {
             "colorbar": {
              "outlinewidth": 0,
              "ticks": ""
             }
            },
            "type": "scatterternary"
           }
          ],
          "surface": [
           {
            "colorbar": {
             "outlinewidth": 0,
             "ticks": ""
            },
            "colorscale": [
             [
              0,
              "#0d0887"
             ],
             [
              0.1111111111111111,
              "#46039f"
             ],
             [
              0.2222222222222222,
              "#7201a8"
             ],
             [
              0.3333333333333333,
              "#9c179e"
             ],
             [
              0.4444444444444444,
              "#bd3786"
             ],
             [
              0.5555555555555556,
              "#d8576b"
             ],
             [
              0.6666666666666666,
              "#ed7953"
             ],
             [
              0.7777777777777778,
              "#fb9f3a"
             ],
             [
              0.8888888888888888,
              "#fdca26"
             ],
             [
              1,
              "#f0f921"
             ]
            ],
            "type": "surface"
           }
          ],
          "table": [
           {
            "cells": {
             "fill": {
              "color": "#EBF0F8"
             },
             "line": {
              "color": "white"
             }
            },
            "header": {
             "fill": {
              "color": "#C8D4E3"
             },
             "line": {
              "color": "white"
             }
            },
            "type": "table"
           }
          ]
         },
         "layout": {
          "annotationdefaults": {
           "arrowcolor": "#2a3f5f",
           "arrowhead": 0,
           "arrowwidth": 1
          },
          "autotypenumbers": "strict",
          "coloraxis": {
           "colorbar": {
            "outlinewidth": 0,
            "ticks": ""
           }
          },
          "colorscale": {
           "diverging": [
            [
             0,
             "#8e0152"
            ],
            [
             0.1,
             "#c51b7d"
            ],
            [
             0.2,
             "#de77ae"
            ],
            [
             0.3,
             "#f1b6da"
            ],
            [
             0.4,
             "#fde0ef"
            ],
            [
             0.5,
             "#f7f7f7"
            ],
            [
             0.6,
             "#e6f5d0"
            ],
            [
             0.7,
             "#b8e186"
            ],
            [
             0.8,
             "#7fbc41"
            ],
            [
             0.9,
             "#4d9221"
            ],
            [
             1,
             "#276419"
            ]
           ],
           "sequential": [
            [
             0,
             "#0d0887"
            ],
            [
             0.1111111111111111,
             "#46039f"
            ],
            [
             0.2222222222222222,
             "#7201a8"
            ],
            [
             0.3333333333333333,
             "#9c179e"
            ],
            [
             0.4444444444444444,
             "#bd3786"
            ],
            [
             0.5555555555555556,
             "#d8576b"
            ],
            [
             0.6666666666666666,
             "#ed7953"
            ],
            [
             0.7777777777777778,
             "#fb9f3a"
            ],
            [
             0.8888888888888888,
             "#fdca26"
            ],
            [
             1,
             "#f0f921"
            ]
           ],
           "sequentialminus": [
            [
             0,
             "#0d0887"
            ],
            [
             0.1111111111111111,
             "#46039f"
            ],
            [
             0.2222222222222222,
             "#7201a8"
            ],
            [
             0.3333333333333333,
             "#9c179e"
            ],
            [
             0.4444444444444444,
             "#bd3786"
            ],
            [
             0.5555555555555556,
             "#d8576b"
            ],
            [
             0.6666666666666666,
             "#ed7953"
            ],
            [
             0.7777777777777778,
             "#fb9f3a"
            ],
            [
             0.8888888888888888,
             "#fdca26"
            ],
            [
             1,
             "#f0f921"
            ]
           ]
          },
          "colorway": [
           "#636efa",
           "#EF553B",
           "#00cc96",
           "#ab63fa",
           "#FFA15A",
           "#19d3f3",
           "#FF6692",
           "#B6E880",
           "#FF97FF",
           "#FECB52"
          ],
          "font": {
           "color": "#2a3f5f"
          },
          "geo": {
           "bgcolor": "white",
           "lakecolor": "white",
           "landcolor": "white",
           "showlakes": true,
           "showland": true,
           "subunitcolor": "#C8D4E3"
          },
          "hoverlabel": {
           "align": "left"
          },
          "hovermode": "closest",
          "mapbox": {
           "style": "light"
          },
          "paper_bgcolor": "white",
          "plot_bgcolor": "white",
          "polar": {
           "angularaxis": {
            "gridcolor": "#EBF0F8",
            "linecolor": "#EBF0F8",
            "ticks": ""
           },
           "bgcolor": "white",
           "radialaxis": {
            "gridcolor": "#EBF0F8",
            "linecolor": "#EBF0F8",
            "ticks": ""
           }
          },
          "scene": {
           "xaxis": {
            "backgroundcolor": "white",
            "gridcolor": "#DFE8F3",
            "gridwidth": 2,
            "linecolor": "#EBF0F8",
            "showbackground": true,
            "ticks": "",
            "zerolinecolor": "#EBF0F8"
           },
           "yaxis": {
            "backgroundcolor": "white",
            "gridcolor": "#DFE8F3",
            "gridwidth": 2,
            "linecolor": "#EBF0F8",
            "showbackground": true,
            "ticks": "",
            "zerolinecolor": "#EBF0F8"
           },
           "zaxis": {
            "backgroundcolor": "white",
            "gridcolor": "#DFE8F3",
            "gridwidth": 2,
            "linecolor": "#EBF0F8",
            "showbackground": true,
            "ticks": "",
            "zerolinecolor": "#EBF0F8"
           }
          },
          "shapedefaults": {
           "line": {
            "color": "#2a3f5f"
           }
          },
          "ternary": {
           "aaxis": {
            "gridcolor": "#DFE8F3",
            "linecolor": "#A2B1C6",
            "ticks": ""
           },
           "baxis": {
            "gridcolor": "#DFE8F3",
            "linecolor": "#A2B1C6",
            "ticks": ""
           },
           "bgcolor": "white",
           "caxis": {
            "gridcolor": "#DFE8F3",
            "linecolor": "#A2B1C6",
            "ticks": ""
           }
          },
          "title": {
           "x": 0.05
          },
          "xaxis": {
           "automargin": true,
           "gridcolor": "#EBF0F8",
           "linecolor": "#EBF0F8",
           "ticks": "",
           "title": {
            "standoff": 15
           },
           "zerolinecolor": "#EBF0F8",
           "zerolinewidth": 2
          },
          "yaxis": {
           "automargin": true,
           "gridcolor": "#EBF0F8",
           "linecolor": "#EBF0F8",
           "ticks": "",
           "title": {
            "standoff": 15
           },
           "zerolinecolor": "#EBF0F8",
           "zerolinewidth": 2
          }
         }
        },
        "title": {
         "text": "Comparação CO₂ - Caso de teste: RM9 - Latitude e Longitude constantes - GASOLINE",
         "x": 0.5
        },
        "xaxis": {
         "title": {
          "text": "Amostras"
         }
        },
        "yaxis": {
         "title": {
          "text": "CO₂ (g/s)"
         }
        }
       }
      }
     },
     "metadata": {},
     "output_type": "display_data"
    },
    {
     "name": "stdout",
     "output_type": "stream",
     "text": [
      "\n",
      "🔁 Caso de teste: RM10 - Aceleração constante (ETHANOL)\n",
      "Diferença Média: 0.2013 | Diferença Máxima: 1.8051 | Erro Quadrático Médio (RMSE): 0.3412 | Desvio Padrão (Std): 0.2756\n"
     ]
    },
    {
     "data": {
      "text/html": [
       "<style type=\"text/css\">\n",
       "</style>\n",
       "<table id=\"T_7a996\">\n",
       "  <caption>Comparação dos dados originais e modificados - Caso de teste: RM10 - Aceleração constante (ETHANOL)</caption>\n",
       "  <thead>\n",
       "    <tr>\n",
       "      <th class=\"blank level0\" >&nbsp;</th>\n",
       "      <th id=\"T_7a996_level0_col0\" class=\"col_heading level0 col0\" >Latitude_Orig</th>\n",
       "      <th id=\"T_7a996_level0_col1\" class=\"col_heading level0 col1\" >Longitude_Orig</th>\n",
       "      <th id=\"T_7a996_level0_col2\" class=\"col_heading level0 col2\" >Speed(OBD)(km/h)_Orig</th>\n",
       "      <th id=\"T_7a996_level0_col3\" class=\"col_heading level0 col3\" >Acceleration_Orig</th>\n",
       "      <th id=\"T_7a996_level0_col4\" class=\"col_heading level0 col4\" > </th>\n",
       "      <th id=\"T_7a996_level0_col5\" class=\"col_heading level0 col5\" >Latitude_Mod</th>\n",
       "      <th id=\"T_7a996_level0_col6\" class=\"col_heading level0 col6\" >Longitude_Mod</th>\n",
       "      <th id=\"T_7a996_level0_col7\" class=\"col_heading level0 col7\" >Speed(OBD)(km/h)_Mod</th>\n",
       "      <th id=\"T_7a996_level0_col8\" class=\"col_heading level0 col8\" >Acceleration_Mod</th>\n",
       "      <th id=\"T_7a996_level0_col9\" class=\"col_heading level0 col9\" > </th>\n",
       "      <th id=\"T_7a996_level0_col10\" class=\"col_heading level0 col10\" >CO₂_Real</th>\n",
       "      <th id=\"T_7a996_level0_col11\" class=\"col_heading level0 col11\" >CO₂_Orig</th>\n",
       "      <th id=\"T_7a996_level0_col12\" class=\"col_heading level0 col12\" >CO₂_Mod</th>\n",
       "    </tr>\n",
       "  </thead>\n",
       "  <tbody>\n",
       "    <tr>\n",
       "      <th id=\"T_7a996_level0_row0\" class=\"row_heading level0 row0\" >0</th>\n",
       "      <td id=\"T_7a996_row0_col0\" class=\"data row0 col0\" >-5.820105</td>\n",
       "      <td id=\"T_7a996_row0_col1\" class=\"data row0 col1\" >-35.220818</td>\n",
       "      <td id=\"T_7a996_row0_col2\" class=\"data row0 col2\" >3</td>\n",
       "      <td id=\"T_7a996_row0_col3\" class=\"data row0 col3\" >0.000000</td>\n",
       "      <td id=\"T_7a996_row0_col4\" class=\"data row0 col4\" >→</td>\n",
       "      <td id=\"T_7a996_row0_col5\" class=\"data row0 col5\" >-5.820105</td>\n",
       "      <td id=\"T_7a996_row0_col6\" class=\"data row0 col6\" >-35.220818</td>\n",
       "      <td id=\"T_7a996_row0_col7\" class=\"data row0 col7\" >3</td>\n",
       "      <td id=\"T_7a996_row0_col8\" class=\"data row0 col8\" >-0.000000</td>\n",
       "      <td id=\"T_7a996_row0_col9\" class=\"data row0 col9\" > </td>\n",
       "      <td id=\"T_7a996_row0_col10\" class=\"data row0 col10\" >0.642839</td>\n",
       "      <td id=\"T_7a996_row0_col11\" class=\"data row0 col11\" >0.742631</td>\n",
       "      <td id=\"T_7a996_row0_col12\" class=\"data row0 col12\" >0.659013</td>\n",
       "    </tr>\n",
       "    <tr>\n",
       "      <th id=\"T_7a996_level0_row1\" class=\"row_heading level0 row1\" >1</th>\n",
       "      <td id=\"T_7a996_row1_col0\" class=\"data row1 col0\" >-5.820103</td>\n",
       "      <td id=\"T_7a996_row1_col1\" class=\"data row1 col1\" >-35.220828</td>\n",
       "      <td id=\"T_7a996_row1_col2\" class=\"data row1 col2\" >5</td>\n",
       "      <td id=\"T_7a996_row1_col3\" class=\"data row1 col3\" >0.555556</td>\n",
       "      <td id=\"T_7a996_row1_col4\" class=\"data row1 col4\" >→</td>\n",
       "      <td id=\"T_7a996_row1_col5\" class=\"data row1 col5\" >-5.820103</td>\n",
       "      <td id=\"T_7a996_row1_col6\" class=\"data row1 col6\" >-35.220828</td>\n",
       "      <td id=\"T_7a996_row1_col7\" class=\"data row1 col7\" >5</td>\n",
       "      <td id=\"T_7a996_row1_col8\" class=\"data row1 col8\" >-0.000000</td>\n",
       "      <td id=\"T_7a996_row1_col9\" class=\"data row1 col9\" > </td>\n",
       "      <td id=\"T_7a996_row1_col10\" class=\"data row1 col10\" >0.653249</td>\n",
       "      <td id=\"T_7a996_row1_col11\" class=\"data row1 col11\" >0.771505</td>\n",
       "      <td id=\"T_7a996_row1_col12\" class=\"data row1 col12\" >0.830598</td>\n",
       "    </tr>\n",
       "    <tr>\n",
       "      <th id=\"T_7a996_level0_row2\" class=\"row_heading level0 row2\" >2</th>\n",
       "      <td id=\"T_7a996_row2_col0\" class=\"data row2 col0\" >-5.820102</td>\n",
       "      <td id=\"T_7a996_row2_col1\" class=\"data row2 col1\" >-35.220838</td>\n",
       "      <td id=\"T_7a996_row2_col2\" class=\"data row2 col2\" >5</td>\n",
       "      <td id=\"T_7a996_row2_col3\" class=\"data row2 col3\" >0.000000</td>\n",
       "      <td id=\"T_7a996_row2_col4\" class=\"data row2 col4\" >→</td>\n",
       "      <td id=\"T_7a996_row2_col5\" class=\"data row2 col5\" >-5.820102</td>\n",
       "      <td id=\"T_7a996_row2_col6\" class=\"data row2 col6\" >-35.220838</td>\n",
       "      <td id=\"T_7a996_row2_col7\" class=\"data row2 col7\" >5</td>\n",
       "      <td id=\"T_7a996_row2_col8\" class=\"data row2 col8\" >-0.000000</td>\n",
       "      <td id=\"T_7a996_row2_col9\" class=\"data row2 col9\" > </td>\n",
       "      <td id=\"T_7a996_row2_col10\" class=\"data row2 col10\" >0.653249</td>\n",
       "      <td id=\"T_7a996_row2_col11\" class=\"data row2 col11\" >0.771505</td>\n",
       "      <td id=\"T_7a996_row2_col12\" class=\"data row2 col12\" >0.830598</td>\n",
       "    </tr>\n",
       "    <tr>\n",
       "      <th id=\"T_7a996_level0_row3\" class=\"row_heading level0 row3\" >3</th>\n",
       "      <td id=\"T_7a996_row3_col0\" class=\"data row3 col0\" >-5.820096</td>\n",
       "      <td id=\"T_7a996_row3_col1\" class=\"data row3 col1\" >-35.220843</td>\n",
       "      <td id=\"T_7a996_row3_col2\" class=\"data row3 col2\" >3</td>\n",
       "      <td id=\"T_7a996_row3_col3\" class=\"data row3 col3\" >-0.555556</td>\n",
       "      <td id=\"T_7a996_row3_col4\" class=\"data row3 col4\" >→</td>\n",
       "      <td id=\"T_7a996_row3_col5\" class=\"data row3 col5\" >-5.820096</td>\n",
       "      <td id=\"T_7a996_row3_col6\" class=\"data row3 col6\" >-35.220843</td>\n",
       "      <td id=\"T_7a996_row3_col7\" class=\"data row3 col7\" >3</td>\n",
       "      <td id=\"T_7a996_row3_col8\" class=\"data row3 col8\" >-0.000000</td>\n",
       "      <td id=\"T_7a996_row3_col9\" class=\"data row3 col9\" > </td>\n",
       "      <td id=\"T_7a996_row3_col10\" class=\"data row3 col10\" >0.679275</td>\n",
       "      <td id=\"T_7a996_row3_col11\" class=\"data row3 col11\" >0.659013</td>\n",
       "      <td id=\"T_7a996_row3_col12\" class=\"data row3 col12\" >0.659013</td>\n",
       "    </tr>\n",
       "    <tr>\n",
       "      <th id=\"T_7a996_level0_row4\" class=\"row_heading level0 row4\" >4</th>\n",
       "      <td id=\"T_7a996_row4_col0\" class=\"data row4 col0\" >-5.820091</td>\n",
       "      <td id=\"T_7a996_row4_col1\" class=\"data row4 col1\" >-35.220850</td>\n",
       "      <td id=\"T_7a996_row4_col2\" class=\"data row4 col2\" >0</td>\n",
       "      <td id=\"T_7a996_row4_col3\" class=\"data row4 col3\" >-0.833333</td>\n",
       "      <td id=\"T_7a996_row4_col4\" class=\"data row4 col4\" >→</td>\n",
       "      <td id=\"T_7a996_row4_col5\" class=\"data row4 col5\" >-5.820091</td>\n",
       "      <td id=\"T_7a996_row4_col6\" class=\"data row4 col6\" >-35.220850</td>\n",
       "      <td id=\"T_7a996_row4_col7\" class=\"data row4 col7\" >0</td>\n",
       "      <td id=\"T_7a996_row4_col8\" class=\"data row4 col8\" >-0.000000</td>\n",
       "      <td id=\"T_7a996_row4_col9\" class=\"data row4 col9\" > </td>\n",
       "      <td id=\"T_7a996_row4_col10\" class=\"data row4 col10\" >0.610306</td>\n",
       "      <td id=\"T_7a996_row4_col11\" class=\"data row4 col11\" >0.667689</td>\n",
       "      <td id=\"T_7a996_row4_col12\" class=\"data row4 col12\" >0.667689</td>\n",
       "    </tr>\n",
       "    <tr>\n",
       "      <th id=\"T_7a996_level0_row5\" class=\"row_heading level0 row5\" >5</th>\n",
       "      <td id=\"T_7a996_row5_col0\" class=\"data row5 col0\" >-5.820091</td>\n",
       "      <td id=\"T_7a996_row5_col1\" class=\"data row5 col1\" >-35.220850</td>\n",
       "      <td id=\"T_7a996_row5_col2\" class=\"data row5 col2\" >0</td>\n",
       "      <td id=\"T_7a996_row5_col3\" class=\"data row5 col3\" >0.000000</td>\n",
       "      <td id=\"T_7a996_row5_col4\" class=\"data row5 col4\" >→</td>\n",
       "      <td id=\"T_7a996_row5_col5\" class=\"data row5 col5\" >-5.820091</td>\n",
       "      <td id=\"T_7a996_row5_col6\" class=\"data row5 col6\" >-35.220850</td>\n",
       "      <td id=\"T_7a996_row5_col7\" class=\"data row5 col7\" >0</td>\n",
       "      <td id=\"T_7a996_row5_col8\" class=\"data row5 col8\" >-0.000000</td>\n",
       "      <td id=\"T_7a996_row5_col9\" class=\"data row5 col9\" > </td>\n",
       "      <td id=\"T_7a996_row5_col10\" class=\"data row5 col10\" >0.610306</td>\n",
       "      <td id=\"T_7a996_row5_col11\" class=\"data row5 col11\" >0.706858</td>\n",
       "      <td id=\"T_7a996_row5_col12\" class=\"data row5 col12\" >0.667689</td>\n",
       "    </tr>\n",
       "    <tr>\n",
       "      <th id=\"T_7a996_level0_row6\" class=\"row_heading level0 row6\" >6</th>\n",
       "      <td id=\"T_7a996_row6_col0\" class=\"data row6 col0\" >-5.820091</td>\n",
       "      <td id=\"T_7a996_row6_col1\" class=\"data row6 col1\" >-35.220850</td>\n",
       "      <td id=\"T_7a996_row6_col2\" class=\"data row6 col2\" >0</td>\n",
       "      <td id=\"T_7a996_row6_col3\" class=\"data row6 col3\" >0.000000</td>\n",
       "      <td id=\"T_7a996_row6_col4\" class=\"data row6 col4\" >→</td>\n",
       "      <td id=\"T_7a996_row6_col5\" class=\"data row6 col5\" >-5.820091</td>\n",
       "      <td id=\"T_7a996_row6_col6\" class=\"data row6 col6\" >-35.220850</td>\n",
       "      <td id=\"T_7a996_row6_col7\" class=\"data row6 col7\" >0</td>\n",
       "      <td id=\"T_7a996_row6_col8\" class=\"data row6 col8\" >-0.000000</td>\n",
       "      <td id=\"T_7a996_row6_col9\" class=\"data row6 col9\" > </td>\n",
       "      <td id=\"T_7a996_row6_col10\" class=\"data row6 col10\" >0.490587</td>\n",
       "      <td id=\"T_7a996_row6_col11\" class=\"data row6 col11\" >0.706858</td>\n",
       "      <td id=\"T_7a996_row6_col12\" class=\"data row6 col12\" >0.667689</td>\n",
       "    </tr>\n",
       "    <tr>\n",
       "      <th id=\"T_7a996_level0_row7\" class=\"row_heading level0 row7\" >7</th>\n",
       "      <td id=\"T_7a996_row7_col0\" class=\"data row7 col0\" >-5.820085</td>\n",
       "      <td id=\"T_7a996_row7_col1\" class=\"data row7 col1\" >-35.220856</td>\n",
       "      <td id=\"T_7a996_row7_col2\" class=\"data row7 col2\" >3</td>\n",
       "      <td id=\"T_7a996_row7_col3\" class=\"data row7 col3\" >0.833333</td>\n",
       "      <td id=\"T_7a996_row7_col4\" class=\"data row7 col4\" >→</td>\n",
       "      <td id=\"T_7a996_row7_col5\" class=\"data row7 col5\" >-5.820085</td>\n",
       "      <td id=\"T_7a996_row7_col6\" class=\"data row7 col6\" >-35.220856</td>\n",
       "      <td id=\"T_7a996_row7_col7\" class=\"data row7 col7\" >3</td>\n",
       "      <td id=\"T_7a996_row7_col8\" class=\"data row7 col8\" >-0.000000</td>\n",
       "      <td id=\"T_7a996_row7_col9\" class=\"data row7 col9\" > </td>\n",
       "      <td id=\"T_7a996_row7_col10\" class=\"data row7 col10\" >1.090483</td>\n",
       "      <td id=\"T_7a996_row7_col11\" class=\"data row7 col11\" >1.137803</td>\n",
       "      <td id=\"T_7a996_row7_col12\" class=\"data row7 col12\" >0.724289</td>\n",
       "    </tr>\n",
       "    <tr>\n",
       "      <th id=\"T_7a996_level0_row8\" class=\"row_heading level0 row8\" >8</th>\n",
       "      <td id=\"T_7a996_row8_col0\" class=\"data row8 col0\" >-5.820074</td>\n",
       "      <td id=\"T_7a996_row8_col1\" class=\"data row8 col1\" >-35.220859</td>\n",
       "      <td id=\"T_7a996_row8_col2\" class=\"data row8 col2\" >3</td>\n",
       "      <td id=\"T_7a996_row8_col3\" class=\"data row8 col3\" >0.000000</td>\n",
       "      <td id=\"T_7a996_row8_col4\" class=\"data row8 col4\" >→</td>\n",
       "      <td id=\"T_7a996_row8_col5\" class=\"data row8 col5\" >-5.820074</td>\n",
       "      <td id=\"T_7a996_row8_col6\" class=\"data row8 col6\" >-35.220859</td>\n",
       "      <td id=\"T_7a996_row8_col7\" class=\"data row8 col7\" >3</td>\n",
       "      <td id=\"T_7a996_row8_col8\" class=\"data row8 col8\" >-0.000000</td>\n",
       "      <td id=\"T_7a996_row8_col9\" class=\"data row8 col9\" > </td>\n",
       "      <td id=\"T_7a996_row8_col10\" class=\"data row8 col10\" >1.090483</td>\n",
       "      <td id=\"T_7a996_row8_col11\" class=\"data row8 col11\" >1.137803</td>\n",
       "      <td id=\"T_7a996_row8_col12\" class=\"data row8 col12\" >0.724289</td>\n",
       "    </tr>\n",
       "    <tr>\n",
       "      <th id=\"T_7a996_level0_row9\" class=\"row_heading level0 row9\" >9</th>\n",
       "      <td id=\"T_7a996_row9_col0\" class=\"data row9 col0\" >-5.820064</td>\n",
       "      <td id=\"T_7a996_row9_col1\" class=\"data row9 col1\" >-35.220858</td>\n",
       "      <td id=\"T_7a996_row9_col2\" class=\"data row9 col2\" >3</td>\n",
       "      <td id=\"T_7a996_row9_col3\" class=\"data row9 col3\" >0.000000</td>\n",
       "      <td id=\"T_7a996_row9_col4\" class=\"data row9 col4\" >→</td>\n",
       "      <td id=\"T_7a996_row9_col5\" class=\"data row9 col5\" >-5.820064</td>\n",
       "      <td id=\"T_7a996_row9_col6\" class=\"data row9 col6\" >-35.220858</td>\n",
       "      <td id=\"T_7a996_row9_col7\" class=\"data row9 col7\" >3</td>\n",
       "      <td id=\"T_7a996_row9_col8\" class=\"data row9 col8\" >-0.000000</td>\n",
       "      <td id=\"T_7a996_row9_col9\" class=\"data row9 col9\" > </td>\n",
       "      <td id=\"T_7a996_row9_col10\" class=\"data row9 col10\" >0.921315</td>\n",
       "      <td id=\"T_7a996_row9_col11\" class=\"data row9 col11\" >1.137803</td>\n",
       "      <td id=\"T_7a996_row9_col12\" class=\"data row9 col12\" >0.724289</td>\n",
       "    </tr>\n",
       "  </tbody>\n",
       "</table>\n"
      ],
      "text/plain": [
       "<pandas.io.formats.style.Styler at 0x1bd8c1edc10>"
      ]
     },
     "metadata": {},
     "output_type": "display_data"
    },
    {
     "data": {
      "application/vnd.plotly.v1+json": {
       "config": {
        "plotlyServerURL": "https://plot.ly"
       },
       "data": [
        {
         "line": {
          "color": "green",
          "dash": "dot"
         },
         "mode": "lines",
         "name": "Real",
         "type": "scatter",
         "y": {
          "bdata": "Xv2WDSKS5D+bk2QeaufkP5uTZB5q5+Q/NotmSJ685T/ehxTZoIfjP96HFNmgh+M/M5CwL8hl3z/dnA9wnnLxP92cD3CecvE/T3ASz2l77T+UX3iidnLyPz8yMAV+Z/Q/PzIwBX5n9D8ti7UITBb8PzhhcBqj5vk/KSOOULfS8D8pI45Qt9LwP7us/CApG+8/cjYv8OP84z+t9vIuJyjgP6328i4nKOA/geLz0z/39T+rgxXuOvLzP6uDFe468vM/mb1aTGW9AEB0UCWuXTcFQJNSfcM51QFAk1J9wznVAUDU4Eocwdz0P40G4N+x0N0/MaWrxsVQ3T+Gb8fSpWfjP4Zvx9KlZ+M/RJASr2yy4j+u4feXKT3iPxtsE+QD5v0/G2wT5APm/T9xVW+Vh+D+P/WBu/ZpMek/9YG79mkx6T8EcmzGOjzYP6VZboDtdf4/WOugB2mlAEBY66AHaaUAQFcs1yJHEfo/jF/HYiTM+D+vRCQpQjH6P69EJClCMfo/IlLOZdxR9j8U6vVt9WfxP9L1RbO+x/I/0vVFs77H8j9JPCZTdgbrPy3PofTAJtk/Lc+h9MAm2T83dmuxoNHXP5m9WkxlveA/wxqQeuun4T/DGpB666fhPy5sdWOoMgFAN3ZrsaDRB0CTtalUUskJQJO1qVRSyQlAUQXmhZA5CECzrwGybRkJQLOvAbJtGQlAadNRH3liAkDxyvHJCOv/P/HK8ckI6/8/ZYpqDIgCAkDcITJ38e4HQFhbyHe+Nvk/WFvId742+T+BiQxRzfvaP+KMDwAd1/Y/4owPAB3X9j9nuVth/yfxP4GJDFHN+9o/VyzXIkcR2j9XLNciRxHKPzhhcBqj5sk/mb1aTGW90D+rqr6oeQbiPxTJ619+uOE/cloUOF8j9z+cBUVJAVwCQO7F9qKMm/w/7sX2ooyb/D8XwP8/+pH1Py66pl3DO9s/YtOg3ya82D8GXXEvPVHKPwZdcS89Uco/3P87AbdmyT8zkLAvyGXPPxdp8ttk2OI/F2ny22TY4j/s9fsW3vTiP/4o4Wa23vY/g+DZ9mxa+z8=",
          "dtype": "f8"
         }
        },
        {
         "line": {
          "color": "blue",
          "dash": "dash"
         },
         "mode": "lines",
         "name": "Predição Original",
         "type": "scatter",
         "y": {
          "bdata": "A1nGMaLD5z/rGxZ+K7DoP+sbFn4rsOg/ZNKEuKEW5T8gJJx1tV3lP1qolBeUnuY/WqiUF5Se5j8vN5pfcTTyPy83ml9xNPI/LzeaX3E08j8LUj4DVmv0P2cHXp66ovQ/lajUrwhy8z8ERxYOSyj4P0gf5HQeCfI/if7LZHnq7z8XHaiiCV3vP6Btm6JJmew/vGW1En/65z9MP1pTWq7wP/J2f86FGvA/Rx/yOxHc8D9HH/I7EdzwP0cf8jsR3PA/Wi2PK9ct9T99iPbmwzv1P+s7h6uSvvI/jlifB2hB+z/KAreWPx7tP2CGcv2h3+w/DE1YhnUh4z+r91rqETzvPzST+4nO/eQ/tcGbWjP25j8r0X6ZskrsPzXVexnn+PI/jsX9rHxr8z+YODlE2Q7zPxrw1xsMw+0/6+G9lxVx7T+VLCu5vQ3pP5kI65KAuvA/xV7vM9nJ8j+3rXXsTRn+P7nipTU15fQ/Ahig1qK48j97HMyYL2j0P61VsDSbgfU/gKXeX7rt9D8lL/FG5m/yP1D9sJ1ASPI/ONgUq37H8z/SblJX33btP6Pvp4KhC+M/A1unplDL5j/tVn03pGviP09EUKldGOg/RjLkVnwe6D+bSQJT7m7oP/kNtZK+Z+k/BO79CuHa9z9uhs6rFD4AQDSsx4gppPs/JoJSHH6Y9j8b5eo1rb34P7wp1TtfOgFA605wkeGE9z+CQHPA6Nf7P96W8dRj7vo/77f/lcKE+T8/0HaFb3j5P0ixId0VM/o/2QaTrAQF9T89ims167HjP+Roiw7ssfA/N+aifBlj8D+LMRVBlGrvP6CylwUtpOE/UCAMIn9U4D86TWpu5ebtP5PEfPDbnN0/8ql5Nfn/4D83OrmjNxvhP9ETGcqqqOg/TEBpKYVw9j/5y4EaW9T4P6g7DuceO/U/scgFb/N/8D+73vRQdeXuP5DaSmyYQ+A/1hTHV/j+2j9wnnVfpazbPzJoid+r2eU/KlRdoNof2z8xuA2DPjffP3qotC6cE+Y/eqi0LpwT5j96qLQunBPmPwHia4Ko5fc/29W9hKHm9z8=",
          "dtype": "f8"
         }
        },
        {
         "line": {
          "color": "red"
         },
         "mode": "lines",
         "name": "Predição com RM",
         "type": "scatter",
         "y": {
          "bdata": "ZNKEuKEW5T9ejQxnQpTqP16NDGdClOo/ZNKEuKEW5T8gJJx1tV3lPyAknHW1XeU/ICScdbVd5T/FNyghYC3nP8U3KCFgLec/xTcoIWAt5z8scwLYboLsPwbAVK2Mhuo/MykxMf1S7D94QcLJ7izuP6ZYdcGb2eQ/Tt0OyFxy5T+7OIoOfuPkP0CbG8p78uI/vGW1En/65z+8ZbUSf/rnPzPWqo29DfE/ajZtanAZ8j9qNm1qcBnyP2o2bWpwGfI/PFnKYak68j8wKoviISjsPylqHYB37uY/PK6la8We6T+hyQvfAH7cP6HJC98Aftw/DE1YhnUh4z82YTRrrvXjPzST+4nO/eQ/tcGbWjP25j/RPvSOBsnqP9E+9I4Gyeo/jsX9rHxr8z+5K+HgV8TlPwmaHDlYg+Q/hT6HO2Wf5T+pXshaxxvoP6leyFrHG+g/4TWeXXet5D8CMC5hJFryP+i9Xq9FL+0/ZVobT2H86z9+irjwR8/qP8N57/wYY+o/cN/JPvRx8D/Mp5LEv5HuP8ynksS/ke4/BmuevUbW6j/FgxfOqV/nP6Pvp4KhC+M/o++ngqEL4z9wba5GFZHgPyMZuawFw+M/aVzBPoNP6D9pXME+g0/oP22INSJnuuU/7/ofMWQI7j/v+h8xZAjuP75StPnonfU/OYrK53Wu8T9nMz4WLhjyP+ZnAHwLVvA/NYPeMLsD7j8Wa1Ug/gPsPxPWXMZ4lOs/LVN0sdpf6z9O3y1IUvLpP1fxhhawsOs/CJsr7EYn5D89ims167HjPz2KazXrseM/azN7CHp+4z+zzLzpVOnhP6CylwUtpOE/kIDtLUdX4j+QgO0tR1fiPyA2eRKTD+c/8ql5Nfn/4D83OrmjNxvhPzc6uaM3G+E/P4KtzGQi8D+mWIrnCcnxP4lnizUY8u4/vA2+LRst5T9GUbUpq/jiP5DaSmyYQ+A/ViRq8PJU3j9J61Bzmd/gP0nrUHOZ3+A/LdDc9L0Y5D8xuA2DPjffPzG4DYM+N98/MbgNgz433z8xuA2DPjffPz60e65YdeQ/PrR7rlh15D8=",
          "dtype": "f8"
         }
        }
       ],
       "layout": {
        "template": {
         "data": {
          "bar": [
           {
            "error_x": {
             "color": "#2a3f5f"
            },
            "error_y": {
             "color": "#2a3f5f"
            },
            "marker": {
             "line": {
              "color": "white",
              "width": 0.5
             },
             "pattern": {
              "fillmode": "overlay",
              "size": 10,
              "solidity": 0.2
             }
            },
            "type": "bar"
           }
          ],
          "barpolar": [
           {
            "marker": {
             "line": {
              "color": "white",
              "width": 0.5
             },
             "pattern": {
              "fillmode": "overlay",
              "size": 10,
              "solidity": 0.2
             }
            },
            "type": "barpolar"
           }
          ],
          "carpet": [
           {
            "aaxis": {
             "endlinecolor": "#2a3f5f",
             "gridcolor": "#C8D4E3",
             "linecolor": "#C8D4E3",
             "minorgridcolor": "#C8D4E3",
             "startlinecolor": "#2a3f5f"
            },
            "baxis": {
             "endlinecolor": "#2a3f5f",
             "gridcolor": "#C8D4E3",
             "linecolor": "#C8D4E3",
             "minorgridcolor": "#C8D4E3",
             "startlinecolor": "#2a3f5f"
            },
            "type": "carpet"
           }
          ],
          "choropleth": [
           {
            "colorbar": {
             "outlinewidth": 0,
             "ticks": ""
            },
            "type": "choropleth"
           }
          ],
          "contour": [
           {
            "colorbar": {
             "outlinewidth": 0,
             "ticks": ""
            },
            "colorscale": [
             [
              0,
              "#0d0887"
             ],
             [
              0.1111111111111111,
              "#46039f"
             ],
             [
              0.2222222222222222,
              "#7201a8"
             ],
             [
              0.3333333333333333,
              "#9c179e"
             ],
             [
              0.4444444444444444,
              "#bd3786"
             ],
             [
              0.5555555555555556,
              "#d8576b"
             ],
             [
              0.6666666666666666,
              "#ed7953"
             ],
             [
              0.7777777777777778,
              "#fb9f3a"
             ],
             [
              0.8888888888888888,
              "#fdca26"
             ],
             [
              1,
              "#f0f921"
             ]
            ],
            "type": "contour"
           }
          ],
          "contourcarpet": [
           {
            "colorbar": {
             "outlinewidth": 0,
             "ticks": ""
            },
            "type": "contourcarpet"
           }
          ],
          "heatmap": [
           {
            "colorbar": {
             "outlinewidth": 0,
             "ticks": ""
            },
            "colorscale": [
             [
              0,
              "#0d0887"
             ],
             [
              0.1111111111111111,
              "#46039f"
             ],
             [
              0.2222222222222222,
              "#7201a8"
             ],
             [
              0.3333333333333333,
              "#9c179e"
             ],
             [
              0.4444444444444444,
              "#bd3786"
             ],
             [
              0.5555555555555556,
              "#d8576b"
             ],
             [
              0.6666666666666666,
              "#ed7953"
             ],
             [
              0.7777777777777778,
              "#fb9f3a"
             ],
             [
              0.8888888888888888,
              "#fdca26"
             ],
             [
              1,
              "#f0f921"
             ]
            ],
            "type": "heatmap"
           }
          ],
          "histogram": [
           {
            "marker": {
             "pattern": {
              "fillmode": "overlay",
              "size": 10,
              "solidity": 0.2
             }
            },
            "type": "histogram"
           }
          ],
          "histogram2d": [
           {
            "colorbar": {
             "outlinewidth": 0,
             "ticks": ""
            },
            "colorscale": [
             [
              0,
              "#0d0887"
             ],
             [
              0.1111111111111111,
              "#46039f"
             ],
             [
              0.2222222222222222,
              "#7201a8"
             ],
             [
              0.3333333333333333,
              "#9c179e"
             ],
             [
              0.4444444444444444,
              "#bd3786"
             ],
             [
              0.5555555555555556,
              "#d8576b"
             ],
             [
              0.6666666666666666,
              "#ed7953"
             ],
             [
              0.7777777777777778,
              "#fb9f3a"
             ],
             [
              0.8888888888888888,
              "#fdca26"
             ],
             [
              1,
              "#f0f921"
             ]
            ],
            "type": "histogram2d"
           }
          ],
          "histogram2dcontour": [
           {
            "colorbar": {
             "outlinewidth": 0,
             "ticks": ""
            },
            "colorscale": [
             [
              0,
              "#0d0887"
             ],
             [
              0.1111111111111111,
              "#46039f"
             ],
             [
              0.2222222222222222,
              "#7201a8"
             ],
             [
              0.3333333333333333,
              "#9c179e"
             ],
             [
              0.4444444444444444,
              "#bd3786"
             ],
             [
              0.5555555555555556,
              "#d8576b"
             ],
             [
              0.6666666666666666,
              "#ed7953"
             ],
             [
              0.7777777777777778,
              "#fb9f3a"
             ],
             [
              0.8888888888888888,
              "#fdca26"
             ],
             [
              1,
              "#f0f921"
             ]
            ],
            "type": "histogram2dcontour"
           }
          ],
          "mesh3d": [
           {
            "colorbar": {
             "outlinewidth": 0,
             "ticks": ""
            },
            "type": "mesh3d"
           }
          ],
          "parcoords": [
           {
            "line": {
             "colorbar": {
              "outlinewidth": 0,
              "ticks": ""
             }
            },
            "type": "parcoords"
           }
          ],
          "pie": [
           {
            "automargin": true,
            "type": "pie"
           }
          ],
          "scatter": [
           {
            "fillpattern": {
             "fillmode": "overlay",
             "size": 10,
             "solidity": 0.2
            },
            "type": "scatter"
           }
          ],
          "scatter3d": [
           {
            "line": {
             "colorbar": {
              "outlinewidth": 0,
              "ticks": ""
             }
            },
            "marker": {
             "colorbar": {
              "outlinewidth": 0,
              "ticks": ""
             }
            },
            "type": "scatter3d"
           }
          ],
          "scattercarpet": [
           {
            "marker": {
             "colorbar": {
              "outlinewidth": 0,
              "ticks": ""
             }
            },
            "type": "scattercarpet"
           }
          ],
          "scattergeo": [
           {
            "marker": {
             "colorbar": {
              "outlinewidth": 0,
              "ticks": ""
             }
            },
            "type": "scattergeo"
           }
          ],
          "scattergl": [
           {
            "marker": {
             "colorbar": {
              "outlinewidth": 0,
              "ticks": ""
             }
            },
            "type": "scattergl"
           }
          ],
          "scattermap": [
           {
            "marker": {
             "colorbar": {
              "outlinewidth": 0,
              "ticks": ""
             }
            },
            "type": "scattermap"
           }
          ],
          "scattermapbox": [
           {
            "marker": {
             "colorbar": {
              "outlinewidth": 0,
              "ticks": ""
             }
            },
            "type": "scattermapbox"
           }
          ],
          "scatterpolar": [
           {
            "marker": {
             "colorbar": {
              "outlinewidth": 0,
              "ticks": ""
             }
            },
            "type": "scatterpolar"
           }
          ],
          "scatterpolargl": [
           {
            "marker": {
             "colorbar": {
              "outlinewidth": 0,
              "ticks": ""
             }
            },
            "type": "scatterpolargl"
           }
          ],
          "scatterternary": [
           {
            "marker": {
             "colorbar": {
              "outlinewidth": 0,
              "ticks": ""
             }
            },
            "type": "scatterternary"
           }
          ],
          "surface": [
           {
            "colorbar": {
             "outlinewidth": 0,
             "ticks": ""
            },
            "colorscale": [
             [
              0,
              "#0d0887"
             ],
             [
              0.1111111111111111,
              "#46039f"
             ],
             [
              0.2222222222222222,
              "#7201a8"
             ],
             [
              0.3333333333333333,
              "#9c179e"
             ],
             [
              0.4444444444444444,
              "#bd3786"
             ],
             [
              0.5555555555555556,
              "#d8576b"
             ],
             [
              0.6666666666666666,
              "#ed7953"
             ],
             [
              0.7777777777777778,
              "#fb9f3a"
             ],
             [
              0.8888888888888888,
              "#fdca26"
             ],
             [
              1,
              "#f0f921"
             ]
            ],
            "type": "surface"
           }
          ],
          "table": [
           {
            "cells": {
             "fill": {
              "color": "#EBF0F8"
             },
             "line": {
              "color": "white"
             }
            },
            "header": {
             "fill": {
              "color": "#C8D4E3"
             },
             "line": {
              "color": "white"
             }
            },
            "type": "table"
           }
          ]
         },
         "layout": {
          "annotationdefaults": {
           "arrowcolor": "#2a3f5f",
           "arrowhead": 0,
           "arrowwidth": 1
          },
          "autotypenumbers": "strict",
          "coloraxis": {
           "colorbar": {
            "outlinewidth": 0,
            "ticks": ""
           }
          },
          "colorscale": {
           "diverging": [
            [
             0,
             "#8e0152"
            ],
            [
             0.1,
             "#c51b7d"
            ],
            [
             0.2,
             "#de77ae"
            ],
            [
             0.3,
             "#f1b6da"
            ],
            [
             0.4,
             "#fde0ef"
            ],
            [
             0.5,
             "#f7f7f7"
            ],
            [
             0.6,
             "#e6f5d0"
            ],
            [
             0.7,
             "#b8e186"
            ],
            [
             0.8,
             "#7fbc41"
            ],
            [
             0.9,
             "#4d9221"
            ],
            [
             1,
             "#276419"
            ]
           ],
           "sequential": [
            [
             0,
             "#0d0887"
            ],
            [
             0.1111111111111111,
             "#46039f"
            ],
            [
             0.2222222222222222,
             "#7201a8"
            ],
            [
             0.3333333333333333,
             "#9c179e"
            ],
            [
             0.4444444444444444,
             "#bd3786"
            ],
            [
             0.5555555555555556,
             "#d8576b"
            ],
            [
             0.6666666666666666,
             "#ed7953"
            ],
            [
             0.7777777777777778,
             "#fb9f3a"
            ],
            [
             0.8888888888888888,
             "#fdca26"
            ],
            [
             1,
             "#f0f921"
            ]
           ],
           "sequentialminus": [
            [
             0,
             "#0d0887"
            ],
            [
             0.1111111111111111,
             "#46039f"
            ],
            [
             0.2222222222222222,
             "#7201a8"
            ],
            [
             0.3333333333333333,
             "#9c179e"
            ],
            [
             0.4444444444444444,
             "#bd3786"
            ],
            [
             0.5555555555555556,
             "#d8576b"
            ],
            [
             0.6666666666666666,
             "#ed7953"
            ],
            [
             0.7777777777777778,
             "#fb9f3a"
            ],
            [
             0.8888888888888888,
             "#fdca26"
            ],
            [
             1,
             "#f0f921"
            ]
           ]
          },
          "colorway": [
           "#636efa",
           "#EF553B",
           "#00cc96",
           "#ab63fa",
           "#FFA15A",
           "#19d3f3",
           "#FF6692",
           "#B6E880",
           "#FF97FF",
           "#FECB52"
          ],
          "font": {
           "color": "#2a3f5f"
          },
          "geo": {
           "bgcolor": "white",
           "lakecolor": "white",
           "landcolor": "white",
           "showlakes": true,
           "showland": true,
           "subunitcolor": "#C8D4E3"
          },
          "hoverlabel": {
           "align": "left"
          },
          "hovermode": "closest",
          "mapbox": {
           "style": "light"
          },
          "paper_bgcolor": "white",
          "plot_bgcolor": "white",
          "polar": {
           "angularaxis": {
            "gridcolor": "#EBF0F8",
            "linecolor": "#EBF0F8",
            "ticks": ""
           },
           "bgcolor": "white",
           "radialaxis": {
            "gridcolor": "#EBF0F8",
            "linecolor": "#EBF0F8",
            "ticks": ""
           }
          },
          "scene": {
           "xaxis": {
            "backgroundcolor": "white",
            "gridcolor": "#DFE8F3",
            "gridwidth": 2,
            "linecolor": "#EBF0F8",
            "showbackground": true,
            "ticks": "",
            "zerolinecolor": "#EBF0F8"
           },
           "yaxis": {
            "backgroundcolor": "white",
            "gridcolor": "#DFE8F3",
            "gridwidth": 2,
            "linecolor": "#EBF0F8",
            "showbackground": true,
            "ticks": "",
            "zerolinecolor": "#EBF0F8"
           },
           "zaxis": {
            "backgroundcolor": "white",
            "gridcolor": "#DFE8F3",
            "gridwidth": 2,
            "linecolor": "#EBF0F8",
            "showbackground": true,
            "ticks": "",
            "zerolinecolor": "#EBF0F8"
           }
          },
          "shapedefaults": {
           "line": {
            "color": "#2a3f5f"
           }
          },
          "ternary": {
           "aaxis": {
            "gridcolor": "#DFE8F3",
            "linecolor": "#A2B1C6",
            "ticks": ""
           },
           "baxis": {
            "gridcolor": "#DFE8F3",
            "linecolor": "#A2B1C6",
            "ticks": ""
           },
           "bgcolor": "white",
           "caxis": {
            "gridcolor": "#DFE8F3",
            "linecolor": "#A2B1C6",
            "ticks": ""
           }
          },
          "title": {
           "x": 0.05
          },
          "xaxis": {
           "automargin": true,
           "gridcolor": "#EBF0F8",
           "linecolor": "#EBF0F8",
           "ticks": "",
           "title": {
            "standoff": 15
           },
           "zerolinecolor": "#EBF0F8",
           "zerolinewidth": 2
          },
          "yaxis": {
           "automargin": true,
           "gridcolor": "#EBF0F8",
           "linecolor": "#EBF0F8",
           "ticks": "",
           "title": {
            "standoff": 15
           },
           "zerolinecolor": "#EBF0F8",
           "zerolinewidth": 2
          }
         }
        },
        "title": {
         "text": "Comparação CO₂ - Caso de teste: RM10 - Aceleração constante - ETHANOL",
         "x": 0.5
        },
        "xaxis": {
         "title": {
          "text": "Amostras"
         }
        },
        "yaxis": {
         "title": {
          "text": "CO₂ (g/s)"
         }
        }
       }
      }
     },
     "metadata": {},
     "output_type": "display_data"
    },
    {
     "name": "stdout",
     "output_type": "stream",
     "text": [
      "\n",
      "🔁 Caso de teste: RM10 - Aceleração constante (GASOLINE)\n",
      "Diferença Média: 0.3311 | Diferença Máxima: 2.1784 | Erro Quadrático Médio (RMSE): 0.4981 | Desvio Padrão (Std): 0.3721\n"
     ]
    },
    {
     "data": {
      "text/html": [
       "<style type=\"text/css\">\n",
       "</style>\n",
       "<table id=\"T_41fbd\">\n",
       "  <caption>Comparação dos dados originais e modificados - Caso de teste: RM10 - Aceleração constante (GASOLINE)</caption>\n",
       "  <thead>\n",
       "    <tr>\n",
       "      <th class=\"blank level0\" >&nbsp;</th>\n",
       "      <th id=\"T_41fbd_level0_col0\" class=\"col_heading level0 col0\" >Latitude_Orig</th>\n",
       "      <th id=\"T_41fbd_level0_col1\" class=\"col_heading level0 col1\" >Longitude_Orig</th>\n",
       "      <th id=\"T_41fbd_level0_col2\" class=\"col_heading level0 col2\" >Speed(OBD)(km/h)_Orig</th>\n",
       "      <th id=\"T_41fbd_level0_col3\" class=\"col_heading level0 col3\" >Acceleration_Orig</th>\n",
       "      <th id=\"T_41fbd_level0_col4\" class=\"col_heading level0 col4\" > </th>\n",
       "      <th id=\"T_41fbd_level0_col5\" class=\"col_heading level0 col5\" >Latitude_Mod</th>\n",
       "      <th id=\"T_41fbd_level0_col6\" class=\"col_heading level0 col6\" >Longitude_Mod</th>\n",
       "      <th id=\"T_41fbd_level0_col7\" class=\"col_heading level0 col7\" >Speed(OBD)(km/h)_Mod</th>\n",
       "      <th id=\"T_41fbd_level0_col8\" class=\"col_heading level0 col8\" >Acceleration_Mod</th>\n",
       "      <th id=\"T_41fbd_level0_col9\" class=\"col_heading level0 col9\" > </th>\n",
       "      <th id=\"T_41fbd_level0_col10\" class=\"col_heading level0 col10\" >CO₂_Real</th>\n",
       "      <th id=\"T_41fbd_level0_col11\" class=\"col_heading level0 col11\" >CO₂_Orig</th>\n",
       "      <th id=\"T_41fbd_level0_col12\" class=\"col_heading level0 col12\" >CO₂_Mod</th>\n",
       "    </tr>\n",
       "  </thead>\n",
       "  <tbody>\n",
       "    <tr>\n",
       "      <th id=\"T_41fbd_level0_row0\" class=\"row_heading level0 row0\" >0</th>\n",
       "      <td id=\"T_41fbd_row0_col0\" class=\"data row0 col0\" >-5.820010</td>\n",
       "      <td id=\"T_41fbd_row0_col1\" class=\"data row0 col1\" >-35.220825</td>\n",
       "      <td id=\"T_41fbd_row0_col2\" class=\"data row0 col2\" >5</td>\n",
       "      <td id=\"T_41fbd_row0_col3\" class=\"data row0 col3\" >0.000000</td>\n",
       "      <td id=\"T_41fbd_row0_col4\" class=\"data row0 col4\" >→</td>\n",
       "      <td id=\"T_41fbd_row0_col5\" class=\"data row0 col5\" >-5.820010</td>\n",
       "      <td id=\"T_41fbd_row0_col6\" class=\"data row0 col6\" >-35.220825</td>\n",
       "      <td id=\"T_41fbd_row0_col7\" class=\"data row0 col7\" >5</td>\n",
       "      <td id=\"T_41fbd_row0_col8\" class=\"data row0 col8\" >-0.000733</td>\n",
       "      <td id=\"T_41fbd_row0_col9\" class=\"data row0 col9\" > </td>\n",
       "      <td id=\"T_41fbd_row0_col10\" class=\"data row0 col10\" >1.002671</td>\n",
       "      <td id=\"T_41fbd_row0_col11\" class=\"data row0 col11\" >1.456781</td>\n",
       "      <td id=\"T_41fbd_row0_col12\" class=\"data row0 col12\" >1.016708</td>\n",
       "    </tr>\n",
       "    <tr>\n",
       "      <th id=\"T_41fbd_level0_row1\" class=\"row_heading level0 row1\" >1</th>\n",
       "      <td id=\"T_41fbd_row1_col0\" class=\"data row1 col0\" >-5.820013</td>\n",
       "      <td id=\"T_41fbd_row1_col1\" class=\"data row1 col1\" >-35.220822</td>\n",
       "      <td id=\"T_41fbd_row1_col2\" class=\"data row1 col2\" >4</td>\n",
       "      <td id=\"T_41fbd_row1_col3\" class=\"data row1 col3\" >-0.277778</td>\n",
       "      <td id=\"T_41fbd_row1_col4\" class=\"data row1 col4\" >→</td>\n",
       "      <td id=\"T_41fbd_row1_col5\" class=\"data row1 col5\" >-5.820013</td>\n",
       "      <td id=\"T_41fbd_row1_col6\" class=\"data row1 col6\" >-35.220822</td>\n",
       "      <td id=\"T_41fbd_row1_col7\" class=\"data row1 col7\" >4</td>\n",
       "      <td id=\"T_41fbd_row1_col8\" class=\"data row1 col8\" >-0.000733</td>\n",
       "      <td id=\"T_41fbd_row1_col9\" class=\"data row1 col9\" > </td>\n",
       "      <td id=\"T_41fbd_row1_col10\" class=\"data row1 col10\" >1.013360</td>\n",
       "      <td id=\"T_41fbd_row1_col11\" class=\"data row1 col11\" >1.016708</td>\n",
       "      <td id=\"T_41fbd_row1_col12\" class=\"data row1 col12\" >1.016708</td>\n",
       "    </tr>\n",
       "    <tr>\n",
       "      <th id=\"T_41fbd_level0_row2\" class=\"row_heading level0 row2\" >2</th>\n",
       "      <td id=\"T_41fbd_row2_col0\" class=\"data row2 col0\" >-5.820016</td>\n",
       "      <td id=\"T_41fbd_row2_col1\" class=\"data row2 col1\" >-35.220819</td>\n",
       "      <td id=\"T_41fbd_row2_col2\" class=\"data row2 col2\" >5</td>\n",
       "      <td id=\"T_41fbd_row2_col3\" class=\"data row2 col3\" >0.277778</td>\n",
       "      <td id=\"T_41fbd_row2_col4\" class=\"data row2 col4\" >→</td>\n",
       "      <td id=\"T_41fbd_row2_col5\" class=\"data row2 col5\" >-5.820016</td>\n",
       "      <td id=\"T_41fbd_row2_col6\" class=\"data row2 col6\" >-35.220819</td>\n",
       "      <td id=\"T_41fbd_row2_col7\" class=\"data row2 col7\" >5</td>\n",
       "      <td id=\"T_41fbd_row2_col8\" class=\"data row2 col8\" >-0.000733</td>\n",
       "      <td id=\"T_41fbd_row2_col9\" class=\"data row2 col9\" > </td>\n",
       "      <td id=\"T_41fbd_row2_col10\" class=\"data row2 col10\" >2.088720</td>\n",
       "      <td id=\"T_41fbd_row2_col11\" class=\"data row2 col11\" >1.456781</td>\n",
       "      <td id=\"T_41fbd_row2_col12\" class=\"data row2 col12\" >1.016708</td>\n",
       "    </tr>\n",
       "    <tr>\n",
       "      <th id=\"T_41fbd_level0_row3\" class=\"row_heading level0 row3\" >3</th>\n",
       "      <td id=\"T_41fbd_row3_col0\" class=\"data row3 col0\" >-5.820014</td>\n",
       "      <td id=\"T_41fbd_row3_col1\" class=\"data row3 col1\" >-35.220825</td>\n",
       "      <td id=\"T_41fbd_row3_col2\" class=\"data row3 col2\" >7</td>\n",
       "      <td id=\"T_41fbd_row3_col3\" class=\"data row3 col3\" >0.555556</td>\n",
       "      <td id=\"T_41fbd_row3_col4\" class=\"data row3 col4\" >→</td>\n",
       "      <td id=\"T_41fbd_row3_col5\" class=\"data row3 col5\" >-5.820014</td>\n",
       "      <td id=\"T_41fbd_row3_col6\" class=\"data row3 col6\" >-35.220825</td>\n",
       "      <td id=\"T_41fbd_row3_col7\" class=\"data row3 col7\" >7</td>\n",
       "      <td id=\"T_41fbd_row3_col8\" class=\"data row3 col8\" >-0.000733</td>\n",
       "      <td id=\"T_41fbd_row3_col9\" class=\"data row3 col9\" > </td>\n",
       "      <td id=\"T_41fbd_row3_col10\" class=\"data row3 col10\" >2.261889</td>\n",
       "      <td id=\"T_41fbd_row3_col11\" class=\"data row3 col11\" >1.996380</td>\n",
       "      <td id=\"T_41fbd_row3_col12\" class=\"data row3 col12\" >0.972466</td>\n",
       "    </tr>\n",
       "    <tr>\n",
       "      <th id=\"T_41fbd_level0_row4\" class=\"row_heading level0 row4\" >4</th>\n",
       "      <td id=\"T_41fbd_row4_col0\" class=\"data row4 col0\" >-5.819992</td>\n",
       "      <td id=\"T_41fbd_row4_col1\" class=\"data row4 col1\" >-35.220829</td>\n",
       "      <td id=\"T_41fbd_row4_col2\" class=\"data row4 col2\" >9</td>\n",
       "      <td id=\"T_41fbd_row4_col3\" class=\"data row4 col3\" >0.555556</td>\n",
       "      <td id=\"T_41fbd_row4_col4\" class=\"data row4 col4\" >→</td>\n",
       "      <td id=\"T_41fbd_row4_col5\" class=\"data row4 col5\" >-5.819992</td>\n",
       "      <td id=\"T_41fbd_row4_col6\" class=\"data row4 col6\" >-35.220829</td>\n",
       "      <td id=\"T_41fbd_row4_col7\" class=\"data row4 col7\" >9</td>\n",
       "      <td id=\"T_41fbd_row4_col8\" class=\"data row4 col8\" >-0.000733</td>\n",
       "      <td id=\"T_41fbd_row4_col9\" class=\"data row4 col9\" > </td>\n",
       "      <td id=\"T_41fbd_row4_col10\" class=\"data row4 col10\" >2.499195</td>\n",
       "      <td id=\"T_41fbd_row4_col11\" class=\"data row4 col11\" >2.400486</td>\n",
       "      <td id=\"T_41fbd_row4_col12\" class=\"data row4 col12\" >1.621746</td>\n",
       "    </tr>\n",
       "    <tr>\n",
       "      <th id=\"T_41fbd_level0_row5\" class=\"row_heading level0 row5\" >5</th>\n",
       "      <td id=\"T_41fbd_row5_col0\" class=\"data row5 col0\" >-5.819974</td>\n",
       "      <td id=\"T_41fbd_row5_col1\" class=\"data row5 col1\" >-35.220824</td>\n",
       "      <td id=\"T_41fbd_row5_col2\" class=\"data row5 col2\" >12</td>\n",
       "      <td id=\"T_41fbd_row5_col3\" class=\"data row5 col3\" >0.833333</td>\n",
       "      <td id=\"T_41fbd_row5_col4\" class=\"data row5 col4\" >→</td>\n",
       "      <td id=\"T_41fbd_row5_col5\" class=\"data row5 col5\" >-5.819974</td>\n",
       "      <td id=\"T_41fbd_row5_col6\" class=\"data row5 col6\" >-35.220824</td>\n",
       "      <td id=\"T_41fbd_row5_col7\" class=\"data row5 col7\" >12</td>\n",
       "      <td id=\"T_41fbd_row5_col8\" class=\"data row5 col8\" >-0.000733</td>\n",
       "      <td id=\"T_41fbd_row5_col9\" class=\"data row5 col9\" > </td>\n",
       "      <td id=\"T_41fbd_row5_col10\" class=\"data row5 col10\" >2.606089</td>\n",
       "      <td id=\"T_41fbd_row5_col11\" class=\"data row5 col11\" >2.400486</td>\n",
       "      <td id=\"T_41fbd_row5_col12\" class=\"data row5 col12\" >1.630442</td>\n",
       "    </tr>\n",
       "    <tr>\n",
       "      <th id=\"T_41fbd_level0_row6\" class=\"row_heading level0 row6\" >6</th>\n",
       "      <td id=\"T_41fbd_row6_col0\" class=\"data row6 col0\" >-5.819944</td>\n",
       "      <td id=\"T_41fbd_row6_col1\" class=\"data row6 col1\" >-35.220823</td>\n",
       "      <td id=\"T_41fbd_row6_col2\" class=\"data row6 col2\" >15</td>\n",
       "      <td id=\"T_41fbd_row6_col3\" class=\"data row6 col3\" >0.833333</td>\n",
       "      <td id=\"T_41fbd_row6_col4\" class=\"data row6 col4\" >→</td>\n",
       "      <td id=\"T_41fbd_row6_col5\" class=\"data row6 col5\" >-5.819944</td>\n",
       "      <td id=\"T_41fbd_row6_col6\" class=\"data row6 col6\" >-35.220823</td>\n",
       "      <td id=\"T_41fbd_row6_col7\" class=\"data row6 col7\" >15</td>\n",
       "      <td id=\"T_41fbd_row6_col8\" class=\"data row6 col8\" >-0.000733</td>\n",
       "      <td id=\"T_41fbd_row6_col9\" class=\"data row6 col9\" > </td>\n",
       "      <td id=\"T_41fbd_row6_col10\" class=\"data row6 col10\" >3.070012</td>\n",
       "      <td id=\"T_41fbd_row6_col11\" class=\"data row6 col11\" >2.148721</td>\n",
       "      <td id=\"T_41fbd_row6_col12\" class=\"data row6 col12\" >1.361783</td>\n",
       "    </tr>\n",
       "    <tr>\n",
       "      <th id=\"T_41fbd_level0_row7\" class=\"row_heading level0 row7\" >7</th>\n",
       "      <td id=\"T_41fbd_row7_col0\" class=\"data row7 col0\" >-5.819908</td>\n",
       "      <td id=\"T_41fbd_row7_col1\" class=\"data row7 col1\" >-35.220810</td>\n",
       "      <td id=\"T_41fbd_row7_col2\" class=\"data row7 col2\" >18</td>\n",
       "      <td id=\"T_41fbd_row7_col3\" class=\"data row7 col3\" >0.833333</td>\n",
       "      <td id=\"T_41fbd_row7_col4\" class=\"data row7 col4\" >→</td>\n",
       "      <td id=\"T_41fbd_row7_col5\" class=\"data row7 col5\" >-5.819908</td>\n",
       "      <td id=\"T_41fbd_row7_col6\" class=\"data row7 col6\" >-35.220810</td>\n",
       "      <td id=\"T_41fbd_row7_col7\" class=\"data row7 col7\" >18</td>\n",
       "      <td id=\"T_41fbd_row7_col8\" class=\"data row7 col8\" >-0.000733</td>\n",
       "      <td id=\"T_41fbd_row7_col9\" class=\"data row7 col9\" > </td>\n",
       "      <td id=\"T_41fbd_row7_col10\" class=\"data row7 col10\" >2.445747</td>\n",
       "      <td id=\"T_41fbd_row7_col11\" class=\"data row7 col11\" >1.470940</td>\n",
       "      <td id=\"T_41fbd_row7_col12\" class=\"data row7 col12\" >0.924451</td>\n",
       "    </tr>\n",
       "    <tr>\n",
       "      <th id=\"T_41fbd_level0_row8\" class=\"row_heading level0 row8\" >8</th>\n",
       "      <td id=\"T_41fbd_row8_col0\" class=\"data row8 col0\" >-5.819866</td>\n",
       "      <td id=\"T_41fbd_row8_col1\" class=\"data row8 col1\" >-35.220794</td>\n",
       "      <td id=\"T_41fbd_row8_col2\" class=\"data row8 col2\" >18</td>\n",
       "      <td id=\"T_41fbd_row8_col3\" class=\"data row8 col3\" >0.000000</td>\n",
       "      <td id=\"T_41fbd_row8_col4\" class=\"data row8 col4\" >→</td>\n",
       "      <td id=\"T_41fbd_row8_col5\" class=\"data row8 col5\" >-5.819866</td>\n",
       "      <td id=\"T_41fbd_row8_col6\" class=\"data row8 col6\" >-35.220794</td>\n",
       "      <td id=\"T_41fbd_row8_col7\" class=\"data row8 col7\" >18</td>\n",
       "      <td id=\"T_41fbd_row8_col8\" class=\"data row8 col8\" >-0.000733</td>\n",
       "      <td id=\"T_41fbd_row8_col9\" class=\"data row8 col9\" > </td>\n",
       "      <td id=\"T_41fbd_row8_col10\" class=\"data row8 col10\" >1.073221</td>\n",
       "      <td id=\"T_41fbd_row8_col11\" class=\"data row8 col11\" >1.588029</td>\n",
       "      <td id=\"T_41fbd_row8_col12\" class=\"data row8 col12\" >1.040891</td>\n",
       "    </tr>\n",
       "    <tr>\n",
       "      <th id=\"T_41fbd_level0_row9\" class=\"row_heading level0 row9\" >9</th>\n",
       "      <td id=\"T_41fbd_row9_col0\" class=\"data row9 col0\" >-5.819821</td>\n",
       "      <td id=\"T_41fbd_row9_col1\" class=\"data row9 col1\" >-35.220775</td>\n",
       "      <td id=\"T_41fbd_row9_col2\" class=\"data row9 col2\" >16</td>\n",
       "      <td id=\"T_41fbd_row9_col3\" class=\"data row9 col3\" >-0.555556</td>\n",
       "      <td id=\"T_41fbd_row9_col4\" class=\"data row9 col4\" >→</td>\n",
       "      <td id=\"T_41fbd_row9_col5\" class=\"data row9 col5\" >-5.819821</td>\n",
       "      <td id=\"T_41fbd_row9_col6\" class=\"data row9 col6\" >-35.220775</td>\n",
       "      <td id=\"T_41fbd_row9_col7\" class=\"data row9 col7\" >16</td>\n",
       "      <td id=\"T_41fbd_row9_col8\" class=\"data row9 col8\" >-0.000733</td>\n",
       "      <td id=\"T_41fbd_row9_col9\" class=\"data row9 col9\" > </td>\n",
       "      <td id=\"T_41fbd_row9_col10\" class=\"data row9 col10\" >0.562265</td>\n",
       "      <td id=\"T_41fbd_row9_col11\" class=\"data row9 col11\" >1.085921</td>\n",
       "      <td id=\"T_41fbd_row9_col12\" class=\"data row9 col12\" >1.085921</td>\n",
       "    </tr>\n",
       "  </tbody>\n",
       "</table>\n"
      ],
      "text/plain": [
       "<pandas.io.formats.style.Styler at 0x1bd8bc0ad90>"
      ]
     },
     "metadata": {},
     "output_type": "display_data"
    },
    {
     "data": {
      "application/vnd.plotly.v1+json": {
       "config": {
        "plotlyServerURL": "https://plot.ly"
       },
       "data": [
        {
         "line": {
          "color": "green",
          "dash": "dot"
         },
         "mode": "lines",
         "name": "Real",
         "type": "scatter",
         "y": {
          "bdata": "fgFSsvAK8D+A9UFnuTbwP+sFLaeytQBAlHGRLVkYAkBCucXSWf4DQEt9dVtF2QRAqBJmS2KPCEA+120O5JADQCN/TinqK/E/+as09BP+4T+aTWFMs5viP5pNYUyzm+I/XDzytNji+j+dNUG2RPMCQCiGK0XJLgZAUV/NH7tGBUCt9L0P2PwIQMoh0PdM4gZALUmGV/HwAUC7e8iq65kFQJWKBjqL2QZAPtdtDuSQA0A+120O5JADQD/LXcOsvPM/G9QTrTAS5T+dNUG2RPPiPz7XbQ7kkOM/PtdtDuSQ4z+N38u90b/qPypPDv0M2/E/XDzytNjiCkCoDN6lRqUIQKgM3qVGpQhA8yxc66J8D0BuxFHGr5gMQIjedkcOpwVAJ4Cjn61EBkBRX80fu0YFQLWf+IuRFgVAtZ/4i5EWBUBZCgicdGDxP1JTvdSDcvU/1NlvNQHp9z+u1cBdilHkP67VwF2KUeQ/oGcrz6h17D9QRlgTiYXwP5J9oXiQ7PE/kn2heJDs8T/DRQDZ8l7mP79dIG9hB+Y/v10gb2EH5j+/XSBvYQfmP2LnLDGS/OY/sOIlH4U+6T/qekRTCmDuP6BnK8+odew/mWxe/gBHB0CpJVOyeGYNQIFGKTJrZA5AgUYpMmtkDkDqCPF5wKoQQNfm1Pb71QxA1+bU9vvVDEDDRQDZ8l7mP8A4mxf4ceE/+as09BP+4T9i5ywxkvzmP2LnLDGS/OY/QeTSz9596D9B5NLP3n3oPzJEUyiZH+c/MkRTKJkf5z95fPEDZJ/tP3l88QNkn+0/2trEq8QB7T8Lfp60vd7sP9by5EEzquw/LlxzvgfI5j8uXHO+B8jmP79dIG9hB+Y/idJm/NbS5T/DRQDZ8l7mP/jQuUt9k+Y/+NC5S32T5j8g7t0vJuzuPwt+nrS93uw/nH9LZRce7D9q3HFcHkHsP2rccVweQew/H7zzFsJp5T8fvPMWwmnlP/jQuUt9k+Y/LlxzvgfI5j8uXHO+B8jmPy5cc74HyOY/atxxXB5B7D9q3HFcHkHsPwt+nrS93uw/1vLkQTOq7D8=",
          "dtype": "f8"
         }
        },
        {
         "line": {
          "color": "blue",
          "dash": "dash"
         },
         "mode": "lines",
         "name": "Predição Original",
         "type": "scatter",
         "y": {
          "bdata": "nyhPnflO9z9gHHYQcETwP58oT535Tvc/NcYJ3ivx/z/H027bMTQDQMfTbtsxNANAW6JizpQwAUDSiMQk+Ij3P/2q4seQaPk/ZH6eRe5f8T9BGZ5ZmvD3PzitkrX97Pg/sjPog+dN+z+SSuHot2oCQJww0qNNLgNA8cQEdVL2B0A1HTGC8yUFQJ1s4cie0QVAPEfMwV4IAkA8R8zBXggCQF2Pwwd46AFAbpuVTxN2+j/IvXHXsBP6P0OwSlf+P/c/2pPnoDIS6T+hOYU4eCfuPxp0K9BUbOo/ThQjZ9o8AEBABo/x9pL3P3F+mAxJHfY/vjt97VxcAkC1xmrF5DgDQOa6Z/pAWAZAUonaDz/zBED9aMiraIEDQPruFYWieANA+u4VhaJ4A0CoKE294o/7Pxk9jtecgfw/S7H7xD8A/j92WkFYmFz2P7S5Onx/Bvo/RX1rWH4i8z/oY5hva434P1TJv1Fh2es/2F3p5aM27D+RtiC+vPzzP6NexDxw2fI/XyhyWTnN9D+DFQQ4srDxP7jtWJ1vMew/uO1YnW8x7D+47VidbzHsP7jtWJ1vMew/uO1YnW8x7D+47VidbzHsP7jtWJ1vMew/uO1YnW8x7D8nAD+TNLUCQNaKcWWMugZA0Uv5KVIhCEA+8WTkUCIIQPi+a1e0Yw5Ayp9UILRhDkDaMTNkxTIBQMaASEASVe8/28WzSFf/7z9COf9b/WfwPxW/p/5ScP0/VZWNuaJb6j9o0D7Y66zqP2jQPtjrrOo/aNA+2Ous6j9o0D7Y66zqP2jQPtjrrOo/aNA+2Ous6j9o0D7Y66zqP2jQPtjrrOo/aNA+2Ous6j9o0D7Y66zqP2jQPtjrrOo/aNA+2Ous6j9o0D7Y66zqP2jQPtjrrOo/aNA+2Ous6j9o0D7Y66zqP2jQPtjrrOo/aNA+2Ous6j9o0D7Y66zqP2jQPtjrrOo/aNA+2Ous6j9o0D7Y66zqP2jQPtjrrOo/aNA+2Ous6j9o0D7Y66zqP2jQPtjrrOo/aNA+2Ous6j9o0D7Y66zqP2jQPtjrrOo/aNA+2Ous6j8=",
          "dtype": "f8"
         }
        },
        {
         "line": {
          "color": "red"
         },
         "mode": "lines",
         "name": "Predição com RM",
         "type": "scatter",
         "y": {
          "bdata": "YBx2EHBE8D9gHHYQcETwP2AcdhBwRPA/AWfH8HAe7z8/Wsabq/L5P6WlLY1KFvo/KiL5otzJ9T9UxzJIGpXtP9/2+LZ9p/A/ZH6eRe5f8T9BGZ5ZmvD3PzitkrX97Pg/sjPog+dN+z/T+2OcOe/8P3mhGjiqnv4/v058LY88AEAWpuYVXsr/PwB+RspgvP4/f2jBYG6G+D9/aMFgbob4PzcBzuwFKvY/yGZCpwys8j/IZkKnDKzyP2UxaiO7M/I/jhh/6ra88D+hOYU4eCfuP1r0TdC9lvE//rOOZpKi9D8c4o0dyaD5PwVPhyXsh/c/kedD+Zz59z/iJz7YNNT5P9wGF9nwsP8/nHmIuM/h/j/MF/2x9Xn9PxhrkQFl/fo/GGuRAWX9+j8yl0wkWnfzP7Rj0vGs5/M/AkHM7ye09j92WkFYmFz2P3ZaQViYXPY/RX1rWH4i8z9FfWtYfiLzPz9IDDezIfI/iEhZ0rVJ8T/RR5DBJ270P0HFavBRqfI/QcVq8FGp8j+DFQQ4srDxP4MVBDiysPE/gxUEOLKw8T+DFQQ4srDxP4MVBDiysPE/gxUEOLKw8T+DFQQ4srDxP4MVBDiysPE/gxUEOLKw8T9tLDnuuZIAQIvIulpfqgBAPpTyNfs4AEB1a21UQ60EQGemtynBswVAZ6a3KcGzBUBNegV9M8bwP+rVvtk+hvI/VKHFkN798T+IO8DtZfPzP4g7wO1l8/M/1aQOHbok6j/VpA4duiTqP9WkDh26JOo/1aQOHbok6j/VpA4duiTqP9WkDh26JOo/1aQOHbok6j/VpA4duiTqP9WkDh26JOo/1aQOHbok6j/VpA4duiTqP9WkDh26JOo/1aQOHbok6j/VpA4duiTqP9WkDh26JOo/1aQOHbok6j/VpA4duiTqP9WkDh26JOo/1aQOHbok6j/VpA4duiTqP9WkDh26JOo/1aQOHbok6j/VpA4duiTqP9WkDh26JOo/1aQOHbok6j/VpA4duiTqP9WkDh26JOo/1aQOHbok6j/VpA4duiTqP9WkDh26JOo/1aQOHbok6j8=",
          "dtype": "f8"
         }
        }
       ],
       "layout": {
        "template": {
         "data": {
          "bar": [
           {
            "error_x": {
             "color": "#2a3f5f"
            },
            "error_y": {
             "color": "#2a3f5f"
            },
            "marker": {
             "line": {
              "color": "white",
              "width": 0.5
             },
             "pattern": {
              "fillmode": "overlay",
              "size": 10,
              "solidity": 0.2
             }
            },
            "type": "bar"
           }
          ],
          "barpolar": [
           {
            "marker": {
             "line": {
              "color": "white",
              "width": 0.5
             },
             "pattern": {
              "fillmode": "overlay",
              "size": 10,
              "solidity": 0.2
             }
            },
            "type": "barpolar"
           }
          ],
          "carpet": [
           {
            "aaxis": {
             "endlinecolor": "#2a3f5f",
             "gridcolor": "#C8D4E3",
             "linecolor": "#C8D4E3",
             "minorgridcolor": "#C8D4E3",
             "startlinecolor": "#2a3f5f"
            },
            "baxis": {
             "endlinecolor": "#2a3f5f",
             "gridcolor": "#C8D4E3",
             "linecolor": "#C8D4E3",
             "minorgridcolor": "#C8D4E3",
             "startlinecolor": "#2a3f5f"
            },
            "type": "carpet"
           }
          ],
          "choropleth": [
           {
            "colorbar": {
             "outlinewidth": 0,
             "ticks": ""
            },
            "type": "choropleth"
           }
          ],
          "contour": [
           {
            "colorbar": {
             "outlinewidth": 0,
             "ticks": ""
            },
            "colorscale": [
             [
              0,
              "#0d0887"
             ],
             [
              0.1111111111111111,
              "#46039f"
             ],
             [
              0.2222222222222222,
              "#7201a8"
             ],
             [
              0.3333333333333333,
              "#9c179e"
             ],
             [
              0.4444444444444444,
              "#bd3786"
             ],
             [
              0.5555555555555556,
              "#d8576b"
             ],
             [
              0.6666666666666666,
              "#ed7953"
             ],
             [
              0.7777777777777778,
              "#fb9f3a"
             ],
             [
              0.8888888888888888,
              "#fdca26"
             ],
             [
              1,
              "#f0f921"
             ]
            ],
            "type": "contour"
           }
          ],
          "contourcarpet": [
           {
            "colorbar": {
             "outlinewidth": 0,
             "ticks": ""
            },
            "type": "contourcarpet"
           }
          ],
          "heatmap": [
           {
            "colorbar": {
             "outlinewidth": 0,
             "ticks": ""
            },
            "colorscale": [
             [
              0,
              "#0d0887"
             ],
             [
              0.1111111111111111,
              "#46039f"
             ],
             [
              0.2222222222222222,
              "#7201a8"
             ],
             [
              0.3333333333333333,
              "#9c179e"
             ],
             [
              0.4444444444444444,
              "#bd3786"
             ],
             [
              0.5555555555555556,
              "#d8576b"
             ],
             [
              0.6666666666666666,
              "#ed7953"
             ],
             [
              0.7777777777777778,
              "#fb9f3a"
             ],
             [
              0.8888888888888888,
              "#fdca26"
             ],
             [
              1,
              "#f0f921"
             ]
            ],
            "type": "heatmap"
           }
          ],
          "histogram": [
           {
            "marker": {
             "pattern": {
              "fillmode": "overlay",
              "size": 10,
              "solidity": 0.2
             }
            },
            "type": "histogram"
           }
          ],
          "histogram2d": [
           {
            "colorbar": {
             "outlinewidth": 0,
             "ticks": ""
            },
            "colorscale": [
             [
              0,
              "#0d0887"
             ],
             [
              0.1111111111111111,
              "#46039f"
             ],
             [
              0.2222222222222222,
              "#7201a8"
             ],
             [
              0.3333333333333333,
              "#9c179e"
             ],
             [
              0.4444444444444444,
              "#bd3786"
             ],
             [
              0.5555555555555556,
              "#d8576b"
             ],
             [
              0.6666666666666666,
              "#ed7953"
             ],
             [
              0.7777777777777778,
              "#fb9f3a"
             ],
             [
              0.8888888888888888,
              "#fdca26"
             ],
             [
              1,
              "#f0f921"
             ]
            ],
            "type": "histogram2d"
           }
          ],
          "histogram2dcontour": [
           {
            "colorbar": {
             "outlinewidth": 0,
             "ticks": ""
            },
            "colorscale": [
             [
              0,
              "#0d0887"
             ],
             [
              0.1111111111111111,
              "#46039f"
             ],
             [
              0.2222222222222222,
              "#7201a8"
             ],
             [
              0.3333333333333333,
              "#9c179e"
             ],
             [
              0.4444444444444444,
              "#bd3786"
             ],
             [
              0.5555555555555556,
              "#d8576b"
             ],
             [
              0.6666666666666666,
              "#ed7953"
             ],
             [
              0.7777777777777778,
              "#fb9f3a"
             ],
             [
              0.8888888888888888,
              "#fdca26"
             ],
             [
              1,
              "#f0f921"
             ]
            ],
            "type": "histogram2dcontour"
           }
          ],
          "mesh3d": [
           {
            "colorbar": {
             "outlinewidth": 0,
             "ticks": ""
            },
            "type": "mesh3d"
           }
          ],
          "parcoords": [
           {
            "line": {
             "colorbar": {
              "outlinewidth": 0,
              "ticks": ""
             }
            },
            "type": "parcoords"
           }
          ],
          "pie": [
           {
            "automargin": true,
            "type": "pie"
           }
          ],
          "scatter": [
           {
            "fillpattern": {
             "fillmode": "overlay",
             "size": 10,
             "solidity": 0.2
            },
            "type": "scatter"
           }
          ],
          "scatter3d": [
           {
            "line": {
             "colorbar": {
              "outlinewidth": 0,
              "ticks": ""
             }
            },
            "marker": {
             "colorbar": {
              "outlinewidth": 0,
              "ticks": ""
             }
            },
            "type": "scatter3d"
           }
          ],
          "scattercarpet": [
           {
            "marker": {
             "colorbar": {
              "outlinewidth": 0,
              "ticks": ""
             }
            },
            "type": "scattercarpet"
           }
          ],
          "scattergeo": [
           {
            "marker": {
             "colorbar": {
              "outlinewidth": 0,
              "ticks": ""
             }
            },
            "type": "scattergeo"
           }
          ],
          "scattergl": [
           {
            "marker": {
             "colorbar": {
              "outlinewidth": 0,
              "ticks": ""
             }
            },
            "type": "scattergl"
           }
          ],
          "scattermap": [
           {
            "marker": {
             "colorbar": {
              "outlinewidth": 0,
              "ticks": ""
             }
            },
            "type": "scattermap"
           }
          ],
          "scattermapbox": [
           {
            "marker": {
             "colorbar": {
              "outlinewidth": 0,
              "ticks": ""
             }
            },
            "type": "scattermapbox"
           }
          ],
          "scatterpolar": [
           {
            "marker": {
             "colorbar": {
              "outlinewidth": 0,
              "ticks": ""
             }
            },
            "type": "scatterpolar"
           }
          ],
          "scatterpolargl": [
           {
            "marker": {
             "colorbar": {
              "outlinewidth": 0,
              "ticks": ""
             }
            },
            "type": "scatterpolargl"
           }
          ],
          "scatterternary": [
           {
            "marker": {
             "colorbar": {
              "outlinewidth": 0,
              "ticks": ""
             }
            },
            "type": "scatterternary"
           }
          ],
          "surface": [
           {
            "colorbar": {
             "outlinewidth": 0,
             "ticks": ""
            },
            "colorscale": [
             [
              0,
              "#0d0887"
             ],
             [
              0.1111111111111111,
              "#46039f"
             ],
             [
              0.2222222222222222,
              "#7201a8"
             ],
             [
              0.3333333333333333,
              "#9c179e"
             ],
             [
              0.4444444444444444,
              "#bd3786"
             ],
             [
              0.5555555555555556,
              "#d8576b"
             ],
             [
              0.6666666666666666,
              "#ed7953"
             ],
             [
              0.7777777777777778,
              "#fb9f3a"
             ],
             [
              0.8888888888888888,
              "#fdca26"
             ],
             [
              1,
              "#f0f921"
             ]
            ],
            "type": "surface"
           }
          ],
          "table": [
           {
            "cells": {
             "fill": {
              "color": "#EBF0F8"
             },
             "line": {
              "color": "white"
             }
            },
            "header": {
             "fill": {
              "color": "#C8D4E3"
             },
             "line": {
              "color": "white"
             }
            },
            "type": "table"
           }
          ]
         },
         "layout": {
          "annotationdefaults": {
           "arrowcolor": "#2a3f5f",
           "arrowhead": 0,
           "arrowwidth": 1
          },
          "autotypenumbers": "strict",
          "coloraxis": {
           "colorbar": {
            "outlinewidth": 0,
            "ticks": ""
           }
          },
          "colorscale": {
           "diverging": [
            [
             0,
             "#8e0152"
            ],
            [
             0.1,
             "#c51b7d"
            ],
            [
             0.2,
             "#de77ae"
            ],
            [
             0.3,
             "#f1b6da"
            ],
            [
             0.4,
             "#fde0ef"
            ],
            [
             0.5,
             "#f7f7f7"
            ],
            [
             0.6,
             "#e6f5d0"
            ],
            [
             0.7,
             "#b8e186"
            ],
            [
             0.8,
             "#7fbc41"
            ],
            [
             0.9,
             "#4d9221"
            ],
            [
             1,
             "#276419"
            ]
           ],
           "sequential": [
            [
             0,
             "#0d0887"
            ],
            [
             0.1111111111111111,
             "#46039f"
            ],
            [
             0.2222222222222222,
             "#7201a8"
            ],
            [
             0.3333333333333333,
             "#9c179e"
            ],
            [
             0.4444444444444444,
             "#bd3786"
            ],
            [
             0.5555555555555556,
             "#d8576b"
            ],
            [
             0.6666666666666666,
             "#ed7953"
            ],
            [
             0.7777777777777778,
             "#fb9f3a"
            ],
            [
             0.8888888888888888,
             "#fdca26"
            ],
            [
             1,
             "#f0f921"
            ]
           ],
           "sequentialminus": [
            [
             0,
             "#0d0887"
            ],
            [
             0.1111111111111111,
             "#46039f"
            ],
            [
             0.2222222222222222,
             "#7201a8"
            ],
            [
             0.3333333333333333,
             "#9c179e"
            ],
            [
             0.4444444444444444,
             "#bd3786"
            ],
            [
             0.5555555555555556,
             "#d8576b"
            ],
            [
             0.6666666666666666,
             "#ed7953"
            ],
            [
             0.7777777777777778,
             "#fb9f3a"
            ],
            [
             0.8888888888888888,
             "#fdca26"
            ],
            [
             1,
             "#f0f921"
            ]
           ]
          },
          "colorway": [
           "#636efa",
           "#EF553B",
           "#00cc96",
           "#ab63fa",
           "#FFA15A",
           "#19d3f3",
           "#FF6692",
           "#B6E880",
           "#FF97FF",
           "#FECB52"
          ],
          "font": {
           "color": "#2a3f5f"
          },
          "geo": {
           "bgcolor": "white",
           "lakecolor": "white",
           "landcolor": "white",
           "showlakes": true,
           "showland": true,
           "subunitcolor": "#C8D4E3"
          },
          "hoverlabel": {
           "align": "left"
          },
          "hovermode": "closest",
          "mapbox": {
           "style": "light"
          },
          "paper_bgcolor": "white",
          "plot_bgcolor": "white",
          "polar": {
           "angularaxis": {
            "gridcolor": "#EBF0F8",
            "linecolor": "#EBF0F8",
            "ticks": ""
           },
           "bgcolor": "white",
           "radialaxis": {
            "gridcolor": "#EBF0F8",
            "linecolor": "#EBF0F8",
            "ticks": ""
           }
          },
          "scene": {
           "xaxis": {
            "backgroundcolor": "white",
            "gridcolor": "#DFE8F3",
            "gridwidth": 2,
            "linecolor": "#EBF0F8",
            "showbackground": true,
            "ticks": "",
            "zerolinecolor": "#EBF0F8"
           },
           "yaxis": {
            "backgroundcolor": "white",
            "gridcolor": "#DFE8F3",
            "gridwidth": 2,
            "linecolor": "#EBF0F8",
            "showbackground": true,
            "ticks": "",
            "zerolinecolor": "#EBF0F8"
           },
           "zaxis": {
            "backgroundcolor": "white",
            "gridcolor": "#DFE8F3",
            "gridwidth": 2,
            "linecolor": "#EBF0F8",
            "showbackground": true,
            "ticks": "",
            "zerolinecolor": "#EBF0F8"
           }
          },
          "shapedefaults": {
           "line": {
            "color": "#2a3f5f"
           }
          },
          "ternary": {
           "aaxis": {
            "gridcolor": "#DFE8F3",
            "linecolor": "#A2B1C6",
            "ticks": ""
           },
           "baxis": {
            "gridcolor": "#DFE8F3",
            "linecolor": "#A2B1C6",
            "ticks": ""
           },
           "bgcolor": "white",
           "caxis": {
            "gridcolor": "#DFE8F3",
            "linecolor": "#A2B1C6",
            "ticks": ""
           }
          },
          "title": {
           "x": 0.05
          },
          "xaxis": {
           "automargin": true,
           "gridcolor": "#EBF0F8",
           "linecolor": "#EBF0F8",
           "ticks": "",
           "title": {
            "standoff": 15
           },
           "zerolinecolor": "#EBF0F8",
           "zerolinewidth": 2
          },
          "yaxis": {
           "automargin": true,
           "gridcolor": "#EBF0F8",
           "linecolor": "#EBF0F8",
           "ticks": "",
           "title": {
            "standoff": 15
           },
           "zerolinecolor": "#EBF0F8",
           "zerolinewidth": 2
          }
         }
        },
        "title": {
         "text": "Comparação CO₂ - Caso de teste: RM10 - Aceleração constante - GASOLINE",
         "x": 0.5
        },
        "xaxis": {
         "title": {
          "text": "Amostras"
         }
        },
        "yaxis": {
         "title": {
          "text": "CO₂ (g/s)"
         }
        }
       }
      }
     },
     "metadata": {},
     "output_type": "display_data"
    },
    {
     "name": "stdout",
     "output_type": "stream",
     "text": [
      "\n",
      "🔁 Caso de teste: RM11 - Velocidade e aceleração iguais a zero (ETHANOL)\n",
      "Diferença Média: 0.3167 | Diferença Máxima: 2.2113 | Erro Quadrático Médio (RMSE): 0.5073 | Desvio Padrão (Std): 0.3963\n"
     ]
    },
    {
     "data": {
      "text/html": [
       "<style type=\"text/css\">\n",
       "</style>\n",
       "<table id=\"T_06fe6\">\n",
       "  <caption>Comparação dos dados originais e modificados - Caso de teste: RM11 - Velocidade e aceleração iguais a zero (ETHANOL)</caption>\n",
       "  <thead>\n",
       "    <tr>\n",
       "      <th class=\"blank level0\" >&nbsp;</th>\n",
       "      <th id=\"T_06fe6_level0_col0\" class=\"col_heading level0 col0\" >Latitude_Orig</th>\n",
       "      <th id=\"T_06fe6_level0_col1\" class=\"col_heading level0 col1\" >Longitude_Orig</th>\n",
       "      <th id=\"T_06fe6_level0_col2\" class=\"col_heading level0 col2\" >Speed(OBD)(km/h)_Orig</th>\n",
       "      <th id=\"T_06fe6_level0_col3\" class=\"col_heading level0 col3\" >Acceleration_Orig</th>\n",
       "      <th id=\"T_06fe6_level0_col4\" class=\"col_heading level0 col4\" > </th>\n",
       "      <th id=\"T_06fe6_level0_col5\" class=\"col_heading level0 col5\" >Latitude_Mod</th>\n",
       "      <th id=\"T_06fe6_level0_col6\" class=\"col_heading level0 col6\" >Longitude_Mod</th>\n",
       "      <th id=\"T_06fe6_level0_col7\" class=\"col_heading level0 col7\" >Speed(OBD)(km/h)_Mod</th>\n",
       "      <th id=\"T_06fe6_level0_col8\" class=\"col_heading level0 col8\" >Acceleration_Mod</th>\n",
       "      <th id=\"T_06fe6_level0_col9\" class=\"col_heading level0 col9\" > </th>\n",
       "      <th id=\"T_06fe6_level0_col10\" class=\"col_heading level0 col10\" >CO₂_Real</th>\n",
       "      <th id=\"T_06fe6_level0_col11\" class=\"col_heading level0 col11\" >CO₂_Orig</th>\n",
       "      <th id=\"T_06fe6_level0_col12\" class=\"col_heading level0 col12\" >CO₂_Mod</th>\n",
       "    </tr>\n",
       "  </thead>\n",
       "  <tbody>\n",
       "    <tr>\n",
       "      <th id=\"T_06fe6_level0_row0\" class=\"row_heading level0 row0\" >0</th>\n",
       "      <td id=\"T_06fe6_row0_col0\" class=\"data row0 col0\" >-5.820105</td>\n",
       "      <td id=\"T_06fe6_row0_col1\" class=\"data row0 col1\" >-35.220818</td>\n",
       "      <td id=\"T_06fe6_row0_col2\" class=\"data row0 col2\" >3</td>\n",
       "      <td id=\"T_06fe6_row0_col3\" class=\"data row0 col3\" >0.000000</td>\n",
       "      <td id=\"T_06fe6_row0_col4\" class=\"data row0 col4\" >→</td>\n",
       "      <td id=\"T_06fe6_row0_col5\" class=\"data row0 col5\" >-5.820105</td>\n",
       "      <td id=\"T_06fe6_row0_col6\" class=\"data row0 col6\" >-35.220818</td>\n",
       "      <td id=\"T_06fe6_row0_col7\" class=\"data row0 col7\" >0.000000</td>\n",
       "      <td id=\"T_06fe6_row0_col8\" class=\"data row0 col8\" >0.000000</td>\n",
       "      <td id=\"T_06fe6_row0_col9\" class=\"data row0 col9\" > </td>\n",
       "      <td id=\"T_06fe6_row0_col10\" class=\"data row0 col10\" >0.642839</td>\n",
       "      <td id=\"T_06fe6_row0_col11\" class=\"data row0 col11\" >0.742631</td>\n",
       "      <td id=\"T_06fe6_row0_col12\" class=\"data row0 col12\" >0.727468</td>\n",
       "    </tr>\n",
       "    <tr>\n",
       "      <th id=\"T_06fe6_level0_row1\" class=\"row_heading level0 row1\" >1</th>\n",
       "      <td id=\"T_06fe6_row1_col0\" class=\"data row1 col0\" >-5.820103</td>\n",
       "      <td id=\"T_06fe6_row1_col1\" class=\"data row1 col1\" >-35.220828</td>\n",
       "      <td id=\"T_06fe6_row1_col2\" class=\"data row1 col2\" >5</td>\n",
       "      <td id=\"T_06fe6_row1_col3\" class=\"data row1 col3\" >0.555556</td>\n",
       "      <td id=\"T_06fe6_row1_col4\" class=\"data row1 col4\" >→</td>\n",
       "      <td id=\"T_06fe6_row1_col5\" class=\"data row1 col5\" >-5.820103</td>\n",
       "      <td id=\"T_06fe6_row1_col6\" class=\"data row1 col6\" >-35.220828</td>\n",
       "      <td id=\"T_06fe6_row1_col7\" class=\"data row1 col7\" >0.000000</td>\n",
       "      <td id=\"T_06fe6_row1_col8\" class=\"data row1 col8\" >0.000000</td>\n",
       "      <td id=\"T_06fe6_row1_col9\" class=\"data row1 col9\" > </td>\n",
       "      <td id=\"T_06fe6_row1_col10\" class=\"data row1 col10\" >0.653249</td>\n",
       "      <td id=\"T_06fe6_row1_col11\" class=\"data row1 col11\" >0.771505</td>\n",
       "      <td id=\"T_06fe6_row1_col12\" class=\"data row1 col12\" >0.727468</td>\n",
       "    </tr>\n",
       "    <tr>\n",
       "      <th id=\"T_06fe6_level0_row2\" class=\"row_heading level0 row2\" >2</th>\n",
       "      <td id=\"T_06fe6_row2_col0\" class=\"data row2 col0\" >-5.820102</td>\n",
       "      <td id=\"T_06fe6_row2_col1\" class=\"data row2 col1\" >-35.220838</td>\n",
       "      <td id=\"T_06fe6_row2_col2\" class=\"data row2 col2\" >5</td>\n",
       "      <td id=\"T_06fe6_row2_col3\" class=\"data row2 col3\" >0.000000</td>\n",
       "      <td id=\"T_06fe6_row2_col4\" class=\"data row2 col4\" >→</td>\n",
       "      <td id=\"T_06fe6_row2_col5\" class=\"data row2 col5\" >-5.820102</td>\n",
       "      <td id=\"T_06fe6_row2_col6\" class=\"data row2 col6\" >-35.220838</td>\n",
       "      <td id=\"T_06fe6_row2_col7\" class=\"data row2 col7\" >0.000000</td>\n",
       "      <td id=\"T_06fe6_row2_col8\" class=\"data row2 col8\" >0.000000</td>\n",
       "      <td id=\"T_06fe6_row2_col9\" class=\"data row2 col9\" > </td>\n",
       "      <td id=\"T_06fe6_row2_col10\" class=\"data row2 col10\" >0.653249</td>\n",
       "      <td id=\"T_06fe6_row2_col11\" class=\"data row2 col11\" >0.771505</td>\n",
       "      <td id=\"T_06fe6_row2_col12\" class=\"data row2 col12\" >0.727468</td>\n",
       "    </tr>\n",
       "    <tr>\n",
       "      <th id=\"T_06fe6_level0_row3\" class=\"row_heading level0 row3\" >3</th>\n",
       "      <td id=\"T_06fe6_row3_col0\" class=\"data row3 col0\" >-5.820096</td>\n",
       "      <td id=\"T_06fe6_row3_col1\" class=\"data row3 col1\" >-35.220843</td>\n",
       "      <td id=\"T_06fe6_row3_col2\" class=\"data row3 col2\" >3</td>\n",
       "      <td id=\"T_06fe6_row3_col3\" class=\"data row3 col3\" >-0.555556</td>\n",
       "      <td id=\"T_06fe6_row3_col4\" class=\"data row3 col4\" >→</td>\n",
       "      <td id=\"T_06fe6_row3_col5\" class=\"data row3 col5\" >-5.820096</td>\n",
       "      <td id=\"T_06fe6_row3_col6\" class=\"data row3 col6\" >-35.220843</td>\n",
       "      <td id=\"T_06fe6_row3_col7\" class=\"data row3 col7\" >0.000000</td>\n",
       "      <td id=\"T_06fe6_row3_col8\" class=\"data row3 col8\" >0.000000</td>\n",
       "      <td id=\"T_06fe6_row3_col9\" class=\"data row3 col9\" > </td>\n",
       "      <td id=\"T_06fe6_row3_col10\" class=\"data row3 col10\" >0.679275</td>\n",
       "      <td id=\"T_06fe6_row3_col11\" class=\"data row3 col11\" >0.659013</td>\n",
       "      <td id=\"T_06fe6_row3_col12\" class=\"data row3 col12\" >0.727468</td>\n",
       "    </tr>\n",
       "    <tr>\n",
       "      <th id=\"T_06fe6_level0_row4\" class=\"row_heading level0 row4\" >4</th>\n",
       "      <td id=\"T_06fe6_row4_col0\" class=\"data row4 col0\" >-5.820091</td>\n",
       "      <td id=\"T_06fe6_row4_col1\" class=\"data row4 col1\" >-35.220850</td>\n",
       "      <td id=\"T_06fe6_row4_col2\" class=\"data row4 col2\" >0</td>\n",
       "      <td id=\"T_06fe6_row4_col3\" class=\"data row4 col3\" >-0.833333</td>\n",
       "      <td id=\"T_06fe6_row4_col4\" class=\"data row4 col4\" >→</td>\n",
       "      <td id=\"T_06fe6_row4_col5\" class=\"data row4 col5\" >-5.820091</td>\n",
       "      <td id=\"T_06fe6_row4_col6\" class=\"data row4 col6\" >-35.220850</td>\n",
       "      <td id=\"T_06fe6_row4_col7\" class=\"data row4 col7\" >0.000000</td>\n",
       "      <td id=\"T_06fe6_row4_col8\" class=\"data row4 col8\" >0.000000</td>\n",
       "      <td id=\"T_06fe6_row4_col9\" class=\"data row4 col9\" > </td>\n",
       "      <td id=\"T_06fe6_row4_col10\" class=\"data row4 col10\" >0.610306</td>\n",
       "      <td id=\"T_06fe6_row4_col11\" class=\"data row4 col11\" >0.667689</td>\n",
       "      <td id=\"T_06fe6_row4_col12\" class=\"data row4 col12\" >0.706858</td>\n",
       "    </tr>\n",
       "    <tr>\n",
       "      <th id=\"T_06fe6_level0_row5\" class=\"row_heading level0 row5\" >5</th>\n",
       "      <td id=\"T_06fe6_row5_col0\" class=\"data row5 col0\" >-5.820091</td>\n",
       "      <td id=\"T_06fe6_row5_col1\" class=\"data row5 col1\" >-35.220850</td>\n",
       "      <td id=\"T_06fe6_row5_col2\" class=\"data row5 col2\" >0</td>\n",
       "      <td id=\"T_06fe6_row5_col3\" class=\"data row5 col3\" >0.000000</td>\n",
       "      <td id=\"T_06fe6_row5_col4\" class=\"data row5 col4\" >→</td>\n",
       "      <td id=\"T_06fe6_row5_col5\" class=\"data row5 col5\" >-5.820091</td>\n",
       "      <td id=\"T_06fe6_row5_col6\" class=\"data row5 col6\" >-35.220850</td>\n",
       "      <td id=\"T_06fe6_row5_col7\" class=\"data row5 col7\" >0.000000</td>\n",
       "      <td id=\"T_06fe6_row5_col8\" class=\"data row5 col8\" >0.000000</td>\n",
       "      <td id=\"T_06fe6_row5_col9\" class=\"data row5 col9\" > </td>\n",
       "      <td id=\"T_06fe6_row5_col10\" class=\"data row5 col10\" >0.610306</td>\n",
       "      <td id=\"T_06fe6_row5_col11\" class=\"data row5 col11\" >0.706858</td>\n",
       "      <td id=\"T_06fe6_row5_col12\" class=\"data row5 col12\" >0.706858</td>\n",
       "    </tr>\n",
       "    <tr>\n",
       "      <th id=\"T_06fe6_level0_row6\" class=\"row_heading level0 row6\" >6</th>\n",
       "      <td id=\"T_06fe6_row6_col0\" class=\"data row6 col0\" >-5.820091</td>\n",
       "      <td id=\"T_06fe6_row6_col1\" class=\"data row6 col1\" >-35.220850</td>\n",
       "      <td id=\"T_06fe6_row6_col2\" class=\"data row6 col2\" >0</td>\n",
       "      <td id=\"T_06fe6_row6_col3\" class=\"data row6 col3\" >0.000000</td>\n",
       "      <td id=\"T_06fe6_row6_col4\" class=\"data row6 col4\" >→</td>\n",
       "      <td id=\"T_06fe6_row6_col5\" class=\"data row6 col5\" >-5.820091</td>\n",
       "      <td id=\"T_06fe6_row6_col6\" class=\"data row6 col6\" >-35.220850</td>\n",
       "      <td id=\"T_06fe6_row6_col7\" class=\"data row6 col7\" >0.000000</td>\n",
       "      <td id=\"T_06fe6_row6_col8\" class=\"data row6 col8\" >0.000000</td>\n",
       "      <td id=\"T_06fe6_row6_col9\" class=\"data row6 col9\" > </td>\n",
       "      <td id=\"T_06fe6_row6_col10\" class=\"data row6 col10\" >0.490587</td>\n",
       "      <td id=\"T_06fe6_row6_col11\" class=\"data row6 col11\" >0.706858</td>\n",
       "      <td id=\"T_06fe6_row6_col12\" class=\"data row6 col12\" >0.706858</td>\n",
       "    </tr>\n",
       "    <tr>\n",
       "      <th id=\"T_06fe6_level0_row7\" class=\"row_heading level0 row7\" >7</th>\n",
       "      <td id=\"T_06fe6_row7_col0\" class=\"data row7 col0\" >-5.820085</td>\n",
       "      <td id=\"T_06fe6_row7_col1\" class=\"data row7 col1\" >-35.220856</td>\n",
       "      <td id=\"T_06fe6_row7_col2\" class=\"data row7 col2\" >3</td>\n",
       "      <td id=\"T_06fe6_row7_col3\" class=\"data row7 col3\" >0.833333</td>\n",
       "      <td id=\"T_06fe6_row7_col4\" class=\"data row7 col4\" >→</td>\n",
       "      <td id=\"T_06fe6_row7_col5\" class=\"data row7 col5\" >-5.820085</td>\n",
       "      <td id=\"T_06fe6_row7_col6\" class=\"data row7 col6\" >-35.220856</td>\n",
       "      <td id=\"T_06fe6_row7_col7\" class=\"data row7 col7\" >0.000000</td>\n",
       "      <td id=\"T_06fe6_row7_col8\" class=\"data row7 col8\" >0.000000</td>\n",
       "      <td id=\"T_06fe6_row7_col9\" class=\"data row7 col9\" > </td>\n",
       "      <td id=\"T_06fe6_row7_col10\" class=\"data row7 col10\" >1.090483</td>\n",
       "      <td id=\"T_06fe6_row7_col11\" class=\"data row7 col11\" >1.137803</td>\n",
       "      <td id=\"T_06fe6_row7_col12\" class=\"data row7 col12\" >0.706858</td>\n",
       "    </tr>\n",
       "    <tr>\n",
       "      <th id=\"T_06fe6_level0_row8\" class=\"row_heading level0 row8\" >8</th>\n",
       "      <td id=\"T_06fe6_row8_col0\" class=\"data row8 col0\" >-5.820074</td>\n",
       "      <td id=\"T_06fe6_row8_col1\" class=\"data row8 col1\" >-35.220859</td>\n",
       "      <td id=\"T_06fe6_row8_col2\" class=\"data row8 col2\" >3</td>\n",
       "      <td id=\"T_06fe6_row8_col3\" class=\"data row8 col3\" >0.000000</td>\n",
       "      <td id=\"T_06fe6_row8_col4\" class=\"data row8 col4\" >→</td>\n",
       "      <td id=\"T_06fe6_row8_col5\" class=\"data row8 col5\" >-5.820074</td>\n",
       "      <td id=\"T_06fe6_row8_col6\" class=\"data row8 col6\" >-35.220859</td>\n",
       "      <td id=\"T_06fe6_row8_col7\" class=\"data row8 col7\" >0.000000</td>\n",
       "      <td id=\"T_06fe6_row8_col8\" class=\"data row8 col8\" >0.000000</td>\n",
       "      <td id=\"T_06fe6_row8_col9\" class=\"data row8 col9\" > </td>\n",
       "      <td id=\"T_06fe6_row8_col10\" class=\"data row8 col10\" >1.090483</td>\n",
       "      <td id=\"T_06fe6_row8_col11\" class=\"data row8 col11\" >1.137803</td>\n",
       "      <td id=\"T_06fe6_row8_col12\" class=\"data row8 col12\" >0.706858</td>\n",
       "    </tr>\n",
       "    <tr>\n",
       "      <th id=\"T_06fe6_level0_row9\" class=\"row_heading level0 row9\" >9</th>\n",
       "      <td id=\"T_06fe6_row9_col0\" class=\"data row9 col0\" >-5.820064</td>\n",
       "      <td id=\"T_06fe6_row9_col1\" class=\"data row9 col1\" >-35.220858</td>\n",
       "      <td id=\"T_06fe6_row9_col2\" class=\"data row9 col2\" >3</td>\n",
       "      <td id=\"T_06fe6_row9_col3\" class=\"data row9 col3\" >0.000000</td>\n",
       "      <td id=\"T_06fe6_row9_col4\" class=\"data row9 col4\" >→</td>\n",
       "      <td id=\"T_06fe6_row9_col5\" class=\"data row9 col5\" >-5.820064</td>\n",
       "      <td id=\"T_06fe6_row9_col6\" class=\"data row9 col6\" >-35.220858</td>\n",
       "      <td id=\"T_06fe6_row9_col7\" class=\"data row9 col7\" >0.000000</td>\n",
       "      <td id=\"T_06fe6_row9_col8\" class=\"data row9 col8\" >0.000000</td>\n",
       "      <td id=\"T_06fe6_row9_col9\" class=\"data row9 col9\" > </td>\n",
       "      <td id=\"T_06fe6_row9_col10\" class=\"data row9 col10\" >0.921315</td>\n",
       "      <td id=\"T_06fe6_row9_col11\" class=\"data row9 col11\" >1.137803</td>\n",
       "      <td id=\"T_06fe6_row9_col12\" class=\"data row9 col12\" >0.706858</td>\n",
       "    </tr>\n",
       "  </tbody>\n",
       "</table>\n"
      ],
      "text/plain": [
       "<pandas.io.formats.style.Styler at 0x1bd8c1e4090>"
      ]
     },
     "metadata": {},
     "output_type": "display_data"
    },
    {
     "data": {
      "application/vnd.plotly.v1+json": {
       "config": {
        "plotlyServerURL": "https://plot.ly"
       },
       "data": [
        {
         "line": {
          "color": "green",
          "dash": "dot"
         },
         "mode": "lines",
         "name": "Real",
         "type": "scatter",
         "y": {
          "bdata": "Xv2WDSKS5D+bk2QeaufkP5uTZB5q5+Q/NotmSJ685T/ehxTZoIfjP96HFNmgh+M/M5CwL8hl3z/dnA9wnnLxP92cD3CecvE/T3ASz2l77T+UX3iidnLyPz8yMAV+Z/Q/PzIwBX5n9D8ti7UITBb8PzhhcBqj5vk/KSOOULfS8D8pI45Qt9LwP7us/CApG+8/cjYv8OP84z+t9vIuJyjgP6328i4nKOA/geLz0z/39T+rgxXuOvLzP6uDFe468vM/mb1aTGW9AEB0UCWuXTcFQJNSfcM51QFAk1J9wznVAUDU4Eocwdz0P40G4N+x0N0/MaWrxsVQ3T+Gb8fSpWfjP4Zvx9KlZ+M/RJASr2yy4j+u4feXKT3iPxtsE+QD5v0/G2wT5APm/T9xVW+Vh+D+P/WBu/ZpMek/9YG79mkx6T8EcmzGOjzYP6VZboDtdf4/WOugB2mlAEBY66AHaaUAQFcs1yJHEfo/jF/HYiTM+D+vRCQpQjH6P69EJClCMfo/IlLOZdxR9j8U6vVt9WfxP9L1RbO+x/I/0vVFs77H8j9JPCZTdgbrPy3PofTAJtk/Lc+h9MAm2T83dmuxoNHXP5m9WkxlveA/wxqQeuun4T/DGpB666fhPy5sdWOoMgFAN3ZrsaDRB0CTtalUUskJQJO1qVRSyQlAUQXmhZA5CECzrwGybRkJQLOvAbJtGQlAadNRH3liAkDxyvHJCOv/P/HK8ckI6/8/ZYpqDIgCAkDcITJ38e4HQFhbyHe+Nvk/WFvId742+T+BiQxRzfvaP+KMDwAd1/Y/4owPAB3X9j9nuVth/yfxP4GJDFHN+9o/VyzXIkcR2j9XLNciRxHKPzhhcBqj5sk/mb1aTGW90D+rqr6oeQbiPxTJ619+uOE/cloUOF8j9z+cBUVJAVwCQO7F9qKMm/w/7sX2ooyb/D8XwP8/+pH1Py66pl3DO9s/YtOg3ya82D8GXXEvPVHKPwZdcS89Uco/3P87AbdmyT8zkLAvyGXPPxdp8ttk2OI/F2ny22TY4j/s9fsW3vTiP/4o4Wa23vY/g+DZ9mxa+z8=",
          "dtype": "f8"
         }
        },
        {
         "line": {
          "color": "blue",
          "dash": "dash"
         },
         "mode": "lines",
         "name": "Predição Original",
         "type": "scatter",
         "y": {
          "bdata": "A1nGMaLD5z/rGxZ+K7DoP+sbFn4rsOg/ZNKEuKEW5T8gJJx1tV3lP1qolBeUnuY/WqiUF5Se5j8vN5pfcTTyPy83ml9xNPI/LzeaX3E08j8LUj4DVmv0P2cHXp66ovQ/lajUrwhy8z8ERxYOSyj4P0gf5HQeCfI/if7LZHnq7z8XHaiiCV3vP6Btm6JJmew/vGW1En/65z9MP1pTWq7wP/J2f86FGvA/Rx/yOxHc8D9HH/I7EdzwP0cf8jsR3PA/Wi2PK9ct9T99iPbmwzv1P+s7h6uSvvI/jlifB2hB+z/KAreWPx7tP2CGcv2h3+w/DE1YhnUh4z+r91rqETzvPzST+4nO/eQ/tcGbWjP25j8r0X6ZskrsPzXVexnn+PI/jsX9rHxr8z+YODlE2Q7zPxrw1xsMw+0/6+G9lxVx7T+VLCu5vQ3pP5kI65KAuvA/xV7vM9nJ8j+3rXXsTRn+P7nipTU15fQ/Ahig1qK48j97HMyYL2j0P61VsDSbgfU/gKXeX7rt9D8lL/FG5m/yP1D9sJ1ASPI/ONgUq37H8z/SblJX33btP6Pvp4KhC+M/A1unplDL5j/tVn03pGviP09EUKldGOg/RjLkVnwe6D+bSQJT7m7oP/kNtZK+Z+k/BO79CuHa9z9uhs6rFD4AQDSsx4gppPs/JoJSHH6Y9j8b5eo1rb34P7wp1TtfOgFA605wkeGE9z+CQHPA6Nf7P96W8dRj7vo/77f/lcKE+T8/0HaFb3j5P0ixId0VM/o/2QaTrAQF9T89ims167HjP+Roiw7ssfA/N+aifBlj8D+LMRVBlGrvP6CylwUtpOE/UCAMIn9U4D86TWpu5ebtP5PEfPDbnN0/8ql5Nfn/4D83OrmjNxvhP9ETGcqqqOg/TEBpKYVw9j/5y4EaW9T4P6g7DuceO/U/scgFb/N/8D+73vRQdeXuP5DaSmyYQ+A/1hTHV/j+2j9wnnVfpazbPzJoid+r2eU/KlRdoNof2z8xuA2DPjffP3qotC6cE+Y/eqi0LpwT5j96qLQunBPmPwHia4Ko5fc/29W9hKHm9z8=",
          "dtype": "f8"
         }
        },
        {
         "line": {
          "color": "red"
         },
         "mode": "lines",
         "name": "Predição com RM",
         "type": "scatter",
         "y": {
          "bdata": "St2AJWpH5z9K3YAlakfnP0rdgCVqR+c/St2AJWpH5z9aqJQXlJ7mP1qolBeUnuY/WqiUF5Se5j9aqJQXlJ7mP1qolBeUnuY/WqiUF5Se5j9aqJQXlJ7mP8eLnZFBLfI/x4udkUEt8j/3RPpTLs/wP/dE+lMuz/A/uYoWehoF8D+0GAQqKmbuPxqXTTRR+O0/GpdNNFH47T8al000UfjtPxqXTTRR+O0//iUIitBx6D/+JQiK0HHoP/4lCIrQceg//iUIitBx6D/+JQiK0HHoP/4lCIrQceg/SK8xACFn6D9+pisUDhnjP36mKxQOGeM/fqYrFA4Z4z9qmGZXSH7jP2qYZldIfuM/aphmV0h+4z8Ii9NtfLLjPwiL0218suM/CIvTbXyy4z8Ii9NtfLLjPwiL0218suM/rQ4cm7LJ5T+tDhybssnlP60OHJuyyeU/rQ4cm7LJ5T9h3D6qQlvjP2HcPqpCW+M/IeMTMUbz5j9YVyA6j//mP1hXIDqP/+Y/1XwvHWqY5T/VfC8dapjlP9V8Lx1qmOU/t70291xj5T9y4/Os9AziP3Lj86z0DOI/cuPzrPQM4j9y4/Os9AziP2Yu6jWDyOE/Zi7qNYPI4T9mLuo1g8jhPxsRfdYN4OE/HXybW5KM4D8dfJtbkozgPzK+1vm5KeA/Mr7W+bkp4D/PHQW1p43jPzMWHf1PwuU/7aTKVyF34j8gg8W938XgPweZdDbvD+A/EOTzPqb83T9IzR+DnVXjP0jNH4OdVeM/nBFtJWtN4z8d5sLGSu3fPx3mwsZK7d8/hrjz4xbP3z8XHmD5n1PfPxceYPmfU98/hD+JLO5T3z+EP4ks7lPfP5IbikR1C98/khuKRHUL3z+SG4pEdQvfP5IbikR1C98/sZH30JWZ3T8aqKtSkvrdPxqoq1KS+t0/gdWVWGYN3z9zf1/pY8feP1Jrqjcrm94/UmuqNyub3j9Sa6o3K5veP1Jrqjcrm94/UmuqNyub3j9Sa6o3K5veP1Jrqjcrm94/UmuqNyub3j9Sa6o3K5veP5o5iz0fsN4/mjmLPR+w3j8=",
          "dtype": "f8"
         }
        }
       ],
       "layout": {
        "template": {
         "data": {
          "bar": [
           {
            "error_x": {
             "color": "#2a3f5f"
            },
            "error_y": {
             "color": "#2a3f5f"
            },
            "marker": {
             "line": {
              "color": "white",
              "width": 0.5
             },
             "pattern": {
              "fillmode": "overlay",
              "size": 10,
              "solidity": 0.2
             }
            },
            "type": "bar"
           }
          ],
          "barpolar": [
           {
            "marker": {
             "line": {
              "color": "white",
              "width": 0.5
             },
             "pattern": {
              "fillmode": "overlay",
              "size": 10,
              "solidity": 0.2
             }
            },
            "type": "barpolar"
           }
          ],
          "carpet": [
           {
            "aaxis": {
             "endlinecolor": "#2a3f5f",
             "gridcolor": "#C8D4E3",
             "linecolor": "#C8D4E3",
             "minorgridcolor": "#C8D4E3",
             "startlinecolor": "#2a3f5f"
            },
            "baxis": {
             "endlinecolor": "#2a3f5f",
             "gridcolor": "#C8D4E3",
             "linecolor": "#C8D4E3",
             "minorgridcolor": "#C8D4E3",
             "startlinecolor": "#2a3f5f"
            },
            "type": "carpet"
           }
          ],
          "choropleth": [
           {
            "colorbar": {
             "outlinewidth": 0,
             "ticks": ""
            },
            "type": "choropleth"
           }
          ],
          "contour": [
           {
            "colorbar": {
             "outlinewidth": 0,
             "ticks": ""
            },
            "colorscale": [
             [
              0,
              "#0d0887"
             ],
             [
              0.1111111111111111,
              "#46039f"
             ],
             [
              0.2222222222222222,
              "#7201a8"
             ],
             [
              0.3333333333333333,
              "#9c179e"
             ],
             [
              0.4444444444444444,
              "#bd3786"
             ],
             [
              0.5555555555555556,
              "#d8576b"
             ],
             [
              0.6666666666666666,
              "#ed7953"
             ],
             [
              0.7777777777777778,
              "#fb9f3a"
             ],
             [
              0.8888888888888888,
              "#fdca26"
             ],
             [
              1,
              "#f0f921"
             ]
            ],
            "type": "contour"
           }
          ],
          "contourcarpet": [
           {
            "colorbar": {
             "outlinewidth": 0,
             "ticks": ""
            },
            "type": "contourcarpet"
           }
          ],
          "heatmap": [
           {
            "colorbar": {
             "outlinewidth": 0,
             "ticks": ""
            },
            "colorscale": [
             [
              0,
              "#0d0887"
             ],
             [
              0.1111111111111111,
              "#46039f"
             ],
             [
              0.2222222222222222,
              "#7201a8"
             ],
             [
              0.3333333333333333,
              "#9c179e"
             ],
             [
              0.4444444444444444,
              "#bd3786"
             ],
             [
              0.5555555555555556,
              "#d8576b"
             ],
             [
              0.6666666666666666,
              "#ed7953"
             ],
             [
              0.7777777777777778,
              "#fb9f3a"
             ],
             [
              0.8888888888888888,
              "#fdca26"
             ],
             [
              1,
              "#f0f921"
             ]
            ],
            "type": "heatmap"
           }
          ],
          "histogram": [
           {
            "marker": {
             "pattern": {
              "fillmode": "overlay",
              "size": 10,
              "solidity": 0.2
             }
            },
            "type": "histogram"
           }
          ],
          "histogram2d": [
           {
            "colorbar": {
             "outlinewidth": 0,
             "ticks": ""
            },
            "colorscale": [
             [
              0,
              "#0d0887"
             ],
             [
              0.1111111111111111,
              "#46039f"
             ],
             [
              0.2222222222222222,
              "#7201a8"
             ],
             [
              0.3333333333333333,
              "#9c179e"
             ],
             [
              0.4444444444444444,
              "#bd3786"
             ],
             [
              0.5555555555555556,
              "#d8576b"
             ],
             [
              0.6666666666666666,
              "#ed7953"
             ],
             [
              0.7777777777777778,
              "#fb9f3a"
             ],
             [
              0.8888888888888888,
              "#fdca26"
             ],
             [
              1,
              "#f0f921"
             ]
            ],
            "type": "histogram2d"
           }
          ],
          "histogram2dcontour": [
           {
            "colorbar": {
             "outlinewidth": 0,
             "ticks": ""
            },
            "colorscale": [
             [
              0,
              "#0d0887"
             ],
             [
              0.1111111111111111,
              "#46039f"
             ],
             [
              0.2222222222222222,
              "#7201a8"
             ],
             [
              0.3333333333333333,
              "#9c179e"
             ],
             [
              0.4444444444444444,
              "#bd3786"
             ],
             [
              0.5555555555555556,
              "#d8576b"
             ],
             [
              0.6666666666666666,
              "#ed7953"
             ],
             [
              0.7777777777777778,
              "#fb9f3a"
             ],
             [
              0.8888888888888888,
              "#fdca26"
             ],
             [
              1,
              "#f0f921"
             ]
            ],
            "type": "histogram2dcontour"
           }
          ],
          "mesh3d": [
           {
            "colorbar": {
             "outlinewidth": 0,
             "ticks": ""
            },
            "type": "mesh3d"
           }
          ],
          "parcoords": [
           {
            "line": {
             "colorbar": {
              "outlinewidth": 0,
              "ticks": ""
             }
            },
            "type": "parcoords"
           }
          ],
          "pie": [
           {
            "automargin": true,
            "type": "pie"
           }
          ],
          "scatter": [
           {
            "fillpattern": {
             "fillmode": "overlay",
             "size": 10,
             "solidity": 0.2
            },
            "type": "scatter"
           }
          ],
          "scatter3d": [
           {
            "line": {
             "colorbar": {
              "outlinewidth": 0,
              "ticks": ""
             }
            },
            "marker": {
             "colorbar": {
              "outlinewidth": 0,
              "ticks": ""
             }
            },
            "type": "scatter3d"
           }
          ],
          "scattercarpet": [
           {
            "marker": {
             "colorbar": {
              "outlinewidth": 0,
              "ticks": ""
             }
            },
            "type": "scattercarpet"
           }
          ],
          "scattergeo": [
           {
            "marker": {
             "colorbar": {
              "outlinewidth": 0,
              "ticks": ""
             }
            },
            "type": "scattergeo"
           }
          ],
          "scattergl": [
           {
            "marker": {
             "colorbar": {
              "outlinewidth": 0,
              "ticks": ""
             }
            },
            "type": "scattergl"
           }
          ],
          "scattermap": [
           {
            "marker": {
             "colorbar": {
              "outlinewidth": 0,
              "ticks": ""
             }
            },
            "type": "scattermap"
           }
          ],
          "scattermapbox": [
           {
            "marker": {
             "colorbar": {
              "outlinewidth": 0,
              "ticks": ""
             }
            },
            "type": "scattermapbox"
           }
          ],
          "scatterpolar": [
           {
            "marker": {
             "colorbar": {
              "outlinewidth": 0,
              "ticks": ""
             }
            },
            "type": "scatterpolar"
           }
          ],
          "scatterpolargl": [
           {
            "marker": {
             "colorbar": {
              "outlinewidth": 0,
              "ticks": ""
             }
            },
            "type": "scatterpolargl"
           }
          ],
          "scatterternary": [
           {
            "marker": {
             "colorbar": {
              "outlinewidth": 0,
              "ticks": ""
             }
            },
            "type": "scatterternary"
           }
          ],
          "surface": [
           {
            "colorbar": {
             "outlinewidth": 0,
             "ticks": ""
            },
            "colorscale": [
             [
              0,
              "#0d0887"
             ],
             [
              0.1111111111111111,
              "#46039f"
             ],
             [
              0.2222222222222222,
              "#7201a8"
             ],
             [
              0.3333333333333333,
              "#9c179e"
             ],
             [
              0.4444444444444444,
              "#bd3786"
             ],
             [
              0.5555555555555556,
              "#d8576b"
             ],
             [
              0.6666666666666666,
              "#ed7953"
             ],
             [
              0.7777777777777778,
              "#fb9f3a"
             ],
             [
              0.8888888888888888,
              "#fdca26"
             ],
             [
              1,
              "#f0f921"
             ]
            ],
            "type": "surface"
           }
          ],
          "table": [
           {
            "cells": {
             "fill": {
              "color": "#EBF0F8"
             },
             "line": {
              "color": "white"
             }
            },
            "header": {
             "fill": {
              "color": "#C8D4E3"
             },
             "line": {
              "color": "white"
             }
            },
            "type": "table"
           }
          ]
         },
         "layout": {
          "annotationdefaults": {
           "arrowcolor": "#2a3f5f",
           "arrowhead": 0,
           "arrowwidth": 1
          },
          "autotypenumbers": "strict",
          "coloraxis": {
           "colorbar": {
            "outlinewidth": 0,
            "ticks": ""
           }
          },
          "colorscale": {
           "diverging": [
            [
             0,
             "#8e0152"
            ],
            [
             0.1,
             "#c51b7d"
            ],
            [
             0.2,
             "#de77ae"
            ],
            [
             0.3,
             "#f1b6da"
            ],
            [
             0.4,
             "#fde0ef"
            ],
            [
             0.5,
             "#f7f7f7"
            ],
            [
             0.6,
             "#e6f5d0"
            ],
            [
             0.7,
             "#b8e186"
            ],
            [
             0.8,
             "#7fbc41"
            ],
            [
             0.9,
             "#4d9221"
            ],
            [
             1,
             "#276419"
            ]
           ],
           "sequential": [
            [
             0,
             "#0d0887"
            ],
            [
             0.1111111111111111,
             "#46039f"
            ],
            [
             0.2222222222222222,
             "#7201a8"
            ],
            [
             0.3333333333333333,
             "#9c179e"
            ],
            [
             0.4444444444444444,
             "#bd3786"
            ],
            [
             0.5555555555555556,
             "#d8576b"
            ],
            [
             0.6666666666666666,
             "#ed7953"
            ],
            [
             0.7777777777777778,
             "#fb9f3a"
            ],
            [
             0.8888888888888888,
             "#fdca26"
            ],
            [
             1,
             "#f0f921"
            ]
           ],
           "sequentialminus": [
            [
             0,
             "#0d0887"
            ],
            [
             0.1111111111111111,
             "#46039f"
            ],
            [
             0.2222222222222222,
             "#7201a8"
            ],
            [
             0.3333333333333333,
             "#9c179e"
            ],
            [
             0.4444444444444444,
             "#bd3786"
            ],
            [
             0.5555555555555556,
             "#d8576b"
            ],
            [
             0.6666666666666666,
             "#ed7953"
            ],
            [
             0.7777777777777778,
             "#fb9f3a"
            ],
            [
             0.8888888888888888,
             "#fdca26"
            ],
            [
             1,
             "#f0f921"
            ]
           ]
          },
          "colorway": [
           "#636efa",
           "#EF553B",
           "#00cc96",
           "#ab63fa",
           "#FFA15A",
           "#19d3f3",
           "#FF6692",
           "#B6E880",
           "#FF97FF",
           "#FECB52"
          ],
          "font": {
           "color": "#2a3f5f"
          },
          "geo": {
           "bgcolor": "white",
           "lakecolor": "white",
           "landcolor": "white",
           "showlakes": true,
           "showland": true,
           "subunitcolor": "#C8D4E3"
          },
          "hoverlabel": {
           "align": "left"
          },
          "hovermode": "closest",
          "mapbox": {
           "style": "light"
          },
          "paper_bgcolor": "white",
          "plot_bgcolor": "white",
          "polar": {
           "angularaxis": {
            "gridcolor": "#EBF0F8",
            "linecolor": "#EBF0F8",
            "ticks": ""
           },
           "bgcolor": "white",
           "radialaxis": {
            "gridcolor": "#EBF0F8",
            "linecolor": "#EBF0F8",
            "ticks": ""
           }
          },
          "scene": {
           "xaxis": {
            "backgroundcolor": "white",
            "gridcolor": "#DFE8F3",
            "gridwidth": 2,
            "linecolor": "#EBF0F8",
            "showbackground": true,
            "ticks": "",
            "zerolinecolor": "#EBF0F8"
           },
           "yaxis": {
            "backgroundcolor": "white",
            "gridcolor": "#DFE8F3",
            "gridwidth": 2,
            "linecolor": "#EBF0F8",
            "showbackground": true,
            "ticks": "",
            "zerolinecolor": "#EBF0F8"
           },
           "zaxis": {
            "backgroundcolor": "white",
            "gridcolor": "#DFE8F3",
            "gridwidth": 2,
            "linecolor": "#EBF0F8",
            "showbackground": true,
            "ticks": "",
            "zerolinecolor": "#EBF0F8"
           }
          },
          "shapedefaults": {
           "line": {
            "color": "#2a3f5f"
           }
          },
          "ternary": {
           "aaxis": {
            "gridcolor": "#DFE8F3",
            "linecolor": "#A2B1C6",
            "ticks": ""
           },
           "baxis": {
            "gridcolor": "#DFE8F3",
            "linecolor": "#A2B1C6",
            "ticks": ""
           },
           "bgcolor": "white",
           "caxis": {
            "gridcolor": "#DFE8F3",
            "linecolor": "#A2B1C6",
            "ticks": ""
           }
          },
          "title": {
           "x": 0.05
          },
          "xaxis": {
           "automargin": true,
           "gridcolor": "#EBF0F8",
           "linecolor": "#EBF0F8",
           "ticks": "",
           "title": {
            "standoff": 15
           },
           "zerolinecolor": "#EBF0F8",
           "zerolinewidth": 2
          },
          "yaxis": {
           "automargin": true,
           "gridcolor": "#EBF0F8",
           "linecolor": "#EBF0F8",
           "ticks": "",
           "title": {
            "standoff": 15
           },
           "zerolinecolor": "#EBF0F8",
           "zerolinewidth": 2
          }
         }
        },
        "title": {
         "text": "Comparação CO₂ - Caso de teste: RM11 - Velocidade e aceleração iguais a zero - ETHANOL",
         "x": 0.5
        },
        "xaxis": {
         "title": {
          "text": "Amostras"
         }
        },
        "yaxis": {
         "title": {
          "text": "CO₂ (g/s)"
         }
        }
       }
      }
     },
     "metadata": {},
     "output_type": "display_data"
    },
    {
     "name": "stdout",
     "output_type": "stream",
     "text": [
      "\n",
      "🔁 Caso de teste: RM11 - Velocidade e aceleração iguais a zero (GASOLINE)\n",
      "Diferença Média: 0.5825 | Diferença Máxima: 2.9554 | Erro Quadrático Médio (RMSE): 0.8566 | Desvio Padrão (Std): 0.6281\n"
     ]
    },
    {
     "data": {
      "text/html": [
       "<style type=\"text/css\">\n",
       "</style>\n",
       "<table id=\"T_40e54\">\n",
       "  <caption>Comparação dos dados originais e modificados - Caso de teste: RM11 - Velocidade e aceleração iguais a zero (GASOLINE)</caption>\n",
       "  <thead>\n",
       "    <tr>\n",
       "      <th class=\"blank level0\" >&nbsp;</th>\n",
       "      <th id=\"T_40e54_level0_col0\" class=\"col_heading level0 col0\" >Latitude_Orig</th>\n",
       "      <th id=\"T_40e54_level0_col1\" class=\"col_heading level0 col1\" >Longitude_Orig</th>\n",
       "      <th id=\"T_40e54_level0_col2\" class=\"col_heading level0 col2\" >Speed(OBD)(km/h)_Orig</th>\n",
       "      <th id=\"T_40e54_level0_col3\" class=\"col_heading level0 col3\" >Acceleration_Orig</th>\n",
       "      <th id=\"T_40e54_level0_col4\" class=\"col_heading level0 col4\" > </th>\n",
       "      <th id=\"T_40e54_level0_col5\" class=\"col_heading level0 col5\" >Latitude_Mod</th>\n",
       "      <th id=\"T_40e54_level0_col6\" class=\"col_heading level0 col6\" >Longitude_Mod</th>\n",
       "      <th id=\"T_40e54_level0_col7\" class=\"col_heading level0 col7\" >Speed(OBD)(km/h)_Mod</th>\n",
       "      <th id=\"T_40e54_level0_col8\" class=\"col_heading level0 col8\" >Acceleration_Mod</th>\n",
       "      <th id=\"T_40e54_level0_col9\" class=\"col_heading level0 col9\" > </th>\n",
       "      <th id=\"T_40e54_level0_col10\" class=\"col_heading level0 col10\" >CO₂_Real</th>\n",
       "      <th id=\"T_40e54_level0_col11\" class=\"col_heading level0 col11\" >CO₂_Orig</th>\n",
       "      <th id=\"T_40e54_level0_col12\" class=\"col_heading level0 col12\" >CO₂_Mod</th>\n",
       "    </tr>\n",
       "  </thead>\n",
       "  <tbody>\n",
       "    <tr>\n",
       "      <th id=\"T_40e54_level0_row0\" class=\"row_heading level0 row0\" >0</th>\n",
       "      <td id=\"T_40e54_row0_col0\" class=\"data row0 col0\" >-5.820010</td>\n",
       "      <td id=\"T_40e54_row0_col1\" class=\"data row0 col1\" >-35.220825</td>\n",
       "      <td id=\"T_40e54_row0_col2\" class=\"data row0 col2\" >5</td>\n",
       "      <td id=\"T_40e54_row0_col3\" class=\"data row0 col3\" >0.000000</td>\n",
       "      <td id=\"T_40e54_row0_col4\" class=\"data row0 col4\" >→</td>\n",
       "      <td id=\"T_40e54_row0_col5\" class=\"data row0 col5\" >-5.820010</td>\n",
       "      <td id=\"T_40e54_row0_col6\" class=\"data row0 col6\" >-35.220825</td>\n",
       "      <td id=\"T_40e54_row0_col7\" class=\"data row0 col7\" >0.000000</td>\n",
       "      <td id=\"T_40e54_row0_col8\" class=\"data row0 col8\" >0.000000</td>\n",
       "      <td id=\"T_40e54_row0_col9\" class=\"data row0 col9\" > </td>\n",
       "      <td id=\"T_40e54_row0_col10\" class=\"data row0 col10\" >1.002671</td>\n",
       "      <td id=\"T_40e54_row0_col11\" class=\"data row0 col11\" >1.456781</td>\n",
       "      <td id=\"T_40e54_row0_col12\" class=\"data row0 col12\" >0.965052</td>\n",
       "    </tr>\n",
       "    <tr>\n",
       "      <th id=\"T_40e54_level0_row1\" class=\"row_heading level0 row1\" >1</th>\n",
       "      <td id=\"T_40e54_row1_col0\" class=\"data row1 col0\" >-5.820013</td>\n",
       "      <td id=\"T_40e54_row1_col1\" class=\"data row1 col1\" >-35.220822</td>\n",
       "      <td id=\"T_40e54_row1_col2\" class=\"data row1 col2\" >4</td>\n",
       "      <td id=\"T_40e54_row1_col3\" class=\"data row1 col3\" >-0.277778</td>\n",
       "      <td id=\"T_40e54_row1_col4\" class=\"data row1 col4\" >→</td>\n",
       "      <td id=\"T_40e54_row1_col5\" class=\"data row1 col5\" >-5.820013</td>\n",
       "      <td id=\"T_40e54_row1_col6\" class=\"data row1 col6\" >-35.220822</td>\n",
       "      <td id=\"T_40e54_row1_col7\" class=\"data row1 col7\" >0.000000</td>\n",
       "      <td id=\"T_40e54_row1_col8\" class=\"data row1 col8\" >0.000000</td>\n",
       "      <td id=\"T_40e54_row1_col9\" class=\"data row1 col9\" > </td>\n",
       "      <td id=\"T_40e54_row1_col10\" class=\"data row1 col10\" >1.013360</td>\n",
       "      <td id=\"T_40e54_row1_col11\" class=\"data row1 col11\" >1.016708</td>\n",
       "      <td id=\"T_40e54_row1_col12\" class=\"data row1 col12\" >0.965052</td>\n",
       "    </tr>\n",
       "    <tr>\n",
       "      <th id=\"T_40e54_level0_row2\" class=\"row_heading level0 row2\" >2</th>\n",
       "      <td id=\"T_40e54_row2_col0\" class=\"data row2 col0\" >-5.820016</td>\n",
       "      <td id=\"T_40e54_row2_col1\" class=\"data row2 col1\" >-35.220819</td>\n",
       "      <td id=\"T_40e54_row2_col2\" class=\"data row2 col2\" >5</td>\n",
       "      <td id=\"T_40e54_row2_col3\" class=\"data row2 col3\" >0.277778</td>\n",
       "      <td id=\"T_40e54_row2_col4\" class=\"data row2 col4\" >→</td>\n",
       "      <td id=\"T_40e54_row2_col5\" class=\"data row2 col5\" >-5.820016</td>\n",
       "      <td id=\"T_40e54_row2_col6\" class=\"data row2 col6\" >-35.220819</td>\n",
       "      <td id=\"T_40e54_row2_col7\" class=\"data row2 col7\" >0.000000</td>\n",
       "      <td id=\"T_40e54_row2_col8\" class=\"data row2 col8\" >0.000000</td>\n",
       "      <td id=\"T_40e54_row2_col9\" class=\"data row2 col9\" > </td>\n",
       "      <td id=\"T_40e54_row2_col10\" class=\"data row2 col10\" >2.088720</td>\n",
       "      <td id=\"T_40e54_row2_col11\" class=\"data row2 col11\" >1.456781</td>\n",
       "      <td id=\"T_40e54_row2_col12\" class=\"data row2 col12\" >0.965052</td>\n",
       "    </tr>\n",
       "    <tr>\n",
       "      <th id=\"T_40e54_level0_row3\" class=\"row_heading level0 row3\" >3</th>\n",
       "      <td id=\"T_40e54_row3_col0\" class=\"data row3 col0\" >-5.820014</td>\n",
       "      <td id=\"T_40e54_row3_col1\" class=\"data row3 col1\" >-35.220825</td>\n",
       "      <td id=\"T_40e54_row3_col2\" class=\"data row3 col2\" >7</td>\n",
       "      <td id=\"T_40e54_row3_col3\" class=\"data row3 col3\" >0.555556</td>\n",
       "      <td id=\"T_40e54_row3_col4\" class=\"data row3 col4\" >→</td>\n",
       "      <td id=\"T_40e54_row3_col5\" class=\"data row3 col5\" >-5.820014</td>\n",
       "      <td id=\"T_40e54_row3_col6\" class=\"data row3 col6\" >-35.220825</td>\n",
       "      <td id=\"T_40e54_row3_col7\" class=\"data row3 col7\" >0.000000</td>\n",
       "      <td id=\"T_40e54_row3_col8\" class=\"data row3 col8\" >0.000000</td>\n",
       "      <td id=\"T_40e54_row3_col9\" class=\"data row3 col9\" > </td>\n",
       "      <td id=\"T_40e54_row3_col10\" class=\"data row3 col10\" >2.261889</td>\n",
       "      <td id=\"T_40e54_row3_col11\" class=\"data row3 col11\" >1.996380</td>\n",
       "      <td id=\"T_40e54_row3_col12\" class=\"data row3 col12\" >0.965052</td>\n",
       "    </tr>\n",
       "    <tr>\n",
       "      <th id=\"T_40e54_level0_row4\" class=\"row_heading level0 row4\" >4</th>\n",
       "      <td id=\"T_40e54_row4_col0\" class=\"data row4 col0\" >-5.819992</td>\n",
       "      <td id=\"T_40e54_row4_col1\" class=\"data row4 col1\" >-35.220829</td>\n",
       "      <td id=\"T_40e54_row4_col2\" class=\"data row4 col2\" >9</td>\n",
       "      <td id=\"T_40e54_row4_col3\" class=\"data row4 col3\" >0.555556</td>\n",
       "      <td id=\"T_40e54_row4_col4\" class=\"data row4 col4\" >→</td>\n",
       "      <td id=\"T_40e54_row4_col5\" class=\"data row4 col5\" >-5.819992</td>\n",
       "      <td id=\"T_40e54_row4_col6\" class=\"data row4 col6\" >-35.220829</td>\n",
       "      <td id=\"T_40e54_row4_col7\" class=\"data row4 col7\" >0.000000</td>\n",
       "      <td id=\"T_40e54_row4_col8\" class=\"data row4 col8\" >0.000000</td>\n",
       "      <td id=\"T_40e54_row4_col9\" class=\"data row4 col9\" > </td>\n",
       "      <td id=\"T_40e54_row4_col10\" class=\"data row4 col10\" >2.499195</td>\n",
       "      <td id=\"T_40e54_row4_col11\" class=\"data row4 col11\" >2.400486</td>\n",
       "      <td id=\"T_40e54_row4_col12\" class=\"data row4 col12\" >0.940914</td>\n",
       "    </tr>\n",
       "    <tr>\n",
       "      <th id=\"T_40e54_level0_row5\" class=\"row_heading level0 row5\" >5</th>\n",
       "      <td id=\"T_40e54_row5_col0\" class=\"data row5 col0\" >-5.819974</td>\n",
       "      <td id=\"T_40e54_row5_col1\" class=\"data row5 col1\" >-35.220824</td>\n",
       "      <td id=\"T_40e54_row5_col2\" class=\"data row5 col2\" >12</td>\n",
       "      <td id=\"T_40e54_row5_col3\" class=\"data row5 col3\" >0.833333</td>\n",
       "      <td id=\"T_40e54_row5_col4\" class=\"data row5 col4\" >→</td>\n",
       "      <td id=\"T_40e54_row5_col5\" class=\"data row5 col5\" >-5.819974</td>\n",
       "      <td id=\"T_40e54_row5_col6\" class=\"data row5 col6\" >-35.220824</td>\n",
       "      <td id=\"T_40e54_row5_col7\" class=\"data row5 col7\" >0.000000</td>\n",
       "      <td id=\"T_40e54_row5_col8\" class=\"data row5 col8\" >0.000000</td>\n",
       "      <td id=\"T_40e54_row5_col9\" class=\"data row5 col9\" > </td>\n",
       "      <td id=\"T_40e54_row5_col10\" class=\"data row5 col10\" >2.606089</td>\n",
       "      <td id=\"T_40e54_row5_col11\" class=\"data row5 col11\" >2.400486</td>\n",
       "      <td id=\"T_40e54_row5_col12\" class=\"data row5 col12\" >0.940914</td>\n",
       "    </tr>\n",
       "    <tr>\n",
       "      <th id=\"T_40e54_level0_row6\" class=\"row_heading level0 row6\" >6</th>\n",
       "      <td id=\"T_40e54_row6_col0\" class=\"data row6 col0\" >-5.819944</td>\n",
       "      <td id=\"T_40e54_row6_col1\" class=\"data row6 col1\" >-35.220823</td>\n",
       "      <td id=\"T_40e54_row6_col2\" class=\"data row6 col2\" >15</td>\n",
       "      <td id=\"T_40e54_row6_col3\" class=\"data row6 col3\" >0.833333</td>\n",
       "      <td id=\"T_40e54_row6_col4\" class=\"data row6 col4\" >→</td>\n",
       "      <td id=\"T_40e54_row6_col5\" class=\"data row6 col5\" >-5.819944</td>\n",
       "      <td id=\"T_40e54_row6_col6\" class=\"data row6 col6\" >-35.220823</td>\n",
       "      <td id=\"T_40e54_row6_col7\" class=\"data row6 col7\" >0.000000</td>\n",
       "      <td id=\"T_40e54_row6_col8\" class=\"data row6 col8\" >0.000000</td>\n",
       "      <td id=\"T_40e54_row6_col9\" class=\"data row6 col9\" > </td>\n",
       "      <td id=\"T_40e54_row6_col10\" class=\"data row6 col10\" >3.070012</td>\n",
       "      <td id=\"T_40e54_row6_col11\" class=\"data row6 col11\" >2.148721</td>\n",
       "      <td id=\"T_40e54_row6_col12\" class=\"data row6 col12\" >0.880813</td>\n",
       "    </tr>\n",
       "    <tr>\n",
       "      <th id=\"T_40e54_level0_row7\" class=\"row_heading level0 row7\" >7</th>\n",
       "      <td id=\"T_40e54_row7_col0\" class=\"data row7 col0\" >-5.819908</td>\n",
       "      <td id=\"T_40e54_row7_col1\" class=\"data row7 col1\" >-35.220810</td>\n",
       "      <td id=\"T_40e54_row7_col2\" class=\"data row7 col2\" >18</td>\n",
       "      <td id=\"T_40e54_row7_col3\" class=\"data row7 col3\" >0.833333</td>\n",
       "      <td id=\"T_40e54_row7_col4\" class=\"data row7 col4\" >→</td>\n",
       "      <td id=\"T_40e54_row7_col5\" class=\"data row7 col5\" >-5.819908</td>\n",
       "      <td id=\"T_40e54_row7_col6\" class=\"data row7 col6\" >-35.220810</td>\n",
       "      <td id=\"T_40e54_row7_col7\" class=\"data row7 col7\" >0.000000</td>\n",
       "      <td id=\"T_40e54_row7_col8\" class=\"data row7 col8\" >0.000000</td>\n",
       "      <td id=\"T_40e54_row7_col9\" class=\"data row7 col9\" > </td>\n",
       "      <td id=\"T_40e54_row7_col10\" class=\"data row7 col10\" >2.445747</td>\n",
       "      <td id=\"T_40e54_row7_col11\" class=\"data row7 col11\" >1.470940</td>\n",
       "      <td id=\"T_40e54_row7_col12\" class=\"data row7 col12\" >0.773157</td>\n",
       "    </tr>\n",
       "    <tr>\n",
       "      <th id=\"T_40e54_level0_row8\" class=\"row_heading level0 row8\" >8</th>\n",
       "      <td id=\"T_40e54_row8_col0\" class=\"data row8 col0\" >-5.819866</td>\n",
       "      <td id=\"T_40e54_row8_col1\" class=\"data row8 col1\" >-35.220794</td>\n",
       "      <td id=\"T_40e54_row8_col2\" class=\"data row8 col2\" >18</td>\n",
       "      <td id=\"T_40e54_row8_col3\" class=\"data row8 col3\" >0.000000</td>\n",
       "      <td id=\"T_40e54_row8_col4\" class=\"data row8 col4\" >→</td>\n",
       "      <td id=\"T_40e54_row8_col5\" class=\"data row8 col5\" >-5.819866</td>\n",
       "      <td id=\"T_40e54_row8_col6\" class=\"data row8 col6\" >-35.220794</td>\n",
       "      <td id=\"T_40e54_row8_col7\" class=\"data row8 col7\" >0.000000</td>\n",
       "      <td id=\"T_40e54_row8_col8\" class=\"data row8 col8\" >0.000000</td>\n",
       "      <td id=\"T_40e54_row8_col9\" class=\"data row8 col9\" > </td>\n",
       "      <td id=\"T_40e54_row8_col10\" class=\"data row8 col10\" >1.073221</td>\n",
       "      <td id=\"T_40e54_row8_col11\" class=\"data row8 col11\" >1.588029</td>\n",
       "      <td id=\"T_40e54_row8_col12\" class=\"data row8 col12\" >0.783680</td>\n",
       "    </tr>\n",
       "    <tr>\n",
       "      <th id=\"T_40e54_level0_row9\" class=\"row_heading level0 row9\" >9</th>\n",
       "      <td id=\"T_40e54_row9_col0\" class=\"data row9 col0\" >-5.819821</td>\n",
       "      <td id=\"T_40e54_row9_col1\" class=\"data row9 col1\" >-35.220775</td>\n",
       "      <td id=\"T_40e54_row9_col2\" class=\"data row9 col2\" >16</td>\n",
       "      <td id=\"T_40e54_row9_col3\" class=\"data row9 col3\" >-0.555556</td>\n",
       "      <td id=\"T_40e54_row9_col4\" class=\"data row9 col4\" >→</td>\n",
       "      <td id=\"T_40e54_row9_col5\" class=\"data row9 col5\" >-5.819821</td>\n",
       "      <td id=\"T_40e54_row9_col6\" class=\"data row9 col6\" >-35.220775</td>\n",
       "      <td id=\"T_40e54_row9_col7\" class=\"data row9 col7\" >0.000000</td>\n",
       "      <td id=\"T_40e54_row9_col8\" class=\"data row9 col8\" >0.000000</td>\n",
       "      <td id=\"T_40e54_row9_col9\" class=\"data row9 col9\" > </td>\n",
       "      <td id=\"T_40e54_row9_col10\" class=\"data row9 col10\" >0.562265</td>\n",
       "      <td id=\"T_40e54_row9_col11\" class=\"data row9 col11\" >1.085921</td>\n",
       "      <td id=\"T_40e54_row9_col12\" class=\"data row9 col12\" >0.858797</td>\n",
       "    </tr>\n",
       "  </tbody>\n",
       "</table>\n"
      ],
      "text/plain": [
       "<pandas.io.formats.style.Styler at 0x1bd896d1c10>"
      ]
     },
     "metadata": {},
     "output_type": "display_data"
    },
    {
     "data": {
      "application/vnd.plotly.v1+json": {
       "config": {
        "plotlyServerURL": "https://plot.ly"
       },
       "data": [
        {
         "line": {
          "color": "green",
          "dash": "dot"
         },
         "mode": "lines",
         "name": "Real",
         "type": "scatter",
         "y": {
          "bdata": "fgFSsvAK8D+A9UFnuTbwP+sFLaeytQBAlHGRLVkYAkBCucXSWf4DQEt9dVtF2QRAqBJmS2KPCEA+120O5JADQCN/TinqK/E/+as09BP+4T+aTWFMs5viP5pNYUyzm+I/XDzytNji+j+dNUG2RPMCQCiGK0XJLgZAUV/NH7tGBUCt9L0P2PwIQMoh0PdM4gZALUmGV/HwAUC7e8iq65kFQJWKBjqL2QZAPtdtDuSQA0A+120O5JADQD/LXcOsvPM/G9QTrTAS5T+dNUG2RPPiPz7XbQ7kkOM/PtdtDuSQ4z+N38u90b/qPypPDv0M2/E/XDzytNjiCkCoDN6lRqUIQKgM3qVGpQhA8yxc66J8D0BuxFHGr5gMQIjedkcOpwVAJ4Cjn61EBkBRX80fu0YFQLWf+IuRFgVAtZ/4i5EWBUBZCgicdGDxP1JTvdSDcvU/1NlvNQHp9z+u1cBdilHkP67VwF2KUeQ/oGcrz6h17D9QRlgTiYXwP5J9oXiQ7PE/kn2heJDs8T/DRQDZ8l7mP79dIG9hB+Y/v10gb2EH5j+/XSBvYQfmP2LnLDGS/OY/sOIlH4U+6T/qekRTCmDuP6BnK8+odew/mWxe/gBHB0CpJVOyeGYNQIFGKTJrZA5AgUYpMmtkDkDqCPF5wKoQQNfm1Pb71QxA1+bU9vvVDEDDRQDZ8l7mP8A4mxf4ceE/+as09BP+4T9i5ywxkvzmP2LnLDGS/OY/QeTSz9596D9B5NLP3n3oPzJEUyiZH+c/MkRTKJkf5z95fPEDZJ/tP3l88QNkn+0/2trEq8QB7T8Lfp60vd7sP9by5EEzquw/LlxzvgfI5j8uXHO+B8jmP79dIG9hB+Y/idJm/NbS5T/DRQDZ8l7mP/jQuUt9k+Y/+NC5S32T5j8g7t0vJuzuPwt+nrS93uw/nH9LZRce7D9q3HFcHkHsP2rccVweQew/H7zzFsJp5T8fvPMWwmnlP/jQuUt9k+Y/LlxzvgfI5j8uXHO+B8jmPy5cc74HyOY/atxxXB5B7D9q3HFcHkHsPwt+nrS93uw/1vLkQTOq7D8=",
          "dtype": "f8"
         }
        },
        {
         "line": {
          "color": "blue",
          "dash": "dash"
         },
         "mode": "lines",
         "name": "Predição Original",
         "type": "scatter",
         "y": {
          "bdata": "nyhPnflO9z9gHHYQcETwP58oT535Tvc/NcYJ3ivx/z/H027bMTQDQMfTbtsxNANAW6JizpQwAUDSiMQk+Ij3P/2q4seQaPk/ZH6eRe5f8T9BGZ5ZmvD3PzitkrX97Pg/sjPog+dN+z+SSuHot2oCQJww0qNNLgNA8cQEdVL2B0A1HTGC8yUFQJ1s4cie0QVAPEfMwV4IAkA8R8zBXggCQF2Pwwd46AFAbpuVTxN2+j/IvXHXsBP6P0OwSlf+P/c/2pPnoDIS6T+hOYU4eCfuPxp0K9BUbOo/ThQjZ9o8AEBABo/x9pL3P3F+mAxJHfY/vjt97VxcAkC1xmrF5DgDQOa6Z/pAWAZAUonaDz/zBED9aMiraIEDQPruFYWieANA+u4VhaJ4A0CoKE294o/7Pxk9jtecgfw/S7H7xD8A/j92WkFYmFz2P7S5Onx/Bvo/RX1rWH4i8z/oY5hva434P1TJv1Fh2es/2F3p5aM27D+RtiC+vPzzP6NexDxw2fI/XyhyWTnN9D+DFQQ4srDxP7jtWJ1vMew/uO1YnW8x7D+47VidbzHsP7jtWJ1vMew/uO1YnW8x7D+47VidbzHsP7jtWJ1vMew/uO1YnW8x7D8nAD+TNLUCQNaKcWWMugZA0Uv5KVIhCEA+8WTkUCIIQPi+a1e0Yw5Ayp9UILRhDkDaMTNkxTIBQMaASEASVe8/28WzSFf/7z9COf9b/WfwPxW/p/5ScP0/VZWNuaJb6j9o0D7Y66zqP2jQPtjrrOo/aNA+2Ous6j9o0D7Y66zqP2jQPtjrrOo/aNA+2Ous6j9o0D7Y66zqP2jQPtjrrOo/aNA+2Ous6j9o0D7Y66zqP2jQPtjrrOo/aNA+2Ous6j9o0D7Y66zqP2jQPtjrrOo/aNA+2Ous6j9o0D7Y66zqP2jQPtjrrOo/aNA+2Ous6j9o0D7Y66zqP2jQPtjrrOo/aNA+2Ous6j9o0D7Y66zqP2jQPtjrrOo/aNA+2Ous6j9o0D7Y66zqP2jQPtjrrOo/aNA+2Ous6j9o0D7Y66zqP2jQPtjrrOo/aNA+2Ous6j8=",
          "dtype": "f8"
         }
        },
        {
         "line": {
          "color": "red"
         },
         "mode": "lines",
         "name": "Predição com RM",
         "type": "scatter",
         "y": {
          "bdata": "C4erBLXh7j8Lh6sEteHuPwuHqwS14e4/C4erBLXh7j+cdD739xvuP5x0Pvf3G+4/HpFD2Z4v7D9RbDXEtL3oPwsBXiPnE+k/6nJoZUR76z+K5jth2D/pP79Y+3imTe4/wGr7NBvy6j/Aavs0G/LqP8Bq+zQb8uo/qk5cpzWT7z+qTlynNZPvP6pOXKc1k+8/VB6udWB38T9UHq51YHfxP1QernVgd/E/6YCdTXAx5z/pgJ1NcDHnPwCd8a8TyuQ/AJ3xrxPK5D/0/QtjTIrfP3DRgw0qmdg/njmagZdz8D/DQD8vmMPwP8NAPy+Yw/A/w0A/L5jD8D/DQD8vmMPwP93RrcTSNPQ/3dGtxNI09D8qxZbCntTzPyC2EHLd3PA/ILYQct3c8D9+g7Pf1hjrP36Ds9/WGOs/foOz39YY6z/xskA75JDqP/GyQDvkkOo/8bJAO+SQ6j/xskA75JDqPxHPiwf5j+o/Ec+LB/mP6j8H/HetJ/DqP7jtWJ1vMew/uO1YnW8x7D+47VidbzHsP7jtWJ1vMew/uO1YnW8x7D+47VidbzHsP7jtWJ1vMew/uO1YnW8x7D+47VidbzHsP7jtWJ1vMew/uO1YnW8x7D8lhfTFPrPwPyWF9MU+s/A/+kMa95oS8D/6Qxr3mhLwP/A1Jtf0++o/8DUm1/T76j8/t3AXrg7qPz+3cBeuDuo/P7dwF64O6j9o0D7Y66zqP2jQPtjrrOo/aNA+2Ous6j9o0D7Y66zqP2jQPtjrrOo/aNA+2Ous6j9o0D7Y66zqP2jQPtjrrOo/aNA+2Ous6j9o0D7Y66zqP2jQPtjrrOo/aNA+2Ous6j9o0D7Y66zqP2jQPtjrrOo/aNA+2Ous6j9o0D7Y66zqP2jQPtjrrOo/aNA+2Ous6j9o0D7Y66zqP2jQPtjrrOo/aNA+2Ous6j9o0D7Y66zqP2jQPtjrrOo/aNA+2Ous6j9o0D7Y66zqP2jQPtjrrOo/aNA+2Ous6j9o0D7Y66zqP2jQPtjrrOo/aNA+2Ous6j9o0D7Y66zqP2jQPtjrrOo/aNA+2Ous6j8=",
          "dtype": "f8"
         }
        }
       ],
       "layout": {
        "template": {
         "data": {
          "bar": [
           {
            "error_x": {
             "color": "#2a3f5f"
            },
            "error_y": {
             "color": "#2a3f5f"
            },
            "marker": {
             "line": {
              "color": "white",
              "width": 0.5
             },
             "pattern": {
              "fillmode": "overlay",
              "size": 10,
              "solidity": 0.2
             }
            },
            "type": "bar"
           }
          ],
          "barpolar": [
           {
            "marker": {
             "line": {
              "color": "white",
              "width": 0.5
             },
             "pattern": {
              "fillmode": "overlay",
              "size": 10,
              "solidity": 0.2
             }
            },
            "type": "barpolar"
           }
          ],
          "carpet": [
           {
            "aaxis": {
             "endlinecolor": "#2a3f5f",
             "gridcolor": "#C8D4E3",
             "linecolor": "#C8D4E3",
             "minorgridcolor": "#C8D4E3",
             "startlinecolor": "#2a3f5f"
            },
            "baxis": {
             "endlinecolor": "#2a3f5f",
             "gridcolor": "#C8D4E3",
             "linecolor": "#C8D4E3",
             "minorgridcolor": "#C8D4E3",
             "startlinecolor": "#2a3f5f"
            },
            "type": "carpet"
           }
          ],
          "choropleth": [
           {
            "colorbar": {
             "outlinewidth": 0,
             "ticks": ""
            },
            "type": "choropleth"
           }
          ],
          "contour": [
           {
            "colorbar": {
             "outlinewidth": 0,
             "ticks": ""
            },
            "colorscale": [
             [
              0,
              "#0d0887"
             ],
             [
              0.1111111111111111,
              "#46039f"
             ],
             [
              0.2222222222222222,
              "#7201a8"
             ],
             [
              0.3333333333333333,
              "#9c179e"
             ],
             [
              0.4444444444444444,
              "#bd3786"
             ],
             [
              0.5555555555555556,
              "#d8576b"
             ],
             [
              0.6666666666666666,
              "#ed7953"
             ],
             [
              0.7777777777777778,
              "#fb9f3a"
             ],
             [
              0.8888888888888888,
              "#fdca26"
             ],
             [
              1,
              "#f0f921"
             ]
            ],
            "type": "contour"
           }
          ],
          "contourcarpet": [
           {
            "colorbar": {
             "outlinewidth": 0,
             "ticks": ""
            },
            "type": "contourcarpet"
           }
          ],
          "heatmap": [
           {
            "colorbar": {
             "outlinewidth": 0,
             "ticks": ""
            },
            "colorscale": [
             [
              0,
              "#0d0887"
             ],
             [
              0.1111111111111111,
              "#46039f"
             ],
             [
              0.2222222222222222,
              "#7201a8"
             ],
             [
              0.3333333333333333,
              "#9c179e"
             ],
             [
              0.4444444444444444,
              "#bd3786"
             ],
             [
              0.5555555555555556,
              "#d8576b"
             ],
             [
              0.6666666666666666,
              "#ed7953"
             ],
             [
              0.7777777777777778,
              "#fb9f3a"
             ],
             [
              0.8888888888888888,
              "#fdca26"
             ],
             [
              1,
              "#f0f921"
             ]
            ],
            "type": "heatmap"
           }
          ],
          "histogram": [
           {
            "marker": {
             "pattern": {
              "fillmode": "overlay",
              "size": 10,
              "solidity": 0.2
             }
            },
            "type": "histogram"
           }
          ],
          "histogram2d": [
           {
            "colorbar": {
             "outlinewidth": 0,
             "ticks": ""
            },
            "colorscale": [
             [
              0,
              "#0d0887"
             ],
             [
              0.1111111111111111,
              "#46039f"
             ],
             [
              0.2222222222222222,
              "#7201a8"
             ],
             [
              0.3333333333333333,
              "#9c179e"
             ],
             [
              0.4444444444444444,
              "#bd3786"
             ],
             [
              0.5555555555555556,
              "#d8576b"
             ],
             [
              0.6666666666666666,
              "#ed7953"
             ],
             [
              0.7777777777777778,
              "#fb9f3a"
             ],
             [
              0.8888888888888888,
              "#fdca26"
             ],
             [
              1,
              "#f0f921"
             ]
            ],
            "type": "histogram2d"
           }
          ],
          "histogram2dcontour": [
           {
            "colorbar": {
             "outlinewidth": 0,
             "ticks": ""
            },
            "colorscale": [
             [
              0,
              "#0d0887"
             ],
             [
              0.1111111111111111,
              "#46039f"
             ],
             [
              0.2222222222222222,
              "#7201a8"
             ],
             [
              0.3333333333333333,
              "#9c179e"
             ],
             [
              0.4444444444444444,
              "#bd3786"
             ],
             [
              0.5555555555555556,
              "#d8576b"
             ],
             [
              0.6666666666666666,
              "#ed7953"
             ],
             [
              0.7777777777777778,
              "#fb9f3a"
             ],
             [
              0.8888888888888888,
              "#fdca26"
             ],
             [
              1,
              "#f0f921"
             ]
            ],
            "type": "histogram2dcontour"
           }
          ],
          "mesh3d": [
           {
            "colorbar": {
             "outlinewidth": 0,
             "ticks": ""
            },
            "type": "mesh3d"
           }
          ],
          "parcoords": [
           {
            "line": {
             "colorbar": {
              "outlinewidth": 0,
              "ticks": ""
             }
            },
            "type": "parcoords"
           }
          ],
          "pie": [
           {
            "automargin": true,
            "type": "pie"
           }
          ],
          "scatter": [
           {
            "fillpattern": {
             "fillmode": "overlay",
             "size": 10,
             "solidity": 0.2
            },
            "type": "scatter"
           }
          ],
          "scatter3d": [
           {
            "line": {
             "colorbar": {
              "outlinewidth": 0,
              "ticks": ""
             }
            },
            "marker": {
             "colorbar": {
              "outlinewidth": 0,
              "ticks": ""
             }
            },
            "type": "scatter3d"
           }
          ],
          "scattercarpet": [
           {
            "marker": {
             "colorbar": {
              "outlinewidth": 0,
              "ticks": ""
             }
            },
            "type": "scattercarpet"
           }
          ],
          "scattergeo": [
           {
            "marker": {
             "colorbar": {
              "outlinewidth": 0,
              "ticks": ""
             }
            },
            "type": "scattergeo"
           }
          ],
          "scattergl": [
           {
            "marker": {
             "colorbar": {
              "outlinewidth": 0,
              "ticks": ""
             }
            },
            "type": "scattergl"
           }
          ],
          "scattermap": [
           {
            "marker": {
             "colorbar": {
              "outlinewidth": 0,
              "ticks": ""
             }
            },
            "type": "scattermap"
           }
          ],
          "scattermapbox": [
           {
            "marker": {
             "colorbar": {
              "outlinewidth": 0,
              "ticks": ""
             }
            },
            "type": "scattermapbox"
           }
          ],
          "scatterpolar": [
           {
            "marker": {
             "colorbar": {
              "outlinewidth": 0,
              "ticks": ""
             }
            },
            "type": "scatterpolar"
           }
          ],
          "scatterpolargl": [
           {
            "marker": {
             "colorbar": {
              "outlinewidth": 0,
              "ticks": ""
             }
            },
            "type": "scatterpolargl"
           }
          ],
          "scatterternary": [
           {
            "marker": {
             "colorbar": {
              "outlinewidth": 0,
              "ticks": ""
             }
            },
            "type": "scatterternary"
           }
          ],
          "surface": [
           {
            "colorbar": {
             "outlinewidth": 0,
             "ticks": ""
            },
            "colorscale": [
             [
              0,
              "#0d0887"
             ],
             [
              0.1111111111111111,
              "#46039f"
             ],
             [
              0.2222222222222222,
              "#7201a8"
             ],
             [
              0.3333333333333333,
              "#9c179e"
             ],
             [
              0.4444444444444444,
              "#bd3786"
             ],
             [
              0.5555555555555556,
              "#d8576b"
             ],
             [
              0.6666666666666666,
              "#ed7953"
             ],
             [
              0.7777777777777778,
              "#fb9f3a"
             ],
             [
              0.8888888888888888,
              "#fdca26"
             ],
             [
              1,
              "#f0f921"
             ]
            ],
            "type": "surface"
           }
          ],
          "table": [
           {
            "cells": {
             "fill": {
              "color": "#EBF0F8"
             },
             "line": {
              "color": "white"
             }
            },
            "header": {
             "fill": {
              "color": "#C8D4E3"
             },
             "line": {
              "color": "white"
             }
            },
            "type": "table"
           }
          ]
         },
         "layout": {
          "annotationdefaults": {
           "arrowcolor": "#2a3f5f",
           "arrowhead": 0,
           "arrowwidth": 1
          },
          "autotypenumbers": "strict",
          "coloraxis": {
           "colorbar": {
            "outlinewidth": 0,
            "ticks": ""
           }
          },
          "colorscale": {
           "diverging": [
            [
             0,
             "#8e0152"
            ],
            [
             0.1,
             "#c51b7d"
            ],
            [
             0.2,
             "#de77ae"
            ],
            [
             0.3,
             "#f1b6da"
            ],
            [
             0.4,
             "#fde0ef"
            ],
            [
             0.5,
             "#f7f7f7"
            ],
            [
             0.6,
             "#e6f5d0"
            ],
            [
             0.7,
             "#b8e186"
            ],
            [
             0.8,
             "#7fbc41"
            ],
            [
             0.9,
             "#4d9221"
            ],
            [
             1,
             "#276419"
            ]
           ],
           "sequential": [
            [
             0,
             "#0d0887"
            ],
            [
             0.1111111111111111,
             "#46039f"
            ],
            [
             0.2222222222222222,
             "#7201a8"
            ],
            [
             0.3333333333333333,
             "#9c179e"
            ],
            [
             0.4444444444444444,
             "#bd3786"
            ],
            [
             0.5555555555555556,
             "#d8576b"
            ],
            [
             0.6666666666666666,
             "#ed7953"
            ],
            [
             0.7777777777777778,
             "#fb9f3a"
            ],
            [
             0.8888888888888888,
             "#fdca26"
            ],
            [
             1,
             "#f0f921"
            ]
           ],
           "sequentialminus": [
            [
             0,
             "#0d0887"
            ],
            [
             0.1111111111111111,
             "#46039f"
            ],
            [
             0.2222222222222222,
             "#7201a8"
            ],
            [
             0.3333333333333333,
             "#9c179e"
            ],
            [
             0.4444444444444444,
             "#bd3786"
            ],
            [
             0.5555555555555556,
             "#d8576b"
            ],
            [
             0.6666666666666666,
             "#ed7953"
            ],
            [
             0.7777777777777778,
             "#fb9f3a"
            ],
            [
             0.8888888888888888,
             "#fdca26"
            ],
            [
             1,
             "#f0f921"
            ]
           ]
          },
          "colorway": [
           "#636efa",
           "#EF553B",
           "#00cc96",
           "#ab63fa",
           "#FFA15A",
           "#19d3f3",
           "#FF6692",
           "#B6E880",
           "#FF97FF",
           "#FECB52"
          ],
          "font": {
           "color": "#2a3f5f"
          },
          "geo": {
           "bgcolor": "white",
           "lakecolor": "white",
           "landcolor": "white",
           "showlakes": true,
           "showland": true,
           "subunitcolor": "#C8D4E3"
          },
          "hoverlabel": {
           "align": "left"
          },
          "hovermode": "closest",
          "mapbox": {
           "style": "light"
          },
          "paper_bgcolor": "white",
          "plot_bgcolor": "white",
          "polar": {
           "angularaxis": {
            "gridcolor": "#EBF0F8",
            "linecolor": "#EBF0F8",
            "ticks": ""
           },
           "bgcolor": "white",
           "radialaxis": {
            "gridcolor": "#EBF0F8",
            "linecolor": "#EBF0F8",
            "ticks": ""
           }
          },
          "scene": {
           "xaxis": {
            "backgroundcolor": "white",
            "gridcolor": "#DFE8F3",
            "gridwidth": 2,
            "linecolor": "#EBF0F8",
            "showbackground": true,
            "ticks": "",
            "zerolinecolor": "#EBF0F8"
           },
           "yaxis": {
            "backgroundcolor": "white",
            "gridcolor": "#DFE8F3",
            "gridwidth": 2,
            "linecolor": "#EBF0F8",
            "showbackground": true,
            "ticks": "",
            "zerolinecolor": "#EBF0F8"
           },
           "zaxis": {
            "backgroundcolor": "white",
            "gridcolor": "#DFE8F3",
            "gridwidth": 2,
            "linecolor": "#EBF0F8",
            "showbackground": true,
            "ticks": "",
            "zerolinecolor": "#EBF0F8"
           }
          },
          "shapedefaults": {
           "line": {
            "color": "#2a3f5f"
           }
          },
          "ternary": {
           "aaxis": {
            "gridcolor": "#DFE8F3",
            "linecolor": "#A2B1C6",
            "ticks": ""
           },
           "baxis": {
            "gridcolor": "#DFE8F3",
            "linecolor": "#A2B1C6",
            "ticks": ""
           },
           "bgcolor": "white",
           "caxis": {
            "gridcolor": "#DFE8F3",
            "linecolor": "#A2B1C6",
            "ticks": ""
           }
          },
          "title": {
           "x": 0.05
          },
          "xaxis": {
           "automargin": true,
           "gridcolor": "#EBF0F8",
           "linecolor": "#EBF0F8",
           "ticks": "",
           "title": {
            "standoff": 15
           },
           "zerolinecolor": "#EBF0F8",
           "zerolinewidth": 2
          },
          "yaxis": {
           "automargin": true,
           "gridcolor": "#EBF0F8",
           "linecolor": "#EBF0F8",
           "ticks": "",
           "title": {
            "standoff": 15
           },
           "zerolinecolor": "#EBF0F8",
           "zerolinewidth": 2
          }
         }
        },
        "title": {
         "text": "Comparação CO₂ - Caso de teste: RM11 - Velocidade e aceleração iguais a zero - GASOLINE",
         "x": 0.5
        },
        "xaxis": {
         "title": {
          "text": "Amostras"
         }
        },
        "yaxis": {
         "title": {
          "text": "CO₂ (g/s)"
         }
        }
       }
      }
     },
     "metadata": {},
     "output_type": "display_data"
    },
    {
     "name": "stdout",
     "output_type": "stream",
     "text": [
      "\n",
      "🔁 Caso de teste: RM12 - Latitude e Longitude multiplicadas por 2 (ETHANOL)\n",
      "Diferença Média: 0.4796 | Diferença Máxima: 1.7632 | Erro Quadrático Médio (RMSE): 0.5453 | Desvio Padrão (Std): 0.2594\n"
     ]
    },
    {
     "data": {
      "text/html": [
       "<style type=\"text/css\">\n",
       "</style>\n",
       "<table id=\"T_9ead0\">\n",
       "  <caption>Comparação dos dados originais e modificados - Caso de teste: RM12 - Latitude e Longitude multiplicadas por 2 (ETHANOL)</caption>\n",
       "  <thead>\n",
       "    <tr>\n",
       "      <th class=\"blank level0\" >&nbsp;</th>\n",
       "      <th id=\"T_9ead0_level0_col0\" class=\"col_heading level0 col0\" >Latitude_Orig</th>\n",
       "      <th id=\"T_9ead0_level0_col1\" class=\"col_heading level0 col1\" >Longitude_Orig</th>\n",
       "      <th id=\"T_9ead0_level0_col2\" class=\"col_heading level0 col2\" >Speed(OBD)(km/h)_Orig</th>\n",
       "      <th id=\"T_9ead0_level0_col3\" class=\"col_heading level0 col3\" >Acceleration_Orig</th>\n",
       "      <th id=\"T_9ead0_level0_col4\" class=\"col_heading level0 col4\" > </th>\n",
       "      <th id=\"T_9ead0_level0_col5\" class=\"col_heading level0 col5\" >Latitude_Mod</th>\n",
       "      <th id=\"T_9ead0_level0_col6\" class=\"col_heading level0 col6\" >Longitude_Mod</th>\n",
       "      <th id=\"T_9ead0_level0_col7\" class=\"col_heading level0 col7\" >Speed(OBD)(km/h)_Mod</th>\n",
       "      <th id=\"T_9ead0_level0_col8\" class=\"col_heading level0 col8\" >Acceleration_Mod</th>\n",
       "      <th id=\"T_9ead0_level0_col9\" class=\"col_heading level0 col9\" > </th>\n",
       "      <th id=\"T_9ead0_level0_col10\" class=\"col_heading level0 col10\" >CO₂_Real</th>\n",
       "      <th id=\"T_9ead0_level0_col11\" class=\"col_heading level0 col11\" >CO₂_Orig</th>\n",
       "      <th id=\"T_9ead0_level0_col12\" class=\"col_heading level0 col12\" >CO₂_Mod</th>\n",
       "    </tr>\n",
       "  </thead>\n",
       "  <tbody>\n",
       "    <tr>\n",
       "      <th id=\"T_9ead0_level0_row0\" class=\"row_heading level0 row0\" >0</th>\n",
       "      <td id=\"T_9ead0_row0_col0\" class=\"data row0 col0\" >-5.820105</td>\n",
       "      <td id=\"T_9ead0_row0_col1\" class=\"data row0 col1\" >-35.220818</td>\n",
       "      <td id=\"T_9ead0_row0_col2\" class=\"data row0 col2\" >3</td>\n",
       "      <td id=\"T_9ead0_row0_col3\" class=\"data row0 col3\" >0.000000</td>\n",
       "      <td id=\"T_9ead0_row0_col4\" class=\"data row0 col4\" >→</td>\n",
       "      <td id=\"T_9ead0_row0_col5\" class=\"data row0 col5\" >-11.640210</td>\n",
       "      <td id=\"T_9ead0_row0_col6\" class=\"data row0 col6\" >-70.441636</td>\n",
       "      <td id=\"T_9ead0_row0_col7\" class=\"data row0 col7\" >3</td>\n",
       "      <td id=\"T_9ead0_row0_col8\" class=\"data row0 col8\" >0.000000</td>\n",
       "      <td id=\"T_9ead0_row0_col9\" class=\"data row0 col9\" > </td>\n",
       "      <td id=\"T_9ead0_row0_col10\" class=\"data row0 col10\" >0.642839</td>\n",
       "      <td id=\"T_9ead0_row0_col11\" class=\"data row0 col11\" >0.742631</td>\n",
       "      <td id=\"T_9ead0_row0_col12\" class=\"data row0 col12\" >0.989485</td>\n",
       "    </tr>\n",
       "    <tr>\n",
       "      <th id=\"T_9ead0_level0_row1\" class=\"row_heading level0 row1\" >1</th>\n",
       "      <td id=\"T_9ead0_row1_col0\" class=\"data row1 col0\" >-5.820103</td>\n",
       "      <td id=\"T_9ead0_row1_col1\" class=\"data row1 col1\" >-35.220828</td>\n",
       "      <td id=\"T_9ead0_row1_col2\" class=\"data row1 col2\" >5</td>\n",
       "      <td id=\"T_9ead0_row1_col3\" class=\"data row1 col3\" >0.555556</td>\n",
       "      <td id=\"T_9ead0_row1_col4\" class=\"data row1 col4\" >→</td>\n",
       "      <td id=\"T_9ead0_row1_col5\" class=\"data row1 col5\" >-11.640206</td>\n",
       "      <td id=\"T_9ead0_row1_col6\" class=\"data row1 col6\" >-70.441656</td>\n",
       "      <td id=\"T_9ead0_row1_col7\" class=\"data row1 col7\" >5</td>\n",
       "      <td id=\"T_9ead0_row1_col8\" class=\"data row1 col8\" >0.555556</td>\n",
       "      <td id=\"T_9ead0_row1_col9\" class=\"data row1 col9\" > </td>\n",
       "      <td id=\"T_9ead0_row1_col10\" class=\"data row1 col10\" >0.653249</td>\n",
       "      <td id=\"T_9ead0_row1_col11\" class=\"data row1 col11\" >0.771505</td>\n",
       "      <td id=\"T_9ead0_row1_col12\" class=\"data row1 col12\" >0.905773</td>\n",
       "    </tr>\n",
       "    <tr>\n",
       "      <th id=\"T_9ead0_level0_row2\" class=\"row_heading level0 row2\" >2</th>\n",
       "      <td id=\"T_9ead0_row2_col0\" class=\"data row2 col0\" >-5.820102</td>\n",
       "      <td id=\"T_9ead0_row2_col1\" class=\"data row2 col1\" >-35.220838</td>\n",
       "      <td id=\"T_9ead0_row2_col2\" class=\"data row2 col2\" >5</td>\n",
       "      <td id=\"T_9ead0_row2_col3\" class=\"data row2 col3\" >0.000000</td>\n",
       "      <td id=\"T_9ead0_row2_col4\" class=\"data row2 col4\" >→</td>\n",
       "      <td id=\"T_9ead0_row2_col5\" class=\"data row2 col5\" >-11.640205</td>\n",
       "      <td id=\"T_9ead0_row2_col6\" class=\"data row2 col6\" >-70.441675</td>\n",
       "      <td id=\"T_9ead0_row2_col7\" class=\"data row2 col7\" >5</td>\n",
       "      <td id=\"T_9ead0_row2_col8\" class=\"data row2 col8\" >0.000000</td>\n",
       "      <td id=\"T_9ead0_row2_col9\" class=\"data row2 col9\" > </td>\n",
       "      <td id=\"T_9ead0_row2_col10\" class=\"data row2 col10\" >0.653249</td>\n",
       "      <td id=\"T_9ead0_row2_col11\" class=\"data row2 col11\" >0.771505</td>\n",
       "      <td id=\"T_9ead0_row2_col12\" class=\"data row2 col12\" >0.888538</td>\n",
       "    </tr>\n",
       "    <tr>\n",
       "      <th id=\"T_9ead0_level0_row3\" class=\"row_heading level0 row3\" >3</th>\n",
       "      <td id=\"T_9ead0_row3_col0\" class=\"data row3 col0\" >-5.820096</td>\n",
       "      <td id=\"T_9ead0_row3_col1\" class=\"data row3 col1\" >-35.220843</td>\n",
       "      <td id=\"T_9ead0_row3_col2\" class=\"data row3 col2\" >3</td>\n",
       "      <td id=\"T_9ead0_row3_col3\" class=\"data row3 col3\" >-0.555556</td>\n",
       "      <td id=\"T_9ead0_row3_col4\" class=\"data row3 col4\" >→</td>\n",
       "      <td id=\"T_9ead0_row3_col5\" class=\"data row3 col5\" >-11.640192</td>\n",
       "      <td id=\"T_9ead0_row3_col6\" class=\"data row3 col6\" >-70.441686</td>\n",
       "      <td id=\"T_9ead0_row3_col7\" class=\"data row3 col7\" >3</td>\n",
       "      <td id=\"T_9ead0_row3_col8\" class=\"data row3 col8\" >-0.555556</td>\n",
       "      <td id=\"T_9ead0_row3_col9\" class=\"data row3 col9\" > </td>\n",
       "      <td id=\"T_9ead0_row3_col10\" class=\"data row3 col10\" >0.679275</td>\n",
       "      <td id=\"T_9ead0_row3_col11\" class=\"data row3 col11\" >0.659013</td>\n",
       "      <td id=\"T_9ead0_row3_col12\" class=\"data row3 col12\" >0.890532</td>\n",
       "    </tr>\n",
       "    <tr>\n",
       "      <th id=\"T_9ead0_level0_row4\" class=\"row_heading level0 row4\" >4</th>\n",
       "      <td id=\"T_9ead0_row4_col0\" class=\"data row4 col0\" >-5.820091</td>\n",
       "      <td id=\"T_9ead0_row4_col1\" class=\"data row4 col1\" >-35.220850</td>\n",
       "      <td id=\"T_9ead0_row4_col2\" class=\"data row4 col2\" >0</td>\n",
       "      <td id=\"T_9ead0_row4_col3\" class=\"data row4 col3\" >-0.833333</td>\n",
       "      <td id=\"T_9ead0_row4_col4\" class=\"data row4 col4\" >→</td>\n",
       "      <td id=\"T_9ead0_row4_col5\" class=\"data row4 col5\" >-11.640182</td>\n",
       "      <td id=\"T_9ead0_row4_col6\" class=\"data row4 col6\" >-70.441700</td>\n",
       "      <td id=\"T_9ead0_row4_col7\" class=\"data row4 col7\" >0</td>\n",
       "      <td id=\"T_9ead0_row4_col8\" class=\"data row4 col8\" >-0.833333</td>\n",
       "      <td id=\"T_9ead0_row4_col9\" class=\"data row4 col9\" > </td>\n",
       "      <td id=\"T_9ead0_row4_col10\" class=\"data row4 col10\" >0.610306</td>\n",
       "      <td id=\"T_9ead0_row4_col11\" class=\"data row4 col11\" >0.667689</td>\n",
       "      <td id=\"T_9ead0_row4_col12\" class=\"data row4 col12\" >0.994262</td>\n",
       "    </tr>\n",
       "    <tr>\n",
       "      <th id=\"T_9ead0_level0_row5\" class=\"row_heading level0 row5\" >5</th>\n",
       "      <td id=\"T_9ead0_row5_col0\" class=\"data row5 col0\" >-5.820091</td>\n",
       "      <td id=\"T_9ead0_row5_col1\" class=\"data row5 col1\" >-35.220850</td>\n",
       "      <td id=\"T_9ead0_row5_col2\" class=\"data row5 col2\" >0</td>\n",
       "      <td id=\"T_9ead0_row5_col3\" class=\"data row5 col3\" >0.000000</td>\n",
       "      <td id=\"T_9ead0_row5_col4\" class=\"data row5 col4\" >→</td>\n",
       "      <td id=\"T_9ead0_row5_col5\" class=\"data row5 col5\" >-11.640182</td>\n",
       "      <td id=\"T_9ead0_row5_col6\" class=\"data row5 col6\" >-70.441700</td>\n",
       "      <td id=\"T_9ead0_row5_col7\" class=\"data row5 col7\" >0</td>\n",
       "      <td id=\"T_9ead0_row5_col8\" class=\"data row5 col8\" >0.000000</td>\n",
       "      <td id=\"T_9ead0_row5_col9\" class=\"data row5 col9\" > </td>\n",
       "      <td id=\"T_9ead0_row5_col10\" class=\"data row5 col10\" >0.610306</td>\n",
       "      <td id=\"T_9ead0_row5_col11\" class=\"data row5 col11\" >0.706858</td>\n",
       "      <td id=\"T_9ead0_row5_col12\" class=\"data row5 col12\" >0.938908</td>\n",
       "    </tr>\n",
       "    <tr>\n",
       "      <th id=\"T_9ead0_level0_row6\" class=\"row_heading level0 row6\" >6</th>\n",
       "      <td id=\"T_9ead0_row6_col0\" class=\"data row6 col0\" >-5.820091</td>\n",
       "      <td id=\"T_9ead0_row6_col1\" class=\"data row6 col1\" >-35.220850</td>\n",
       "      <td id=\"T_9ead0_row6_col2\" class=\"data row6 col2\" >0</td>\n",
       "      <td id=\"T_9ead0_row6_col3\" class=\"data row6 col3\" >0.000000</td>\n",
       "      <td id=\"T_9ead0_row6_col4\" class=\"data row6 col4\" >→</td>\n",
       "      <td id=\"T_9ead0_row6_col5\" class=\"data row6 col5\" >-11.640182</td>\n",
       "      <td id=\"T_9ead0_row6_col6\" class=\"data row6 col6\" >-70.441700</td>\n",
       "      <td id=\"T_9ead0_row6_col7\" class=\"data row6 col7\" >0</td>\n",
       "      <td id=\"T_9ead0_row6_col8\" class=\"data row6 col8\" >0.000000</td>\n",
       "      <td id=\"T_9ead0_row6_col9\" class=\"data row6 col9\" > </td>\n",
       "      <td id=\"T_9ead0_row6_col10\" class=\"data row6 col10\" >0.490587</td>\n",
       "      <td id=\"T_9ead0_row6_col11\" class=\"data row6 col11\" >0.706858</td>\n",
       "      <td id=\"T_9ead0_row6_col12\" class=\"data row6 col12\" >0.938908</td>\n",
       "    </tr>\n",
       "    <tr>\n",
       "      <th id=\"T_9ead0_level0_row7\" class=\"row_heading level0 row7\" >7</th>\n",
       "      <td id=\"T_9ead0_row7_col0\" class=\"data row7 col0\" >-5.820085</td>\n",
       "      <td id=\"T_9ead0_row7_col1\" class=\"data row7 col1\" >-35.220856</td>\n",
       "      <td id=\"T_9ead0_row7_col2\" class=\"data row7 col2\" >3</td>\n",
       "      <td id=\"T_9ead0_row7_col3\" class=\"data row7 col3\" >0.833333</td>\n",
       "      <td id=\"T_9ead0_row7_col4\" class=\"data row7 col4\" >→</td>\n",
       "      <td id=\"T_9ead0_row7_col5\" class=\"data row7 col5\" >-11.640171</td>\n",
       "      <td id=\"T_9ead0_row7_col6\" class=\"data row7 col6\" >-70.441711</td>\n",
       "      <td id=\"T_9ead0_row7_col7\" class=\"data row7 col7\" >3</td>\n",
       "      <td id=\"T_9ead0_row7_col8\" class=\"data row7 col8\" >0.833333</td>\n",
       "      <td id=\"T_9ead0_row7_col9\" class=\"data row7 col9\" > </td>\n",
       "      <td id=\"T_9ead0_row7_col10\" class=\"data row7 col10\" >1.090483</td>\n",
       "      <td id=\"T_9ead0_row7_col11\" class=\"data row7 col11\" >1.137803</td>\n",
       "      <td id=\"T_9ead0_row7_col12\" class=\"data row7 col12\" >1.008678</td>\n",
       "    </tr>\n",
       "    <tr>\n",
       "      <th id=\"T_9ead0_level0_row8\" class=\"row_heading level0 row8\" >8</th>\n",
       "      <td id=\"T_9ead0_row8_col0\" class=\"data row8 col0\" >-5.820074</td>\n",
       "      <td id=\"T_9ead0_row8_col1\" class=\"data row8 col1\" >-35.220859</td>\n",
       "      <td id=\"T_9ead0_row8_col2\" class=\"data row8 col2\" >3</td>\n",
       "      <td id=\"T_9ead0_row8_col3\" class=\"data row8 col3\" >0.000000</td>\n",
       "      <td id=\"T_9ead0_row8_col4\" class=\"data row8 col4\" >→</td>\n",
       "      <td id=\"T_9ead0_row8_col5\" class=\"data row8 col5\" >-11.640149</td>\n",
       "      <td id=\"T_9ead0_row8_col6\" class=\"data row8 col6\" >-70.441719</td>\n",
       "      <td id=\"T_9ead0_row8_col7\" class=\"data row8 col7\" >3</td>\n",
       "      <td id=\"T_9ead0_row8_col8\" class=\"data row8 col8\" >0.000000</td>\n",
       "      <td id=\"T_9ead0_row8_col9\" class=\"data row8 col9\" > </td>\n",
       "      <td id=\"T_9ead0_row8_col10\" class=\"data row8 col10\" >1.090483</td>\n",
       "      <td id=\"T_9ead0_row8_col11\" class=\"data row8 col11\" >1.137803</td>\n",
       "      <td id=\"T_9ead0_row8_col12\" class=\"data row8 col12\" >0.989485</td>\n",
       "    </tr>\n",
       "    <tr>\n",
       "      <th id=\"T_9ead0_level0_row9\" class=\"row_heading level0 row9\" >9</th>\n",
       "      <td id=\"T_9ead0_row9_col0\" class=\"data row9 col0\" >-5.820064</td>\n",
       "      <td id=\"T_9ead0_row9_col1\" class=\"data row9 col1\" >-35.220858</td>\n",
       "      <td id=\"T_9ead0_row9_col2\" class=\"data row9 col2\" >3</td>\n",
       "      <td id=\"T_9ead0_row9_col3\" class=\"data row9 col3\" >0.000000</td>\n",
       "      <td id=\"T_9ead0_row9_col4\" class=\"data row9 col4\" >→</td>\n",
       "      <td id=\"T_9ead0_row9_col5\" class=\"data row9 col5\" >-11.640128</td>\n",
       "      <td id=\"T_9ead0_row9_col6\" class=\"data row9 col6\" >-70.441716</td>\n",
       "      <td id=\"T_9ead0_row9_col7\" class=\"data row9 col7\" >3</td>\n",
       "      <td id=\"T_9ead0_row9_col8\" class=\"data row9 col8\" >0.000000</td>\n",
       "      <td id=\"T_9ead0_row9_col9\" class=\"data row9 col9\" > </td>\n",
       "      <td id=\"T_9ead0_row9_col10\" class=\"data row9 col10\" >0.921315</td>\n",
       "      <td id=\"T_9ead0_row9_col11\" class=\"data row9 col11\" >1.137803</td>\n",
       "      <td id=\"T_9ead0_row9_col12\" class=\"data row9 col12\" >0.989485</td>\n",
       "    </tr>\n",
       "  </tbody>\n",
       "</table>\n"
      ],
      "text/plain": [
       "<pandas.io.formats.style.Styler at 0x1bd896a1150>"
      ]
     },
     "metadata": {},
     "output_type": "display_data"
    },
    {
     "data": {
      "application/vnd.plotly.v1+json": {
       "config": {
        "plotlyServerURL": "https://plot.ly"
       },
       "data": [
        {
         "line": {
          "color": "green",
          "dash": "dot"
         },
         "mode": "lines",
         "name": "Real",
         "type": "scatter",
         "y": {
          "bdata": "Xv2WDSKS5D+bk2QeaufkP5uTZB5q5+Q/NotmSJ685T/ehxTZoIfjP96HFNmgh+M/M5CwL8hl3z/dnA9wnnLxP92cD3CecvE/T3ASz2l77T+UX3iidnLyPz8yMAV+Z/Q/PzIwBX5n9D8ti7UITBb8PzhhcBqj5vk/KSOOULfS8D8pI45Qt9LwP7us/CApG+8/cjYv8OP84z+t9vIuJyjgP6328i4nKOA/geLz0z/39T+rgxXuOvLzP6uDFe468vM/mb1aTGW9AEB0UCWuXTcFQJNSfcM51QFAk1J9wznVAUDU4Eocwdz0P40G4N+x0N0/MaWrxsVQ3T+Gb8fSpWfjP4Zvx9KlZ+M/RJASr2yy4j+u4feXKT3iPxtsE+QD5v0/G2wT5APm/T9xVW+Vh+D+P/WBu/ZpMek/9YG79mkx6T8EcmzGOjzYP6VZboDtdf4/WOugB2mlAEBY66AHaaUAQFcs1yJHEfo/jF/HYiTM+D+vRCQpQjH6P69EJClCMfo/IlLOZdxR9j8U6vVt9WfxP9L1RbO+x/I/0vVFs77H8j9JPCZTdgbrPy3PofTAJtk/Lc+h9MAm2T83dmuxoNHXP5m9WkxlveA/wxqQeuun4T/DGpB666fhPy5sdWOoMgFAN3ZrsaDRB0CTtalUUskJQJO1qVRSyQlAUQXmhZA5CECzrwGybRkJQLOvAbJtGQlAadNRH3liAkDxyvHJCOv/P/HK8ckI6/8/ZYpqDIgCAkDcITJ38e4HQFhbyHe+Nvk/WFvId742+T+BiQxRzfvaP+KMDwAd1/Y/4owPAB3X9j9nuVth/yfxP4GJDFHN+9o/VyzXIkcR2j9XLNciRxHKPzhhcBqj5sk/mb1aTGW90D+rqr6oeQbiPxTJ619+uOE/cloUOF8j9z+cBUVJAVwCQO7F9qKMm/w/7sX2ooyb/D8XwP8/+pH1Py66pl3DO9s/YtOg3ya82D8GXXEvPVHKPwZdcS89Uco/3P87AbdmyT8zkLAvyGXPPxdp8ttk2OI/F2ny22TY4j/s9fsW3vTiP/4o4Wa23vY/g+DZ9mxa+z8=",
          "dtype": "f8"
         }
        },
        {
         "line": {
          "color": "blue",
          "dash": "dash"
         },
         "mode": "lines",
         "name": "Predição Original",
         "type": "scatter",
         "y": {
          "bdata": "A1nGMaLD5z/rGxZ+K7DoP+sbFn4rsOg/ZNKEuKEW5T8gJJx1tV3lP1qolBeUnuY/WqiUF5Se5j8vN5pfcTTyPy83ml9xNPI/LzeaX3E08j8LUj4DVmv0P2cHXp66ovQ/lajUrwhy8z8ERxYOSyj4P0gf5HQeCfI/if7LZHnq7z8XHaiiCV3vP6Btm6JJmew/vGW1En/65z9MP1pTWq7wP/J2f86FGvA/Rx/yOxHc8D9HH/I7EdzwP0cf8jsR3PA/Wi2PK9ct9T99iPbmwzv1P+s7h6uSvvI/jlifB2hB+z/KAreWPx7tP2CGcv2h3+w/DE1YhnUh4z+r91rqETzvPzST+4nO/eQ/tcGbWjP25j8r0X6ZskrsPzXVexnn+PI/jsX9rHxr8z+YODlE2Q7zPxrw1xsMw+0/6+G9lxVx7T+VLCu5vQ3pP5kI65KAuvA/xV7vM9nJ8j+3rXXsTRn+P7nipTU15fQ/Ahig1qK48j97HMyYL2j0P61VsDSbgfU/gKXeX7rt9D8lL/FG5m/yP1D9sJ1ASPI/ONgUq37H8z/SblJX33btP6Pvp4KhC+M/A1unplDL5j/tVn03pGviP09EUKldGOg/RjLkVnwe6D+bSQJT7m7oP/kNtZK+Z+k/BO79CuHa9z9uhs6rFD4AQDSsx4gppPs/JoJSHH6Y9j8b5eo1rb34P7wp1TtfOgFA605wkeGE9z+CQHPA6Nf7P96W8dRj7vo/77f/lcKE+T8/0HaFb3j5P0ixId0VM/o/2QaTrAQF9T89ims167HjP+Roiw7ssfA/N+aifBlj8D+LMRVBlGrvP6CylwUtpOE/UCAMIn9U4D86TWpu5ebtP5PEfPDbnN0/8ql5Nfn/4D83OrmjNxvhP9ETGcqqqOg/TEBpKYVw9j/5y4EaW9T4P6g7DuceO/U/scgFb/N/8D+73vRQdeXuP5DaSmyYQ+A/1hTHV/j+2j9wnnVfpazbPzJoid+r2eU/KlRdoNof2z8xuA2DPjffP3qotC6cE+Y/eqi0LpwT5j96qLQunBPmPwHia4Ko5fc/29W9hKHm9z8=",
          "dtype": "f8"
         }
        },
        {
         "line": {
          "color": "red"
         },
         "mode": "lines",
         "name": "Predição com RM",
         "type": "scatter",
         "y": {
          "bdata": "mEAvnNup7z/3OcZtF/zsPzF/Q7Dmbuw/PKPR0z1/7D8EtCW6/tDvP8xzsPeHC+4/zHOw94cL7j/iUgphiyPwP5hAL5zbqe8/mEAvnNup7z9AyPBTlxnvP6nm3tUYgu4/LTWN5xIT8D9RogFdrcryPylVq7KazfI/9OR+mHvz+T/05H6Ye/P5P/Tkfph78/k/e7Z0K5XU7T87mRSgWcD6Px8enbA8OvM/NaDWfPqK9j81oNZ8+or2PzWg1nz6ivY/f8FgdS0/+T846O/dlw7zP/3n8ljgcO8/t1wonxZ29j8WV3RBxMj4Pyb7vMoVdfU/Au8GPdnb6D8lWcCIqXn0Py8Lgjjqj+E/Lg2Jc2T07z9vcVQFluHqP+hYqOUudvo/LmUwzmoV8z/+U3+hb7rzP/2IlHfv5ABAieY2PIz8/j9vcVQFluHqP+hYqOUudvo/KVWrsprN8j/05H6Ye/P5P9ufYUcuI/I/BTWhgaew7z8lWcCIqXn0P4aTcAx5Cfc/bbrdn8nq8z9ONeMa10n4PyxMF3M3zvQ/LEwXczfO9D8sTBdzN870PzNlIdAhaOU/Jvu8yhV19T/nakh8DUTuP29xVAWW4eo/ps1a3DPD6D8xf0Ow5m7sP/m2mJlPaPc/T6u20gmI8z/4GxOVwFv5P4E2QWPZs/g/BTWhgaew7z8rdJBd0v3nPyxMF3M3zvQ/7Rp6vvTa6z85aAobzgP4P56Y6KiD2fw/eflPBogY+D8aQgZ9UDIAQLA7Prc+Bvs/B+5I/Ut29j99LwMTJy/yPxUulP8SePs/FS6U/xJ4+z/kD6e6e9b8P30vAxMnL/I/22RBsjO35T9F6vbsyf73P5VGWXEIy+M/M2Uh0CFo5T8C7wY92dvoPyVZwIipefQ/JVnAiKl59D+Gk3AMeQn3Py0hWIn0w+w/K0aEB5NN+D+jmPgPT3vsP+jMIkCK6e8/tzrYMKk84j8S3G5MERHkPxf5wr2kQPQ/n5Kjx0ro5D88YhETn/zrP/gbE5XAW/k/+BsTlcBb+T/4GxOVwFv5P0FKT15yp/s/9OR+mHvz+T8=",
          "dtype": "f8"
         }
        }
       ],
       "layout": {
        "template": {
         "data": {
          "bar": [
           {
            "error_x": {
             "color": "#2a3f5f"
            },
            "error_y": {
             "color": "#2a3f5f"
            },
            "marker": {
             "line": {
              "color": "white",
              "width": 0.5
             },
             "pattern": {
              "fillmode": "overlay",
              "size": 10,
              "solidity": 0.2
             }
            },
            "type": "bar"
           }
          ],
          "barpolar": [
           {
            "marker": {
             "line": {
              "color": "white",
              "width": 0.5
             },
             "pattern": {
              "fillmode": "overlay",
              "size": 10,
              "solidity": 0.2
             }
            },
            "type": "barpolar"
           }
          ],
          "carpet": [
           {
            "aaxis": {
             "endlinecolor": "#2a3f5f",
             "gridcolor": "#C8D4E3",
             "linecolor": "#C8D4E3",
             "minorgridcolor": "#C8D4E3",
             "startlinecolor": "#2a3f5f"
            },
            "baxis": {
             "endlinecolor": "#2a3f5f",
             "gridcolor": "#C8D4E3",
             "linecolor": "#C8D4E3",
             "minorgridcolor": "#C8D4E3",
             "startlinecolor": "#2a3f5f"
            },
            "type": "carpet"
           }
          ],
          "choropleth": [
           {
            "colorbar": {
             "outlinewidth": 0,
             "ticks": ""
            },
            "type": "choropleth"
           }
          ],
          "contour": [
           {
            "colorbar": {
             "outlinewidth": 0,
             "ticks": ""
            },
            "colorscale": [
             [
              0,
              "#0d0887"
             ],
             [
              0.1111111111111111,
              "#46039f"
             ],
             [
              0.2222222222222222,
              "#7201a8"
             ],
             [
              0.3333333333333333,
              "#9c179e"
             ],
             [
              0.4444444444444444,
              "#bd3786"
             ],
             [
              0.5555555555555556,
              "#d8576b"
             ],
             [
              0.6666666666666666,
              "#ed7953"
             ],
             [
              0.7777777777777778,
              "#fb9f3a"
             ],
             [
              0.8888888888888888,
              "#fdca26"
             ],
             [
              1,
              "#f0f921"
             ]
            ],
            "type": "contour"
           }
          ],
          "contourcarpet": [
           {
            "colorbar": {
             "outlinewidth": 0,
             "ticks": ""
            },
            "type": "contourcarpet"
           }
          ],
          "heatmap": [
           {
            "colorbar": {
             "outlinewidth": 0,
             "ticks": ""
            },
            "colorscale": [
             [
              0,
              "#0d0887"
             ],
             [
              0.1111111111111111,
              "#46039f"
             ],
             [
              0.2222222222222222,
              "#7201a8"
             ],
             [
              0.3333333333333333,
              "#9c179e"
             ],
             [
              0.4444444444444444,
              "#bd3786"
             ],
             [
              0.5555555555555556,
              "#d8576b"
             ],
             [
              0.6666666666666666,
              "#ed7953"
             ],
             [
              0.7777777777777778,
              "#fb9f3a"
             ],
             [
              0.8888888888888888,
              "#fdca26"
             ],
             [
              1,
              "#f0f921"
             ]
            ],
            "type": "heatmap"
           }
          ],
          "histogram": [
           {
            "marker": {
             "pattern": {
              "fillmode": "overlay",
              "size": 10,
              "solidity": 0.2
             }
            },
            "type": "histogram"
           }
          ],
          "histogram2d": [
           {
            "colorbar": {
             "outlinewidth": 0,
             "ticks": ""
            },
            "colorscale": [
             [
              0,
              "#0d0887"
             ],
             [
              0.1111111111111111,
              "#46039f"
             ],
             [
              0.2222222222222222,
              "#7201a8"
             ],
             [
              0.3333333333333333,
              "#9c179e"
             ],
             [
              0.4444444444444444,
              "#bd3786"
             ],
             [
              0.5555555555555556,
              "#d8576b"
             ],
             [
              0.6666666666666666,
              "#ed7953"
             ],
             [
              0.7777777777777778,
              "#fb9f3a"
             ],
             [
              0.8888888888888888,
              "#fdca26"
             ],
             [
              1,
              "#f0f921"
             ]
            ],
            "type": "histogram2d"
           }
          ],
          "histogram2dcontour": [
           {
            "colorbar": {
             "outlinewidth": 0,
             "ticks": ""
            },
            "colorscale": [
             [
              0,
              "#0d0887"
             ],
             [
              0.1111111111111111,
              "#46039f"
             ],
             [
              0.2222222222222222,
              "#7201a8"
             ],
             [
              0.3333333333333333,
              "#9c179e"
             ],
             [
              0.4444444444444444,
              "#bd3786"
             ],
             [
              0.5555555555555556,
              "#d8576b"
             ],
             [
              0.6666666666666666,
              "#ed7953"
             ],
             [
              0.7777777777777778,
              "#fb9f3a"
             ],
             [
              0.8888888888888888,
              "#fdca26"
             ],
             [
              1,
              "#f0f921"
             ]
            ],
            "type": "histogram2dcontour"
           }
          ],
          "mesh3d": [
           {
            "colorbar": {
             "outlinewidth": 0,
             "ticks": ""
            },
            "type": "mesh3d"
           }
          ],
          "parcoords": [
           {
            "line": {
             "colorbar": {
              "outlinewidth": 0,
              "ticks": ""
             }
            },
            "type": "parcoords"
           }
          ],
          "pie": [
           {
            "automargin": true,
            "type": "pie"
           }
          ],
          "scatter": [
           {
            "fillpattern": {
             "fillmode": "overlay",
             "size": 10,
             "solidity": 0.2
            },
            "type": "scatter"
           }
          ],
          "scatter3d": [
           {
            "line": {
             "colorbar": {
              "outlinewidth": 0,
              "ticks": ""
             }
            },
            "marker": {
             "colorbar": {
              "outlinewidth": 0,
              "ticks": ""
             }
            },
            "type": "scatter3d"
           }
          ],
          "scattercarpet": [
           {
            "marker": {
             "colorbar": {
              "outlinewidth": 0,
              "ticks": ""
             }
            },
            "type": "scattercarpet"
           }
          ],
          "scattergeo": [
           {
            "marker": {
             "colorbar": {
              "outlinewidth": 0,
              "ticks": ""
             }
            },
            "type": "scattergeo"
           }
          ],
          "scattergl": [
           {
            "marker": {
             "colorbar": {
              "outlinewidth": 0,
              "ticks": ""
             }
            },
            "type": "scattergl"
           }
          ],
          "scattermap": [
           {
            "marker": {
             "colorbar": {
              "outlinewidth": 0,
              "ticks": ""
             }
            },
            "type": "scattermap"
           }
          ],
          "scattermapbox": [
           {
            "marker": {
             "colorbar": {
              "outlinewidth": 0,
              "ticks": ""
             }
            },
            "type": "scattermapbox"
           }
          ],
          "scatterpolar": [
           {
            "marker": {
             "colorbar": {
              "outlinewidth": 0,
              "ticks": ""
             }
            },
            "type": "scatterpolar"
           }
          ],
          "scatterpolargl": [
           {
            "marker": {
             "colorbar": {
              "outlinewidth": 0,
              "ticks": ""
             }
            },
            "type": "scatterpolargl"
           }
          ],
          "scatterternary": [
           {
            "marker": {
             "colorbar": {
              "outlinewidth": 0,
              "ticks": ""
             }
            },
            "type": "scatterternary"
           }
          ],
          "surface": [
           {
            "colorbar": {
             "outlinewidth": 0,
             "ticks": ""
            },
            "colorscale": [
             [
              0,
              "#0d0887"
             ],
             [
              0.1111111111111111,
              "#46039f"
             ],
             [
              0.2222222222222222,
              "#7201a8"
             ],
             [
              0.3333333333333333,
              "#9c179e"
             ],
             [
              0.4444444444444444,
              "#bd3786"
             ],
             [
              0.5555555555555556,
              "#d8576b"
             ],
             [
              0.6666666666666666,
              "#ed7953"
             ],
             [
              0.7777777777777778,
              "#fb9f3a"
             ],
             [
              0.8888888888888888,
              "#fdca26"
             ],
             [
              1,
              "#f0f921"
             ]
            ],
            "type": "surface"
           }
          ],
          "table": [
           {
            "cells": {
             "fill": {
              "color": "#EBF0F8"
             },
             "line": {
              "color": "white"
             }
            },
            "header": {
             "fill": {
              "color": "#C8D4E3"
             },
             "line": {
              "color": "white"
             }
            },
            "type": "table"
           }
          ]
         },
         "layout": {
          "annotationdefaults": {
           "arrowcolor": "#2a3f5f",
           "arrowhead": 0,
           "arrowwidth": 1
          },
          "autotypenumbers": "strict",
          "coloraxis": {
           "colorbar": {
            "outlinewidth": 0,
            "ticks": ""
           }
          },
          "colorscale": {
           "diverging": [
            [
             0,
             "#8e0152"
            ],
            [
             0.1,
             "#c51b7d"
            ],
            [
             0.2,
             "#de77ae"
            ],
            [
             0.3,
             "#f1b6da"
            ],
            [
             0.4,
             "#fde0ef"
            ],
            [
             0.5,
             "#f7f7f7"
            ],
            [
             0.6,
             "#e6f5d0"
            ],
            [
             0.7,
             "#b8e186"
            ],
            [
             0.8,
             "#7fbc41"
            ],
            [
             0.9,
             "#4d9221"
            ],
            [
             1,
             "#276419"
            ]
           ],
           "sequential": [
            [
             0,
             "#0d0887"
            ],
            [
             0.1111111111111111,
             "#46039f"
            ],
            [
             0.2222222222222222,
             "#7201a8"
            ],
            [
             0.3333333333333333,
             "#9c179e"
            ],
            [
             0.4444444444444444,
             "#bd3786"
            ],
            [
             0.5555555555555556,
             "#d8576b"
            ],
            [
             0.6666666666666666,
             "#ed7953"
            ],
            [
             0.7777777777777778,
             "#fb9f3a"
            ],
            [
             0.8888888888888888,
             "#fdca26"
            ],
            [
             1,
             "#f0f921"
            ]
           ],
           "sequentialminus": [
            [
             0,
             "#0d0887"
            ],
            [
             0.1111111111111111,
             "#46039f"
            ],
            [
             0.2222222222222222,
             "#7201a8"
            ],
            [
             0.3333333333333333,
             "#9c179e"
            ],
            [
             0.4444444444444444,
             "#bd3786"
            ],
            [
             0.5555555555555556,
             "#d8576b"
            ],
            [
             0.6666666666666666,
             "#ed7953"
            ],
            [
             0.7777777777777778,
             "#fb9f3a"
            ],
            [
             0.8888888888888888,
             "#fdca26"
            ],
            [
             1,
             "#f0f921"
            ]
           ]
          },
          "colorway": [
           "#636efa",
           "#EF553B",
           "#00cc96",
           "#ab63fa",
           "#FFA15A",
           "#19d3f3",
           "#FF6692",
           "#B6E880",
           "#FF97FF",
           "#FECB52"
          ],
          "font": {
           "color": "#2a3f5f"
          },
          "geo": {
           "bgcolor": "white",
           "lakecolor": "white",
           "landcolor": "white",
           "showlakes": true,
           "showland": true,
           "subunitcolor": "#C8D4E3"
          },
          "hoverlabel": {
           "align": "left"
          },
          "hovermode": "closest",
          "mapbox": {
           "style": "light"
          },
          "paper_bgcolor": "white",
          "plot_bgcolor": "white",
          "polar": {
           "angularaxis": {
            "gridcolor": "#EBF0F8",
            "linecolor": "#EBF0F8",
            "ticks": ""
           },
           "bgcolor": "white",
           "radialaxis": {
            "gridcolor": "#EBF0F8",
            "linecolor": "#EBF0F8",
            "ticks": ""
           }
          },
          "scene": {
           "xaxis": {
            "backgroundcolor": "white",
            "gridcolor": "#DFE8F3",
            "gridwidth": 2,
            "linecolor": "#EBF0F8",
            "showbackground": true,
            "ticks": "",
            "zerolinecolor": "#EBF0F8"
           },
           "yaxis": {
            "backgroundcolor": "white",
            "gridcolor": "#DFE8F3",
            "gridwidth": 2,
            "linecolor": "#EBF0F8",
            "showbackground": true,
            "ticks": "",
            "zerolinecolor": "#EBF0F8"
           },
           "zaxis": {
            "backgroundcolor": "white",
            "gridcolor": "#DFE8F3",
            "gridwidth": 2,
            "linecolor": "#EBF0F8",
            "showbackground": true,
            "ticks": "",
            "zerolinecolor": "#EBF0F8"
           }
          },
          "shapedefaults": {
           "line": {
            "color": "#2a3f5f"
           }
          },
          "ternary": {
           "aaxis": {
            "gridcolor": "#DFE8F3",
            "linecolor": "#A2B1C6",
            "ticks": ""
           },
           "baxis": {
            "gridcolor": "#DFE8F3",
            "linecolor": "#A2B1C6",
            "ticks": ""
           },
           "bgcolor": "white",
           "caxis": {
            "gridcolor": "#DFE8F3",
            "linecolor": "#A2B1C6",
            "ticks": ""
           }
          },
          "title": {
           "x": 0.05
          },
          "xaxis": {
           "automargin": true,
           "gridcolor": "#EBF0F8",
           "linecolor": "#EBF0F8",
           "ticks": "",
           "title": {
            "standoff": 15
           },
           "zerolinecolor": "#EBF0F8",
           "zerolinewidth": 2
          },
          "yaxis": {
           "automargin": true,
           "gridcolor": "#EBF0F8",
           "linecolor": "#EBF0F8",
           "ticks": "",
           "title": {
            "standoff": 15
           },
           "zerolinecolor": "#EBF0F8",
           "zerolinewidth": 2
          }
         }
        },
        "title": {
         "text": "Comparação CO₂ - Caso de teste: RM12 - Latitude e Longitude multiplicadas por 2 - ETHANOL",
         "x": 0.5
        },
        "xaxis": {
         "title": {
          "text": "Amostras"
         }
        },
        "yaxis": {
         "title": {
          "text": "CO₂ (g/s)"
         }
        }
       }
      }
     },
     "metadata": {},
     "output_type": "display_data"
    },
    {
     "name": "stdout",
     "output_type": "stream",
     "text": [
      "\n",
      "🔁 Caso de teste: RM12 - Latitude e Longitude multiplicadas por 2 (GASOLINE)\n",
      "Diferença Média: 0.9334 | Diferença Máxima: 4.1716 | Erro Quadrático Médio (RMSE): 1.1022 | Desvio Padrão (Std): 0.5861\n"
     ]
    },
    {
     "data": {
      "text/html": [
       "<style type=\"text/css\">\n",
       "</style>\n",
       "<table id=\"T_310fb\">\n",
       "  <caption>Comparação dos dados originais e modificados - Caso de teste: RM12 - Latitude e Longitude multiplicadas por 2 (GASOLINE)</caption>\n",
       "  <thead>\n",
       "    <tr>\n",
       "      <th class=\"blank level0\" >&nbsp;</th>\n",
       "      <th id=\"T_310fb_level0_col0\" class=\"col_heading level0 col0\" >Latitude_Orig</th>\n",
       "      <th id=\"T_310fb_level0_col1\" class=\"col_heading level0 col1\" >Longitude_Orig</th>\n",
       "      <th id=\"T_310fb_level0_col2\" class=\"col_heading level0 col2\" >Speed(OBD)(km/h)_Orig</th>\n",
       "      <th id=\"T_310fb_level0_col3\" class=\"col_heading level0 col3\" >Acceleration_Orig</th>\n",
       "      <th id=\"T_310fb_level0_col4\" class=\"col_heading level0 col4\" > </th>\n",
       "      <th id=\"T_310fb_level0_col5\" class=\"col_heading level0 col5\" >Latitude_Mod</th>\n",
       "      <th id=\"T_310fb_level0_col6\" class=\"col_heading level0 col6\" >Longitude_Mod</th>\n",
       "      <th id=\"T_310fb_level0_col7\" class=\"col_heading level0 col7\" >Speed(OBD)(km/h)_Mod</th>\n",
       "      <th id=\"T_310fb_level0_col8\" class=\"col_heading level0 col8\" >Acceleration_Mod</th>\n",
       "      <th id=\"T_310fb_level0_col9\" class=\"col_heading level0 col9\" > </th>\n",
       "      <th id=\"T_310fb_level0_col10\" class=\"col_heading level0 col10\" >CO₂_Real</th>\n",
       "      <th id=\"T_310fb_level0_col11\" class=\"col_heading level0 col11\" >CO₂_Orig</th>\n",
       "      <th id=\"T_310fb_level0_col12\" class=\"col_heading level0 col12\" >CO₂_Mod</th>\n",
       "    </tr>\n",
       "  </thead>\n",
       "  <tbody>\n",
       "    <tr>\n",
       "      <th id=\"T_310fb_level0_row0\" class=\"row_heading level0 row0\" >0</th>\n",
       "      <td id=\"T_310fb_row0_col0\" class=\"data row0 col0\" >-5.820010</td>\n",
       "      <td id=\"T_310fb_row0_col1\" class=\"data row0 col1\" >-35.220825</td>\n",
       "      <td id=\"T_310fb_row0_col2\" class=\"data row0 col2\" >5</td>\n",
       "      <td id=\"T_310fb_row0_col3\" class=\"data row0 col3\" >0.000000</td>\n",
       "      <td id=\"T_310fb_row0_col4\" class=\"data row0 col4\" >→</td>\n",
       "      <td id=\"T_310fb_row0_col5\" class=\"data row0 col5\" >-11.640021</td>\n",
       "      <td id=\"T_310fb_row0_col6\" class=\"data row0 col6\" >-70.441650</td>\n",
       "      <td id=\"T_310fb_row0_col7\" class=\"data row0 col7\" >5</td>\n",
       "      <td id=\"T_310fb_row0_col8\" class=\"data row0 col8\" >0.000000</td>\n",
       "      <td id=\"T_310fb_row0_col9\" class=\"data row0 col9\" > </td>\n",
       "      <td id=\"T_310fb_row0_col10\" class=\"data row0 col10\" >1.002671</td>\n",
       "      <td id=\"T_310fb_row0_col11\" class=\"data row0 col11\" >1.456781</td>\n",
       "      <td id=\"T_310fb_row0_col12\" class=\"data row0 col12\" >1.655048</td>\n",
       "    </tr>\n",
       "    <tr>\n",
       "      <th id=\"T_310fb_level0_row1\" class=\"row_heading level0 row1\" >1</th>\n",
       "      <td id=\"T_310fb_row1_col0\" class=\"data row1 col0\" >-5.820013</td>\n",
       "      <td id=\"T_310fb_row1_col1\" class=\"data row1 col1\" >-35.220822</td>\n",
       "      <td id=\"T_310fb_row1_col2\" class=\"data row1 col2\" >4</td>\n",
       "      <td id=\"T_310fb_row1_col3\" class=\"data row1 col3\" >-0.277778</td>\n",
       "      <td id=\"T_310fb_row1_col4\" class=\"data row1 col4\" >→</td>\n",
       "      <td id=\"T_310fb_row1_col5\" class=\"data row1 col5\" >-11.640026</td>\n",
       "      <td id=\"T_310fb_row1_col6\" class=\"data row1 col6\" >-70.441645</td>\n",
       "      <td id=\"T_310fb_row1_col7\" class=\"data row1 col7\" >4</td>\n",
       "      <td id=\"T_310fb_row1_col8\" class=\"data row1 col8\" >-0.277778</td>\n",
       "      <td id=\"T_310fb_row1_col9\" class=\"data row1 col9\" > </td>\n",
       "      <td id=\"T_310fb_row1_col10\" class=\"data row1 col10\" >1.013360</td>\n",
       "      <td id=\"T_310fb_row1_col11\" class=\"data row1 col11\" >1.016708</td>\n",
       "      <td id=\"T_310fb_row1_col12\" class=\"data row1 col12\" >1.687906</td>\n",
       "    </tr>\n",
       "    <tr>\n",
       "      <th id=\"T_310fb_level0_row2\" class=\"row_heading level0 row2\" >2</th>\n",
       "      <td id=\"T_310fb_row2_col0\" class=\"data row2 col0\" >-5.820016</td>\n",
       "      <td id=\"T_310fb_row2_col1\" class=\"data row2 col1\" >-35.220819</td>\n",
       "      <td id=\"T_310fb_row2_col2\" class=\"data row2 col2\" >5</td>\n",
       "      <td id=\"T_310fb_row2_col3\" class=\"data row2 col3\" >0.277778</td>\n",
       "      <td id=\"T_310fb_row2_col4\" class=\"data row2 col4\" >→</td>\n",
       "      <td id=\"T_310fb_row2_col5\" class=\"data row2 col5\" >-11.640032</td>\n",
       "      <td id=\"T_310fb_row2_col6\" class=\"data row2 col6\" >-70.441639</td>\n",
       "      <td id=\"T_310fb_row2_col7\" class=\"data row2 col7\" >5</td>\n",
       "      <td id=\"T_310fb_row2_col8\" class=\"data row2 col8\" >0.277778</td>\n",
       "      <td id=\"T_310fb_row2_col9\" class=\"data row2 col9\" > </td>\n",
       "      <td id=\"T_310fb_row2_col10\" class=\"data row2 col10\" >2.088720</td>\n",
       "      <td id=\"T_310fb_row2_col11\" class=\"data row2 col11\" >1.456781</td>\n",
       "      <td id=\"T_310fb_row2_col12\" class=\"data row2 col12\" >1.790437</td>\n",
       "    </tr>\n",
       "    <tr>\n",
       "      <th id=\"T_310fb_level0_row3\" class=\"row_heading level0 row3\" >3</th>\n",
       "      <td id=\"T_310fb_row3_col0\" class=\"data row3 col0\" >-5.820014</td>\n",
       "      <td id=\"T_310fb_row3_col1\" class=\"data row3 col1\" >-35.220825</td>\n",
       "      <td id=\"T_310fb_row3_col2\" class=\"data row3 col2\" >7</td>\n",
       "      <td id=\"T_310fb_row3_col3\" class=\"data row3 col3\" >0.555556</td>\n",
       "      <td id=\"T_310fb_row3_col4\" class=\"data row3 col4\" >→</td>\n",
       "      <td id=\"T_310fb_row3_col5\" class=\"data row3 col5\" >-11.640027</td>\n",
       "      <td id=\"T_310fb_row3_col6\" class=\"data row3 col6\" >-70.441649</td>\n",
       "      <td id=\"T_310fb_row3_col7\" class=\"data row3 col7\" >7</td>\n",
       "      <td id=\"T_310fb_row3_col8\" class=\"data row3 col8\" >0.555556</td>\n",
       "      <td id=\"T_310fb_row3_col9\" class=\"data row3 col9\" > </td>\n",
       "      <td id=\"T_310fb_row3_col10\" class=\"data row3 col10\" >2.261889</td>\n",
       "      <td id=\"T_310fb_row3_col11\" class=\"data row3 col11\" >1.996380</td>\n",
       "      <td id=\"T_310fb_row3_col12\" class=\"data row3 col12\" >1.977492</td>\n",
       "    </tr>\n",
       "    <tr>\n",
       "      <th id=\"T_310fb_level0_row4\" class=\"row_heading level0 row4\" >4</th>\n",
       "      <td id=\"T_310fb_row4_col0\" class=\"data row4 col0\" >-5.819992</td>\n",
       "      <td id=\"T_310fb_row4_col1\" class=\"data row4 col1\" >-35.220829</td>\n",
       "      <td id=\"T_310fb_row4_col2\" class=\"data row4 col2\" >9</td>\n",
       "      <td id=\"T_310fb_row4_col3\" class=\"data row4 col3\" >0.555556</td>\n",
       "      <td id=\"T_310fb_row4_col4\" class=\"data row4 col4\" >→</td>\n",
       "      <td id=\"T_310fb_row4_col5\" class=\"data row4 col5\" >-11.639984</td>\n",
       "      <td id=\"T_310fb_row4_col6\" class=\"data row4 col6\" >-70.441658</td>\n",
       "      <td id=\"T_310fb_row4_col7\" class=\"data row4 col7\" >9</td>\n",
       "      <td id=\"T_310fb_row4_col8\" class=\"data row4 col8\" >0.555556</td>\n",
       "      <td id=\"T_310fb_row4_col9\" class=\"data row4 col9\" > </td>\n",
       "      <td id=\"T_310fb_row4_col10\" class=\"data row4 col10\" >2.499195</td>\n",
       "      <td id=\"T_310fb_row4_col11\" class=\"data row4 col11\" >2.400486</td>\n",
       "      <td id=\"T_310fb_row4_col12\" class=\"data row4 col12\" >2.086244</td>\n",
       "    </tr>\n",
       "    <tr>\n",
       "      <th id=\"T_310fb_level0_row5\" class=\"row_heading level0 row5\" >5</th>\n",
       "      <td id=\"T_310fb_row5_col0\" class=\"data row5 col0\" >-5.819974</td>\n",
       "      <td id=\"T_310fb_row5_col1\" class=\"data row5 col1\" >-35.220824</td>\n",
       "      <td id=\"T_310fb_row5_col2\" class=\"data row5 col2\" >12</td>\n",
       "      <td id=\"T_310fb_row5_col3\" class=\"data row5 col3\" >0.833333</td>\n",
       "      <td id=\"T_310fb_row5_col4\" class=\"data row5 col4\" >→</td>\n",
       "      <td id=\"T_310fb_row5_col5\" class=\"data row5 col5\" >-11.639947</td>\n",
       "      <td id=\"T_310fb_row5_col6\" class=\"data row5 col6\" >-70.441648</td>\n",
       "      <td id=\"T_310fb_row5_col7\" class=\"data row5 col7\" >12</td>\n",
       "      <td id=\"T_310fb_row5_col8\" class=\"data row5 col8\" >0.833333</td>\n",
       "      <td id=\"T_310fb_row5_col9\" class=\"data row5 col9\" > </td>\n",
       "      <td id=\"T_310fb_row5_col10\" class=\"data row5 col10\" >2.606089</td>\n",
       "      <td id=\"T_310fb_row5_col11\" class=\"data row5 col11\" >2.400486</td>\n",
       "      <td id=\"T_310fb_row5_col12\" class=\"data row5 col12\" >2.127853</td>\n",
       "    </tr>\n",
       "    <tr>\n",
       "      <th id=\"T_310fb_level0_row6\" class=\"row_heading level0 row6\" >6</th>\n",
       "      <td id=\"T_310fb_row6_col0\" class=\"data row6 col0\" >-5.819944</td>\n",
       "      <td id=\"T_310fb_row6_col1\" class=\"data row6 col1\" >-35.220823</td>\n",
       "      <td id=\"T_310fb_row6_col2\" class=\"data row6 col2\" >15</td>\n",
       "      <td id=\"T_310fb_row6_col3\" class=\"data row6 col3\" >0.833333</td>\n",
       "      <td id=\"T_310fb_row6_col4\" class=\"data row6 col4\" >→</td>\n",
       "      <td id=\"T_310fb_row6_col5\" class=\"data row6 col5\" >-11.639888</td>\n",
       "      <td id=\"T_310fb_row6_col6\" class=\"data row6 col6\" >-70.441646</td>\n",
       "      <td id=\"T_310fb_row6_col7\" class=\"data row6 col7\" >15</td>\n",
       "      <td id=\"T_310fb_row6_col8\" class=\"data row6 col8\" >0.833333</td>\n",
       "      <td id=\"T_310fb_row6_col9\" class=\"data row6 col9\" > </td>\n",
       "      <td id=\"T_310fb_row6_col10\" class=\"data row6 col10\" >3.070012</td>\n",
       "      <td id=\"T_310fb_row6_col11\" class=\"data row6 col11\" >2.148721</td>\n",
       "      <td id=\"T_310fb_row6_col12\" class=\"data row6 col12\" >2.213368</td>\n",
       "    </tr>\n",
       "    <tr>\n",
       "      <th id=\"T_310fb_level0_row7\" class=\"row_heading level0 row7\" >7</th>\n",
       "      <td id=\"T_310fb_row7_col0\" class=\"data row7 col0\" >-5.819908</td>\n",
       "      <td id=\"T_310fb_row7_col1\" class=\"data row7 col1\" >-35.220810</td>\n",
       "      <td id=\"T_310fb_row7_col2\" class=\"data row7 col2\" >18</td>\n",
       "      <td id=\"T_310fb_row7_col3\" class=\"data row7 col3\" >0.833333</td>\n",
       "      <td id=\"T_310fb_row7_col4\" class=\"data row7 col4\" >→</td>\n",
       "      <td id=\"T_310fb_row7_col5\" class=\"data row7 col5\" >-11.639817</td>\n",
       "      <td id=\"T_310fb_row7_col6\" class=\"data row7 col6\" >-70.441621</td>\n",
       "      <td id=\"T_310fb_row7_col7\" class=\"data row7 col7\" >18</td>\n",
       "      <td id=\"T_310fb_row7_col8\" class=\"data row7 col8\" >0.833333</td>\n",
       "      <td id=\"T_310fb_row7_col9\" class=\"data row7 col9\" > </td>\n",
       "      <td id=\"T_310fb_row7_col10\" class=\"data row7 col10\" >2.445747</td>\n",
       "      <td id=\"T_310fb_row7_col11\" class=\"data row7 col11\" >1.470940</td>\n",
       "      <td id=\"T_310fb_row7_col12\" class=\"data row7 col12\" >2.134576</td>\n",
       "    </tr>\n",
       "    <tr>\n",
       "      <th id=\"T_310fb_level0_row8\" class=\"row_heading level0 row8\" >8</th>\n",
       "      <td id=\"T_310fb_row8_col0\" class=\"data row8 col0\" >-5.819866</td>\n",
       "      <td id=\"T_310fb_row8_col1\" class=\"data row8 col1\" >-35.220794</td>\n",
       "      <td id=\"T_310fb_row8_col2\" class=\"data row8 col2\" >18</td>\n",
       "      <td id=\"T_310fb_row8_col3\" class=\"data row8 col3\" >0.000000</td>\n",
       "      <td id=\"T_310fb_row8_col4\" class=\"data row8 col4\" >→</td>\n",
       "      <td id=\"T_310fb_row8_col5\" class=\"data row8 col5\" >-11.639731</td>\n",
       "      <td id=\"T_310fb_row8_col6\" class=\"data row8 col6\" >-70.441588</td>\n",
       "      <td id=\"T_310fb_row8_col7\" class=\"data row8 col7\" >18</td>\n",
       "      <td id=\"T_310fb_row8_col8\" class=\"data row8 col8\" >0.000000</td>\n",
       "      <td id=\"T_310fb_row8_col9\" class=\"data row8 col9\" > </td>\n",
       "      <td id=\"T_310fb_row8_col10\" class=\"data row8 col10\" >1.073221</td>\n",
       "      <td id=\"T_310fb_row8_col11\" class=\"data row8 col11\" >1.588029</td>\n",
       "      <td id=\"T_310fb_row8_col12\" class=\"data row8 col12\" >1.783583</td>\n",
       "    </tr>\n",
       "    <tr>\n",
       "      <th id=\"T_310fb_level0_row9\" class=\"row_heading level0 row9\" >9</th>\n",
       "      <td id=\"T_310fb_row9_col0\" class=\"data row9 col0\" >-5.819821</td>\n",
       "      <td id=\"T_310fb_row9_col1\" class=\"data row9 col1\" >-35.220775</td>\n",
       "      <td id=\"T_310fb_row9_col2\" class=\"data row9 col2\" >16</td>\n",
       "      <td id=\"T_310fb_row9_col3\" class=\"data row9 col3\" >-0.555556</td>\n",
       "      <td id=\"T_310fb_row9_col4\" class=\"data row9 col4\" >→</td>\n",
       "      <td id=\"T_310fb_row9_col5\" class=\"data row9 col5\" >-11.639642</td>\n",
       "      <td id=\"T_310fb_row9_col6\" class=\"data row9 col6\" >-70.441549</td>\n",
       "      <td id=\"T_310fb_row9_col7\" class=\"data row9 col7\" >16</td>\n",
       "      <td id=\"T_310fb_row9_col8\" class=\"data row9 col8\" >-0.555556</td>\n",
       "      <td id=\"T_310fb_row9_col9\" class=\"data row9 col9\" > </td>\n",
       "      <td id=\"T_310fb_row9_col10\" class=\"data row9 col10\" >0.562265</td>\n",
       "      <td id=\"T_310fb_row9_col11\" class=\"data row9 col11\" >1.085921</td>\n",
       "      <td id=\"T_310fb_row9_col12\" class=\"data row9 col12\" >1.900804</td>\n",
       "    </tr>\n",
       "  </tbody>\n",
       "</table>\n"
      ],
      "text/plain": [
       "<pandas.io.formats.style.Styler at 0x1bd896c4f90>"
      ]
     },
     "metadata": {},
     "output_type": "display_data"
    },
    {
     "data": {
      "application/vnd.plotly.v1+json": {
       "config": {
        "plotlyServerURL": "https://plot.ly"
       },
       "data": [
        {
         "line": {
          "color": "green",
          "dash": "dot"
         },
         "mode": "lines",
         "name": "Real",
         "type": "scatter",
         "y": {
          "bdata": "fgFSsvAK8D+A9UFnuTbwP+sFLaeytQBAlHGRLVkYAkBCucXSWf4DQEt9dVtF2QRAqBJmS2KPCEA+120O5JADQCN/TinqK/E/+as09BP+4T+aTWFMs5viP5pNYUyzm+I/XDzytNji+j+dNUG2RPMCQCiGK0XJLgZAUV/NH7tGBUCt9L0P2PwIQMoh0PdM4gZALUmGV/HwAUC7e8iq65kFQJWKBjqL2QZAPtdtDuSQA0A+120O5JADQD/LXcOsvPM/G9QTrTAS5T+dNUG2RPPiPz7XbQ7kkOM/PtdtDuSQ4z+N38u90b/qPypPDv0M2/E/XDzytNjiCkCoDN6lRqUIQKgM3qVGpQhA8yxc66J8D0BuxFHGr5gMQIjedkcOpwVAJ4Cjn61EBkBRX80fu0YFQLWf+IuRFgVAtZ/4i5EWBUBZCgicdGDxP1JTvdSDcvU/1NlvNQHp9z+u1cBdilHkP67VwF2KUeQ/oGcrz6h17D9QRlgTiYXwP5J9oXiQ7PE/kn2heJDs8T/DRQDZ8l7mP79dIG9hB+Y/v10gb2EH5j+/XSBvYQfmP2LnLDGS/OY/sOIlH4U+6T/qekRTCmDuP6BnK8+odew/mWxe/gBHB0CpJVOyeGYNQIFGKTJrZA5AgUYpMmtkDkDqCPF5wKoQQNfm1Pb71QxA1+bU9vvVDEDDRQDZ8l7mP8A4mxf4ceE/+as09BP+4T9i5ywxkvzmP2LnLDGS/OY/QeTSz9596D9B5NLP3n3oPzJEUyiZH+c/MkRTKJkf5z95fPEDZJ/tP3l88QNkn+0/2trEq8QB7T8Lfp60vd7sP9by5EEzquw/LlxzvgfI5j8uXHO+B8jmP79dIG9hB+Y/idJm/NbS5T/DRQDZ8l7mP/jQuUt9k+Y/+NC5S32T5j8g7t0vJuzuPwt+nrS93uw/nH9LZRce7D9q3HFcHkHsP2rccVweQew/H7zzFsJp5T8fvPMWwmnlP/jQuUt9k+Y/LlxzvgfI5j8uXHO+B8jmPy5cc74HyOY/atxxXB5B7D9q3HFcHkHsPwt+nrS93uw/1vLkQTOq7D8=",
          "dtype": "f8"
         }
        },
        {
         "line": {
          "color": "blue",
          "dash": "dash"
         },
         "mode": "lines",
         "name": "Predição Original",
         "type": "scatter",
         "y": {
          "bdata": "nyhPnflO9z9gHHYQcETwP58oT535Tvc/NcYJ3ivx/z/H027bMTQDQMfTbtsxNANAW6JizpQwAUDSiMQk+Ij3P/2q4seQaPk/ZH6eRe5f8T9BGZ5ZmvD3PzitkrX97Pg/sjPog+dN+z+SSuHot2oCQJww0qNNLgNA8cQEdVL2B0A1HTGC8yUFQJ1s4cie0QVAPEfMwV4IAkA8R8zBXggCQF2Pwwd46AFAbpuVTxN2+j/IvXHXsBP6P0OwSlf+P/c/2pPnoDIS6T+hOYU4eCfuPxp0K9BUbOo/ThQjZ9o8AEBABo/x9pL3P3F+mAxJHfY/vjt97VxcAkC1xmrF5DgDQOa6Z/pAWAZAUonaDz/zBED9aMiraIEDQPruFYWieANA+u4VhaJ4A0CoKE294o/7Pxk9jtecgfw/S7H7xD8A/j92WkFYmFz2P7S5Onx/Bvo/RX1rWH4i8z/oY5hva434P1TJv1Fh2es/2F3p5aM27D+RtiC+vPzzP6NexDxw2fI/XyhyWTnN9D+DFQQ4srDxP7jtWJ1vMew/uO1YnW8x7D+47VidbzHsP7jtWJ1vMew/uO1YnW8x7D+47VidbzHsP7jtWJ1vMew/uO1YnW8x7D8nAD+TNLUCQNaKcWWMugZA0Uv5KVIhCEA+8WTkUCIIQPi+a1e0Yw5Ayp9UILRhDkDaMTNkxTIBQMaASEASVe8/28WzSFf/7z9COf9b/WfwPxW/p/5ScP0/VZWNuaJb6j9o0D7Y66zqP2jQPtjrrOo/aNA+2Ous6j9o0D7Y66zqP2jQPtjrrOo/aNA+2Ous6j9o0D7Y66zqP2jQPtjrrOo/aNA+2Ous6j9o0D7Y66zqP2jQPtjrrOo/aNA+2Ous6j9o0D7Y66zqP2jQPtjrrOo/aNA+2Ous6j9o0D7Y66zqP2jQPtjrrOo/aNA+2Ous6j9o0D7Y66zqP2jQPtjrrOo/aNA+2Ous6j9o0D7Y66zqP2jQPtjrrOo/aNA+2Ous6j9o0D7Y66zqP2jQPtjrrOo/aNA+2Ous6j9o0D7Y66zqP2jQPtjrrOo/aNA+2Ous6j8=",
          "dtype": "f8"
         }
        },
        {
         "line": {
          "color": "red"
         },
         "mode": "lines",
         "name": "Predição com RM",
         "type": "scatter",
         "y": {
          "bdata": "xE4f9xN7+j+rlyeHqQH7PzGipyChpfw/lf3iXM6j/z881UmmoLAAQCvWOb3XBQFA2NFbGPq0AUA7AbGKnBMBQBfqvG2Oifw/lvScCrFp/j+nhVDL33D6P0h4AfpTLf8/fbzJZqSF/z/QEfWTi5kAQCvWOb3XBQFA2NFbGPq0AUDSGhGuclHjP6WhYnyzqgBA2QZ8s5Hi/j8TBsxVv5wAQK082wtO+P0/LGHkcDx1/T+gsCUdj8H3P5SnGIYlCvs/B7j7gYSl7z8JC85ysSz6P/eCbpryXus/ohApLcr0+j/VDJQQngLyP+PXHmvH7vk/0BH1k4uZAEAr1jm91wUBQAXAu4MTB/4/iZeQqaZi8j9NlHFmenDtP74T3BEKlPw/vhPcEQqU/D/mFDy8a5v8P6082wtO+P0/LGHkcDx1/T+Jys0LDQf/Pzf+nKBcrfk/VCB9FxnW/D/69JIaQiv4P9xMVwK7W/M/t7m67Lx/8z+oqzSrJc73P7G0/RvEOvU/0+068v/6+j8Pn8Gi/dT/PwKK1jKO0v0/AorWMo7S/T8CitYyjtL9PwKK1jKO0v0/AorWMo7S/T8CitYyjtL9PwKK1jKO0v0/AorWMo7S/T/fQDfzRfP8P56Tse1kWfo/LuqT4Giw/j+Jl5CppmLyP8Ya/RU6Gf8/ohApLcr0+j8UsyHpvIEBQFQo0CJzDfI/Iahjk+f89T+sy/mGwdD1P8ROH/cTe/o/U+Gjl6yb+T8CitYyjtL9PwKK1jKO0v0/AorWMo7S/T8CitYyjtL9PwKK1jKO0v0/AorWMo7S/T8CitYyjtL9PwKK1jKO0v0/AorWMo7S/T8CitYyjtL9PwKK1jKO0v0/AorWMo7S/T8CitYyjtL9PwKK1jKO0v0/AorWMo7S/T8CitYyjtL9PwKK1jKO0v0/AorWMo7S/T8CitYyjtL9PwKK1jKO0v0/AorWMo7S/T8CitYyjtL9PwKK1jKO0v0/AorWMo7S/T8CitYyjtL9PwKK1jKO0v0/AorWMo7S/T8CitYyjtL9PwKK1jKO0v0/AorWMo7S/T8=",
          "dtype": "f8"
         }
        }
       ],
       "layout": {
        "template": {
         "data": {
          "bar": [
           {
            "error_x": {
             "color": "#2a3f5f"
            },
            "error_y": {
             "color": "#2a3f5f"
            },
            "marker": {
             "line": {
              "color": "white",
              "width": 0.5
             },
             "pattern": {
              "fillmode": "overlay",
              "size": 10,
              "solidity": 0.2
             }
            },
            "type": "bar"
           }
          ],
          "barpolar": [
           {
            "marker": {
             "line": {
              "color": "white",
              "width": 0.5
             },
             "pattern": {
              "fillmode": "overlay",
              "size": 10,
              "solidity": 0.2
             }
            },
            "type": "barpolar"
           }
          ],
          "carpet": [
           {
            "aaxis": {
             "endlinecolor": "#2a3f5f",
             "gridcolor": "#C8D4E3",
             "linecolor": "#C8D4E3",
             "minorgridcolor": "#C8D4E3",
             "startlinecolor": "#2a3f5f"
            },
            "baxis": {
             "endlinecolor": "#2a3f5f",
             "gridcolor": "#C8D4E3",
             "linecolor": "#C8D4E3",
             "minorgridcolor": "#C8D4E3",
             "startlinecolor": "#2a3f5f"
            },
            "type": "carpet"
           }
          ],
          "choropleth": [
           {
            "colorbar": {
             "outlinewidth": 0,
             "ticks": ""
            },
            "type": "choropleth"
           }
          ],
          "contour": [
           {
            "colorbar": {
             "outlinewidth": 0,
             "ticks": ""
            },
            "colorscale": [
             [
              0,
              "#0d0887"
             ],
             [
              0.1111111111111111,
              "#46039f"
             ],
             [
              0.2222222222222222,
              "#7201a8"
             ],
             [
              0.3333333333333333,
              "#9c179e"
             ],
             [
              0.4444444444444444,
              "#bd3786"
             ],
             [
              0.5555555555555556,
              "#d8576b"
             ],
             [
              0.6666666666666666,
              "#ed7953"
             ],
             [
              0.7777777777777778,
              "#fb9f3a"
             ],
             [
              0.8888888888888888,
              "#fdca26"
             ],
             [
              1,
              "#f0f921"
             ]
            ],
            "type": "contour"
           }
          ],
          "contourcarpet": [
           {
            "colorbar": {
             "outlinewidth": 0,
             "ticks": ""
            },
            "type": "contourcarpet"
           }
          ],
          "heatmap": [
           {
            "colorbar": {
             "outlinewidth": 0,
             "ticks": ""
            },
            "colorscale": [
             [
              0,
              "#0d0887"
             ],
             [
              0.1111111111111111,
              "#46039f"
             ],
             [
              0.2222222222222222,
              "#7201a8"
             ],
             [
              0.3333333333333333,
              "#9c179e"
             ],
             [
              0.4444444444444444,
              "#bd3786"
             ],
             [
              0.5555555555555556,
              "#d8576b"
             ],
             [
              0.6666666666666666,
              "#ed7953"
             ],
             [
              0.7777777777777778,
              "#fb9f3a"
             ],
             [
              0.8888888888888888,
              "#fdca26"
             ],
             [
              1,
              "#f0f921"
             ]
            ],
            "type": "heatmap"
           }
          ],
          "histogram": [
           {
            "marker": {
             "pattern": {
              "fillmode": "overlay",
              "size": 10,
              "solidity": 0.2
             }
            },
            "type": "histogram"
           }
          ],
          "histogram2d": [
           {
            "colorbar": {
             "outlinewidth": 0,
             "ticks": ""
            },
            "colorscale": [
             [
              0,
              "#0d0887"
             ],
             [
              0.1111111111111111,
              "#46039f"
             ],
             [
              0.2222222222222222,
              "#7201a8"
             ],
             [
              0.3333333333333333,
              "#9c179e"
             ],
             [
              0.4444444444444444,
              "#bd3786"
             ],
             [
              0.5555555555555556,
              "#d8576b"
             ],
             [
              0.6666666666666666,
              "#ed7953"
             ],
             [
              0.7777777777777778,
              "#fb9f3a"
             ],
             [
              0.8888888888888888,
              "#fdca26"
             ],
             [
              1,
              "#f0f921"
             ]
            ],
            "type": "histogram2d"
           }
          ],
          "histogram2dcontour": [
           {
            "colorbar": {
             "outlinewidth": 0,
             "ticks": ""
            },
            "colorscale": [
             [
              0,
              "#0d0887"
             ],
             [
              0.1111111111111111,
              "#46039f"
             ],
             [
              0.2222222222222222,
              "#7201a8"
             ],
             [
              0.3333333333333333,
              "#9c179e"
             ],
             [
              0.4444444444444444,
              "#bd3786"
             ],
             [
              0.5555555555555556,
              "#d8576b"
             ],
             [
              0.6666666666666666,
              "#ed7953"
             ],
             [
              0.7777777777777778,
              "#fb9f3a"
             ],
             [
              0.8888888888888888,
              "#fdca26"
             ],
             [
              1,
              "#f0f921"
             ]
            ],
            "type": "histogram2dcontour"
           }
          ],
          "mesh3d": [
           {
            "colorbar": {
             "outlinewidth": 0,
             "ticks": ""
            },
            "type": "mesh3d"
           }
          ],
          "parcoords": [
           {
            "line": {
             "colorbar": {
              "outlinewidth": 0,
              "ticks": ""
             }
            },
            "type": "parcoords"
           }
          ],
          "pie": [
           {
            "automargin": true,
            "type": "pie"
           }
          ],
          "scatter": [
           {
            "fillpattern": {
             "fillmode": "overlay",
             "size": 10,
             "solidity": 0.2
            },
            "type": "scatter"
           }
          ],
          "scatter3d": [
           {
            "line": {
             "colorbar": {
              "outlinewidth": 0,
              "ticks": ""
             }
            },
            "marker": {
             "colorbar": {
              "outlinewidth": 0,
              "ticks": ""
             }
            },
            "type": "scatter3d"
           }
          ],
          "scattercarpet": [
           {
            "marker": {
             "colorbar": {
              "outlinewidth": 0,
              "ticks": ""
             }
            },
            "type": "scattercarpet"
           }
          ],
          "scattergeo": [
           {
            "marker": {
             "colorbar": {
              "outlinewidth": 0,
              "ticks": ""
             }
            },
            "type": "scattergeo"
           }
          ],
          "scattergl": [
           {
            "marker": {
             "colorbar": {
              "outlinewidth": 0,
              "ticks": ""
             }
            },
            "type": "scattergl"
           }
          ],
          "scattermap": [
           {
            "marker": {
             "colorbar": {
              "outlinewidth": 0,
              "ticks": ""
             }
            },
            "type": "scattermap"
           }
          ],
          "scattermapbox": [
           {
            "marker": {
             "colorbar": {
              "outlinewidth": 0,
              "ticks": ""
             }
            },
            "type": "scattermapbox"
           }
          ],
          "scatterpolar": [
           {
            "marker": {
             "colorbar": {
              "outlinewidth": 0,
              "ticks": ""
             }
            },
            "type": "scatterpolar"
           }
          ],
          "scatterpolargl": [
           {
            "marker": {
             "colorbar": {
              "outlinewidth": 0,
              "ticks": ""
             }
            },
            "type": "scatterpolargl"
           }
          ],
          "scatterternary": [
           {
            "marker": {
             "colorbar": {
              "outlinewidth": 0,
              "ticks": ""
             }
            },
            "type": "scatterternary"
           }
          ],
          "surface": [
           {
            "colorbar": {
             "outlinewidth": 0,
             "ticks": ""
            },
            "colorscale": [
             [
              0,
              "#0d0887"
             ],
             [
              0.1111111111111111,
              "#46039f"
             ],
             [
              0.2222222222222222,
              "#7201a8"
             ],
             [
              0.3333333333333333,
              "#9c179e"
             ],
             [
              0.4444444444444444,
              "#bd3786"
             ],
             [
              0.5555555555555556,
              "#d8576b"
             ],
             [
              0.6666666666666666,
              "#ed7953"
             ],
             [
              0.7777777777777778,
              "#fb9f3a"
             ],
             [
              0.8888888888888888,
              "#fdca26"
             ],
             [
              1,
              "#f0f921"
             ]
            ],
            "type": "surface"
           }
          ],
          "table": [
           {
            "cells": {
             "fill": {
              "color": "#EBF0F8"
             },
             "line": {
              "color": "white"
             }
            },
            "header": {
             "fill": {
              "color": "#C8D4E3"
             },
             "line": {
              "color": "white"
             }
            },
            "type": "table"
           }
          ]
         },
         "layout": {
          "annotationdefaults": {
           "arrowcolor": "#2a3f5f",
           "arrowhead": 0,
           "arrowwidth": 1
          },
          "autotypenumbers": "strict",
          "coloraxis": {
           "colorbar": {
            "outlinewidth": 0,
            "ticks": ""
           }
          },
          "colorscale": {
           "diverging": [
            [
             0,
             "#8e0152"
            ],
            [
             0.1,
             "#c51b7d"
            ],
            [
             0.2,
             "#de77ae"
            ],
            [
             0.3,
             "#f1b6da"
            ],
            [
             0.4,
             "#fde0ef"
            ],
            [
             0.5,
             "#f7f7f7"
            ],
            [
             0.6,
             "#e6f5d0"
            ],
            [
             0.7,
             "#b8e186"
            ],
            [
             0.8,
             "#7fbc41"
            ],
            [
             0.9,
             "#4d9221"
            ],
            [
             1,
             "#276419"
            ]
           ],
           "sequential": [
            [
             0,
             "#0d0887"
            ],
            [
             0.1111111111111111,
             "#46039f"
            ],
            [
             0.2222222222222222,
             "#7201a8"
            ],
            [
             0.3333333333333333,
             "#9c179e"
            ],
            [
             0.4444444444444444,
             "#bd3786"
            ],
            [
             0.5555555555555556,
             "#d8576b"
            ],
            [
             0.6666666666666666,
             "#ed7953"
            ],
            [
             0.7777777777777778,
             "#fb9f3a"
            ],
            [
             0.8888888888888888,
             "#fdca26"
            ],
            [
             1,
             "#f0f921"
            ]
           ],
           "sequentialminus": [
            [
             0,
             "#0d0887"
            ],
            [
             0.1111111111111111,
             "#46039f"
            ],
            [
             0.2222222222222222,
             "#7201a8"
            ],
            [
             0.3333333333333333,
             "#9c179e"
            ],
            [
             0.4444444444444444,
             "#bd3786"
            ],
            [
             0.5555555555555556,
             "#d8576b"
            ],
            [
             0.6666666666666666,
             "#ed7953"
            ],
            [
             0.7777777777777778,
             "#fb9f3a"
            ],
            [
             0.8888888888888888,
             "#fdca26"
            ],
            [
             1,
             "#f0f921"
            ]
           ]
          },
          "colorway": [
           "#636efa",
           "#EF553B",
           "#00cc96",
           "#ab63fa",
           "#FFA15A",
           "#19d3f3",
           "#FF6692",
           "#B6E880",
           "#FF97FF",
           "#FECB52"
          ],
          "font": {
           "color": "#2a3f5f"
          },
          "geo": {
           "bgcolor": "white",
           "lakecolor": "white",
           "landcolor": "white",
           "showlakes": true,
           "showland": true,
           "subunitcolor": "#C8D4E3"
          },
          "hoverlabel": {
           "align": "left"
          },
          "hovermode": "closest",
          "mapbox": {
           "style": "light"
          },
          "paper_bgcolor": "white",
          "plot_bgcolor": "white",
          "polar": {
           "angularaxis": {
            "gridcolor": "#EBF0F8",
            "linecolor": "#EBF0F8",
            "ticks": ""
           },
           "bgcolor": "white",
           "radialaxis": {
            "gridcolor": "#EBF0F8",
            "linecolor": "#EBF0F8",
            "ticks": ""
           }
          },
          "scene": {
           "xaxis": {
            "backgroundcolor": "white",
            "gridcolor": "#DFE8F3",
            "gridwidth": 2,
            "linecolor": "#EBF0F8",
            "showbackground": true,
            "ticks": "",
            "zerolinecolor": "#EBF0F8"
           },
           "yaxis": {
            "backgroundcolor": "white",
            "gridcolor": "#DFE8F3",
            "gridwidth": 2,
            "linecolor": "#EBF0F8",
            "showbackground": true,
            "ticks": "",
            "zerolinecolor": "#EBF0F8"
           },
           "zaxis": {
            "backgroundcolor": "white",
            "gridcolor": "#DFE8F3",
            "gridwidth": 2,
            "linecolor": "#EBF0F8",
            "showbackground": true,
            "ticks": "",
            "zerolinecolor": "#EBF0F8"
           }
          },
          "shapedefaults": {
           "line": {
            "color": "#2a3f5f"
           }
          },
          "ternary": {
           "aaxis": {
            "gridcolor": "#DFE8F3",
            "linecolor": "#A2B1C6",
            "ticks": ""
           },
           "baxis": {
            "gridcolor": "#DFE8F3",
            "linecolor": "#A2B1C6",
            "ticks": ""
           },
           "bgcolor": "white",
           "caxis": {
            "gridcolor": "#DFE8F3",
            "linecolor": "#A2B1C6",
            "ticks": ""
           }
          },
          "title": {
           "x": 0.05
          },
          "xaxis": {
           "automargin": true,
           "gridcolor": "#EBF0F8",
           "linecolor": "#EBF0F8",
           "ticks": "",
           "title": {
            "standoff": 15
           },
           "zerolinecolor": "#EBF0F8",
           "zerolinewidth": 2
          },
          "yaxis": {
           "automargin": true,
           "gridcolor": "#EBF0F8",
           "linecolor": "#EBF0F8",
           "ticks": "",
           "title": {
            "standoff": 15
           },
           "zerolinecolor": "#EBF0F8",
           "zerolinewidth": 2
          }
         }
        },
        "title": {
         "text": "Comparação CO₂ - Caso de teste: RM12 - Latitude e Longitude multiplicadas por 2 - GASOLINE",
         "x": 0.5
        },
        "xaxis": {
         "title": {
          "text": "Amostras"
         }
        },
        "yaxis": {
         "title": {
          "text": "CO₂ (g/s)"
         }
        }
       }
      }
     },
     "metadata": {},
     "output_type": "display_data"
    },
    {
     "name": "stdout",
     "output_type": "stream",
     "text": [
      "\n",
      "🔁 Caso de teste: RM13 - Latitude e Longitude deslocadas para simular +200 km (ETHANOL)\n",
      "Diferença Média: 0.3695 | Diferença Máxima: 2.4156 | Erro Quadrático Médio (RMSE): 0.4900 | Desvio Padrão (Std): 0.3218\n"
     ]
    },
    {
     "data": {
      "text/html": [
       "<style type=\"text/css\">\n",
       "</style>\n",
       "<table id=\"T_fda21\">\n",
       "  <caption>Comparação dos dados originais e modificados - Caso de teste: RM13 - Latitude e Longitude deslocadas para simular +200 km (ETHANOL)</caption>\n",
       "  <thead>\n",
       "    <tr>\n",
       "      <th class=\"blank level0\" >&nbsp;</th>\n",
       "      <th id=\"T_fda21_level0_col0\" class=\"col_heading level0 col0\" >Latitude_Orig</th>\n",
       "      <th id=\"T_fda21_level0_col1\" class=\"col_heading level0 col1\" >Longitude_Orig</th>\n",
       "      <th id=\"T_fda21_level0_col2\" class=\"col_heading level0 col2\" >Speed(OBD)(km/h)_Orig</th>\n",
       "      <th id=\"T_fda21_level0_col3\" class=\"col_heading level0 col3\" >Acceleration_Orig</th>\n",
       "      <th id=\"T_fda21_level0_col4\" class=\"col_heading level0 col4\" > </th>\n",
       "      <th id=\"T_fda21_level0_col5\" class=\"col_heading level0 col5\" >Latitude_Mod</th>\n",
       "      <th id=\"T_fda21_level0_col6\" class=\"col_heading level0 col6\" >Longitude_Mod</th>\n",
       "      <th id=\"T_fda21_level0_col7\" class=\"col_heading level0 col7\" >Speed(OBD)(km/h)_Mod</th>\n",
       "      <th id=\"T_fda21_level0_col8\" class=\"col_heading level0 col8\" >Acceleration_Mod</th>\n",
       "      <th id=\"T_fda21_level0_col9\" class=\"col_heading level0 col9\" > </th>\n",
       "      <th id=\"T_fda21_level0_col10\" class=\"col_heading level0 col10\" >CO₂_Real</th>\n",
       "      <th id=\"T_fda21_level0_col11\" class=\"col_heading level0 col11\" >CO₂_Orig</th>\n",
       "      <th id=\"T_fda21_level0_col12\" class=\"col_heading level0 col12\" >CO₂_Mod</th>\n",
       "    </tr>\n",
       "  </thead>\n",
       "  <tbody>\n",
       "    <tr>\n",
       "      <th id=\"T_fda21_level0_row0\" class=\"row_heading level0 row0\" >0</th>\n",
       "      <td id=\"T_fda21_row0_col0\" class=\"data row0 col0\" >-5.820105</td>\n",
       "      <td id=\"T_fda21_row0_col1\" class=\"data row0 col1\" >-35.220818</td>\n",
       "      <td id=\"T_fda21_row0_col2\" class=\"data row0 col2\" >3</td>\n",
       "      <td id=\"T_fda21_row0_col3\" class=\"data row0 col3\" >0.000000</td>\n",
       "      <td id=\"T_fda21_row0_col4\" class=\"data row0 col4\" >→</td>\n",
       "      <td id=\"T_fda21_row0_col5\" class=\"data row0 col5\" >-6.085970</td>\n",
       "      <td id=\"T_fda21_row0_col6\" class=\"data row0 col6\" >-35.529517</td>\n",
       "      <td id=\"T_fda21_row0_col7\" class=\"data row0 col7\" >3</td>\n",
       "      <td id=\"T_fda21_row0_col8\" class=\"data row0 col8\" >0.000000</td>\n",
       "      <td id=\"T_fda21_row0_col9\" class=\"data row0 col9\" > </td>\n",
       "      <td id=\"T_fda21_row0_col10\" class=\"data row0 col10\" >0.642839</td>\n",
       "      <td id=\"T_fda21_row0_col11\" class=\"data row0 col11\" >0.742631</td>\n",
       "      <td id=\"T_fda21_row0_col12\" class=\"data row0 col12\" >0.989485</td>\n",
       "    </tr>\n",
       "    <tr>\n",
       "      <th id=\"T_fda21_level0_row1\" class=\"row_heading level0 row1\" >1</th>\n",
       "      <td id=\"T_fda21_row1_col0\" class=\"data row1 col0\" >-5.820103</td>\n",
       "      <td id=\"T_fda21_row1_col1\" class=\"data row1 col1\" >-35.220828</td>\n",
       "      <td id=\"T_fda21_row1_col2\" class=\"data row1 col2\" >5</td>\n",
       "      <td id=\"T_fda21_row1_col3\" class=\"data row1 col3\" >0.555556</td>\n",
       "      <td id=\"T_fda21_row1_col4\" class=\"data row1 col4\" >→</td>\n",
       "      <td id=\"T_fda21_row1_col5\" class=\"data row1 col5\" >-6.085921</td>\n",
       "      <td id=\"T_fda21_row1_col6\" class=\"data row1 col6\" >-35.529767</td>\n",
       "      <td id=\"T_fda21_row1_col7\" class=\"data row1 col7\" >5</td>\n",
       "      <td id=\"T_fda21_row1_col8\" class=\"data row1 col8\" >0.555556</td>\n",
       "      <td id=\"T_fda21_row1_col9\" class=\"data row1 col9\" > </td>\n",
       "      <td id=\"T_fda21_row1_col10\" class=\"data row1 col10\" >0.653249</td>\n",
       "      <td id=\"T_fda21_row1_col11\" class=\"data row1 col11\" >0.771505</td>\n",
       "      <td id=\"T_fda21_row1_col12\" class=\"data row1 col12\" >0.905773</td>\n",
       "    </tr>\n",
       "    <tr>\n",
       "      <th id=\"T_fda21_level0_row2\" class=\"row_heading level0 row2\" >2</th>\n",
       "      <td id=\"T_fda21_row2_col0\" class=\"data row2 col0\" >-5.820102</td>\n",
       "      <td id=\"T_fda21_row2_col1\" class=\"data row2 col1\" >-35.220838</td>\n",
       "      <td id=\"T_fda21_row2_col2\" class=\"data row2 col2\" >5</td>\n",
       "      <td id=\"T_fda21_row2_col3\" class=\"data row2 col3\" >0.000000</td>\n",
       "      <td id=\"T_fda21_row2_col4\" class=\"data row2 col4\" >→</td>\n",
       "      <td id=\"T_fda21_row2_col5\" class=\"data row2 col5\" >-6.085899</td>\n",
       "      <td id=\"T_fda21_row2_col6\" class=\"data row2 col6\" >-35.530011</td>\n",
       "      <td id=\"T_fda21_row2_col7\" class=\"data row2 col7\" >5</td>\n",
       "      <td id=\"T_fda21_row2_col8\" class=\"data row2 col8\" >0.000000</td>\n",
       "      <td id=\"T_fda21_row2_col9\" class=\"data row2 col9\" > </td>\n",
       "      <td id=\"T_fda21_row2_col10\" class=\"data row2 col10\" >0.653249</td>\n",
       "      <td id=\"T_fda21_row2_col11\" class=\"data row2 col11\" >0.771505</td>\n",
       "      <td id=\"T_fda21_row2_col12\" class=\"data row2 col12\" >0.888538</td>\n",
       "    </tr>\n",
       "    <tr>\n",
       "      <th id=\"T_fda21_level0_row3\" class=\"row_heading level0 row3\" >3</th>\n",
       "      <td id=\"T_fda21_row3_col0\" class=\"data row3 col0\" >-5.820096</td>\n",
       "      <td id=\"T_fda21_row3_col1\" class=\"data row3 col1\" >-35.220843</td>\n",
       "      <td id=\"T_fda21_row3_col2\" class=\"data row3 col2\" >3</td>\n",
       "      <td id=\"T_fda21_row3_col3\" class=\"data row3 col3\" >-0.555556</td>\n",
       "      <td id=\"T_fda21_row3_col4\" class=\"data row3 col4\" >→</td>\n",
       "      <td id=\"T_fda21_row3_col5\" class=\"data row3 col5\" >-6.085743</td>\n",
       "      <td id=\"T_fda21_row3_col6\" class=\"data row3 col6\" >-35.530146</td>\n",
       "      <td id=\"T_fda21_row3_col7\" class=\"data row3 col7\" >3</td>\n",
       "      <td id=\"T_fda21_row3_col8\" class=\"data row3 col8\" >-0.555556</td>\n",
       "      <td id=\"T_fda21_row3_col9\" class=\"data row3 col9\" > </td>\n",
       "      <td id=\"T_fda21_row3_col10\" class=\"data row3 col10\" >0.679275</td>\n",
       "      <td id=\"T_fda21_row3_col11\" class=\"data row3 col11\" >0.659013</td>\n",
       "      <td id=\"T_fda21_row3_col12\" class=\"data row3 col12\" >0.890532</td>\n",
       "    </tr>\n",
       "    <tr>\n",
       "      <th id=\"T_fda21_level0_row4\" class=\"row_heading level0 row4\" >4</th>\n",
       "      <td id=\"T_fda21_row4_col0\" class=\"data row4 col0\" >-5.820091</td>\n",
       "      <td id=\"T_fda21_row4_col1\" class=\"data row4 col1\" >-35.220850</td>\n",
       "      <td id=\"T_fda21_row4_col2\" class=\"data row4 col2\" >0</td>\n",
       "      <td id=\"T_fda21_row4_col3\" class=\"data row4 col3\" >-0.833333</td>\n",
       "      <td id=\"T_fda21_row4_col4\" class=\"data row4 col4\" >→</td>\n",
       "      <td id=\"T_fda21_row4_col5\" class=\"data row4 col5\" >-6.085620</td>\n",
       "      <td id=\"T_fda21_row4_col6\" class=\"data row4 col6\" >-35.530325</td>\n",
       "      <td id=\"T_fda21_row4_col7\" class=\"data row4 col7\" >0</td>\n",
       "      <td id=\"T_fda21_row4_col8\" class=\"data row4 col8\" >-0.833333</td>\n",
       "      <td id=\"T_fda21_row4_col9\" class=\"data row4 col9\" > </td>\n",
       "      <td id=\"T_fda21_row4_col10\" class=\"data row4 col10\" >0.610306</td>\n",
       "      <td id=\"T_fda21_row4_col11\" class=\"data row4 col11\" >0.667689</td>\n",
       "      <td id=\"T_fda21_row4_col12\" class=\"data row4 col12\" >0.994262</td>\n",
       "    </tr>\n",
       "    <tr>\n",
       "      <th id=\"T_fda21_level0_row5\" class=\"row_heading level0 row5\" >5</th>\n",
       "      <td id=\"T_fda21_row5_col0\" class=\"data row5 col0\" >-5.820091</td>\n",
       "      <td id=\"T_fda21_row5_col1\" class=\"data row5 col1\" >-35.220850</td>\n",
       "      <td id=\"T_fda21_row5_col2\" class=\"data row5 col2\" >0</td>\n",
       "      <td id=\"T_fda21_row5_col3\" class=\"data row5 col3\" >0.000000</td>\n",
       "      <td id=\"T_fda21_row5_col4\" class=\"data row5 col4\" >→</td>\n",
       "      <td id=\"T_fda21_row5_col5\" class=\"data row5 col5\" >-6.085620</td>\n",
       "      <td id=\"T_fda21_row5_col6\" class=\"data row5 col6\" >-35.530325</td>\n",
       "      <td id=\"T_fda21_row5_col7\" class=\"data row5 col7\" >0</td>\n",
       "      <td id=\"T_fda21_row5_col8\" class=\"data row5 col8\" >0.000000</td>\n",
       "      <td id=\"T_fda21_row5_col9\" class=\"data row5 col9\" > </td>\n",
       "      <td id=\"T_fda21_row5_col10\" class=\"data row5 col10\" >0.610306</td>\n",
       "      <td id=\"T_fda21_row5_col11\" class=\"data row5 col11\" >0.706858</td>\n",
       "      <td id=\"T_fda21_row5_col12\" class=\"data row5 col12\" >0.938908</td>\n",
       "    </tr>\n",
       "    <tr>\n",
       "      <th id=\"T_fda21_level0_row6\" class=\"row_heading level0 row6\" >6</th>\n",
       "      <td id=\"T_fda21_row6_col0\" class=\"data row6 col0\" >-5.820091</td>\n",
       "      <td id=\"T_fda21_row6_col1\" class=\"data row6 col1\" >-35.220850</td>\n",
       "      <td id=\"T_fda21_row6_col2\" class=\"data row6 col2\" >0</td>\n",
       "      <td id=\"T_fda21_row6_col3\" class=\"data row6 col3\" >0.000000</td>\n",
       "      <td id=\"T_fda21_row6_col4\" class=\"data row6 col4\" >→</td>\n",
       "      <td id=\"T_fda21_row6_col5\" class=\"data row6 col5\" >-6.085620</td>\n",
       "      <td id=\"T_fda21_row6_col6\" class=\"data row6 col6\" >-35.530325</td>\n",
       "      <td id=\"T_fda21_row6_col7\" class=\"data row6 col7\" >0</td>\n",
       "      <td id=\"T_fda21_row6_col8\" class=\"data row6 col8\" >0.000000</td>\n",
       "      <td id=\"T_fda21_row6_col9\" class=\"data row6 col9\" > </td>\n",
       "      <td id=\"T_fda21_row6_col10\" class=\"data row6 col10\" >0.490587</td>\n",
       "      <td id=\"T_fda21_row6_col11\" class=\"data row6 col11\" >0.706858</td>\n",
       "      <td id=\"T_fda21_row6_col12\" class=\"data row6 col12\" >0.938908</td>\n",
       "    </tr>\n",
       "    <tr>\n",
       "      <th id=\"T_fda21_level0_row7\" class=\"row_heading level0 row7\" >7</th>\n",
       "      <td id=\"T_fda21_row7_col0\" class=\"data row7 col0\" >-5.820085</td>\n",
       "      <td id=\"T_fda21_row7_col1\" class=\"data row7 col1\" >-35.220856</td>\n",
       "      <td id=\"T_fda21_row7_col2\" class=\"data row7 col2\" >3</td>\n",
       "      <td id=\"T_fda21_row7_col3\" class=\"data row7 col3\" >0.833333</td>\n",
       "      <td id=\"T_fda21_row7_col4\" class=\"data row7 col4\" >→</td>\n",
       "      <td id=\"T_fda21_row7_col5\" class=\"data row7 col5\" >-6.085479</td>\n",
       "      <td id=\"T_fda21_row7_col6\" class=\"data row7 col6\" >-35.530462</td>\n",
       "      <td id=\"T_fda21_row7_col7\" class=\"data row7 col7\" >3</td>\n",
       "      <td id=\"T_fda21_row7_col8\" class=\"data row7 col8\" >0.833333</td>\n",
       "      <td id=\"T_fda21_row7_col9\" class=\"data row7 col9\" > </td>\n",
       "      <td id=\"T_fda21_row7_col10\" class=\"data row7 col10\" >1.090483</td>\n",
       "      <td id=\"T_fda21_row7_col11\" class=\"data row7 col11\" >1.137803</td>\n",
       "      <td id=\"T_fda21_row7_col12\" class=\"data row7 col12\" >1.008678</td>\n",
       "    </tr>\n",
       "    <tr>\n",
       "      <th id=\"T_fda21_level0_row8\" class=\"row_heading level0 row8\" >8</th>\n",
       "      <td id=\"T_fda21_row8_col0\" class=\"data row8 col0\" >-5.820074</td>\n",
       "      <td id=\"T_fda21_row8_col1\" class=\"data row8 col1\" >-35.220859</td>\n",
       "      <td id=\"T_fda21_row8_col2\" class=\"data row8 col2\" >3</td>\n",
       "      <td id=\"T_fda21_row8_col3\" class=\"data row8 col3\" >0.000000</td>\n",
       "      <td id=\"T_fda21_row8_col4\" class=\"data row8 col4\" >→</td>\n",
       "      <td id=\"T_fda21_row8_col5\" class=\"data row8 col5\" >-6.085202</td>\n",
       "      <td id=\"T_fda21_row8_col6\" class=\"data row8 col6\" >-35.530556</td>\n",
       "      <td id=\"T_fda21_row8_col7\" class=\"data row8 col7\" >3</td>\n",
       "      <td id=\"T_fda21_row8_col8\" class=\"data row8 col8\" >0.000000</td>\n",
       "      <td id=\"T_fda21_row8_col9\" class=\"data row8 col9\" > </td>\n",
       "      <td id=\"T_fda21_row8_col10\" class=\"data row8 col10\" >1.090483</td>\n",
       "      <td id=\"T_fda21_row8_col11\" class=\"data row8 col11\" >1.137803</td>\n",
       "      <td id=\"T_fda21_row8_col12\" class=\"data row8 col12\" >0.989485</td>\n",
       "    </tr>\n",
       "    <tr>\n",
       "      <th id=\"T_fda21_level0_row9\" class=\"row_heading level0 row9\" >9</th>\n",
       "      <td id=\"T_fda21_row9_col0\" class=\"data row9 col0\" >-5.820064</td>\n",
       "      <td id=\"T_fda21_row9_col1\" class=\"data row9 col1\" >-35.220858</td>\n",
       "      <td id=\"T_fda21_row9_col2\" class=\"data row9 col2\" >3</td>\n",
       "      <td id=\"T_fda21_row9_col3\" class=\"data row9 col3\" >0.000000</td>\n",
       "      <td id=\"T_fda21_row9_col4\" class=\"data row9 col4\" >→</td>\n",
       "      <td id=\"T_fda21_row9_col5\" class=\"data row9 col5\" >-6.084938</td>\n",
       "      <td id=\"T_fda21_row9_col6\" class=\"data row9 col6\" >-35.530517</td>\n",
       "      <td id=\"T_fda21_row9_col7\" class=\"data row9 col7\" >3</td>\n",
       "      <td id=\"T_fda21_row9_col8\" class=\"data row9 col8\" >0.000000</td>\n",
       "      <td id=\"T_fda21_row9_col9\" class=\"data row9 col9\" > </td>\n",
       "      <td id=\"T_fda21_row9_col10\" class=\"data row9 col10\" >0.921315</td>\n",
       "      <td id=\"T_fda21_row9_col11\" class=\"data row9 col11\" >1.137803</td>\n",
       "      <td id=\"T_fda21_row9_col12\" class=\"data row9 col12\" >0.989485</td>\n",
       "    </tr>\n",
       "  </tbody>\n",
       "</table>\n"
      ],
      "text/plain": [
       "<pandas.io.formats.style.Styler at 0x1bd896f0c90>"
      ]
     },
     "metadata": {},
     "output_type": "display_data"
    },
    {
     "data": {
      "application/vnd.plotly.v1+json": {
       "config": {
        "plotlyServerURL": "https://plot.ly"
       },
       "data": [
        {
         "line": {
          "color": "green",
          "dash": "dot"
         },
         "mode": "lines",
         "name": "Real",
         "type": "scatter",
         "y": {
          "bdata": "Xv2WDSKS5D+bk2QeaufkP5uTZB5q5+Q/NotmSJ685T/ehxTZoIfjP96HFNmgh+M/M5CwL8hl3z/dnA9wnnLxP92cD3CecvE/T3ASz2l77T+UX3iidnLyPz8yMAV+Z/Q/PzIwBX5n9D8ti7UITBb8PzhhcBqj5vk/KSOOULfS8D8pI45Qt9LwP7us/CApG+8/cjYv8OP84z+t9vIuJyjgP6328i4nKOA/geLz0z/39T+rgxXuOvLzP6uDFe468vM/mb1aTGW9AEB0UCWuXTcFQJNSfcM51QFAk1J9wznVAUDU4Eocwdz0P40G4N+x0N0/MaWrxsVQ3T+Gb8fSpWfjP4Zvx9KlZ+M/RJASr2yy4j+u4feXKT3iPxtsE+QD5v0/G2wT5APm/T9xVW+Vh+D+P/WBu/ZpMek/9YG79mkx6T8EcmzGOjzYP6VZboDtdf4/WOugB2mlAEBY66AHaaUAQFcs1yJHEfo/jF/HYiTM+D+vRCQpQjH6P69EJClCMfo/IlLOZdxR9j8U6vVt9WfxP9L1RbO+x/I/0vVFs77H8j9JPCZTdgbrPy3PofTAJtk/Lc+h9MAm2T83dmuxoNHXP5m9WkxlveA/wxqQeuun4T/DGpB666fhPy5sdWOoMgFAN3ZrsaDRB0CTtalUUskJQJO1qVRSyQlAUQXmhZA5CECzrwGybRkJQLOvAbJtGQlAadNRH3liAkDxyvHJCOv/P/HK8ckI6/8/ZYpqDIgCAkDcITJ38e4HQFhbyHe+Nvk/WFvId742+T+BiQxRzfvaP+KMDwAd1/Y/4owPAB3X9j9nuVth/yfxP4GJDFHN+9o/VyzXIkcR2j9XLNciRxHKPzhhcBqj5sk/mb1aTGW90D+rqr6oeQbiPxTJ619+uOE/cloUOF8j9z+cBUVJAVwCQO7F9qKMm/w/7sX2ooyb/D8XwP8/+pH1Py66pl3DO9s/YtOg3ya82D8GXXEvPVHKPwZdcS89Uco/3P87AbdmyT8zkLAvyGXPPxdp8ttk2OI/F2ny22TY4j/s9fsW3vTiP/4o4Wa23vY/g+DZ9mxa+z8=",
          "dtype": "f8"
         }
        },
        {
         "line": {
          "color": "blue",
          "dash": "dash"
         },
         "mode": "lines",
         "name": "Predição Original",
         "type": "scatter",
         "y": {
          "bdata": "A1nGMaLD5z/rGxZ+K7DoP+sbFn4rsOg/ZNKEuKEW5T8gJJx1tV3lP1qolBeUnuY/WqiUF5Se5j8vN5pfcTTyPy83ml9xNPI/LzeaX3E08j8LUj4DVmv0P2cHXp66ovQ/lajUrwhy8z8ERxYOSyj4P0gf5HQeCfI/if7LZHnq7z8XHaiiCV3vP6Btm6JJmew/vGW1En/65z9MP1pTWq7wP/J2f86FGvA/Rx/yOxHc8D9HH/I7EdzwP0cf8jsR3PA/Wi2PK9ct9T99iPbmwzv1P+s7h6uSvvI/jlifB2hB+z/KAreWPx7tP2CGcv2h3+w/DE1YhnUh4z+r91rqETzvPzST+4nO/eQ/tcGbWjP25j8r0X6ZskrsPzXVexnn+PI/jsX9rHxr8z+YODlE2Q7zPxrw1xsMw+0/6+G9lxVx7T+VLCu5vQ3pP5kI65KAuvA/xV7vM9nJ8j+3rXXsTRn+P7nipTU15fQ/Ahig1qK48j97HMyYL2j0P61VsDSbgfU/gKXeX7rt9D8lL/FG5m/yP1D9sJ1ASPI/ONgUq37H8z/SblJX33btP6Pvp4KhC+M/A1unplDL5j/tVn03pGviP09EUKldGOg/RjLkVnwe6D+bSQJT7m7oP/kNtZK+Z+k/BO79CuHa9z9uhs6rFD4AQDSsx4gppPs/JoJSHH6Y9j8b5eo1rb34P7wp1TtfOgFA605wkeGE9z+CQHPA6Nf7P96W8dRj7vo/77f/lcKE+T8/0HaFb3j5P0ixId0VM/o/2QaTrAQF9T89ims167HjP+Roiw7ssfA/N+aifBlj8D+LMRVBlGrvP6CylwUtpOE/UCAMIn9U4D86TWpu5ebtP5PEfPDbnN0/8ql5Nfn/4D83OrmjNxvhP9ETGcqqqOg/TEBpKYVw9j/5y4EaW9T4P6g7DuceO/U/scgFb/N/8D+73vRQdeXuP5DaSmyYQ+A/1hTHV/j+2j9wnnVfpazbPzJoid+r2eU/KlRdoNof2z8xuA2DPjffP3qotC6cE+Y/eqi0LpwT5j96qLQunBPmPwHia4Ko5fc/29W9hKHm9z8=",
          "dtype": "f8"
         }
        },
        {
         "line": {
          "color": "red"
         },
         "mode": "lines",
         "name": "Predição com RM",
         "type": "scatter",
         "y": {
          "bdata": "mEAvnNup7z/3OcZtF/zsPzF/Q7Dmbuw/PKPR0z1/7D8EtCW6/tDvP8xzsPeHC+4/zHOw94cL7j/iUgphiyPwP5hAL5zbqe8/mEAvnNup7z9AyPBTlxnvP6nm3tUYgu4/LTWN5xIT8D9RogFdrcryPylVq7KazfI/9OR+mHvz+T/05H6Ye/P5P/Tkfph78/k/e7Z0K5XU7T87mRSgWcD6Px8enbA8OvM/NaDWfPqK9j81oNZ8+or2PzWg1nz6ivY/f8FgdS0/+T846O/dlw7zP/3n8ljgcO8/t1wonxZ29j8WV3RBxMj4Pyb7vMoVdfU/Au8GPdnb6D8lWcCIqXn0Py8Lgjjqj+E/Lg2Jc2T07z9vcVQFluHqP+hYqOUudvo/LmUwzmoV8z/+U3+hb7rzP/2IlHfv5ABAieY2PIz8/j9vcVQFluHqP+hYqOUudvo/KVWrsprN8j/05H6Ye/P5P9ufYUcuI/I/BTWhgaew7z8lWcCIqXn0P4aTcAx5Cfc/bbrdn8nq8z9ONeMa10n4PyxMF3M3zvQ/LEwXczfO9D8sTBdzN870PzNlIdAhaOU/Jvu8yhV19T/nakh8DUTuP29xVAWW4eo/ps1a3DPD6D8xf0Ow5m7sP/m2mJlPaPc/T6u20gmI8z/4GxOVwFv5P4E2QWPZs/g/BTWhgaew7z8rdJBd0v3nPyxMF3M3zvQ/7Rp6vvTa6z85aAobzgP4P56Y6KiD2fw/eflPBogY+D8aQgZ9UDIAQLA7Prc+Bvs/B+5I/Ut29j99LwMTJy/yPxUulP8SePs/FS6U/xJ4+z/kD6e6e9b8P30vAxMnL/I/22RBsjO35T9F6vbsyf73P5VGWXEIy+M/M2Uh0CFo5T8C7wY92dvoPyVZwIipefQ/JVnAiKl59D+Gk3AMeQn3Py0hWIn0w+w/K0aEB5NN+D+jmPgPT3vsP+jMIkCK6e8/tzrYMKk84j8S3G5MERHkPxf5wr2kQPQ/n5Kjx0ro5D88YhETn/zrP/gbE5XAW/k/+BsTlcBb+T/4GxOVwFv5P0FKT15yp/s/9OR+mHvz+T8=",
          "dtype": "f8"
         }
        }
       ],
       "layout": {
        "template": {
         "data": {
          "bar": [
           {
            "error_x": {
             "color": "#2a3f5f"
            },
            "error_y": {
             "color": "#2a3f5f"
            },
            "marker": {
             "line": {
              "color": "white",
              "width": 0.5
             },
             "pattern": {
              "fillmode": "overlay",
              "size": 10,
              "solidity": 0.2
             }
            },
            "type": "bar"
           }
          ],
          "barpolar": [
           {
            "marker": {
             "line": {
              "color": "white",
              "width": 0.5
             },
             "pattern": {
              "fillmode": "overlay",
              "size": 10,
              "solidity": 0.2
             }
            },
            "type": "barpolar"
           }
          ],
          "carpet": [
           {
            "aaxis": {
             "endlinecolor": "#2a3f5f",
             "gridcolor": "#C8D4E3",
             "linecolor": "#C8D4E3",
             "minorgridcolor": "#C8D4E3",
             "startlinecolor": "#2a3f5f"
            },
            "baxis": {
             "endlinecolor": "#2a3f5f",
             "gridcolor": "#C8D4E3",
             "linecolor": "#C8D4E3",
             "minorgridcolor": "#C8D4E3",
             "startlinecolor": "#2a3f5f"
            },
            "type": "carpet"
           }
          ],
          "choropleth": [
           {
            "colorbar": {
             "outlinewidth": 0,
             "ticks": ""
            },
            "type": "choropleth"
           }
          ],
          "contour": [
           {
            "colorbar": {
             "outlinewidth": 0,
             "ticks": ""
            },
            "colorscale": [
             [
              0,
              "#0d0887"
             ],
             [
              0.1111111111111111,
              "#46039f"
             ],
             [
              0.2222222222222222,
              "#7201a8"
             ],
             [
              0.3333333333333333,
              "#9c179e"
             ],
             [
              0.4444444444444444,
              "#bd3786"
             ],
             [
              0.5555555555555556,
              "#d8576b"
             ],
             [
              0.6666666666666666,
              "#ed7953"
             ],
             [
              0.7777777777777778,
              "#fb9f3a"
             ],
             [
              0.8888888888888888,
              "#fdca26"
             ],
             [
              1,
              "#f0f921"
             ]
            ],
            "type": "contour"
           }
          ],
          "contourcarpet": [
           {
            "colorbar": {
             "outlinewidth": 0,
             "ticks": ""
            },
            "type": "contourcarpet"
           }
          ],
          "heatmap": [
           {
            "colorbar": {
             "outlinewidth": 0,
             "ticks": ""
            },
            "colorscale": [
             [
              0,
              "#0d0887"
             ],
             [
              0.1111111111111111,
              "#46039f"
             ],
             [
              0.2222222222222222,
              "#7201a8"
             ],
             [
              0.3333333333333333,
              "#9c179e"
             ],
             [
              0.4444444444444444,
              "#bd3786"
             ],
             [
              0.5555555555555556,
              "#d8576b"
             ],
             [
              0.6666666666666666,
              "#ed7953"
             ],
             [
              0.7777777777777778,
              "#fb9f3a"
             ],
             [
              0.8888888888888888,
              "#fdca26"
             ],
             [
              1,
              "#f0f921"
             ]
            ],
            "type": "heatmap"
           }
          ],
          "histogram": [
           {
            "marker": {
             "pattern": {
              "fillmode": "overlay",
              "size": 10,
              "solidity": 0.2
             }
            },
            "type": "histogram"
           }
          ],
          "histogram2d": [
           {
            "colorbar": {
             "outlinewidth": 0,
             "ticks": ""
            },
            "colorscale": [
             [
              0,
              "#0d0887"
             ],
             [
              0.1111111111111111,
              "#46039f"
             ],
             [
              0.2222222222222222,
              "#7201a8"
             ],
             [
              0.3333333333333333,
              "#9c179e"
             ],
             [
              0.4444444444444444,
              "#bd3786"
             ],
             [
              0.5555555555555556,
              "#d8576b"
             ],
             [
              0.6666666666666666,
              "#ed7953"
             ],
             [
              0.7777777777777778,
              "#fb9f3a"
             ],
             [
              0.8888888888888888,
              "#fdca26"
             ],
             [
              1,
              "#f0f921"
             ]
            ],
            "type": "histogram2d"
           }
          ],
          "histogram2dcontour": [
           {
            "colorbar": {
             "outlinewidth": 0,
             "ticks": ""
            },
            "colorscale": [
             [
              0,
              "#0d0887"
             ],
             [
              0.1111111111111111,
              "#46039f"
             ],
             [
              0.2222222222222222,
              "#7201a8"
             ],
             [
              0.3333333333333333,
              "#9c179e"
             ],
             [
              0.4444444444444444,
              "#bd3786"
             ],
             [
              0.5555555555555556,
              "#d8576b"
             ],
             [
              0.6666666666666666,
              "#ed7953"
             ],
             [
              0.7777777777777778,
              "#fb9f3a"
             ],
             [
              0.8888888888888888,
              "#fdca26"
             ],
             [
              1,
              "#f0f921"
             ]
            ],
            "type": "histogram2dcontour"
           }
          ],
          "mesh3d": [
           {
            "colorbar": {
             "outlinewidth": 0,
             "ticks": ""
            },
            "type": "mesh3d"
           }
          ],
          "parcoords": [
           {
            "line": {
             "colorbar": {
              "outlinewidth": 0,
              "ticks": ""
             }
            },
            "type": "parcoords"
           }
          ],
          "pie": [
           {
            "automargin": true,
            "type": "pie"
           }
          ],
          "scatter": [
           {
            "fillpattern": {
             "fillmode": "overlay",
             "size": 10,
             "solidity": 0.2
            },
            "type": "scatter"
           }
          ],
          "scatter3d": [
           {
            "line": {
             "colorbar": {
              "outlinewidth": 0,
              "ticks": ""
             }
            },
            "marker": {
             "colorbar": {
              "outlinewidth": 0,
              "ticks": ""
             }
            },
            "type": "scatter3d"
           }
          ],
          "scattercarpet": [
           {
            "marker": {
             "colorbar": {
              "outlinewidth": 0,
              "ticks": ""
             }
            },
            "type": "scattercarpet"
           }
          ],
          "scattergeo": [
           {
            "marker": {
             "colorbar": {
              "outlinewidth": 0,
              "ticks": ""
             }
            },
            "type": "scattergeo"
           }
          ],
          "scattergl": [
           {
            "marker": {
             "colorbar": {
              "outlinewidth": 0,
              "ticks": ""
             }
            },
            "type": "scattergl"
           }
          ],
          "scattermap": [
           {
            "marker": {
             "colorbar": {
              "outlinewidth": 0,
              "ticks": ""
             }
            },
            "type": "scattermap"
           }
          ],
          "scattermapbox": [
           {
            "marker": {
             "colorbar": {
              "outlinewidth": 0,
              "ticks": ""
             }
            },
            "type": "scattermapbox"
           }
          ],
          "scatterpolar": [
           {
            "marker": {
             "colorbar": {
              "outlinewidth": 0,
              "ticks": ""
             }
            },
            "type": "scatterpolar"
           }
          ],
          "scatterpolargl": [
           {
            "marker": {
             "colorbar": {
              "outlinewidth": 0,
              "ticks": ""
             }
            },
            "type": "scatterpolargl"
           }
          ],
          "scatterternary": [
           {
            "marker": {
             "colorbar": {
              "outlinewidth": 0,
              "ticks": ""
             }
            },
            "type": "scatterternary"
           }
          ],
          "surface": [
           {
            "colorbar": {
             "outlinewidth": 0,
             "ticks": ""
            },
            "colorscale": [
             [
              0,
              "#0d0887"
             ],
             [
              0.1111111111111111,
              "#46039f"
             ],
             [
              0.2222222222222222,
              "#7201a8"
             ],
             [
              0.3333333333333333,
              "#9c179e"
             ],
             [
              0.4444444444444444,
              "#bd3786"
             ],
             [
              0.5555555555555556,
              "#d8576b"
             ],
             [
              0.6666666666666666,
              "#ed7953"
             ],
             [
              0.7777777777777778,
              "#fb9f3a"
             ],
             [
              0.8888888888888888,
              "#fdca26"
             ],
             [
              1,
              "#f0f921"
             ]
            ],
            "type": "surface"
           }
          ],
          "table": [
           {
            "cells": {
             "fill": {
              "color": "#EBF0F8"
             },
             "line": {
              "color": "white"
             }
            },
            "header": {
             "fill": {
              "color": "#C8D4E3"
             },
             "line": {
              "color": "white"
             }
            },
            "type": "table"
           }
          ]
         },
         "layout": {
          "annotationdefaults": {
           "arrowcolor": "#2a3f5f",
           "arrowhead": 0,
           "arrowwidth": 1
          },
          "autotypenumbers": "strict",
          "coloraxis": {
           "colorbar": {
            "outlinewidth": 0,
            "ticks": ""
           }
          },
          "colorscale": {
           "diverging": [
            [
             0,
             "#8e0152"
            ],
            [
             0.1,
             "#c51b7d"
            ],
            [
             0.2,
             "#de77ae"
            ],
            [
             0.3,
             "#f1b6da"
            ],
            [
             0.4,
             "#fde0ef"
            ],
            [
             0.5,
             "#f7f7f7"
            ],
            [
             0.6,
             "#e6f5d0"
            ],
            [
             0.7,
             "#b8e186"
            ],
            [
             0.8,
             "#7fbc41"
            ],
            [
             0.9,
             "#4d9221"
            ],
            [
             1,
             "#276419"
            ]
           ],
           "sequential": [
            [
             0,
             "#0d0887"
            ],
            [
             0.1111111111111111,
             "#46039f"
            ],
            [
             0.2222222222222222,
             "#7201a8"
            ],
            [
             0.3333333333333333,
             "#9c179e"
            ],
            [
             0.4444444444444444,
             "#bd3786"
            ],
            [
             0.5555555555555556,
             "#d8576b"
            ],
            [
             0.6666666666666666,
             "#ed7953"
            ],
            [
             0.7777777777777778,
             "#fb9f3a"
            ],
            [
             0.8888888888888888,
             "#fdca26"
            ],
            [
             1,
             "#f0f921"
            ]
           ],
           "sequentialminus": [
            [
             0,
             "#0d0887"
            ],
            [
             0.1111111111111111,
             "#46039f"
            ],
            [
             0.2222222222222222,
             "#7201a8"
            ],
            [
             0.3333333333333333,
             "#9c179e"
            ],
            [
             0.4444444444444444,
             "#bd3786"
            ],
            [
             0.5555555555555556,
             "#d8576b"
            ],
            [
             0.6666666666666666,
             "#ed7953"
            ],
            [
             0.7777777777777778,
             "#fb9f3a"
            ],
            [
             0.8888888888888888,
             "#fdca26"
            ],
            [
             1,
             "#f0f921"
            ]
           ]
          },
          "colorway": [
           "#636efa",
           "#EF553B",
           "#00cc96",
           "#ab63fa",
           "#FFA15A",
           "#19d3f3",
           "#FF6692",
           "#B6E880",
           "#FF97FF",
           "#FECB52"
          ],
          "font": {
           "color": "#2a3f5f"
          },
          "geo": {
           "bgcolor": "white",
           "lakecolor": "white",
           "landcolor": "white",
           "showlakes": true,
           "showland": true,
           "subunitcolor": "#C8D4E3"
          },
          "hoverlabel": {
           "align": "left"
          },
          "hovermode": "closest",
          "mapbox": {
           "style": "light"
          },
          "paper_bgcolor": "white",
          "plot_bgcolor": "white",
          "polar": {
           "angularaxis": {
            "gridcolor": "#EBF0F8",
            "linecolor": "#EBF0F8",
            "ticks": ""
           },
           "bgcolor": "white",
           "radialaxis": {
            "gridcolor": "#EBF0F8",
            "linecolor": "#EBF0F8",
            "ticks": ""
           }
          },
          "scene": {
           "xaxis": {
            "backgroundcolor": "white",
            "gridcolor": "#DFE8F3",
            "gridwidth": 2,
            "linecolor": "#EBF0F8",
            "showbackground": true,
            "ticks": "",
            "zerolinecolor": "#EBF0F8"
           },
           "yaxis": {
            "backgroundcolor": "white",
            "gridcolor": "#DFE8F3",
            "gridwidth": 2,
            "linecolor": "#EBF0F8",
            "showbackground": true,
            "ticks": "",
            "zerolinecolor": "#EBF0F8"
           },
           "zaxis": {
            "backgroundcolor": "white",
            "gridcolor": "#DFE8F3",
            "gridwidth": 2,
            "linecolor": "#EBF0F8",
            "showbackground": true,
            "ticks": "",
            "zerolinecolor": "#EBF0F8"
           }
          },
          "shapedefaults": {
           "line": {
            "color": "#2a3f5f"
           }
          },
          "ternary": {
           "aaxis": {
            "gridcolor": "#DFE8F3",
            "linecolor": "#A2B1C6",
            "ticks": ""
           },
           "baxis": {
            "gridcolor": "#DFE8F3",
            "linecolor": "#A2B1C6",
            "ticks": ""
           },
           "bgcolor": "white",
           "caxis": {
            "gridcolor": "#DFE8F3",
            "linecolor": "#A2B1C6",
            "ticks": ""
           }
          },
          "title": {
           "x": 0.05
          },
          "xaxis": {
           "automargin": true,
           "gridcolor": "#EBF0F8",
           "linecolor": "#EBF0F8",
           "ticks": "",
           "title": {
            "standoff": 15
           },
           "zerolinecolor": "#EBF0F8",
           "zerolinewidth": 2
          },
          "yaxis": {
           "automargin": true,
           "gridcolor": "#EBF0F8",
           "linecolor": "#EBF0F8",
           "ticks": "",
           "title": {
            "standoff": 15
           },
           "zerolinecolor": "#EBF0F8",
           "zerolinewidth": 2
          }
         }
        },
        "title": {
         "text": "Comparação CO₂ - Caso de teste: RM13 - Latitude e Longitude deslocadas para simular +200 km - ETHANOL",
         "x": 0.5
        },
        "xaxis": {
         "title": {
          "text": "Amostras"
         }
        },
        "yaxis": {
         "title": {
          "text": "CO₂ (g/s)"
         }
        }
       }
      }
     },
     "metadata": {},
     "output_type": "display_data"
    },
    {
     "name": "stdout",
     "output_type": "stream",
     "text": [
      "\n",
      "🔁 Caso de teste: RM13 - Latitude e Longitude deslocadas para simular +200 km (GASOLINE)\n",
      "Diferença Média: 0.8312 | Diferença Máxima: 4.0360 | Erro Quadrático Médio (RMSE): 1.0172 | Desvio Padrão (Std): 0.5863\n"
     ]
    },
    {
     "data": {
      "text/html": [
       "<style type=\"text/css\">\n",
       "</style>\n",
       "<table id=\"T_59fee\">\n",
       "  <caption>Comparação dos dados originais e modificados - Caso de teste: RM13 - Latitude e Longitude deslocadas para simular +200 km (GASOLINE)</caption>\n",
       "  <thead>\n",
       "    <tr>\n",
       "      <th class=\"blank level0\" >&nbsp;</th>\n",
       "      <th id=\"T_59fee_level0_col0\" class=\"col_heading level0 col0\" >Latitude_Orig</th>\n",
       "      <th id=\"T_59fee_level0_col1\" class=\"col_heading level0 col1\" >Longitude_Orig</th>\n",
       "      <th id=\"T_59fee_level0_col2\" class=\"col_heading level0 col2\" >Speed(OBD)(km/h)_Orig</th>\n",
       "      <th id=\"T_59fee_level0_col3\" class=\"col_heading level0 col3\" >Acceleration_Orig</th>\n",
       "      <th id=\"T_59fee_level0_col4\" class=\"col_heading level0 col4\" > </th>\n",
       "      <th id=\"T_59fee_level0_col5\" class=\"col_heading level0 col5\" >Latitude_Mod</th>\n",
       "      <th id=\"T_59fee_level0_col6\" class=\"col_heading level0 col6\" >Longitude_Mod</th>\n",
       "      <th id=\"T_59fee_level0_col7\" class=\"col_heading level0 col7\" >Speed(OBD)(km/h)_Mod</th>\n",
       "      <th id=\"T_59fee_level0_col8\" class=\"col_heading level0 col8\" >Acceleration_Mod</th>\n",
       "      <th id=\"T_59fee_level0_col9\" class=\"col_heading level0 col9\" > </th>\n",
       "      <th id=\"T_59fee_level0_col10\" class=\"col_heading level0 col10\" >CO₂_Real</th>\n",
       "      <th id=\"T_59fee_level0_col11\" class=\"col_heading level0 col11\" >CO₂_Orig</th>\n",
       "      <th id=\"T_59fee_level0_col12\" class=\"col_heading level0 col12\" >CO₂_Mod</th>\n",
       "    </tr>\n",
       "  </thead>\n",
       "  <tbody>\n",
       "    <tr>\n",
       "      <th id=\"T_59fee_level0_row0\" class=\"row_heading level0 row0\" >0</th>\n",
       "      <td id=\"T_59fee_row0_col0\" class=\"data row0 col0\" >-5.820010</td>\n",
       "      <td id=\"T_59fee_row0_col1\" class=\"data row0 col1\" >-35.220825</td>\n",
       "      <td id=\"T_59fee_row0_col2\" class=\"data row0 col2\" >5</td>\n",
       "      <td id=\"T_59fee_row0_col3\" class=\"data row0 col3\" >0.000000</td>\n",
       "      <td id=\"T_59fee_row0_col4\" class=\"data row0 col4\" >→</td>\n",
       "      <td id=\"T_59fee_row0_col5\" class=\"data row0 col5\" >-6.002699</td>\n",
       "      <td id=\"T_59fee_row0_col6\" class=\"data row0 col6\" >-35.508900</td>\n",
       "      <td id=\"T_59fee_row0_col7\" class=\"data row0 col7\" >5</td>\n",
       "      <td id=\"T_59fee_row0_col8\" class=\"data row0 col8\" >0.000000</td>\n",
       "      <td id=\"T_59fee_row0_col9\" class=\"data row0 col9\" > </td>\n",
       "      <td id=\"T_59fee_row0_col10\" class=\"data row0 col10\" >1.002671</td>\n",
       "      <td id=\"T_59fee_row0_col11\" class=\"data row0 col11\" >1.456781</td>\n",
       "      <td id=\"T_59fee_row0_col12\" class=\"data row0 col12\" >1.655048</td>\n",
       "    </tr>\n",
       "    <tr>\n",
       "      <th id=\"T_59fee_level0_row1\" class=\"row_heading level0 row1\" >1</th>\n",
       "      <td id=\"T_59fee_row1_col0\" class=\"data row1 col0\" >-5.820013</td>\n",
       "      <td id=\"T_59fee_row1_col1\" class=\"data row1 col1\" >-35.220822</td>\n",
       "      <td id=\"T_59fee_row1_col2\" class=\"data row1 col2\" >4</td>\n",
       "      <td id=\"T_59fee_row1_col3\" class=\"data row1 col3\" >-0.277778</td>\n",
       "      <td id=\"T_59fee_row1_col4\" class=\"data row1 col4\" >→</td>\n",
       "      <td id=\"T_59fee_row1_col5\" class=\"data row1 col5\" >-6.002767</td>\n",
       "      <td id=\"T_59fee_row1_col6\" class=\"data row1 col6\" >-35.508839</td>\n",
       "      <td id=\"T_59fee_row1_col7\" class=\"data row1 col7\" >4</td>\n",
       "      <td id=\"T_59fee_row1_col8\" class=\"data row1 col8\" >-0.277778</td>\n",
       "      <td id=\"T_59fee_row1_col9\" class=\"data row1 col9\" > </td>\n",
       "      <td id=\"T_59fee_row1_col10\" class=\"data row1 col10\" >1.013360</td>\n",
       "      <td id=\"T_59fee_row1_col11\" class=\"data row1 col11\" >1.016708</td>\n",
       "      <td id=\"T_59fee_row1_col12\" class=\"data row1 col12\" >1.687906</td>\n",
       "    </tr>\n",
       "    <tr>\n",
       "      <th id=\"T_59fee_level0_row2\" class=\"row_heading level0 row2\" >2</th>\n",
       "      <td id=\"T_59fee_row2_col0\" class=\"data row2 col0\" >-5.820016</td>\n",
       "      <td id=\"T_59fee_row2_col1\" class=\"data row2 col1\" >-35.220819</td>\n",
       "      <td id=\"T_59fee_row2_col2\" class=\"data row2 col2\" >5</td>\n",
       "      <td id=\"T_59fee_row2_col3\" class=\"data row2 col3\" >0.277778</td>\n",
       "      <td id=\"T_59fee_row2_col4\" class=\"data row2 col4\" >→</td>\n",
       "      <td id=\"T_59fee_row2_col5\" class=\"data row2 col5\" >-6.002843</td>\n",
       "      <td id=\"T_59fee_row2_col6\" class=\"data row2 col6\" >-35.508762</td>\n",
       "      <td id=\"T_59fee_row2_col7\" class=\"data row2 col7\" >5</td>\n",
       "      <td id=\"T_59fee_row2_col8\" class=\"data row2 col8\" >0.277778</td>\n",
       "      <td id=\"T_59fee_row2_col9\" class=\"data row2 col9\" > </td>\n",
       "      <td id=\"T_59fee_row2_col10\" class=\"data row2 col10\" >2.088720</td>\n",
       "      <td id=\"T_59fee_row2_col11\" class=\"data row2 col11\" >1.456781</td>\n",
       "      <td id=\"T_59fee_row2_col12\" class=\"data row2 col12\" >1.790437</td>\n",
       "    </tr>\n",
       "    <tr>\n",
       "      <th id=\"T_59fee_level0_row3\" class=\"row_heading level0 row3\" >3</th>\n",
       "      <td id=\"T_59fee_row3_col0\" class=\"data row3 col0\" >-5.820014</td>\n",
       "      <td id=\"T_59fee_row3_col1\" class=\"data row3 col1\" >-35.220825</td>\n",
       "      <td id=\"T_59fee_row3_col2\" class=\"data row3 col2\" >7</td>\n",
       "      <td id=\"T_59fee_row3_col3\" class=\"data row3 col3\" >0.555556</td>\n",
       "      <td id=\"T_59fee_row3_col4\" class=\"data row3 col4\" >→</td>\n",
       "      <td id=\"T_59fee_row3_col5\" class=\"data row3 col5\" >-6.002782</td>\n",
       "      <td id=\"T_59fee_row3_col6\" class=\"data row3 col6\" >-35.508892</td>\n",
       "      <td id=\"T_59fee_row3_col7\" class=\"data row3 col7\" >7</td>\n",
       "      <td id=\"T_59fee_row3_col8\" class=\"data row3 col8\" >0.555556</td>\n",
       "      <td id=\"T_59fee_row3_col9\" class=\"data row3 col9\" > </td>\n",
       "      <td id=\"T_59fee_row3_col10\" class=\"data row3 col10\" >2.261889</td>\n",
       "      <td id=\"T_59fee_row3_col11\" class=\"data row3 col11\" >1.996380</td>\n",
       "      <td id=\"T_59fee_row3_col12\" class=\"data row3 col12\" >1.977492</td>\n",
       "    </tr>\n",
       "    <tr>\n",
       "      <th id=\"T_59fee_level0_row4\" class=\"row_heading level0 row4\" >4</th>\n",
       "      <td id=\"T_59fee_row4_col0\" class=\"data row4 col0\" >-5.819992</td>\n",
       "      <td id=\"T_59fee_row4_col1\" class=\"data row4 col1\" >-35.220829</td>\n",
       "      <td id=\"T_59fee_row4_col2\" class=\"data row4 col2\" >9</td>\n",
       "      <td id=\"T_59fee_row4_col3\" class=\"data row4 col3\" >0.555556</td>\n",
       "      <td id=\"T_59fee_row4_col4\" class=\"data row4 col4\" >→</td>\n",
       "      <td id=\"T_59fee_row4_col5\" class=\"data row4 col5\" >-6.002236</td>\n",
       "      <td id=\"T_59fee_row4_col6\" class=\"data row4 col6\" >-35.508996</td>\n",
       "      <td id=\"T_59fee_row4_col7\" class=\"data row4 col7\" >9</td>\n",
       "      <td id=\"T_59fee_row4_col8\" class=\"data row4 col8\" >0.555556</td>\n",
       "      <td id=\"T_59fee_row4_col9\" class=\"data row4 col9\" > </td>\n",
       "      <td id=\"T_59fee_row4_col10\" class=\"data row4 col10\" >2.499195</td>\n",
       "      <td id=\"T_59fee_row4_col11\" class=\"data row4 col11\" >2.400486</td>\n",
       "      <td id=\"T_59fee_row4_col12\" class=\"data row4 col12\" >2.086244</td>\n",
       "    </tr>\n",
       "    <tr>\n",
       "      <th id=\"T_59fee_level0_row5\" class=\"row_heading level0 row5\" >5</th>\n",
       "      <td id=\"T_59fee_row5_col0\" class=\"data row5 col0\" >-5.819974</td>\n",
       "      <td id=\"T_59fee_row5_col1\" class=\"data row5 col1\" >-35.220824</td>\n",
       "      <td id=\"T_59fee_row5_col2\" class=\"data row5 col2\" >12</td>\n",
       "      <td id=\"T_59fee_row5_col3\" class=\"data row5 col3\" >0.833333</td>\n",
       "      <td id=\"T_59fee_row5_col4\" class=\"data row5 col4\" >→</td>\n",
       "      <td id=\"T_59fee_row5_col5\" class=\"data row5 col5\" >-6.001778</td>\n",
       "      <td id=\"T_59fee_row5_col6\" class=\"data row5 col6\" >-35.508882</td>\n",
       "      <td id=\"T_59fee_row5_col7\" class=\"data row5 col7\" >12</td>\n",
       "      <td id=\"T_59fee_row5_col8\" class=\"data row5 col8\" >0.833333</td>\n",
       "      <td id=\"T_59fee_row5_col9\" class=\"data row5 col9\" > </td>\n",
       "      <td id=\"T_59fee_row5_col10\" class=\"data row5 col10\" >2.606089</td>\n",
       "      <td id=\"T_59fee_row5_col11\" class=\"data row5 col11\" >2.400486</td>\n",
       "      <td id=\"T_59fee_row5_col12\" class=\"data row5 col12\" >2.127853</td>\n",
       "    </tr>\n",
       "    <tr>\n",
       "      <th id=\"T_59fee_level0_row6\" class=\"row_heading level0 row6\" >6</th>\n",
       "      <td id=\"T_59fee_row6_col0\" class=\"data row6 col0\" >-5.819944</td>\n",
       "      <td id=\"T_59fee_row6_col1\" class=\"data row6 col1\" >-35.220823</td>\n",
       "      <td id=\"T_59fee_row6_col2\" class=\"data row6 col2\" >15</td>\n",
       "      <td id=\"T_59fee_row6_col3\" class=\"data row6 col3\" >0.833333</td>\n",
       "      <td id=\"T_59fee_row6_col4\" class=\"data row6 col4\" >→</td>\n",
       "      <td id=\"T_59fee_row6_col5\" class=\"data row6 col5\" >-6.001040</td>\n",
       "      <td id=\"T_59fee_row6_col6\" class=\"data row6 col6\" >-35.508854</td>\n",
       "      <td id=\"T_59fee_row6_col7\" class=\"data row6 col7\" >15</td>\n",
       "      <td id=\"T_59fee_row6_col8\" class=\"data row6 col8\" >0.833333</td>\n",
       "      <td id=\"T_59fee_row6_col9\" class=\"data row6 col9\" > </td>\n",
       "      <td id=\"T_59fee_row6_col10\" class=\"data row6 col10\" >3.070012</td>\n",
       "      <td id=\"T_59fee_row6_col11\" class=\"data row6 col11\" >2.148721</td>\n",
       "      <td id=\"T_59fee_row6_col12\" class=\"data row6 col12\" >2.213368</td>\n",
       "    </tr>\n",
       "    <tr>\n",
       "      <th id=\"T_59fee_level0_row7\" class=\"row_heading level0 row7\" >7</th>\n",
       "      <td id=\"T_59fee_row7_col0\" class=\"data row7 col0\" >-5.819908</td>\n",
       "      <td id=\"T_59fee_row7_col1\" class=\"data row7 col1\" >-35.220810</td>\n",
       "      <td id=\"T_59fee_row7_col2\" class=\"data row7 col2\" >18</td>\n",
       "      <td id=\"T_59fee_row7_col3\" class=\"data row7 col3\" >0.833333</td>\n",
       "      <td id=\"T_59fee_row7_col4\" class=\"data row7 col4\" >→</td>\n",
       "      <td id=\"T_59fee_row7_col5\" class=\"data row7 col5\" >-6.000148</td>\n",
       "      <td id=\"T_59fee_row7_col6\" class=\"data row7 col6\" >-35.508536</td>\n",
       "      <td id=\"T_59fee_row7_col7\" class=\"data row7 col7\" >18</td>\n",
       "      <td id=\"T_59fee_row7_col8\" class=\"data row7 col8\" >0.833333</td>\n",
       "      <td id=\"T_59fee_row7_col9\" class=\"data row7 col9\" > </td>\n",
       "      <td id=\"T_59fee_row7_col10\" class=\"data row7 col10\" >2.445747</td>\n",
       "      <td id=\"T_59fee_row7_col11\" class=\"data row7 col11\" >1.470940</td>\n",
       "      <td id=\"T_59fee_row7_col12\" class=\"data row7 col12\" >2.134576</td>\n",
       "    </tr>\n",
       "    <tr>\n",
       "      <th id=\"T_59fee_level0_row8\" class=\"row_heading level0 row8\" >8</th>\n",
       "      <td id=\"T_59fee_row8_col0\" class=\"data row8 col0\" >-5.819866</td>\n",
       "      <td id=\"T_59fee_row8_col1\" class=\"data row8 col1\" >-35.220794</td>\n",
       "      <td id=\"T_59fee_row8_col2\" class=\"data row8 col2\" >18</td>\n",
       "      <td id=\"T_59fee_row8_col3\" class=\"data row8 col3\" >0.000000</td>\n",
       "      <td id=\"T_59fee_row8_col4\" class=\"data row8 col4\" >→</td>\n",
       "      <td id=\"T_59fee_row8_col5\" class=\"data row8 col5\" >-5.999081</td>\n",
       "      <td id=\"T_59fee_row8_col6\" class=\"data row8 col6\" >-35.508129</td>\n",
       "      <td id=\"T_59fee_row8_col7\" class=\"data row8 col7\" >18</td>\n",
       "      <td id=\"T_59fee_row8_col8\" class=\"data row8 col8\" >0.000000</td>\n",
       "      <td id=\"T_59fee_row8_col9\" class=\"data row8 col9\" > </td>\n",
       "      <td id=\"T_59fee_row8_col10\" class=\"data row8 col10\" >1.073221</td>\n",
       "      <td id=\"T_59fee_row8_col11\" class=\"data row8 col11\" >1.588029</td>\n",
       "      <td id=\"T_59fee_row8_col12\" class=\"data row8 col12\" >1.783583</td>\n",
       "    </tr>\n",
       "    <tr>\n",
       "      <th id=\"T_59fee_level0_row9\" class=\"row_heading level0 row9\" >9</th>\n",
       "      <td id=\"T_59fee_row9_col0\" class=\"data row9 col0\" >-5.819821</td>\n",
       "      <td id=\"T_59fee_row9_col1\" class=\"data row9 col1\" >-35.220775</td>\n",
       "      <td id=\"T_59fee_row9_col2\" class=\"data row9 col2\" >16</td>\n",
       "      <td id=\"T_59fee_row9_col3\" class=\"data row9 col3\" >-0.555556</td>\n",
       "      <td id=\"T_59fee_row9_col4\" class=\"data row9 col4\" >→</td>\n",
       "      <td id=\"T_59fee_row9_col5\" class=\"data row9 col5\" >-5.997965</td>\n",
       "      <td id=\"T_59fee_row9_col6\" class=\"data row9 col6\" >-35.507640</td>\n",
       "      <td id=\"T_59fee_row9_col7\" class=\"data row9 col7\" >16</td>\n",
       "      <td id=\"T_59fee_row9_col8\" class=\"data row9 col8\" >-0.555556</td>\n",
       "      <td id=\"T_59fee_row9_col9\" class=\"data row9 col9\" > </td>\n",
       "      <td id=\"T_59fee_row9_col10\" class=\"data row9 col10\" >0.562265</td>\n",
       "      <td id=\"T_59fee_row9_col11\" class=\"data row9 col11\" >1.085921</td>\n",
       "      <td id=\"T_59fee_row9_col12\" class=\"data row9 col12\" >1.900804</td>\n",
       "    </tr>\n",
       "  </tbody>\n",
       "</table>\n"
      ],
      "text/plain": [
       "<pandas.io.formats.style.Styler at 0x1bd896f2110>"
      ]
     },
     "metadata": {},
     "output_type": "display_data"
    },
    {
     "data": {
      "application/vnd.plotly.v1+json": {
       "config": {
        "plotlyServerURL": "https://plot.ly"
       },
       "data": [
        {
         "line": {
          "color": "green",
          "dash": "dot"
         },
         "mode": "lines",
         "name": "Real",
         "type": "scatter",
         "y": {
          "bdata": "fgFSsvAK8D+A9UFnuTbwP+sFLaeytQBAlHGRLVkYAkBCucXSWf4DQEt9dVtF2QRAqBJmS2KPCEA+120O5JADQCN/TinqK/E/+as09BP+4T+aTWFMs5viP5pNYUyzm+I/XDzytNji+j+dNUG2RPMCQCiGK0XJLgZAUV/NH7tGBUCt9L0P2PwIQMoh0PdM4gZALUmGV/HwAUC7e8iq65kFQJWKBjqL2QZAPtdtDuSQA0A+120O5JADQD/LXcOsvPM/G9QTrTAS5T+dNUG2RPPiPz7XbQ7kkOM/PtdtDuSQ4z+N38u90b/qPypPDv0M2/E/XDzytNjiCkCoDN6lRqUIQKgM3qVGpQhA8yxc66J8D0BuxFHGr5gMQIjedkcOpwVAJ4Cjn61EBkBRX80fu0YFQLWf+IuRFgVAtZ/4i5EWBUBZCgicdGDxP1JTvdSDcvU/1NlvNQHp9z+u1cBdilHkP67VwF2KUeQ/oGcrz6h17D9QRlgTiYXwP5J9oXiQ7PE/kn2heJDs8T/DRQDZ8l7mP79dIG9hB+Y/v10gb2EH5j+/XSBvYQfmP2LnLDGS/OY/sOIlH4U+6T/qekRTCmDuP6BnK8+odew/mWxe/gBHB0CpJVOyeGYNQIFGKTJrZA5AgUYpMmtkDkDqCPF5wKoQQNfm1Pb71QxA1+bU9vvVDEDDRQDZ8l7mP8A4mxf4ceE/+as09BP+4T9i5ywxkvzmP2LnLDGS/OY/QeTSz9596D9B5NLP3n3oPzJEUyiZH+c/MkRTKJkf5z95fPEDZJ/tP3l88QNkn+0/2trEq8QB7T8Lfp60vd7sP9by5EEzquw/LlxzvgfI5j8uXHO+B8jmP79dIG9hB+Y/idJm/NbS5T/DRQDZ8l7mP/jQuUt9k+Y/+NC5S32T5j8g7t0vJuzuPwt+nrS93uw/nH9LZRce7D9q3HFcHkHsP2rccVweQew/H7zzFsJp5T8fvPMWwmnlP/jQuUt9k+Y/LlxzvgfI5j8uXHO+B8jmPy5cc74HyOY/atxxXB5B7D9q3HFcHkHsPwt+nrS93uw/1vLkQTOq7D8=",
          "dtype": "f8"
         }
        },
        {
         "line": {
          "color": "blue",
          "dash": "dash"
         },
         "mode": "lines",
         "name": "Predição Original",
         "type": "scatter",
         "y": {
          "bdata": "nyhPnflO9z9gHHYQcETwP58oT535Tvc/NcYJ3ivx/z/H027bMTQDQMfTbtsxNANAW6JizpQwAUDSiMQk+Ij3P/2q4seQaPk/ZH6eRe5f8T9BGZ5ZmvD3PzitkrX97Pg/sjPog+dN+z+SSuHot2oCQJww0qNNLgNA8cQEdVL2B0A1HTGC8yUFQJ1s4cie0QVAPEfMwV4IAkA8R8zBXggCQF2Pwwd46AFAbpuVTxN2+j/IvXHXsBP6P0OwSlf+P/c/2pPnoDIS6T+hOYU4eCfuPxp0K9BUbOo/ThQjZ9o8AEBABo/x9pL3P3F+mAxJHfY/vjt97VxcAkC1xmrF5DgDQOa6Z/pAWAZAUonaDz/zBED9aMiraIEDQPruFYWieANA+u4VhaJ4A0CoKE294o/7Pxk9jtecgfw/S7H7xD8A/j92WkFYmFz2P7S5Onx/Bvo/RX1rWH4i8z/oY5hva434P1TJv1Fh2es/2F3p5aM27D+RtiC+vPzzP6NexDxw2fI/XyhyWTnN9D+DFQQ4srDxP7jtWJ1vMew/uO1YnW8x7D+47VidbzHsP7jtWJ1vMew/uO1YnW8x7D+47VidbzHsP7jtWJ1vMew/uO1YnW8x7D8nAD+TNLUCQNaKcWWMugZA0Uv5KVIhCEA+8WTkUCIIQPi+a1e0Yw5Ayp9UILRhDkDaMTNkxTIBQMaASEASVe8/28WzSFf/7z9COf9b/WfwPxW/p/5ScP0/VZWNuaJb6j9o0D7Y66zqP2jQPtjrrOo/aNA+2Ous6j9o0D7Y66zqP2jQPtjrrOo/aNA+2Ous6j9o0D7Y66zqP2jQPtjrrOo/aNA+2Ous6j9o0D7Y66zqP2jQPtjrrOo/aNA+2Ous6j9o0D7Y66zqP2jQPtjrrOo/aNA+2Ous6j9o0D7Y66zqP2jQPtjrrOo/aNA+2Ous6j9o0D7Y66zqP2jQPtjrrOo/aNA+2Ous6j9o0D7Y66zqP2jQPtjrrOo/aNA+2Ous6j9o0D7Y66zqP2jQPtjrrOo/aNA+2Ous6j9o0D7Y66zqP2jQPtjrrOo/aNA+2Ous6j8=",
          "dtype": "f8"
         }
        },
        {
         "line": {
          "color": "red"
         },
         "mode": "lines",
         "name": "Predição com RM",
         "type": "scatter",
         "y": {
          "bdata": "xE4f9xN7+j+rlyeHqQH7PzGipyChpfw/lf3iXM6j/z881UmmoLAAQCvWOb3XBQFA2NFbGPq0AUA7AbGKnBMBQBfqvG2Oifw/lvScCrFp/j+nhVDL33D6P0h4AfpTLf8/fbzJZqSF/z/QEfWTi5kAQCvWOb3XBQFA2NFbGPq0AUDSGhGuclHjP6WhYnyzqgBA2QZ8s5Hi/j8TBsxVv5wAQK082wtO+P0/LGHkcDx1/T+gsCUdj8H3P5SnGIYlCvs/B7j7gYSl7z8JC85ysSz6P/eCbpryXus/ohApLcr0+j/VDJQQngLyP+PXHmvH7vk/0BH1k4uZAEAr1jm91wUBQAXAu4MTB/4/iZeQqaZi8j9NlHFmenDtP74T3BEKlPw/vhPcEQqU/D/mFDy8a5v8P6082wtO+P0/LGHkcDx1/T+Jys0LDQf/Pzf+nKBcrfk/VCB9FxnW/D/69JIaQiv4P9xMVwK7W/M/t7m67Lx/8z+oqzSrJc73P7G0/RvEOvU/0+068v/6+j8Pn8Gi/dT/PwKK1jKO0v0/AorWMo7S/T8CitYyjtL9PwKK1jKO0v0/AorWMo7S/T8CitYyjtL9PwKK1jKO0v0/AorWMo7S/T/fQDfzRfP8P56Tse1kWfo/LuqT4Giw/j+Jl5CppmLyP8Ya/RU6Gf8/ohApLcr0+j8UsyHpvIEBQFQo0CJzDfI/Iahjk+f89T+sy/mGwdD1P8ROH/cTe/o/U+Gjl6yb+T8CitYyjtL9PwKK1jKO0v0/AorWMo7S/T8CitYyjtL9PwKK1jKO0v0/AorWMo7S/T8CitYyjtL9PwKK1jKO0v0/AorWMo7S/T8CitYyjtL9PwKK1jKO0v0/AorWMo7S/T8CitYyjtL9PwKK1jKO0v0/AorWMo7S/T8CitYyjtL9PwKK1jKO0v0/AorWMo7S/T8CitYyjtL9PwKK1jKO0v0/AorWMo7S/T8CitYyjtL9PwKK1jKO0v0/AorWMo7S/T8CitYyjtL9PwKK1jKO0v0/AorWMo7S/T8CitYyjtL9PwKK1jKO0v0/AorWMo7S/T8=",
          "dtype": "f8"
         }
        }
       ],
       "layout": {
        "template": {
         "data": {
          "bar": [
           {
            "error_x": {
             "color": "#2a3f5f"
            },
            "error_y": {
             "color": "#2a3f5f"
            },
            "marker": {
             "line": {
              "color": "white",
              "width": 0.5
             },
             "pattern": {
              "fillmode": "overlay",
              "size": 10,
              "solidity": 0.2
             }
            },
            "type": "bar"
           }
          ],
          "barpolar": [
           {
            "marker": {
             "line": {
              "color": "white",
              "width": 0.5
             },
             "pattern": {
              "fillmode": "overlay",
              "size": 10,
              "solidity": 0.2
             }
            },
            "type": "barpolar"
           }
          ],
          "carpet": [
           {
            "aaxis": {
             "endlinecolor": "#2a3f5f",
             "gridcolor": "#C8D4E3",
             "linecolor": "#C8D4E3",
             "minorgridcolor": "#C8D4E3",
             "startlinecolor": "#2a3f5f"
            },
            "baxis": {
             "endlinecolor": "#2a3f5f",
             "gridcolor": "#C8D4E3",
             "linecolor": "#C8D4E3",
             "minorgridcolor": "#C8D4E3",
             "startlinecolor": "#2a3f5f"
            },
            "type": "carpet"
           }
          ],
          "choropleth": [
           {
            "colorbar": {
             "outlinewidth": 0,
             "ticks": ""
            },
            "type": "choropleth"
           }
          ],
          "contour": [
           {
            "colorbar": {
             "outlinewidth": 0,
             "ticks": ""
            },
            "colorscale": [
             [
              0,
              "#0d0887"
             ],
             [
              0.1111111111111111,
              "#46039f"
             ],
             [
              0.2222222222222222,
              "#7201a8"
             ],
             [
              0.3333333333333333,
              "#9c179e"
             ],
             [
              0.4444444444444444,
              "#bd3786"
             ],
             [
              0.5555555555555556,
              "#d8576b"
             ],
             [
              0.6666666666666666,
              "#ed7953"
             ],
             [
              0.7777777777777778,
              "#fb9f3a"
             ],
             [
              0.8888888888888888,
              "#fdca26"
             ],
             [
              1,
              "#f0f921"
             ]
            ],
            "type": "contour"
           }
          ],
          "contourcarpet": [
           {
            "colorbar": {
             "outlinewidth": 0,
             "ticks": ""
            },
            "type": "contourcarpet"
           }
          ],
          "heatmap": [
           {
            "colorbar": {
             "outlinewidth": 0,
             "ticks": ""
            },
            "colorscale": [
             [
              0,
              "#0d0887"
             ],
             [
              0.1111111111111111,
              "#46039f"
             ],
             [
              0.2222222222222222,
              "#7201a8"
             ],
             [
              0.3333333333333333,
              "#9c179e"
             ],
             [
              0.4444444444444444,
              "#bd3786"
             ],
             [
              0.5555555555555556,
              "#d8576b"
             ],
             [
              0.6666666666666666,
              "#ed7953"
             ],
             [
              0.7777777777777778,
              "#fb9f3a"
             ],
             [
              0.8888888888888888,
              "#fdca26"
             ],
             [
              1,
              "#f0f921"
             ]
            ],
            "type": "heatmap"
           }
          ],
          "histogram": [
           {
            "marker": {
             "pattern": {
              "fillmode": "overlay",
              "size": 10,
              "solidity": 0.2
             }
            },
            "type": "histogram"
           }
          ],
          "histogram2d": [
           {
            "colorbar": {
             "outlinewidth": 0,
             "ticks": ""
            },
            "colorscale": [
             [
              0,
              "#0d0887"
             ],
             [
              0.1111111111111111,
              "#46039f"
             ],
             [
              0.2222222222222222,
              "#7201a8"
             ],
             [
              0.3333333333333333,
              "#9c179e"
             ],
             [
              0.4444444444444444,
              "#bd3786"
             ],
             [
              0.5555555555555556,
              "#d8576b"
             ],
             [
              0.6666666666666666,
              "#ed7953"
             ],
             [
              0.7777777777777778,
              "#fb9f3a"
             ],
             [
              0.8888888888888888,
              "#fdca26"
             ],
             [
              1,
              "#f0f921"
             ]
            ],
            "type": "histogram2d"
           }
          ],
          "histogram2dcontour": [
           {
            "colorbar": {
             "outlinewidth": 0,
             "ticks": ""
            },
            "colorscale": [
             [
              0,
              "#0d0887"
             ],
             [
              0.1111111111111111,
              "#46039f"
             ],
             [
              0.2222222222222222,
              "#7201a8"
             ],
             [
              0.3333333333333333,
              "#9c179e"
             ],
             [
              0.4444444444444444,
              "#bd3786"
             ],
             [
              0.5555555555555556,
              "#d8576b"
             ],
             [
              0.6666666666666666,
              "#ed7953"
             ],
             [
              0.7777777777777778,
              "#fb9f3a"
             ],
             [
              0.8888888888888888,
              "#fdca26"
             ],
             [
              1,
              "#f0f921"
             ]
            ],
            "type": "histogram2dcontour"
           }
          ],
          "mesh3d": [
           {
            "colorbar": {
             "outlinewidth": 0,
             "ticks": ""
            },
            "type": "mesh3d"
           }
          ],
          "parcoords": [
           {
            "line": {
             "colorbar": {
              "outlinewidth": 0,
              "ticks": ""
             }
            },
            "type": "parcoords"
           }
          ],
          "pie": [
           {
            "automargin": true,
            "type": "pie"
           }
          ],
          "scatter": [
           {
            "fillpattern": {
             "fillmode": "overlay",
             "size": 10,
             "solidity": 0.2
            },
            "type": "scatter"
           }
          ],
          "scatter3d": [
           {
            "line": {
             "colorbar": {
              "outlinewidth": 0,
              "ticks": ""
             }
            },
            "marker": {
             "colorbar": {
              "outlinewidth": 0,
              "ticks": ""
             }
            },
            "type": "scatter3d"
           }
          ],
          "scattercarpet": [
           {
            "marker": {
             "colorbar": {
              "outlinewidth": 0,
              "ticks": ""
             }
            },
            "type": "scattercarpet"
           }
          ],
          "scattergeo": [
           {
            "marker": {
             "colorbar": {
              "outlinewidth": 0,
              "ticks": ""
             }
            },
            "type": "scattergeo"
           }
          ],
          "scattergl": [
           {
            "marker": {
             "colorbar": {
              "outlinewidth": 0,
              "ticks": ""
             }
            },
            "type": "scattergl"
           }
          ],
          "scattermap": [
           {
            "marker": {
             "colorbar": {
              "outlinewidth": 0,
              "ticks": ""
             }
            },
            "type": "scattermap"
           }
          ],
          "scattermapbox": [
           {
            "marker": {
             "colorbar": {
              "outlinewidth": 0,
              "ticks": ""
             }
            },
            "type": "scattermapbox"
           }
          ],
          "scatterpolar": [
           {
            "marker": {
             "colorbar": {
              "outlinewidth": 0,
              "ticks": ""
             }
            },
            "type": "scatterpolar"
           }
          ],
          "scatterpolargl": [
           {
            "marker": {
             "colorbar": {
              "outlinewidth": 0,
              "ticks": ""
             }
            },
            "type": "scatterpolargl"
           }
          ],
          "scatterternary": [
           {
            "marker": {
             "colorbar": {
              "outlinewidth": 0,
              "ticks": ""
             }
            },
            "type": "scatterternary"
           }
          ],
          "surface": [
           {
            "colorbar": {
             "outlinewidth": 0,
             "ticks": ""
            },
            "colorscale": [
             [
              0,
              "#0d0887"
             ],
             [
              0.1111111111111111,
              "#46039f"
             ],
             [
              0.2222222222222222,
              "#7201a8"
             ],
             [
              0.3333333333333333,
              "#9c179e"
             ],
             [
              0.4444444444444444,
              "#bd3786"
             ],
             [
              0.5555555555555556,
              "#d8576b"
             ],
             [
              0.6666666666666666,
              "#ed7953"
             ],
             [
              0.7777777777777778,
              "#fb9f3a"
             ],
             [
              0.8888888888888888,
              "#fdca26"
             ],
             [
              1,
              "#f0f921"
             ]
            ],
            "type": "surface"
           }
          ],
          "table": [
           {
            "cells": {
             "fill": {
              "color": "#EBF0F8"
             },
             "line": {
              "color": "white"
             }
            },
            "header": {
             "fill": {
              "color": "#C8D4E3"
             },
             "line": {
              "color": "white"
             }
            },
            "type": "table"
           }
          ]
         },
         "layout": {
          "annotationdefaults": {
           "arrowcolor": "#2a3f5f",
           "arrowhead": 0,
           "arrowwidth": 1
          },
          "autotypenumbers": "strict",
          "coloraxis": {
           "colorbar": {
            "outlinewidth": 0,
            "ticks": ""
           }
          },
          "colorscale": {
           "diverging": [
            [
             0,
             "#8e0152"
            ],
            [
             0.1,
             "#c51b7d"
            ],
            [
             0.2,
             "#de77ae"
            ],
            [
             0.3,
             "#f1b6da"
            ],
            [
             0.4,
             "#fde0ef"
            ],
            [
             0.5,
             "#f7f7f7"
            ],
            [
             0.6,
             "#e6f5d0"
            ],
            [
             0.7,
             "#b8e186"
            ],
            [
             0.8,
             "#7fbc41"
            ],
            [
             0.9,
             "#4d9221"
            ],
            [
             1,
             "#276419"
            ]
           ],
           "sequential": [
            [
             0,
             "#0d0887"
            ],
            [
             0.1111111111111111,
             "#46039f"
            ],
            [
             0.2222222222222222,
             "#7201a8"
            ],
            [
             0.3333333333333333,
             "#9c179e"
            ],
            [
             0.4444444444444444,
             "#bd3786"
            ],
            [
             0.5555555555555556,
             "#d8576b"
            ],
            [
             0.6666666666666666,
             "#ed7953"
            ],
            [
             0.7777777777777778,
             "#fb9f3a"
            ],
            [
             0.8888888888888888,
             "#fdca26"
            ],
            [
             1,
             "#f0f921"
            ]
           ],
           "sequentialminus": [
            [
             0,
             "#0d0887"
            ],
            [
             0.1111111111111111,
             "#46039f"
            ],
            [
             0.2222222222222222,
             "#7201a8"
            ],
            [
             0.3333333333333333,
             "#9c179e"
            ],
            [
             0.4444444444444444,
             "#bd3786"
            ],
            [
             0.5555555555555556,
             "#d8576b"
            ],
            [
             0.6666666666666666,
             "#ed7953"
            ],
            [
             0.7777777777777778,
             "#fb9f3a"
            ],
            [
             0.8888888888888888,
             "#fdca26"
            ],
            [
             1,
             "#f0f921"
            ]
           ]
          },
          "colorway": [
           "#636efa",
           "#EF553B",
           "#00cc96",
           "#ab63fa",
           "#FFA15A",
           "#19d3f3",
           "#FF6692",
           "#B6E880",
           "#FF97FF",
           "#FECB52"
          ],
          "font": {
           "color": "#2a3f5f"
          },
          "geo": {
           "bgcolor": "white",
           "lakecolor": "white",
           "landcolor": "white",
           "showlakes": true,
           "showland": true,
           "subunitcolor": "#C8D4E3"
          },
          "hoverlabel": {
           "align": "left"
          },
          "hovermode": "closest",
          "mapbox": {
           "style": "light"
          },
          "paper_bgcolor": "white",
          "plot_bgcolor": "white",
          "polar": {
           "angularaxis": {
            "gridcolor": "#EBF0F8",
            "linecolor": "#EBF0F8",
            "ticks": ""
           },
           "bgcolor": "white",
           "radialaxis": {
            "gridcolor": "#EBF0F8",
            "linecolor": "#EBF0F8",
            "ticks": ""
           }
          },
          "scene": {
           "xaxis": {
            "backgroundcolor": "white",
            "gridcolor": "#DFE8F3",
            "gridwidth": 2,
            "linecolor": "#EBF0F8",
            "showbackground": true,
            "ticks": "",
            "zerolinecolor": "#EBF0F8"
           },
           "yaxis": {
            "backgroundcolor": "white",
            "gridcolor": "#DFE8F3",
            "gridwidth": 2,
            "linecolor": "#EBF0F8",
            "showbackground": true,
            "ticks": "",
            "zerolinecolor": "#EBF0F8"
           },
           "zaxis": {
            "backgroundcolor": "white",
            "gridcolor": "#DFE8F3",
            "gridwidth": 2,
            "linecolor": "#EBF0F8",
            "showbackground": true,
            "ticks": "",
            "zerolinecolor": "#EBF0F8"
           }
          },
          "shapedefaults": {
           "line": {
            "color": "#2a3f5f"
           }
          },
          "ternary": {
           "aaxis": {
            "gridcolor": "#DFE8F3",
            "linecolor": "#A2B1C6",
            "ticks": ""
           },
           "baxis": {
            "gridcolor": "#DFE8F3",
            "linecolor": "#A2B1C6",
            "ticks": ""
           },
           "bgcolor": "white",
           "caxis": {
            "gridcolor": "#DFE8F3",
            "linecolor": "#A2B1C6",
            "ticks": ""
           }
          },
          "title": {
           "x": 0.05
          },
          "xaxis": {
           "automargin": true,
           "gridcolor": "#EBF0F8",
           "linecolor": "#EBF0F8",
           "ticks": "",
           "title": {
            "standoff": 15
           },
           "zerolinecolor": "#EBF0F8",
           "zerolinewidth": 2
          },
          "yaxis": {
           "automargin": true,
           "gridcolor": "#EBF0F8",
           "linecolor": "#EBF0F8",
           "ticks": "",
           "title": {
            "standoff": 15
           },
           "zerolinecolor": "#EBF0F8",
           "zerolinewidth": 2
          }
         }
        },
        "title": {
         "text": "Comparação CO₂ - Caso de teste: RM13 - Latitude e Longitude deslocadas para simular +200 km - GASOLINE",
         "x": 0.5
        },
        "xaxis": {
         "title": {
          "text": "Amostras"
         }
        },
        "yaxis": {
         "title": {
          "text": "CO₂ (g/s)"
         }
        }
       }
      }
     },
     "metadata": {},
     "output_type": "display_data"
    }
   ],
   "source": [
    "# 🧲 Executar para ambos os combustíveis e RMs\n",
    "for nome_mr, transformacao in testes_metamorficos.items():\n",
    "    for combustivel, df_original in [(\"ethanol\", df_ethanol), (\"gasoline\", df_gasoline)]:\n",
    "        df_modificado = transformacao(df_original.copy())\n",
    "        executar_teste_plotly(\n",
    "            df_original=df_original,\n",
    "            df_modificado=df_modificado,\n",
    "            modelo_afr=modelos[combustivel][\"afr\"],\n",
    "            modelo_maf=modelos[combustivel][\"maf\"],\n",
    "            fuel=combustivel,\n",
    "            nome_mr=nome_mr\n",
    "        )"
   ]
  }
 ],
 "metadata": {
  "kernelspec": {
   "display_name": "biofuel_analysis",
   "language": "python",
   "name": "python3"
  },
  "language_info": {
   "codemirror_mode": {
    "name": "ipython",
    "version": 3
   },
   "file_extension": ".py",
   "mimetype": "text/x-python",
   "name": "python",
   "nbconvert_exporter": "python",
   "pygments_lexer": "ipython3",
   "version": "3.11.9"
  }
 },
 "nbformat": 4,
 "nbformat_minor": 2
}

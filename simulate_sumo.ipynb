{
 "cells": [
  {
   "cell_type": "markdown",
   "metadata": {},
   "source": [
    "# 📦 Import Libraries"
   ]
  },
  {
   "cell_type": "code",
   "execution_count": 14,
   "metadata": {},
   "outputs": [],
   "source": [
    "import traci\n",
    "import folium\n",
    "import joblib"
   ]
  },
  {
   "cell_type": "code",
   "execution_count": 15,
   "metadata": {},
   "outputs": [],
   "source": [
    "import numpy as np\n",
    "import pandas as pd"
   ]
  },
  {
   "cell_type": "code",
   "execution_count": 16,
   "metadata": {},
   "outputs": [],
   "source": [
    "import matplotlib.pyplot as plt"
   ]
  },
  {
   "cell_type": "code",
   "execution_count": 17,
   "metadata": {},
   "outputs": [],
   "source": [
    "from utils.data_acquisition import *\n",
    "from utils.data_preprocessing import *\n",
    "from utils.data_visualize import *\n",
    "from utils.teda import TEDADetect\n",
    "\n",
    "teda_detect = TEDADetect()"
   ]
  },
  {
   "cell_type": "code",
   "execution_count": 18,
   "metadata": {},
   "outputs": [],
   "source": [
    "plot_size = (12, 6)\n",
    "\n",
    "graph_colors = {\n",
    "  \"black\": \"#1F1E1F\",\n",
    "  \"blue\": \"#03A9CE\",\n",
    "}\n",
    "\n",
    "text_colors = {\n",
    "  \"title\": \"#262626\",\n",
    "  \"subtitle\": \"#646464\",\n",
    "}\n",
    "\n",
    "fig_path = \"./figures/\"\n",
    "files_path = \"./files/\"\n",
    "\n",
    "if not os.path.exists(fig_path):\n",
    "    os.makedirs(fig_path)\n",
    "\n",
    "if not os.path.exists(files_path):\n",
    "    os.makedirs(files_path)"
   ]
  },
  {
   "cell_type": "markdown",
   "metadata": {},
   "source": [
    "# 💾 Data Acquisition"
   ]
  },
  {
   "cell_type": "code",
   "execution_count": 19,
   "metadata": {},
   "outputs": [],
   "source": [
    "LGBMRegressor_ethanol_afr = joblib.load(\"./models/LGBMRegressor_ethanol_afr.pkl\")\n",
    "LGBMRegressor_gasoline_afr = joblib.load(\"./models/LGBMRegressor_gasoline_afr.pkl\")"
   ]
  },
  {
   "cell_type": "code",
   "execution_count": 20,
   "metadata": {},
   "outputs": [],
   "source": [
    "XGBRegressor_ethanol_maf = joblib.load(\"./models/XGBRegressor_ethanol_maf.pkl\")\n",
    "XGBRegressor_gasoline_maf = joblib.load(\"./models/XGBRegressor_gasoline_maf.pkl\")"
   ]
  },
  {
   "cell_type": "code",
   "execution_count": 21,
   "metadata": {},
   "outputs": [],
   "source": [
    "data_test_gasoline = pd.read_csv(\"./data/[Gasolina] Trajeto Casa-Escola-UFRN/trackLog-2022-Dec-01_06-43-57_qui.csv\")\n",
    "data_test_ethanol = pd.read_csv(\"./data/[Etanol] Trajeto Casa-Escola-UFRN/trackLog-2023-Feb-13_06-38-49_seg.csv\")"
   ]
  },
  {
   "cell_type": "markdown",
   "metadata": {},
   "source": [
    "# 🧩 Data Modelling"
   ]
  },
  {
   "cell_type": "code",
   "execution_count": 22,
   "metadata": {},
   "outputs": [],
   "source": [
    "SELECTED_COLUMNS = [\n",
    "  \"DeviceTime\",\n",
    "  \"Latitude\",\n",
    "  \"Longitude\",\n",
    "  \"Speed(OBD)(km/h)\",\n",
    "  \"AirFuelRatio(Commanded)(:1)\",\n",
    "  \"MassAirFlowRate(g/s)\",\n",
    "  \"Acceleration\"\n",
    "]"
   ]
  },
  {
   "cell_type": "code",
   "execution_count": 23,
   "metadata": {},
   "outputs": [],
   "source": [
    "data_test_gasoline = data_test_gasoline.iloc[:655]\n",
    "data_test_gasoline = remove_space_in_columns(data_test_gasoline)\n",
    "data_test_gasoline[\"Acceleration\"] = compute_acceleration(data_test_gasoline)\n",
    "data_test_gasoline = filter_columns(data_test_gasoline, SELECTED_COLUMNS)\n",
    "data_test_gasoline[\"CO2Emission(g)\"] = compute_co2(\n",
    "    data_test_gasoline[\"AirFuelRatio(Commanded)(:1)\"],\n",
    "    data_test_gasoline[\"MassAirFlowRate(g/s)\"],\n",
    "    \"gasoline\"\n",
    ")\n",
    "\n",
    "data_test_gasoline.drop(columns=[\"DeviceTime\"], inplace=True)"
   ]
  },
  {
   "cell_type": "code",
   "execution_count": 24,
   "metadata": {},
   "outputs": [],
   "source": [
    "data_test_ethanol = data_test_ethanol.iloc[:747]\n",
    "data_test_ethanol = remove_space_in_columns(data_test_ethanol)\n",
    "data_test_ethanol[\"Acceleration\"] = compute_acceleration(data_test_ethanol)\n",
    "data_test_ethanol = filter_columns(data_test_ethanol, SELECTED_COLUMNS)\n",
    "data_test_ethanol[\"CO2Emission(g)\"] = compute_co2(\n",
    "    data_test_ethanol[\"AirFuelRatio(Commanded)(:1)\"],\n",
    "    data_test_ethanol[\"MassAirFlowRate(g/s)\"],\n",
    "    \"gasoline\"\n",
    ")\n",
    "\n",
    "data_test_ethanol.drop(columns=[\"DeviceTime\"], inplace=True)"
   ]
  },
  {
   "cell_type": "markdown",
   "metadata": {},
   "source": [
    "# Simulation"
   ]
  },
  {
   "cell_type": "code",
   "execution_count": 25,
   "metadata": {},
   "outputs": [],
   "source": [
    "CUSTOM_ROUTE = [\n",
    "    (-35.22074600, -5.820143000),\n",
    "    (-35.21595605, -5.812192060),\n",
    "    (-35.21110018, -5.813623130),\n",
    "    (-35.20746110, -5.804566941),\n",
    "    (-35.20355062, -5.794003606)\n",
    "]"
   ]
  },
  {
   "cell_type": "markdown",
   "metadata": {},
   "source": [
    "## Gasoline"
   ]
  },
  {
   "cell_type": "code",
   "execution_count": 26,
   "metadata": {},
   "outputs": [
    {
     "ename": "FileNotFoundError",
     "evalue": "[WinError 2] O sistema não pode encontrar o arquivo especificado",
     "output_type": "error",
     "traceback": [
      "\u001b[1;31m---------------------------------------------------------------------------\u001b[0m",
      "\u001b[1;31mFileNotFoundError\u001b[0m                         Traceback (most recent call last)",
      "Cell \u001b[1;32mIn[26], line 1\u001b[0m\n\u001b[1;32m----> 1\u001b[0m \u001b[43mtraci\u001b[49m\u001b[38;5;241;43m.\u001b[39;49m\u001b[43mstart\u001b[49m\u001b[43m(\u001b[49m\u001b[43m[\u001b[49m\u001b[38;5;124;43m\"\u001b[39;49m\u001b[38;5;124;43msumo\u001b[39;49m\u001b[38;5;124;43m\"\u001b[39;49m\u001b[43m,\u001b[49m\u001b[43m \u001b[49m\u001b[38;5;124;43m\"\u001b[39;49m\u001b[38;5;124;43m-c\u001b[39;49m\u001b[38;5;124;43m\"\u001b[39;49m\u001b[43m,\u001b[49m\u001b[43m \u001b[49m\u001b[38;5;124;43mf\u001b[39;49m\u001b[38;5;124;43m\"\u001b[39;49m\u001b[38;5;132;43;01m{\u001b[39;49;00m\u001b[43mfiles_path\u001b[49m\u001b[38;5;132;43;01m}\u001b[39;49;00m\u001b[38;5;124;43mosm.sumocfg\u001b[39;49m\u001b[38;5;124;43m\"\u001b[39;49m\u001b[43m]\u001b[49m\u001b[43m,\u001b[49m\u001b[43m \u001b[49m\u001b[43mlabel\u001b[49m\u001b[38;5;241;43m=\u001b[39;49m\u001b[38;5;124;43m\"\u001b[39;49m\u001b[38;5;124;43mMDPI-SIM-GASOLINE\u001b[39;49m\u001b[38;5;124;43m\"\u001b[39;49m\u001b[43m)\u001b[49m\n\u001b[0;32m      3\u001b[0m df \u001b[38;5;241m=\u001b[39m pd\u001b[38;5;241m.\u001b[39mDataFrame()\n\u001b[0;32m      5\u001b[0m edges \u001b[38;5;241m=\u001b[39m [traci\u001b[38;5;241m.\u001b[39msimulation\u001b[38;5;241m.\u001b[39mconvertRoad(\u001b[38;5;241m*\u001b[39mcoord, isGeo\u001b[38;5;241m=\u001b[39m\u001b[38;5;28;01mTrue\u001b[39;00m)[\u001b[38;5;241m0\u001b[39m] \u001b[38;5;28;01mfor\u001b[39;00m coord \u001b[38;5;129;01min\u001b[39;00m CUSTOM_ROUTE]\n",
      "File \u001b[1;32mc:\\Users\\Paulo Eduardo\\miniconda3\\envs\\biofuel_analysis\\Lib\\site-packages\\traci\\main.py:145\u001b[0m, in \u001b[0;36mstart\u001b[1;34m(cmd, port, numRetries, label, verbose, traceFile, traceGetters, stdout, doSwitch)\u001b[0m\n\u001b[0;32m    143\u001b[0m \u001b[38;5;28;01mif\u001b[39;00m verbose:\n\u001b[0;32m    144\u001b[0m     \u001b[38;5;28mprint\u001b[39m(\u001b[38;5;124m\"\u001b[39m\u001b[38;5;124mCalling \u001b[39m\u001b[38;5;124m\"\u001b[39m \u001b[38;5;241m+\u001b[39m \u001b[38;5;124m'\u001b[39m\u001b[38;5;124m \u001b[39m\u001b[38;5;124m'\u001b[39m\u001b[38;5;241m.\u001b[39mjoin(cmd2))\n\u001b[1;32m--> 145\u001b[0m sumoProcess \u001b[38;5;241m=\u001b[39m \u001b[43msubprocess\u001b[49m\u001b[38;5;241;43m.\u001b[39;49m\u001b[43mPopen\u001b[49m\u001b[43m(\u001b[49m\u001b[43mcmd2\u001b[49m\u001b[43m,\u001b[49m\u001b[43m \u001b[49m\u001b[43mstdout\u001b[49m\u001b[38;5;241;43m=\u001b[39;49m\u001b[43mstdout\u001b[49m\u001b[43m)\u001b[49m\n\u001b[0;32m    146\u001b[0m \u001b[38;5;28;01mtry\u001b[39;00m:\n\u001b[0;32m    147\u001b[0m     result \u001b[38;5;241m=\u001b[39m init(sumoPort, numRetries, \u001b[38;5;124m\"\u001b[39m\u001b[38;5;124mlocalhost\u001b[39m\u001b[38;5;124m\"\u001b[39m, label, sumoProcess, doSwitch, traceFile, traceGetters)\n",
      "File \u001b[1;32mc:\\Users\\Paulo Eduardo\\miniconda3\\envs\\biofuel_analysis\\Lib\\subprocess.py:1026\u001b[0m, in \u001b[0;36mPopen.__init__\u001b[1;34m(self, args, bufsize, executable, stdin, stdout, stderr, preexec_fn, close_fds, shell, cwd, env, universal_newlines, startupinfo, creationflags, restore_signals, start_new_session, pass_fds, user, group, extra_groups, encoding, errors, text, umask, pipesize, process_group)\u001b[0m\n\u001b[0;32m   1022\u001b[0m         \u001b[38;5;28;01mif\u001b[39;00m \u001b[38;5;28mself\u001b[39m\u001b[38;5;241m.\u001b[39mtext_mode:\n\u001b[0;32m   1023\u001b[0m             \u001b[38;5;28mself\u001b[39m\u001b[38;5;241m.\u001b[39mstderr \u001b[38;5;241m=\u001b[39m io\u001b[38;5;241m.\u001b[39mTextIOWrapper(\u001b[38;5;28mself\u001b[39m\u001b[38;5;241m.\u001b[39mstderr,\n\u001b[0;32m   1024\u001b[0m                     encoding\u001b[38;5;241m=\u001b[39mencoding, errors\u001b[38;5;241m=\u001b[39merrors)\n\u001b[1;32m-> 1026\u001b[0m     \u001b[38;5;28;43mself\u001b[39;49m\u001b[38;5;241;43m.\u001b[39;49m\u001b[43m_execute_child\u001b[49m\u001b[43m(\u001b[49m\u001b[43margs\u001b[49m\u001b[43m,\u001b[49m\u001b[43m \u001b[49m\u001b[43mexecutable\u001b[49m\u001b[43m,\u001b[49m\u001b[43m \u001b[49m\u001b[43mpreexec_fn\u001b[49m\u001b[43m,\u001b[49m\u001b[43m \u001b[49m\u001b[43mclose_fds\u001b[49m\u001b[43m,\u001b[49m\n\u001b[0;32m   1027\u001b[0m \u001b[43m                        \u001b[49m\u001b[43mpass_fds\u001b[49m\u001b[43m,\u001b[49m\u001b[43m \u001b[49m\u001b[43mcwd\u001b[49m\u001b[43m,\u001b[49m\u001b[43m \u001b[49m\u001b[43menv\u001b[49m\u001b[43m,\u001b[49m\n\u001b[0;32m   1028\u001b[0m \u001b[43m                        \u001b[49m\u001b[43mstartupinfo\u001b[49m\u001b[43m,\u001b[49m\u001b[43m \u001b[49m\u001b[43mcreationflags\u001b[49m\u001b[43m,\u001b[49m\u001b[43m \u001b[49m\u001b[43mshell\u001b[49m\u001b[43m,\u001b[49m\n\u001b[0;32m   1029\u001b[0m \u001b[43m                        \u001b[49m\u001b[43mp2cread\u001b[49m\u001b[43m,\u001b[49m\u001b[43m \u001b[49m\u001b[43mp2cwrite\u001b[49m\u001b[43m,\u001b[49m\n\u001b[0;32m   1030\u001b[0m \u001b[43m                        \u001b[49m\u001b[43mc2pread\u001b[49m\u001b[43m,\u001b[49m\u001b[43m \u001b[49m\u001b[43mc2pwrite\u001b[49m\u001b[43m,\u001b[49m\n\u001b[0;32m   1031\u001b[0m \u001b[43m                        \u001b[49m\u001b[43merrread\u001b[49m\u001b[43m,\u001b[49m\u001b[43m \u001b[49m\u001b[43merrwrite\u001b[49m\u001b[43m,\u001b[49m\n\u001b[0;32m   1032\u001b[0m \u001b[43m                        \u001b[49m\u001b[43mrestore_signals\u001b[49m\u001b[43m,\u001b[49m\n\u001b[0;32m   1033\u001b[0m \u001b[43m                        \u001b[49m\u001b[43mgid\u001b[49m\u001b[43m,\u001b[49m\u001b[43m \u001b[49m\u001b[43mgids\u001b[49m\u001b[43m,\u001b[49m\u001b[43m \u001b[49m\u001b[43muid\u001b[49m\u001b[43m,\u001b[49m\u001b[43m \u001b[49m\u001b[43mumask\u001b[49m\u001b[43m,\u001b[49m\n\u001b[0;32m   1034\u001b[0m \u001b[43m                        \u001b[49m\u001b[43mstart_new_session\u001b[49m\u001b[43m,\u001b[49m\u001b[43m \u001b[49m\u001b[43mprocess_group\u001b[49m\u001b[43m)\u001b[49m\n\u001b[0;32m   1035\u001b[0m \u001b[38;5;28;01mexcept\u001b[39;00m:\n\u001b[0;32m   1036\u001b[0m     \u001b[38;5;66;03m# Cleanup if the child failed starting.\u001b[39;00m\n\u001b[0;32m   1037\u001b[0m     \u001b[38;5;28;01mfor\u001b[39;00m f \u001b[38;5;129;01min\u001b[39;00m \u001b[38;5;28mfilter\u001b[39m(\u001b[38;5;28;01mNone\u001b[39;00m, (\u001b[38;5;28mself\u001b[39m\u001b[38;5;241m.\u001b[39mstdin, \u001b[38;5;28mself\u001b[39m\u001b[38;5;241m.\u001b[39mstdout, \u001b[38;5;28mself\u001b[39m\u001b[38;5;241m.\u001b[39mstderr)):\n",
      "File \u001b[1;32mc:\\Users\\Paulo Eduardo\\miniconda3\\envs\\biofuel_analysis\\Lib\\subprocess.py:1538\u001b[0m, in \u001b[0;36mPopen._execute_child\u001b[1;34m(self, args, executable, preexec_fn, close_fds, pass_fds, cwd, env, startupinfo, creationflags, shell, p2cread, p2cwrite, c2pread, c2pwrite, errread, errwrite, unused_restore_signals, unused_gid, unused_gids, unused_uid, unused_umask, unused_start_new_session, unused_process_group)\u001b[0m\n\u001b[0;32m   1536\u001b[0m \u001b[38;5;66;03m# Start the process\u001b[39;00m\n\u001b[0;32m   1537\u001b[0m \u001b[38;5;28;01mtry\u001b[39;00m:\n\u001b[1;32m-> 1538\u001b[0m     hp, ht, pid, tid \u001b[38;5;241m=\u001b[39m \u001b[43m_winapi\u001b[49m\u001b[38;5;241;43m.\u001b[39;49m\u001b[43mCreateProcess\u001b[49m\u001b[43m(\u001b[49m\u001b[43mexecutable\u001b[49m\u001b[43m,\u001b[49m\u001b[43m \u001b[49m\u001b[43margs\u001b[49m\u001b[43m,\u001b[49m\n\u001b[0;32m   1539\u001b[0m \u001b[43m                             \u001b[49m\u001b[38;5;66;43;03m# no special security\u001b[39;49;00m\n\u001b[0;32m   1540\u001b[0m \u001b[43m                             \u001b[49m\u001b[38;5;28;43;01mNone\u001b[39;49;00m\u001b[43m,\u001b[49m\u001b[43m \u001b[49m\u001b[38;5;28;43;01mNone\u001b[39;49;00m\u001b[43m,\u001b[49m\n\u001b[0;32m   1541\u001b[0m \u001b[43m                             \u001b[49m\u001b[38;5;28;43mint\u001b[39;49m\u001b[43m(\u001b[49m\u001b[38;5;129;43;01mnot\u001b[39;49;00m\u001b[43m \u001b[49m\u001b[43mclose_fds\u001b[49m\u001b[43m)\u001b[49m\u001b[43m,\u001b[49m\n\u001b[0;32m   1542\u001b[0m \u001b[43m                             \u001b[49m\u001b[43mcreationflags\u001b[49m\u001b[43m,\u001b[49m\n\u001b[0;32m   1543\u001b[0m \u001b[43m                             \u001b[49m\u001b[43menv\u001b[49m\u001b[43m,\u001b[49m\n\u001b[0;32m   1544\u001b[0m \u001b[43m                             \u001b[49m\u001b[43mcwd\u001b[49m\u001b[43m,\u001b[49m\n\u001b[0;32m   1545\u001b[0m \u001b[43m                             \u001b[49m\u001b[43mstartupinfo\u001b[49m\u001b[43m)\u001b[49m\n\u001b[0;32m   1546\u001b[0m \u001b[38;5;28;01mfinally\u001b[39;00m:\n\u001b[0;32m   1547\u001b[0m     \u001b[38;5;66;03m# Child is launched. Close the parent's copy of those pipe\u001b[39;00m\n\u001b[0;32m   1548\u001b[0m     \u001b[38;5;66;03m# handles that only the child should have open.  You need\u001b[39;00m\n\u001b[1;32m   (...)\u001b[0m\n\u001b[0;32m   1551\u001b[0m     \u001b[38;5;66;03m# pipe will not close when the child process exits and the\u001b[39;00m\n\u001b[0;32m   1552\u001b[0m     \u001b[38;5;66;03m# ReadFile will hang.\u001b[39;00m\n\u001b[0;32m   1553\u001b[0m     \u001b[38;5;28mself\u001b[39m\u001b[38;5;241m.\u001b[39m_close_pipe_fds(p2cread, p2cwrite,\n\u001b[0;32m   1554\u001b[0m                          c2pread, c2pwrite,\n\u001b[0;32m   1555\u001b[0m                          errread, errwrite)\n",
      "\u001b[1;31mFileNotFoundError\u001b[0m: [WinError 2] O sistema não pode encontrar o arquivo especificado"
     ]
    }
   ],
   "source": [
    "traci.start([\"sumo\", \"-c\", f\"{files_path}osm.sumocfg\"], label=\"MDPI-SIM-GASOLINE\")\n",
    "\n",
    "df = pd.DataFrame()\n",
    "\n",
    "edges = [traci.simulation.convertRoad(*coord, isGeo=True)[0] for coord in CUSTOM_ROUTE]\n",
    "\n",
    "route = []\n",
    "\n",
    "for i in range(len(edges) - 1):\n",
    "    route += traci.simulation.findRoute(edges[i], edges[i + 1]).edges\n",
    "\n",
    "traci.route.add(\"trip\", route)\n",
    "traci.vehicle.add(\"vehTest\", \"trip\")\n",
    "\n",
    "while traci.simulation.getMinExpectedNumber() > 0:\n",
    "    traci.simulationStep()\n",
    "\n",
    "    for veh in traci.vehicle.getIDList():\n",
    "        x, y = traci.vehicle.getPosition(veh)\n",
    "        lon, lat = traci.simulation.convertGeo(x, y)\n",
    "\n",
    "        simulation_time = traci.simulation.getTime()\n",
    "        veh_id = veh\n",
    "        speed = traci.vehicle.getSpeed(veh) * 3.6\n",
    "        acceleration = traci.vehicle.getAcceleration(veh)\n",
    "        distance = traci.vehicle.getDistance(veh)\n",
    "        fuel_consumption = traci.vehicle.getFuelConsumption(veh)\n",
    "        eletric_energy_consumption = traci.vehicle.getElectricityConsumption(veh)\n",
    "        noise_emission = traci.vehicle.getNoiseEmission(veh)\n",
    "\n",
    "        co2_emission = compute_co2(\n",
    "            LGBMRegressor_gasoline_afr.predict([[lat, lon, speed, acceleration]])[0],\n",
    "            XGBRegressor_gasoline_maf.predict([[lat, lon, speed, acceleration]])[0],\n",
    "            fuel_type=\"gasoline\"\n",
    "        )\n",
    "\n",
    "        df = pd.concat(\n",
    "            [\n",
    "                df,\n",
    "                pd.DataFrame({\n",
    "                    \"SimulationTime(s)\": simulation_time,\n",
    "                    \"VehicleID\": veh_id,\n",
    "                    \"Speed(km/h)\": speed,\n",
    "                    \"Acceleration(m/s^2)\": acceleration,\n",
    "                    \"Distance(odometer)\": distance,\n",
    "                    \"Latitude\": lat,\n",
    "                    \"Longitude\": lon,\n",
    "                    \"FuelConsumption(mg/s)\": fuel_consumption,\n",
    "                    \"EletricEnergyConsumption(Wh/s)\": eletric_energy_consumption,\n",
    "                    \"NoiseEmission(dB)\": noise_emission,\n",
    "                    \"CO2Emission(g)\": co2_emission\n",
    "                }, index=[0])\n",
    "            ]\n",
    "        )\n",
    "\n",
    "df.to_csv(f\"{files_path}vehicle_gasoline.csv\", index=False)\n",
    "traci.close()"
   ]
  },
  {
   "cell_type": "markdown",
   "metadata": {},
   "source": [
    "## Ethanol"
   ]
  },
  {
   "cell_type": "code",
   "execution_count": null,
   "metadata": {},
   "outputs": [],
   "source": [
    "traci.start([\"sumo\", \"-c\", f\"{files_path}osm.sumocfg\"], label=\"MDPI-SIM-ETHANOL\")\n",
    "\n",
    "df = pd.DataFrame()\n",
    "\n",
    "edges = [traci.simulation.convertRoad(*coord, isGeo=True)[0] for coord in CUSTOM_ROUTE]\n",
    "\n",
    "route = []\n",
    "\n",
    "for i in range(len(edges) - 1):\n",
    "    route += traci.simulation.findRoute(edges[i], edges[i + 1]).edges\n",
    "\n",
    "traci.route.add(\"trip\", list(route))\n",
    "traci.vehicle.add(\"vehTest\", \"trip\")\n",
    "\n",
    "while traci.simulation.getMinExpectedNumber() > 0:\n",
    "    traci.simulationStep()\n",
    "\n",
    "    for veh in traci.vehicle.getIDList():\n",
    "        x, y = traci.vehicle.getPosition(veh)\n",
    "        lon, lat = traci.simulation.convertGeo(x, y)\n",
    "\n",
    "        simulation_time = traci.simulation.getTime()\n",
    "        veh_id = veh\n",
    "        speed = traci.vehicle.getSpeed(veh) * 3.6\n",
    "        acceleration = traci.vehicle.getAcceleration(veh)\n",
    "        distance = traci.vehicle.getDistance(veh)\n",
    "        fuel_consumption = traci.vehicle.getFuelConsumption(veh)\n",
    "        eletric_energy_consumption = traci.vehicle.getElectricityConsumption(veh)\n",
    "        noise_emission = traci.vehicle.getNoiseEmission(veh)\n",
    "\n",
    "        co2_emission = compute_co2(\n",
    "            LGBMRegressor_ethanol_afr.predict([[lat, lon, speed, acceleration]])[0],\n",
    "            XGBRegressor_ethanol_maf.predict([[lat, lon, speed, acceleration]])[0],\n",
    "            fuel_type=\"ethanol\"\n",
    "        )\n",
    "\n",
    "        df = pd.concat(\n",
    "            [\n",
    "                df,\n",
    "                pd.DataFrame({\n",
    "                    \"SimulationTime(s)\": simulation_time,\n",
    "                    \"VehicleID\": veh_id,\n",
    "                    \"Speed(km/h)\": speed,\n",
    "                    \"Acceleration(m/s^2)\": acceleration,\n",
    "                    \"Distance(odometer)\": distance,\n",
    "                    \"Latitude\": lat,\n",
    "                    \"Longitude\": lon,\n",
    "                    \"FuelConsumption(mg/s)\": fuel_consumption,\n",
    "                    \"EletricEnergyConsumption(Wh/s)\": eletric_energy_consumption,\n",
    "                    \"NoiseEmission(dB)\": noise_emission,\n",
    "                    \"CO2Emission(g)\": co2_emission\n",
    "                }, index=[0])\n",
    "            ]\n",
    "        )\n",
    "\n",
    "df.to_csv(f\"{files_path}vehicle_ethanol.csv\", index=False)\n",
    "traci.close()"
   ]
  },
  {
   "cell_type": "markdown",
   "metadata": {},
   "source": [
    "# Data Analysis and Visualization"
   ]
  },
  {
   "cell_type": "code",
   "execution_count": null,
   "metadata": {},
   "outputs": [],
   "source": [
    "df_gasoline = pd.read_csv(f\"{files_path}vehicle_gasoline.csv\")\n",
    "df_ethanol = pd.read_csv(f\"{files_path}vehicle_ethanol.csv\")"
   ]
  },
  {
   "cell_type": "code",
   "execution_count": null,
   "metadata": {},
   "outputs": [],
   "source": [
    "fig, ax = plt.subplots(figsize=plot_size)\n",
    "\n",
    "ax.spines[\"right\"].set_visible(False)\n",
    "ax.spines[\"top\"].set_visible(False)\n",
    "\n",
    "ax.set_ylabel(\"CO₂ (g)\", fontsize=14)\n",
    "ax.set_xlabel(\"Time (s)\", fontsize=14)\n",
    "\n",
    "plt.xticks(rotation=0, ha=\"left\")\n",
    "\n",
    "ax.plot(df_gasoline[\"CO2Emission(g)\"], label=\"Gasoline\", color=graph_colors[\"black\"])\n",
    "ax.plot(df_ethanol[\"CO2Emission(g)\"], label=\"Ethanol\", color=graph_colors[\"blue\"])\n",
    "\n",
    "# plt.text(0, 4.9, \"CO₂ (g/s) - Simulated\", fontsize=18, color=text_colors[\"title\"], weight=\"bold\")\n",
    "# plt.text(0, 4.7, \"Comparative between the simulated emissions of Gasoline and Ethanol\", fontsize=14, color=text_colors[\"subtitle\"])\n",
    "\n",
    "ax.legend(loc=\"upper center\").set_frame_on(False)\n",
    "\n",
    "plt.tight_layout()\n",
    "plt.savefig(f\"{fig_path}sumo_gasoline_vs_ethanol_co2.png\")\n",
    "plt.show()"
   ]
  },
  {
   "cell_type": "code",
   "execution_count": null,
   "metadata": {},
   "outputs": [],
   "source": [
    "cumsum_gasoline = df_gasoline[\"CO2Emission(g)\"].cumsum()\n",
    "cumsum_ethanol = df_ethanol[\"CO2Emission(g)\"].cumsum()"
   ]
  },
  {
   "cell_type": "code",
   "execution_count": null,
   "metadata": {},
   "outputs": [],
   "source": [
    "fig, ax = plt.subplots(figsize=plot_size)\n",
    "\n",
    "ax.spines[\"right\"].set_visible(False)\n",
    "ax.spines[\"top\"].set_visible(False)\n",
    "\n",
    "ax.set_ylabel(\"CO₂ (g)\", fontsize=14)\n",
    "ax.set_xlabel(\"Sample\", fontsize=14)\n",
    "\n",
    "plt.xticks(rotation=0, ha=\"left\")\n",
    "\n",
    "ax.plot(cumsum_gasoline, label=\"Gasoline\", color=graph_colors[\"black\"])\n",
    "ax.plot(cumsum_ethanol, label=\"Ethanol\", color=graph_colors[\"blue\"])\n",
    "\n",
    "# plt.text(0, 1300, \"CO₂ (g) - Simulated Cumulative Sum\", fontsize=18, color=text_colors[\"title\"], weight=\"bold\")\n",
    "# plt.text(0, 1250, \"Comparative between the cumulative sum of Gasoline and Ethanol emissions\", fontsize=14, color=text_colors[\"subtitle\"])\n",
    "\n",
    "plt.text(1270, cumsum_gasoline.iloc[-1], \"Gasoline\", weight=\"bold\", color=graph_colors[\"black\"])\n",
    "plt.text(1270, cumsum_ethanol.iloc[-1], \"Ethanol\", weight=\"bold\", color=graph_colors[\"blue\"])\n",
    "\n",
    "plt.tight_layout()\n",
    "plt.savefig(f\"{fig_path}simulated_cumsum_co2.png\")\n",
    "plt.show()"
   ]
  },
  {
   "cell_type": "markdown",
   "metadata": {},
   "source": [
    "## Map Plotting"
   ]
  },
  {
   "cell_type": "code",
   "execution_count": null,
   "metadata": {},
   "outputs": [],
   "source": [
    "co2_colors = {\n",
    "  \"#fdff7d\": 1.0,\n",
    "  \"#fcff33\": 2.0,\n",
    "  \"#ffd333\": 3.0,\n",
    "  \"#fab00f\": 4.0,\n",
    "  \"#fa6d0f\": 5.0,\n",
    "  \"#ff523b\": 6.0\n",
    "}"
   ]
  },
  {
   "cell_type": "markdown",
   "metadata": {},
   "source": [
    "### Gasoline"
   ]
  },
  {
   "cell_type": "code",
   "execution_count": null,
   "metadata": {},
   "outputs": [],
   "source": [
    "route_map_gasoline = routeplot(data_test_gasoline, \"CO2Emission(g)\", color_list=co2_colors)\n",
    "\n",
    "route_map_gasoline"
   ]
  },
  {
   "cell_type": "code",
   "execution_count": null,
   "metadata": {},
   "outputs": [],
   "source": [
    "route_map_gasoline = routeplot(df_gasoline, \"CO2Emission(g)\", color_list=co2_colors)\n",
    "\n",
    "route_map_gasoline"
   ]
  },
  {
   "cell_type": "markdown",
   "metadata": {},
   "source": [
    "### Ethanol"
   ]
  },
  {
   "cell_type": "code",
   "execution_count": null,
   "metadata": {},
   "outputs": [],
   "source": [
    "route_map_gasoline = routeplot(data_test_ethanol, \"CO2Emission(g)\", color_list=co2_colors)\n",
    "\n",
    "route_map_gasoline"
   ]
  },
  {
   "cell_type": "code",
   "execution_count": null,
   "metadata": {},
   "outputs": [],
   "source": [
    "route_map_ethanol = routeplot(df_ethanol, \"CO2Emission(g)\", color_list=co2_colors)\n",
    "\n",
    "route_map_ethanol"
   ]
  }
 ],
 "metadata": {
  "kernelspec": {
   "display_name": "biofuel_analysis",
   "language": "python",
   "name": "python3"
  },
  "language_info": {
   "codemirror_mode": {
    "name": "ipython",
    "version": 3
   },
   "file_extension": ".py",
   "mimetype": "text/x-python",
   "name": "python",
   "nbconvert_exporter": "python",
   "pygments_lexer": "ipython3",
   "version": "3.11.9"
  }
 },
 "nbformat": 4,
 "nbformat_minor": 2
}

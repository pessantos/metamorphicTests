{
 "cells": [
  {
   "cell_type": "code",
   "execution_count": 4,
   "id": "f1e939cb",
   "metadata": {},
   "outputs": [
    {
     "name": "stdout",
     "output_type": "stream",
     "text": [
      "Arquivos de dados carregados com sucesso.\n",
      "Modelos de IA carregados com sucesso.\n",
      "================================================================================\n",
      "INICIANDO EXECUÇÃO DOS TESTES DE NÍVEL 3\n",
      "================================================================================\n",
      "\n",
      "================================================================================\n",
      "🔁 CT_N3_012: [Composta] - Simular Subida Íngreme (ETHANOL)\n",
      "--------------------------------------------------------------------------------\n",
      "Diferença Média: 0.4546 | Diferença Máxima: 1.5340 | RMSE: 0.5474 | Desvio Padrão (Std): 0.3049\n"
     ]
    },
    {
     "data": {
      "text/html": [
       "<style type=\"text/css\">\n",
       "</style>\n",
       "<table id=\"T_8b038\">\n",
       "  <caption>Comparação dos dados - CT_N3_012: [Composta] - Simular Subida Íngreme (ETHANOL)</caption>\n",
       "  <thead>\n",
       "    <tr>\n",
       "      <th class=\"blank level0\" >&nbsp;</th>\n",
       "      <th id=\"T_8b038_level0_col0\" class=\"col_heading level0 col0\" >Latitude_Orig</th>\n",
       "      <th id=\"T_8b038_level0_col1\" class=\"col_heading level0 col1\" >Longitude_Orig</th>\n",
       "      <th id=\"T_8b038_level0_col2\" class=\"col_heading level0 col2\" >Speed(OBD)(km/h)_Orig</th>\n",
       "      <th id=\"T_8b038_level0_col3\" class=\"col_heading level0 col3\" >Acceleration_Orig</th>\n",
       "      <th id=\"T_8b038_level0_col4\" class=\"col_heading level0 col4\" > </th>\n",
       "      <th id=\"T_8b038_level0_col5\" class=\"col_heading level0 col5\" >Latitude_Mod</th>\n",
       "      <th id=\"T_8b038_level0_col6\" class=\"col_heading level0 col6\" >Longitude_Mod</th>\n",
       "      <th id=\"T_8b038_level0_col7\" class=\"col_heading level0 col7\" >Speed(OBD)(km/h)_Mod</th>\n",
       "      <th id=\"T_8b038_level0_col8\" class=\"col_heading level0 col8\" >Acceleration_Mod</th>\n",
       "      <th id=\"T_8b038_level0_col9\" class=\"col_heading level0 col9\" > </th>\n",
       "      <th id=\"T_8b038_level0_col10\" class=\"col_heading level0 col10\" >CO₂_Real</th>\n",
       "      <th id=\"T_8b038_level0_col11\" class=\"col_heading level0 col11\" >CO₂_Pred_Orig</th>\n",
       "      <th id=\"T_8b038_level0_col12\" class=\"col_heading level0 col12\" >CO₂_Pred_Mod</th>\n",
       "    </tr>\n",
       "  </thead>\n",
       "  <tbody>\n",
       "    <tr>\n",
       "      <th id=\"T_8b038_level0_row0\" class=\"row_heading level0 row0\" >0</th>\n",
       "      <td id=\"T_8b038_row0_col0\" class=\"data row0 col0\" >-5.820105</td>\n",
       "      <td id=\"T_8b038_row0_col1\" class=\"data row0 col1\" >-35.220818</td>\n",
       "      <td id=\"T_8b038_row0_col2\" class=\"data row0 col2\" >3</td>\n",
       "      <td id=\"T_8b038_row0_col3\" class=\"data row0 col3\" >0.000000</td>\n",
       "      <td id=\"T_8b038_row0_col4\" class=\"data row0 col4\" >→</td>\n",
       "      <td id=\"T_8b038_row0_col5\" class=\"data row0 col5\" >-5.820105</td>\n",
       "      <td id=\"T_8b038_row0_col6\" class=\"data row0 col6\" >-35.220818</td>\n",
       "      <td id=\"T_8b038_row0_col7\" class=\"data row0 col7\" >40.000000</td>\n",
       "      <td id=\"T_8b038_row0_col8\" class=\"data row0 col8\" >1.500000</td>\n",
       "      <td id=\"T_8b038_row0_col9\" class=\"data row0 col9\" > </td>\n",
       "      <td id=\"T_8b038_row0_col10\" class=\"data row0 col10\" >0.642839</td>\n",
       "      <td id=\"T_8b038_row0_col11\" class=\"data row0 col11\" >0.742631</td>\n",
       "      <td id=\"T_8b038_row0_col12\" class=\"data row0 col12\" >1.183137</td>\n",
       "    </tr>\n",
       "    <tr>\n",
       "      <th id=\"T_8b038_level0_row1\" class=\"row_heading level0 row1\" >1</th>\n",
       "      <td id=\"T_8b038_row1_col0\" class=\"data row1 col0\" >-5.820103</td>\n",
       "      <td id=\"T_8b038_row1_col1\" class=\"data row1 col1\" >-35.220828</td>\n",
       "      <td id=\"T_8b038_row1_col2\" class=\"data row1 col2\" >5</td>\n",
       "      <td id=\"T_8b038_row1_col3\" class=\"data row1 col3\" >0.555556</td>\n",
       "      <td id=\"T_8b038_row1_col4\" class=\"data row1 col4\" >→</td>\n",
       "      <td id=\"T_8b038_row1_col5\" class=\"data row1 col5\" >-5.820103</td>\n",
       "      <td id=\"T_8b038_row1_col6\" class=\"data row1 col6\" >-35.220828</td>\n",
       "      <td id=\"T_8b038_row1_col7\" class=\"data row1 col7\" >40.000000</td>\n",
       "      <td id=\"T_8b038_row1_col8\" class=\"data row1 col8\" >1.500000</td>\n",
       "      <td id=\"T_8b038_row1_col9\" class=\"data row1 col9\" > </td>\n",
       "      <td id=\"T_8b038_row1_col10\" class=\"data row1 col10\" >0.653249</td>\n",
       "      <td id=\"T_8b038_row1_col11\" class=\"data row1 col11\" >0.771505</td>\n",
       "      <td id=\"T_8b038_row1_col12\" class=\"data row1 col12\" >1.183137</td>\n",
       "    </tr>\n",
       "    <tr>\n",
       "      <th id=\"T_8b038_level0_row2\" class=\"row_heading level0 row2\" >2</th>\n",
       "      <td id=\"T_8b038_row2_col0\" class=\"data row2 col0\" >-5.820102</td>\n",
       "      <td id=\"T_8b038_row2_col1\" class=\"data row2 col1\" >-35.220838</td>\n",
       "      <td id=\"T_8b038_row2_col2\" class=\"data row2 col2\" >5</td>\n",
       "      <td id=\"T_8b038_row2_col3\" class=\"data row2 col3\" >0.000000</td>\n",
       "      <td id=\"T_8b038_row2_col4\" class=\"data row2 col4\" >→</td>\n",
       "      <td id=\"T_8b038_row2_col5\" class=\"data row2 col5\" >-5.820102</td>\n",
       "      <td id=\"T_8b038_row2_col6\" class=\"data row2 col6\" >-35.220838</td>\n",
       "      <td id=\"T_8b038_row2_col7\" class=\"data row2 col7\" >40.000000</td>\n",
       "      <td id=\"T_8b038_row2_col8\" class=\"data row2 col8\" >1.500000</td>\n",
       "      <td id=\"T_8b038_row2_col9\" class=\"data row2 col9\" > </td>\n",
       "      <td id=\"T_8b038_row2_col10\" class=\"data row2 col10\" >0.653249</td>\n",
       "      <td id=\"T_8b038_row2_col11\" class=\"data row2 col11\" >0.771505</td>\n",
       "      <td id=\"T_8b038_row2_col12\" class=\"data row2 col12\" >1.183137</td>\n",
       "    </tr>\n",
       "    <tr>\n",
       "      <th id=\"T_8b038_level0_row3\" class=\"row_heading level0 row3\" >3</th>\n",
       "      <td id=\"T_8b038_row3_col0\" class=\"data row3 col0\" >-5.820096</td>\n",
       "      <td id=\"T_8b038_row3_col1\" class=\"data row3 col1\" >-35.220843</td>\n",
       "      <td id=\"T_8b038_row3_col2\" class=\"data row3 col2\" >3</td>\n",
       "      <td id=\"T_8b038_row3_col3\" class=\"data row3 col3\" >-0.555556</td>\n",
       "      <td id=\"T_8b038_row3_col4\" class=\"data row3 col4\" >→</td>\n",
       "      <td id=\"T_8b038_row3_col5\" class=\"data row3 col5\" >-5.820096</td>\n",
       "      <td id=\"T_8b038_row3_col6\" class=\"data row3 col6\" >-35.220843</td>\n",
       "      <td id=\"T_8b038_row3_col7\" class=\"data row3 col7\" >40.000000</td>\n",
       "      <td id=\"T_8b038_row3_col8\" class=\"data row3 col8\" >1.500000</td>\n",
       "      <td id=\"T_8b038_row3_col9\" class=\"data row3 col9\" > </td>\n",
       "      <td id=\"T_8b038_row3_col10\" class=\"data row3 col10\" >0.679275</td>\n",
       "      <td id=\"T_8b038_row3_col11\" class=\"data row3 col11\" >0.659013</td>\n",
       "      <td id=\"T_8b038_row3_col12\" class=\"data row3 col12\" >1.183137</td>\n",
       "    </tr>\n",
       "    <tr>\n",
       "      <th id=\"T_8b038_level0_row4\" class=\"row_heading level0 row4\" >4</th>\n",
       "      <td id=\"T_8b038_row4_col0\" class=\"data row4 col0\" >-5.820091</td>\n",
       "      <td id=\"T_8b038_row4_col1\" class=\"data row4 col1\" >-35.220850</td>\n",
       "      <td id=\"T_8b038_row4_col2\" class=\"data row4 col2\" >0</td>\n",
       "      <td id=\"T_8b038_row4_col3\" class=\"data row4 col3\" >-0.833333</td>\n",
       "      <td id=\"T_8b038_row4_col4\" class=\"data row4 col4\" >→</td>\n",
       "      <td id=\"T_8b038_row4_col5\" class=\"data row4 col5\" >-5.820091</td>\n",
       "      <td id=\"T_8b038_row4_col6\" class=\"data row4 col6\" >-35.220850</td>\n",
       "      <td id=\"T_8b038_row4_col7\" class=\"data row4 col7\" >40.000000</td>\n",
       "      <td id=\"T_8b038_row4_col8\" class=\"data row4 col8\" >1.500000</td>\n",
       "      <td id=\"T_8b038_row4_col9\" class=\"data row4 col9\" > </td>\n",
       "      <td id=\"T_8b038_row4_col10\" class=\"data row4 col10\" >0.610306</td>\n",
       "      <td id=\"T_8b038_row4_col11\" class=\"data row4 col11\" >0.667689</td>\n",
       "      <td id=\"T_8b038_row4_col12\" class=\"data row4 col12\" >1.184775</td>\n",
       "    </tr>\n",
       "    <tr>\n",
       "      <th id=\"T_8b038_level0_row5\" class=\"row_heading level0 row5\" >5</th>\n",
       "      <td id=\"T_8b038_row5_col0\" class=\"data row5 col0\" >-5.820091</td>\n",
       "      <td id=\"T_8b038_row5_col1\" class=\"data row5 col1\" >-35.220850</td>\n",
       "      <td id=\"T_8b038_row5_col2\" class=\"data row5 col2\" >0</td>\n",
       "      <td id=\"T_8b038_row5_col3\" class=\"data row5 col3\" >0.000000</td>\n",
       "      <td id=\"T_8b038_row5_col4\" class=\"data row5 col4\" >→</td>\n",
       "      <td id=\"T_8b038_row5_col5\" class=\"data row5 col5\" >-5.820091</td>\n",
       "      <td id=\"T_8b038_row5_col6\" class=\"data row5 col6\" >-35.220850</td>\n",
       "      <td id=\"T_8b038_row5_col7\" class=\"data row5 col7\" >40.000000</td>\n",
       "      <td id=\"T_8b038_row5_col8\" class=\"data row5 col8\" >1.500000</td>\n",
       "      <td id=\"T_8b038_row5_col9\" class=\"data row5 col9\" > </td>\n",
       "      <td id=\"T_8b038_row5_col10\" class=\"data row5 col10\" >0.610306</td>\n",
       "      <td id=\"T_8b038_row5_col11\" class=\"data row5 col11\" >0.706858</td>\n",
       "      <td id=\"T_8b038_row5_col12\" class=\"data row5 col12\" >1.184775</td>\n",
       "    </tr>\n",
       "    <tr>\n",
       "      <th id=\"T_8b038_level0_row6\" class=\"row_heading level0 row6\" >6</th>\n",
       "      <td id=\"T_8b038_row6_col0\" class=\"data row6 col0\" >-5.820091</td>\n",
       "      <td id=\"T_8b038_row6_col1\" class=\"data row6 col1\" >-35.220850</td>\n",
       "      <td id=\"T_8b038_row6_col2\" class=\"data row6 col2\" >0</td>\n",
       "      <td id=\"T_8b038_row6_col3\" class=\"data row6 col3\" >0.000000</td>\n",
       "      <td id=\"T_8b038_row6_col4\" class=\"data row6 col4\" >→</td>\n",
       "      <td id=\"T_8b038_row6_col5\" class=\"data row6 col5\" >-5.820091</td>\n",
       "      <td id=\"T_8b038_row6_col6\" class=\"data row6 col6\" >-35.220850</td>\n",
       "      <td id=\"T_8b038_row6_col7\" class=\"data row6 col7\" >40.000000</td>\n",
       "      <td id=\"T_8b038_row6_col8\" class=\"data row6 col8\" >1.500000</td>\n",
       "      <td id=\"T_8b038_row6_col9\" class=\"data row6 col9\" > </td>\n",
       "      <td id=\"T_8b038_row6_col10\" class=\"data row6 col10\" >0.490587</td>\n",
       "      <td id=\"T_8b038_row6_col11\" class=\"data row6 col11\" >0.706858</td>\n",
       "      <td id=\"T_8b038_row6_col12\" class=\"data row6 col12\" >1.184775</td>\n",
       "    </tr>\n",
       "    <tr>\n",
       "      <th id=\"T_8b038_level0_row7\" class=\"row_heading level0 row7\" >7</th>\n",
       "      <td id=\"T_8b038_row7_col0\" class=\"data row7 col0\" >-5.820085</td>\n",
       "      <td id=\"T_8b038_row7_col1\" class=\"data row7 col1\" >-35.220856</td>\n",
       "      <td id=\"T_8b038_row7_col2\" class=\"data row7 col2\" >3</td>\n",
       "      <td id=\"T_8b038_row7_col3\" class=\"data row7 col3\" >0.833333</td>\n",
       "      <td id=\"T_8b038_row7_col4\" class=\"data row7 col4\" >→</td>\n",
       "      <td id=\"T_8b038_row7_col5\" class=\"data row7 col5\" >-5.820085</td>\n",
       "      <td id=\"T_8b038_row7_col6\" class=\"data row7 col6\" >-35.220856</td>\n",
       "      <td id=\"T_8b038_row7_col7\" class=\"data row7 col7\" >40.000000</td>\n",
       "      <td id=\"T_8b038_row7_col8\" class=\"data row7 col8\" >1.500000</td>\n",
       "      <td id=\"T_8b038_row7_col9\" class=\"data row7 col9\" > </td>\n",
       "      <td id=\"T_8b038_row7_col10\" class=\"data row7 col10\" >1.090483</td>\n",
       "      <td id=\"T_8b038_row7_col11\" class=\"data row7 col11\" >1.137803</td>\n",
       "      <td id=\"T_8b038_row7_col12\" class=\"data row7 col12\" >1.184775</td>\n",
       "    </tr>\n",
       "    <tr>\n",
       "      <th id=\"T_8b038_level0_row8\" class=\"row_heading level0 row8\" >8</th>\n",
       "      <td id=\"T_8b038_row8_col0\" class=\"data row8 col0\" >-5.820074</td>\n",
       "      <td id=\"T_8b038_row8_col1\" class=\"data row8 col1\" >-35.220859</td>\n",
       "      <td id=\"T_8b038_row8_col2\" class=\"data row8 col2\" >3</td>\n",
       "      <td id=\"T_8b038_row8_col3\" class=\"data row8 col3\" >0.000000</td>\n",
       "      <td id=\"T_8b038_row8_col4\" class=\"data row8 col4\" >→</td>\n",
       "      <td id=\"T_8b038_row8_col5\" class=\"data row8 col5\" >-5.820074</td>\n",
       "      <td id=\"T_8b038_row8_col6\" class=\"data row8 col6\" >-35.220859</td>\n",
       "      <td id=\"T_8b038_row8_col7\" class=\"data row8 col7\" >40.000000</td>\n",
       "      <td id=\"T_8b038_row8_col8\" class=\"data row8 col8\" >1.500000</td>\n",
       "      <td id=\"T_8b038_row8_col9\" class=\"data row8 col9\" > </td>\n",
       "      <td id=\"T_8b038_row8_col10\" class=\"data row8 col10\" >1.090483</td>\n",
       "      <td id=\"T_8b038_row8_col11\" class=\"data row8 col11\" >1.137803</td>\n",
       "      <td id=\"T_8b038_row8_col12\" class=\"data row8 col12\" >1.184775</td>\n",
       "    </tr>\n",
       "    <tr>\n",
       "      <th id=\"T_8b038_level0_row9\" class=\"row_heading level0 row9\" >9</th>\n",
       "      <td id=\"T_8b038_row9_col0\" class=\"data row9 col0\" >-5.820064</td>\n",
       "      <td id=\"T_8b038_row9_col1\" class=\"data row9 col1\" >-35.220858</td>\n",
       "      <td id=\"T_8b038_row9_col2\" class=\"data row9 col2\" >3</td>\n",
       "      <td id=\"T_8b038_row9_col3\" class=\"data row9 col3\" >0.000000</td>\n",
       "      <td id=\"T_8b038_row9_col4\" class=\"data row9 col4\" >→</td>\n",
       "      <td id=\"T_8b038_row9_col5\" class=\"data row9 col5\" >-5.820064</td>\n",
       "      <td id=\"T_8b038_row9_col6\" class=\"data row9 col6\" >-35.220858</td>\n",
       "      <td id=\"T_8b038_row9_col7\" class=\"data row9 col7\" >40.000000</td>\n",
       "      <td id=\"T_8b038_row9_col8\" class=\"data row9 col8\" >1.500000</td>\n",
       "      <td id=\"T_8b038_row9_col9\" class=\"data row9 col9\" > </td>\n",
       "      <td id=\"T_8b038_row9_col10\" class=\"data row9 col10\" >0.921315</td>\n",
       "      <td id=\"T_8b038_row9_col11\" class=\"data row9 col11\" >1.137803</td>\n",
       "      <td id=\"T_8b038_row9_col12\" class=\"data row9 col12\" >1.184775</td>\n",
       "    </tr>\n",
       "  </tbody>\n",
       "</table>\n"
      ],
      "text/plain": [
       "<pandas.io.formats.style.Styler at 0x1a73b1efe10>"
      ]
     },
     "metadata": {},
     "output_type": "display_data"
    },
    {
     "data": {
      "application/vnd.plotly.v1+json": {
       "config": {
        "plotlyServerURL": "https://plot.ly"
       },
       "data": [
        {
         "line": {
          "color": "gray",
          "dash": "dot"
         },
         "mode": "lines",
         "name": "Real",
         "type": "scatter",
         "y": {
          "bdata": "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",
          "dtype": "f8"
         }
        },
        {
         "line": {
          "color": "blue",
          "dash": "dash"
         },
         "mode": "lines",
         "name": "Predição Original",
         "type": "scatter",
         "y": {
          "bdata": "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",
          "dtype": "f8"
         }
        },
        {
         "line": {
          "color": "red"
         },
         "mode": "lines",
         "name": "Predição com RM",
         "type": "scatter",
         "y": {
          "bdata": "R5bSlCHu8j9HltKUIe7yP0eW0pQh7vI/R5bSlCHu8j9GPFCe1vTyP0Y8UJ7W9PI/RjxQntb08j9GPFCe1vTyP0Y8UJ7W9PI/RjxQntb08j9GPFCe1vTyP1a8DdlTyfQ/VrwN2VPJ9D9WvA3ZU8n0P1a8DdlTyfQ/+5eOutYy9T/7l4661jL1P8ss9qMNqvU/yyz2ow2q9T/LLPajDar1P8ss9qMNqvU/VHpdzH6Q9T9Uel3MfpD1P1R6Xcx+kPU/VHpdzH6Q9T9Uel3MfpD1P1R6Xcx+kPU/yyz2ow2q9T8Fa/ZBW7T1PwVr9kFbtPU/BWv2QVu09T821o5YJD31PzbWjlgkPfU/NtaOWCQ99T8ZeLcxaaz0Pxl4tzFprPQ/GXi3MWms9D8ZeLcxaaz0Pxl4tzFprPQ/i71Qah2p9D+LvVBqHan0P4u9UGodqfQ/i71Qah2p9D+YY/O579ryP5hj87nv2vI/mL11sDrU8j93QnL7FCDzP3dCcvsUIPM/+XWryK9J8z/5davIr0nzP/l1q8ivSfM/7tdJOG2P8z8mAe94ZyDzPyYB73hnIPM/JgHveGcg8z8mAe94ZyDzP+oCsAErK/M/6gKwASsr8z/qArABKyvzP4QBXNTUPPU/e4R23dxC9j97hHbd3EL2P9OrTj3WGvY/06tOPdYa9j/Tq0491hr2P3TDGon5O/c/5B0sHvOH9z/d00zuATv4P0h9BYYnM/g/AMv/OEtn+D/JYLaX6YX4P8lgtpfphfg/LofwxlxV+T/OYe/gFHHxP85h7+AUcfE/+bkkLRJu8T+phETIJZ3uP6mERMglne4/JhlkfHWm7j8mGWR8dabuP5zp2kWX6+g/Dpttvn887D8Om22+fzzsPw6bbb5/POw/vRlw0UJ69j/b+xbTO6P2P9v7FtM7o/Y/kulfyxYy8j+FpLmfF77yPxN+HI9VzuI/E34cj1XO4j8TfhyPVc7iPxN+HI9VzuI/E34cj1XO4j8TfhyPVc7iPxN+HI9VzuI/E34cj1XO4j8TfhyPVc7iPyuNYQC+beY/K41hAL5t5j8rjWEAvm3mPyuNYQC+beY/K41hAL5t5j9KcmKQJujrP9wMtj53p+w/vX9+/IpM8D9cxeIm42XwPw8lFeTQXvU/DyUV5NBe9T9Gj4K0RGn2P0aPgrREafY/Ro+CtERp9j+2lY6jX7r2P7aVjqNfuvY/tpWOo1+69j+2lY6jX7r2PwIM5qRyNPU/AgzmpHI09T8CDOakcjT1PwIM5qRyNPU/Hm0SGgWa8z8ebRIaBZrzPx5tEhoFmvM/Hm0SGgWa8z/utQt5k2bkP+61C3mTZuQ/Bte4o8iL5j/xJ1OUq4nlPyhyVrBaA+U/KHJWsFoD5T/WBNterXniP9YE216teeI/1gTbXq154j9VrOW9ofLnPzdsj3+Dsuk/6e+h70QY6z9L2X/0bsXrP+KPTjV0mu4/4o9ONXSa7j+OQ9gkC6PuP9t4OhNOaO0/XUdhNSGn+D+PyvW74FL5P4/K9bvgUvk/j8r1u+BS+T9/+8L1SlP5P0LuDAXL9v8/Qu4MBcv2/z9C7gwFy/b/P0LuDAXL9v8/T1w66sLm+D9PXDrqwub4P8wp0c3B6fg/zCnRzcHp+D/MKdHNwen4P8wp0c3B6fg/EgkXEo7s+D8Qr/E1u9H2P15IS71BofI/IK9DuV608T8aJSWBRq/xP7s1PPEBnvE/I9ge0TQw8T8uWdCtuYvwP/k+vByowu4/qGXcSA578D8/yRxXI0nwP46hWBi1yuw/4ibEjnHD6z90t7ExBCTpPx7o7apzLug/gcMSM/ZC6D8jhHgQ5HDqP59Jb+Hfneo/n0lv4d+d6j/zaIbVQPnpP+xd4UQNIek/x+6TwAaK6D/H7pPABoroP163WAZSUPQ/XrdYBlJQ9D9et1gGUlD0P163WAZSUPQ/XrdYBlJQ9D9et1gGUlD0P163WAZSUPQ/2ocBumAk9D/ahwG6YCT0P++jIX4ErPM/ae5XeRRY8z9p7ld5FFjzP2nuV3kUWPM/J3fsZ6e48z8nd+xnp7jzPx9Jj9cxyPM/H0mP1zHI8z8fSY/XMcjzP98vhNzp+/I/C3Yfxwf78j86i85wG/TyPw==",
          "dtype": "f8"
         }
        }
       ],
       "layout": {
        "template": {
         "data": {
          "bar": [
           {
            "error_x": {
             "color": "#2a3f5f"
            },
            "error_y": {
             "color": "#2a3f5f"
            },
            "marker": {
             "line": {
              "color": "white",
              "width": 0.5
             },
             "pattern": {
              "fillmode": "overlay",
              "size": 10,
              "solidity": 0.2
             }
            },
            "type": "bar"
           }
          ],
          "barpolar": [
           {
            "marker": {
             "line": {
              "color": "white",
              "width": 0.5
             },
             "pattern": {
              "fillmode": "overlay",
              "size": 10,
              "solidity": 0.2
             }
            },
            "type": "barpolar"
           }
          ],
          "carpet": [
           {
            "aaxis": {
             "endlinecolor": "#2a3f5f",
             "gridcolor": "#C8D4E3",
             "linecolor": "#C8D4E3",
             "minorgridcolor": "#C8D4E3",
             "startlinecolor": "#2a3f5f"
            },
            "baxis": {
             "endlinecolor": "#2a3f5f",
             "gridcolor": "#C8D4E3",
             "linecolor": "#C8D4E3",
             "minorgridcolor": "#C8D4E3",
             "startlinecolor": "#2a3f5f"
            },
            "type": "carpet"
           }
          ],
          "choropleth": [
           {
            "colorbar": {
             "outlinewidth": 0,
             "ticks": ""
            },
            "type": "choropleth"
           }
          ],
          "contour": [
           {
            "colorbar": {
             "outlinewidth": 0,
             "ticks": ""
            },
            "colorscale": [
             [
              0,
              "#0d0887"
             ],
             [
              0.1111111111111111,
              "#46039f"
             ],
             [
              0.2222222222222222,
              "#7201a8"
             ],
             [
              0.3333333333333333,
              "#9c179e"
             ],
             [
              0.4444444444444444,
              "#bd3786"
             ],
             [
              0.5555555555555556,
              "#d8576b"
             ],
             [
              0.6666666666666666,
              "#ed7953"
             ],
             [
              0.7777777777777778,
              "#fb9f3a"
             ],
             [
              0.8888888888888888,
              "#fdca26"
             ],
             [
              1,
              "#f0f921"
             ]
            ],
            "type": "contour"
           }
          ],
          "contourcarpet": [
           {
            "colorbar": {
             "outlinewidth": 0,
             "ticks": ""
            },
            "type": "contourcarpet"
           }
          ],
          "heatmap": [
           {
            "colorbar": {
             "outlinewidth": 0,
             "ticks": ""
            },
            "colorscale": [
             [
              0,
              "#0d0887"
             ],
             [
              0.1111111111111111,
              "#46039f"
             ],
             [
              0.2222222222222222,
              "#7201a8"
             ],
             [
              0.3333333333333333,
              "#9c179e"
             ],
             [
              0.4444444444444444,
              "#bd3786"
             ],
             [
              0.5555555555555556,
              "#d8576b"
             ],
             [
              0.6666666666666666,
              "#ed7953"
             ],
             [
              0.7777777777777778,
              "#fb9f3a"
             ],
             [
              0.8888888888888888,
              "#fdca26"
             ],
             [
              1,
              "#f0f921"
             ]
            ],
            "type": "heatmap"
           }
          ],
          "histogram": [
           {
            "marker": {
             "pattern": {
              "fillmode": "overlay",
              "size": 10,
              "solidity": 0.2
             }
            },
            "type": "histogram"
           }
          ],
          "histogram2d": [
           {
            "colorbar": {
             "outlinewidth": 0,
             "ticks": ""
            },
            "colorscale": [
             [
              0,
              "#0d0887"
             ],
             [
              0.1111111111111111,
              "#46039f"
             ],
             [
              0.2222222222222222,
              "#7201a8"
             ],
             [
              0.3333333333333333,
              "#9c179e"
             ],
             [
              0.4444444444444444,
              "#bd3786"
             ],
             [
              0.5555555555555556,
              "#d8576b"
             ],
             [
              0.6666666666666666,
              "#ed7953"
             ],
             [
              0.7777777777777778,
              "#fb9f3a"
             ],
             [
              0.8888888888888888,
              "#fdca26"
             ],
             [
              1,
              "#f0f921"
             ]
            ],
            "type": "histogram2d"
           }
          ],
          "histogram2dcontour": [
           {
            "colorbar": {
             "outlinewidth": 0,
             "ticks": ""
            },
            "colorscale": [
             [
              0,
              "#0d0887"
             ],
             [
              0.1111111111111111,
              "#46039f"
             ],
             [
              0.2222222222222222,
              "#7201a8"
             ],
             [
              0.3333333333333333,
              "#9c179e"
             ],
             [
              0.4444444444444444,
              "#bd3786"
             ],
             [
              0.5555555555555556,
              "#d8576b"
             ],
             [
              0.6666666666666666,
              "#ed7953"
             ],
             [
              0.7777777777777778,
              "#fb9f3a"
             ],
             [
              0.8888888888888888,
              "#fdca26"
             ],
             [
              1,
              "#f0f921"
             ]
            ],
            "type": "histogram2dcontour"
           }
          ],
          "mesh3d": [
           {
            "colorbar": {
             "outlinewidth": 0,
             "ticks": ""
            },
            "type": "mesh3d"
           }
          ],
          "parcoords": [
           {
            "line": {
             "colorbar": {
              "outlinewidth": 0,
              "ticks": ""
             }
            },
            "type": "parcoords"
           }
          ],
          "pie": [
           {
            "automargin": true,
            "type": "pie"
           }
          ],
          "scatter": [
           {
            "fillpattern": {
             "fillmode": "overlay",
             "size": 10,
             "solidity": 0.2
            },
            "type": "scatter"
           }
          ],
          "scatter3d": [
           {
            "line": {
             "colorbar": {
              "outlinewidth": 0,
              "ticks": ""
             }
            },
            "marker": {
             "colorbar": {
              "outlinewidth": 0,
              "ticks": ""
             }
            },
            "type": "scatter3d"
           }
          ],
          "scattercarpet": [
           {
            "marker": {
             "colorbar": {
              "outlinewidth": 0,
              "ticks": ""
             }
            },
            "type": "scattercarpet"
           }
          ],
          "scattergeo": [
           {
            "marker": {
             "colorbar": {
              "outlinewidth": 0,
              "ticks": ""
             }
            },
            "type": "scattergeo"
           }
          ],
          "scattergl": [
           {
            "marker": {
             "colorbar": {
              "outlinewidth": 0,
              "ticks": ""
             }
            },
            "type": "scattergl"
           }
          ],
          "scattermap": [
           {
            "marker": {
             "colorbar": {
              "outlinewidth": 0,
              "ticks": ""
             }
            },
            "type": "scattermap"
           }
          ],
          "scattermapbox": [
           {
            "marker": {
             "colorbar": {
              "outlinewidth": 0,
              "ticks": ""
             }
            },
            "type": "scattermapbox"
           }
          ],
          "scatterpolar": [
           {
            "marker": {
             "colorbar": {
              "outlinewidth": 0,
              "ticks": ""
             }
            },
            "type": "scatterpolar"
           }
          ],
          "scatterpolargl": [
           {
            "marker": {
             "colorbar": {
              "outlinewidth": 0,
              "ticks": ""
             }
            },
            "type": "scatterpolargl"
           }
          ],
          "scatterternary": [
           {
            "marker": {
             "colorbar": {
              "outlinewidth": 0,
              "ticks": ""
             }
            },
            "type": "scatterternary"
           }
          ],
          "surface": [
           {
            "colorbar": {
             "outlinewidth": 0,
             "ticks": ""
            },
            "colorscale": [
             [
              0,
              "#0d0887"
             ],
             [
              0.1111111111111111,
              "#46039f"
             ],
             [
              0.2222222222222222,
              "#7201a8"
             ],
             [
              0.3333333333333333,
              "#9c179e"
             ],
             [
              0.4444444444444444,
              "#bd3786"
             ],
             [
              0.5555555555555556,
              "#d8576b"
             ],
             [
              0.6666666666666666,
              "#ed7953"
             ],
             [
              0.7777777777777778,
              "#fb9f3a"
             ],
             [
              0.8888888888888888,
              "#fdca26"
             ],
             [
              1,
              "#f0f921"
             ]
            ],
            "type": "surface"
           }
          ],
          "table": [
           {
            "cells": {
             "fill": {
              "color": "#EBF0F8"
             },
             "line": {
              "color": "white"
             }
            },
            "header": {
             "fill": {
              "color": "#C8D4E3"
             },
             "line": {
              "color": "white"
             }
            },
            "type": "table"
           }
          ]
         },
         "layout": {
          "annotationdefaults": {
           "arrowcolor": "#2a3f5f",
           "arrowhead": 0,
           "arrowwidth": 1
          },
          "autotypenumbers": "strict",
          "coloraxis": {
           "colorbar": {
            "outlinewidth": 0,
            "ticks": ""
           }
          },
          "colorscale": {
           "diverging": [
            [
             0,
             "#8e0152"
            ],
            [
             0.1,
             "#c51b7d"
            ],
            [
             0.2,
             "#de77ae"
            ],
            [
             0.3,
             "#f1b6da"
            ],
            [
             0.4,
             "#fde0ef"
            ],
            [
             0.5,
             "#f7f7f7"
            ],
            [
             0.6,
             "#e6f5d0"
            ],
            [
             0.7,
             "#b8e186"
            ],
            [
             0.8,
             "#7fbc41"
            ],
            [
             0.9,
             "#4d9221"
            ],
            [
             1,
             "#276419"
            ]
           ],
           "sequential": [
            [
             0,
             "#0d0887"
            ],
            [
             0.1111111111111111,
             "#46039f"
            ],
            [
             0.2222222222222222,
             "#7201a8"
            ],
            [
             0.3333333333333333,
             "#9c179e"
            ],
            [
             0.4444444444444444,
             "#bd3786"
            ],
            [
             0.5555555555555556,
             "#d8576b"
            ],
            [
             0.6666666666666666,
             "#ed7953"
            ],
            [
             0.7777777777777778,
             "#fb9f3a"
            ],
            [
             0.8888888888888888,
             "#fdca26"
            ],
            [
             1,
             "#f0f921"
            ]
           ],
           "sequentialminus": [
            [
             0,
             "#0d0887"
            ],
            [
             0.1111111111111111,
             "#46039f"
            ],
            [
             0.2222222222222222,
             "#7201a8"
            ],
            [
             0.3333333333333333,
             "#9c179e"
            ],
            [
             0.4444444444444444,
             "#bd3786"
            ],
            [
             0.5555555555555556,
             "#d8576b"
            ],
            [
             0.6666666666666666,
             "#ed7953"
            ],
            [
             0.7777777777777778,
             "#fb9f3a"
            ],
            [
             0.8888888888888888,
             "#fdca26"
            ],
            [
             1,
             "#f0f921"
            ]
           ]
          },
          "colorway": [
           "#636efa",
           "#EF553B",
           "#00cc96",
           "#ab63fa",
           "#FFA15A",
           "#19d3f3",
           "#FF6692",
           "#B6E880",
           "#FF97FF",
           "#FECB52"
          ],
          "font": {
           "color": "#2a3f5f"
          },
          "geo": {
           "bgcolor": "white",
           "lakecolor": "white",
           "landcolor": "white",
           "showlakes": true,
           "showland": true,
           "subunitcolor": "#C8D4E3"
          },
          "hoverlabel": {
           "align": "left"
          },
          "hovermode": "closest",
          "mapbox": {
           "style": "light"
          },
          "paper_bgcolor": "white",
          "plot_bgcolor": "white",
          "polar": {
           "angularaxis": {
            "gridcolor": "#EBF0F8",
            "linecolor": "#EBF0F8",
            "ticks": ""
           },
           "bgcolor": "white",
           "radialaxis": {
            "gridcolor": "#EBF0F8",
            "linecolor": "#EBF0F8",
            "ticks": ""
           }
          },
          "scene": {
           "xaxis": {
            "backgroundcolor": "white",
            "gridcolor": "#DFE8F3",
            "gridwidth": 2,
            "linecolor": "#EBF0F8",
            "showbackground": true,
            "ticks": "",
            "zerolinecolor": "#EBF0F8"
           },
           "yaxis": {
            "backgroundcolor": "white",
            "gridcolor": "#DFE8F3",
            "gridwidth": 2,
            "linecolor": "#EBF0F8",
            "showbackground": true,
            "ticks": "",
            "zerolinecolor": "#EBF0F8"
           },
           "zaxis": {
            "backgroundcolor": "white",
            "gridcolor": "#DFE8F3",
            "gridwidth": 2,
            "linecolor": "#EBF0F8",
            "showbackground": true,
            "ticks": "",
            "zerolinecolor": "#EBF0F8"
           }
          },
          "shapedefaults": {
           "line": {
            "color": "#2a3f5f"
           }
          },
          "ternary": {
           "aaxis": {
            "gridcolor": "#DFE8F3",
            "linecolor": "#A2B1C6",
            "ticks": ""
           },
           "baxis": {
            "gridcolor": "#DFE8F3",
            "linecolor": "#A2B1C6",
            "ticks": ""
           },
           "bgcolor": "white",
           "caxis": {
            "gridcolor": "#DFE8F3",
            "linecolor": "#A2B1C6",
            "ticks": ""
           }
          },
          "title": {
           "x": 0.05
          },
          "xaxis": {
           "automargin": true,
           "gridcolor": "#EBF0F8",
           "linecolor": "#EBF0F8",
           "ticks": "",
           "title": {
            "standoff": 15
           },
           "zerolinecolor": "#EBF0F8",
           "zerolinewidth": 2
          },
          "yaxis": {
           "automargin": true,
           "gridcolor": "#EBF0F8",
           "linecolor": "#EBF0F8",
           "ticks": "",
           "title": {
            "standoff": 15
           },
           "zerolinecolor": "#EBF0F8",
           "zerolinewidth": 2
          }
         }
        },
        "title": {
         "text": "Comparação CO₂ (200 Amostras) - CT_N3_012: [Composta] - Simular Subida Íngreme - ETHANOL",
         "x": 0.5
        },
        "xaxis": {
         "title": {
          "text": "Amostras"
         }
        },
        "yaxis": {
         "title": {
          "text": "CO₂ (g/s)"
         }
        }
       }
      }
     },
     "metadata": {},
     "output_type": "display_data"
    },
    {
     "name": "stdout",
     "output_type": "stream",
     "text": [
      "\n",
      "================================================================================\n",
      "🔁 CT_N3_012: [Composta] - Simular Subida Íngreme (GASOLINE)\n",
      "--------------------------------------------------------------------------------\n",
      "Diferença Média: 0.7524 | Diferença Máxima: 3.0226 | RMSE: 0.9451 | Desvio Padrão (Std): 0.5719\n"
     ]
    },
    {
     "data": {
      "text/html": [
       "<style type=\"text/css\">\n",
       "</style>\n",
       "<table id=\"T_e8b28\">\n",
       "  <caption>Comparação dos dados - CT_N3_012: [Composta] - Simular Subida Íngreme (GASOLINE)</caption>\n",
       "  <thead>\n",
       "    <tr>\n",
       "      <th class=\"blank level0\" >&nbsp;</th>\n",
       "      <th id=\"T_e8b28_level0_col0\" class=\"col_heading level0 col0\" >Latitude_Orig</th>\n",
       "      <th id=\"T_e8b28_level0_col1\" class=\"col_heading level0 col1\" >Longitude_Orig</th>\n",
       "      <th id=\"T_e8b28_level0_col2\" class=\"col_heading level0 col2\" >Speed(OBD)(km/h)_Orig</th>\n",
       "      <th id=\"T_e8b28_level0_col3\" class=\"col_heading level0 col3\" >Acceleration_Orig</th>\n",
       "      <th id=\"T_e8b28_level0_col4\" class=\"col_heading level0 col4\" > </th>\n",
       "      <th id=\"T_e8b28_level0_col5\" class=\"col_heading level0 col5\" >Latitude_Mod</th>\n",
       "      <th id=\"T_e8b28_level0_col6\" class=\"col_heading level0 col6\" >Longitude_Mod</th>\n",
       "      <th id=\"T_e8b28_level0_col7\" class=\"col_heading level0 col7\" >Speed(OBD)(km/h)_Mod</th>\n",
       "      <th id=\"T_e8b28_level0_col8\" class=\"col_heading level0 col8\" >Acceleration_Mod</th>\n",
       "      <th id=\"T_e8b28_level0_col9\" class=\"col_heading level0 col9\" > </th>\n",
       "      <th id=\"T_e8b28_level0_col10\" class=\"col_heading level0 col10\" >CO₂_Real</th>\n",
       "      <th id=\"T_e8b28_level0_col11\" class=\"col_heading level0 col11\" >CO₂_Pred_Orig</th>\n",
       "      <th id=\"T_e8b28_level0_col12\" class=\"col_heading level0 col12\" >CO₂_Pred_Mod</th>\n",
       "    </tr>\n",
       "  </thead>\n",
       "  <tbody>\n",
       "    <tr>\n",
       "      <th id=\"T_e8b28_level0_row0\" class=\"row_heading level0 row0\" >0</th>\n",
       "      <td id=\"T_e8b28_row0_col0\" class=\"data row0 col0\" >-5.820010</td>\n",
       "      <td id=\"T_e8b28_row0_col1\" class=\"data row0 col1\" >-35.220825</td>\n",
       "      <td id=\"T_e8b28_row0_col2\" class=\"data row0 col2\" >5</td>\n",
       "      <td id=\"T_e8b28_row0_col3\" class=\"data row0 col3\" >0.000000</td>\n",
       "      <td id=\"T_e8b28_row0_col4\" class=\"data row0 col4\" >→</td>\n",
       "      <td id=\"T_e8b28_row0_col5\" class=\"data row0 col5\" >-5.820010</td>\n",
       "      <td id=\"T_e8b28_row0_col6\" class=\"data row0 col6\" >-35.220825</td>\n",
       "      <td id=\"T_e8b28_row0_col7\" class=\"data row0 col7\" >40.000000</td>\n",
       "      <td id=\"T_e8b28_row0_col8\" class=\"data row0 col8\" >1.500000</td>\n",
       "      <td id=\"T_e8b28_row0_col9\" class=\"data row0 col9\" > </td>\n",
       "      <td id=\"T_e8b28_row0_col10\" class=\"data row0 col10\" >1.002671</td>\n",
       "      <td id=\"T_e8b28_row0_col11\" class=\"data row0 col11\" >1.456781</td>\n",
       "      <td id=\"T_e8b28_row0_col12\" class=\"data row0 col12\" >2.954010</td>\n",
       "    </tr>\n",
       "    <tr>\n",
       "      <th id=\"T_e8b28_level0_row1\" class=\"row_heading level0 row1\" >1</th>\n",
       "      <td id=\"T_e8b28_row1_col0\" class=\"data row1 col0\" >-5.820013</td>\n",
       "      <td id=\"T_e8b28_row1_col1\" class=\"data row1 col1\" >-35.220822</td>\n",
       "      <td id=\"T_e8b28_row1_col2\" class=\"data row1 col2\" >4</td>\n",
       "      <td id=\"T_e8b28_row1_col3\" class=\"data row1 col3\" >-0.277778</td>\n",
       "      <td id=\"T_e8b28_row1_col4\" class=\"data row1 col4\" >→</td>\n",
       "      <td id=\"T_e8b28_row1_col5\" class=\"data row1 col5\" >-5.820013</td>\n",
       "      <td id=\"T_e8b28_row1_col6\" class=\"data row1 col6\" >-35.220822</td>\n",
       "      <td id=\"T_e8b28_row1_col7\" class=\"data row1 col7\" >40.000000</td>\n",
       "      <td id=\"T_e8b28_row1_col8\" class=\"data row1 col8\" >1.500000</td>\n",
       "      <td id=\"T_e8b28_row1_col9\" class=\"data row1 col9\" > </td>\n",
       "      <td id=\"T_e8b28_row1_col10\" class=\"data row1 col10\" >1.013360</td>\n",
       "      <td id=\"T_e8b28_row1_col11\" class=\"data row1 col11\" >1.016708</td>\n",
       "      <td id=\"T_e8b28_row1_col12\" class=\"data row1 col12\" >2.954010</td>\n",
       "    </tr>\n",
       "    <tr>\n",
       "      <th id=\"T_e8b28_level0_row2\" class=\"row_heading level0 row2\" >2</th>\n",
       "      <td id=\"T_e8b28_row2_col0\" class=\"data row2 col0\" >-5.820016</td>\n",
       "      <td id=\"T_e8b28_row2_col1\" class=\"data row2 col1\" >-35.220819</td>\n",
       "      <td id=\"T_e8b28_row2_col2\" class=\"data row2 col2\" >5</td>\n",
       "      <td id=\"T_e8b28_row2_col3\" class=\"data row2 col3\" >0.277778</td>\n",
       "      <td id=\"T_e8b28_row2_col4\" class=\"data row2 col4\" >→</td>\n",
       "      <td id=\"T_e8b28_row2_col5\" class=\"data row2 col5\" >-5.820016</td>\n",
       "      <td id=\"T_e8b28_row2_col6\" class=\"data row2 col6\" >-35.220819</td>\n",
       "      <td id=\"T_e8b28_row2_col7\" class=\"data row2 col7\" >40.000000</td>\n",
       "      <td id=\"T_e8b28_row2_col8\" class=\"data row2 col8\" >1.500000</td>\n",
       "      <td id=\"T_e8b28_row2_col9\" class=\"data row2 col9\" > </td>\n",
       "      <td id=\"T_e8b28_row2_col10\" class=\"data row2 col10\" >2.088720</td>\n",
       "      <td id=\"T_e8b28_row2_col11\" class=\"data row2 col11\" >1.456781</td>\n",
       "      <td id=\"T_e8b28_row2_col12\" class=\"data row2 col12\" >2.954010</td>\n",
       "    </tr>\n",
       "    <tr>\n",
       "      <th id=\"T_e8b28_level0_row3\" class=\"row_heading level0 row3\" >3</th>\n",
       "      <td id=\"T_e8b28_row3_col0\" class=\"data row3 col0\" >-5.820014</td>\n",
       "      <td id=\"T_e8b28_row3_col1\" class=\"data row3 col1\" >-35.220825</td>\n",
       "      <td id=\"T_e8b28_row3_col2\" class=\"data row3 col2\" >7</td>\n",
       "      <td id=\"T_e8b28_row3_col3\" class=\"data row3 col3\" >0.555556</td>\n",
       "      <td id=\"T_e8b28_row3_col4\" class=\"data row3 col4\" >→</td>\n",
       "      <td id=\"T_e8b28_row3_col5\" class=\"data row3 col5\" >-5.820014</td>\n",
       "      <td id=\"T_e8b28_row3_col6\" class=\"data row3 col6\" >-35.220825</td>\n",
       "      <td id=\"T_e8b28_row3_col7\" class=\"data row3 col7\" >40.000000</td>\n",
       "      <td id=\"T_e8b28_row3_col8\" class=\"data row3 col8\" >1.500000</td>\n",
       "      <td id=\"T_e8b28_row3_col9\" class=\"data row3 col9\" > </td>\n",
       "      <td id=\"T_e8b28_row3_col10\" class=\"data row3 col10\" >2.261889</td>\n",
       "      <td id=\"T_e8b28_row3_col11\" class=\"data row3 col11\" >1.996380</td>\n",
       "      <td id=\"T_e8b28_row3_col12\" class=\"data row3 col12\" >2.954010</td>\n",
       "    </tr>\n",
       "    <tr>\n",
       "      <th id=\"T_e8b28_level0_row4\" class=\"row_heading level0 row4\" >4</th>\n",
       "      <td id=\"T_e8b28_row4_col0\" class=\"data row4 col0\" >-5.819992</td>\n",
       "      <td id=\"T_e8b28_row4_col1\" class=\"data row4 col1\" >-35.220829</td>\n",
       "      <td id=\"T_e8b28_row4_col2\" class=\"data row4 col2\" >9</td>\n",
       "      <td id=\"T_e8b28_row4_col3\" class=\"data row4 col3\" >0.555556</td>\n",
       "      <td id=\"T_e8b28_row4_col4\" class=\"data row4 col4\" >→</td>\n",
       "      <td id=\"T_e8b28_row4_col5\" class=\"data row4 col5\" >-5.819992</td>\n",
       "      <td id=\"T_e8b28_row4_col6\" class=\"data row4 col6\" >-35.220829</td>\n",
       "      <td id=\"T_e8b28_row4_col7\" class=\"data row4 col7\" >40.000000</td>\n",
       "      <td id=\"T_e8b28_row4_col8\" class=\"data row4 col8\" >1.500000</td>\n",
       "      <td id=\"T_e8b28_row4_col9\" class=\"data row4 col9\" > </td>\n",
       "      <td id=\"T_e8b28_row4_col10\" class=\"data row4 col10\" >2.499195</td>\n",
       "      <td id=\"T_e8b28_row4_col11\" class=\"data row4 col11\" >2.400486</td>\n",
       "      <td id=\"T_e8b28_row4_col12\" class=\"data row4 col12\" >3.159595</td>\n",
       "    </tr>\n",
       "    <tr>\n",
       "      <th id=\"T_e8b28_level0_row5\" class=\"row_heading level0 row5\" >5</th>\n",
       "      <td id=\"T_e8b28_row5_col0\" class=\"data row5 col0\" >-5.819974</td>\n",
       "      <td id=\"T_e8b28_row5_col1\" class=\"data row5 col1\" >-35.220824</td>\n",
       "      <td id=\"T_e8b28_row5_col2\" class=\"data row5 col2\" >12</td>\n",
       "      <td id=\"T_e8b28_row5_col3\" class=\"data row5 col3\" >0.833333</td>\n",
       "      <td id=\"T_e8b28_row5_col4\" class=\"data row5 col4\" >→</td>\n",
       "      <td id=\"T_e8b28_row5_col5\" class=\"data row5 col5\" >-5.819974</td>\n",
       "      <td id=\"T_e8b28_row5_col6\" class=\"data row5 col6\" >-35.220824</td>\n",
       "      <td id=\"T_e8b28_row5_col7\" class=\"data row5 col7\" >40.000000</td>\n",
       "      <td id=\"T_e8b28_row5_col8\" class=\"data row5 col8\" >1.500000</td>\n",
       "      <td id=\"T_e8b28_row5_col9\" class=\"data row5 col9\" > </td>\n",
       "      <td id=\"T_e8b28_row5_col10\" class=\"data row5 col10\" >2.606089</td>\n",
       "      <td id=\"T_e8b28_row5_col11\" class=\"data row5 col11\" >2.400486</td>\n",
       "      <td id=\"T_e8b28_row5_col12\" class=\"data row5 col12\" >3.159595</td>\n",
       "    </tr>\n",
       "    <tr>\n",
       "      <th id=\"T_e8b28_level0_row6\" class=\"row_heading level0 row6\" >6</th>\n",
       "      <td id=\"T_e8b28_row6_col0\" class=\"data row6 col0\" >-5.819944</td>\n",
       "      <td id=\"T_e8b28_row6_col1\" class=\"data row6 col1\" >-35.220823</td>\n",
       "      <td id=\"T_e8b28_row6_col2\" class=\"data row6 col2\" >15</td>\n",
       "      <td id=\"T_e8b28_row6_col3\" class=\"data row6 col3\" >0.833333</td>\n",
       "      <td id=\"T_e8b28_row6_col4\" class=\"data row6 col4\" >→</td>\n",
       "      <td id=\"T_e8b28_row6_col5\" class=\"data row6 col5\" >-5.819944</td>\n",
       "      <td id=\"T_e8b28_row6_col6\" class=\"data row6 col6\" >-35.220823</td>\n",
       "      <td id=\"T_e8b28_row6_col7\" class=\"data row6 col7\" >40.000000</td>\n",
       "      <td id=\"T_e8b28_row6_col8\" class=\"data row6 col8\" >1.500000</td>\n",
       "      <td id=\"T_e8b28_row6_col9\" class=\"data row6 col9\" > </td>\n",
       "      <td id=\"T_e8b28_row6_col10\" class=\"data row6 col10\" >3.070012</td>\n",
       "      <td id=\"T_e8b28_row6_col11\" class=\"data row6 col11\" >2.148721</td>\n",
       "      <td id=\"T_e8b28_row6_col12\" class=\"data row6 col12\" >3.012688</td>\n",
       "    </tr>\n",
       "    <tr>\n",
       "      <th id=\"T_e8b28_level0_row7\" class=\"row_heading level0 row7\" >7</th>\n",
       "      <td id=\"T_e8b28_row7_col0\" class=\"data row7 col0\" >-5.819908</td>\n",
       "      <td id=\"T_e8b28_row7_col1\" class=\"data row7 col1\" >-35.220810</td>\n",
       "      <td id=\"T_e8b28_row7_col2\" class=\"data row7 col2\" >18</td>\n",
       "      <td id=\"T_e8b28_row7_col3\" class=\"data row7 col3\" >0.833333</td>\n",
       "      <td id=\"T_e8b28_row7_col4\" class=\"data row7 col4\" >→</td>\n",
       "      <td id=\"T_e8b28_row7_col5\" class=\"data row7 col5\" >-5.819908</td>\n",
       "      <td id=\"T_e8b28_row7_col6\" class=\"data row7 col6\" >-35.220810</td>\n",
       "      <td id=\"T_e8b28_row7_col7\" class=\"data row7 col7\" >40.000000</td>\n",
       "      <td id=\"T_e8b28_row7_col8\" class=\"data row7 col8\" >1.500000</td>\n",
       "      <td id=\"T_e8b28_row7_col9\" class=\"data row7 col9\" > </td>\n",
       "      <td id=\"T_e8b28_row7_col10\" class=\"data row7 col10\" >2.445747</td>\n",
       "      <td id=\"T_e8b28_row7_col11\" class=\"data row7 col11\" >1.470940</td>\n",
       "      <td id=\"T_e8b28_row7_col12\" class=\"data row7 col12\" >2.745029</td>\n",
       "    </tr>\n",
       "    <tr>\n",
       "      <th id=\"T_e8b28_level0_row8\" class=\"row_heading level0 row8\" >8</th>\n",
       "      <td id=\"T_e8b28_row8_col0\" class=\"data row8 col0\" >-5.819866</td>\n",
       "      <td id=\"T_e8b28_row8_col1\" class=\"data row8 col1\" >-35.220794</td>\n",
       "      <td id=\"T_e8b28_row8_col2\" class=\"data row8 col2\" >18</td>\n",
       "      <td id=\"T_e8b28_row8_col3\" class=\"data row8 col3\" >0.000000</td>\n",
       "      <td id=\"T_e8b28_row8_col4\" class=\"data row8 col4\" >→</td>\n",
       "      <td id=\"T_e8b28_row8_col5\" class=\"data row8 col5\" >-5.819866</td>\n",
       "      <td id=\"T_e8b28_row8_col6\" class=\"data row8 col6\" >-35.220794</td>\n",
       "      <td id=\"T_e8b28_row8_col7\" class=\"data row8 col7\" >40.000000</td>\n",
       "      <td id=\"T_e8b28_row8_col8\" class=\"data row8 col8\" >1.500000</td>\n",
       "      <td id=\"T_e8b28_row8_col9\" class=\"data row8 col9\" > </td>\n",
       "      <td id=\"T_e8b28_row8_col10\" class=\"data row8 col10\" >1.073221</td>\n",
       "      <td id=\"T_e8b28_row8_col11\" class=\"data row8 col11\" >1.588029</td>\n",
       "      <td id=\"T_e8b28_row8_col12\" class=\"data row8 col12\" >2.660020</td>\n",
       "    </tr>\n",
       "    <tr>\n",
       "      <th id=\"T_e8b28_level0_row9\" class=\"row_heading level0 row9\" >9</th>\n",
       "      <td id=\"T_e8b28_row9_col0\" class=\"data row9 col0\" >-5.819821</td>\n",
       "      <td id=\"T_e8b28_row9_col1\" class=\"data row9 col1\" >-35.220775</td>\n",
       "      <td id=\"T_e8b28_row9_col2\" class=\"data row9 col2\" >16</td>\n",
       "      <td id=\"T_e8b28_row9_col3\" class=\"data row9 col3\" >-0.555556</td>\n",
       "      <td id=\"T_e8b28_row9_col4\" class=\"data row9 col4\" >→</td>\n",
       "      <td id=\"T_e8b28_row9_col5\" class=\"data row9 col5\" >-5.819821</td>\n",
       "      <td id=\"T_e8b28_row9_col6\" class=\"data row9 col6\" >-35.220775</td>\n",
       "      <td id=\"T_e8b28_row9_col7\" class=\"data row9 col7\" >40.000000</td>\n",
       "      <td id=\"T_e8b28_row9_col8\" class=\"data row9 col8\" >1.500000</td>\n",
       "      <td id=\"T_e8b28_row9_col9\" class=\"data row9 col9\" > </td>\n",
       "      <td id=\"T_e8b28_row9_col10\" class=\"data row9 col10\" >0.562265</td>\n",
       "      <td id=\"T_e8b28_row9_col11\" class=\"data row9 col11\" >1.085921</td>\n",
       "      <td id=\"T_e8b28_row9_col12\" class=\"data row9 col12\" >2.704771</td>\n",
       "    </tr>\n",
       "  </tbody>\n",
       "</table>\n"
      ],
      "text/plain": [
       "<pandas.io.formats.style.Styler at 0x1a742a8a5d0>"
      ]
     },
     "metadata": {},
     "output_type": "display_data"
    },
    {
     "data": {
      "application/vnd.plotly.v1+json": {
       "config": {
        "plotlyServerURL": "https://plot.ly"
       },
       "data": [
        {
         "line": {
          "color": "gray",
          "dash": "dot"
         },
         "mode": "lines",
         "name": "Real",
         "type": "scatter",
         "y": {
          "bdata": "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",
          "dtype": "f8"
         }
        },
        {
         "line": {
          "color": "blue",
          "dash": "dash"
         },
         "mode": "lines",
         "name": "Predição Original",
         "type": "scatter",
         "y": {
          "bdata": "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",
          "dtype": "f8"
         }
        },
        {
         "line": {
          "color": "red"
         },
         "mode": "lines",
         "name": "Predição com RM",
         "type": "scatter",
         "y": {
          "bdata": "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",
          "dtype": "f8"
         }
        }
       ],
       "layout": {
        "template": {
         "data": {
          "bar": [
           {
            "error_x": {
             "color": "#2a3f5f"
            },
            "error_y": {
             "color": "#2a3f5f"
            },
            "marker": {
             "line": {
              "color": "white",
              "width": 0.5
             },
             "pattern": {
              "fillmode": "overlay",
              "size": 10,
              "solidity": 0.2
             }
            },
            "type": "bar"
           }
          ],
          "barpolar": [
           {
            "marker": {
             "line": {
              "color": "white",
              "width": 0.5
             },
             "pattern": {
              "fillmode": "overlay",
              "size": 10,
              "solidity": 0.2
             }
            },
            "type": "barpolar"
           }
          ],
          "carpet": [
           {
            "aaxis": {
             "endlinecolor": "#2a3f5f",
             "gridcolor": "#C8D4E3",
             "linecolor": "#C8D4E3",
             "minorgridcolor": "#C8D4E3",
             "startlinecolor": "#2a3f5f"
            },
            "baxis": {
             "endlinecolor": "#2a3f5f",
             "gridcolor": "#C8D4E3",
             "linecolor": "#C8D4E3",
             "minorgridcolor": "#C8D4E3",
             "startlinecolor": "#2a3f5f"
            },
            "type": "carpet"
           }
          ],
          "choropleth": [
           {
            "colorbar": {
             "outlinewidth": 0,
             "ticks": ""
            },
            "type": "choropleth"
           }
          ],
          "contour": [
           {
            "colorbar": {
             "outlinewidth": 0,
             "ticks": ""
            },
            "colorscale": [
             [
              0,
              "#0d0887"
             ],
             [
              0.1111111111111111,
              "#46039f"
             ],
             [
              0.2222222222222222,
              "#7201a8"
             ],
             [
              0.3333333333333333,
              "#9c179e"
             ],
             [
              0.4444444444444444,
              "#bd3786"
             ],
             [
              0.5555555555555556,
              "#d8576b"
             ],
             [
              0.6666666666666666,
              "#ed7953"
             ],
             [
              0.7777777777777778,
              "#fb9f3a"
             ],
             [
              0.8888888888888888,
              "#fdca26"
             ],
             [
              1,
              "#f0f921"
             ]
            ],
            "type": "contour"
           }
          ],
          "contourcarpet": [
           {
            "colorbar": {
             "outlinewidth": 0,
             "ticks": ""
            },
            "type": "contourcarpet"
           }
          ],
          "heatmap": [
           {
            "colorbar": {
             "outlinewidth": 0,
             "ticks": ""
            },
            "colorscale": [
             [
              0,
              "#0d0887"
             ],
             [
              0.1111111111111111,
              "#46039f"
             ],
             [
              0.2222222222222222,
              "#7201a8"
             ],
             [
              0.3333333333333333,
              "#9c179e"
             ],
             [
              0.4444444444444444,
              "#bd3786"
             ],
             [
              0.5555555555555556,
              "#d8576b"
             ],
             [
              0.6666666666666666,
              "#ed7953"
             ],
             [
              0.7777777777777778,
              "#fb9f3a"
             ],
             [
              0.8888888888888888,
              "#fdca26"
             ],
             [
              1,
              "#f0f921"
             ]
            ],
            "type": "heatmap"
           }
          ],
          "histogram": [
           {
            "marker": {
             "pattern": {
              "fillmode": "overlay",
              "size": 10,
              "solidity": 0.2
             }
            },
            "type": "histogram"
           }
          ],
          "histogram2d": [
           {
            "colorbar": {
             "outlinewidth": 0,
             "ticks": ""
            },
            "colorscale": [
             [
              0,
              "#0d0887"
             ],
             [
              0.1111111111111111,
              "#46039f"
             ],
             [
              0.2222222222222222,
              "#7201a8"
             ],
             [
              0.3333333333333333,
              "#9c179e"
             ],
             [
              0.4444444444444444,
              "#bd3786"
             ],
             [
              0.5555555555555556,
              "#d8576b"
             ],
             [
              0.6666666666666666,
              "#ed7953"
             ],
             [
              0.7777777777777778,
              "#fb9f3a"
             ],
             [
              0.8888888888888888,
              "#fdca26"
             ],
             [
              1,
              "#f0f921"
             ]
            ],
            "type": "histogram2d"
           }
          ],
          "histogram2dcontour": [
           {
            "colorbar": {
             "outlinewidth": 0,
             "ticks": ""
            },
            "colorscale": [
             [
              0,
              "#0d0887"
             ],
             [
              0.1111111111111111,
              "#46039f"
             ],
             [
              0.2222222222222222,
              "#7201a8"
             ],
             [
              0.3333333333333333,
              "#9c179e"
             ],
             [
              0.4444444444444444,
              "#bd3786"
             ],
             [
              0.5555555555555556,
              "#d8576b"
             ],
             [
              0.6666666666666666,
              "#ed7953"
             ],
             [
              0.7777777777777778,
              "#fb9f3a"
             ],
             [
              0.8888888888888888,
              "#fdca26"
             ],
             [
              1,
              "#f0f921"
             ]
            ],
            "type": "histogram2dcontour"
           }
          ],
          "mesh3d": [
           {
            "colorbar": {
             "outlinewidth": 0,
             "ticks": ""
            },
            "type": "mesh3d"
           }
          ],
          "parcoords": [
           {
            "line": {
             "colorbar": {
              "outlinewidth": 0,
              "ticks": ""
             }
            },
            "type": "parcoords"
           }
          ],
          "pie": [
           {
            "automargin": true,
            "type": "pie"
           }
          ],
          "scatter": [
           {
            "fillpattern": {
             "fillmode": "overlay",
             "size": 10,
             "solidity": 0.2
            },
            "type": "scatter"
           }
          ],
          "scatter3d": [
           {
            "line": {
             "colorbar": {
              "outlinewidth": 0,
              "ticks": ""
             }
            },
            "marker": {
             "colorbar": {
              "outlinewidth": 0,
              "ticks": ""
             }
            },
            "type": "scatter3d"
           }
          ],
          "scattercarpet": [
           {
            "marker": {
             "colorbar": {
              "outlinewidth": 0,
              "ticks": ""
             }
            },
            "type": "scattercarpet"
           }
          ],
          "scattergeo": [
           {
            "marker": {
             "colorbar": {
              "outlinewidth": 0,
              "ticks": ""
             }
            },
            "type": "scattergeo"
           }
          ],
          "scattergl": [
           {
            "marker": {
             "colorbar": {
              "outlinewidth": 0,
              "ticks": ""
             }
            },
            "type": "scattergl"
           }
          ],
          "scattermap": [
           {
            "marker": {
             "colorbar": {
              "outlinewidth": 0,
              "ticks": ""
             }
            },
            "type": "scattermap"
           }
          ],
          "scattermapbox": [
           {
            "marker": {
             "colorbar": {
              "outlinewidth": 0,
              "ticks": ""
             }
            },
            "type": "scattermapbox"
           }
          ],
          "scatterpolar": [
           {
            "marker": {
             "colorbar": {
              "outlinewidth": 0,
              "ticks": ""
             }
            },
            "type": "scatterpolar"
           }
          ],
          "scatterpolargl": [
           {
            "marker": {
             "colorbar": {
              "outlinewidth": 0,
              "ticks": ""
             }
            },
            "type": "scatterpolargl"
           }
          ],
          "scatterternary": [
           {
            "marker": {
             "colorbar": {
              "outlinewidth": 0,
              "ticks": ""
             }
            },
            "type": "scatterternary"
           }
          ],
          "surface": [
           {
            "colorbar": {
             "outlinewidth": 0,
             "ticks": ""
            },
            "colorscale": [
             [
              0,
              "#0d0887"
             ],
             [
              0.1111111111111111,
              "#46039f"
             ],
             [
              0.2222222222222222,
              "#7201a8"
             ],
             [
              0.3333333333333333,
              "#9c179e"
             ],
             [
              0.4444444444444444,
              "#bd3786"
             ],
             [
              0.5555555555555556,
              "#d8576b"
             ],
             [
              0.6666666666666666,
              "#ed7953"
             ],
             [
              0.7777777777777778,
              "#fb9f3a"
             ],
             [
              0.8888888888888888,
              "#fdca26"
             ],
             [
              1,
              "#f0f921"
             ]
            ],
            "type": "surface"
           }
          ],
          "table": [
           {
            "cells": {
             "fill": {
              "color": "#EBF0F8"
             },
             "line": {
              "color": "white"
             }
            },
            "header": {
             "fill": {
              "color": "#C8D4E3"
             },
             "line": {
              "color": "white"
             }
            },
            "type": "table"
           }
          ]
         },
         "layout": {
          "annotationdefaults": {
           "arrowcolor": "#2a3f5f",
           "arrowhead": 0,
           "arrowwidth": 1
          },
          "autotypenumbers": "strict",
          "coloraxis": {
           "colorbar": {
            "outlinewidth": 0,
            "ticks": ""
           }
          },
          "colorscale": {
           "diverging": [
            [
             0,
             "#8e0152"
            ],
            [
             0.1,
             "#c51b7d"
            ],
            [
             0.2,
             "#de77ae"
            ],
            [
             0.3,
             "#f1b6da"
            ],
            [
             0.4,
             "#fde0ef"
            ],
            [
             0.5,
             "#f7f7f7"
            ],
            [
             0.6,
             "#e6f5d0"
            ],
            [
             0.7,
             "#b8e186"
            ],
            [
             0.8,
             "#7fbc41"
            ],
            [
             0.9,
             "#4d9221"
            ],
            [
             1,
             "#276419"
            ]
           ],
           "sequential": [
            [
             0,
             "#0d0887"
            ],
            [
             0.1111111111111111,
             "#46039f"
            ],
            [
             0.2222222222222222,
             "#7201a8"
            ],
            [
             0.3333333333333333,
             "#9c179e"
            ],
            [
             0.4444444444444444,
             "#bd3786"
            ],
            [
             0.5555555555555556,
             "#d8576b"
            ],
            [
             0.6666666666666666,
             "#ed7953"
            ],
            [
             0.7777777777777778,
             "#fb9f3a"
            ],
            [
             0.8888888888888888,
             "#fdca26"
            ],
            [
             1,
             "#f0f921"
            ]
           ],
           "sequentialminus": [
            [
             0,
             "#0d0887"
            ],
            [
             0.1111111111111111,
             "#46039f"
            ],
            [
             0.2222222222222222,
             "#7201a8"
            ],
            [
             0.3333333333333333,
             "#9c179e"
            ],
            [
             0.4444444444444444,
             "#bd3786"
            ],
            [
             0.5555555555555556,
             "#d8576b"
            ],
            [
             0.6666666666666666,
             "#ed7953"
            ],
            [
             0.7777777777777778,
             "#fb9f3a"
            ],
            [
             0.8888888888888888,
             "#fdca26"
            ],
            [
             1,
             "#f0f921"
            ]
           ]
          },
          "colorway": [
           "#636efa",
           "#EF553B",
           "#00cc96",
           "#ab63fa",
           "#FFA15A",
           "#19d3f3",
           "#FF6692",
           "#B6E880",
           "#FF97FF",
           "#FECB52"
          ],
          "font": {
           "color": "#2a3f5f"
          },
          "geo": {
           "bgcolor": "white",
           "lakecolor": "white",
           "landcolor": "white",
           "showlakes": true,
           "showland": true,
           "subunitcolor": "#C8D4E3"
          },
          "hoverlabel": {
           "align": "left"
          },
          "hovermode": "closest",
          "mapbox": {
           "style": "light"
          },
          "paper_bgcolor": "white",
          "plot_bgcolor": "white",
          "polar": {
           "angularaxis": {
            "gridcolor": "#EBF0F8",
            "linecolor": "#EBF0F8",
            "ticks": ""
           },
           "bgcolor": "white",
           "radialaxis": {
            "gridcolor": "#EBF0F8",
            "linecolor": "#EBF0F8",
            "ticks": ""
           }
          },
          "scene": {
           "xaxis": {
            "backgroundcolor": "white",
            "gridcolor": "#DFE8F3",
            "gridwidth": 2,
            "linecolor": "#EBF0F8",
            "showbackground": true,
            "ticks": "",
            "zerolinecolor": "#EBF0F8"
           },
           "yaxis": {
            "backgroundcolor": "white",
            "gridcolor": "#DFE8F3",
            "gridwidth": 2,
            "linecolor": "#EBF0F8",
            "showbackground": true,
            "ticks": "",
            "zerolinecolor": "#EBF0F8"
           },
           "zaxis": {
            "backgroundcolor": "white",
            "gridcolor": "#DFE8F3",
            "gridwidth": 2,
            "linecolor": "#EBF0F8",
            "showbackground": true,
            "ticks": "",
            "zerolinecolor": "#EBF0F8"
           }
          },
          "shapedefaults": {
           "line": {
            "color": "#2a3f5f"
           }
          },
          "ternary": {
           "aaxis": {
            "gridcolor": "#DFE8F3",
            "linecolor": "#A2B1C6",
            "ticks": ""
           },
           "baxis": {
            "gridcolor": "#DFE8F3",
            "linecolor": "#A2B1C6",
            "ticks": ""
           },
           "bgcolor": "white",
           "caxis": {
            "gridcolor": "#DFE8F3",
            "linecolor": "#A2B1C6",
            "ticks": ""
           }
          },
          "title": {
           "x": 0.05
          },
          "xaxis": {
           "automargin": true,
           "gridcolor": "#EBF0F8",
           "linecolor": "#EBF0F8",
           "ticks": "",
           "title": {
            "standoff": 15
           },
           "zerolinecolor": "#EBF0F8",
           "zerolinewidth": 2
          },
          "yaxis": {
           "automargin": true,
           "gridcolor": "#EBF0F8",
           "linecolor": "#EBF0F8",
           "ticks": "",
           "title": {
            "standoff": 15
           },
           "zerolinecolor": "#EBF0F8",
           "zerolinewidth": 2
          }
         }
        },
        "title": {
         "text": "Comparação CO₂ (200 Amostras) - CT_N3_012: [Composta] - Simular Subida Íngreme - GASOLINE",
         "x": 0.5
        },
        "xaxis": {
         "title": {
          "text": "Amostras"
         }
        },
        "yaxis": {
         "title": {
          "text": "CO₂ (g/s)"
         }
        }
       }
      }
     },
     "metadata": {},
     "output_type": "display_data"
    },
    {
     "name": "stdout",
     "output_type": "stream",
     "text": [
      "\n",
      "================================================================================\n",
      "🔁 CT_N3_013: [Composta] - Simular Inércia em Declive (ETHANOL)\n",
      "--------------------------------------------------------------------------------\n",
      "Diferença Média: 0.8052 | Diferença Máxima: 2.9472 | RMSE: 0.9333 | Desvio Padrão (Std): 0.4720\n"
     ]
    },
    {
     "data": {
      "text/html": [
       "<style type=\"text/css\">\n",
       "</style>\n",
       "<table id=\"T_39882\">\n",
       "  <caption>Comparação dos dados - CT_N3_013: [Composta] - Simular Inércia em Declive (ETHANOL)</caption>\n",
       "  <thead>\n",
       "    <tr>\n",
       "      <th class=\"blank level0\" >&nbsp;</th>\n",
       "      <th id=\"T_39882_level0_col0\" class=\"col_heading level0 col0\" >Latitude_Orig</th>\n",
       "      <th id=\"T_39882_level0_col1\" class=\"col_heading level0 col1\" >Longitude_Orig</th>\n",
       "      <th id=\"T_39882_level0_col2\" class=\"col_heading level0 col2\" >Speed(OBD)(km/h)_Orig</th>\n",
       "      <th id=\"T_39882_level0_col3\" class=\"col_heading level0 col3\" >Acceleration_Orig</th>\n",
       "      <th id=\"T_39882_level0_col4\" class=\"col_heading level0 col4\" > </th>\n",
       "      <th id=\"T_39882_level0_col5\" class=\"col_heading level0 col5\" >Latitude_Mod</th>\n",
       "      <th id=\"T_39882_level0_col6\" class=\"col_heading level0 col6\" >Longitude_Mod</th>\n",
       "      <th id=\"T_39882_level0_col7\" class=\"col_heading level0 col7\" >Speed(OBD)(km/h)_Mod</th>\n",
       "      <th id=\"T_39882_level0_col8\" class=\"col_heading level0 col8\" >Acceleration_Mod</th>\n",
       "      <th id=\"T_39882_level0_col9\" class=\"col_heading level0 col9\" > </th>\n",
       "      <th id=\"T_39882_level0_col10\" class=\"col_heading level0 col10\" >CO₂_Real</th>\n",
       "      <th id=\"T_39882_level0_col11\" class=\"col_heading level0 col11\" >CO₂_Pred_Orig</th>\n",
       "      <th id=\"T_39882_level0_col12\" class=\"col_heading level0 col12\" >CO₂_Pred_Mod</th>\n",
       "    </tr>\n",
       "  </thead>\n",
       "  <tbody>\n",
       "    <tr>\n",
       "      <th id=\"T_39882_level0_row0\" class=\"row_heading level0 row0\" >0</th>\n",
       "      <td id=\"T_39882_row0_col0\" class=\"data row0 col0\" >-5.820105</td>\n",
       "      <td id=\"T_39882_row0_col1\" class=\"data row0 col1\" >-35.220818</td>\n",
       "      <td id=\"T_39882_row0_col2\" class=\"data row0 col2\" >3</td>\n",
       "      <td id=\"T_39882_row0_col3\" class=\"data row0 col3\" >0.000000</td>\n",
       "      <td id=\"T_39882_row0_col4\" class=\"data row0 col4\" >→</td>\n",
       "      <td id=\"T_39882_row0_col5\" class=\"data row0 col5\" >-5.820105</td>\n",
       "      <td id=\"T_39882_row0_col6\" class=\"data row0 col6\" >-35.220818</td>\n",
       "      <td id=\"T_39882_row0_col7\" class=\"data row0 col7\" >80.000000</td>\n",
       "      <td id=\"T_39882_row0_col8\" class=\"data row0 col8\" >-0.500000</td>\n",
       "      <td id=\"T_39882_row0_col9\" class=\"data row0 col9\" > </td>\n",
       "      <td id=\"T_39882_row0_col10\" class=\"data row0 col10\" >0.642839</td>\n",
       "      <td id=\"T_39882_row0_col11\" class=\"data row0 col11\" >0.742631</td>\n",
       "      <td id=\"T_39882_row0_col12\" class=\"data row0 col12\" >1.587458</td>\n",
       "    </tr>\n",
       "    <tr>\n",
       "      <th id=\"T_39882_level0_row1\" class=\"row_heading level0 row1\" >1</th>\n",
       "      <td id=\"T_39882_row1_col0\" class=\"data row1 col0\" >-5.820103</td>\n",
       "      <td id=\"T_39882_row1_col1\" class=\"data row1 col1\" >-35.220828</td>\n",
       "      <td id=\"T_39882_row1_col2\" class=\"data row1 col2\" >5</td>\n",
       "      <td id=\"T_39882_row1_col3\" class=\"data row1 col3\" >0.555556</td>\n",
       "      <td id=\"T_39882_row1_col4\" class=\"data row1 col4\" >→</td>\n",
       "      <td id=\"T_39882_row1_col5\" class=\"data row1 col5\" >-5.820103</td>\n",
       "      <td id=\"T_39882_row1_col6\" class=\"data row1 col6\" >-35.220828</td>\n",
       "      <td id=\"T_39882_row1_col7\" class=\"data row1 col7\" >80.000000</td>\n",
       "      <td id=\"T_39882_row1_col8\" class=\"data row1 col8\" >-0.500000</td>\n",
       "      <td id=\"T_39882_row1_col9\" class=\"data row1 col9\" > </td>\n",
       "      <td id=\"T_39882_row1_col10\" class=\"data row1 col10\" >0.653249</td>\n",
       "      <td id=\"T_39882_row1_col11\" class=\"data row1 col11\" >0.771505</td>\n",
       "      <td id=\"T_39882_row1_col12\" class=\"data row1 col12\" >1.587458</td>\n",
       "    </tr>\n",
       "    <tr>\n",
       "      <th id=\"T_39882_level0_row2\" class=\"row_heading level0 row2\" >2</th>\n",
       "      <td id=\"T_39882_row2_col0\" class=\"data row2 col0\" >-5.820102</td>\n",
       "      <td id=\"T_39882_row2_col1\" class=\"data row2 col1\" >-35.220838</td>\n",
       "      <td id=\"T_39882_row2_col2\" class=\"data row2 col2\" >5</td>\n",
       "      <td id=\"T_39882_row2_col3\" class=\"data row2 col3\" >0.000000</td>\n",
       "      <td id=\"T_39882_row2_col4\" class=\"data row2 col4\" >→</td>\n",
       "      <td id=\"T_39882_row2_col5\" class=\"data row2 col5\" >-5.820102</td>\n",
       "      <td id=\"T_39882_row2_col6\" class=\"data row2 col6\" >-35.220838</td>\n",
       "      <td id=\"T_39882_row2_col7\" class=\"data row2 col7\" >80.000000</td>\n",
       "      <td id=\"T_39882_row2_col8\" class=\"data row2 col8\" >-0.500000</td>\n",
       "      <td id=\"T_39882_row2_col9\" class=\"data row2 col9\" > </td>\n",
       "      <td id=\"T_39882_row2_col10\" class=\"data row2 col10\" >0.653249</td>\n",
       "      <td id=\"T_39882_row2_col11\" class=\"data row2 col11\" >0.771505</td>\n",
       "      <td id=\"T_39882_row2_col12\" class=\"data row2 col12\" >1.587458</td>\n",
       "    </tr>\n",
       "    <tr>\n",
       "      <th id=\"T_39882_level0_row3\" class=\"row_heading level0 row3\" >3</th>\n",
       "      <td id=\"T_39882_row3_col0\" class=\"data row3 col0\" >-5.820096</td>\n",
       "      <td id=\"T_39882_row3_col1\" class=\"data row3 col1\" >-35.220843</td>\n",
       "      <td id=\"T_39882_row3_col2\" class=\"data row3 col2\" >3</td>\n",
       "      <td id=\"T_39882_row3_col3\" class=\"data row3 col3\" >-0.555556</td>\n",
       "      <td id=\"T_39882_row3_col4\" class=\"data row3 col4\" >→</td>\n",
       "      <td id=\"T_39882_row3_col5\" class=\"data row3 col5\" >-5.820096</td>\n",
       "      <td id=\"T_39882_row3_col6\" class=\"data row3 col6\" >-35.220843</td>\n",
       "      <td id=\"T_39882_row3_col7\" class=\"data row3 col7\" >80.000000</td>\n",
       "      <td id=\"T_39882_row3_col8\" class=\"data row3 col8\" >-0.500000</td>\n",
       "      <td id=\"T_39882_row3_col9\" class=\"data row3 col9\" > </td>\n",
       "      <td id=\"T_39882_row3_col10\" class=\"data row3 col10\" >0.679275</td>\n",
       "      <td id=\"T_39882_row3_col11\" class=\"data row3 col11\" >0.659013</td>\n",
       "      <td id=\"T_39882_row3_col12\" class=\"data row3 col12\" >1.587458</td>\n",
       "    </tr>\n",
       "    <tr>\n",
       "      <th id=\"T_39882_level0_row4\" class=\"row_heading level0 row4\" >4</th>\n",
       "      <td id=\"T_39882_row4_col0\" class=\"data row4 col0\" >-5.820091</td>\n",
       "      <td id=\"T_39882_row4_col1\" class=\"data row4 col1\" >-35.220850</td>\n",
       "      <td id=\"T_39882_row4_col2\" class=\"data row4 col2\" >0</td>\n",
       "      <td id=\"T_39882_row4_col3\" class=\"data row4 col3\" >-0.833333</td>\n",
       "      <td id=\"T_39882_row4_col4\" class=\"data row4 col4\" >→</td>\n",
       "      <td id=\"T_39882_row4_col5\" class=\"data row4 col5\" >-5.820091</td>\n",
       "      <td id=\"T_39882_row4_col6\" class=\"data row4 col6\" >-35.220850</td>\n",
       "      <td id=\"T_39882_row4_col7\" class=\"data row4 col7\" >80.000000</td>\n",
       "      <td id=\"T_39882_row4_col8\" class=\"data row4 col8\" >-0.500000</td>\n",
       "      <td id=\"T_39882_row4_col9\" class=\"data row4 col9\" > </td>\n",
       "      <td id=\"T_39882_row4_col10\" class=\"data row4 col10\" >0.610306</td>\n",
       "      <td id=\"T_39882_row4_col11\" class=\"data row4 col11\" >0.667689</td>\n",
       "      <td id=\"T_39882_row4_col12\" class=\"data row4 col12\" >1.518750</td>\n",
       "    </tr>\n",
       "    <tr>\n",
       "      <th id=\"T_39882_level0_row5\" class=\"row_heading level0 row5\" >5</th>\n",
       "      <td id=\"T_39882_row5_col0\" class=\"data row5 col0\" >-5.820091</td>\n",
       "      <td id=\"T_39882_row5_col1\" class=\"data row5 col1\" >-35.220850</td>\n",
       "      <td id=\"T_39882_row5_col2\" class=\"data row5 col2\" >0</td>\n",
       "      <td id=\"T_39882_row5_col3\" class=\"data row5 col3\" >0.000000</td>\n",
       "      <td id=\"T_39882_row5_col4\" class=\"data row5 col4\" >→</td>\n",
       "      <td id=\"T_39882_row5_col5\" class=\"data row5 col5\" >-5.820091</td>\n",
       "      <td id=\"T_39882_row5_col6\" class=\"data row5 col6\" >-35.220850</td>\n",
       "      <td id=\"T_39882_row5_col7\" class=\"data row5 col7\" >80.000000</td>\n",
       "      <td id=\"T_39882_row5_col8\" class=\"data row5 col8\" >-0.500000</td>\n",
       "      <td id=\"T_39882_row5_col9\" class=\"data row5 col9\" > </td>\n",
       "      <td id=\"T_39882_row5_col10\" class=\"data row5 col10\" >0.610306</td>\n",
       "      <td id=\"T_39882_row5_col11\" class=\"data row5 col11\" >0.706858</td>\n",
       "      <td id=\"T_39882_row5_col12\" class=\"data row5 col12\" >1.518750</td>\n",
       "    </tr>\n",
       "    <tr>\n",
       "      <th id=\"T_39882_level0_row6\" class=\"row_heading level0 row6\" >6</th>\n",
       "      <td id=\"T_39882_row6_col0\" class=\"data row6 col0\" >-5.820091</td>\n",
       "      <td id=\"T_39882_row6_col1\" class=\"data row6 col1\" >-35.220850</td>\n",
       "      <td id=\"T_39882_row6_col2\" class=\"data row6 col2\" >0</td>\n",
       "      <td id=\"T_39882_row6_col3\" class=\"data row6 col3\" >0.000000</td>\n",
       "      <td id=\"T_39882_row6_col4\" class=\"data row6 col4\" >→</td>\n",
       "      <td id=\"T_39882_row6_col5\" class=\"data row6 col5\" >-5.820091</td>\n",
       "      <td id=\"T_39882_row6_col6\" class=\"data row6 col6\" >-35.220850</td>\n",
       "      <td id=\"T_39882_row6_col7\" class=\"data row6 col7\" >80.000000</td>\n",
       "      <td id=\"T_39882_row6_col8\" class=\"data row6 col8\" >-0.500000</td>\n",
       "      <td id=\"T_39882_row6_col9\" class=\"data row6 col9\" > </td>\n",
       "      <td id=\"T_39882_row6_col10\" class=\"data row6 col10\" >0.490587</td>\n",
       "      <td id=\"T_39882_row6_col11\" class=\"data row6 col11\" >0.706858</td>\n",
       "      <td id=\"T_39882_row6_col12\" class=\"data row6 col12\" >1.518750</td>\n",
       "    </tr>\n",
       "    <tr>\n",
       "      <th id=\"T_39882_level0_row7\" class=\"row_heading level0 row7\" >7</th>\n",
       "      <td id=\"T_39882_row7_col0\" class=\"data row7 col0\" >-5.820085</td>\n",
       "      <td id=\"T_39882_row7_col1\" class=\"data row7 col1\" >-35.220856</td>\n",
       "      <td id=\"T_39882_row7_col2\" class=\"data row7 col2\" >3</td>\n",
       "      <td id=\"T_39882_row7_col3\" class=\"data row7 col3\" >0.833333</td>\n",
       "      <td id=\"T_39882_row7_col4\" class=\"data row7 col4\" >→</td>\n",
       "      <td id=\"T_39882_row7_col5\" class=\"data row7 col5\" >-5.820085</td>\n",
       "      <td id=\"T_39882_row7_col6\" class=\"data row7 col6\" >-35.220856</td>\n",
       "      <td id=\"T_39882_row7_col7\" class=\"data row7 col7\" >80.000000</td>\n",
       "      <td id=\"T_39882_row7_col8\" class=\"data row7 col8\" >-0.500000</td>\n",
       "      <td id=\"T_39882_row7_col9\" class=\"data row7 col9\" > </td>\n",
       "      <td id=\"T_39882_row7_col10\" class=\"data row7 col10\" >1.090483</td>\n",
       "      <td id=\"T_39882_row7_col11\" class=\"data row7 col11\" >1.137803</td>\n",
       "      <td id=\"T_39882_row7_col12\" class=\"data row7 col12\" >1.518750</td>\n",
       "    </tr>\n",
       "    <tr>\n",
       "      <th id=\"T_39882_level0_row8\" class=\"row_heading level0 row8\" >8</th>\n",
       "      <td id=\"T_39882_row8_col0\" class=\"data row8 col0\" >-5.820074</td>\n",
       "      <td id=\"T_39882_row8_col1\" class=\"data row8 col1\" >-35.220859</td>\n",
       "      <td id=\"T_39882_row8_col2\" class=\"data row8 col2\" >3</td>\n",
       "      <td id=\"T_39882_row8_col3\" class=\"data row8 col3\" >0.000000</td>\n",
       "      <td id=\"T_39882_row8_col4\" class=\"data row8 col4\" >→</td>\n",
       "      <td id=\"T_39882_row8_col5\" class=\"data row8 col5\" >-5.820074</td>\n",
       "      <td id=\"T_39882_row8_col6\" class=\"data row8 col6\" >-35.220859</td>\n",
       "      <td id=\"T_39882_row8_col7\" class=\"data row8 col7\" >80.000000</td>\n",
       "      <td id=\"T_39882_row8_col8\" class=\"data row8 col8\" >-0.500000</td>\n",
       "      <td id=\"T_39882_row8_col9\" class=\"data row8 col9\" > </td>\n",
       "      <td id=\"T_39882_row8_col10\" class=\"data row8 col10\" >1.090483</td>\n",
       "      <td id=\"T_39882_row8_col11\" class=\"data row8 col11\" >1.137803</td>\n",
       "      <td id=\"T_39882_row8_col12\" class=\"data row8 col12\" >1.518750</td>\n",
       "    </tr>\n",
       "    <tr>\n",
       "      <th id=\"T_39882_level0_row9\" class=\"row_heading level0 row9\" >9</th>\n",
       "      <td id=\"T_39882_row9_col0\" class=\"data row9 col0\" >-5.820064</td>\n",
       "      <td id=\"T_39882_row9_col1\" class=\"data row9 col1\" >-35.220858</td>\n",
       "      <td id=\"T_39882_row9_col2\" class=\"data row9 col2\" >3</td>\n",
       "      <td id=\"T_39882_row9_col3\" class=\"data row9 col3\" >0.000000</td>\n",
       "      <td id=\"T_39882_row9_col4\" class=\"data row9 col4\" >→</td>\n",
       "      <td id=\"T_39882_row9_col5\" class=\"data row9 col5\" >-5.820064</td>\n",
       "      <td id=\"T_39882_row9_col6\" class=\"data row9 col6\" >-35.220858</td>\n",
       "      <td id=\"T_39882_row9_col7\" class=\"data row9 col7\" >80.000000</td>\n",
       "      <td id=\"T_39882_row9_col8\" class=\"data row9 col8\" >-0.500000</td>\n",
       "      <td id=\"T_39882_row9_col9\" class=\"data row9 col9\" > </td>\n",
       "      <td id=\"T_39882_row9_col10\" class=\"data row9 col10\" >0.921315</td>\n",
       "      <td id=\"T_39882_row9_col11\" class=\"data row9 col11\" >1.137803</td>\n",
       "      <td id=\"T_39882_row9_col12\" class=\"data row9 col12\" >1.518750</td>\n",
       "    </tr>\n",
       "  </tbody>\n",
       "</table>\n"
      ],
      "text/plain": [
       "<pandas.io.formats.style.Styler at 0x1a74206dc50>"
      ]
     },
     "metadata": {},
     "output_type": "display_data"
    },
    {
     "data": {
      "application/vnd.plotly.v1+json": {
       "config": {
        "plotlyServerURL": "https://plot.ly"
       },
       "data": [
        {
         "line": {
          "color": "gray",
          "dash": "dot"
         },
         "mode": "lines",
         "name": "Real",
         "type": "scatter",
         "y": {
          "bdata": "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",
          "dtype": "f8"
         }
        },
        {
         "line": {
          "color": "blue",
          "dash": "dash"
         },
         "mode": "lines",
         "name": "Predição Original",
         "type": "scatter",
         "y": {
          "bdata": "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",
          "dtype": "f8"
         }
        },
        {
         "line": {
          "color": "red"
         },
         "mode": "lines",
         "name": "Predição com RM",
         "type": "scatter",
         "y": {
          "bdata": "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",
          "dtype": "f8"
         }
        }
       ],
       "layout": {
        "template": {
         "data": {
          "bar": [
           {
            "error_x": {
             "color": "#2a3f5f"
            },
            "error_y": {
             "color": "#2a3f5f"
            },
            "marker": {
             "line": {
              "color": "white",
              "width": 0.5
             },
             "pattern": {
              "fillmode": "overlay",
              "size": 10,
              "solidity": 0.2
             }
            },
            "type": "bar"
           }
          ],
          "barpolar": [
           {
            "marker": {
             "line": {
              "color": "white",
              "width": 0.5
             },
             "pattern": {
              "fillmode": "overlay",
              "size": 10,
              "solidity": 0.2
             }
            },
            "type": "barpolar"
           }
          ],
          "carpet": [
           {
            "aaxis": {
             "endlinecolor": "#2a3f5f",
             "gridcolor": "#C8D4E3",
             "linecolor": "#C8D4E3",
             "minorgridcolor": "#C8D4E3",
             "startlinecolor": "#2a3f5f"
            },
            "baxis": {
             "endlinecolor": "#2a3f5f",
             "gridcolor": "#C8D4E3",
             "linecolor": "#C8D4E3",
             "minorgridcolor": "#C8D4E3",
             "startlinecolor": "#2a3f5f"
            },
            "type": "carpet"
           }
          ],
          "choropleth": [
           {
            "colorbar": {
             "outlinewidth": 0,
             "ticks": ""
            },
            "type": "choropleth"
           }
          ],
          "contour": [
           {
            "colorbar": {
             "outlinewidth": 0,
             "ticks": ""
            },
            "colorscale": [
             [
              0,
              "#0d0887"
             ],
             [
              0.1111111111111111,
              "#46039f"
             ],
             [
              0.2222222222222222,
              "#7201a8"
             ],
             [
              0.3333333333333333,
              "#9c179e"
             ],
             [
              0.4444444444444444,
              "#bd3786"
             ],
             [
              0.5555555555555556,
              "#d8576b"
             ],
             [
              0.6666666666666666,
              "#ed7953"
             ],
             [
              0.7777777777777778,
              "#fb9f3a"
             ],
             [
              0.8888888888888888,
              "#fdca26"
             ],
             [
              1,
              "#f0f921"
             ]
            ],
            "type": "contour"
           }
          ],
          "contourcarpet": [
           {
            "colorbar": {
             "outlinewidth": 0,
             "ticks": ""
            },
            "type": "contourcarpet"
           }
          ],
          "heatmap": [
           {
            "colorbar": {
             "outlinewidth": 0,
             "ticks": ""
            },
            "colorscale": [
             [
              0,
              "#0d0887"
             ],
             [
              0.1111111111111111,
              "#46039f"
             ],
             [
              0.2222222222222222,
              "#7201a8"
             ],
             [
              0.3333333333333333,
              "#9c179e"
             ],
             [
              0.4444444444444444,
              "#bd3786"
             ],
             [
              0.5555555555555556,
              "#d8576b"
             ],
             [
              0.6666666666666666,
              "#ed7953"
             ],
             [
              0.7777777777777778,
              "#fb9f3a"
             ],
             [
              0.8888888888888888,
              "#fdca26"
             ],
             [
              1,
              "#f0f921"
             ]
            ],
            "type": "heatmap"
           }
          ],
          "histogram": [
           {
            "marker": {
             "pattern": {
              "fillmode": "overlay",
              "size": 10,
              "solidity": 0.2
             }
            },
            "type": "histogram"
           }
          ],
          "histogram2d": [
           {
            "colorbar": {
             "outlinewidth": 0,
             "ticks": ""
            },
            "colorscale": [
             [
              0,
              "#0d0887"
             ],
             [
              0.1111111111111111,
              "#46039f"
             ],
             [
              0.2222222222222222,
              "#7201a8"
             ],
             [
              0.3333333333333333,
              "#9c179e"
             ],
             [
              0.4444444444444444,
              "#bd3786"
             ],
             [
              0.5555555555555556,
              "#d8576b"
             ],
             [
              0.6666666666666666,
              "#ed7953"
             ],
             [
              0.7777777777777778,
              "#fb9f3a"
             ],
             [
              0.8888888888888888,
              "#fdca26"
             ],
             [
              1,
              "#f0f921"
             ]
            ],
            "type": "histogram2d"
           }
          ],
          "histogram2dcontour": [
           {
            "colorbar": {
             "outlinewidth": 0,
             "ticks": ""
            },
            "colorscale": [
             [
              0,
              "#0d0887"
             ],
             [
              0.1111111111111111,
              "#46039f"
             ],
             [
              0.2222222222222222,
              "#7201a8"
             ],
             [
              0.3333333333333333,
              "#9c179e"
             ],
             [
              0.4444444444444444,
              "#bd3786"
             ],
             [
              0.5555555555555556,
              "#d8576b"
             ],
             [
              0.6666666666666666,
              "#ed7953"
             ],
             [
              0.7777777777777778,
              "#fb9f3a"
             ],
             [
              0.8888888888888888,
              "#fdca26"
             ],
             [
              1,
              "#f0f921"
             ]
            ],
            "type": "histogram2dcontour"
           }
          ],
          "mesh3d": [
           {
            "colorbar": {
             "outlinewidth": 0,
             "ticks": ""
            },
            "type": "mesh3d"
           }
          ],
          "parcoords": [
           {
            "line": {
             "colorbar": {
              "outlinewidth": 0,
              "ticks": ""
             }
            },
            "type": "parcoords"
           }
          ],
          "pie": [
           {
            "automargin": true,
            "type": "pie"
           }
          ],
          "scatter": [
           {
            "fillpattern": {
             "fillmode": "overlay",
             "size": 10,
             "solidity": 0.2
            },
            "type": "scatter"
           }
          ],
          "scatter3d": [
           {
            "line": {
             "colorbar": {
              "outlinewidth": 0,
              "ticks": ""
             }
            },
            "marker": {
             "colorbar": {
              "outlinewidth": 0,
              "ticks": ""
             }
            },
            "type": "scatter3d"
           }
          ],
          "scattercarpet": [
           {
            "marker": {
             "colorbar": {
              "outlinewidth": 0,
              "ticks": ""
             }
            },
            "type": "scattercarpet"
           }
          ],
          "scattergeo": [
           {
            "marker": {
             "colorbar": {
              "outlinewidth": 0,
              "ticks": ""
             }
            },
            "type": "scattergeo"
           }
          ],
          "scattergl": [
           {
            "marker": {
             "colorbar": {
              "outlinewidth": 0,
              "ticks": ""
             }
            },
            "type": "scattergl"
           }
          ],
          "scattermap": [
           {
            "marker": {
             "colorbar": {
              "outlinewidth": 0,
              "ticks": ""
             }
            },
            "type": "scattermap"
           }
          ],
          "scattermapbox": [
           {
            "marker": {
             "colorbar": {
              "outlinewidth": 0,
              "ticks": ""
             }
            },
            "type": "scattermapbox"
           }
          ],
          "scatterpolar": [
           {
            "marker": {
             "colorbar": {
              "outlinewidth": 0,
              "ticks": ""
             }
            },
            "type": "scatterpolar"
           }
          ],
          "scatterpolargl": [
           {
            "marker": {
             "colorbar": {
              "outlinewidth": 0,
              "ticks": ""
             }
            },
            "type": "scatterpolargl"
           }
          ],
          "scatterternary": [
           {
            "marker": {
             "colorbar": {
              "outlinewidth": 0,
              "ticks": ""
             }
            },
            "type": "scatterternary"
           }
          ],
          "surface": [
           {
            "colorbar": {
             "outlinewidth": 0,
             "ticks": ""
            },
            "colorscale": [
             [
              0,
              "#0d0887"
             ],
             [
              0.1111111111111111,
              "#46039f"
             ],
             [
              0.2222222222222222,
              "#7201a8"
             ],
             [
              0.3333333333333333,
              "#9c179e"
             ],
             [
              0.4444444444444444,
              "#bd3786"
             ],
             [
              0.5555555555555556,
              "#d8576b"
             ],
             [
              0.6666666666666666,
              "#ed7953"
             ],
             [
              0.7777777777777778,
              "#fb9f3a"
             ],
             [
              0.8888888888888888,
              "#fdca26"
             ],
             [
              1,
              "#f0f921"
             ]
            ],
            "type": "surface"
           }
          ],
          "table": [
           {
            "cells": {
             "fill": {
              "color": "#EBF0F8"
             },
             "line": {
              "color": "white"
             }
            },
            "header": {
             "fill": {
              "color": "#C8D4E3"
             },
             "line": {
              "color": "white"
             }
            },
            "type": "table"
           }
          ]
         },
         "layout": {
          "annotationdefaults": {
           "arrowcolor": "#2a3f5f",
           "arrowhead": 0,
           "arrowwidth": 1
          },
          "autotypenumbers": "strict",
          "coloraxis": {
           "colorbar": {
            "outlinewidth": 0,
            "ticks": ""
           }
          },
          "colorscale": {
           "diverging": [
            [
             0,
             "#8e0152"
            ],
            [
             0.1,
             "#c51b7d"
            ],
            [
             0.2,
             "#de77ae"
            ],
            [
             0.3,
             "#f1b6da"
            ],
            [
             0.4,
             "#fde0ef"
            ],
            [
             0.5,
             "#f7f7f7"
            ],
            [
             0.6,
             "#e6f5d0"
            ],
            [
             0.7,
             "#b8e186"
            ],
            [
             0.8,
             "#7fbc41"
            ],
            [
             0.9,
             "#4d9221"
            ],
            [
             1,
             "#276419"
            ]
           ],
           "sequential": [
            [
             0,
             "#0d0887"
            ],
            [
             0.1111111111111111,
             "#46039f"
            ],
            [
             0.2222222222222222,
             "#7201a8"
            ],
            [
             0.3333333333333333,
             "#9c179e"
            ],
            [
             0.4444444444444444,
             "#bd3786"
            ],
            [
             0.5555555555555556,
             "#d8576b"
            ],
            [
             0.6666666666666666,
             "#ed7953"
            ],
            [
             0.7777777777777778,
             "#fb9f3a"
            ],
            [
             0.8888888888888888,
             "#fdca26"
            ],
            [
             1,
             "#f0f921"
            ]
           ],
           "sequentialminus": [
            [
             0,
             "#0d0887"
            ],
            [
             0.1111111111111111,
             "#46039f"
            ],
            [
             0.2222222222222222,
             "#7201a8"
            ],
            [
             0.3333333333333333,
             "#9c179e"
            ],
            [
             0.4444444444444444,
             "#bd3786"
            ],
            [
             0.5555555555555556,
             "#d8576b"
            ],
            [
             0.6666666666666666,
             "#ed7953"
            ],
            [
             0.7777777777777778,
             "#fb9f3a"
            ],
            [
             0.8888888888888888,
             "#fdca26"
            ],
            [
             1,
             "#f0f921"
            ]
           ]
          },
          "colorway": [
           "#636efa",
           "#EF553B",
           "#00cc96",
           "#ab63fa",
           "#FFA15A",
           "#19d3f3",
           "#FF6692",
           "#B6E880",
           "#FF97FF",
           "#FECB52"
          ],
          "font": {
           "color": "#2a3f5f"
          },
          "geo": {
           "bgcolor": "white",
           "lakecolor": "white",
           "landcolor": "white",
           "showlakes": true,
           "showland": true,
           "subunitcolor": "#C8D4E3"
          },
          "hoverlabel": {
           "align": "left"
          },
          "hovermode": "closest",
          "mapbox": {
           "style": "light"
          },
          "paper_bgcolor": "white",
          "plot_bgcolor": "white",
          "polar": {
           "angularaxis": {
            "gridcolor": "#EBF0F8",
            "linecolor": "#EBF0F8",
            "ticks": ""
           },
           "bgcolor": "white",
           "radialaxis": {
            "gridcolor": "#EBF0F8",
            "linecolor": "#EBF0F8",
            "ticks": ""
           }
          },
          "scene": {
           "xaxis": {
            "backgroundcolor": "white",
            "gridcolor": "#DFE8F3",
            "gridwidth": 2,
            "linecolor": "#EBF0F8",
            "showbackground": true,
            "ticks": "",
            "zerolinecolor": "#EBF0F8"
           },
           "yaxis": {
            "backgroundcolor": "white",
            "gridcolor": "#DFE8F3",
            "gridwidth": 2,
            "linecolor": "#EBF0F8",
            "showbackground": true,
            "ticks": "",
            "zerolinecolor": "#EBF0F8"
           },
           "zaxis": {
            "backgroundcolor": "white",
            "gridcolor": "#DFE8F3",
            "gridwidth": 2,
            "linecolor": "#EBF0F8",
            "showbackground": true,
            "ticks": "",
            "zerolinecolor": "#EBF0F8"
           }
          },
          "shapedefaults": {
           "line": {
            "color": "#2a3f5f"
           }
          },
          "ternary": {
           "aaxis": {
            "gridcolor": "#DFE8F3",
            "linecolor": "#A2B1C6",
            "ticks": ""
           },
           "baxis": {
            "gridcolor": "#DFE8F3",
            "linecolor": "#A2B1C6",
            "ticks": ""
           },
           "bgcolor": "white",
           "caxis": {
            "gridcolor": "#DFE8F3",
            "linecolor": "#A2B1C6",
            "ticks": ""
           }
          },
          "title": {
           "x": 0.05
          },
          "xaxis": {
           "automargin": true,
           "gridcolor": "#EBF0F8",
           "linecolor": "#EBF0F8",
           "ticks": "",
           "title": {
            "standoff": 15
           },
           "zerolinecolor": "#EBF0F8",
           "zerolinewidth": 2
          },
          "yaxis": {
           "automargin": true,
           "gridcolor": "#EBF0F8",
           "linecolor": "#EBF0F8",
           "ticks": "",
           "title": {
            "standoff": 15
           },
           "zerolinecolor": "#EBF0F8",
           "zerolinewidth": 2
          }
         }
        },
        "title": {
         "text": "Comparação CO₂ (200 Amostras) - CT_N3_013: [Composta] - Simular Inércia em Declive - ETHANOL",
         "x": 0.5
        },
        "xaxis": {
         "title": {
          "text": "Amostras"
         }
        },
        "yaxis": {
         "title": {
          "text": "CO₂ (g/s)"
         }
        }
       }
      }
     },
     "metadata": {},
     "output_type": "display_data"
    },
    {
     "name": "stdout",
     "output_type": "stream",
     "text": [
      "\n",
      "================================================================================\n",
      "🔁 CT_N3_013: [Composta] - Simular Inércia em Declive (GASOLINE)\n",
      "--------------------------------------------------------------------------------\n",
      "Diferença Média: 0.6179 | Diferença Máxima: 2.6798 | RMSE: 0.7613 | Desvio Padrão (Std): 0.4448\n"
     ]
    },
    {
     "data": {
      "text/html": [
       "<style type=\"text/css\">\n",
       "</style>\n",
       "<table id=\"T_69508\">\n",
       "  <caption>Comparação dos dados - CT_N3_013: [Composta] - Simular Inércia em Declive (GASOLINE)</caption>\n",
       "  <thead>\n",
       "    <tr>\n",
       "      <th class=\"blank level0\" >&nbsp;</th>\n",
       "      <th id=\"T_69508_level0_col0\" class=\"col_heading level0 col0\" >Latitude_Orig</th>\n",
       "      <th id=\"T_69508_level0_col1\" class=\"col_heading level0 col1\" >Longitude_Orig</th>\n",
       "      <th id=\"T_69508_level0_col2\" class=\"col_heading level0 col2\" >Speed(OBD)(km/h)_Orig</th>\n",
       "      <th id=\"T_69508_level0_col3\" class=\"col_heading level0 col3\" >Acceleration_Orig</th>\n",
       "      <th id=\"T_69508_level0_col4\" class=\"col_heading level0 col4\" > </th>\n",
       "      <th id=\"T_69508_level0_col5\" class=\"col_heading level0 col5\" >Latitude_Mod</th>\n",
       "      <th id=\"T_69508_level0_col6\" class=\"col_heading level0 col6\" >Longitude_Mod</th>\n",
       "      <th id=\"T_69508_level0_col7\" class=\"col_heading level0 col7\" >Speed(OBD)(km/h)_Mod</th>\n",
       "      <th id=\"T_69508_level0_col8\" class=\"col_heading level0 col8\" >Acceleration_Mod</th>\n",
       "      <th id=\"T_69508_level0_col9\" class=\"col_heading level0 col9\" > </th>\n",
       "      <th id=\"T_69508_level0_col10\" class=\"col_heading level0 col10\" >CO₂_Real</th>\n",
       "      <th id=\"T_69508_level0_col11\" class=\"col_heading level0 col11\" >CO₂_Pred_Orig</th>\n",
       "      <th id=\"T_69508_level0_col12\" class=\"col_heading level0 col12\" >CO₂_Pred_Mod</th>\n",
       "    </tr>\n",
       "  </thead>\n",
       "  <tbody>\n",
       "    <tr>\n",
       "      <th id=\"T_69508_level0_row0\" class=\"row_heading level0 row0\" >0</th>\n",
       "      <td id=\"T_69508_row0_col0\" class=\"data row0 col0\" >-5.820010</td>\n",
       "      <td id=\"T_69508_row0_col1\" class=\"data row0 col1\" >-35.220825</td>\n",
       "      <td id=\"T_69508_row0_col2\" class=\"data row0 col2\" >5</td>\n",
       "      <td id=\"T_69508_row0_col3\" class=\"data row0 col3\" >0.000000</td>\n",
       "      <td id=\"T_69508_row0_col4\" class=\"data row0 col4\" >→</td>\n",
       "      <td id=\"T_69508_row0_col5\" class=\"data row0 col5\" >-5.820010</td>\n",
       "      <td id=\"T_69508_row0_col6\" class=\"data row0 col6\" >-35.220825</td>\n",
       "      <td id=\"T_69508_row0_col7\" class=\"data row0 col7\" >80.000000</td>\n",
       "      <td id=\"T_69508_row0_col8\" class=\"data row0 col8\" >-0.500000</td>\n",
       "      <td id=\"T_69508_row0_col9\" class=\"data row0 col9\" > </td>\n",
       "      <td id=\"T_69508_row0_col10\" class=\"data row0 col10\" >1.002671</td>\n",
       "      <td id=\"T_69508_row0_col11\" class=\"data row0 col11\" >1.456781</td>\n",
       "      <td id=\"T_69508_row0_col12\" class=\"data row0 col12\" >2.051800</td>\n",
       "    </tr>\n",
       "    <tr>\n",
       "      <th id=\"T_69508_level0_row1\" class=\"row_heading level0 row1\" >1</th>\n",
       "      <td id=\"T_69508_row1_col0\" class=\"data row1 col0\" >-5.820013</td>\n",
       "      <td id=\"T_69508_row1_col1\" class=\"data row1 col1\" >-35.220822</td>\n",
       "      <td id=\"T_69508_row1_col2\" class=\"data row1 col2\" >4</td>\n",
       "      <td id=\"T_69508_row1_col3\" class=\"data row1 col3\" >-0.277778</td>\n",
       "      <td id=\"T_69508_row1_col4\" class=\"data row1 col4\" >→</td>\n",
       "      <td id=\"T_69508_row1_col5\" class=\"data row1 col5\" >-5.820013</td>\n",
       "      <td id=\"T_69508_row1_col6\" class=\"data row1 col6\" >-35.220822</td>\n",
       "      <td id=\"T_69508_row1_col7\" class=\"data row1 col7\" >80.000000</td>\n",
       "      <td id=\"T_69508_row1_col8\" class=\"data row1 col8\" >-0.500000</td>\n",
       "      <td id=\"T_69508_row1_col9\" class=\"data row1 col9\" > </td>\n",
       "      <td id=\"T_69508_row1_col10\" class=\"data row1 col10\" >1.013360</td>\n",
       "      <td id=\"T_69508_row1_col11\" class=\"data row1 col11\" >1.016708</td>\n",
       "      <td id=\"T_69508_row1_col12\" class=\"data row1 col12\" >2.051800</td>\n",
       "    </tr>\n",
       "    <tr>\n",
       "      <th id=\"T_69508_level0_row2\" class=\"row_heading level0 row2\" >2</th>\n",
       "      <td id=\"T_69508_row2_col0\" class=\"data row2 col0\" >-5.820016</td>\n",
       "      <td id=\"T_69508_row2_col1\" class=\"data row2 col1\" >-35.220819</td>\n",
       "      <td id=\"T_69508_row2_col2\" class=\"data row2 col2\" >5</td>\n",
       "      <td id=\"T_69508_row2_col3\" class=\"data row2 col3\" >0.277778</td>\n",
       "      <td id=\"T_69508_row2_col4\" class=\"data row2 col4\" >→</td>\n",
       "      <td id=\"T_69508_row2_col5\" class=\"data row2 col5\" >-5.820016</td>\n",
       "      <td id=\"T_69508_row2_col6\" class=\"data row2 col6\" >-35.220819</td>\n",
       "      <td id=\"T_69508_row2_col7\" class=\"data row2 col7\" >80.000000</td>\n",
       "      <td id=\"T_69508_row2_col8\" class=\"data row2 col8\" >-0.500000</td>\n",
       "      <td id=\"T_69508_row2_col9\" class=\"data row2 col9\" > </td>\n",
       "      <td id=\"T_69508_row2_col10\" class=\"data row2 col10\" >2.088720</td>\n",
       "      <td id=\"T_69508_row2_col11\" class=\"data row2 col11\" >1.456781</td>\n",
       "      <td id=\"T_69508_row2_col12\" class=\"data row2 col12\" >2.051800</td>\n",
       "    </tr>\n",
       "    <tr>\n",
       "      <th id=\"T_69508_level0_row3\" class=\"row_heading level0 row3\" >3</th>\n",
       "      <td id=\"T_69508_row3_col0\" class=\"data row3 col0\" >-5.820014</td>\n",
       "      <td id=\"T_69508_row3_col1\" class=\"data row3 col1\" >-35.220825</td>\n",
       "      <td id=\"T_69508_row3_col2\" class=\"data row3 col2\" >7</td>\n",
       "      <td id=\"T_69508_row3_col3\" class=\"data row3 col3\" >0.555556</td>\n",
       "      <td id=\"T_69508_row3_col4\" class=\"data row3 col4\" >→</td>\n",
       "      <td id=\"T_69508_row3_col5\" class=\"data row3 col5\" >-5.820014</td>\n",
       "      <td id=\"T_69508_row3_col6\" class=\"data row3 col6\" >-35.220825</td>\n",
       "      <td id=\"T_69508_row3_col7\" class=\"data row3 col7\" >80.000000</td>\n",
       "      <td id=\"T_69508_row3_col8\" class=\"data row3 col8\" >-0.500000</td>\n",
       "      <td id=\"T_69508_row3_col9\" class=\"data row3 col9\" > </td>\n",
       "      <td id=\"T_69508_row3_col10\" class=\"data row3 col10\" >2.261889</td>\n",
       "      <td id=\"T_69508_row3_col11\" class=\"data row3 col11\" >1.996380</td>\n",
       "      <td id=\"T_69508_row3_col12\" class=\"data row3 col12\" >2.051800</td>\n",
       "    </tr>\n",
       "    <tr>\n",
       "      <th id=\"T_69508_level0_row4\" class=\"row_heading level0 row4\" >4</th>\n",
       "      <td id=\"T_69508_row4_col0\" class=\"data row4 col0\" >-5.819992</td>\n",
       "      <td id=\"T_69508_row4_col1\" class=\"data row4 col1\" >-35.220829</td>\n",
       "      <td id=\"T_69508_row4_col2\" class=\"data row4 col2\" >9</td>\n",
       "      <td id=\"T_69508_row4_col3\" class=\"data row4 col3\" >0.555556</td>\n",
       "      <td id=\"T_69508_row4_col4\" class=\"data row4 col4\" >→</td>\n",
       "      <td id=\"T_69508_row4_col5\" class=\"data row4 col5\" >-5.819992</td>\n",
       "      <td id=\"T_69508_row4_col6\" class=\"data row4 col6\" >-35.220829</td>\n",
       "      <td id=\"T_69508_row4_col7\" class=\"data row4 col7\" >80.000000</td>\n",
       "      <td id=\"T_69508_row4_col8\" class=\"data row4 col8\" >-0.500000</td>\n",
       "      <td id=\"T_69508_row4_col9\" class=\"data row4 col9\" > </td>\n",
       "      <td id=\"T_69508_row4_col10\" class=\"data row4 col10\" >2.499195</td>\n",
       "      <td id=\"T_69508_row4_col11\" class=\"data row4 col11\" >2.400486</td>\n",
       "      <td id=\"T_69508_row4_col12\" class=\"data row4 col12\" >1.762516</td>\n",
       "    </tr>\n",
       "    <tr>\n",
       "      <th id=\"T_69508_level0_row5\" class=\"row_heading level0 row5\" >5</th>\n",
       "      <td id=\"T_69508_row5_col0\" class=\"data row5 col0\" >-5.819974</td>\n",
       "      <td id=\"T_69508_row5_col1\" class=\"data row5 col1\" >-35.220824</td>\n",
       "      <td id=\"T_69508_row5_col2\" class=\"data row5 col2\" >12</td>\n",
       "      <td id=\"T_69508_row5_col3\" class=\"data row5 col3\" >0.833333</td>\n",
       "      <td id=\"T_69508_row5_col4\" class=\"data row5 col4\" >→</td>\n",
       "      <td id=\"T_69508_row5_col5\" class=\"data row5 col5\" >-5.819974</td>\n",
       "      <td id=\"T_69508_row5_col6\" class=\"data row5 col6\" >-35.220824</td>\n",
       "      <td id=\"T_69508_row5_col7\" class=\"data row5 col7\" >80.000000</td>\n",
       "      <td id=\"T_69508_row5_col8\" class=\"data row5 col8\" >-0.500000</td>\n",
       "      <td id=\"T_69508_row5_col9\" class=\"data row5 col9\" > </td>\n",
       "      <td id=\"T_69508_row5_col10\" class=\"data row5 col10\" >2.606089</td>\n",
       "      <td id=\"T_69508_row5_col11\" class=\"data row5 col11\" >2.400486</td>\n",
       "      <td id=\"T_69508_row5_col12\" class=\"data row5 col12\" >1.762516</td>\n",
       "    </tr>\n",
       "    <tr>\n",
       "      <th id=\"T_69508_level0_row6\" class=\"row_heading level0 row6\" >6</th>\n",
       "      <td id=\"T_69508_row6_col0\" class=\"data row6 col0\" >-5.819944</td>\n",
       "      <td id=\"T_69508_row6_col1\" class=\"data row6 col1\" >-35.220823</td>\n",
       "      <td id=\"T_69508_row6_col2\" class=\"data row6 col2\" >15</td>\n",
       "      <td id=\"T_69508_row6_col3\" class=\"data row6 col3\" >0.833333</td>\n",
       "      <td id=\"T_69508_row6_col4\" class=\"data row6 col4\" >→</td>\n",
       "      <td id=\"T_69508_row6_col5\" class=\"data row6 col5\" >-5.819944</td>\n",
       "      <td id=\"T_69508_row6_col6\" class=\"data row6 col6\" >-35.220823</td>\n",
       "      <td id=\"T_69508_row6_col7\" class=\"data row6 col7\" >80.000000</td>\n",
       "      <td id=\"T_69508_row6_col8\" class=\"data row6 col8\" >-0.500000</td>\n",
       "      <td id=\"T_69508_row6_col9\" class=\"data row6 col9\" > </td>\n",
       "      <td id=\"T_69508_row6_col10\" class=\"data row6 col10\" >3.070012</td>\n",
       "      <td id=\"T_69508_row6_col11\" class=\"data row6 col11\" >2.148721</td>\n",
       "      <td id=\"T_69508_row6_col12\" class=\"data row6 col12\" >1.694650</td>\n",
       "    </tr>\n",
       "    <tr>\n",
       "      <th id=\"T_69508_level0_row7\" class=\"row_heading level0 row7\" >7</th>\n",
       "      <td id=\"T_69508_row7_col0\" class=\"data row7 col0\" >-5.819908</td>\n",
       "      <td id=\"T_69508_row7_col1\" class=\"data row7 col1\" >-35.220810</td>\n",
       "      <td id=\"T_69508_row7_col2\" class=\"data row7 col2\" >18</td>\n",
       "      <td id=\"T_69508_row7_col3\" class=\"data row7 col3\" >0.833333</td>\n",
       "      <td id=\"T_69508_row7_col4\" class=\"data row7 col4\" >→</td>\n",
       "      <td id=\"T_69508_row7_col5\" class=\"data row7 col5\" >-5.819908</td>\n",
       "      <td id=\"T_69508_row7_col6\" class=\"data row7 col6\" >-35.220810</td>\n",
       "      <td id=\"T_69508_row7_col7\" class=\"data row7 col7\" >80.000000</td>\n",
       "      <td id=\"T_69508_row7_col8\" class=\"data row7 col8\" >-0.500000</td>\n",
       "      <td id=\"T_69508_row7_col9\" class=\"data row7 col9\" > </td>\n",
       "      <td id=\"T_69508_row7_col10\" class=\"data row7 col10\" >2.445747</td>\n",
       "      <td id=\"T_69508_row7_col11\" class=\"data row7 col11\" >1.470940</td>\n",
       "      <td id=\"T_69508_row7_col12\" class=\"data row7 col12\" >1.607205</td>\n",
       "    </tr>\n",
       "    <tr>\n",
       "      <th id=\"T_69508_level0_row8\" class=\"row_heading level0 row8\" >8</th>\n",
       "      <td id=\"T_69508_row8_col0\" class=\"data row8 col0\" >-5.819866</td>\n",
       "      <td id=\"T_69508_row8_col1\" class=\"data row8 col1\" >-35.220794</td>\n",
       "      <td id=\"T_69508_row8_col2\" class=\"data row8 col2\" >18</td>\n",
       "      <td id=\"T_69508_row8_col3\" class=\"data row8 col3\" >0.000000</td>\n",
       "      <td id=\"T_69508_row8_col4\" class=\"data row8 col4\" >→</td>\n",
       "      <td id=\"T_69508_row8_col5\" class=\"data row8 col5\" >-5.819866</td>\n",
       "      <td id=\"T_69508_row8_col6\" class=\"data row8 col6\" >-35.220794</td>\n",
       "      <td id=\"T_69508_row8_col7\" class=\"data row8 col7\" >80.000000</td>\n",
       "      <td id=\"T_69508_row8_col8\" class=\"data row8 col8\" >-0.500000</td>\n",
       "      <td id=\"T_69508_row8_col9\" class=\"data row8 col9\" > </td>\n",
       "      <td id=\"T_69508_row8_col10\" class=\"data row8 col10\" >1.073221</td>\n",
       "      <td id=\"T_69508_row8_col11\" class=\"data row8 col11\" >1.588029</td>\n",
       "      <td id=\"T_69508_row8_col12\" class=\"data row8 col12\" >1.607205</td>\n",
       "    </tr>\n",
       "    <tr>\n",
       "      <th id=\"T_69508_level0_row9\" class=\"row_heading level0 row9\" >9</th>\n",
       "      <td id=\"T_69508_row9_col0\" class=\"data row9 col0\" >-5.819821</td>\n",
       "      <td id=\"T_69508_row9_col1\" class=\"data row9 col1\" >-35.220775</td>\n",
       "      <td id=\"T_69508_row9_col2\" class=\"data row9 col2\" >16</td>\n",
       "      <td id=\"T_69508_row9_col3\" class=\"data row9 col3\" >-0.555556</td>\n",
       "      <td id=\"T_69508_row9_col4\" class=\"data row9 col4\" >→</td>\n",
       "      <td id=\"T_69508_row9_col5\" class=\"data row9 col5\" >-5.819821</td>\n",
       "      <td id=\"T_69508_row9_col6\" class=\"data row9 col6\" >-35.220775</td>\n",
       "      <td id=\"T_69508_row9_col7\" class=\"data row9 col7\" >80.000000</td>\n",
       "      <td id=\"T_69508_row9_col8\" class=\"data row9 col8\" >-0.500000</td>\n",
       "      <td id=\"T_69508_row9_col9\" class=\"data row9 col9\" > </td>\n",
       "      <td id=\"T_69508_row9_col10\" class=\"data row9 col10\" >0.562265</td>\n",
       "      <td id=\"T_69508_row9_col11\" class=\"data row9 col11\" >1.085921</td>\n",
       "      <td id=\"T_69508_row9_col12\" class=\"data row9 col12\" >1.591138</td>\n",
       "    </tr>\n",
       "  </tbody>\n",
       "</table>\n"
      ],
      "text/plain": [
       "<pandas.io.formats.style.Styler at 0x1a742aa4c90>"
      ]
     },
     "metadata": {},
     "output_type": "display_data"
    },
    {
     "data": {
      "application/vnd.plotly.v1+json": {
       "config": {
        "plotlyServerURL": "https://plot.ly"
       },
       "data": [
        {
         "line": {
          "color": "gray",
          "dash": "dot"
         },
         "mode": "lines",
         "name": "Real",
         "type": "scatter",
         "y": {
          "bdata": "fgFSsvAK8D+A9UFnuTbwP+sFLaeytQBAlHGRLVkYAkBCucXSWf4DQEt9dVtF2QRAqBJmS2KPCEA+120O5JADQCN/TinqK/E/+as09BP+4T+aTWFMs5viP5pNYUyzm+I/XDzytNji+j+dNUG2RPMCQCiGK0XJLgZAUV/NH7tGBUCt9L0P2PwIQMoh0PdM4gZALUmGV/HwAUC7e8iq65kFQJWKBjqL2QZAPtdtDuSQA0A+120O5JADQD/LXcOsvPM/G9QTrTAS5T+dNUG2RPPiPz7XbQ7kkOM/PtdtDuSQ4z+N38u90b/qPypPDv0M2/E/XDzytNjiCkCoDN6lRqUIQKgM3qVGpQhA8yxc66J8D0BuxFHGr5gMQIjedkcOpwVAJ4Cjn61EBkBRX80fu0YFQLWf+IuRFgVAtZ/4i5EWBUBZCgicdGDxP1JTvdSDcvU/1NlvNQHp9z+u1cBdilHkP67VwF2KUeQ/oGcrz6h17D9QRlgTiYXwP5J9oXiQ7PE/kn2heJDs8T/DRQDZ8l7mP79dIG9hB+Y/v10gb2EH5j+/XSBvYQfmP2LnLDGS/OY/sOIlH4U+6T/qekRTCmDuP6BnK8+odew/mWxe/gBHB0CpJVOyeGYNQIFGKTJrZA5AgUYpMmtkDkDqCPF5wKoQQNfm1Pb71QxA1+bU9vvVDEDDRQDZ8l7mP8A4mxf4ceE/+as09BP+4T9i5ywxkvzmP2LnLDGS/OY/QeTSz9596D9B5NLP3n3oPzJEUyiZH+c/MkRTKJkf5z95fPEDZJ/tP3l88QNkn+0/2trEq8QB7T8Lfp60vd7sP9by5EEzquw/LlxzvgfI5j8uXHO+B8jmP79dIG9hB+Y/idJm/NbS5T/DRQDZ8l7mP/jQuUt9k+Y/+NC5S32T5j8g7t0vJuzuPwt+nrS93uw/nH9LZRce7D9q3HFcHkHsP2rccVweQew/H7zzFsJp5T8fvPMWwmnlP/jQuUt9k+Y/LlxzvgfI5j8uXHO+B8jmPy5cc74HyOY/atxxXB5B7D9q3HFcHkHsPwt+nrS93uw/1vLkQTOq7D/W8uRBM6rsP2rccVweQew/atxxXB5B7D9m9JHyjOnrP/vdHg14gOs/nH9LZRce7D9m9JHyjOnrP2b0kfKM6es/+90eDXiA6z+cf0tlFx7sP2b0kfKM6es/ZvSR8ozp6z9i5ywxkvzmP2LnLDGS/OY/kaIm0PmB9j+RoibQ+YH2P7qBUFAHhAVA7jcXwBY4CkBms9O7450SQDvpBf82TxNAO+kF/zZPE0CqH8sMXXwNQJ15w7/7MwxAnXnDv/szDEBpw/xP7H8HQLq/SrSi2v4/w0UA2fJeBkAc8xBffr0JQBzzEF9+vQlAqPNomRTkA0CmHnaWmWP4P67VwF2KUeQ/nVrGDa6I5z+dWsYNrojnPyiGK0XJLvY/BaKu7mnEB0DnzRreHw4FQJubp+7Y1AhAbavcuX3XB0DfeJpmgy4EQN94mmaDLgRAsPuaK7f//T8h+u16XcD+P8NqhTBc9Po/+NC5S32T5j/40LlLfZPmP8OD+jyOte8/v4jx0zpPAEDRmTXb+fEHQEyW6md3mglAmZ3zoKGwC0CZnfOgobALQA1mfh5PNg1Aj9O7cprrCkA7CAOxhPoHQM0DKLzCTwdAzQMovMJPB0Aa2ptSTPwEQJlsXv4ARwdA9/U+o+Yo+z/39T6j5ij7P/vdHg14gOs/j+wwf8ys7z+ZvSgbrUfhP0Ukx2b49+A/nH9LZRce3D/73R4NeIDbP/vdHg14gNs/w0UA2fJe1j/lSFo6pt3UP9mw3o5SHNY/3+ynhsPg2j9D6MOXB7XoPw8z8GJGJuw/WjUXeIyo7z+R2oj0Av/tP1f1cimSZe4/1fx1W/8H7D/V/HVb/wfsP3dKB+v/HOQ/d0oH6/8c5D93Sgfr/xzkP3sy51SRdOQ/ezLnVJF05D97MudUkXTkP67VwF2KUeQ/d0oH6/8c5D/DRQDZ8l7mP8NFANnyXuY/xlJlmu1L6z/GUmWa7UvrP8NqhTBc9Oo/w2qFMFz06j/39T6j5ijrP/f1PqPmKOs/w0UA2fJe5j/nYc9G2J75P+oLtUzOnwBA4YuHzZkFCUC7msVcOUUKQA==",
          "dtype": "f8"
         }
        },
        {
         "line": {
          "color": "blue",
          "dash": "dash"
         },
         "mode": "lines",
         "name": "Predição Original",
         "type": "scatter",
         "y": {
          "bdata": "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",
          "dtype": "f8"
         }
        },
        {
         "line": {
          "color": "red"
         },
         "mode": "lines",
         "name": "Predição com RM",
         "type": "scatter",
         "y": {
          "bdata": "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",
          "dtype": "f8"
         }
        }
       ],
       "layout": {
        "template": {
         "data": {
          "bar": [
           {
            "error_x": {
             "color": "#2a3f5f"
            },
            "error_y": {
             "color": "#2a3f5f"
            },
            "marker": {
             "line": {
              "color": "white",
              "width": 0.5
             },
             "pattern": {
              "fillmode": "overlay",
              "size": 10,
              "solidity": 0.2
             }
            },
            "type": "bar"
           }
          ],
          "barpolar": [
           {
            "marker": {
             "line": {
              "color": "white",
              "width": 0.5
             },
             "pattern": {
              "fillmode": "overlay",
              "size": 10,
              "solidity": 0.2
             }
            },
            "type": "barpolar"
           }
          ],
          "carpet": [
           {
            "aaxis": {
             "endlinecolor": "#2a3f5f",
             "gridcolor": "#C8D4E3",
             "linecolor": "#C8D4E3",
             "minorgridcolor": "#C8D4E3",
             "startlinecolor": "#2a3f5f"
            },
            "baxis": {
             "endlinecolor": "#2a3f5f",
             "gridcolor": "#C8D4E3",
             "linecolor": "#C8D4E3",
             "minorgridcolor": "#C8D4E3",
             "startlinecolor": "#2a3f5f"
            },
            "type": "carpet"
           }
          ],
          "choropleth": [
           {
            "colorbar": {
             "outlinewidth": 0,
             "ticks": ""
            },
            "type": "choropleth"
           }
          ],
          "contour": [
           {
            "colorbar": {
             "outlinewidth": 0,
             "ticks": ""
            },
            "colorscale": [
             [
              0,
              "#0d0887"
             ],
             [
              0.1111111111111111,
              "#46039f"
             ],
             [
              0.2222222222222222,
              "#7201a8"
             ],
             [
              0.3333333333333333,
              "#9c179e"
             ],
             [
              0.4444444444444444,
              "#bd3786"
             ],
             [
              0.5555555555555556,
              "#d8576b"
             ],
             [
              0.6666666666666666,
              "#ed7953"
             ],
             [
              0.7777777777777778,
              "#fb9f3a"
             ],
             [
              0.8888888888888888,
              "#fdca26"
             ],
             [
              1,
              "#f0f921"
             ]
            ],
            "type": "contour"
           }
          ],
          "contourcarpet": [
           {
            "colorbar": {
             "outlinewidth": 0,
             "ticks": ""
            },
            "type": "contourcarpet"
           }
          ],
          "heatmap": [
           {
            "colorbar": {
             "outlinewidth": 0,
             "ticks": ""
            },
            "colorscale": [
             [
              0,
              "#0d0887"
             ],
             [
              0.1111111111111111,
              "#46039f"
             ],
             [
              0.2222222222222222,
              "#7201a8"
             ],
             [
              0.3333333333333333,
              "#9c179e"
             ],
             [
              0.4444444444444444,
              "#bd3786"
             ],
             [
              0.5555555555555556,
              "#d8576b"
             ],
             [
              0.6666666666666666,
              "#ed7953"
             ],
             [
              0.7777777777777778,
              "#fb9f3a"
             ],
             [
              0.8888888888888888,
              "#fdca26"
             ],
             [
              1,
              "#f0f921"
             ]
            ],
            "type": "heatmap"
           }
          ],
          "histogram": [
           {
            "marker": {
             "pattern": {
              "fillmode": "overlay",
              "size": 10,
              "solidity": 0.2
             }
            },
            "type": "histogram"
           }
          ],
          "histogram2d": [
           {
            "colorbar": {
             "outlinewidth": 0,
             "ticks": ""
            },
            "colorscale": [
             [
              0,
              "#0d0887"
             ],
             [
              0.1111111111111111,
              "#46039f"
             ],
             [
              0.2222222222222222,
              "#7201a8"
             ],
             [
              0.3333333333333333,
              "#9c179e"
             ],
             [
              0.4444444444444444,
              "#bd3786"
             ],
             [
              0.5555555555555556,
              "#d8576b"
             ],
             [
              0.6666666666666666,
              "#ed7953"
             ],
             [
              0.7777777777777778,
              "#fb9f3a"
             ],
             [
              0.8888888888888888,
              "#fdca26"
             ],
             [
              1,
              "#f0f921"
             ]
            ],
            "type": "histogram2d"
           }
          ],
          "histogram2dcontour": [
           {
            "colorbar": {
             "outlinewidth": 0,
             "ticks": ""
            },
            "colorscale": [
             [
              0,
              "#0d0887"
             ],
             [
              0.1111111111111111,
              "#46039f"
             ],
             [
              0.2222222222222222,
              "#7201a8"
             ],
             [
              0.3333333333333333,
              "#9c179e"
             ],
             [
              0.4444444444444444,
              "#bd3786"
             ],
             [
              0.5555555555555556,
              "#d8576b"
             ],
             [
              0.6666666666666666,
              "#ed7953"
             ],
             [
              0.7777777777777778,
              "#fb9f3a"
             ],
             [
              0.8888888888888888,
              "#fdca26"
             ],
             [
              1,
              "#f0f921"
             ]
            ],
            "type": "histogram2dcontour"
           }
          ],
          "mesh3d": [
           {
            "colorbar": {
             "outlinewidth": 0,
             "ticks": ""
            },
            "type": "mesh3d"
           }
          ],
          "parcoords": [
           {
            "line": {
             "colorbar": {
              "outlinewidth": 0,
              "ticks": ""
             }
            },
            "type": "parcoords"
           }
          ],
          "pie": [
           {
            "automargin": true,
            "type": "pie"
           }
          ],
          "scatter": [
           {
            "fillpattern": {
             "fillmode": "overlay",
             "size": 10,
             "solidity": 0.2
            },
            "type": "scatter"
           }
          ],
          "scatter3d": [
           {
            "line": {
             "colorbar": {
              "outlinewidth": 0,
              "ticks": ""
             }
            },
            "marker": {
             "colorbar": {
              "outlinewidth": 0,
              "ticks": ""
             }
            },
            "type": "scatter3d"
           }
          ],
          "scattercarpet": [
           {
            "marker": {
             "colorbar": {
              "outlinewidth": 0,
              "ticks": ""
             }
            },
            "type": "scattercarpet"
           }
          ],
          "scattergeo": [
           {
            "marker": {
             "colorbar": {
              "outlinewidth": 0,
              "ticks": ""
             }
            },
            "type": "scattergeo"
           }
          ],
          "scattergl": [
           {
            "marker": {
             "colorbar": {
              "outlinewidth": 0,
              "ticks": ""
             }
            },
            "type": "scattergl"
           }
          ],
          "scattermap": [
           {
            "marker": {
             "colorbar": {
              "outlinewidth": 0,
              "ticks": ""
             }
            },
            "type": "scattermap"
           }
          ],
          "scattermapbox": [
           {
            "marker": {
             "colorbar": {
              "outlinewidth": 0,
              "ticks": ""
             }
            },
            "type": "scattermapbox"
           }
          ],
          "scatterpolar": [
           {
            "marker": {
             "colorbar": {
              "outlinewidth": 0,
              "ticks": ""
             }
            },
            "type": "scatterpolar"
           }
          ],
          "scatterpolargl": [
           {
            "marker": {
             "colorbar": {
              "outlinewidth": 0,
              "ticks": ""
             }
            },
            "type": "scatterpolargl"
           }
          ],
          "scatterternary": [
           {
            "marker": {
             "colorbar": {
              "outlinewidth": 0,
              "ticks": ""
             }
            },
            "type": "scatterternary"
           }
          ],
          "surface": [
           {
            "colorbar": {
             "outlinewidth": 0,
             "ticks": ""
            },
            "colorscale": [
             [
              0,
              "#0d0887"
             ],
             [
              0.1111111111111111,
              "#46039f"
             ],
             [
              0.2222222222222222,
              "#7201a8"
             ],
             [
              0.3333333333333333,
              "#9c179e"
             ],
             [
              0.4444444444444444,
              "#bd3786"
             ],
             [
              0.5555555555555556,
              "#d8576b"
             ],
             [
              0.6666666666666666,
              "#ed7953"
             ],
             [
              0.7777777777777778,
              "#fb9f3a"
             ],
             [
              0.8888888888888888,
              "#fdca26"
             ],
             [
              1,
              "#f0f921"
             ]
            ],
            "type": "surface"
           }
          ],
          "table": [
           {
            "cells": {
             "fill": {
              "color": "#EBF0F8"
             },
             "line": {
              "color": "white"
             }
            },
            "header": {
             "fill": {
              "color": "#C8D4E3"
             },
             "line": {
              "color": "white"
             }
            },
            "type": "table"
           }
          ]
         },
         "layout": {
          "annotationdefaults": {
           "arrowcolor": "#2a3f5f",
           "arrowhead": 0,
           "arrowwidth": 1
          },
          "autotypenumbers": "strict",
          "coloraxis": {
           "colorbar": {
            "outlinewidth": 0,
            "ticks": ""
           }
          },
          "colorscale": {
           "diverging": [
            [
             0,
             "#8e0152"
            ],
            [
             0.1,
             "#c51b7d"
            ],
            [
             0.2,
             "#de77ae"
            ],
            [
             0.3,
             "#f1b6da"
            ],
            [
             0.4,
             "#fde0ef"
            ],
            [
             0.5,
             "#f7f7f7"
            ],
            [
             0.6,
             "#e6f5d0"
            ],
            [
             0.7,
             "#b8e186"
            ],
            [
             0.8,
             "#7fbc41"
            ],
            [
             0.9,
             "#4d9221"
            ],
            [
             1,
             "#276419"
            ]
           ],
           "sequential": [
            [
             0,
             "#0d0887"
            ],
            [
             0.1111111111111111,
             "#46039f"
            ],
            [
             0.2222222222222222,
             "#7201a8"
            ],
            [
             0.3333333333333333,
             "#9c179e"
            ],
            [
             0.4444444444444444,
             "#bd3786"
            ],
            [
             0.5555555555555556,
             "#d8576b"
            ],
            [
             0.6666666666666666,
             "#ed7953"
            ],
            [
             0.7777777777777778,
             "#fb9f3a"
            ],
            [
             0.8888888888888888,
             "#fdca26"
            ],
            [
             1,
             "#f0f921"
            ]
           ],
           "sequentialminus": [
            [
             0,
             "#0d0887"
            ],
            [
             0.1111111111111111,
             "#46039f"
            ],
            [
             0.2222222222222222,
             "#7201a8"
            ],
            [
             0.3333333333333333,
             "#9c179e"
            ],
            [
             0.4444444444444444,
             "#bd3786"
            ],
            [
             0.5555555555555556,
             "#d8576b"
            ],
            [
             0.6666666666666666,
             "#ed7953"
            ],
            [
             0.7777777777777778,
             "#fb9f3a"
            ],
            [
             0.8888888888888888,
             "#fdca26"
            ],
            [
             1,
             "#f0f921"
            ]
           ]
          },
          "colorway": [
           "#636efa",
           "#EF553B",
           "#00cc96",
           "#ab63fa",
           "#FFA15A",
           "#19d3f3",
           "#FF6692",
           "#B6E880",
           "#FF97FF",
           "#FECB52"
          ],
          "font": {
           "color": "#2a3f5f"
          },
          "geo": {
           "bgcolor": "white",
           "lakecolor": "white",
           "landcolor": "white",
           "showlakes": true,
           "showland": true,
           "subunitcolor": "#C8D4E3"
          },
          "hoverlabel": {
           "align": "left"
          },
          "hovermode": "closest",
          "mapbox": {
           "style": "light"
          },
          "paper_bgcolor": "white",
          "plot_bgcolor": "white",
          "polar": {
           "angularaxis": {
            "gridcolor": "#EBF0F8",
            "linecolor": "#EBF0F8",
            "ticks": ""
           },
           "bgcolor": "white",
           "radialaxis": {
            "gridcolor": "#EBF0F8",
            "linecolor": "#EBF0F8",
            "ticks": ""
           }
          },
          "scene": {
           "xaxis": {
            "backgroundcolor": "white",
            "gridcolor": "#DFE8F3",
            "gridwidth": 2,
            "linecolor": "#EBF0F8",
            "showbackground": true,
            "ticks": "",
            "zerolinecolor": "#EBF0F8"
           },
           "yaxis": {
            "backgroundcolor": "white",
            "gridcolor": "#DFE8F3",
            "gridwidth": 2,
            "linecolor": "#EBF0F8",
            "showbackground": true,
            "ticks": "",
            "zerolinecolor": "#EBF0F8"
           },
           "zaxis": {
            "backgroundcolor": "white",
            "gridcolor": "#DFE8F3",
            "gridwidth": 2,
            "linecolor": "#EBF0F8",
            "showbackground": true,
            "ticks": "",
            "zerolinecolor": "#EBF0F8"
           }
          },
          "shapedefaults": {
           "line": {
            "color": "#2a3f5f"
           }
          },
          "ternary": {
           "aaxis": {
            "gridcolor": "#DFE8F3",
            "linecolor": "#A2B1C6",
            "ticks": ""
           },
           "baxis": {
            "gridcolor": "#DFE8F3",
            "linecolor": "#A2B1C6",
            "ticks": ""
           },
           "bgcolor": "white",
           "caxis": {
            "gridcolor": "#DFE8F3",
            "linecolor": "#A2B1C6",
            "ticks": ""
           }
          },
          "title": {
           "x": 0.05
          },
          "xaxis": {
           "automargin": true,
           "gridcolor": "#EBF0F8",
           "linecolor": "#EBF0F8",
           "ticks": "",
           "title": {
            "standoff": 15
           },
           "zerolinecolor": "#EBF0F8",
           "zerolinewidth": 2
          },
          "yaxis": {
           "automargin": true,
           "gridcolor": "#EBF0F8",
           "linecolor": "#EBF0F8",
           "ticks": "",
           "title": {
            "standoff": 15
           },
           "zerolinecolor": "#EBF0F8",
           "zerolinewidth": 2
          }
         }
        },
        "title": {
         "text": "Comparação CO₂ (200 Amostras) - CT_N3_013: [Composta] - Simular Inércia em Declive - GASOLINE",
         "x": 0.5
        },
        "xaxis": {
         "title": {
          "text": "Amostras"
         }
        },
        "yaxis": {
         "title": {
          "text": "CO₂ (g/s)"
         }
        }
       }
      }
     },
     "metadata": {},
     "output_type": "display_data"
    },
    {
     "name": "stdout",
     "output_type": "stream",
     "text": [
      "\n",
      "================================================================================\n",
      "🔁 CT_N3_014: [Composta] - Simular Frenagem Brusca (Cut-off) (ETHANOL)\n",
      "--------------------------------------------------------------------------------\n",
      "Diferença Média: 0.3633 | Diferença Máxima: 2.3686 | RMSE: 0.5575 | Desvio Padrão (Std): 0.4229\n"
     ]
    },
    {
     "data": {
      "text/html": [
       "<style type=\"text/css\">\n",
       "</style>\n",
       "<table id=\"T_2acf9\">\n",
       "  <caption>Comparação dos dados - CT_N3_014: [Composta] - Simular Frenagem Brusca (Cut-off) (ETHANOL)</caption>\n",
       "  <thead>\n",
       "    <tr>\n",
       "      <th class=\"blank level0\" >&nbsp;</th>\n",
       "      <th id=\"T_2acf9_level0_col0\" class=\"col_heading level0 col0\" >Latitude_Orig</th>\n",
       "      <th id=\"T_2acf9_level0_col1\" class=\"col_heading level0 col1\" >Longitude_Orig</th>\n",
       "      <th id=\"T_2acf9_level0_col2\" class=\"col_heading level0 col2\" >Speed(OBD)(km/h)_Orig</th>\n",
       "      <th id=\"T_2acf9_level0_col3\" class=\"col_heading level0 col3\" >Acceleration_Orig</th>\n",
       "      <th id=\"T_2acf9_level0_col4\" class=\"col_heading level0 col4\" > </th>\n",
       "      <th id=\"T_2acf9_level0_col5\" class=\"col_heading level0 col5\" >Latitude_Mod</th>\n",
       "      <th id=\"T_2acf9_level0_col6\" class=\"col_heading level0 col6\" >Longitude_Mod</th>\n",
       "      <th id=\"T_2acf9_level0_col7\" class=\"col_heading level0 col7\" >Speed(OBD)(km/h)_Mod</th>\n",
       "      <th id=\"T_2acf9_level0_col8\" class=\"col_heading level0 col8\" >Acceleration_Mod</th>\n",
       "      <th id=\"T_2acf9_level0_col9\" class=\"col_heading level0 col9\" > </th>\n",
       "      <th id=\"T_2acf9_level0_col10\" class=\"col_heading level0 col10\" >CO₂_Real</th>\n",
       "      <th id=\"T_2acf9_level0_col11\" class=\"col_heading level0 col11\" >CO₂_Pred_Orig</th>\n",
       "      <th id=\"T_2acf9_level0_col12\" class=\"col_heading level0 col12\" >CO₂_Pred_Mod</th>\n",
       "    </tr>\n",
       "  </thead>\n",
       "  <tbody>\n",
       "    <tr>\n",
       "      <th id=\"T_2acf9_level0_row0\" class=\"row_heading level0 row0\" >0</th>\n",
       "      <td id=\"T_2acf9_row0_col0\" class=\"data row0 col0\" >-5.820105</td>\n",
       "      <td id=\"T_2acf9_row0_col1\" class=\"data row0 col1\" >-35.220818</td>\n",
       "      <td id=\"T_2acf9_row0_col2\" class=\"data row0 col2\" >3</td>\n",
       "      <td id=\"T_2acf9_row0_col3\" class=\"data row0 col3\" >0.000000</td>\n",
       "      <td id=\"T_2acf9_row0_col4\" class=\"data row0 col4\" >→</td>\n",
       "      <td id=\"T_2acf9_row0_col5\" class=\"data row0 col5\" >-5.820105</td>\n",
       "      <td id=\"T_2acf9_row0_col6\" class=\"data row0 col6\" >-35.220818</td>\n",
       "      <td id=\"T_2acf9_row0_col7\" class=\"data row0 col7\" >75</td>\n",
       "      <td id=\"T_2acf9_row0_col8\" class=\"data row0 col8\" >-4.000000</td>\n",
       "      <td id=\"T_2acf9_row0_col9\" class=\"data row0 col9\" > </td>\n",
       "      <td id=\"T_2acf9_row0_col10\" class=\"data row0 col10\" >0.642839</td>\n",
       "      <td id=\"T_2acf9_row0_col11\" class=\"data row0 col11\" >0.742631</td>\n",
       "      <td id=\"T_2acf9_row0_col12\" class=\"data row0 col12\" >0.812752</td>\n",
       "    </tr>\n",
       "    <tr>\n",
       "      <th id=\"T_2acf9_level0_row1\" class=\"row_heading level0 row1\" >1</th>\n",
       "      <td id=\"T_2acf9_row1_col0\" class=\"data row1 col0\" >-5.820103</td>\n",
       "      <td id=\"T_2acf9_row1_col1\" class=\"data row1 col1\" >-35.220828</td>\n",
       "      <td id=\"T_2acf9_row1_col2\" class=\"data row1 col2\" >5</td>\n",
       "      <td id=\"T_2acf9_row1_col3\" class=\"data row1 col3\" >0.555556</td>\n",
       "      <td id=\"T_2acf9_row1_col4\" class=\"data row1 col4\" >→</td>\n",
       "      <td id=\"T_2acf9_row1_col5\" class=\"data row1 col5\" >-5.820103</td>\n",
       "      <td id=\"T_2acf9_row1_col6\" class=\"data row1 col6\" >-35.220828</td>\n",
       "      <td id=\"T_2acf9_row1_col7\" class=\"data row1 col7\" >0</td>\n",
       "      <td id=\"T_2acf9_row1_col8\" class=\"data row1 col8\" >-4.000000</td>\n",
       "      <td id=\"T_2acf9_row1_col9\" class=\"data row1 col9\" > </td>\n",
       "      <td id=\"T_2acf9_row1_col10\" class=\"data row1 col10\" >0.653249</td>\n",
       "      <td id=\"T_2acf9_row1_col11\" class=\"data row1 col11\" >0.771505</td>\n",
       "      <td id=\"T_2acf9_row1_col12\" class=\"data row1 col12\" >0.563401</td>\n",
       "    </tr>\n",
       "    <tr>\n",
       "      <th id=\"T_2acf9_level0_row2\" class=\"row_heading level0 row2\" >2</th>\n",
       "      <td id=\"T_2acf9_row2_col0\" class=\"data row2 col0\" >-5.820102</td>\n",
       "      <td id=\"T_2acf9_row2_col1\" class=\"data row2 col1\" >-35.220838</td>\n",
       "      <td id=\"T_2acf9_row2_col2\" class=\"data row2 col2\" >5</td>\n",
       "      <td id=\"T_2acf9_row2_col3\" class=\"data row2 col3\" >0.000000</td>\n",
       "      <td id=\"T_2acf9_row2_col4\" class=\"data row2 col4\" >→</td>\n",
       "      <td id=\"T_2acf9_row2_col5\" class=\"data row2 col5\" >-5.820102</td>\n",
       "      <td id=\"T_2acf9_row2_col6\" class=\"data row2 col6\" >-35.220838</td>\n",
       "      <td id=\"T_2acf9_row2_col7\" class=\"data row2 col7\" >0</td>\n",
       "      <td id=\"T_2acf9_row2_col8\" class=\"data row2 col8\" >-4.000000</td>\n",
       "      <td id=\"T_2acf9_row2_col9\" class=\"data row2 col9\" > </td>\n",
       "      <td id=\"T_2acf9_row2_col10\" class=\"data row2 col10\" >0.653249</td>\n",
       "      <td id=\"T_2acf9_row2_col11\" class=\"data row2 col11\" >0.771505</td>\n",
       "      <td id=\"T_2acf9_row2_col12\" class=\"data row2 col12\" >0.563401</td>\n",
       "    </tr>\n",
       "    <tr>\n",
       "      <th id=\"T_2acf9_level0_row3\" class=\"row_heading level0 row3\" >3</th>\n",
       "      <td id=\"T_2acf9_row3_col0\" class=\"data row3 col0\" >-5.820096</td>\n",
       "      <td id=\"T_2acf9_row3_col1\" class=\"data row3 col1\" >-35.220843</td>\n",
       "      <td id=\"T_2acf9_row3_col2\" class=\"data row3 col2\" >3</td>\n",
       "      <td id=\"T_2acf9_row3_col3\" class=\"data row3 col3\" >-0.555556</td>\n",
       "      <td id=\"T_2acf9_row3_col4\" class=\"data row3 col4\" >→</td>\n",
       "      <td id=\"T_2acf9_row3_col5\" class=\"data row3 col5\" >-5.820096</td>\n",
       "      <td id=\"T_2acf9_row3_col6\" class=\"data row3 col6\" >-35.220843</td>\n",
       "      <td id=\"T_2acf9_row3_col7\" class=\"data row3 col7\" >0</td>\n",
       "      <td id=\"T_2acf9_row3_col8\" class=\"data row3 col8\" >-4.000000</td>\n",
       "      <td id=\"T_2acf9_row3_col9\" class=\"data row3 col9\" > </td>\n",
       "      <td id=\"T_2acf9_row3_col10\" class=\"data row3 col10\" >0.679275</td>\n",
       "      <td id=\"T_2acf9_row3_col11\" class=\"data row3 col11\" >0.659013</td>\n",
       "      <td id=\"T_2acf9_row3_col12\" class=\"data row3 col12\" >0.563401</td>\n",
       "    </tr>\n",
       "    <tr>\n",
       "      <th id=\"T_2acf9_level0_row4\" class=\"row_heading level0 row4\" >4</th>\n",
       "      <td id=\"T_2acf9_row4_col0\" class=\"data row4 col0\" >-5.820091</td>\n",
       "      <td id=\"T_2acf9_row4_col1\" class=\"data row4 col1\" >-35.220850</td>\n",
       "      <td id=\"T_2acf9_row4_col2\" class=\"data row4 col2\" >0</td>\n",
       "      <td id=\"T_2acf9_row4_col3\" class=\"data row4 col3\" >-0.833333</td>\n",
       "      <td id=\"T_2acf9_row4_col4\" class=\"data row4 col4\" >→</td>\n",
       "      <td id=\"T_2acf9_row4_col5\" class=\"data row4 col5\" >-5.820091</td>\n",
       "      <td id=\"T_2acf9_row4_col6\" class=\"data row4 col6\" >-35.220850</td>\n",
       "      <td id=\"T_2acf9_row4_col7\" class=\"data row4 col7\" >0</td>\n",
       "      <td id=\"T_2acf9_row4_col8\" class=\"data row4 col8\" >-4.000000</td>\n",
       "      <td id=\"T_2acf9_row4_col9\" class=\"data row4 col9\" > </td>\n",
       "      <td id=\"T_2acf9_row4_col10\" class=\"data row4 col10\" >0.610306</td>\n",
       "      <td id=\"T_2acf9_row4_col11\" class=\"data row4 col11\" >0.667689</td>\n",
       "      <td id=\"T_2acf9_row4_col12\" class=\"data row4 col12\" >0.546637</td>\n",
       "    </tr>\n",
       "    <tr>\n",
       "      <th id=\"T_2acf9_level0_row5\" class=\"row_heading level0 row5\" >5</th>\n",
       "      <td id=\"T_2acf9_row5_col0\" class=\"data row5 col0\" >-5.820091</td>\n",
       "      <td id=\"T_2acf9_row5_col1\" class=\"data row5 col1\" >-35.220850</td>\n",
       "      <td id=\"T_2acf9_row5_col2\" class=\"data row5 col2\" >0</td>\n",
       "      <td id=\"T_2acf9_row5_col3\" class=\"data row5 col3\" >0.000000</td>\n",
       "      <td id=\"T_2acf9_row5_col4\" class=\"data row5 col4\" >→</td>\n",
       "      <td id=\"T_2acf9_row5_col5\" class=\"data row5 col5\" >-5.820091</td>\n",
       "      <td id=\"T_2acf9_row5_col6\" class=\"data row5 col6\" >-35.220850</td>\n",
       "      <td id=\"T_2acf9_row5_col7\" class=\"data row5 col7\" >0</td>\n",
       "      <td id=\"T_2acf9_row5_col8\" class=\"data row5 col8\" >-4.000000</td>\n",
       "      <td id=\"T_2acf9_row5_col9\" class=\"data row5 col9\" > </td>\n",
       "      <td id=\"T_2acf9_row5_col10\" class=\"data row5 col10\" >0.610306</td>\n",
       "      <td id=\"T_2acf9_row5_col11\" class=\"data row5 col11\" >0.706858</td>\n",
       "      <td id=\"T_2acf9_row5_col12\" class=\"data row5 col12\" >0.546637</td>\n",
       "    </tr>\n",
       "    <tr>\n",
       "      <th id=\"T_2acf9_level0_row6\" class=\"row_heading level0 row6\" >6</th>\n",
       "      <td id=\"T_2acf9_row6_col0\" class=\"data row6 col0\" >-5.820091</td>\n",
       "      <td id=\"T_2acf9_row6_col1\" class=\"data row6 col1\" >-35.220850</td>\n",
       "      <td id=\"T_2acf9_row6_col2\" class=\"data row6 col2\" >0</td>\n",
       "      <td id=\"T_2acf9_row6_col3\" class=\"data row6 col3\" >0.000000</td>\n",
       "      <td id=\"T_2acf9_row6_col4\" class=\"data row6 col4\" >→</td>\n",
       "      <td id=\"T_2acf9_row6_col5\" class=\"data row6 col5\" >-5.820091</td>\n",
       "      <td id=\"T_2acf9_row6_col6\" class=\"data row6 col6\" >-35.220850</td>\n",
       "      <td id=\"T_2acf9_row6_col7\" class=\"data row6 col7\" >0</td>\n",
       "      <td id=\"T_2acf9_row6_col8\" class=\"data row6 col8\" >-4.000000</td>\n",
       "      <td id=\"T_2acf9_row6_col9\" class=\"data row6 col9\" > </td>\n",
       "      <td id=\"T_2acf9_row6_col10\" class=\"data row6 col10\" >0.490587</td>\n",
       "      <td id=\"T_2acf9_row6_col11\" class=\"data row6 col11\" >0.706858</td>\n",
       "      <td id=\"T_2acf9_row6_col12\" class=\"data row6 col12\" >0.546637</td>\n",
       "    </tr>\n",
       "    <tr>\n",
       "      <th id=\"T_2acf9_level0_row7\" class=\"row_heading level0 row7\" >7</th>\n",
       "      <td id=\"T_2acf9_row7_col0\" class=\"data row7 col0\" >-5.820085</td>\n",
       "      <td id=\"T_2acf9_row7_col1\" class=\"data row7 col1\" >-35.220856</td>\n",
       "      <td id=\"T_2acf9_row7_col2\" class=\"data row7 col2\" >3</td>\n",
       "      <td id=\"T_2acf9_row7_col3\" class=\"data row7 col3\" >0.833333</td>\n",
       "      <td id=\"T_2acf9_row7_col4\" class=\"data row7 col4\" >→</td>\n",
       "      <td id=\"T_2acf9_row7_col5\" class=\"data row7 col5\" >-5.820085</td>\n",
       "      <td id=\"T_2acf9_row7_col6\" class=\"data row7 col6\" >-35.220856</td>\n",
       "      <td id=\"T_2acf9_row7_col7\" class=\"data row7 col7\" >0</td>\n",
       "      <td id=\"T_2acf9_row7_col8\" class=\"data row7 col8\" >-4.000000</td>\n",
       "      <td id=\"T_2acf9_row7_col9\" class=\"data row7 col9\" > </td>\n",
       "      <td id=\"T_2acf9_row7_col10\" class=\"data row7 col10\" >1.090483</td>\n",
       "      <td id=\"T_2acf9_row7_col11\" class=\"data row7 col11\" >1.137803</td>\n",
       "      <td id=\"T_2acf9_row7_col12\" class=\"data row7 col12\" >0.546637</td>\n",
       "    </tr>\n",
       "    <tr>\n",
       "      <th id=\"T_2acf9_level0_row8\" class=\"row_heading level0 row8\" >8</th>\n",
       "      <td id=\"T_2acf9_row8_col0\" class=\"data row8 col0\" >-5.820074</td>\n",
       "      <td id=\"T_2acf9_row8_col1\" class=\"data row8 col1\" >-35.220859</td>\n",
       "      <td id=\"T_2acf9_row8_col2\" class=\"data row8 col2\" >3</td>\n",
       "      <td id=\"T_2acf9_row8_col3\" class=\"data row8 col3\" >0.000000</td>\n",
       "      <td id=\"T_2acf9_row8_col4\" class=\"data row8 col4\" >→</td>\n",
       "      <td id=\"T_2acf9_row8_col5\" class=\"data row8 col5\" >-5.820074</td>\n",
       "      <td id=\"T_2acf9_row8_col6\" class=\"data row8 col6\" >-35.220859</td>\n",
       "      <td id=\"T_2acf9_row8_col7\" class=\"data row8 col7\" >0</td>\n",
       "      <td id=\"T_2acf9_row8_col8\" class=\"data row8 col8\" >-4.000000</td>\n",
       "      <td id=\"T_2acf9_row8_col9\" class=\"data row8 col9\" > </td>\n",
       "      <td id=\"T_2acf9_row8_col10\" class=\"data row8 col10\" >1.090483</td>\n",
       "      <td id=\"T_2acf9_row8_col11\" class=\"data row8 col11\" >1.137803</td>\n",
       "      <td id=\"T_2acf9_row8_col12\" class=\"data row8 col12\" >0.546637</td>\n",
       "    </tr>\n",
       "    <tr>\n",
       "      <th id=\"T_2acf9_level0_row9\" class=\"row_heading level0 row9\" >9</th>\n",
       "      <td id=\"T_2acf9_row9_col0\" class=\"data row9 col0\" >-5.820064</td>\n",
       "      <td id=\"T_2acf9_row9_col1\" class=\"data row9 col1\" >-35.220858</td>\n",
       "      <td id=\"T_2acf9_row9_col2\" class=\"data row9 col2\" >3</td>\n",
       "      <td id=\"T_2acf9_row9_col3\" class=\"data row9 col3\" >0.000000</td>\n",
       "      <td id=\"T_2acf9_row9_col4\" class=\"data row9 col4\" >→</td>\n",
       "      <td id=\"T_2acf9_row9_col5\" class=\"data row9 col5\" >-5.820064</td>\n",
       "      <td id=\"T_2acf9_row9_col6\" class=\"data row9 col6\" >-35.220858</td>\n",
       "      <td id=\"T_2acf9_row9_col7\" class=\"data row9 col7\" >0</td>\n",
       "      <td id=\"T_2acf9_row9_col8\" class=\"data row9 col8\" >-4.000000</td>\n",
       "      <td id=\"T_2acf9_row9_col9\" class=\"data row9 col9\" > </td>\n",
       "      <td id=\"T_2acf9_row9_col10\" class=\"data row9 col10\" >0.921315</td>\n",
       "      <td id=\"T_2acf9_row9_col11\" class=\"data row9 col11\" >1.137803</td>\n",
       "      <td id=\"T_2acf9_row9_col12\" class=\"data row9 col12\" >0.546637</td>\n",
       "    </tr>\n",
       "  </tbody>\n",
       "</table>\n"
      ],
      "text/plain": [
       "<pandas.io.formats.style.Styler at 0x1a7429df950>"
      ]
     },
     "metadata": {},
     "output_type": "display_data"
    },
    {
     "data": {
      "application/vnd.plotly.v1+json": {
       "config": {
        "plotlyServerURL": "https://plot.ly"
       },
       "data": [
        {
         "line": {
          "color": "gray",
          "dash": "dot"
         },
         "mode": "lines",
         "name": "Real",
         "type": "scatter",
         "y": {
          "bdata": "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",
          "dtype": "f8"
         }
        },
        {
         "line": {
          "color": "blue",
          "dash": "dash"
         },
         "mode": "lines",
         "name": "Predição Original",
         "type": "scatter",
         "y": {
          "bdata": "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",
          "dtype": "f8"
         }
        },
        {
         "line": {
          "color": "red"
         },
         "mode": "lines",
         "name": "Predição com RM",
         "type": "scatter",
         "y": {
          "bdata": "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",
          "dtype": "f8"
         }
        }
       ],
       "layout": {
        "template": {
         "data": {
          "bar": [
           {
            "error_x": {
             "color": "#2a3f5f"
            },
            "error_y": {
             "color": "#2a3f5f"
            },
            "marker": {
             "line": {
              "color": "white",
              "width": 0.5
             },
             "pattern": {
              "fillmode": "overlay",
              "size": 10,
              "solidity": 0.2
             }
            },
            "type": "bar"
           }
          ],
          "barpolar": [
           {
            "marker": {
             "line": {
              "color": "white",
              "width": 0.5
             },
             "pattern": {
              "fillmode": "overlay",
              "size": 10,
              "solidity": 0.2
             }
            },
            "type": "barpolar"
           }
          ],
          "carpet": [
           {
            "aaxis": {
             "endlinecolor": "#2a3f5f",
             "gridcolor": "#C8D4E3",
             "linecolor": "#C8D4E3",
             "minorgridcolor": "#C8D4E3",
             "startlinecolor": "#2a3f5f"
            },
            "baxis": {
             "endlinecolor": "#2a3f5f",
             "gridcolor": "#C8D4E3",
             "linecolor": "#C8D4E3",
             "minorgridcolor": "#C8D4E3",
             "startlinecolor": "#2a3f5f"
            },
            "type": "carpet"
           }
          ],
          "choropleth": [
           {
            "colorbar": {
             "outlinewidth": 0,
             "ticks": ""
            },
            "type": "choropleth"
           }
          ],
          "contour": [
           {
            "colorbar": {
             "outlinewidth": 0,
             "ticks": ""
            },
            "colorscale": [
             [
              0,
              "#0d0887"
             ],
             [
              0.1111111111111111,
              "#46039f"
             ],
             [
              0.2222222222222222,
              "#7201a8"
             ],
             [
              0.3333333333333333,
              "#9c179e"
             ],
             [
              0.4444444444444444,
              "#bd3786"
             ],
             [
              0.5555555555555556,
              "#d8576b"
             ],
             [
              0.6666666666666666,
              "#ed7953"
             ],
             [
              0.7777777777777778,
              "#fb9f3a"
             ],
             [
              0.8888888888888888,
              "#fdca26"
             ],
             [
              1,
              "#f0f921"
             ]
            ],
            "type": "contour"
           }
          ],
          "contourcarpet": [
           {
            "colorbar": {
             "outlinewidth": 0,
             "ticks": ""
            },
            "type": "contourcarpet"
           }
          ],
          "heatmap": [
           {
            "colorbar": {
             "outlinewidth": 0,
             "ticks": ""
            },
            "colorscale": [
             [
              0,
              "#0d0887"
             ],
             [
              0.1111111111111111,
              "#46039f"
             ],
             [
              0.2222222222222222,
              "#7201a8"
             ],
             [
              0.3333333333333333,
              "#9c179e"
             ],
             [
              0.4444444444444444,
              "#bd3786"
             ],
             [
              0.5555555555555556,
              "#d8576b"
             ],
             [
              0.6666666666666666,
              "#ed7953"
             ],
             [
              0.7777777777777778,
              "#fb9f3a"
             ],
             [
              0.8888888888888888,
              "#fdca26"
             ],
             [
              1,
              "#f0f921"
             ]
            ],
            "type": "heatmap"
           }
          ],
          "histogram": [
           {
            "marker": {
             "pattern": {
              "fillmode": "overlay",
              "size": 10,
              "solidity": 0.2
             }
            },
            "type": "histogram"
           }
          ],
          "histogram2d": [
           {
            "colorbar": {
             "outlinewidth": 0,
             "ticks": ""
            },
            "colorscale": [
             [
              0,
              "#0d0887"
             ],
             [
              0.1111111111111111,
              "#46039f"
             ],
             [
              0.2222222222222222,
              "#7201a8"
             ],
             [
              0.3333333333333333,
              "#9c179e"
             ],
             [
              0.4444444444444444,
              "#bd3786"
             ],
             [
              0.5555555555555556,
              "#d8576b"
             ],
             [
              0.6666666666666666,
              "#ed7953"
             ],
             [
              0.7777777777777778,
              "#fb9f3a"
             ],
             [
              0.8888888888888888,
              "#fdca26"
             ],
             [
              1,
              "#f0f921"
             ]
            ],
            "type": "histogram2d"
           }
          ],
          "histogram2dcontour": [
           {
            "colorbar": {
             "outlinewidth": 0,
             "ticks": ""
            },
            "colorscale": [
             [
              0,
              "#0d0887"
             ],
             [
              0.1111111111111111,
              "#46039f"
             ],
             [
              0.2222222222222222,
              "#7201a8"
             ],
             [
              0.3333333333333333,
              "#9c179e"
             ],
             [
              0.4444444444444444,
              "#bd3786"
             ],
             [
              0.5555555555555556,
              "#d8576b"
             ],
             [
              0.6666666666666666,
              "#ed7953"
             ],
             [
              0.7777777777777778,
              "#fb9f3a"
             ],
             [
              0.8888888888888888,
              "#fdca26"
             ],
             [
              1,
              "#f0f921"
             ]
            ],
            "type": "histogram2dcontour"
           }
          ],
          "mesh3d": [
           {
            "colorbar": {
             "outlinewidth": 0,
             "ticks": ""
            },
            "type": "mesh3d"
           }
          ],
          "parcoords": [
           {
            "line": {
             "colorbar": {
              "outlinewidth": 0,
              "ticks": ""
             }
            },
            "type": "parcoords"
           }
          ],
          "pie": [
           {
            "automargin": true,
            "type": "pie"
           }
          ],
          "scatter": [
           {
            "fillpattern": {
             "fillmode": "overlay",
             "size": 10,
             "solidity": 0.2
            },
            "type": "scatter"
           }
          ],
          "scatter3d": [
           {
            "line": {
             "colorbar": {
              "outlinewidth": 0,
              "ticks": ""
             }
            },
            "marker": {
             "colorbar": {
              "outlinewidth": 0,
              "ticks": ""
             }
            },
            "type": "scatter3d"
           }
          ],
          "scattercarpet": [
           {
            "marker": {
             "colorbar": {
              "outlinewidth": 0,
              "ticks": ""
             }
            },
            "type": "scattercarpet"
           }
          ],
          "scattergeo": [
           {
            "marker": {
             "colorbar": {
              "outlinewidth": 0,
              "ticks": ""
             }
            },
            "type": "scattergeo"
           }
          ],
          "scattergl": [
           {
            "marker": {
             "colorbar": {
              "outlinewidth": 0,
              "ticks": ""
             }
            },
            "type": "scattergl"
           }
          ],
          "scattermap": [
           {
            "marker": {
             "colorbar": {
              "outlinewidth": 0,
              "ticks": ""
             }
            },
            "type": "scattermap"
           }
          ],
          "scattermapbox": [
           {
            "marker": {
             "colorbar": {
              "outlinewidth": 0,
              "ticks": ""
             }
            },
            "type": "scattermapbox"
           }
          ],
          "scatterpolar": [
           {
            "marker": {
             "colorbar": {
              "outlinewidth": 0,
              "ticks": ""
             }
            },
            "type": "scatterpolar"
           }
          ],
          "scatterpolargl": [
           {
            "marker": {
             "colorbar": {
              "outlinewidth": 0,
              "ticks": ""
             }
            },
            "type": "scatterpolargl"
           }
          ],
          "scatterternary": [
           {
            "marker": {
             "colorbar": {
              "outlinewidth": 0,
              "ticks": ""
             }
            },
            "type": "scatterternary"
           }
          ],
          "surface": [
           {
            "colorbar": {
             "outlinewidth": 0,
             "ticks": ""
            },
            "colorscale": [
             [
              0,
              "#0d0887"
             ],
             [
              0.1111111111111111,
              "#46039f"
             ],
             [
              0.2222222222222222,
              "#7201a8"
             ],
             [
              0.3333333333333333,
              "#9c179e"
             ],
             [
              0.4444444444444444,
              "#bd3786"
             ],
             [
              0.5555555555555556,
              "#d8576b"
             ],
             [
              0.6666666666666666,
              "#ed7953"
             ],
             [
              0.7777777777777778,
              "#fb9f3a"
             ],
             [
              0.8888888888888888,
              "#fdca26"
             ],
             [
              1,
              "#f0f921"
             ]
            ],
            "type": "surface"
           }
          ],
          "table": [
           {
            "cells": {
             "fill": {
              "color": "#EBF0F8"
             },
             "line": {
              "color": "white"
             }
            },
            "header": {
             "fill": {
              "color": "#C8D4E3"
             },
             "line": {
              "color": "white"
             }
            },
            "type": "table"
           }
          ]
         },
         "layout": {
          "annotationdefaults": {
           "arrowcolor": "#2a3f5f",
           "arrowhead": 0,
           "arrowwidth": 1
          },
          "autotypenumbers": "strict",
          "coloraxis": {
           "colorbar": {
            "outlinewidth": 0,
            "ticks": ""
           }
          },
          "colorscale": {
           "diverging": [
            [
             0,
             "#8e0152"
            ],
            [
             0.1,
             "#c51b7d"
            ],
            [
             0.2,
             "#de77ae"
            ],
            [
             0.3,
             "#f1b6da"
            ],
            [
             0.4,
             "#fde0ef"
            ],
            [
             0.5,
             "#f7f7f7"
            ],
            [
             0.6,
             "#e6f5d0"
            ],
            [
             0.7,
             "#b8e186"
            ],
            [
             0.8,
             "#7fbc41"
            ],
            [
             0.9,
             "#4d9221"
            ],
            [
             1,
             "#276419"
            ]
           ],
           "sequential": [
            [
             0,
             "#0d0887"
            ],
            [
             0.1111111111111111,
             "#46039f"
            ],
            [
             0.2222222222222222,
             "#7201a8"
            ],
            [
             0.3333333333333333,
             "#9c179e"
            ],
            [
             0.4444444444444444,
             "#bd3786"
            ],
            [
             0.5555555555555556,
             "#d8576b"
            ],
            [
             0.6666666666666666,
             "#ed7953"
            ],
            [
             0.7777777777777778,
             "#fb9f3a"
            ],
            [
             0.8888888888888888,
             "#fdca26"
            ],
            [
             1,
             "#f0f921"
            ]
           ],
           "sequentialminus": [
            [
             0,
             "#0d0887"
            ],
            [
             0.1111111111111111,
             "#46039f"
            ],
            [
             0.2222222222222222,
             "#7201a8"
            ],
            [
             0.3333333333333333,
             "#9c179e"
            ],
            [
             0.4444444444444444,
             "#bd3786"
            ],
            [
             0.5555555555555556,
             "#d8576b"
            ],
            [
             0.6666666666666666,
             "#ed7953"
            ],
            [
             0.7777777777777778,
             "#fb9f3a"
            ],
            [
             0.8888888888888888,
             "#fdca26"
            ],
            [
             1,
             "#f0f921"
            ]
           ]
          },
          "colorway": [
           "#636efa",
           "#EF553B",
           "#00cc96",
           "#ab63fa",
           "#FFA15A",
           "#19d3f3",
           "#FF6692",
           "#B6E880",
           "#FF97FF",
           "#FECB52"
          ],
          "font": {
           "color": "#2a3f5f"
          },
          "geo": {
           "bgcolor": "white",
           "lakecolor": "white",
           "landcolor": "white",
           "showlakes": true,
           "showland": true,
           "subunitcolor": "#C8D4E3"
          },
          "hoverlabel": {
           "align": "left"
          },
          "hovermode": "closest",
          "mapbox": {
           "style": "light"
          },
          "paper_bgcolor": "white",
          "plot_bgcolor": "white",
          "polar": {
           "angularaxis": {
            "gridcolor": "#EBF0F8",
            "linecolor": "#EBF0F8",
            "ticks": ""
           },
           "bgcolor": "white",
           "radialaxis": {
            "gridcolor": "#EBF0F8",
            "linecolor": "#EBF0F8",
            "ticks": ""
           }
          },
          "scene": {
           "xaxis": {
            "backgroundcolor": "white",
            "gridcolor": "#DFE8F3",
            "gridwidth": 2,
            "linecolor": "#EBF0F8",
            "showbackground": true,
            "ticks": "",
            "zerolinecolor": "#EBF0F8"
           },
           "yaxis": {
            "backgroundcolor": "white",
            "gridcolor": "#DFE8F3",
            "gridwidth": 2,
            "linecolor": "#EBF0F8",
            "showbackground": true,
            "ticks": "",
            "zerolinecolor": "#EBF0F8"
           },
           "zaxis": {
            "backgroundcolor": "white",
            "gridcolor": "#DFE8F3",
            "gridwidth": 2,
            "linecolor": "#EBF0F8",
            "showbackground": true,
            "ticks": "",
            "zerolinecolor": "#EBF0F8"
           }
          },
          "shapedefaults": {
           "line": {
            "color": "#2a3f5f"
           }
          },
          "ternary": {
           "aaxis": {
            "gridcolor": "#DFE8F3",
            "linecolor": "#A2B1C6",
            "ticks": ""
           },
           "baxis": {
            "gridcolor": "#DFE8F3",
            "linecolor": "#A2B1C6",
            "ticks": ""
           },
           "bgcolor": "white",
           "caxis": {
            "gridcolor": "#DFE8F3",
            "linecolor": "#A2B1C6",
            "ticks": ""
           }
          },
          "title": {
           "x": 0.05
          },
          "xaxis": {
           "automargin": true,
           "gridcolor": "#EBF0F8",
           "linecolor": "#EBF0F8",
           "ticks": "",
           "title": {
            "standoff": 15
           },
           "zerolinecolor": "#EBF0F8",
           "zerolinewidth": 2
          },
          "yaxis": {
           "automargin": true,
           "gridcolor": "#EBF0F8",
           "linecolor": "#EBF0F8",
           "ticks": "",
           "title": {
            "standoff": 15
           },
           "zerolinecolor": "#EBF0F8",
           "zerolinewidth": 2
          }
         }
        },
        "title": {
         "text": "Comparação CO₂ (200 Amostras) - CT_N3_014: [Composta] - Simular Frenagem Brusca (Cut-off) - ETHANOL",
         "x": 0.5
        },
        "xaxis": {
         "title": {
          "text": "Amostras"
         }
        },
        "yaxis": {
         "title": {
          "text": "CO₂ (g/s)"
         }
        }
       }
      }
     },
     "metadata": {},
     "output_type": "display_data"
    },
    {
     "name": "stdout",
     "output_type": "stream",
     "text": [
      "\n",
      "================================================================================\n",
      "🔁 CT_N3_014: [Composta] - Simular Frenagem Brusca (Cut-off) (GASOLINE)\n",
      "--------------------------------------------------------------------------------\n",
      "Diferença Média: 0.6492 | Diferença Máxima: 2.9090 | RMSE: 0.9072 | Desvio Padrão (Std): 0.6338\n"
     ]
    },
    {
     "data": {
      "text/html": [
       "<style type=\"text/css\">\n",
       "</style>\n",
       "<table id=\"T_321db\">\n",
       "  <caption>Comparação dos dados - CT_N3_014: [Composta] - Simular Frenagem Brusca (Cut-off) (GASOLINE)</caption>\n",
       "  <thead>\n",
       "    <tr>\n",
       "      <th class=\"blank level0\" >&nbsp;</th>\n",
       "      <th id=\"T_321db_level0_col0\" class=\"col_heading level0 col0\" >Latitude_Orig</th>\n",
       "      <th id=\"T_321db_level0_col1\" class=\"col_heading level0 col1\" >Longitude_Orig</th>\n",
       "      <th id=\"T_321db_level0_col2\" class=\"col_heading level0 col2\" >Speed(OBD)(km/h)_Orig</th>\n",
       "      <th id=\"T_321db_level0_col3\" class=\"col_heading level0 col3\" >Acceleration_Orig</th>\n",
       "      <th id=\"T_321db_level0_col4\" class=\"col_heading level0 col4\" > </th>\n",
       "      <th id=\"T_321db_level0_col5\" class=\"col_heading level0 col5\" >Latitude_Mod</th>\n",
       "      <th id=\"T_321db_level0_col6\" class=\"col_heading level0 col6\" >Longitude_Mod</th>\n",
       "      <th id=\"T_321db_level0_col7\" class=\"col_heading level0 col7\" >Speed(OBD)(km/h)_Mod</th>\n",
       "      <th id=\"T_321db_level0_col8\" class=\"col_heading level0 col8\" >Acceleration_Mod</th>\n",
       "      <th id=\"T_321db_level0_col9\" class=\"col_heading level0 col9\" > </th>\n",
       "      <th id=\"T_321db_level0_col10\" class=\"col_heading level0 col10\" >CO₂_Real</th>\n",
       "      <th id=\"T_321db_level0_col11\" class=\"col_heading level0 col11\" >CO₂_Pred_Orig</th>\n",
       "      <th id=\"T_321db_level0_col12\" class=\"col_heading level0 col12\" >CO₂_Pred_Mod</th>\n",
       "    </tr>\n",
       "  </thead>\n",
       "  <tbody>\n",
       "    <tr>\n",
       "      <th id=\"T_321db_level0_row0\" class=\"row_heading level0 row0\" >0</th>\n",
       "      <td id=\"T_321db_row0_col0\" class=\"data row0 col0\" >-5.820010</td>\n",
       "      <td id=\"T_321db_row0_col1\" class=\"data row0 col1\" >-35.220825</td>\n",
       "      <td id=\"T_321db_row0_col2\" class=\"data row0 col2\" >5</td>\n",
       "      <td id=\"T_321db_row0_col3\" class=\"data row0 col3\" >0.000000</td>\n",
       "      <td id=\"T_321db_row0_col4\" class=\"data row0 col4\" >→</td>\n",
       "      <td id=\"T_321db_row0_col5\" class=\"data row0 col5\" >-5.820010</td>\n",
       "      <td id=\"T_321db_row0_col6\" class=\"data row0 col6\" >-35.220825</td>\n",
       "      <td id=\"T_321db_row0_col7\" class=\"data row0 col7\" >75</td>\n",
       "      <td id=\"T_321db_row0_col8\" class=\"data row0 col8\" >-4.000000</td>\n",
       "      <td id=\"T_321db_row0_col9\" class=\"data row0 col9\" > </td>\n",
       "      <td id=\"T_321db_row0_col10\" class=\"data row0 col10\" >1.002671</td>\n",
       "      <td id=\"T_321db_row0_col11\" class=\"data row0 col11\" >1.456781</td>\n",
       "      <td id=\"T_321db_row0_col12\" class=\"data row0 col12\" >2.437737</td>\n",
       "    </tr>\n",
       "    <tr>\n",
       "      <th id=\"T_321db_level0_row1\" class=\"row_heading level0 row1\" >1</th>\n",
       "      <td id=\"T_321db_row1_col0\" class=\"data row1 col0\" >-5.820013</td>\n",
       "      <td id=\"T_321db_row1_col1\" class=\"data row1 col1\" >-35.220822</td>\n",
       "      <td id=\"T_321db_row1_col2\" class=\"data row1 col2\" >4</td>\n",
       "      <td id=\"T_321db_row1_col3\" class=\"data row1 col3\" >-0.277778</td>\n",
       "      <td id=\"T_321db_row1_col4\" class=\"data row1 col4\" >→</td>\n",
       "      <td id=\"T_321db_row1_col5\" class=\"data row1 col5\" >-5.820013</td>\n",
       "      <td id=\"T_321db_row1_col6\" class=\"data row1 col6\" >-35.220822</td>\n",
       "      <td id=\"T_321db_row1_col7\" class=\"data row1 col7\" >0</td>\n",
       "      <td id=\"T_321db_row1_col8\" class=\"data row1 col8\" >-4.000000</td>\n",
       "      <td id=\"T_321db_row1_col9\" class=\"data row1 col9\" > </td>\n",
       "      <td id=\"T_321db_row1_col10\" class=\"data row1 col10\" >1.013360</td>\n",
       "      <td id=\"T_321db_row1_col11\" class=\"data row1 col11\" >1.016708</td>\n",
       "      <td id=\"T_321db_row1_col12\" class=\"data row1 col12\" >0.873537</td>\n",
       "    </tr>\n",
       "    <tr>\n",
       "      <th id=\"T_321db_level0_row2\" class=\"row_heading level0 row2\" >2</th>\n",
       "      <td id=\"T_321db_row2_col0\" class=\"data row2 col0\" >-5.820016</td>\n",
       "      <td id=\"T_321db_row2_col1\" class=\"data row2 col1\" >-35.220819</td>\n",
       "      <td id=\"T_321db_row2_col2\" class=\"data row2 col2\" >5</td>\n",
       "      <td id=\"T_321db_row2_col3\" class=\"data row2 col3\" >0.277778</td>\n",
       "      <td id=\"T_321db_row2_col4\" class=\"data row2 col4\" >→</td>\n",
       "      <td id=\"T_321db_row2_col5\" class=\"data row2 col5\" >-5.820016</td>\n",
       "      <td id=\"T_321db_row2_col6\" class=\"data row2 col6\" >-35.220819</td>\n",
       "      <td id=\"T_321db_row2_col7\" class=\"data row2 col7\" >0</td>\n",
       "      <td id=\"T_321db_row2_col8\" class=\"data row2 col8\" >-4.000000</td>\n",
       "      <td id=\"T_321db_row2_col9\" class=\"data row2 col9\" > </td>\n",
       "      <td id=\"T_321db_row2_col10\" class=\"data row2 col10\" >2.088720</td>\n",
       "      <td id=\"T_321db_row2_col11\" class=\"data row2 col11\" >1.456781</td>\n",
       "      <td id=\"T_321db_row2_col12\" class=\"data row2 col12\" >0.873537</td>\n",
       "    </tr>\n",
       "    <tr>\n",
       "      <th id=\"T_321db_level0_row3\" class=\"row_heading level0 row3\" >3</th>\n",
       "      <td id=\"T_321db_row3_col0\" class=\"data row3 col0\" >-5.820014</td>\n",
       "      <td id=\"T_321db_row3_col1\" class=\"data row3 col1\" >-35.220825</td>\n",
       "      <td id=\"T_321db_row3_col2\" class=\"data row3 col2\" >7</td>\n",
       "      <td id=\"T_321db_row3_col3\" class=\"data row3 col3\" >0.555556</td>\n",
       "      <td id=\"T_321db_row3_col4\" class=\"data row3 col4\" >→</td>\n",
       "      <td id=\"T_321db_row3_col5\" class=\"data row3 col5\" >-5.820014</td>\n",
       "      <td id=\"T_321db_row3_col6\" class=\"data row3 col6\" >-35.220825</td>\n",
       "      <td id=\"T_321db_row3_col7\" class=\"data row3 col7\" >0</td>\n",
       "      <td id=\"T_321db_row3_col8\" class=\"data row3 col8\" >-4.000000</td>\n",
       "      <td id=\"T_321db_row3_col9\" class=\"data row3 col9\" > </td>\n",
       "      <td id=\"T_321db_row3_col10\" class=\"data row3 col10\" >2.261889</td>\n",
       "      <td id=\"T_321db_row3_col11\" class=\"data row3 col11\" >1.996380</td>\n",
       "      <td id=\"T_321db_row3_col12\" class=\"data row3 col12\" >0.873537</td>\n",
       "    </tr>\n",
       "    <tr>\n",
       "      <th id=\"T_321db_level0_row4\" class=\"row_heading level0 row4\" >4</th>\n",
       "      <td id=\"T_321db_row4_col0\" class=\"data row4 col0\" >-5.819992</td>\n",
       "      <td id=\"T_321db_row4_col1\" class=\"data row4 col1\" >-35.220829</td>\n",
       "      <td id=\"T_321db_row4_col2\" class=\"data row4 col2\" >9</td>\n",
       "      <td id=\"T_321db_row4_col3\" class=\"data row4 col3\" >0.555556</td>\n",
       "      <td id=\"T_321db_row4_col4\" class=\"data row4 col4\" >→</td>\n",
       "      <td id=\"T_321db_row4_col5\" class=\"data row4 col5\" >-5.819992</td>\n",
       "      <td id=\"T_321db_row4_col6\" class=\"data row4 col6\" >-35.220829</td>\n",
       "      <td id=\"T_321db_row4_col7\" class=\"data row4 col7\" >2</td>\n",
       "      <td id=\"T_321db_row4_col8\" class=\"data row4 col8\" >-4.000000</td>\n",
       "      <td id=\"T_321db_row4_col9\" class=\"data row4 col9\" > </td>\n",
       "      <td id=\"T_321db_row4_col10\" class=\"data row4 col10\" >2.499195</td>\n",
       "      <td id=\"T_321db_row4_col11\" class=\"data row4 col11\" >2.400486</td>\n",
       "      <td id=\"T_321db_row4_col12\" class=\"data row4 col12\" >0.870895</td>\n",
       "    </tr>\n",
       "    <tr>\n",
       "      <th id=\"T_321db_level0_row5\" class=\"row_heading level0 row5\" >5</th>\n",
       "      <td id=\"T_321db_row5_col0\" class=\"data row5 col0\" >-5.819974</td>\n",
       "      <td id=\"T_321db_row5_col1\" class=\"data row5 col1\" >-35.220824</td>\n",
       "      <td id=\"T_321db_row5_col2\" class=\"data row5 col2\" >12</td>\n",
       "      <td id=\"T_321db_row5_col3\" class=\"data row5 col3\" >0.833333</td>\n",
       "      <td id=\"T_321db_row5_col4\" class=\"data row5 col4\" >→</td>\n",
       "      <td id=\"T_321db_row5_col5\" class=\"data row5 col5\" >-5.819974</td>\n",
       "      <td id=\"T_321db_row5_col6\" class=\"data row5 col6\" >-35.220824</td>\n",
       "      <td id=\"T_321db_row5_col7\" class=\"data row5 col7\" >4</td>\n",
       "      <td id=\"T_321db_row5_col8\" class=\"data row5 col8\" >-4.000000</td>\n",
       "      <td id=\"T_321db_row5_col9\" class=\"data row5 col9\" > </td>\n",
       "      <td id=\"T_321db_row5_col10\" class=\"data row5 col10\" >2.606089</td>\n",
       "      <td id=\"T_321db_row5_col11\" class=\"data row5 col11\" >2.400486</td>\n",
       "      <td id=\"T_321db_row5_col12\" class=\"data row5 col12\" >0.973499</td>\n",
       "    </tr>\n",
       "    <tr>\n",
       "      <th id=\"T_321db_level0_row6\" class=\"row_heading level0 row6\" >6</th>\n",
       "      <td id=\"T_321db_row6_col0\" class=\"data row6 col0\" >-5.819944</td>\n",
       "      <td id=\"T_321db_row6_col1\" class=\"data row6 col1\" >-35.220823</td>\n",
       "      <td id=\"T_321db_row6_col2\" class=\"data row6 col2\" >15</td>\n",
       "      <td id=\"T_321db_row6_col3\" class=\"data row6 col3\" >0.833333</td>\n",
       "      <td id=\"T_321db_row6_col4\" class=\"data row6 col4\" >→</td>\n",
       "      <td id=\"T_321db_row6_col5\" class=\"data row6 col5\" >-5.819944</td>\n",
       "      <td id=\"T_321db_row6_col6\" class=\"data row6 col6\" >-35.220823</td>\n",
       "      <td id=\"T_321db_row6_col7\" class=\"data row6 col7\" >7</td>\n",
       "      <td id=\"T_321db_row6_col8\" class=\"data row6 col8\" >-4.000000</td>\n",
       "      <td id=\"T_321db_row6_col9\" class=\"data row6 col9\" > </td>\n",
       "      <td id=\"T_321db_row6_col10\" class=\"data row6 col10\" >3.070012</td>\n",
       "      <td id=\"T_321db_row6_col11\" class=\"data row6 col11\" >2.148721</td>\n",
       "      <td id=\"T_321db_row6_col12\" class=\"data row6 col12\" >0.842412</td>\n",
       "    </tr>\n",
       "    <tr>\n",
       "      <th id=\"T_321db_level0_row7\" class=\"row_heading level0 row7\" >7</th>\n",
       "      <td id=\"T_321db_row7_col0\" class=\"data row7 col0\" >-5.819908</td>\n",
       "      <td id=\"T_321db_row7_col1\" class=\"data row7 col1\" >-35.220810</td>\n",
       "      <td id=\"T_321db_row7_col2\" class=\"data row7 col2\" >18</td>\n",
       "      <td id=\"T_321db_row7_col3\" class=\"data row7 col3\" >0.833333</td>\n",
       "      <td id=\"T_321db_row7_col4\" class=\"data row7 col4\" >→</td>\n",
       "      <td id=\"T_321db_row7_col5\" class=\"data row7 col5\" >-5.819908</td>\n",
       "      <td id=\"T_321db_row7_col6\" class=\"data row7 col6\" >-35.220810</td>\n",
       "      <td id=\"T_321db_row7_col7\" class=\"data row7 col7\" >10</td>\n",
       "      <td id=\"T_321db_row7_col8\" class=\"data row7 col8\" >-4.000000</td>\n",
       "      <td id=\"T_321db_row7_col9\" class=\"data row7 col9\" > </td>\n",
       "      <td id=\"T_321db_row7_col10\" class=\"data row7 col10\" >2.445747</td>\n",
       "      <td id=\"T_321db_row7_col11\" class=\"data row7 col11\" >1.470940</td>\n",
       "      <td id=\"T_321db_row7_col12\" class=\"data row7 col12\" >0.771938</td>\n",
       "    </tr>\n",
       "    <tr>\n",
       "      <th id=\"T_321db_level0_row8\" class=\"row_heading level0 row8\" >8</th>\n",
       "      <td id=\"T_321db_row8_col0\" class=\"data row8 col0\" >-5.819866</td>\n",
       "      <td id=\"T_321db_row8_col1\" class=\"data row8 col1\" >-35.220794</td>\n",
       "      <td id=\"T_321db_row8_col2\" class=\"data row8 col2\" >18</td>\n",
       "      <td id=\"T_321db_row8_col3\" class=\"data row8 col3\" >0.000000</td>\n",
       "      <td id=\"T_321db_row8_col4\" class=\"data row8 col4\" >→</td>\n",
       "      <td id=\"T_321db_row8_col5\" class=\"data row8 col5\" >-5.819866</td>\n",
       "      <td id=\"T_321db_row8_col6\" class=\"data row8 col6\" >-35.220794</td>\n",
       "      <td id=\"T_321db_row8_col7\" class=\"data row8 col7\" >13</td>\n",
       "      <td id=\"T_321db_row8_col8\" class=\"data row8 col8\" >-4.000000</td>\n",
       "      <td id=\"T_321db_row8_col9\" class=\"data row8 col9\" > </td>\n",
       "      <td id=\"T_321db_row8_col10\" class=\"data row8 col10\" >1.073221</td>\n",
       "      <td id=\"T_321db_row8_col11\" class=\"data row8 col11\" >1.588029</td>\n",
       "      <td id=\"T_321db_row8_col12\" class=\"data row8 col12\" >0.808814</td>\n",
       "    </tr>\n",
       "    <tr>\n",
       "      <th id=\"T_321db_level0_row9\" class=\"row_heading level0 row9\" >9</th>\n",
       "      <td id=\"T_321db_row9_col0\" class=\"data row9 col0\" >-5.819821</td>\n",
       "      <td id=\"T_321db_row9_col1\" class=\"data row9 col1\" >-35.220775</td>\n",
       "      <td id=\"T_321db_row9_col2\" class=\"data row9 col2\" >16</td>\n",
       "      <td id=\"T_321db_row9_col3\" class=\"data row9 col3\" >-0.555556</td>\n",
       "      <td id=\"T_321db_row9_col4\" class=\"data row9 col4\" >→</td>\n",
       "      <td id=\"T_321db_row9_col5\" class=\"data row9 col5\" >-5.819821</td>\n",
       "      <td id=\"T_321db_row9_col6\" class=\"data row9 col6\" >-35.220775</td>\n",
       "      <td id=\"T_321db_row9_col7\" class=\"data row9 col7\" >13</td>\n",
       "      <td id=\"T_321db_row9_col8\" class=\"data row9 col8\" >-4.000000</td>\n",
       "      <td id=\"T_321db_row9_col9\" class=\"data row9 col9\" > </td>\n",
       "      <td id=\"T_321db_row9_col10\" class=\"data row9 col10\" >0.562265</td>\n",
       "      <td id=\"T_321db_row9_col11\" class=\"data row9 col11\" >1.085921</td>\n",
       "      <td id=\"T_321db_row9_col12\" class=\"data row9 col12\" >0.732426</td>\n",
       "    </tr>\n",
       "  </tbody>\n",
       "</table>\n"
      ],
      "text/plain": [
       "<pandas.io.formats.style.Styler at 0x1a742a9edd0>"
      ]
     },
     "metadata": {},
     "output_type": "display_data"
    },
    {
     "data": {
      "application/vnd.plotly.v1+json": {
       "config": {
        "plotlyServerURL": "https://plot.ly"
       },
       "data": [
        {
         "line": {
          "color": "gray",
          "dash": "dot"
         },
         "mode": "lines",
         "name": "Real",
         "type": "scatter",
         "y": {
          "bdata": "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",
          "dtype": "f8"
         }
        },
        {
         "line": {
          "color": "blue",
          "dash": "dash"
         },
         "mode": "lines",
         "name": "Predição Original",
         "type": "scatter",
         "y": {
          "bdata": "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",
          "dtype": "f8"
         }
        },
        {
         "line": {
          "color": "red"
         },
         "mode": "lines",
         "name": "Predição com RM",
         "type": "scatter",
         "y": {
          "bdata": "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",
          "dtype": "f8"
         }
        }
       ],
       "layout": {
        "template": {
         "data": {
          "bar": [
           {
            "error_x": {
             "color": "#2a3f5f"
            },
            "error_y": {
             "color": "#2a3f5f"
            },
            "marker": {
             "line": {
              "color": "white",
              "width": 0.5
             },
             "pattern": {
              "fillmode": "overlay",
              "size": 10,
              "solidity": 0.2
             }
            },
            "type": "bar"
           }
          ],
          "barpolar": [
           {
            "marker": {
             "line": {
              "color": "white",
              "width": 0.5
             },
             "pattern": {
              "fillmode": "overlay",
              "size": 10,
              "solidity": 0.2
             }
            },
            "type": "barpolar"
           }
          ],
          "carpet": [
           {
            "aaxis": {
             "endlinecolor": "#2a3f5f",
             "gridcolor": "#C8D4E3",
             "linecolor": "#C8D4E3",
             "minorgridcolor": "#C8D4E3",
             "startlinecolor": "#2a3f5f"
            },
            "baxis": {
             "endlinecolor": "#2a3f5f",
             "gridcolor": "#C8D4E3",
             "linecolor": "#C8D4E3",
             "minorgridcolor": "#C8D4E3",
             "startlinecolor": "#2a3f5f"
            },
            "type": "carpet"
           }
          ],
          "choropleth": [
           {
            "colorbar": {
             "outlinewidth": 0,
             "ticks": ""
            },
            "type": "choropleth"
           }
          ],
          "contour": [
           {
            "colorbar": {
             "outlinewidth": 0,
             "ticks": ""
            },
            "colorscale": [
             [
              0,
              "#0d0887"
             ],
             [
              0.1111111111111111,
              "#46039f"
             ],
             [
              0.2222222222222222,
              "#7201a8"
             ],
             [
              0.3333333333333333,
              "#9c179e"
             ],
             [
              0.4444444444444444,
              "#bd3786"
             ],
             [
              0.5555555555555556,
              "#d8576b"
             ],
             [
              0.6666666666666666,
              "#ed7953"
             ],
             [
              0.7777777777777778,
              "#fb9f3a"
             ],
             [
              0.8888888888888888,
              "#fdca26"
             ],
             [
              1,
              "#f0f921"
             ]
            ],
            "type": "contour"
           }
          ],
          "contourcarpet": [
           {
            "colorbar": {
             "outlinewidth": 0,
             "ticks": ""
            },
            "type": "contourcarpet"
           }
          ],
          "heatmap": [
           {
            "colorbar": {
             "outlinewidth": 0,
             "ticks": ""
            },
            "colorscale": [
             [
              0,
              "#0d0887"
             ],
             [
              0.1111111111111111,
              "#46039f"
             ],
             [
              0.2222222222222222,
              "#7201a8"
             ],
             [
              0.3333333333333333,
              "#9c179e"
             ],
             [
              0.4444444444444444,
              "#bd3786"
             ],
             [
              0.5555555555555556,
              "#d8576b"
             ],
             [
              0.6666666666666666,
              "#ed7953"
             ],
             [
              0.7777777777777778,
              "#fb9f3a"
             ],
             [
              0.8888888888888888,
              "#fdca26"
             ],
             [
              1,
              "#f0f921"
             ]
            ],
            "type": "heatmap"
           }
          ],
          "histogram": [
           {
            "marker": {
             "pattern": {
              "fillmode": "overlay",
              "size": 10,
              "solidity": 0.2
             }
            },
            "type": "histogram"
           }
          ],
          "histogram2d": [
           {
            "colorbar": {
             "outlinewidth": 0,
             "ticks": ""
            },
            "colorscale": [
             [
              0,
              "#0d0887"
             ],
             [
              0.1111111111111111,
              "#46039f"
             ],
             [
              0.2222222222222222,
              "#7201a8"
             ],
             [
              0.3333333333333333,
              "#9c179e"
             ],
             [
              0.4444444444444444,
              "#bd3786"
             ],
             [
              0.5555555555555556,
              "#d8576b"
             ],
             [
              0.6666666666666666,
              "#ed7953"
             ],
             [
              0.7777777777777778,
              "#fb9f3a"
             ],
             [
              0.8888888888888888,
              "#fdca26"
             ],
             [
              1,
              "#f0f921"
             ]
            ],
            "type": "histogram2d"
           }
          ],
          "histogram2dcontour": [
           {
            "colorbar": {
             "outlinewidth": 0,
             "ticks": ""
            },
            "colorscale": [
             [
              0,
              "#0d0887"
             ],
             [
              0.1111111111111111,
              "#46039f"
             ],
             [
              0.2222222222222222,
              "#7201a8"
             ],
             [
              0.3333333333333333,
              "#9c179e"
             ],
             [
              0.4444444444444444,
              "#bd3786"
             ],
             [
              0.5555555555555556,
              "#d8576b"
             ],
             [
              0.6666666666666666,
              "#ed7953"
             ],
             [
              0.7777777777777778,
              "#fb9f3a"
             ],
             [
              0.8888888888888888,
              "#fdca26"
             ],
             [
              1,
              "#f0f921"
             ]
            ],
            "type": "histogram2dcontour"
           }
          ],
          "mesh3d": [
           {
            "colorbar": {
             "outlinewidth": 0,
             "ticks": ""
            },
            "type": "mesh3d"
           }
          ],
          "parcoords": [
           {
            "line": {
             "colorbar": {
              "outlinewidth": 0,
              "ticks": ""
             }
            },
            "type": "parcoords"
           }
          ],
          "pie": [
           {
            "automargin": true,
            "type": "pie"
           }
          ],
          "scatter": [
           {
            "fillpattern": {
             "fillmode": "overlay",
             "size": 10,
             "solidity": 0.2
            },
            "type": "scatter"
           }
          ],
          "scatter3d": [
           {
            "line": {
             "colorbar": {
              "outlinewidth": 0,
              "ticks": ""
             }
            },
            "marker": {
             "colorbar": {
              "outlinewidth": 0,
              "ticks": ""
             }
            },
            "type": "scatter3d"
           }
          ],
          "scattercarpet": [
           {
            "marker": {
             "colorbar": {
              "outlinewidth": 0,
              "ticks": ""
             }
            },
            "type": "scattercarpet"
           }
          ],
          "scattergeo": [
           {
            "marker": {
             "colorbar": {
              "outlinewidth": 0,
              "ticks": ""
             }
            },
            "type": "scattergeo"
           }
          ],
          "scattergl": [
           {
            "marker": {
             "colorbar": {
              "outlinewidth": 0,
              "ticks": ""
             }
            },
            "type": "scattergl"
           }
          ],
          "scattermap": [
           {
            "marker": {
             "colorbar": {
              "outlinewidth": 0,
              "ticks": ""
             }
            },
            "type": "scattermap"
           }
          ],
          "scattermapbox": [
           {
            "marker": {
             "colorbar": {
              "outlinewidth": 0,
              "ticks": ""
             }
            },
            "type": "scattermapbox"
           }
          ],
          "scatterpolar": [
           {
            "marker": {
             "colorbar": {
              "outlinewidth": 0,
              "ticks": ""
             }
            },
            "type": "scatterpolar"
           }
          ],
          "scatterpolargl": [
           {
            "marker": {
             "colorbar": {
              "outlinewidth": 0,
              "ticks": ""
             }
            },
            "type": "scatterpolargl"
           }
          ],
          "scatterternary": [
           {
            "marker": {
             "colorbar": {
              "outlinewidth": 0,
              "ticks": ""
             }
            },
            "type": "scatterternary"
           }
          ],
          "surface": [
           {
            "colorbar": {
             "outlinewidth": 0,
             "ticks": ""
            },
            "colorscale": [
             [
              0,
              "#0d0887"
             ],
             [
              0.1111111111111111,
              "#46039f"
             ],
             [
              0.2222222222222222,
              "#7201a8"
             ],
             [
              0.3333333333333333,
              "#9c179e"
             ],
             [
              0.4444444444444444,
              "#bd3786"
             ],
             [
              0.5555555555555556,
              "#d8576b"
             ],
             [
              0.6666666666666666,
              "#ed7953"
             ],
             [
              0.7777777777777778,
              "#fb9f3a"
             ],
             [
              0.8888888888888888,
              "#fdca26"
             ],
             [
              1,
              "#f0f921"
             ]
            ],
            "type": "surface"
           }
          ],
          "table": [
           {
            "cells": {
             "fill": {
              "color": "#EBF0F8"
             },
             "line": {
              "color": "white"
             }
            },
            "header": {
             "fill": {
              "color": "#C8D4E3"
             },
             "line": {
              "color": "white"
             }
            },
            "type": "table"
           }
          ]
         },
         "layout": {
          "annotationdefaults": {
           "arrowcolor": "#2a3f5f",
           "arrowhead": 0,
           "arrowwidth": 1
          },
          "autotypenumbers": "strict",
          "coloraxis": {
           "colorbar": {
            "outlinewidth": 0,
            "ticks": ""
           }
          },
          "colorscale": {
           "diverging": [
            [
             0,
             "#8e0152"
            ],
            [
             0.1,
             "#c51b7d"
            ],
            [
             0.2,
             "#de77ae"
            ],
            [
             0.3,
             "#f1b6da"
            ],
            [
             0.4,
             "#fde0ef"
            ],
            [
             0.5,
             "#f7f7f7"
            ],
            [
             0.6,
             "#e6f5d0"
            ],
            [
             0.7,
             "#b8e186"
            ],
            [
             0.8,
             "#7fbc41"
            ],
            [
             0.9,
             "#4d9221"
            ],
            [
             1,
             "#276419"
            ]
           ],
           "sequential": [
            [
             0,
             "#0d0887"
            ],
            [
             0.1111111111111111,
             "#46039f"
            ],
            [
             0.2222222222222222,
             "#7201a8"
            ],
            [
             0.3333333333333333,
             "#9c179e"
            ],
            [
             0.4444444444444444,
             "#bd3786"
            ],
            [
             0.5555555555555556,
             "#d8576b"
            ],
            [
             0.6666666666666666,
             "#ed7953"
            ],
            [
             0.7777777777777778,
             "#fb9f3a"
            ],
            [
             0.8888888888888888,
             "#fdca26"
            ],
            [
             1,
             "#f0f921"
            ]
           ],
           "sequentialminus": [
            [
             0,
             "#0d0887"
            ],
            [
             0.1111111111111111,
             "#46039f"
            ],
            [
             0.2222222222222222,
             "#7201a8"
            ],
            [
             0.3333333333333333,
             "#9c179e"
            ],
            [
             0.4444444444444444,
             "#bd3786"
            ],
            [
             0.5555555555555556,
             "#d8576b"
            ],
            [
             0.6666666666666666,
             "#ed7953"
            ],
            [
             0.7777777777777778,
             "#fb9f3a"
            ],
            [
             0.8888888888888888,
             "#fdca26"
            ],
            [
             1,
             "#f0f921"
            ]
           ]
          },
          "colorway": [
           "#636efa",
           "#EF553B",
           "#00cc96",
           "#ab63fa",
           "#FFA15A",
           "#19d3f3",
           "#FF6692",
           "#B6E880",
           "#FF97FF",
           "#FECB52"
          ],
          "font": {
           "color": "#2a3f5f"
          },
          "geo": {
           "bgcolor": "white",
           "lakecolor": "white",
           "landcolor": "white",
           "showlakes": true,
           "showland": true,
           "subunitcolor": "#C8D4E3"
          },
          "hoverlabel": {
           "align": "left"
          },
          "hovermode": "closest",
          "mapbox": {
           "style": "light"
          },
          "paper_bgcolor": "white",
          "plot_bgcolor": "white",
          "polar": {
           "angularaxis": {
            "gridcolor": "#EBF0F8",
            "linecolor": "#EBF0F8",
            "ticks": ""
           },
           "bgcolor": "white",
           "radialaxis": {
            "gridcolor": "#EBF0F8",
            "linecolor": "#EBF0F8",
            "ticks": ""
           }
          },
          "scene": {
           "xaxis": {
            "backgroundcolor": "white",
            "gridcolor": "#DFE8F3",
            "gridwidth": 2,
            "linecolor": "#EBF0F8",
            "showbackground": true,
            "ticks": "",
            "zerolinecolor": "#EBF0F8"
           },
           "yaxis": {
            "backgroundcolor": "white",
            "gridcolor": "#DFE8F3",
            "gridwidth": 2,
            "linecolor": "#EBF0F8",
            "showbackground": true,
            "ticks": "",
            "zerolinecolor": "#EBF0F8"
           },
           "zaxis": {
            "backgroundcolor": "white",
            "gridcolor": "#DFE8F3",
            "gridwidth": 2,
            "linecolor": "#EBF0F8",
            "showbackground": true,
            "ticks": "",
            "zerolinecolor": "#EBF0F8"
           }
          },
          "shapedefaults": {
           "line": {
            "color": "#2a3f5f"
           }
          },
          "ternary": {
           "aaxis": {
            "gridcolor": "#DFE8F3",
            "linecolor": "#A2B1C6",
            "ticks": ""
           },
           "baxis": {
            "gridcolor": "#DFE8F3",
            "linecolor": "#A2B1C6",
            "ticks": ""
           },
           "bgcolor": "white",
           "caxis": {
            "gridcolor": "#DFE8F3",
            "linecolor": "#A2B1C6",
            "ticks": ""
           }
          },
          "title": {
           "x": 0.05
          },
          "xaxis": {
           "automargin": true,
           "gridcolor": "#EBF0F8",
           "linecolor": "#EBF0F8",
           "ticks": "",
           "title": {
            "standoff": 15
           },
           "zerolinecolor": "#EBF0F8",
           "zerolinewidth": 2
          },
          "yaxis": {
           "automargin": true,
           "gridcolor": "#EBF0F8",
           "linecolor": "#EBF0F8",
           "ticks": "",
           "title": {
            "standoff": 15
           },
           "zerolinecolor": "#EBF0F8",
           "zerolinewidth": 2
          }
         }
        },
        "title": {
         "text": "Comparação CO₂ (200 Amostras) - CT_N3_014: [Composta] - Simular Frenagem Brusca (Cut-off) - GASOLINE",
         "x": 0.5
        },
        "xaxis": {
         "title": {
          "text": "Amostras"
         }
        },
        "yaxis": {
         "title": {
          "text": "CO₂ (g/s)"
         }
        }
       }
      }
     },
     "metadata": {},
     "output_type": "display_data"
    }
   ],
   "source": [
    "# ==============================================================================\n",
    "# NOTEBOOK DE TESTES METAMÓRFICOS - NÍVEL 3: ANÁLISE DE GENERALIZAÇÃO\n",
    "# ==============================================================================\n",
    "# Objetivo: Avaliar a capacidade do modelo de fornecer saídas coerentes e\n",
    "# fisicamente plausíveis sob condições dinâmicas e sequências de eventos complexos.\n",
    "# ------------------------------------------------------------------------------\n",
    "\n",
    "# 📦 Imports\n",
    "import pandas as pd\n",
    "import numpy as np\n",
    "import joblib\n",
    "import plotly.graph_objects as go\n",
    "from sklearn.metrics import mean_squared_error\n",
    "from pathlib import Path\n",
    "from IPython.display import display\n",
    "\n",
    "# ------------------------------------------------------------------------------\n",
    "# 📁 ETAPA 1: SETUP DO AMBIENTE DE TESTE\n",
    "# ------------------------------------------------------------------------------\n",
    "\n",
    "# Carregar dados de referência\n",
    "try:\n",
    "    ethanol_path = Path(r\"C:/Users/Paulo Eduardo/Documents/Dissertação/ModelosML/Conect2ai/MDPI2023-pollution/data/[Etanol] Trajeto Casa-Escola-UFRN/trackLog-2023-Feb-13_06-38-49_seg.csv\")\n",
    "    gasoline_path = Path(r\"C:/Users/Paulo Eduardo/Documents/Dissertação/ModelosML/Conect2ai/MDPI2023-pollution/data/[Gasolina] Trajeto Casa-Escola-UFRN/trackLog-2022-Dec-01_06-43-57_qui.csv\")\n",
    "    df_ethanol = pd.read_csv(ethanol_path)\n",
    "    df_gasoline = pd.read_csv(gasoline_path)\n",
    "    print(\"Arquivos de dados carregados com sucesso.\")\n",
    "except FileNotFoundError as e:\n",
    "    print(f\"ERRO: Arquivos de dados não encontrados. {e}\")\n",
    "    raise\n",
    "\n",
    "# Função para preparar os dados\n",
    "def preparar_dados(df):\n",
    "    df_copy = df.copy()\n",
    "    df_copy.columns = df_copy.columns.str.strip()\n",
    "    col_map = {'Speed (OBD)(km/h)': 'Speed(OBD)(km/h)', 'Latitude ': 'Latitude', 'Longitude ': 'Longitude'}\n",
    "    df_copy.rename(columns={k: v for k, v in col_map.items() if k in df_copy.columns}, inplace=True)\n",
    "    if \"Speed(OBD)(km/h)\" in df_copy.columns:\n",
    "        speeds = df_copy[\"Speed(OBD)(km/h)\"].fillna(0).values * 1000 / 3600\n",
    "        df_copy[\"Acceleration\"] = np.diff(speeds, prepend=speeds[0])\n",
    "    return df_copy\n",
    "\n",
    "df_ethanol = preparar_dados(df_ethanol)\n",
    "df_gasoline = preparar_dados(df_gasoline)\n",
    "\n",
    "# Carregar os modelos\n",
    "try:\n",
    "    modelos = {\n",
    "        \"ethanol\": {\n",
    "            \"afr\": joblib.load(Path(r\"C:/Users/Paulo Eduardo/Documents/Dissertação/ModelosML/Conect2ai/MDPI2023-pollution/models/LGBMRegressor_ethanol_afr.pkl\")),\n",
    "            \"maf\": joblib.load(Path(r\"C:/Users/Paulo Eduardo/Documents/Dissertação/ModelosML/Conect2ai/MDPI2023-pollution/models/XGBRegressor_ethanol_maf.pkl\"))\n",
    "        },\n",
    "        \"gasoline\": {\n",
    "            \"afr\": joblib.load(Path(r\"C:/Users/Paulo Eduardo/Documents/Dissertação/ModelosML/Conect2ai/MDPI2023-pollution/models/LGBMRegressor_gasoline_afr.pkl\")),\n",
    "            \"maf\": joblib.load(Path(r\"C:/Users/Paulo Eduardo/Documents/Dissertação/ModelosML/Conect2ai/MDPI2023-pollution/models/XGBRegressor_gasoline_maf.pkl\"))\n",
    "        }\n",
    "    }\n",
    "    print(\"Modelos de IA carregados com sucesso.\")\n",
    "except FileNotFoundError as e:\n",
    "    print(f\"ERRO: Arquivos de modelo não encontrados. {e}\")\n",
    "    raise\n",
    "\n",
    "# ------------------------------------------------------------------------------\n",
    "# 🔧 ETAPA 2: DEFINIÇÃO DAS FUNÇÕES DE SUPORTE\n",
    "# ------------------------------------------------------------------------------\n",
    "\n",
    "def compute_co2(afr, maf, fuel_type):\n",
    "    afr = np.array(afr)\n",
    "    maf = np.array(maf)\n",
    "    carbon_fraction = {\"ethanol\": 0.5217, \"gasoline\": 0.8571}\n",
    "    c_fraction = carbon_fraction.get(fuel_type)\n",
    "    fuel_rate = np.divide(maf, afr, out=np.zeros_like(maf, dtype=float), where=afr!=0)\n",
    "    return fuel_rate * c_fraction * (44.0 / 12.0)\n",
    "\n",
    "def encontrar_coluna(df, alternativas):\n",
    "    df.columns = df.columns.str.strip()\n",
    "    for alt in alternativas:\n",
    "        if alt in df.columns:\n",
    "            return df[alt]\n",
    "    return None\n",
    "\n",
    "# --- FUNÇÃO PRINCIPAL CORRIGIDA ---\n",
    "def executar_teste_plotly(df_original, df_modificado, modelo_afr, modelo_maf, fuel, nome_mr, co2_real=None):\n",
    "    # CORREÇÃO: Definir a ordem exata que o modelo espera\n",
    "    features_ordem_correta = [\"Latitude\", \"Longitude\", \"Speed(OBD)(km/h)\", \"Acceleration\"]\n",
    "    \n",
    "    for feature in features_ordem_correta:\n",
    "        if feature not in df_original.columns: df_original[feature] = 0\n",
    "        if feature not in df_modificado.columns: df_modificado[feature] = 0\n",
    "\n",
    "    # Usar a lista com a ordem correta para fazer as predições\n",
    "    afr_orig = modelo_afr.predict(df_original[features_ordem_correta])\n",
    "    maf_orig = modelo_maf.predict(df_original[features_ordem_correta])\n",
    "    co2_orig = compute_co2(afr_orig, maf_orig, fuel)\n",
    "\n",
    "    afr_mod = modelo_afr.predict(df_modificado[features_ordem_correta])\n",
    "    maf_mod = modelo_maf.predict(df_modificado[features_ordem_correta])\n",
    "    co2_mod = compute_co2(afr_mod, maf_mod, fuel)\n",
    "    \n",
    "    diff = np.abs(co2_orig - co2_mod)\n",
    "    media, maxima, rmse, std = diff.mean(), diff.max(), mean_squared_error(co2_orig, co2_mod, squared=False), diff.std()\n",
    "\n",
    "    print(f\"\\n{'='*80}\\n🔁 {nome_mr} ({fuel.upper()})\\n{'-'*80}\")\n",
    "    print(f\"Diferença Média: {media:.4f} | Diferença Máxima: {maxima:.4f} | RMSE: {rmse:.4f} | Desvio Padrão (Std): {std:.4f}\")\n",
    "    \n",
    "    tabela = pd.concat([\n",
    "        df_original[features_ordem_correta].iloc[:10].add_suffix(\"_Orig\"),\n",
    "        pd.DataFrame({\" \": [\"→\"] * 10}),\n",
    "        df_modificado[features_ordem_correta].iloc[:10].add_suffix(\"_Mod\"),\n",
    "        pd.DataFrame({\" \": [\" \"] * 10}),\n",
    "        pd.DataFrame({\n",
    "            \"CO₂_Real\": co2_real[:10] if co2_real is not None else \"N/A\",\n",
    "            \"CO₂_Pred_Orig\": co2_orig[:10],\n",
    "            \"CO₂_Pred_Mod\": co2_mod[:10]\n",
    "        })\n",
    "    ], axis=1).fillna(\"N/A\")\n",
    "    display(tabela.style.set_caption(f\"Comparação dos dados - {nome_mr} ({fuel.upper()})\"))\n",
    "\n",
    "    fig = go.Figure()\n",
    "    if co2_real is not None:\n",
    "        fig.add_trace(go.Scatter(y=co2_real[:200], mode='lines', name='Real', line=dict(dash='dot', color='gray')))\n",
    "    fig.add_trace(go.Scatter(y=co2_orig[:200], mode='lines', name='Predição Original', line=dict(dash='dash', color='blue')))\n",
    "    fig.add_trace(go.Scatter(y=co2_mod[:200], mode='lines', name='Predição com RM', line=dict(color='red')))\n",
    "    fig.update_layout(\n",
    "        title=dict(text=f\"Comparação CO₂ (200 Amostras) - {nome_mr} - {fuel.upper()}\", x=0.5),\n",
    "        xaxis_title=\"Amostras\", yaxis_title=\"CO₂ (g/s)\", template=\"plotly_white\"\n",
    "    )\n",
    "    fig.show()\n",
    "\n",
    "# ==============================================================================\n",
    "# 🔁 ETAPA 3: DEFINIÇÃO DOS CASOS DE TESTE METAMÓRFICOS - NÍVEL 3 (VERSÃO CORRIGIDA)\n",
    "# ==============================================================================\n",
    "\n",
    "testes_metamorficos_n3 = {\n",
    "    # Teste ID: CT_N3_012\n",
    "    \"CT_N3_012: [Composta] - Simular Subida Íngreme\": lambda df: df.copy().assign(\n",
    "        **{'Speed(OBD)(km/h)': 40.0, 'Acceleration': 1.5}\n",
    "    ),\n",
    "    \n",
    "    # Teste ID: CT_N3_013\n",
    "    \"CT_N3_013: [Composta] - Simular Inércia em Declive\": lambda df: df.copy().assign(\n",
    "        **{'Speed(OBD)(km/h)': 80.0, 'Acceleration': -0.5}\n",
    "    ),\n",
    "    \n",
    "    # Teste ID: CT_N3_014 (CORRIGIDO)\n",
    "    \"CT_N3_014: [Composta] - Simular Frenagem Brusca (Cut-off)\": lambda df: df.copy().assign(\n",
    "        **{\n",
    "            # A CORREÇÃO ESTÁ AQUI: .clip(lower=0) é aplicado imediatamente\n",
    "            'Speed(OBD)(km/h)': (df['Speed(OBD)(km/h)'].shift(1, fill_value=80) - 5).clip(lower=0),\n",
    "            'Acceleration': -4.0\n",
    "        }\n",
    "    )\n",
    "}\n",
    "\n",
    "# ------------------------------------------------------------------------------\n",
    "# 🧲 ETAPA 4: EXECUÇÃO DOS TESTES DE NÍVEL 3\n",
    "# ------------------------------------------------------------------------------\n",
    "\n",
    "print(\"=\"*80)\n",
    "print(\"INICIANDO EXECUÇÃO DOS TESTES DE NÍVEL 3\")\n",
    "print(\"=\"*80)\n",
    "\n",
    "# Pré-cálculo dos valores reais para plotagem\n",
    "afr_real_etanol = encontrar_coluna(df_ethanol, [\"AirFuelRatio(Commanded)(:1)\", \"Air Fuel Ratio(Commanded)(:1)\"])\n",
    "maf_real_etanol = encontrar_coluna(df_ethanol, [\"MassAirFlowRate(g/s)\", \"Mass Air Flow Rate(g/s)\"])\n",
    "co2_real_etanol = compute_co2(afr_real_etanol.values, maf_real_etanol.values, \"ethanol\") if afr_real_etanol is not None and maf_real_etanol is not None else None\n",
    "\n",
    "afr_real_gasoline = encontrar_coluna(df_gasoline, [\"AirFuelRatio(Commanded)(:1)\", \"Air Fuel Ratio(Commanded)(:1)\"])\n",
    "maf_real_gasoline = encontrar_coluna(df_gasoline, [\"MassAirFlowRate(g/s)\", \"Mass Air Flow Rate(g/s)\"])\n",
    "co2_real_gasoline = compute_co2(afr_real_gasoline.values, maf_real_gasoline.values, \"gasoline\") if afr_real_gasoline is not None and maf_real_gasoline is not None else None\n",
    "\n",
    "valores_reais = {\"ethanol\": co2_real_etanol, \"gasoline\": co2_real_gasoline}\n",
    "\n",
    "for nome_mr, transformacao in testes_metamorficos_n3.items():\n",
    "    for combustivel, df_original in [(\"ethanol\", df_ethanol), (\"gasoline\", df_gasoline)]:\n",
    "        df_modificado = transformacao(df_original.copy())\n",
    "        executar_teste_plotly(\n",
    "            df_original=df_original,\n",
    "            df_modificado=df_modificado,\n",
    "            modelo_afr=modelos[combustivel][\"afr\"],\n",
    "            modelo_maf=modelos[combustivel][\"maf\"],\n",
    "            fuel=combustivel,\n",
    "            nome_mr=nome_mr,\n",
    "            co2_real=valores_reais[combustivel]\n",
    "        )"
   ]
  }
 ],
 "metadata": {
  "kernelspec": {
   "display_name": "biofuel_analysis",
   "language": "python",
   "name": "python3"
  },
  "language_info": {
   "codemirror_mode": {
    "name": "ipython",
    "version": 3
   },
   "file_extension": ".py",
   "mimetype": "text/x-python",
   "name": "python",
   "nbconvert_exporter": "python",
   "pygments_lexer": "ipython3",
   "version": "3.11.9"
  }
 },
 "nbformat": 4,
 "nbformat_minor": 5
}

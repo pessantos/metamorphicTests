{
 "cells": [
  {
   "cell_type": "code",
   "execution_count": 3,
   "id": "6416e456",
   "metadata": {},
   "outputs": [
    {
     "name": "stdout",
     "output_type": "stream",
     "text": [
      "Arquivos de dados carregados com sucesso.\n",
      "Modelos de IA carregados com sucesso.\n",
      "================================================================================\n",
      "INICIANDO EXECUÇÃO DOS TESTES DE NÍVEL 1\n",
      "================================================================================\n",
      "\n",
      "================================================================================\n",
      "🔁 CT_N1_002: [Exclusiva] - Zerar Variável A (ETHANOL)\n",
      "--------------------------------------------------------------------------------\n",
      "Diferença Média: 0.3016 | Diferença Máxima: 2.2210 | RMSE: 0.4900 | Desvio Padrão (Std): 0.3862\n"
     ]
    },
    {
     "data": {
      "text/html": [
       "<style type=\"text/css\">\n",
       "</style>\n",
       "<table id=\"T_2bc47\">\n",
       "  <caption>Comparação dos dados - CT_N1_002: [Exclusiva] - Zerar Variável A (ETHANOL)</caption>\n",
       "  <thead>\n",
       "    <tr>\n",
       "      <th class=\"blank level0\" >&nbsp;</th>\n",
       "      <th id=\"T_2bc47_level0_col0\" class=\"col_heading level0 col0\" >Latitude_Orig</th>\n",
       "      <th id=\"T_2bc47_level0_col1\" class=\"col_heading level0 col1\" >Longitude_Orig</th>\n",
       "      <th id=\"T_2bc47_level0_col2\" class=\"col_heading level0 col2\" >Speed(OBD)(km/h)_Orig</th>\n",
       "      <th id=\"T_2bc47_level0_col3\" class=\"col_heading level0 col3\" >Acceleration_Orig</th>\n",
       "      <th id=\"T_2bc47_level0_col4\" class=\"col_heading level0 col4\" > </th>\n",
       "      <th id=\"T_2bc47_level0_col5\" class=\"col_heading level0 col5\" >Latitude_Mod</th>\n",
       "      <th id=\"T_2bc47_level0_col6\" class=\"col_heading level0 col6\" >Longitude_Mod</th>\n",
       "      <th id=\"T_2bc47_level0_col7\" class=\"col_heading level0 col7\" >Speed(OBD)(km/h)_Mod</th>\n",
       "      <th id=\"T_2bc47_level0_col8\" class=\"col_heading level0 col8\" >Acceleration_Mod</th>\n",
       "      <th id=\"T_2bc47_level0_col9\" class=\"col_heading level0 col9\" > </th>\n",
       "      <th id=\"T_2bc47_level0_col10\" class=\"col_heading level0 col10\" >CO₂_Real</th>\n",
       "      <th id=\"T_2bc47_level0_col11\" class=\"col_heading level0 col11\" >CO₂_Pred_Orig</th>\n",
       "      <th id=\"T_2bc47_level0_col12\" class=\"col_heading level0 col12\" >CO₂_Pred_Mod</th>\n",
       "    </tr>\n",
       "  </thead>\n",
       "  <tbody>\n",
       "    <tr>\n",
       "      <th id=\"T_2bc47_level0_row0\" class=\"row_heading level0 row0\" >0</th>\n",
       "      <td id=\"T_2bc47_row0_col0\" class=\"data row0 col0\" >-5.820105</td>\n",
       "      <td id=\"T_2bc47_row0_col1\" class=\"data row0 col1\" >-35.220818</td>\n",
       "      <td id=\"T_2bc47_row0_col2\" class=\"data row0 col2\" >3</td>\n",
       "      <td id=\"T_2bc47_row0_col3\" class=\"data row0 col3\" >0.000000</td>\n",
       "      <td id=\"T_2bc47_row0_col4\" class=\"data row0 col4\" >→</td>\n",
       "      <td id=\"T_2bc47_row0_col5\" class=\"data row0 col5\" >-5.820105</td>\n",
       "      <td id=\"T_2bc47_row0_col6\" class=\"data row0 col6\" >-35.220818</td>\n",
       "      <td id=\"T_2bc47_row0_col7\" class=\"data row0 col7\" >0.000000</td>\n",
       "      <td id=\"T_2bc47_row0_col8\" class=\"data row0 col8\" >0.000000</td>\n",
       "      <td id=\"T_2bc47_row0_col9\" class=\"data row0 col9\" > </td>\n",
       "      <td id=\"T_2bc47_row0_col10\" class=\"data row0 col10\" >0.642839</td>\n",
       "      <td id=\"T_2bc47_row0_col11\" class=\"data row0 col11\" >0.742631</td>\n",
       "      <td id=\"T_2bc47_row0_col12\" class=\"data row0 col12\" >0.727468</td>\n",
       "    </tr>\n",
       "    <tr>\n",
       "      <th id=\"T_2bc47_level0_row1\" class=\"row_heading level0 row1\" >1</th>\n",
       "      <td id=\"T_2bc47_row1_col0\" class=\"data row1 col0\" >-5.820103</td>\n",
       "      <td id=\"T_2bc47_row1_col1\" class=\"data row1 col1\" >-35.220828</td>\n",
       "      <td id=\"T_2bc47_row1_col2\" class=\"data row1 col2\" >5</td>\n",
       "      <td id=\"T_2bc47_row1_col3\" class=\"data row1 col3\" >0.555556</td>\n",
       "      <td id=\"T_2bc47_row1_col4\" class=\"data row1 col4\" >→</td>\n",
       "      <td id=\"T_2bc47_row1_col5\" class=\"data row1 col5\" >-5.820103</td>\n",
       "      <td id=\"T_2bc47_row1_col6\" class=\"data row1 col6\" >-35.220828</td>\n",
       "      <td id=\"T_2bc47_row1_col7\" class=\"data row1 col7\" >0.000000</td>\n",
       "      <td id=\"T_2bc47_row1_col8\" class=\"data row1 col8\" >0.555556</td>\n",
       "      <td id=\"T_2bc47_row1_col9\" class=\"data row1 col9\" > </td>\n",
       "      <td id=\"T_2bc47_row1_col10\" class=\"data row1 col10\" >0.653249</td>\n",
       "      <td id=\"T_2bc47_row1_col11\" class=\"data row1 col11\" >0.771505</td>\n",
       "      <td id=\"T_2bc47_row1_col12\" class=\"data row1 col12\" >0.727468</td>\n",
       "    </tr>\n",
       "    <tr>\n",
       "      <th id=\"T_2bc47_level0_row2\" class=\"row_heading level0 row2\" >2</th>\n",
       "      <td id=\"T_2bc47_row2_col0\" class=\"data row2 col0\" >-5.820102</td>\n",
       "      <td id=\"T_2bc47_row2_col1\" class=\"data row2 col1\" >-35.220838</td>\n",
       "      <td id=\"T_2bc47_row2_col2\" class=\"data row2 col2\" >5</td>\n",
       "      <td id=\"T_2bc47_row2_col3\" class=\"data row2 col3\" >0.000000</td>\n",
       "      <td id=\"T_2bc47_row2_col4\" class=\"data row2 col4\" >→</td>\n",
       "      <td id=\"T_2bc47_row2_col5\" class=\"data row2 col5\" >-5.820102</td>\n",
       "      <td id=\"T_2bc47_row2_col6\" class=\"data row2 col6\" >-35.220838</td>\n",
       "      <td id=\"T_2bc47_row2_col7\" class=\"data row2 col7\" >0.000000</td>\n",
       "      <td id=\"T_2bc47_row2_col8\" class=\"data row2 col8\" >0.000000</td>\n",
       "      <td id=\"T_2bc47_row2_col9\" class=\"data row2 col9\" > </td>\n",
       "      <td id=\"T_2bc47_row2_col10\" class=\"data row2 col10\" >0.653249</td>\n",
       "      <td id=\"T_2bc47_row2_col11\" class=\"data row2 col11\" >0.771505</td>\n",
       "      <td id=\"T_2bc47_row2_col12\" class=\"data row2 col12\" >0.727468</td>\n",
       "    </tr>\n",
       "    <tr>\n",
       "      <th id=\"T_2bc47_level0_row3\" class=\"row_heading level0 row3\" >3</th>\n",
       "      <td id=\"T_2bc47_row3_col0\" class=\"data row3 col0\" >-5.820096</td>\n",
       "      <td id=\"T_2bc47_row3_col1\" class=\"data row3 col1\" >-35.220843</td>\n",
       "      <td id=\"T_2bc47_row3_col2\" class=\"data row3 col2\" >3</td>\n",
       "      <td id=\"T_2bc47_row3_col3\" class=\"data row3 col3\" >-0.555556</td>\n",
       "      <td id=\"T_2bc47_row3_col4\" class=\"data row3 col4\" >→</td>\n",
       "      <td id=\"T_2bc47_row3_col5\" class=\"data row3 col5\" >-5.820096</td>\n",
       "      <td id=\"T_2bc47_row3_col6\" class=\"data row3 col6\" >-35.220843</td>\n",
       "      <td id=\"T_2bc47_row3_col7\" class=\"data row3 col7\" >0.000000</td>\n",
       "      <td id=\"T_2bc47_row3_col8\" class=\"data row3 col8\" >-0.555556</td>\n",
       "      <td id=\"T_2bc47_row3_col9\" class=\"data row3 col9\" > </td>\n",
       "      <td id=\"T_2bc47_row3_col10\" class=\"data row3 col10\" >0.679275</td>\n",
       "      <td id=\"T_2bc47_row3_col11\" class=\"data row3 col11\" >0.659013</td>\n",
       "      <td id=\"T_2bc47_row3_col12\" class=\"data row3 col12\" >0.721582</td>\n",
       "    </tr>\n",
       "    <tr>\n",
       "      <th id=\"T_2bc47_level0_row4\" class=\"row_heading level0 row4\" >4</th>\n",
       "      <td id=\"T_2bc47_row4_col0\" class=\"data row4 col0\" >-5.820091</td>\n",
       "      <td id=\"T_2bc47_row4_col1\" class=\"data row4 col1\" >-35.220850</td>\n",
       "      <td id=\"T_2bc47_row4_col2\" class=\"data row4 col2\" >0</td>\n",
       "      <td id=\"T_2bc47_row4_col3\" class=\"data row4 col3\" >-0.833333</td>\n",
       "      <td id=\"T_2bc47_row4_col4\" class=\"data row4 col4\" >→</td>\n",
       "      <td id=\"T_2bc47_row4_col5\" class=\"data row4 col5\" >-5.820091</td>\n",
       "      <td id=\"T_2bc47_row4_col6\" class=\"data row4 col6\" >-35.220850</td>\n",
       "      <td id=\"T_2bc47_row4_col7\" class=\"data row4 col7\" >0.000000</td>\n",
       "      <td id=\"T_2bc47_row4_col8\" class=\"data row4 col8\" >-0.833333</td>\n",
       "      <td id=\"T_2bc47_row4_col9\" class=\"data row4 col9\" > </td>\n",
       "      <td id=\"T_2bc47_row4_col10\" class=\"data row4 col10\" >0.610306</td>\n",
       "      <td id=\"T_2bc47_row4_col11\" class=\"data row4 col11\" >0.667689</td>\n",
       "      <td id=\"T_2bc47_row4_col12\" class=\"data row4 col12\" >0.667689</td>\n",
       "    </tr>\n",
       "    <tr>\n",
       "      <th id=\"T_2bc47_level0_row5\" class=\"row_heading level0 row5\" >5</th>\n",
       "      <td id=\"T_2bc47_row5_col0\" class=\"data row5 col0\" >-5.820091</td>\n",
       "      <td id=\"T_2bc47_row5_col1\" class=\"data row5 col1\" >-35.220850</td>\n",
       "      <td id=\"T_2bc47_row5_col2\" class=\"data row5 col2\" >0</td>\n",
       "      <td id=\"T_2bc47_row5_col3\" class=\"data row5 col3\" >0.000000</td>\n",
       "      <td id=\"T_2bc47_row5_col4\" class=\"data row5 col4\" >→</td>\n",
       "      <td id=\"T_2bc47_row5_col5\" class=\"data row5 col5\" >-5.820091</td>\n",
       "      <td id=\"T_2bc47_row5_col6\" class=\"data row5 col6\" >-35.220850</td>\n",
       "      <td id=\"T_2bc47_row5_col7\" class=\"data row5 col7\" >0.000000</td>\n",
       "      <td id=\"T_2bc47_row5_col8\" class=\"data row5 col8\" >0.000000</td>\n",
       "      <td id=\"T_2bc47_row5_col9\" class=\"data row5 col9\" > </td>\n",
       "      <td id=\"T_2bc47_row5_col10\" class=\"data row5 col10\" >0.610306</td>\n",
       "      <td id=\"T_2bc47_row5_col11\" class=\"data row5 col11\" >0.706858</td>\n",
       "      <td id=\"T_2bc47_row5_col12\" class=\"data row5 col12\" >0.706858</td>\n",
       "    </tr>\n",
       "    <tr>\n",
       "      <th id=\"T_2bc47_level0_row6\" class=\"row_heading level0 row6\" >6</th>\n",
       "      <td id=\"T_2bc47_row6_col0\" class=\"data row6 col0\" >-5.820091</td>\n",
       "      <td id=\"T_2bc47_row6_col1\" class=\"data row6 col1\" >-35.220850</td>\n",
       "      <td id=\"T_2bc47_row6_col2\" class=\"data row6 col2\" >0</td>\n",
       "      <td id=\"T_2bc47_row6_col3\" class=\"data row6 col3\" >0.000000</td>\n",
       "      <td id=\"T_2bc47_row6_col4\" class=\"data row6 col4\" >→</td>\n",
       "      <td id=\"T_2bc47_row6_col5\" class=\"data row6 col5\" >-5.820091</td>\n",
       "      <td id=\"T_2bc47_row6_col6\" class=\"data row6 col6\" >-35.220850</td>\n",
       "      <td id=\"T_2bc47_row6_col7\" class=\"data row6 col7\" >0.000000</td>\n",
       "      <td id=\"T_2bc47_row6_col8\" class=\"data row6 col8\" >0.000000</td>\n",
       "      <td id=\"T_2bc47_row6_col9\" class=\"data row6 col9\" > </td>\n",
       "      <td id=\"T_2bc47_row6_col10\" class=\"data row6 col10\" >0.490587</td>\n",
       "      <td id=\"T_2bc47_row6_col11\" class=\"data row6 col11\" >0.706858</td>\n",
       "      <td id=\"T_2bc47_row6_col12\" class=\"data row6 col12\" >0.706858</td>\n",
       "    </tr>\n",
       "    <tr>\n",
       "      <th id=\"T_2bc47_level0_row7\" class=\"row_heading level0 row7\" >7</th>\n",
       "      <td id=\"T_2bc47_row7_col0\" class=\"data row7 col0\" >-5.820085</td>\n",
       "      <td id=\"T_2bc47_row7_col1\" class=\"data row7 col1\" >-35.220856</td>\n",
       "      <td id=\"T_2bc47_row7_col2\" class=\"data row7 col2\" >3</td>\n",
       "      <td id=\"T_2bc47_row7_col3\" class=\"data row7 col3\" >0.833333</td>\n",
       "      <td id=\"T_2bc47_row7_col4\" class=\"data row7 col4\" >→</td>\n",
       "      <td id=\"T_2bc47_row7_col5\" class=\"data row7 col5\" >-5.820085</td>\n",
       "      <td id=\"T_2bc47_row7_col6\" class=\"data row7 col6\" >-35.220856</td>\n",
       "      <td id=\"T_2bc47_row7_col7\" class=\"data row7 col7\" >0.000000</td>\n",
       "      <td id=\"T_2bc47_row7_col8\" class=\"data row7 col8\" >0.833333</td>\n",
       "      <td id=\"T_2bc47_row7_col9\" class=\"data row7 col9\" > </td>\n",
       "      <td id=\"T_2bc47_row7_col10\" class=\"data row7 col10\" >1.090483</td>\n",
       "      <td id=\"T_2bc47_row7_col11\" class=\"data row7 col11\" >1.137803</td>\n",
       "      <td id=\"T_2bc47_row7_col12\" class=\"data row7 col12\" >0.706858</td>\n",
       "    </tr>\n",
       "    <tr>\n",
       "      <th id=\"T_2bc47_level0_row8\" class=\"row_heading level0 row8\" >8</th>\n",
       "      <td id=\"T_2bc47_row8_col0\" class=\"data row8 col0\" >-5.820074</td>\n",
       "      <td id=\"T_2bc47_row8_col1\" class=\"data row8 col1\" >-35.220859</td>\n",
       "      <td id=\"T_2bc47_row8_col2\" class=\"data row8 col2\" >3</td>\n",
       "      <td id=\"T_2bc47_row8_col3\" class=\"data row8 col3\" >0.000000</td>\n",
       "      <td id=\"T_2bc47_row8_col4\" class=\"data row8 col4\" >→</td>\n",
       "      <td id=\"T_2bc47_row8_col5\" class=\"data row8 col5\" >-5.820074</td>\n",
       "      <td id=\"T_2bc47_row8_col6\" class=\"data row8 col6\" >-35.220859</td>\n",
       "      <td id=\"T_2bc47_row8_col7\" class=\"data row8 col7\" >0.000000</td>\n",
       "      <td id=\"T_2bc47_row8_col8\" class=\"data row8 col8\" >0.000000</td>\n",
       "      <td id=\"T_2bc47_row8_col9\" class=\"data row8 col9\" > </td>\n",
       "      <td id=\"T_2bc47_row8_col10\" class=\"data row8 col10\" >1.090483</td>\n",
       "      <td id=\"T_2bc47_row8_col11\" class=\"data row8 col11\" >1.137803</td>\n",
       "      <td id=\"T_2bc47_row8_col12\" class=\"data row8 col12\" >0.706858</td>\n",
       "    </tr>\n",
       "    <tr>\n",
       "      <th id=\"T_2bc47_level0_row9\" class=\"row_heading level0 row9\" >9</th>\n",
       "      <td id=\"T_2bc47_row9_col0\" class=\"data row9 col0\" >-5.820064</td>\n",
       "      <td id=\"T_2bc47_row9_col1\" class=\"data row9 col1\" >-35.220858</td>\n",
       "      <td id=\"T_2bc47_row9_col2\" class=\"data row9 col2\" >3</td>\n",
       "      <td id=\"T_2bc47_row9_col3\" class=\"data row9 col3\" >0.000000</td>\n",
       "      <td id=\"T_2bc47_row9_col4\" class=\"data row9 col4\" >→</td>\n",
       "      <td id=\"T_2bc47_row9_col5\" class=\"data row9 col5\" >-5.820064</td>\n",
       "      <td id=\"T_2bc47_row9_col6\" class=\"data row9 col6\" >-35.220858</td>\n",
       "      <td id=\"T_2bc47_row9_col7\" class=\"data row9 col7\" >0.000000</td>\n",
       "      <td id=\"T_2bc47_row9_col8\" class=\"data row9 col8\" >0.000000</td>\n",
       "      <td id=\"T_2bc47_row9_col9\" class=\"data row9 col9\" > </td>\n",
       "      <td id=\"T_2bc47_row9_col10\" class=\"data row9 col10\" >0.921315</td>\n",
       "      <td id=\"T_2bc47_row9_col11\" class=\"data row9 col11\" >1.137803</td>\n",
       "      <td id=\"T_2bc47_row9_col12\" class=\"data row9 col12\" >0.706858</td>\n",
       "    </tr>\n",
       "  </tbody>\n",
       "</table>\n"
      ],
      "text/plain": [
       "<pandas.io.formats.style.Styler at 0x169753880d0>"
      ]
     },
     "metadata": {},
     "output_type": "display_data"
    },
    {
     "data": {
      "application/vnd.plotly.v1+json": {
       "config": {
        "plotlyServerURL": "https://plot.ly"
       },
       "data": [
        {
         "line": {
          "color": "gray",
          "dash": "dot"
         },
         "mode": "lines",
         "name": "Real",
         "type": "scatter",
         "y": {
          "bdata": "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",
          "dtype": "f8"
         }
        },
        {
         "line": {
          "color": "blue",
          "dash": "dash"
         },
         "mode": "lines",
         "name": "Predição Original",
         "type": "scatter",
         "y": {
          "bdata": "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",
          "dtype": "f8"
         }
        },
        {
         "line": {
          "color": "red"
         },
         "mode": "lines",
         "name": "Predição com RM",
         "type": "scatter",
         "y": {
          "bdata": "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",
          "dtype": "f8"
         }
        }
       ],
       "layout": {
        "template": {
         "data": {
          "bar": [
           {
            "error_x": {
             "color": "#2a3f5f"
            },
            "error_y": {
             "color": "#2a3f5f"
            },
            "marker": {
             "line": {
              "color": "white",
              "width": 0.5
             },
             "pattern": {
              "fillmode": "overlay",
              "size": 10,
              "solidity": 0.2
             }
            },
            "type": "bar"
           }
          ],
          "barpolar": [
           {
            "marker": {
             "line": {
              "color": "white",
              "width": 0.5
             },
             "pattern": {
              "fillmode": "overlay",
              "size": 10,
              "solidity": 0.2
             }
            },
            "type": "barpolar"
           }
          ],
          "carpet": [
           {
            "aaxis": {
             "endlinecolor": "#2a3f5f",
             "gridcolor": "#C8D4E3",
             "linecolor": "#C8D4E3",
             "minorgridcolor": "#C8D4E3",
             "startlinecolor": "#2a3f5f"
            },
            "baxis": {
             "endlinecolor": "#2a3f5f",
             "gridcolor": "#C8D4E3",
             "linecolor": "#C8D4E3",
             "minorgridcolor": "#C8D4E3",
             "startlinecolor": "#2a3f5f"
            },
            "type": "carpet"
           }
          ],
          "choropleth": [
           {
            "colorbar": {
             "outlinewidth": 0,
             "ticks": ""
            },
            "type": "choropleth"
           }
          ],
          "contour": [
           {
            "colorbar": {
             "outlinewidth": 0,
             "ticks": ""
            },
            "colorscale": [
             [
              0,
              "#0d0887"
             ],
             [
              0.1111111111111111,
              "#46039f"
             ],
             [
              0.2222222222222222,
              "#7201a8"
             ],
             [
              0.3333333333333333,
              "#9c179e"
             ],
             [
              0.4444444444444444,
              "#bd3786"
             ],
             [
              0.5555555555555556,
              "#d8576b"
             ],
             [
              0.6666666666666666,
              "#ed7953"
             ],
             [
              0.7777777777777778,
              "#fb9f3a"
             ],
             [
              0.8888888888888888,
              "#fdca26"
             ],
             [
              1,
              "#f0f921"
             ]
            ],
            "type": "contour"
           }
          ],
          "contourcarpet": [
           {
            "colorbar": {
             "outlinewidth": 0,
             "ticks": ""
            },
            "type": "contourcarpet"
           }
          ],
          "heatmap": [
           {
            "colorbar": {
             "outlinewidth": 0,
             "ticks": ""
            },
            "colorscale": [
             [
              0,
              "#0d0887"
             ],
             [
              0.1111111111111111,
              "#46039f"
             ],
             [
              0.2222222222222222,
              "#7201a8"
             ],
             [
              0.3333333333333333,
              "#9c179e"
             ],
             [
              0.4444444444444444,
              "#bd3786"
             ],
             [
              0.5555555555555556,
              "#d8576b"
             ],
             [
              0.6666666666666666,
              "#ed7953"
             ],
             [
              0.7777777777777778,
              "#fb9f3a"
             ],
             [
              0.8888888888888888,
              "#fdca26"
             ],
             [
              1,
              "#f0f921"
             ]
            ],
            "type": "heatmap"
           }
          ],
          "histogram": [
           {
            "marker": {
             "pattern": {
              "fillmode": "overlay",
              "size": 10,
              "solidity": 0.2
             }
            },
            "type": "histogram"
           }
          ],
          "histogram2d": [
           {
            "colorbar": {
             "outlinewidth": 0,
             "ticks": ""
            },
            "colorscale": [
             [
              0,
              "#0d0887"
             ],
             [
              0.1111111111111111,
              "#46039f"
             ],
             [
              0.2222222222222222,
              "#7201a8"
             ],
             [
              0.3333333333333333,
              "#9c179e"
             ],
             [
              0.4444444444444444,
              "#bd3786"
             ],
             [
              0.5555555555555556,
              "#d8576b"
             ],
             [
              0.6666666666666666,
              "#ed7953"
             ],
             [
              0.7777777777777778,
              "#fb9f3a"
             ],
             [
              0.8888888888888888,
              "#fdca26"
             ],
             [
              1,
              "#f0f921"
             ]
            ],
            "type": "histogram2d"
           }
          ],
          "histogram2dcontour": [
           {
            "colorbar": {
             "outlinewidth": 0,
             "ticks": ""
            },
            "colorscale": [
             [
              0,
              "#0d0887"
             ],
             [
              0.1111111111111111,
              "#46039f"
             ],
             [
              0.2222222222222222,
              "#7201a8"
             ],
             [
              0.3333333333333333,
              "#9c179e"
             ],
             [
              0.4444444444444444,
              "#bd3786"
             ],
             [
              0.5555555555555556,
              "#d8576b"
             ],
             [
              0.6666666666666666,
              "#ed7953"
             ],
             [
              0.7777777777777778,
              "#fb9f3a"
             ],
             [
              0.8888888888888888,
              "#fdca26"
             ],
             [
              1,
              "#f0f921"
             ]
            ],
            "type": "histogram2dcontour"
           }
          ],
          "mesh3d": [
           {
            "colorbar": {
             "outlinewidth": 0,
             "ticks": ""
            },
            "type": "mesh3d"
           }
          ],
          "parcoords": [
           {
            "line": {
             "colorbar": {
              "outlinewidth": 0,
              "ticks": ""
             }
            },
            "type": "parcoords"
           }
          ],
          "pie": [
           {
            "automargin": true,
            "type": "pie"
           }
          ],
          "scatter": [
           {
            "fillpattern": {
             "fillmode": "overlay",
             "size": 10,
             "solidity": 0.2
            },
            "type": "scatter"
           }
          ],
          "scatter3d": [
           {
            "line": {
             "colorbar": {
              "outlinewidth": 0,
              "ticks": ""
             }
            },
            "marker": {
             "colorbar": {
              "outlinewidth": 0,
              "ticks": ""
             }
            },
            "type": "scatter3d"
           }
          ],
          "scattercarpet": [
           {
            "marker": {
             "colorbar": {
              "outlinewidth": 0,
              "ticks": ""
             }
            },
            "type": "scattercarpet"
           }
          ],
          "scattergeo": [
           {
            "marker": {
             "colorbar": {
              "outlinewidth": 0,
              "ticks": ""
             }
            },
            "type": "scattergeo"
           }
          ],
          "scattergl": [
           {
            "marker": {
             "colorbar": {
              "outlinewidth": 0,
              "ticks": ""
             }
            },
            "type": "scattergl"
           }
          ],
          "scattermap": [
           {
            "marker": {
             "colorbar": {
              "outlinewidth": 0,
              "ticks": ""
             }
            },
            "type": "scattermap"
           }
          ],
          "scattermapbox": [
           {
            "marker": {
             "colorbar": {
              "outlinewidth": 0,
              "ticks": ""
             }
            },
            "type": "scattermapbox"
           }
          ],
          "scatterpolar": [
           {
            "marker": {
             "colorbar": {
              "outlinewidth": 0,
              "ticks": ""
             }
            },
            "type": "scatterpolar"
           }
          ],
          "scatterpolargl": [
           {
            "marker": {
             "colorbar": {
              "outlinewidth": 0,
              "ticks": ""
             }
            },
            "type": "scatterpolargl"
           }
          ],
          "scatterternary": [
           {
            "marker": {
             "colorbar": {
              "outlinewidth": 0,
              "ticks": ""
             }
            },
            "type": "scatterternary"
           }
          ],
          "surface": [
           {
            "colorbar": {
             "outlinewidth": 0,
             "ticks": ""
            },
            "colorscale": [
             [
              0,
              "#0d0887"
             ],
             [
              0.1111111111111111,
              "#46039f"
             ],
             [
              0.2222222222222222,
              "#7201a8"
             ],
             [
              0.3333333333333333,
              "#9c179e"
             ],
             [
              0.4444444444444444,
              "#bd3786"
             ],
             [
              0.5555555555555556,
              "#d8576b"
             ],
             [
              0.6666666666666666,
              "#ed7953"
             ],
             [
              0.7777777777777778,
              "#fb9f3a"
             ],
             [
              0.8888888888888888,
              "#fdca26"
             ],
             [
              1,
              "#f0f921"
             ]
            ],
            "type": "surface"
           }
          ],
          "table": [
           {
            "cells": {
             "fill": {
              "color": "#EBF0F8"
             },
             "line": {
              "color": "white"
             }
            },
            "header": {
             "fill": {
              "color": "#C8D4E3"
             },
             "line": {
              "color": "white"
             }
            },
            "type": "table"
           }
          ]
         },
         "layout": {
          "annotationdefaults": {
           "arrowcolor": "#2a3f5f",
           "arrowhead": 0,
           "arrowwidth": 1
          },
          "autotypenumbers": "strict",
          "coloraxis": {
           "colorbar": {
            "outlinewidth": 0,
            "ticks": ""
           }
          },
          "colorscale": {
           "diverging": [
            [
             0,
             "#8e0152"
            ],
            [
             0.1,
             "#c51b7d"
            ],
            [
             0.2,
             "#de77ae"
            ],
            [
             0.3,
             "#f1b6da"
            ],
            [
             0.4,
             "#fde0ef"
            ],
            [
             0.5,
             "#f7f7f7"
            ],
            [
             0.6,
             "#e6f5d0"
            ],
            [
             0.7,
             "#b8e186"
            ],
            [
             0.8,
             "#7fbc41"
            ],
            [
             0.9,
             "#4d9221"
            ],
            [
             1,
             "#276419"
            ]
           ],
           "sequential": [
            [
             0,
             "#0d0887"
            ],
            [
             0.1111111111111111,
             "#46039f"
            ],
            [
             0.2222222222222222,
             "#7201a8"
            ],
            [
             0.3333333333333333,
             "#9c179e"
            ],
            [
             0.4444444444444444,
             "#bd3786"
            ],
            [
             0.5555555555555556,
             "#d8576b"
            ],
            [
             0.6666666666666666,
             "#ed7953"
            ],
            [
             0.7777777777777778,
             "#fb9f3a"
            ],
            [
             0.8888888888888888,
             "#fdca26"
            ],
            [
             1,
             "#f0f921"
            ]
           ],
           "sequentialminus": [
            [
             0,
             "#0d0887"
            ],
            [
             0.1111111111111111,
             "#46039f"
            ],
            [
             0.2222222222222222,
             "#7201a8"
            ],
            [
             0.3333333333333333,
             "#9c179e"
            ],
            [
             0.4444444444444444,
             "#bd3786"
            ],
            [
             0.5555555555555556,
             "#d8576b"
            ],
            [
             0.6666666666666666,
             "#ed7953"
            ],
            [
             0.7777777777777778,
             "#fb9f3a"
            ],
            [
             0.8888888888888888,
             "#fdca26"
            ],
            [
             1,
             "#f0f921"
            ]
           ]
          },
          "colorway": [
           "#636efa",
           "#EF553B",
           "#00cc96",
           "#ab63fa",
           "#FFA15A",
           "#19d3f3",
           "#FF6692",
           "#B6E880",
           "#FF97FF",
           "#FECB52"
          ],
          "font": {
           "color": "#2a3f5f"
          },
          "geo": {
           "bgcolor": "white",
           "lakecolor": "white",
           "landcolor": "white",
           "showlakes": true,
           "showland": true,
           "subunitcolor": "#C8D4E3"
          },
          "hoverlabel": {
           "align": "left"
          },
          "hovermode": "closest",
          "mapbox": {
           "style": "light"
          },
          "paper_bgcolor": "white",
          "plot_bgcolor": "white",
          "polar": {
           "angularaxis": {
            "gridcolor": "#EBF0F8",
            "linecolor": "#EBF0F8",
            "ticks": ""
           },
           "bgcolor": "white",
           "radialaxis": {
            "gridcolor": "#EBF0F8",
            "linecolor": "#EBF0F8",
            "ticks": ""
           }
          },
          "scene": {
           "xaxis": {
            "backgroundcolor": "white",
            "gridcolor": "#DFE8F3",
            "gridwidth": 2,
            "linecolor": "#EBF0F8",
            "showbackground": true,
            "ticks": "",
            "zerolinecolor": "#EBF0F8"
           },
           "yaxis": {
            "backgroundcolor": "white",
            "gridcolor": "#DFE8F3",
            "gridwidth": 2,
            "linecolor": "#EBF0F8",
            "showbackground": true,
            "ticks": "",
            "zerolinecolor": "#EBF0F8"
           },
           "zaxis": {
            "backgroundcolor": "white",
            "gridcolor": "#DFE8F3",
            "gridwidth": 2,
            "linecolor": "#EBF0F8",
            "showbackground": true,
            "ticks": "",
            "zerolinecolor": "#EBF0F8"
           }
          },
          "shapedefaults": {
           "line": {
            "color": "#2a3f5f"
           }
          },
          "ternary": {
           "aaxis": {
            "gridcolor": "#DFE8F3",
            "linecolor": "#A2B1C6",
            "ticks": ""
           },
           "baxis": {
            "gridcolor": "#DFE8F3",
            "linecolor": "#A2B1C6",
            "ticks": ""
           },
           "bgcolor": "white",
           "caxis": {
            "gridcolor": "#DFE8F3",
            "linecolor": "#A2B1C6",
            "ticks": ""
           }
          },
          "title": {
           "x": 0.05
          },
          "xaxis": {
           "automargin": true,
           "gridcolor": "#EBF0F8",
           "linecolor": "#EBF0F8",
           "ticks": "",
           "title": {
            "standoff": 15
           },
           "zerolinecolor": "#EBF0F8",
           "zerolinewidth": 2
          },
          "yaxis": {
           "automargin": true,
           "gridcolor": "#EBF0F8",
           "linecolor": "#EBF0F8",
           "ticks": "",
           "title": {
            "standoff": 15
           },
           "zerolinecolor": "#EBF0F8",
           "zerolinewidth": 2
          }
         }
        },
        "title": {
         "text": "Comparação Saída Variável E (200 Amostras) - CT_N1_002: [Exclusiva] - Zerar Variável A - ETHANOL",
         "x": 0.5
        },
        "xaxis": {
         "title": {
          "text": "Amostras"
         }
        },
        "yaxis": {
         "title": {
          "text": "Variável E"
         }
        }
       }
      }
     },
     "metadata": {},
     "output_type": "display_data"
    },
    {
     "name": "stdout",
     "output_type": "stream",
     "text": [
      "\n",
      "================================================================================\n",
      "🔁 CT_N1_002: [Exclusiva] - Zerar Variável A (GASOLINE)\n",
      "--------------------------------------------------------------------------------\n",
      "Diferença Média: 0.5511 | Diferença Máxima: 2.9554 | RMSE: 0.8179 | Desvio Padrão (Std): 0.6044\n"
     ]
    },
    {
     "data": {
      "text/html": [
       "<style type=\"text/css\">\n",
       "</style>\n",
       "<table id=\"T_3db1a\">\n",
       "  <caption>Comparação dos dados - CT_N1_002: [Exclusiva] - Zerar Variável A (GASOLINE)</caption>\n",
       "  <thead>\n",
       "    <tr>\n",
       "      <th class=\"blank level0\" >&nbsp;</th>\n",
       "      <th id=\"T_3db1a_level0_col0\" class=\"col_heading level0 col0\" >Latitude_Orig</th>\n",
       "      <th id=\"T_3db1a_level0_col1\" class=\"col_heading level0 col1\" >Longitude_Orig</th>\n",
       "      <th id=\"T_3db1a_level0_col2\" class=\"col_heading level0 col2\" >Speed(OBD)(km/h)_Orig</th>\n",
       "      <th id=\"T_3db1a_level0_col3\" class=\"col_heading level0 col3\" >Acceleration_Orig</th>\n",
       "      <th id=\"T_3db1a_level0_col4\" class=\"col_heading level0 col4\" > </th>\n",
       "      <th id=\"T_3db1a_level0_col5\" class=\"col_heading level0 col5\" >Latitude_Mod</th>\n",
       "      <th id=\"T_3db1a_level0_col6\" class=\"col_heading level0 col6\" >Longitude_Mod</th>\n",
       "      <th id=\"T_3db1a_level0_col7\" class=\"col_heading level0 col7\" >Speed(OBD)(km/h)_Mod</th>\n",
       "      <th id=\"T_3db1a_level0_col8\" class=\"col_heading level0 col8\" >Acceleration_Mod</th>\n",
       "      <th id=\"T_3db1a_level0_col9\" class=\"col_heading level0 col9\" > </th>\n",
       "      <th id=\"T_3db1a_level0_col10\" class=\"col_heading level0 col10\" >CO₂_Real</th>\n",
       "      <th id=\"T_3db1a_level0_col11\" class=\"col_heading level0 col11\" >CO₂_Pred_Orig</th>\n",
       "      <th id=\"T_3db1a_level0_col12\" class=\"col_heading level0 col12\" >CO₂_Pred_Mod</th>\n",
       "    </tr>\n",
       "  </thead>\n",
       "  <tbody>\n",
       "    <tr>\n",
       "      <th id=\"T_3db1a_level0_row0\" class=\"row_heading level0 row0\" >0</th>\n",
       "      <td id=\"T_3db1a_row0_col0\" class=\"data row0 col0\" >-5.820010</td>\n",
       "      <td id=\"T_3db1a_row0_col1\" class=\"data row0 col1\" >-35.220825</td>\n",
       "      <td id=\"T_3db1a_row0_col2\" class=\"data row0 col2\" >5</td>\n",
       "      <td id=\"T_3db1a_row0_col3\" class=\"data row0 col3\" >0.000000</td>\n",
       "      <td id=\"T_3db1a_row0_col4\" class=\"data row0 col4\" >→</td>\n",
       "      <td id=\"T_3db1a_row0_col5\" class=\"data row0 col5\" >-5.820010</td>\n",
       "      <td id=\"T_3db1a_row0_col6\" class=\"data row0 col6\" >-35.220825</td>\n",
       "      <td id=\"T_3db1a_row0_col7\" class=\"data row0 col7\" >0.000000</td>\n",
       "      <td id=\"T_3db1a_row0_col8\" class=\"data row0 col8\" >0.000000</td>\n",
       "      <td id=\"T_3db1a_row0_col9\" class=\"data row0 col9\" > </td>\n",
       "      <td id=\"T_3db1a_row0_col10\" class=\"data row0 col10\" >1.002671</td>\n",
       "      <td id=\"T_3db1a_row0_col11\" class=\"data row0 col11\" >1.456781</td>\n",
       "      <td id=\"T_3db1a_row0_col12\" class=\"data row0 col12\" >0.965052</td>\n",
       "    </tr>\n",
       "    <tr>\n",
       "      <th id=\"T_3db1a_level0_row1\" class=\"row_heading level0 row1\" >1</th>\n",
       "      <td id=\"T_3db1a_row1_col0\" class=\"data row1 col0\" >-5.820013</td>\n",
       "      <td id=\"T_3db1a_row1_col1\" class=\"data row1 col1\" >-35.220822</td>\n",
       "      <td id=\"T_3db1a_row1_col2\" class=\"data row1 col2\" >4</td>\n",
       "      <td id=\"T_3db1a_row1_col3\" class=\"data row1 col3\" >-0.277778</td>\n",
       "      <td id=\"T_3db1a_row1_col4\" class=\"data row1 col4\" >→</td>\n",
       "      <td id=\"T_3db1a_row1_col5\" class=\"data row1 col5\" >-5.820013</td>\n",
       "      <td id=\"T_3db1a_row1_col6\" class=\"data row1 col6\" >-35.220822</td>\n",
       "      <td id=\"T_3db1a_row1_col7\" class=\"data row1 col7\" >0.000000</td>\n",
       "      <td id=\"T_3db1a_row1_col8\" class=\"data row1 col8\" >-0.277778</td>\n",
       "      <td id=\"T_3db1a_row1_col9\" class=\"data row1 col9\" > </td>\n",
       "      <td id=\"T_3db1a_row1_col10\" class=\"data row1 col10\" >1.013360</td>\n",
       "      <td id=\"T_3db1a_row1_col11\" class=\"data row1 col11\" >1.016708</td>\n",
       "      <td id=\"T_3db1a_row1_col12\" class=\"data row1 col12\" >0.884055</td>\n",
       "    </tr>\n",
       "    <tr>\n",
       "      <th id=\"T_3db1a_level0_row2\" class=\"row_heading level0 row2\" >2</th>\n",
       "      <td id=\"T_3db1a_row2_col0\" class=\"data row2 col0\" >-5.820016</td>\n",
       "      <td id=\"T_3db1a_row2_col1\" class=\"data row2 col1\" >-35.220819</td>\n",
       "      <td id=\"T_3db1a_row2_col2\" class=\"data row2 col2\" >5</td>\n",
       "      <td id=\"T_3db1a_row2_col3\" class=\"data row2 col3\" >0.277778</td>\n",
       "      <td id=\"T_3db1a_row2_col4\" class=\"data row2 col4\" >→</td>\n",
       "      <td id=\"T_3db1a_row2_col5\" class=\"data row2 col5\" >-5.820016</td>\n",
       "      <td id=\"T_3db1a_row2_col6\" class=\"data row2 col6\" >-35.220819</td>\n",
       "      <td id=\"T_3db1a_row2_col7\" class=\"data row2 col7\" >0.000000</td>\n",
       "      <td id=\"T_3db1a_row2_col8\" class=\"data row2 col8\" >0.277778</td>\n",
       "      <td id=\"T_3db1a_row2_col9\" class=\"data row2 col9\" > </td>\n",
       "      <td id=\"T_3db1a_row2_col10\" class=\"data row2 col10\" >2.088720</td>\n",
       "      <td id=\"T_3db1a_row2_col11\" class=\"data row2 col11\" >1.456781</td>\n",
       "      <td id=\"T_3db1a_row2_col12\" class=\"data row2 col12\" >0.965052</td>\n",
       "    </tr>\n",
       "    <tr>\n",
       "      <th id=\"T_3db1a_level0_row3\" class=\"row_heading level0 row3\" >3</th>\n",
       "      <td id=\"T_3db1a_row3_col0\" class=\"data row3 col0\" >-5.820014</td>\n",
       "      <td id=\"T_3db1a_row3_col1\" class=\"data row3 col1\" >-35.220825</td>\n",
       "      <td id=\"T_3db1a_row3_col2\" class=\"data row3 col2\" >7</td>\n",
       "      <td id=\"T_3db1a_row3_col3\" class=\"data row3 col3\" >0.555556</td>\n",
       "      <td id=\"T_3db1a_row3_col4\" class=\"data row3 col4\" >→</td>\n",
       "      <td id=\"T_3db1a_row3_col5\" class=\"data row3 col5\" >-5.820014</td>\n",
       "      <td id=\"T_3db1a_row3_col6\" class=\"data row3 col6\" >-35.220825</td>\n",
       "      <td id=\"T_3db1a_row3_col7\" class=\"data row3 col7\" >0.000000</td>\n",
       "      <td id=\"T_3db1a_row3_col8\" class=\"data row3 col8\" >0.555556</td>\n",
       "      <td id=\"T_3db1a_row3_col9\" class=\"data row3 col9\" > </td>\n",
       "      <td id=\"T_3db1a_row3_col10\" class=\"data row3 col10\" >2.261889</td>\n",
       "      <td id=\"T_3db1a_row3_col11\" class=\"data row3 col11\" >1.996380</td>\n",
       "      <td id=\"T_3db1a_row3_col12\" class=\"data row3 col12\" >0.965052</td>\n",
       "    </tr>\n",
       "    <tr>\n",
       "      <th id=\"T_3db1a_level0_row4\" class=\"row_heading level0 row4\" >4</th>\n",
       "      <td id=\"T_3db1a_row4_col0\" class=\"data row4 col0\" >-5.819992</td>\n",
       "      <td id=\"T_3db1a_row4_col1\" class=\"data row4 col1\" >-35.220829</td>\n",
       "      <td id=\"T_3db1a_row4_col2\" class=\"data row4 col2\" >9</td>\n",
       "      <td id=\"T_3db1a_row4_col3\" class=\"data row4 col3\" >0.555556</td>\n",
       "      <td id=\"T_3db1a_row4_col4\" class=\"data row4 col4\" >→</td>\n",
       "      <td id=\"T_3db1a_row4_col5\" class=\"data row4 col5\" >-5.819992</td>\n",
       "      <td id=\"T_3db1a_row4_col6\" class=\"data row4 col6\" >-35.220829</td>\n",
       "      <td id=\"T_3db1a_row4_col7\" class=\"data row4 col7\" >0.000000</td>\n",
       "      <td id=\"T_3db1a_row4_col8\" class=\"data row4 col8\" >0.555556</td>\n",
       "      <td id=\"T_3db1a_row4_col9\" class=\"data row4 col9\" > </td>\n",
       "      <td id=\"T_3db1a_row4_col10\" class=\"data row4 col10\" >2.499195</td>\n",
       "      <td id=\"T_3db1a_row4_col11\" class=\"data row4 col11\" >2.400486</td>\n",
       "      <td id=\"T_3db1a_row4_col12\" class=\"data row4 col12\" >0.940914</td>\n",
       "    </tr>\n",
       "    <tr>\n",
       "      <th id=\"T_3db1a_level0_row5\" class=\"row_heading level0 row5\" >5</th>\n",
       "      <td id=\"T_3db1a_row5_col0\" class=\"data row5 col0\" >-5.819974</td>\n",
       "      <td id=\"T_3db1a_row5_col1\" class=\"data row5 col1\" >-35.220824</td>\n",
       "      <td id=\"T_3db1a_row5_col2\" class=\"data row5 col2\" >12</td>\n",
       "      <td id=\"T_3db1a_row5_col3\" class=\"data row5 col3\" >0.833333</td>\n",
       "      <td id=\"T_3db1a_row5_col4\" class=\"data row5 col4\" >→</td>\n",
       "      <td id=\"T_3db1a_row5_col5\" class=\"data row5 col5\" >-5.819974</td>\n",
       "      <td id=\"T_3db1a_row5_col6\" class=\"data row5 col6\" >-35.220824</td>\n",
       "      <td id=\"T_3db1a_row5_col7\" class=\"data row5 col7\" >0.000000</td>\n",
       "      <td id=\"T_3db1a_row5_col8\" class=\"data row5 col8\" >0.833333</td>\n",
       "      <td id=\"T_3db1a_row5_col9\" class=\"data row5 col9\" > </td>\n",
       "      <td id=\"T_3db1a_row5_col10\" class=\"data row5 col10\" >2.606089</td>\n",
       "      <td id=\"T_3db1a_row5_col11\" class=\"data row5 col11\" >2.400486</td>\n",
       "      <td id=\"T_3db1a_row5_col12\" class=\"data row5 col12\" >0.940914</td>\n",
       "    </tr>\n",
       "    <tr>\n",
       "      <th id=\"T_3db1a_level0_row6\" class=\"row_heading level0 row6\" >6</th>\n",
       "      <td id=\"T_3db1a_row6_col0\" class=\"data row6 col0\" >-5.819944</td>\n",
       "      <td id=\"T_3db1a_row6_col1\" class=\"data row6 col1\" >-35.220823</td>\n",
       "      <td id=\"T_3db1a_row6_col2\" class=\"data row6 col2\" >15</td>\n",
       "      <td id=\"T_3db1a_row6_col3\" class=\"data row6 col3\" >0.833333</td>\n",
       "      <td id=\"T_3db1a_row6_col4\" class=\"data row6 col4\" >→</td>\n",
       "      <td id=\"T_3db1a_row6_col5\" class=\"data row6 col5\" >-5.819944</td>\n",
       "      <td id=\"T_3db1a_row6_col6\" class=\"data row6 col6\" >-35.220823</td>\n",
       "      <td id=\"T_3db1a_row6_col7\" class=\"data row6 col7\" >0.000000</td>\n",
       "      <td id=\"T_3db1a_row6_col8\" class=\"data row6 col8\" >0.833333</td>\n",
       "      <td id=\"T_3db1a_row6_col9\" class=\"data row6 col9\" > </td>\n",
       "      <td id=\"T_3db1a_row6_col10\" class=\"data row6 col10\" >3.070012</td>\n",
       "      <td id=\"T_3db1a_row6_col11\" class=\"data row6 col11\" >2.148721</td>\n",
       "      <td id=\"T_3db1a_row6_col12\" class=\"data row6 col12\" >0.880813</td>\n",
       "    </tr>\n",
       "    <tr>\n",
       "      <th id=\"T_3db1a_level0_row7\" class=\"row_heading level0 row7\" >7</th>\n",
       "      <td id=\"T_3db1a_row7_col0\" class=\"data row7 col0\" >-5.819908</td>\n",
       "      <td id=\"T_3db1a_row7_col1\" class=\"data row7 col1\" >-35.220810</td>\n",
       "      <td id=\"T_3db1a_row7_col2\" class=\"data row7 col2\" >18</td>\n",
       "      <td id=\"T_3db1a_row7_col3\" class=\"data row7 col3\" >0.833333</td>\n",
       "      <td id=\"T_3db1a_row7_col4\" class=\"data row7 col4\" >→</td>\n",
       "      <td id=\"T_3db1a_row7_col5\" class=\"data row7 col5\" >-5.819908</td>\n",
       "      <td id=\"T_3db1a_row7_col6\" class=\"data row7 col6\" >-35.220810</td>\n",
       "      <td id=\"T_3db1a_row7_col7\" class=\"data row7 col7\" >0.000000</td>\n",
       "      <td id=\"T_3db1a_row7_col8\" class=\"data row7 col8\" >0.833333</td>\n",
       "      <td id=\"T_3db1a_row7_col9\" class=\"data row7 col9\" > </td>\n",
       "      <td id=\"T_3db1a_row7_col10\" class=\"data row7 col10\" >2.445747</td>\n",
       "      <td id=\"T_3db1a_row7_col11\" class=\"data row7 col11\" >1.470940</td>\n",
       "      <td id=\"T_3db1a_row7_col12\" class=\"data row7 col12\" >0.773157</td>\n",
       "    </tr>\n",
       "    <tr>\n",
       "      <th id=\"T_3db1a_level0_row8\" class=\"row_heading level0 row8\" >8</th>\n",
       "      <td id=\"T_3db1a_row8_col0\" class=\"data row8 col0\" >-5.819866</td>\n",
       "      <td id=\"T_3db1a_row8_col1\" class=\"data row8 col1\" >-35.220794</td>\n",
       "      <td id=\"T_3db1a_row8_col2\" class=\"data row8 col2\" >18</td>\n",
       "      <td id=\"T_3db1a_row8_col3\" class=\"data row8 col3\" >0.000000</td>\n",
       "      <td id=\"T_3db1a_row8_col4\" class=\"data row8 col4\" >→</td>\n",
       "      <td id=\"T_3db1a_row8_col5\" class=\"data row8 col5\" >-5.819866</td>\n",
       "      <td id=\"T_3db1a_row8_col6\" class=\"data row8 col6\" >-35.220794</td>\n",
       "      <td id=\"T_3db1a_row8_col7\" class=\"data row8 col7\" >0.000000</td>\n",
       "      <td id=\"T_3db1a_row8_col8\" class=\"data row8 col8\" >0.000000</td>\n",
       "      <td id=\"T_3db1a_row8_col9\" class=\"data row8 col9\" > </td>\n",
       "      <td id=\"T_3db1a_row8_col10\" class=\"data row8 col10\" >1.073221</td>\n",
       "      <td id=\"T_3db1a_row8_col11\" class=\"data row8 col11\" >1.588029</td>\n",
       "      <td id=\"T_3db1a_row8_col12\" class=\"data row8 col12\" >0.783680</td>\n",
       "    </tr>\n",
       "    <tr>\n",
       "      <th id=\"T_3db1a_level0_row9\" class=\"row_heading level0 row9\" >9</th>\n",
       "      <td id=\"T_3db1a_row9_col0\" class=\"data row9 col0\" >-5.819821</td>\n",
       "      <td id=\"T_3db1a_row9_col1\" class=\"data row9 col1\" >-35.220775</td>\n",
       "      <td id=\"T_3db1a_row9_col2\" class=\"data row9 col2\" >16</td>\n",
       "      <td id=\"T_3db1a_row9_col3\" class=\"data row9 col3\" >-0.555556</td>\n",
       "      <td id=\"T_3db1a_row9_col4\" class=\"data row9 col4\" >→</td>\n",
       "      <td id=\"T_3db1a_row9_col5\" class=\"data row9 col5\" >-5.819821</td>\n",
       "      <td id=\"T_3db1a_row9_col6\" class=\"data row9 col6\" >-35.220775</td>\n",
       "      <td id=\"T_3db1a_row9_col7\" class=\"data row9 col7\" >0.000000</td>\n",
       "      <td id=\"T_3db1a_row9_col8\" class=\"data row9 col8\" >-0.555556</td>\n",
       "      <td id=\"T_3db1a_row9_col9\" class=\"data row9 col9\" > </td>\n",
       "      <td id=\"T_3db1a_row9_col10\" class=\"data row9 col10\" >0.562265</td>\n",
       "      <td id=\"T_3db1a_row9_col11\" class=\"data row9 col11\" >1.085921</td>\n",
       "      <td id=\"T_3db1a_row9_col12\" class=\"data row9 col12\" >0.980167</td>\n",
       "    </tr>\n",
       "  </tbody>\n",
       "</table>\n"
      ],
      "text/plain": [
       "<pandas.io.formats.style.Styler at 0x169753dde90>"
      ]
     },
     "metadata": {},
     "output_type": "display_data"
    },
    {
     "data": {
      "application/vnd.plotly.v1+json": {
       "config": {
        "plotlyServerURL": "https://plot.ly"
       },
       "data": [
        {
         "line": {
          "color": "gray",
          "dash": "dot"
         },
         "mode": "lines",
         "name": "Real",
         "type": "scatter",
         "y": {
          "bdata": "fgFSsvAK8D+A9UFnuTbwP+sFLaeytQBAlHGRLVkYAkBCucXSWf4DQEt9dVtF2QRAqBJmS2KPCEA+120O5JADQCN/TinqK/E/+as09BP+4T+aTWFMs5viP5pNYUyzm+I/XDzytNji+j+dNUG2RPMCQCiGK0XJLgZAUV/NH7tGBUCt9L0P2PwIQMoh0PdM4gZALUmGV/HwAUC7e8iq65kFQJWKBjqL2QZAPtdtDuSQA0A+120O5JADQD/LXcOsvPM/G9QTrTAS5T+dNUG2RPPiPz7XbQ7kkOM/PtdtDuSQ4z+N38u90b/qPypPDv0M2/E/XDzytNjiCkCoDN6lRqUIQKgM3qVGpQhA8yxc66J8D0BuxFHGr5gMQIjedkcOpwVAJ4Cjn61EBkBRX80fu0YFQLWf+IuRFgVAtZ/4i5EWBUBZCgicdGDxP1JTvdSDcvU/1NlvNQHp9z+u1cBdilHkP67VwF2KUeQ/oGcrz6h17D9QRlgTiYXwP5J9oXiQ7PE/kn2heJDs8T/DRQDZ8l7mP79dIG9hB+Y/v10gb2EH5j+/XSBvYQfmP2LnLDGS/OY/sOIlH4U+6T/qekRTCmDuP6BnK8+odew/mWxe/gBHB0CpJVOyeGYNQIFGKTJrZA5AgUYpMmtkDkDqCPF5wKoQQNfm1Pb71QxA1+bU9vvVDEDDRQDZ8l7mP8A4mxf4ceE/+as09BP+4T9i5ywxkvzmP2LnLDGS/OY/QeTSz9596D9B5NLP3n3oPzJEUyiZH+c/MkRTKJkf5z95fPEDZJ/tP3l88QNkn+0/2trEq8QB7T8Lfp60vd7sP9by5EEzquw/LlxzvgfI5j8uXHO+B8jmP79dIG9hB+Y/idJm/NbS5T/DRQDZ8l7mP/jQuUt9k+Y/+NC5S32T5j8g7t0vJuzuPwt+nrS93uw/nH9LZRce7D9q3HFcHkHsP2rccVweQew/H7zzFsJp5T8fvPMWwmnlP/jQuUt9k+Y/LlxzvgfI5j8uXHO+B8jmPy5cc74HyOY/atxxXB5B7D9q3HFcHkHsPwt+nrS93uw/1vLkQTOq7D/W8uRBM6rsP2rccVweQew/atxxXB5B7D9m9JHyjOnrP/vdHg14gOs/nH9LZRce7D9m9JHyjOnrP2b0kfKM6es/+90eDXiA6z+cf0tlFx7sP2b0kfKM6es/ZvSR8ozp6z9i5ywxkvzmP2LnLDGS/OY/kaIm0PmB9j+RoibQ+YH2P7qBUFAHhAVA7jcXwBY4CkBms9O7450SQDvpBf82TxNAO+kF/zZPE0CqH8sMXXwNQJ15w7/7MwxAnXnDv/szDEBpw/xP7H8HQLq/SrSi2v4/w0UA2fJeBkAc8xBffr0JQBzzEF9+vQlAqPNomRTkA0CmHnaWmWP4P67VwF2KUeQ/nVrGDa6I5z+dWsYNrojnPyiGK0XJLvY/BaKu7mnEB0DnzRreHw4FQJubp+7Y1AhAbavcuX3XB0DfeJpmgy4EQN94mmaDLgRAsPuaK7f//T8h+u16XcD+P8NqhTBc9Po/+NC5S32T5j/40LlLfZPmP8OD+jyOte8/v4jx0zpPAEDRmTXb+fEHQEyW6md3mglAmZ3zoKGwC0CZnfOgobALQA1mfh5PNg1Aj9O7cprrCkA7CAOxhPoHQM0DKLzCTwdAzQMovMJPB0Aa2ptSTPwEQJlsXv4ARwdA9/U+o+Yo+z/39T6j5ij7P/vdHg14gOs/j+wwf8ys7z+ZvSgbrUfhP0Ukx2b49+A/nH9LZRce3D/73R4NeIDbP/vdHg14gNs/w0UA2fJe1j/lSFo6pt3UP9mw3o5SHNY/3+ynhsPg2j9D6MOXB7XoPw8z8GJGJuw/WjUXeIyo7z+R2oj0Av/tP1f1cimSZe4/1fx1W/8H7D/V/HVb/wfsP3dKB+v/HOQ/d0oH6/8c5D93Sgfr/xzkP3sy51SRdOQ/ezLnVJF05D97MudUkXTkP67VwF2KUeQ/d0oH6/8c5D/DRQDZ8l7mP8NFANnyXuY/xlJlmu1L6z/GUmWa7UvrP8NqhTBc9Oo/w2qFMFz06j/39T6j5ijrP/f1PqPmKOs/w0UA2fJe5j/nYc9G2J75P+oLtUzOnwBA4YuHzZkFCUC7msVcOUUKQA==",
          "dtype": "f8"
         }
        },
        {
         "line": {
          "color": "blue",
          "dash": "dash"
         },
         "mode": "lines",
         "name": "Predição Original",
         "type": "scatter",
         "y": {
          "bdata": "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",
          "dtype": "f8"
         }
        },
        {
         "line": {
          "color": "red"
         },
         "mode": "lines",
         "name": "Predição com RM",
         "type": "scatter",
         "y": {
          "bdata": "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",
          "dtype": "f8"
         }
        }
       ],
       "layout": {
        "template": {
         "data": {
          "bar": [
           {
            "error_x": {
             "color": "#2a3f5f"
            },
            "error_y": {
             "color": "#2a3f5f"
            },
            "marker": {
             "line": {
              "color": "white",
              "width": 0.5
             },
             "pattern": {
              "fillmode": "overlay",
              "size": 10,
              "solidity": 0.2
             }
            },
            "type": "bar"
           }
          ],
          "barpolar": [
           {
            "marker": {
             "line": {
              "color": "white",
              "width": 0.5
             },
             "pattern": {
              "fillmode": "overlay",
              "size": 10,
              "solidity": 0.2
             }
            },
            "type": "barpolar"
           }
          ],
          "carpet": [
           {
            "aaxis": {
             "endlinecolor": "#2a3f5f",
             "gridcolor": "#C8D4E3",
             "linecolor": "#C8D4E3",
             "minorgridcolor": "#C8D4E3",
             "startlinecolor": "#2a3f5f"
            },
            "baxis": {
             "endlinecolor": "#2a3f5f",
             "gridcolor": "#C8D4E3",
             "linecolor": "#C8D4E3",
             "minorgridcolor": "#C8D4E3",
             "startlinecolor": "#2a3f5f"
            },
            "type": "carpet"
           }
          ],
          "choropleth": [
           {
            "colorbar": {
             "outlinewidth": 0,
             "ticks": ""
            },
            "type": "choropleth"
           }
          ],
          "contour": [
           {
            "colorbar": {
             "outlinewidth": 0,
             "ticks": ""
            },
            "colorscale": [
             [
              0,
              "#0d0887"
             ],
             [
              0.1111111111111111,
              "#46039f"
             ],
             [
              0.2222222222222222,
              "#7201a8"
             ],
             [
              0.3333333333333333,
              "#9c179e"
             ],
             [
              0.4444444444444444,
              "#bd3786"
             ],
             [
              0.5555555555555556,
              "#d8576b"
             ],
             [
              0.6666666666666666,
              "#ed7953"
             ],
             [
              0.7777777777777778,
              "#fb9f3a"
             ],
             [
              0.8888888888888888,
              "#fdca26"
             ],
             [
              1,
              "#f0f921"
             ]
            ],
            "type": "contour"
           }
          ],
          "contourcarpet": [
           {
            "colorbar": {
             "outlinewidth": 0,
             "ticks": ""
            },
            "type": "contourcarpet"
           }
          ],
          "heatmap": [
           {
            "colorbar": {
             "outlinewidth": 0,
             "ticks": ""
            },
            "colorscale": [
             [
              0,
              "#0d0887"
             ],
             [
              0.1111111111111111,
              "#46039f"
             ],
             [
              0.2222222222222222,
              "#7201a8"
             ],
             [
              0.3333333333333333,
              "#9c179e"
             ],
             [
              0.4444444444444444,
              "#bd3786"
             ],
             [
              0.5555555555555556,
              "#d8576b"
             ],
             [
              0.6666666666666666,
              "#ed7953"
             ],
             [
              0.7777777777777778,
              "#fb9f3a"
             ],
             [
              0.8888888888888888,
              "#fdca26"
             ],
             [
              1,
              "#f0f921"
             ]
            ],
            "type": "heatmap"
           }
          ],
          "histogram": [
           {
            "marker": {
             "pattern": {
              "fillmode": "overlay",
              "size": 10,
              "solidity": 0.2
             }
            },
            "type": "histogram"
           }
          ],
          "histogram2d": [
           {
            "colorbar": {
             "outlinewidth": 0,
             "ticks": ""
            },
            "colorscale": [
             [
              0,
              "#0d0887"
             ],
             [
              0.1111111111111111,
              "#46039f"
             ],
             [
              0.2222222222222222,
              "#7201a8"
             ],
             [
              0.3333333333333333,
              "#9c179e"
             ],
             [
              0.4444444444444444,
              "#bd3786"
             ],
             [
              0.5555555555555556,
              "#d8576b"
             ],
             [
              0.6666666666666666,
              "#ed7953"
             ],
             [
              0.7777777777777778,
              "#fb9f3a"
             ],
             [
              0.8888888888888888,
              "#fdca26"
             ],
             [
              1,
              "#f0f921"
             ]
            ],
            "type": "histogram2d"
           }
          ],
          "histogram2dcontour": [
           {
            "colorbar": {
             "outlinewidth": 0,
             "ticks": ""
            },
            "colorscale": [
             [
              0,
              "#0d0887"
             ],
             [
              0.1111111111111111,
              "#46039f"
             ],
             [
              0.2222222222222222,
              "#7201a8"
             ],
             [
              0.3333333333333333,
              "#9c179e"
             ],
             [
              0.4444444444444444,
              "#bd3786"
             ],
             [
              0.5555555555555556,
              "#d8576b"
             ],
             [
              0.6666666666666666,
              "#ed7953"
             ],
             [
              0.7777777777777778,
              "#fb9f3a"
             ],
             [
              0.8888888888888888,
              "#fdca26"
             ],
             [
              1,
              "#f0f921"
             ]
            ],
            "type": "histogram2dcontour"
           }
          ],
          "mesh3d": [
           {
            "colorbar": {
             "outlinewidth": 0,
             "ticks": ""
            },
            "type": "mesh3d"
           }
          ],
          "parcoords": [
           {
            "line": {
             "colorbar": {
              "outlinewidth": 0,
              "ticks": ""
             }
            },
            "type": "parcoords"
           }
          ],
          "pie": [
           {
            "automargin": true,
            "type": "pie"
           }
          ],
          "scatter": [
           {
            "fillpattern": {
             "fillmode": "overlay",
             "size": 10,
             "solidity": 0.2
            },
            "type": "scatter"
           }
          ],
          "scatter3d": [
           {
            "line": {
             "colorbar": {
              "outlinewidth": 0,
              "ticks": ""
             }
            },
            "marker": {
             "colorbar": {
              "outlinewidth": 0,
              "ticks": ""
             }
            },
            "type": "scatter3d"
           }
          ],
          "scattercarpet": [
           {
            "marker": {
             "colorbar": {
              "outlinewidth": 0,
              "ticks": ""
             }
            },
            "type": "scattercarpet"
           }
          ],
          "scattergeo": [
           {
            "marker": {
             "colorbar": {
              "outlinewidth": 0,
              "ticks": ""
             }
            },
            "type": "scattergeo"
           }
          ],
          "scattergl": [
           {
            "marker": {
             "colorbar": {
              "outlinewidth": 0,
              "ticks": ""
             }
            },
            "type": "scattergl"
           }
          ],
          "scattermap": [
           {
            "marker": {
             "colorbar": {
              "outlinewidth": 0,
              "ticks": ""
             }
            },
            "type": "scattermap"
           }
          ],
          "scattermapbox": [
           {
            "marker": {
             "colorbar": {
              "outlinewidth": 0,
              "ticks": ""
             }
            },
            "type": "scattermapbox"
           }
          ],
          "scatterpolar": [
           {
            "marker": {
             "colorbar": {
              "outlinewidth": 0,
              "ticks": ""
             }
            },
            "type": "scatterpolar"
           }
          ],
          "scatterpolargl": [
           {
            "marker": {
             "colorbar": {
              "outlinewidth": 0,
              "ticks": ""
             }
            },
            "type": "scatterpolargl"
           }
          ],
          "scatterternary": [
           {
            "marker": {
             "colorbar": {
              "outlinewidth": 0,
              "ticks": ""
             }
            },
            "type": "scatterternary"
           }
          ],
          "surface": [
           {
            "colorbar": {
             "outlinewidth": 0,
             "ticks": ""
            },
            "colorscale": [
             [
              0,
              "#0d0887"
             ],
             [
              0.1111111111111111,
              "#46039f"
             ],
             [
              0.2222222222222222,
              "#7201a8"
             ],
             [
              0.3333333333333333,
              "#9c179e"
             ],
             [
              0.4444444444444444,
              "#bd3786"
             ],
             [
              0.5555555555555556,
              "#d8576b"
             ],
             [
              0.6666666666666666,
              "#ed7953"
             ],
             [
              0.7777777777777778,
              "#fb9f3a"
             ],
             [
              0.8888888888888888,
              "#fdca26"
             ],
             [
              1,
              "#f0f921"
             ]
            ],
            "type": "surface"
           }
          ],
          "table": [
           {
            "cells": {
             "fill": {
              "color": "#EBF0F8"
             },
             "line": {
              "color": "white"
             }
            },
            "header": {
             "fill": {
              "color": "#C8D4E3"
             },
             "line": {
              "color": "white"
             }
            },
            "type": "table"
           }
          ]
         },
         "layout": {
          "annotationdefaults": {
           "arrowcolor": "#2a3f5f",
           "arrowhead": 0,
           "arrowwidth": 1
          },
          "autotypenumbers": "strict",
          "coloraxis": {
           "colorbar": {
            "outlinewidth": 0,
            "ticks": ""
           }
          },
          "colorscale": {
           "diverging": [
            [
             0,
             "#8e0152"
            ],
            [
             0.1,
             "#c51b7d"
            ],
            [
             0.2,
             "#de77ae"
            ],
            [
             0.3,
             "#f1b6da"
            ],
            [
             0.4,
             "#fde0ef"
            ],
            [
             0.5,
             "#f7f7f7"
            ],
            [
             0.6,
             "#e6f5d0"
            ],
            [
             0.7,
             "#b8e186"
            ],
            [
             0.8,
             "#7fbc41"
            ],
            [
             0.9,
             "#4d9221"
            ],
            [
             1,
             "#276419"
            ]
           ],
           "sequential": [
            [
             0,
             "#0d0887"
            ],
            [
             0.1111111111111111,
             "#46039f"
            ],
            [
             0.2222222222222222,
             "#7201a8"
            ],
            [
             0.3333333333333333,
             "#9c179e"
            ],
            [
             0.4444444444444444,
             "#bd3786"
            ],
            [
             0.5555555555555556,
             "#d8576b"
            ],
            [
             0.6666666666666666,
             "#ed7953"
            ],
            [
             0.7777777777777778,
             "#fb9f3a"
            ],
            [
             0.8888888888888888,
             "#fdca26"
            ],
            [
             1,
             "#f0f921"
            ]
           ],
           "sequentialminus": [
            [
             0,
             "#0d0887"
            ],
            [
             0.1111111111111111,
             "#46039f"
            ],
            [
             0.2222222222222222,
             "#7201a8"
            ],
            [
             0.3333333333333333,
             "#9c179e"
            ],
            [
             0.4444444444444444,
             "#bd3786"
            ],
            [
             0.5555555555555556,
             "#d8576b"
            ],
            [
             0.6666666666666666,
             "#ed7953"
            ],
            [
             0.7777777777777778,
             "#fb9f3a"
            ],
            [
             0.8888888888888888,
             "#fdca26"
            ],
            [
             1,
             "#f0f921"
            ]
           ]
          },
          "colorway": [
           "#636efa",
           "#EF553B",
           "#00cc96",
           "#ab63fa",
           "#FFA15A",
           "#19d3f3",
           "#FF6692",
           "#B6E880",
           "#FF97FF",
           "#FECB52"
          ],
          "font": {
           "color": "#2a3f5f"
          },
          "geo": {
           "bgcolor": "white",
           "lakecolor": "white",
           "landcolor": "white",
           "showlakes": true,
           "showland": true,
           "subunitcolor": "#C8D4E3"
          },
          "hoverlabel": {
           "align": "left"
          },
          "hovermode": "closest",
          "mapbox": {
           "style": "light"
          },
          "paper_bgcolor": "white",
          "plot_bgcolor": "white",
          "polar": {
           "angularaxis": {
            "gridcolor": "#EBF0F8",
            "linecolor": "#EBF0F8",
            "ticks": ""
           },
           "bgcolor": "white",
           "radialaxis": {
            "gridcolor": "#EBF0F8",
            "linecolor": "#EBF0F8",
            "ticks": ""
           }
          },
          "scene": {
           "xaxis": {
            "backgroundcolor": "white",
            "gridcolor": "#DFE8F3",
            "gridwidth": 2,
            "linecolor": "#EBF0F8",
            "showbackground": true,
            "ticks": "",
            "zerolinecolor": "#EBF0F8"
           },
           "yaxis": {
            "backgroundcolor": "white",
            "gridcolor": "#DFE8F3",
            "gridwidth": 2,
            "linecolor": "#EBF0F8",
            "showbackground": true,
            "ticks": "",
            "zerolinecolor": "#EBF0F8"
           },
           "zaxis": {
            "backgroundcolor": "white",
            "gridcolor": "#DFE8F3",
            "gridwidth": 2,
            "linecolor": "#EBF0F8",
            "showbackground": true,
            "ticks": "",
            "zerolinecolor": "#EBF0F8"
           }
          },
          "shapedefaults": {
           "line": {
            "color": "#2a3f5f"
           }
          },
          "ternary": {
           "aaxis": {
            "gridcolor": "#DFE8F3",
            "linecolor": "#A2B1C6",
            "ticks": ""
           },
           "baxis": {
            "gridcolor": "#DFE8F3",
            "linecolor": "#A2B1C6",
            "ticks": ""
           },
           "bgcolor": "white",
           "caxis": {
            "gridcolor": "#DFE8F3",
            "linecolor": "#A2B1C6",
            "ticks": ""
           }
          },
          "title": {
           "x": 0.05
          },
          "xaxis": {
           "automargin": true,
           "gridcolor": "#EBF0F8",
           "linecolor": "#EBF0F8",
           "ticks": "",
           "title": {
            "standoff": 15
           },
           "zerolinecolor": "#EBF0F8",
           "zerolinewidth": 2
          },
          "yaxis": {
           "automargin": true,
           "gridcolor": "#EBF0F8",
           "linecolor": "#EBF0F8",
           "ticks": "",
           "title": {
            "standoff": 15
           },
           "zerolinecolor": "#EBF0F8",
           "zerolinewidth": 2
          }
         }
        },
        "title": {
         "text": "Comparação Saída Variável E (200 Amostras) - CT_N1_002: [Exclusiva] - Zerar Variável A - GASOLINE",
         "x": 0.5
        },
        "xaxis": {
         "title": {
          "text": "Amostras"
         }
        },
        "yaxis": {
         "title": {
          "text": "Variável E"
         }
        }
       }
      }
     },
     "metadata": {},
     "output_type": "display_data"
    },
    {
     "name": "stdout",
     "output_type": "stream",
     "text": [
      "\n",
      "================================================================================\n",
      "🔁 CT_N1_003: [Exclusiva] - Zerar Variável B (ETHANOL)\n",
      "--------------------------------------------------------------------------------\n",
      "Diferença Média: 0.0817 | Diferença Máxima: 1.4412 | RMSE: 0.1847 | Desvio Padrão (Std): 0.1657\n"
     ]
    },
    {
     "data": {
      "text/html": [
       "<style type=\"text/css\">\n",
       "</style>\n",
       "<table id=\"T_6282c\">\n",
       "  <caption>Comparação dos dados - CT_N1_003: [Exclusiva] - Zerar Variável B (ETHANOL)</caption>\n",
       "  <thead>\n",
       "    <tr>\n",
       "      <th class=\"blank level0\" >&nbsp;</th>\n",
       "      <th id=\"T_6282c_level0_col0\" class=\"col_heading level0 col0\" >Latitude_Orig</th>\n",
       "      <th id=\"T_6282c_level0_col1\" class=\"col_heading level0 col1\" >Longitude_Orig</th>\n",
       "      <th id=\"T_6282c_level0_col2\" class=\"col_heading level0 col2\" >Speed(OBD)(km/h)_Orig</th>\n",
       "      <th id=\"T_6282c_level0_col3\" class=\"col_heading level0 col3\" >Acceleration_Orig</th>\n",
       "      <th id=\"T_6282c_level0_col4\" class=\"col_heading level0 col4\" > </th>\n",
       "      <th id=\"T_6282c_level0_col5\" class=\"col_heading level0 col5\" >Latitude_Mod</th>\n",
       "      <th id=\"T_6282c_level0_col6\" class=\"col_heading level0 col6\" >Longitude_Mod</th>\n",
       "      <th id=\"T_6282c_level0_col7\" class=\"col_heading level0 col7\" >Speed(OBD)(km/h)_Mod</th>\n",
       "      <th id=\"T_6282c_level0_col8\" class=\"col_heading level0 col8\" >Acceleration_Mod</th>\n",
       "      <th id=\"T_6282c_level0_col9\" class=\"col_heading level0 col9\" > </th>\n",
       "      <th id=\"T_6282c_level0_col10\" class=\"col_heading level0 col10\" >CO₂_Real</th>\n",
       "      <th id=\"T_6282c_level0_col11\" class=\"col_heading level0 col11\" >CO₂_Pred_Orig</th>\n",
       "      <th id=\"T_6282c_level0_col12\" class=\"col_heading level0 col12\" >CO₂_Pred_Mod</th>\n",
       "    </tr>\n",
       "  </thead>\n",
       "  <tbody>\n",
       "    <tr>\n",
       "      <th id=\"T_6282c_level0_row0\" class=\"row_heading level0 row0\" >0</th>\n",
       "      <td id=\"T_6282c_row0_col0\" class=\"data row0 col0\" >-5.820105</td>\n",
       "      <td id=\"T_6282c_row0_col1\" class=\"data row0 col1\" >-35.220818</td>\n",
       "      <td id=\"T_6282c_row0_col2\" class=\"data row0 col2\" >3</td>\n",
       "      <td id=\"T_6282c_row0_col3\" class=\"data row0 col3\" >0.000000</td>\n",
       "      <td id=\"T_6282c_row0_col4\" class=\"data row0 col4\" >→</td>\n",
       "      <td id=\"T_6282c_row0_col5\" class=\"data row0 col5\" >-5.820105</td>\n",
       "      <td id=\"T_6282c_row0_col6\" class=\"data row0 col6\" >-35.220818</td>\n",
       "      <td id=\"T_6282c_row0_col7\" class=\"data row0 col7\" >3</td>\n",
       "      <td id=\"T_6282c_row0_col8\" class=\"data row0 col8\" >0.000000</td>\n",
       "      <td id=\"T_6282c_row0_col9\" class=\"data row0 col9\" > </td>\n",
       "      <td id=\"T_6282c_row0_col10\" class=\"data row0 col10\" >0.642839</td>\n",
       "      <td id=\"T_6282c_row0_col11\" class=\"data row0 col11\" >0.742631</td>\n",
       "      <td id=\"T_6282c_row0_col12\" class=\"data row0 col12\" >0.742631</td>\n",
       "    </tr>\n",
       "    <tr>\n",
       "      <th id=\"T_6282c_level0_row1\" class=\"row_heading level0 row1\" >1</th>\n",
       "      <td id=\"T_6282c_row1_col0\" class=\"data row1 col0\" >-5.820103</td>\n",
       "      <td id=\"T_6282c_row1_col1\" class=\"data row1 col1\" >-35.220828</td>\n",
       "      <td id=\"T_6282c_row1_col2\" class=\"data row1 col2\" >5</td>\n",
       "      <td id=\"T_6282c_row1_col3\" class=\"data row1 col3\" >0.555556</td>\n",
       "      <td id=\"T_6282c_row1_col4\" class=\"data row1 col4\" >→</td>\n",
       "      <td id=\"T_6282c_row1_col5\" class=\"data row1 col5\" >-5.820103</td>\n",
       "      <td id=\"T_6282c_row1_col6\" class=\"data row1 col6\" >-35.220828</td>\n",
       "      <td id=\"T_6282c_row1_col7\" class=\"data row1 col7\" >5</td>\n",
       "      <td id=\"T_6282c_row1_col8\" class=\"data row1 col8\" >0.000000</td>\n",
       "      <td id=\"T_6282c_row1_col9\" class=\"data row1 col9\" > </td>\n",
       "      <td id=\"T_6282c_row1_col10\" class=\"data row1 col10\" >0.653249</td>\n",
       "      <td id=\"T_6282c_row1_col11\" class=\"data row1 col11\" >0.771505</td>\n",
       "      <td id=\"T_6282c_row1_col12\" class=\"data row1 col12\" >0.771505</td>\n",
       "    </tr>\n",
       "    <tr>\n",
       "      <th id=\"T_6282c_level0_row2\" class=\"row_heading level0 row2\" >2</th>\n",
       "      <td id=\"T_6282c_row2_col0\" class=\"data row2 col0\" >-5.820102</td>\n",
       "      <td id=\"T_6282c_row2_col1\" class=\"data row2 col1\" >-35.220838</td>\n",
       "      <td id=\"T_6282c_row2_col2\" class=\"data row2 col2\" >5</td>\n",
       "      <td id=\"T_6282c_row2_col3\" class=\"data row2 col3\" >0.000000</td>\n",
       "      <td id=\"T_6282c_row2_col4\" class=\"data row2 col4\" >→</td>\n",
       "      <td id=\"T_6282c_row2_col5\" class=\"data row2 col5\" >-5.820102</td>\n",
       "      <td id=\"T_6282c_row2_col6\" class=\"data row2 col6\" >-35.220838</td>\n",
       "      <td id=\"T_6282c_row2_col7\" class=\"data row2 col7\" >5</td>\n",
       "      <td id=\"T_6282c_row2_col8\" class=\"data row2 col8\" >0.000000</td>\n",
       "      <td id=\"T_6282c_row2_col9\" class=\"data row2 col9\" > </td>\n",
       "      <td id=\"T_6282c_row2_col10\" class=\"data row2 col10\" >0.653249</td>\n",
       "      <td id=\"T_6282c_row2_col11\" class=\"data row2 col11\" >0.771505</td>\n",
       "      <td id=\"T_6282c_row2_col12\" class=\"data row2 col12\" >0.771505</td>\n",
       "    </tr>\n",
       "    <tr>\n",
       "      <th id=\"T_6282c_level0_row3\" class=\"row_heading level0 row3\" >3</th>\n",
       "      <td id=\"T_6282c_row3_col0\" class=\"data row3 col0\" >-5.820096</td>\n",
       "      <td id=\"T_6282c_row3_col1\" class=\"data row3 col1\" >-35.220843</td>\n",
       "      <td id=\"T_6282c_row3_col2\" class=\"data row3 col2\" >3</td>\n",
       "      <td id=\"T_6282c_row3_col3\" class=\"data row3 col3\" >-0.555556</td>\n",
       "      <td id=\"T_6282c_row3_col4\" class=\"data row3 col4\" >→</td>\n",
       "      <td id=\"T_6282c_row3_col5\" class=\"data row3 col5\" >-5.820096</td>\n",
       "      <td id=\"T_6282c_row3_col6\" class=\"data row3 col6\" >-35.220843</td>\n",
       "      <td id=\"T_6282c_row3_col7\" class=\"data row3 col7\" >3</td>\n",
       "      <td id=\"T_6282c_row3_col8\" class=\"data row3 col8\" >0.000000</td>\n",
       "      <td id=\"T_6282c_row3_col9\" class=\"data row3 col9\" > </td>\n",
       "      <td id=\"T_6282c_row3_col10\" class=\"data row3 col10\" >0.679275</td>\n",
       "      <td id=\"T_6282c_row3_col11\" class=\"data row3 col11\" >0.659013</td>\n",
       "      <td id=\"T_6282c_row3_col12\" class=\"data row3 col12\" >0.742631</td>\n",
       "    </tr>\n",
       "    <tr>\n",
       "      <th id=\"T_6282c_level0_row4\" class=\"row_heading level0 row4\" >4</th>\n",
       "      <td id=\"T_6282c_row4_col0\" class=\"data row4 col0\" >-5.820091</td>\n",
       "      <td id=\"T_6282c_row4_col1\" class=\"data row4 col1\" >-35.220850</td>\n",
       "      <td id=\"T_6282c_row4_col2\" class=\"data row4 col2\" >0</td>\n",
       "      <td id=\"T_6282c_row4_col3\" class=\"data row4 col3\" >-0.833333</td>\n",
       "      <td id=\"T_6282c_row4_col4\" class=\"data row4 col4\" >→</td>\n",
       "      <td id=\"T_6282c_row4_col5\" class=\"data row4 col5\" >-5.820091</td>\n",
       "      <td id=\"T_6282c_row4_col6\" class=\"data row4 col6\" >-35.220850</td>\n",
       "      <td id=\"T_6282c_row4_col7\" class=\"data row4 col7\" >0</td>\n",
       "      <td id=\"T_6282c_row4_col8\" class=\"data row4 col8\" >0.000000</td>\n",
       "      <td id=\"T_6282c_row4_col9\" class=\"data row4 col9\" > </td>\n",
       "      <td id=\"T_6282c_row4_col10\" class=\"data row4 col10\" >0.610306</td>\n",
       "      <td id=\"T_6282c_row4_col11\" class=\"data row4 col11\" >0.667689</td>\n",
       "      <td id=\"T_6282c_row4_col12\" class=\"data row4 col12\" >0.706858</td>\n",
       "    </tr>\n",
       "    <tr>\n",
       "      <th id=\"T_6282c_level0_row5\" class=\"row_heading level0 row5\" >5</th>\n",
       "      <td id=\"T_6282c_row5_col0\" class=\"data row5 col0\" >-5.820091</td>\n",
       "      <td id=\"T_6282c_row5_col1\" class=\"data row5 col1\" >-35.220850</td>\n",
       "      <td id=\"T_6282c_row5_col2\" class=\"data row5 col2\" >0</td>\n",
       "      <td id=\"T_6282c_row5_col3\" class=\"data row5 col3\" >0.000000</td>\n",
       "      <td id=\"T_6282c_row5_col4\" class=\"data row5 col4\" >→</td>\n",
       "      <td id=\"T_6282c_row5_col5\" class=\"data row5 col5\" >-5.820091</td>\n",
       "      <td id=\"T_6282c_row5_col6\" class=\"data row5 col6\" >-35.220850</td>\n",
       "      <td id=\"T_6282c_row5_col7\" class=\"data row5 col7\" >0</td>\n",
       "      <td id=\"T_6282c_row5_col8\" class=\"data row5 col8\" >0.000000</td>\n",
       "      <td id=\"T_6282c_row5_col9\" class=\"data row5 col9\" > </td>\n",
       "      <td id=\"T_6282c_row5_col10\" class=\"data row5 col10\" >0.610306</td>\n",
       "      <td id=\"T_6282c_row5_col11\" class=\"data row5 col11\" >0.706858</td>\n",
       "      <td id=\"T_6282c_row5_col12\" class=\"data row5 col12\" >0.706858</td>\n",
       "    </tr>\n",
       "    <tr>\n",
       "      <th id=\"T_6282c_level0_row6\" class=\"row_heading level0 row6\" >6</th>\n",
       "      <td id=\"T_6282c_row6_col0\" class=\"data row6 col0\" >-5.820091</td>\n",
       "      <td id=\"T_6282c_row6_col1\" class=\"data row6 col1\" >-35.220850</td>\n",
       "      <td id=\"T_6282c_row6_col2\" class=\"data row6 col2\" >0</td>\n",
       "      <td id=\"T_6282c_row6_col3\" class=\"data row6 col3\" >0.000000</td>\n",
       "      <td id=\"T_6282c_row6_col4\" class=\"data row6 col4\" >→</td>\n",
       "      <td id=\"T_6282c_row6_col5\" class=\"data row6 col5\" >-5.820091</td>\n",
       "      <td id=\"T_6282c_row6_col6\" class=\"data row6 col6\" >-35.220850</td>\n",
       "      <td id=\"T_6282c_row6_col7\" class=\"data row6 col7\" >0</td>\n",
       "      <td id=\"T_6282c_row6_col8\" class=\"data row6 col8\" >0.000000</td>\n",
       "      <td id=\"T_6282c_row6_col9\" class=\"data row6 col9\" > </td>\n",
       "      <td id=\"T_6282c_row6_col10\" class=\"data row6 col10\" >0.490587</td>\n",
       "      <td id=\"T_6282c_row6_col11\" class=\"data row6 col11\" >0.706858</td>\n",
       "      <td id=\"T_6282c_row6_col12\" class=\"data row6 col12\" >0.706858</td>\n",
       "    </tr>\n",
       "    <tr>\n",
       "      <th id=\"T_6282c_level0_row7\" class=\"row_heading level0 row7\" >7</th>\n",
       "      <td id=\"T_6282c_row7_col0\" class=\"data row7 col0\" >-5.820085</td>\n",
       "      <td id=\"T_6282c_row7_col1\" class=\"data row7 col1\" >-35.220856</td>\n",
       "      <td id=\"T_6282c_row7_col2\" class=\"data row7 col2\" >3</td>\n",
       "      <td id=\"T_6282c_row7_col3\" class=\"data row7 col3\" >0.833333</td>\n",
       "      <td id=\"T_6282c_row7_col4\" class=\"data row7 col4\" >→</td>\n",
       "      <td id=\"T_6282c_row7_col5\" class=\"data row7 col5\" >-5.820085</td>\n",
       "      <td id=\"T_6282c_row7_col6\" class=\"data row7 col6\" >-35.220856</td>\n",
       "      <td id=\"T_6282c_row7_col7\" class=\"data row7 col7\" >3</td>\n",
       "      <td id=\"T_6282c_row7_col8\" class=\"data row7 col8\" >0.000000</td>\n",
       "      <td id=\"T_6282c_row7_col9\" class=\"data row7 col9\" > </td>\n",
       "      <td id=\"T_6282c_row7_col10\" class=\"data row7 col10\" >1.090483</td>\n",
       "      <td id=\"T_6282c_row7_col11\" class=\"data row7 col11\" >1.137803</td>\n",
       "      <td id=\"T_6282c_row7_col12\" class=\"data row7 col12\" >1.137803</td>\n",
       "    </tr>\n",
       "    <tr>\n",
       "      <th id=\"T_6282c_level0_row8\" class=\"row_heading level0 row8\" >8</th>\n",
       "      <td id=\"T_6282c_row8_col0\" class=\"data row8 col0\" >-5.820074</td>\n",
       "      <td id=\"T_6282c_row8_col1\" class=\"data row8 col1\" >-35.220859</td>\n",
       "      <td id=\"T_6282c_row8_col2\" class=\"data row8 col2\" >3</td>\n",
       "      <td id=\"T_6282c_row8_col3\" class=\"data row8 col3\" >0.000000</td>\n",
       "      <td id=\"T_6282c_row8_col4\" class=\"data row8 col4\" >→</td>\n",
       "      <td id=\"T_6282c_row8_col5\" class=\"data row8 col5\" >-5.820074</td>\n",
       "      <td id=\"T_6282c_row8_col6\" class=\"data row8 col6\" >-35.220859</td>\n",
       "      <td id=\"T_6282c_row8_col7\" class=\"data row8 col7\" >3</td>\n",
       "      <td id=\"T_6282c_row8_col8\" class=\"data row8 col8\" >0.000000</td>\n",
       "      <td id=\"T_6282c_row8_col9\" class=\"data row8 col9\" > </td>\n",
       "      <td id=\"T_6282c_row8_col10\" class=\"data row8 col10\" >1.090483</td>\n",
       "      <td id=\"T_6282c_row8_col11\" class=\"data row8 col11\" >1.137803</td>\n",
       "      <td id=\"T_6282c_row8_col12\" class=\"data row8 col12\" >1.137803</td>\n",
       "    </tr>\n",
       "    <tr>\n",
       "      <th id=\"T_6282c_level0_row9\" class=\"row_heading level0 row9\" >9</th>\n",
       "      <td id=\"T_6282c_row9_col0\" class=\"data row9 col0\" >-5.820064</td>\n",
       "      <td id=\"T_6282c_row9_col1\" class=\"data row9 col1\" >-35.220858</td>\n",
       "      <td id=\"T_6282c_row9_col2\" class=\"data row9 col2\" >3</td>\n",
       "      <td id=\"T_6282c_row9_col3\" class=\"data row9 col3\" >0.000000</td>\n",
       "      <td id=\"T_6282c_row9_col4\" class=\"data row9 col4\" >→</td>\n",
       "      <td id=\"T_6282c_row9_col5\" class=\"data row9 col5\" >-5.820064</td>\n",
       "      <td id=\"T_6282c_row9_col6\" class=\"data row9 col6\" >-35.220858</td>\n",
       "      <td id=\"T_6282c_row9_col7\" class=\"data row9 col7\" >3</td>\n",
       "      <td id=\"T_6282c_row9_col8\" class=\"data row9 col8\" >0.000000</td>\n",
       "      <td id=\"T_6282c_row9_col9\" class=\"data row9 col9\" > </td>\n",
       "      <td id=\"T_6282c_row9_col10\" class=\"data row9 col10\" >0.921315</td>\n",
       "      <td id=\"T_6282c_row9_col11\" class=\"data row9 col11\" >1.137803</td>\n",
       "      <td id=\"T_6282c_row9_col12\" class=\"data row9 col12\" >1.137803</td>\n",
       "    </tr>\n",
       "  </tbody>\n",
       "</table>\n"
      ],
      "text/plain": [
       "<pandas.io.formats.style.Styler at 0x16975253b50>"
      ]
     },
     "metadata": {},
     "output_type": "display_data"
    },
    {
     "data": {
      "application/vnd.plotly.v1+json": {
       "config": {
        "plotlyServerURL": "https://plot.ly"
       },
       "data": [
        {
         "line": {
          "color": "gray",
          "dash": "dot"
         },
         "mode": "lines",
         "name": "Real",
         "type": "scatter",
         "y": {
          "bdata": "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",
          "dtype": "f8"
         }
        },
        {
         "line": {
          "color": "blue",
          "dash": "dash"
         },
         "mode": "lines",
         "name": "Predição Original",
         "type": "scatter",
         "y": {
          "bdata": "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",
          "dtype": "f8"
         }
        },
        {
         "line": {
          "color": "red"
         },
         "mode": "lines",
         "name": "Predição com RM",
         "type": "scatter",
         "y": {
          "bdata": "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",
          "dtype": "f8"
         }
        }
       ],
       "layout": {
        "template": {
         "data": {
          "bar": [
           {
            "error_x": {
             "color": "#2a3f5f"
            },
            "error_y": {
             "color": "#2a3f5f"
            },
            "marker": {
             "line": {
              "color": "white",
              "width": 0.5
             },
             "pattern": {
              "fillmode": "overlay",
              "size": 10,
              "solidity": 0.2
             }
            },
            "type": "bar"
           }
          ],
          "barpolar": [
           {
            "marker": {
             "line": {
              "color": "white",
              "width": 0.5
             },
             "pattern": {
              "fillmode": "overlay",
              "size": 10,
              "solidity": 0.2
             }
            },
            "type": "barpolar"
           }
          ],
          "carpet": [
           {
            "aaxis": {
             "endlinecolor": "#2a3f5f",
             "gridcolor": "#C8D4E3",
             "linecolor": "#C8D4E3",
             "minorgridcolor": "#C8D4E3",
             "startlinecolor": "#2a3f5f"
            },
            "baxis": {
             "endlinecolor": "#2a3f5f",
             "gridcolor": "#C8D4E3",
             "linecolor": "#C8D4E3",
             "minorgridcolor": "#C8D4E3",
             "startlinecolor": "#2a3f5f"
            },
            "type": "carpet"
           }
          ],
          "choropleth": [
           {
            "colorbar": {
             "outlinewidth": 0,
             "ticks": ""
            },
            "type": "choropleth"
           }
          ],
          "contour": [
           {
            "colorbar": {
             "outlinewidth": 0,
             "ticks": ""
            },
            "colorscale": [
             [
              0,
              "#0d0887"
             ],
             [
              0.1111111111111111,
              "#46039f"
             ],
             [
              0.2222222222222222,
              "#7201a8"
             ],
             [
              0.3333333333333333,
              "#9c179e"
             ],
             [
              0.4444444444444444,
              "#bd3786"
             ],
             [
              0.5555555555555556,
              "#d8576b"
             ],
             [
              0.6666666666666666,
              "#ed7953"
             ],
             [
              0.7777777777777778,
              "#fb9f3a"
             ],
             [
              0.8888888888888888,
              "#fdca26"
             ],
             [
              1,
              "#f0f921"
             ]
            ],
            "type": "contour"
           }
          ],
          "contourcarpet": [
           {
            "colorbar": {
             "outlinewidth": 0,
             "ticks": ""
            },
            "type": "contourcarpet"
           }
          ],
          "heatmap": [
           {
            "colorbar": {
             "outlinewidth": 0,
             "ticks": ""
            },
            "colorscale": [
             [
              0,
              "#0d0887"
             ],
             [
              0.1111111111111111,
              "#46039f"
             ],
             [
              0.2222222222222222,
              "#7201a8"
             ],
             [
              0.3333333333333333,
              "#9c179e"
             ],
             [
              0.4444444444444444,
              "#bd3786"
             ],
             [
              0.5555555555555556,
              "#d8576b"
             ],
             [
              0.6666666666666666,
              "#ed7953"
             ],
             [
              0.7777777777777778,
              "#fb9f3a"
             ],
             [
              0.8888888888888888,
              "#fdca26"
             ],
             [
              1,
              "#f0f921"
             ]
            ],
            "type": "heatmap"
           }
          ],
          "histogram": [
           {
            "marker": {
             "pattern": {
              "fillmode": "overlay",
              "size": 10,
              "solidity": 0.2
             }
            },
            "type": "histogram"
           }
          ],
          "histogram2d": [
           {
            "colorbar": {
             "outlinewidth": 0,
             "ticks": ""
            },
            "colorscale": [
             [
              0,
              "#0d0887"
             ],
             [
              0.1111111111111111,
              "#46039f"
             ],
             [
              0.2222222222222222,
              "#7201a8"
             ],
             [
              0.3333333333333333,
              "#9c179e"
             ],
             [
              0.4444444444444444,
              "#bd3786"
             ],
             [
              0.5555555555555556,
              "#d8576b"
             ],
             [
              0.6666666666666666,
              "#ed7953"
             ],
             [
              0.7777777777777778,
              "#fb9f3a"
             ],
             [
              0.8888888888888888,
              "#fdca26"
             ],
             [
              1,
              "#f0f921"
             ]
            ],
            "type": "histogram2d"
           }
          ],
          "histogram2dcontour": [
           {
            "colorbar": {
             "outlinewidth": 0,
             "ticks": ""
            },
            "colorscale": [
             [
              0,
              "#0d0887"
             ],
             [
              0.1111111111111111,
              "#46039f"
             ],
             [
              0.2222222222222222,
              "#7201a8"
             ],
             [
              0.3333333333333333,
              "#9c179e"
             ],
             [
              0.4444444444444444,
              "#bd3786"
             ],
             [
              0.5555555555555556,
              "#d8576b"
             ],
             [
              0.6666666666666666,
              "#ed7953"
             ],
             [
              0.7777777777777778,
              "#fb9f3a"
             ],
             [
              0.8888888888888888,
              "#fdca26"
             ],
             [
              1,
              "#f0f921"
             ]
            ],
            "type": "histogram2dcontour"
           }
          ],
          "mesh3d": [
           {
            "colorbar": {
             "outlinewidth": 0,
             "ticks": ""
            },
            "type": "mesh3d"
           }
          ],
          "parcoords": [
           {
            "line": {
             "colorbar": {
              "outlinewidth": 0,
              "ticks": ""
             }
            },
            "type": "parcoords"
           }
          ],
          "pie": [
           {
            "automargin": true,
            "type": "pie"
           }
          ],
          "scatter": [
           {
            "fillpattern": {
             "fillmode": "overlay",
             "size": 10,
             "solidity": 0.2
            },
            "type": "scatter"
           }
          ],
          "scatter3d": [
           {
            "line": {
             "colorbar": {
              "outlinewidth": 0,
              "ticks": ""
             }
            },
            "marker": {
             "colorbar": {
              "outlinewidth": 0,
              "ticks": ""
             }
            },
            "type": "scatter3d"
           }
          ],
          "scattercarpet": [
           {
            "marker": {
             "colorbar": {
              "outlinewidth": 0,
              "ticks": ""
             }
            },
            "type": "scattercarpet"
           }
          ],
          "scattergeo": [
           {
            "marker": {
             "colorbar": {
              "outlinewidth": 0,
              "ticks": ""
             }
            },
            "type": "scattergeo"
           }
          ],
          "scattergl": [
           {
            "marker": {
             "colorbar": {
              "outlinewidth": 0,
              "ticks": ""
             }
            },
            "type": "scattergl"
           }
          ],
          "scattermap": [
           {
            "marker": {
             "colorbar": {
              "outlinewidth": 0,
              "ticks": ""
             }
            },
            "type": "scattermap"
           }
          ],
          "scattermapbox": [
           {
            "marker": {
             "colorbar": {
              "outlinewidth": 0,
              "ticks": ""
             }
            },
            "type": "scattermapbox"
           }
          ],
          "scatterpolar": [
           {
            "marker": {
             "colorbar": {
              "outlinewidth": 0,
              "ticks": ""
             }
            },
            "type": "scatterpolar"
           }
          ],
          "scatterpolargl": [
           {
            "marker": {
             "colorbar": {
              "outlinewidth": 0,
              "ticks": ""
             }
            },
            "type": "scatterpolargl"
           }
          ],
          "scatterternary": [
           {
            "marker": {
             "colorbar": {
              "outlinewidth": 0,
              "ticks": ""
             }
            },
            "type": "scatterternary"
           }
          ],
          "surface": [
           {
            "colorbar": {
             "outlinewidth": 0,
             "ticks": ""
            },
            "colorscale": [
             [
              0,
              "#0d0887"
             ],
             [
              0.1111111111111111,
              "#46039f"
             ],
             [
              0.2222222222222222,
              "#7201a8"
             ],
             [
              0.3333333333333333,
              "#9c179e"
             ],
             [
              0.4444444444444444,
              "#bd3786"
             ],
             [
              0.5555555555555556,
              "#d8576b"
             ],
             [
              0.6666666666666666,
              "#ed7953"
             ],
             [
              0.7777777777777778,
              "#fb9f3a"
             ],
             [
              0.8888888888888888,
              "#fdca26"
             ],
             [
              1,
              "#f0f921"
             ]
            ],
            "type": "surface"
           }
          ],
          "table": [
           {
            "cells": {
             "fill": {
              "color": "#EBF0F8"
             },
             "line": {
              "color": "white"
             }
            },
            "header": {
             "fill": {
              "color": "#C8D4E3"
             },
             "line": {
              "color": "white"
             }
            },
            "type": "table"
           }
          ]
         },
         "layout": {
          "annotationdefaults": {
           "arrowcolor": "#2a3f5f",
           "arrowhead": 0,
           "arrowwidth": 1
          },
          "autotypenumbers": "strict",
          "coloraxis": {
           "colorbar": {
            "outlinewidth": 0,
            "ticks": ""
           }
          },
          "colorscale": {
           "diverging": [
            [
             0,
             "#8e0152"
            ],
            [
             0.1,
             "#c51b7d"
            ],
            [
             0.2,
             "#de77ae"
            ],
            [
             0.3,
             "#f1b6da"
            ],
            [
             0.4,
             "#fde0ef"
            ],
            [
             0.5,
             "#f7f7f7"
            ],
            [
             0.6,
             "#e6f5d0"
            ],
            [
             0.7,
             "#b8e186"
            ],
            [
             0.8,
             "#7fbc41"
            ],
            [
             0.9,
             "#4d9221"
            ],
            [
             1,
             "#276419"
            ]
           ],
           "sequential": [
            [
             0,
             "#0d0887"
            ],
            [
             0.1111111111111111,
             "#46039f"
            ],
            [
             0.2222222222222222,
             "#7201a8"
            ],
            [
             0.3333333333333333,
             "#9c179e"
            ],
            [
             0.4444444444444444,
             "#bd3786"
            ],
            [
             0.5555555555555556,
             "#d8576b"
            ],
            [
             0.6666666666666666,
             "#ed7953"
            ],
            [
             0.7777777777777778,
             "#fb9f3a"
            ],
            [
             0.8888888888888888,
             "#fdca26"
            ],
            [
             1,
             "#f0f921"
            ]
           ],
           "sequentialminus": [
            [
             0,
             "#0d0887"
            ],
            [
             0.1111111111111111,
             "#46039f"
            ],
            [
             0.2222222222222222,
             "#7201a8"
            ],
            [
             0.3333333333333333,
             "#9c179e"
            ],
            [
             0.4444444444444444,
             "#bd3786"
            ],
            [
             0.5555555555555556,
             "#d8576b"
            ],
            [
             0.6666666666666666,
             "#ed7953"
            ],
            [
             0.7777777777777778,
             "#fb9f3a"
            ],
            [
             0.8888888888888888,
             "#fdca26"
            ],
            [
             1,
             "#f0f921"
            ]
           ]
          },
          "colorway": [
           "#636efa",
           "#EF553B",
           "#00cc96",
           "#ab63fa",
           "#FFA15A",
           "#19d3f3",
           "#FF6692",
           "#B6E880",
           "#FF97FF",
           "#FECB52"
          ],
          "font": {
           "color": "#2a3f5f"
          },
          "geo": {
           "bgcolor": "white",
           "lakecolor": "white",
           "landcolor": "white",
           "showlakes": true,
           "showland": true,
           "subunitcolor": "#C8D4E3"
          },
          "hoverlabel": {
           "align": "left"
          },
          "hovermode": "closest",
          "mapbox": {
           "style": "light"
          },
          "paper_bgcolor": "white",
          "plot_bgcolor": "white",
          "polar": {
           "angularaxis": {
            "gridcolor": "#EBF0F8",
            "linecolor": "#EBF0F8",
            "ticks": ""
           },
           "bgcolor": "white",
           "radialaxis": {
            "gridcolor": "#EBF0F8",
            "linecolor": "#EBF0F8",
            "ticks": ""
           }
          },
          "scene": {
           "xaxis": {
            "backgroundcolor": "white",
            "gridcolor": "#DFE8F3",
            "gridwidth": 2,
            "linecolor": "#EBF0F8",
            "showbackground": true,
            "ticks": "",
            "zerolinecolor": "#EBF0F8"
           },
           "yaxis": {
            "backgroundcolor": "white",
            "gridcolor": "#DFE8F3",
            "gridwidth": 2,
            "linecolor": "#EBF0F8",
            "showbackground": true,
            "ticks": "",
            "zerolinecolor": "#EBF0F8"
           },
           "zaxis": {
            "backgroundcolor": "white",
            "gridcolor": "#DFE8F3",
            "gridwidth": 2,
            "linecolor": "#EBF0F8",
            "showbackground": true,
            "ticks": "",
            "zerolinecolor": "#EBF0F8"
           }
          },
          "shapedefaults": {
           "line": {
            "color": "#2a3f5f"
           }
          },
          "ternary": {
           "aaxis": {
            "gridcolor": "#DFE8F3",
            "linecolor": "#A2B1C6",
            "ticks": ""
           },
           "baxis": {
            "gridcolor": "#DFE8F3",
            "linecolor": "#A2B1C6",
            "ticks": ""
           },
           "bgcolor": "white",
           "caxis": {
            "gridcolor": "#DFE8F3",
            "linecolor": "#A2B1C6",
            "ticks": ""
           }
          },
          "title": {
           "x": 0.05
          },
          "xaxis": {
           "automargin": true,
           "gridcolor": "#EBF0F8",
           "linecolor": "#EBF0F8",
           "ticks": "",
           "title": {
            "standoff": 15
           },
           "zerolinecolor": "#EBF0F8",
           "zerolinewidth": 2
          },
          "yaxis": {
           "automargin": true,
           "gridcolor": "#EBF0F8",
           "linecolor": "#EBF0F8",
           "ticks": "",
           "title": {
            "standoff": 15
           },
           "zerolinecolor": "#EBF0F8",
           "zerolinewidth": 2
          }
         }
        },
        "title": {
         "text": "Comparação Saída Variável E (200 Amostras) - CT_N1_003: [Exclusiva] - Zerar Variável B - ETHANOL",
         "x": 0.5
        },
        "xaxis": {
         "title": {
          "text": "Amostras"
         }
        },
        "yaxis": {
         "title": {
          "text": "Variável E"
         }
        }
       }
      }
     },
     "metadata": {},
     "output_type": "display_data"
    },
    {
     "name": "stdout",
     "output_type": "stream",
     "text": [
      "\n",
      "================================================================================\n",
      "🔁 CT_N1_003: [Exclusiva] - Zerar Variável B (GASOLINE)\n",
      "--------------------------------------------------------------------------------\n",
      "Diferença Média: 0.1415 | Diferença Máxima: 1.6267 | RMSE: 0.2673 | Desvio Padrão (Std): 0.2268\n"
     ]
    },
    {
     "data": {
      "text/html": [
       "<style type=\"text/css\">\n",
       "</style>\n",
       "<table id=\"T_88a98\">\n",
       "  <caption>Comparação dos dados - CT_N1_003: [Exclusiva] - Zerar Variável B (GASOLINE)</caption>\n",
       "  <thead>\n",
       "    <tr>\n",
       "      <th class=\"blank level0\" >&nbsp;</th>\n",
       "      <th id=\"T_88a98_level0_col0\" class=\"col_heading level0 col0\" >Latitude_Orig</th>\n",
       "      <th id=\"T_88a98_level0_col1\" class=\"col_heading level0 col1\" >Longitude_Orig</th>\n",
       "      <th id=\"T_88a98_level0_col2\" class=\"col_heading level0 col2\" >Speed(OBD)(km/h)_Orig</th>\n",
       "      <th id=\"T_88a98_level0_col3\" class=\"col_heading level0 col3\" >Acceleration_Orig</th>\n",
       "      <th id=\"T_88a98_level0_col4\" class=\"col_heading level0 col4\" > </th>\n",
       "      <th id=\"T_88a98_level0_col5\" class=\"col_heading level0 col5\" >Latitude_Mod</th>\n",
       "      <th id=\"T_88a98_level0_col6\" class=\"col_heading level0 col6\" >Longitude_Mod</th>\n",
       "      <th id=\"T_88a98_level0_col7\" class=\"col_heading level0 col7\" >Speed(OBD)(km/h)_Mod</th>\n",
       "      <th id=\"T_88a98_level0_col8\" class=\"col_heading level0 col8\" >Acceleration_Mod</th>\n",
       "      <th id=\"T_88a98_level0_col9\" class=\"col_heading level0 col9\" > </th>\n",
       "      <th id=\"T_88a98_level0_col10\" class=\"col_heading level0 col10\" >CO₂_Real</th>\n",
       "      <th id=\"T_88a98_level0_col11\" class=\"col_heading level0 col11\" >CO₂_Pred_Orig</th>\n",
       "      <th id=\"T_88a98_level0_col12\" class=\"col_heading level0 col12\" >CO₂_Pred_Mod</th>\n",
       "    </tr>\n",
       "  </thead>\n",
       "  <tbody>\n",
       "    <tr>\n",
       "      <th id=\"T_88a98_level0_row0\" class=\"row_heading level0 row0\" >0</th>\n",
       "      <td id=\"T_88a98_row0_col0\" class=\"data row0 col0\" >-5.820010</td>\n",
       "      <td id=\"T_88a98_row0_col1\" class=\"data row0 col1\" >-35.220825</td>\n",
       "      <td id=\"T_88a98_row0_col2\" class=\"data row0 col2\" >5</td>\n",
       "      <td id=\"T_88a98_row0_col3\" class=\"data row0 col3\" >0.000000</td>\n",
       "      <td id=\"T_88a98_row0_col4\" class=\"data row0 col4\" >→</td>\n",
       "      <td id=\"T_88a98_row0_col5\" class=\"data row0 col5\" >-5.820010</td>\n",
       "      <td id=\"T_88a98_row0_col6\" class=\"data row0 col6\" >-35.220825</td>\n",
       "      <td id=\"T_88a98_row0_col7\" class=\"data row0 col7\" >5</td>\n",
       "      <td id=\"T_88a98_row0_col8\" class=\"data row0 col8\" >0.000000</td>\n",
       "      <td id=\"T_88a98_row0_col9\" class=\"data row0 col9\" > </td>\n",
       "      <td id=\"T_88a98_row0_col10\" class=\"data row0 col10\" >1.002671</td>\n",
       "      <td id=\"T_88a98_row0_col11\" class=\"data row0 col11\" >1.456781</td>\n",
       "      <td id=\"T_88a98_row0_col12\" class=\"data row0 col12\" >1.456781</td>\n",
       "    </tr>\n",
       "    <tr>\n",
       "      <th id=\"T_88a98_level0_row1\" class=\"row_heading level0 row1\" >1</th>\n",
       "      <td id=\"T_88a98_row1_col0\" class=\"data row1 col0\" >-5.820013</td>\n",
       "      <td id=\"T_88a98_row1_col1\" class=\"data row1 col1\" >-35.220822</td>\n",
       "      <td id=\"T_88a98_row1_col2\" class=\"data row1 col2\" >4</td>\n",
       "      <td id=\"T_88a98_row1_col3\" class=\"data row1 col3\" >-0.277778</td>\n",
       "      <td id=\"T_88a98_row1_col4\" class=\"data row1 col4\" >→</td>\n",
       "      <td id=\"T_88a98_row1_col5\" class=\"data row1 col5\" >-5.820013</td>\n",
       "      <td id=\"T_88a98_row1_col6\" class=\"data row1 col6\" >-35.220822</td>\n",
       "      <td id=\"T_88a98_row1_col7\" class=\"data row1 col7\" >4</td>\n",
       "      <td id=\"T_88a98_row1_col8\" class=\"data row1 col8\" >0.000000</td>\n",
       "      <td id=\"T_88a98_row1_col9\" class=\"data row1 col9\" > </td>\n",
       "      <td id=\"T_88a98_row1_col10\" class=\"data row1 col10\" >1.013360</td>\n",
       "      <td id=\"T_88a98_row1_col11\" class=\"data row1 col11\" >1.016708</td>\n",
       "      <td id=\"T_88a98_row1_col12\" class=\"data row1 col12\" >1.456781</td>\n",
       "    </tr>\n",
       "    <tr>\n",
       "      <th id=\"T_88a98_level0_row2\" class=\"row_heading level0 row2\" >2</th>\n",
       "      <td id=\"T_88a98_row2_col0\" class=\"data row2 col0\" >-5.820016</td>\n",
       "      <td id=\"T_88a98_row2_col1\" class=\"data row2 col1\" >-35.220819</td>\n",
       "      <td id=\"T_88a98_row2_col2\" class=\"data row2 col2\" >5</td>\n",
       "      <td id=\"T_88a98_row2_col3\" class=\"data row2 col3\" >0.277778</td>\n",
       "      <td id=\"T_88a98_row2_col4\" class=\"data row2 col4\" >→</td>\n",
       "      <td id=\"T_88a98_row2_col5\" class=\"data row2 col5\" >-5.820016</td>\n",
       "      <td id=\"T_88a98_row2_col6\" class=\"data row2 col6\" >-35.220819</td>\n",
       "      <td id=\"T_88a98_row2_col7\" class=\"data row2 col7\" >5</td>\n",
       "      <td id=\"T_88a98_row2_col8\" class=\"data row2 col8\" >0.000000</td>\n",
       "      <td id=\"T_88a98_row2_col9\" class=\"data row2 col9\" > </td>\n",
       "      <td id=\"T_88a98_row2_col10\" class=\"data row2 col10\" >2.088720</td>\n",
       "      <td id=\"T_88a98_row2_col11\" class=\"data row2 col11\" >1.456781</td>\n",
       "      <td id=\"T_88a98_row2_col12\" class=\"data row2 col12\" >1.456781</td>\n",
       "    </tr>\n",
       "    <tr>\n",
       "      <th id=\"T_88a98_level0_row3\" class=\"row_heading level0 row3\" >3</th>\n",
       "      <td id=\"T_88a98_row3_col0\" class=\"data row3 col0\" >-5.820014</td>\n",
       "      <td id=\"T_88a98_row3_col1\" class=\"data row3 col1\" >-35.220825</td>\n",
       "      <td id=\"T_88a98_row3_col2\" class=\"data row3 col2\" >7</td>\n",
       "      <td id=\"T_88a98_row3_col3\" class=\"data row3 col3\" >0.555556</td>\n",
       "      <td id=\"T_88a98_row3_col4\" class=\"data row3 col4\" >→</td>\n",
       "      <td id=\"T_88a98_row3_col5\" class=\"data row3 col5\" >-5.820014</td>\n",
       "      <td id=\"T_88a98_row3_col6\" class=\"data row3 col6\" >-35.220825</td>\n",
       "      <td id=\"T_88a98_row3_col7\" class=\"data row3 col7\" >7</td>\n",
       "      <td id=\"T_88a98_row3_col8\" class=\"data row3 col8\" >0.000000</td>\n",
       "      <td id=\"T_88a98_row3_col9\" class=\"data row3 col9\" > </td>\n",
       "      <td id=\"T_88a98_row3_col10\" class=\"data row3 col10\" >2.261889</td>\n",
       "      <td id=\"T_88a98_row3_col11\" class=\"data row3 col11\" >1.996380</td>\n",
       "      <td id=\"T_88a98_row3_col12\" class=\"data row3 col12\" >1.996380</td>\n",
       "    </tr>\n",
       "    <tr>\n",
       "      <th id=\"T_88a98_level0_row4\" class=\"row_heading level0 row4\" >4</th>\n",
       "      <td id=\"T_88a98_row4_col0\" class=\"data row4 col0\" >-5.819992</td>\n",
       "      <td id=\"T_88a98_row4_col1\" class=\"data row4 col1\" >-35.220829</td>\n",
       "      <td id=\"T_88a98_row4_col2\" class=\"data row4 col2\" >9</td>\n",
       "      <td id=\"T_88a98_row4_col3\" class=\"data row4 col3\" >0.555556</td>\n",
       "      <td id=\"T_88a98_row4_col4\" class=\"data row4 col4\" >→</td>\n",
       "      <td id=\"T_88a98_row4_col5\" class=\"data row4 col5\" >-5.819992</td>\n",
       "      <td id=\"T_88a98_row4_col6\" class=\"data row4 col6\" >-35.220829</td>\n",
       "      <td id=\"T_88a98_row4_col7\" class=\"data row4 col7\" >9</td>\n",
       "      <td id=\"T_88a98_row4_col8\" class=\"data row4 col8\" >0.000000</td>\n",
       "      <td id=\"T_88a98_row4_col9\" class=\"data row4 col9\" > </td>\n",
       "      <td id=\"T_88a98_row4_col10\" class=\"data row4 col10\" >2.499195</td>\n",
       "      <td id=\"T_88a98_row4_col11\" class=\"data row4 col11\" >2.400486</td>\n",
       "      <td id=\"T_88a98_row4_col12\" class=\"data row4 col12\" >2.400486</td>\n",
       "    </tr>\n",
       "    <tr>\n",
       "      <th id=\"T_88a98_level0_row5\" class=\"row_heading level0 row5\" >5</th>\n",
       "      <td id=\"T_88a98_row5_col0\" class=\"data row5 col0\" >-5.819974</td>\n",
       "      <td id=\"T_88a98_row5_col1\" class=\"data row5 col1\" >-35.220824</td>\n",
       "      <td id=\"T_88a98_row5_col2\" class=\"data row5 col2\" >12</td>\n",
       "      <td id=\"T_88a98_row5_col3\" class=\"data row5 col3\" >0.833333</td>\n",
       "      <td id=\"T_88a98_row5_col4\" class=\"data row5 col4\" >→</td>\n",
       "      <td id=\"T_88a98_row5_col5\" class=\"data row5 col5\" >-5.819974</td>\n",
       "      <td id=\"T_88a98_row5_col6\" class=\"data row5 col6\" >-35.220824</td>\n",
       "      <td id=\"T_88a98_row5_col7\" class=\"data row5 col7\" >12</td>\n",
       "      <td id=\"T_88a98_row5_col8\" class=\"data row5 col8\" >0.000000</td>\n",
       "      <td id=\"T_88a98_row5_col9\" class=\"data row5 col9\" > </td>\n",
       "      <td id=\"T_88a98_row5_col10\" class=\"data row5 col10\" >2.606089</td>\n",
       "      <td id=\"T_88a98_row5_col11\" class=\"data row5 col11\" >2.400486</td>\n",
       "      <td id=\"T_88a98_row5_col12\" class=\"data row5 col12\" >2.400486</td>\n",
       "    </tr>\n",
       "    <tr>\n",
       "      <th id=\"T_88a98_level0_row6\" class=\"row_heading level0 row6\" >6</th>\n",
       "      <td id=\"T_88a98_row6_col0\" class=\"data row6 col0\" >-5.819944</td>\n",
       "      <td id=\"T_88a98_row6_col1\" class=\"data row6 col1\" >-35.220823</td>\n",
       "      <td id=\"T_88a98_row6_col2\" class=\"data row6 col2\" >15</td>\n",
       "      <td id=\"T_88a98_row6_col3\" class=\"data row6 col3\" >0.833333</td>\n",
       "      <td id=\"T_88a98_row6_col4\" class=\"data row6 col4\" >→</td>\n",
       "      <td id=\"T_88a98_row6_col5\" class=\"data row6 col5\" >-5.819944</td>\n",
       "      <td id=\"T_88a98_row6_col6\" class=\"data row6 col6\" >-35.220823</td>\n",
       "      <td id=\"T_88a98_row6_col7\" class=\"data row6 col7\" >15</td>\n",
       "      <td id=\"T_88a98_row6_col8\" class=\"data row6 col8\" >0.000000</td>\n",
       "      <td id=\"T_88a98_row6_col9\" class=\"data row6 col9\" > </td>\n",
       "      <td id=\"T_88a98_row6_col10\" class=\"data row6 col10\" >3.070012</td>\n",
       "      <td id=\"T_88a98_row6_col11\" class=\"data row6 col11\" >2.148721</td>\n",
       "      <td id=\"T_88a98_row6_col12\" class=\"data row6 col12\" >2.153532</td>\n",
       "    </tr>\n",
       "    <tr>\n",
       "      <th id=\"T_88a98_level0_row7\" class=\"row_heading level0 row7\" >7</th>\n",
       "      <td id=\"T_88a98_row7_col0\" class=\"data row7 col0\" >-5.819908</td>\n",
       "      <td id=\"T_88a98_row7_col1\" class=\"data row7 col1\" >-35.220810</td>\n",
       "      <td id=\"T_88a98_row7_col2\" class=\"data row7 col2\" >18</td>\n",
       "      <td id=\"T_88a98_row7_col3\" class=\"data row7 col3\" >0.833333</td>\n",
       "      <td id=\"T_88a98_row7_col4\" class=\"data row7 col4\" >→</td>\n",
       "      <td id=\"T_88a98_row7_col5\" class=\"data row7 col5\" >-5.819908</td>\n",
       "      <td id=\"T_88a98_row7_col6\" class=\"data row7 col6\" >-35.220810</td>\n",
       "      <td id=\"T_88a98_row7_col7\" class=\"data row7 col7\" >18</td>\n",
       "      <td id=\"T_88a98_row7_col8\" class=\"data row7 col8\" >0.000000</td>\n",
       "      <td id=\"T_88a98_row7_col9\" class=\"data row7 col9\" > </td>\n",
       "      <td id=\"T_88a98_row7_col10\" class=\"data row7 col10\" >2.445747</td>\n",
       "      <td id=\"T_88a98_row7_col11\" class=\"data row7 col11\" >1.470940</td>\n",
       "      <td id=\"T_88a98_row7_col12\" class=\"data row7 col12\" >1.470561</td>\n",
       "    </tr>\n",
       "    <tr>\n",
       "      <th id=\"T_88a98_level0_row8\" class=\"row_heading level0 row8\" >8</th>\n",
       "      <td id=\"T_88a98_row8_col0\" class=\"data row8 col0\" >-5.819866</td>\n",
       "      <td id=\"T_88a98_row8_col1\" class=\"data row8 col1\" >-35.220794</td>\n",
       "      <td id=\"T_88a98_row8_col2\" class=\"data row8 col2\" >18</td>\n",
       "      <td id=\"T_88a98_row8_col3\" class=\"data row8 col3\" >0.000000</td>\n",
       "      <td id=\"T_88a98_row8_col4\" class=\"data row8 col4\" >→</td>\n",
       "      <td id=\"T_88a98_row8_col5\" class=\"data row8 col5\" >-5.819866</td>\n",
       "      <td id=\"T_88a98_row8_col6\" class=\"data row8 col6\" >-35.220794</td>\n",
       "      <td id=\"T_88a98_row8_col7\" class=\"data row8 col7\" >18</td>\n",
       "      <td id=\"T_88a98_row8_col8\" class=\"data row8 col8\" >0.000000</td>\n",
       "      <td id=\"T_88a98_row8_col9\" class=\"data row8 col9\" > </td>\n",
       "      <td id=\"T_88a98_row8_col10\" class=\"data row8 col10\" >1.073221</td>\n",
       "      <td id=\"T_88a98_row8_col11\" class=\"data row8 col11\" >1.588029</td>\n",
       "      <td id=\"T_88a98_row8_col12\" class=\"data row8 col12\" >1.588029</td>\n",
       "    </tr>\n",
       "    <tr>\n",
       "      <th id=\"T_88a98_level0_row9\" class=\"row_heading level0 row9\" >9</th>\n",
       "      <td id=\"T_88a98_row9_col0\" class=\"data row9 col0\" >-5.819821</td>\n",
       "      <td id=\"T_88a98_row9_col1\" class=\"data row9 col1\" >-35.220775</td>\n",
       "      <td id=\"T_88a98_row9_col2\" class=\"data row9 col2\" >16</td>\n",
       "      <td id=\"T_88a98_row9_col3\" class=\"data row9 col3\" >-0.555556</td>\n",
       "      <td id=\"T_88a98_row9_col4\" class=\"data row9 col4\" >→</td>\n",
       "      <td id=\"T_88a98_row9_col5\" class=\"data row9 col5\" >-5.819821</td>\n",
       "      <td id=\"T_88a98_row9_col6\" class=\"data row9 col6\" >-35.220775</td>\n",
       "      <td id=\"T_88a98_row9_col7\" class=\"data row9 col7\" >16</td>\n",
       "      <td id=\"T_88a98_row9_col8\" class=\"data row9 col8\" >0.000000</td>\n",
       "      <td id=\"T_88a98_row9_col9\" class=\"data row9 col9\" > </td>\n",
       "      <td id=\"T_88a98_row9_col10\" class=\"data row9 col10\" >0.562265</td>\n",
       "      <td id=\"T_88a98_row9_col11\" class=\"data row9 col11\" >1.085921</td>\n",
       "      <td id=\"T_88a98_row9_col12\" class=\"data row9 col12\" >1.629457</td>\n",
       "    </tr>\n",
       "  </tbody>\n",
       "</table>\n"
      ],
      "text/plain": [
       "<pandas.io.formats.style.Styler at 0x16975390590>"
      ]
     },
     "metadata": {},
     "output_type": "display_data"
    },
    {
     "data": {
      "application/vnd.plotly.v1+json": {
       "config": {
        "plotlyServerURL": "https://plot.ly"
       },
       "data": [
        {
         "line": {
          "color": "gray",
          "dash": "dot"
         },
         "mode": "lines",
         "name": "Real",
         "type": "scatter",
         "y": {
          "bdata": "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",
          "dtype": "f8"
         }
        },
        {
         "line": {
          "color": "blue",
          "dash": "dash"
         },
         "mode": "lines",
         "name": "Predição Original",
         "type": "scatter",
         "y": {
          "bdata": "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",
          "dtype": "f8"
         }
        },
        {
         "line": {
          "color": "red"
         },
         "mode": "lines",
         "name": "Predição com RM",
         "type": "scatter",
         "y": {
          "bdata": "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",
          "dtype": "f8"
         }
        }
       ],
       "layout": {
        "template": {
         "data": {
          "bar": [
           {
            "error_x": {
             "color": "#2a3f5f"
            },
            "error_y": {
             "color": "#2a3f5f"
            },
            "marker": {
             "line": {
              "color": "white",
              "width": 0.5
             },
             "pattern": {
              "fillmode": "overlay",
              "size": 10,
              "solidity": 0.2
             }
            },
            "type": "bar"
           }
          ],
          "barpolar": [
           {
            "marker": {
             "line": {
              "color": "white",
              "width": 0.5
             },
             "pattern": {
              "fillmode": "overlay",
              "size": 10,
              "solidity": 0.2
             }
            },
            "type": "barpolar"
           }
          ],
          "carpet": [
           {
            "aaxis": {
             "endlinecolor": "#2a3f5f",
             "gridcolor": "#C8D4E3",
             "linecolor": "#C8D4E3",
             "minorgridcolor": "#C8D4E3",
             "startlinecolor": "#2a3f5f"
            },
            "baxis": {
             "endlinecolor": "#2a3f5f",
             "gridcolor": "#C8D4E3",
             "linecolor": "#C8D4E3",
             "minorgridcolor": "#C8D4E3",
             "startlinecolor": "#2a3f5f"
            },
            "type": "carpet"
           }
          ],
          "choropleth": [
           {
            "colorbar": {
             "outlinewidth": 0,
             "ticks": ""
            },
            "type": "choropleth"
           }
          ],
          "contour": [
           {
            "colorbar": {
             "outlinewidth": 0,
             "ticks": ""
            },
            "colorscale": [
             [
              0,
              "#0d0887"
             ],
             [
              0.1111111111111111,
              "#46039f"
             ],
             [
              0.2222222222222222,
              "#7201a8"
             ],
             [
              0.3333333333333333,
              "#9c179e"
             ],
             [
              0.4444444444444444,
              "#bd3786"
             ],
             [
              0.5555555555555556,
              "#d8576b"
             ],
             [
              0.6666666666666666,
              "#ed7953"
             ],
             [
              0.7777777777777778,
              "#fb9f3a"
             ],
             [
              0.8888888888888888,
              "#fdca26"
             ],
             [
              1,
              "#f0f921"
             ]
            ],
            "type": "contour"
           }
          ],
          "contourcarpet": [
           {
            "colorbar": {
             "outlinewidth": 0,
             "ticks": ""
            },
            "type": "contourcarpet"
           }
          ],
          "heatmap": [
           {
            "colorbar": {
             "outlinewidth": 0,
             "ticks": ""
            },
            "colorscale": [
             [
              0,
              "#0d0887"
             ],
             [
              0.1111111111111111,
              "#46039f"
             ],
             [
              0.2222222222222222,
              "#7201a8"
             ],
             [
              0.3333333333333333,
              "#9c179e"
             ],
             [
              0.4444444444444444,
              "#bd3786"
             ],
             [
              0.5555555555555556,
              "#d8576b"
             ],
             [
              0.6666666666666666,
              "#ed7953"
             ],
             [
              0.7777777777777778,
              "#fb9f3a"
             ],
             [
              0.8888888888888888,
              "#fdca26"
             ],
             [
              1,
              "#f0f921"
             ]
            ],
            "type": "heatmap"
           }
          ],
          "histogram": [
           {
            "marker": {
             "pattern": {
              "fillmode": "overlay",
              "size": 10,
              "solidity": 0.2
             }
            },
            "type": "histogram"
           }
          ],
          "histogram2d": [
           {
            "colorbar": {
             "outlinewidth": 0,
             "ticks": ""
            },
            "colorscale": [
             [
              0,
              "#0d0887"
             ],
             [
              0.1111111111111111,
              "#46039f"
             ],
             [
              0.2222222222222222,
              "#7201a8"
             ],
             [
              0.3333333333333333,
              "#9c179e"
             ],
             [
              0.4444444444444444,
              "#bd3786"
             ],
             [
              0.5555555555555556,
              "#d8576b"
             ],
             [
              0.6666666666666666,
              "#ed7953"
             ],
             [
              0.7777777777777778,
              "#fb9f3a"
             ],
             [
              0.8888888888888888,
              "#fdca26"
             ],
             [
              1,
              "#f0f921"
             ]
            ],
            "type": "histogram2d"
           }
          ],
          "histogram2dcontour": [
           {
            "colorbar": {
             "outlinewidth": 0,
             "ticks": ""
            },
            "colorscale": [
             [
              0,
              "#0d0887"
             ],
             [
              0.1111111111111111,
              "#46039f"
             ],
             [
              0.2222222222222222,
              "#7201a8"
             ],
             [
              0.3333333333333333,
              "#9c179e"
             ],
             [
              0.4444444444444444,
              "#bd3786"
             ],
             [
              0.5555555555555556,
              "#d8576b"
             ],
             [
              0.6666666666666666,
              "#ed7953"
             ],
             [
              0.7777777777777778,
              "#fb9f3a"
             ],
             [
              0.8888888888888888,
              "#fdca26"
             ],
             [
              1,
              "#f0f921"
             ]
            ],
            "type": "histogram2dcontour"
           }
          ],
          "mesh3d": [
           {
            "colorbar": {
             "outlinewidth": 0,
             "ticks": ""
            },
            "type": "mesh3d"
           }
          ],
          "parcoords": [
           {
            "line": {
             "colorbar": {
              "outlinewidth": 0,
              "ticks": ""
             }
            },
            "type": "parcoords"
           }
          ],
          "pie": [
           {
            "automargin": true,
            "type": "pie"
           }
          ],
          "scatter": [
           {
            "fillpattern": {
             "fillmode": "overlay",
             "size": 10,
             "solidity": 0.2
            },
            "type": "scatter"
           }
          ],
          "scatter3d": [
           {
            "line": {
             "colorbar": {
              "outlinewidth": 0,
              "ticks": ""
             }
            },
            "marker": {
             "colorbar": {
              "outlinewidth": 0,
              "ticks": ""
             }
            },
            "type": "scatter3d"
           }
          ],
          "scattercarpet": [
           {
            "marker": {
             "colorbar": {
              "outlinewidth": 0,
              "ticks": ""
             }
            },
            "type": "scattercarpet"
           }
          ],
          "scattergeo": [
           {
            "marker": {
             "colorbar": {
              "outlinewidth": 0,
              "ticks": ""
             }
            },
            "type": "scattergeo"
           }
          ],
          "scattergl": [
           {
            "marker": {
             "colorbar": {
              "outlinewidth": 0,
              "ticks": ""
             }
            },
            "type": "scattergl"
           }
          ],
          "scattermap": [
           {
            "marker": {
             "colorbar": {
              "outlinewidth": 0,
              "ticks": ""
             }
            },
            "type": "scattermap"
           }
          ],
          "scattermapbox": [
           {
            "marker": {
             "colorbar": {
              "outlinewidth": 0,
              "ticks": ""
             }
            },
            "type": "scattermapbox"
           }
          ],
          "scatterpolar": [
           {
            "marker": {
             "colorbar": {
              "outlinewidth": 0,
              "ticks": ""
             }
            },
            "type": "scatterpolar"
           }
          ],
          "scatterpolargl": [
           {
            "marker": {
             "colorbar": {
              "outlinewidth": 0,
              "ticks": ""
             }
            },
            "type": "scatterpolargl"
           }
          ],
          "scatterternary": [
           {
            "marker": {
             "colorbar": {
              "outlinewidth": 0,
              "ticks": ""
             }
            },
            "type": "scatterternary"
           }
          ],
          "surface": [
           {
            "colorbar": {
             "outlinewidth": 0,
             "ticks": ""
            },
            "colorscale": [
             [
              0,
              "#0d0887"
             ],
             [
              0.1111111111111111,
              "#46039f"
             ],
             [
              0.2222222222222222,
              "#7201a8"
             ],
             [
              0.3333333333333333,
              "#9c179e"
             ],
             [
              0.4444444444444444,
              "#bd3786"
             ],
             [
              0.5555555555555556,
              "#d8576b"
             ],
             [
              0.6666666666666666,
              "#ed7953"
             ],
             [
              0.7777777777777778,
              "#fb9f3a"
             ],
             [
              0.8888888888888888,
              "#fdca26"
             ],
             [
              1,
              "#f0f921"
             ]
            ],
            "type": "surface"
           }
          ],
          "table": [
           {
            "cells": {
             "fill": {
              "color": "#EBF0F8"
             },
             "line": {
              "color": "white"
             }
            },
            "header": {
             "fill": {
              "color": "#C8D4E3"
             },
             "line": {
              "color": "white"
             }
            },
            "type": "table"
           }
          ]
         },
         "layout": {
          "annotationdefaults": {
           "arrowcolor": "#2a3f5f",
           "arrowhead": 0,
           "arrowwidth": 1
          },
          "autotypenumbers": "strict",
          "coloraxis": {
           "colorbar": {
            "outlinewidth": 0,
            "ticks": ""
           }
          },
          "colorscale": {
           "diverging": [
            [
             0,
             "#8e0152"
            ],
            [
             0.1,
             "#c51b7d"
            ],
            [
             0.2,
             "#de77ae"
            ],
            [
             0.3,
             "#f1b6da"
            ],
            [
             0.4,
             "#fde0ef"
            ],
            [
             0.5,
             "#f7f7f7"
            ],
            [
             0.6,
             "#e6f5d0"
            ],
            [
             0.7,
             "#b8e186"
            ],
            [
             0.8,
             "#7fbc41"
            ],
            [
             0.9,
             "#4d9221"
            ],
            [
             1,
             "#276419"
            ]
           ],
           "sequential": [
            [
             0,
             "#0d0887"
            ],
            [
             0.1111111111111111,
             "#46039f"
            ],
            [
             0.2222222222222222,
             "#7201a8"
            ],
            [
             0.3333333333333333,
             "#9c179e"
            ],
            [
             0.4444444444444444,
             "#bd3786"
            ],
            [
             0.5555555555555556,
             "#d8576b"
            ],
            [
             0.6666666666666666,
             "#ed7953"
            ],
            [
             0.7777777777777778,
             "#fb9f3a"
            ],
            [
             0.8888888888888888,
             "#fdca26"
            ],
            [
             1,
             "#f0f921"
            ]
           ],
           "sequentialminus": [
            [
             0,
             "#0d0887"
            ],
            [
             0.1111111111111111,
             "#46039f"
            ],
            [
             0.2222222222222222,
             "#7201a8"
            ],
            [
             0.3333333333333333,
             "#9c179e"
            ],
            [
             0.4444444444444444,
             "#bd3786"
            ],
            [
             0.5555555555555556,
             "#d8576b"
            ],
            [
             0.6666666666666666,
             "#ed7953"
            ],
            [
             0.7777777777777778,
             "#fb9f3a"
            ],
            [
             0.8888888888888888,
             "#fdca26"
            ],
            [
             1,
             "#f0f921"
            ]
           ]
          },
          "colorway": [
           "#636efa",
           "#EF553B",
           "#00cc96",
           "#ab63fa",
           "#FFA15A",
           "#19d3f3",
           "#FF6692",
           "#B6E880",
           "#FF97FF",
           "#FECB52"
          ],
          "font": {
           "color": "#2a3f5f"
          },
          "geo": {
           "bgcolor": "white",
           "lakecolor": "white",
           "landcolor": "white",
           "showlakes": true,
           "showland": true,
           "subunitcolor": "#C8D4E3"
          },
          "hoverlabel": {
           "align": "left"
          },
          "hovermode": "closest",
          "mapbox": {
           "style": "light"
          },
          "paper_bgcolor": "white",
          "plot_bgcolor": "white",
          "polar": {
           "angularaxis": {
            "gridcolor": "#EBF0F8",
            "linecolor": "#EBF0F8",
            "ticks": ""
           },
           "bgcolor": "white",
           "radialaxis": {
            "gridcolor": "#EBF0F8",
            "linecolor": "#EBF0F8",
            "ticks": ""
           }
          },
          "scene": {
           "xaxis": {
            "backgroundcolor": "white",
            "gridcolor": "#DFE8F3",
            "gridwidth": 2,
            "linecolor": "#EBF0F8",
            "showbackground": true,
            "ticks": "",
            "zerolinecolor": "#EBF0F8"
           },
           "yaxis": {
            "backgroundcolor": "white",
            "gridcolor": "#DFE8F3",
            "gridwidth": 2,
            "linecolor": "#EBF0F8",
            "showbackground": true,
            "ticks": "",
            "zerolinecolor": "#EBF0F8"
           },
           "zaxis": {
            "backgroundcolor": "white",
            "gridcolor": "#DFE8F3",
            "gridwidth": 2,
            "linecolor": "#EBF0F8",
            "showbackground": true,
            "ticks": "",
            "zerolinecolor": "#EBF0F8"
           }
          },
          "shapedefaults": {
           "line": {
            "color": "#2a3f5f"
           }
          },
          "ternary": {
           "aaxis": {
            "gridcolor": "#DFE8F3",
            "linecolor": "#A2B1C6",
            "ticks": ""
           },
           "baxis": {
            "gridcolor": "#DFE8F3",
            "linecolor": "#A2B1C6",
            "ticks": ""
           },
           "bgcolor": "white",
           "caxis": {
            "gridcolor": "#DFE8F3",
            "linecolor": "#A2B1C6",
            "ticks": ""
           }
          },
          "title": {
           "x": 0.05
          },
          "xaxis": {
           "automargin": true,
           "gridcolor": "#EBF0F8",
           "linecolor": "#EBF0F8",
           "ticks": "",
           "title": {
            "standoff": 15
           },
           "zerolinecolor": "#EBF0F8",
           "zerolinewidth": 2
          },
          "yaxis": {
           "automargin": true,
           "gridcolor": "#EBF0F8",
           "linecolor": "#EBF0F8",
           "ticks": "",
           "title": {
            "standoff": 15
           },
           "zerolinecolor": "#EBF0F8",
           "zerolinewidth": 2
          }
         }
        },
        "title": {
         "text": "Comparação Saída Variável E (200 Amostras) - CT_N1_003: [Exclusiva] - Zerar Variável B - GASOLINE",
         "x": 0.5
        },
        "xaxis": {
         "title": {
          "text": "Amostras"
         }
        },
        "yaxis": {
         "title": {
          "text": "Variável E"
         }
        }
       }
      }
     },
     "metadata": {},
     "output_type": "display_data"
    },
    {
     "name": "stdout",
     "output_type": "stream",
     "text": [
      "\n",
      "================================================================================\n",
      "🔁 CT_N1_004: [Exclusiva] - Zerar Variável C (ETHANOL)\n",
      "--------------------------------------------------------------------------------\n",
      "Diferença Média: 0.2759 | Diferença Máxima: 2.0479 | RMSE: 0.3941 | Desvio Padrão (Std): 0.2815\n"
     ]
    },
    {
     "data": {
      "text/html": [
       "<style type=\"text/css\">\n",
       "</style>\n",
       "<table id=\"T_70682\">\n",
       "  <caption>Comparação dos dados - CT_N1_004: [Exclusiva] - Zerar Variável C (ETHANOL)</caption>\n",
       "  <thead>\n",
       "    <tr>\n",
       "      <th class=\"blank level0\" >&nbsp;</th>\n",
       "      <th id=\"T_70682_level0_col0\" class=\"col_heading level0 col0\" >Latitude_Orig</th>\n",
       "      <th id=\"T_70682_level0_col1\" class=\"col_heading level0 col1\" >Longitude_Orig</th>\n",
       "      <th id=\"T_70682_level0_col2\" class=\"col_heading level0 col2\" >Speed(OBD)(km/h)_Orig</th>\n",
       "      <th id=\"T_70682_level0_col3\" class=\"col_heading level0 col3\" >Acceleration_Orig</th>\n",
       "      <th id=\"T_70682_level0_col4\" class=\"col_heading level0 col4\" > </th>\n",
       "      <th id=\"T_70682_level0_col5\" class=\"col_heading level0 col5\" >Latitude_Mod</th>\n",
       "      <th id=\"T_70682_level0_col6\" class=\"col_heading level0 col6\" >Longitude_Mod</th>\n",
       "      <th id=\"T_70682_level0_col7\" class=\"col_heading level0 col7\" >Speed(OBD)(km/h)_Mod</th>\n",
       "      <th id=\"T_70682_level0_col8\" class=\"col_heading level0 col8\" >Acceleration_Mod</th>\n",
       "      <th id=\"T_70682_level0_col9\" class=\"col_heading level0 col9\" > </th>\n",
       "      <th id=\"T_70682_level0_col10\" class=\"col_heading level0 col10\" >CO₂_Real</th>\n",
       "      <th id=\"T_70682_level0_col11\" class=\"col_heading level0 col11\" >CO₂_Pred_Orig</th>\n",
       "      <th id=\"T_70682_level0_col12\" class=\"col_heading level0 col12\" >CO₂_Pred_Mod</th>\n",
       "    </tr>\n",
       "  </thead>\n",
       "  <tbody>\n",
       "    <tr>\n",
       "      <th id=\"T_70682_level0_row0\" class=\"row_heading level0 row0\" >0</th>\n",
       "      <td id=\"T_70682_row0_col0\" class=\"data row0 col0\" >-5.820105</td>\n",
       "      <td id=\"T_70682_row0_col1\" class=\"data row0 col1\" >-35.220818</td>\n",
       "      <td id=\"T_70682_row0_col2\" class=\"data row0 col2\" >3</td>\n",
       "      <td id=\"T_70682_row0_col3\" class=\"data row0 col3\" >0.000000</td>\n",
       "      <td id=\"T_70682_row0_col4\" class=\"data row0 col4\" >→</td>\n",
       "      <td id=\"T_70682_row0_col5\" class=\"data row0 col5\" >0.000000</td>\n",
       "      <td id=\"T_70682_row0_col6\" class=\"data row0 col6\" >-35.220818</td>\n",
       "      <td id=\"T_70682_row0_col7\" class=\"data row0 col7\" >3</td>\n",
       "      <td id=\"T_70682_row0_col8\" class=\"data row0 col8\" >0.000000</td>\n",
       "      <td id=\"T_70682_row0_col9\" class=\"data row0 col9\" > </td>\n",
       "      <td id=\"T_70682_row0_col10\" class=\"data row0 col10\" >0.642839</td>\n",
       "      <td id=\"T_70682_row0_col11\" class=\"data row0 col11\" >0.742631</td>\n",
       "      <td id=\"T_70682_row0_col12\" class=\"data row0 col12\" >1.226271</td>\n",
       "    </tr>\n",
       "    <tr>\n",
       "      <th id=\"T_70682_level0_row1\" class=\"row_heading level0 row1\" >1</th>\n",
       "      <td id=\"T_70682_row1_col0\" class=\"data row1 col0\" >-5.820103</td>\n",
       "      <td id=\"T_70682_row1_col1\" class=\"data row1 col1\" >-35.220828</td>\n",
       "      <td id=\"T_70682_row1_col2\" class=\"data row1 col2\" >5</td>\n",
       "      <td id=\"T_70682_row1_col3\" class=\"data row1 col3\" >0.555556</td>\n",
       "      <td id=\"T_70682_row1_col4\" class=\"data row1 col4\" >→</td>\n",
       "      <td id=\"T_70682_row1_col5\" class=\"data row1 col5\" >0.000000</td>\n",
       "      <td id=\"T_70682_row1_col6\" class=\"data row1 col6\" >-35.220828</td>\n",
       "      <td id=\"T_70682_row1_col7\" class=\"data row1 col7\" >5</td>\n",
       "      <td id=\"T_70682_row1_col8\" class=\"data row1 col8\" >0.555556</td>\n",
       "      <td id=\"T_70682_row1_col9\" class=\"data row1 col9\" > </td>\n",
       "      <td id=\"T_70682_row1_col10\" class=\"data row1 col10\" >0.653249</td>\n",
       "      <td id=\"T_70682_row1_col11\" class=\"data row1 col11\" >0.771505</td>\n",
       "      <td id=\"T_70682_row1_col12\" class=\"data row1 col12\" >1.419770</td>\n",
       "    </tr>\n",
       "    <tr>\n",
       "      <th id=\"T_70682_level0_row2\" class=\"row_heading level0 row2\" >2</th>\n",
       "      <td id=\"T_70682_row2_col0\" class=\"data row2 col0\" >-5.820102</td>\n",
       "      <td id=\"T_70682_row2_col1\" class=\"data row2 col1\" >-35.220838</td>\n",
       "      <td id=\"T_70682_row2_col2\" class=\"data row2 col2\" >5</td>\n",
       "      <td id=\"T_70682_row2_col3\" class=\"data row2 col3\" >0.000000</td>\n",
       "      <td id=\"T_70682_row2_col4\" class=\"data row2 col4\" >→</td>\n",
       "      <td id=\"T_70682_row2_col5\" class=\"data row2 col5\" >0.000000</td>\n",
       "      <td id=\"T_70682_row2_col6\" class=\"data row2 col6\" >-35.220838</td>\n",
       "      <td id=\"T_70682_row2_col7\" class=\"data row2 col7\" >5</td>\n",
       "      <td id=\"T_70682_row2_col8\" class=\"data row2 col8\" >0.000000</td>\n",
       "      <td id=\"T_70682_row2_col9\" class=\"data row2 col9\" > </td>\n",
       "      <td id=\"T_70682_row2_col10\" class=\"data row2 col10\" >0.653249</td>\n",
       "      <td id=\"T_70682_row2_col11\" class=\"data row2 col11\" >0.771505</td>\n",
       "      <td id=\"T_70682_row2_col12\" class=\"data row2 col12\" >1.419770</td>\n",
       "    </tr>\n",
       "    <tr>\n",
       "      <th id=\"T_70682_level0_row3\" class=\"row_heading level0 row3\" >3</th>\n",
       "      <td id=\"T_70682_row3_col0\" class=\"data row3 col0\" >-5.820096</td>\n",
       "      <td id=\"T_70682_row3_col1\" class=\"data row3 col1\" >-35.220843</td>\n",
       "      <td id=\"T_70682_row3_col2\" class=\"data row3 col2\" >3</td>\n",
       "      <td id=\"T_70682_row3_col3\" class=\"data row3 col3\" >-0.555556</td>\n",
       "      <td id=\"T_70682_row3_col4\" class=\"data row3 col4\" >→</td>\n",
       "      <td id=\"T_70682_row3_col5\" class=\"data row3 col5\" >0.000000</td>\n",
       "      <td id=\"T_70682_row3_col6\" class=\"data row3 col6\" >-35.220843</td>\n",
       "      <td id=\"T_70682_row3_col7\" class=\"data row3 col7\" >3</td>\n",
       "      <td id=\"T_70682_row3_col8\" class=\"data row3 col8\" >-0.555556</td>\n",
       "      <td id=\"T_70682_row3_col9\" class=\"data row3 col9\" > </td>\n",
       "      <td id=\"T_70682_row3_col10\" class=\"data row3 col10\" >0.679275</td>\n",
       "      <td id=\"T_70682_row3_col11\" class=\"data row3 col11\" >0.659013</td>\n",
       "      <td id=\"T_70682_row3_col12\" class=\"data row3 col12\" >0.920825</td>\n",
       "    </tr>\n",
       "    <tr>\n",
       "      <th id=\"T_70682_level0_row4\" class=\"row_heading level0 row4\" >4</th>\n",
       "      <td id=\"T_70682_row4_col0\" class=\"data row4 col0\" >-5.820091</td>\n",
       "      <td id=\"T_70682_row4_col1\" class=\"data row4 col1\" >-35.220850</td>\n",
       "      <td id=\"T_70682_row4_col2\" class=\"data row4 col2\" >0</td>\n",
       "      <td id=\"T_70682_row4_col3\" class=\"data row4 col3\" >-0.833333</td>\n",
       "      <td id=\"T_70682_row4_col4\" class=\"data row4 col4\" >→</td>\n",
       "      <td id=\"T_70682_row4_col5\" class=\"data row4 col5\" >0.000000</td>\n",
       "      <td id=\"T_70682_row4_col6\" class=\"data row4 col6\" >-35.220850</td>\n",
       "      <td id=\"T_70682_row4_col7\" class=\"data row4 col7\" >0</td>\n",
       "      <td id=\"T_70682_row4_col8\" class=\"data row4 col8\" >-0.833333</td>\n",
       "      <td id=\"T_70682_row4_col9\" class=\"data row4 col9\" > </td>\n",
       "      <td id=\"T_70682_row4_col10\" class=\"data row4 col10\" >0.610306</td>\n",
       "      <td id=\"T_70682_row4_col11\" class=\"data row4 col11\" >0.667689</td>\n",
       "      <td id=\"T_70682_row4_col12\" class=\"data row4 col12\" >1.173900</td>\n",
       "    </tr>\n",
       "    <tr>\n",
       "      <th id=\"T_70682_level0_row5\" class=\"row_heading level0 row5\" >5</th>\n",
       "      <td id=\"T_70682_row5_col0\" class=\"data row5 col0\" >-5.820091</td>\n",
       "      <td id=\"T_70682_row5_col1\" class=\"data row5 col1\" >-35.220850</td>\n",
       "      <td id=\"T_70682_row5_col2\" class=\"data row5 col2\" >0</td>\n",
       "      <td id=\"T_70682_row5_col3\" class=\"data row5 col3\" >0.000000</td>\n",
       "      <td id=\"T_70682_row5_col4\" class=\"data row5 col4\" >→</td>\n",
       "      <td id=\"T_70682_row5_col5\" class=\"data row5 col5\" >0.000000</td>\n",
       "      <td id=\"T_70682_row5_col6\" class=\"data row5 col6\" >-35.220850</td>\n",
       "      <td id=\"T_70682_row5_col7\" class=\"data row5 col7\" >0</td>\n",
       "      <td id=\"T_70682_row5_col8\" class=\"data row5 col8\" >0.000000</td>\n",
       "      <td id=\"T_70682_row5_col9\" class=\"data row5 col9\" > </td>\n",
       "      <td id=\"T_70682_row5_col10\" class=\"data row5 col10\" >0.610306</td>\n",
       "      <td id=\"T_70682_row5_col11\" class=\"data row5 col11\" >0.706858</td>\n",
       "      <td id=\"T_70682_row5_col12\" class=\"data row5 col12\" >1.261486</td>\n",
       "    </tr>\n",
       "    <tr>\n",
       "      <th id=\"T_70682_level0_row6\" class=\"row_heading level0 row6\" >6</th>\n",
       "      <td id=\"T_70682_row6_col0\" class=\"data row6 col0\" >-5.820091</td>\n",
       "      <td id=\"T_70682_row6_col1\" class=\"data row6 col1\" >-35.220850</td>\n",
       "      <td id=\"T_70682_row6_col2\" class=\"data row6 col2\" >0</td>\n",
       "      <td id=\"T_70682_row6_col3\" class=\"data row6 col3\" >0.000000</td>\n",
       "      <td id=\"T_70682_row6_col4\" class=\"data row6 col4\" >→</td>\n",
       "      <td id=\"T_70682_row6_col5\" class=\"data row6 col5\" >0.000000</td>\n",
       "      <td id=\"T_70682_row6_col6\" class=\"data row6 col6\" >-35.220850</td>\n",
       "      <td id=\"T_70682_row6_col7\" class=\"data row6 col7\" >0</td>\n",
       "      <td id=\"T_70682_row6_col8\" class=\"data row6 col8\" >0.000000</td>\n",
       "      <td id=\"T_70682_row6_col9\" class=\"data row6 col9\" > </td>\n",
       "      <td id=\"T_70682_row6_col10\" class=\"data row6 col10\" >0.490587</td>\n",
       "      <td id=\"T_70682_row6_col11\" class=\"data row6 col11\" >0.706858</td>\n",
       "      <td id=\"T_70682_row6_col12\" class=\"data row6 col12\" >1.261486</td>\n",
       "    </tr>\n",
       "    <tr>\n",
       "      <th id=\"T_70682_level0_row7\" class=\"row_heading level0 row7\" >7</th>\n",
       "      <td id=\"T_70682_row7_col0\" class=\"data row7 col0\" >-5.820085</td>\n",
       "      <td id=\"T_70682_row7_col1\" class=\"data row7 col1\" >-35.220856</td>\n",
       "      <td id=\"T_70682_row7_col2\" class=\"data row7 col2\" >3</td>\n",
       "      <td id=\"T_70682_row7_col3\" class=\"data row7 col3\" >0.833333</td>\n",
       "      <td id=\"T_70682_row7_col4\" class=\"data row7 col4\" >→</td>\n",
       "      <td id=\"T_70682_row7_col5\" class=\"data row7 col5\" >0.000000</td>\n",
       "      <td id=\"T_70682_row7_col6\" class=\"data row7 col6\" >-35.220856</td>\n",
       "      <td id=\"T_70682_row7_col7\" class=\"data row7 col7\" >3</td>\n",
       "      <td id=\"T_70682_row7_col8\" class=\"data row7 col8\" >0.833333</td>\n",
       "      <td id=\"T_70682_row7_col9\" class=\"data row7 col9\" > </td>\n",
       "      <td id=\"T_70682_row7_col10\" class=\"data row7 col10\" >1.090483</td>\n",
       "      <td id=\"T_70682_row7_col11\" class=\"data row7 col11\" >1.137803</td>\n",
       "      <td id=\"T_70682_row7_col12\" class=\"data row7 col12\" >1.226271</td>\n",
       "    </tr>\n",
       "    <tr>\n",
       "      <th id=\"T_70682_level0_row8\" class=\"row_heading level0 row8\" >8</th>\n",
       "      <td id=\"T_70682_row8_col0\" class=\"data row8 col0\" >-5.820074</td>\n",
       "      <td id=\"T_70682_row8_col1\" class=\"data row8 col1\" >-35.220859</td>\n",
       "      <td id=\"T_70682_row8_col2\" class=\"data row8 col2\" >3</td>\n",
       "      <td id=\"T_70682_row8_col3\" class=\"data row8 col3\" >0.000000</td>\n",
       "      <td id=\"T_70682_row8_col4\" class=\"data row8 col4\" >→</td>\n",
       "      <td id=\"T_70682_row8_col5\" class=\"data row8 col5\" >0.000000</td>\n",
       "      <td id=\"T_70682_row8_col6\" class=\"data row8 col6\" >-35.220859</td>\n",
       "      <td id=\"T_70682_row8_col7\" class=\"data row8 col7\" >3</td>\n",
       "      <td id=\"T_70682_row8_col8\" class=\"data row8 col8\" >0.000000</td>\n",
       "      <td id=\"T_70682_row8_col9\" class=\"data row8 col9\" > </td>\n",
       "      <td id=\"T_70682_row8_col10\" class=\"data row8 col10\" >1.090483</td>\n",
       "      <td id=\"T_70682_row8_col11\" class=\"data row8 col11\" >1.137803</td>\n",
       "      <td id=\"T_70682_row8_col12\" class=\"data row8 col12\" >1.226271</td>\n",
       "    </tr>\n",
       "    <tr>\n",
       "      <th id=\"T_70682_level0_row9\" class=\"row_heading level0 row9\" >9</th>\n",
       "      <td id=\"T_70682_row9_col0\" class=\"data row9 col0\" >-5.820064</td>\n",
       "      <td id=\"T_70682_row9_col1\" class=\"data row9 col1\" >-35.220858</td>\n",
       "      <td id=\"T_70682_row9_col2\" class=\"data row9 col2\" >3</td>\n",
       "      <td id=\"T_70682_row9_col3\" class=\"data row9 col3\" >0.000000</td>\n",
       "      <td id=\"T_70682_row9_col4\" class=\"data row9 col4\" >→</td>\n",
       "      <td id=\"T_70682_row9_col5\" class=\"data row9 col5\" >0.000000</td>\n",
       "      <td id=\"T_70682_row9_col6\" class=\"data row9 col6\" >-35.220858</td>\n",
       "      <td id=\"T_70682_row9_col7\" class=\"data row9 col7\" >3</td>\n",
       "      <td id=\"T_70682_row9_col8\" class=\"data row9 col8\" >0.000000</td>\n",
       "      <td id=\"T_70682_row9_col9\" class=\"data row9 col9\" > </td>\n",
       "      <td id=\"T_70682_row9_col10\" class=\"data row9 col10\" >0.921315</td>\n",
       "      <td id=\"T_70682_row9_col11\" class=\"data row9 col11\" >1.137803</td>\n",
       "      <td id=\"T_70682_row9_col12\" class=\"data row9 col12\" >1.226271</td>\n",
       "    </tr>\n",
       "  </tbody>\n",
       "</table>\n"
      ],
      "text/plain": [
       "<pandas.io.formats.style.Styler at 0x16971fe2810>"
      ]
     },
     "metadata": {},
     "output_type": "display_data"
    },
    {
     "data": {
      "application/vnd.plotly.v1+json": {
       "config": {
        "plotlyServerURL": "https://plot.ly"
       },
       "data": [
        {
         "line": {
          "color": "gray",
          "dash": "dot"
         },
         "mode": "lines",
         "name": "Real",
         "type": "scatter",
         "y": {
          "bdata": "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",
          "dtype": "f8"
         }
        },
        {
         "line": {
          "color": "blue",
          "dash": "dash"
         },
         "mode": "lines",
         "name": "Predição Original",
         "type": "scatter",
         "y": {
          "bdata": "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",
          "dtype": "f8"
         }
        },
        {
         "line": {
          "color": "red"
         },
         "mode": "lines",
         "name": "Predição com RM",
         "type": "scatter",
         "y": {
          "bdata": "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",
          "dtype": "f8"
         }
        }
       ],
       "layout": {
        "template": {
         "data": {
          "bar": [
           {
            "error_x": {
             "color": "#2a3f5f"
            },
            "error_y": {
             "color": "#2a3f5f"
            },
            "marker": {
             "line": {
              "color": "white",
              "width": 0.5
             },
             "pattern": {
              "fillmode": "overlay",
              "size": 10,
              "solidity": 0.2
             }
            },
            "type": "bar"
           }
          ],
          "barpolar": [
           {
            "marker": {
             "line": {
              "color": "white",
              "width": 0.5
             },
             "pattern": {
              "fillmode": "overlay",
              "size": 10,
              "solidity": 0.2
             }
            },
            "type": "barpolar"
           }
          ],
          "carpet": [
           {
            "aaxis": {
             "endlinecolor": "#2a3f5f",
             "gridcolor": "#C8D4E3",
             "linecolor": "#C8D4E3",
             "minorgridcolor": "#C8D4E3",
             "startlinecolor": "#2a3f5f"
            },
            "baxis": {
             "endlinecolor": "#2a3f5f",
             "gridcolor": "#C8D4E3",
             "linecolor": "#C8D4E3",
             "minorgridcolor": "#C8D4E3",
             "startlinecolor": "#2a3f5f"
            },
            "type": "carpet"
           }
          ],
          "choropleth": [
           {
            "colorbar": {
             "outlinewidth": 0,
             "ticks": ""
            },
            "type": "choropleth"
           }
          ],
          "contour": [
           {
            "colorbar": {
             "outlinewidth": 0,
             "ticks": ""
            },
            "colorscale": [
             [
              0,
              "#0d0887"
             ],
             [
              0.1111111111111111,
              "#46039f"
             ],
             [
              0.2222222222222222,
              "#7201a8"
             ],
             [
              0.3333333333333333,
              "#9c179e"
             ],
             [
              0.4444444444444444,
              "#bd3786"
             ],
             [
              0.5555555555555556,
              "#d8576b"
             ],
             [
              0.6666666666666666,
              "#ed7953"
             ],
             [
              0.7777777777777778,
              "#fb9f3a"
             ],
             [
              0.8888888888888888,
              "#fdca26"
             ],
             [
              1,
              "#f0f921"
             ]
            ],
            "type": "contour"
           }
          ],
          "contourcarpet": [
           {
            "colorbar": {
             "outlinewidth": 0,
             "ticks": ""
            },
            "type": "contourcarpet"
           }
          ],
          "heatmap": [
           {
            "colorbar": {
             "outlinewidth": 0,
             "ticks": ""
            },
            "colorscale": [
             [
              0,
              "#0d0887"
             ],
             [
              0.1111111111111111,
              "#46039f"
             ],
             [
              0.2222222222222222,
              "#7201a8"
             ],
             [
              0.3333333333333333,
              "#9c179e"
             ],
             [
              0.4444444444444444,
              "#bd3786"
             ],
             [
              0.5555555555555556,
              "#d8576b"
             ],
             [
              0.6666666666666666,
              "#ed7953"
             ],
             [
              0.7777777777777778,
              "#fb9f3a"
             ],
             [
              0.8888888888888888,
              "#fdca26"
             ],
             [
              1,
              "#f0f921"
             ]
            ],
            "type": "heatmap"
           }
          ],
          "histogram": [
           {
            "marker": {
             "pattern": {
              "fillmode": "overlay",
              "size": 10,
              "solidity": 0.2
             }
            },
            "type": "histogram"
           }
          ],
          "histogram2d": [
           {
            "colorbar": {
             "outlinewidth": 0,
             "ticks": ""
            },
            "colorscale": [
             [
              0,
              "#0d0887"
             ],
             [
              0.1111111111111111,
              "#46039f"
             ],
             [
              0.2222222222222222,
              "#7201a8"
             ],
             [
              0.3333333333333333,
              "#9c179e"
             ],
             [
              0.4444444444444444,
              "#bd3786"
             ],
             [
              0.5555555555555556,
              "#d8576b"
             ],
             [
              0.6666666666666666,
              "#ed7953"
             ],
             [
              0.7777777777777778,
              "#fb9f3a"
             ],
             [
              0.8888888888888888,
              "#fdca26"
             ],
             [
              1,
              "#f0f921"
             ]
            ],
            "type": "histogram2d"
           }
          ],
          "histogram2dcontour": [
           {
            "colorbar": {
             "outlinewidth": 0,
             "ticks": ""
            },
            "colorscale": [
             [
              0,
              "#0d0887"
             ],
             [
              0.1111111111111111,
              "#46039f"
             ],
             [
              0.2222222222222222,
              "#7201a8"
             ],
             [
              0.3333333333333333,
              "#9c179e"
             ],
             [
              0.4444444444444444,
              "#bd3786"
             ],
             [
              0.5555555555555556,
              "#d8576b"
             ],
             [
              0.6666666666666666,
              "#ed7953"
             ],
             [
              0.7777777777777778,
              "#fb9f3a"
             ],
             [
              0.8888888888888888,
              "#fdca26"
             ],
             [
              1,
              "#f0f921"
             ]
            ],
            "type": "histogram2dcontour"
           }
          ],
          "mesh3d": [
           {
            "colorbar": {
             "outlinewidth": 0,
             "ticks": ""
            },
            "type": "mesh3d"
           }
          ],
          "parcoords": [
           {
            "line": {
             "colorbar": {
              "outlinewidth": 0,
              "ticks": ""
             }
            },
            "type": "parcoords"
           }
          ],
          "pie": [
           {
            "automargin": true,
            "type": "pie"
           }
          ],
          "scatter": [
           {
            "fillpattern": {
             "fillmode": "overlay",
             "size": 10,
             "solidity": 0.2
            },
            "type": "scatter"
           }
          ],
          "scatter3d": [
           {
            "line": {
             "colorbar": {
              "outlinewidth": 0,
              "ticks": ""
             }
            },
            "marker": {
             "colorbar": {
              "outlinewidth": 0,
              "ticks": ""
             }
            },
            "type": "scatter3d"
           }
          ],
          "scattercarpet": [
           {
            "marker": {
             "colorbar": {
              "outlinewidth": 0,
              "ticks": ""
             }
            },
            "type": "scattercarpet"
           }
          ],
          "scattergeo": [
           {
            "marker": {
             "colorbar": {
              "outlinewidth": 0,
              "ticks": ""
             }
            },
            "type": "scattergeo"
           }
          ],
          "scattergl": [
           {
            "marker": {
             "colorbar": {
              "outlinewidth": 0,
              "ticks": ""
             }
            },
            "type": "scattergl"
           }
          ],
          "scattermap": [
           {
            "marker": {
             "colorbar": {
              "outlinewidth": 0,
              "ticks": ""
             }
            },
            "type": "scattermap"
           }
          ],
          "scattermapbox": [
           {
            "marker": {
             "colorbar": {
              "outlinewidth": 0,
              "ticks": ""
             }
            },
            "type": "scattermapbox"
           }
          ],
          "scatterpolar": [
           {
            "marker": {
             "colorbar": {
              "outlinewidth": 0,
              "ticks": ""
             }
            },
            "type": "scatterpolar"
           }
          ],
          "scatterpolargl": [
           {
            "marker": {
             "colorbar": {
              "outlinewidth": 0,
              "ticks": ""
             }
            },
            "type": "scatterpolargl"
           }
          ],
          "scatterternary": [
           {
            "marker": {
             "colorbar": {
              "outlinewidth": 0,
              "ticks": ""
             }
            },
            "type": "scatterternary"
           }
          ],
          "surface": [
           {
            "colorbar": {
             "outlinewidth": 0,
             "ticks": ""
            },
            "colorscale": [
             [
              0,
              "#0d0887"
             ],
             [
              0.1111111111111111,
              "#46039f"
             ],
             [
              0.2222222222222222,
              "#7201a8"
             ],
             [
              0.3333333333333333,
              "#9c179e"
             ],
             [
              0.4444444444444444,
              "#bd3786"
             ],
             [
              0.5555555555555556,
              "#d8576b"
             ],
             [
              0.6666666666666666,
              "#ed7953"
             ],
             [
              0.7777777777777778,
              "#fb9f3a"
             ],
             [
              0.8888888888888888,
              "#fdca26"
             ],
             [
              1,
              "#f0f921"
             ]
            ],
            "type": "surface"
           }
          ],
          "table": [
           {
            "cells": {
             "fill": {
              "color": "#EBF0F8"
             },
             "line": {
              "color": "white"
             }
            },
            "header": {
             "fill": {
              "color": "#C8D4E3"
             },
             "line": {
              "color": "white"
             }
            },
            "type": "table"
           }
          ]
         },
         "layout": {
          "annotationdefaults": {
           "arrowcolor": "#2a3f5f",
           "arrowhead": 0,
           "arrowwidth": 1
          },
          "autotypenumbers": "strict",
          "coloraxis": {
           "colorbar": {
            "outlinewidth": 0,
            "ticks": ""
           }
          },
          "colorscale": {
           "diverging": [
            [
             0,
             "#8e0152"
            ],
            [
             0.1,
             "#c51b7d"
            ],
            [
             0.2,
             "#de77ae"
            ],
            [
             0.3,
             "#f1b6da"
            ],
            [
             0.4,
             "#fde0ef"
            ],
            [
             0.5,
             "#f7f7f7"
            ],
            [
             0.6,
             "#e6f5d0"
            ],
            [
             0.7,
             "#b8e186"
            ],
            [
             0.8,
             "#7fbc41"
            ],
            [
             0.9,
             "#4d9221"
            ],
            [
             1,
             "#276419"
            ]
           ],
           "sequential": [
            [
             0,
             "#0d0887"
            ],
            [
             0.1111111111111111,
             "#46039f"
            ],
            [
             0.2222222222222222,
             "#7201a8"
            ],
            [
             0.3333333333333333,
             "#9c179e"
            ],
            [
             0.4444444444444444,
             "#bd3786"
            ],
            [
             0.5555555555555556,
             "#d8576b"
            ],
            [
             0.6666666666666666,
             "#ed7953"
            ],
            [
             0.7777777777777778,
             "#fb9f3a"
            ],
            [
             0.8888888888888888,
             "#fdca26"
            ],
            [
             1,
             "#f0f921"
            ]
           ],
           "sequentialminus": [
            [
             0,
             "#0d0887"
            ],
            [
             0.1111111111111111,
             "#46039f"
            ],
            [
             0.2222222222222222,
             "#7201a8"
            ],
            [
             0.3333333333333333,
             "#9c179e"
            ],
            [
             0.4444444444444444,
             "#bd3786"
            ],
            [
             0.5555555555555556,
             "#d8576b"
            ],
            [
             0.6666666666666666,
             "#ed7953"
            ],
            [
             0.7777777777777778,
             "#fb9f3a"
            ],
            [
             0.8888888888888888,
             "#fdca26"
            ],
            [
             1,
             "#f0f921"
            ]
           ]
          },
          "colorway": [
           "#636efa",
           "#EF553B",
           "#00cc96",
           "#ab63fa",
           "#FFA15A",
           "#19d3f3",
           "#FF6692",
           "#B6E880",
           "#FF97FF",
           "#FECB52"
          ],
          "font": {
           "color": "#2a3f5f"
          },
          "geo": {
           "bgcolor": "white",
           "lakecolor": "white",
           "landcolor": "white",
           "showlakes": true,
           "showland": true,
           "subunitcolor": "#C8D4E3"
          },
          "hoverlabel": {
           "align": "left"
          },
          "hovermode": "closest",
          "mapbox": {
           "style": "light"
          },
          "paper_bgcolor": "white",
          "plot_bgcolor": "white",
          "polar": {
           "angularaxis": {
            "gridcolor": "#EBF0F8",
            "linecolor": "#EBF0F8",
            "ticks": ""
           },
           "bgcolor": "white",
           "radialaxis": {
            "gridcolor": "#EBF0F8",
            "linecolor": "#EBF0F8",
            "ticks": ""
           }
          },
          "scene": {
           "xaxis": {
            "backgroundcolor": "white",
            "gridcolor": "#DFE8F3",
            "gridwidth": 2,
            "linecolor": "#EBF0F8",
            "showbackground": true,
            "ticks": "",
            "zerolinecolor": "#EBF0F8"
           },
           "yaxis": {
            "backgroundcolor": "white",
            "gridcolor": "#DFE8F3",
            "gridwidth": 2,
            "linecolor": "#EBF0F8",
            "showbackground": true,
            "ticks": "",
            "zerolinecolor": "#EBF0F8"
           },
           "zaxis": {
            "backgroundcolor": "white",
            "gridcolor": "#DFE8F3",
            "gridwidth": 2,
            "linecolor": "#EBF0F8",
            "showbackground": true,
            "ticks": "",
            "zerolinecolor": "#EBF0F8"
           }
          },
          "shapedefaults": {
           "line": {
            "color": "#2a3f5f"
           }
          },
          "ternary": {
           "aaxis": {
            "gridcolor": "#DFE8F3",
            "linecolor": "#A2B1C6",
            "ticks": ""
           },
           "baxis": {
            "gridcolor": "#DFE8F3",
            "linecolor": "#A2B1C6",
            "ticks": ""
           },
           "bgcolor": "white",
           "caxis": {
            "gridcolor": "#DFE8F3",
            "linecolor": "#A2B1C6",
            "ticks": ""
           }
          },
          "title": {
           "x": 0.05
          },
          "xaxis": {
           "automargin": true,
           "gridcolor": "#EBF0F8",
           "linecolor": "#EBF0F8",
           "ticks": "",
           "title": {
            "standoff": 15
           },
           "zerolinecolor": "#EBF0F8",
           "zerolinewidth": 2
          },
          "yaxis": {
           "automargin": true,
           "gridcolor": "#EBF0F8",
           "linecolor": "#EBF0F8",
           "ticks": "",
           "title": {
            "standoff": 15
           },
           "zerolinecolor": "#EBF0F8",
           "zerolinewidth": 2
          }
         }
        },
        "title": {
         "text": "Comparação Saída Variável E (200 Amostras) - CT_N1_004: [Exclusiva] - Zerar Variável C - ETHANOL",
         "x": 0.5
        },
        "xaxis": {
         "title": {
          "text": "Amostras"
         }
        },
        "yaxis": {
         "title": {
          "text": "Variável E"
         }
        }
       }
      }
     },
     "metadata": {},
     "output_type": "display_data"
    },
    {
     "name": "stdout",
     "output_type": "stream",
     "text": [
      "\n",
      "================================================================================\n",
      "🔁 CT_N1_004: [Exclusiva] - Zerar Variável C (GASOLINE)\n",
      "--------------------------------------------------------------------------------\n",
      "Diferença Média: 0.8107 | Diferença Máxima: 4.4648 | RMSE: 1.0747 | Desvio Padrão (Std): 0.7055\n"
     ]
    },
    {
     "data": {
      "text/html": [
       "<style type=\"text/css\">\n",
       "</style>\n",
       "<table id=\"T_10353\">\n",
       "  <caption>Comparação dos dados - CT_N1_004: [Exclusiva] - Zerar Variável C (GASOLINE)</caption>\n",
       "  <thead>\n",
       "    <tr>\n",
       "      <th class=\"blank level0\" >&nbsp;</th>\n",
       "      <th id=\"T_10353_level0_col0\" class=\"col_heading level0 col0\" >Latitude_Orig</th>\n",
       "      <th id=\"T_10353_level0_col1\" class=\"col_heading level0 col1\" >Longitude_Orig</th>\n",
       "      <th id=\"T_10353_level0_col2\" class=\"col_heading level0 col2\" >Speed(OBD)(km/h)_Orig</th>\n",
       "      <th id=\"T_10353_level0_col3\" class=\"col_heading level0 col3\" >Acceleration_Orig</th>\n",
       "      <th id=\"T_10353_level0_col4\" class=\"col_heading level0 col4\" > </th>\n",
       "      <th id=\"T_10353_level0_col5\" class=\"col_heading level0 col5\" >Latitude_Mod</th>\n",
       "      <th id=\"T_10353_level0_col6\" class=\"col_heading level0 col6\" >Longitude_Mod</th>\n",
       "      <th id=\"T_10353_level0_col7\" class=\"col_heading level0 col7\" >Speed(OBD)(km/h)_Mod</th>\n",
       "      <th id=\"T_10353_level0_col8\" class=\"col_heading level0 col8\" >Acceleration_Mod</th>\n",
       "      <th id=\"T_10353_level0_col9\" class=\"col_heading level0 col9\" > </th>\n",
       "      <th id=\"T_10353_level0_col10\" class=\"col_heading level0 col10\" >CO₂_Real</th>\n",
       "      <th id=\"T_10353_level0_col11\" class=\"col_heading level0 col11\" >CO₂_Pred_Orig</th>\n",
       "      <th id=\"T_10353_level0_col12\" class=\"col_heading level0 col12\" >CO₂_Pred_Mod</th>\n",
       "    </tr>\n",
       "  </thead>\n",
       "  <tbody>\n",
       "    <tr>\n",
       "      <th id=\"T_10353_level0_row0\" class=\"row_heading level0 row0\" >0</th>\n",
       "      <td id=\"T_10353_row0_col0\" class=\"data row0 col0\" >-5.820010</td>\n",
       "      <td id=\"T_10353_row0_col1\" class=\"data row0 col1\" >-35.220825</td>\n",
       "      <td id=\"T_10353_row0_col2\" class=\"data row0 col2\" >5</td>\n",
       "      <td id=\"T_10353_row0_col3\" class=\"data row0 col3\" >0.000000</td>\n",
       "      <td id=\"T_10353_row0_col4\" class=\"data row0 col4\" >→</td>\n",
       "      <td id=\"T_10353_row0_col5\" class=\"data row0 col5\" >0.000000</td>\n",
       "      <td id=\"T_10353_row0_col6\" class=\"data row0 col6\" >-35.220825</td>\n",
       "      <td id=\"T_10353_row0_col7\" class=\"data row0 col7\" >5</td>\n",
       "      <td id=\"T_10353_row0_col8\" class=\"data row0 col8\" >0.000000</td>\n",
       "      <td id=\"T_10353_row0_col9\" class=\"data row0 col9\" > </td>\n",
       "      <td id=\"T_10353_row0_col10\" class=\"data row0 col10\" >1.002671</td>\n",
       "      <td id=\"T_10353_row0_col11\" class=\"data row0 col11\" >1.456781</td>\n",
       "      <td id=\"T_10353_row0_col12\" class=\"data row0 col12\" >2.210472</td>\n",
       "    </tr>\n",
       "    <tr>\n",
       "      <th id=\"T_10353_level0_row1\" class=\"row_heading level0 row1\" >1</th>\n",
       "      <td id=\"T_10353_row1_col0\" class=\"data row1 col0\" >-5.820013</td>\n",
       "      <td id=\"T_10353_row1_col1\" class=\"data row1 col1\" >-35.220822</td>\n",
       "      <td id=\"T_10353_row1_col2\" class=\"data row1 col2\" >4</td>\n",
       "      <td id=\"T_10353_row1_col3\" class=\"data row1 col3\" >-0.277778</td>\n",
       "      <td id=\"T_10353_row1_col4\" class=\"data row1 col4\" >→</td>\n",
       "      <td id=\"T_10353_row1_col5\" class=\"data row1 col5\" >0.000000</td>\n",
       "      <td id=\"T_10353_row1_col6\" class=\"data row1 col6\" >-35.220822</td>\n",
       "      <td id=\"T_10353_row1_col7\" class=\"data row1 col7\" >4</td>\n",
       "      <td id=\"T_10353_row1_col8\" class=\"data row1 col8\" >-0.277778</td>\n",
       "      <td id=\"T_10353_row1_col9\" class=\"data row1 col9\" > </td>\n",
       "      <td id=\"T_10353_row1_col10\" class=\"data row1 col10\" >1.013360</td>\n",
       "      <td id=\"T_10353_row1_col11\" class=\"data row1 col11\" >1.016708</td>\n",
       "      <td id=\"T_10353_row1_col12\" class=\"data row1 col12\" >2.381479</td>\n",
       "    </tr>\n",
       "    <tr>\n",
       "      <th id=\"T_10353_level0_row2\" class=\"row_heading level0 row2\" >2</th>\n",
       "      <td id=\"T_10353_row2_col0\" class=\"data row2 col0\" >-5.820016</td>\n",
       "      <td id=\"T_10353_row2_col1\" class=\"data row2 col1\" >-35.220819</td>\n",
       "      <td id=\"T_10353_row2_col2\" class=\"data row2 col2\" >5</td>\n",
       "      <td id=\"T_10353_row2_col3\" class=\"data row2 col3\" >0.277778</td>\n",
       "      <td id=\"T_10353_row2_col4\" class=\"data row2 col4\" >→</td>\n",
       "      <td id=\"T_10353_row2_col5\" class=\"data row2 col5\" >0.000000</td>\n",
       "      <td id=\"T_10353_row2_col6\" class=\"data row2 col6\" >-35.220819</td>\n",
       "      <td id=\"T_10353_row2_col7\" class=\"data row2 col7\" >5</td>\n",
       "      <td id=\"T_10353_row2_col8\" class=\"data row2 col8\" >0.277778</td>\n",
       "      <td id=\"T_10353_row2_col9\" class=\"data row2 col9\" > </td>\n",
       "      <td id=\"T_10353_row2_col10\" class=\"data row2 col10\" >2.088720</td>\n",
       "      <td id=\"T_10353_row2_col11\" class=\"data row2 col11\" >1.456781</td>\n",
       "      <td id=\"T_10353_row2_col12\" class=\"data row2 col12\" >2.210472</td>\n",
       "    </tr>\n",
       "    <tr>\n",
       "      <th id=\"T_10353_level0_row3\" class=\"row_heading level0 row3\" >3</th>\n",
       "      <td id=\"T_10353_row3_col0\" class=\"data row3 col0\" >-5.820014</td>\n",
       "      <td id=\"T_10353_row3_col1\" class=\"data row3 col1\" >-35.220825</td>\n",
       "      <td id=\"T_10353_row3_col2\" class=\"data row3 col2\" >7</td>\n",
       "      <td id=\"T_10353_row3_col3\" class=\"data row3 col3\" >0.555556</td>\n",
       "      <td id=\"T_10353_row3_col4\" class=\"data row3 col4\" >→</td>\n",
       "      <td id=\"T_10353_row3_col5\" class=\"data row3 col5\" >0.000000</td>\n",
       "      <td id=\"T_10353_row3_col6\" class=\"data row3 col6\" >-35.220825</td>\n",
       "      <td id=\"T_10353_row3_col7\" class=\"data row3 col7\" >7</td>\n",
       "      <td id=\"T_10353_row3_col8\" class=\"data row3 col8\" >0.555556</td>\n",
       "      <td id=\"T_10353_row3_col9\" class=\"data row3 col9\" > </td>\n",
       "      <td id=\"T_10353_row3_col10\" class=\"data row3 col10\" >2.261889</td>\n",
       "      <td id=\"T_10353_row3_col11\" class=\"data row3 col11\" >1.996380</td>\n",
       "      <td id=\"T_10353_row3_col12\" class=\"data row3 col12\" >2.764091</td>\n",
       "    </tr>\n",
       "    <tr>\n",
       "      <th id=\"T_10353_level0_row4\" class=\"row_heading level0 row4\" >4</th>\n",
       "      <td id=\"T_10353_row4_col0\" class=\"data row4 col0\" >-5.819992</td>\n",
       "      <td id=\"T_10353_row4_col1\" class=\"data row4 col1\" >-35.220829</td>\n",
       "      <td id=\"T_10353_row4_col2\" class=\"data row4 col2\" >9</td>\n",
       "      <td id=\"T_10353_row4_col3\" class=\"data row4 col3\" >0.555556</td>\n",
       "      <td id=\"T_10353_row4_col4\" class=\"data row4 col4\" >→</td>\n",
       "      <td id=\"T_10353_row4_col5\" class=\"data row4 col5\" >0.000000</td>\n",
       "      <td id=\"T_10353_row4_col6\" class=\"data row4 col6\" >-35.220829</td>\n",
       "      <td id=\"T_10353_row4_col7\" class=\"data row4 col7\" >9</td>\n",
       "      <td id=\"T_10353_row4_col8\" class=\"data row4 col8\" >0.555556</td>\n",
       "      <td id=\"T_10353_row4_col9\" class=\"data row4 col9\" > </td>\n",
       "      <td id=\"T_10353_row4_col10\" class=\"data row4 col10\" >2.499195</td>\n",
       "      <td id=\"T_10353_row4_col11\" class=\"data row4 col11\" >2.400486</td>\n",
       "      <td id=\"T_10353_row4_col12\" class=\"data row4 col12\" >2.733665</td>\n",
       "    </tr>\n",
       "    <tr>\n",
       "      <th id=\"T_10353_level0_row5\" class=\"row_heading level0 row5\" >5</th>\n",
       "      <td id=\"T_10353_row5_col0\" class=\"data row5 col0\" >-5.819974</td>\n",
       "      <td id=\"T_10353_row5_col1\" class=\"data row5 col1\" >-35.220824</td>\n",
       "      <td id=\"T_10353_row5_col2\" class=\"data row5 col2\" >12</td>\n",
       "      <td id=\"T_10353_row5_col3\" class=\"data row5 col3\" >0.833333</td>\n",
       "      <td id=\"T_10353_row5_col4\" class=\"data row5 col4\" >→</td>\n",
       "      <td id=\"T_10353_row5_col5\" class=\"data row5 col5\" >0.000000</td>\n",
       "      <td id=\"T_10353_row5_col6\" class=\"data row5 col6\" >-35.220824</td>\n",
       "      <td id=\"T_10353_row5_col7\" class=\"data row5 col7\" >12</td>\n",
       "      <td id=\"T_10353_row5_col8\" class=\"data row5 col8\" >0.833333</td>\n",
       "      <td id=\"T_10353_row5_col9\" class=\"data row5 col9\" > </td>\n",
       "      <td id=\"T_10353_row5_col10\" class=\"data row5 col10\" >2.606089</td>\n",
       "      <td id=\"T_10353_row5_col11\" class=\"data row5 col11\" >2.400486</td>\n",
       "      <td id=\"T_10353_row5_col12\" class=\"data row5 col12\" >2.900924</td>\n",
       "    </tr>\n",
       "    <tr>\n",
       "      <th id=\"T_10353_level0_row6\" class=\"row_heading level0 row6\" >6</th>\n",
       "      <td id=\"T_10353_row6_col0\" class=\"data row6 col0\" >-5.819944</td>\n",
       "      <td id=\"T_10353_row6_col1\" class=\"data row6 col1\" >-35.220823</td>\n",
       "      <td id=\"T_10353_row6_col2\" class=\"data row6 col2\" >15</td>\n",
       "      <td id=\"T_10353_row6_col3\" class=\"data row6 col3\" >0.833333</td>\n",
       "      <td id=\"T_10353_row6_col4\" class=\"data row6 col4\" >→</td>\n",
       "      <td id=\"T_10353_row6_col5\" class=\"data row6 col5\" >0.000000</td>\n",
       "      <td id=\"T_10353_row6_col6\" class=\"data row6 col6\" >-35.220823</td>\n",
       "      <td id=\"T_10353_row6_col7\" class=\"data row6 col7\" >15</td>\n",
       "      <td id=\"T_10353_row6_col8\" class=\"data row6 col8\" >0.833333</td>\n",
       "      <td id=\"T_10353_row6_col9\" class=\"data row6 col9\" > </td>\n",
       "      <td id=\"T_10353_row6_col10\" class=\"data row6 col10\" >3.070012</td>\n",
       "      <td id=\"T_10353_row6_col11\" class=\"data row6 col11\" >2.148721</td>\n",
       "      <td id=\"T_10353_row6_col12\" class=\"data row6 col12\" >2.524258</td>\n",
       "    </tr>\n",
       "    <tr>\n",
       "      <th id=\"T_10353_level0_row7\" class=\"row_heading level0 row7\" >7</th>\n",
       "      <td id=\"T_10353_row7_col0\" class=\"data row7 col0\" >-5.819908</td>\n",
       "      <td id=\"T_10353_row7_col1\" class=\"data row7 col1\" >-35.220810</td>\n",
       "      <td id=\"T_10353_row7_col2\" class=\"data row7 col2\" >18</td>\n",
       "      <td id=\"T_10353_row7_col3\" class=\"data row7 col3\" >0.833333</td>\n",
       "      <td id=\"T_10353_row7_col4\" class=\"data row7 col4\" >→</td>\n",
       "      <td id=\"T_10353_row7_col5\" class=\"data row7 col5\" >0.000000</td>\n",
       "      <td id=\"T_10353_row7_col6\" class=\"data row7 col6\" >-35.220810</td>\n",
       "      <td id=\"T_10353_row7_col7\" class=\"data row7 col7\" >18</td>\n",
       "      <td id=\"T_10353_row7_col8\" class=\"data row7 col8\" >0.833333</td>\n",
       "      <td id=\"T_10353_row7_col9\" class=\"data row7 col9\" > </td>\n",
       "      <td id=\"T_10353_row7_col10\" class=\"data row7 col10\" >2.445747</td>\n",
       "      <td id=\"T_10353_row7_col11\" class=\"data row7 col11\" >1.470940</td>\n",
       "      <td id=\"T_10353_row7_col12\" class=\"data row7 col12\" >2.125705</td>\n",
       "    </tr>\n",
       "    <tr>\n",
       "      <th id=\"T_10353_level0_row8\" class=\"row_heading level0 row8\" >8</th>\n",
       "      <td id=\"T_10353_row8_col0\" class=\"data row8 col0\" >-5.819866</td>\n",
       "      <td id=\"T_10353_row8_col1\" class=\"data row8 col1\" >-35.220794</td>\n",
       "      <td id=\"T_10353_row8_col2\" class=\"data row8 col2\" >18</td>\n",
       "      <td id=\"T_10353_row8_col3\" class=\"data row8 col3\" >0.000000</td>\n",
       "      <td id=\"T_10353_row8_col4\" class=\"data row8 col4\" >→</td>\n",
       "      <td id=\"T_10353_row8_col5\" class=\"data row8 col5\" >0.000000</td>\n",
       "      <td id=\"T_10353_row8_col6\" class=\"data row8 col6\" >-35.220794</td>\n",
       "      <td id=\"T_10353_row8_col7\" class=\"data row8 col7\" >18</td>\n",
       "      <td id=\"T_10353_row8_col8\" class=\"data row8 col8\" >0.000000</td>\n",
       "      <td id=\"T_10353_row8_col9\" class=\"data row8 col9\" > </td>\n",
       "      <td id=\"T_10353_row8_col10\" class=\"data row8 col10\" >1.073221</td>\n",
       "      <td id=\"T_10353_row8_col11\" class=\"data row8 col11\" >1.588029</td>\n",
       "      <td id=\"T_10353_row8_col12\" class=\"data row8 col12\" >2.241735</td>\n",
       "    </tr>\n",
       "    <tr>\n",
       "      <th id=\"T_10353_level0_row9\" class=\"row_heading level0 row9\" >9</th>\n",
       "      <td id=\"T_10353_row9_col0\" class=\"data row9 col0\" >-5.819821</td>\n",
       "      <td id=\"T_10353_row9_col1\" class=\"data row9 col1\" >-35.220775</td>\n",
       "      <td id=\"T_10353_row9_col2\" class=\"data row9 col2\" >16</td>\n",
       "      <td id=\"T_10353_row9_col3\" class=\"data row9 col3\" >-0.555556</td>\n",
       "      <td id=\"T_10353_row9_col4\" class=\"data row9 col4\" >→</td>\n",
       "      <td id=\"T_10353_row9_col5\" class=\"data row9 col5\" >0.000000</td>\n",
       "      <td id=\"T_10353_row9_col6\" class=\"data row9 col6\" >-35.220775</td>\n",
       "      <td id=\"T_10353_row9_col7\" class=\"data row9 col7\" >16</td>\n",
       "      <td id=\"T_10353_row9_col8\" class=\"data row9 col8\" >-0.555556</td>\n",
       "      <td id=\"T_10353_row9_col9\" class=\"data row9 col9\" > </td>\n",
       "      <td id=\"T_10353_row9_col10\" class=\"data row9 col10\" >0.562265</td>\n",
       "      <td id=\"T_10353_row9_col11\" class=\"data row9 col11\" >1.085921</td>\n",
       "      <td id=\"T_10353_row9_col12\" class=\"data row9 col12\" >1.960367</td>\n",
       "    </tr>\n",
       "  </tbody>\n",
       "</table>\n"
      ],
      "text/plain": [
       "<pandas.io.formats.style.Styler at 0x16978d74090>"
      ]
     },
     "metadata": {},
     "output_type": "display_data"
    },
    {
     "data": {
      "application/vnd.plotly.v1+json": {
       "config": {
        "plotlyServerURL": "https://plot.ly"
       },
       "data": [
        {
         "line": {
          "color": "gray",
          "dash": "dot"
         },
         "mode": "lines",
         "name": "Real",
         "type": "scatter",
         "y": {
          "bdata": "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",
          "dtype": "f8"
         }
        },
        {
         "line": {
          "color": "blue",
          "dash": "dash"
         },
         "mode": "lines",
         "name": "Predição Original",
         "type": "scatter",
         "y": {
          "bdata": "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",
          "dtype": "f8"
         }
        },
        {
         "line": {
          "color": "red"
         },
         "mode": "lines",
         "name": "Predição com RM",
         "type": "scatter",
         "y": {
          "bdata": "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",
          "dtype": "f8"
         }
        }
       ],
       "layout": {
        "template": {
         "data": {
          "bar": [
           {
            "error_x": {
             "color": "#2a3f5f"
            },
            "error_y": {
             "color": "#2a3f5f"
            },
            "marker": {
             "line": {
              "color": "white",
              "width": 0.5
             },
             "pattern": {
              "fillmode": "overlay",
              "size": 10,
              "solidity": 0.2
             }
            },
            "type": "bar"
           }
          ],
          "barpolar": [
           {
            "marker": {
             "line": {
              "color": "white",
              "width": 0.5
             },
             "pattern": {
              "fillmode": "overlay",
              "size": 10,
              "solidity": 0.2
             }
            },
            "type": "barpolar"
           }
          ],
          "carpet": [
           {
            "aaxis": {
             "endlinecolor": "#2a3f5f",
             "gridcolor": "#C8D4E3",
             "linecolor": "#C8D4E3",
             "minorgridcolor": "#C8D4E3",
             "startlinecolor": "#2a3f5f"
            },
            "baxis": {
             "endlinecolor": "#2a3f5f",
             "gridcolor": "#C8D4E3",
             "linecolor": "#C8D4E3",
             "minorgridcolor": "#C8D4E3",
             "startlinecolor": "#2a3f5f"
            },
            "type": "carpet"
           }
          ],
          "choropleth": [
           {
            "colorbar": {
             "outlinewidth": 0,
             "ticks": ""
            },
            "type": "choropleth"
           }
          ],
          "contour": [
           {
            "colorbar": {
             "outlinewidth": 0,
             "ticks": ""
            },
            "colorscale": [
             [
              0,
              "#0d0887"
             ],
             [
              0.1111111111111111,
              "#46039f"
             ],
             [
              0.2222222222222222,
              "#7201a8"
             ],
             [
              0.3333333333333333,
              "#9c179e"
             ],
             [
              0.4444444444444444,
              "#bd3786"
             ],
             [
              0.5555555555555556,
              "#d8576b"
             ],
             [
              0.6666666666666666,
              "#ed7953"
             ],
             [
              0.7777777777777778,
              "#fb9f3a"
             ],
             [
              0.8888888888888888,
              "#fdca26"
             ],
             [
              1,
              "#f0f921"
             ]
            ],
            "type": "contour"
           }
          ],
          "contourcarpet": [
           {
            "colorbar": {
             "outlinewidth": 0,
             "ticks": ""
            },
            "type": "contourcarpet"
           }
          ],
          "heatmap": [
           {
            "colorbar": {
             "outlinewidth": 0,
             "ticks": ""
            },
            "colorscale": [
             [
              0,
              "#0d0887"
             ],
             [
              0.1111111111111111,
              "#46039f"
             ],
             [
              0.2222222222222222,
              "#7201a8"
             ],
             [
              0.3333333333333333,
              "#9c179e"
             ],
             [
              0.4444444444444444,
              "#bd3786"
             ],
             [
              0.5555555555555556,
              "#d8576b"
             ],
             [
              0.6666666666666666,
              "#ed7953"
             ],
             [
              0.7777777777777778,
              "#fb9f3a"
             ],
             [
              0.8888888888888888,
              "#fdca26"
             ],
             [
              1,
              "#f0f921"
             ]
            ],
            "type": "heatmap"
           }
          ],
          "histogram": [
           {
            "marker": {
             "pattern": {
              "fillmode": "overlay",
              "size": 10,
              "solidity": 0.2
             }
            },
            "type": "histogram"
           }
          ],
          "histogram2d": [
           {
            "colorbar": {
             "outlinewidth": 0,
             "ticks": ""
            },
            "colorscale": [
             [
              0,
              "#0d0887"
             ],
             [
              0.1111111111111111,
              "#46039f"
             ],
             [
              0.2222222222222222,
              "#7201a8"
             ],
             [
              0.3333333333333333,
              "#9c179e"
             ],
             [
              0.4444444444444444,
              "#bd3786"
             ],
             [
              0.5555555555555556,
              "#d8576b"
             ],
             [
              0.6666666666666666,
              "#ed7953"
             ],
             [
              0.7777777777777778,
              "#fb9f3a"
             ],
             [
              0.8888888888888888,
              "#fdca26"
             ],
             [
              1,
              "#f0f921"
             ]
            ],
            "type": "histogram2d"
           }
          ],
          "histogram2dcontour": [
           {
            "colorbar": {
             "outlinewidth": 0,
             "ticks": ""
            },
            "colorscale": [
             [
              0,
              "#0d0887"
             ],
             [
              0.1111111111111111,
              "#46039f"
             ],
             [
              0.2222222222222222,
              "#7201a8"
             ],
             [
              0.3333333333333333,
              "#9c179e"
             ],
             [
              0.4444444444444444,
              "#bd3786"
             ],
             [
              0.5555555555555556,
              "#d8576b"
             ],
             [
              0.6666666666666666,
              "#ed7953"
             ],
             [
              0.7777777777777778,
              "#fb9f3a"
             ],
             [
              0.8888888888888888,
              "#fdca26"
             ],
             [
              1,
              "#f0f921"
             ]
            ],
            "type": "histogram2dcontour"
           }
          ],
          "mesh3d": [
           {
            "colorbar": {
             "outlinewidth": 0,
             "ticks": ""
            },
            "type": "mesh3d"
           }
          ],
          "parcoords": [
           {
            "line": {
             "colorbar": {
              "outlinewidth": 0,
              "ticks": ""
             }
            },
            "type": "parcoords"
           }
          ],
          "pie": [
           {
            "automargin": true,
            "type": "pie"
           }
          ],
          "scatter": [
           {
            "fillpattern": {
             "fillmode": "overlay",
             "size": 10,
             "solidity": 0.2
            },
            "type": "scatter"
           }
          ],
          "scatter3d": [
           {
            "line": {
             "colorbar": {
              "outlinewidth": 0,
              "ticks": ""
             }
            },
            "marker": {
             "colorbar": {
              "outlinewidth": 0,
              "ticks": ""
             }
            },
            "type": "scatter3d"
           }
          ],
          "scattercarpet": [
           {
            "marker": {
             "colorbar": {
              "outlinewidth": 0,
              "ticks": ""
             }
            },
            "type": "scattercarpet"
           }
          ],
          "scattergeo": [
           {
            "marker": {
             "colorbar": {
              "outlinewidth": 0,
              "ticks": ""
             }
            },
            "type": "scattergeo"
           }
          ],
          "scattergl": [
           {
            "marker": {
             "colorbar": {
              "outlinewidth": 0,
              "ticks": ""
             }
            },
            "type": "scattergl"
           }
          ],
          "scattermap": [
           {
            "marker": {
             "colorbar": {
              "outlinewidth": 0,
              "ticks": ""
             }
            },
            "type": "scattermap"
           }
          ],
          "scattermapbox": [
           {
            "marker": {
             "colorbar": {
              "outlinewidth": 0,
              "ticks": ""
             }
            },
            "type": "scattermapbox"
           }
          ],
          "scatterpolar": [
           {
            "marker": {
             "colorbar": {
              "outlinewidth": 0,
              "ticks": ""
             }
            },
            "type": "scatterpolar"
           }
          ],
          "scatterpolargl": [
           {
            "marker": {
             "colorbar": {
              "outlinewidth": 0,
              "ticks": ""
             }
            },
            "type": "scatterpolargl"
           }
          ],
          "scatterternary": [
           {
            "marker": {
             "colorbar": {
              "outlinewidth": 0,
              "ticks": ""
             }
            },
            "type": "scatterternary"
           }
          ],
          "surface": [
           {
            "colorbar": {
             "outlinewidth": 0,
             "ticks": ""
            },
            "colorscale": [
             [
              0,
              "#0d0887"
             ],
             [
              0.1111111111111111,
              "#46039f"
             ],
             [
              0.2222222222222222,
              "#7201a8"
             ],
             [
              0.3333333333333333,
              "#9c179e"
             ],
             [
              0.4444444444444444,
              "#bd3786"
             ],
             [
              0.5555555555555556,
              "#d8576b"
             ],
             [
              0.6666666666666666,
              "#ed7953"
             ],
             [
              0.7777777777777778,
              "#fb9f3a"
             ],
             [
              0.8888888888888888,
              "#fdca26"
             ],
             [
              1,
              "#f0f921"
             ]
            ],
            "type": "surface"
           }
          ],
          "table": [
           {
            "cells": {
             "fill": {
              "color": "#EBF0F8"
             },
             "line": {
              "color": "white"
             }
            },
            "header": {
             "fill": {
              "color": "#C8D4E3"
             },
             "line": {
              "color": "white"
             }
            },
            "type": "table"
           }
          ]
         },
         "layout": {
          "annotationdefaults": {
           "arrowcolor": "#2a3f5f",
           "arrowhead": 0,
           "arrowwidth": 1
          },
          "autotypenumbers": "strict",
          "coloraxis": {
           "colorbar": {
            "outlinewidth": 0,
            "ticks": ""
           }
          },
          "colorscale": {
           "diverging": [
            [
             0,
             "#8e0152"
            ],
            [
             0.1,
             "#c51b7d"
            ],
            [
             0.2,
             "#de77ae"
            ],
            [
             0.3,
             "#f1b6da"
            ],
            [
             0.4,
             "#fde0ef"
            ],
            [
             0.5,
             "#f7f7f7"
            ],
            [
             0.6,
             "#e6f5d0"
            ],
            [
             0.7,
             "#b8e186"
            ],
            [
             0.8,
             "#7fbc41"
            ],
            [
             0.9,
             "#4d9221"
            ],
            [
             1,
             "#276419"
            ]
           ],
           "sequential": [
            [
             0,
             "#0d0887"
            ],
            [
             0.1111111111111111,
             "#46039f"
            ],
            [
             0.2222222222222222,
             "#7201a8"
            ],
            [
             0.3333333333333333,
             "#9c179e"
            ],
            [
             0.4444444444444444,
             "#bd3786"
            ],
            [
             0.5555555555555556,
             "#d8576b"
            ],
            [
             0.6666666666666666,
             "#ed7953"
            ],
            [
             0.7777777777777778,
             "#fb9f3a"
            ],
            [
             0.8888888888888888,
             "#fdca26"
            ],
            [
             1,
             "#f0f921"
            ]
           ],
           "sequentialminus": [
            [
             0,
             "#0d0887"
            ],
            [
             0.1111111111111111,
             "#46039f"
            ],
            [
             0.2222222222222222,
             "#7201a8"
            ],
            [
             0.3333333333333333,
             "#9c179e"
            ],
            [
             0.4444444444444444,
             "#bd3786"
            ],
            [
             0.5555555555555556,
             "#d8576b"
            ],
            [
             0.6666666666666666,
             "#ed7953"
            ],
            [
             0.7777777777777778,
             "#fb9f3a"
            ],
            [
             0.8888888888888888,
             "#fdca26"
            ],
            [
             1,
             "#f0f921"
            ]
           ]
          },
          "colorway": [
           "#636efa",
           "#EF553B",
           "#00cc96",
           "#ab63fa",
           "#FFA15A",
           "#19d3f3",
           "#FF6692",
           "#B6E880",
           "#FF97FF",
           "#FECB52"
          ],
          "font": {
           "color": "#2a3f5f"
          },
          "geo": {
           "bgcolor": "white",
           "lakecolor": "white",
           "landcolor": "white",
           "showlakes": true,
           "showland": true,
           "subunitcolor": "#C8D4E3"
          },
          "hoverlabel": {
           "align": "left"
          },
          "hovermode": "closest",
          "mapbox": {
           "style": "light"
          },
          "paper_bgcolor": "white",
          "plot_bgcolor": "white",
          "polar": {
           "angularaxis": {
            "gridcolor": "#EBF0F8",
            "linecolor": "#EBF0F8",
            "ticks": ""
           },
           "bgcolor": "white",
           "radialaxis": {
            "gridcolor": "#EBF0F8",
            "linecolor": "#EBF0F8",
            "ticks": ""
           }
          },
          "scene": {
           "xaxis": {
            "backgroundcolor": "white",
            "gridcolor": "#DFE8F3",
            "gridwidth": 2,
            "linecolor": "#EBF0F8",
            "showbackground": true,
            "ticks": "",
            "zerolinecolor": "#EBF0F8"
           },
           "yaxis": {
            "backgroundcolor": "white",
            "gridcolor": "#DFE8F3",
            "gridwidth": 2,
            "linecolor": "#EBF0F8",
            "showbackground": true,
            "ticks": "",
            "zerolinecolor": "#EBF0F8"
           },
           "zaxis": {
            "backgroundcolor": "white",
            "gridcolor": "#DFE8F3",
            "gridwidth": 2,
            "linecolor": "#EBF0F8",
            "showbackground": true,
            "ticks": "",
            "zerolinecolor": "#EBF0F8"
           }
          },
          "shapedefaults": {
           "line": {
            "color": "#2a3f5f"
           }
          },
          "ternary": {
           "aaxis": {
            "gridcolor": "#DFE8F3",
            "linecolor": "#A2B1C6",
            "ticks": ""
           },
           "baxis": {
            "gridcolor": "#DFE8F3",
            "linecolor": "#A2B1C6",
            "ticks": ""
           },
           "bgcolor": "white",
           "caxis": {
            "gridcolor": "#DFE8F3",
            "linecolor": "#A2B1C6",
            "ticks": ""
           }
          },
          "title": {
           "x": 0.05
          },
          "xaxis": {
           "automargin": true,
           "gridcolor": "#EBF0F8",
           "linecolor": "#EBF0F8",
           "ticks": "",
           "title": {
            "standoff": 15
           },
           "zerolinecolor": "#EBF0F8",
           "zerolinewidth": 2
          },
          "yaxis": {
           "automargin": true,
           "gridcolor": "#EBF0F8",
           "linecolor": "#EBF0F8",
           "ticks": "",
           "title": {
            "standoff": 15
           },
           "zerolinecolor": "#EBF0F8",
           "zerolinewidth": 2
          }
         }
        },
        "title": {
         "text": "Comparação Saída Variável E (200 Amostras) - CT_N1_004: [Exclusiva] - Zerar Variável C - GASOLINE",
         "x": 0.5
        },
        "xaxis": {
         "title": {
          "text": "Amostras"
         }
        },
        "yaxis": {
         "title": {
          "text": "Variável E"
         }
        }
       }
      }
     },
     "metadata": {},
     "output_type": "display_data"
    },
    {
     "name": "stdout",
     "output_type": "stream",
     "text": [
      "\n",
      "================================================================================\n",
      "🔁 CT_N1_005: [Exclusiva] - Zerar Variável D (ETHANOL)\n",
      "--------------------------------------------------------------------------------\n",
      "Diferença Média: 0.3039 | Diferença Máxima: 2.0281 | RMSE: 0.4241 | Desvio Padrão (Std): 0.2959\n"
     ]
    },
    {
     "data": {
      "text/html": [
       "<style type=\"text/css\">\n",
       "</style>\n",
       "<table id=\"T_ca1da\">\n",
       "  <caption>Comparação dos dados - CT_N1_005: [Exclusiva] - Zerar Variável D (ETHANOL)</caption>\n",
       "  <thead>\n",
       "    <tr>\n",
       "      <th class=\"blank level0\" >&nbsp;</th>\n",
       "      <th id=\"T_ca1da_level0_col0\" class=\"col_heading level0 col0\" >Latitude_Orig</th>\n",
       "      <th id=\"T_ca1da_level0_col1\" class=\"col_heading level0 col1\" >Longitude_Orig</th>\n",
       "      <th id=\"T_ca1da_level0_col2\" class=\"col_heading level0 col2\" >Speed(OBD)(km/h)_Orig</th>\n",
       "      <th id=\"T_ca1da_level0_col3\" class=\"col_heading level0 col3\" >Acceleration_Orig</th>\n",
       "      <th id=\"T_ca1da_level0_col4\" class=\"col_heading level0 col4\" > </th>\n",
       "      <th id=\"T_ca1da_level0_col5\" class=\"col_heading level0 col5\" >Latitude_Mod</th>\n",
       "      <th id=\"T_ca1da_level0_col6\" class=\"col_heading level0 col6\" >Longitude_Mod</th>\n",
       "      <th id=\"T_ca1da_level0_col7\" class=\"col_heading level0 col7\" >Speed(OBD)(km/h)_Mod</th>\n",
       "      <th id=\"T_ca1da_level0_col8\" class=\"col_heading level0 col8\" >Acceleration_Mod</th>\n",
       "      <th id=\"T_ca1da_level0_col9\" class=\"col_heading level0 col9\" > </th>\n",
       "      <th id=\"T_ca1da_level0_col10\" class=\"col_heading level0 col10\" >CO₂_Real</th>\n",
       "      <th id=\"T_ca1da_level0_col11\" class=\"col_heading level0 col11\" >CO₂_Pred_Orig</th>\n",
       "      <th id=\"T_ca1da_level0_col12\" class=\"col_heading level0 col12\" >CO₂_Pred_Mod</th>\n",
       "    </tr>\n",
       "  </thead>\n",
       "  <tbody>\n",
       "    <tr>\n",
       "      <th id=\"T_ca1da_level0_row0\" class=\"row_heading level0 row0\" >0</th>\n",
       "      <td id=\"T_ca1da_row0_col0\" class=\"data row0 col0\" >-5.820105</td>\n",
       "      <td id=\"T_ca1da_row0_col1\" class=\"data row0 col1\" >-35.220818</td>\n",
       "      <td id=\"T_ca1da_row0_col2\" class=\"data row0 col2\" >3</td>\n",
       "      <td id=\"T_ca1da_row0_col3\" class=\"data row0 col3\" >0.000000</td>\n",
       "      <td id=\"T_ca1da_row0_col4\" class=\"data row0 col4\" >→</td>\n",
       "      <td id=\"T_ca1da_row0_col5\" class=\"data row0 col5\" >-5.820105</td>\n",
       "      <td id=\"T_ca1da_row0_col6\" class=\"data row0 col6\" >0.000000</td>\n",
       "      <td id=\"T_ca1da_row0_col7\" class=\"data row0 col7\" >3</td>\n",
       "      <td id=\"T_ca1da_row0_col8\" class=\"data row0 col8\" >0.000000</td>\n",
       "      <td id=\"T_ca1da_row0_col9\" class=\"data row0 col9\" > </td>\n",
       "      <td id=\"T_ca1da_row0_col10\" class=\"data row0 col10\" >0.642839</td>\n",
       "      <td id=\"T_ca1da_row0_col11\" class=\"data row0 col11\" >0.742631</td>\n",
       "      <td id=\"T_ca1da_row0_col12\" class=\"data row0 col12\" >0.665038</td>\n",
       "    </tr>\n",
       "    <tr>\n",
       "      <th id=\"T_ca1da_level0_row1\" class=\"row_heading level0 row1\" >1</th>\n",
       "      <td id=\"T_ca1da_row1_col0\" class=\"data row1 col0\" >-5.820103</td>\n",
       "      <td id=\"T_ca1da_row1_col1\" class=\"data row1 col1\" >-35.220828</td>\n",
       "      <td id=\"T_ca1da_row1_col2\" class=\"data row1 col2\" >5</td>\n",
       "      <td id=\"T_ca1da_row1_col3\" class=\"data row1 col3\" >0.555556</td>\n",
       "      <td id=\"T_ca1da_row1_col4\" class=\"data row1 col4\" >→</td>\n",
       "      <td id=\"T_ca1da_row1_col5\" class=\"data row1 col5\" >-5.820103</td>\n",
       "      <td id=\"T_ca1da_row1_col6\" class=\"data row1 col6\" >0.000000</td>\n",
       "      <td id=\"T_ca1da_row1_col7\" class=\"data row1 col7\" >5</td>\n",
       "      <td id=\"T_ca1da_row1_col8\" class=\"data row1 col8\" >0.555556</td>\n",
       "      <td id=\"T_ca1da_row1_col9\" class=\"data row1 col9\" > </td>\n",
       "      <td id=\"T_ca1da_row1_col10\" class=\"data row1 col10\" >0.653249</td>\n",
       "      <td id=\"T_ca1da_row1_col11\" class=\"data row1 col11\" >0.771505</td>\n",
       "      <td id=\"T_ca1da_row1_col12\" class=\"data row1 col12\" >0.581781</td>\n",
       "    </tr>\n",
       "    <tr>\n",
       "      <th id=\"T_ca1da_level0_row2\" class=\"row_heading level0 row2\" >2</th>\n",
       "      <td id=\"T_ca1da_row2_col0\" class=\"data row2 col0\" >-5.820102</td>\n",
       "      <td id=\"T_ca1da_row2_col1\" class=\"data row2 col1\" >-35.220838</td>\n",
       "      <td id=\"T_ca1da_row2_col2\" class=\"data row2 col2\" >5</td>\n",
       "      <td id=\"T_ca1da_row2_col3\" class=\"data row2 col3\" >0.000000</td>\n",
       "      <td id=\"T_ca1da_row2_col4\" class=\"data row2 col4\" >→</td>\n",
       "      <td id=\"T_ca1da_row2_col5\" class=\"data row2 col5\" >-5.820102</td>\n",
       "      <td id=\"T_ca1da_row2_col6\" class=\"data row2 col6\" >0.000000</td>\n",
       "      <td id=\"T_ca1da_row2_col7\" class=\"data row2 col7\" >5</td>\n",
       "      <td id=\"T_ca1da_row2_col8\" class=\"data row2 col8\" >0.000000</td>\n",
       "      <td id=\"T_ca1da_row2_col9\" class=\"data row2 col9\" > </td>\n",
       "      <td id=\"T_ca1da_row2_col10\" class=\"data row2 col10\" >0.653249</td>\n",
       "      <td id=\"T_ca1da_row2_col11\" class=\"data row2 col11\" >0.771505</td>\n",
       "      <td id=\"T_ca1da_row2_col12\" class=\"data row2 col12\" >0.581781</td>\n",
       "    </tr>\n",
       "    <tr>\n",
       "      <th id=\"T_ca1da_level0_row3\" class=\"row_heading level0 row3\" >3</th>\n",
       "      <td id=\"T_ca1da_row3_col0\" class=\"data row3 col0\" >-5.820096</td>\n",
       "      <td id=\"T_ca1da_row3_col1\" class=\"data row3 col1\" >-35.220843</td>\n",
       "      <td id=\"T_ca1da_row3_col2\" class=\"data row3 col2\" >3</td>\n",
       "      <td id=\"T_ca1da_row3_col3\" class=\"data row3 col3\" >-0.555556</td>\n",
       "      <td id=\"T_ca1da_row3_col4\" class=\"data row3 col4\" >→</td>\n",
       "      <td id=\"T_ca1da_row3_col5\" class=\"data row3 col5\" >-5.820096</td>\n",
       "      <td id=\"T_ca1da_row3_col6\" class=\"data row3 col6\" >0.000000</td>\n",
       "      <td id=\"T_ca1da_row3_col7\" class=\"data row3 col7\" >3</td>\n",
       "      <td id=\"T_ca1da_row3_col8\" class=\"data row3 col8\" >-0.555556</td>\n",
       "      <td id=\"T_ca1da_row3_col9\" class=\"data row3 col9\" > </td>\n",
       "      <td id=\"T_ca1da_row3_col10\" class=\"data row3 col10\" >0.679275</td>\n",
       "      <td id=\"T_ca1da_row3_col11\" class=\"data row3 col11\" >0.659013</td>\n",
       "      <td id=\"T_ca1da_row3_col12\" class=\"data row3 col12\" >0.617370</td>\n",
       "    </tr>\n",
       "    <tr>\n",
       "      <th id=\"T_ca1da_level0_row4\" class=\"row_heading level0 row4\" >4</th>\n",
       "      <td id=\"T_ca1da_row4_col0\" class=\"data row4 col0\" >-5.820091</td>\n",
       "      <td id=\"T_ca1da_row4_col1\" class=\"data row4 col1\" >-35.220850</td>\n",
       "      <td id=\"T_ca1da_row4_col2\" class=\"data row4 col2\" >0</td>\n",
       "      <td id=\"T_ca1da_row4_col3\" class=\"data row4 col3\" >-0.833333</td>\n",
       "      <td id=\"T_ca1da_row4_col4\" class=\"data row4 col4\" >→</td>\n",
       "      <td id=\"T_ca1da_row4_col5\" class=\"data row4 col5\" >-5.820091</td>\n",
       "      <td id=\"T_ca1da_row4_col6\" class=\"data row4 col6\" >0.000000</td>\n",
       "      <td id=\"T_ca1da_row4_col7\" class=\"data row4 col7\" >0</td>\n",
       "      <td id=\"T_ca1da_row4_col8\" class=\"data row4 col8\" >-0.833333</td>\n",
       "      <td id=\"T_ca1da_row4_col9\" class=\"data row4 col9\" > </td>\n",
       "      <td id=\"T_ca1da_row4_col10\" class=\"data row4 col10\" >0.610306</td>\n",
       "      <td id=\"T_ca1da_row4_col11\" class=\"data row4 col11\" >0.667689</td>\n",
       "      <td id=\"T_ca1da_row4_col12\" class=\"data row4 col12\" >0.466419</td>\n",
       "    </tr>\n",
       "    <tr>\n",
       "      <th id=\"T_ca1da_level0_row5\" class=\"row_heading level0 row5\" >5</th>\n",
       "      <td id=\"T_ca1da_row5_col0\" class=\"data row5 col0\" >-5.820091</td>\n",
       "      <td id=\"T_ca1da_row5_col1\" class=\"data row5 col1\" >-35.220850</td>\n",
       "      <td id=\"T_ca1da_row5_col2\" class=\"data row5 col2\" >0</td>\n",
       "      <td id=\"T_ca1da_row5_col3\" class=\"data row5 col3\" >0.000000</td>\n",
       "      <td id=\"T_ca1da_row5_col4\" class=\"data row5 col4\" >→</td>\n",
       "      <td id=\"T_ca1da_row5_col5\" class=\"data row5 col5\" >-5.820091</td>\n",
       "      <td id=\"T_ca1da_row5_col6\" class=\"data row5 col6\" >0.000000</td>\n",
       "      <td id=\"T_ca1da_row5_col7\" class=\"data row5 col7\" >0</td>\n",
       "      <td id=\"T_ca1da_row5_col8\" class=\"data row5 col8\" >0.000000</td>\n",
       "      <td id=\"T_ca1da_row5_col9\" class=\"data row5 col9\" > </td>\n",
       "      <td id=\"T_ca1da_row5_col10\" class=\"data row5 col10\" >0.610306</td>\n",
       "      <td id=\"T_ca1da_row5_col11\" class=\"data row5 col11\" >0.706858</td>\n",
       "      <td id=\"T_ca1da_row5_col12\" class=\"data row5 col12\" >0.474772</td>\n",
       "    </tr>\n",
       "    <tr>\n",
       "      <th id=\"T_ca1da_level0_row6\" class=\"row_heading level0 row6\" >6</th>\n",
       "      <td id=\"T_ca1da_row6_col0\" class=\"data row6 col0\" >-5.820091</td>\n",
       "      <td id=\"T_ca1da_row6_col1\" class=\"data row6 col1\" >-35.220850</td>\n",
       "      <td id=\"T_ca1da_row6_col2\" class=\"data row6 col2\" >0</td>\n",
       "      <td id=\"T_ca1da_row6_col3\" class=\"data row6 col3\" >0.000000</td>\n",
       "      <td id=\"T_ca1da_row6_col4\" class=\"data row6 col4\" >→</td>\n",
       "      <td id=\"T_ca1da_row6_col5\" class=\"data row6 col5\" >-5.820091</td>\n",
       "      <td id=\"T_ca1da_row6_col6\" class=\"data row6 col6\" >0.000000</td>\n",
       "      <td id=\"T_ca1da_row6_col7\" class=\"data row6 col7\" >0</td>\n",
       "      <td id=\"T_ca1da_row6_col8\" class=\"data row6 col8\" >0.000000</td>\n",
       "      <td id=\"T_ca1da_row6_col9\" class=\"data row6 col9\" > </td>\n",
       "      <td id=\"T_ca1da_row6_col10\" class=\"data row6 col10\" >0.490587</td>\n",
       "      <td id=\"T_ca1da_row6_col11\" class=\"data row6 col11\" >0.706858</td>\n",
       "      <td id=\"T_ca1da_row6_col12\" class=\"data row6 col12\" >0.474772</td>\n",
       "    </tr>\n",
       "    <tr>\n",
       "      <th id=\"T_ca1da_level0_row7\" class=\"row_heading level0 row7\" >7</th>\n",
       "      <td id=\"T_ca1da_row7_col0\" class=\"data row7 col0\" >-5.820085</td>\n",
       "      <td id=\"T_ca1da_row7_col1\" class=\"data row7 col1\" >-35.220856</td>\n",
       "      <td id=\"T_ca1da_row7_col2\" class=\"data row7 col2\" >3</td>\n",
       "      <td id=\"T_ca1da_row7_col3\" class=\"data row7 col3\" >0.833333</td>\n",
       "      <td id=\"T_ca1da_row7_col4\" class=\"data row7 col4\" >→</td>\n",
       "      <td id=\"T_ca1da_row7_col5\" class=\"data row7 col5\" >-5.820085</td>\n",
       "      <td id=\"T_ca1da_row7_col6\" class=\"data row7 col6\" >0.000000</td>\n",
       "      <td id=\"T_ca1da_row7_col7\" class=\"data row7 col7\" >3</td>\n",
       "      <td id=\"T_ca1da_row7_col8\" class=\"data row7 col8\" >0.833333</td>\n",
       "      <td id=\"T_ca1da_row7_col9\" class=\"data row7 col9\" > </td>\n",
       "      <td id=\"T_ca1da_row7_col10\" class=\"data row7 col10\" >1.090483</td>\n",
       "      <td id=\"T_ca1da_row7_col11\" class=\"data row7 col11\" >1.137803</td>\n",
       "      <td id=\"T_ca1da_row7_col12\" class=\"data row7 col12\" >0.665038</td>\n",
       "    </tr>\n",
       "    <tr>\n",
       "      <th id=\"T_ca1da_level0_row8\" class=\"row_heading level0 row8\" >8</th>\n",
       "      <td id=\"T_ca1da_row8_col0\" class=\"data row8 col0\" >-5.820074</td>\n",
       "      <td id=\"T_ca1da_row8_col1\" class=\"data row8 col1\" >-35.220859</td>\n",
       "      <td id=\"T_ca1da_row8_col2\" class=\"data row8 col2\" >3</td>\n",
       "      <td id=\"T_ca1da_row8_col3\" class=\"data row8 col3\" >0.000000</td>\n",
       "      <td id=\"T_ca1da_row8_col4\" class=\"data row8 col4\" >→</td>\n",
       "      <td id=\"T_ca1da_row8_col5\" class=\"data row8 col5\" >-5.820074</td>\n",
       "      <td id=\"T_ca1da_row8_col6\" class=\"data row8 col6\" >0.000000</td>\n",
       "      <td id=\"T_ca1da_row8_col7\" class=\"data row8 col7\" >3</td>\n",
       "      <td id=\"T_ca1da_row8_col8\" class=\"data row8 col8\" >0.000000</td>\n",
       "      <td id=\"T_ca1da_row8_col9\" class=\"data row8 col9\" > </td>\n",
       "      <td id=\"T_ca1da_row8_col10\" class=\"data row8 col10\" >1.090483</td>\n",
       "      <td id=\"T_ca1da_row8_col11\" class=\"data row8 col11\" >1.137803</td>\n",
       "      <td id=\"T_ca1da_row8_col12\" class=\"data row8 col12\" >0.665038</td>\n",
       "    </tr>\n",
       "    <tr>\n",
       "      <th id=\"T_ca1da_level0_row9\" class=\"row_heading level0 row9\" >9</th>\n",
       "      <td id=\"T_ca1da_row9_col0\" class=\"data row9 col0\" >-5.820064</td>\n",
       "      <td id=\"T_ca1da_row9_col1\" class=\"data row9 col1\" >-35.220858</td>\n",
       "      <td id=\"T_ca1da_row9_col2\" class=\"data row9 col2\" >3</td>\n",
       "      <td id=\"T_ca1da_row9_col3\" class=\"data row9 col3\" >0.000000</td>\n",
       "      <td id=\"T_ca1da_row9_col4\" class=\"data row9 col4\" >→</td>\n",
       "      <td id=\"T_ca1da_row9_col5\" class=\"data row9 col5\" >-5.820064</td>\n",
       "      <td id=\"T_ca1da_row9_col6\" class=\"data row9 col6\" >0.000000</td>\n",
       "      <td id=\"T_ca1da_row9_col7\" class=\"data row9 col7\" >3</td>\n",
       "      <td id=\"T_ca1da_row9_col8\" class=\"data row9 col8\" >0.000000</td>\n",
       "      <td id=\"T_ca1da_row9_col9\" class=\"data row9 col9\" > </td>\n",
       "      <td id=\"T_ca1da_row9_col10\" class=\"data row9 col10\" >0.921315</td>\n",
       "      <td id=\"T_ca1da_row9_col11\" class=\"data row9 col11\" >1.137803</td>\n",
       "      <td id=\"T_ca1da_row9_col12\" class=\"data row9 col12\" >0.665038</td>\n",
       "    </tr>\n",
       "  </tbody>\n",
       "</table>\n"
      ],
      "text/plain": [
       "<pandas.io.formats.style.Styler at 0x16978b686d0>"
      ]
     },
     "metadata": {},
     "output_type": "display_data"
    },
    {
     "data": {
      "application/vnd.plotly.v1+json": {
       "config": {
        "plotlyServerURL": "https://plot.ly"
       },
       "data": [
        {
         "line": {
          "color": "gray",
          "dash": "dot"
         },
         "mode": "lines",
         "name": "Real",
         "type": "scatter",
         "y": {
          "bdata": "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",
          "dtype": "f8"
         }
        },
        {
         "line": {
          "color": "blue",
          "dash": "dash"
         },
         "mode": "lines",
         "name": "Predição Original",
         "type": "scatter",
         "y": {
          "bdata": "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",
          "dtype": "f8"
         }
        },
        {
         "line": {
          "color": "red"
         },
         "mode": "lines",
         "name": "Predição com RM",
         "type": "scatter",
         "y": {
          "bdata": "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",
          "dtype": "f8"
         }
        }
       ],
       "layout": {
        "template": {
         "data": {
          "bar": [
           {
            "error_x": {
             "color": "#2a3f5f"
            },
            "error_y": {
             "color": "#2a3f5f"
            },
            "marker": {
             "line": {
              "color": "white",
              "width": 0.5
             },
             "pattern": {
              "fillmode": "overlay",
              "size": 10,
              "solidity": 0.2
             }
            },
            "type": "bar"
           }
          ],
          "barpolar": [
           {
            "marker": {
             "line": {
              "color": "white",
              "width": 0.5
             },
             "pattern": {
              "fillmode": "overlay",
              "size": 10,
              "solidity": 0.2
             }
            },
            "type": "barpolar"
           }
          ],
          "carpet": [
           {
            "aaxis": {
             "endlinecolor": "#2a3f5f",
             "gridcolor": "#C8D4E3",
             "linecolor": "#C8D4E3",
             "minorgridcolor": "#C8D4E3",
             "startlinecolor": "#2a3f5f"
            },
            "baxis": {
             "endlinecolor": "#2a3f5f",
             "gridcolor": "#C8D4E3",
             "linecolor": "#C8D4E3",
             "minorgridcolor": "#C8D4E3",
             "startlinecolor": "#2a3f5f"
            },
            "type": "carpet"
           }
          ],
          "choropleth": [
           {
            "colorbar": {
             "outlinewidth": 0,
             "ticks": ""
            },
            "type": "choropleth"
           }
          ],
          "contour": [
           {
            "colorbar": {
             "outlinewidth": 0,
             "ticks": ""
            },
            "colorscale": [
             [
              0,
              "#0d0887"
             ],
             [
              0.1111111111111111,
              "#46039f"
             ],
             [
              0.2222222222222222,
              "#7201a8"
             ],
             [
              0.3333333333333333,
              "#9c179e"
             ],
             [
              0.4444444444444444,
              "#bd3786"
             ],
             [
              0.5555555555555556,
              "#d8576b"
             ],
             [
              0.6666666666666666,
              "#ed7953"
             ],
             [
              0.7777777777777778,
              "#fb9f3a"
             ],
             [
              0.8888888888888888,
              "#fdca26"
             ],
             [
              1,
              "#f0f921"
             ]
            ],
            "type": "contour"
           }
          ],
          "contourcarpet": [
           {
            "colorbar": {
             "outlinewidth": 0,
             "ticks": ""
            },
            "type": "contourcarpet"
           }
          ],
          "heatmap": [
           {
            "colorbar": {
             "outlinewidth": 0,
             "ticks": ""
            },
            "colorscale": [
             [
              0,
              "#0d0887"
             ],
             [
              0.1111111111111111,
              "#46039f"
             ],
             [
              0.2222222222222222,
              "#7201a8"
             ],
             [
              0.3333333333333333,
              "#9c179e"
             ],
             [
              0.4444444444444444,
              "#bd3786"
             ],
             [
              0.5555555555555556,
              "#d8576b"
             ],
             [
              0.6666666666666666,
              "#ed7953"
             ],
             [
              0.7777777777777778,
              "#fb9f3a"
             ],
             [
              0.8888888888888888,
              "#fdca26"
             ],
             [
              1,
              "#f0f921"
             ]
            ],
            "type": "heatmap"
           }
          ],
          "histogram": [
           {
            "marker": {
             "pattern": {
              "fillmode": "overlay",
              "size": 10,
              "solidity": 0.2
             }
            },
            "type": "histogram"
           }
          ],
          "histogram2d": [
           {
            "colorbar": {
             "outlinewidth": 0,
             "ticks": ""
            },
            "colorscale": [
             [
              0,
              "#0d0887"
             ],
             [
              0.1111111111111111,
              "#46039f"
             ],
             [
              0.2222222222222222,
              "#7201a8"
             ],
             [
              0.3333333333333333,
              "#9c179e"
             ],
             [
              0.4444444444444444,
              "#bd3786"
             ],
             [
              0.5555555555555556,
              "#d8576b"
             ],
             [
              0.6666666666666666,
              "#ed7953"
             ],
             [
              0.7777777777777778,
              "#fb9f3a"
             ],
             [
              0.8888888888888888,
              "#fdca26"
             ],
             [
              1,
              "#f0f921"
             ]
            ],
            "type": "histogram2d"
           }
          ],
          "histogram2dcontour": [
           {
            "colorbar": {
             "outlinewidth": 0,
             "ticks": ""
            },
            "colorscale": [
             [
              0,
              "#0d0887"
             ],
             [
              0.1111111111111111,
              "#46039f"
             ],
             [
              0.2222222222222222,
              "#7201a8"
             ],
             [
              0.3333333333333333,
              "#9c179e"
             ],
             [
              0.4444444444444444,
              "#bd3786"
             ],
             [
              0.5555555555555556,
              "#d8576b"
             ],
             [
              0.6666666666666666,
              "#ed7953"
             ],
             [
              0.7777777777777778,
              "#fb9f3a"
             ],
             [
              0.8888888888888888,
              "#fdca26"
             ],
             [
              1,
              "#f0f921"
             ]
            ],
            "type": "histogram2dcontour"
           }
          ],
          "mesh3d": [
           {
            "colorbar": {
             "outlinewidth": 0,
             "ticks": ""
            },
            "type": "mesh3d"
           }
          ],
          "parcoords": [
           {
            "line": {
             "colorbar": {
              "outlinewidth": 0,
              "ticks": ""
             }
            },
            "type": "parcoords"
           }
          ],
          "pie": [
           {
            "automargin": true,
            "type": "pie"
           }
          ],
          "scatter": [
           {
            "fillpattern": {
             "fillmode": "overlay",
             "size": 10,
             "solidity": 0.2
            },
            "type": "scatter"
           }
          ],
          "scatter3d": [
           {
            "line": {
             "colorbar": {
              "outlinewidth": 0,
              "ticks": ""
             }
            },
            "marker": {
             "colorbar": {
              "outlinewidth": 0,
              "ticks": ""
             }
            },
            "type": "scatter3d"
           }
          ],
          "scattercarpet": [
           {
            "marker": {
             "colorbar": {
              "outlinewidth": 0,
              "ticks": ""
             }
            },
            "type": "scattercarpet"
           }
          ],
          "scattergeo": [
           {
            "marker": {
             "colorbar": {
              "outlinewidth": 0,
              "ticks": ""
             }
            },
            "type": "scattergeo"
           }
          ],
          "scattergl": [
           {
            "marker": {
             "colorbar": {
              "outlinewidth": 0,
              "ticks": ""
             }
            },
            "type": "scattergl"
           }
          ],
          "scattermap": [
           {
            "marker": {
             "colorbar": {
              "outlinewidth": 0,
              "ticks": ""
             }
            },
            "type": "scattermap"
           }
          ],
          "scattermapbox": [
           {
            "marker": {
             "colorbar": {
              "outlinewidth": 0,
              "ticks": ""
             }
            },
            "type": "scattermapbox"
           }
          ],
          "scatterpolar": [
           {
            "marker": {
             "colorbar": {
              "outlinewidth": 0,
              "ticks": ""
             }
            },
            "type": "scatterpolar"
           }
          ],
          "scatterpolargl": [
           {
            "marker": {
             "colorbar": {
              "outlinewidth": 0,
              "ticks": ""
             }
            },
            "type": "scatterpolargl"
           }
          ],
          "scatterternary": [
           {
            "marker": {
             "colorbar": {
              "outlinewidth": 0,
              "ticks": ""
             }
            },
            "type": "scatterternary"
           }
          ],
          "surface": [
           {
            "colorbar": {
             "outlinewidth": 0,
             "ticks": ""
            },
            "colorscale": [
             [
              0,
              "#0d0887"
             ],
             [
              0.1111111111111111,
              "#46039f"
             ],
             [
              0.2222222222222222,
              "#7201a8"
             ],
             [
              0.3333333333333333,
              "#9c179e"
             ],
             [
              0.4444444444444444,
              "#bd3786"
             ],
             [
              0.5555555555555556,
              "#d8576b"
             ],
             [
              0.6666666666666666,
              "#ed7953"
             ],
             [
              0.7777777777777778,
              "#fb9f3a"
             ],
             [
              0.8888888888888888,
              "#fdca26"
             ],
             [
              1,
              "#f0f921"
             ]
            ],
            "type": "surface"
           }
          ],
          "table": [
           {
            "cells": {
             "fill": {
              "color": "#EBF0F8"
             },
             "line": {
              "color": "white"
             }
            },
            "header": {
             "fill": {
              "color": "#C8D4E3"
             },
             "line": {
              "color": "white"
             }
            },
            "type": "table"
           }
          ]
         },
         "layout": {
          "annotationdefaults": {
           "arrowcolor": "#2a3f5f",
           "arrowhead": 0,
           "arrowwidth": 1
          },
          "autotypenumbers": "strict",
          "coloraxis": {
           "colorbar": {
            "outlinewidth": 0,
            "ticks": ""
           }
          },
          "colorscale": {
           "diverging": [
            [
             0,
             "#8e0152"
            ],
            [
             0.1,
             "#c51b7d"
            ],
            [
             0.2,
             "#de77ae"
            ],
            [
             0.3,
             "#f1b6da"
            ],
            [
             0.4,
             "#fde0ef"
            ],
            [
             0.5,
             "#f7f7f7"
            ],
            [
             0.6,
             "#e6f5d0"
            ],
            [
             0.7,
             "#b8e186"
            ],
            [
             0.8,
             "#7fbc41"
            ],
            [
             0.9,
             "#4d9221"
            ],
            [
             1,
             "#276419"
            ]
           ],
           "sequential": [
            [
             0,
             "#0d0887"
            ],
            [
             0.1111111111111111,
             "#46039f"
            ],
            [
             0.2222222222222222,
             "#7201a8"
            ],
            [
             0.3333333333333333,
             "#9c179e"
            ],
            [
             0.4444444444444444,
             "#bd3786"
            ],
            [
             0.5555555555555556,
             "#d8576b"
            ],
            [
             0.6666666666666666,
             "#ed7953"
            ],
            [
             0.7777777777777778,
             "#fb9f3a"
            ],
            [
             0.8888888888888888,
             "#fdca26"
            ],
            [
             1,
             "#f0f921"
            ]
           ],
           "sequentialminus": [
            [
             0,
             "#0d0887"
            ],
            [
             0.1111111111111111,
             "#46039f"
            ],
            [
             0.2222222222222222,
             "#7201a8"
            ],
            [
             0.3333333333333333,
             "#9c179e"
            ],
            [
             0.4444444444444444,
             "#bd3786"
            ],
            [
             0.5555555555555556,
             "#d8576b"
            ],
            [
             0.6666666666666666,
             "#ed7953"
            ],
            [
             0.7777777777777778,
             "#fb9f3a"
            ],
            [
             0.8888888888888888,
             "#fdca26"
            ],
            [
             1,
             "#f0f921"
            ]
           ]
          },
          "colorway": [
           "#636efa",
           "#EF553B",
           "#00cc96",
           "#ab63fa",
           "#FFA15A",
           "#19d3f3",
           "#FF6692",
           "#B6E880",
           "#FF97FF",
           "#FECB52"
          ],
          "font": {
           "color": "#2a3f5f"
          },
          "geo": {
           "bgcolor": "white",
           "lakecolor": "white",
           "landcolor": "white",
           "showlakes": true,
           "showland": true,
           "subunitcolor": "#C8D4E3"
          },
          "hoverlabel": {
           "align": "left"
          },
          "hovermode": "closest",
          "mapbox": {
           "style": "light"
          },
          "paper_bgcolor": "white",
          "plot_bgcolor": "white",
          "polar": {
           "angularaxis": {
            "gridcolor": "#EBF0F8",
            "linecolor": "#EBF0F8",
            "ticks": ""
           },
           "bgcolor": "white",
           "radialaxis": {
            "gridcolor": "#EBF0F8",
            "linecolor": "#EBF0F8",
            "ticks": ""
           }
          },
          "scene": {
           "xaxis": {
            "backgroundcolor": "white",
            "gridcolor": "#DFE8F3",
            "gridwidth": 2,
            "linecolor": "#EBF0F8",
            "showbackground": true,
            "ticks": "",
            "zerolinecolor": "#EBF0F8"
           },
           "yaxis": {
            "backgroundcolor": "white",
            "gridcolor": "#DFE8F3",
            "gridwidth": 2,
            "linecolor": "#EBF0F8",
            "showbackground": true,
            "ticks": "",
            "zerolinecolor": "#EBF0F8"
           },
           "zaxis": {
            "backgroundcolor": "white",
            "gridcolor": "#DFE8F3",
            "gridwidth": 2,
            "linecolor": "#EBF0F8",
            "showbackground": true,
            "ticks": "",
            "zerolinecolor": "#EBF0F8"
           }
          },
          "shapedefaults": {
           "line": {
            "color": "#2a3f5f"
           }
          },
          "ternary": {
           "aaxis": {
            "gridcolor": "#DFE8F3",
            "linecolor": "#A2B1C6",
            "ticks": ""
           },
           "baxis": {
            "gridcolor": "#DFE8F3",
            "linecolor": "#A2B1C6",
            "ticks": ""
           },
           "bgcolor": "white",
           "caxis": {
            "gridcolor": "#DFE8F3",
            "linecolor": "#A2B1C6",
            "ticks": ""
           }
          },
          "title": {
           "x": 0.05
          },
          "xaxis": {
           "automargin": true,
           "gridcolor": "#EBF0F8",
           "linecolor": "#EBF0F8",
           "ticks": "",
           "title": {
            "standoff": 15
           },
           "zerolinecolor": "#EBF0F8",
           "zerolinewidth": 2
          },
          "yaxis": {
           "automargin": true,
           "gridcolor": "#EBF0F8",
           "linecolor": "#EBF0F8",
           "ticks": "",
           "title": {
            "standoff": 15
           },
           "zerolinecolor": "#EBF0F8",
           "zerolinewidth": 2
          }
         }
        },
        "title": {
         "text": "Comparação Saída Variável E (200 Amostras) - CT_N1_005: [Exclusiva] - Zerar Variável D - ETHANOL",
         "x": 0.5
        },
        "xaxis": {
         "title": {
          "text": "Amostras"
         }
        },
        "yaxis": {
         "title": {
          "text": "Variável E"
         }
        }
       }
      }
     },
     "metadata": {},
     "output_type": "display_data"
    },
    {
     "name": "stdout",
     "output_type": "stream",
     "text": [
      "\n",
      "================================================================================\n",
      "🔁 CT_N1_005: [Exclusiva] - Zerar Variável D (GASOLINE)\n",
      "--------------------------------------------------------------------------------\n",
      "Diferença Média: 0.5591 | Diferença Máxima: 3.2228 | RMSE: 0.7443 | Desvio Padrão (Std): 0.4914\n"
     ]
    },
    {
     "data": {
      "text/html": [
       "<style type=\"text/css\">\n",
       "</style>\n",
       "<table id=\"T_98ba4\">\n",
       "  <caption>Comparação dos dados - CT_N1_005: [Exclusiva] - Zerar Variável D (GASOLINE)</caption>\n",
       "  <thead>\n",
       "    <tr>\n",
       "      <th class=\"blank level0\" >&nbsp;</th>\n",
       "      <th id=\"T_98ba4_level0_col0\" class=\"col_heading level0 col0\" >Latitude_Orig</th>\n",
       "      <th id=\"T_98ba4_level0_col1\" class=\"col_heading level0 col1\" >Longitude_Orig</th>\n",
       "      <th id=\"T_98ba4_level0_col2\" class=\"col_heading level0 col2\" >Speed(OBD)(km/h)_Orig</th>\n",
       "      <th id=\"T_98ba4_level0_col3\" class=\"col_heading level0 col3\" >Acceleration_Orig</th>\n",
       "      <th id=\"T_98ba4_level0_col4\" class=\"col_heading level0 col4\" > </th>\n",
       "      <th id=\"T_98ba4_level0_col5\" class=\"col_heading level0 col5\" >Latitude_Mod</th>\n",
       "      <th id=\"T_98ba4_level0_col6\" class=\"col_heading level0 col6\" >Longitude_Mod</th>\n",
       "      <th id=\"T_98ba4_level0_col7\" class=\"col_heading level0 col7\" >Speed(OBD)(km/h)_Mod</th>\n",
       "      <th id=\"T_98ba4_level0_col8\" class=\"col_heading level0 col8\" >Acceleration_Mod</th>\n",
       "      <th id=\"T_98ba4_level0_col9\" class=\"col_heading level0 col9\" > </th>\n",
       "      <th id=\"T_98ba4_level0_col10\" class=\"col_heading level0 col10\" >CO₂_Real</th>\n",
       "      <th id=\"T_98ba4_level0_col11\" class=\"col_heading level0 col11\" >CO₂_Pred_Orig</th>\n",
       "      <th id=\"T_98ba4_level0_col12\" class=\"col_heading level0 col12\" >CO₂_Pred_Mod</th>\n",
       "    </tr>\n",
       "  </thead>\n",
       "  <tbody>\n",
       "    <tr>\n",
       "      <th id=\"T_98ba4_level0_row0\" class=\"row_heading level0 row0\" >0</th>\n",
       "      <td id=\"T_98ba4_row0_col0\" class=\"data row0 col0\" >-5.820010</td>\n",
       "      <td id=\"T_98ba4_row0_col1\" class=\"data row0 col1\" >-35.220825</td>\n",
       "      <td id=\"T_98ba4_row0_col2\" class=\"data row0 col2\" >5</td>\n",
       "      <td id=\"T_98ba4_row0_col3\" class=\"data row0 col3\" >0.000000</td>\n",
       "      <td id=\"T_98ba4_row0_col4\" class=\"data row0 col4\" >→</td>\n",
       "      <td id=\"T_98ba4_row0_col5\" class=\"data row0 col5\" >-5.820010</td>\n",
       "      <td id=\"T_98ba4_row0_col6\" class=\"data row0 col6\" >0.000000</td>\n",
       "      <td id=\"T_98ba4_row0_col7\" class=\"data row0 col7\" >5</td>\n",
       "      <td id=\"T_98ba4_row0_col8\" class=\"data row0 col8\" >0.000000</td>\n",
       "      <td id=\"T_98ba4_row0_col9\" class=\"data row0 col9\" > </td>\n",
       "      <td id=\"T_98ba4_row0_col10\" class=\"data row0 col10\" >1.002671</td>\n",
       "      <td id=\"T_98ba4_row0_col11\" class=\"data row0 col11\" >1.456781</td>\n",
       "      <td id=\"T_98ba4_row0_col12\" class=\"data row0 col12\" >0.354376</td>\n",
       "    </tr>\n",
       "    <tr>\n",
       "      <th id=\"T_98ba4_level0_row1\" class=\"row_heading level0 row1\" >1</th>\n",
       "      <td id=\"T_98ba4_row1_col0\" class=\"data row1 col0\" >-5.820013</td>\n",
       "      <td id=\"T_98ba4_row1_col1\" class=\"data row1 col1\" >-35.220822</td>\n",
       "      <td id=\"T_98ba4_row1_col2\" class=\"data row1 col2\" >4</td>\n",
       "      <td id=\"T_98ba4_row1_col3\" class=\"data row1 col3\" >-0.277778</td>\n",
       "      <td id=\"T_98ba4_row1_col4\" class=\"data row1 col4\" >→</td>\n",
       "      <td id=\"T_98ba4_row1_col5\" class=\"data row1 col5\" >-5.820013</td>\n",
       "      <td id=\"T_98ba4_row1_col6\" class=\"data row1 col6\" >0.000000</td>\n",
       "      <td id=\"T_98ba4_row1_col7\" class=\"data row1 col7\" >4</td>\n",
       "      <td id=\"T_98ba4_row1_col8\" class=\"data row1 col8\" >-0.277778</td>\n",
       "      <td id=\"T_98ba4_row1_col9\" class=\"data row1 col9\" > </td>\n",
       "      <td id=\"T_98ba4_row1_col10\" class=\"data row1 col10\" >1.013360</td>\n",
       "      <td id=\"T_98ba4_row1_col11\" class=\"data row1 col11\" >1.016708</td>\n",
       "      <td id=\"T_98ba4_row1_col12\" class=\"data row1 col12\" >0.631768</td>\n",
       "    </tr>\n",
       "    <tr>\n",
       "      <th id=\"T_98ba4_level0_row2\" class=\"row_heading level0 row2\" >2</th>\n",
       "      <td id=\"T_98ba4_row2_col0\" class=\"data row2 col0\" >-5.820016</td>\n",
       "      <td id=\"T_98ba4_row2_col1\" class=\"data row2 col1\" >-35.220819</td>\n",
       "      <td id=\"T_98ba4_row2_col2\" class=\"data row2 col2\" >5</td>\n",
       "      <td id=\"T_98ba4_row2_col3\" class=\"data row2 col3\" >0.277778</td>\n",
       "      <td id=\"T_98ba4_row2_col4\" class=\"data row2 col4\" >→</td>\n",
       "      <td id=\"T_98ba4_row2_col5\" class=\"data row2 col5\" >-5.820016</td>\n",
       "      <td id=\"T_98ba4_row2_col6\" class=\"data row2 col6\" >0.000000</td>\n",
       "      <td id=\"T_98ba4_row2_col7\" class=\"data row2 col7\" >5</td>\n",
       "      <td id=\"T_98ba4_row2_col8\" class=\"data row2 col8\" >0.277778</td>\n",
       "      <td id=\"T_98ba4_row2_col9\" class=\"data row2 col9\" > </td>\n",
       "      <td id=\"T_98ba4_row2_col10\" class=\"data row2 col10\" >2.088720</td>\n",
       "      <td id=\"T_98ba4_row2_col11\" class=\"data row2 col11\" >1.456781</td>\n",
       "      <td id=\"T_98ba4_row2_col12\" class=\"data row2 col12\" >0.354376</td>\n",
       "    </tr>\n",
       "    <tr>\n",
       "      <th id=\"T_98ba4_level0_row3\" class=\"row_heading level0 row3\" >3</th>\n",
       "      <td id=\"T_98ba4_row3_col0\" class=\"data row3 col0\" >-5.820014</td>\n",
       "      <td id=\"T_98ba4_row3_col1\" class=\"data row3 col1\" >-35.220825</td>\n",
       "      <td id=\"T_98ba4_row3_col2\" class=\"data row3 col2\" >7</td>\n",
       "      <td id=\"T_98ba4_row3_col3\" class=\"data row3 col3\" >0.555556</td>\n",
       "      <td id=\"T_98ba4_row3_col4\" class=\"data row3 col4\" >→</td>\n",
       "      <td id=\"T_98ba4_row3_col5\" class=\"data row3 col5\" >-5.820014</td>\n",
       "      <td id=\"T_98ba4_row3_col6\" class=\"data row3 col6\" >0.000000</td>\n",
       "      <td id=\"T_98ba4_row3_col7\" class=\"data row3 col7\" >7</td>\n",
       "      <td id=\"T_98ba4_row3_col8\" class=\"data row3 col8\" >0.555556</td>\n",
       "      <td id=\"T_98ba4_row3_col9\" class=\"data row3 col9\" > </td>\n",
       "      <td id=\"T_98ba4_row3_col10\" class=\"data row3 col10\" >2.261889</td>\n",
       "      <td id=\"T_98ba4_row3_col11\" class=\"data row3 col11\" >1.996380</td>\n",
       "      <td id=\"T_98ba4_row3_col12\" class=\"data row3 col12\" >0.574012</td>\n",
       "    </tr>\n",
       "    <tr>\n",
       "      <th id=\"T_98ba4_level0_row4\" class=\"row_heading level0 row4\" >4</th>\n",
       "      <td id=\"T_98ba4_row4_col0\" class=\"data row4 col0\" >-5.819992</td>\n",
       "      <td id=\"T_98ba4_row4_col1\" class=\"data row4 col1\" >-35.220829</td>\n",
       "      <td id=\"T_98ba4_row4_col2\" class=\"data row4 col2\" >9</td>\n",
       "      <td id=\"T_98ba4_row4_col3\" class=\"data row4 col3\" >0.555556</td>\n",
       "      <td id=\"T_98ba4_row4_col4\" class=\"data row4 col4\" >→</td>\n",
       "      <td id=\"T_98ba4_row4_col5\" class=\"data row4 col5\" >-5.819992</td>\n",
       "      <td id=\"T_98ba4_row4_col6\" class=\"data row4 col6\" >0.000000</td>\n",
       "      <td id=\"T_98ba4_row4_col7\" class=\"data row4 col7\" >9</td>\n",
       "      <td id=\"T_98ba4_row4_col8\" class=\"data row4 col8\" >0.555556</td>\n",
       "      <td id=\"T_98ba4_row4_col9\" class=\"data row4 col9\" > </td>\n",
       "      <td id=\"T_98ba4_row4_col10\" class=\"data row4 col10\" >2.499195</td>\n",
       "      <td id=\"T_98ba4_row4_col11\" class=\"data row4 col11\" >2.400486</td>\n",
       "      <td id=\"T_98ba4_row4_col12\" class=\"data row4 col12\" >0.818026</td>\n",
       "    </tr>\n",
       "    <tr>\n",
       "      <th id=\"T_98ba4_level0_row5\" class=\"row_heading level0 row5\" >5</th>\n",
       "      <td id=\"T_98ba4_row5_col0\" class=\"data row5 col0\" >-5.819974</td>\n",
       "      <td id=\"T_98ba4_row5_col1\" class=\"data row5 col1\" >-35.220824</td>\n",
       "      <td id=\"T_98ba4_row5_col2\" class=\"data row5 col2\" >12</td>\n",
       "      <td id=\"T_98ba4_row5_col3\" class=\"data row5 col3\" >0.833333</td>\n",
       "      <td id=\"T_98ba4_row5_col4\" class=\"data row5 col4\" >→</td>\n",
       "      <td id=\"T_98ba4_row5_col5\" class=\"data row5 col5\" >-5.819974</td>\n",
       "      <td id=\"T_98ba4_row5_col6\" class=\"data row5 col6\" >0.000000</td>\n",
       "      <td id=\"T_98ba4_row5_col7\" class=\"data row5 col7\" >12</td>\n",
       "      <td id=\"T_98ba4_row5_col8\" class=\"data row5 col8\" >0.833333</td>\n",
       "      <td id=\"T_98ba4_row5_col9\" class=\"data row5 col9\" > </td>\n",
       "      <td id=\"T_98ba4_row5_col10\" class=\"data row5 col10\" >2.606089</td>\n",
       "      <td id=\"T_98ba4_row5_col11\" class=\"data row5 col11\" >2.400486</td>\n",
       "      <td id=\"T_98ba4_row5_col12\" class=\"data row5 col12\" >0.653651</td>\n",
       "    </tr>\n",
       "    <tr>\n",
       "      <th id=\"T_98ba4_level0_row6\" class=\"row_heading level0 row6\" >6</th>\n",
       "      <td id=\"T_98ba4_row6_col0\" class=\"data row6 col0\" >-5.819944</td>\n",
       "      <td id=\"T_98ba4_row6_col1\" class=\"data row6 col1\" >-35.220823</td>\n",
       "      <td id=\"T_98ba4_row6_col2\" class=\"data row6 col2\" >15</td>\n",
       "      <td id=\"T_98ba4_row6_col3\" class=\"data row6 col3\" >0.833333</td>\n",
       "      <td id=\"T_98ba4_row6_col4\" class=\"data row6 col4\" >→</td>\n",
       "      <td id=\"T_98ba4_row6_col5\" class=\"data row6 col5\" >-5.819944</td>\n",
       "      <td id=\"T_98ba4_row6_col6\" class=\"data row6 col6\" >0.000000</td>\n",
       "      <td id=\"T_98ba4_row6_col7\" class=\"data row6 col7\" >15</td>\n",
       "      <td id=\"T_98ba4_row6_col8\" class=\"data row6 col8\" >0.833333</td>\n",
       "      <td id=\"T_98ba4_row6_col9\" class=\"data row6 col9\" > </td>\n",
       "      <td id=\"T_98ba4_row6_col10\" class=\"data row6 col10\" >3.070012</td>\n",
       "      <td id=\"T_98ba4_row6_col11\" class=\"data row6 col11\" >2.148721</td>\n",
       "      <td id=\"T_98ba4_row6_col12\" class=\"data row6 col12\" >0.505126</td>\n",
       "    </tr>\n",
       "    <tr>\n",
       "      <th id=\"T_98ba4_level0_row7\" class=\"row_heading level0 row7\" >7</th>\n",
       "      <td id=\"T_98ba4_row7_col0\" class=\"data row7 col0\" >-5.819908</td>\n",
       "      <td id=\"T_98ba4_row7_col1\" class=\"data row7 col1\" >-35.220810</td>\n",
       "      <td id=\"T_98ba4_row7_col2\" class=\"data row7 col2\" >18</td>\n",
       "      <td id=\"T_98ba4_row7_col3\" class=\"data row7 col3\" >0.833333</td>\n",
       "      <td id=\"T_98ba4_row7_col4\" class=\"data row7 col4\" >→</td>\n",
       "      <td id=\"T_98ba4_row7_col5\" class=\"data row7 col5\" >-5.819908</td>\n",
       "      <td id=\"T_98ba4_row7_col6\" class=\"data row7 col6\" >0.000000</td>\n",
       "      <td id=\"T_98ba4_row7_col7\" class=\"data row7 col7\" >18</td>\n",
       "      <td id=\"T_98ba4_row7_col8\" class=\"data row7 col8\" >0.833333</td>\n",
       "      <td id=\"T_98ba4_row7_col9\" class=\"data row7 col9\" > </td>\n",
       "      <td id=\"T_98ba4_row7_col10\" class=\"data row7 col10\" >2.445747</td>\n",
       "      <td id=\"T_98ba4_row7_col11\" class=\"data row7 col11\" >1.470940</td>\n",
       "      <td id=\"T_98ba4_row7_col12\" class=\"data row7 col12\" >0.484962</td>\n",
       "    </tr>\n",
       "    <tr>\n",
       "      <th id=\"T_98ba4_level0_row8\" class=\"row_heading level0 row8\" >8</th>\n",
       "      <td id=\"T_98ba4_row8_col0\" class=\"data row8 col0\" >-5.819866</td>\n",
       "      <td id=\"T_98ba4_row8_col1\" class=\"data row8 col1\" >-35.220794</td>\n",
       "      <td id=\"T_98ba4_row8_col2\" class=\"data row8 col2\" >18</td>\n",
       "      <td id=\"T_98ba4_row8_col3\" class=\"data row8 col3\" >0.000000</td>\n",
       "      <td id=\"T_98ba4_row8_col4\" class=\"data row8 col4\" >→</td>\n",
       "      <td id=\"T_98ba4_row8_col5\" class=\"data row8 col5\" >-5.819866</td>\n",
       "      <td id=\"T_98ba4_row8_col6\" class=\"data row8 col6\" >0.000000</td>\n",
       "      <td id=\"T_98ba4_row8_col7\" class=\"data row8 col7\" >18</td>\n",
       "      <td id=\"T_98ba4_row8_col8\" class=\"data row8 col8\" >0.000000</td>\n",
       "      <td id=\"T_98ba4_row8_col9\" class=\"data row8 col9\" > </td>\n",
       "      <td id=\"T_98ba4_row8_col10\" class=\"data row8 col10\" >1.073221</td>\n",
       "      <td id=\"T_98ba4_row8_col11\" class=\"data row8 col11\" >1.588029</td>\n",
       "      <td id=\"T_98ba4_row8_col12\" class=\"data row8 col12\" >0.481107</td>\n",
       "    </tr>\n",
       "    <tr>\n",
       "      <th id=\"T_98ba4_level0_row9\" class=\"row_heading level0 row9\" >9</th>\n",
       "      <td id=\"T_98ba4_row9_col0\" class=\"data row9 col0\" >-5.819821</td>\n",
       "      <td id=\"T_98ba4_row9_col1\" class=\"data row9 col1\" >-35.220775</td>\n",
       "      <td id=\"T_98ba4_row9_col2\" class=\"data row9 col2\" >16</td>\n",
       "      <td id=\"T_98ba4_row9_col3\" class=\"data row9 col3\" >-0.555556</td>\n",
       "      <td id=\"T_98ba4_row9_col4\" class=\"data row9 col4\" >→</td>\n",
       "      <td id=\"T_98ba4_row9_col5\" class=\"data row9 col5\" >-5.819821</td>\n",
       "      <td id=\"T_98ba4_row9_col6\" class=\"data row9 col6\" >0.000000</td>\n",
       "      <td id=\"T_98ba4_row9_col7\" class=\"data row9 col7\" >16</td>\n",
       "      <td id=\"T_98ba4_row9_col8\" class=\"data row9 col8\" >-0.555556</td>\n",
       "      <td id=\"T_98ba4_row9_col9\" class=\"data row9 col9\" > </td>\n",
       "      <td id=\"T_98ba4_row9_col10\" class=\"data row9 col10\" >0.562265</td>\n",
       "      <td id=\"T_98ba4_row9_col11\" class=\"data row9 col11\" >1.085921</td>\n",
       "      <td id=\"T_98ba4_row9_col12\" class=\"data row9 col12\" >0.750878</td>\n",
       "    </tr>\n",
       "  </tbody>\n",
       "</table>\n"
      ],
      "text/plain": [
       "<pandas.io.formats.style.Styler at 0x169753c1d10>"
      ]
     },
     "metadata": {},
     "output_type": "display_data"
    },
    {
     "data": {
      "application/vnd.plotly.v1+json": {
       "config": {
        "plotlyServerURL": "https://plot.ly"
       },
       "data": [
        {
         "line": {
          "color": "gray",
          "dash": "dot"
         },
         "mode": "lines",
         "name": "Real",
         "type": "scatter",
         "y": {
          "bdata": "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",
          "dtype": "f8"
         }
        },
        {
         "line": {
          "color": "blue",
          "dash": "dash"
         },
         "mode": "lines",
         "name": "Predição Original",
         "type": "scatter",
         "y": {
          "bdata": "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",
          "dtype": "f8"
         }
        },
        {
         "line": {
          "color": "red"
         },
         "mode": "lines",
         "name": "Predição com RM",
         "type": "scatter",
         "y": {
          "bdata": "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",
          "dtype": "f8"
         }
        }
       ],
       "layout": {
        "template": {
         "data": {
          "bar": [
           {
            "error_x": {
             "color": "#2a3f5f"
            },
            "error_y": {
             "color": "#2a3f5f"
            },
            "marker": {
             "line": {
              "color": "white",
              "width": 0.5
             },
             "pattern": {
              "fillmode": "overlay",
              "size": 10,
              "solidity": 0.2
             }
            },
            "type": "bar"
           }
          ],
          "barpolar": [
           {
            "marker": {
             "line": {
              "color": "white",
              "width": 0.5
             },
             "pattern": {
              "fillmode": "overlay",
              "size": 10,
              "solidity": 0.2
             }
            },
            "type": "barpolar"
           }
          ],
          "carpet": [
           {
            "aaxis": {
             "endlinecolor": "#2a3f5f",
             "gridcolor": "#C8D4E3",
             "linecolor": "#C8D4E3",
             "minorgridcolor": "#C8D4E3",
             "startlinecolor": "#2a3f5f"
            },
            "baxis": {
             "endlinecolor": "#2a3f5f",
             "gridcolor": "#C8D4E3",
             "linecolor": "#C8D4E3",
             "minorgridcolor": "#C8D4E3",
             "startlinecolor": "#2a3f5f"
            },
            "type": "carpet"
           }
          ],
          "choropleth": [
           {
            "colorbar": {
             "outlinewidth": 0,
             "ticks": ""
            },
            "type": "choropleth"
           }
          ],
          "contour": [
           {
            "colorbar": {
             "outlinewidth": 0,
             "ticks": ""
            },
            "colorscale": [
             [
              0,
              "#0d0887"
             ],
             [
              0.1111111111111111,
              "#46039f"
             ],
             [
              0.2222222222222222,
              "#7201a8"
             ],
             [
              0.3333333333333333,
              "#9c179e"
             ],
             [
              0.4444444444444444,
              "#bd3786"
             ],
             [
              0.5555555555555556,
              "#d8576b"
             ],
             [
              0.6666666666666666,
              "#ed7953"
             ],
             [
              0.7777777777777778,
              "#fb9f3a"
             ],
             [
              0.8888888888888888,
              "#fdca26"
             ],
             [
              1,
              "#f0f921"
             ]
            ],
            "type": "contour"
           }
          ],
          "contourcarpet": [
           {
            "colorbar": {
             "outlinewidth": 0,
             "ticks": ""
            },
            "type": "contourcarpet"
           }
          ],
          "heatmap": [
           {
            "colorbar": {
             "outlinewidth": 0,
             "ticks": ""
            },
            "colorscale": [
             [
              0,
              "#0d0887"
             ],
             [
              0.1111111111111111,
              "#46039f"
             ],
             [
              0.2222222222222222,
              "#7201a8"
             ],
             [
              0.3333333333333333,
              "#9c179e"
             ],
             [
              0.4444444444444444,
              "#bd3786"
             ],
             [
              0.5555555555555556,
              "#d8576b"
             ],
             [
              0.6666666666666666,
              "#ed7953"
             ],
             [
              0.7777777777777778,
              "#fb9f3a"
             ],
             [
              0.8888888888888888,
              "#fdca26"
             ],
             [
              1,
              "#f0f921"
             ]
            ],
            "type": "heatmap"
           }
          ],
          "histogram": [
           {
            "marker": {
             "pattern": {
              "fillmode": "overlay",
              "size": 10,
              "solidity": 0.2
             }
            },
            "type": "histogram"
           }
          ],
          "histogram2d": [
           {
            "colorbar": {
             "outlinewidth": 0,
             "ticks": ""
            },
            "colorscale": [
             [
              0,
              "#0d0887"
             ],
             [
              0.1111111111111111,
              "#46039f"
             ],
             [
              0.2222222222222222,
              "#7201a8"
             ],
             [
              0.3333333333333333,
              "#9c179e"
             ],
             [
              0.4444444444444444,
              "#bd3786"
             ],
             [
              0.5555555555555556,
              "#d8576b"
             ],
             [
              0.6666666666666666,
              "#ed7953"
             ],
             [
              0.7777777777777778,
              "#fb9f3a"
             ],
             [
              0.8888888888888888,
              "#fdca26"
             ],
             [
              1,
              "#f0f921"
             ]
            ],
            "type": "histogram2d"
           }
          ],
          "histogram2dcontour": [
           {
            "colorbar": {
             "outlinewidth": 0,
             "ticks": ""
            },
            "colorscale": [
             [
              0,
              "#0d0887"
             ],
             [
              0.1111111111111111,
              "#46039f"
             ],
             [
              0.2222222222222222,
              "#7201a8"
             ],
             [
              0.3333333333333333,
              "#9c179e"
             ],
             [
              0.4444444444444444,
              "#bd3786"
             ],
             [
              0.5555555555555556,
              "#d8576b"
             ],
             [
              0.6666666666666666,
              "#ed7953"
             ],
             [
              0.7777777777777778,
              "#fb9f3a"
             ],
             [
              0.8888888888888888,
              "#fdca26"
             ],
             [
              1,
              "#f0f921"
             ]
            ],
            "type": "histogram2dcontour"
           }
          ],
          "mesh3d": [
           {
            "colorbar": {
             "outlinewidth": 0,
             "ticks": ""
            },
            "type": "mesh3d"
           }
          ],
          "parcoords": [
           {
            "line": {
             "colorbar": {
              "outlinewidth": 0,
              "ticks": ""
             }
            },
            "type": "parcoords"
           }
          ],
          "pie": [
           {
            "automargin": true,
            "type": "pie"
           }
          ],
          "scatter": [
           {
            "fillpattern": {
             "fillmode": "overlay",
             "size": 10,
             "solidity": 0.2
            },
            "type": "scatter"
           }
          ],
          "scatter3d": [
           {
            "line": {
             "colorbar": {
              "outlinewidth": 0,
              "ticks": ""
             }
            },
            "marker": {
             "colorbar": {
              "outlinewidth": 0,
              "ticks": ""
             }
            },
            "type": "scatter3d"
           }
          ],
          "scattercarpet": [
           {
            "marker": {
             "colorbar": {
              "outlinewidth": 0,
              "ticks": ""
             }
            },
            "type": "scattercarpet"
           }
          ],
          "scattergeo": [
           {
            "marker": {
             "colorbar": {
              "outlinewidth": 0,
              "ticks": ""
             }
            },
            "type": "scattergeo"
           }
          ],
          "scattergl": [
           {
            "marker": {
             "colorbar": {
              "outlinewidth": 0,
              "ticks": ""
             }
            },
            "type": "scattergl"
           }
          ],
          "scattermap": [
           {
            "marker": {
             "colorbar": {
              "outlinewidth": 0,
              "ticks": ""
             }
            },
            "type": "scattermap"
           }
          ],
          "scattermapbox": [
           {
            "marker": {
             "colorbar": {
              "outlinewidth": 0,
              "ticks": ""
             }
            },
            "type": "scattermapbox"
           }
          ],
          "scatterpolar": [
           {
            "marker": {
             "colorbar": {
              "outlinewidth": 0,
              "ticks": ""
             }
            },
            "type": "scatterpolar"
           }
          ],
          "scatterpolargl": [
           {
            "marker": {
             "colorbar": {
              "outlinewidth": 0,
              "ticks": ""
             }
            },
            "type": "scatterpolargl"
           }
          ],
          "scatterternary": [
           {
            "marker": {
             "colorbar": {
              "outlinewidth": 0,
              "ticks": ""
             }
            },
            "type": "scatterternary"
           }
          ],
          "surface": [
           {
            "colorbar": {
             "outlinewidth": 0,
             "ticks": ""
            },
            "colorscale": [
             [
              0,
              "#0d0887"
             ],
             [
              0.1111111111111111,
              "#46039f"
             ],
             [
              0.2222222222222222,
              "#7201a8"
             ],
             [
              0.3333333333333333,
              "#9c179e"
             ],
             [
              0.4444444444444444,
              "#bd3786"
             ],
             [
              0.5555555555555556,
              "#d8576b"
             ],
             [
              0.6666666666666666,
              "#ed7953"
             ],
             [
              0.7777777777777778,
              "#fb9f3a"
             ],
             [
              0.8888888888888888,
              "#fdca26"
             ],
             [
              1,
              "#f0f921"
             ]
            ],
            "type": "surface"
           }
          ],
          "table": [
           {
            "cells": {
             "fill": {
              "color": "#EBF0F8"
             },
             "line": {
              "color": "white"
             }
            },
            "header": {
             "fill": {
              "color": "#C8D4E3"
             },
             "line": {
              "color": "white"
             }
            },
            "type": "table"
           }
          ]
         },
         "layout": {
          "annotationdefaults": {
           "arrowcolor": "#2a3f5f",
           "arrowhead": 0,
           "arrowwidth": 1
          },
          "autotypenumbers": "strict",
          "coloraxis": {
           "colorbar": {
            "outlinewidth": 0,
            "ticks": ""
           }
          },
          "colorscale": {
           "diverging": [
            [
             0,
             "#8e0152"
            ],
            [
             0.1,
             "#c51b7d"
            ],
            [
             0.2,
             "#de77ae"
            ],
            [
             0.3,
             "#f1b6da"
            ],
            [
             0.4,
             "#fde0ef"
            ],
            [
             0.5,
             "#f7f7f7"
            ],
            [
             0.6,
             "#e6f5d0"
            ],
            [
             0.7,
             "#b8e186"
            ],
            [
             0.8,
             "#7fbc41"
            ],
            [
             0.9,
             "#4d9221"
            ],
            [
             1,
             "#276419"
            ]
           ],
           "sequential": [
            [
             0,
             "#0d0887"
            ],
            [
             0.1111111111111111,
             "#46039f"
            ],
            [
             0.2222222222222222,
             "#7201a8"
            ],
            [
             0.3333333333333333,
             "#9c179e"
            ],
            [
             0.4444444444444444,
             "#bd3786"
            ],
            [
             0.5555555555555556,
             "#d8576b"
            ],
            [
             0.6666666666666666,
             "#ed7953"
            ],
            [
             0.7777777777777778,
             "#fb9f3a"
            ],
            [
             0.8888888888888888,
             "#fdca26"
            ],
            [
             1,
             "#f0f921"
            ]
           ],
           "sequentialminus": [
            [
             0,
             "#0d0887"
            ],
            [
             0.1111111111111111,
             "#46039f"
            ],
            [
             0.2222222222222222,
             "#7201a8"
            ],
            [
             0.3333333333333333,
             "#9c179e"
            ],
            [
             0.4444444444444444,
             "#bd3786"
            ],
            [
             0.5555555555555556,
             "#d8576b"
            ],
            [
             0.6666666666666666,
             "#ed7953"
            ],
            [
             0.7777777777777778,
             "#fb9f3a"
            ],
            [
             0.8888888888888888,
             "#fdca26"
            ],
            [
             1,
             "#f0f921"
            ]
           ]
          },
          "colorway": [
           "#636efa",
           "#EF553B",
           "#00cc96",
           "#ab63fa",
           "#FFA15A",
           "#19d3f3",
           "#FF6692",
           "#B6E880",
           "#FF97FF",
           "#FECB52"
          ],
          "font": {
           "color": "#2a3f5f"
          },
          "geo": {
           "bgcolor": "white",
           "lakecolor": "white",
           "landcolor": "white",
           "showlakes": true,
           "showland": true,
           "subunitcolor": "#C8D4E3"
          },
          "hoverlabel": {
           "align": "left"
          },
          "hovermode": "closest",
          "mapbox": {
           "style": "light"
          },
          "paper_bgcolor": "white",
          "plot_bgcolor": "white",
          "polar": {
           "angularaxis": {
            "gridcolor": "#EBF0F8",
            "linecolor": "#EBF0F8",
            "ticks": ""
           },
           "bgcolor": "white",
           "radialaxis": {
            "gridcolor": "#EBF0F8",
            "linecolor": "#EBF0F8",
            "ticks": ""
           }
          },
          "scene": {
           "xaxis": {
            "backgroundcolor": "white",
            "gridcolor": "#DFE8F3",
            "gridwidth": 2,
            "linecolor": "#EBF0F8",
            "showbackground": true,
            "ticks": "",
            "zerolinecolor": "#EBF0F8"
           },
           "yaxis": {
            "backgroundcolor": "white",
            "gridcolor": "#DFE8F3",
            "gridwidth": 2,
            "linecolor": "#EBF0F8",
            "showbackground": true,
            "ticks": "",
            "zerolinecolor": "#EBF0F8"
           },
           "zaxis": {
            "backgroundcolor": "white",
            "gridcolor": "#DFE8F3",
            "gridwidth": 2,
            "linecolor": "#EBF0F8",
            "showbackground": true,
            "ticks": "",
            "zerolinecolor": "#EBF0F8"
           }
          },
          "shapedefaults": {
           "line": {
            "color": "#2a3f5f"
           }
          },
          "ternary": {
           "aaxis": {
            "gridcolor": "#DFE8F3",
            "linecolor": "#A2B1C6",
            "ticks": ""
           },
           "baxis": {
            "gridcolor": "#DFE8F3",
            "linecolor": "#A2B1C6",
            "ticks": ""
           },
           "bgcolor": "white",
           "caxis": {
            "gridcolor": "#DFE8F3",
            "linecolor": "#A2B1C6",
            "ticks": ""
           }
          },
          "title": {
           "x": 0.05
          },
          "xaxis": {
           "automargin": true,
           "gridcolor": "#EBF0F8",
           "linecolor": "#EBF0F8",
           "ticks": "",
           "title": {
            "standoff": 15
           },
           "zerolinecolor": "#EBF0F8",
           "zerolinewidth": 2
          },
          "yaxis": {
           "automargin": true,
           "gridcolor": "#EBF0F8",
           "linecolor": "#EBF0F8",
           "ticks": "",
           "title": {
            "standoff": 15
           },
           "zerolinecolor": "#EBF0F8",
           "zerolinewidth": 2
          }
         }
        },
        "title": {
         "text": "Comparação Saída Variável E (200 Amostras) - CT_N1_005: [Exclusiva] - Zerar Variável D - GASOLINE",
         "x": 0.5
        },
        "xaxis": {
         "title": {
          "text": "Amostras"
         }
        },
        "yaxis": {
         "title": {
          "text": "Variável E"
         }
        }
       }
      }
     },
     "metadata": {},
     "output_type": "display_data"
    },
    {
     "name": "stdout",
     "output_type": "stream",
     "text": [
      "\n",
      "================================================================================\n",
      "🔁 CT_N1_006: [Sustentável] - Adicionar Ruído na Velocidade (ETHANOL)\n",
      "--------------------------------------------------------------------------------\n",
      "Diferença Média: 0.0203 | Diferença Máxima: 0.8143 | RMSE: 0.0612 | Desvio Padrão (Std): 0.0577\n"
     ]
    },
    {
     "data": {
      "text/html": [
       "<style type=\"text/css\">\n",
       "</style>\n",
       "<table id=\"T_a3b43\">\n",
       "  <caption>Comparação dos dados - CT_N1_006: [Sustentável] - Adicionar Ruído na Velocidade (ETHANOL)</caption>\n",
       "  <thead>\n",
       "    <tr>\n",
       "      <th class=\"blank level0\" >&nbsp;</th>\n",
       "      <th id=\"T_a3b43_level0_col0\" class=\"col_heading level0 col0\" >Latitude_Orig</th>\n",
       "      <th id=\"T_a3b43_level0_col1\" class=\"col_heading level0 col1\" >Longitude_Orig</th>\n",
       "      <th id=\"T_a3b43_level0_col2\" class=\"col_heading level0 col2\" >Speed(OBD)(km/h)_Orig</th>\n",
       "      <th id=\"T_a3b43_level0_col3\" class=\"col_heading level0 col3\" >Acceleration_Orig</th>\n",
       "      <th id=\"T_a3b43_level0_col4\" class=\"col_heading level0 col4\" > </th>\n",
       "      <th id=\"T_a3b43_level0_col5\" class=\"col_heading level0 col5\" >Latitude_Mod</th>\n",
       "      <th id=\"T_a3b43_level0_col6\" class=\"col_heading level0 col6\" >Longitude_Mod</th>\n",
       "      <th id=\"T_a3b43_level0_col7\" class=\"col_heading level0 col7\" >Speed(OBD)(km/h)_Mod</th>\n",
       "      <th id=\"T_a3b43_level0_col8\" class=\"col_heading level0 col8\" >Acceleration_Mod</th>\n",
       "      <th id=\"T_a3b43_level0_col9\" class=\"col_heading level0 col9\" > </th>\n",
       "      <th id=\"T_a3b43_level0_col10\" class=\"col_heading level0 col10\" >CO₂_Real</th>\n",
       "      <th id=\"T_a3b43_level0_col11\" class=\"col_heading level0 col11\" >CO₂_Pred_Orig</th>\n",
       "      <th id=\"T_a3b43_level0_col12\" class=\"col_heading level0 col12\" >CO₂_Pred_Mod</th>\n",
       "    </tr>\n",
       "  </thead>\n",
       "  <tbody>\n",
       "    <tr>\n",
       "      <th id=\"T_a3b43_level0_row0\" class=\"row_heading level0 row0\" >0</th>\n",
       "      <td id=\"T_a3b43_row0_col0\" class=\"data row0 col0\" >-5.820105</td>\n",
       "      <td id=\"T_a3b43_row0_col1\" class=\"data row0 col1\" >-35.220818</td>\n",
       "      <td id=\"T_a3b43_row0_col2\" class=\"data row0 col2\" >3</td>\n",
       "      <td id=\"T_a3b43_row0_col3\" class=\"data row0 col3\" >0.000000</td>\n",
       "      <td id=\"T_a3b43_row0_col4\" class=\"data row0 col4\" >→</td>\n",
       "      <td id=\"T_a3b43_row0_col5\" class=\"data row0 col5\" >-5.820105</td>\n",
       "      <td id=\"T_a3b43_row0_col6\" class=\"data row0 col6\" >-35.220818</td>\n",
       "      <td id=\"T_a3b43_row0_col7\" class=\"data row0 col7\" >2.940173</td>\n",
       "      <td id=\"T_a3b43_row0_col8\" class=\"data row0 col8\" >0.000000</td>\n",
       "      <td id=\"T_a3b43_row0_col9\" class=\"data row0 col9\" > </td>\n",
       "      <td id=\"T_a3b43_row0_col10\" class=\"data row0 col10\" >0.642839</td>\n",
       "      <td id=\"T_a3b43_row0_col11\" class=\"data row0 col11\" >0.742631</td>\n",
       "      <td id=\"T_a3b43_row0_col12\" class=\"data row0 col12\" >0.933717</td>\n",
       "    </tr>\n",
       "    <tr>\n",
       "      <th id=\"T_a3b43_level0_row1\" class=\"row_heading level0 row1\" >1</th>\n",
       "      <td id=\"T_a3b43_row1_col0\" class=\"data row1 col0\" >-5.820103</td>\n",
       "      <td id=\"T_a3b43_row1_col1\" class=\"data row1 col1\" >-35.220828</td>\n",
       "      <td id=\"T_a3b43_row1_col2\" class=\"data row1 col2\" >5</td>\n",
       "      <td id=\"T_a3b43_row1_col3\" class=\"data row1 col3\" >0.555556</td>\n",
       "      <td id=\"T_a3b43_row1_col4\" class=\"data row1 col4\" >→</td>\n",
       "      <td id=\"T_a3b43_row1_col5\" class=\"data row1 col5\" >-5.820103</td>\n",
       "      <td id=\"T_a3b43_row1_col6\" class=\"data row1 col6\" >-35.220828</td>\n",
       "      <td id=\"T_a3b43_row1_col7\" class=\"data row1 col7\" >4.890107</td>\n",
       "      <td id=\"T_a3b43_row1_col8\" class=\"data row1 col8\" >0.555556</td>\n",
       "      <td id=\"T_a3b43_row1_col9\" class=\"data row1 col9\" > </td>\n",
       "      <td id=\"T_a3b43_row1_col10\" class=\"data row1 col10\" >0.653249</td>\n",
       "      <td id=\"T_a3b43_row1_col11\" class=\"data row1 col11\" >0.771505</td>\n",
       "      <td id=\"T_a3b43_row1_col12\" class=\"data row1 col12\" >0.764202</td>\n",
       "    </tr>\n",
       "    <tr>\n",
       "      <th id=\"T_a3b43_level0_row2\" class=\"row_heading level0 row2\" >2</th>\n",
       "      <td id=\"T_a3b43_row2_col0\" class=\"data row2 col0\" >-5.820102</td>\n",
       "      <td id=\"T_a3b43_row2_col1\" class=\"data row2 col1\" >-35.220838</td>\n",
       "      <td id=\"T_a3b43_row2_col2\" class=\"data row2 col2\" >5</td>\n",
       "      <td id=\"T_a3b43_row2_col3\" class=\"data row2 col3\" >0.000000</td>\n",
       "      <td id=\"T_a3b43_row2_col4\" class=\"data row2 col4\" >→</td>\n",
       "      <td id=\"T_a3b43_row2_col5\" class=\"data row2 col5\" >-5.820102</td>\n",
       "      <td id=\"T_a3b43_row2_col6\" class=\"data row2 col6\" >-35.220838</td>\n",
       "      <td id=\"T_a3b43_row2_col7\" class=\"data row2 col7\" >5.175330</td>\n",
       "      <td id=\"T_a3b43_row2_col8\" class=\"data row2 col8\" >0.000000</td>\n",
       "      <td id=\"T_a3b43_row2_col9\" class=\"data row2 col9\" > </td>\n",
       "      <td id=\"T_a3b43_row2_col10\" class=\"data row2 col10\" >0.653249</td>\n",
       "      <td id=\"T_a3b43_row2_col11\" class=\"data row2 col11\" >0.771505</td>\n",
       "      <td id=\"T_a3b43_row2_col12\" class=\"data row2 col12\" >0.771505</td>\n",
       "    </tr>\n",
       "    <tr>\n",
       "      <th id=\"T_a3b43_level0_row3\" class=\"row_heading level0 row3\" >3</th>\n",
       "      <td id=\"T_a3b43_row3_col0\" class=\"data row3 col0\" >-5.820096</td>\n",
       "      <td id=\"T_a3b43_row3_col1\" class=\"data row3 col1\" >-35.220843</td>\n",
       "      <td id=\"T_a3b43_row3_col2\" class=\"data row3 col2\" >3</td>\n",
       "      <td id=\"T_a3b43_row3_col3\" class=\"data row3 col3\" >-0.555556</td>\n",
       "      <td id=\"T_a3b43_row3_col4\" class=\"data row3 col4\" >→</td>\n",
       "      <td id=\"T_a3b43_row3_col5\" class=\"data row3 col5\" >-5.820096</td>\n",
       "      <td id=\"T_a3b43_row3_col6\" class=\"data row3 col6\" >-35.220843</td>\n",
       "      <td id=\"T_a3b43_row3_col7\" class=\"data row3 col7\" >2.943814</td>\n",
       "      <td id=\"T_a3b43_row3_col8\" class=\"data row3 col8\" >-0.555556</td>\n",
       "      <td id=\"T_a3b43_row3_col9\" class=\"data row3 col9\" > </td>\n",
       "      <td id=\"T_a3b43_row3_col10\" class=\"data row3 col10\" >0.679275</td>\n",
       "      <td id=\"T_a3b43_row3_col11\" class=\"data row3 col11\" >0.659013</td>\n",
       "      <td id=\"T_a3b43_row3_col12\" class=\"data row3 col12\" >0.659741</td>\n",
       "    </tr>\n",
       "    <tr>\n",
       "      <th id=\"T_a3b43_level0_row4\" class=\"row_heading level0 row4\" >4</th>\n",
       "      <td id=\"T_a3b43_row4_col0\" class=\"data row4 col0\" >-5.820091</td>\n",
       "      <td id=\"T_a3b43_row4_col1\" class=\"data row4 col1\" >-35.220850</td>\n",
       "      <td id=\"T_a3b43_row4_col2\" class=\"data row4 col2\" >0</td>\n",
       "      <td id=\"T_a3b43_row4_col3\" class=\"data row4 col3\" >-0.833333</td>\n",
       "      <td id=\"T_a3b43_row4_col4\" class=\"data row4 col4\" >→</td>\n",
       "      <td id=\"T_a3b43_row4_col5\" class=\"data row4 col5\" >-5.820091</td>\n",
       "      <td id=\"T_a3b43_row4_col6\" class=\"data row4 col6\" >-35.220850</td>\n",
       "      <td id=\"T_a3b43_row4_col7\" class=\"data row4 col7\" >0.052910</td>\n",
       "      <td id=\"T_a3b43_row4_col8\" class=\"data row4 col8\" >-0.833333</td>\n",
       "      <td id=\"T_a3b43_row4_col9\" class=\"data row4 col9\" > </td>\n",
       "      <td id=\"T_a3b43_row4_col10\" class=\"data row4 col10\" >0.610306</td>\n",
       "      <td id=\"T_a3b43_row4_col11\" class=\"data row4 col11\" >0.667689</td>\n",
       "      <td id=\"T_a3b43_row4_col12\" class=\"data row4 col12\" >0.667689</td>\n",
       "    </tr>\n",
       "    <tr>\n",
       "      <th id=\"T_a3b43_level0_row5\" class=\"row_heading level0 row5\" >5</th>\n",
       "      <td id=\"T_a3b43_row5_col0\" class=\"data row5 col0\" >-5.820091</td>\n",
       "      <td id=\"T_a3b43_row5_col1\" class=\"data row5 col1\" >-35.220850</td>\n",
       "      <td id=\"T_a3b43_row5_col2\" class=\"data row5 col2\" >0</td>\n",
       "      <td id=\"T_a3b43_row5_col3\" class=\"data row5 col3\" >0.000000</td>\n",
       "      <td id=\"T_a3b43_row5_col4\" class=\"data row5 col4\" >→</td>\n",
       "      <td id=\"T_a3b43_row5_col5\" class=\"data row5 col5\" >-5.820091</td>\n",
       "      <td id=\"T_a3b43_row5_col6\" class=\"data row5 col6\" >-35.220850</td>\n",
       "      <td id=\"T_a3b43_row5_col7\" class=\"data row5 col7\" >0.107826</td>\n",
       "      <td id=\"T_a3b43_row5_col8\" class=\"data row5 col8\" >0.000000</td>\n",
       "      <td id=\"T_a3b43_row5_col9\" class=\"data row5 col9\" > </td>\n",
       "      <td id=\"T_a3b43_row5_col10\" class=\"data row5 col10\" >0.610306</td>\n",
       "      <td id=\"T_a3b43_row5_col11\" class=\"data row5 col11\" >0.706858</td>\n",
       "      <td id=\"T_a3b43_row5_col12\" class=\"data row5 col12\" >0.706858</td>\n",
       "    </tr>\n",
       "    <tr>\n",
       "      <th id=\"T_a3b43_level0_row6\" class=\"row_heading level0 row6\" >6</th>\n",
       "      <td id=\"T_a3b43_row6_col0\" class=\"data row6 col0\" >-5.820091</td>\n",
       "      <td id=\"T_a3b43_row6_col1\" class=\"data row6 col1\" >-35.220850</td>\n",
       "      <td id=\"T_a3b43_row6_col2\" class=\"data row6 col2\" >0</td>\n",
       "      <td id=\"T_a3b43_row6_col3\" class=\"data row6 col3\" >0.000000</td>\n",
       "      <td id=\"T_a3b43_row6_col4\" class=\"data row6 col4\" >→</td>\n",
       "      <td id=\"T_a3b43_row6_col5\" class=\"data row6 col5\" >-5.820091</td>\n",
       "      <td id=\"T_a3b43_row6_col6\" class=\"data row6 col6\" >-35.220850</td>\n",
       "      <td id=\"T_a3b43_row6_col7\" class=\"data row6 col7\" >0.002780</td>\n",
       "      <td id=\"T_a3b43_row6_col8\" class=\"data row6 col8\" >0.000000</td>\n",
       "      <td id=\"T_a3b43_row6_col9\" class=\"data row6 col9\" > </td>\n",
       "      <td id=\"T_a3b43_row6_col10\" class=\"data row6 col10\" >0.490587</td>\n",
       "      <td id=\"T_a3b43_row6_col11\" class=\"data row6 col11\" >0.706858</td>\n",
       "      <td id=\"T_a3b43_row6_col12\" class=\"data row6 col12\" >0.706858</td>\n",
       "    </tr>\n",
       "    <tr>\n",
       "      <th id=\"T_a3b43_level0_row7\" class=\"row_heading level0 row7\" >7</th>\n",
       "      <td id=\"T_a3b43_row7_col0\" class=\"data row7 col0\" >-5.820085</td>\n",
       "      <td id=\"T_a3b43_row7_col1\" class=\"data row7 col1\" >-35.220856</td>\n",
       "      <td id=\"T_a3b43_row7_col2\" class=\"data row7 col2\" >3</td>\n",
       "      <td id=\"T_a3b43_row7_col3\" class=\"data row7 col3\" >0.833333</td>\n",
       "      <td id=\"T_a3b43_row7_col4\" class=\"data row7 col4\" >→</td>\n",
       "      <td id=\"T_a3b43_row7_col5\" class=\"data row7 col5\" >-5.820085</td>\n",
       "      <td id=\"T_a3b43_row7_col6\" class=\"data row7 col6\" >-35.220856</td>\n",
       "      <td id=\"T_a3b43_row7_col7\" class=\"data row7 col7\" >3.049151</td>\n",
       "      <td id=\"T_a3b43_row7_col8\" class=\"data row7 col8\" >0.833333</td>\n",
       "      <td id=\"T_a3b43_row7_col9\" class=\"data row7 col9\" > </td>\n",
       "      <td id=\"T_a3b43_row7_col10\" class=\"data row7 col10\" >1.090483</td>\n",
       "      <td id=\"T_a3b43_row7_col11\" class=\"data row7 col11\" >1.137803</td>\n",
       "      <td id=\"T_a3b43_row7_col12\" class=\"data row7 col12\" >1.137803</td>\n",
       "    </tr>\n",
       "    <tr>\n",
       "      <th id=\"T_a3b43_level0_row8\" class=\"row_heading level0 row8\" >8</th>\n",
       "      <td id=\"T_a3b43_row8_col0\" class=\"data row8 col0\" >-5.820074</td>\n",
       "      <td id=\"T_a3b43_row8_col1\" class=\"data row8 col1\" >-35.220859</td>\n",
       "      <td id=\"T_a3b43_row8_col2\" class=\"data row8 col2\" >3</td>\n",
       "      <td id=\"T_a3b43_row8_col3\" class=\"data row8 col3\" >0.000000</td>\n",
       "      <td id=\"T_a3b43_row8_col4\" class=\"data row8 col4\" >→</td>\n",
       "      <td id=\"T_a3b43_row8_col5\" class=\"data row8 col5\" >-5.820074</td>\n",
       "      <td id=\"T_a3b43_row8_col6\" class=\"data row8 col6\" >-35.220859</td>\n",
       "      <td id=\"T_a3b43_row8_col7\" class=\"data row8 col7\" >2.896038</td>\n",
       "      <td id=\"T_a3b43_row8_col8\" class=\"data row8 col8\" >0.000000</td>\n",
       "      <td id=\"T_a3b43_row8_col9\" class=\"data row8 col9\" > </td>\n",
       "      <td id=\"T_a3b43_row8_col10\" class=\"data row8 col10\" >1.090483</td>\n",
       "      <td id=\"T_a3b43_row8_col11\" class=\"data row8 col11\" >1.137803</td>\n",
       "      <td id=\"T_a3b43_row8_col12\" class=\"data row8 col12\" >0.849757</td>\n",
       "    </tr>\n",
       "    <tr>\n",
       "      <th id=\"T_a3b43_level0_row9\" class=\"row_heading level0 row9\" >9</th>\n",
       "      <td id=\"T_a3b43_row9_col0\" class=\"data row9 col0\" >-5.820064</td>\n",
       "      <td id=\"T_a3b43_row9_col1\" class=\"data row9 col1\" >-35.220858</td>\n",
       "      <td id=\"T_a3b43_row9_col2\" class=\"data row9 col2\" >3</td>\n",
       "      <td id=\"T_a3b43_row9_col3\" class=\"data row9 col3\" >0.000000</td>\n",
       "      <td id=\"T_a3b43_row9_col4\" class=\"data row9 col4\" >→</td>\n",
       "      <td id=\"T_a3b43_row9_col5\" class=\"data row9 col5\" >-5.820064</td>\n",
       "      <td id=\"T_a3b43_row9_col6\" class=\"data row9 col6\" >-35.220858</td>\n",
       "      <td id=\"T_a3b43_row9_col7\" class=\"data row9 col7\" >3.047590</td>\n",
       "      <td id=\"T_a3b43_row9_col8\" class=\"data row9 col8\" >0.000000</td>\n",
       "      <td id=\"T_a3b43_row9_col9\" class=\"data row9 col9\" > </td>\n",
       "      <td id=\"T_a3b43_row9_col10\" class=\"data row9 col10\" >0.921315</td>\n",
       "      <td id=\"T_a3b43_row9_col11\" class=\"data row9 col11\" >1.137803</td>\n",
       "      <td id=\"T_a3b43_row9_col12\" class=\"data row9 col12\" >1.137803</td>\n",
       "    </tr>\n",
       "  </tbody>\n",
       "</table>\n"
      ],
      "text/plain": [
       "<pandas.io.formats.style.Styler at 0x1697537fc90>"
      ]
     },
     "metadata": {},
     "output_type": "display_data"
    },
    {
     "data": {
      "application/vnd.plotly.v1+json": {
       "config": {
        "plotlyServerURL": "https://plot.ly"
       },
       "data": [
        {
         "line": {
          "color": "gray",
          "dash": "dot"
         },
         "mode": "lines",
         "name": "Real",
         "type": "scatter",
         "y": {
          "bdata": "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",
          "dtype": "f8"
         }
        },
        {
         "line": {
          "color": "blue",
          "dash": "dash"
         },
         "mode": "lines",
         "name": "Predição Original",
         "type": "scatter",
         "y": {
          "bdata": "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",
          "dtype": "f8"
         }
        },
        {
         "line": {
          "color": "red"
         },
         "mode": "lines",
         "name": "Predição com RM",
         "type": "scatter",
         "y": {
          "bdata": "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",
          "dtype": "f8"
         }
        }
       ],
       "layout": {
        "template": {
         "data": {
          "bar": [
           {
            "error_x": {
             "color": "#2a3f5f"
            },
            "error_y": {
             "color": "#2a3f5f"
            },
            "marker": {
             "line": {
              "color": "white",
              "width": 0.5
             },
             "pattern": {
              "fillmode": "overlay",
              "size": 10,
              "solidity": 0.2
             }
            },
            "type": "bar"
           }
          ],
          "barpolar": [
           {
            "marker": {
             "line": {
              "color": "white",
              "width": 0.5
             },
             "pattern": {
              "fillmode": "overlay",
              "size": 10,
              "solidity": 0.2
             }
            },
            "type": "barpolar"
           }
          ],
          "carpet": [
           {
            "aaxis": {
             "endlinecolor": "#2a3f5f",
             "gridcolor": "#C8D4E3",
             "linecolor": "#C8D4E3",
             "minorgridcolor": "#C8D4E3",
             "startlinecolor": "#2a3f5f"
            },
            "baxis": {
             "endlinecolor": "#2a3f5f",
             "gridcolor": "#C8D4E3",
             "linecolor": "#C8D4E3",
             "minorgridcolor": "#C8D4E3",
             "startlinecolor": "#2a3f5f"
            },
            "type": "carpet"
           }
          ],
          "choropleth": [
           {
            "colorbar": {
             "outlinewidth": 0,
             "ticks": ""
            },
            "type": "choropleth"
           }
          ],
          "contour": [
           {
            "colorbar": {
             "outlinewidth": 0,
             "ticks": ""
            },
            "colorscale": [
             [
              0,
              "#0d0887"
             ],
             [
              0.1111111111111111,
              "#46039f"
             ],
             [
              0.2222222222222222,
              "#7201a8"
             ],
             [
              0.3333333333333333,
              "#9c179e"
             ],
             [
              0.4444444444444444,
              "#bd3786"
             ],
             [
              0.5555555555555556,
              "#d8576b"
             ],
             [
              0.6666666666666666,
              "#ed7953"
             ],
             [
              0.7777777777777778,
              "#fb9f3a"
             ],
             [
              0.8888888888888888,
              "#fdca26"
             ],
             [
              1,
              "#f0f921"
             ]
            ],
            "type": "contour"
           }
          ],
          "contourcarpet": [
           {
            "colorbar": {
             "outlinewidth": 0,
             "ticks": ""
            },
            "type": "contourcarpet"
           }
          ],
          "heatmap": [
           {
            "colorbar": {
             "outlinewidth": 0,
             "ticks": ""
            },
            "colorscale": [
             [
              0,
              "#0d0887"
             ],
             [
              0.1111111111111111,
              "#46039f"
             ],
             [
              0.2222222222222222,
              "#7201a8"
             ],
             [
              0.3333333333333333,
              "#9c179e"
             ],
             [
              0.4444444444444444,
              "#bd3786"
             ],
             [
              0.5555555555555556,
              "#d8576b"
             ],
             [
              0.6666666666666666,
              "#ed7953"
             ],
             [
              0.7777777777777778,
              "#fb9f3a"
             ],
             [
              0.8888888888888888,
              "#fdca26"
             ],
             [
              1,
              "#f0f921"
             ]
            ],
            "type": "heatmap"
           }
          ],
          "histogram": [
           {
            "marker": {
             "pattern": {
              "fillmode": "overlay",
              "size": 10,
              "solidity": 0.2
             }
            },
            "type": "histogram"
           }
          ],
          "histogram2d": [
           {
            "colorbar": {
             "outlinewidth": 0,
             "ticks": ""
            },
            "colorscale": [
             [
              0,
              "#0d0887"
             ],
             [
              0.1111111111111111,
              "#46039f"
             ],
             [
              0.2222222222222222,
              "#7201a8"
             ],
             [
              0.3333333333333333,
              "#9c179e"
             ],
             [
              0.4444444444444444,
              "#bd3786"
             ],
             [
              0.5555555555555556,
              "#d8576b"
             ],
             [
              0.6666666666666666,
              "#ed7953"
             ],
             [
              0.7777777777777778,
              "#fb9f3a"
             ],
             [
              0.8888888888888888,
              "#fdca26"
             ],
             [
              1,
              "#f0f921"
             ]
            ],
            "type": "histogram2d"
           }
          ],
          "histogram2dcontour": [
           {
            "colorbar": {
             "outlinewidth": 0,
             "ticks": ""
            },
            "colorscale": [
             [
              0,
              "#0d0887"
             ],
             [
              0.1111111111111111,
              "#46039f"
             ],
             [
              0.2222222222222222,
              "#7201a8"
             ],
             [
              0.3333333333333333,
              "#9c179e"
             ],
             [
              0.4444444444444444,
              "#bd3786"
             ],
             [
              0.5555555555555556,
              "#d8576b"
             ],
             [
              0.6666666666666666,
              "#ed7953"
             ],
             [
              0.7777777777777778,
              "#fb9f3a"
             ],
             [
              0.8888888888888888,
              "#fdca26"
             ],
             [
              1,
              "#f0f921"
             ]
            ],
            "type": "histogram2dcontour"
           }
          ],
          "mesh3d": [
           {
            "colorbar": {
             "outlinewidth": 0,
             "ticks": ""
            },
            "type": "mesh3d"
           }
          ],
          "parcoords": [
           {
            "line": {
             "colorbar": {
              "outlinewidth": 0,
              "ticks": ""
             }
            },
            "type": "parcoords"
           }
          ],
          "pie": [
           {
            "automargin": true,
            "type": "pie"
           }
          ],
          "scatter": [
           {
            "fillpattern": {
             "fillmode": "overlay",
             "size": 10,
             "solidity": 0.2
            },
            "type": "scatter"
           }
          ],
          "scatter3d": [
           {
            "line": {
             "colorbar": {
              "outlinewidth": 0,
              "ticks": ""
             }
            },
            "marker": {
             "colorbar": {
              "outlinewidth": 0,
              "ticks": ""
             }
            },
            "type": "scatter3d"
           }
          ],
          "scattercarpet": [
           {
            "marker": {
             "colorbar": {
              "outlinewidth": 0,
              "ticks": ""
             }
            },
            "type": "scattercarpet"
           }
          ],
          "scattergeo": [
           {
            "marker": {
             "colorbar": {
              "outlinewidth": 0,
              "ticks": ""
             }
            },
            "type": "scattergeo"
           }
          ],
          "scattergl": [
           {
            "marker": {
             "colorbar": {
              "outlinewidth": 0,
              "ticks": ""
             }
            },
            "type": "scattergl"
           }
          ],
          "scattermap": [
           {
            "marker": {
             "colorbar": {
              "outlinewidth": 0,
              "ticks": ""
             }
            },
            "type": "scattermap"
           }
          ],
          "scattermapbox": [
           {
            "marker": {
             "colorbar": {
              "outlinewidth": 0,
              "ticks": ""
             }
            },
            "type": "scattermapbox"
           }
          ],
          "scatterpolar": [
           {
            "marker": {
             "colorbar": {
              "outlinewidth": 0,
              "ticks": ""
             }
            },
            "type": "scatterpolar"
           }
          ],
          "scatterpolargl": [
           {
            "marker": {
             "colorbar": {
              "outlinewidth": 0,
              "ticks": ""
             }
            },
            "type": "scatterpolargl"
           }
          ],
          "scatterternary": [
           {
            "marker": {
             "colorbar": {
              "outlinewidth": 0,
              "ticks": ""
             }
            },
            "type": "scatterternary"
           }
          ],
          "surface": [
           {
            "colorbar": {
             "outlinewidth": 0,
             "ticks": ""
            },
            "colorscale": [
             [
              0,
              "#0d0887"
             ],
             [
              0.1111111111111111,
              "#46039f"
             ],
             [
              0.2222222222222222,
              "#7201a8"
             ],
             [
              0.3333333333333333,
              "#9c179e"
             ],
             [
              0.4444444444444444,
              "#bd3786"
             ],
             [
              0.5555555555555556,
              "#d8576b"
             ],
             [
              0.6666666666666666,
              "#ed7953"
             ],
             [
              0.7777777777777778,
              "#fb9f3a"
             ],
             [
              0.8888888888888888,
              "#fdca26"
             ],
             [
              1,
              "#f0f921"
             ]
            ],
            "type": "surface"
           }
          ],
          "table": [
           {
            "cells": {
             "fill": {
              "color": "#EBF0F8"
             },
             "line": {
              "color": "white"
             }
            },
            "header": {
             "fill": {
              "color": "#C8D4E3"
             },
             "line": {
              "color": "white"
             }
            },
            "type": "table"
           }
          ]
         },
         "layout": {
          "annotationdefaults": {
           "arrowcolor": "#2a3f5f",
           "arrowhead": 0,
           "arrowwidth": 1
          },
          "autotypenumbers": "strict",
          "coloraxis": {
           "colorbar": {
            "outlinewidth": 0,
            "ticks": ""
           }
          },
          "colorscale": {
           "diverging": [
            [
             0,
             "#8e0152"
            ],
            [
             0.1,
             "#c51b7d"
            ],
            [
             0.2,
             "#de77ae"
            ],
            [
             0.3,
             "#f1b6da"
            ],
            [
             0.4,
             "#fde0ef"
            ],
            [
             0.5,
             "#f7f7f7"
            ],
            [
             0.6,
             "#e6f5d0"
            ],
            [
             0.7,
             "#b8e186"
            ],
            [
             0.8,
             "#7fbc41"
            ],
            [
             0.9,
             "#4d9221"
            ],
            [
             1,
             "#276419"
            ]
           ],
           "sequential": [
            [
             0,
             "#0d0887"
            ],
            [
             0.1111111111111111,
             "#46039f"
            ],
            [
             0.2222222222222222,
             "#7201a8"
            ],
            [
             0.3333333333333333,
             "#9c179e"
            ],
            [
             0.4444444444444444,
             "#bd3786"
            ],
            [
             0.5555555555555556,
             "#d8576b"
            ],
            [
             0.6666666666666666,
             "#ed7953"
            ],
            [
             0.7777777777777778,
             "#fb9f3a"
            ],
            [
             0.8888888888888888,
             "#fdca26"
            ],
            [
             1,
             "#f0f921"
            ]
           ],
           "sequentialminus": [
            [
             0,
             "#0d0887"
            ],
            [
             0.1111111111111111,
             "#46039f"
            ],
            [
             0.2222222222222222,
             "#7201a8"
            ],
            [
             0.3333333333333333,
             "#9c179e"
            ],
            [
             0.4444444444444444,
             "#bd3786"
            ],
            [
             0.5555555555555556,
             "#d8576b"
            ],
            [
             0.6666666666666666,
             "#ed7953"
            ],
            [
             0.7777777777777778,
             "#fb9f3a"
            ],
            [
             0.8888888888888888,
             "#fdca26"
            ],
            [
             1,
             "#f0f921"
            ]
           ]
          },
          "colorway": [
           "#636efa",
           "#EF553B",
           "#00cc96",
           "#ab63fa",
           "#FFA15A",
           "#19d3f3",
           "#FF6692",
           "#B6E880",
           "#FF97FF",
           "#FECB52"
          ],
          "font": {
           "color": "#2a3f5f"
          },
          "geo": {
           "bgcolor": "white",
           "lakecolor": "white",
           "landcolor": "white",
           "showlakes": true,
           "showland": true,
           "subunitcolor": "#C8D4E3"
          },
          "hoverlabel": {
           "align": "left"
          },
          "hovermode": "closest",
          "mapbox": {
           "style": "light"
          },
          "paper_bgcolor": "white",
          "plot_bgcolor": "white",
          "polar": {
           "angularaxis": {
            "gridcolor": "#EBF0F8",
            "linecolor": "#EBF0F8",
            "ticks": ""
           },
           "bgcolor": "white",
           "radialaxis": {
            "gridcolor": "#EBF0F8",
            "linecolor": "#EBF0F8",
            "ticks": ""
           }
          },
          "scene": {
           "xaxis": {
            "backgroundcolor": "white",
            "gridcolor": "#DFE8F3",
            "gridwidth": 2,
            "linecolor": "#EBF0F8",
            "showbackground": true,
            "ticks": "",
            "zerolinecolor": "#EBF0F8"
           },
           "yaxis": {
            "backgroundcolor": "white",
            "gridcolor": "#DFE8F3",
            "gridwidth": 2,
            "linecolor": "#EBF0F8",
            "showbackground": true,
            "ticks": "",
            "zerolinecolor": "#EBF0F8"
           },
           "zaxis": {
            "backgroundcolor": "white",
            "gridcolor": "#DFE8F3",
            "gridwidth": 2,
            "linecolor": "#EBF0F8",
            "showbackground": true,
            "ticks": "",
            "zerolinecolor": "#EBF0F8"
           }
          },
          "shapedefaults": {
           "line": {
            "color": "#2a3f5f"
           }
          },
          "ternary": {
           "aaxis": {
            "gridcolor": "#DFE8F3",
            "linecolor": "#A2B1C6",
            "ticks": ""
           },
           "baxis": {
            "gridcolor": "#DFE8F3",
            "linecolor": "#A2B1C6",
            "ticks": ""
           },
           "bgcolor": "white",
           "caxis": {
            "gridcolor": "#DFE8F3",
            "linecolor": "#A2B1C6",
            "ticks": ""
           }
          },
          "title": {
           "x": 0.05
          },
          "xaxis": {
           "automargin": true,
           "gridcolor": "#EBF0F8",
           "linecolor": "#EBF0F8",
           "ticks": "",
           "title": {
            "standoff": 15
           },
           "zerolinecolor": "#EBF0F8",
           "zerolinewidth": 2
          },
          "yaxis": {
           "automargin": true,
           "gridcolor": "#EBF0F8",
           "linecolor": "#EBF0F8",
           "ticks": "",
           "title": {
            "standoff": 15
           },
           "zerolinecolor": "#EBF0F8",
           "zerolinewidth": 2
          }
         }
        },
        "title": {
         "text": "Comparação Saída Variável E (200 Amostras) - CT_N1_006: [Sustentável] - Adicionar Ruído na Velocidade - ETHANOL",
         "x": 0.5
        },
        "xaxis": {
         "title": {
          "text": "Amostras"
         }
        },
        "yaxis": {
         "title": {
          "text": "Variável E"
         }
        }
       }
      }
     },
     "metadata": {},
     "output_type": "display_data"
    },
    {
     "name": "stdout",
     "output_type": "stream",
     "text": [
      "\n",
      "================================================================================\n",
      "🔁 CT_N1_006: [Sustentável] - Adicionar Ruído na Velocidade (GASOLINE)\n",
      "--------------------------------------------------------------------------------\n",
      "Diferença Média: 0.0161 | Diferença Máxima: 0.7365 | RMSE: 0.0540 | Desvio Padrão (Std): 0.0516\n"
     ]
    },
    {
     "data": {
      "text/html": [
       "<style type=\"text/css\">\n",
       "</style>\n",
       "<table id=\"T_be457\">\n",
       "  <caption>Comparação dos dados - CT_N1_006: [Sustentável] - Adicionar Ruído na Velocidade (GASOLINE)</caption>\n",
       "  <thead>\n",
       "    <tr>\n",
       "      <th class=\"blank level0\" >&nbsp;</th>\n",
       "      <th id=\"T_be457_level0_col0\" class=\"col_heading level0 col0\" >Latitude_Orig</th>\n",
       "      <th id=\"T_be457_level0_col1\" class=\"col_heading level0 col1\" >Longitude_Orig</th>\n",
       "      <th id=\"T_be457_level0_col2\" class=\"col_heading level0 col2\" >Speed(OBD)(km/h)_Orig</th>\n",
       "      <th id=\"T_be457_level0_col3\" class=\"col_heading level0 col3\" >Acceleration_Orig</th>\n",
       "      <th id=\"T_be457_level0_col4\" class=\"col_heading level0 col4\" > </th>\n",
       "      <th id=\"T_be457_level0_col5\" class=\"col_heading level0 col5\" >Latitude_Mod</th>\n",
       "      <th id=\"T_be457_level0_col6\" class=\"col_heading level0 col6\" >Longitude_Mod</th>\n",
       "      <th id=\"T_be457_level0_col7\" class=\"col_heading level0 col7\" >Speed(OBD)(km/h)_Mod</th>\n",
       "      <th id=\"T_be457_level0_col8\" class=\"col_heading level0 col8\" >Acceleration_Mod</th>\n",
       "      <th id=\"T_be457_level0_col9\" class=\"col_heading level0 col9\" > </th>\n",
       "      <th id=\"T_be457_level0_col10\" class=\"col_heading level0 col10\" >CO₂_Real</th>\n",
       "      <th id=\"T_be457_level0_col11\" class=\"col_heading level0 col11\" >CO₂_Pred_Orig</th>\n",
       "      <th id=\"T_be457_level0_col12\" class=\"col_heading level0 col12\" >CO₂_Pred_Mod</th>\n",
       "    </tr>\n",
       "  </thead>\n",
       "  <tbody>\n",
       "    <tr>\n",
       "      <th id=\"T_be457_level0_row0\" class=\"row_heading level0 row0\" >0</th>\n",
       "      <td id=\"T_be457_row0_col0\" class=\"data row0 col0\" >-5.820010</td>\n",
       "      <td id=\"T_be457_row0_col1\" class=\"data row0 col1\" >-35.220825</td>\n",
       "      <td id=\"T_be457_row0_col2\" class=\"data row0 col2\" >5</td>\n",
       "      <td id=\"T_be457_row0_col3\" class=\"data row0 col3\" >0.000000</td>\n",
       "      <td id=\"T_be457_row0_col4\" class=\"data row0 col4\" >→</td>\n",
       "      <td id=\"T_be457_row0_col5\" class=\"data row0 col5\" >-5.820010</td>\n",
       "      <td id=\"T_be457_row0_col6\" class=\"data row0 col6\" >-35.220825</td>\n",
       "      <td id=\"T_be457_row0_col7\" class=\"data row0 col7\" >5.094597</td>\n",
       "      <td id=\"T_be457_row0_col8\" class=\"data row0 col8\" >0.000000</td>\n",
       "      <td id=\"T_be457_row0_col9\" class=\"data row0 col9\" > </td>\n",
       "      <td id=\"T_be457_row0_col10\" class=\"data row0 col10\" >1.002671</td>\n",
       "      <td id=\"T_be457_row0_col11\" class=\"data row0 col11\" >1.456781</td>\n",
       "      <td id=\"T_be457_row0_col12\" class=\"data row0 col12\" >1.456781</td>\n",
       "    </tr>\n",
       "    <tr>\n",
       "      <th id=\"T_be457_level0_row1\" class=\"row_heading level0 row1\" >1</th>\n",
       "      <td id=\"T_be457_row1_col0\" class=\"data row1 col0\" >-5.820013</td>\n",
       "      <td id=\"T_be457_row1_col1\" class=\"data row1 col1\" >-35.220822</td>\n",
       "      <td id=\"T_be457_row1_col2\" class=\"data row1 col2\" >4</td>\n",
       "      <td id=\"T_be457_row1_col3\" class=\"data row1 col3\" >-0.277778</td>\n",
       "      <td id=\"T_be457_row1_col4\" class=\"data row1 col4\" >→</td>\n",
       "      <td id=\"T_be457_row1_col5\" class=\"data row1 col5\" >-5.820013</td>\n",
       "      <td id=\"T_be457_row1_col6\" class=\"data row1 col6\" >-35.220822</td>\n",
       "      <td id=\"T_be457_row1_col7\" class=\"data row1 col7\" >4.083986</td>\n",
       "      <td id=\"T_be457_row1_col8\" class=\"data row1 col8\" >-0.277778</td>\n",
       "      <td id=\"T_be457_row1_col9\" class=\"data row1 col9\" > </td>\n",
       "      <td id=\"T_be457_row1_col10\" class=\"data row1 col10\" >1.013360</td>\n",
       "      <td id=\"T_be457_row1_col11\" class=\"data row1 col11\" >1.016708</td>\n",
       "      <td id=\"T_be457_row1_col12\" class=\"data row1 col12\" >1.016708</td>\n",
       "    </tr>\n",
       "    <tr>\n",
       "      <th id=\"T_be457_level0_row2\" class=\"row_heading level0 row2\" >2</th>\n",
       "      <td id=\"T_be457_row2_col0\" class=\"data row2 col0\" >-5.820016</td>\n",
       "      <td id=\"T_be457_row2_col1\" class=\"data row2 col1\" >-35.220819</td>\n",
       "      <td id=\"T_be457_row2_col2\" class=\"data row2 col2\" >5</td>\n",
       "      <td id=\"T_be457_row2_col3\" class=\"data row2 col3\" >0.277778</td>\n",
       "      <td id=\"T_be457_row2_col4\" class=\"data row2 col4\" >→</td>\n",
       "      <td id=\"T_be457_row2_col5\" class=\"data row2 col5\" >-5.820016</td>\n",
       "      <td id=\"T_be457_row2_col6\" class=\"data row2 col6\" >-35.220819</td>\n",
       "      <td id=\"T_be457_row2_col7\" class=\"data row2 col7\" >4.901649</td>\n",
       "      <td id=\"T_be457_row2_col8\" class=\"data row2 col8\" >0.277778</td>\n",
       "      <td id=\"T_be457_row2_col9\" class=\"data row2 col9\" > </td>\n",
       "      <td id=\"T_be457_row2_col10\" class=\"data row2 col10\" >2.088720</td>\n",
       "      <td id=\"T_be457_row2_col11\" class=\"data row2 col11\" >1.456781</td>\n",
       "      <td id=\"T_be457_row2_col12\" class=\"data row2 col12\" >1.456781</td>\n",
       "    </tr>\n",
       "    <tr>\n",
       "      <th id=\"T_be457_level0_row3\" class=\"row_heading level0 row3\" >3</th>\n",
       "      <td id=\"T_be457_row3_col0\" class=\"data row3 col0\" >-5.820014</td>\n",
       "      <td id=\"T_be457_row3_col1\" class=\"data row3 col1\" >-35.220825</td>\n",
       "      <td id=\"T_be457_row3_col2\" class=\"data row3 col2\" >7</td>\n",
       "      <td id=\"T_be457_row3_col3\" class=\"data row3 col3\" >0.555556</td>\n",
       "      <td id=\"T_be457_row3_col4\" class=\"data row3 col4\" >→</td>\n",
       "      <td id=\"T_be457_row3_col5\" class=\"data row3 col5\" >-5.820014</td>\n",
       "      <td id=\"T_be457_row3_col6\" class=\"data row3 col6\" >-35.220825</td>\n",
       "      <td id=\"T_be457_row3_col7\" class=\"data row3 col7\" >7.127769</td>\n",
       "      <td id=\"T_be457_row3_col8\" class=\"data row3 col8\" >0.555556</td>\n",
       "      <td id=\"T_be457_row3_col9\" class=\"data row3 col9\" > </td>\n",
       "      <td id=\"T_be457_row3_col10\" class=\"data row3 col10\" >2.261889</td>\n",
       "      <td id=\"T_be457_row3_col11\" class=\"data row3 col11\" >1.996380</td>\n",
       "      <td id=\"T_be457_row3_col12\" class=\"data row3 col12\" >1.996380</td>\n",
       "    </tr>\n",
       "    <tr>\n",
       "      <th id=\"T_be457_level0_row4\" class=\"row_heading level0 row4\" >4</th>\n",
       "      <td id=\"T_be457_row4_col0\" class=\"data row4 col0\" >-5.819992</td>\n",
       "      <td id=\"T_be457_row4_col1\" class=\"data row4 col1\" >-35.220829</td>\n",
       "      <td id=\"T_be457_row4_col2\" class=\"data row4 col2\" >9</td>\n",
       "      <td id=\"T_be457_row4_col3\" class=\"data row4 col3\" >0.555556</td>\n",
       "      <td id=\"T_be457_row4_col4\" class=\"data row4 col4\" >→</td>\n",
       "      <td id=\"T_be457_row4_col5\" class=\"data row4 col5\" >-5.819992</td>\n",
       "      <td id=\"T_be457_row4_col6\" class=\"data row4 col6\" >-35.220829</td>\n",
       "      <td id=\"T_be457_row4_col7\" class=\"data row4 col7\" >9.047042</td>\n",
       "      <td id=\"T_be457_row4_col8\" class=\"data row4 col8\" >0.555556</td>\n",
       "      <td id=\"T_be457_row4_col9\" class=\"data row4 col9\" > </td>\n",
       "      <td id=\"T_be457_row4_col10\" class=\"data row4 col10\" >2.499195</td>\n",
       "      <td id=\"T_be457_row4_col11\" class=\"data row4 col11\" >2.400486</td>\n",
       "      <td id=\"T_be457_row4_col12\" class=\"data row4 col12\" >2.400486</td>\n",
       "    </tr>\n",
       "    <tr>\n",
       "      <th id=\"T_be457_level0_row5\" class=\"row_heading level0 row5\" >5</th>\n",
       "      <td id=\"T_be457_row5_col0\" class=\"data row5 col0\" >-5.819974</td>\n",
       "      <td id=\"T_be457_row5_col1\" class=\"data row5 col1\" >-35.220824</td>\n",
       "      <td id=\"T_be457_row5_col2\" class=\"data row5 col2\" >12</td>\n",
       "      <td id=\"T_be457_row5_col3\" class=\"data row5 col3\" >0.833333</td>\n",
       "      <td id=\"T_be457_row5_col4\" class=\"data row5 col4\" >→</td>\n",
       "      <td id=\"T_be457_row5_col5\" class=\"data row5 col5\" >-5.819974</td>\n",
       "      <td id=\"T_be457_row5_col6\" class=\"data row5 col6\" >-35.220824</td>\n",
       "      <td id=\"T_be457_row5_col7\" class=\"data row5 col7\" >12.005319</td>\n",
       "      <td id=\"T_be457_row5_col8\" class=\"data row5 col8\" >0.833333</td>\n",
       "      <td id=\"T_be457_row5_col9\" class=\"data row5 col9\" > </td>\n",
       "      <td id=\"T_be457_row5_col10\" class=\"data row5 col10\" >2.606089</td>\n",
       "      <td id=\"T_be457_row5_col11\" class=\"data row5 col11\" >2.400486</td>\n",
       "      <td id=\"T_be457_row5_col12\" class=\"data row5 col12\" >2.400486</td>\n",
       "    </tr>\n",
       "    <tr>\n",
       "      <th id=\"T_be457_level0_row6\" class=\"row_heading level0 row6\" >6</th>\n",
       "      <td id=\"T_be457_row6_col0\" class=\"data row6 col0\" >-5.819944</td>\n",
       "      <td id=\"T_be457_row6_col1\" class=\"data row6 col1\" >-35.220823</td>\n",
       "      <td id=\"T_be457_row6_col2\" class=\"data row6 col2\" >15</td>\n",
       "      <td id=\"T_be457_row6_col3\" class=\"data row6 col3\" >0.833333</td>\n",
       "      <td id=\"T_be457_row6_col4\" class=\"data row6 col4\" >→</td>\n",
       "      <td id=\"T_be457_row6_col5\" class=\"data row6 col5\" >-5.819944</td>\n",
       "      <td id=\"T_be457_row6_col6\" class=\"data row6 col6\" >-35.220823</td>\n",
       "      <td id=\"T_be457_row6_col7\" class=\"data row6 col7\" >15.123529</td>\n",
       "      <td id=\"T_be457_row6_col8\" class=\"data row6 col8\" >0.833333</td>\n",
       "      <td id=\"T_be457_row6_col9\" class=\"data row6 col9\" > </td>\n",
       "      <td id=\"T_be457_row6_col10\" class=\"data row6 col10\" >3.070012</td>\n",
       "      <td id=\"T_be457_row6_col11\" class=\"data row6 col11\" >2.148721</td>\n",
       "      <td id=\"T_be457_row6_col12\" class=\"data row6 col12\" >2.148721</td>\n",
       "    </tr>\n",
       "    <tr>\n",
       "      <th id=\"T_be457_level0_row7\" class=\"row_heading level0 row7\" >7</th>\n",
       "      <td id=\"T_be457_row7_col0\" class=\"data row7 col0\" >-5.819908</td>\n",
       "      <td id=\"T_be457_row7_col1\" class=\"data row7 col1\" >-35.220810</td>\n",
       "      <td id=\"T_be457_row7_col2\" class=\"data row7 col2\" >18</td>\n",
       "      <td id=\"T_be457_row7_col3\" class=\"data row7 col3\" >0.833333</td>\n",
       "      <td id=\"T_be457_row7_col4\" class=\"data row7 col4\" >→</td>\n",
       "      <td id=\"T_be457_row7_col5\" class=\"data row7 col5\" >-5.819908</td>\n",
       "      <td id=\"T_be457_row7_col6\" class=\"data row7 col6\" >-35.220810</td>\n",
       "      <td id=\"T_be457_row7_col7\" class=\"data row7 col7\" >17.846494</td>\n",
       "      <td id=\"T_be457_row7_col8\" class=\"data row7 col8\" >0.833333</td>\n",
       "      <td id=\"T_be457_row7_col9\" class=\"data row7 col9\" > </td>\n",
       "      <td id=\"T_be457_row7_col10\" class=\"data row7 col10\" >2.445747</td>\n",
       "      <td id=\"T_be457_row7_col11\" class=\"data row7 col11\" >1.470940</td>\n",
       "      <td id=\"T_be457_row7_col12\" class=\"data row7 col12\" >1.470940</td>\n",
       "    </tr>\n",
       "    <tr>\n",
       "      <th id=\"T_be457_level0_row8\" class=\"row_heading level0 row8\" >8</th>\n",
       "      <td id=\"T_be457_row8_col0\" class=\"data row8 col0\" >-5.819866</td>\n",
       "      <td id=\"T_be457_row8_col1\" class=\"data row8 col1\" >-35.220794</td>\n",
       "      <td id=\"T_be457_row8_col2\" class=\"data row8 col2\" >18</td>\n",
       "      <td id=\"T_be457_row8_col3\" class=\"data row8 col3\" >0.000000</td>\n",
       "      <td id=\"T_be457_row8_col4\" class=\"data row8 col4\" >→</td>\n",
       "      <td id=\"T_be457_row8_col5\" class=\"data row8 col5\" >-5.819866</td>\n",
       "      <td id=\"T_be457_row8_col6\" class=\"data row8 col6\" >-35.220794</td>\n",
       "      <td id=\"T_be457_row8_col7\" class=\"data row8 col7\" >18.077189</td>\n",
       "      <td id=\"T_be457_row8_col8\" class=\"data row8 col8\" >0.000000</td>\n",
       "      <td id=\"T_be457_row8_col9\" class=\"data row8 col9\" > </td>\n",
       "      <td id=\"T_be457_row8_col10\" class=\"data row8 col10\" >1.073221</td>\n",
       "      <td id=\"T_be457_row8_col11\" class=\"data row8 col11\" >1.588029</td>\n",
       "      <td id=\"T_be457_row8_col12\" class=\"data row8 col12\" >1.588029</td>\n",
       "    </tr>\n",
       "    <tr>\n",
       "      <th id=\"T_be457_level0_row9\" class=\"row_heading level0 row9\" >9</th>\n",
       "      <td id=\"T_be457_row9_col0\" class=\"data row9 col0\" >-5.819821</td>\n",
       "      <td id=\"T_be457_row9_col1\" class=\"data row9 col1\" >-35.220775</td>\n",
       "      <td id=\"T_be457_row9_col2\" class=\"data row9 col2\" >16</td>\n",
       "      <td id=\"T_be457_row9_col3\" class=\"data row9 col3\" >-0.555556</td>\n",
       "      <td id=\"T_be457_row9_col4\" class=\"data row9 col4\" >→</td>\n",
       "      <td id=\"T_be457_row9_col5\" class=\"data row9 col5\" >-5.819821</td>\n",
       "      <td id=\"T_be457_row9_col6\" class=\"data row9 col6\" >-35.220775</td>\n",
       "      <td id=\"T_be457_row9_col7\" class=\"data row9 col7\" >16.081665</td>\n",
       "      <td id=\"T_be457_row9_col8\" class=\"data row9 col8\" >-0.555556</td>\n",
       "      <td id=\"T_be457_row9_col9\" class=\"data row9 col9\" > </td>\n",
       "      <td id=\"T_be457_row9_col10\" class=\"data row9 col10\" >0.562265</td>\n",
       "      <td id=\"T_be457_row9_col11\" class=\"data row9 col11\" >1.085921</td>\n",
       "      <td id=\"T_be457_row9_col12\" class=\"data row9 col12\" >1.085921</td>\n",
       "    </tr>\n",
       "  </tbody>\n",
       "</table>\n"
      ],
      "text/plain": [
       "<pandas.io.formats.style.Styler at 0x16978b70dd0>"
      ]
     },
     "metadata": {},
     "output_type": "display_data"
    },
    {
     "data": {
      "application/vnd.plotly.v1+json": {
       "config": {
        "plotlyServerURL": "https://plot.ly"
       },
       "data": [
        {
         "line": {
          "color": "gray",
          "dash": "dot"
         },
         "mode": "lines",
         "name": "Real",
         "type": "scatter",
         "y": {
          "bdata": "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",
          "dtype": "f8"
         }
        },
        {
         "line": {
          "color": "blue",
          "dash": "dash"
         },
         "mode": "lines",
         "name": "Predição Original",
         "type": "scatter",
         "y": {
          "bdata": "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",
          "dtype": "f8"
         }
        },
        {
         "line": {
          "color": "red"
         },
         "mode": "lines",
         "name": "Predição com RM",
         "type": "scatter",
         "y": {
          "bdata": "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",
          "dtype": "f8"
         }
        }
       ],
       "layout": {
        "template": {
         "data": {
          "bar": [
           {
            "error_x": {
             "color": "#2a3f5f"
            },
            "error_y": {
             "color": "#2a3f5f"
            },
            "marker": {
             "line": {
              "color": "white",
              "width": 0.5
             },
             "pattern": {
              "fillmode": "overlay",
              "size": 10,
              "solidity": 0.2
             }
            },
            "type": "bar"
           }
          ],
          "barpolar": [
           {
            "marker": {
             "line": {
              "color": "white",
              "width": 0.5
             },
             "pattern": {
              "fillmode": "overlay",
              "size": 10,
              "solidity": 0.2
             }
            },
            "type": "barpolar"
           }
          ],
          "carpet": [
           {
            "aaxis": {
             "endlinecolor": "#2a3f5f",
             "gridcolor": "#C8D4E3",
             "linecolor": "#C8D4E3",
             "minorgridcolor": "#C8D4E3",
             "startlinecolor": "#2a3f5f"
            },
            "baxis": {
             "endlinecolor": "#2a3f5f",
             "gridcolor": "#C8D4E3",
             "linecolor": "#C8D4E3",
             "minorgridcolor": "#C8D4E3",
             "startlinecolor": "#2a3f5f"
            },
            "type": "carpet"
           }
          ],
          "choropleth": [
           {
            "colorbar": {
             "outlinewidth": 0,
             "ticks": ""
            },
            "type": "choropleth"
           }
          ],
          "contour": [
           {
            "colorbar": {
             "outlinewidth": 0,
             "ticks": ""
            },
            "colorscale": [
             [
              0,
              "#0d0887"
             ],
             [
              0.1111111111111111,
              "#46039f"
             ],
             [
              0.2222222222222222,
              "#7201a8"
             ],
             [
              0.3333333333333333,
              "#9c179e"
             ],
             [
              0.4444444444444444,
              "#bd3786"
             ],
             [
              0.5555555555555556,
              "#d8576b"
             ],
             [
              0.6666666666666666,
              "#ed7953"
             ],
             [
              0.7777777777777778,
              "#fb9f3a"
             ],
             [
              0.8888888888888888,
              "#fdca26"
             ],
             [
              1,
              "#f0f921"
             ]
            ],
            "type": "contour"
           }
          ],
          "contourcarpet": [
           {
            "colorbar": {
             "outlinewidth": 0,
             "ticks": ""
            },
            "type": "contourcarpet"
           }
          ],
          "heatmap": [
           {
            "colorbar": {
             "outlinewidth": 0,
             "ticks": ""
            },
            "colorscale": [
             [
              0,
              "#0d0887"
             ],
             [
              0.1111111111111111,
              "#46039f"
             ],
             [
              0.2222222222222222,
              "#7201a8"
             ],
             [
              0.3333333333333333,
              "#9c179e"
             ],
             [
              0.4444444444444444,
              "#bd3786"
             ],
             [
              0.5555555555555556,
              "#d8576b"
             ],
             [
              0.6666666666666666,
              "#ed7953"
             ],
             [
              0.7777777777777778,
              "#fb9f3a"
             ],
             [
              0.8888888888888888,
              "#fdca26"
             ],
             [
              1,
              "#f0f921"
             ]
            ],
            "type": "heatmap"
           }
          ],
          "histogram": [
           {
            "marker": {
             "pattern": {
              "fillmode": "overlay",
              "size": 10,
              "solidity": 0.2
             }
            },
            "type": "histogram"
           }
          ],
          "histogram2d": [
           {
            "colorbar": {
             "outlinewidth": 0,
             "ticks": ""
            },
            "colorscale": [
             [
              0,
              "#0d0887"
             ],
             [
              0.1111111111111111,
              "#46039f"
             ],
             [
              0.2222222222222222,
              "#7201a8"
             ],
             [
              0.3333333333333333,
              "#9c179e"
             ],
             [
              0.4444444444444444,
              "#bd3786"
             ],
             [
              0.5555555555555556,
              "#d8576b"
             ],
             [
              0.6666666666666666,
              "#ed7953"
             ],
             [
              0.7777777777777778,
              "#fb9f3a"
             ],
             [
              0.8888888888888888,
              "#fdca26"
             ],
             [
              1,
              "#f0f921"
             ]
            ],
            "type": "histogram2d"
           }
          ],
          "histogram2dcontour": [
           {
            "colorbar": {
             "outlinewidth": 0,
             "ticks": ""
            },
            "colorscale": [
             [
              0,
              "#0d0887"
             ],
             [
              0.1111111111111111,
              "#46039f"
             ],
             [
              0.2222222222222222,
              "#7201a8"
             ],
             [
              0.3333333333333333,
              "#9c179e"
             ],
             [
              0.4444444444444444,
              "#bd3786"
             ],
             [
              0.5555555555555556,
              "#d8576b"
             ],
             [
              0.6666666666666666,
              "#ed7953"
             ],
             [
              0.7777777777777778,
              "#fb9f3a"
             ],
             [
              0.8888888888888888,
              "#fdca26"
             ],
             [
              1,
              "#f0f921"
             ]
            ],
            "type": "histogram2dcontour"
           }
          ],
          "mesh3d": [
           {
            "colorbar": {
             "outlinewidth": 0,
             "ticks": ""
            },
            "type": "mesh3d"
           }
          ],
          "parcoords": [
           {
            "line": {
             "colorbar": {
              "outlinewidth": 0,
              "ticks": ""
             }
            },
            "type": "parcoords"
           }
          ],
          "pie": [
           {
            "automargin": true,
            "type": "pie"
           }
          ],
          "scatter": [
           {
            "fillpattern": {
             "fillmode": "overlay",
             "size": 10,
             "solidity": 0.2
            },
            "type": "scatter"
           }
          ],
          "scatter3d": [
           {
            "line": {
             "colorbar": {
              "outlinewidth": 0,
              "ticks": ""
             }
            },
            "marker": {
             "colorbar": {
              "outlinewidth": 0,
              "ticks": ""
             }
            },
            "type": "scatter3d"
           }
          ],
          "scattercarpet": [
           {
            "marker": {
             "colorbar": {
              "outlinewidth": 0,
              "ticks": ""
             }
            },
            "type": "scattercarpet"
           }
          ],
          "scattergeo": [
           {
            "marker": {
             "colorbar": {
              "outlinewidth": 0,
              "ticks": ""
             }
            },
            "type": "scattergeo"
           }
          ],
          "scattergl": [
           {
            "marker": {
             "colorbar": {
              "outlinewidth": 0,
              "ticks": ""
             }
            },
            "type": "scattergl"
           }
          ],
          "scattermap": [
           {
            "marker": {
             "colorbar": {
              "outlinewidth": 0,
              "ticks": ""
             }
            },
            "type": "scattermap"
           }
          ],
          "scattermapbox": [
           {
            "marker": {
             "colorbar": {
              "outlinewidth": 0,
              "ticks": ""
             }
            },
            "type": "scattermapbox"
           }
          ],
          "scatterpolar": [
           {
            "marker": {
             "colorbar": {
              "outlinewidth": 0,
              "ticks": ""
             }
            },
            "type": "scatterpolar"
           }
          ],
          "scatterpolargl": [
           {
            "marker": {
             "colorbar": {
              "outlinewidth": 0,
              "ticks": ""
             }
            },
            "type": "scatterpolargl"
           }
          ],
          "scatterternary": [
           {
            "marker": {
             "colorbar": {
              "outlinewidth": 0,
              "ticks": ""
             }
            },
            "type": "scatterternary"
           }
          ],
          "surface": [
           {
            "colorbar": {
             "outlinewidth": 0,
             "ticks": ""
            },
            "colorscale": [
             [
              0,
              "#0d0887"
             ],
             [
              0.1111111111111111,
              "#46039f"
             ],
             [
              0.2222222222222222,
              "#7201a8"
             ],
             [
              0.3333333333333333,
              "#9c179e"
             ],
             [
              0.4444444444444444,
              "#bd3786"
             ],
             [
              0.5555555555555556,
              "#d8576b"
             ],
             [
              0.6666666666666666,
              "#ed7953"
             ],
             [
              0.7777777777777778,
              "#fb9f3a"
             ],
             [
              0.8888888888888888,
              "#fdca26"
             ],
             [
              1,
              "#f0f921"
             ]
            ],
            "type": "surface"
           }
          ],
          "table": [
           {
            "cells": {
             "fill": {
              "color": "#EBF0F8"
             },
             "line": {
              "color": "white"
             }
            },
            "header": {
             "fill": {
              "color": "#C8D4E3"
             },
             "line": {
              "color": "white"
             }
            },
            "type": "table"
           }
          ]
         },
         "layout": {
          "annotationdefaults": {
           "arrowcolor": "#2a3f5f",
           "arrowhead": 0,
           "arrowwidth": 1
          },
          "autotypenumbers": "strict",
          "coloraxis": {
           "colorbar": {
            "outlinewidth": 0,
            "ticks": ""
           }
          },
          "colorscale": {
           "diverging": [
            [
             0,
             "#8e0152"
            ],
            [
             0.1,
             "#c51b7d"
            ],
            [
             0.2,
             "#de77ae"
            ],
            [
             0.3,
             "#f1b6da"
            ],
            [
             0.4,
             "#fde0ef"
            ],
            [
             0.5,
             "#f7f7f7"
            ],
            [
             0.6,
             "#e6f5d0"
            ],
            [
             0.7,
             "#b8e186"
            ],
            [
             0.8,
             "#7fbc41"
            ],
            [
             0.9,
             "#4d9221"
            ],
            [
             1,
             "#276419"
            ]
           ],
           "sequential": [
            [
             0,
             "#0d0887"
            ],
            [
             0.1111111111111111,
             "#46039f"
            ],
            [
             0.2222222222222222,
             "#7201a8"
            ],
            [
             0.3333333333333333,
             "#9c179e"
            ],
            [
             0.4444444444444444,
             "#bd3786"
            ],
            [
             0.5555555555555556,
             "#d8576b"
            ],
            [
             0.6666666666666666,
             "#ed7953"
            ],
            [
             0.7777777777777778,
             "#fb9f3a"
            ],
            [
             0.8888888888888888,
             "#fdca26"
            ],
            [
             1,
             "#f0f921"
            ]
           ],
           "sequentialminus": [
            [
             0,
             "#0d0887"
            ],
            [
             0.1111111111111111,
             "#46039f"
            ],
            [
             0.2222222222222222,
             "#7201a8"
            ],
            [
             0.3333333333333333,
             "#9c179e"
            ],
            [
             0.4444444444444444,
             "#bd3786"
            ],
            [
             0.5555555555555556,
             "#d8576b"
            ],
            [
             0.6666666666666666,
             "#ed7953"
            ],
            [
             0.7777777777777778,
             "#fb9f3a"
            ],
            [
             0.8888888888888888,
             "#fdca26"
            ],
            [
             1,
             "#f0f921"
            ]
           ]
          },
          "colorway": [
           "#636efa",
           "#EF553B",
           "#00cc96",
           "#ab63fa",
           "#FFA15A",
           "#19d3f3",
           "#FF6692",
           "#B6E880",
           "#FF97FF",
           "#FECB52"
          ],
          "font": {
           "color": "#2a3f5f"
          },
          "geo": {
           "bgcolor": "white",
           "lakecolor": "white",
           "landcolor": "white",
           "showlakes": true,
           "showland": true,
           "subunitcolor": "#C8D4E3"
          },
          "hoverlabel": {
           "align": "left"
          },
          "hovermode": "closest",
          "mapbox": {
           "style": "light"
          },
          "paper_bgcolor": "white",
          "plot_bgcolor": "white",
          "polar": {
           "angularaxis": {
            "gridcolor": "#EBF0F8",
            "linecolor": "#EBF0F8",
            "ticks": ""
           },
           "bgcolor": "white",
           "radialaxis": {
            "gridcolor": "#EBF0F8",
            "linecolor": "#EBF0F8",
            "ticks": ""
           }
          },
          "scene": {
           "xaxis": {
            "backgroundcolor": "white",
            "gridcolor": "#DFE8F3",
            "gridwidth": 2,
            "linecolor": "#EBF0F8",
            "showbackground": true,
            "ticks": "",
            "zerolinecolor": "#EBF0F8"
           },
           "yaxis": {
            "backgroundcolor": "white",
            "gridcolor": "#DFE8F3",
            "gridwidth": 2,
            "linecolor": "#EBF0F8",
            "showbackground": true,
            "ticks": "",
            "zerolinecolor": "#EBF0F8"
           },
           "zaxis": {
            "backgroundcolor": "white",
            "gridcolor": "#DFE8F3",
            "gridwidth": 2,
            "linecolor": "#EBF0F8",
            "showbackground": true,
            "ticks": "",
            "zerolinecolor": "#EBF0F8"
           }
          },
          "shapedefaults": {
           "line": {
            "color": "#2a3f5f"
           }
          },
          "ternary": {
           "aaxis": {
            "gridcolor": "#DFE8F3",
            "linecolor": "#A2B1C6",
            "ticks": ""
           },
           "baxis": {
            "gridcolor": "#DFE8F3",
            "linecolor": "#A2B1C6",
            "ticks": ""
           },
           "bgcolor": "white",
           "caxis": {
            "gridcolor": "#DFE8F3",
            "linecolor": "#A2B1C6",
            "ticks": ""
           }
          },
          "title": {
           "x": 0.05
          },
          "xaxis": {
           "automargin": true,
           "gridcolor": "#EBF0F8",
           "linecolor": "#EBF0F8",
           "ticks": "",
           "title": {
            "standoff": 15
           },
           "zerolinecolor": "#EBF0F8",
           "zerolinewidth": 2
          },
          "yaxis": {
           "automargin": true,
           "gridcolor": "#EBF0F8",
           "linecolor": "#EBF0F8",
           "ticks": "",
           "title": {
            "standoff": 15
           },
           "zerolinecolor": "#EBF0F8",
           "zerolinewidth": 2
          }
         }
        },
        "title": {
         "text": "Comparação Saída Variável E (200 Amostras) - CT_N1_006: [Sustentável] - Adicionar Ruído na Velocidade - GASOLINE",
         "x": 0.5
        },
        "xaxis": {
         "title": {
          "text": "Amostras"
         }
        },
        "yaxis": {
         "title": {
          "text": "Variável E"
         }
        }
       }
      }
     },
     "metadata": {},
     "output_type": "display_data"
    }
   ],
   "source": [
    "# ==============================================================================\n",
    "# NOTEBOOK DE TESTES METAMÓRFICOS - NÍVEL 1: ANÁLISE DE SENSIBILIDADE\n",
    "# ==============================================================================\n",
    "# Objetivo: Avaliar a estabilidade e a sensibilidade do sistema a perturbações,\n",
    "# ausências e valores extremos nos dados de entrada.\n",
    "# ------------------------------------------------------------------------------\n",
    "\n",
    "# 📦 Imports\n",
    "import pandas as pd\n",
    "import numpy as np\n",
    "import joblib\n",
    "import plotly.graph_objects as go\n",
    "from sklearn.metrics import mean_squared_error\n",
    "from pathlib import Path\n",
    "from IPython.display import display\n",
    "\n",
    "# ------------------------------------------------------------------------------\n",
    "# 📁 ETAPA 1: SETUP DO AMBIENTE DE TESTE\n",
    "# ------------------------------------------------------------------------------\n",
    "\n",
    "# Carregar dados de referência\n",
    "try:\n",
    "    ethanol_path = Path(r\"C:/Users/Paulo Eduardo/Documents/Dissertação/ModelosML/Conect2ai/MDPI2023-pollution/data/[Etanol] Trajeto Casa-Escola-UFRN/trackLog-2023-Feb-13_06-38-49_seg.csv\")\n",
    "    gasoline_path = Path(r\"C:/Users/Paulo Eduardo/Documents/Dissertação/ModelosML/Conect2ai/MDPI2023-pollution/data/[Gasolina] Trajeto Casa-Escola-UFRN/trackLog-2022-Dec-01_06-43-57_qui.csv\")\n",
    "    df_ethanol = pd.read_csv(ethanol_path)\n",
    "    df_gasoline = pd.read_csv(gasoline_path)\n",
    "    print(\"Arquivos de dados carregados com sucesso.\")\n",
    "except FileNotFoundError as e:\n",
    "    print(f\"ERRO: Arquivos de dados não encontrados. {e}\")\n",
    "    raise\n",
    "\n",
    "# Função para preparar os dados\n",
    "def preparar_dados(df):\n",
    "    df_copy = df.copy()\n",
    "    df_copy.columns = df_copy.columns.str.strip()\n",
    "    col_map = {'Speed (OBD)(km/h)': 'Speed(OBD)(km/h)', 'Latitude ': 'Latitude', 'Longitude ': 'Longitude'}\n",
    "    df_copy.rename(columns={k: v for k, v in col_map.items() if k in df_copy.columns}, inplace=True)\n",
    "    if \"Speed(OBD)(km/h)\" in df_copy.columns:\n",
    "        speeds = df_copy[\"Speed(OBD)(km/h)\"].fillna(0).values * 1000 / 3600\n",
    "        df_copy[\"Acceleration\"] = np.diff(speeds, prepend=speeds[0])\n",
    "    return df_copy\n",
    "\n",
    "df_ethanol = preparar_dados(df_ethanol)\n",
    "df_gasoline = preparar_dados(df_gasoline)\n",
    "\n",
    "# Carregar os modelos\n",
    "try:\n",
    "    modelos = {\n",
    "        \"ethanol\": {\n",
    "            \"afr\": joblib.load(Path(r\"C:/Users/Paulo Eduardo/Documents/Dissertação/ModelosML/Conect2ai/MDPI2023-pollution/models/LGBMRegressor_ethanol_afr.pkl\")),\n",
    "            \"maf\": joblib.load(Path(r\"C:/Users/Paulo Eduardo/Documents/Dissertação/ModelosML/Conect2ai/MDPI2023-pollution/models/XGBRegressor_ethanol_maf.pkl\"))\n",
    "        },\n",
    "        \"gasoline\": {\n",
    "            \"afr\": joblib.load(Path(r\"C:/Users/Paulo Eduardo/Documents/Dissertação/ModelosML/Conect2ai/MDPI2023-pollution/models/LGBMRegressor_gasoline_afr.pkl\")),\n",
    "            \"maf\": joblib.load(Path(r\"C:/Users/Paulo Eduardo/Documents/Dissertação/ModelosML/Conect2ai/MDPI2023-pollution/models/XGBRegressor_gasoline_maf.pkl\"))\n",
    "        }\n",
    "    }\n",
    "    print(\"Modelos de IA carregados com sucesso.\")\n",
    "except FileNotFoundError as e:\n",
    "    print(f\"ERRO: Arquivos de modelo não encontrados. {e}\")\n",
    "    raise\n",
    "\n",
    "# ------------------------------------------------------------------------------\n",
    "# 🔧 ETAPA 2: DEFINIÇÃO DAS FUNÇÕES DE SUPORTE\n",
    "# ------------------------------------------------------------------------------\n",
    "\n",
    "def compute_co2(afr, maf, fuel_type):\n",
    "    afr = np.array(afr)\n",
    "    maf = np.array(maf)\n",
    "    carbon_fraction = {\"ethanol\": 0.5217, \"gasoline\": 0.8571}\n",
    "    c_fraction = carbon_fraction.get(fuel_type)\n",
    "    fuel_rate = np.divide(maf, afr, out=np.zeros_like(maf, dtype=float), where=afr!=0)\n",
    "    return fuel_rate * c_fraction * (44.0 / 12.0)\n",
    "\n",
    "def encontrar_coluna(df, alternativas):\n",
    "    df.columns = df.columns.str.strip()\n",
    "    for alt in alternativas:\n",
    "        if alt in df.columns:\n",
    "            return df[alt]\n",
    "    return None\n",
    "\n",
    "def executar_teste_plotly(df_original, df_modificado, modelo_afr, modelo_maf, fuel, nome_mr):\n",
    "    features = [\"Latitude\", \"Longitude\", \"Speed(OBD)(km/h)\", \"Acceleration\"]\n",
    "\n",
    "    for feature in features:\n",
    "        if feature not in df_original.columns: df_original[feature] = 0\n",
    "        if feature not in df_modificado.columns: df_modificado[feature] = 0\n",
    "\n",
    "    # --- CORREÇÃO PARA A CURVA \"REAL\" ---\n",
    "    afr_real_col = encontrar_coluna(df_original, [\"AirFuelRatio(Commanded)(:1)\", \"Air Fuel Ratio(Commanded)(:1)\"])\n",
    "    maf_real_col = encontrar_coluna(df_original, [\"MassAirFlowRate(g/s)\", \"Mass Air Flow Rate(g/s)\"])\n",
    "    co2_real = compute_co2(afr_real_col.values, maf_real_col.values, fuel) if afr_real_col is not None and maf_real_col is not None else None\n",
    "    \n",
    "    afr_orig = modelo_afr.predict(df_original[features])\n",
    "    maf_orig = modelo_maf.predict(df_original[features])\n",
    "    co2_orig = compute_co2(afr_orig, maf_orig, fuel)\n",
    "\n",
    "    afr_mod = modelo_afr.predict(df_modificado[features])\n",
    "    maf_mod = modelo_maf.predict(df_modificado[features])\n",
    "    co2_mod = compute_co2(afr_mod, maf_mod, fuel)\n",
    "    \n",
    "    diff = np.abs(co2_orig - co2_mod)\n",
    "    media, maxima, rmse, std = diff.mean(), diff.max(), mean_squared_error(co2_orig, co2_mod, squared=False), diff.std()\n",
    "\n",
    "    print(f\"\\n{'='*80}\\n🔁 {nome_mr} ({fuel.upper()})\\n{'-'*80}\")\n",
    "    print(f\"Diferença Média: {media:.4f} | Diferença Máxima: {maxima:.4f} | RMSE: {rmse:.4f} | Desvio Padrão (Std): {std:.4f}\")\n",
    "    \n",
    "    tabela = pd.concat([\n",
    "        df_original[features].iloc[:10].add_suffix(\"_Orig\"),\n",
    "        pd.DataFrame({\" \": [\"→\"] * 10}),\n",
    "        df_modificado[features].iloc[:10].add_suffix(\"_Mod\"),\n",
    "        pd.DataFrame({\" \": [\" \"] * 10}),\n",
    "        pd.DataFrame({\n",
    "            \"CO₂_Real\": co2_real[:10] if co2_real is not None else \"N/A\",\n",
    "            \"CO₂_Pred_Orig\": co2_orig[:10],\n",
    "            \"CO₂_Pred_Mod\": co2_mod[:10]\n",
    "        })\n",
    "    ], axis=1).fillna(\"N/A\")\n",
    "    display(tabela.style.set_caption(f\"Comparação dos dados - {nome_mr} ({fuel.upper()})\"))\n",
    "\n",
    "    fig = go.Figure()\n",
    "    if co2_real is not None:\n",
    "        fig.add_trace(go.Scatter(y=co2_real[:200], mode='lines', name='Real', line=dict(dash='dot', color='gray')))\n",
    "    fig.add_trace(go.Scatter(y=co2_orig[:200], mode='lines', name='Predição Original', line=dict(dash='dash', color='blue')))\n",
    "    fig.add_trace(go.Scatter(y=co2_mod[:200], mode='lines', name='Predição com RM', line=dict(color='red')))\n",
    "    fig.update_layout(\n",
    "        title=dict(text=f\"Comparação Saída Variável E (200 Amostras) - {nome_mr} - {fuel.upper()}\", x=0.5),\n",
    "        xaxis_title=\"Amostras\", yaxis_title=\"Variável E\", template=\"plotly_white\"\n",
    "    )\n",
    "    fig.show()\n",
    "\n",
    "# ------------------------------------------------------------------------------\n",
    "# 🔁 ETAPA 3: DEFINIÇÃO DOS CASOS DE TESTE METAMÓRFICOS - NÍVEL 1\n",
    "# ------------------------------------------------------------------------------\n",
    "\n",
    "testes_metamorficos_n1 = {\n",
    "    \"CT_N1_002: [Exclusiva] - Zerar Variável A\": lambda df: df.copy().assign(**{'Speed(OBD)(km/h)': 0.0}),\n",
    "    \"CT_N1_003: [Exclusiva] - Zerar Variável B\": lambda df: df.copy().assign(Acceleration=0.0),\n",
    "    \"CT_N1_004: [Exclusiva] - Zerar Variável C\": lambda df: df.copy().assign(Latitude=0.0),\n",
    "    \"CT_N1_005: [Exclusiva] - Zerar Variável D\": lambda df: df.copy().assign(Longitude=0.0),\n",
    "    \"CT_N1_006: [Sustentável] - Adicionar Ruído na Velocidade\": lambda df: df.copy().assign(**{'Speed(OBD)(km/h)': df['Speed(OBD)(km/h)'] + np.random.normal(0, 0.1, size=len(df))}),\n",
    "}\n",
    "\n",
    "# ------------------------------------------------------------------------------\n",
    "# 🧲 ETAPA 4: EXECUÇÃO DOS TESTES DE NÍVEL 1\n",
    "# ------------------------------------------------------------------------------\n",
    "\n",
    "print(\"=\"*80)\n",
    "print(\"INICIANDO EXECUÇÃO DOS TESTES DE NÍVEL 1\")\n",
    "print(\"=\"*80)\n",
    "\n",
    "for nome_mr, transformacao in testes_metamorficos_n1.items():\n",
    "    for combustivel, df_original in [(\"ethanol\", df_ethanol), (\"gasoline\", df_gasoline)]:\n",
    "        df_modificado = transformacao(df_original.copy())\n",
    "        executar_teste_plotly(\n",
    "            df_original=df_original,\n",
    "            df_modificado=df_modificado,\n",
    "            modelo_afr=modelos[combustivel][\"afr\"],\n",
    "            modelo_maf=modelos[combustivel][\"maf\"],\n",
    "            fuel=combustivel,\n",
    "            nome_mr=nome_mr\n",
    "        )"
   ]
  }
 ],
 "metadata": {
  "kernelspec": {
   "display_name": "biofuel_analysis",
   "language": "python",
   "name": "python3"
  },
  "language_info": {
   "codemirror_mode": {
    "name": "ipython",
    "version": 3
   },
   "file_extension": ".py",
   "mimetype": "text/x-python",
   "name": "python",
   "nbconvert_exporter": "python",
   "pygments_lexer": "ipython3",
   "version": "3.11.9"
  }
 },
 "nbformat": 4,
 "nbformat_minor": 5
}

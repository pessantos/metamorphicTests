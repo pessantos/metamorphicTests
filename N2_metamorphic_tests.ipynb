{
 "cells": [
  {
   "cell_type": "code",
   "execution_count": 1,
   "id": "8267e606",
   "metadata": {},
   "outputs": [
    {
     "name": "stdout",
     "output_type": "stream",
     "text": [
      "Arquivos de dados carregados com sucesso.\n",
      "Modelos de IA carregados com sucesso.\n",
      "================================================================================\n",
      "INICIANDO EXECUÇÃO DOS TESTES DE NÍVEL 2\n",
      "================================================================================\n",
      "\n",
      "================================================================================\n",
      "🔁 CT_N2_006: [Multiplicativa] - Escalonar Velocidade (x20) (ETHANOL)\n",
      "--------------------------------------------------------------------------------\n",
      "Diferença Média: 0.4809 | Diferença Máxima: 2.7199 | RMSE: 0.6804 | Desvio Padrão (Std): 0.4814\n"
     ]
    },
    {
     "data": {
      "text/html": [
       "<style type=\"text/css\">\n",
       "</style>\n",
       "<table id=\"T_23c5b\">\n",
       "  <caption>Comparação dos dados - CT_N2_006: [Multiplicativa] - Escalonar Velocidade (x20) (ETHANOL)</caption>\n",
       "  <thead>\n",
       "    <tr>\n",
       "      <th class=\"blank level0\" >&nbsp;</th>\n",
       "      <th id=\"T_23c5b_level0_col0\" class=\"col_heading level0 col0\" >Latitude_Orig</th>\n",
       "      <th id=\"T_23c5b_level0_col1\" class=\"col_heading level0 col1\" >Longitude_Orig</th>\n",
       "      <th id=\"T_23c5b_level0_col2\" class=\"col_heading level0 col2\" >Speed(OBD)(km/h)_Orig</th>\n",
       "      <th id=\"T_23c5b_level0_col3\" class=\"col_heading level0 col3\" >Acceleration_Orig</th>\n",
       "      <th id=\"T_23c5b_level0_col4\" class=\"col_heading level0 col4\" > </th>\n",
       "      <th id=\"T_23c5b_level0_col5\" class=\"col_heading level0 col5\" >Latitude_Mod</th>\n",
       "      <th id=\"T_23c5b_level0_col6\" class=\"col_heading level0 col6\" >Longitude_Mod</th>\n",
       "      <th id=\"T_23c5b_level0_col7\" class=\"col_heading level0 col7\" >Speed(OBD)(km/h)_Mod</th>\n",
       "      <th id=\"T_23c5b_level0_col8\" class=\"col_heading level0 col8\" >Acceleration_Mod</th>\n",
       "      <th id=\"T_23c5b_level0_col9\" class=\"col_heading level0 col9\" > </th>\n",
       "      <th id=\"T_23c5b_level0_col10\" class=\"col_heading level0 col10\" >CO₂_Real</th>\n",
       "      <th id=\"T_23c5b_level0_col11\" class=\"col_heading level0 col11\" >CO₂_Pred_Orig</th>\n",
       "      <th id=\"T_23c5b_level0_col12\" class=\"col_heading level0 col12\" >CO₂_Pred_Mod</th>\n",
       "    </tr>\n",
       "  </thead>\n",
       "  <tbody>\n",
       "    <tr>\n",
       "      <th id=\"T_23c5b_level0_row0\" class=\"row_heading level0 row0\" >0</th>\n",
       "      <td id=\"T_23c5b_row0_col0\" class=\"data row0 col0\" >-5.820105</td>\n",
       "      <td id=\"T_23c5b_row0_col1\" class=\"data row0 col1\" >-35.220818</td>\n",
       "      <td id=\"T_23c5b_row0_col2\" class=\"data row0 col2\" >3</td>\n",
       "      <td id=\"T_23c5b_row0_col3\" class=\"data row0 col3\" >0.000000</td>\n",
       "      <td id=\"T_23c5b_row0_col4\" class=\"data row0 col4\" >→</td>\n",
       "      <td id=\"T_23c5b_row0_col5\" class=\"data row0 col5\" >-5.820105</td>\n",
       "      <td id=\"T_23c5b_row0_col6\" class=\"data row0 col6\" >-35.220818</td>\n",
       "      <td id=\"T_23c5b_row0_col7\" class=\"data row0 col7\" >60</td>\n",
       "      <td id=\"T_23c5b_row0_col8\" class=\"data row0 col8\" >0.000000</td>\n",
       "      <td id=\"T_23c5b_row0_col9\" class=\"data row0 col9\" > </td>\n",
       "      <td id=\"T_23c5b_row0_col10\" class=\"data row0 col10\" >0.642839</td>\n",
       "      <td id=\"T_23c5b_row0_col11\" class=\"data row0 col11\" >0.742631</td>\n",
       "      <td id=\"T_23c5b_row0_col12\" class=\"data row0 col12\" >1.006023</td>\n",
       "    </tr>\n",
       "    <tr>\n",
       "      <th id=\"T_23c5b_level0_row1\" class=\"row_heading level0 row1\" >1</th>\n",
       "      <td id=\"T_23c5b_row1_col0\" class=\"data row1 col0\" >-5.820103</td>\n",
       "      <td id=\"T_23c5b_row1_col1\" class=\"data row1 col1\" >-35.220828</td>\n",
       "      <td id=\"T_23c5b_row1_col2\" class=\"data row1 col2\" >5</td>\n",
       "      <td id=\"T_23c5b_row1_col3\" class=\"data row1 col3\" >0.555556</td>\n",
       "      <td id=\"T_23c5b_row1_col4\" class=\"data row1 col4\" >→</td>\n",
       "      <td id=\"T_23c5b_row1_col5\" class=\"data row1 col5\" >-5.820103</td>\n",
       "      <td id=\"T_23c5b_row1_col6\" class=\"data row1 col6\" >-35.220828</td>\n",
       "      <td id=\"T_23c5b_row1_col7\" class=\"data row1 col7\" >100</td>\n",
       "      <td id=\"T_23c5b_row1_col8\" class=\"data row1 col8\" >0.555556</td>\n",
       "      <td id=\"T_23c5b_row1_col9\" class=\"data row1 col9\" > </td>\n",
       "      <td id=\"T_23c5b_row1_col10\" class=\"data row1 col10\" >0.653249</td>\n",
       "      <td id=\"T_23c5b_row1_col11\" class=\"data row1 col11\" >0.771505</td>\n",
       "      <td id=\"T_23c5b_row1_col12\" class=\"data row1 col12\" >1.623527</td>\n",
       "    </tr>\n",
       "    <tr>\n",
       "      <th id=\"T_23c5b_level0_row2\" class=\"row_heading level0 row2\" >2</th>\n",
       "      <td id=\"T_23c5b_row2_col0\" class=\"data row2 col0\" >-5.820102</td>\n",
       "      <td id=\"T_23c5b_row2_col1\" class=\"data row2 col1\" >-35.220838</td>\n",
       "      <td id=\"T_23c5b_row2_col2\" class=\"data row2 col2\" >5</td>\n",
       "      <td id=\"T_23c5b_row2_col3\" class=\"data row2 col3\" >0.000000</td>\n",
       "      <td id=\"T_23c5b_row2_col4\" class=\"data row2 col4\" >→</td>\n",
       "      <td id=\"T_23c5b_row2_col5\" class=\"data row2 col5\" >-5.820102</td>\n",
       "      <td id=\"T_23c5b_row2_col6\" class=\"data row2 col6\" >-35.220838</td>\n",
       "      <td id=\"T_23c5b_row2_col7\" class=\"data row2 col7\" >100</td>\n",
       "      <td id=\"T_23c5b_row2_col8\" class=\"data row2 col8\" >0.000000</td>\n",
       "      <td id=\"T_23c5b_row2_col9\" class=\"data row2 col9\" > </td>\n",
       "      <td id=\"T_23c5b_row2_col10\" class=\"data row2 col10\" >0.653249</td>\n",
       "      <td id=\"T_23c5b_row2_col11\" class=\"data row2 col11\" >0.771505</td>\n",
       "      <td id=\"T_23c5b_row2_col12\" class=\"data row2 col12\" >1.579490</td>\n",
       "    </tr>\n",
       "    <tr>\n",
       "      <th id=\"T_23c5b_level0_row3\" class=\"row_heading level0 row3\" >3</th>\n",
       "      <td id=\"T_23c5b_row3_col0\" class=\"data row3 col0\" >-5.820096</td>\n",
       "      <td id=\"T_23c5b_row3_col1\" class=\"data row3 col1\" >-35.220843</td>\n",
       "      <td id=\"T_23c5b_row3_col2\" class=\"data row3 col2\" >3</td>\n",
       "      <td id=\"T_23c5b_row3_col3\" class=\"data row3 col3\" >-0.555556</td>\n",
       "      <td id=\"T_23c5b_row3_col4\" class=\"data row3 col4\" >→</td>\n",
       "      <td id=\"T_23c5b_row3_col5\" class=\"data row3 col5\" >-5.820096</td>\n",
       "      <td id=\"T_23c5b_row3_col6\" class=\"data row3 col6\" >-35.220843</td>\n",
       "      <td id=\"T_23c5b_row3_col7\" class=\"data row3 col7\" >60</td>\n",
       "      <td id=\"T_23c5b_row3_col8\" class=\"data row3 col8\" >-0.555556</td>\n",
       "      <td id=\"T_23c5b_row3_col9\" class=\"data row3 col9\" > </td>\n",
       "      <td id=\"T_23c5b_row3_col10\" class=\"data row3 col10\" >0.679275</td>\n",
       "      <td id=\"T_23c5b_row3_col11\" class=\"data row3 col11\" >0.659013</td>\n",
       "      <td id=\"T_23c5b_row3_col12\" class=\"data row3 col12\" >0.914030</td>\n",
       "    </tr>\n",
       "    <tr>\n",
       "      <th id=\"T_23c5b_level0_row4\" class=\"row_heading level0 row4\" >4</th>\n",
       "      <td id=\"T_23c5b_row4_col0\" class=\"data row4 col0\" >-5.820091</td>\n",
       "      <td id=\"T_23c5b_row4_col1\" class=\"data row4 col1\" >-35.220850</td>\n",
       "      <td id=\"T_23c5b_row4_col2\" class=\"data row4 col2\" >0</td>\n",
       "      <td id=\"T_23c5b_row4_col3\" class=\"data row4 col3\" >-0.833333</td>\n",
       "      <td id=\"T_23c5b_row4_col4\" class=\"data row4 col4\" >→</td>\n",
       "      <td id=\"T_23c5b_row4_col5\" class=\"data row4 col5\" >-5.820091</td>\n",
       "      <td id=\"T_23c5b_row4_col6\" class=\"data row4 col6\" >-35.220850</td>\n",
       "      <td id=\"T_23c5b_row4_col7\" class=\"data row4 col7\" >0</td>\n",
       "      <td id=\"T_23c5b_row4_col8\" class=\"data row4 col8\" >-0.833333</td>\n",
       "      <td id=\"T_23c5b_row4_col9\" class=\"data row4 col9\" > </td>\n",
       "      <td id=\"T_23c5b_row4_col10\" class=\"data row4 col10\" >0.610306</td>\n",
       "      <td id=\"T_23c5b_row4_col11\" class=\"data row4 col11\" >0.667689</td>\n",
       "      <td id=\"T_23c5b_row4_col12\" class=\"data row4 col12\" >0.667689</td>\n",
       "    </tr>\n",
       "    <tr>\n",
       "      <th id=\"T_23c5b_level0_row5\" class=\"row_heading level0 row5\" >5</th>\n",
       "      <td id=\"T_23c5b_row5_col0\" class=\"data row5 col0\" >-5.820091</td>\n",
       "      <td id=\"T_23c5b_row5_col1\" class=\"data row5 col1\" >-35.220850</td>\n",
       "      <td id=\"T_23c5b_row5_col2\" class=\"data row5 col2\" >0</td>\n",
       "      <td id=\"T_23c5b_row5_col3\" class=\"data row5 col3\" >0.000000</td>\n",
       "      <td id=\"T_23c5b_row5_col4\" class=\"data row5 col4\" >→</td>\n",
       "      <td id=\"T_23c5b_row5_col5\" class=\"data row5 col5\" >-5.820091</td>\n",
       "      <td id=\"T_23c5b_row5_col6\" class=\"data row5 col6\" >-35.220850</td>\n",
       "      <td id=\"T_23c5b_row5_col7\" class=\"data row5 col7\" >0</td>\n",
       "      <td id=\"T_23c5b_row5_col8\" class=\"data row5 col8\" >0.000000</td>\n",
       "      <td id=\"T_23c5b_row5_col9\" class=\"data row5 col9\" > </td>\n",
       "      <td id=\"T_23c5b_row5_col10\" class=\"data row5 col10\" >0.610306</td>\n",
       "      <td id=\"T_23c5b_row5_col11\" class=\"data row5 col11\" >0.706858</td>\n",
       "      <td id=\"T_23c5b_row5_col12\" class=\"data row5 col12\" >0.706858</td>\n",
       "    </tr>\n",
       "    <tr>\n",
       "      <th id=\"T_23c5b_level0_row6\" class=\"row_heading level0 row6\" >6</th>\n",
       "      <td id=\"T_23c5b_row6_col0\" class=\"data row6 col0\" >-5.820091</td>\n",
       "      <td id=\"T_23c5b_row6_col1\" class=\"data row6 col1\" >-35.220850</td>\n",
       "      <td id=\"T_23c5b_row6_col2\" class=\"data row6 col2\" >0</td>\n",
       "      <td id=\"T_23c5b_row6_col3\" class=\"data row6 col3\" >0.000000</td>\n",
       "      <td id=\"T_23c5b_row6_col4\" class=\"data row6 col4\" >→</td>\n",
       "      <td id=\"T_23c5b_row6_col5\" class=\"data row6 col5\" >-5.820091</td>\n",
       "      <td id=\"T_23c5b_row6_col6\" class=\"data row6 col6\" >-35.220850</td>\n",
       "      <td id=\"T_23c5b_row6_col7\" class=\"data row6 col7\" >0</td>\n",
       "      <td id=\"T_23c5b_row6_col8\" class=\"data row6 col8\" >0.000000</td>\n",
       "      <td id=\"T_23c5b_row6_col9\" class=\"data row6 col9\" > </td>\n",
       "      <td id=\"T_23c5b_row6_col10\" class=\"data row6 col10\" >0.490587</td>\n",
       "      <td id=\"T_23c5b_row6_col11\" class=\"data row6 col11\" >0.706858</td>\n",
       "      <td id=\"T_23c5b_row6_col12\" class=\"data row6 col12\" >0.706858</td>\n",
       "    </tr>\n",
       "    <tr>\n",
       "      <th id=\"T_23c5b_level0_row7\" class=\"row_heading level0 row7\" >7</th>\n",
       "      <td id=\"T_23c5b_row7_col0\" class=\"data row7 col0\" >-5.820085</td>\n",
       "      <td id=\"T_23c5b_row7_col1\" class=\"data row7 col1\" >-35.220856</td>\n",
       "      <td id=\"T_23c5b_row7_col2\" class=\"data row7 col2\" >3</td>\n",
       "      <td id=\"T_23c5b_row7_col3\" class=\"data row7 col3\" >0.833333</td>\n",
       "      <td id=\"T_23c5b_row7_col4\" class=\"data row7 col4\" >→</td>\n",
       "      <td id=\"T_23c5b_row7_col5\" class=\"data row7 col5\" >-5.820085</td>\n",
       "      <td id=\"T_23c5b_row7_col6\" class=\"data row7 col6\" >-35.220856</td>\n",
       "      <td id=\"T_23c5b_row7_col7\" class=\"data row7 col7\" >60</td>\n",
       "      <td id=\"T_23c5b_row7_col8\" class=\"data row7 col8\" >0.833333</td>\n",
       "      <td id=\"T_23c5b_row7_col9\" class=\"data row7 col9\" > </td>\n",
       "      <td id=\"T_23c5b_row7_col10\" class=\"data row7 col10\" >1.090483</td>\n",
       "      <td id=\"T_23c5b_row7_col11\" class=\"data row7 col11\" >1.137803</td>\n",
       "      <td id=\"T_23c5b_row7_col12\" class=\"data row7 col12\" >1.000498</td>\n",
       "    </tr>\n",
       "    <tr>\n",
       "      <th id=\"T_23c5b_level0_row8\" class=\"row_heading level0 row8\" >8</th>\n",
       "      <td id=\"T_23c5b_row8_col0\" class=\"data row8 col0\" >-5.820074</td>\n",
       "      <td id=\"T_23c5b_row8_col1\" class=\"data row8 col1\" >-35.220859</td>\n",
       "      <td id=\"T_23c5b_row8_col2\" class=\"data row8 col2\" >3</td>\n",
       "      <td id=\"T_23c5b_row8_col3\" class=\"data row8 col3\" >0.000000</td>\n",
       "      <td id=\"T_23c5b_row8_col4\" class=\"data row8 col4\" >→</td>\n",
       "      <td id=\"T_23c5b_row8_col5\" class=\"data row8 col5\" >-5.820074</td>\n",
       "      <td id=\"T_23c5b_row8_col6\" class=\"data row8 col6\" >-35.220859</td>\n",
       "      <td id=\"T_23c5b_row8_col7\" class=\"data row8 col7\" >60</td>\n",
       "      <td id=\"T_23c5b_row8_col8\" class=\"data row8 col8\" >0.000000</td>\n",
       "      <td id=\"T_23c5b_row8_col9\" class=\"data row8 col9\" > </td>\n",
       "      <td id=\"T_23c5b_row8_col10\" class=\"data row8 col10\" >1.090483</td>\n",
       "      <td id=\"T_23c5b_row8_col11\" class=\"data row8 col11\" >1.137803</td>\n",
       "      <td id=\"T_23c5b_row8_col12\" class=\"data row8 col12\" >0.924211</td>\n",
       "    </tr>\n",
       "    <tr>\n",
       "      <th id=\"T_23c5b_level0_row9\" class=\"row_heading level0 row9\" >9</th>\n",
       "      <td id=\"T_23c5b_row9_col0\" class=\"data row9 col0\" >-5.820064</td>\n",
       "      <td id=\"T_23c5b_row9_col1\" class=\"data row9 col1\" >-35.220858</td>\n",
       "      <td id=\"T_23c5b_row9_col2\" class=\"data row9 col2\" >3</td>\n",
       "      <td id=\"T_23c5b_row9_col3\" class=\"data row9 col3\" >0.000000</td>\n",
       "      <td id=\"T_23c5b_row9_col4\" class=\"data row9 col4\" >→</td>\n",
       "      <td id=\"T_23c5b_row9_col5\" class=\"data row9 col5\" >-5.820064</td>\n",
       "      <td id=\"T_23c5b_row9_col6\" class=\"data row9 col6\" >-35.220858</td>\n",
       "      <td id=\"T_23c5b_row9_col7\" class=\"data row9 col7\" >60</td>\n",
       "      <td id=\"T_23c5b_row9_col8\" class=\"data row9 col8\" >0.000000</td>\n",
       "      <td id=\"T_23c5b_row9_col9\" class=\"data row9 col9\" > </td>\n",
       "      <td id=\"T_23c5b_row9_col10\" class=\"data row9 col10\" >0.921315</td>\n",
       "      <td id=\"T_23c5b_row9_col11\" class=\"data row9 col11\" >1.137803</td>\n",
       "      <td id=\"T_23c5b_row9_col12\" class=\"data row9 col12\" >0.924211</td>\n",
       "    </tr>\n",
       "  </tbody>\n",
       "</table>\n"
      ],
      "text/plain": [
       "<pandas.io.formats.style.Styler at 0x1fb1b95ed90>"
      ]
     },
     "metadata": {},
     "output_type": "display_data"
    },
    {
     "data": {
      "application/vnd.plotly.v1+json": {
       "config": {
        "plotlyServerURL": "https://plot.ly"
       },
       "data": [
        {
         "line": {
          "color": "gray",
          "dash": "dot"
         },
         "mode": "lines",
         "name": "Real",
         "type": "scatter",
         "y": {
          "bdata": "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",
          "dtype": "f8"
         }
        },
        {
         "line": {
          "color": "blue",
          "dash": "dash"
         },
         "mode": "lines",
         "name": "Predição Original",
         "type": "scatter",
         "y": {
          "bdata": "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",
          "dtype": "f8"
         }
        },
        {
         "line": {
          "color": "red"
         },
         "mode": "lines",
         "name": "Predição com RM",
         "type": "scatter",
         "y": {
          "bdata": "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",
          "dtype": "f8"
         }
        }
       ],
       "layout": {
        "template": {
         "data": {
          "bar": [
           {
            "error_x": {
             "color": "#2a3f5f"
            },
            "error_y": {
             "color": "#2a3f5f"
            },
            "marker": {
             "line": {
              "color": "white",
              "width": 0.5
             },
             "pattern": {
              "fillmode": "overlay",
              "size": 10,
              "solidity": 0.2
             }
            },
            "type": "bar"
           }
          ],
          "barpolar": [
           {
            "marker": {
             "line": {
              "color": "white",
              "width": 0.5
             },
             "pattern": {
              "fillmode": "overlay",
              "size": 10,
              "solidity": 0.2
             }
            },
            "type": "barpolar"
           }
          ],
          "carpet": [
           {
            "aaxis": {
             "endlinecolor": "#2a3f5f",
             "gridcolor": "#C8D4E3",
             "linecolor": "#C8D4E3",
             "minorgridcolor": "#C8D4E3",
             "startlinecolor": "#2a3f5f"
            },
            "baxis": {
             "endlinecolor": "#2a3f5f",
             "gridcolor": "#C8D4E3",
             "linecolor": "#C8D4E3",
             "minorgridcolor": "#C8D4E3",
             "startlinecolor": "#2a3f5f"
            },
            "type": "carpet"
           }
          ],
          "choropleth": [
           {
            "colorbar": {
             "outlinewidth": 0,
             "ticks": ""
            },
            "type": "choropleth"
           }
          ],
          "contour": [
           {
            "colorbar": {
             "outlinewidth": 0,
             "ticks": ""
            },
            "colorscale": [
             [
              0,
              "#0d0887"
             ],
             [
              0.1111111111111111,
              "#46039f"
             ],
             [
              0.2222222222222222,
              "#7201a8"
             ],
             [
              0.3333333333333333,
              "#9c179e"
             ],
             [
              0.4444444444444444,
              "#bd3786"
             ],
             [
              0.5555555555555556,
              "#d8576b"
             ],
             [
              0.6666666666666666,
              "#ed7953"
             ],
             [
              0.7777777777777778,
              "#fb9f3a"
             ],
             [
              0.8888888888888888,
              "#fdca26"
             ],
             [
              1,
              "#f0f921"
             ]
            ],
            "type": "contour"
           }
          ],
          "contourcarpet": [
           {
            "colorbar": {
             "outlinewidth": 0,
             "ticks": ""
            },
            "type": "contourcarpet"
           }
          ],
          "heatmap": [
           {
            "colorbar": {
             "outlinewidth": 0,
             "ticks": ""
            },
            "colorscale": [
             [
              0,
              "#0d0887"
             ],
             [
              0.1111111111111111,
              "#46039f"
             ],
             [
              0.2222222222222222,
              "#7201a8"
             ],
             [
              0.3333333333333333,
              "#9c179e"
             ],
             [
              0.4444444444444444,
              "#bd3786"
             ],
             [
              0.5555555555555556,
              "#d8576b"
             ],
             [
              0.6666666666666666,
              "#ed7953"
             ],
             [
              0.7777777777777778,
              "#fb9f3a"
             ],
             [
              0.8888888888888888,
              "#fdca26"
             ],
             [
              1,
              "#f0f921"
             ]
            ],
            "type": "heatmap"
           }
          ],
          "histogram": [
           {
            "marker": {
             "pattern": {
              "fillmode": "overlay",
              "size": 10,
              "solidity": 0.2
             }
            },
            "type": "histogram"
           }
          ],
          "histogram2d": [
           {
            "colorbar": {
             "outlinewidth": 0,
             "ticks": ""
            },
            "colorscale": [
             [
              0,
              "#0d0887"
             ],
             [
              0.1111111111111111,
              "#46039f"
             ],
             [
              0.2222222222222222,
              "#7201a8"
             ],
             [
              0.3333333333333333,
              "#9c179e"
             ],
             [
              0.4444444444444444,
              "#bd3786"
             ],
             [
              0.5555555555555556,
              "#d8576b"
             ],
             [
              0.6666666666666666,
              "#ed7953"
             ],
             [
              0.7777777777777778,
              "#fb9f3a"
             ],
             [
              0.8888888888888888,
              "#fdca26"
             ],
             [
              1,
              "#f0f921"
             ]
            ],
            "type": "histogram2d"
           }
          ],
          "histogram2dcontour": [
           {
            "colorbar": {
             "outlinewidth": 0,
             "ticks": ""
            },
            "colorscale": [
             [
              0,
              "#0d0887"
             ],
             [
              0.1111111111111111,
              "#46039f"
             ],
             [
              0.2222222222222222,
              "#7201a8"
             ],
             [
              0.3333333333333333,
              "#9c179e"
             ],
             [
              0.4444444444444444,
              "#bd3786"
             ],
             [
              0.5555555555555556,
              "#d8576b"
             ],
             [
              0.6666666666666666,
              "#ed7953"
             ],
             [
              0.7777777777777778,
              "#fb9f3a"
             ],
             [
              0.8888888888888888,
              "#fdca26"
             ],
             [
              1,
              "#f0f921"
             ]
            ],
            "type": "histogram2dcontour"
           }
          ],
          "mesh3d": [
           {
            "colorbar": {
             "outlinewidth": 0,
             "ticks": ""
            },
            "type": "mesh3d"
           }
          ],
          "parcoords": [
           {
            "line": {
             "colorbar": {
              "outlinewidth": 0,
              "ticks": ""
             }
            },
            "type": "parcoords"
           }
          ],
          "pie": [
           {
            "automargin": true,
            "type": "pie"
           }
          ],
          "scatter": [
           {
            "fillpattern": {
             "fillmode": "overlay",
             "size": 10,
             "solidity": 0.2
            },
            "type": "scatter"
           }
          ],
          "scatter3d": [
           {
            "line": {
             "colorbar": {
              "outlinewidth": 0,
              "ticks": ""
             }
            },
            "marker": {
             "colorbar": {
              "outlinewidth": 0,
              "ticks": ""
             }
            },
            "type": "scatter3d"
           }
          ],
          "scattercarpet": [
           {
            "marker": {
             "colorbar": {
              "outlinewidth": 0,
              "ticks": ""
             }
            },
            "type": "scattercarpet"
           }
          ],
          "scattergeo": [
           {
            "marker": {
             "colorbar": {
              "outlinewidth": 0,
              "ticks": ""
             }
            },
            "type": "scattergeo"
           }
          ],
          "scattergl": [
           {
            "marker": {
             "colorbar": {
              "outlinewidth": 0,
              "ticks": ""
             }
            },
            "type": "scattergl"
           }
          ],
          "scattermap": [
           {
            "marker": {
             "colorbar": {
              "outlinewidth": 0,
              "ticks": ""
             }
            },
            "type": "scattermap"
           }
          ],
          "scattermapbox": [
           {
            "marker": {
             "colorbar": {
              "outlinewidth": 0,
              "ticks": ""
             }
            },
            "type": "scattermapbox"
           }
          ],
          "scatterpolar": [
           {
            "marker": {
             "colorbar": {
              "outlinewidth": 0,
              "ticks": ""
             }
            },
            "type": "scatterpolar"
           }
          ],
          "scatterpolargl": [
           {
            "marker": {
             "colorbar": {
              "outlinewidth": 0,
              "ticks": ""
             }
            },
            "type": "scatterpolargl"
           }
          ],
          "scatterternary": [
           {
            "marker": {
             "colorbar": {
              "outlinewidth": 0,
              "ticks": ""
             }
            },
            "type": "scatterternary"
           }
          ],
          "surface": [
           {
            "colorbar": {
             "outlinewidth": 0,
             "ticks": ""
            },
            "colorscale": [
             [
              0,
              "#0d0887"
             ],
             [
              0.1111111111111111,
              "#46039f"
             ],
             [
              0.2222222222222222,
              "#7201a8"
             ],
             [
              0.3333333333333333,
              "#9c179e"
             ],
             [
              0.4444444444444444,
              "#bd3786"
             ],
             [
              0.5555555555555556,
              "#d8576b"
             ],
             [
              0.6666666666666666,
              "#ed7953"
             ],
             [
              0.7777777777777778,
              "#fb9f3a"
             ],
             [
              0.8888888888888888,
              "#fdca26"
             ],
             [
              1,
              "#f0f921"
             ]
            ],
            "type": "surface"
           }
          ],
          "table": [
           {
            "cells": {
             "fill": {
              "color": "#EBF0F8"
             },
             "line": {
              "color": "white"
             }
            },
            "header": {
             "fill": {
              "color": "#C8D4E3"
             },
             "line": {
              "color": "white"
             }
            },
            "type": "table"
           }
          ]
         },
         "layout": {
          "annotationdefaults": {
           "arrowcolor": "#2a3f5f",
           "arrowhead": 0,
           "arrowwidth": 1
          },
          "autotypenumbers": "strict",
          "coloraxis": {
           "colorbar": {
            "outlinewidth": 0,
            "ticks": ""
           }
          },
          "colorscale": {
           "diverging": [
            [
             0,
             "#8e0152"
            ],
            [
             0.1,
             "#c51b7d"
            ],
            [
             0.2,
             "#de77ae"
            ],
            [
             0.3,
             "#f1b6da"
            ],
            [
             0.4,
             "#fde0ef"
            ],
            [
             0.5,
             "#f7f7f7"
            ],
            [
             0.6,
             "#e6f5d0"
            ],
            [
             0.7,
             "#b8e186"
            ],
            [
             0.8,
             "#7fbc41"
            ],
            [
             0.9,
             "#4d9221"
            ],
            [
             1,
             "#276419"
            ]
           ],
           "sequential": [
            [
             0,
             "#0d0887"
            ],
            [
             0.1111111111111111,
             "#46039f"
            ],
            [
             0.2222222222222222,
             "#7201a8"
            ],
            [
             0.3333333333333333,
             "#9c179e"
            ],
            [
             0.4444444444444444,
             "#bd3786"
            ],
            [
             0.5555555555555556,
             "#d8576b"
            ],
            [
             0.6666666666666666,
             "#ed7953"
            ],
            [
             0.7777777777777778,
             "#fb9f3a"
            ],
            [
             0.8888888888888888,
             "#fdca26"
            ],
            [
             1,
             "#f0f921"
            ]
           ],
           "sequentialminus": [
            [
             0,
             "#0d0887"
            ],
            [
             0.1111111111111111,
             "#46039f"
            ],
            [
             0.2222222222222222,
             "#7201a8"
            ],
            [
             0.3333333333333333,
             "#9c179e"
            ],
            [
             0.4444444444444444,
             "#bd3786"
            ],
            [
             0.5555555555555556,
             "#d8576b"
            ],
            [
             0.6666666666666666,
             "#ed7953"
            ],
            [
             0.7777777777777778,
             "#fb9f3a"
            ],
            [
             0.8888888888888888,
             "#fdca26"
            ],
            [
             1,
             "#f0f921"
            ]
           ]
          },
          "colorway": [
           "#636efa",
           "#EF553B",
           "#00cc96",
           "#ab63fa",
           "#FFA15A",
           "#19d3f3",
           "#FF6692",
           "#B6E880",
           "#FF97FF",
           "#FECB52"
          ],
          "font": {
           "color": "#2a3f5f"
          },
          "geo": {
           "bgcolor": "white",
           "lakecolor": "white",
           "landcolor": "white",
           "showlakes": true,
           "showland": true,
           "subunitcolor": "#C8D4E3"
          },
          "hoverlabel": {
           "align": "left"
          },
          "hovermode": "closest",
          "mapbox": {
           "style": "light"
          },
          "paper_bgcolor": "white",
          "plot_bgcolor": "white",
          "polar": {
           "angularaxis": {
            "gridcolor": "#EBF0F8",
            "linecolor": "#EBF0F8",
            "ticks": ""
           },
           "bgcolor": "white",
           "radialaxis": {
            "gridcolor": "#EBF0F8",
            "linecolor": "#EBF0F8",
            "ticks": ""
           }
          },
          "scene": {
           "xaxis": {
            "backgroundcolor": "white",
            "gridcolor": "#DFE8F3",
            "gridwidth": 2,
            "linecolor": "#EBF0F8",
            "showbackground": true,
            "ticks": "",
            "zerolinecolor": "#EBF0F8"
           },
           "yaxis": {
            "backgroundcolor": "white",
            "gridcolor": "#DFE8F3",
            "gridwidth": 2,
            "linecolor": "#EBF0F8",
            "showbackground": true,
            "ticks": "",
            "zerolinecolor": "#EBF0F8"
           },
           "zaxis": {
            "backgroundcolor": "white",
            "gridcolor": "#DFE8F3",
            "gridwidth": 2,
            "linecolor": "#EBF0F8",
            "showbackground": true,
            "ticks": "",
            "zerolinecolor": "#EBF0F8"
           }
          },
          "shapedefaults": {
           "line": {
            "color": "#2a3f5f"
           }
          },
          "ternary": {
           "aaxis": {
            "gridcolor": "#DFE8F3",
            "linecolor": "#A2B1C6",
            "ticks": ""
           },
           "baxis": {
            "gridcolor": "#DFE8F3",
            "linecolor": "#A2B1C6",
            "ticks": ""
           },
           "bgcolor": "white",
           "caxis": {
            "gridcolor": "#DFE8F3",
            "linecolor": "#A2B1C6",
            "ticks": ""
           }
          },
          "title": {
           "x": 0.05
          },
          "xaxis": {
           "automargin": true,
           "gridcolor": "#EBF0F8",
           "linecolor": "#EBF0F8",
           "ticks": "",
           "title": {
            "standoff": 15
           },
           "zerolinecolor": "#EBF0F8",
           "zerolinewidth": 2
          },
          "yaxis": {
           "automargin": true,
           "gridcolor": "#EBF0F8",
           "linecolor": "#EBF0F8",
           "ticks": "",
           "title": {
            "standoff": 15
           },
           "zerolinecolor": "#EBF0F8",
           "zerolinewidth": 2
          }
         }
        },
        "title": {
         "text": "Comparação CO₂ (200 Amostras) - CT_N2_006: [Multiplicativa] - Escalonar Velocidade (x20) - ETHANOL",
         "x": 0.5
        },
        "xaxis": {
         "title": {
          "text": "Amostras"
         }
        },
        "yaxis": {
         "title": {
          "text": "CO₂ (g/s)"
         }
        }
       }
      }
     },
     "metadata": {},
     "output_type": "display_data"
    },
    {
     "name": "stdout",
     "output_type": "stream",
     "text": [
      "\n",
      "================================================================================\n",
      "🔁 CT_N2_006: [Multiplicativa] - Escalonar Velocidade (x20) (GASOLINE)\n",
      "--------------------------------------------------------------------------------\n",
      "Diferença Média: 0.4380 | Diferença Máxima: 2.3344 | RMSE: 0.6509 | Desvio Padrão (Std): 0.4815\n"
     ]
    },
    {
     "data": {
      "text/html": [
       "<style type=\"text/css\">\n",
       "</style>\n",
       "<table id=\"T_70ed4\">\n",
       "  <caption>Comparação dos dados - CT_N2_006: [Multiplicativa] - Escalonar Velocidade (x20) (GASOLINE)</caption>\n",
       "  <thead>\n",
       "    <tr>\n",
       "      <th class=\"blank level0\" >&nbsp;</th>\n",
       "      <th id=\"T_70ed4_level0_col0\" class=\"col_heading level0 col0\" >Latitude_Orig</th>\n",
       "      <th id=\"T_70ed4_level0_col1\" class=\"col_heading level0 col1\" >Longitude_Orig</th>\n",
       "      <th id=\"T_70ed4_level0_col2\" class=\"col_heading level0 col2\" >Speed(OBD)(km/h)_Orig</th>\n",
       "      <th id=\"T_70ed4_level0_col3\" class=\"col_heading level0 col3\" >Acceleration_Orig</th>\n",
       "      <th id=\"T_70ed4_level0_col4\" class=\"col_heading level0 col4\" > </th>\n",
       "      <th id=\"T_70ed4_level0_col5\" class=\"col_heading level0 col5\" >Latitude_Mod</th>\n",
       "      <th id=\"T_70ed4_level0_col6\" class=\"col_heading level0 col6\" >Longitude_Mod</th>\n",
       "      <th id=\"T_70ed4_level0_col7\" class=\"col_heading level0 col7\" >Speed(OBD)(km/h)_Mod</th>\n",
       "      <th id=\"T_70ed4_level0_col8\" class=\"col_heading level0 col8\" >Acceleration_Mod</th>\n",
       "      <th id=\"T_70ed4_level0_col9\" class=\"col_heading level0 col9\" > </th>\n",
       "      <th id=\"T_70ed4_level0_col10\" class=\"col_heading level0 col10\" >CO₂_Real</th>\n",
       "      <th id=\"T_70ed4_level0_col11\" class=\"col_heading level0 col11\" >CO₂_Pred_Orig</th>\n",
       "      <th id=\"T_70ed4_level0_col12\" class=\"col_heading level0 col12\" >CO₂_Pred_Mod</th>\n",
       "    </tr>\n",
       "  </thead>\n",
       "  <tbody>\n",
       "    <tr>\n",
       "      <th id=\"T_70ed4_level0_row0\" class=\"row_heading level0 row0\" >0</th>\n",
       "      <td id=\"T_70ed4_row0_col0\" class=\"data row0 col0\" >-5.820010</td>\n",
       "      <td id=\"T_70ed4_row0_col1\" class=\"data row0 col1\" >-35.220825</td>\n",
       "      <td id=\"T_70ed4_row0_col2\" class=\"data row0 col2\" >5</td>\n",
       "      <td id=\"T_70ed4_row0_col3\" class=\"data row0 col3\" >0.000000</td>\n",
       "      <td id=\"T_70ed4_row0_col4\" class=\"data row0 col4\" >→</td>\n",
       "      <td id=\"T_70ed4_row0_col5\" class=\"data row0 col5\" >-5.820010</td>\n",
       "      <td id=\"T_70ed4_row0_col6\" class=\"data row0 col6\" >-35.220825</td>\n",
       "      <td id=\"T_70ed4_row0_col7\" class=\"data row0 col7\" >100</td>\n",
       "      <td id=\"T_70ed4_row0_col8\" class=\"data row0 col8\" >0.000000</td>\n",
       "      <td id=\"T_70ed4_row0_col9\" class=\"data row0 col9\" > </td>\n",
       "      <td id=\"T_70ed4_row0_col10\" class=\"data row0 col10\" >1.002671</td>\n",
       "      <td id=\"T_70ed4_row0_col11\" class=\"data row0 col11\" >1.456781</td>\n",
       "      <td id=\"T_70ed4_row0_col12\" class=\"data row0 col12\" >3.189422</td>\n",
       "    </tr>\n",
       "    <tr>\n",
       "      <th id=\"T_70ed4_level0_row1\" class=\"row_heading level0 row1\" >1</th>\n",
       "      <td id=\"T_70ed4_row1_col0\" class=\"data row1 col0\" >-5.820013</td>\n",
       "      <td id=\"T_70ed4_row1_col1\" class=\"data row1 col1\" >-35.220822</td>\n",
       "      <td id=\"T_70ed4_row1_col2\" class=\"data row1 col2\" >4</td>\n",
       "      <td id=\"T_70ed4_row1_col3\" class=\"data row1 col3\" >-0.277778</td>\n",
       "      <td id=\"T_70ed4_row1_col4\" class=\"data row1 col4\" >→</td>\n",
       "      <td id=\"T_70ed4_row1_col5\" class=\"data row1 col5\" >-5.820013</td>\n",
       "      <td id=\"T_70ed4_row1_col6\" class=\"data row1 col6\" >-35.220822</td>\n",
       "      <td id=\"T_70ed4_row1_col7\" class=\"data row1 col7\" >80</td>\n",
       "      <td id=\"T_70ed4_row1_col8\" class=\"data row1 col8\" >-0.277778</td>\n",
       "      <td id=\"T_70ed4_row1_col9\" class=\"data row1 col9\" > </td>\n",
       "      <td id=\"T_70ed4_row1_col10\" class=\"data row1 col10\" >1.013360</td>\n",
       "      <td id=\"T_70ed4_row1_col11\" class=\"data row1 col11\" >1.016708</td>\n",
       "      <td id=\"T_70ed4_row1_col12\" class=\"data row1 col12\" >2.051800</td>\n",
       "    </tr>\n",
       "    <tr>\n",
       "      <th id=\"T_70ed4_level0_row2\" class=\"row_heading level0 row2\" >2</th>\n",
       "      <td id=\"T_70ed4_row2_col0\" class=\"data row2 col0\" >-5.820016</td>\n",
       "      <td id=\"T_70ed4_row2_col1\" class=\"data row2 col1\" >-35.220819</td>\n",
       "      <td id=\"T_70ed4_row2_col2\" class=\"data row2 col2\" >5</td>\n",
       "      <td id=\"T_70ed4_row2_col3\" class=\"data row2 col3\" >0.277778</td>\n",
       "      <td id=\"T_70ed4_row2_col4\" class=\"data row2 col4\" >→</td>\n",
       "      <td id=\"T_70ed4_row2_col5\" class=\"data row2 col5\" >-5.820016</td>\n",
       "      <td id=\"T_70ed4_row2_col6\" class=\"data row2 col6\" >-35.220819</td>\n",
       "      <td id=\"T_70ed4_row2_col7\" class=\"data row2 col7\" >100</td>\n",
       "      <td id=\"T_70ed4_row2_col8\" class=\"data row2 col8\" >0.277778</td>\n",
       "      <td id=\"T_70ed4_row2_col9\" class=\"data row2 col9\" > </td>\n",
       "      <td id=\"T_70ed4_row2_col10\" class=\"data row2 col10\" >2.088720</td>\n",
       "      <td id=\"T_70ed4_row2_col11\" class=\"data row2 col11\" >1.456781</td>\n",
       "      <td id=\"T_70ed4_row2_col12\" class=\"data row2 col12\" >3.550872</td>\n",
       "    </tr>\n",
       "    <tr>\n",
       "      <th id=\"T_70ed4_level0_row3\" class=\"row_heading level0 row3\" >3</th>\n",
       "      <td id=\"T_70ed4_row3_col0\" class=\"data row3 col0\" >-5.820014</td>\n",
       "      <td id=\"T_70ed4_row3_col1\" class=\"data row3 col1\" >-35.220825</td>\n",
       "      <td id=\"T_70ed4_row3_col2\" class=\"data row3 col2\" >7</td>\n",
       "      <td id=\"T_70ed4_row3_col3\" class=\"data row3 col3\" >0.555556</td>\n",
       "      <td id=\"T_70ed4_row3_col4\" class=\"data row3 col4\" >→</td>\n",
       "      <td id=\"T_70ed4_row3_col5\" class=\"data row3 col5\" >-5.820014</td>\n",
       "      <td id=\"T_70ed4_row3_col6\" class=\"data row3 col6\" >-35.220825</td>\n",
       "      <td id=\"T_70ed4_row3_col7\" class=\"data row3 col7\" >140</td>\n",
       "      <td id=\"T_70ed4_row3_col8\" class=\"data row3 col8\" >0.555556</td>\n",
       "      <td id=\"T_70ed4_row3_col9\" class=\"data row3 col9\" > </td>\n",
       "      <td id=\"T_70ed4_row3_col10\" class=\"data row3 col10\" >2.261889</td>\n",
       "      <td id=\"T_70ed4_row3_col11\" class=\"data row3 col11\" >1.996380</td>\n",
       "      <td id=\"T_70ed4_row3_col12\" class=\"data row3 col12\" >3.550872</td>\n",
       "    </tr>\n",
       "    <tr>\n",
       "      <th id=\"T_70ed4_level0_row4\" class=\"row_heading level0 row4\" >4</th>\n",
       "      <td id=\"T_70ed4_row4_col0\" class=\"data row4 col0\" >-5.819992</td>\n",
       "      <td id=\"T_70ed4_row4_col1\" class=\"data row4 col1\" >-35.220829</td>\n",
       "      <td id=\"T_70ed4_row4_col2\" class=\"data row4 col2\" >9</td>\n",
       "      <td id=\"T_70ed4_row4_col3\" class=\"data row4 col3\" >0.555556</td>\n",
       "      <td id=\"T_70ed4_row4_col4\" class=\"data row4 col4\" >→</td>\n",
       "      <td id=\"T_70ed4_row4_col5\" class=\"data row4 col5\" >-5.819992</td>\n",
       "      <td id=\"T_70ed4_row4_col6\" class=\"data row4 col6\" >-35.220829</td>\n",
       "      <td id=\"T_70ed4_row4_col7\" class=\"data row4 col7\" >180</td>\n",
       "      <td id=\"T_70ed4_row4_col8\" class=\"data row4 col8\" >0.555556</td>\n",
       "      <td id=\"T_70ed4_row4_col9\" class=\"data row4 col9\" > </td>\n",
       "      <td id=\"T_70ed4_row4_col10\" class=\"data row4 col10\" >2.499195</td>\n",
       "      <td id=\"T_70ed4_row4_col11\" class=\"data row4 col11\" >2.400486</td>\n",
       "      <td id=\"T_70ed4_row4_col12\" class=\"data row4 col12\" >3.046464</td>\n",
       "    </tr>\n",
       "    <tr>\n",
       "      <th id=\"T_70ed4_level0_row5\" class=\"row_heading level0 row5\" >5</th>\n",
       "      <td id=\"T_70ed4_row5_col0\" class=\"data row5 col0\" >-5.819974</td>\n",
       "      <td id=\"T_70ed4_row5_col1\" class=\"data row5 col1\" >-35.220824</td>\n",
       "      <td id=\"T_70ed4_row5_col2\" class=\"data row5 col2\" >12</td>\n",
       "      <td id=\"T_70ed4_row5_col3\" class=\"data row5 col3\" >0.833333</td>\n",
       "      <td id=\"T_70ed4_row5_col4\" class=\"data row5 col4\" >→</td>\n",
       "      <td id=\"T_70ed4_row5_col5\" class=\"data row5 col5\" >-5.819974</td>\n",
       "      <td id=\"T_70ed4_row5_col6\" class=\"data row5 col6\" >-35.220824</td>\n",
       "      <td id=\"T_70ed4_row5_col7\" class=\"data row5 col7\" >240</td>\n",
       "      <td id=\"T_70ed4_row5_col8\" class=\"data row5 col8\" >0.833333</td>\n",
       "      <td id=\"T_70ed4_row5_col9\" class=\"data row5 col9\" > </td>\n",
       "      <td id=\"T_70ed4_row5_col10\" class=\"data row5 col10\" >2.606089</td>\n",
       "      <td id=\"T_70ed4_row5_col11\" class=\"data row5 col11\" >2.400486</td>\n",
       "      <td id=\"T_70ed4_row5_col12\" class=\"data row5 col12\" >3.046464</td>\n",
       "    </tr>\n",
       "    <tr>\n",
       "      <th id=\"T_70ed4_level0_row6\" class=\"row_heading level0 row6\" >6</th>\n",
       "      <td id=\"T_70ed4_row6_col0\" class=\"data row6 col0\" >-5.819944</td>\n",
       "      <td id=\"T_70ed4_row6_col1\" class=\"data row6 col1\" >-35.220823</td>\n",
       "      <td id=\"T_70ed4_row6_col2\" class=\"data row6 col2\" >15</td>\n",
       "      <td id=\"T_70ed4_row6_col3\" class=\"data row6 col3\" >0.833333</td>\n",
       "      <td id=\"T_70ed4_row6_col4\" class=\"data row6 col4\" >→</td>\n",
       "      <td id=\"T_70ed4_row6_col5\" class=\"data row6 col5\" >-5.819944</td>\n",
       "      <td id=\"T_70ed4_row6_col6\" class=\"data row6 col6\" >-35.220823</td>\n",
       "      <td id=\"T_70ed4_row6_col7\" class=\"data row6 col7\" >300</td>\n",
       "      <td id=\"T_70ed4_row6_col8\" class=\"data row6 col8\" >0.833333</td>\n",
       "      <td id=\"T_70ed4_row6_col9\" class=\"data row6 col9\" > </td>\n",
       "      <td id=\"T_70ed4_row6_col10\" class=\"data row6 col10\" >3.070012</td>\n",
       "      <td id=\"T_70ed4_row6_col11\" class=\"data row6 col11\" >2.148721</td>\n",
       "      <td id=\"T_70ed4_row6_col12\" class=\"data row6 col12\" >2.948598</td>\n",
       "    </tr>\n",
       "    <tr>\n",
       "      <th id=\"T_70ed4_level0_row7\" class=\"row_heading level0 row7\" >7</th>\n",
       "      <td id=\"T_70ed4_row7_col0\" class=\"data row7 col0\" >-5.819908</td>\n",
       "      <td id=\"T_70ed4_row7_col1\" class=\"data row7 col1\" >-35.220810</td>\n",
       "      <td id=\"T_70ed4_row7_col2\" class=\"data row7 col2\" >18</td>\n",
       "      <td id=\"T_70ed4_row7_col3\" class=\"data row7 col3\" >0.833333</td>\n",
       "      <td id=\"T_70ed4_row7_col4\" class=\"data row7 col4\" >→</td>\n",
       "      <td id=\"T_70ed4_row7_col5\" class=\"data row7 col5\" >-5.819908</td>\n",
       "      <td id=\"T_70ed4_row7_col6\" class=\"data row7 col6\" >-35.220810</td>\n",
       "      <td id=\"T_70ed4_row7_col7\" class=\"data row7 col7\" >360</td>\n",
       "      <td id=\"T_70ed4_row7_col8\" class=\"data row7 col8\" >0.833333</td>\n",
       "      <td id=\"T_70ed4_row7_col9\" class=\"data row7 col9\" > </td>\n",
       "      <td id=\"T_70ed4_row7_col10\" class=\"data row7 col10\" >2.445747</td>\n",
       "      <td id=\"T_70ed4_row7_col11\" class=\"data row7 col11\" >1.470940</td>\n",
       "      <td id=\"T_70ed4_row7_col12\" class=\"data row7 col12\" >2.285238</td>\n",
       "    </tr>\n",
       "    <tr>\n",
       "      <th id=\"T_70ed4_level0_row8\" class=\"row_heading level0 row8\" >8</th>\n",
       "      <td id=\"T_70ed4_row8_col0\" class=\"data row8 col0\" >-5.819866</td>\n",
       "      <td id=\"T_70ed4_row8_col1\" class=\"data row8 col1\" >-35.220794</td>\n",
       "      <td id=\"T_70ed4_row8_col2\" class=\"data row8 col2\" >18</td>\n",
       "      <td id=\"T_70ed4_row8_col3\" class=\"data row8 col3\" >0.000000</td>\n",
       "      <td id=\"T_70ed4_row8_col4\" class=\"data row8 col4\" >→</td>\n",
       "      <td id=\"T_70ed4_row8_col5\" class=\"data row8 col5\" >-5.819866</td>\n",
       "      <td id=\"T_70ed4_row8_col6\" class=\"data row8 col6\" >-35.220794</td>\n",
       "      <td id=\"T_70ed4_row8_col7\" class=\"data row8 col7\" >360</td>\n",
       "      <td id=\"T_70ed4_row8_col8\" class=\"data row8 col8\" >0.000000</td>\n",
       "      <td id=\"T_70ed4_row8_col9\" class=\"data row8 col9\" > </td>\n",
       "      <td id=\"T_70ed4_row8_col10\" class=\"data row8 col10\" >1.073221</td>\n",
       "      <td id=\"T_70ed4_row8_col11\" class=\"data row8 col11\" >1.588029</td>\n",
       "      <td id=\"T_70ed4_row8_col12\" class=\"data row8 col12\" >2.052619</td>\n",
       "    </tr>\n",
       "    <tr>\n",
       "      <th id=\"T_70ed4_level0_row9\" class=\"row_heading level0 row9\" >9</th>\n",
       "      <td id=\"T_70ed4_row9_col0\" class=\"data row9 col0\" >-5.819821</td>\n",
       "      <td id=\"T_70ed4_row9_col1\" class=\"data row9 col1\" >-35.220775</td>\n",
       "      <td id=\"T_70ed4_row9_col2\" class=\"data row9 col2\" >16</td>\n",
       "      <td id=\"T_70ed4_row9_col3\" class=\"data row9 col3\" >-0.555556</td>\n",
       "      <td id=\"T_70ed4_row9_col4\" class=\"data row9 col4\" >→</td>\n",
       "      <td id=\"T_70ed4_row9_col5\" class=\"data row9 col5\" >-5.819821</td>\n",
       "      <td id=\"T_70ed4_row9_col6\" class=\"data row9 col6\" >-35.220775</td>\n",
       "      <td id=\"T_70ed4_row9_col7\" class=\"data row9 col7\" >320</td>\n",
       "      <td id=\"T_70ed4_row9_col8\" class=\"data row9 col8\" >-0.555556</td>\n",
       "      <td id=\"T_70ed4_row9_col9\" class=\"data row9 col9\" > </td>\n",
       "      <td id=\"T_70ed4_row9_col10\" class=\"data row9 col10\" >0.562265</td>\n",
       "      <td id=\"T_70ed4_row9_col11\" class=\"data row9 col11\" >1.085921</td>\n",
       "      <td id=\"T_70ed4_row9_col12\" class=\"data row9 col12\" >1.591138</td>\n",
       "    </tr>\n",
       "  </tbody>\n",
       "</table>\n"
      ],
      "text/plain": [
       "<pandas.io.formats.style.Styler at 0x1fb1d73ed50>"
      ]
     },
     "metadata": {},
     "output_type": "display_data"
    },
    {
     "data": {
      "application/vnd.plotly.v1+json": {
       "config": {
        "plotlyServerURL": "https://plot.ly"
       },
       "data": [
        {
         "line": {
          "color": "gray",
          "dash": "dot"
         },
         "mode": "lines",
         "name": "Real",
         "type": "scatter",
         "y": {
          "bdata": "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",
          "dtype": "f8"
         }
        },
        {
         "line": {
          "color": "blue",
          "dash": "dash"
         },
         "mode": "lines",
         "name": "Predição Original",
         "type": "scatter",
         "y": {
          "bdata": "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",
          "dtype": "f8"
         }
        },
        {
         "line": {
          "color": "red"
         },
         "mode": "lines",
         "name": "Predição com RM",
         "type": "scatter",
         "y": {
          "bdata": "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",
          "dtype": "f8"
         }
        }
       ],
       "layout": {
        "template": {
         "data": {
          "bar": [
           {
            "error_x": {
             "color": "#2a3f5f"
            },
            "error_y": {
             "color": "#2a3f5f"
            },
            "marker": {
             "line": {
              "color": "white",
              "width": 0.5
             },
             "pattern": {
              "fillmode": "overlay",
              "size": 10,
              "solidity": 0.2
             }
            },
            "type": "bar"
           }
          ],
          "barpolar": [
           {
            "marker": {
             "line": {
              "color": "white",
              "width": 0.5
             },
             "pattern": {
              "fillmode": "overlay",
              "size": 10,
              "solidity": 0.2
             }
            },
            "type": "barpolar"
           }
          ],
          "carpet": [
           {
            "aaxis": {
             "endlinecolor": "#2a3f5f",
             "gridcolor": "#C8D4E3",
             "linecolor": "#C8D4E3",
             "minorgridcolor": "#C8D4E3",
             "startlinecolor": "#2a3f5f"
            },
            "baxis": {
             "endlinecolor": "#2a3f5f",
             "gridcolor": "#C8D4E3",
             "linecolor": "#C8D4E3",
             "minorgridcolor": "#C8D4E3",
             "startlinecolor": "#2a3f5f"
            },
            "type": "carpet"
           }
          ],
          "choropleth": [
           {
            "colorbar": {
             "outlinewidth": 0,
             "ticks": ""
            },
            "type": "choropleth"
           }
          ],
          "contour": [
           {
            "colorbar": {
             "outlinewidth": 0,
             "ticks": ""
            },
            "colorscale": [
             [
              0,
              "#0d0887"
             ],
             [
              0.1111111111111111,
              "#46039f"
             ],
             [
              0.2222222222222222,
              "#7201a8"
             ],
             [
              0.3333333333333333,
              "#9c179e"
             ],
             [
              0.4444444444444444,
              "#bd3786"
             ],
             [
              0.5555555555555556,
              "#d8576b"
             ],
             [
              0.6666666666666666,
              "#ed7953"
             ],
             [
              0.7777777777777778,
              "#fb9f3a"
             ],
             [
              0.8888888888888888,
              "#fdca26"
             ],
             [
              1,
              "#f0f921"
             ]
            ],
            "type": "contour"
           }
          ],
          "contourcarpet": [
           {
            "colorbar": {
             "outlinewidth": 0,
             "ticks": ""
            },
            "type": "contourcarpet"
           }
          ],
          "heatmap": [
           {
            "colorbar": {
             "outlinewidth": 0,
             "ticks": ""
            },
            "colorscale": [
             [
              0,
              "#0d0887"
             ],
             [
              0.1111111111111111,
              "#46039f"
             ],
             [
              0.2222222222222222,
              "#7201a8"
             ],
             [
              0.3333333333333333,
              "#9c179e"
             ],
             [
              0.4444444444444444,
              "#bd3786"
             ],
             [
              0.5555555555555556,
              "#d8576b"
             ],
             [
              0.6666666666666666,
              "#ed7953"
             ],
             [
              0.7777777777777778,
              "#fb9f3a"
             ],
             [
              0.8888888888888888,
              "#fdca26"
             ],
             [
              1,
              "#f0f921"
             ]
            ],
            "type": "heatmap"
           }
          ],
          "histogram": [
           {
            "marker": {
             "pattern": {
              "fillmode": "overlay",
              "size": 10,
              "solidity": 0.2
             }
            },
            "type": "histogram"
           }
          ],
          "histogram2d": [
           {
            "colorbar": {
             "outlinewidth": 0,
             "ticks": ""
            },
            "colorscale": [
             [
              0,
              "#0d0887"
             ],
             [
              0.1111111111111111,
              "#46039f"
             ],
             [
              0.2222222222222222,
              "#7201a8"
             ],
             [
              0.3333333333333333,
              "#9c179e"
             ],
             [
              0.4444444444444444,
              "#bd3786"
             ],
             [
              0.5555555555555556,
              "#d8576b"
             ],
             [
              0.6666666666666666,
              "#ed7953"
             ],
             [
              0.7777777777777778,
              "#fb9f3a"
             ],
             [
              0.8888888888888888,
              "#fdca26"
             ],
             [
              1,
              "#f0f921"
             ]
            ],
            "type": "histogram2d"
           }
          ],
          "histogram2dcontour": [
           {
            "colorbar": {
             "outlinewidth": 0,
             "ticks": ""
            },
            "colorscale": [
             [
              0,
              "#0d0887"
             ],
             [
              0.1111111111111111,
              "#46039f"
             ],
             [
              0.2222222222222222,
              "#7201a8"
             ],
             [
              0.3333333333333333,
              "#9c179e"
             ],
             [
              0.4444444444444444,
              "#bd3786"
             ],
             [
              0.5555555555555556,
              "#d8576b"
             ],
             [
              0.6666666666666666,
              "#ed7953"
             ],
             [
              0.7777777777777778,
              "#fb9f3a"
             ],
             [
              0.8888888888888888,
              "#fdca26"
             ],
             [
              1,
              "#f0f921"
             ]
            ],
            "type": "histogram2dcontour"
           }
          ],
          "mesh3d": [
           {
            "colorbar": {
             "outlinewidth": 0,
             "ticks": ""
            },
            "type": "mesh3d"
           }
          ],
          "parcoords": [
           {
            "line": {
             "colorbar": {
              "outlinewidth": 0,
              "ticks": ""
             }
            },
            "type": "parcoords"
           }
          ],
          "pie": [
           {
            "automargin": true,
            "type": "pie"
           }
          ],
          "scatter": [
           {
            "fillpattern": {
             "fillmode": "overlay",
             "size": 10,
             "solidity": 0.2
            },
            "type": "scatter"
           }
          ],
          "scatter3d": [
           {
            "line": {
             "colorbar": {
              "outlinewidth": 0,
              "ticks": ""
             }
            },
            "marker": {
             "colorbar": {
              "outlinewidth": 0,
              "ticks": ""
             }
            },
            "type": "scatter3d"
           }
          ],
          "scattercarpet": [
           {
            "marker": {
             "colorbar": {
              "outlinewidth": 0,
              "ticks": ""
             }
            },
            "type": "scattercarpet"
           }
          ],
          "scattergeo": [
           {
            "marker": {
             "colorbar": {
              "outlinewidth": 0,
              "ticks": ""
             }
            },
            "type": "scattergeo"
           }
          ],
          "scattergl": [
           {
            "marker": {
             "colorbar": {
              "outlinewidth": 0,
              "ticks": ""
             }
            },
            "type": "scattergl"
           }
          ],
          "scattermap": [
           {
            "marker": {
             "colorbar": {
              "outlinewidth": 0,
              "ticks": ""
             }
            },
            "type": "scattermap"
           }
          ],
          "scattermapbox": [
           {
            "marker": {
             "colorbar": {
              "outlinewidth": 0,
              "ticks": ""
             }
            },
            "type": "scattermapbox"
           }
          ],
          "scatterpolar": [
           {
            "marker": {
             "colorbar": {
              "outlinewidth": 0,
              "ticks": ""
             }
            },
            "type": "scatterpolar"
           }
          ],
          "scatterpolargl": [
           {
            "marker": {
             "colorbar": {
              "outlinewidth": 0,
              "ticks": ""
             }
            },
            "type": "scatterpolargl"
           }
          ],
          "scatterternary": [
           {
            "marker": {
             "colorbar": {
              "outlinewidth": 0,
              "ticks": ""
             }
            },
            "type": "scatterternary"
           }
          ],
          "surface": [
           {
            "colorbar": {
             "outlinewidth": 0,
             "ticks": ""
            },
            "colorscale": [
             [
              0,
              "#0d0887"
             ],
             [
              0.1111111111111111,
              "#46039f"
             ],
             [
              0.2222222222222222,
              "#7201a8"
             ],
             [
              0.3333333333333333,
              "#9c179e"
             ],
             [
              0.4444444444444444,
              "#bd3786"
             ],
             [
              0.5555555555555556,
              "#d8576b"
             ],
             [
              0.6666666666666666,
              "#ed7953"
             ],
             [
              0.7777777777777778,
              "#fb9f3a"
             ],
             [
              0.8888888888888888,
              "#fdca26"
             ],
             [
              1,
              "#f0f921"
             ]
            ],
            "type": "surface"
           }
          ],
          "table": [
           {
            "cells": {
             "fill": {
              "color": "#EBF0F8"
             },
             "line": {
              "color": "white"
             }
            },
            "header": {
             "fill": {
              "color": "#C8D4E3"
             },
             "line": {
              "color": "white"
             }
            },
            "type": "table"
           }
          ]
         },
         "layout": {
          "annotationdefaults": {
           "arrowcolor": "#2a3f5f",
           "arrowhead": 0,
           "arrowwidth": 1
          },
          "autotypenumbers": "strict",
          "coloraxis": {
           "colorbar": {
            "outlinewidth": 0,
            "ticks": ""
           }
          },
          "colorscale": {
           "diverging": [
            [
             0,
             "#8e0152"
            ],
            [
             0.1,
             "#c51b7d"
            ],
            [
             0.2,
             "#de77ae"
            ],
            [
             0.3,
             "#f1b6da"
            ],
            [
             0.4,
             "#fde0ef"
            ],
            [
             0.5,
             "#f7f7f7"
            ],
            [
             0.6,
             "#e6f5d0"
            ],
            [
             0.7,
             "#b8e186"
            ],
            [
             0.8,
             "#7fbc41"
            ],
            [
             0.9,
             "#4d9221"
            ],
            [
             1,
             "#276419"
            ]
           ],
           "sequential": [
            [
             0,
             "#0d0887"
            ],
            [
             0.1111111111111111,
             "#46039f"
            ],
            [
             0.2222222222222222,
             "#7201a8"
            ],
            [
             0.3333333333333333,
             "#9c179e"
            ],
            [
             0.4444444444444444,
             "#bd3786"
            ],
            [
             0.5555555555555556,
             "#d8576b"
            ],
            [
             0.6666666666666666,
             "#ed7953"
            ],
            [
             0.7777777777777778,
             "#fb9f3a"
            ],
            [
             0.8888888888888888,
             "#fdca26"
            ],
            [
             1,
             "#f0f921"
            ]
           ],
           "sequentialminus": [
            [
             0,
             "#0d0887"
            ],
            [
             0.1111111111111111,
             "#46039f"
            ],
            [
             0.2222222222222222,
             "#7201a8"
            ],
            [
             0.3333333333333333,
             "#9c179e"
            ],
            [
             0.4444444444444444,
             "#bd3786"
            ],
            [
             0.5555555555555556,
             "#d8576b"
            ],
            [
             0.6666666666666666,
             "#ed7953"
            ],
            [
             0.7777777777777778,
             "#fb9f3a"
            ],
            [
             0.8888888888888888,
             "#fdca26"
            ],
            [
             1,
             "#f0f921"
            ]
           ]
          },
          "colorway": [
           "#636efa",
           "#EF553B",
           "#00cc96",
           "#ab63fa",
           "#FFA15A",
           "#19d3f3",
           "#FF6692",
           "#B6E880",
           "#FF97FF",
           "#FECB52"
          ],
          "font": {
           "color": "#2a3f5f"
          },
          "geo": {
           "bgcolor": "white",
           "lakecolor": "white",
           "landcolor": "white",
           "showlakes": true,
           "showland": true,
           "subunitcolor": "#C8D4E3"
          },
          "hoverlabel": {
           "align": "left"
          },
          "hovermode": "closest",
          "mapbox": {
           "style": "light"
          },
          "paper_bgcolor": "white",
          "plot_bgcolor": "white",
          "polar": {
           "angularaxis": {
            "gridcolor": "#EBF0F8",
            "linecolor": "#EBF0F8",
            "ticks": ""
           },
           "bgcolor": "white",
           "radialaxis": {
            "gridcolor": "#EBF0F8",
            "linecolor": "#EBF0F8",
            "ticks": ""
           }
          },
          "scene": {
           "xaxis": {
            "backgroundcolor": "white",
            "gridcolor": "#DFE8F3",
            "gridwidth": 2,
            "linecolor": "#EBF0F8",
            "showbackground": true,
            "ticks": "",
            "zerolinecolor": "#EBF0F8"
           },
           "yaxis": {
            "backgroundcolor": "white",
            "gridcolor": "#DFE8F3",
            "gridwidth": 2,
            "linecolor": "#EBF0F8",
            "showbackground": true,
            "ticks": "",
            "zerolinecolor": "#EBF0F8"
           },
           "zaxis": {
            "backgroundcolor": "white",
            "gridcolor": "#DFE8F3",
            "gridwidth": 2,
            "linecolor": "#EBF0F8",
            "showbackground": true,
            "ticks": "",
            "zerolinecolor": "#EBF0F8"
           }
          },
          "shapedefaults": {
           "line": {
            "color": "#2a3f5f"
           }
          },
          "ternary": {
           "aaxis": {
            "gridcolor": "#DFE8F3",
            "linecolor": "#A2B1C6",
            "ticks": ""
           },
           "baxis": {
            "gridcolor": "#DFE8F3",
            "linecolor": "#A2B1C6",
            "ticks": ""
           },
           "bgcolor": "white",
           "caxis": {
            "gridcolor": "#DFE8F3",
            "linecolor": "#A2B1C6",
            "ticks": ""
           }
          },
          "title": {
           "x": 0.05
          },
          "xaxis": {
           "automargin": true,
           "gridcolor": "#EBF0F8",
           "linecolor": "#EBF0F8",
           "ticks": "",
           "title": {
            "standoff": 15
           },
           "zerolinecolor": "#EBF0F8",
           "zerolinewidth": 2
          },
          "yaxis": {
           "automargin": true,
           "gridcolor": "#EBF0F8",
           "linecolor": "#EBF0F8",
           "ticks": "",
           "title": {
            "standoff": 15
           },
           "zerolinecolor": "#EBF0F8",
           "zerolinewidth": 2
          }
         }
        },
        "title": {
         "text": "Comparação CO₂ (200 Amostras) - CT_N2_006: [Multiplicativa] - Escalonar Velocidade (x20) - GASOLINE",
         "x": 0.5
        },
        "xaxis": {
         "title": {
          "text": "Amostras"
         }
        },
        "yaxis": {
         "title": {
          "text": "CO₂ (g/s)"
         }
        }
       }
      }
     },
     "metadata": {},
     "output_type": "display_data"
    },
    {
     "name": "stdout",
     "output_type": "stream",
     "text": [
      "\n",
      "================================================================================\n",
      "🔁 CT_N2_007: [Aditiva] - Deslocar Coordenadas (+1.0) (ETHANOL)\n",
      "--------------------------------------------------------------------------------\n",
      "Diferença Média: 0.3068 | Diferença Máxima: 2.2510 | RMSE: 0.4360 | Desvio Padrão (Std): 0.3098\n"
     ]
    },
    {
     "data": {
      "text/html": [
       "<style type=\"text/css\">\n",
       "</style>\n",
       "<table id=\"T_4162a\">\n",
       "  <caption>Comparação dos dados - CT_N2_007: [Aditiva] - Deslocar Coordenadas (+1.0) (ETHANOL)</caption>\n",
       "  <thead>\n",
       "    <tr>\n",
       "      <th class=\"blank level0\" >&nbsp;</th>\n",
       "      <th id=\"T_4162a_level0_col0\" class=\"col_heading level0 col0\" >Latitude_Orig</th>\n",
       "      <th id=\"T_4162a_level0_col1\" class=\"col_heading level0 col1\" >Longitude_Orig</th>\n",
       "      <th id=\"T_4162a_level0_col2\" class=\"col_heading level0 col2\" >Speed(OBD)(km/h)_Orig</th>\n",
       "      <th id=\"T_4162a_level0_col3\" class=\"col_heading level0 col3\" >Acceleration_Orig</th>\n",
       "      <th id=\"T_4162a_level0_col4\" class=\"col_heading level0 col4\" > </th>\n",
       "      <th id=\"T_4162a_level0_col5\" class=\"col_heading level0 col5\" >Latitude_Mod</th>\n",
       "      <th id=\"T_4162a_level0_col6\" class=\"col_heading level0 col6\" >Longitude_Mod</th>\n",
       "      <th id=\"T_4162a_level0_col7\" class=\"col_heading level0 col7\" >Speed(OBD)(km/h)_Mod</th>\n",
       "      <th id=\"T_4162a_level0_col8\" class=\"col_heading level0 col8\" >Acceleration_Mod</th>\n",
       "      <th id=\"T_4162a_level0_col9\" class=\"col_heading level0 col9\" > </th>\n",
       "      <th id=\"T_4162a_level0_col10\" class=\"col_heading level0 col10\" >CO₂_Real</th>\n",
       "      <th id=\"T_4162a_level0_col11\" class=\"col_heading level0 col11\" >CO₂_Pred_Orig</th>\n",
       "      <th id=\"T_4162a_level0_col12\" class=\"col_heading level0 col12\" >CO₂_Pred_Mod</th>\n",
       "    </tr>\n",
       "  </thead>\n",
       "  <tbody>\n",
       "    <tr>\n",
       "      <th id=\"T_4162a_level0_row0\" class=\"row_heading level0 row0\" >0</th>\n",
       "      <td id=\"T_4162a_row0_col0\" class=\"data row0 col0\" >-5.820105</td>\n",
       "      <td id=\"T_4162a_row0_col1\" class=\"data row0 col1\" >-35.220818</td>\n",
       "      <td id=\"T_4162a_row0_col2\" class=\"data row0 col2\" >3</td>\n",
       "      <td id=\"T_4162a_row0_col3\" class=\"data row0 col3\" >0.000000</td>\n",
       "      <td id=\"T_4162a_row0_col4\" class=\"data row0 col4\" >→</td>\n",
       "      <td id=\"T_4162a_row0_col5\" class=\"data row0 col5\" >-4.820105</td>\n",
       "      <td id=\"T_4162a_row0_col6\" class=\"data row0 col6\" >-34.220818</td>\n",
       "      <td id=\"T_4162a_row0_col7\" class=\"data row0 col7\" >3</td>\n",
       "      <td id=\"T_4162a_row0_col8\" class=\"data row0 col8\" >0.000000</td>\n",
       "      <td id=\"T_4162a_row0_col9\" class=\"data row0 col9\" > </td>\n",
       "      <td id=\"T_4162a_row0_col10\" class=\"data row0 col10\" >0.642839</td>\n",
       "      <td id=\"T_4162a_row0_col11\" class=\"data row0 col11\" >0.742631</td>\n",
       "      <td id=\"T_4162a_row0_col12\" class=\"data row0 col12\" >0.778424</td>\n",
       "    </tr>\n",
       "    <tr>\n",
       "      <th id=\"T_4162a_level0_row1\" class=\"row_heading level0 row1\" >1</th>\n",
       "      <td id=\"T_4162a_row1_col0\" class=\"data row1 col0\" >-5.820103</td>\n",
       "      <td id=\"T_4162a_row1_col1\" class=\"data row1 col1\" >-35.220828</td>\n",
       "      <td id=\"T_4162a_row1_col2\" class=\"data row1 col2\" >5</td>\n",
       "      <td id=\"T_4162a_row1_col3\" class=\"data row1 col3\" >0.555556</td>\n",
       "      <td id=\"T_4162a_row1_col4\" class=\"data row1 col4\" >→</td>\n",
       "      <td id=\"T_4162a_row1_col5\" class=\"data row1 col5\" >-4.820103</td>\n",
       "      <td id=\"T_4162a_row1_col6\" class=\"data row1 col6\" >-34.220828</td>\n",
       "      <td id=\"T_4162a_row1_col7\" class=\"data row1 col7\" >5</td>\n",
       "      <td id=\"T_4162a_row1_col8\" class=\"data row1 col8\" >0.555556</td>\n",
       "      <td id=\"T_4162a_row1_col9\" class=\"data row1 col9\" > </td>\n",
       "      <td id=\"T_4162a_row1_col10\" class=\"data row1 col10\" >0.653249</td>\n",
       "      <td id=\"T_4162a_row1_col11\" class=\"data row1 col11\" >0.771505</td>\n",
       "      <td id=\"T_4162a_row1_col12\" class=\"data row1 col12\" >0.671185</td>\n",
       "    </tr>\n",
       "    <tr>\n",
       "      <th id=\"T_4162a_level0_row2\" class=\"row_heading level0 row2\" >2</th>\n",
       "      <td id=\"T_4162a_row2_col0\" class=\"data row2 col0\" >-5.820102</td>\n",
       "      <td id=\"T_4162a_row2_col1\" class=\"data row2 col1\" >-35.220838</td>\n",
       "      <td id=\"T_4162a_row2_col2\" class=\"data row2 col2\" >5</td>\n",
       "      <td id=\"T_4162a_row2_col3\" class=\"data row2 col3\" >0.000000</td>\n",
       "      <td id=\"T_4162a_row2_col4\" class=\"data row2 col4\" >→</td>\n",
       "      <td id=\"T_4162a_row2_col5\" class=\"data row2 col5\" >-4.820102</td>\n",
       "      <td id=\"T_4162a_row2_col6\" class=\"data row2 col6\" >-34.220838</td>\n",
       "      <td id=\"T_4162a_row2_col7\" class=\"data row2 col7\" >5</td>\n",
       "      <td id=\"T_4162a_row2_col8\" class=\"data row2 col8\" >0.000000</td>\n",
       "      <td id=\"T_4162a_row2_col9\" class=\"data row2 col9\" > </td>\n",
       "      <td id=\"T_4162a_row2_col10\" class=\"data row2 col10\" >0.653249</td>\n",
       "      <td id=\"T_4162a_row2_col11\" class=\"data row2 col11\" >0.771505</td>\n",
       "      <td id=\"T_4162a_row2_col12\" class=\"data row2 col12\" >0.671185</td>\n",
       "    </tr>\n",
       "    <tr>\n",
       "      <th id=\"T_4162a_level0_row3\" class=\"row_heading level0 row3\" >3</th>\n",
       "      <td id=\"T_4162a_row3_col0\" class=\"data row3 col0\" >-5.820096</td>\n",
       "      <td id=\"T_4162a_row3_col1\" class=\"data row3 col1\" >-35.220843</td>\n",
       "      <td id=\"T_4162a_row3_col2\" class=\"data row3 col2\" >3</td>\n",
       "      <td id=\"T_4162a_row3_col3\" class=\"data row3 col3\" >-0.555556</td>\n",
       "      <td id=\"T_4162a_row3_col4\" class=\"data row3 col4\" >→</td>\n",
       "      <td id=\"T_4162a_row3_col5\" class=\"data row3 col5\" >-4.820096</td>\n",
       "      <td id=\"T_4162a_row3_col6\" class=\"data row3 col6\" >-34.220843</td>\n",
       "      <td id=\"T_4162a_row3_col7\" class=\"data row3 col7\" >3</td>\n",
       "      <td id=\"T_4162a_row3_col8\" class=\"data row3 col8\" >-0.555556</td>\n",
       "      <td id=\"T_4162a_row3_col9\" class=\"data row3 col9\" > </td>\n",
       "      <td id=\"T_4162a_row3_col10\" class=\"data row3 col10\" >0.679275</td>\n",
       "      <td id=\"T_4162a_row3_col11\" class=\"data row3 col11\" >0.659013</td>\n",
       "      <td id=\"T_4162a_row3_col12\" class=\"data row3 col12\" >0.674095</td>\n",
       "    </tr>\n",
       "    <tr>\n",
       "      <th id=\"T_4162a_level0_row4\" class=\"row_heading level0 row4\" >4</th>\n",
       "      <td id=\"T_4162a_row4_col0\" class=\"data row4 col0\" >-5.820091</td>\n",
       "      <td id=\"T_4162a_row4_col1\" class=\"data row4 col1\" >-35.220850</td>\n",
       "      <td id=\"T_4162a_row4_col2\" class=\"data row4 col2\" >0</td>\n",
       "      <td id=\"T_4162a_row4_col3\" class=\"data row4 col3\" >-0.833333</td>\n",
       "      <td id=\"T_4162a_row4_col4\" class=\"data row4 col4\" >→</td>\n",
       "      <td id=\"T_4162a_row4_col5\" class=\"data row4 col5\" >-4.820091</td>\n",
       "      <td id=\"T_4162a_row4_col6\" class=\"data row4 col6\" >-34.220850</td>\n",
       "      <td id=\"T_4162a_row4_col7\" class=\"data row4 col7\" >0</td>\n",
       "      <td id=\"T_4162a_row4_col8\" class=\"data row4 col8\" >-0.833333</td>\n",
       "      <td id=\"T_4162a_row4_col9\" class=\"data row4 col9\" > </td>\n",
       "      <td id=\"T_4162a_row4_col10\" class=\"data row4 col10\" >0.610306</td>\n",
       "      <td id=\"T_4162a_row4_col11\" class=\"data row4 col11\" >0.667689</td>\n",
       "      <td id=\"T_4162a_row4_col12\" class=\"data row4 col12\" >0.588105</td>\n",
       "    </tr>\n",
       "    <tr>\n",
       "      <th id=\"T_4162a_level0_row5\" class=\"row_heading level0 row5\" >5</th>\n",
       "      <td id=\"T_4162a_row5_col0\" class=\"data row5 col0\" >-5.820091</td>\n",
       "      <td id=\"T_4162a_row5_col1\" class=\"data row5 col1\" >-35.220850</td>\n",
       "      <td id=\"T_4162a_row5_col2\" class=\"data row5 col2\" >0</td>\n",
       "      <td id=\"T_4162a_row5_col3\" class=\"data row5 col3\" >0.000000</td>\n",
       "      <td id=\"T_4162a_row5_col4\" class=\"data row5 col4\" >→</td>\n",
       "      <td id=\"T_4162a_row5_col5\" class=\"data row5 col5\" >-4.820091</td>\n",
       "      <td id=\"T_4162a_row5_col6\" class=\"data row5 col6\" >-34.220850</td>\n",
       "      <td id=\"T_4162a_row5_col7\" class=\"data row5 col7\" >0</td>\n",
       "      <td id=\"T_4162a_row5_col8\" class=\"data row5 col8\" >0.000000</td>\n",
       "      <td id=\"T_4162a_row5_col9\" class=\"data row5 col9\" > </td>\n",
       "      <td id=\"T_4162a_row5_col10\" class=\"data row5 col10\" >0.610306</td>\n",
       "      <td id=\"T_4162a_row5_col11\" class=\"data row5 col11\" >0.706858</td>\n",
       "      <td id=\"T_4162a_row5_col12\" class=\"data row5 col12\" >0.606701</td>\n",
       "    </tr>\n",
       "    <tr>\n",
       "      <th id=\"T_4162a_level0_row6\" class=\"row_heading level0 row6\" >6</th>\n",
       "      <td id=\"T_4162a_row6_col0\" class=\"data row6 col0\" >-5.820091</td>\n",
       "      <td id=\"T_4162a_row6_col1\" class=\"data row6 col1\" >-35.220850</td>\n",
       "      <td id=\"T_4162a_row6_col2\" class=\"data row6 col2\" >0</td>\n",
       "      <td id=\"T_4162a_row6_col3\" class=\"data row6 col3\" >0.000000</td>\n",
       "      <td id=\"T_4162a_row6_col4\" class=\"data row6 col4\" >→</td>\n",
       "      <td id=\"T_4162a_row6_col5\" class=\"data row6 col5\" >-4.820091</td>\n",
       "      <td id=\"T_4162a_row6_col6\" class=\"data row6 col6\" >-34.220850</td>\n",
       "      <td id=\"T_4162a_row6_col7\" class=\"data row6 col7\" >0</td>\n",
       "      <td id=\"T_4162a_row6_col8\" class=\"data row6 col8\" >0.000000</td>\n",
       "      <td id=\"T_4162a_row6_col9\" class=\"data row6 col9\" > </td>\n",
       "      <td id=\"T_4162a_row6_col10\" class=\"data row6 col10\" >0.490587</td>\n",
       "      <td id=\"T_4162a_row6_col11\" class=\"data row6 col11\" >0.706858</td>\n",
       "      <td id=\"T_4162a_row6_col12\" class=\"data row6 col12\" >0.606701</td>\n",
       "    </tr>\n",
       "    <tr>\n",
       "      <th id=\"T_4162a_level0_row7\" class=\"row_heading level0 row7\" >7</th>\n",
       "      <td id=\"T_4162a_row7_col0\" class=\"data row7 col0\" >-5.820085</td>\n",
       "      <td id=\"T_4162a_row7_col1\" class=\"data row7 col1\" >-35.220856</td>\n",
       "      <td id=\"T_4162a_row7_col2\" class=\"data row7 col2\" >3</td>\n",
       "      <td id=\"T_4162a_row7_col3\" class=\"data row7 col3\" >0.833333</td>\n",
       "      <td id=\"T_4162a_row7_col4\" class=\"data row7 col4\" >→</td>\n",
       "      <td id=\"T_4162a_row7_col5\" class=\"data row7 col5\" >-4.820085</td>\n",
       "      <td id=\"T_4162a_row7_col6\" class=\"data row7 col6\" >-34.220856</td>\n",
       "      <td id=\"T_4162a_row7_col7\" class=\"data row7 col7\" >3</td>\n",
       "      <td id=\"T_4162a_row7_col8\" class=\"data row7 col8\" >0.833333</td>\n",
       "      <td id=\"T_4162a_row7_col9\" class=\"data row7 col9\" > </td>\n",
       "      <td id=\"T_4162a_row7_col10\" class=\"data row7 col10\" >1.090483</td>\n",
       "      <td id=\"T_4162a_row7_col11\" class=\"data row7 col11\" >1.137803</td>\n",
       "      <td id=\"T_4162a_row7_col12\" class=\"data row7 col12\" >0.778424</td>\n",
       "    </tr>\n",
       "    <tr>\n",
       "      <th id=\"T_4162a_level0_row8\" class=\"row_heading level0 row8\" >8</th>\n",
       "      <td id=\"T_4162a_row8_col0\" class=\"data row8 col0\" >-5.820074</td>\n",
       "      <td id=\"T_4162a_row8_col1\" class=\"data row8 col1\" >-35.220859</td>\n",
       "      <td id=\"T_4162a_row8_col2\" class=\"data row8 col2\" >3</td>\n",
       "      <td id=\"T_4162a_row8_col3\" class=\"data row8 col3\" >0.000000</td>\n",
       "      <td id=\"T_4162a_row8_col4\" class=\"data row8 col4\" >→</td>\n",
       "      <td id=\"T_4162a_row8_col5\" class=\"data row8 col5\" >-4.820074</td>\n",
       "      <td id=\"T_4162a_row8_col6\" class=\"data row8 col6\" >-34.220859</td>\n",
       "      <td id=\"T_4162a_row8_col7\" class=\"data row8 col7\" >3</td>\n",
       "      <td id=\"T_4162a_row8_col8\" class=\"data row8 col8\" >0.000000</td>\n",
       "      <td id=\"T_4162a_row8_col9\" class=\"data row8 col9\" > </td>\n",
       "      <td id=\"T_4162a_row8_col10\" class=\"data row8 col10\" >1.090483</td>\n",
       "      <td id=\"T_4162a_row8_col11\" class=\"data row8 col11\" >1.137803</td>\n",
       "      <td id=\"T_4162a_row8_col12\" class=\"data row8 col12\" >0.778424</td>\n",
       "    </tr>\n",
       "    <tr>\n",
       "      <th id=\"T_4162a_level0_row9\" class=\"row_heading level0 row9\" >9</th>\n",
       "      <td id=\"T_4162a_row9_col0\" class=\"data row9 col0\" >-5.820064</td>\n",
       "      <td id=\"T_4162a_row9_col1\" class=\"data row9 col1\" >-35.220858</td>\n",
       "      <td id=\"T_4162a_row9_col2\" class=\"data row9 col2\" >3</td>\n",
       "      <td id=\"T_4162a_row9_col3\" class=\"data row9 col3\" >0.000000</td>\n",
       "      <td id=\"T_4162a_row9_col4\" class=\"data row9 col4\" >→</td>\n",
       "      <td id=\"T_4162a_row9_col5\" class=\"data row9 col5\" >-4.820064</td>\n",
       "      <td id=\"T_4162a_row9_col6\" class=\"data row9 col6\" >-34.220858</td>\n",
       "      <td id=\"T_4162a_row9_col7\" class=\"data row9 col7\" >3</td>\n",
       "      <td id=\"T_4162a_row9_col8\" class=\"data row9 col8\" >0.000000</td>\n",
       "      <td id=\"T_4162a_row9_col9\" class=\"data row9 col9\" > </td>\n",
       "      <td id=\"T_4162a_row9_col10\" class=\"data row9 col10\" >0.921315</td>\n",
       "      <td id=\"T_4162a_row9_col11\" class=\"data row9 col11\" >1.137803</td>\n",
       "      <td id=\"T_4162a_row9_col12\" class=\"data row9 col12\" >0.778424</td>\n",
       "    </tr>\n",
       "  </tbody>\n",
       "</table>\n"
      ],
      "text/plain": [
       "<pandas.io.formats.style.Styler at 0x1fb1e270a10>"
      ]
     },
     "metadata": {},
     "output_type": "display_data"
    },
    {
     "data": {
      "application/vnd.plotly.v1+json": {
       "config": {
        "plotlyServerURL": "https://plot.ly"
       },
       "data": [
        {
         "line": {
          "color": "gray",
          "dash": "dot"
         },
         "mode": "lines",
         "name": "Real",
         "type": "scatter",
         "y": {
          "bdata": "Xv2WDSKS5D+bk2QeaufkP5uTZB5q5+Q/NotmSJ685T/ehxTZoIfjP96HFNmgh+M/M5CwL8hl3z/dnA9wnnLxP92cD3CecvE/T3ASz2l77T+UX3iidnLyPz8yMAV+Z/Q/PzIwBX5n9D8ti7UITBb8PzhhcBqj5vk/KSOOULfS8D8pI45Qt9LwP7us/CApG+8/cjYv8OP84z+t9vIuJyjgP6328i4nKOA/geLz0z/39T+rgxXuOvLzP6uDFe468vM/mb1aTGW9AEB0UCWuXTcFQJNSfcM51QFAk1J9wznVAUDU4Eocwdz0P40G4N+x0N0/MaWrxsVQ3T+Gb8fSpWfjP4Zvx9KlZ+M/RJASr2yy4j+u4feXKT3iPxtsE+QD5v0/G2wT5APm/T9xVW+Vh+D+P/WBu/ZpMek/9YG79mkx6T8EcmzGOjzYP6VZboDtdf4/WOugB2mlAEBY66AHaaUAQFcs1yJHEfo/jF/HYiTM+D+vRCQpQjH6P69EJClCMfo/IlLOZdxR9j8U6vVt9WfxP9L1RbO+x/I/0vVFs77H8j9JPCZTdgbrPy3PofTAJtk/Lc+h9MAm2T83dmuxoNHXP5m9WkxlveA/wxqQeuun4T/DGpB666fhPy5sdWOoMgFAN3ZrsaDRB0CTtalUUskJQJO1qVRSyQlAUQXmhZA5CECzrwGybRkJQLOvAbJtGQlAadNRH3liAkDxyvHJCOv/P/HK8ckI6/8/ZYpqDIgCAkDcITJ38e4HQFhbyHe+Nvk/WFvId742+T+BiQxRzfvaP+KMDwAd1/Y/4owPAB3X9j9nuVth/yfxP4GJDFHN+9o/VyzXIkcR2j9XLNciRxHKPzhhcBqj5sk/mb1aTGW90D+rqr6oeQbiPxTJ619+uOE/cloUOF8j9z+cBUVJAVwCQO7F9qKMm/w/7sX2ooyb/D8XwP8/+pH1Py66pl3DO9s/YtOg3ya82D8GXXEvPVHKPwZdcS89Uco/3P87AbdmyT8zkLAvyGXPPxdp8ttk2OI/F2ny22TY4j/s9fsW3vTiP/4o4Wa23vY/g+DZ9mxa+z8YlgkS/7v5P6sqLmvI9vg/8wSZp9cC8D+Jib2QH6L0P4mJvZAfovQ/3P87Abdm2T8L6kQuo8H3P69EJClCMfo/Ozd67KcQ/j87N3rspxD+P1OiufR3RQBA+E2AushiAED4TYC6yGIAQInArp1XFQFAl/GViAaM+T9PWxc4bJDvP09bFzhskO8/hm/H0qVn4z/c6kBquXvbP2OpqrEr5tw/Y6mqsSvm3D9jqaqxK+bcP1gX3ItJJsw/3OpAarl7yz/c6kBquXvLP9wIC9blFNo/vtAsFZBS4j8HSnfCP9HhPwdKd8I/0eE/2BRmZazU4T+D52NP3cblPx/K9Y3yMOw/yU589t4c5D84YXAao+bpP36zAn/I0dY/frMCf8jR1j+JRdGkqpHXP4J0EbrPEN0/4UgjFKjG+T/hSCMUqMb5P4N3x4pmtQBA16FZV8gb+z/XoVlXyBv7PyEO4nlnQfk/3ZwPcJ5y4T9PWxc4bJD/P09bFzhskP8/ruH3lyk9AkC51vJOJPHqPzSgYd+bp/M/NKBh35un8z+SRYLk/DfxPyf+4Qnmpe4/TZoI/WRR+T9Nmgj9ZFH5P8/6j5rocOw/L1d6zKpH4z8vV3rMqkfjPwUPQDUiSOA/Yr6lSCnR2j+iKn0rdlDvP6IqfSt2UO8/cjYv8OP84z+7rPwgKRvvP0ZmHIFx3OY/4HIZQqOc5T/gchlCo5zlPzhhcBqj5tk/BvpEniRd4j/DGpB666fhP8MakHrrp+E/BQ9ANSJI4D8xpavGxVDdPzOQsC/IZd8/M5CwL8hl3z+zjQs8M5HaPzaLZkievNU/LeSci74R1z8t5JyLvhHXP4lF0aSqkdc/BHJsxjo82D8zkLAvyGX/PzOQsC/IZf8/dnIbJJi/A0BvPi+opEoBQKuDFe468gNAq4MV7jryA0CDd8eKZrUAQE5mzcDDggBAtmMVDji77j+2YxUOOLvuP+vv7NCHcfg/qT8pAsbh9j/jdxRpH+z4P+N3FGkf7Pg/r0QkKUIx+j/2xafi3kH2P0wSMCV7MO8/Yr6lSCnR6j9ivqVIKdHqPw==",
          "dtype": "f8"
         }
        },
        {
         "line": {
          "color": "blue",
          "dash": "dash"
         },
         "mode": "lines",
         "name": "Predição Original",
         "type": "scatter",
         "y": {
          "bdata": "A1nGMaLD5z/rGxZ+K7DoP+sbFn4rsOg/ZNKEuKEW5T8gJJx1tV3lP1qolBeUnuY/WqiUF5Se5j8vN5pfcTTyPy83ml9xNPI/LzeaX3E08j8LUj4DVmv0P2cHXp66ovQ/lajUrwhy8z8ERxYOSyj4P0gf5HQeCfI/if7LZHnq7z8XHaiiCV3vP6Btm6JJmew/vGW1En/65z9MP1pTWq7wP/J2f86FGvA/Rx/yOxHc8D9HH/I7EdzwP0cf8jsR3PA/Wi2PK9ct9T99iPbmwzv1P+s7h6uSvvI/jlifB2hB+z/KAreWPx7tP2CGcv2h3+w/DE1YhnUh4z+r91rqETzvPzST+4nO/eQ/tcGbWjP25j8r0X6ZskrsPzXVexnn+PI/jsX9rHxr8z+YODlE2Q7zPxrw1xsMw+0/6+G9lxVx7T+VLCu5vQ3pP5kI65KAuvA/xV7vM9nJ8j+3rXXsTRn+P7nipTU15fQ/Ahig1qK48j97HMyYL2j0P61VsDSbgfU/gKXeX7rt9D8lL/FG5m/yP1D9sJ1ASPI/ONgUq37H8z/SblJX33btP6Pvp4KhC+M/A1unplDL5j/tVn03pGviP09EUKldGOg/RjLkVnwe6D+bSQJT7m7oP/kNtZK+Z+k/BO79CuHa9z9uhs6rFD4AQDSsx4gppPs/JoJSHH6Y9j8b5eo1rb34P7wp1TtfOgFA605wkeGE9z+CQHPA6Nf7P96W8dRj7vo/77f/lcKE+T8/0HaFb3j5P0ixId0VM/o/2QaTrAQF9T89ims167HjP+Roiw7ssfA/N+aifBlj8D+LMRVBlGrvP6CylwUtpOE/UCAMIn9U4D86TWpu5ebtP5PEfPDbnN0/8ql5Nfn/4D83OrmjNxvhP9ETGcqqqOg/TEBpKYVw9j/5y4EaW9T4P6g7DuceO/U/scgFb/N/8D+73vRQdeXuP5DaSmyYQ+A/1hTHV/j+2j9wnnVfpazbPzJoid+r2eU/KlRdoNof2z8xuA2DPjffP3qotC6cE+Y/eqi0LpwT5j96qLQunBPmPwHia4Ko5fc/29W9hKHm9z8g+vZo9aLkP0B4lD1ucuo/7S5C4Gtt4z98ilhBi5jrP/KsKQxOlfI//2tRaVkC5T/qPgn8opL1P/EalAHUk/g/d3NK1XJm+D8wa0Tb74j6P3q+QFXehvo/aE6ut2YD/D+jtrgWtpL5P34fV6/dTPs/lH2SPohh+j8/GPm1bFr6P5ruH7LppPM/5Al5ERy66T9PhgO1HCTnPzPXNhKa3+U/aywYvzde4j8loomWrtjsP5vFmVUkbNk/G3suNaib2D8/u9z5/dXaP3km4Ayepd8/Uk5DM6qO4T/2QoCa5DHeP4UyAsejw98/ujeHjBTU4j8Ed2DTfizhP8o954gzz98/sAuSzweZ3z+Bn78Ht3bhP4tDw6o6R90/p1rkRaZi4D+ok52BJvzgP0cuHi8HyOI/6T8tEzd28D9Ufn7MltjzP+8rBFeYNe0/Ep96r+v09T8lXvqxmvv1P6ll5rV+DvU/AEVOg7nS9D/ujNyskdv0PzOb0GBbHvc/ylJM6fZ/9D8fx0jIdhT4PxKEMBqXGfc/SsHIE8M69D9qaamy+q3zP8BOFJDZJ/Q/wE4UkNkn9D/AThSQ2Sf0P1OhETv9wfM/rD61kIUP4z9Da6mDbIzqP+uZM77TZuA/gRK+xUlZ3j9vP2PGGNjoPxOc/+yT4OY/yJV/N17A5T/nFAnBEOzmP92QuRy4seY/ZGCExJTo5z96Vyscr6/oP6aKB+I5W+Q/pooH4jlb5D+sOD3uPMPbPzSL9ECYMeM/1wgBoMJh4z+YKJWNTRfjP7L2lbY0nOA/svaVtjSc4D+jbAdyFMrYP+C1Y9iuu9s/L3iDtH6s4T9nw7f31OLWP1OKDxxV4uA/I+/QW5G04z+x1fdOMxX2P7HV904zFfY/0nLaBYMf9j/HgTTYZqn1P1WiiIORJPU/fylywz7O+j+8r3+3u5L0P++jIX4ErPM/AS5N3h1h+D9aQsEXEbX2PyEu1sxVi/g/ULqdNOo3+D/6YwnW+zf4P9Ev1ugKn/I/f+alhHWg8j9iUV8JDArzP63YDoqPAOs/59z4RMEh7D9rIQjK1DPrPw==",
          "dtype": "f8"
         }
        },
        {
         "line": {
          "color": "red"
         },
         "mode": "lines",
         "name": "Predição com RM",
         "type": "scatter",
         "y": {
          "bdata": "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",
          "dtype": "f8"
         }
        }
       ],
       "layout": {
        "template": {
         "data": {
          "bar": [
           {
            "error_x": {
             "color": "#2a3f5f"
            },
            "error_y": {
             "color": "#2a3f5f"
            },
            "marker": {
             "line": {
              "color": "white",
              "width": 0.5
             },
             "pattern": {
              "fillmode": "overlay",
              "size": 10,
              "solidity": 0.2
             }
            },
            "type": "bar"
           }
          ],
          "barpolar": [
           {
            "marker": {
             "line": {
              "color": "white",
              "width": 0.5
             },
             "pattern": {
              "fillmode": "overlay",
              "size": 10,
              "solidity": 0.2
             }
            },
            "type": "barpolar"
           }
          ],
          "carpet": [
           {
            "aaxis": {
             "endlinecolor": "#2a3f5f",
             "gridcolor": "#C8D4E3",
             "linecolor": "#C8D4E3",
             "minorgridcolor": "#C8D4E3",
             "startlinecolor": "#2a3f5f"
            },
            "baxis": {
             "endlinecolor": "#2a3f5f",
             "gridcolor": "#C8D4E3",
             "linecolor": "#C8D4E3",
             "minorgridcolor": "#C8D4E3",
             "startlinecolor": "#2a3f5f"
            },
            "type": "carpet"
           }
          ],
          "choropleth": [
           {
            "colorbar": {
             "outlinewidth": 0,
             "ticks": ""
            },
            "type": "choropleth"
           }
          ],
          "contour": [
           {
            "colorbar": {
             "outlinewidth": 0,
             "ticks": ""
            },
            "colorscale": [
             [
              0,
              "#0d0887"
             ],
             [
              0.1111111111111111,
              "#46039f"
             ],
             [
              0.2222222222222222,
              "#7201a8"
             ],
             [
              0.3333333333333333,
              "#9c179e"
             ],
             [
              0.4444444444444444,
              "#bd3786"
             ],
             [
              0.5555555555555556,
              "#d8576b"
             ],
             [
              0.6666666666666666,
              "#ed7953"
             ],
             [
              0.7777777777777778,
              "#fb9f3a"
             ],
             [
              0.8888888888888888,
              "#fdca26"
             ],
             [
              1,
              "#f0f921"
             ]
            ],
            "type": "contour"
           }
          ],
          "contourcarpet": [
           {
            "colorbar": {
             "outlinewidth": 0,
             "ticks": ""
            },
            "type": "contourcarpet"
           }
          ],
          "heatmap": [
           {
            "colorbar": {
             "outlinewidth": 0,
             "ticks": ""
            },
            "colorscale": [
             [
              0,
              "#0d0887"
             ],
             [
              0.1111111111111111,
              "#46039f"
             ],
             [
              0.2222222222222222,
              "#7201a8"
             ],
             [
              0.3333333333333333,
              "#9c179e"
             ],
             [
              0.4444444444444444,
              "#bd3786"
             ],
             [
              0.5555555555555556,
              "#d8576b"
             ],
             [
              0.6666666666666666,
              "#ed7953"
             ],
             [
              0.7777777777777778,
              "#fb9f3a"
             ],
             [
              0.8888888888888888,
              "#fdca26"
             ],
             [
              1,
              "#f0f921"
             ]
            ],
            "type": "heatmap"
           }
          ],
          "histogram": [
           {
            "marker": {
             "pattern": {
              "fillmode": "overlay",
              "size": 10,
              "solidity": 0.2
             }
            },
            "type": "histogram"
           }
          ],
          "histogram2d": [
           {
            "colorbar": {
             "outlinewidth": 0,
             "ticks": ""
            },
            "colorscale": [
             [
              0,
              "#0d0887"
             ],
             [
              0.1111111111111111,
              "#46039f"
             ],
             [
              0.2222222222222222,
              "#7201a8"
             ],
             [
              0.3333333333333333,
              "#9c179e"
             ],
             [
              0.4444444444444444,
              "#bd3786"
             ],
             [
              0.5555555555555556,
              "#d8576b"
             ],
             [
              0.6666666666666666,
              "#ed7953"
             ],
             [
              0.7777777777777778,
              "#fb9f3a"
             ],
             [
              0.8888888888888888,
              "#fdca26"
             ],
             [
              1,
              "#f0f921"
             ]
            ],
            "type": "histogram2d"
           }
          ],
          "histogram2dcontour": [
           {
            "colorbar": {
             "outlinewidth": 0,
             "ticks": ""
            },
            "colorscale": [
             [
              0,
              "#0d0887"
             ],
             [
              0.1111111111111111,
              "#46039f"
             ],
             [
              0.2222222222222222,
              "#7201a8"
             ],
             [
              0.3333333333333333,
              "#9c179e"
             ],
             [
              0.4444444444444444,
              "#bd3786"
             ],
             [
              0.5555555555555556,
              "#d8576b"
             ],
             [
              0.6666666666666666,
              "#ed7953"
             ],
             [
              0.7777777777777778,
              "#fb9f3a"
             ],
             [
              0.8888888888888888,
              "#fdca26"
             ],
             [
              1,
              "#f0f921"
             ]
            ],
            "type": "histogram2dcontour"
           }
          ],
          "mesh3d": [
           {
            "colorbar": {
             "outlinewidth": 0,
             "ticks": ""
            },
            "type": "mesh3d"
           }
          ],
          "parcoords": [
           {
            "line": {
             "colorbar": {
              "outlinewidth": 0,
              "ticks": ""
             }
            },
            "type": "parcoords"
           }
          ],
          "pie": [
           {
            "automargin": true,
            "type": "pie"
           }
          ],
          "scatter": [
           {
            "fillpattern": {
             "fillmode": "overlay",
             "size": 10,
             "solidity": 0.2
            },
            "type": "scatter"
           }
          ],
          "scatter3d": [
           {
            "line": {
             "colorbar": {
              "outlinewidth": 0,
              "ticks": ""
             }
            },
            "marker": {
             "colorbar": {
              "outlinewidth": 0,
              "ticks": ""
             }
            },
            "type": "scatter3d"
           }
          ],
          "scattercarpet": [
           {
            "marker": {
             "colorbar": {
              "outlinewidth": 0,
              "ticks": ""
             }
            },
            "type": "scattercarpet"
           }
          ],
          "scattergeo": [
           {
            "marker": {
             "colorbar": {
              "outlinewidth": 0,
              "ticks": ""
             }
            },
            "type": "scattergeo"
           }
          ],
          "scattergl": [
           {
            "marker": {
             "colorbar": {
              "outlinewidth": 0,
              "ticks": ""
             }
            },
            "type": "scattergl"
           }
          ],
          "scattermap": [
           {
            "marker": {
             "colorbar": {
              "outlinewidth": 0,
              "ticks": ""
             }
            },
            "type": "scattermap"
           }
          ],
          "scattermapbox": [
           {
            "marker": {
             "colorbar": {
              "outlinewidth": 0,
              "ticks": ""
             }
            },
            "type": "scattermapbox"
           }
          ],
          "scatterpolar": [
           {
            "marker": {
             "colorbar": {
              "outlinewidth": 0,
              "ticks": ""
             }
            },
            "type": "scatterpolar"
           }
          ],
          "scatterpolargl": [
           {
            "marker": {
             "colorbar": {
              "outlinewidth": 0,
              "ticks": ""
             }
            },
            "type": "scatterpolargl"
           }
          ],
          "scatterternary": [
           {
            "marker": {
             "colorbar": {
              "outlinewidth": 0,
              "ticks": ""
             }
            },
            "type": "scatterternary"
           }
          ],
          "surface": [
           {
            "colorbar": {
             "outlinewidth": 0,
             "ticks": ""
            },
            "colorscale": [
             [
              0,
              "#0d0887"
             ],
             [
              0.1111111111111111,
              "#46039f"
             ],
             [
              0.2222222222222222,
              "#7201a8"
             ],
             [
              0.3333333333333333,
              "#9c179e"
             ],
             [
              0.4444444444444444,
              "#bd3786"
             ],
             [
              0.5555555555555556,
              "#d8576b"
             ],
             [
              0.6666666666666666,
              "#ed7953"
             ],
             [
              0.7777777777777778,
              "#fb9f3a"
             ],
             [
              0.8888888888888888,
              "#fdca26"
             ],
             [
              1,
              "#f0f921"
             ]
            ],
            "type": "surface"
           }
          ],
          "table": [
           {
            "cells": {
             "fill": {
              "color": "#EBF0F8"
             },
             "line": {
              "color": "white"
             }
            },
            "header": {
             "fill": {
              "color": "#C8D4E3"
             },
             "line": {
              "color": "white"
             }
            },
            "type": "table"
           }
          ]
         },
         "layout": {
          "annotationdefaults": {
           "arrowcolor": "#2a3f5f",
           "arrowhead": 0,
           "arrowwidth": 1
          },
          "autotypenumbers": "strict",
          "coloraxis": {
           "colorbar": {
            "outlinewidth": 0,
            "ticks": ""
           }
          },
          "colorscale": {
           "diverging": [
            [
             0,
             "#8e0152"
            ],
            [
             0.1,
             "#c51b7d"
            ],
            [
             0.2,
             "#de77ae"
            ],
            [
             0.3,
             "#f1b6da"
            ],
            [
             0.4,
             "#fde0ef"
            ],
            [
             0.5,
             "#f7f7f7"
            ],
            [
             0.6,
             "#e6f5d0"
            ],
            [
             0.7,
             "#b8e186"
            ],
            [
             0.8,
             "#7fbc41"
            ],
            [
             0.9,
             "#4d9221"
            ],
            [
             1,
             "#276419"
            ]
           ],
           "sequential": [
            [
             0,
             "#0d0887"
            ],
            [
             0.1111111111111111,
             "#46039f"
            ],
            [
             0.2222222222222222,
             "#7201a8"
            ],
            [
             0.3333333333333333,
             "#9c179e"
            ],
            [
             0.4444444444444444,
             "#bd3786"
            ],
            [
             0.5555555555555556,
             "#d8576b"
            ],
            [
             0.6666666666666666,
             "#ed7953"
            ],
            [
             0.7777777777777778,
             "#fb9f3a"
            ],
            [
             0.8888888888888888,
             "#fdca26"
            ],
            [
             1,
             "#f0f921"
            ]
           ],
           "sequentialminus": [
            [
             0,
             "#0d0887"
            ],
            [
             0.1111111111111111,
             "#46039f"
            ],
            [
             0.2222222222222222,
             "#7201a8"
            ],
            [
             0.3333333333333333,
             "#9c179e"
            ],
            [
             0.4444444444444444,
             "#bd3786"
            ],
            [
             0.5555555555555556,
             "#d8576b"
            ],
            [
             0.6666666666666666,
             "#ed7953"
            ],
            [
             0.7777777777777778,
             "#fb9f3a"
            ],
            [
             0.8888888888888888,
             "#fdca26"
            ],
            [
             1,
             "#f0f921"
            ]
           ]
          },
          "colorway": [
           "#636efa",
           "#EF553B",
           "#00cc96",
           "#ab63fa",
           "#FFA15A",
           "#19d3f3",
           "#FF6692",
           "#B6E880",
           "#FF97FF",
           "#FECB52"
          ],
          "font": {
           "color": "#2a3f5f"
          },
          "geo": {
           "bgcolor": "white",
           "lakecolor": "white",
           "landcolor": "white",
           "showlakes": true,
           "showland": true,
           "subunitcolor": "#C8D4E3"
          },
          "hoverlabel": {
           "align": "left"
          },
          "hovermode": "closest",
          "mapbox": {
           "style": "light"
          },
          "paper_bgcolor": "white",
          "plot_bgcolor": "white",
          "polar": {
           "angularaxis": {
            "gridcolor": "#EBF0F8",
            "linecolor": "#EBF0F8",
            "ticks": ""
           },
           "bgcolor": "white",
           "radialaxis": {
            "gridcolor": "#EBF0F8",
            "linecolor": "#EBF0F8",
            "ticks": ""
           }
          },
          "scene": {
           "xaxis": {
            "backgroundcolor": "white",
            "gridcolor": "#DFE8F3",
            "gridwidth": 2,
            "linecolor": "#EBF0F8",
            "showbackground": true,
            "ticks": "",
            "zerolinecolor": "#EBF0F8"
           },
           "yaxis": {
            "backgroundcolor": "white",
            "gridcolor": "#DFE8F3",
            "gridwidth": 2,
            "linecolor": "#EBF0F8",
            "showbackground": true,
            "ticks": "",
            "zerolinecolor": "#EBF0F8"
           },
           "zaxis": {
            "backgroundcolor": "white",
            "gridcolor": "#DFE8F3",
            "gridwidth": 2,
            "linecolor": "#EBF0F8",
            "showbackground": true,
            "ticks": "",
            "zerolinecolor": "#EBF0F8"
           }
          },
          "shapedefaults": {
           "line": {
            "color": "#2a3f5f"
           }
          },
          "ternary": {
           "aaxis": {
            "gridcolor": "#DFE8F3",
            "linecolor": "#A2B1C6",
            "ticks": ""
           },
           "baxis": {
            "gridcolor": "#DFE8F3",
            "linecolor": "#A2B1C6",
            "ticks": ""
           },
           "bgcolor": "white",
           "caxis": {
            "gridcolor": "#DFE8F3",
            "linecolor": "#A2B1C6",
            "ticks": ""
           }
          },
          "title": {
           "x": 0.05
          },
          "xaxis": {
           "automargin": true,
           "gridcolor": "#EBF0F8",
           "linecolor": "#EBF0F8",
           "ticks": "",
           "title": {
            "standoff": 15
           },
           "zerolinecolor": "#EBF0F8",
           "zerolinewidth": 2
          },
          "yaxis": {
           "automargin": true,
           "gridcolor": "#EBF0F8",
           "linecolor": "#EBF0F8",
           "ticks": "",
           "title": {
            "standoff": 15
           },
           "zerolinecolor": "#EBF0F8",
           "zerolinewidth": 2
          }
         }
        },
        "title": {
         "text": "Comparação CO₂ (200 Amostras) - CT_N2_007: [Aditiva] - Deslocar Coordenadas (+1.0) - ETHANOL",
         "x": 0.5
        },
        "xaxis": {
         "title": {
          "text": "Amostras"
         }
        },
        "yaxis": {
         "title": {
          "text": "CO₂ (g/s)"
         }
        }
       }
      }
     },
     "metadata": {},
     "output_type": "display_data"
    },
    {
     "name": "stdout",
     "output_type": "stream",
     "text": [
      "\n",
      "================================================================================\n",
      "🔁 CT_N2_007: [Aditiva] - Deslocar Coordenadas (+1.0) (GASOLINE)\n",
      "--------------------------------------------------------------------------------\n",
      "Diferença Média: 0.6722 | Diferença Máxima: 2.9079 | RMSE: 0.7920 | Desvio Padrão (Std): 0.4188\n"
     ]
    },
    {
     "data": {
      "text/html": [
       "<style type=\"text/css\">\n",
       "</style>\n",
       "<table id=\"T_bbba8\">\n",
       "  <caption>Comparação dos dados - CT_N2_007: [Aditiva] - Deslocar Coordenadas (+1.0) (GASOLINE)</caption>\n",
       "  <thead>\n",
       "    <tr>\n",
       "      <th class=\"blank level0\" >&nbsp;</th>\n",
       "      <th id=\"T_bbba8_level0_col0\" class=\"col_heading level0 col0\" >Latitude_Orig</th>\n",
       "      <th id=\"T_bbba8_level0_col1\" class=\"col_heading level0 col1\" >Longitude_Orig</th>\n",
       "      <th id=\"T_bbba8_level0_col2\" class=\"col_heading level0 col2\" >Speed(OBD)(km/h)_Orig</th>\n",
       "      <th id=\"T_bbba8_level0_col3\" class=\"col_heading level0 col3\" >Acceleration_Orig</th>\n",
       "      <th id=\"T_bbba8_level0_col4\" class=\"col_heading level0 col4\" > </th>\n",
       "      <th id=\"T_bbba8_level0_col5\" class=\"col_heading level0 col5\" >Latitude_Mod</th>\n",
       "      <th id=\"T_bbba8_level0_col6\" class=\"col_heading level0 col6\" >Longitude_Mod</th>\n",
       "      <th id=\"T_bbba8_level0_col7\" class=\"col_heading level0 col7\" >Speed(OBD)(km/h)_Mod</th>\n",
       "      <th id=\"T_bbba8_level0_col8\" class=\"col_heading level0 col8\" >Acceleration_Mod</th>\n",
       "      <th id=\"T_bbba8_level0_col9\" class=\"col_heading level0 col9\" > </th>\n",
       "      <th id=\"T_bbba8_level0_col10\" class=\"col_heading level0 col10\" >CO₂_Real</th>\n",
       "      <th id=\"T_bbba8_level0_col11\" class=\"col_heading level0 col11\" >CO₂_Pred_Orig</th>\n",
       "      <th id=\"T_bbba8_level0_col12\" class=\"col_heading level0 col12\" >CO₂_Pred_Mod</th>\n",
       "    </tr>\n",
       "  </thead>\n",
       "  <tbody>\n",
       "    <tr>\n",
       "      <th id=\"T_bbba8_level0_row0\" class=\"row_heading level0 row0\" >0</th>\n",
       "      <td id=\"T_bbba8_row0_col0\" class=\"data row0 col0\" >-5.820010</td>\n",
       "      <td id=\"T_bbba8_row0_col1\" class=\"data row0 col1\" >-35.220825</td>\n",
       "      <td id=\"T_bbba8_row0_col2\" class=\"data row0 col2\" >5</td>\n",
       "      <td id=\"T_bbba8_row0_col3\" class=\"data row0 col3\" >0.000000</td>\n",
       "      <td id=\"T_bbba8_row0_col4\" class=\"data row0 col4\" >→</td>\n",
       "      <td id=\"T_bbba8_row0_col5\" class=\"data row0 col5\" >-4.820010</td>\n",
       "      <td id=\"T_bbba8_row0_col6\" class=\"data row0 col6\" >-34.220825</td>\n",
       "      <td id=\"T_bbba8_row0_col7\" class=\"data row0 col7\" >5</td>\n",
       "      <td id=\"T_bbba8_row0_col8\" class=\"data row0 col8\" >0.000000</td>\n",
       "      <td id=\"T_bbba8_row0_col9\" class=\"data row0 col9\" > </td>\n",
       "      <td id=\"T_bbba8_row0_col10\" class=\"data row0 col10\" >1.002671</td>\n",
       "      <td id=\"T_bbba8_row0_col11\" class=\"data row0 col11\" >1.456781</td>\n",
       "      <td id=\"T_bbba8_row0_col12\" class=\"data row0 col12\" >1.420268</td>\n",
       "    </tr>\n",
       "    <tr>\n",
       "      <th id=\"T_bbba8_level0_row1\" class=\"row_heading level0 row1\" >1</th>\n",
       "      <td id=\"T_bbba8_row1_col0\" class=\"data row1 col0\" >-5.820013</td>\n",
       "      <td id=\"T_bbba8_row1_col1\" class=\"data row1 col1\" >-35.220822</td>\n",
       "      <td id=\"T_bbba8_row1_col2\" class=\"data row1 col2\" >4</td>\n",
       "      <td id=\"T_bbba8_row1_col3\" class=\"data row1 col3\" >-0.277778</td>\n",
       "      <td id=\"T_bbba8_row1_col4\" class=\"data row1 col4\" >→</td>\n",
       "      <td id=\"T_bbba8_row1_col5\" class=\"data row1 col5\" >-4.820013</td>\n",
       "      <td id=\"T_bbba8_row1_col6\" class=\"data row1 col6\" >-34.220822</td>\n",
       "      <td id=\"T_bbba8_row1_col7\" class=\"data row1 col7\" >4</td>\n",
       "      <td id=\"T_bbba8_row1_col8\" class=\"data row1 col8\" >-0.277778</td>\n",
       "      <td id=\"T_bbba8_row1_col9\" class=\"data row1 col9\" > </td>\n",
       "      <td id=\"T_bbba8_row1_col10\" class=\"data row1 col10\" >1.013360</td>\n",
       "      <td id=\"T_bbba8_row1_col11\" class=\"data row1 col11\" >1.016708</td>\n",
       "      <td id=\"T_bbba8_row1_col12\" class=\"data row1 col12\" >1.533900</td>\n",
       "    </tr>\n",
       "    <tr>\n",
       "      <th id=\"T_bbba8_level0_row2\" class=\"row_heading level0 row2\" >2</th>\n",
       "      <td id=\"T_bbba8_row2_col0\" class=\"data row2 col0\" >-5.820016</td>\n",
       "      <td id=\"T_bbba8_row2_col1\" class=\"data row2 col1\" >-35.220819</td>\n",
       "      <td id=\"T_bbba8_row2_col2\" class=\"data row2 col2\" >5</td>\n",
       "      <td id=\"T_bbba8_row2_col3\" class=\"data row2 col3\" >0.277778</td>\n",
       "      <td id=\"T_bbba8_row2_col4\" class=\"data row2 col4\" >→</td>\n",
       "      <td id=\"T_bbba8_row2_col5\" class=\"data row2 col5\" >-4.820016</td>\n",
       "      <td id=\"T_bbba8_row2_col6\" class=\"data row2 col6\" >-34.220819</td>\n",
       "      <td id=\"T_bbba8_row2_col7\" class=\"data row2 col7\" >5</td>\n",
       "      <td id=\"T_bbba8_row2_col8\" class=\"data row2 col8\" >0.277778</td>\n",
       "      <td id=\"T_bbba8_row2_col9\" class=\"data row2 col9\" > </td>\n",
       "      <td id=\"T_bbba8_row2_col10\" class=\"data row2 col10\" >2.088720</td>\n",
       "      <td id=\"T_bbba8_row2_col11\" class=\"data row2 col11\" >1.456781</td>\n",
       "      <td id=\"T_bbba8_row2_col12\" class=\"data row2 col12\" >1.420268</td>\n",
       "    </tr>\n",
       "    <tr>\n",
       "      <th id=\"T_bbba8_level0_row3\" class=\"row_heading level0 row3\" >3</th>\n",
       "      <td id=\"T_bbba8_row3_col0\" class=\"data row3 col0\" >-5.820014</td>\n",
       "      <td id=\"T_bbba8_row3_col1\" class=\"data row3 col1\" >-35.220825</td>\n",
       "      <td id=\"T_bbba8_row3_col2\" class=\"data row3 col2\" >7</td>\n",
       "      <td id=\"T_bbba8_row3_col3\" class=\"data row3 col3\" >0.555556</td>\n",
       "      <td id=\"T_bbba8_row3_col4\" class=\"data row3 col4\" >→</td>\n",
       "      <td id=\"T_bbba8_row3_col5\" class=\"data row3 col5\" >-4.820014</td>\n",
       "      <td id=\"T_bbba8_row3_col6\" class=\"data row3 col6\" >-34.220825</td>\n",
       "      <td id=\"T_bbba8_row3_col7\" class=\"data row3 col7\" >7</td>\n",
       "      <td id=\"T_bbba8_row3_col8\" class=\"data row3 col8\" >0.555556</td>\n",
       "      <td id=\"T_bbba8_row3_col9\" class=\"data row3 col9\" > </td>\n",
       "      <td id=\"T_bbba8_row3_col10\" class=\"data row3 col10\" >2.261889</td>\n",
       "      <td id=\"T_bbba8_row3_col11\" class=\"data row3 col11\" >1.996380</td>\n",
       "      <td id=\"T_bbba8_row3_col12\" class=\"data row3 col12\" >1.657848</td>\n",
       "    </tr>\n",
       "    <tr>\n",
       "      <th id=\"T_bbba8_level0_row4\" class=\"row_heading level0 row4\" >4</th>\n",
       "      <td id=\"T_bbba8_row4_col0\" class=\"data row4 col0\" >-5.819992</td>\n",
       "      <td id=\"T_bbba8_row4_col1\" class=\"data row4 col1\" >-35.220829</td>\n",
       "      <td id=\"T_bbba8_row4_col2\" class=\"data row4 col2\" >9</td>\n",
       "      <td id=\"T_bbba8_row4_col3\" class=\"data row4 col3\" >0.555556</td>\n",
       "      <td id=\"T_bbba8_row4_col4\" class=\"data row4 col4\" >→</td>\n",
       "      <td id=\"T_bbba8_row4_col5\" class=\"data row4 col5\" >-4.819992</td>\n",
       "      <td id=\"T_bbba8_row4_col6\" class=\"data row4 col6\" >-34.220829</td>\n",
       "      <td id=\"T_bbba8_row4_col7\" class=\"data row4 col7\" >9</td>\n",
       "      <td id=\"T_bbba8_row4_col8\" class=\"data row4 col8\" >0.555556</td>\n",
       "      <td id=\"T_bbba8_row4_col9\" class=\"data row4 col9\" > </td>\n",
       "      <td id=\"T_bbba8_row4_col10\" class=\"data row4 col10\" >2.499195</td>\n",
       "      <td id=\"T_bbba8_row4_col11\" class=\"data row4 col11\" >2.400486</td>\n",
       "      <td id=\"T_bbba8_row4_col12\" class=\"data row4 col12\" >1.793865</td>\n",
       "    </tr>\n",
       "    <tr>\n",
       "      <th id=\"T_bbba8_level0_row5\" class=\"row_heading level0 row5\" >5</th>\n",
       "      <td id=\"T_bbba8_row5_col0\" class=\"data row5 col0\" >-5.819974</td>\n",
       "      <td id=\"T_bbba8_row5_col1\" class=\"data row5 col1\" >-35.220824</td>\n",
       "      <td id=\"T_bbba8_row5_col2\" class=\"data row5 col2\" >12</td>\n",
       "      <td id=\"T_bbba8_row5_col3\" class=\"data row5 col3\" >0.833333</td>\n",
       "      <td id=\"T_bbba8_row5_col4\" class=\"data row5 col4\" >→</td>\n",
       "      <td id=\"T_bbba8_row5_col5\" class=\"data row5 col5\" >-4.819974</td>\n",
       "      <td id=\"T_bbba8_row5_col6\" class=\"data row5 col6\" >-34.220824</td>\n",
       "      <td id=\"T_bbba8_row5_col7\" class=\"data row5 col7\" >12</td>\n",
       "      <td id=\"T_bbba8_row5_col8\" class=\"data row5 col8\" >0.833333</td>\n",
       "      <td id=\"T_bbba8_row5_col9\" class=\"data row5 col9\" > </td>\n",
       "      <td id=\"T_bbba8_row5_col10\" class=\"data row5 col10\" >2.606089</td>\n",
       "      <td id=\"T_bbba8_row5_col11\" class=\"data row5 col11\" >2.400486</td>\n",
       "      <td id=\"T_bbba8_row5_col12\" class=\"data row5 col12\" >1.628341</td>\n",
       "    </tr>\n",
       "    <tr>\n",
       "      <th id=\"T_bbba8_level0_row6\" class=\"row_heading level0 row6\" >6</th>\n",
       "      <td id=\"T_bbba8_row6_col0\" class=\"data row6 col0\" >-5.819944</td>\n",
       "      <td id=\"T_bbba8_row6_col1\" class=\"data row6 col1\" >-35.220823</td>\n",
       "      <td id=\"T_bbba8_row6_col2\" class=\"data row6 col2\" >15</td>\n",
       "      <td id=\"T_bbba8_row6_col3\" class=\"data row6 col3\" >0.833333</td>\n",
       "      <td id=\"T_bbba8_row6_col4\" class=\"data row6 col4\" >→</td>\n",
       "      <td id=\"T_bbba8_row6_col5\" class=\"data row6 col5\" >-4.819944</td>\n",
       "      <td id=\"T_bbba8_row6_col6\" class=\"data row6 col6\" >-34.220823</td>\n",
       "      <td id=\"T_bbba8_row6_col7\" class=\"data row6 col7\" >15</td>\n",
       "      <td id=\"T_bbba8_row6_col8\" class=\"data row6 col8\" >0.833333</td>\n",
       "      <td id=\"T_bbba8_row6_col9\" class=\"data row6 col9\" > </td>\n",
       "      <td id=\"T_bbba8_row6_col10\" class=\"data row6 col10\" >3.070012</td>\n",
       "      <td id=\"T_bbba8_row6_col11\" class=\"data row6 col11\" >2.148721</td>\n",
       "      <td id=\"T_bbba8_row6_col12\" class=\"data row6 col12\" >1.560293</td>\n",
       "    </tr>\n",
       "    <tr>\n",
       "      <th id=\"T_bbba8_level0_row7\" class=\"row_heading level0 row7\" >7</th>\n",
       "      <td id=\"T_bbba8_row7_col0\" class=\"data row7 col0\" >-5.819908</td>\n",
       "      <td id=\"T_bbba8_row7_col1\" class=\"data row7 col1\" >-35.220810</td>\n",
       "      <td id=\"T_bbba8_row7_col2\" class=\"data row7 col2\" >18</td>\n",
       "      <td id=\"T_bbba8_row7_col3\" class=\"data row7 col3\" >0.833333</td>\n",
       "      <td id=\"T_bbba8_row7_col4\" class=\"data row7 col4\" >→</td>\n",
       "      <td id=\"T_bbba8_row7_col5\" class=\"data row7 col5\" >-4.819908</td>\n",
       "      <td id=\"T_bbba8_row7_col6\" class=\"data row7 col6\" >-34.220810</td>\n",
       "      <td id=\"T_bbba8_row7_col7\" class=\"data row7 col7\" >18</td>\n",
       "      <td id=\"T_bbba8_row7_col8\" class=\"data row7 col8\" >0.833333</td>\n",
       "      <td id=\"T_bbba8_row7_col9\" class=\"data row7 col9\" > </td>\n",
       "      <td id=\"T_bbba8_row7_col10\" class=\"data row7 col10\" >2.445747</td>\n",
       "      <td id=\"T_bbba8_row7_col11\" class=\"data row7 col11\" >1.470940</td>\n",
       "      <td id=\"T_bbba8_row7_col12\" class=\"data row7 col12\" >1.663663</td>\n",
       "    </tr>\n",
       "    <tr>\n",
       "      <th id=\"T_bbba8_level0_row8\" class=\"row_heading level0 row8\" >8</th>\n",
       "      <td id=\"T_bbba8_row8_col0\" class=\"data row8 col0\" >-5.819866</td>\n",
       "      <td id=\"T_bbba8_row8_col1\" class=\"data row8 col1\" >-35.220794</td>\n",
       "      <td id=\"T_bbba8_row8_col2\" class=\"data row8 col2\" >18</td>\n",
       "      <td id=\"T_bbba8_row8_col3\" class=\"data row8 col3\" >0.000000</td>\n",
       "      <td id=\"T_bbba8_row8_col4\" class=\"data row8 col4\" >→</td>\n",
       "      <td id=\"T_bbba8_row8_col5\" class=\"data row8 col5\" >-4.819866</td>\n",
       "      <td id=\"T_bbba8_row8_col6\" class=\"data row8 col6\" >-34.220794</td>\n",
       "      <td id=\"T_bbba8_row8_col7\" class=\"data row8 col7\" >18</td>\n",
       "      <td id=\"T_bbba8_row8_col8\" class=\"data row8 col8\" >0.000000</td>\n",
       "      <td id=\"T_bbba8_row8_col9\" class=\"data row8 col9\" > </td>\n",
       "      <td id=\"T_bbba8_row8_col10\" class=\"data row8 col10\" >1.073221</td>\n",
       "      <td id=\"T_bbba8_row8_col11\" class=\"data row8 col11\" >1.588029</td>\n",
       "      <td id=\"T_bbba8_row8_col12\" class=\"data row8 col12\" >1.654371</td>\n",
       "    </tr>\n",
       "    <tr>\n",
       "      <th id=\"T_bbba8_level0_row9\" class=\"row_heading level0 row9\" >9</th>\n",
       "      <td id=\"T_bbba8_row9_col0\" class=\"data row9 col0\" >-5.819821</td>\n",
       "      <td id=\"T_bbba8_row9_col1\" class=\"data row9 col1\" >-35.220775</td>\n",
       "      <td id=\"T_bbba8_row9_col2\" class=\"data row9 col2\" >16</td>\n",
       "      <td id=\"T_bbba8_row9_col3\" class=\"data row9 col3\" >-0.555556</td>\n",
       "      <td id=\"T_bbba8_row9_col4\" class=\"data row9 col4\" >→</td>\n",
       "      <td id=\"T_bbba8_row9_col5\" class=\"data row9 col5\" >-4.819821</td>\n",
       "      <td id=\"T_bbba8_row9_col6\" class=\"data row9 col6\" >-34.220775</td>\n",
       "      <td id=\"T_bbba8_row9_col7\" class=\"data row9 col7\" >16</td>\n",
       "      <td id=\"T_bbba8_row9_col8\" class=\"data row9 col8\" >-0.555556</td>\n",
       "      <td id=\"T_bbba8_row9_col9\" class=\"data row9 col9\" > </td>\n",
       "      <td id=\"T_bbba8_row9_col10\" class=\"data row9 col10\" >0.562265</td>\n",
       "      <td id=\"T_bbba8_row9_col11\" class=\"data row9 col11\" >1.085921</td>\n",
       "      <td id=\"T_bbba8_row9_col12\" class=\"data row9 col12\" >2.010510</td>\n",
       "    </tr>\n",
       "  </tbody>\n",
       "</table>\n"
      ],
      "text/plain": [
       "<pandas.io.formats.style.Styler at 0x1fb1f4b6110>"
      ]
     },
     "metadata": {},
     "output_type": "display_data"
    },
    {
     "data": {
      "application/vnd.plotly.v1+json": {
       "config": {
        "plotlyServerURL": "https://plot.ly"
       },
       "data": [
        {
         "line": {
          "color": "gray",
          "dash": "dot"
         },
         "mode": "lines",
         "name": "Real",
         "type": "scatter",
         "y": {
          "bdata": "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",
          "dtype": "f8"
         }
        },
        {
         "line": {
          "color": "blue",
          "dash": "dash"
         },
         "mode": "lines",
         "name": "Predição Original",
         "type": "scatter",
         "y": {
          "bdata": "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",
          "dtype": "f8"
         }
        },
        {
         "line": {
          "color": "red"
         },
         "mode": "lines",
         "name": "Predição com RM",
         "type": "scatter",
         "y": {
          "bdata": "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",
          "dtype": "f8"
         }
        }
       ],
       "layout": {
        "template": {
         "data": {
          "bar": [
           {
            "error_x": {
             "color": "#2a3f5f"
            },
            "error_y": {
             "color": "#2a3f5f"
            },
            "marker": {
             "line": {
              "color": "white",
              "width": 0.5
             },
             "pattern": {
              "fillmode": "overlay",
              "size": 10,
              "solidity": 0.2
             }
            },
            "type": "bar"
           }
          ],
          "barpolar": [
           {
            "marker": {
             "line": {
              "color": "white",
              "width": 0.5
             },
             "pattern": {
              "fillmode": "overlay",
              "size": 10,
              "solidity": 0.2
             }
            },
            "type": "barpolar"
           }
          ],
          "carpet": [
           {
            "aaxis": {
             "endlinecolor": "#2a3f5f",
             "gridcolor": "#C8D4E3",
             "linecolor": "#C8D4E3",
             "minorgridcolor": "#C8D4E3",
             "startlinecolor": "#2a3f5f"
            },
            "baxis": {
             "endlinecolor": "#2a3f5f",
             "gridcolor": "#C8D4E3",
             "linecolor": "#C8D4E3",
             "minorgridcolor": "#C8D4E3",
             "startlinecolor": "#2a3f5f"
            },
            "type": "carpet"
           }
          ],
          "choropleth": [
           {
            "colorbar": {
             "outlinewidth": 0,
             "ticks": ""
            },
            "type": "choropleth"
           }
          ],
          "contour": [
           {
            "colorbar": {
             "outlinewidth": 0,
             "ticks": ""
            },
            "colorscale": [
             [
              0,
              "#0d0887"
             ],
             [
              0.1111111111111111,
              "#46039f"
             ],
             [
              0.2222222222222222,
              "#7201a8"
             ],
             [
              0.3333333333333333,
              "#9c179e"
             ],
             [
              0.4444444444444444,
              "#bd3786"
             ],
             [
              0.5555555555555556,
              "#d8576b"
             ],
             [
              0.6666666666666666,
              "#ed7953"
             ],
             [
              0.7777777777777778,
              "#fb9f3a"
             ],
             [
              0.8888888888888888,
              "#fdca26"
             ],
             [
              1,
              "#f0f921"
             ]
            ],
            "type": "contour"
           }
          ],
          "contourcarpet": [
           {
            "colorbar": {
             "outlinewidth": 0,
             "ticks": ""
            },
            "type": "contourcarpet"
           }
          ],
          "heatmap": [
           {
            "colorbar": {
             "outlinewidth": 0,
             "ticks": ""
            },
            "colorscale": [
             [
              0,
              "#0d0887"
             ],
             [
              0.1111111111111111,
              "#46039f"
             ],
             [
              0.2222222222222222,
              "#7201a8"
             ],
             [
              0.3333333333333333,
              "#9c179e"
             ],
             [
              0.4444444444444444,
              "#bd3786"
             ],
             [
              0.5555555555555556,
              "#d8576b"
             ],
             [
              0.6666666666666666,
              "#ed7953"
             ],
             [
              0.7777777777777778,
              "#fb9f3a"
             ],
             [
              0.8888888888888888,
              "#fdca26"
             ],
             [
              1,
              "#f0f921"
             ]
            ],
            "type": "heatmap"
           }
          ],
          "histogram": [
           {
            "marker": {
             "pattern": {
              "fillmode": "overlay",
              "size": 10,
              "solidity": 0.2
             }
            },
            "type": "histogram"
           }
          ],
          "histogram2d": [
           {
            "colorbar": {
             "outlinewidth": 0,
             "ticks": ""
            },
            "colorscale": [
             [
              0,
              "#0d0887"
             ],
             [
              0.1111111111111111,
              "#46039f"
             ],
             [
              0.2222222222222222,
              "#7201a8"
             ],
             [
              0.3333333333333333,
              "#9c179e"
             ],
             [
              0.4444444444444444,
              "#bd3786"
             ],
             [
              0.5555555555555556,
              "#d8576b"
             ],
             [
              0.6666666666666666,
              "#ed7953"
             ],
             [
              0.7777777777777778,
              "#fb9f3a"
             ],
             [
              0.8888888888888888,
              "#fdca26"
             ],
             [
              1,
              "#f0f921"
             ]
            ],
            "type": "histogram2d"
           }
          ],
          "histogram2dcontour": [
           {
            "colorbar": {
             "outlinewidth": 0,
             "ticks": ""
            },
            "colorscale": [
             [
              0,
              "#0d0887"
             ],
             [
              0.1111111111111111,
              "#46039f"
             ],
             [
              0.2222222222222222,
              "#7201a8"
             ],
             [
              0.3333333333333333,
              "#9c179e"
             ],
             [
              0.4444444444444444,
              "#bd3786"
             ],
             [
              0.5555555555555556,
              "#d8576b"
             ],
             [
              0.6666666666666666,
              "#ed7953"
             ],
             [
              0.7777777777777778,
              "#fb9f3a"
             ],
             [
              0.8888888888888888,
              "#fdca26"
             ],
             [
              1,
              "#f0f921"
             ]
            ],
            "type": "histogram2dcontour"
           }
          ],
          "mesh3d": [
           {
            "colorbar": {
             "outlinewidth": 0,
             "ticks": ""
            },
            "type": "mesh3d"
           }
          ],
          "parcoords": [
           {
            "line": {
             "colorbar": {
              "outlinewidth": 0,
              "ticks": ""
             }
            },
            "type": "parcoords"
           }
          ],
          "pie": [
           {
            "automargin": true,
            "type": "pie"
           }
          ],
          "scatter": [
           {
            "fillpattern": {
             "fillmode": "overlay",
             "size": 10,
             "solidity": 0.2
            },
            "type": "scatter"
           }
          ],
          "scatter3d": [
           {
            "line": {
             "colorbar": {
              "outlinewidth": 0,
              "ticks": ""
             }
            },
            "marker": {
             "colorbar": {
              "outlinewidth": 0,
              "ticks": ""
             }
            },
            "type": "scatter3d"
           }
          ],
          "scattercarpet": [
           {
            "marker": {
             "colorbar": {
              "outlinewidth": 0,
              "ticks": ""
             }
            },
            "type": "scattercarpet"
           }
          ],
          "scattergeo": [
           {
            "marker": {
             "colorbar": {
              "outlinewidth": 0,
              "ticks": ""
             }
            },
            "type": "scattergeo"
           }
          ],
          "scattergl": [
           {
            "marker": {
             "colorbar": {
              "outlinewidth": 0,
              "ticks": ""
             }
            },
            "type": "scattergl"
           }
          ],
          "scattermap": [
           {
            "marker": {
             "colorbar": {
              "outlinewidth": 0,
              "ticks": ""
             }
            },
            "type": "scattermap"
           }
          ],
          "scattermapbox": [
           {
            "marker": {
             "colorbar": {
              "outlinewidth": 0,
              "ticks": ""
             }
            },
            "type": "scattermapbox"
           }
          ],
          "scatterpolar": [
           {
            "marker": {
             "colorbar": {
              "outlinewidth": 0,
              "ticks": ""
             }
            },
            "type": "scatterpolar"
           }
          ],
          "scatterpolargl": [
           {
            "marker": {
             "colorbar": {
              "outlinewidth": 0,
              "ticks": ""
             }
            },
            "type": "scatterpolargl"
           }
          ],
          "scatterternary": [
           {
            "marker": {
             "colorbar": {
              "outlinewidth": 0,
              "ticks": ""
             }
            },
            "type": "scatterternary"
           }
          ],
          "surface": [
           {
            "colorbar": {
             "outlinewidth": 0,
             "ticks": ""
            },
            "colorscale": [
             [
              0,
              "#0d0887"
             ],
             [
              0.1111111111111111,
              "#46039f"
             ],
             [
              0.2222222222222222,
              "#7201a8"
             ],
             [
              0.3333333333333333,
              "#9c179e"
             ],
             [
              0.4444444444444444,
              "#bd3786"
             ],
             [
              0.5555555555555556,
              "#d8576b"
             ],
             [
              0.6666666666666666,
              "#ed7953"
             ],
             [
              0.7777777777777778,
              "#fb9f3a"
             ],
             [
              0.8888888888888888,
              "#fdca26"
             ],
             [
              1,
              "#f0f921"
             ]
            ],
            "type": "surface"
           }
          ],
          "table": [
           {
            "cells": {
             "fill": {
              "color": "#EBF0F8"
             },
             "line": {
              "color": "white"
             }
            },
            "header": {
             "fill": {
              "color": "#C8D4E3"
             },
             "line": {
              "color": "white"
             }
            },
            "type": "table"
           }
          ]
         },
         "layout": {
          "annotationdefaults": {
           "arrowcolor": "#2a3f5f",
           "arrowhead": 0,
           "arrowwidth": 1
          },
          "autotypenumbers": "strict",
          "coloraxis": {
           "colorbar": {
            "outlinewidth": 0,
            "ticks": ""
           }
          },
          "colorscale": {
           "diverging": [
            [
             0,
             "#8e0152"
            ],
            [
             0.1,
             "#c51b7d"
            ],
            [
             0.2,
             "#de77ae"
            ],
            [
             0.3,
             "#f1b6da"
            ],
            [
             0.4,
             "#fde0ef"
            ],
            [
             0.5,
             "#f7f7f7"
            ],
            [
             0.6,
             "#e6f5d0"
            ],
            [
             0.7,
             "#b8e186"
            ],
            [
             0.8,
             "#7fbc41"
            ],
            [
             0.9,
             "#4d9221"
            ],
            [
             1,
             "#276419"
            ]
           ],
           "sequential": [
            [
             0,
             "#0d0887"
            ],
            [
             0.1111111111111111,
             "#46039f"
            ],
            [
             0.2222222222222222,
             "#7201a8"
            ],
            [
             0.3333333333333333,
             "#9c179e"
            ],
            [
             0.4444444444444444,
             "#bd3786"
            ],
            [
             0.5555555555555556,
             "#d8576b"
            ],
            [
             0.6666666666666666,
             "#ed7953"
            ],
            [
             0.7777777777777778,
             "#fb9f3a"
            ],
            [
             0.8888888888888888,
             "#fdca26"
            ],
            [
             1,
             "#f0f921"
            ]
           ],
           "sequentialminus": [
            [
             0,
             "#0d0887"
            ],
            [
             0.1111111111111111,
             "#46039f"
            ],
            [
             0.2222222222222222,
             "#7201a8"
            ],
            [
             0.3333333333333333,
             "#9c179e"
            ],
            [
             0.4444444444444444,
             "#bd3786"
            ],
            [
             0.5555555555555556,
             "#d8576b"
            ],
            [
             0.6666666666666666,
             "#ed7953"
            ],
            [
             0.7777777777777778,
             "#fb9f3a"
            ],
            [
             0.8888888888888888,
             "#fdca26"
            ],
            [
             1,
             "#f0f921"
            ]
           ]
          },
          "colorway": [
           "#636efa",
           "#EF553B",
           "#00cc96",
           "#ab63fa",
           "#FFA15A",
           "#19d3f3",
           "#FF6692",
           "#B6E880",
           "#FF97FF",
           "#FECB52"
          ],
          "font": {
           "color": "#2a3f5f"
          },
          "geo": {
           "bgcolor": "white",
           "lakecolor": "white",
           "landcolor": "white",
           "showlakes": true,
           "showland": true,
           "subunitcolor": "#C8D4E3"
          },
          "hoverlabel": {
           "align": "left"
          },
          "hovermode": "closest",
          "mapbox": {
           "style": "light"
          },
          "paper_bgcolor": "white",
          "plot_bgcolor": "white",
          "polar": {
           "angularaxis": {
            "gridcolor": "#EBF0F8",
            "linecolor": "#EBF0F8",
            "ticks": ""
           },
           "bgcolor": "white",
           "radialaxis": {
            "gridcolor": "#EBF0F8",
            "linecolor": "#EBF0F8",
            "ticks": ""
           }
          },
          "scene": {
           "xaxis": {
            "backgroundcolor": "white",
            "gridcolor": "#DFE8F3",
            "gridwidth": 2,
            "linecolor": "#EBF0F8",
            "showbackground": true,
            "ticks": "",
            "zerolinecolor": "#EBF0F8"
           },
           "yaxis": {
            "backgroundcolor": "white",
            "gridcolor": "#DFE8F3",
            "gridwidth": 2,
            "linecolor": "#EBF0F8",
            "showbackground": true,
            "ticks": "",
            "zerolinecolor": "#EBF0F8"
           },
           "zaxis": {
            "backgroundcolor": "white",
            "gridcolor": "#DFE8F3",
            "gridwidth": 2,
            "linecolor": "#EBF0F8",
            "showbackground": true,
            "ticks": "",
            "zerolinecolor": "#EBF0F8"
           }
          },
          "shapedefaults": {
           "line": {
            "color": "#2a3f5f"
           }
          },
          "ternary": {
           "aaxis": {
            "gridcolor": "#DFE8F3",
            "linecolor": "#A2B1C6",
            "ticks": ""
           },
           "baxis": {
            "gridcolor": "#DFE8F3",
            "linecolor": "#A2B1C6",
            "ticks": ""
           },
           "bgcolor": "white",
           "caxis": {
            "gridcolor": "#DFE8F3",
            "linecolor": "#A2B1C6",
            "ticks": ""
           }
          },
          "title": {
           "x": 0.05
          },
          "xaxis": {
           "automargin": true,
           "gridcolor": "#EBF0F8",
           "linecolor": "#EBF0F8",
           "ticks": "",
           "title": {
            "standoff": 15
           },
           "zerolinecolor": "#EBF0F8",
           "zerolinewidth": 2
          },
          "yaxis": {
           "automargin": true,
           "gridcolor": "#EBF0F8",
           "linecolor": "#EBF0F8",
           "ticks": "",
           "title": {
            "standoff": 15
           },
           "zerolinecolor": "#EBF0F8",
           "zerolinewidth": 2
          }
         }
        },
        "title": {
         "text": "Comparação CO₂ (200 Amostras) - CT_N2_007: [Aditiva] - Deslocar Coordenadas (+1.0) - GASOLINE",
         "x": 0.5
        },
        "xaxis": {
         "title": {
          "text": "Amostras"
         }
        },
        "yaxis": {
         "title": {
          "text": "CO₂ (g/s)"
         }
        }
       }
      }
     },
     "metadata": {},
     "output_type": "display_data"
    },
    {
     "name": "stdout",
     "output_type": "stream",
     "text": [
      "\n",
      "================================================================================\n",
      "🔁 CT_N2_008: [Inversiva] - Inverter Aceleração (ETHANOL)\n",
      "--------------------------------------------------------------------------------\n",
      "Diferença Média: 0.1935 | Diferença Máxima: 1.8051 | RMSE: 0.3569 | Desvio Padrão (Std): 0.2999\n"
     ]
    },
    {
     "data": {
      "text/html": [
       "<style type=\"text/css\">\n",
       "</style>\n",
       "<table id=\"T_ed67d\">\n",
       "  <caption>Comparação dos dados - CT_N2_008: [Inversiva] - Inverter Aceleração (ETHANOL)</caption>\n",
       "  <thead>\n",
       "    <tr>\n",
       "      <th class=\"blank level0\" >&nbsp;</th>\n",
       "      <th id=\"T_ed67d_level0_col0\" class=\"col_heading level0 col0\" >Latitude_Orig</th>\n",
       "      <th id=\"T_ed67d_level0_col1\" class=\"col_heading level0 col1\" >Longitude_Orig</th>\n",
       "      <th id=\"T_ed67d_level0_col2\" class=\"col_heading level0 col2\" >Speed(OBD)(km/h)_Orig</th>\n",
       "      <th id=\"T_ed67d_level0_col3\" class=\"col_heading level0 col3\" >Acceleration_Orig</th>\n",
       "      <th id=\"T_ed67d_level0_col4\" class=\"col_heading level0 col4\" > </th>\n",
       "      <th id=\"T_ed67d_level0_col5\" class=\"col_heading level0 col5\" >Latitude_Mod</th>\n",
       "      <th id=\"T_ed67d_level0_col6\" class=\"col_heading level0 col6\" >Longitude_Mod</th>\n",
       "      <th id=\"T_ed67d_level0_col7\" class=\"col_heading level0 col7\" >Speed(OBD)(km/h)_Mod</th>\n",
       "      <th id=\"T_ed67d_level0_col8\" class=\"col_heading level0 col8\" >Acceleration_Mod</th>\n",
       "      <th id=\"T_ed67d_level0_col9\" class=\"col_heading level0 col9\" > </th>\n",
       "      <th id=\"T_ed67d_level0_col10\" class=\"col_heading level0 col10\" >CO₂_Real</th>\n",
       "      <th id=\"T_ed67d_level0_col11\" class=\"col_heading level0 col11\" >CO₂_Pred_Orig</th>\n",
       "      <th id=\"T_ed67d_level0_col12\" class=\"col_heading level0 col12\" >CO₂_Pred_Mod</th>\n",
       "    </tr>\n",
       "  </thead>\n",
       "  <tbody>\n",
       "    <tr>\n",
       "      <th id=\"T_ed67d_level0_row0\" class=\"row_heading level0 row0\" >0</th>\n",
       "      <td id=\"T_ed67d_row0_col0\" class=\"data row0 col0\" >-5.820105</td>\n",
       "      <td id=\"T_ed67d_row0_col1\" class=\"data row0 col1\" >-35.220818</td>\n",
       "      <td id=\"T_ed67d_row0_col2\" class=\"data row0 col2\" >3</td>\n",
       "      <td id=\"T_ed67d_row0_col3\" class=\"data row0 col3\" >0.000000</td>\n",
       "      <td id=\"T_ed67d_row0_col4\" class=\"data row0 col4\" >→</td>\n",
       "      <td id=\"T_ed67d_row0_col5\" class=\"data row0 col5\" >-5.820105</td>\n",
       "      <td id=\"T_ed67d_row0_col6\" class=\"data row0 col6\" >-35.220818</td>\n",
       "      <td id=\"T_ed67d_row0_col7\" class=\"data row0 col7\" >3</td>\n",
       "      <td id=\"T_ed67d_row0_col8\" class=\"data row0 col8\" >-0.000000</td>\n",
       "      <td id=\"T_ed67d_row0_col9\" class=\"data row0 col9\" > </td>\n",
       "      <td id=\"T_ed67d_row0_col10\" class=\"data row0 col10\" >0.642839</td>\n",
       "      <td id=\"T_ed67d_row0_col11\" class=\"data row0 col11\" >0.742631</td>\n",
       "      <td id=\"T_ed67d_row0_col12\" class=\"data row0 col12\" >0.742631</td>\n",
       "    </tr>\n",
       "    <tr>\n",
       "      <th id=\"T_ed67d_level0_row1\" class=\"row_heading level0 row1\" >1</th>\n",
       "      <td id=\"T_ed67d_row1_col0\" class=\"data row1 col0\" >-5.820103</td>\n",
       "      <td id=\"T_ed67d_row1_col1\" class=\"data row1 col1\" >-35.220828</td>\n",
       "      <td id=\"T_ed67d_row1_col2\" class=\"data row1 col2\" >5</td>\n",
       "      <td id=\"T_ed67d_row1_col3\" class=\"data row1 col3\" >0.555556</td>\n",
       "      <td id=\"T_ed67d_row1_col4\" class=\"data row1 col4\" >→</td>\n",
       "      <td id=\"T_ed67d_row1_col5\" class=\"data row1 col5\" >-5.820103</td>\n",
       "      <td id=\"T_ed67d_row1_col6\" class=\"data row1 col6\" >-35.220828</td>\n",
       "      <td id=\"T_ed67d_row1_col7\" class=\"data row1 col7\" >5</td>\n",
       "      <td id=\"T_ed67d_row1_col8\" class=\"data row1 col8\" >-0.555556</td>\n",
       "      <td id=\"T_ed67d_row1_col9\" class=\"data row1 col9\" > </td>\n",
       "      <td id=\"T_ed67d_row1_col10\" class=\"data row1 col10\" >0.653249</td>\n",
       "      <td id=\"T_ed67d_row1_col11\" class=\"data row1 col11\" >0.771505</td>\n",
       "      <td id=\"T_ed67d_row1_col12\" class=\"data row1 col12\" >0.830598</td>\n",
       "    </tr>\n",
       "    <tr>\n",
       "      <th id=\"T_ed67d_level0_row2\" class=\"row_heading level0 row2\" >2</th>\n",
       "      <td id=\"T_ed67d_row2_col0\" class=\"data row2 col0\" >-5.820102</td>\n",
       "      <td id=\"T_ed67d_row2_col1\" class=\"data row2 col1\" >-35.220838</td>\n",
       "      <td id=\"T_ed67d_row2_col2\" class=\"data row2 col2\" >5</td>\n",
       "      <td id=\"T_ed67d_row2_col3\" class=\"data row2 col3\" >0.000000</td>\n",
       "      <td id=\"T_ed67d_row2_col4\" class=\"data row2 col4\" >→</td>\n",
       "      <td id=\"T_ed67d_row2_col5\" class=\"data row2 col5\" >-5.820102</td>\n",
       "      <td id=\"T_ed67d_row2_col6\" class=\"data row2 col6\" >-35.220838</td>\n",
       "      <td id=\"T_ed67d_row2_col7\" class=\"data row2 col7\" >5</td>\n",
       "      <td id=\"T_ed67d_row2_col8\" class=\"data row2 col8\" >-0.000000</td>\n",
       "      <td id=\"T_ed67d_row2_col9\" class=\"data row2 col9\" > </td>\n",
       "      <td id=\"T_ed67d_row2_col10\" class=\"data row2 col10\" >0.653249</td>\n",
       "      <td id=\"T_ed67d_row2_col11\" class=\"data row2 col11\" >0.771505</td>\n",
       "      <td id=\"T_ed67d_row2_col12\" class=\"data row2 col12\" >0.771505</td>\n",
       "    </tr>\n",
       "    <tr>\n",
       "      <th id=\"T_ed67d_level0_row3\" class=\"row_heading level0 row3\" >3</th>\n",
       "      <td id=\"T_ed67d_row3_col0\" class=\"data row3 col0\" >-5.820096</td>\n",
       "      <td id=\"T_ed67d_row3_col1\" class=\"data row3 col1\" >-35.220843</td>\n",
       "      <td id=\"T_ed67d_row3_col2\" class=\"data row3 col2\" >3</td>\n",
       "      <td id=\"T_ed67d_row3_col3\" class=\"data row3 col3\" >-0.555556</td>\n",
       "      <td id=\"T_ed67d_row3_col4\" class=\"data row3 col4\" >→</td>\n",
       "      <td id=\"T_ed67d_row3_col5\" class=\"data row3 col5\" >-5.820096</td>\n",
       "      <td id=\"T_ed67d_row3_col6\" class=\"data row3 col6\" >-35.220843</td>\n",
       "      <td id=\"T_ed67d_row3_col7\" class=\"data row3 col7\" >3</td>\n",
       "      <td id=\"T_ed67d_row3_col8\" class=\"data row3 col8\" >0.555556</td>\n",
       "      <td id=\"T_ed67d_row3_col9\" class=\"data row3 col9\" > </td>\n",
       "      <td id=\"T_ed67d_row3_col10\" class=\"data row3 col10\" >0.679275</td>\n",
       "      <td id=\"T_ed67d_row3_col11\" class=\"data row3 col11\" >0.659013</td>\n",
       "      <td id=\"T_ed67d_row3_col12\" class=\"data row3 col12\" >0.742631</td>\n",
       "    </tr>\n",
       "    <tr>\n",
       "      <th id=\"T_ed67d_level0_row4\" class=\"row_heading level0 row4\" >4</th>\n",
       "      <td id=\"T_ed67d_row4_col0\" class=\"data row4 col0\" >-5.820091</td>\n",
       "      <td id=\"T_ed67d_row4_col1\" class=\"data row4 col1\" >-35.220850</td>\n",
       "      <td id=\"T_ed67d_row4_col2\" class=\"data row4 col2\" >0</td>\n",
       "      <td id=\"T_ed67d_row4_col3\" class=\"data row4 col3\" >-0.833333</td>\n",
       "      <td id=\"T_ed67d_row4_col4\" class=\"data row4 col4\" >→</td>\n",
       "      <td id=\"T_ed67d_row4_col5\" class=\"data row4 col5\" >-5.820091</td>\n",
       "      <td id=\"T_ed67d_row4_col6\" class=\"data row4 col6\" >-35.220850</td>\n",
       "      <td id=\"T_ed67d_row4_col7\" class=\"data row4 col7\" >0</td>\n",
       "      <td id=\"T_ed67d_row4_col8\" class=\"data row4 col8\" >0.833333</td>\n",
       "      <td id=\"T_ed67d_row4_col9\" class=\"data row4 col9\" > </td>\n",
       "      <td id=\"T_ed67d_row4_col10\" class=\"data row4 col10\" >0.610306</td>\n",
       "      <td id=\"T_ed67d_row4_col11\" class=\"data row4 col11\" >0.667689</td>\n",
       "      <td id=\"T_ed67d_row4_col12\" class=\"data row4 col12\" >0.706858</td>\n",
       "    </tr>\n",
       "    <tr>\n",
       "      <th id=\"T_ed67d_level0_row5\" class=\"row_heading level0 row5\" >5</th>\n",
       "      <td id=\"T_ed67d_row5_col0\" class=\"data row5 col0\" >-5.820091</td>\n",
       "      <td id=\"T_ed67d_row5_col1\" class=\"data row5 col1\" >-35.220850</td>\n",
       "      <td id=\"T_ed67d_row5_col2\" class=\"data row5 col2\" >0</td>\n",
       "      <td id=\"T_ed67d_row5_col3\" class=\"data row5 col3\" >0.000000</td>\n",
       "      <td id=\"T_ed67d_row5_col4\" class=\"data row5 col4\" >→</td>\n",
       "      <td id=\"T_ed67d_row5_col5\" class=\"data row5 col5\" >-5.820091</td>\n",
       "      <td id=\"T_ed67d_row5_col6\" class=\"data row5 col6\" >-35.220850</td>\n",
       "      <td id=\"T_ed67d_row5_col7\" class=\"data row5 col7\" >0</td>\n",
       "      <td id=\"T_ed67d_row5_col8\" class=\"data row5 col8\" >-0.000000</td>\n",
       "      <td id=\"T_ed67d_row5_col9\" class=\"data row5 col9\" > </td>\n",
       "      <td id=\"T_ed67d_row5_col10\" class=\"data row5 col10\" >0.610306</td>\n",
       "      <td id=\"T_ed67d_row5_col11\" class=\"data row5 col11\" >0.706858</td>\n",
       "      <td id=\"T_ed67d_row5_col12\" class=\"data row5 col12\" >0.706858</td>\n",
       "    </tr>\n",
       "    <tr>\n",
       "      <th id=\"T_ed67d_level0_row6\" class=\"row_heading level0 row6\" >6</th>\n",
       "      <td id=\"T_ed67d_row6_col0\" class=\"data row6 col0\" >-5.820091</td>\n",
       "      <td id=\"T_ed67d_row6_col1\" class=\"data row6 col1\" >-35.220850</td>\n",
       "      <td id=\"T_ed67d_row6_col2\" class=\"data row6 col2\" >0</td>\n",
       "      <td id=\"T_ed67d_row6_col3\" class=\"data row6 col3\" >0.000000</td>\n",
       "      <td id=\"T_ed67d_row6_col4\" class=\"data row6 col4\" >→</td>\n",
       "      <td id=\"T_ed67d_row6_col5\" class=\"data row6 col5\" >-5.820091</td>\n",
       "      <td id=\"T_ed67d_row6_col6\" class=\"data row6 col6\" >-35.220850</td>\n",
       "      <td id=\"T_ed67d_row6_col7\" class=\"data row6 col7\" >0</td>\n",
       "      <td id=\"T_ed67d_row6_col8\" class=\"data row6 col8\" >-0.000000</td>\n",
       "      <td id=\"T_ed67d_row6_col9\" class=\"data row6 col9\" > </td>\n",
       "      <td id=\"T_ed67d_row6_col10\" class=\"data row6 col10\" >0.490587</td>\n",
       "      <td id=\"T_ed67d_row6_col11\" class=\"data row6 col11\" >0.706858</td>\n",
       "      <td id=\"T_ed67d_row6_col12\" class=\"data row6 col12\" >0.706858</td>\n",
       "    </tr>\n",
       "    <tr>\n",
       "      <th id=\"T_ed67d_level0_row7\" class=\"row_heading level0 row7\" >7</th>\n",
       "      <td id=\"T_ed67d_row7_col0\" class=\"data row7 col0\" >-5.820085</td>\n",
       "      <td id=\"T_ed67d_row7_col1\" class=\"data row7 col1\" >-35.220856</td>\n",
       "      <td id=\"T_ed67d_row7_col2\" class=\"data row7 col2\" >3</td>\n",
       "      <td id=\"T_ed67d_row7_col3\" class=\"data row7 col3\" >0.833333</td>\n",
       "      <td id=\"T_ed67d_row7_col4\" class=\"data row7 col4\" >→</td>\n",
       "      <td id=\"T_ed67d_row7_col5\" class=\"data row7 col5\" >-5.820085</td>\n",
       "      <td id=\"T_ed67d_row7_col6\" class=\"data row7 col6\" >-35.220856</td>\n",
       "      <td id=\"T_ed67d_row7_col7\" class=\"data row7 col7\" >3</td>\n",
       "      <td id=\"T_ed67d_row7_col8\" class=\"data row7 col8\" >-0.833333</td>\n",
       "      <td id=\"T_ed67d_row7_col9\" class=\"data row7 col9\" > </td>\n",
       "      <td id=\"T_ed67d_row7_col10\" class=\"data row7 col10\" >1.090483</td>\n",
       "      <td id=\"T_ed67d_row7_col11\" class=\"data row7 col11\" >1.137803</td>\n",
       "      <td id=\"T_ed67d_row7_col12\" class=\"data row7 col12\" >0.724289</td>\n",
       "    </tr>\n",
       "    <tr>\n",
       "      <th id=\"T_ed67d_level0_row8\" class=\"row_heading level0 row8\" >8</th>\n",
       "      <td id=\"T_ed67d_row8_col0\" class=\"data row8 col0\" >-5.820074</td>\n",
       "      <td id=\"T_ed67d_row8_col1\" class=\"data row8 col1\" >-35.220859</td>\n",
       "      <td id=\"T_ed67d_row8_col2\" class=\"data row8 col2\" >3</td>\n",
       "      <td id=\"T_ed67d_row8_col3\" class=\"data row8 col3\" >0.000000</td>\n",
       "      <td id=\"T_ed67d_row8_col4\" class=\"data row8 col4\" >→</td>\n",
       "      <td id=\"T_ed67d_row8_col5\" class=\"data row8 col5\" >-5.820074</td>\n",
       "      <td id=\"T_ed67d_row8_col6\" class=\"data row8 col6\" >-35.220859</td>\n",
       "      <td id=\"T_ed67d_row8_col7\" class=\"data row8 col7\" >3</td>\n",
       "      <td id=\"T_ed67d_row8_col8\" class=\"data row8 col8\" >-0.000000</td>\n",
       "      <td id=\"T_ed67d_row8_col9\" class=\"data row8 col9\" > </td>\n",
       "      <td id=\"T_ed67d_row8_col10\" class=\"data row8 col10\" >1.090483</td>\n",
       "      <td id=\"T_ed67d_row8_col11\" class=\"data row8 col11\" >1.137803</td>\n",
       "      <td id=\"T_ed67d_row8_col12\" class=\"data row8 col12\" >1.137803</td>\n",
       "    </tr>\n",
       "    <tr>\n",
       "      <th id=\"T_ed67d_level0_row9\" class=\"row_heading level0 row9\" >9</th>\n",
       "      <td id=\"T_ed67d_row9_col0\" class=\"data row9 col0\" >-5.820064</td>\n",
       "      <td id=\"T_ed67d_row9_col1\" class=\"data row9 col1\" >-35.220858</td>\n",
       "      <td id=\"T_ed67d_row9_col2\" class=\"data row9 col2\" >3</td>\n",
       "      <td id=\"T_ed67d_row9_col3\" class=\"data row9 col3\" >0.000000</td>\n",
       "      <td id=\"T_ed67d_row9_col4\" class=\"data row9 col4\" >→</td>\n",
       "      <td id=\"T_ed67d_row9_col5\" class=\"data row9 col5\" >-5.820064</td>\n",
       "      <td id=\"T_ed67d_row9_col6\" class=\"data row9 col6\" >-35.220858</td>\n",
       "      <td id=\"T_ed67d_row9_col7\" class=\"data row9 col7\" >3</td>\n",
       "      <td id=\"T_ed67d_row9_col8\" class=\"data row9 col8\" >-0.000000</td>\n",
       "      <td id=\"T_ed67d_row9_col9\" class=\"data row9 col9\" > </td>\n",
       "      <td id=\"T_ed67d_row9_col10\" class=\"data row9 col10\" >0.921315</td>\n",
       "      <td id=\"T_ed67d_row9_col11\" class=\"data row9 col11\" >1.137803</td>\n",
       "      <td id=\"T_ed67d_row9_col12\" class=\"data row9 col12\" >1.137803</td>\n",
       "    </tr>\n",
       "  </tbody>\n",
       "</table>\n"
      ],
      "text/plain": [
       "<pandas.io.formats.style.Styler at 0x1fb1f503bd0>"
      ]
     },
     "metadata": {},
     "output_type": "display_data"
    },
    {
     "data": {
      "application/vnd.plotly.v1+json": {
       "config": {
        "plotlyServerURL": "https://plot.ly"
       },
       "data": [
        {
         "line": {
          "color": "gray",
          "dash": "dot"
         },
         "mode": "lines",
         "name": "Real",
         "type": "scatter",
         "y": {
          "bdata": "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",
          "dtype": "f8"
         }
        },
        {
         "line": {
          "color": "blue",
          "dash": "dash"
         },
         "mode": "lines",
         "name": "Predição Original",
         "type": "scatter",
         "y": {
          "bdata": "A1nGMaLD5z/rGxZ+K7DoP+sbFn4rsOg/ZNKEuKEW5T8gJJx1tV3lP1qolBeUnuY/WqiUF5Se5j8vN5pfcTTyPy83ml9xNPI/LzeaX3E08j8LUj4DVmv0P2cHXp66ovQ/lajUrwhy8z8ERxYOSyj4P0gf5HQeCfI/if7LZHnq7z8XHaiiCV3vP6Btm6JJmew/vGW1En/65z9MP1pTWq7wP/J2f86FGvA/Rx/yOxHc8D9HH/I7EdzwP0cf8jsR3PA/Wi2PK9ct9T99iPbmwzv1P+s7h6uSvvI/jlifB2hB+z/KAreWPx7tP2CGcv2h3+w/DE1YhnUh4z+r91rqETzvPzST+4nO/eQ/tcGbWjP25j8r0X6ZskrsPzXVexnn+PI/jsX9rHxr8z+YODlE2Q7zPxrw1xsMw+0/6+G9lxVx7T+VLCu5vQ3pP5kI65KAuvA/xV7vM9nJ8j+3rXXsTRn+P7nipTU15fQ/Ahig1qK48j97HMyYL2j0P61VsDSbgfU/gKXeX7rt9D8lL/FG5m/yP1D9sJ1ASPI/ONgUq37H8z/SblJX33btP6Pvp4KhC+M/A1unplDL5j/tVn03pGviP09EUKldGOg/RjLkVnwe6D+bSQJT7m7oP/kNtZK+Z+k/BO79CuHa9z9uhs6rFD4AQDSsx4gppPs/JoJSHH6Y9j8b5eo1rb34P7wp1TtfOgFA605wkeGE9z+CQHPA6Nf7P96W8dRj7vo/77f/lcKE+T8/0HaFb3j5P0ixId0VM/o/2QaTrAQF9T89ims167HjP+Roiw7ssfA/N+aifBlj8D+LMRVBlGrvP6CylwUtpOE/UCAMIn9U4D86TWpu5ebtP5PEfPDbnN0/8ql5Nfn/4D83OrmjNxvhP9ETGcqqqOg/TEBpKYVw9j/5y4EaW9T4P6g7DuceO/U/scgFb/N/8D+73vRQdeXuP5DaSmyYQ+A/1hTHV/j+2j9wnnVfpazbPzJoid+r2eU/KlRdoNof2z8xuA2DPjffP3qotC6cE+Y/eqi0LpwT5j96qLQunBPmPwHia4Ko5fc/29W9hKHm9z8g+vZo9aLkP0B4lD1ucuo/7S5C4Gtt4z98ilhBi5jrP/KsKQxOlfI//2tRaVkC5T/qPgn8opL1P/EalAHUk/g/d3NK1XJm+D8wa0Tb74j6P3q+QFXehvo/aE6ut2YD/D+jtrgWtpL5P34fV6/dTPs/lH2SPohh+j8/GPm1bFr6P5ruH7LppPM/5Al5ERy66T9PhgO1HCTnPzPXNhKa3+U/aywYvzde4j8loomWrtjsP5vFmVUkbNk/G3suNaib2D8/u9z5/dXaP3km4Ayepd8/Uk5DM6qO4T/2QoCa5DHeP4UyAsejw98/ujeHjBTU4j8Ed2DTfizhP8o954gzz98/sAuSzweZ3z+Bn78Ht3bhP4tDw6o6R90/p1rkRaZi4D+ok52BJvzgP0cuHi8HyOI/6T8tEzd28D9Ufn7MltjzP+8rBFeYNe0/Ep96r+v09T8lXvqxmvv1P6ll5rV+DvU/AEVOg7nS9D/ujNyskdv0PzOb0GBbHvc/ylJM6fZ/9D8fx0jIdhT4PxKEMBqXGfc/SsHIE8M69D9qaamy+q3zP8BOFJDZJ/Q/wE4UkNkn9D/AThSQ2Sf0P1OhETv9wfM/rD61kIUP4z9Da6mDbIzqP+uZM77TZuA/gRK+xUlZ3j9vP2PGGNjoPxOc/+yT4OY/yJV/N17A5T/nFAnBEOzmP92QuRy4seY/ZGCExJTo5z96Vyscr6/oP6aKB+I5W+Q/pooH4jlb5D+sOD3uPMPbPzSL9ECYMeM/1wgBoMJh4z+YKJWNTRfjP7L2lbY0nOA/svaVtjSc4D+jbAdyFMrYP+C1Y9iuu9s/L3iDtH6s4T9nw7f31OLWP1OKDxxV4uA/I+/QW5G04z+x1fdOMxX2P7HV904zFfY/0nLaBYMf9j/HgTTYZqn1P1WiiIORJPU/fylywz7O+j+8r3+3u5L0P++jIX4ErPM/AS5N3h1h+D9aQsEXEbX2PyEu1sxVi/g/ULqdNOo3+D/6YwnW+zf4P9Ev1ugKn/I/f+alhHWg8j9iUV8JDArzP63YDoqPAOs/59z4RMEh7D9rIQjK1DPrPw==",
          "dtype": "f8"
         }
        },
        {
         "line": {
          "color": "red"
         },
         "mode": "lines",
         "name": "Predição com RM",
         "type": "scatter",
         "y": {
          "bdata": "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",
          "dtype": "f8"
         }
        }
       ],
       "layout": {
        "template": {
         "data": {
          "bar": [
           {
            "error_x": {
             "color": "#2a3f5f"
            },
            "error_y": {
             "color": "#2a3f5f"
            },
            "marker": {
             "line": {
              "color": "white",
              "width": 0.5
             },
             "pattern": {
              "fillmode": "overlay",
              "size": 10,
              "solidity": 0.2
             }
            },
            "type": "bar"
           }
          ],
          "barpolar": [
           {
            "marker": {
             "line": {
              "color": "white",
              "width": 0.5
             },
             "pattern": {
              "fillmode": "overlay",
              "size": 10,
              "solidity": 0.2
             }
            },
            "type": "barpolar"
           }
          ],
          "carpet": [
           {
            "aaxis": {
             "endlinecolor": "#2a3f5f",
             "gridcolor": "#C8D4E3",
             "linecolor": "#C8D4E3",
             "minorgridcolor": "#C8D4E3",
             "startlinecolor": "#2a3f5f"
            },
            "baxis": {
             "endlinecolor": "#2a3f5f",
             "gridcolor": "#C8D4E3",
             "linecolor": "#C8D4E3",
             "minorgridcolor": "#C8D4E3",
             "startlinecolor": "#2a3f5f"
            },
            "type": "carpet"
           }
          ],
          "choropleth": [
           {
            "colorbar": {
             "outlinewidth": 0,
             "ticks": ""
            },
            "type": "choropleth"
           }
          ],
          "contour": [
           {
            "colorbar": {
             "outlinewidth": 0,
             "ticks": ""
            },
            "colorscale": [
             [
              0,
              "#0d0887"
             ],
             [
              0.1111111111111111,
              "#46039f"
             ],
             [
              0.2222222222222222,
              "#7201a8"
             ],
             [
              0.3333333333333333,
              "#9c179e"
             ],
             [
              0.4444444444444444,
              "#bd3786"
             ],
             [
              0.5555555555555556,
              "#d8576b"
             ],
             [
              0.6666666666666666,
              "#ed7953"
             ],
             [
              0.7777777777777778,
              "#fb9f3a"
             ],
             [
              0.8888888888888888,
              "#fdca26"
             ],
             [
              1,
              "#f0f921"
             ]
            ],
            "type": "contour"
           }
          ],
          "contourcarpet": [
           {
            "colorbar": {
             "outlinewidth": 0,
             "ticks": ""
            },
            "type": "contourcarpet"
           }
          ],
          "heatmap": [
           {
            "colorbar": {
             "outlinewidth": 0,
             "ticks": ""
            },
            "colorscale": [
             [
              0,
              "#0d0887"
             ],
             [
              0.1111111111111111,
              "#46039f"
             ],
             [
              0.2222222222222222,
              "#7201a8"
             ],
             [
              0.3333333333333333,
              "#9c179e"
             ],
             [
              0.4444444444444444,
              "#bd3786"
             ],
             [
              0.5555555555555556,
              "#d8576b"
             ],
             [
              0.6666666666666666,
              "#ed7953"
             ],
             [
              0.7777777777777778,
              "#fb9f3a"
             ],
             [
              0.8888888888888888,
              "#fdca26"
             ],
             [
              1,
              "#f0f921"
             ]
            ],
            "type": "heatmap"
           }
          ],
          "histogram": [
           {
            "marker": {
             "pattern": {
              "fillmode": "overlay",
              "size": 10,
              "solidity": 0.2
             }
            },
            "type": "histogram"
           }
          ],
          "histogram2d": [
           {
            "colorbar": {
             "outlinewidth": 0,
             "ticks": ""
            },
            "colorscale": [
             [
              0,
              "#0d0887"
             ],
             [
              0.1111111111111111,
              "#46039f"
             ],
             [
              0.2222222222222222,
              "#7201a8"
             ],
             [
              0.3333333333333333,
              "#9c179e"
             ],
             [
              0.4444444444444444,
              "#bd3786"
             ],
             [
              0.5555555555555556,
              "#d8576b"
             ],
             [
              0.6666666666666666,
              "#ed7953"
             ],
             [
              0.7777777777777778,
              "#fb9f3a"
             ],
             [
              0.8888888888888888,
              "#fdca26"
             ],
             [
              1,
              "#f0f921"
             ]
            ],
            "type": "histogram2d"
           }
          ],
          "histogram2dcontour": [
           {
            "colorbar": {
             "outlinewidth": 0,
             "ticks": ""
            },
            "colorscale": [
             [
              0,
              "#0d0887"
             ],
             [
              0.1111111111111111,
              "#46039f"
             ],
             [
              0.2222222222222222,
              "#7201a8"
             ],
             [
              0.3333333333333333,
              "#9c179e"
             ],
             [
              0.4444444444444444,
              "#bd3786"
             ],
             [
              0.5555555555555556,
              "#d8576b"
             ],
             [
              0.6666666666666666,
              "#ed7953"
             ],
             [
              0.7777777777777778,
              "#fb9f3a"
             ],
             [
              0.8888888888888888,
              "#fdca26"
             ],
             [
              1,
              "#f0f921"
             ]
            ],
            "type": "histogram2dcontour"
           }
          ],
          "mesh3d": [
           {
            "colorbar": {
             "outlinewidth": 0,
             "ticks": ""
            },
            "type": "mesh3d"
           }
          ],
          "parcoords": [
           {
            "line": {
             "colorbar": {
              "outlinewidth": 0,
              "ticks": ""
             }
            },
            "type": "parcoords"
           }
          ],
          "pie": [
           {
            "automargin": true,
            "type": "pie"
           }
          ],
          "scatter": [
           {
            "fillpattern": {
             "fillmode": "overlay",
             "size": 10,
             "solidity": 0.2
            },
            "type": "scatter"
           }
          ],
          "scatter3d": [
           {
            "line": {
             "colorbar": {
              "outlinewidth": 0,
              "ticks": ""
             }
            },
            "marker": {
             "colorbar": {
              "outlinewidth": 0,
              "ticks": ""
             }
            },
            "type": "scatter3d"
           }
          ],
          "scattercarpet": [
           {
            "marker": {
             "colorbar": {
              "outlinewidth": 0,
              "ticks": ""
             }
            },
            "type": "scattercarpet"
           }
          ],
          "scattergeo": [
           {
            "marker": {
             "colorbar": {
              "outlinewidth": 0,
              "ticks": ""
             }
            },
            "type": "scattergeo"
           }
          ],
          "scattergl": [
           {
            "marker": {
             "colorbar": {
              "outlinewidth": 0,
              "ticks": ""
             }
            },
            "type": "scattergl"
           }
          ],
          "scattermap": [
           {
            "marker": {
             "colorbar": {
              "outlinewidth": 0,
              "ticks": ""
             }
            },
            "type": "scattermap"
           }
          ],
          "scattermapbox": [
           {
            "marker": {
             "colorbar": {
              "outlinewidth": 0,
              "ticks": ""
             }
            },
            "type": "scattermapbox"
           }
          ],
          "scatterpolar": [
           {
            "marker": {
             "colorbar": {
              "outlinewidth": 0,
              "ticks": ""
             }
            },
            "type": "scatterpolar"
           }
          ],
          "scatterpolargl": [
           {
            "marker": {
             "colorbar": {
              "outlinewidth": 0,
              "ticks": ""
             }
            },
            "type": "scatterpolargl"
           }
          ],
          "scatterternary": [
           {
            "marker": {
             "colorbar": {
              "outlinewidth": 0,
              "ticks": ""
             }
            },
            "type": "scatterternary"
           }
          ],
          "surface": [
           {
            "colorbar": {
             "outlinewidth": 0,
             "ticks": ""
            },
            "colorscale": [
             [
              0,
              "#0d0887"
             ],
             [
              0.1111111111111111,
              "#46039f"
             ],
             [
              0.2222222222222222,
              "#7201a8"
             ],
             [
              0.3333333333333333,
              "#9c179e"
             ],
             [
              0.4444444444444444,
              "#bd3786"
             ],
             [
              0.5555555555555556,
              "#d8576b"
             ],
             [
              0.6666666666666666,
              "#ed7953"
             ],
             [
              0.7777777777777778,
              "#fb9f3a"
             ],
             [
              0.8888888888888888,
              "#fdca26"
             ],
             [
              1,
              "#f0f921"
             ]
            ],
            "type": "surface"
           }
          ],
          "table": [
           {
            "cells": {
             "fill": {
              "color": "#EBF0F8"
             },
             "line": {
              "color": "white"
             }
            },
            "header": {
             "fill": {
              "color": "#C8D4E3"
             },
             "line": {
              "color": "white"
             }
            },
            "type": "table"
           }
          ]
         },
         "layout": {
          "annotationdefaults": {
           "arrowcolor": "#2a3f5f",
           "arrowhead": 0,
           "arrowwidth": 1
          },
          "autotypenumbers": "strict",
          "coloraxis": {
           "colorbar": {
            "outlinewidth": 0,
            "ticks": ""
           }
          },
          "colorscale": {
           "diverging": [
            [
             0,
             "#8e0152"
            ],
            [
             0.1,
             "#c51b7d"
            ],
            [
             0.2,
             "#de77ae"
            ],
            [
             0.3,
             "#f1b6da"
            ],
            [
             0.4,
             "#fde0ef"
            ],
            [
             0.5,
             "#f7f7f7"
            ],
            [
             0.6,
             "#e6f5d0"
            ],
            [
             0.7,
             "#b8e186"
            ],
            [
             0.8,
             "#7fbc41"
            ],
            [
             0.9,
             "#4d9221"
            ],
            [
             1,
             "#276419"
            ]
           ],
           "sequential": [
            [
             0,
             "#0d0887"
            ],
            [
             0.1111111111111111,
             "#46039f"
            ],
            [
             0.2222222222222222,
             "#7201a8"
            ],
            [
             0.3333333333333333,
             "#9c179e"
            ],
            [
             0.4444444444444444,
             "#bd3786"
            ],
            [
             0.5555555555555556,
             "#d8576b"
            ],
            [
             0.6666666666666666,
             "#ed7953"
            ],
            [
             0.7777777777777778,
             "#fb9f3a"
            ],
            [
             0.8888888888888888,
             "#fdca26"
            ],
            [
             1,
             "#f0f921"
            ]
           ],
           "sequentialminus": [
            [
             0,
             "#0d0887"
            ],
            [
             0.1111111111111111,
             "#46039f"
            ],
            [
             0.2222222222222222,
             "#7201a8"
            ],
            [
             0.3333333333333333,
             "#9c179e"
            ],
            [
             0.4444444444444444,
             "#bd3786"
            ],
            [
             0.5555555555555556,
             "#d8576b"
            ],
            [
             0.6666666666666666,
             "#ed7953"
            ],
            [
             0.7777777777777778,
             "#fb9f3a"
            ],
            [
             0.8888888888888888,
             "#fdca26"
            ],
            [
             1,
             "#f0f921"
            ]
           ]
          },
          "colorway": [
           "#636efa",
           "#EF553B",
           "#00cc96",
           "#ab63fa",
           "#FFA15A",
           "#19d3f3",
           "#FF6692",
           "#B6E880",
           "#FF97FF",
           "#FECB52"
          ],
          "font": {
           "color": "#2a3f5f"
          },
          "geo": {
           "bgcolor": "white",
           "lakecolor": "white",
           "landcolor": "white",
           "showlakes": true,
           "showland": true,
           "subunitcolor": "#C8D4E3"
          },
          "hoverlabel": {
           "align": "left"
          },
          "hovermode": "closest",
          "mapbox": {
           "style": "light"
          },
          "paper_bgcolor": "white",
          "plot_bgcolor": "white",
          "polar": {
           "angularaxis": {
            "gridcolor": "#EBF0F8",
            "linecolor": "#EBF0F8",
            "ticks": ""
           },
           "bgcolor": "white",
           "radialaxis": {
            "gridcolor": "#EBF0F8",
            "linecolor": "#EBF0F8",
            "ticks": ""
           }
          },
          "scene": {
           "xaxis": {
            "backgroundcolor": "white",
            "gridcolor": "#DFE8F3",
            "gridwidth": 2,
            "linecolor": "#EBF0F8",
            "showbackground": true,
            "ticks": "",
            "zerolinecolor": "#EBF0F8"
           },
           "yaxis": {
            "backgroundcolor": "white",
            "gridcolor": "#DFE8F3",
            "gridwidth": 2,
            "linecolor": "#EBF0F8",
            "showbackground": true,
            "ticks": "",
            "zerolinecolor": "#EBF0F8"
           },
           "zaxis": {
            "backgroundcolor": "white",
            "gridcolor": "#DFE8F3",
            "gridwidth": 2,
            "linecolor": "#EBF0F8",
            "showbackground": true,
            "ticks": "",
            "zerolinecolor": "#EBF0F8"
           }
          },
          "shapedefaults": {
           "line": {
            "color": "#2a3f5f"
           }
          },
          "ternary": {
           "aaxis": {
            "gridcolor": "#DFE8F3",
            "linecolor": "#A2B1C6",
            "ticks": ""
           },
           "baxis": {
            "gridcolor": "#DFE8F3",
            "linecolor": "#A2B1C6",
            "ticks": ""
           },
           "bgcolor": "white",
           "caxis": {
            "gridcolor": "#DFE8F3",
            "linecolor": "#A2B1C6",
            "ticks": ""
           }
          },
          "title": {
           "x": 0.05
          },
          "xaxis": {
           "automargin": true,
           "gridcolor": "#EBF0F8",
           "linecolor": "#EBF0F8",
           "ticks": "",
           "title": {
            "standoff": 15
           },
           "zerolinecolor": "#EBF0F8",
           "zerolinewidth": 2
          },
          "yaxis": {
           "automargin": true,
           "gridcolor": "#EBF0F8",
           "linecolor": "#EBF0F8",
           "ticks": "",
           "title": {
            "standoff": 15
           },
           "zerolinecolor": "#EBF0F8",
           "zerolinewidth": 2
          }
         }
        },
        "title": {
         "text": "Comparação CO₂ (200 Amostras) - CT_N2_008: [Inversiva] - Inverter Aceleração - ETHANOL",
         "x": 0.5
        },
        "xaxis": {
         "title": {
          "text": "Amostras"
         }
        },
        "yaxis": {
         "title": {
          "text": "CO₂ (g/s)"
         }
        }
       }
      }
     },
     "metadata": {},
     "output_type": "display_data"
    },
    {
     "name": "stdout",
     "output_type": "stream",
     "text": [
      "\n",
      "================================================================================\n",
      "🔁 CT_N2_008: [Inversiva] - Inverter Aceleração (GASOLINE)\n",
      "--------------------------------------------------------------------------------\n",
      "Diferença Média: 0.3578 | Diferença Máxima: 3.2358 | RMSE: 0.5916 | Desvio Padrão (Std): 0.4711\n"
     ]
    },
    {
     "data": {
      "text/html": [
       "<style type=\"text/css\">\n",
       "</style>\n",
       "<table id=\"T_13ee9\">\n",
       "  <caption>Comparação dos dados - CT_N2_008: [Inversiva] - Inverter Aceleração (GASOLINE)</caption>\n",
       "  <thead>\n",
       "    <tr>\n",
       "      <th class=\"blank level0\" >&nbsp;</th>\n",
       "      <th id=\"T_13ee9_level0_col0\" class=\"col_heading level0 col0\" >Latitude_Orig</th>\n",
       "      <th id=\"T_13ee9_level0_col1\" class=\"col_heading level0 col1\" >Longitude_Orig</th>\n",
       "      <th id=\"T_13ee9_level0_col2\" class=\"col_heading level0 col2\" >Speed(OBD)(km/h)_Orig</th>\n",
       "      <th id=\"T_13ee9_level0_col3\" class=\"col_heading level0 col3\" >Acceleration_Orig</th>\n",
       "      <th id=\"T_13ee9_level0_col4\" class=\"col_heading level0 col4\" > </th>\n",
       "      <th id=\"T_13ee9_level0_col5\" class=\"col_heading level0 col5\" >Latitude_Mod</th>\n",
       "      <th id=\"T_13ee9_level0_col6\" class=\"col_heading level0 col6\" >Longitude_Mod</th>\n",
       "      <th id=\"T_13ee9_level0_col7\" class=\"col_heading level0 col7\" >Speed(OBD)(km/h)_Mod</th>\n",
       "      <th id=\"T_13ee9_level0_col8\" class=\"col_heading level0 col8\" >Acceleration_Mod</th>\n",
       "      <th id=\"T_13ee9_level0_col9\" class=\"col_heading level0 col9\" > </th>\n",
       "      <th id=\"T_13ee9_level0_col10\" class=\"col_heading level0 col10\" >CO₂_Real</th>\n",
       "      <th id=\"T_13ee9_level0_col11\" class=\"col_heading level0 col11\" >CO₂_Pred_Orig</th>\n",
       "      <th id=\"T_13ee9_level0_col12\" class=\"col_heading level0 col12\" >CO₂_Pred_Mod</th>\n",
       "    </tr>\n",
       "  </thead>\n",
       "  <tbody>\n",
       "    <tr>\n",
       "      <th id=\"T_13ee9_level0_row0\" class=\"row_heading level0 row0\" >0</th>\n",
       "      <td id=\"T_13ee9_row0_col0\" class=\"data row0 col0\" >-5.820010</td>\n",
       "      <td id=\"T_13ee9_row0_col1\" class=\"data row0 col1\" >-35.220825</td>\n",
       "      <td id=\"T_13ee9_row0_col2\" class=\"data row0 col2\" >5</td>\n",
       "      <td id=\"T_13ee9_row0_col3\" class=\"data row0 col3\" >0.000000</td>\n",
       "      <td id=\"T_13ee9_row0_col4\" class=\"data row0 col4\" >→</td>\n",
       "      <td id=\"T_13ee9_row0_col5\" class=\"data row0 col5\" >-5.820010</td>\n",
       "      <td id=\"T_13ee9_row0_col6\" class=\"data row0 col6\" >-35.220825</td>\n",
       "      <td id=\"T_13ee9_row0_col7\" class=\"data row0 col7\" >5</td>\n",
       "      <td id=\"T_13ee9_row0_col8\" class=\"data row0 col8\" >-0.000000</td>\n",
       "      <td id=\"T_13ee9_row0_col9\" class=\"data row0 col9\" > </td>\n",
       "      <td id=\"T_13ee9_row0_col10\" class=\"data row0 col10\" >1.002671</td>\n",
       "      <td id=\"T_13ee9_row0_col11\" class=\"data row0 col11\" >1.456781</td>\n",
       "      <td id=\"T_13ee9_row0_col12\" class=\"data row0 col12\" >1.456781</td>\n",
       "    </tr>\n",
       "    <tr>\n",
       "      <th id=\"T_13ee9_level0_row1\" class=\"row_heading level0 row1\" >1</th>\n",
       "      <td id=\"T_13ee9_row1_col0\" class=\"data row1 col0\" >-5.820013</td>\n",
       "      <td id=\"T_13ee9_row1_col1\" class=\"data row1 col1\" >-35.220822</td>\n",
       "      <td id=\"T_13ee9_row1_col2\" class=\"data row1 col2\" >4</td>\n",
       "      <td id=\"T_13ee9_row1_col3\" class=\"data row1 col3\" >-0.277778</td>\n",
       "      <td id=\"T_13ee9_row1_col4\" class=\"data row1 col4\" >→</td>\n",
       "      <td id=\"T_13ee9_row1_col5\" class=\"data row1 col5\" >-5.820013</td>\n",
       "      <td id=\"T_13ee9_row1_col6\" class=\"data row1 col6\" >-35.220822</td>\n",
       "      <td id=\"T_13ee9_row1_col7\" class=\"data row1 col7\" >4</td>\n",
       "      <td id=\"T_13ee9_row1_col8\" class=\"data row1 col8\" >0.277778</td>\n",
       "      <td id=\"T_13ee9_row1_col9\" class=\"data row1 col9\" > </td>\n",
       "      <td id=\"T_13ee9_row1_col10\" class=\"data row1 col10\" >1.013360</td>\n",
       "      <td id=\"T_13ee9_row1_col11\" class=\"data row1 col11\" >1.016708</td>\n",
       "      <td id=\"T_13ee9_row1_col12\" class=\"data row1 col12\" >1.456781</td>\n",
       "    </tr>\n",
       "    <tr>\n",
       "      <th id=\"T_13ee9_level0_row2\" class=\"row_heading level0 row2\" >2</th>\n",
       "      <td id=\"T_13ee9_row2_col0\" class=\"data row2 col0\" >-5.820016</td>\n",
       "      <td id=\"T_13ee9_row2_col1\" class=\"data row2 col1\" >-35.220819</td>\n",
       "      <td id=\"T_13ee9_row2_col2\" class=\"data row2 col2\" >5</td>\n",
       "      <td id=\"T_13ee9_row2_col3\" class=\"data row2 col3\" >0.277778</td>\n",
       "      <td id=\"T_13ee9_row2_col4\" class=\"data row2 col4\" >→</td>\n",
       "      <td id=\"T_13ee9_row2_col5\" class=\"data row2 col5\" >-5.820016</td>\n",
       "      <td id=\"T_13ee9_row2_col6\" class=\"data row2 col6\" >-35.220819</td>\n",
       "      <td id=\"T_13ee9_row2_col7\" class=\"data row2 col7\" >5</td>\n",
       "      <td id=\"T_13ee9_row2_col8\" class=\"data row2 col8\" >-0.277778</td>\n",
       "      <td id=\"T_13ee9_row2_col9\" class=\"data row2 col9\" > </td>\n",
       "      <td id=\"T_13ee9_row2_col10\" class=\"data row2 col10\" >2.088720</td>\n",
       "      <td id=\"T_13ee9_row2_col11\" class=\"data row2 col11\" >1.456781</td>\n",
       "      <td id=\"T_13ee9_row2_col12\" class=\"data row2 col12\" >1.016708</td>\n",
       "    </tr>\n",
       "    <tr>\n",
       "      <th id=\"T_13ee9_level0_row3\" class=\"row_heading level0 row3\" >3</th>\n",
       "      <td id=\"T_13ee9_row3_col0\" class=\"data row3 col0\" >-5.820014</td>\n",
       "      <td id=\"T_13ee9_row3_col1\" class=\"data row3 col1\" >-35.220825</td>\n",
       "      <td id=\"T_13ee9_row3_col2\" class=\"data row3 col2\" >7</td>\n",
       "      <td id=\"T_13ee9_row3_col3\" class=\"data row3 col3\" >0.555556</td>\n",
       "      <td id=\"T_13ee9_row3_col4\" class=\"data row3 col4\" >→</td>\n",
       "      <td id=\"T_13ee9_row3_col5\" class=\"data row3 col5\" >-5.820014</td>\n",
       "      <td id=\"T_13ee9_row3_col6\" class=\"data row3 col6\" >-35.220825</td>\n",
       "      <td id=\"T_13ee9_row3_col7\" class=\"data row3 col7\" >7</td>\n",
       "      <td id=\"T_13ee9_row3_col8\" class=\"data row3 col8\" >-0.555556</td>\n",
       "      <td id=\"T_13ee9_row3_col9\" class=\"data row3 col9\" > </td>\n",
       "      <td id=\"T_13ee9_row3_col10\" class=\"data row3 col10\" >2.261889</td>\n",
       "      <td id=\"T_13ee9_row3_col11\" class=\"data row3 col11\" >1.996380</td>\n",
       "      <td id=\"T_13ee9_row3_col12\" class=\"data row3 col12\" >0.972466</td>\n",
       "    </tr>\n",
       "    <tr>\n",
       "      <th id=\"T_13ee9_level0_row4\" class=\"row_heading level0 row4\" >4</th>\n",
       "      <td id=\"T_13ee9_row4_col0\" class=\"data row4 col0\" >-5.819992</td>\n",
       "      <td id=\"T_13ee9_row4_col1\" class=\"data row4 col1\" >-35.220829</td>\n",
       "      <td id=\"T_13ee9_row4_col2\" class=\"data row4 col2\" >9</td>\n",
       "      <td id=\"T_13ee9_row4_col3\" class=\"data row4 col3\" >0.555556</td>\n",
       "      <td id=\"T_13ee9_row4_col4\" class=\"data row4 col4\" >→</td>\n",
       "      <td id=\"T_13ee9_row4_col5\" class=\"data row4 col5\" >-5.819992</td>\n",
       "      <td id=\"T_13ee9_row4_col6\" class=\"data row4 col6\" >-35.220829</td>\n",
       "      <td id=\"T_13ee9_row4_col7\" class=\"data row4 col7\" >9</td>\n",
       "      <td id=\"T_13ee9_row4_col8\" class=\"data row4 col8\" >-0.555556</td>\n",
       "      <td id=\"T_13ee9_row4_col9\" class=\"data row4 col9\" > </td>\n",
       "      <td id=\"T_13ee9_row4_col10\" class=\"data row4 col10\" >2.499195</td>\n",
       "      <td id=\"T_13ee9_row4_col11\" class=\"data row4 col11\" >2.400486</td>\n",
       "      <td id=\"T_13ee9_row4_col12\" class=\"data row4 col12\" >1.621746</td>\n",
       "    </tr>\n",
       "    <tr>\n",
       "      <th id=\"T_13ee9_level0_row5\" class=\"row_heading level0 row5\" >5</th>\n",
       "      <td id=\"T_13ee9_row5_col0\" class=\"data row5 col0\" >-5.819974</td>\n",
       "      <td id=\"T_13ee9_row5_col1\" class=\"data row5 col1\" >-35.220824</td>\n",
       "      <td id=\"T_13ee9_row5_col2\" class=\"data row5 col2\" >12</td>\n",
       "      <td id=\"T_13ee9_row5_col3\" class=\"data row5 col3\" >0.833333</td>\n",
       "      <td id=\"T_13ee9_row5_col4\" class=\"data row5 col4\" >→</td>\n",
       "      <td id=\"T_13ee9_row5_col5\" class=\"data row5 col5\" >-5.819974</td>\n",
       "      <td id=\"T_13ee9_row5_col6\" class=\"data row5 col6\" >-35.220824</td>\n",
       "      <td id=\"T_13ee9_row5_col7\" class=\"data row5 col7\" >12</td>\n",
       "      <td id=\"T_13ee9_row5_col8\" class=\"data row5 col8\" >-0.833333</td>\n",
       "      <td id=\"T_13ee9_row5_col9\" class=\"data row5 col9\" > </td>\n",
       "      <td id=\"T_13ee9_row5_col10\" class=\"data row5 col10\" >2.606089</td>\n",
       "      <td id=\"T_13ee9_row5_col11\" class=\"data row5 col11\" >2.400486</td>\n",
       "      <td id=\"T_13ee9_row5_col12\" class=\"data row5 col12\" >1.630442</td>\n",
       "    </tr>\n",
       "    <tr>\n",
       "      <th id=\"T_13ee9_level0_row6\" class=\"row_heading level0 row6\" >6</th>\n",
       "      <td id=\"T_13ee9_row6_col0\" class=\"data row6 col0\" >-5.819944</td>\n",
       "      <td id=\"T_13ee9_row6_col1\" class=\"data row6 col1\" >-35.220823</td>\n",
       "      <td id=\"T_13ee9_row6_col2\" class=\"data row6 col2\" >15</td>\n",
       "      <td id=\"T_13ee9_row6_col3\" class=\"data row6 col3\" >0.833333</td>\n",
       "      <td id=\"T_13ee9_row6_col4\" class=\"data row6 col4\" >→</td>\n",
       "      <td id=\"T_13ee9_row6_col5\" class=\"data row6 col5\" >-5.819944</td>\n",
       "      <td id=\"T_13ee9_row6_col6\" class=\"data row6 col6\" >-35.220823</td>\n",
       "      <td id=\"T_13ee9_row6_col7\" class=\"data row6 col7\" >15</td>\n",
       "      <td id=\"T_13ee9_row6_col8\" class=\"data row6 col8\" >-0.833333</td>\n",
       "      <td id=\"T_13ee9_row6_col9\" class=\"data row6 col9\" > </td>\n",
       "      <td id=\"T_13ee9_row6_col10\" class=\"data row6 col10\" >3.070012</td>\n",
       "      <td id=\"T_13ee9_row6_col11\" class=\"data row6 col11\" >2.148721</td>\n",
       "      <td id=\"T_13ee9_row6_col12\" class=\"data row6 col12\" >1.361783</td>\n",
       "    </tr>\n",
       "    <tr>\n",
       "      <th id=\"T_13ee9_level0_row7\" class=\"row_heading level0 row7\" >7</th>\n",
       "      <td id=\"T_13ee9_row7_col0\" class=\"data row7 col0\" >-5.819908</td>\n",
       "      <td id=\"T_13ee9_row7_col1\" class=\"data row7 col1\" >-35.220810</td>\n",
       "      <td id=\"T_13ee9_row7_col2\" class=\"data row7 col2\" >18</td>\n",
       "      <td id=\"T_13ee9_row7_col3\" class=\"data row7 col3\" >0.833333</td>\n",
       "      <td id=\"T_13ee9_row7_col4\" class=\"data row7 col4\" >→</td>\n",
       "      <td id=\"T_13ee9_row7_col5\" class=\"data row7 col5\" >-5.819908</td>\n",
       "      <td id=\"T_13ee9_row7_col6\" class=\"data row7 col6\" >-35.220810</td>\n",
       "      <td id=\"T_13ee9_row7_col7\" class=\"data row7 col7\" >18</td>\n",
       "      <td id=\"T_13ee9_row7_col8\" class=\"data row7 col8\" >-0.833333</td>\n",
       "      <td id=\"T_13ee9_row7_col9\" class=\"data row7 col9\" > </td>\n",
       "      <td id=\"T_13ee9_row7_col10\" class=\"data row7 col10\" >2.445747</td>\n",
       "      <td id=\"T_13ee9_row7_col11\" class=\"data row7 col11\" >1.470940</td>\n",
       "      <td id=\"T_13ee9_row7_col12\" class=\"data row7 col12\" >0.924451</td>\n",
       "    </tr>\n",
       "    <tr>\n",
       "      <th id=\"T_13ee9_level0_row8\" class=\"row_heading level0 row8\" >8</th>\n",
       "      <td id=\"T_13ee9_row8_col0\" class=\"data row8 col0\" >-5.819866</td>\n",
       "      <td id=\"T_13ee9_row8_col1\" class=\"data row8 col1\" >-35.220794</td>\n",
       "      <td id=\"T_13ee9_row8_col2\" class=\"data row8 col2\" >18</td>\n",
       "      <td id=\"T_13ee9_row8_col3\" class=\"data row8 col3\" >0.000000</td>\n",
       "      <td id=\"T_13ee9_row8_col4\" class=\"data row8 col4\" >→</td>\n",
       "      <td id=\"T_13ee9_row8_col5\" class=\"data row8 col5\" >-5.819866</td>\n",
       "      <td id=\"T_13ee9_row8_col6\" class=\"data row8 col6\" >-35.220794</td>\n",
       "      <td id=\"T_13ee9_row8_col7\" class=\"data row8 col7\" >18</td>\n",
       "      <td id=\"T_13ee9_row8_col8\" class=\"data row8 col8\" >-0.000000</td>\n",
       "      <td id=\"T_13ee9_row8_col9\" class=\"data row8 col9\" > </td>\n",
       "      <td id=\"T_13ee9_row8_col10\" class=\"data row8 col10\" >1.073221</td>\n",
       "      <td id=\"T_13ee9_row8_col11\" class=\"data row8 col11\" >1.588029</td>\n",
       "      <td id=\"T_13ee9_row8_col12\" class=\"data row8 col12\" >1.588029</td>\n",
       "    </tr>\n",
       "    <tr>\n",
       "      <th id=\"T_13ee9_level0_row9\" class=\"row_heading level0 row9\" >9</th>\n",
       "      <td id=\"T_13ee9_row9_col0\" class=\"data row9 col0\" >-5.819821</td>\n",
       "      <td id=\"T_13ee9_row9_col1\" class=\"data row9 col1\" >-35.220775</td>\n",
       "      <td id=\"T_13ee9_row9_col2\" class=\"data row9 col2\" >16</td>\n",
       "      <td id=\"T_13ee9_row9_col3\" class=\"data row9 col3\" >-0.555556</td>\n",
       "      <td id=\"T_13ee9_row9_col4\" class=\"data row9 col4\" >→</td>\n",
       "      <td id=\"T_13ee9_row9_col5\" class=\"data row9 col5\" >-5.819821</td>\n",
       "      <td id=\"T_13ee9_row9_col6\" class=\"data row9 col6\" >-35.220775</td>\n",
       "      <td id=\"T_13ee9_row9_col7\" class=\"data row9 col7\" >16</td>\n",
       "      <td id=\"T_13ee9_row9_col8\" class=\"data row9 col8\" >0.555556</td>\n",
       "      <td id=\"T_13ee9_row9_col9\" class=\"data row9 col9\" > </td>\n",
       "      <td id=\"T_13ee9_row9_col10\" class=\"data row9 col10\" >0.562265</td>\n",
       "      <td id=\"T_13ee9_row9_col11\" class=\"data row9 col11\" >1.085921</td>\n",
       "      <td id=\"T_13ee9_row9_col12\" class=\"data row9 col12\" >1.625817</td>\n",
       "    </tr>\n",
       "  </tbody>\n",
       "</table>\n"
      ],
      "text/plain": [
       "<pandas.io.formats.style.Styler at 0x1fb1f512610>"
      ]
     },
     "metadata": {},
     "output_type": "display_data"
    },
    {
     "data": {
      "application/vnd.plotly.v1+json": {
       "config": {
        "plotlyServerURL": "https://plot.ly"
       },
       "data": [
        {
         "line": {
          "color": "gray",
          "dash": "dot"
         },
         "mode": "lines",
         "name": "Real",
         "type": "scatter",
         "y": {
          "bdata": "fgFSsvAK8D+A9UFnuTbwP+sFLaeytQBAlHGRLVkYAkBCucXSWf4DQEt9dVtF2QRAqBJmS2KPCEA+120O5JADQCN/TinqK/E/+as09BP+4T+aTWFMs5viP5pNYUyzm+I/XDzytNji+j+dNUG2RPMCQCiGK0XJLgZAUV/NH7tGBUCt9L0P2PwIQMoh0PdM4gZALUmGV/HwAUC7e8iq65kFQJWKBjqL2QZAPtdtDuSQA0A+120O5JADQD/LXcOsvPM/G9QTrTAS5T+dNUG2RPPiPz7XbQ7kkOM/PtdtDuSQ4z+N38u90b/qPypPDv0M2/E/XDzytNjiCkCoDN6lRqUIQKgM3qVGpQhA8yxc66J8D0BuxFHGr5gMQIjedkcOpwVAJ4Cjn61EBkBRX80fu0YFQLWf+IuRFgVAtZ/4i5EWBUBZCgicdGDxP1JTvdSDcvU/1NlvNQHp9z+u1cBdilHkP67VwF2KUeQ/oGcrz6h17D9QRlgTiYXwP5J9oXiQ7PE/kn2heJDs8T/DRQDZ8l7mP79dIG9hB+Y/v10gb2EH5j+/XSBvYQfmP2LnLDGS/OY/sOIlH4U+6T/qekRTCmDuP6BnK8+odew/mWxe/gBHB0CpJVOyeGYNQIFGKTJrZA5AgUYpMmtkDkDqCPF5wKoQQNfm1Pb71QxA1+bU9vvVDEDDRQDZ8l7mP8A4mxf4ceE/+as09BP+4T9i5ywxkvzmP2LnLDGS/OY/QeTSz9596D9B5NLP3n3oPzJEUyiZH+c/MkRTKJkf5z95fPEDZJ/tP3l88QNkn+0/2trEq8QB7T8Lfp60vd7sP9by5EEzquw/LlxzvgfI5j8uXHO+B8jmP79dIG9hB+Y/idJm/NbS5T/DRQDZ8l7mP/jQuUt9k+Y/+NC5S32T5j8g7t0vJuzuPwt+nrS93uw/nH9LZRce7D9q3HFcHkHsP2rccVweQew/H7zzFsJp5T8fvPMWwmnlP/jQuUt9k+Y/LlxzvgfI5j8uXHO+B8jmPy5cc74HyOY/atxxXB5B7D9q3HFcHkHsPwt+nrS93uw/1vLkQTOq7D/W8uRBM6rsP2rccVweQew/atxxXB5B7D9m9JHyjOnrP/vdHg14gOs/nH9LZRce7D9m9JHyjOnrP2b0kfKM6es/+90eDXiA6z+cf0tlFx7sP2b0kfKM6es/ZvSR8ozp6z9i5ywxkvzmP2LnLDGS/OY/kaIm0PmB9j+RoibQ+YH2P7qBUFAHhAVA7jcXwBY4CkBms9O7450SQDvpBf82TxNAO+kF/zZPE0CqH8sMXXwNQJ15w7/7MwxAnXnDv/szDEBpw/xP7H8HQLq/SrSi2v4/w0UA2fJeBkAc8xBffr0JQBzzEF9+vQlAqPNomRTkA0CmHnaWmWP4P67VwF2KUeQ/nVrGDa6I5z+dWsYNrojnPyiGK0XJLvY/BaKu7mnEB0DnzRreHw4FQJubp+7Y1AhAbavcuX3XB0DfeJpmgy4EQN94mmaDLgRAsPuaK7f//T8h+u16XcD+P8NqhTBc9Po/+NC5S32T5j/40LlLfZPmP8OD+jyOte8/v4jx0zpPAEDRmTXb+fEHQEyW6md3mglAmZ3zoKGwC0CZnfOgobALQA1mfh5PNg1Aj9O7cprrCkA7CAOxhPoHQM0DKLzCTwdAzQMovMJPB0Aa2ptSTPwEQJlsXv4ARwdA9/U+o+Yo+z/39T6j5ij7P/vdHg14gOs/j+wwf8ys7z+ZvSgbrUfhP0Ukx2b49+A/nH9LZRce3D/73R4NeIDbP/vdHg14gNs/w0UA2fJe1j/lSFo6pt3UP9mw3o5SHNY/3+ynhsPg2j9D6MOXB7XoPw8z8GJGJuw/WjUXeIyo7z+R2oj0Av/tP1f1cimSZe4/1fx1W/8H7D/V/HVb/wfsP3dKB+v/HOQ/d0oH6/8c5D93Sgfr/xzkP3sy51SRdOQ/ezLnVJF05D97MudUkXTkP67VwF2KUeQ/d0oH6/8c5D/DRQDZ8l7mP8NFANnyXuY/xlJlmu1L6z/GUmWa7UvrP8NqhTBc9Oo/w2qFMFz06j/39T6j5ijrP/f1PqPmKOs/w0UA2fJe5j/nYc9G2J75P+oLtUzOnwBA4YuHzZkFCUC7msVcOUUKQA==",
          "dtype": "f8"
         }
        },
        {
         "line": {
          "color": "blue",
          "dash": "dash"
         },
         "mode": "lines",
         "name": "Predição Original",
         "type": "scatter",
         "y": {
          "bdata": "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",
          "dtype": "f8"
         }
        },
        {
         "line": {
          "color": "red"
         },
         "mode": "lines",
         "name": "Predição com RM",
         "type": "scatter",
         "y": {
          "bdata": "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",
          "dtype": "f8"
         }
        }
       ],
       "layout": {
        "template": {
         "data": {
          "bar": [
           {
            "error_x": {
             "color": "#2a3f5f"
            },
            "error_y": {
             "color": "#2a3f5f"
            },
            "marker": {
             "line": {
              "color": "white",
              "width": 0.5
             },
             "pattern": {
              "fillmode": "overlay",
              "size": 10,
              "solidity": 0.2
             }
            },
            "type": "bar"
           }
          ],
          "barpolar": [
           {
            "marker": {
             "line": {
              "color": "white",
              "width": 0.5
             },
             "pattern": {
              "fillmode": "overlay",
              "size": 10,
              "solidity": 0.2
             }
            },
            "type": "barpolar"
           }
          ],
          "carpet": [
           {
            "aaxis": {
             "endlinecolor": "#2a3f5f",
             "gridcolor": "#C8D4E3",
             "linecolor": "#C8D4E3",
             "minorgridcolor": "#C8D4E3",
             "startlinecolor": "#2a3f5f"
            },
            "baxis": {
             "endlinecolor": "#2a3f5f",
             "gridcolor": "#C8D4E3",
             "linecolor": "#C8D4E3",
             "minorgridcolor": "#C8D4E3",
             "startlinecolor": "#2a3f5f"
            },
            "type": "carpet"
           }
          ],
          "choropleth": [
           {
            "colorbar": {
             "outlinewidth": 0,
             "ticks": ""
            },
            "type": "choropleth"
           }
          ],
          "contour": [
           {
            "colorbar": {
             "outlinewidth": 0,
             "ticks": ""
            },
            "colorscale": [
             [
              0,
              "#0d0887"
             ],
             [
              0.1111111111111111,
              "#46039f"
             ],
             [
              0.2222222222222222,
              "#7201a8"
             ],
             [
              0.3333333333333333,
              "#9c179e"
             ],
             [
              0.4444444444444444,
              "#bd3786"
             ],
             [
              0.5555555555555556,
              "#d8576b"
             ],
             [
              0.6666666666666666,
              "#ed7953"
             ],
             [
              0.7777777777777778,
              "#fb9f3a"
             ],
             [
              0.8888888888888888,
              "#fdca26"
             ],
             [
              1,
              "#f0f921"
             ]
            ],
            "type": "contour"
           }
          ],
          "contourcarpet": [
           {
            "colorbar": {
             "outlinewidth": 0,
             "ticks": ""
            },
            "type": "contourcarpet"
           }
          ],
          "heatmap": [
           {
            "colorbar": {
             "outlinewidth": 0,
             "ticks": ""
            },
            "colorscale": [
             [
              0,
              "#0d0887"
             ],
             [
              0.1111111111111111,
              "#46039f"
             ],
             [
              0.2222222222222222,
              "#7201a8"
             ],
             [
              0.3333333333333333,
              "#9c179e"
             ],
             [
              0.4444444444444444,
              "#bd3786"
             ],
             [
              0.5555555555555556,
              "#d8576b"
             ],
             [
              0.6666666666666666,
              "#ed7953"
             ],
             [
              0.7777777777777778,
              "#fb9f3a"
             ],
             [
              0.8888888888888888,
              "#fdca26"
             ],
             [
              1,
              "#f0f921"
             ]
            ],
            "type": "heatmap"
           }
          ],
          "histogram": [
           {
            "marker": {
             "pattern": {
              "fillmode": "overlay",
              "size": 10,
              "solidity": 0.2
             }
            },
            "type": "histogram"
           }
          ],
          "histogram2d": [
           {
            "colorbar": {
             "outlinewidth": 0,
             "ticks": ""
            },
            "colorscale": [
             [
              0,
              "#0d0887"
             ],
             [
              0.1111111111111111,
              "#46039f"
             ],
             [
              0.2222222222222222,
              "#7201a8"
             ],
             [
              0.3333333333333333,
              "#9c179e"
             ],
             [
              0.4444444444444444,
              "#bd3786"
             ],
             [
              0.5555555555555556,
              "#d8576b"
             ],
             [
              0.6666666666666666,
              "#ed7953"
             ],
             [
              0.7777777777777778,
              "#fb9f3a"
             ],
             [
              0.8888888888888888,
              "#fdca26"
             ],
             [
              1,
              "#f0f921"
             ]
            ],
            "type": "histogram2d"
           }
          ],
          "histogram2dcontour": [
           {
            "colorbar": {
             "outlinewidth": 0,
             "ticks": ""
            },
            "colorscale": [
             [
              0,
              "#0d0887"
             ],
             [
              0.1111111111111111,
              "#46039f"
             ],
             [
              0.2222222222222222,
              "#7201a8"
             ],
             [
              0.3333333333333333,
              "#9c179e"
             ],
             [
              0.4444444444444444,
              "#bd3786"
             ],
             [
              0.5555555555555556,
              "#d8576b"
             ],
             [
              0.6666666666666666,
              "#ed7953"
             ],
             [
              0.7777777777777778,
              "#fb9f3a"
             ],
             [
              0.8888888888888888,
              "#fdca26"
             ],
             [
              1,
              "#f0f921"
             ]
            ],
            "type": "histogram2dcontour"
           }
          ],
          "mesh3d": [
           {
            "colorbar": {
             "outlinewidth": 0,
             "ticks": ""
            },
            "type": "mesh3d"
           }
          ],
          "parcoords": [
           {
            "line": {
             "colorbar": {
              "outlinewidth": 0,
              "ticks": ""
             }
            },
            "type": "parcoords"
           }
          ],
          "pie": [
           {
            "automargin": true,
            "type": "pie"
           }
          ],
          "scatter": [
           {
            "fillpattern": {
             "fillmode": "overlay",
             "size": 10,
             "solidity": 0.2
            },
            "type": "scatter"
           }
          ],
          "scatter3d": [
           {
            "line": {
             "colorbar": {
              "outlinewidth": 0,
              "ticks": ""
             }
            },
            "marker": {
             "colorbar": {
              "outlinewidth": 0,
              "ticks": ""
             }
            },
            "type": "scatter3d"
           }
          ],
          "scattercarpet": [
           {
            "marker": {
             "colorbar": {
              "outlinewidth": 0,
              "ticks": ""
             }
            },
            "type": "scattercarpet"
           }
          ],
          "scattergeo": [
           {
            "marker": {
             "colorbar": {
              "outlinewidth": 0,
              "ticks": ""
             }
            },
            "type": "scattergeo"
           }
          ],
          "scattergl": [
           {
            "marker": {
             "colorbar": {
              "outlinewidth": 0,
              "ticks": ""
             }
            },
            "type": "scattergl"
           }
          ],
          "scattermap": [
           {
            "marker": {
             "colorbar": {
              "outlinewidth": 0,
              "ticks": ""
             }
            },
            "type": "scattermap"
           }
          ],
          "scattermapbox": [
           {
            "marker": {
             "colorbar": {
              "outlinewidth": 0,
              "ticks": ""
             }
            },
            "type": "scattermapbox"
           }
          ],
          "scatterpolar": [
           {
            "marker": {
             "colorbar": {
              "outlinewidth": 0,
              "ticks": ""
             }
            },
            "type": "scatterpolar"
           }
          ],
          "scatterpolargl": [
           {
            "marker": {
             "colorbar": {
              "outlinewidth": 0,
              "ticks": ""
             }
            },
            "type": "scatterpolargl"
           }
          ],
          "scatterternary": [
           {
            "marker": {
             "colorbar": {
              "outlinewidth": 0,
              "ticks": ""
             }
            },
            "type": "scatterternary"
           }
          ],
          "surface": [
           {
            "colorbar": {
             "outlinewidth": 0,
             "ticks": ""
            },
            "colorscale": [
             [
              0,
              "#0d0887"
             ],
             [
              0.1111111111111111,
              "#46039f"
             ],
             [
              0.2222222222222222,
              "#7201a8"
             ],
             [
              0.3333333333333333,
              "#9c179e"
             ],
             [
              0.4444444444444444,
              "#bd3786"
             ],
             [
              0.5555555555555556,
              "#d8576b"
             ],
             [
              0.6666666666666666,
              "#ed7953"
             ],
             [
              0.7777777777777778,
              "#fb9f3a"
             ],
             [
              0.8888888888888888,
              "#fdca26"
             ],
             [
              1,
              "#f0f921"
             ]
            ],
            "type": "surface"
           }
          ],
          "table": [
           {
            "cells": {
             "fill": {
              "color": "#EBF0F8"
             },
             "line": {
              "color": "white"
             }
            },
            "header": {
             "fill": {
              "color": "#C8D4E3"
             },
             "line": {
              "color": "white"
             }
            },
            "type": "table"
           }
          ]
         },
         "layout": {
          "annotationdefaults": {
           "arrowcolor": "#2a3f5f",
           "arrowhead": 0,
           "arrowwidth": 1
          },
          "autotypenumbers": "strict",
          "coloraxis": {
           "colorbar": {
            "outlinewidth": 0,
            "ticks": ""
           }
          },
          "colorscale": {
           "diverging": [
            [
             0,
             "#8e0152"
            ],
            [
             0.1,
             "#c51b7d"
            ],
            [
             0.2,
             "#de77ae"
            ],
            [
             0.3,
             "#f1b6da"
            ],
            [
             0.4,
             "#fde0ef"
            ],
            [
             0.5,
             "#f7f7f7"
            ],
            [
             0.6,
             "#e6f5d0"
            ],
            [
             0.7,
             "#b8e186"
            ],
            [
             0.8,
             "#7fbc41"
            ],
            [
             0.9,
             "#4d9221"
            ],
            [
             1,
             "#276419"
            ]
           ],
           "sequential": [
            [
             0,
             "#0d0887"
            ],
            [
             0.1111111111111111,
             "#46039f"
            ],
            [
             0.2222222222222222,
             "#7201a8"
            ],
            [
             0.3333333333333333,
             "#9c179e"
            ],
            [
             0.4444444444444444,
             "#bd3786"
            ],
            [
             0.5555555555555556,
             "#d8576b"
            ],
            [
             0.6666666666666666,
             "#ed7953"
            ],
            [
             0.7777777777777778,
             "#fb9f3a"
            ],
            [
             0.8888888888888888,
             "#fdca26"
            ],
            [
             1,
             "#f0f921"
            ]
           ],
           "sequentialminus": [
            [
             0,
             "#0d0887"
            ],
            [
             0.1111111111111111,
             "#46039f"
            ],
            [
             0.2222222222222222,
             "#7201a8"
            ],
            [
             0.3333333333333333,
             "#9c179e"
            ],
            [
             0.4444444444444444,
             "#bd3786"
            ],
            [
             0.5555555555555556,
             "#d8576b"
            ],
            [
             0.6666666666666666,
             "#ed7953"
            ],
            [
             0.7777777777777778,
             "#fb9f3a"
            ],
            [
             0.8888888888888888,
             "#fdca26"
            ],
            [
             1,
             "#f0f921"
            ]
           ]
          },
          "colorway": [
           "#636efa",
           "#EF553B",
           "#00cc96",
           "#ab63fa",
           "#FFA15A",
           "#19d3f3",
           "#FF6692",
           "#B6E880",
           "#FF97FF",
           "#FECB52"
          ],
          "font": {
           "color": "#2a3f5f"
          },
          "geo": {
           "bgcolor": "white",
           "lakecolor": "white",
           "landcolor": "white",
           "showlakes": true,
           "showland": true,
           "subunitcolor": "#C8D4E3"
          },
          "hoverlabel": {
           "align": "left"
          },
          "hovermode": "closest",
          "mapbox": {
           "style": "light"
          },
          "paper_bgcolor": "white",
          "plot_bgcolor": "white",
          "polar": {
           "angularaxis": {
            "gridcolor": "#EBF0F8",
            "linecolor": "#EBF0F8",
            "ticks": ""
           },
           "bgcolor": "white",
           "radialaxis": {
            "gridcolor": "#EBF0F8",
            "linecolor": "#EBF0F8",
            "ticks": ""
           }
          },
          "scene": {
           "xaxis": {
            "backgroundcolor": "white",
            "gridcolor": "#DFE8F3",
            "gridwidth": 2,
            "linecolor": "#EBF0F8",
            "showbackground": true,
            "ticks": "",
            "zerolinecolor": "#EBF0F8"
           },
           "yaxis": {
            "backgroundcolor": "white",
            "gridcolor": "#DFE8F3",
            "gridwidth": 2,
            "linecolor": "#EBF0F8",
            "showbackground": true,
            "ticks": "",
            "zerolinecolor": "#EBF0F8"
           },
           "zaxis": {
            "backgroundcolor": "white",
            "gridcolor": "#DFE8F3",
            "gridwidth": 2,
            "linecolor": "#EBF0F8",
            "showbackground": true,
            "ticks": "",
            "zerolinecolor": "#EBF0F8"
           }
          },
          "shapedefaults": {
           "line": {
            "color": "#2a3f5f"
           }
          },
          "ternary": {
           "aaxis": {
            "gridcolor": "#DFE8F3",
            "linecolor": "#A2B1C6",
            "ticks": ""
           },
           "baxis": {
            "gridcolor": "#DFE8F3",
            "linecolor": "#A2B1C6",
            "ticks": ""
           },
           "bgcolor": "white",
           "caxis": {
            "gridcolor": "#DFE8F3",
            "linecolor": "#A2B1C6",
            "ticks": ""
           }
          },
          "title": {
           "x": 0.05
          },
          "xaxis": {
           "automargin": true,
           "gridcolor": "#EBF0F8",
           "linecolor": "#EBF0F8",
           "ticks": "",
           "title": {
            "standoff": 15
           },
           "zerolinecolor": "#EBF0F8",
           "zerolinewidth": 2
          },
          "yaxis": {
           "automargin": true,
           "gridcolor": "#EBF0F8",
           "linecolor": "#EBF0F8",
           "ticks": "",
           "title": {
            "standoff": 15
           },
           "zerolinecolor": "#EBF0F8",
           "zerolinewidth": 2
          }
         }
        },
        "title": {
         "text": "Comparação CO₂ (200 Amostras) - CT_N2_008: [Inversiva] - Inverter Aceleração - GASOLINE",
         "x": 0.5
        },
        "xaxis": {
         "title": {
          "text": "Amostras"
         }
        },
        "yaxis": {
         "title": {
          "text": "CO₂ (g/s)"
         }
        }
       }
      }
     },
     "metadata": {},
     "output_type": "display_data"
    }
   ],
   "source": [
    "# ==============================================================================\n",
    "# NOTEBOOK DE TESTES METAMÓRFICOS - NÍVEL 2: ANÁLISE DE COERÊNCIA CAUSAL\n",
    "# ==============================================================================\n",
    "# Objetivo: Avaliar se o sistema produz respostas logicamente consistentes a\n",
    "# transformações de entrada que possuem um significado físico ou de negócio,\n",
    "# aproveitando o conhecimento conceitual sobre as variáveis.\n",
    "# ------------------------------------------------------------------------------\n",
    "\n",
    "# 📦 Imports\n",
    "import pandas as pd\n",
    "import numpy as np\n",
    "import joblib\n",
    "import plotly.graph_objects as go\n",
    "from sklearn.metrics import mean_squared_error\n",
    "from pathlib import Path\n",
    "from IPython.display import display\n",
    "\n",
    "# ------------------------------------------------------------------------------\n",
    "# 📁 ETAPA 1: SETUP DO AMBIENTE DE TESTE\n",
    "# ------------------------------------------------------------------------------\n",
    "\n",
    "# Carregar dados de referência\n",
    "try:\n",
    "    ethanol_path = Path(r\"C:/Users/Paulo Eduardo/Documents/Dissertação/ModelosML/Conect2ai/MDPI2023-pollution/data/[Etanol] Trajeto Casa-Escola-UFRN/trackLog-2023-Feb-13_06-38-49_seg.csv\")\n",
    "    gasoline_path = Path(r\"C:/Users/Paulo Eduardo/Documents/Dissertação/ModelosML/Conect2ai/MDPI2023-pollution/data/[Gasolina] Trajeto Casa-Escola-UFRN/trackLog-2022-Dec-01_06-43-57_qui.csv\")\n",
    "    df_ethanol = pd.read_csv(ethanol_path)\n",
    "    df_gasoline = pd.read_csv(gasoline_path)\n",
    "    print(\"Arquivos de dados carregados com sucesso.\")\n",
    "except FileNotFoundError as e:\n",
    "    print(f\"ERRO: Arquivos de dados não encontrados. {e}\")\n",
    "    raise\n",
    "\n",
    "# Função para preparar os dados\n",
    "def preparar_dados(df):\n",
    "    df_copy = df.copy()\n",
    "    df_copy.columns = df_copy.columns.str.strip()\n",
    "    col_map = {'Speed (OBD)(km/h)': 'Speed(OBD)(km/h)', 'Latitude ': 'Latitude', 'Longitude ': 'Longitude'}\n",
    "    df_copy.rename(columns={k: v for k, v in col_map.items() if k in df_copy.columns}, inplace=True)\n",
    "    if \"Speed(OBD)(km/h)\" in df_copy.columns:\n",
    "        speeds = df_copy[\"Speed(OBD)(km/h)\"].fillna(0).values * 1000 / 3600\n",
    "        df_copy[\"Acceleration\"] = np.diff(speeds, prepend=speeds[0])\n",
    "    return df_copy\n",
    "\n",
    "df_ethanol = preparar_dados(df_ethanol)\n",
    "df_gasoline = preparar_dados(df_gasoline)\n",
    "\n",
    "# Carregar os modelos\n",
    "try:\n",
    "    modelos = {\n",
    "        \"ethanol\": {\n",
    "            \"afr\": joblib.load(Path(r\"C:/Users/Paulo Eduardo/Documents/Dissertação/ModelosML/Conect2ai/MDPI2023-pollution/models/LGBMRegressor_ethanol_afr.pkl\")),\n",
    "            \"maf\": joblib.load(Path(r\"C:/Users/Paulo Eduardo/Documents/Dissertação/ModelosML/Conect2ai/MDPI2023-pollution/models/XGBRegressor_ethanol_maf.pkl\"))\n",
    "        },\n",
    "        \"gasoline\": {\n",
    "            \"afr\": joblib.load(Path(r\"C:/Users/Paulo Eduardo/Documents/Dissertação/ModelosML/Conect2ai/MDPI2023-pollution/models/LGBMRegressor_gasoline_afr.pkl\")),\n",
    "            \"maf\": joblib.load(Path(r\"C:/Users/Paulo Eduardo/Documents/Dissertação/ModelosML/Conect2ai/MDPI2023-pollution/models/XGBRegressor_gasoline_maf.pkl\"))\n",
    "        }\n",
    "    }\n",
    "    print(\"Modelos de IA carregados com sucesso.\")\n",
    "except FileNotFoundError as e:\n",
    "    print(f\"ERRO: Arquivos de modelo não encontrados. {e}\")\n",
    "    raise\n",
    "\n",
    "# ------------------------------------------------------------------------------\n",
    "# 🔧 ETAPA 2: DEFINIÇÃO DAS FUNÇÕES DE SUPORTE\n",
    "# ------------------------------------------------------------------------------\n",
    "\n",
    "def compute_co2(afr, maf, fuel_type):\n",
    "    afr = np.array(afr)\n",
    "    maf = np.array(maf)\n",
    "    carbon_fraction = {\"ethanol\": 0.5217, \"gasoline\": 0.8571}\n",
    "    c_fraction = carbon_fraction.get(fuel_type)\n",
    "    fuel_rate = np.divide(maf, afr, out=np.zeros_like(maf, dtype=float), where=afr!=0)\n",
    "    return fuel_rate * c_fraction * (44.0 / 12.0)\n",
    "\n",
    "def encontrar_coluna(df, alternativas):\n",
    "    df.columns = df.columns.str.strip()\n",
    "    for alt in alternativas:\n",
    "        if alt in df.columns:\n",
    "            return df[alt]\n",
    "    return None\n",
    "\n",
    "def executar_teste_plotly(df_original, df_modificado, modelo_afr, modelo_maf, fuel, nome_mr, co2_real=None):\n",
    "    features = [\"Latitude\", \"Longitude\", \"Speed(OBD)(km/h)\", \"Acceleration\"]\n",
    "    \n",
    "    for feature in features:\n",
    "        if feature not in df_original.columns: df_original[feature] = 0\n",
    "        if feature not in df_modificado.columns: df_modificado[feature] = 0\n",
    "\n",
    "    afr_orig = modelo_afr.predict(df_original[features])\n",
    "    maf_orig = modelo_maf.predict(df_original[features])\n",
    "    co2_orig = compute_co2(afr_orig, maf_orig, fuel)\n",
    "\n",
    "    afr_mod = modelo_afr.predict(df_modificado[features])\n",
    "    maf_mod = modelo_maf.predict(df_modificado[features])\n",
    "    co2_mod = compute_co2(afr_mod, maf_mod, fuel)\n",
    "    \n",
    "    diff = np.abs(co2_orig - co2_mod)\n",
    "    media, maxima, rmse, std = diff.mean(), diff.max(), mean_squared_error(co2_orig, co2_mod, squared=False), diff.std()\n",
    "\n",
    "    print(f\"\\n{'='*80}\\n🔁 {nome_mr} ({fuel.upper()})\\n{'-'*80}\")\n",
    "    print(f\"Diferença Média: {media:.4f} | Diferença Máxima: {maxima:.4f} | RMSE: {rmse:.4f} | Desvio Padrão (Std): {std:.4f}\")\n",
    "    \n",
    "    tabela = pd.concat([\n",
    "        df_original[features].iloc[:10].add_suffix(\"_Orig\"),\n",
    "        pd.DataFrame({\" \": [\"→\"] * 10}),\n",
    "        df_modificado[features].iloc[:10].add_suffix(\"_Mod\"),\n",
    "        pd.DataFrame({\" \": [\" \"] * 10}),\n",
    "        pd.DataFrame({\n",
    "            \"CO₂_Real\": co2_real[:10] if co2_real is not None else \"N/A\",\n",
    "            \"CO₂_Pred_Orig\": co2_orig[:10],\n",
    "            \"CO₂_Pred_Mod\": co2_mod[:10]\n",
    "        })\n",
    "    ], axis=1).fillna(\"N/A\")\n",
    "    display(tabela.style.set_caption(f\"Comparação dos dados - {nome_mr} ({fuel.upper()})\"))\n",
    "\n",
    "    fig = go.Figure()\n",
    "    if co2_real is not None:\n",
    "        fig.add_trace(go.Scatter(y=co2_real[:200], mode='lines', name='Real', line=dict(dash='dot', color='gray')))\n",
    "    fig.add_trace(go.Scatter(y=co2_orig[:200], mode='lines', name='Predição Original', line=dict(dash='dash', color='blue')))\n",
    "    fig.add_trace(go.Scatter(y=co2_mod[:200], mode='lines', name='Predição com RM', line=dict(color='red')))\n",
    "    fig.update_layout(\n",
    "        title=dict(text=f\"Comparação CO₂ (200 Amostras) - {nome_mr} - {fuel.upper()}\", x=0.5),\n",
    "        xaxis_title=\"Amostras\", yaxis_title=\"CO₂ (g/s)\", template=\"plotly_white\"\n",
    "    )\n",
    "    fig.show()\n",
    "\n",
    "# ------------------------------------------------------------------------------\n",
    "# 🔁 ETAPA 3: DEFINIÇÃO DOS CASOS DE TESTE METAMÓRFICOS - NÍVEL 2\n",
    "# ------------------------------------------------------------------------------\n",
    "\n",
    "testes_metamorficos_n2 = {\n",
    "    # Teste ID: CT_N2_006\n",
    "    \"CT_N2_006: [Multiplicativa] - Escalonar Velocidade (x20)\": lambda df: df.copy().assign(\n",
    "        **{'Speed(OBD)(km/h)': df['Speed(OBD)(km/h)'] * 20}\n",
    "    ),\n",
    "    \n",
    "    # Teste ID: CT_N2_007\n",
    "    \"CT_N2_007: [Aditiva] - Deslocar Coordenadas (+1.0)\": lambda df: df.copy().assign(\n",
    "        Latitude = df['Latitude'] + 1.0,\n",
    "        Longitude = df['Longitude'] + 1.0\n",
    "    ),\n",
    "    \n",
    "    # Teste ID: CT_N2_008\n",
    "    \"CT_N2_008: [Inversiva] - Inverter Aceleração\": lambda df: df.copy().assign(\n",
    "        Acceleration = df['Acceleration'] * -1\n",
    "    ),\n",
    "}\n",
    "\n",
    "# ------------------------------------------------------------------------------\n",
    "# 🧲 ETAPA 4: EXECUÇÃO DOS TESTES DE NÍVEL 2\n",
    "# ------------------------------------------------------------------------------\n",
    "\n",
    "print(\"=\"*80)\n",
    "print(\"INICIANDO EXECUÇÃO DOS TESTES DE NÍVEL 2\")\n",
    "print(\"=\"*80)\n",
    "\n",
    "# Pré-cálculo dos valores reais para plotagem\n",
    "afr_real_etanol = encontrar_coluna(df_ethanol, [\"AirFuelRatio(Commanded)(:1)\", \"Air Fuel Ratio(Commanded)(:1)\"])\n",
    "maf_real_etanol = encontrar_coluna(df_ethanol, [\"MassAirFlowRate(g/s)\", \"Mass Air Flow Rate(g/s)\"])\n",
    "co2_real_etanol = compute_co2(afr_real_etanol.values, maf_real_etanol.values, \"ethanol\") if afr_real_etanol is not None and maf_real_etanol is not None else None\n",
    "\n",
    "afr_real_gasoline = encontrar_coluna(df_gasoline, [\"AirFuelRatio(Commanded)(:1)\", \"Air Fuel Ratio(Commanded)(:1)\"])\n",
    "maf_real_gasoline = encontrar_coluna(df_gasoline, [\"MassAirFlowRate(g/s)\", \"Mass Air Flow Rate(g/s)\"])\n",
    "co2_real_gasoline = compute_co2(afr_real_gasoline.values, maf_real_gasoline.values, \"gasoline\") if afr_real_gasoline is not None and maf_real_gasoline is not None else None\n",
    "\n",
    "valores_reais = {\"ethanol\": co2_real_etanol, \"gasoline\": co2_real_gasoline}\n",
    "\n",
    "for nome_mr, transformacao in testes_metamorficos_n2.items():\n",
    "    for combustivel, df_original in [(\"ethanol\", df_ethanol), (\"gasoline\", df_gasoline)]:\n",
    "        df_modificado = transformacao(df_original.copy())\n",
    "        executar_teste_plotly(\n",
    "            df_original=df_original,\n",
    "            df_modificado=df_modificado,\n",
    "            modelo_afr=modelos[combustivel][\"afr\"],\n",
    "            modelo_maf=modelos[combustivel][\"maf\"],\n",
    "            fuel=combustivel,\n",
    "            nome_mr=nome_mr,\n",
    "            co2_real=valores_reais[combustivel]\n",
    "        )"
   ]
  }
 ],
 "metadata": {
  "kernelspec": {
   "display_name": "biofuel_analysis",
   "language": "python",
   "name": "python3"
  },
  "language_info": {
   "codemirror_mode": {
    "name": "ipython",
    "version": 3
   },
   "file_extension": ".py",
   "mimetype": "text/x-python",
   "name": "python",
   "nbconvert_exporter": "python",
   "pygments_lexer": "ipython3",
   "version": "3.11.9"
  }
 },
 "nbformat": 4,
 "nbformat_minor": 5
}

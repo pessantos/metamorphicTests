{
 "cells": [
  {
   "cell_type": "markdown",
   "metadata": {},
   "source": [
    "# 📦 Import Libraries"
   ]
  },
  {
   "cell_type": "code",
   "execution_count": null,
   "metadata": {},
   "outputs": [],
   "source": [
    "import os\n",
    "import joblib"
   ]
  },
  {
   "cell_type": "code",
   "execution_count": null,
   "metadata": {},
   "outputs": [],
   "source": [
    "import numpy as np\n",
    "import pandas as pd"
   ]
  },
  {
   "cell_type": "code",
   "execution_count": null,
   "metadata": {},
   "outputs": [],
   "source": [
    "import matplotlib.pyplot as plt"
   ]
  },
  {
   "cell_type": "code",
   "execution_count": null,
   "metadata": {},
   "outputs": [],
   "source": [
    "from lazypredict.Supervised import LazyRegressor"
   ]
  },
  {
   "cell_type": "code",
   "execution_count": null,
   "metadata": {},
   "outputs": [],
   "source": [
    "from utils.data_acquisition import *\n",
    "from utils.data_preprocessing import *"
   ]
  },
  {
   "cell_type": "code",
   "execution_count": null,
   "metadata": {},
   "outputs": [],
   "source": [
    "plot_size = (12, 6)\n",
    "\n",
    "graph_colors = {\n",
    "  \"black\": \"#1F1E1F\",\n",
    "  \"blue\": \"#03A9CE\",\n",
    "}\n",
    "\n",
    "text_colors = {\n",
    "  \"title\": \"#262626\",\n",
    "  \"subtitle\": \"#646464\",\n",
    "}\n",
    "\n",
    "fig_path = \"./figures/\"\n",
    "\n",
    "if not os.path.exists(fig_path):\n",
    "    os.makedirs(fig_path)"
   ]
  },
  {
   "cell_type": "markdown",
   "metadata": {},
   "source": [
    "# 💾 Data Acquisition"
   ]
  },
  {
   "cell_type": "code",
   "execution_count": null,
   "metadata": {},
   "outputs": [],
   "source": [
    "DATA_PATH = \"./data/\"\n",
    "\n",
    "GASOLINE_DATA_PATH_1 = DATA_PATH + \"[Gasolina] Trajeto Casa-Escola-UFRN/\"\n",
    "GASOLINE_DATA_PATH_2 = DATA_PATH + \"[Gasolina2023] Trajeto Casa-Escola-UFRN/\"\n",
    "ETHANOL_DATA_PATH = DATA_PATH + \"[Etanol] Trajeto Casa-Escola-UFRN/\"\n",
    "\n",
    "GASOLINE_DATA_PATHS_1 = get_list_paths(GASOLINE_DATA_PATH_1)\n",
    "GASOLINE_DATA_PATHS_2 = get_list_paths(GASOLINE_DATA_PATH_2)\n",
    "\n",
    "GASOLINE_DATA_PATHS = GASOLINE_DATA_PATHS_1 + GASOLINE_DATA_PATHS_2\n",
    "\n",
    "ETHANOL_DATA_PATHS = get_list_paths(ETHANOL_DATA_PATH)\n",
    "\n",
    "SELECTED_COLUMNS = [\n",
    "  \"DeviceTime\",\n",
    "  \"Latitude\",\n",
    "  \"Longitude\",\n",
    "  \"Speed(OBD)(km/h)\",\n",
    "  \"AirFuelRatio(Commanded)(:1)\",\n",
    "  \"Acceleration\"\n",
    "]"
   ]
  },
  {
   "cell_type": "code",
   "execution_count": null,
   "metadata": {},
   "outputs": [],
   "source": [
    "all_data_gasoline = read_all_data(GASOLINE_DATA_PATHS)\n",
    "all_data_ethanol = read_all_data(ETHANOL_DATA_PATHS)"
   ]
  },
  {
   "cell_type": "markdown",
   "metadata": {},
   "source": [
    "# 🧩 Data Modelling"
   ]
  },
  {
   "cell_type": "code",
   "execution_count": null,
   "metadata": {},
   "outputs": [],
   "source": [
    "for data in all_data_gasoline:\n",
    "    data = remove_space_in_columns(data)\n",
    "    data[\"Acceleration\"] = compute_acceleration(data)\n",
    "\n",
    "all_data_gasoline = concatenate_dataframes(all_data_gasoline)\n",
    "all_data_gasoline = filter_columns(all_data_gasoline, SELECTED_COLUMNS)\n",
    "\n",
    "all_data_gasoline.drop(columns=[\"DeviceTime\"], inplace=True)"
   ]
  },
  {
   "cell_type": "code",
   "execution_count": null,
   "metadata": {},
   "outputs": [],
   "source": [
    "for data in all_data_ethanol:\n",
    "    data = remove_space_in_columns(data)\n",
    "    data[\"Acceleration\"] = compute_acceleration(data)\n",
    "\n",
    "all_data_ethanol = concatenate_dataframes(all_data_ethanol)\n",
    "all_data_ethanol = filter_columns(all_data_ethanol, SELECTED_COLUMNS)\n",
    "\n",
    "all_data_ethanol.drop(columns=[\"DeviceTime\"], inplace=True)"
   ]
  },
  {
   "cell_type": "code",
   "execution_count": null,
   "metadata": {},
   "outputs": [],
   "source": [
    "all_data_gasoline = all_data_gasoline.dropna()\n",
    "all_data_ethanol = all_data_ethanol.dropna()"
   ]
  },
  {
   "cell_type": "code",
   "execution_count": null,
   "metadata": {},
   "outputs": [],
   "source": [
    "X_train_gasoline, X_test_gasoline, y_train_gasoline, y_test_gasoline = split_data(\n",
    "    all_data_gasoline.drop(columns=[\"AirFuelRatio(Commanded)(:1)\"]),\n",
    "    all_data_gasoline[\"AirFuelRatio(Commanded)(:1)\"]\n",
    ")\n",
    "\n",
    "X_train_ethanol, X_test_ethanol, y_train_ethanol, y_test_ethanol = split_data(\n",
    "    all_data_ethanol.drop(columns=[\"AirFuelRatio(Commanded)(:1)\"]),\n",
    "    all_data_ethanol[\"AirFuelRatio(Commanded)(:1)\"]\n",
    ")"
   ]
  },
  {
   "cell_type": "markdown",
   "metadata": {},
   "source": [
    "# 🔎 Exploratory Data Analysis (EDA)"
   ]
  },
  {
   "cell_type": "markdown",
   "metadata": {},
   "source": [
    "## Gasoline"
   ]
  },
  {
   "cell_type": "code",
   "execution_count": null,
   "metadata": {},
   "outputs": [],
   "source": [
    "all_data_gasoline.shape"
   ]
  },
  {
   "cell_type": "markdown",
   "metadata": {},
   "source": [
    "## Ethanol"
   ]
  },
  {
   "cell_type": "code",
   "execution_count": null,
   "metadata": {},
   "outputs": [],
   "source": [
    "all_data_ethanol.shape"
   ]
  },
  {
   "cell_type": "markdown",
   "metadata": {},
   "source": [
    "# 🤖 Model Training"
   ]
  },
  {
   "cell_type": "markdown",
   "metadata": {},
   "source": [
    "## Gasoline"
   ]
  },
  {
   "cell_type": "code",
   "execution_count": null,
   "metadata": {},
   "outputs": [],
   "source": [
    "lr_gasoline_afr = LazyRegressor(\n",
    "    verbose=0,\n",
    "    ignore_warnings=False,\n",
    "    custom_metric=None,\n",
    "    random_state=42\n",
    ")"
   ]
  },
  {
   "cell_type": "code",
   "execution_count": null,
   "metadata": {},
   "outputs": [],
   "source": [
    "models_gasoline_afr, predictions_gasoline_afr = lr_gasoline_afr.fit(\n",
    "    X_train_gasoline.values,\n",
    "    X_test_gasoline.values,\n",
    "    y_train_gasoline.values,\n",
    "    y_test_gasoline.values\n",
    ")"
   ]
  },
  {
   "cell_type": "code",
   "execution_count": null,
   "metadata": {},
   "outputs": [],
   "source": [
    "models_gasoline_afr"
   ]
  },
  {
   "cell_type": "code",
   "execution_count": null,
   "metadata": {},
   "outputs": [],
   "source": [
    "fig, ax = plt.subplots(figsize=plot_size)\n",
    "\n",
    "ax.spines[\"right\"].set_visible(False)\n",
    "ax.spines[\"top\"].set_visible(False)\n",
    "\n",
    "ax.set_ylabel(\"AFR\", fontsize=14)\n",
    "ax.set_xlabel(\"Sample\", fontsize=14)\n",
    "\n",
    "plt.xticks(rotation=0, ha=\"left\")\n",
    "\n",
    "y_pred = lr_gasoline_afr.models[\"LGBMRegressor\"].predict(X_test_gasoline)\n",
    "\n",
    "ax.plot(list(range(100)), y_test_gasoline[-100:], label=\"Real\", color=graph_colors[\"black\"])\n",
    "ax.plot(list(range(100)), y_pred[-100:], label=\"Predict\", color=graph_colors[\"blue\"], linewidth=2)\n",
    "\n",
    "plt.text(0, 32, \"Air Fuel Ratio [AFR] - Predicted vs Real\", fontsize=18, color=text_colors[\"title\"], weight=\"bold\")\n",
    "plt.text(0, 31, \"Comparative between the last 100 samples of Gasoline data\", fontsize=14, color=text_colors[\"subtitle\"])\n",
    "\n",
    "ax.legend(loc=\"upper right\").set_frame_on(False)\n",
    "\n",
    "plt.tight_layout()\n",
    "plt.savefig(f\"{fig_path}gasoline_afr.png\")\n",
    "plt.show()"
   ]
  },
  {
   "cell_type": "markdown",
   "metadata": {},
   "source": [
    "## Ethanol"
   ]
  },
  {
   "cell_type": "code",
   "execution_count": null,
   "metadata": {},
   "outputs": [],
   "source": [
    "lr_ethanol_afr = LazyRegressor(\n",
    "    verbose=0,\n",
    "    ignore_warnings=False,\n",
    "    custom_metric=None,\n",
    "    random_state=42\n",
    ")"
   ]
  },
  {
   "cell_type": "code",
   "execution_count": null,
   "metadata": {},
   "outputs": [],
   "source": [
    "models_ethanol_afr, predictions_ethanol_afr = lr_ethanol_afr.fit(\n",
    "    X_train_ethanol.values,\n",
    "    X_test_ethanol.values,\n",
    "    y_train_ethanol.values,\n",
    "    y_test_ethanol.values\n",
    ")"
   ]
  },
  {
   "cell_type": "code",
   "execution_count": null,
   "metadata": {},
   "outputs": [],
   "source": [
    "models_ethanol_afr"
   ]
  },
  {
   "cell_type": "code",
   "execution_count": null,
   "metadata": {},
   "outputs": [],
   "source": [
    "fig, ax = plt.subplots(figsize=plot_size)\n",
    "\n",
    "ax.spines[\"right\"].set_visible(False)\n",
    "ax.spines[\"top\"].set_visible(False)\n",
    "\n",
    "ax.set_ylabel(\"AFR\", fontsize=14)\n",
    "ax.set_xlabel(\"Sample\", fontsize=14)\n",
    "\n",
    "plt.xticks(rotation=0, ha=\"left\")\n",
    "\n",
    "y_pred = lr_ethanol_afr.models[\"LGBMRegressor\"].predict(X_test_ethanol)\n",
    "\n",
    "ax.plot(list(range(100)), y_test_ethanol[-100:], label=\"Real\", color=graph_colors[\"black\"])\n",
    "ax.plot(list(range(100)), y_pred[-100:], label=\"Predict\", color=graph_colors[\"blue\"], linewidth=2)\n",
    "\n",
    "plt.text(0, 32, \"Air Fuel Ratio [AFR] - Predicted vs Real\", fontsize=18, color=text_colors[\"title\"], weight=\"bold\")\n",
    "plt.text(0, 31, \"Comparative between the last 100 samples of Ethanol data\", fontsize=14, color=text_colors[\"subtitle\"])\n",
    "\n",
    "ax.legend(loc=\"upper right\").set_frame_on(False)\n",
    "\n",
    "plt.tight_layout()\n",
    "plt.savefig(f\"{fig_path}ethanol_afr.png\")\n",
    "plt.show()"
   ]
  },
  {
   "cell_type": "markdown",
   "metadata": {},
   "source": [
    "# 💾 Save Model"
   ]
  },
  {
   "cell_type": "code",
   "execution_count": null,
   "metadata": {},
   "outputs": [],
   "source": [
    "joblib.dump(lr_gasoline_afr.models[\"LGBMRegressor\"], \"./models/LGBMRegressor_gasoline_afr.pkl\")"
   ]
  },
  {
   "cell_type": "code",
   "execution_count": null,
   "metadata": {},
   "outputs": [],
   "source": [
    "joblib.dump(lr_ethanol_afr.models[\"LGBMRegressor\"], \"./models/LGBMRegressor_ethanol_afr.pkl\")"
   ]
  }
 ],
 "metadata": {
  "kernelspec": {
   "display_name": "biofuel_analysis",
   "language": "python",
   "name": "python3"
  },
  "language_info": {
   "codemirror_mode": {
    "name": "ipython",
    "version": 3
   },
   "file_extension": ".py",
   "mimetype": "text/x-python",
   "name": "python",
   "nbconvert_exporter": "python",
   "pygments_lexer": "ipython3",
   "version": "3.11.9"
  }
 },
 "nbformat": 4,
 "nbformat_minor": 2
}
